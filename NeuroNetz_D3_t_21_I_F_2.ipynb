{
 "cells": [
  {
   "cell_type": "code",
   "execution_count": 1,
   "id": "94b0518e",
   "metadata": {
    "ExecuteTime": {
     "end_time": "2024-04-02T16:12:04.594399200Z",
     "start_time": "2024-04-02T16:11:58.172860Z"
    }
   },
   "outputs": [
    {
     "name": "stdout",
     "output_type": "stream",
     "text": [
      "WARNING:tensorflow:From C:\\Users\\erikm\\Desktop\\Diplomarbeit Erik Marr\\Projekt X\\venv\\Lib\\site-packages\\keras\\src\\losses.py:2976: The name tf.losses.sparse_softmax_cross_entropy is deprecated. Please use tf.compat.v1.losses.sparse_softmax_cross_entropy instead.\n"
     ]
    }
   ],
   "source": [
    "import numpy as np\n",
    "import os\n",
    "from sklearn.model_selection import KFold\n",
    "import tensorflow as tf\n",
    "import matplotlib.pyplot as plt\n",
    "from sklearn.model_selection import train_test_split\n",
    "from sklearn.preprocessing import MinMaxScaler\n",
    "import pandas as pd\n",
    "from tensorflow.keras.layers import Dense , Dropout\n",
    "from scikeras.wrappers import KerasRegressor \n",
    "from tensorflow.keras.callbacks import EarlyStopping\n",
    "import time\n",
    "from keras.models import Sequential\n",
    "from keras.layers import Dense, Dropout\n",
    "from keras.optimizers import Adam\n",
    "from keras.regularizers import l2\n",
    "from keras.callbacks import EarlyStopping\n",
    "from keras_tuner import RandomSearch\n",
    "from tensorflow.keras.models import Sequential\n",
    "from tensorflow.keras.layers import Dense\n",
    "from tensorflow.keras.optimizers import Adam\n",
    "from tensorflow.keras.regularizers import l2\n",
    "from sklearn.model_selection import GridSearchCV"
   ]
  },
  {
   "cell_type": "code",
   "execution_count": 2,
   "id": "14809ab5e1b4d1d7",
   "metadata": {
    "ExecuteTime": {
     "end_time": "2024-04-02T16:12:04.636961600Z",
     "start_time": "2024-04-02T16:12:04.595400400Z"
    }
   },
   "outputs": [
    {
     "data": {
      "text/plain": "         X-Koordinate  Y-Koordinate  Zeitpunkt  Strom  Kraft    Temperatur\n0             0.00000      -0.00200        100   6000   5000  4.498000e+02\n1             0.00000      -0.00196        100   6000   5000  4.652100e+02\n2             0.00000      -0.00192        100   6000   5000  4.797600e+02\n3             0.00000      -0.00188        100   6000   5000  4.935200e+02\n4             0.00000      -0.00184        100   6000   5000  5.066000e+02\n...               ...           ...        ...    ...    ...           ...\n2087059       0.00248       0.00184        500   9000   5000  1.110600e+03\n2087060       0.00248       0.00188        500   9000   5000  1.046600e+03\n2087061       0.00248       0.00192        500   9000   5000  9.810900e+02\n2087062       0.00248       0.00196        500   9000   5000  7.888600e-31\n2087063       0.00248       0.00200        500   9000   5000  9.403500e+02\n\n[1068984 rows x 6 columns]",
      "text/html": "<div>\n<style scoped>\n    .dataframe tbody tr th:only-of-type {\n        vertical-align: middle;\n    }\n\n    .dataframe tbody tr th {\n        vertical-align: top;\n    }\n\n    .dataframe thead th {\n        text-align: right;\n    }\n</style>\n<table border=\"1\" class=\"dataframe\">\n  <thead>\n    <tr style=\"text-align: right;\">\n      <th></th>\n      <th>X-Koordinate</th>\n      <th>Y-Koordinate</th>\n      <th>Zeitpunkt</th>\n      <th>Strom</th>\n      <th>Kraft</th>\n      <th>Temperatur</th>\n    </tr>\n  </thead>\n  <tbody>\n    <tr>\n      <th>0</th>\n      <td>0.00000</td>\n      <td>-0.00200</td>\n      <td>100</td>\n      <td>6000</td>\n      <td>5000</td>\n      <td>4.498000e+02</td>\n    </tr>\n    <tr>\n      <th>1</th>\n      <td>0.00000</td>\n      <td>-0.00196</td>\n      <td>100</td>\n      <td>6000</td>\n      <td>5000</td>\n      <td>4.652100e+02</td>\n    </tr>\n    <tr>\n      <th>2</th>\n      <td>0.00000</td>\n      <td>-0.00192</td>\n      <td>100</td>\n      <td>6000</td>\n      <td>5000</td>\n      <td>4.797600e+02</td>\n    </tr>\n    <tr>\n      <th>3</th>\n      <td>0.00000</td>\n      <td>-0.00188</td>\n      <td>100</td>\n      <td>6000</td>\n      <td>5000</td>\n      <td>4.935200e+02</td>\n    </tr>\n    <tr>\n      <th>4</th>\n      <td>0.00000</td>\n      <td>-0.00184</td>\n      <td>100</td>\n      <td>6000</td>\n      <td>5000</td>\n      <td>5.066000e+02</td>\n    </tr>\n    <tr>\n      <th>...</th>\n      <td>...</td>\n      <td>...</td>\n      <td>...</td>\n      <td>...</td>\n      <td>...</td>\n      <td>...</td>\n    </tr>\n    <tr>\n      <th>2087059</th>\n      <td>0.00248</td>\n      <td>0.00184</td>\n      <td>500</td>\n      <td>9000</td>\n      <td>5000</td>\n      <td>1.110600e+03</td>\n    </tr>\n    <tr>\n      <th>2087060</th>\n      <td>0.00248</td>\n      <td>0.00188</td>\n      <td>500</td>\n      <td>9000</td>\n      <td>5000</td>\n      <td>1.046600e+03</td>\n    </tr>\n    <tr>\n      <th>2087061</th>\n      <td>0.00248</td>\n      <td>0.00192</td>\n      <td>500</td>\n      <td>9000</td>\n      <td>5000</td>\n      <td>9.810900e+02</td>\n    </tr>\n    <tr>\n      <th>2087062</th>\n      <td>0.00248</td>\n      <td>0.00196</td>\n      <td>500</td>\n      <td>9000</td>\n      <td>5000</td>\n      <td>7.888600e-31</td>\n    </tr>\n    <tr>\n      <th>2087063</th>\n      <td>0.00248</td>\n      <td>0.00200</td>\n      <td>500</td>\n      <td>9000</td>\n      <td>5000</td>\n      <td>9.403500e+02</td>\n    </tr>\n  </tbody>\n</table>\n<p>1068984 rows × 6 columns</p>\n</div>"
     },
     "execution_count": 2,
     "metadata": {},
     "output_type": "execute_result"
    }
   ],
   "source": [
    "data = pd.read_pickle('C:/Users/erikm/Desktop/Diplomarbeit Erik Marr/Daten/Finish/Finish_ALL_D3_t_21_I_F_PKL.pkl')\n",
    "data"
   ]
  },
  {
   "cell_type": "code",
   "execution_count": 3,
   "id": "966e3c74",
   "metadata": {
    "ExecuteTime": {
     "end_time": "2024-04-02T16:12:04.744066500Z",
     "start_time": "2024-04-02T16:12:04.635962500Z"
    }
   },
   "outputs": [
    {
     "name": "stdout",
     "output_type": "stream",
     "text": [
      "         X-Koordinate  Y-Koordinate  Zeitpunkt  Strom  Kraft  Temperatur\n",
      "782649        0.00000      -0.00200        100   7000   6000      478.13\n",
      "782650        0.00000      -0.00196        100   7000   6000      495.01\n",
      "782651        0.00000      -0.00192        100   7000   6000      511.16\n",
      "782652        0.00000      -0.00188        100   7000   6000      526.58\n",
      "782653        0.00000      -0.00184        100   7000   6000      541.43\n",
      "...               ...           ...        ...    ...    ...         ...\n",
      "1043527       0.00248       0.00184        500   7000   6000      784.55\n",
      "1043528       0.00248       0.00188        500   7000   6000      745.87\n",
      "1043529       0.00248       0.00192        500   7000   6000      706.17\n",
      "1043530       0.00248       0.00196        500   7000   6000      693.28\n",
      "1043531       0.00248       0.00200        500   7000   6000      687.80\n",
      "\n",
      "[133623 rows x 6 columns]\n",
      "Empty DataFrame\n",
      "Columns: [X-Koordinate, Y-Koordinate, Zeitpunkt, Strom, Kraft, Temperatur]\n",
      "Index: []\n"
     ]
    },
    {
     "data": {
      "text/plain": "         X-Koordinate  Y-Koordinate  Zeitpunkt  Strom  Kraft  Temperatur\n1037169       0.00000      -0.00200        500   7000   6000      811.76\n1037170       0.00000      -0.00196        500   7000   6000      853.27\n1037171       0.00000      -0.00192        500   7000   6000      897.57\n1037172       0.00000      -0.00188        500   7000   6000      941.21\n1037173       0.00000      -0.00184        500   7000   6000      986.34\n...               ...           ...        ...    ...    ...         ...\n1043527       0.00248       0.00184        500   7000   6000      784.55\n1043528       0.00248       0.00188        500   7000   6000      745.87\n1043529       0.00248       0.00192        500   7000   6000      706.17\n1043530       0.00248       0.00196        500   7000   6000      693.28\n1043531       0.00248       0.00200        500   7000   6000      687.80\n\n[6363 rows x 6 columns]",
      "text/html": "<div>\n<style scoped>\n    .dataframe tbody tr th:only-of-type {\n        vertical-align: middle;\n    }\n\n    .dataframe tbody tr th {\n        vertical-align: top;\n    }\n\n    .dataframe thead th {\n        text-align: right;\n    }\n</style>\n<table border=\"1\" class=\"dataframe\">\n  <thead>\n    <tr style=\"text-align: right;\">\n      <th></th>\n      <th>X-Koordinate</th>\n      <th>Y-Koordinate</th>\n      <th>Zeitpunkt</th>\n      <th>Strom</th>\n      <th>Kraft</th>\n      <th>Temperatur</th>\n    </tr>\n  </thead>\n  <tbody>\n    <tr>\n      <th>1037169</th>\n      <td>0.00000</td>\n      <td>-0.00200</td>\n      <td>500</td>\n      <td>7000</td>\n      <td>6000</td>\n      <td>811.76</td>\n    </tr>\n    <tr>\n      <th>1037170</th>\n      <td>0.00000</td>\n      <td>-0.00196</td>\n      <td>500</td>\n      <td>7000</td>\n      <td>6000</td>\n      <td>853.27</td>\n    </tr>\n    <tr>\n      <th>1037171</th>\n      <td>0.00000</td>\n      <td>-0.00192</td>\n      <td>500</td>\n      <td>7000</td>\n      <td>6000</td>\n      <td>897.57</td>\n    </tr>\n    <tr>\n      <th>1037172</th>\n      <td>0.00000</td>\n      <td>-0.00188</td>\n      <td>500</td>\n      <td>7000</td>\n      <td>6000</td>\n      <td>941.21</td>\n    </tr>\n    <tr>\n      <th>1037173</th>\n      <td>0.00000</td>\n      <td>-0.00184</td>\n      <td>500</td>\n      <td>7000</td>\n      <td>6000</td>\n      <td>986.34</td>\n    </tr>\n    <tr>\n      <th>...</th>\n      <td>...</td>\n      <td>...</td>\n      <td>...</td>\n      <td>...</td>\n      <td>...</td>\n      <td>...</td>\n    </tr>\n    <tr>\n      <th>1043527</th>\n      <td>0.00248</td>\n      <td>0.00184</td>\n      <td>500</td>\n      <td>7000</td>\n      <td>6000</td>\n      <td>784.55</td>\n    </tr>\n    <tr>\n      <th>1043528</th>\n      <td>0.00248</td>\n      <td>0.00188</td>\n      <td>500</td>\n      <td>7000</td>\n      <td>6000</td>\n      <td>745.87</td>\n    </tr>\n    <tr>\n      <th>1043529</th>\n      <td>0.00248</td>\n      <td>0.00192</td>\n      <td>500</td>\n      <td>7000</td>\n      <td>6000</td>\n      <td>706.17</td>\n    </tr>\n    <tr>\n      <th>1043530</th>\n      <td>0.00248</td>\n      <td>0.00196</td>\n      <td>500</td>\n      <td>7000</td>\n      <td>6000</td>\n      <td>693.28</td>\n    </tr>\n    <tr>\n      <th>1043531</th>\n      <td>0.00248</td>\n      <td>0.00200</td>\n      <td>500</td>\n      <td>7000</td>\n      <td>6000</td>\n      <td>687.80</td>\n    </tr>\n  </tbody>\n</table>\n<p>6363 rows × 6 columns</p>\n</div>"
     },
     "execution_count": 3,
     "metadata": {},
     "output_type": "execute_result"
    }
   ],
   "source": [
    "bedingung = (data['Kraft'] == 6000) & (data['Strom'] == 7000)\n",
    "df_test = data[bedingung].copy()\n",
    "print(df_test)\n",
    "#df_test.to_pickle('C:/Users/erikm/Desktop/Diplomarbeit Erik Marr/Daten/Finish/Finish_I7000_F6000_D3_500_I_F_PKL.pkl')\n",
    "data_all = data.drop(df_test.index)\n",
    "#print(data_all)\n",
    "print(data_all[(data_all['Kraft'] == 6000) & (data_all['Strom'] == 7000)])\n",
    "df_test_500 = df_test[(df_test['Zeitpunkt'] == 500)]\n",
    "df_test_500"
   ]
  },
  {
   "cell_type": "code",
   "execution_count": 4,
   "outputs": [
    {
     "data": {
      "text/plain": "         X-Koordinate  Y-Koordinate  Zeitpunkt  Strom  Kraft    Temperatur\n0             0.00000      -0.00200        100   6000   5000  4.498000e+02\n1             0.00000      -0.00196        100   6000   5000  4.652100e+02\n2             0.00000      -0.00192        100   6000   5000  4.797600e+02\n3             0.00000      -0.00188        100   6000   5000  4.935200e+02\n4             0.00000      -0.00184        100   6000   5000  5.066000e+02\n...               ...           ...        ...    ...    ...           ...\n2087059       0.00248       0.00184        500   9000   5000  1.110600e+03\n2087060       0.00248       0.00188        500   9000   5000  1.046600e+03\n2087061       0.00248       0.00192        500   9000   5000  9.810900e+02\n2087062       0.00248       0.00196        500   9000   5000  7.888600e-31\n2087063       0.00248       0.00200        500   9000   5000  9.403500e+02\n\n[935361 rows x 6 columns]",
      "text/html": "<div>\n<style scoped>\n    .dataframe tbody tr th:only-of-type {\n        vertical-align: middle;\n    }\n\n    .dataframe tbody tr th {\n        vertical-align: top;\n    }\n\n    .dataframe thead th {\n        text-align: right;\n    }\n</style>\n<table border=\"1\" class=\"dataframe\">\n  <thead>\n    <tr style=\"text-align: right;\">\n      <th></th>\n      <th>X-Koordinate</th>\n      <th>Y-Koordinate</th>\n      <th>Zeitpunkt</th>\n      <th>Strom</th>\n      <th>Kraft</th>\n      <th>Temperatur</th>\n    </tr>\n  </thead>\n  <tbody>\n    <tr>\n      <th>0</th>\n      <td>0.00000</td>\n      <td>-0.00200</td>\n      <td>100</td>\n      <td>6000</td>\n      <td>5000</td>\n      <td>4.498000e+02</td>\n    </tr>\n    <tr>\n      <th>1</th>\n      <td>0.00000</td>\n      <td>-0.00196</td>\n      <td>100</td>\n      <td>6000</td>\n      <td>5000</td>\n      <td>4.652100e+02</td>\n    </tr>\n    <tr>\n      <th>2</th>\n      <td>0.00000</td>\n      <td>-0.00192</td>\n      <td>100</td>\n      <td>6000</td>\n      <td>5000</td>\n      <td>4.797600e+02</td>\n    </tr>\n    <tr>\n      <th>3</th>\n      <td>0.00000</td>\n      <td>-0.00188</td>\n      <td>100</td>\n      <td>6000</td>\n      <td>5000</td>\n      <td>4.935200e+02</td>\n    </tr>\n    <tr>\n      <th>4</th>\n      <td>0.00000</td>\n      <td>-0.00184</td>\n      <td>100</td>\n      <td>6000</td>\n      <td>5000</td>\n      <td>5.066000e+02</td>\n    </tr>\n    <tr>\n      <th>...</th>\n      <td>...</td>\n      <td>...</td>\n      <td>...</td>\n      <td>...</td>\n      <td>...</td>\n      <td>...</td>\n    </tr>\n    <tr>\n      <th>2087059</th>\n      <td>0.00248</td>\n      <td>0.00184</td>\n      <td>500</td>\n      <td>9000</td>\n      <td>5000</td>\n      <td>1.110600e+03</td>\n    </tr>\n    <tr>\n      <th>2087060</th>\n      <td>0.00248</td>\n      <td>0.00188</td>\n      <td>500</td>\n      <td>9000</td>\n      <td>5000</td>\n      <td>1.046600e+03</td>\n    </tr>\n    <tr>\n      <th>2087061</th>\n      <td>0.00248</td>\n      <td>0.00192</td>\n      <td>500</td>\n      <td>9000</td>\n      <td>5000</td>\n      <td>9.810900e+02</td>\n    </tr>\n    <tr>\n      <th>2087062</th>\n      <td>0.00248</td>\n      <td>0.00196</td>\n      <td>500</td>\n      <td>9000</td>\n      <td>5000</td>\n      <td>7.888600e-31</td>\n    </tr>\n    <tr>\n      <th>2087063</th>\n      <td>0.00248</td>\n      <td>0.00200</td>\n      <td>500</td>\n      <td>9000</td>\n      <td>5000</td>\n      <td>9.403500e+02</td>\n    </tr>\n  </tbody>\n</table>\n<p>935361 rows × 6 columns</p>\n</div>"
     },
     "execution_count": 4,
     "metadata": {},
     "output_type": "execute_result"
    }
   ],
   "source": [
    "data_all"
   ],
   "metadata": {
    "collapsed": false,
    "ExecuteTime": {
     "end_time": "2024-04-02T16:12:04.781584200Z",
     "start_time": "2024-04-02T16:12:04.737481700Z"
    }
   },
   "id": "5285bb0b0f14baf5"
  },
  {
   "cell_type": "code",
   "execution_count": 5,
   "id": "8783d1d6",
   "metadata": {
    "ExecuteTime": {
     "end_time": "2024-04-02T16:12:04.949098200Z",
     "start_time": "2024-04-02T16:12:04.746585Z"
    }
   },
   "outputs": [
    {
     "data": {
      "text/plain": "        X-Koordinate  Y-Koordinate  Zeitpunkt  Strom  Kraft  Temperatur\n0            0.00092 -3.200000e-04        380   8000   7000     1966.20\n1            0.00228 -1.480000e-03        420   8000   6000     1413.60\n2            0.00200  5.200000e-04        340   7000   9000      863.16\n3            0.00036 -1.920000e-03        140   7000   9000      454.08\n4            0.00068  4.529900e-18        140   8000   7000      916.13\n...              ...           ...        ...    ...    ...         ...\n935356       0.00184 -1.520000e-03        480   6000   6000     1077.10\n935357       0.00124 -1.360000e-03        400   7000   5000     1510.90\n935358       0.00184 -9.600000e-04        500   6000   5000     1544.50\n935359       0.00120 -1.600000e-03        100   8000   7000      673.61\n935360       0.00040  4.000000e-05        480   6000   5000     1859.40\n\n[935361 rows x 6 columns]",
      "text/html": "<div>\n<style scoped>\n    .dataframe tbody tr th:only-of-type {\n        vertical-align: middle;\n    }\n\n    .dataframe tbody tr th {\n        vertical-align: top;\n    }\n\n    .dataframe thead th {\n        text-align: right;\n    }\n</style>\n<table border=\"1\" class=\"dataframe\">\n  <thead>\n    <tr style=\"text-align: right;\">\n      <th></th>\n      <th>X-Koordinate</th>\n      <th>Y-Koordinate</th>\n      <th>Zeitpunkt</th>\n      <th>Strom</th>\n      <th>Kraft</th>\n      <th>Temperatur</th>\n    </tr>\n  </thead>\n  <tbody>\n    <tr>\n      <th>0</th>\n      <td>0.00092</td>\n      <td>-3.200000e-04</td>\n      <td>380</td>\n      <td>8000</td>\n      <td>7000</td>\n      <td>1966.20</td>\n    </tr>\n    <tr>\n      <th>1</th>\n      <td>0.00228</td>\n      <td>-1.480000e-03</td>\n      <td>420</td>\n      <td>8000</td>\n      <td>6000</td>\n      <td>1413.60</td>\n    </tr>\n    <tr>\n      <th>2</th>\n      <td>0.00200</td>\n      <td>5.200000e-04</td>\n      <td>340</td>\n      <td>7000</td>\n      <td>9000</td>\n      <td>863.16</td>\n    </tr>\n    <tr>\n      <th>3</th>\n      <td>0.00036</td>\n      <td>-1.920000e-03</td>\n      <td>140</td>\n      <td>7000</td>\n      <td>9000</td>\n      <td>454.08</td>\n    </tr>\n    <tr>\n      <th>4</th>\n      <td>0.00068</td>\n      <td>4.529900e-18</td>\n      <td>140</td>\n      <td>8000</td>\n      <td>7000</td>\n      <td>916.13</td>\n    </tr>\n    <tr>\n      <th>...</th>\n      <td>...</td>\n      <td>...</td>\n      <td>...</td>\n      <td>...</td>\n      <td>...</td>\n      <td>...</td>\n    </tr>\n    <tr>\n      <th>935356</th>\n      <td>0.00184</td>\n      <td>-1.520000e-03</td>\n      <td>480</td>\n      <td>6000</td>\n      <td>6000</td>\n      <td>1077.10</td>\n    </tr>\n    <tr>\n      <th>935357</th>\n      <td>0.00124</td>\n      <td>-1.360000e-03</td>\n      <td>400</td>\n      <td>7000</td>\n      <td>5000</td>\n      <td>1510.90</td>\n    </tr>\n    <tr>\n      <th>935358</th>\n      <td>0.00184</td>\n      <td>-9.600000e-04</td>\n      <td>500</td>\n      <td>6000</td>\n      <td>5000</td>\n      <td>1544.50</td>\n    </tr>\n    <tr>\n      <th>935359</th>\n      <td>0.00120</td>\n      <td>-1.600000e-03</td>\n      <td>100</td>\n      <td>8000</td>\n      <td>7000</td>\n      <td>673.61</td>\n    </tr>\n    <tr>\n      <th>935360</th>\n      <td>0.00040</td>\n      <td>4.000000e-05</td>\n      <td>480</td>\n      <td>6000</td>\n      <td>5000</td>\n      <td>1859.40</td>\n    </tr>\n  </tbody>\n</table>\n<p>935361 rows × 6 columns</p>\n</div>"
     },
     "execution_count": 5,
     "metadata": {},
     "output_type": "execute_result"
    }
   ],
   "source": [
    "data_all = data_all.sample(frac=1, random_state=42)  # Hier wird 42 als Random State verwendet, um die Ergebnisse reproduzierbar zu machen\n",
    "df_reset = data_all.reset_index(drop=True)\n",
    "df_reset"
   ]
  },
  {
   "cell_type": "code",
   "execution_count": 6,
   "id": "a4e72a16",
   "metadata": {
    "ExecuteTime": {
     "end_time": "2024-04-02T16:12:04.951617Z",
     "start_time": "2024-04-02T16:12:04.918152500Z"
    }
   },
   "outputs": [
    {
     "name": "stdout",
     "output_type": "stream",
     "text": [
      "Empty DataFrame\n",
      "Columns: [X-Koordinate, Y-Koordinate, Zeitpunkt, Strom, Kraft]\n",
      "Index: []\n"
     ]
    }
   ],
   "source": [
    "y = df_reset[\"Temperatur\"]\n",
    "# Korrektur: Verwenden Sie den Spaltennamen direkt, ohne Indexierung der columns-Eigenschaft\n",
    "X = df_reset.drop(\"Temperatur\", axis=1)\n",
    "\n",
    "print(X[(X['Kraft'] == 6000) & (X['Strom'] == 7000)])"
   ]
  },
  {
   "cell_type": "code",
   "execution_count": 40,
   "outputs": [],
   "source": [
    "label = df_test[\"Temperatur\"]\n",
    "# Korrektur: Verwenden Sie den Spaltennamen direkt, ohne Indexierung der columns-Eigenschaft\n",
    "X_2 = df_test.drop(\"Temperatur\", axis=1)\n",
    "\n",
    "X_2 = X_2.reset_index(drop=True)\n",
    "y_2 = label"
   ],
   "metadata": {
    "collapsed": false,
    "ExecuteTime": {
     "end_time": "2024-04-02T21:43:17.978773400Z",
     "start_time": "2024-04-02T21:43:17.923233400Z"
    }
   },
   "id": "2920a35d3f81234d"
  },
  {
   "cell_type": "markdown",
   "source": [],
   "metadata": {
    "collapsed": false
   },
   "id": "f7fa289a50d87423"
  },
  {
   "cell_type": "code",
   "execution_count": 41,
   "id": "e694a236",
   "metadata": {
    "ExecuteTime": {
     "end_time": "2024-04-02T21:43:18.857438600Z",
     "start_time": "2024-04-02T21:43:18.812704700Z"
    }
   },
   "outputs": [
    {
     "data": {
      "text/plain": "        X-Koordinate  Y-Koordinate  Zeitpunkt  Strom  Kraft\n0            0.00000      -0.00200        100   7000   6000\n1            0.00000      -0.00196        100   7000   6000\n2            0.00000      -0.00192        100   7000   6000\n3            0.00000      -0.00188        100   7000   6000\n4            0.00000      -0.00184        100   7000   6000\n...              ...           ...        ...    ...    ...\n133618       0.00248       0.00184        500   7000   6000\n133619       0.00248       0.00188        500   7000   6000\n133620       0.00248       0.00192        500   7000   6000\n133621       0.00248       0.00196        500   7000   6000\n133622       0.00248       0.00200        500   7000   6000\n\n[133623 rows x 5 columns]",
      "text/html": "<div>\n<style scoped>\n    .dataframe tbody tr th:only-of-type {\n        vertical-align: middle;\n    }\n\n    .dataframe tbody tr th {\n        vertical-align: top;\n    }\n\n    .dataframe thead th {\n        text-align: right;\n    }\n</style>\n<table border=\"1\" class=\"dataframe\">\n  <thead>\n    <tr style=\"text-align: right;\">\n      <th></th>\n      <th>X-Koordinate</th>\n      <th>Y-Koordinate</th>\n      <th>Zeitpunkt</th>\n      <th>Strom</th>\n      <th>Kraft</th>\n    </tr>\n  </thead>\n  <tbody>\n    <tr>\n      <th>0</th>\n      <td>0.00000</td>\n      <td>-0.00200</td>\n      <td>100</td>\n      <td>7000</td>\n      <td>6000</td>\n    </tr>\n    <tr>\n      <th>1</th>\n      <td>0.00000</td>\n      <td>-0.00196</td>\n      <td>100</td>\n      <td>7000</td>\n      <td>6000</td>\n    </tr>\n    <tr>\n      <th>2</th>\n      <td>0.00000</td>\n      <td>-0.00192</td>\n      <td>100</td>\n      <td>7000</td>\n      <td>6000</td>\n    </tr>\n    <tr>\n      <th>3</th>\n      <td>0.00000</td>\n      <td>-0.00188</td>\n      <td>100</td>\n      <td>7000</td>\n      <td>6000</td>\n    </tr>\n    <tr>\n      <th>4</th>\n      <td>0.00000</td>\n      <td>-0.00184</td>\n      <td>100</td>\n      <td>7000</td>\n      <td>6000</td>\n    </tr>\n    <tr>\n      <th>...</th>\n      <td>...</td>\n      <td>...</td>\n      <td>...</td>\n      <td>...</td>\n      <td>...</td>\n    </tr>\n    <tr>\n      <th>133618</th>\n      <td>0.00248</td>\n      <td>0.00184</td>\n      <td>500</td>\n      <td>7000</td>\n      <td>6000</td>\n    </tr>\n    <tr>\n      <th>133619</th>\n      <td>0.00248</td>\n      <td>0.00188</td>\n      <td>500</td>\n      <td>7000</td>\n      <td>6000</td>\n    </tr>\n    <tr>\n      <th>133620</th>\n      <td>0.00248</td>\n      <td>0.00192</td>\n      <td>500</td>\n      <td>7000</td>\n      <td>6000</td>\n    </tr>\n    <tr>\n      <th>133621</th>\n      <td>0.00248</td>\n      <td>0.00196</td>\n      <td>500</td>\n      <td>7000</td>\n      <td>6000</td>\n    </tr>\n    <tr>\n      <th>133622</th>\n      <td>0.00248</td>\n      <td>0.00200</td>\n      <td>500</td>\n      <td>7000</td>\n      <td>6000</td>\n    </tr>\n  </tbody>\n</table>\n<p>133623 rows × 5 columns</p>\n</div>"
     },
     "execution_count": 41,
     "metadata": {},
     "output_type": "execute_result"
    }
   ],
   "source": [
    "X_2"
   ]
  },
  {
   "cell_type": "code",
   "execution_count": 42,
   "id": "3f3303b4",
   "metadata": {
    "ExecuteTime": {
     "end_time": "2024-04-02T21:43:19.295071100Z",
     "start_time": "2024-04-02T21:43:19.256679800Z"
    }
   },
   "outputs": [
    {
     "data": {
      "text/plain": "782649     478.13\n782650     495.01\n782651     511.16\n782652     526.58\n782653     541.43\n            ...  \n1043527    784.55\n1043528    745.87\n1043529    706.17\n1043530    693.28\n1043531    687.80\nName: Temperatur, Length: 133623, dtype: float64"
     },
     "execution_count": 42,
     "metadata": {},
     "output_type": "execute_result"
    }
   ],
   "source": [
    "y_2"
   ]
  },
  {
   "cell_type": "code",
   "execution_count": 43,
   "id": "e3ad8da0",
   "metadata": {
    "ExecuteTime": {
     "end_time": "2024-04-02T21:43:19.707983500Z",
     "start_time": "2024-04-02T21:43:19.695424100Z"
    }
   },
   "outputs": [],
   "source": [
    " # train_df enthält 80% der Daten, test_df enthält 20% der Daten\n",
    "#X_train, X_test, y_train, y_test = train_test_split(X, y, test_size=0.20, random_state=42)\n"
   ]
  },
  {
   "cell_type": "code",
   "execution_count": 43,
   "outputs": [],
   "source": [],
   "metadata": {
    "collapsed": false,
    "ExecuteTime": {
     "end_time": "2024-04-02T21:43:20.588041100Z",
     "start_time": "2024-04-02T21:43:20.550523900Z"
    }
   },
   "id": "b78be1fe68aa0b4a"
  },
  {
   "cell_type": "code",
   "execution_count": 44,
   "id": "9c705edb",
   "metadata": {
    "ExecuteTime": {
     "end_time": "2024-04-02T21:43:20.902734600Z",
     "start_time": "2024-04-02T21:43:20.821750300Z"
    }
   },
   "outputs": [],
   "source": [
    "# Initialisiere einen MinMaxScaler für die Features\n",
    "scaler_features = MinMaxScaler()\n",
    "scaler_features2 = MinMaxScaler()\n",
    "# Skaliere X_train und X_test\n",
    "X_train_scaled = scaler_features.fit_transform(X)\n",
    "#X_test_scaled = scaler_features.transform(X_test)  # Nutze gleiche Skalierungsparameter ohne das X_Test Informationen einfließen\n",
    "X_test_scaled = scaler_features.transform(X_2)  # Nutze gleiche Skalierungsparameter ohne das X_Test Informationen einfließen\n",
    "\n",
    "# Initialisiere einen SEPARATEN MinMaxScaler für das Ziel, wenn nötig\n",
    "scaler_target = MinMaxScaler()\n",
    "\n",
    "\n",
    "# Skaliere y_train und y_test. Beachte, dass y_train.reshape(-1, 1) verwendet wird, da MinMaxScaler \n",
    "# erwartet, dass die Eingaben als 2D-Arrays kommen, und Ziele normalerweise als 1D-Arrays vorliegen.\n",
    "y_train_scaled = scaler_target.fit_transform(y.values.reshape(-1, 1))\n",
    "#y_test_scaled = scaler_target.transform(y_test.values.reshape(-1, 1))\n",
    "y_test_scaled = scaler_target.transform(y_2.values.reshape(-1, 1))\n"
   ]
  },
  {
   "cell_type": "code",
   "execution_count": 37,
   "id": "bbefe631e495b483",
   "metadata": {
    "ExecuteTime": {
     "end_time": "2024-04-02T21:42:14.202662900Z",
     "start_time": "2024-04-02T21:42:14.190025300Z"
    }
   },
   "outputs": [
    {
     "data": {
      "text/plain": "array([[0.        , 0.        , 1.        , 0.33333333, 0.25      ],\n       [0.        , 0.01      , 1.        , 0.33333333, 0.25      ],\n       [0.        , 0.02      , 1.        , 0.33333333, 0.25      ],\n       ...,\n       [1.        , 0.98      , 1.        , 0.33333333, 0.25      ],\n       [1.        , 0.99      , 1.        , 0.33333333, 0.25      ],\n       [1.        , 1.        , 1.        , 0.33333333, 0.25      ]])"
     },
     "execution_count": 37,
     "metadata": {},
     "output_type": "execute_result"
    }
   ],
   "source": [
    "X_test_scaled"
   ]
  },
  {
   "cell_type": "code",
   "execution_count": 38,
   "outputs": [
    {
     "data": {
      "text/plain": "array([[0.37096774, 0.42      , 0.7       , 0.66666667, 0.5       ],\n       [0.91935484, 0.13      , 0.8       , 0.66666667, 0.25      ],\n       [0.80645161, 0.63      , 0.6       , 0.33333333, 1.        ],\n       ...,\n       [0.74193548, 0.26      , 1.        , 0.        , 0.        ],\n       [0.48387097, 0.1       , 0.        , 0.66666667, 0.5       ],\n       [0.16129032, 0.51      , 0.95      , 0.        , 0.        ]])"
     },
     "execution_count": 38,
     "metadata": {},
     "output_type": "execute_result"
    }
   ],
   "source": [
    "X_train_scaled"
   ],
   "metadata": {
    "collapsed": false,
    "ExecuteTime": {
     "end_time": "2024-04-02T21:42:14.397755900Z",
     "start_time": "2024-04-02T21:42:14.383274Z"
    }
   },
   "id": "ce04ce43aac2242f"
  },
  {
   "cell_type": "code",
   "execution_count": 18,
   "outputs": [
    {
     "name": "stdout",
     "output_type": "stream",
     "text": [
      "Epoch 1/500\n",
      "3742/3742 [==============================] - 26s 6ms/step - loss: 0.0233 - mae: 0.0187 - val_loss: 0.0172 - val_mae: 0.0078\n",
      "Epoch 2/500\n",
      "3742/3742 [==============================] - 24s 6ms/step - loss: 0.0151 - mae: 0.0086 - val_loss: 0.0132 - val_mae: 0.0085\n",
      "Epoch 3/500\n",
      "3742/3742 [==============================] - 24s 6ms/step - loss: 0.0118 - mae: 0.0073 - val_loss: 0.0106 - val_mae: 0.0104\n",
      "Epoch 4/500\n",
      "3742/3742 [==============================] - 24s 6ms/step - loss: 0.0095 - mae: 0.0067 - val_loss: 0.0085 - val_mae: 0.0051\n",
      "Epoch 5/500\n",
      "3742/3742 [==============================] - 24s 6ms/step - loss: 0.0077 - mae: 0.0060 - val_loss: 0.0069 - val_mae: 0.0052\n",
      "Epoch 6/500\n",
      "3742/3742 [==============================] - 24s 6ms/step - loss: 0.0063 - mae: 0.0057 - val_loss: 0.0056 - val_mae: 0.0050\n",
      "Epoch 7/500\n",
      "3742/3742 [==============================] - 24s 6ms/step - loss: 0.0052 - mae: 0.0055 - val_loss: 0.0047 - val_mae: 0.0050\n",
      "Epoch 8/500\n",
      "3742/3742 [==============================] - 24s 6ms/step - loss: 0.0043 - mae: 0.0053 - val_loss: 0.0039 - val_mae: 0.0060\n",
      "Epoch 9/500\n",
      "3742/3742 [==============================] - 24s 6ms/step - loss: 0.0036 - mae: 0.0052 - val_loss: 0.0033 - val_mae: 0.0044\n",
      "Epoch 10/500\n",
      "3742/3742 [==============================] - 24s 6ms/step - loss: 0.0030 - mae: 0.0051 - val_loss: 0.0028 - val_mae: 0.0047\n",
      "Epoch 11/500\n",
      "3742/3742 [==============================] - 24s 6ms/step - loss: 0.0026 - mae: 0.0050 - val_loss: 0.0024 - val_mae: 0.0080\n",
      "Epoch 12/500\n",
      "3742/3742 [==============================] - 24s 6ms/step - loss: 0.0022 - mae: 0.0049 - val_loss: 0.0021 - val_mae: 0.0042\n",
      "Epoch 13/500\n",
      "3742/3742 [==============================] - 25s 7ms/step - loss: 0.0020 - mae: 0.0048 - val_loss: 0.0018 - val_mae: 0.0052\n",
      "Epoch 14/500\n",
      "3742/3742 [==============================] - 24s 6ms/step - loss: 0.0017 - mae: 0.0048 - val_loss: 0.0016 - val_mae: 0.0039\n",
      "Epoch 15/500\n",
      "3742/3742 [==============================] - 24s 6ms/step - loss: 0.0015 - mae: 0.0047 - val_loss: 0.0015 - val_mae: 0.0048\n",
      "Epoch 16/500\n",
      "3742/3742 [==============================] - 24s 7ms/step - loss: 0.0014 - mae: 0.0047 - val_loss: 0.0014 - val_mae: 0.0086\n",
      "Epoch 17/500\n",
      "3742/3742 [==============================] - 24s 6ms/step - loss: 0.0013 - mae: 0.0047 - val_loss: 0.0012 - val_mae: 0.0059\n",
      "Epoch 18/500\n",
      "3742/3742 [==============================] - 24s 6ms/step - loss: 0.0012 - mae: 0.0046 - val_loss: 0.0011 - val_mae: 0.0039\n",
      "Epoch 19/500\n",
      "3742/3742 [==============================] - 24s 6ms/step - loss: 0.0011 - mae: 0.0046 - val_loss: 0.0010 - val_mae: 0.0041\n",
      "Epoch 20/500\n",
      "3742/3742 [==============================] - 24s 6ms/step - loss: 9.7643e-04 - mae: 0.0046 - val_loss: 9.3929e-04 - val_mae: 0.0047\n",
      "Epoch 21/500\n",
      "3742/3742 [==============================] - 24s 6ms/step - loss: 9.0598e-04 - mae: 0.0046 - val_loss: 8.6892e-04 - val_mae: 0.0041\n",
      "Epoch 22/500\n",
      "3742/3742 [==============================] - 24s 6ms/step - loss: 8.4354e-04 - mae: 0.0045 - val_loss: 8.3928e-04 - val_mae: 0.0065\n",
      "Epoch 23/500\n",
      "3742/3742 [==============================] - 24s 6ms/step - loss: 7.9003e-04 - mae: 0.0045 - val_loss: 8.3786e-04 - val_mae: 0.0088\n",
      "Epoch 24/500\n",
      "3742/3742 [==============================] - 24s 6ms/step - loss: 7.4199e-04 - mae: 0.0044 - val_loss: 7.1035e-04 - val_mae: 0.0036\n",
      "Epoch 25/500\n",
      "3742/3742 [==============================] - 24s 6ms/step - loss: 7.0089e-04 - mae: 0.0045 - val_loss: 6.7853e-04 - val_mae: 0.0042\n",
      "Epoch 26/500\n",
      "3742/3742 [==============================] - 24s 6ms/step - loss: 6.6358e-04 - mae: 0.0044 - val_loss: 6.4521e-04 - val_mae: 0.0044\n",
      "Epoch 27/500\n",
      "3742/3742 [==============================] - 24s 6ms/step - loss: 6.3113e-04 - mae: 0.0044 - val_loss: 6.0708e-04 - val_mae: 0.0037\n",
      "Epoch 28/500\n",
      "3742/3742 [==============================] - 24s 6ms/step - loss: 6.0191e-04 - mae: 0.0044 - val_loss: 5.7857e-04 - val_mae: 0.0036\n",
      "Epoch 29/500\n",
      "3742/3742 [==============================] - 24s 6ms/step - loss: 5.7503e-04 - mae: 0.0044 - val_loss: 5.7256e-04 - val_mae: 0.0054\n",
      "Epoch 30/500\n",
      "3742/3742 [==============================] - 24s 6ms/step - loss: 5.5056e-04 - mae: 0.0043 - val_loss: 5.5376e-04 - val_mae: 0.0056\n",
      "Epoch 31/500\n",
      "3742/3742 [==============================] - 24s 6ms/step - loss: 5.2884e-04 - mae: 0.0043 - val_loss: 5.1219e-04 - val_mae: 0.0039\n",
      "Epoch 32/500\n",
      "3742/3742 [==============================] - 24s 6ms/step - loss: 5.0911e-04 - mae: 0.0043 - val_loss: 4.9063e-04 - val_mae: 0.0035\n",
      "Epoch 33/500\n",
      "3742/3742 [==============================] - 24s 6ms/step - loss: 4.9136e-04 - mae: 0.0043 - val_loss: 4.7374e-04 - val_mae: 0.0035\n",
      "Epoch 34/500\n",
      "3742/3742 [==============================] - 24s 6ms/step - loss: 4.7484e-04 - mae: 0.0043 - val_loss: 4.6261e-04 - val_mae: 0.0038\n",
      "Epoch 35/500\n",
      "3742/3742 [==============================] - 24s 6ms/step - loss: 4.5964e-04 - mae: 0.0042 - val_loss: 4.4771e-04 - val_mae: 0.0038\n",
      "Epoch 36/500\n",
      "3742/3742 [==============================] - 24s 6ms/step - loss: 4.4607e-04 - mae: 0.0042 - val_loss: 4.3156e-04 - val_mae: 0.0035\n",
      "Epoch 37/500\n",
      "3742/3742 [==============================] - 24s 6ms/step - loss: 4.3345e-04 - mae: 0.0042 - val_loss: 4.2151e-04 - val_mae: 0.0037\n",
      "Epoch 38/500\n",
      "3742/3742 [==============================] - 24s 6ms/step - loss: 4.2168e-04 - mae: 0.0042 - val_loss: 4.2205e-04 - val_mae: 0.0047\n",
      "Epoch 39/500\n",
      "3742/3742 [==============================] - 24s 6ms/step - loss: 4.1069e-04 - mae: 0.0042 - val_loss: 3.9869e-04 - val_mae: 0.0036\n",
      "Epoch 40/500\n",
      "3742/3742 [==============================] - 24s 6ms/step - loss: 4.0087e-04 - mae: 0.0042 - val_loss: 3.8740e-04 - val_mae: 0.0034\n",
      "Epoch 41/500\n",
      "3742/3742 [==============================] - 24s 6ms/step - loss: 3.9100e-04 - mae: 0.0042 - val_loss: 3.7840e-04 - val_mae: 0.0035\n",
      "Epoch 42/500\n",
      "3742/3742 [==============================] - 24s 6ms/step - loss: 3.8325e-04 - mae: 0.0042 - val_loss: 3.6988e-04 - val_mae: 0.0034\n",
      "Epoch 43/500\n",
      "3742/3742 [==============================] - 24s 6ms/step - loss: 3.7495e-04 - mae: 0.0042 - val_loss: 3.6529e-04 - val_mae: 0.0038\n",
      "Epoch 44/500\n",
      "3742/3742 [==============================] - 24s 6ms/step - loss: 3.6712e-04 - mae: 0.0042 - val_loss: 3.6008e-04 - val_mae: 0.0039\n",
      "Epoch 45/500\n",
      "3742/3742 [==============================] - 24s 6ms/step - loss: 3.5976e-04 - mae: 0.0041 - val_loss: 3.5088e-04 - val_mae: 0.0037\n",
      "Epoch 46/500\n",
      "3742/3742 [==============================] - 24s 6ms/step - loss: 3.5305e-04 - mae: 0.0041 - val_loss: 3.4415e-04 - val_mae: 0.0036\n",
      "Epoch 47/500\n",
      "3742/3742 [==============================] - 24s 6ms/step - loss: 3.4583e-04 - mae: 0.0041 - val_loss: 3.4375e-04 - val_mae: 0.0042\n",
      "Epoch 48/500\n",
      "3742/3742 [==============================] - 24s 6ms/step - loss: 3.4042e-04 - mae: 0.0041 - val_loss: 3.2834e-04 - val_mae: 0.0032\n",
      "Epoch 49/500\n",
      "3742/3742 [==============================] - 24s 6ms/step - loss: 3.3484e-04 - mae: 0.0041 - val_loss: 3.2621e-04 - val_mae: 0.0036\n",
      "Epoch 50/500\n",
      "3742/3742 [==============================] - 24s 6ms/step - loss: 3.2946e-04 - mae: 0.0041 - val_loss: 3.2485e-04 - val_mae: 0.0038\n",
      "Epoch 51/500\n",
      "3742/3742 [==============================] - 24s 6ms/step - loss: 3.2439e-04 - mae: 0.0040 - val_loss: 3.1489e-04 - val_mae: 0.0034\n",
      "Epoch 52/500\n",
      "3742/3742 [==============================] - 24s 6ms/step - loss: 3.2046e-04 - mae: 0.0041 - val_loss: 3.1491e-04 - val_mae: 0.0039\n",
      "Epoch 53/500\n",
      "3742/3742 [==============================] - 24s 6ms/step - loss: 3.1531e-04 - mae: 0.0040 - val_loss: 3.0758e-04 - val_mae: 0.0035\n",
      "Epoch 54/500\n",
      "3742/3742 [==============================] - 24s 6ms/step - loss: 3.1164e-04 - mae: 0.0041 - val_loss: 3.1273e-04 - val_mae: 0.0045\n",
      "Epoch 55/500\n",
      "3742/3742 [==============================] - 24s 6ms/step - loss: 3.0759e-04 - mae: 0.0040 - val_loss: 2.9843e-04 - val_mae: 0.0034\n",
      "Epoch 56/500\n",
      "3742/3742 [==============================] - 24s 6ms/step - loss: 3.0323e-04 - mae: 0.0040 - val_loss: 3.0876e-04 - val_mae: 0.0044\n",
      "Epoch 57/500\n",
      "3742/3742 [==============================] - 24s 6ms/step - loss: 3.0027e-04 - mae: 0.0040 - val_loss: 2.9917e-04 - val_mae: 0.0041\n",
      "Epoch 58/500\n",
      "3742/3742 [==============================] - 24s 6ms/step - loss: 2.9656e-04 - mae: 0.0040 - val_loss: 2.9542e-04 - val_mae: 0.0040\n",
      "Epoch 59/500\n",
      "3742/3742 [==============================] - 24s 6ms/step - loss: 2.9312e-04 - mae: 0.0039 - val_loss: 3.8284e-04 - val_mae: 0.0097\n",
      "Epoch 60/500\n",
      "3742/3742 [==============================] - 24s 6ms/step - loss: 2.9023e-04 - mae: 0.0039 - val_loss: 2.8511e-04 - val_mae: 0.0036\n",
      "Epoch 61/500\n",
      "3742/3742 [==============================] - 24s 6ms/step - loss: 2.8758e-04 - mae: 0.0039 - val_loss: 3.1138e-04 - val_mae: 0.0061\n",
      "Epoch 62/500\n",
      "3742/3742 [==============================] - 21s 5ms/step - loss: 2.8505e-04 - mae: 0.0039 - val_loss: 2.7873e-04 - val_mae: 0.0035\n",
      "Epoch 63/500\n",
      "3742/3742 [==============================] - 20s 5ms/step - loss: 2.8186e-04 - mae: 0.0039 - val_loss: 2.8075e-04 - val_mae: 0.0040\n",
      "Epoch 64/500\n",
      "3742/3742 [==============================] - 20s 5ms/step - loss: 2.7990e-04 - mae: 0.0039 - val_loss: 2.7852e-04 - val_mae: 0.0041\n",
      "Epoch 65/500\n",
      "3742/3742 [==============================] - 18s 5ms/step - loss: 2.7734e-04 - mae: 0.0039 - val_loss: 2.7384e-04 - val_mae: 0.0037\n",
      "Epoch 66/500\n",
      "3742/3742 [==============================] - 18s 5ms/step - loss: 2.7493e-04 - mae: 0.0039 - val_loss: 2.8962e-04 - val_mae: 0.0055\n",
      "Epoch 67/500\n",
      "3742/3742 [==============================] - 17s 5ms/step - loss: 2.7295e-04 - mae: 0.0039 - val_loss: 2.6826e-04 - val_mae: 0.0036\n",
      "Epoch 68/500\n",
      "3742/3742 [==============================] - 17s 5ms/step - loss: 2.7101e-04 - mae: 0.0039 - val_loss: 2.6257e-04 - val_mae: 0.0032\n",
      "Epoch 69/500\n",
      "3742/3742 [==============================] - 17s 5ms/step - loss: 2.6877e-04 - mae: 0.0039 - val_loss: 2.6509e-04 - val_mae: 0.0037\n",
      "Epoch 70/500\n",
      "3742/3742 [==============================] - 17s 5ms/step - loss: 2.6695e-04 - mae: 0.0039 - val_loss: 2.7352e-04 - val_mae: 0.0047\n",
      "Epoch 71/500\n",
      "3742/3742 [==============================] - 17s 5ms/step - loss: 2.6481e-04 - mae: 0.0039 - val_loss: 3.2947e-04 - val_mae: 0.0087\n",
      "Epoch 72/500\n",
      "3742/3742 [==============================] - 17s 5ms/step - loss: 2.6312e-04 - mae: 0.0038 - val_loss: 2.6074e-04 - val_mae: 0.0039\n",
      "Epoch 73/500\n",
      "3742/3742 [==============================] - 17s 5ms/step - loss: 2.6140e-04 - mae: 0.0038 - val_loss: 2.5513e-04 - val_mae: 0.0034\n",
      "Epoch 74/500\n",
      "3742/3742 [==============================] - 17s 5ms/step - loss: 2.5939e-04 - mae: 0.0038 - val_loss: 2.5296e-04 - val_mae: 0.0033\n",
      "Epoch 75/500\n",
      "3742/3742 [==============================] - 17s 5ms/step - loss: 2.5795e-04 - mae: 0.0038 - val_loss: 2.5313e-04 - val_mae: 0.0034\n",
      "Epoch 76/500\n",
      "3742/3742 [==============================] - 17s 5ms/step - loss: 2.5669e-04 - mae: 0.0038 - val_loss: 2.6857e-04 - val_mae: 0.0052\n",
      "Epoch 77/500\n",
      "3742/3742 [==============================] - 18s 5ms/step - loss: 2.5485e-04 - mae: 0.0038 - val_loss: 2.7100e-04 - val_mae: 0.0054\n",
      "Epoch 78/500\n",
      "3742/3742 [==============================] - 17s 5ms/step - loss: 2.5310e-04 - mae: 0.0038 - val_loss: 2.5009e-04 - val_mae: 0.0037\n",
      "Epoch 79/500\n",
      "3742/3742 [==============================] - 17s 5ms/step - loss: 2.5200e-04 - mae: 0.0038 - val_loss: 3.2171e-04 - val_mae: 0.0085\n",
      "Epoch 80/500\n",
      "3742/3742 [==============================] - 17s 5ms/step - loss: 2.5062e-04 - mae: 0.0038 - val_loss: 2.4325e-04 - val_mae: 0.0031\n",
      "Epoch 81/500\n",
      "3742/3742 [==============================] - 17s 5ms/step - loss: 2.5001e-04 - mae: 0.0038 - val_loss: 2.5608e-04 - val_mae: 0.0046\n",
      "Epoch 82/500\n",
      "3742/3742 [==============================] - 17s 5ms/step - loss: 2.4841e-04 - mae: 0.0038 - val_loss: 2.4222e-04 - val_mae: 0.0032\n",
      "Epoch 83/500\n",
      "3742/3742 [==============================] - 17s 5ms/step - loss: 2.4727e-04 - mae: 0.0038 - val_loss: 2.3987e-04 - val_mae: 0.0031\n",
      "Epoch 84/500\n",
      "3742/3742 [==============================] - 17s 5ms/step - loss: 2.4575e-04 - mae: 0.0037 - val_loss: 2.3981e-04 - val_mae: 0.0032\n",
      "Epoch 85/500\n",
      "3742/3742 [==============================] - 17s 5ms/step - loss: 2.4473e-04 - mae: 0.0037 - val_loss: 2.5273e-04 - val_mae: 0.0047\n",
      "Epoch 86/500\n",
      "3742/3742 [==============================] - 17s 5ms/step - loss: 2.4386e-04 - mae: 0.0038 - val_loss: 2.3822e-04 - val_mae: 0.0034\n",
      "Epoch 87/500\n",
      "3742/3742 [==============================] - 17s 5ms/step - loss: 2.4294e-04 - mae: 0.0038 - val_loss: 2.3789e-04 - val_mae: 0.0033\n",
      "Epoch 88/500\n",
      "3742/3742 [==============================] - 17s 5ms/step - loss: 2.4159e-04 - mae: 0.0037 - val_loss: 2.4552e-04 - val_mae: 0.0043\n",
      "Epoch 89/500\n",
      "3742/3742 [==============================] - 17s 5ms/step - loss: 2.4042e-04 - mae: 0.0037 - val_loss: 2.4541e-04 - val_mae: 0.0043\n",
      "Epoch 90/500\n",
      "3742/3742 [==============================] - 17s 5ms/step - loss: 2.3972e-04 - mae: 0.0037 - val_loss: 2.3512e-04 - val_mae: 0.0033\n",
      "Epoch 91/500\n",
      "3742/3742 [==============================] - 17s 5ms/step - loss: 2.3885e-04 - mae: 0.0037 - val_loss: 2.3167e-04 - val_mae: 0.0030\n",
      "Epoch 92/500\n",
      "3742/3742 [==============================] - 18s 5ms/step - loss: 2.3781e-04 - mae: 0.0037 - val_loss: 2.4080e-04 - val_mae: 0.0041\n",
      "Epoch 93/500\n",
      "3742/3742 [==============================] - 17s 5ms/step - loss: 2.3710e-04 - mae: 0.0037 - val_loss: 2.2927e-04 - val_mae: 0.0030\n",
      "Epoch 94/500\n",
      "3742/3742 [==============================] - 17s 5ms/step - loss: 2.3615e-04 - mae: 0.0037 - val_loss: 2.3641e-04 - val_mae: 0.0040\n",
      "Epoch 95/500\n",
      "3742/3742 [==============================] - 17s 5ms/step - loss: 2.3509e-04 - mae: 0.0037 - val_loss: 2.2957e-04 - val_mae: 0.0032\n",
      "Epoch 96/500\n",
      "3742/3742 [==============================] - 17s 5ms/step - loss: 2.3430e-04 - mae: 0.0037 - val_loss: 2.3112e-04 - val_mae: 0.0036\n",
      "Epoch 97/500\n",
      "3742/3742 [==============================] - 17s 5ms/step - loss: 2.3338e-04 - mae: 0.0037 - val_loss: 2.3373e-04 - val_mae: 0.0036\n",
      "Epoch 98/500\n",
      "3742/3742 [==============================] - 18s 5ms/step - loss: 2.3316e-04 - mae: 0.0037 - val_loss: 2.2794e-04 - val_mae: 0.0033\n",
      "Epoch 99/500\n",
      "3742/3742 [==============================] - 17s 5ms/step - loss: 2.3184e-04 - mae: 0.0037 - val_loss: 2.2544e-04 - val_mae: 0.0031\n",
      "Epoch 100/500\n",
      "3742/3742 [==============================] - 17s 5ms/step - loss: 2.3120e-04 - mae: 0.0037 - val_loss: 2.2908e-04 - val_mae: 0.0035\n",
      "Epoch 101/500\n",
      "3742/3742 [==============================] - 17s 5ms/step - loss: 2.3051e-04 - mae: 0.0037 - val_loss: 2.2409e-04 - val_mae: 0.0031\n",
      "Epoch 102/500\n",
      "3742/3742 [==============================] - 17s 5ms/step - loss: 2.2949e-04 - mae: 0.0036 - val_loss: 2.3489e-04 - val_mae: 0.0044\n",
      "Epoch 103/500\n",
      "3742/3742 [==============================] - 17s 5ms/step - loss: 2.2949e-04 - mae: 0.0037 - val_loss: 3.5660e-04 - val_mae: 0.0114\n",
      "Epoch 104/500\n",
      "3742/3742 [==============================] - 18s 5ms/step - loss: 2.2863e-04 - mae: 0.0037 - val_loss: 2.4138e-04 - val_mae: 0.0050\n",
      "Epoch 105/500\n",
      "3742/3742 [==============================] - 17s 5ms/step - loss: 2.2777e-04 - mae: 0.0037 - val_loss: 2.2209e-04 - val_mae: 0.0031\n",
      "Epoch 106/500\n",
      "3742/3742 [==============================] - 17s 5ms/step - loss: 2.2750e-04 - mae: 0.0037 - val_loss: 2.3097e-04 - val_mae: 0.0041\n",
      "Epoch 107/500\n",
      "3742/3742 [==============================] - 17s 5ms/step - loss: 2.2706e-04 - mae: 0.0037 - val_loss: 2.4642e-04 - val_mae: 0.0057\n",
      "Epoch 108/500\n",
      "3742/3742 [==============================] - 18s 5ms/step - loss: 2.2619e-04 - mae: 0.0036 - val_loss: 2.2533e-04 - val_mae: 0.0037\n",
      "Epoch 109/500\n",
      "3742/3742 [==============================] - 17s 5ms/step - loss: 2.2578e-04 - mae: 0.0037 - val_loss: 2.1904e-04 - val_mae: 0.0030\n",
      "Epoch 110/500\n",
      "3742/3742 [==============================] - 17s 5ms/step - loss: 2.2517e-04 - mae: 0.0037 - val_loss: 2.2387e-04 - val_mae: 0.0036\n",
      "Epoch 111/500\n",
      "3742/3742 [==============================] - 18s 5ms/step - loss: 2.2462e-04 - mae: 0.0037 - val_loss: 2.2007e-04 - val_mae: 0.0033\n",
      "Epoch 112/500\n",
      "3742/3742 [==============================] - 17s 5ms/step - loss: 2.2363e-04 - mae: 0.0036 - val_loss: 2.2128e-04 - val_mae: 0.0035\n",
      "Epoch 113/500\n",
      "3742/3742 [==============================] - 17s 5ms/step - loss: 2.2339e-04 - mae: 0.0037 - val_loss: 2.1762e-04 - val_mae: 0.0032\n",
      "Epoch 114/500\n",
      "3742/3742 [==============================] - 17s 5ms/step - loss: 2.2297e-04 - mae: 0.0037 - val_loss: 2.3683e-04 - val_mae: 0.0050\n",
      "Epoch 115/500\n",
      "3742/3742 [==============================] - 18s 5ms/step - loss: 2.2229e-04 - mae: 0.0036 - val_loss: 2.2113e-04 - val_mae: 0.0037\n",
      "Epoch 116/500\n",
      "3742/3742 [==============================] - 17s 5ms/step - loss: 2.2169e-04 - mae: 0.0036 - val_loss: 2.4297e-04 - val_mae: 0.0056\n",
      "Epoch 117/500\n",
      "3742/3742 [==============================] - 17s 5ms/step - loss: 2.2153e-04 - mae: 0.0036 - val_loss: 2.2185e-04 - val_mae: 0.0039\n",
      "Epoch 118/500\n",
      "3731/3742 [============================>.] - ETA: 0s - loss: 2.2085e-04 - mae: 0.0036Restoring model weights from the end of the best epoch: 113.\n",
      "3742/3742 [==============================] - 17s 5ms/step - loss: 2.2086e-04 - mae: 0.0036 - val_loss: 2.2392e-04 - val_mae: 0.0039\n",
      "Epoch 118: early stopping\n"
     ]
    },
    {
     "name": "stderr",
     "output_type": "stream",
     "text": [
      "C:\\Users\\erikm\\Desktop\\Diplomarbeit Erik Marr\\Projekt X\\venv\\Lib\\site-packages\\keras\\src\\engine\\training.py:3103: UserWarning: You are saving your model as an HDF5 file via `model.save()`. This file format is considered legacy. We recommend using instead the native Keras format, e.g. `model.save('my_model.keras')`.\n",
      "  saving_api.save_model(\n"
     ]
    }
   ],
   "source": [
    "# Netzwerkarchitektur\n",
    "model = Sequential([\n",
    "\n",
    "    Dense(168, activation='relu', input_shape=(5,), kernel_initializer='he_uniform', kernel_regularizer=l2(0.00001)),\n",
    "\n",
    "    Dense(56, activation='relu', kernel_initializer='he_uniform', kernel_regularizer=l2(0.00001)),\n",
    "    \n",
    "    Dense(184, activation='relu', kernel_initializer='he_uniform', kernel_regularizer=l2(0.00001)),\n",
    "    \n",
    "    Dense(88, activation='relu', kernel_initializer='he_uniform', kernel_regularizer=l2(0.00001)),\n",
    "    \n",
    "    Dense(152, activation='relu', kernel_initializer='he_uniform', kernel_regularizer=l2(0.00001)),\n",
    "    \n",
    "    Dense(40, activation='relu', kernel_initializer='he_uniform', kernel_regularizer=l2(0.00001)),\n",
    "    \n",
    "    Dense(296, activation='relu', kernel_initializer='he_uniform', kernel_regularizer=l2(0.00001)),\n",
    "    \n",
    "    Dense(136, activation='relu', kernel_initializer='he_uniform', kernel_regularizer=l2(0.00001)),\n",
    "    \n",
    "    Dense(264, activation='relu', kernel_initializer='he_uniform', kernel_regularizer=l2(0.00001)),\n",
    "    \n",
    "    Dense(296, activation='relu', kernel_initializer='he_uniform', kernel_regularizer=l2(0.00001)),\n",
    "    \n",
    "    Dense(40, activation='relu', kernel_initializer='he_uniform', kernel_regularizer=l2(0.00001)),\n",
    "    \n",
    "    Dense(1 , activation = 'linear')\n",
    "])\n",
    "\n",
    "# Optimierer\n",
    "optimizer = tf.keras.optimizers.Adam(learning_rate=0.0001)\n",
    "\n",
    "# Modell kompilieren (Verwendung von mean_squared_error als Verlustfunktion für Regression)\n",
    "model.compile(optimizer=optimizer,\n",
    "              loss='mean_squared_error',\n",
    "              metrics=['mae'])  # Metriken für Regression: Mean Absolute Error und Mean Squared Error\n",
    "\n",
    "# Early Stopping Callback\n",
    "early_stopping = EarlyStopping(monitor='val_loss', patience=5, verbose=1, mode='min', restore_best_weights=True)\n",
    "\n",
    "# Trainingsparameter\n",
    "batch_size = 200 \n",
    "epochs = 500\n",
    "\n",
    "# Modell trainieren (Annahme: X_train, y_train, X_val, y_val sind vordefiniert)\n",
    "history = model.fit(X_train_scaled, y_train_scaled,\n",
    "                    batch_size=batch_size,\n",
    "                    epochs=epochs,\n",
    "                    validation_split=0.2,\n",
    "                    callbacks=[early_stopping])\n",
    "\n",
    "model.save('D3_t_21_I_F_2.h5')"
   ],
   "metadata": {
    "collapsed": false,
    "ExecuteTime": {
     "end_time": "2024-04-02T18:17:54.820629200Z",
     "start_time": "2024-04-02T17:36:37.118744Z"
    }
   },
   "id": "8b52e1a9a6ff3aeb"
  },
  {
   "cell_type": "code",
   "execution_count": 15,
   "outputs": [
    {
     "name": "stdout",
     "output_type": "stream",
     "text": [
      "Training für Fold 1...\n",
      "Epoch 1/1000\n",
      "3742/3742 [==============================] - 22s 5ms/step - loss: 0.0272 - mae: 0.0238 - val_loss: 0.0199 - val_mae: 0.0115\n",
      "Epoch 2/1000\n",
      "3742/3742 [==============================] - 20s 5ms/step - loss: 0.0173 - mae: 0.0088 - val_loss: 0.0150 - val_mae: 0.0083\n",
      "Epoch 3/1000\n",
      "3742/3742 [==============================] - 21s 5ms/step - loss: 0.0130 - mae: 0.0072 - val_loss: 0.0113 - val_mae: 0.0066\n",
      "Epoch 4/1000\n",
      "3742/3742 [==============================] - 21s 6ms/step - loss: 0.0099 - mae: 0.0064 - val_loss: 0.0086 - val_mae: 0.0062\n",
      "Epoch 5/1000\n",
      "3742/3742 [==============================] - 21s 5ms/step - loss: 0.0076 - mae: 0.0059 - val_loss: 0.0067 - val_mae: 0.0053\n",
      "Epoch 6/1000\n",
      "3742/3742 [==============================] - 21s 5ms/step - loss: 0.0059 - mae: 0.0055 - val_loss: 0.0052 - val_mae: 0.0052\n",
      "Epoch 7/1000\n",
      "3742/3742 [==============================] - 20s 5ms/step - loss: 0.0047 - mae: 0.0053 - val_loss: 0.0041 - val_mae: 0.0053\n",
      "Epoch 8/1000\n",
      "3742/3742 [==============================] - 20s 5ms/step - loss: 0.0037 - mae: 0.0051 - val_loss: 0.0034 - val_mae: 0.0052\n",
      "Epoch 9/1000\n",
      "3742/3742 [==============================] - 20s 5ms/step - loss: 0.0030 - mae: 0.0050 - val_loss: 0.0028 - val_mae: 0.0065\n",
      "Epoch 10/1000\n",
      "3742/3742 [==============================] - 20s 5ms/step - loss: 0.0025 - mae: 0.0048 - val_loss: 0.0024 - val_mae: 0.0075\n",
      "Epoch 11/1000\n",
      "3742/3742 [==============================] - 20s 5ms/step - loss: 0.0022 - mae: 0.0047 - val_loss: 0.0020 - val_mae: 0.0042\n",
      "Epoch 12/1000\n",
      "3742/3742 [==============================] - 20s 5ms/step - loss: 0.0018 - mae: 0.0046 - val_loss: 0.0017 - val_mae: 0.0036\n",
      "Epoch 13/1000\n",
      "3742/3742 [==============================] - 20s 5ms/step - loss: 0.0016 - mae: 0.0045 - val_loss: 0.0015 - val_mae: 0.0046\n",
      "Epoch 14/1000\n",
      "3742/3742 [==============================] - 21s 5ms/step - loss: 0.0014 - mae: 0.0045 - val_loss: 0.0013 - val_mae: 0.0038\n",
      "Epoch 15/1000\n",
      "3742/3742 [==============================] - 20s 5ms/step - loss: 0.0013 - mae: 0.0045 - val_loss: 0.0012 - val_mae: 0.0037\n",
      "Epoch 16/1000\n",
      "3742/3742 [==============================] - 20s 5ms/step - loss: 0.0012 - mae: 0.0044 - val_loss: 0.0011 - val_mae: 0.0042\n",
      "Epoch 17/1000\n",
      "3742/3742 [==============================] - 20s 5ms/step - loss: 0.0011 - mae: 0.0044 - val_loss: 0.0010 - val_mae: 0.0058\n",
      "Epoch 18/1000\n",
      "3742/3742 [==============================] - 20s 5ms/step - loss: 9.6728e-04 - mae: 0.0043 - val_loss: 9.5266e-04 - val_mae: 0.0060\n",
      "Epoch 19/1000\n",
      "3742/3742 [==============================] - 21s 6ms/step - loss: 8.9365e-04 - mae: 0.0043 - val_loss: 8.9431e-04 - val_mae: 0.0066\n",
      "Epoch 20/1000\n",
      "3742/3742 [==============================] - 21s 6ms/step - loss: 8.2971e-04 - mae: 0.0043 - val_loss: 7.9402e-04 - val_mae: 0.0037\n",
      "Epoch 21/1000\n",
      "3742/3742 [==============================] - 21s 6ms/step - loss: 7.7434e-04 - mae: 0.0043 - val_loss: 7.4539e-04 - val_mae: 0.0041\n",
      "Epoch 22/1000\n",
      "3742/3742 [==============================] - 21s 6ms/step - loss: 7.2605e-04 - mae: 0.0043 - val_loss: 7.1211e-04 - val_mae: 0.0049\n",
      "Epoch 23/1000\n",
      "3742/3742 [==============================] - 21s 6ms/step - loss: 6.8412e-04 - mae: 0.0043 - val_loss: 6.6882e-04 - val_mae: 0.0045\n",
      "Epoch 24/1000\n",
      "3742/3742 [==============================] - 20s 5ms/step - loss: 6.4606e-04 - mae: 0.0042 - val_loss: 6.3056e-04 - val_mae: 0.0045\n",
      "Epoch 25/1000\n",
      "3742/3742 [==============================] - 21s 6ms/step - loss: 6.1215e-04 - mae: 0.0042 - val_loss: 5.8909e-04 - val_mae: 0.0035\n",
      "Epoch 26/1000\n",
      "3742/3742 [==============================] - 20s 5ms/step - loss: 5.8160e-04 - mae: 0.0042 - val_loss: 5.6048e-04 - val_mae: 0.0036\n",
      "Epoch 27/1000\n",
      "3742/3742 [==============================] - 20s 5ms/step - loss: 5.5409e-04 - mae: 0.0042 - val_loss: 5.4138e-04 - val_mae: 0.0043\n",
      "Epoch 28/1000\n",
      "3742/3742 [==============================] - 20s 5ms/step - loss: 5.2883e-04 - mae: 0.0041 - val_loss: 5.1039e-04 - val_mae: 0.0035\n",
      "Epoch 29/1000\n",
      "3742/3742 [==============================] - 21s 5ms/step - loss: 5.0569e-04 - mae: 0.0041 - val_loss: 5.0435e-04 - val_mae: 0.0051\n",
      "Epoch 30/1000\n",
      "3742/3742 [==============================] - 21s 6ms/step - loss: 4.8535e-04 - mae: 0.0041 - val_loss: 4.6834e-04 - val_mae: 0.0034\n",
      "Epoch 31/1000\n",
      "3742/3742 [==============================] - 20s 5ms/step - loss: 4.6638e-04 - mae: 0.0041 - val_loss: 4.6168e-04 - val_mae: 0.0045\n",
      "Epoch 32/1000\n",
      "3742/3742 [==============================] - 21s 6ms/step - loss: 4.5012e-04 - mae: 0.0041 - val_loss: 4.3698e-04 - val_mae: 0.0036\n",
      "Epoch 33/1000\n",
      "3742/3742 [==============================] - 20s 5ms/step - loss: 4.3528e-04 - mae: 0.0041 - val_loss: 4.2253e-04 - val_mae: 0.0035\n",
      "Epoch 34/1000\n",
      "3742/3742 [==============================] - 21s 6ms/step - loss: 4.2079e-04 - mae: 0.0040 - val_loss: 4.2074e-04 - val_mae: 0.0046\n",
      "Epoch 35/1000\n",
      "3742/3742 [==============================] - 20s 5ms/step - loss: 4.0863e-04 - mae: 0.0040 - val_loss: 3.9650e-04 - val_mae: 0.0033\n",
      "Epoch 36/1000\n",
      "3742/3742 [==============================] - 20s 5ms/step - loss: 3.9715e-04 - mae: 0.0040 - val_loss: 4.0531e-04 - val_mae: 0.0052\n",
      "Epoch 37/1000\n",
      "3742/3742 [==============================] - 21s 6ms/step - loss: 3.8667e-04 - mae: 0.0040 - val_loss: 3.8576e-04 - val_mae: 0.0043\n",
      "Epoch 38/1000\n",
      "3742/3742 [==============================] - 20s 5ms/step - loss: 3.7698e-04 - mae: 0.0039 - val_loss: 3.7715e-04 - val_mae: 0.0041\n",
      "Epoch 39/1000\n",
      "3742/3742 [==============================] - 20s 5ms/step - loss: 3.6770e-04 - mae: 0.0039 - val_loss: 3.6116e-04 - val_mae: 0.0037\n",
      "Epoch 40/1000\n",
      "3742/3742 [==============================] - 20s 5ms/step - loss: 3.5949e-04 - mae: 0.0039 - val_loss: 3.5473e-04 - val_mae: 0.0038\n",
      "Epoch 41/1000\n",
      "3742/3742 [==============================] - 21s 6ms/step - loss: 3.5226e-04 - mae: 0.0039 - val_loss: 3.4228e-04 - val_mae: 0.0033\n",
      "Epoch 42/1000\n",
      "3742/3742 [==============================] - 20s 5ms/step - loss: 3.4504e-04 - mae: 0.0039 - val_loss: 3.3654e-04 - val_mae: 0.0034\n",
      "Epoch 43/1000\n",
      "3742/3742 [==============================] - 21s 6ms/step - loss: 3.3835e-04 - mae: 0.0038 - val_loss: 3.2907e-04 - val_mae: 0.0032\n",
      "Epoch 44/1000\n",
      "3742/3742 [==============================] - 21s 6ms/step - loss: 3.3306e-04 - mae: 0.0039 - val_loss: 3.2181e-04 - val_mae: 0.0030\n",
      "Epoch 45/1000\n",
      "3742/3742 [==============================] - 21s 5ms/step - loss: 3.2736e-04 - mae: 0.0039 - val_loss: 3.1821e-04 - val_mae: 0.0032\n",
      "Epoch 46/1000\n",
      "3742/3742 [==============================] - 20s 5ms/step - loss: 3.2223e-04 - mae: 0.0039 - val_loss: 3.1314e-04 - val_mae: 0.0032\n",
      "Epoch 47/1000\n",
      "3742/3742 [==============================] - 21s 6ms/step - loss: 3.1657e-04 - mae: 0.0038 - val_loss: 3.0878e-04 - val_mae: 0.0033\n",
      "Epoch 48/1000\n",
      "3742/3742 [==============================] - 21s 6ms/step - loss: 3.1253e-04 - mae: 0.0038 - val_loss: 3.0524e-04 - val_mae: 0.0033\n",
      "Epoch 49/1000\n",
      "3742/3742 [==============================] - 21s 6ms/step - loss: 3.0863e-04 - mae: 0.0039 - val_loss: 2.9942e-04 - val_mae: 0.0031\n",
      "Epoch 50/1000\n",
      "3742/3742 [==============================] - 21s 6ms/step - loss: 3.0423e-04 - mae: 0.0038 - val_loss: 3.0281e-04 - val_mae: 0.0037\n",
      "Epoch 51/1000\n",
      "3742/3742 [==============================] - 21s 6ms/step - loss: 3.0045e-04 - mae: 0.0038 - val_loss: 2.9356e-04 - val_mae: 0.0033\n",
      "Epoch 52/1000\n",
      "3742/3742 [==============================] - 21s 6ms/step - loss: 2.9700e-04 - mae: 0.0038 - val_loss: 2.9162e-04 - val_mae: 0.0035\n",
      "Epoch 53/1000\n",
      "3742/3742 [==============================] - 21s 5ms/step - loss: 2.9344e-04 - mae: 0.0038 - val_loss: 2.8692e-04 - val_mae: 0.0033\n",
      "Epoch 54/1000\n",
      "3742/3742 [==============================] - 21s 6ms/step - loss: 2.9099e-04 - mae: 0.0038 - val_loss: 2.8609e-04 - val_mae: 0.0036\n",
      "Epoch 55/1000\n",
      "3742/3742 [==============================] - 21s 6ms/step - loss: 2.8741e-04 - mae: 0.0038 - val_loss: 2.7908e-04 - val_mae: 0.0031\n",
      "Epoch 56/1000\n",
      "3742/3742 [==============================] - 21s 6ms/step - loss: 2.8471e-04 - mae: 0.0038 - val_loss: 2.9129e-04 - val_mae: 0.0047\n",
      "Epoch 57/1000\n",
      "3742/3742 [==============================] - 21s 6ms/step - loss: 2.8141e-04 - mae: 0.0037 - val_loss: 2.8121e-04 - val_mae: 0.0039\n",
      "Epoch 58/1000\n",
      "3742/3742 [==============================] - 21s 6ms/step - loss: 2.7964e-04 - mae: 0.0038 - val_loss: 2.9366e-04 - val_mae: 0.0050\n",
      "Epoch 59/1000\n",
      "3742/3742 [==============================] - 21s 6ms/step - loss: 2.7683e-04 - mae: 0.0038 - val_loss: 2.7516e-04 - val_mae: 0.0038\n",
      "Epoch 60/1000\n",
      "3742/3742 [==============================] - 21s 6ms/step - loss: 2.7444e-04 - mae: 0.0038 - val_loss: 2.6936e-04 - val_mae: 0.0034\n",
      "Epoch 61/1000\n",
      "3742/3742 [==============================] - 20s 5ms/step - loss: 2.7278e-04 - mae: 0.0038 - val_loss: 2.6453e-04 - val_mae: 0.0031\n",
      "Epoch 62/1000\n",
      "3742/3742 [==============================] - 20s 5ms/step - loss: 2.6946e-04 - mae: 0.0037 - val_loss: 2.7027e-04 - val_mae: 0.0039\n",
      "Epoch 63/1000\n",
      "3742/3742 [==============================] - 21s 6ms/step - loss: 2.6848e-04 - mae: 0.0038 - val_loss: 2.6255e-04 - val_mae: 0.0032\n",
      "Epoch 64/1000\n",
      "3742/3742 [==============================] - 21s 6ms/step - loss: 2.6601e-04 - mae: 0.0037 - val_loss: 3.2966e-04 - val_mae: 0.0086\n",
      "Epoch 65/1000\n",
      "3742/3742 [==============================] - 21s 6ms/step - loss: 2.6445e-04 - mae: 0.0038 - val_loss: 2.6067e-04 - val_mae: 0.0034\n",
      "Epoch 66/1000\n",
      "3742/3742 [==============================] - 21s 6ms/step - loss: 2.6270e-04 - mae: 0.0038 - val_loss: 2.6329e-04 - val_mae: 0.0040\n",
      "Epoch 67/1000\n",
      "3742/3742 [==============================] - 21s 6ms/step - loss: 2.6090e-04 - mae: 0.0038 - val_loss: 2.8486e-04 - val_mae: 0.0060\n",
      "Epoch 68/1000\n",
      "3742/3742 [==============================] - 21s 6ms/step - loss: 2.5860e-04 - mae: 0.0037 - val_loss: 2.5543e-04 - val_mae: 0.0035\n",
      "Epoch 69/1000\n",
      "3742/3742 [==============================] - 21s 6ms/step - loss: 2.5753e-04 - mae: 0.0037 - val_loss: 2.6190e-04 - val_mae: 0.0043\n",
      "Epoch 70/1000\n",
      "3742/3742 [==============================] - 21s 6ms/step - loss: 2.5638e-04 - mae: 0.0037 - val_loss: 2.5031e-04 - val_mae: 0.0031\n",
      "Epoch 71/1000\n",
      "3742/3742 [==============================] - 21s 5ms/step - loss: 2.5476e-04 - mae: 0.0037 - val_loss: 2.5080e-04 - val_mae: 0.0034\n",
      "Epoch 72/1000\n",
      "3742/3742 [==============================] - 21s 6ms/step - loss: 2.5338e-04 - mae: 0.0037 - val_loss: 2.7393e-04 - val_mae: 0.0057\n",
      "Epoch 73/1000\n",
      "3742/3742 [==============================] - 21s 6ms/step - loss: 2.5161e-04 - mae: 0.0037 - val_loss: 2.5551e-04 - val_mae: 0.0042\n",
      "Epoch 74/1000\n",
      "3742/3742 [==============================] - 21s 6ms/step - loss: 2.5088e-04 - mae: 0.0038 - val_loss: 2.4761e-04 - val_mae: 0.0033\n",
      "Epoch 75/1000\n",
      "3742/3742 [==============================] - 21s 6ms/step - loss: 2.4988e-04 - mae: 0.0038 - val_loss: 2.4321e-04 - val_mae: 0.0031\n",
      "Epoch 76/1000\n",
      "3742/3742 [==============================] - 22s 6ms/step - loss: 2.4749e-04 - mae: 0.0037 - val_loss: 2.4633e-04 - val_mae: 0.0036\n",
      "Epoch 77/1000\n",
      "3742/3742 [==============================] - 22s 6ms/step - loss: 2.4687e-04 - mae: 0.0037 - val_loss: 2.4467e-04 - val_mae: 0.0035\n",
      "Epoch 78/1000\n",
      "3742/3742 [==============================] - 21s 6ms/step - loss: 2.4535e-04 - mae: 0.0037 - val_loss: 2.3835e-04 - val_mae: 0.0030\n",
      "Epoch 79/1000\n",
      "3742/3742 [==============================] - 21s 6ms/step - loss: 2.4397e-04 - mae: 0.0037 - val_loss: 2.4544e-04 - val_mae: 0.0039\n",
      "Epoch 80/1000\n",
      "3742/3742 [==============================] - 21s 6ms/step - loss: 2.4324e-04 - mae: 0.0037 - val_loss: 2.7381e-04 - val_mae: 0.0065\n",
      "Epoch 81/1000\n",
      "3742/3742 [==============================] - 21s 6ms/step - loss: 2.4155e-04 - mae: 0.0037 - val_loss: 2.3615e-04 - val_mae: 0.0032\n",
      "Epoch 82/1000\n",
      "3742/3742 [==============================] - 21s 6ms/step - loss: 2.4066e-04 - mae: 0.0037 - val_loss: 2.3609e-04 - val_mae: 0.0033\n",
      "Epoch 83/1000\n",
      "3742/3742 [==============================] - 21s 6ms/step - loss: 2.3963e-04 - mae: 0.0037 - val_loss: 2.4099e-04 - val_mae: 0.0038\n",
      "Epoch 84/1000\n",
      "3742/3742 [==============================] - 21s 6ms/step - loss: 2.3880e-04 - mae: 0.0037 - val_loss: 2.7932e-04 - val_mae: 0.0066\n",
      "Epoch 85/1000\n",
      "3742/3742 [==============================] - 21s 6ms/step - loss: 2.3752e-04 - mae: 0.0037 - val_loss: 2.4357e-04 - val_mae: 0.0045\n",
      "Epoch 86/1000\n",
      "3742/3742 [==============================] - 21s 6ms/step - loss: 2.3652e-04 - mae: 0.0037 - val_loss: 2.3297e-04 - val_mae: 0.0033\n",
      "Epoch 87/1000\n",
      "3742/3742 [==============================] - 21s 5ms/step - loss: 2.3568e-04 - mae: 0.0036 - val_loss: 2.3668e-04 - val_mae: 0.0039\n",
      "Epoch 88/1000\n",
      "3742/3742 [==============================] - 21s 6ms/step - loss: 2.3508e-04 - mae: 0.0037 - val_loss: 2.3604e-04 - val_mae: 0.0038\n",
      "Epoch 89/1000\n",
      "3742/3742 [==============================] - 21s 6ms/step - loss: 2.3386e-04 - mae: 0.0036 - val_loss: 2.2693e-04 - val_mae: 0.0029\n",
      "Epoch 90/1000\n",
      "3742/3742 [==============================] - 19s 5ms/step - loss: 2.3357e-04 - mae: 0.0036 - val_loss: 2.2980e-04 - val_mae: 0.0033\n",
      "Epoch 91/1000\n",
      "3742/3742 [==============================] - 18s 5ms/step - loss: 2.3249e-04 - mae: 0.0036 - val_loss: 2.2955e-04 - val_mae: 0.0034\n",
      "Epoch 92/1000\n",
      "3742/3742 [==============================] - 20s 5ms/step - loss: 2.3178e-04 - mae: 0.0036 - val_loss: 2.2663e-04 - val_mae: 0.0031\n",
      "Epoch 93/1000\n",
      "3742/3742 [==============================] - 19s 5ms/step - loss: 2.3082e-04 - mae: 0.0036 - val_loss: 2.2608e-04 - val_mae: 0.0032\n",
      "Epoch 94/1000\n",
      "3742/3742 [==============================] - 21s 6ms/step - loss: 2.3036e-04 - mae: 0.0036 - val_loss: 2.3503e-04 - val_mae: 0.0039\n",
      "Epoch 95/1000\n",
      "3742/3742 [==============================] - 19s 5ms/step - loss: 2.2933e-04 - mae: 0.0036 - val_loss: 2.2512e-04 - val_mae: 0.0032\n",
      "Epoch 96/1000\n",
      "1566/3742 [===========>..................] - ETA: 9s - loss: 2.3139e-04 - mae: 0.0037"
     ]
    },
    {
     "ename": "KeyboardInterrupt",
     "evalue": "",
     "output_type": "error",
     "traceback": [
      "\u001B[1;31m---------------------------------------------------------------------------\u001B[0m",
      "\u001B[1;31mKeyboardInterrupt\u001B[0m                         Traceback (most recent call last)",
      "Cell \u001B[1;32mIn[15], line 52\u001B[0m\n\u001B[0;32m     49\u001B[0m early_stopping \u001B[38;5;241m=\u001B[39m EarlyStopping(monitor\u001B[38;5;241m=\u001B[39m\u001B[38;5;124m'\u001B[39m\u001B[38;5;124mval_loss\u001B[39m\u001B[38;5;124m'\u001B[39m, patience\u001B[38;5;241m=\u001B[39m\u001B[38;5;241m5\u001B[39m, verbose\u001B[38;5;241m=\u001B[39m\u001B[38;5;241m1\u001B[39m, mode\u001B[38;5;241m=\u001B[39m\u001B[38;5;124m'\u001B[39m\u001B[38;5;124mmin\u001B[39m\u001B[38;5;124m'\u001B[39m, restore_best_weights\u001B[38;5;241m=\u001B[39m\u001B[38;5;28;01mTrue\u001B[39;00m)\n\u001B[0;32m     51\u001B[0m \u001B[38;5;28mprint\u001B[39m(\u001B[38;5;124mf\u001B[39m\u001B[38;5;124m'\u001B[39m\u001B[38;5;124mTraining für Fold \u001B[39m\u001B[38;5;132;01m{\u001B[39;00mfold_no\u001B[38;5;132;01m}\u001B[39;00m\u001B[38;5;124m...\u001B[39m\u001B[38;5;124m'\u001B[39m)\n\u001B[1;32m---> 52\u001B[0m history \u001B[38;5;241m=\u001B[39m \u001B[43mmodel\u001B[49m\u001B[38;5;241;43m.\u001B[39;49m\u001B[43mfit\u001B[49m\u001B[43m(\u001B[49m\u001B[43mX_train_fold\u001B[49m\u001B[43m,\u001B[49m\u001B[43m \u001B[49m\u001B[43my_train_fold\u001B[49m\u001B[43m,\u001B[49m\u001B[43m \u001B[49m\u001B[43mbatch_size\u001B[49m\u001B[38;5;241;43m=\u001B[39;49m\u001B[38;5;241;43m200\u001B[39;49m\u001B[43m,\u001B[49m\u001B[43m \u001B[49m\u001B[43mepochs\u001B[49m\u001B[38;5;241;43m=\u001B[39;49m\u001B[38;5;241;43m1000\u001B[39;49m\u001B[43m,\u001B[49m\u001B[43m \u001B[49m\u001B[43mvalidation_data\u001B[49m\u001B[38;5;241;43m=\u001B[39;49m\u001B[43m(\u001B[49m\u001B[43mX_val_fold\u001B[49m\u001B[43m,\u001B[49m\u001B[43m \u001B[49m\u001B[43my_val_fold\u001B[49m\u001B[43m)\u001B[49m\u001B[43m,\u001B[49m\u001B[43m \u001B[49m\u001B[43mcallbacks\u001B[49m\u001B[38;5;241;43m=\u001B[39;49m\u001B[43m[\u001B[49m\u001B[43mearly_stopping\u001B[49m\u001B[43m]\u001B[49m\u001B[43m,\u001B[49m\u001B[43m \u001B[49m\u001B[43mverbose\u001B[49m\u001B[38;5;241;43m=\u001B[39;49m\u001B[38;5;241;43m1\u001B[39;49m\u001B[43m)\u001B[49m\n\u001B[0;32m     54\u001B[0m \u001B[38;5;66;03m# Speichere die Ergebnisse des aktuellen Folds\u001B[39;00m\n\u001B[0;32m     55\u001B[0m val_loss_results\u001B[38;5;241m.\u001B[39mappend(\u001B[38;5;28mmin\u001B[39m(history\u001B[38;5;241m.\u001B[39mhistory[\u001B[38;5;124m'\u001B[39m\u001B[38;5;124mval_loss\u001B[39m\u001B[38;5;124m'\u001B[39m]))\n",
      "File \u001B[1;32m~\\Desktop\\Diplomarbeit Erik Marr\\Projekt X\\venv\\Lib\\site-packages\\keras\\src\\utils\\traceback_utils.py:65\u001B[0m, in \u001B[0;36mfilter_traceback.<locals>.error_handler\u001B[1;34m(*args, **kwargs)\u001B[0m\n\u001B[0;32m     63\u001B[0m filtered_tb \u001B[38;5;241m=\u001B[39m \u001B[38;5;28;01mNone\u001B[39;00m\n\u001B[0;32m     64\u001B[0m \u001B[38;5;28;01mtry\u001B[39;00m:\n\u001B[1;32m---> 65\u001B[0m     \u001B[38;5;28;01mreturn\u001B[39;00m \u001B[43mfn\u001B[49m\u001B[43m(\u001B[49m\u001B[38;5;241;43m*\u001B[39;49m\u001B[43margs\u001B[49m\u001B[43m,\u001B[49m\u001B[43m \u001B[49m\u001B[38;5;241;43m*\u001B[39;49m\u001B[38;5;241;43m*\u001B[39;49m\u001B[43mkwargs\u001B[49m\u001B[43m)\u001B[49m\n\u001B[0;32m     66\u001B[0m \u001B[38;5;28;01mexcept\u001B[39;00m \u001B[38;5;167;01mException\u001B[39;00m \u001B[38;5;28;01mas\u001B[39;00m e:\n\u001B[0;32m     67\u001B[0m     filtered_tb \u001B[38;5;241m=\u001B[39m _process_traceback_frames(e\u001B[38;5;241m.\u001B[39m__traceback__)\n",
      "File \u001B[1;32m~\\Desktop\\Diplomarbeit Erik Marr\\Projekt X\\venv\\Lib\\site-packages\\keras\\src\\engine\\training.py:1807\u001B[0m, in \u001B[0;36mModel.fit\u001B[1;34m(self, x, y, batch_size, epochs, verbose, callbacks, validation_split, validation_data, shuffle, class_weight, sample_weight, initial_epoch, steps_per_epoch, validation_steps, validation_batch_size, validation_freq, max_queue_size, workers, use_multiprocessing)\u001B[0m\n\u001B[0;32m   1799\u001B[0m \u001B[38;5;28;01mwith\u001B[39;00m tf\u001B[38;5;241m.\u001B[39mprofiler\u001B[38;5;241m.\u001B[39mexperimental\u001B[38;5;241m.\u001B[39mTrace(\n\u001B[0;32m   1800\u001B[0m     \u001B[38;5;124m\"\u001B[39m\u001B[38;5;124mtrain\u001B[39m\u001B[38;5;124m\"\u001B[39m,\n\u001B[0;32m   1801\u001B[0m     epoch_num\u001B[38;5;241m=\u001B[39mepoch,\n\u001B[1;32m   (...)\u001B[0m\n\u001B[0;32m   1804\u001B[0m     _r\u001B[38;5;241m=\u001B[39m\u001B[38;5;241m1\u001B[39m,\n\u001B[0;32m   1805\u001B[0m ):\n\u001B[0;32m   1806\u001B[0m     callbacks\u001B[38;5;241m.\u001B[39mon_train_batch_begin(step)\n\u001B[1;32m-> 1807\u001B[0m     tmp_logs \u001B[38;5;241m=\u001B[39m \u001B[38;5;28;43mself\u001B[39;49m\u001B[38;5;241;43m.\u001B[39;49m\u001B[43mtrain_function\u001B[49m\u001B[43m(\u001B[49m\u001B[43miterator\u001B[49m\u001B[43m)\u001B[49m\n\u001B[0;32m   1808\u001B[0m     \u001B[38;5;28;01mif\u001B[39;00m data_handler\u001B[38;5;241m.\u001B[39mshould_sync:\n\u001B[0;32m   1809\u001B[0m         context\u001B[38;5;241m.\u001B[39masync_wait()\n",
      "File \u001B[1;32m~\\Desktop\\Diplomarbeit Erik Marr\\Projekt X\\venv\\Lib\\site-packages\\tensorflow\\python\\util\\traceback_utils.py:150\u001B[0m, in \u001B[0;36mfilter_traceback.<locals>.error_handler\u001B[1;34m(*args, **kwargs)\u001B[0m\n\u001B[0;32m    148\u001B[0m filtered_tb \u001B[38;5;241m=\u001B[39m \u001B[38;5;28;01mNone\u001B[39;00m\n\u001B[0;32m    149\u001B[0m \u001B[38;5;28;01mtry\u001B[39;00m:\n\u001B[1;32m--> 150\u001B[0m   \u001B[38;5;28;01mreturn\u001B[39;00m \u001B[43mfn\u001B[49m\u001B[43m(\u001B[49m\u001B[38;5;241;43m*\u001B[39;49m\u001B[43margs\u001B[49m\u001B[43m,\u001B[49m\u001B[43m \u001B[49m\u001B[38;5;241;43m*\u001B[39;49m\u001B[38;5;241;43m*\u001B[39;49m\u001B[43mkwargs\u001B[49m\u001B[43m)\u001B[49m\n\u001B[0;32m    151\u001B[0m \u001B[38;5;28;01mexcept\u001B[39;00m \u001B[38;5;167;01mException\u001B[39;00m \u001B[38;5;28;01mas\u001B[39;00m e:\n\u001B[0;32m    152\u001B[0m   filtered_tb \u001B[38;5;241m=\u001B[39m _process_traceback_frames(e\u001B[38;5;241m.\u001B[39m__traceback__)\n",
      "File \u001B[1;32m~\\Desktop\\Diplomarbeit Erik Marr\\Projekt X\\venv\\Lib\\site-packages\\tensorflow\\python\\eager\\polymorphic_function\\polymorphic_function.py:832\u001B[0m, in \u001B[0;36mFunction.__call__\u001B[1;34m(self, *args, **kwds)\u001B[0m\n\u001B[0;32m    829\u001B[0m compiler \u001B[38;5;241m=\u001B[39m \u001B[38;5;124m\"\u001B[39m\u001B[38;5;124mxla\u001B[39m\u001B[38;5;124m\"\u001B[39m \u001B[38;5;28;01mif\u001B[39;00m \u001B[38;5;28mself\u001B[39m\u001B[38;5;241m.\u001B[39m_jit_compile \u001B[38;5;28;01melse\u001B[39;00m \u001B[38;5;124m\"\u001B[39m\u001B[38;5;124mnonXla\u001B[39m\u001B[38;5;124m\"\u001B[39m\n\u001B[0;32m    831\u001B[0m \u001B[38;5;28;01mwith\u001B[39;00m OptionalXlaContext(\u001B[38;5;28mself\u001B[39m\u001B[38;5;241m.\u001B[39m_jit_compile):\n\u001B[1;32m--> 832\u001B[0m   result \u001B[38;5;241m=\u001B[39m \u001B[38;5;28;43mself\u001B[39;49m\u001B[38;5;241;43m.\u001B[39;49m\u001B[43m_call\u001B[49m\u001B[43m(\u001B[49m\u001B[38;5;241;43m*\u001B[39;49m\u001B[43margs\u001B[49m\u001B[43m,\u001B[49m\u001B[43m \u001B[49m\u001B[38;5;241;43m*\u001B[39;49m\u001B[38;5;241;43m*\u001B[39;49m\u001B[43mkwds\u001B[49m\u001B[43m)\u001B[49m\n\u001B[0;32m    834\u001B[0m new_tracing_count \u001B[38;5;241m=\u001B[39m \u001B[38;5;28mself\u001B[39m\u001B[38;5;241m.\u001B[39mexperimental_get_tracing_count()\n\u001B[0;32m    835\u001B[0m without_tracing \u001B[38;5;241m=\u001B[39m (tracing_count \u001B[38;5;241m==\u001B[39m new_tracing_count)\n",
      "File \u001B[1;32m~\\Desktop\\Diplomarbeit Erik Marr\\Projekt X\\venv\\Lib\\site-packages\\tensorflow\\python\\eager\\polymorphic_function\\polymorphic_function.py:868\u001B[0m, in \u001B[0;36mFunction._call\u001B[1;34m(self, *args, **kwds)\u001B[0m\n\u001B[0;32m    865\u001B[0m   \u001B[38;5;28mself\u001B[39m\u001B[38;5;241m.\u001B[39m_lock\u001B[38;5;241m.\u001B[39mrelease()\n\u001B[0;32m    866\u001B[0m   \u001B[38;5;66;03m# In this case we have created variables on the first call, so we run the\u001B[39;00m\n\u001B[0;32m    867\u001B[0m   \u001B[38;5;66;03m# defunned version which is guaranteed to never create variables.\u001B[39;00m\n\u001B[1;32m--> 868\u001B[0m   \u001B[38;5;28;01mreturn\u001B[39;00m \u001B[43mtracing_compilation\u001B[49m\u001B[38;5;241;43m.\u001B[39;49m\u001B[43mcall_function\u001B[49m\u001B[43m(\u001B[49m\n\u001B[0;32m    869\u001B[0m \u001B[43m      \u001B[49m\u001B[43margs\u001B[49m\u001B[43m,\u001B[49m\u001B[43m \u001B[49m\u001B[43mkwds\u001B[49m\u001B[43m,\u001B[49m\u001B[43m \u001B[49m\u001B[38;5;28;43mself\u001B[39;49m\u001B[38;5;241;43m.\u001B[39;49m\u001B[43m_no_variable_creation_config\u001B[49m\n\u001B[0;32m    870\u001B[0m \u001B[43m  \u001B[49m\u001B[43m)\u001B[49m\n\u001B[0;32m    871\u001B[0m \u001B[38;5;28;01melif\u001B[39;00m \u001B[38;5;28mself\u001B[39m\u001B[38;5;241m.\u001B[39m_variable_creation_config \u001B[38;5;129;01mis\u001B[39;00m \u001B[38;5;129;01mnot\u001B[39;00m \u001B[38;5;28;01mNone\u001B[39;00m:\n\u001B[0;32m    872\u001B[0m   \u001B[38;5;66;03m# Release the lock early so that multiple threads can perform the call\u001B[39;00m\n\u001B[0;32m    873\u001B[0m   \u001B[38;5;66;03m# in parallel.\u001B[39;00m\n\u001B[0;32m    874\u001B[0m   \u001B[38;5;28mself\u001B[39m\u001B[38;5;241m.\u001B[39m_lock\u001B[38;5;241m.\u001B[39mrelease()\n",
      "File \u001B[1;32m~\\Desktop\\Diplomarbeit Erik Marr\\Projekt X\\venv\\Lib\\site-packages\\tensorflow\\python\\eager\\polymorphic_function\\tracing_compilation.py:139\u001B[0m, in \u001B[0;36mcall_function\u001B[1;34m(args, kwargs, tracing_options)\u001B[0m\n\u001B[0;32m    137\u001B[0m bound_args \u001B[38;5;241m=\u001B[39m function\u001B[38;5;241m.\u001B[39mfunction_type\u001B[38;5;241m.\u001B[39mbind(\u001B[38;5;241m*\u001B[39margs, \u001B[38;5;241m*\u001B[39m\u001B[38;5;241m*\u001B[39mkwargs)\n\u001B[0;32m    138\u001B[0m flat_inputs \u001B[38;5;241m=\u001B[39m function\u001B[38;5;241m.\u001B[39mfunction_type\u001B[38;5;241m.\u001B[39munpack_inputs(bound_args)\n\u001B[1;32m--> 139\u001B[0m \u001B[38;5;28;01mreturn\u001B[39;00m \u001B[43mfunction\u001B[49m\u001B[38;5;241;43m.\u001B[39;49m\u001B[43m_call_flat\u001B[49m\u001B[43m(\u001B[49m\u001B[43m  \u001B[49m\u001B[38;5;66;43;03m# pylint: disable=protected-access\u001B[39;49;00m\n\u001B[0;32m    140\u001B[0m \u001B[43m    \u001B[49m\u001B[43mflat_inputs\u001B[49m\u001B[43m,\u001B[49m\u001B[43m \u001B[49m\u001B[43mcaptured_inputs\u001B[49m\u001B[38;5;241;43m=\u001B[39;49m\u001B[43mfunction\u001B[49m\u001B[38;5;241;43m.\u001B[39;49m\u001B[43mcaptured_inputs\u001B[49m\n\u001B[0;32m    141\u001B[0m \u001B[43m\u001B[49m\u001B[43m)\u001B[49m\n",
      "File \u001B[1;32m~\\Desktop\\Diplomarbeit Erik Marr\\Projekt X\\venv\\Lib\\site-packages\\tensorflow\\python\\eager\\polymorphic_function\\concrete_function.py:1323\u001B[0m, in \u001B[0;36mConcreteFunction._call_flat\u001B[1;34m(self, tensor_inputs, captured_inputs)\u001B[0m\n\u001B[0;32m   1319\u001B[0m possible_gradient_type \u001B[38;5;241m=\u001B[39m gradients_util\u001B[38;5;241m.\u001B[39mPossibleTapeGradientTypes(args)\n\u001B[0;32m   1320\u001B[0m \u001B[38;5;28;01mif\u001B[39;00m (possible_gradient_type \u001B[38;5;241m==\u001B[39m gradients_util\u001B[38;5;241m.\u001B[39mPOSSIBLE_GRADIENT_TYPES_NONE\n\u001B[0;32m   1321\u001B[0m     \u001B[38;5;129;01mand\u001B[39;00m executing_eagerly):\n\u001B[0;32m   1322\u001B[0m   \u001B[38;5;66;03m# No tape is watching; skip to running the function.\u001B[39;00m\n\u001B[1;32m-> 1323\u001B[0m   \u001B[38;5;28;01mreturn\u001B[39;00m \u001B[38;5;28;43mself\u001B[39;49m\u001B[38;5;241;43m.\u001B[39;49m\u001B[43m_inference_function\u001B[49m\u001B[38;5;241;43m.\u001B[39;49m\u001B[43mcall_preflattened\u001B[49m\u001B[43m(\u001B[49m\u001B[43margs\u001B[49m\u001B[43m)\u001B[49m\n\u001B[0;32m   1324\u001B[0m forward_backward \u001B[38;5;241m=\u001B[39m \u001B[38;5;28mself\u001B[39m\u001B[38;5;241m.\u001B[39m_select_forward_and_backward_functions(\n\u001B[0;32m   1325\u001B[0m     args,\n\u001B[0;32m   1326\u001B[0m     possible_gradient_type,\n\u001B[0;32m   1327\u001B[0m     executing_eagerly)\n\u001B[0;32m   1328\u001B[0m forward_function, args_with_tangents \u001B[38;5;241m=\u001B[39m forward_backward\u001B[38;5;241m.\u001B[39mforward()\n",
      "File \u001B[1;32m~\\Desktop\\Diplomarbeit Erik Marr\\Projekt X\\venv\\Lib\\site-packages\\tensorflow\\python\\eager\\polymorphic_function\\atomic_function.py:216\u001B[0m, in \u001B[0;36mAtomicFunction.call_preflattened\u001B[1;34m(self, args)\u001B[0m\n\u001B[0;32m    214\u001B[0m \u001B[38;5;28;01mdef\u001B[39;00m \u001B[38;5;21mcall_preflattened\u001B[39m(\u001B[38;5;28mself\u001B[39m, args: Sequence[core\u001B[38;5;241m.\u001B[39mTensor]) \u001B[38;5;241m-\u001B[39m\u001B[38;5;241m>\u001B[39m Any:\n\u001B[0;32m    215\u001B[0m \u001B[38;5;250m  \u001B[39m\u001B[38;5;124;03m\"\"\"Calls with flattened tensor inputs and returns the structured output.\"\"\"\u001B[39;00m\n\u001B[1;32m--> 216\u001B[0m   flat_outputs \u001B[38;5;241m=\u001B[39m \u001B[38;5;28;43mself\u001B[39;49m\u001B[38;5;241;43m.\u001B[39;49m\u001B[43mcall_flat\u001B[49m\u001B[43m(\u001B[49m\u001B[38;5;241;43m*\u001B[39;49m\u001B[43margs\u001B[49m\u001B[43m)\u001B[49m\n\u001B[0;32m    217\u001B[0m   \u001B[38;5;28;01mreturn\u001B[39;00m \u001B[38;5;28mself\u001B[39m\u001B[38;5;241m.\u001B[39mfunction_type\u001B[38;5;241m.\u001B[39mpack_output(flat_outputs)\n",
      "File \u001B[1;32m~\\Desktop\\Diplomarbeit Erik Marr\\Projekt X\\venv\\Lib\\site-packages\\tensorflow\\python\\eager\\polymorphic_function\\atomic_function.py:251\u001B[0m, in \u001B[0;36mAtomicFunction.call_flat\u001B[1;34m(self, *args)\u001B[0m\n\u001B[0;32m    249\u001B[0m \u001B[38;5;28;01mwith\u001B[39;00m record\u001B[38;5;241m.\u001B[39mstop_recording():\n\u001B[0;32m    250\u001B[0m   \u001B[38;5;28;01mif\u001B[39;00m \u001B[38;5;28mself\u001B[39m\u001B[38;5;241m.\u001B[39m_bound_context\u001B[38;5;241m.\u001B[39mexecuting_eagerly():\n\u001B[1;32m--> 251\u001B[0m     outputs \u001B[38;5;241m=\u001B[39m \u001B[38;5;28;43mself\u001B[39;49m\u001B[38;5;241;43m.\u001B[39;49m\u001B[43m_bound_context\u001B[49m\u001B[38;5;241;43m.\u001B[39;49m\u001B[43mcall_function\u001B[49m\u001B[43m(\u001B[49m\n\u001B[0;32m    252\u001B[0m \u001B[43m        \u001B[49m\u001B[38;5;28;43mself\u001B[39;49m\u001B[38;5;241;43m.\u001B[39;49m\u001B[43mname\u001B[49m\u001B[43m,\u001B[49m\n\u001B[0;32m    253\u001B[0m \u001B[43m        \u001B[49m\u001B[38;5;28;43mlist\u001B[39;49m\u001B[43m(\u001B[49m\u001B[43margs\u001B[49m\u001B[43m)\u001B[49m\u001B[43m,\u001B[49m\n\u001B[0;32m    254\u001B[0m \u001B[43m        \u001B[49m\u001B[38;5;28;43mlen\u001B[39;49m\u001B[43m(\u001B[49m\u001B[38;5;28;43mself\u001B[39;49m\u001B[38;5;241;43m.\u001B[39;49m\u001B[43mfunction_type\u001B[49m\u001B[38;5;241;43m.\u001B[39;49m\u001B[43mflat_outputs\u001B[49m\u001B[43m)\u001B[49m\u001B[43m,\u001B[49m\n\u001B[0;32m    255\u001B[0m \u001B[43m    \u001B[49m\u001B[43m)\u001B[49m\n\u001B[0;32m    256\u001B[0m   \u001B[38;5;28;01melse\u001B[39;00m:\n\u001B[0;32m    257\u001B[0m     outputs \u001B[38;5;241m=\u001B[39m make_call_op_in_graph(\n\u001B[0;32m    258\u001B[0m         \u001B[38;5;28mself\u001B[39m,\n\u001B[0;32m    259\u001B[0m         \u001B[38;5;28mlist\u001B[39m(args),\n\u001B[0;32m    260\u001B[0m         \u001B[38;5;28mself\u001B[39m\u001B[38;5;241m.\u001B[39m_bound_context\u001B[38;5;241m.\u001B[39mfunction_call_options\u001B[38;5;241m.\u001B[39mas_attrs(),\n\u001B[0;32m    261\u001B[0m     )\n",
      "File \u001B[1;32m~\\Desktop\\Diplomarbeit Erik Marr\\Projekt X\\venv\\Lib\\site-packages\\tensorflow\\python\\eager\\context.py:1486\u001B[0m, in \u001B[0;36mContext.call_function\u001B[1;34m(self, name, tensor_inputs, num_outputs)\u001B[0m\n\u001B[0;32m   1484\u001B[0m cancellation_context \u001B[38;5;241m=\u001B[39m cancellation\u001B[38;5;241m.\u001B[39mcontext()\n\u001B[0;32m   1485\u001B[0m \u001B[38;5;28;01mif\u001B[39;00m cancellation_context \u001B[38;5;129;01mis\u001B[39;00m \u001B[38;5;28;01mNone\u001B[39;00m:\n\u001B[1;32m-> 1486\u001B[0m   outputs \u001B[38;5;241m=\u001B[39m \u001B[43mexecute\u001B[49m\u001B[38;5;241;43m.\u001B[39;49m\u001B[43mexecute\u001B[49m\u001B[43m(\u001B[49m\n\u001B[0;32m   1487\u001B[0m \u001B[43m      \u001B[49m\u001B[43mname\u001B[49m\u001B[38;5;241;43m.\u001B[39;49m\u001B[43mdecode\u001B[49m\u001B[43m(\u001B[49m\u001B[38;5;124;43m\"\u001B[39;49m\u001B[38;5;124;43mutf-8\u001B[39;49m\u001B[38;5;124;43m\"\u001B[39;49m\u001B[43m)\u001B[49m\u001B[43m,\u001B[49m\n\u001B[0;32m   1488\u001B[0m \u001B[43m      \u001B[49m\u001B[43mnum_outputs\u001B[49m\u001B[38;5;241;43m=\u001B[39;49m\u001B[43mnum_outputs\u001B[49m\u001B[43m,\u001B[49m\n\u001B[0;32m   1489\u001B[0m \u001B[43m      \u001B[49m\u001B[43minputs\u001B[49m\u001B[38;5;241;43m=\u001B[39;49m\u001B[43mtensor_inputs\u001B[49m\u001B[43m,\u001B[49m\n\u001B[0;32m   1490\u001B[0m \u001B[43m      \u001B[49m\u001B[43mattrs\u001B[49m\u001B[38;5;241;43m=\u001B[39;49m\u001B[43mattrs\u001B[49m\u001B[43m,\u001B[49m\n\u001B[0;32m   1491\u001B[0m \u001B[43m      \u001B[49m\u001B[43mctx\u001B[49m\u001B[38;5;241;43m=\u001B[39;49m\u001B[38;5;28;43mself\u001B[39;49m\u001B[43m,\u001B[49m\n\u001B[0;32m   1492\u001B[0m \u001B[43m  \u001B[49m\u001B[43m)\u001B[49m\n\u001B[0;32m   1493\u001B[0m \u001B[38;5;28;01melse\u001B[39;00m:\n\u001B[0;32m   1494\u001B[0m   outputs \u001B[38;5;241m=\u001B[39m execute\u001B[38;5;241m.\u001B[39mexecute_with_cancellation(\n\u001B[0;32m   1495\u001B[0m       name\u001B[38;5;241m.\u001B[39mdecode(\u001B[38;5;124m\"\u001B[39m\u001B[38;5;124mutf-8\u001B[39m\u001B[38;5;124m\"\u001B[39m),\n\u001B[0;32m   1496\u001B[0m       num_outputs\u001B[38;5;241m=\u001B[39mnum_outputs,\n\u001B[1;32m   (...)\u001B[0m\n\u001B[0;32m   1500\u001B[0m       cancellation_manager\u001B[38;5;241m=\u001B[39mcancellation_context,\n\u001B[0;32m   1501\u001B[0m   )\n",
      "File \u001B[1;32m~\\Desktop\\Diplomarbeit Erik Marr\\Projekt X\\venv\\Lib\\site-packages\\tensorflow\\python\\eager\\execute.py:53\u001B[0m, in \u001B[0;36mquick_execute\u001B[1;34m(op_name, num_outputs, inputs, attrs, ctx, name)\u001B[0m\n\u001B[0;32m     51\u001B[0m \u001B[38;5;28;01mtry\u001B[39;00m:\n\u001B[0;32m     52\u001B[0m   ctx\u001B[38;5;241m.\u001B[39mensure_initialized()\n\u001B[1;32m---> 53\u001B[0m   tensors \u001B[38;5;241m=\u001B[39m \u001B[43mpywrap_tfe\u001B[49m\u001B[38;5;241;43m.\u001B[39;49m\u001B[43mTFE_Py_Execute\u001B[49m\u001B[43m(\u001B[49m\u001B[43mctx\u001B[49m\u001B[38;5;241;43m.\u001B[39;49m\u001B[43m_handle\u001B[49m\u001B[43m,\u001B[49m\u001B[43m \u001B[49m\u001B[43mdevice_name\u001B[49m\u001B[43m,\u001B[49m\u001B[43m \u001B[49m\u001B[43mop_name\u001B[49m\u001B[43m,\u001B[49m\n\u001B[0;32m     54\u001B[0m \u001B[43m                                      \u001B[49m\u001B[43minputs\u001B[49m\u001B[43m,\u001B[49m\u001B[43m \u001B[49m\u001B[43mattrs\u001B[49m\u001B[43m,\u001B[49m\u001B[43m \u001B[49m\u001B[43mnum_outputs\u001B[49m\u001B[43m)\u001B[49m\n\u001B[0;32m     55\u001B[0m \u001B[38;5;28;01mexcept\u001B[39;00m core\u001B[38;5;241m.\u001B[39m_NotOkStatusException \u001B[38;5;28;01mas\u001B[39;00m e:\n\u001B[0;32m     56\u001B[0m   \u001B[38;5;28;01mif\u001B[39;00m name \u001B[38;5;129;01mis\u001B[39;00m \u001B[38;5;129;01mnot\u001B[39;00m \u001B[38;5;28;01mNone\u001B[39;00m:\n",
      "\u001B[1;31mKeyboardInterrupt\u001B[0m: "
     ]
    }
   ],
   "source": [
    "# # Initialisiere Listen, um Ergebnisse zu speichern\n",
    "# val_loss_results = []\n",
    "# val_mae_results = []\n",
    "# \n",
    "# # Funktion, um das Modell zu erstellen\n",
    "# def create_model():\n",
    "#     model = Sequential([\n",
    "#             Dense(168, activation='relu', input_shape=(5,), kernel_initializer='he_uniform', kernel_regularizer=l2(0.00001)),\n",
    "#         \n",
    "#             Dense(56, activation='relu', kernel_initializer='he_uniform', kernel_regularizer=l2(0.00001)),\n",
    "#             \n",
    "#             Dense(184, activation='relu', kernel_initializer='he_uniform', kernel_regularizer=l2(0.00001)),\n",
    "#             \n",
    "#             Dense(88, activation='relu', kernel_initializer='he_uniform', kernel_regularizer=l2(0.00001)),\n",
    "#             \n",
    "#             Dense(152, activation='relu', kernel_initializer='he_uniform', kernel_regularizer=l2(0.00001)),\n",
    "#             \n",
    "#             Dense(40, activation='relu', kernel_initializer='he_uniform', kernel_regularizer=l2(0.00001)),\n",
    "#             \n",
    "#             Dense(296, activation='relu', kernel_initializer='he_uniform', kernel_regularizer=l2(0.00001)),\n",
    "#             \n",
    "#             Dense(136, activation='relu', kernel_initializer='he_uniform', kernel_regularizer=l2(0.00001)),\n",
    "#             \n",
    "#             Dense(264, activation='relu', kernel_initializer='he_uniform', kernel_regularizer=l2(0.00001)),\n",
    "#             \n",
    "#             Dense(296, activation='relu', kernel_initializer='he_uniform', kernel_regularizer=l2(0.00001)),\n",
    "#             \n",
    "#             Dense(40, activation='relu', kernel_initializer='he_uniform', kernel_regularizer=l2(0.00001)),\n",
    "#             \n",
    "#             Dense(1 , activation = 'linear')\n",
    "# \n",
    "#     ])\n",
    "#     optimizer = Adam(learning_rate=0.0001)\n",
    "#     model.compile(optimizer=optimizer, loss='mean_squared_error', metrics=['mae'])\n",
    "#     return model\n",
    "# \n",
    "# # K-Fold Cross-Validation Konfiguration\n",
    "# n_splits = 5\n",
    "# kf = KFold(n_splits=n_splits, shuffle=True, random_state=42)\n",
    "# \n",
    "# # Leistungsüberwachung\n",
    "# fold_no = 1\n",
    "# for train_index, val_index in kf.split(X_train_scaled):\n",
    "#     X_train_fold, X_val_fold = X_train_scaled[train_index], X_train_scaled[val_index]\n",
    "#     y_train_fold, y_val_fold = y_train_scaled[train_index], y_train_scaled[val_index]\n",
    "# \n",
    "#     model = create_model()\n",
    "# \n",
    "#     early_stopping = EarlyStopping(monitor='val_loss', patience=5, verbose=1, mode='min', restore_best_weights=True)\n",
    "# \n",
    "#     print(f'Training für Fold {fold_no}...')\n",
    "#     history = model.fit(X_train_fold, y_train_fold, batch_size=200, epochs=1000, validation_data=(X_val_fold, y_val_fold), callbacks=[early_stopping], verbose=1)\n",
    "# \n",
    "#     # Speichere die Ergebnisse des aktuellen Folds\n",
    "#     val_loss_results.append(min(history.history['val_loss']))\n",
    "#     val_mae_results.append(min(history.history['val_mae']))\n",
    "# \n",
    "#     fold_no += 1\n",
    "# \n",
    "# # Berechne den Durchschnitt über alle Folds\n",
    "# average_val_loss = np.mean(val_loss_results)\n",
    "# average_val_mae = np.mean(val_mae_results)\n",
    "# \n",
    "# #Umwandeln der Listen in Pandas DataFrames\n",
    "# val_loss_df = pd.DataFrame(val_loss_results, columns=['Validation Loss'])\n",
    "# val_mae_df = pd.DataFrame(val_mae_results, columns=['Validation MAE'])\n",
    "# \n",
    "# # Speichern der DataFrames in CSV-Dateien\n",
    "# val_loss_df.to_csv('val_loss_results_D3_t_21_I_F_2.csv', index=False)\n",
    "# val_mae_df.to_csv('val_mae_results_D3_t_21_I_F_2.csv', index=False)\n",
    "# \n",
    "# # Gib die durchschnittlichen Ergebnisse aus\n",
    "# print(f'Durchschnittlicher Validation Loss: {average_val_loss}')\n",
    "# print(f'Durchschnittlicher Validation MAE: {average_val_mae}')\n",
    "# \n",
    "# \n"
   ],
   "metadata": {
    "collapsed": false,
    "ExecuteTime": {
     "end_time": "2024-04-02T17:29:01.234522600Z",
     "start_time": "2024-04-02T16:56:13.204232400Z"
    }
   },
   "id": "7ff728388210d66b"
  },
  {
   "cell_type": "code",
   "execution_count": 45,
   "outputs": [
    {
     "name": "stdout",
     "output_type": "stream",
     "text": [
      "4176/4176 - 4s - loss: 2.8168e-04 - mae: 0.0081 - 4s/epoch - 1ms/step\n"
     ]
    },
    {
     "data": {
      "text/plain": "[0.00028167665004730225, 0.008136036805808544]"
     },
     "execution_count": 45,
     "metadata": {},
     "output_type": "execute_result"
    }
   ],
   "source": [
    "results = model.evaluate(X_test_scaled, y_test_scaled, verbose=2)\n",
    "results"
   ],
   "metadata": {
    "collapsed": false,
    "ExecuteTime": {
     "end_time": "2024-04-02T21:43:34.741227200Z",
     "start_time": "2024-04-02T21:43:30.294472700Z"
    }
   },
   "id": "9050ab66ab36f169"
  },
  {
   "cell_type": "code",
   "execution_count": 31,
   "outputs": [
    {
     "name": "stdout",
     "output_type": "stream",
     "text": [
      " Bsp. Predicted: [448.20505] Actual: [444.2] \n",
      "Durchschnittliche Abweichung (MAE): [20.96821777]\n",
      "1.9209720506069525\n"
     ]
    }
   ],
   "source": [
    "\n",
    "scaled_predicted_values = model.predict(X_test_scaled, verbose = 0)\n",
    "\n",
    "# Führen Sie die Rücktransformation der skalierten Werte durch\n",
    "original_predicted_values = scaler_target.inverse_transform(scaled_predicted_values)\n",
    "original_actual_values = scaler_target.inverse_transform(y_test_scaled)  # y_test sind die skalierten tatsächlichen Werte\n",
    "print(f' Bsp. Predicted: {original_predicted_values[100]} Actual: {original_actual_values[100]} ')\n",
    "\n",
    "def calculate_mae(list1, list2):\n",
    "    # Stelle sicher, dass beide Listen die gleiche Länge haben\n",
    "    if len(list1) != len(list2):\n",
    "        raise ValueError(\"Listen müssen die gleiche Länge haben\")\n",
    "\n",
    "    # Berechne die absolute Differenz zwischen den Elementen der Listen\n",
    "    differences = [abs(x - y) for x, y in zip(list1, list2)]\n",
    "\n",
    "    # Berechne den Durchschnitt der absoluten Differenzen\n",
    "    mae = sum(differences) / len(differences)\n",
    "\n",
    "    return mae\n",
    "\n",
    "# Beispiel\n",
    "list1 = original_predicted_values\n",
    "list2 = original_actual_values\n",
    "\n",
    "mae = calculate_mae(list1, list2)\n",
    "print(f\"Durchschnittliche Abweichung (MAE): {mae}\")\n",
    "\n",
    "errors = np.abs((original_actual_values - original_predicted_values) / original_actual_values)\n",
    "mape = np.mean(errors) * 100\n",
    "print(mape)"
   ],
   "metadata": {
    "collapsed": false,
    "ExecuteTime": {
     "end_time": "2024-04-02T21:40:26.182815700Z",
     "start_time": "2024-04-02T21:40:20.706440600Z"
    }
   },
   "id": "10cd79ca028075dd"
  },
  {
   "cell_type": "code",
   "execution_count": 21,
   "outputs": [
    {
     "name": "stdout",
     "output_type": "stream",
     "text": [
      "R^2: [0.99945157]\n"
     ]
    }
   ],
   "source": [
    "def calculate_r_squared(predicted, actual):\n",
    "    # Berechnung des Mittelwerts der tatsächlichen Werte\n",
    "    mean_actual = sum(actual) / len(actual)\n",
    "    \n",
    "    # Berechnung der totalen Summe der Quadrate (SST)\n",
    "    sst = sum((x - mean_actual) ** 2 for x in actual)\n",
    "    \n",
    "    # Berechnung der Summe der Quadrate der Residuen (SSE)\n",
    "    sse = sum((actual[i] - predicted[i]) ** 2 for i in range(len(actual)))\n",
    "    \n",
    "    # Berechnung des R^2-Wertes\n",
    "    r_squared = 1 - (sse / sst)\n",
    "    \n",
    "    return r_squared\n",
    "\n",
    "# Berechnung von R^2 mit den bereitgestellten Listen\n",
    "r_squared = calculate_r_squared(list1, list2)\n",
    "\n",
    "print(f\"R^2: {r_squared}\")"
   ],
   "metadata": {
    "collapsed": false,
    "ExecuteTime": {
     "end_time": "2024-04-02T21:33:50.536528800Z",
     "start_time": "2024-04-02T21:33:50.481948800Z"
    }
   },
   "id": "d0505d16afcbef4a"
  },
  {
   "cell_type": "code",
   "execution_count": 21,
   "outputs": [
    {
     "name": "stdout",
     "output_type": "stream",
     "text": [
      "Anzahl der Werte die kleiner sind: 31\n"
     ]
    },
    {
     "data": {
      "text/plain": "         Echt   Temperatur  X-Koordinate  Y-Koordinate  Differenz\n6268   991.21  1029.766602      1.000000          0.06 -38.556602\n6167   992.96  1030.098022      0.983871          0.06 -37.138022\n6269  1028.90  1064.723877      1.000000          0.07 -35.823877\n6066   994.91  1030.432861      0.967742          0.06 -35.522861\n6168  1031.10  1066.558228      0.983871          0.07 -35.458228\n...       ...          ...           ...           ...        ...\n1005   836.92   812.107910      0.145161          0.96  24.812090\n904    837.19   812.355164      0.129032          0.96  24.834836\n6160   690.48   664.262695      0.967742          1.00  26.217305\n6261   689.09   661.521362      0.983871          1.00  27.568638\n6362   687.80   658.809814      1.000000          1.00  28.990186\n\n[6363 rows x 5 columns]",
      "text/html": "<div>\n<style scoped>\n    .dataframe tbody tr th:only-of-type {\n        vertical-align: middle;\n    }\n\n    .dataframe tbody tr th {\n        vertical-align: top;\n    }\n\n    .dataframe thead th {\n        text-align: right;\n    }\n</style>\n<table border=\"1\" class=\"dataframe\">\n  <thead>\n    <tr style=\"text-align: right;\">\n      <th></th>\n      <th>Echt</th>\n      <th>Temperatur</th>\n      <th>X-Koordinate</th>\n      <th>Y-Koordinate</th>\n      <th>Differenz</th>\n    </tr>\n  </thead>\n  <tbody>\n    <tr>\n      <th>6268</th>\n      <td>991.21</td>\n      <td>1029.766602</td>\n      <td>1.000000</td>\n      <td>0.06</td>\n      <td>-38.556602</td>\n    </tr>\n    <tr>\n      <th>6167</th>\n      <td>992.96</td>\n      <td>1030.098022</td>\n      <td>0.983871</td>\n      <td>0.06</td>\n      <td>-37.138022</td>\n    </tr>\n    <tr>\n      <th>6269</th>\n      <td>1028.90</td>\n      <td>1064.723877</td>\n      <td>1.000000</td>\n      <td>0.07</td>\n      <td>-35.823877</td>\n    </tr>\n    <tr>\n      <th>6066</th>\n      <td>994.91</td>\n      <td>1030.432861</td>\n      <td>0.967742</td>\n      <td>0.06</td>\n      <td>-35.522861</td>\n    </tr>\n    <tr>\n      <th>6168</th>\n      <td>1031.10</td>\n      <td>1066.558228</td>\n      <td>0.983871</td>\n      <td>0.07</td>\n      <td>-35.458228</td>\n    </tr>\n    <tr>\n      <th>...</th>\n      <td>...</td>\n      <td>...</td>\n      <td>...</td>\n      <td>...</td>\n      <td>...</td>\n    </tr>\n    <tr>\n      <th>1005</th>\n      <td>836.92</td>\n      <td>812.107910</td>\n      <td>0.145161</td>\n      <td>0.96</td>\n      <td>24.812090</td>\n    </tr>\n    <tr>\n      <th>904</th>\n      <td>837.19</td>\n      <td>812.355164</td>\n      <td>0.129032</td>\n      <td>0.96</td>\n      <td>24.834836</td>\n    </tr>\n    <tr>\n      <th>6160</th>\n      <td>690.48</td>\n      <td>664.262695</td>\n      <td>0.967742</td>\n      <td>1.00</td>\n      <td>26.217305</td>\n    </tr>\n    <tr>\n      <th>6261</th>\n      <td>689.09</td>\n      <td>661.521362</td>\n      <td>0.983871</td>\n      <td>1.00</td>\n      <td>27.568638</td>\n    </tr>\n    <tr>\n      <th>6362</th>\n      <td>687.80</td>\n      <td>658.809814</td>\n      <td>1.000000</td>\n      <td>1.00</td>\n      <td>28.990186</td>\n    </tr>\n  </tbody>\n</table>\n<p>6363 rows × 5 columns</p>\n</div>"
     },
     "execution_count": 21,
     "metadata": {},
     "output_type": "execute_result"
    }
   ],
   "source": [
    "df_result = pd.DataFrame({'Echt': [val[0] for val in list2], 'Temperatur': [val[0] for val in list1]})\n",
    "df_result['X-Koordinate'] = X_test_scaled[:, 0]\n",
    "df_result['Y-Koordinate'] = X_test_scaled[:, 1]\n",
    "\n",
    "df_result['Differenz'] = df_result['Echt'] - df_result['Temperatur']\n",
    "df_result['Differenz'].sort_values()\n",
    "sorted_df = df_result.sort_values(by= 'Differenz')\n",
    "Anzahl_Punkte = (sorted_df['Differenz'] > 20).sum()\n",
    "print(\"Anzahl der Werte die kleiner sind:\", Anzahl_Punkte)\n",
    "\n",
    "sorted_df"
   ],
   "metadata": {
    "collapsed": false,
    "ExecuteTime": {
     "end_time": "2024-04-01T13:21:48.837963Z",
     "start_time": "2024-04-01T13:21:48.801951300Z"
    }
   },
   "id": "47d4a39665ed1159"
  },
  {
   "cell_type": "code",
   "execution_count": 100,
   "outputs": [],
   "source": [
    "df_test['Vorhergesagt'] = list1\n",
    "#df_test.to_pickle('C:/Users/erikm/Desktop/Diplomarbeit Erik Marr/Daten/Finish/Finish_I7000_F6000_D3_500_I_F_PKL_Prediction.pkl')"
   ],
   "metadata": {
    "collapsed": false,
    "ExecuteTime": {
     "end_time": "2024-03-29T15:32:21.241594100Z",
     "start_time": "2024-03-29T15:32:21.192942700Z"
    }
   },
   "id": "73defb2e4e9a45da"
  },
  {
   "cell_type": "code",
   "execution_count": 81,
   "outputs": [
    {
     "data": {
      "text/plain": "<Figure size 1000x600 with 1 Axes>",
      "image/png": "[encoded data removed]"
     },
     "metadata": {},
     "output_type": "display_data"
    }
   ],
   "source": [
    "mae = history.history['loss']\n",
    "val_mae = history.history['val_loss']\n",
    "\n",
    "epochs = range(1, len(mae) + 1)\n",
    "\n",
    "# MAE Diagramm\n",
    "plt.figure(figsize=(10, 6))\n",
    "plt.plot(epochs, mae, 'r', label='Training MSE')\n",
    "plt.plot(epochs, val_mae, 'b', label='Validation MSE')\n",
    "plt.title('Training and Validation MSE')\n",
    "plt.xlabel('Epochs')\n",
    "plt.ylabel('MSE')\n",
    "plt.legend()\n",
    "plt.savefig('C:/Users/erikm/Desktop/Diplomarbeit Erik Marr/Bilder Diplomarbeit/MSE_NeuroNetz/MSE_NeuroNetz_D3_2')\n",
    "\n",
    "plt.show()\n"
   ],
   "metadata": {
    "collapsed": false,
    "ExecuteTime": {
     "end_time": "2024-03-29T14:43:33.453659500Z",
     "start_time": "2024-03-29T14:43:33.154886700Z"
    }
   },
   "id": "3688dd7102e95baf"
  },
  {
   "cell_type": "code",
   "execution_count": 48,
   "id": "9f6f672a",
   "metadata": {
    "ExecuteTime": {
     "end_time": "2024-03-15T10:01:02.439200700Z",
     "start_time": "2024-03-15T10:01:02.436683600Z"
    }
   },
   "outputs": [],
   "source": []
  },
  {
   "cell_type": "markdown",
   "id": "553df6fa",
   "metadata": {},
   "source": [
    "# GridSearch"
   ]
  },
  {
   "cell_type": "code",
   "execution_count": 49,
   "outputs": [],
   "source": [
    "# def build_model(learning_rate=0.001, activation='relu', regularization=0.0001, dropout_rate=0.0):\n",
    "#     model = Sequential()\n",
    "#     model.add(Dense(200, activation=activation, input_shape=(2,), kernel_initializer='he_uniform', kernel_regularizer=l2(regularization)))\n",
    "#     model.add(Dropout(dropout_rate))\n",
    "# \n",
    "#     model.add(Dense(448, activation=activation, kernel_initializer='he_uniform', kernel_regularizer=l2(regularization)))\n",
    "#     model.add(Dropout(dropout_rate))\n",
    "# \n",
    "#     model.add(Dense(352, activation=activation, kernel_initializer='he_uniform', kernel_regularizer=l2(regularization)))\n",
    "#     model.add(Dropout(dropout_rate))\n",
    "# \n",
    "#     model.add(Dense(320, activation=activation, kernel_initializer='he_uniform', kernel_regularizer=l2(regularization)))\n",
    "#     model.add(Dropout(dropout_rate))\n",
    "# \n",
    "#     model.add(Dense(256, activation=activation, kernel_initializer='he_uniform', kernel_regularizer=l2(regularization)))\n",
    "#     model.add(Dropout(dropout_rate))\n",
    "# \n",
    "#     model.add(Dense(416, activation=activation, kernel_initializer='he_uniform', kernel_regularizer=l2(regularization)))\n",
    "#     model.add(Dropout(dropout_rate))\n",
    "# \n",
    "#     model.add(Dense(128, activation=activation, kernel_initializer='he_uniform', kernel_regularizer=l2(regularization)))\n",
    "#     model.add(Dropout(dropout_rate))\n",
    "# \n",
    "#     model.add(Dense(96, activation=activation, kernel_initializer='he_uniform', kernel_regularizer=l2(regularization)))\n",
    "#     model.add(Dropout(dropout_rate))    \n",
    "# \n",
    "#     model.add(Dense(32, activation=activation, kernel_initializer='he_uniform', kernel_regularizer=l2(regularization)))\n",
    "#     model.add(Dropout(dropout_rate))\n",
    "# \n",
    "#     model.add(Dense(1, activation='linear'))\n",
    "#     model.compile(optimizer=Adam(learning_rate=learning_rate), loss='mean_squared_error', metrics=['mae'])\n",
    "#     return model\n",
    "# \n",
    "# # Verwenden Sie eine Funktion, um das Modell zu instanziieren, für scikit-learn Wrapper\n",
    "# model = KerasRegressor(model=build_model, verbose=2)\n",
    "# \n",
    "# # Anpassung der Parameter im param_grid\n",
    "# param_grid = {\n",
    "#     'model__learning_rate': [0.01, 0.001, 0.0001],\n",
    "#     'model__regularization': [0.001, 0.0001, 0.00001],\n",
    "#     'fit__batch_size': [25, 50, 75, 100],\n",
    "#     'fit__epochs': [50],\n",
    "#     'model__dropout_rate' : [0.0, 0.1, 0.2]\n",
    "# }\n",
    "# \n",
    "# grid_search = GridSearchCV(estimator=model, param_grid=param_grid, n_jobs=-1, cv=3, verbose=2)\n",
    "# # Hinweis: Stellen Sie sicher, dass Ihre Daten (X_train_scaled, y_train_scaled) korrekt definiert sind\n",
    "# grid_result = grid_search.fit(X_train_scaled, y_train_scaled)\n",
    "# # Beste Parameter und Score ausgeben\n",
    "# print(\"Beste Parameter:\", grid_search.best_params_)\n",
    "# print(\"Beste Genauigkeit:\", grid_search.best_score_)\n",
    "# \n",
    "# with open(\"Gridsearch_D3.txt\", \"w\") as f:\n",
    "#     f.write(f\"Beste Parameter: {grid_search.best_params_}\\n\")\n",
    "#     f.write(f\"Beste Genauigkeit: {grid_search.best_score_}\")\n"
   ],
   "metadata": {
    "collapsed": false,
    "ExecuteTime": {
     "end_time": "2024-03-15T10:01:02.450167100Z",
     "start_time": "2024-03-15T10:01:02.439200700Z"
    }
   },
   "id": "578403f6e218787a"
  }
 ],
 "metadata": {
  "kernelspec": {
   "display_name": "Python 3 (ipykernel)",
   "language": "python",
   "name": "python3"
  },
  "language_info": {
   "codemirror_mode": {
    "name": "ipython",
    "version": 3
   },
   "file_extension": ".py",
   "mimetype": "text/x-python",
   "name": "python",
   "nbconvert_exporter": "python",
   "pygments_lexer": "ipython3",
   "version": "3.11.4"
  }
 },
 "nbformat": 4,
 "nbformat_minor": 5
}
