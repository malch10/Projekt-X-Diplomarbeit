{
 "cells": [
  {
   "cell_type": "code",
   "execution_count": 1,
   "id": "94b0518e",
   "metadata": {
    "ExecuteTime": {
     "end_time": "2024-02-08T11:06:59.754310Z",
     "start_time": "2024-02-08T11:06:51.742885Z"
    }
   },
   "outputs": [
    {
     "name": "stdout",
     "output_type": "stream",
     "text": [
      "WARNING:tensorflow:From C:\\Users\\erikm\\Desktop\\Diplomarbeit Erik Marr\\Projekt X\\venv\\Lib\\site-packages\\keras\\src\\losses.py:2976: The name tf.losses.sparse_softmax_cross_entropy is deprecated. Please use tf.compat.v1.losses.sparse_softmax_cross_entropy instead.\n"
     ]
    }
   ],
   "source": [
    "import numpy as np\n",
    "import tensorflow as tf\n",
    "import matplotlib.pyplot as plt\n",
    "import pandas as pd\n",
    "from tensorflow import keras\n",
    "from tensorflow.keras.models import Sequential\n",
    "from tensorflow.keras.layers import Dense\n",
    "from sklearn.model_selection import train_test_split\n",
    "from tensorflow.keras import layers\n",
    "import glob\n",
    "\n",
    "from sklearn.preprocessing import MinMaxScaler, StandardScaler\n",
    "import pandas as pd\n",
    "\n",
    "from tensorflow.keras.models import Sequential\n",
    "from tensorflow.keras.layers import Dense , Dropout\n",
    "from sklearn.model_selection import GridSearchCV\n",
    "from scikeras.wrappers import KerasRegressor, KerasClassifier\n",
    "from tensorflow.keras.regularizers import l2\n",
    "from tensorflow.keras.callbacks import EarlyStopping\n",
    "from tensorflow.keras.optimizers import Adam\n"
   ]
  },
  {
   "cell_type": "code",
   "execution_count": 36,
   "id": "e4ff61b1",
   "metadata": {
    "ExecuteTime": {
     "end_time": "2024-02-08T15:32:09.797504800Z",
     "start_time": "2024-02-08T15:32:09.770095200Z"
    }
   },
   "outputs": [
    {
     "data": {
      "text/plain": "       X-Koordinate  Y-Koordinate  Zeitpunkt  Strom  Kraft    Temperatur\n0             0.000      -0.00200        300   7000   9000  5.322500e+02\n1             0.000      -0.00198        300   7000   9000  5.406900e+02\n2             0.000      -0.00196        300   7000   9000  5.490900e+02\n3             0.000      -0.00194        300   7000   9000  5.573800e+02\n4             0.000      -0.00192        300   7000   9000  5.655700e+02\n...             ...           ...        ...    ...    ...           ...\n30346         0.003       0.00192        300   7000   9000  7.888600e-31\n30347         0.003       0.00194        300   7000   9000  7.888600e-31\n30348         0.003       0.00196        300   7000   9000  4.221700e+02\n30349         0.003       0.00198        300   7000   9000  4.219000e+02\n30350         0.003       0.00200        300   7000   9000  4.216000e+02\n\n[30351 rows x 6 columns]",
      "text/html": "<div>\n<style scoped>\n    .dataframe tbody tr th:only-of-type {\n        vertical-align: middle;\n    }\n\n    .dataframe tbody tr th {\n        vertical-align: top;\n    }\n\n    .dataframe thead th {\n        text-align: right;\n    }\n</style>\n<table border=\"1\" class=\"dataframe\">\n  <thead>\n    <tr style=\"text-align: right;\">\n      <th></th>\n      <th>X-Koordinate</th>\n      <th>Y-Koordinate</th>\n      <th>Zeitpunkt</th>\n      <th>Strom</th>\n      <th>Kraft</th>\n      <th>Temperatur</th>\n    </tr>\n  </thead>\n  <tbody>\n    <tr>\n      <th>0</th>\n      <td>0.000</td>\n      <td>-0.00200</td>\n      <td>300</td>\n      <td>7000</td>\n      <td>9000</td>\n      <td>5.322500e+02</td>\n    </tr>\n    <tr>\n      <th>1</th>\n      <td>0.000</td>\n      <td>-0.00198</td>\n      <td>300</td>\n      <td>7000</td>\n      <td>9000</td>\n      <td>5.406900e+02</td>\n    </tr>\n    <tr>\n      <th>2</th>\n      <td>0.000</td>\n      <td>-0.00196</td>\n      <td>300</td>\n      <td>7000</td>\n      <td>9000</td>\n      <td>5.490900e+02</td>\n    </tr>\n    <tr>\n      <th>3</th>\n      <td>0.000</td>\n      <td>-0.00194</td>\n      <td>300</td>\n      <td>7000</td>\n      <td>9000</td>\n      <td>5.573800e+02</td>\n    </tr>\n    <tr>\n      <th>4</th>\n      <td>0.000</td>\n      <td>-0.00192</td>\n      <td>300</td>\n      <td>7000</td>\n      <td>9000</td>\n      <td>5.655700e+02</td>\n    </tr>\n    <tr>\n      <th>...</th>\n      <td>...</td>\n      <td>...</td>\n      <td>...</td>\n      <td>...</td>\n      <td>...</td>\n      <td>...</td>\n    </tr>\n    <tr>\n      <th>30346</th>\n      <td>0.003</td>\n      <td>0.00192</td>\n      <td>300</td>\n      <td>7000</td>\n      <td>9000</td>\n      <td>7.888600e-31</td>\n    </tr>\n    <tr>\n      <th>30347</th>\n      <td>0.003</td>\n      <td>0.00194</td>\n      <td>300</td>\n      <td>7000</td>\n      <td>9000</td>\n      <td>7.888600e-31</td>\n    </tr>\n    <tr>\n      <th>30348</th>\n      <td>0.003</td>\n      <td>0.00196</td>\n      <td>300</td>\n      <td>7000</td>\n      <td>9000</td>\n      <td>4.221700e+02</td>\n    </tr>\n    <tr>\n      <th>30349</th>\n      <td>0.003</td>\n      <td>0.00198</td>\n      <td>300</td>\n      <td>7000</td>\n      <td>9000</td>\n      <td>4.219000e+02</td>\n    </tr>\n    <tr>\n      <th>30350</th>\n      <td>0.003</td>\n      <td>0.00200</td>\n      <td>300</td>\n      <td>7000</td>\n      <td>9000</td>\n      <td>4.216000e+02</td>\n    </tr>\n  </tbody>\n</table>\n<p>30351 rows × 6 columns</p>\n</div>"
     },
     "execution_count": 36,
     "metadata": {},
     "output_type": "execute_result"
    }
   ],
   "source": [
    "#data = pd.read_pickle('C:/Users/erikm/Desktop/Diplomarbeit Erik Marr/Daten/Finish/TPath_300_finish_data.pkl')\n",
    "data = pd.read_pickle('C:/Users/erikm/Desktop/Diplomarbeit Erik Marr/Daten/Finish2/TPath_300_finish_data2.pkl')\n",
    "\n",
    "data"
   ]
  },
  {
   "cell_type": "code",
   "execution_count": 37,
   "id": "966e3c74",
   "metadata": {
    "ExecuteTime": {
     "end_time": "2024-02-08T15:32:13.287821800Z",
     "start_time": "2024-02-08T15:32:13.254000600Z"
    }
   },
   "outputs": [
    {
     "data": {
      "text/plain": "       X-Koordinate  Y-Koordinate    Temperatur\n0             0.000      -0.00200  5.322500e+02\n1             0.000      -0.00198  5.406900e+02\n2             0.000      -0.00196  5.490900e+02\n3             0.000      -0.00194  5.573800e+02\n4             0.000      -0.00192  5.655700e+02\n...             ...           ...           ...\n30346         0.003       0.00192  7.888600e-31\n30347         0.003       0.00194  7.888600e-31\n30348         0.003       0.00196  4.221700e+02\n30349         0.003       0.00198  4.219000e+02\n30350         0.003       0.00200  4.216000e+02\n\n[30351 rows x 3 columns]",
      "text/html": "<div>\n<style scoped>\n    .dataframe tbody tr th:only-of-type {\n        vertical-align: middle;\n    }\n\n    .dataframe tbody tr th {\n        vertical-align: top;\n    }\n\n    .dataframe thead th {\n        text-align: right;\n    }\n</style>\n<table border=\"1\" class=\"dataframe\">\n  <thead>\n    <tr style=\"text-align: right;\">\n      <th></th>\n      <th>X-Koordinate</th>\n      <th>Y-Koordinate</th>\n      <th>Temperatur</th>\n    </tr>\n  </thead>\n  <tbody>\n    <tr>\n      <th>0</th>\n      <td>0.000</td>\n      <td>-0.00200</td>\n      <td>5.322500e+02</td>\n    </tr>\n    <tr>\n      <th>1</th>\n      <td>0.000</td>\n      <td>-0.00198</td>\n      <td>5.406900e+02</td>\n    </tr>\n    <tr>\n      <th>2</th>\n      <td>0.000</td>\n      <td>-0.00196</td>\n      <td>5.490900e+02</td>\n    </tr>\n    <tr>\n      <th>3</th>\n      <td>0.000</td>\n      <td>-0.00194</td>\n      <td>5.573800e+02</td>\n    </tr>\n    <tr>\n      <th>4</th>\n      <td>0.000</td>\n      <td>-0.00192</td>\n      <td>5.655700e+02</td>\n    </tr>\n    <tr>\n      <th>...</th>\n      <td>...</td>\n      <td>...</td>\n      <td>...</td>\n    </tr>\n    <tr>\n      <th>30346</th>\n      <td>0.003</td>\n      <td>0.00192</td>\n      <td>7.888600e-31</td>\n    </tr>\n    <tr>\n      <th>30347</th>\n      <td>0.003</td>\n      <td>0.00194</td>\n      <td>7.888600e-31</td>\n    </tr>\n    <tr>\n      <th>30348</th>\n      <td>0.003</td>\n      <td>0.00196</td>\n      <td>4.221700e+02</td>\n    </tr>\n    <tr>\n      <th>30349</th>\n      <td>0.003</td>\n      <td>0.00198</td>\n      <td>4.219000e+02</td>\n    </tr>\n    <tr>\n      <th>30350</th>\n      <td>0.003</td>\n      <td>0.00200</td>\n      <td>4.216000e+02</td>\n    </tr>\n  </tbody>\n</table>\n<p>30351 rows × 3 columns</p>\n</div>"
     },
     "execution_count": 37,
     "metadata": {},
     "output_type": "execute_result"
    }
   ],
   "source": [
    "df = data.drop(data.columns[2:5], axis = 1)\n",
    "df"
   ]
  },
  {
   "cell_type": "code",
   "execution_count": 38,
   "id": "8783d1d6",
   "metadata": {
    "ExecuteTime": {
     "end_time": "2024-02-08T15:32:14.083723700Z",
     "start_time": "2024-02-08T15:32:14.010793800Z"
    }
   },
   "outputs": [
    {
     "name": "stdout",
     "output_type": "stream",
     "text": [
      "       X-Koordinate  Y-Koordinate  Temperatur\n",
      "6983        0.00068       0.00098      806.23\n",
      "11782       0.00116       0.00048      863.18\n",
      "8331        0.00082      -0.00020      898.40\n",
      "5252        0.00052      -0.00148      725.87\n",
      "25012       0.00248      -0.00024      741.80\n",
      "...             ...           ...         ...\n",
      "29802       0.00296      -0.00092      657.96\n",
      "5390        0.00052       0.00128      728.92\n",
      "860         0.00008      -0.00088      863.65\n",
      "15795       0.00156       0.00034      844.40\n",
      "23654       0.00234       0.00074      753.46\n",
      "\n",
      "[30351 rows x 3 columns]\n"
     ]
    },
    {
     "data": {
      "text/plain": "       X-Koordinate  Y-Koordinate  Temperatur\n0           0.00068       0.00098      806.23\n1           0.00116       0.00048      863.18\n2           0.00082      -0.00020      898.40\n3           0.00052      -0.00148      725.87\n4           0.00248      -0.00024      741.80\n...             ...           ...         ...\n30346       0.00296      -0.00092      657.96\n30347       0.00052       0.00128      728.92\n30348       0.00008      -0.00088      863.65\n30349       0.00156       0.00034      844.40\n30350       0.00234       0.00074      753.46\n\n[30351 rows x 3 columns]",
      "text/html": "<div>\n<style scoped>\n    .dataframe tbody tr th:only-of-type {\n        vertical-align: middle;\n    }\n\n    .dataframe tbody tr th {\n        vertical-align: top;\n    }\n\n    .dataframe thead th {\n        text-align: right;\n    }\n</style>\n<table border=\"1\" class=\"dataframe\">\n  <thead>\n    <tr style=\"text-align: right;\">\n      <th></th>\n      <th>X-Koordinate</th>\n      <th>Y-Koordinate</th>\n      <th>Temperatur</th>\n    </tr>\n  </thead>\n  <tbody>\n    <tr>\n      <th>0</th>\n      <td>0.00068</td>\n      <td>0.00098</td>\n      <td>806.23</td>\n    </tr>\n    <tr>\n      <th>1</th>\n      <td>0.00116</td>\n      <td>0.00048</td>\n      <td>863.18</td>\n    </tr>\n    <tr>\n      <th>2</th>\n      <td>0.00082</td>\n      <td>-0.00020</td>\n      <td>898.40</td>\n    </tr>\n    <tr>\n      <th>3</th>\n      <td>0.00052</td>\n      <td>-0.00148</td>\n      <td>725.87</td>\n    </tr>\n    <tr>\n      <th>4</th>\n      <td>0.00248</td>\n      <td>-0.00024</td>\n      <td>741.80</td>\n    </tr>\n    <tr>\n      <th>...</th>\n      <td>...</td>\n      <td>...</td>\n      <td>...</td>\n    </tr>\n    <tr>\n      <th>30346</th>\n      <td>0.00296</td>\n      <td>-0.00092</td>\n      <td>657.96</td>\n    </tr>\n    <tr>\n      <th>30347</th>\n      <td>0.00052</td>\n      <td>0.00128</td>\n      <td>728.92</td>\n    </tr>\n    <tr>\n      <th>30348</th>\n      <td>0.00008</td>\n      <td>-0.00088</td>\n      <td>863.65</td>\n    </tr>\n    <tr>\n      <th>30349</th>\n      <td>0.00156</td>\n      <td>0.00034</td>\n      <td>844.40</td>\n    </tr>\n    <tr>\n      <th>30350</th>\n      <td>0.00234</td>\n      <td>0.00074</td>\n      <td>753.46</td>\n    </tr>\n  </tbody>\n</table>\n<p>30351 rows × 3 columns</p>\n</div>"
     },
     "execution_count": 38,
     "metadata": {},
     "output_type": "execute_result"
    }
   ],
   "source": [
    "df1 = df.sample(frac=1, random_state=42)  # Hier wird 42 als Random State verwendet, um die Ergebnisse reproduzierbar zu machen\n",
    "\n",
    "print(df1)\n",
    "df_reset = df1.reset_index(drop=True)\n",
    "df_reset"
   ]
  },
  {
   "cell_type": "code",
   "execution_count": 39,
   "id": "a4e72a16",
   "metadata": {
    "ExecuteTime": {
     "end_time": "2024-02-08T15:32:14.877623900Z",
     "start_time": "2024-02-08T15:32:14.858472700Z"
    }
   },
   "outputs": [],
   "source": [
    "label = df_reset[\"Temperatur\"]\n",
    "# Korrektur: Verwenden Sie den Spaltennamen direkt, ohne Indexierung der columns-Eigenschaft\n",
    "df1 = df_reset.drop(\"Temperatur\", axis=1)\n",
    "X = df1\n",
    "y = label\n"
   ]
  },
  {
   "cell_type": "markdown",
   "source": [],
   "metadata": {
    "collapsed": false
   },
   "id": "f7fa289a50d87423"
  },
  {
   "cell_type": "code",
   "execution_count": 40,
   "id": "e694a236",
   "metadata": {
    "ExecuteTime": {
     "end_time": "2024-02-08T15:32:15.937654200Z",
     "start_time": "2024-02-08T15:32:15.937146800Z"
    }
   },
   "outputs": [
    {
     "data": {
      "text/plain": "       X-Koordinate  Y-Koordinate\n0           0.00068       0.00098\n1           0.00116       0.00048\n2           0.00082      -0.00020\n3           0.00052      -0.00148\n4           0.00248      -0.00024\n...             ...           ...\n30346       0.00296      -0.00092\n30347       0.00052       0.00128\n30348       0.00008      -0.00088\n30349       0.00156       0.00034\n30350       0.00234       0.00074\n\n[30351 rows x 2 columns]",
      "text/html": "<div>\n<style scoped>\n    .dataframe tbody tr th:only-of-type {\n        vertical-align: middle;\n    }\n\n    .dataframe tbody tr th {\n        vertical-align: top;\n    }\n\n    .dataframe thead th {\n        text-align: right;\n    }\n</style>\n<table border=\"1\" class=\"dataframe\">\n  <thead>\n    <tr style=\"text-align: right;\">\n      <th></th>\n      <th>X-Koordinate</th>\n      <th>Y-Koordinate</th>\n    </tr>\n  </thead>\n  <tbody>\n    <tr>\n      <th>0</th>\n      <td>0.00068</td>\n      <td>0.00098</td>\n    </tr>\n    <tr>\n      <th>1</th>\n      <td>0.00116</td>\n      <td>0.00048</td>\n    </tr>\n    <tr>\n      <th>2</th>\n      <td>0.00082</td>\n      <td>-0.00020</td>\n    </tr>\n    <tr>\n      <th>3</th>\n      <td>0.00052</td>\n      <td>-0.00148</td>\n    </tr>\n    <tr>\n      <th>4</th>\n      <td>0.00248</td>\n      <td>-0.00024</td>\n    </tr>\n    <tr>\n      <th>...</th>\n      <td>...</td>\n      <td>...</td>\n    </tr>\n    <tr>\n      <th>30346</th>\n      <td>0.00296</td>\n      <td>-0.00092</td>\n    </tr>\n    <tr>\n      <th>30347</th>\n      <td>0.00052</td>\n      <td>0.00128</td>\n    </tr>\n    <tr>\n      <th>30348</th>\n      <td>0.00008</td>\n      <td>-0.00088</td>\n    </tr>\n    <tr>\n      <th>30349</th>\n      <td>0.00156</td>\n      <td>0.00034</td>\n    </tr>\n    <tr>\n      <th>30350</th>\n      <td>0.00234</td>\n      <td>0.00074</td>\n    </tr>\n  </tbody>\n</table>\n<p>30351 rows × 2 columns</p>\n</div>"
     },
     "execution_count": 40,
     "metadata": {},
     "output_type": "execute_result"
    }
   ],
   "source": [
    "X"
   ]
  },
  {
   "cell_type": "code",
   "execution_count": 41,
   "id": "3f3303b4",
   "metadata": {
    "ExecuteTime": {
     "end_time": "2024-02-08T15:32:16.148396200Z",
     "start_time": "2024-02-08T15:32:16.129542900Z"
    }
   },
   "outputs": [
    {
     "data": {
      "text/plain": "0        806.23\n1        863.18\n2        898.40\n3        725.87\n4        741.80\n          ...  \n30346    657.96\n30347    728.92\n30348    863.65\n30349    844.40\n30350    753.46\nName: Temperatur, Length: 30351, dtype: float64"
     },
     "execution_count": 41,
     "metadata": {},
     "output_type": "execute_result"
    }
   ],
   "source": [
    "y"
   ]
  },
  {
   "cell_type": "code",
   "execution_count": 42,
   "id": "e3ad8da0",
   "metadata": {
    "ExecuteTime": {
     "end_time": "2024-02-08T15:32:16.887732900Z",
     "start_time": "2024-02-08T15:32:16.835977500Z"
    }
   },
   "outputs": [],
   "source": [
    " # train_df enthält 80% der Daten, test_df enthält 20% der Daten\n",
    "X_train, X_test, y_train, y_test = train_test_split(X, y, test_size=0.20, random_state=42)\n"
   ]
  },
  {
   "cell_type": "code",
   "execution_count": 43,
   "id": "9c705edb",
   "metadata": {
    "ExecuteTime": {
     "end_time": "2024-02-08T15:32:17.990801900Z",
     "start_time": "2024-02-08T15:32:17.956274700Z"
    }
   },
   "outputs": [],
   "source": [
    "# Initialisiere einen MinMaxScaler für die Features\n",
    "scaler_features = MinMaxScaler()\n",
    "scaler_features2 = MinMaxScaler()\n",
    "# Skaliere X_train und X_test\n",
    "X_train_scaled = scaler_features.fit_transform(X_train)\n",
    "X_test_scaled = scaler_features.transform(X_test)  # Nutze unterschiedliche Skalierungsparameter\n",
    "\n",
    "# Initialisiere einen SEPARATEN MinMaxScaler für das Ziel, wenn nötig\n",
    "scaler_target = MinMaxScaler()\n",
    "\n",
    "\n",
    "# Skaliere y_train und y_test. Beachte, dass y_train.reshape(-1, 1) verwendet wird, da MinMaxScaler \n",
    "# erwartet, dass die Eingaben als 2D-Arrays kommen, und Ziele normalerweise als 1D-Arrays vorliegen.\n",
    "y_train_scaled = scaler_target.fit_transform(y_train.values.reshape(-1, 1))\n",
    "y_test_scaled = scaler_target.transform(y_test.values.reshape(-1, 1))\n"
   ]
  },
  {
   "cell_type": "code",
   "execution_count": 44,
   "id": "bbefe631e495b483",
   "metadata": {
    "ExecuteTime": {
     "end_time": "2024-02-08T15:32:18.673004300Z",
     "start_time": "2024-02-08T15:32:18.656871100Z"
    }
   },
   "outputs": [
    {
     "data": {
      "text/plain": "array([[0.95333333, 0.29      ],\n       [0.17333333, 0.545     ],\n       [0.18666667, 0.505     ],\n       ...,\n       [0.82666667, 0.695     ],\n       [0.94666667, 0.375     ],\n       [0.22      , 0.015     ]])"
     },
     "execution_count": 44,
     "metadata": {},
     "output_type": "execute_result"
    }
   ],
   "source": [
    "X_train_scaled"
   ]
  },
  {
   "cell_type": "code",
   "execution_count": 45,
   "outputs": [
    {
     "data": {
      "text/plain": "0.9999999999999999"
     },
     "execution_count": 45,
     "metadata": {},
     "output_type": "execute_result"
    }
   ],
   "source": [
    "y_train_scaled.max()"
   ],
   "metadata": {
    "collapsed": false,
    "ExecuteTime": {
     "end_time": "2024-02-08T15:32:20.294347900Z",
     "start_time": "2024-02-08T15:32:20.257929300Z"
    }
   },
   "id": "ce04ce43aac2242f"
  },
  {
   "cell_type": "code",
   "execution_count": 46,
   "id": "a6eccbb7534cd064",
   "metadata": {
    "ExecuteTime": {
     "end_time": "2024-02-08T15:32:20.941327800Z",
     "start_time": "2024-02-08T15:32:20.941327800Z"
    }
   },
   "outputs": [],
   "source": [
    "# Lernplan erstellen\n",
    "#initial_learning_rate = 0.1\n",
    "#lr_schedule = tf.keras.optimizers.schedules.ExponentialDecay(\n",
    "#    initial_learning_rate, decay_steps=100, decay_rate=0.9, staircase=True)"
   ]
  },
  {
   "cell_type": "code",
   "execution_count": 47,
   "outputs": [
    {
     "name": "stdout",
     "output_type": "stream",
     "text": [
      "Epoch 1/100\n",
      "389/389 [==============================] - 1s 1ms/step - loss: 0.5103 - mae: 0.1924 - val_loss: 0.3350 - val_mae: 0.0773\n",
      "Epoch 2/100\n",
      "389/389 [==============================] - 0s 887us/step - loss: 0.2468 - mae: 0.0604 - val_loss: 0.1734 - val_mae: 0.0494\n",
      "Epoch 3/100\n",
      "389/389 [==============================] - 0s 926us/step - loss: 0.1257 - mae: 0.0516 - val_loss: 0.0867 - val_mae: 0.0524\n",
      "Epoch 4/100\n",
      "389/389 [==============================] - 0s 912us/step - loss: 0.0620 - mae: 0.0541 - val_loss: 0.0419 - val_mae: 0.0563\n",
      "Epoch 5/100\n",
      "389/389 [==============================] - 0s 932us/step - loss: 0.0301 - mae: 0.0553 - val_loss: 0.0207 - val_mae: 0.0572\n",
      "Epoch 6/100\n",
      "389/389 [==============================] - 0s 926us/step - loss: 0.0158 - mae: 0.0562 - val_loss: 0.0118 - val_mae: 0.0578\n",
      "Epoch 7/100\n",
      "389/389 [==============================] - 0s 886us/step - loss: 0.0101 - mae: 0.0564 - val_loss: 0.0085 - val_mae: 0.0546\n",
      "Epoch 8/100\n",
      "389/389 [==============================] - 0s 896us/step - loss: 0.0080 - mae: 0.0553 - val_loss: 0.0073 - val_mae: 0.0543\n",
      "Epoch 9/100\n",
      "389/389 [==============================] - 0s 912us/step - loss: 0.0072 - mae: 0.0533 - val_loss: 0.0066 - val_mae: 0.0511\n",
      "Epoch 10/100\n",
      "389/389 [==============================] - 0s 886us/step - loss: 0.0066 - mae: 0.0506 - val_loss: 0.0063 - val_mae: 0.0471\n",
      "Epoch 11/100\n",
      "389/389 [==============================] - 0s 887us/step - loss: 0.0062 - mae: 0.0479 - val_loss: 0.0058 - val_mae: 0.0481\n",
      "Epoch 12/100\n",
      "389/389 [==============================] - 0s 870us/step - loss: 0.0059 - mae: 0.0455 - val_loss: 0.0056 - val_mae: 0.0427\n",
      "Epoch 13/100\n",
      "389/389 [==============================] - 0s 910us/step - loss: 0.0055 - mae: 0.0429 - val_loss: 0.0052 - val_mae: 0.0399\n",
      "Epoch 14/100\n",
      "389/389 [==============================] - 0s 894us/step - loss: 0.0052 - mae: 0.0406 - val_loss: 0.0049 - val_mae: 0.0400\n",
      "Epoch 15/100\n",
      "389/389 [==============================] - 0s 886us/step - loss: 0.0049 - mae: 0.0383 - val_loss: 0.0047 - val_mae: 0.0400\n",
      "Epoch 16/100\n",
      "389/389 [==============================] - 0s 886us/step - loss: 0.0045 - mae: 0.0353 - val_loss: 0.0041 - val_mae: 0.0318\n",
      "Epoch 17/100\n",
      "389/389 [==============================] - 0s 886us/step - loss: 0.0039 - mae: 0.0314 - val_loss: 0.0035 - val_mae: 0.0296\n",
      "Epoch 18/100\n",
      "389/389 [==============================] - 0s 886us/step - loss: 0.0035 - mae: 0.0292 - val_loss: 0.0032 - val_mae: 0.0273\n",
      "Epoch 19/100\n",
      "389/389 [==============================] - 0s 886us/step - loss: 0.0033 - mae: 0.0280 - val_loss: 0.0031 - val_mae: 0.0293\n",
      "Epoch 20/100\n",
      "389/389 [==============================] - 0s 886us/step - loss: 0.0030 - mae: 0.0271 - val_loss: 0.0028 - val_mae: 0.0275\n",
      "Epoch 21/100\n",
      "389/389 [==============================] - 0s 886us/step - loss: 0.0029 - mae: 0.0267 - val_loss: 0.0028 - val_mae: 0.0282\n",
      "Epoch 22/100\n",
      "389/389 [==============================] - 0s 886us/step - loss: 0.0027 - mae: 0.0262 - val_loss: 0.0031 - val_mae: 0.0325\n",
      "Epoch 23/100\n",
      "389/389 [==============================] - 0s 926us/step - loss: 0.0026 - mae: 0.0256 - val_loss: 0.0024 - val_mae: 0.0239\n",
      "Epoch 24/100\n",
      "389/389 [==============================] - 0s 886us/step - loss: 0.0025 - mae: 0.0253 - val_loss: 0.0023 - val_mae: 0.0232\n",
      "Epoch 25/100\n",
      "389/389 [==============================] - 0s 926us/step - loss: 0.0024 - mae: 0.0243 - val_loss: 0.0022 - val_mae: 0.0233\n",
      "Epoch 26/100\n",
      "389/389 [==============================] - 0s 886us/step - loss: 0.0023 - mae: 0.0231 - val_loss: 0.0021 - val_mae: 0.0233\n",
      "Epoch 27/100\n",
      "389/389 [==============================] - 0s 937us/step - loss: 0.0022 - mae: 0.0219 - val_loss: 0.0019 - val_mae: 0.0208\n",
      "Epoch 28/100\n",
      "389/389 [==============================] - 0s 966us/step - loss: 0.0021 - mae: 0.0210 - val_loss: 0.0025 - val_mae: 0.0322\n",
      "Epoch 29/100\n",
      "389/389 [==============================] - 0s 886us/step - loss: 0.0020 - mae: 0.0203 - val_loss: 0.0019 - val_mae: 0.0231\n",
      "Epoch 30/100\n",
      "389/389 [==============================] - 0s 886us/step - loss: 0.0019 - mae: 0.0194 - val_loss: 0.0018 - val_mae: 0.0188\n",
      "Epoch 31/100\n",
      "389/389 [==============================] - 0s 886us/step - loss: 0.0018 - mae: 0.0185 - val_loss: 0.0017 - val_mae: 0.0195\n",
      "Epoch 32/100\n",
      "389/389 [==============================] - 0s 886us/step - loss: 0.0018 - mae: 0.0182 - val_loss: 0.0016 - val_mae: 0.0177\n",
      "Epoch 33/100\n",
      "389/389 [==============================] - 0s 886us/step - loss: 0.0017 - mae: 0.0181 - val_loss: 0.0017 - val_mae: 0.0200\n",
      "Epoch 34/100\n",
      "389/389 [==============================] - 0s 888us/step - loss: 0.0016 - mae: 0.0175 - val_loss: 0.0014 - val_mae: 0.0155\n",
      "Epoch 35/100\n",
      "389/389 [==============================] - 0s 886us/step - loss: 0.0016 - mae: 0.0167 - val_loss: 0.0014 - val_mae: 0.0165\n",
      "Epoch 36/100\n",
      "389/389 [==============================] - 0s 886us/step - loss: 0.0015 - mae: 0.0167 - val_loss: 0.0013 - val_mae: 0.0160\n",
      "Epoch 37/100\n",
      "389/389 [==============================] - 0s 886us/step - loss: 0.0015 - mae: 0.0162 - val_loss: 0.0013 - val_mae: 0.0137\n",
      "Epoch 38/100\n",
      "389/389 [==============================] - 0s 926us/step - loss: 0.0014 - mae: 0.0157 - val_loss: 0.0012 - val_mae: 0.0151\n",
      "Epoch 39/100\n",
      "389/389 [==============================] - 0s 886us/step - loss: 0.0014 - mae: 0.0153 - val_loss: 0.0016 - val_mae: 0.0223\n",
      "Epoch 40/100\n",
      "389/389 [==============================] - 0s 886us/step - loss: 0.0013 - mae: 0.0149 - val_loss: 0.0012 - val_mae: 0.0150\n",
      "Epoch 41/100\n",
      "389/389 [==============================] - 0s 886us/step - loss: 0.0013 - mae: 0.0147 - val_loss: 0.0014 - val_mae: 0.0166\n",
      "Epoch 42/100\n",
      "389/389 [==============================] - 0s 886us/step - loss: 0.0013 - mae: 0.0143 - val_loss: 0.0011 - val_mae: 0.0126\n",
      "Epoch 43/100\n",
      "389/389 [==============================] - 0s 886us/step - loss: 0.0013 - mae: 0.0147 - val_loss: 0.0011 - val_mae: 0.0142\n",
      "Epoch 44/100\n",
      "389/389 [==============================] - 0s 886us/step - loss: 0.0012 - mae: 0.0147 - val_loss: 0.0011 - val_mae: 0.0138\n",
      "Epoch 45/100\n",
      "389/389 [==============================] - 0s 886us/step - loss: 0.0012 - mae: 0.0141 - val_loss: 9.8290e-04 - val_mae: 0.0128\n",
      "Epoch 46/100\n",
      "389/389 [==============================] - 0s 926us/step - loss: 0.0012 - mae: 0.0139 - val_loss: 0.0010 - val_mae: 0.0140\n",
      "Epoch 47/100\n",
      "389/389 [==============================] - 0s 886us/step - loss: 0.0011 - mae: 0.0135 - val_loss: 9.2995e-04 - val_mae: 0.0111\n",
      "Epoch 48/100\n",
      "389/389 [==============================] - 0s 886us/step - loss: 0.0011 - mae: 0.0139 - val_loss: 9.3474e-04 - val_mae: 0.0119\n",
      "Epoch 49/100\n",
      "389/389 [==============================] - 0s 886us/step - loss: 0.0011 - mae: 0.0129 - val_loss: 8.9994e-04 - val_mae: 0.0119\n",
      "Epoch 50/100\n",
      "389/389 [==============================] - 0s 886us/step - loss: 0.0011 - mae: 0.0131 - val_loss: 9.1714e-04 - val_mae: 0.0130\n",
      "Epoch 51/100\n",
      "389/389 [==============================] - 0s 886us/step - loss: 0.0011 - mae: 0.0132 - val_loss: 8.4973e-04 - val_mae: 0.0106\n",
      "Epoch 52/100\n",
      "389/389 [==============================] - 0s 862us/step - loss: 0.0010 - mae: 0.0128 - val_loss: 8.4336e-04 - val_mae: 0.0107\n",
      "Epoch 53/100\n",
      "389/389 [==============================] - 0s 886us/step - loss: 0.0010 - mae: 0.0130 - val_loss: 8.2751e-04 - val_mae: 0.0104\n",
      "Epoch 54/100\n",
      "361/389 [==========================>...] - ETA: 0s - loss: 0.0010 - mae: 0.0133    Restoring model weights from the end of the best epoch: 49.\n",
      "389/389 [==============================] - 0s 886us/step - loss: 0.0010 - mae: 0.0132 - val_loss: 8.2274e-04 - val_mae: 0.0105\n",
      "Epoch 54: early stopping\n"
     ]
    }
   ],
   "source": [
    "# Netzwerkarchitektur\n",
    "model = Sequential([\n",
    "    # Eingabeschicht\n",
    "    Dense(32, activation='relu', input_shape=(2,), kernel_initializer='he_uniform', kernel_regularizer=l2(0.01)),\n",
    "    #Dropout(0.01),\n",
    "    # Versteckte Schicht\n",
    "    #Dense(8, activation='relu', kernel_initializer='he_uniform', kernel_regularizer=l2(0.01)),\n",
    "    #Dropout(0.01),\n",
    "    # Ausgabeschicht für Regression (1 Einheit ohne Aktivierungsfunktion)\n",
    "    Dense(1 , activation = 'linear')\n",
    "])\n",
    "\n",
    "# Optimierer\n",
    "optimizer = 'adam' #Adam(learningrate =  0.001)\n",
    "\n",
    "# Modell kompilieren (Verwendung von mean_squared_error als Verlustfunktion für Regression)\n",
    "model.compile(optimizer=optimizer,\n",
    "              loss='mean_squared_error',\n",
    "              metrics=['mae'])  # Metriken für Regression: Mean Absolute Error und Mean Squared Error\n",
    "\n",
    "# Early Stopping Callback\n",
    "early_stopping = EarlyStopping(monitor='loss', patience=5, verbose=1, mode='min', restore_best_weights=True, min_delta = 0.0001)\n",
    "\n",
    "# Trainingsparameter\n",
    "batch_size = 50\n",
    "epochs = 100\n",
    "\n",
    "# Modell trainieren (Annahme: X_train, y_train, X_val, y_val sind vordefiniert)\n",
    "history = model.fit(X_train_scaled, y_train_scaled,\n",
    "                    batch_size=batch_size,\n",
    "                    epochs=epochs,\n",
    "                    validation_split=0.2,\n",
    "                    callbacks=[early_stopping])"
   ],
   "metadata": {
    "collapsed": false,
    "ExecuteTime": {
     "end_time": "2024-02-08T15:32:41.173239700Z",
     "start_time": "2024-02-08T15:32:21.666640200Z"
    }
   },
   "id": "8b52e1a9a6ff3aeb"
  },
  {
   "cell_type": "code",
   "execution_count": 48,
   "outputs": [
    {
     "data": {
      "text/plain": "<Figure size 1000x600 with 1 Axes>",
      "image/png": "[encoded data removed]"
     },
     "metadata": {},
     "output_type": "display_data"
    }
   ],
   "source": [
    "mae = history.history['loss']\n",
    "val_mae = history.history['val_loss']\n",
    "\n",
    "epochs = range(1, len(mae) + 1)\n",
    "\n",
    "# MAE Diagramm\n",
    "plt.figure(figsize=(10, 6))\n",
    "plt.plot(epochs, mae, 'r', label='Training MAE')\n",
    "plt.plot(epochs, val_mae, 'b', label='Validation MAE')\n",
    "plt.title('Training and Validation MAE')\n",
    "plt.xlabel('Epochs')\n",
    "plt.ylabel('MAE')\n",
    "plt.legend()\n",
    "\n",
    "plt.show()"
   ],
   "metadata": {
    "collapsed": false,
    "ExecuteTime": {
     "end_time": "2024-02-08T15:32:45.098631400Z",
     "start_time": "2024-02-08T15:32:44.975339700Z"
    }
   },
   "id": "3688dd7102e95baf"
  },
  {
   "cell_type": "code",
   "execution_count": 49,
   "id": "9f6f672a",
   "metadata": {
    "ExecuteTime": {
     "end_time": "2024-02-08T15:32:47.313575700Z",
     "start_time": "2024-02-08T15:32:47.053728Z"
    }
   },
   "outputs": [
    {
     "name": "stdout",
     "output_type": "stream",
     "text": [
      " Bsp. Predicted: [731.1383] Actual: [735.8] \n",
      "Durchschnittliche Abweichung (MAE): [11.53362534]\n"
     ]
    }
   ],
   "source": [
    "scaled_predicted_values = model.predict(X_test_scaled, verbose = 0)\n",
    "\n",
    "# Führen Sie die Rücktransformation der skalierten Werte durch\n",
    "original_predicted_values = scaler_target.inverse_transform(scaled_predicted_values)\n",
    "original_actual_values = scaler_target.inverse_transform(y_test_scaled)  # y_test sind die skalierten tatsächlichen Werte\n",
    "print(f' Bsp. Predicted: {original_predicted_values[100]} Actual: {original_actual_values[100]} ')\n",
    "\n",
    "def calculate_mae(list1, list2):\n",
    "    # Stelle sicher, dass beide Listen die gleiche Länge haben\n",
    "    if len(list1) != len(list2):\n",
    "        raise ValueError(\"Listen müssen die gleiche Länge haben\")\n",
    "    \n",
    "    # Berechne die absolute Differenz zwischen den Elementen der Listen\n",
    "    differences = [abs(x - y) for x, y in zip(list1, list2)]\n",
    "    \n",
    "    # Berechne den Durchschnitt der absoluten Differenzen\n",
    "    mae = sum(differences) / len(differences)\n",
    "    \n",
    "    return mae\n",
    "\n",
    "# Beispiel\n",
    "list1 = original_predicted_values\n",
    "list2 = original_actual_values\n",
    "\n",
    "mae = calculate_mae(list1, list2)\n",
    "print(f\"Durchschnittliche Abweichung (MAE): {mae}\")"
   ]
  },
  {
   "cell_type": "markdown",
   "id": "553df6fa",
   "metadata": {},
   "source": [
    "# GridSearch"
   ]
  },
  {
   "cell_type": "code",
   "execution_count": 11,
   "id": "1dca80c2",
   "metadata": {},
   "outputs": [
    {
     "name": "stdout",
     "output_type": "stream",
     "text": [
      "WARNING:tensorflow:From C:\\Users\\erikm\\anaconda3\\Lib\\site-packages\\keras\\backend.py:873: The name tf.get_default_graph is deprecated. Please use tf.compat.v1.get_default_graph instead.\n",
      "\n",
      "WARNING:tensorflow:From C:\\Users\\erikm\\anaconda3\\Lib\\site-packages\\keras\\optimizers\\__init__.py:300: The name tf.train.Optimizer is deprecated. Please use tf.compat.v1.train.Optimizer instead.\n",
      "\n",
      "Epoch 1/10\n",
      "WARNING:tensorflow:From C:\\Users\\erikm\\anaconda3\\Lib\\site-packages\\keras\\utils\\tf_utils.py:490: The name tf.ragged.RaggedTensorValue is deprecated. Please use tf.compat.v1.ragged.RaggedTensorValue instead.\n",
      "\n",
      "WARNING:tensorflow:From C:\\Users\\erikm\\anaconda3\\Lib\\site-packages\\keras\\engine\\base_layer_utils.py:380: The name tf.executing_eagerly_outside_functions is deprecated. Please use tf.compat.v1.executing_eagerly_outside_functions instead.\n",
      "\n",
      "3025/3025 [==============================] - 6s 2ms/step - loss: 0.0097 - mean_squared_error: 0.0097\n",
      "Epoch 2/10\n",
      "3025/3025 [==============================] - 5s 2ms/step - loss: 0.0026 - mean_squared_error: 0.0026\n",
      "Epoch 3/10\n",
      "3025/3025 [==============================] - 5s 2ms/step - loss: 0.0025 - mean_squared_error: 0.0025\n",
      "Epoch 4/10\n",
      "3025/3025 [==============================] - 5s 2ms/step - loss: 0.0025 - mean_squared_error: 0.0025\n",
      "Epoch 5/10\n",
      "3025/3025 [==============================] - 5s 2ms/step - loss: 0.0025 - mean_squared_error: 0.0025\n",
      "Epoch 6/10\n",
      "3025/3025 [==============================] - 5s 2ms/step - loss: 0.0025 - mean_squared_error: 0.0025\n",
      "Epoch 7/10\n",
      "3025/3025 [==============================] - 5s 2ms/step - loss: 0.0025 - mean_squared_error: 0.0025\n",
      "Epoch 8/10\n",
      "3025/3025 [==============================] - 5s 2ms/step - loss: 0.0025 - mean_squared_error: 0.0025\n",
      "Epoch 9/10\n",
      "3025/3025 [==============================] - 5s 2ms/step - loss: 0.0025 - mean_squared_error: 0.0025\n",
      "Epoch 10/10\n",
      "3025/3025 [==============================] - 5s 2ms/step - loss: 0.0025 - mean_squared_error: 0.0025\n",
      "Best: 0.844394 using {'model__activation': 'relu', 'model__optimizer': 'adam'}\n",
      "0.844394 with: {'model__activation': 'relu', 'model__optimizer': 'adam'}\n",
      "0.827458 with: {'model__activation': 'relu', 'model__optimizer': 'sgd'}\n",
      "0.834291 with: {'model__activation': 'tanh', 'model__optimizer': 'adam'}\n",
      "0.630665 with: {'model__activation': 'tanh', 'model__optimizer': 'sgd'}\n"
     ]
    }
   ],
   "source": [
    "# Schritt 1: Definiere dein Modell als eine Funktion, die Hyperparameter akzeptiert\n",
    "def build_model(optimizer='adam', activation='relu'):\n",
    "    model = Sequential()\n",
    "    model.add(Dense(units=64, activation=activation, input_dim=X_train_scaled.shape[1]))\n",
    "    model.add(Dense(units=32, activation=activation))\n",
    "    model.add(Dense(units=1, activation='linear'))\n",
    "    model.compile(optimizer=optimizer, loss='mean_squared_error', metrics=['mean_squared_error'])\n",
    "    return model\n",
    "\n",
    "# Schritt 2: Erstelle eine Instanz von KerasRegressor ohne batch_size und epochs im param_grid\n",
    "model = KerasRegressor(model=build_model, verbose=1)\n",
    "\n",
    "# Schritt 3: Definiere den Parameter-Raum für die Grid-Suche OHNE batch_size und epochs\n",
    "param_grid = {\n",
    "    'model__optimizer': ['adam', 'sgd'],\n",
    "    'model__activation': ['relu', 'tanh']\n",
    "}\n",
    "\n",
    "# Optional: Definiere Fit-Parameter (wie batch_size und epochs) separat\n",
    "fit_params = {\n",
    "    'batch_size': 32,\n",
    "    'epochs': 10\n",
    "}\n",
    "\n",
    "# Schritt 4: Führe GridSearchCV aus mit fit_params, wenn nötig\n",
    "grid = GridSearchCV(estimator=model, param_grid=param_grid, n_jobs=-1, cv=3)\n",
    "grid_result = grid.fit(X_train_scaled, y_train_scaled, **fit_params)\n",
    "\n",
    "# Ergebnisse ausgeben\n",
    "print(\"Best: %f using %s\" % (grid_result.best_score_, grid_result.best_params_))\n",
    "for mean_score, params in zip(grid_result.cv_results_['mean_test_score'], grid_result.cv_results_['params']):\n",
    "    print(\"%f with: %r\" % (mean_score, params))\n"
   ]
  },
  {
   "cell_type": "code",
   "execution_count": 12,
   "id": "3f17e2cf",
   "metadata": {},
   "outputs": [
    {
     "name": "stdout",
     "output_type": "stream",
     "text": [
      "Epoch 1/5\n",
      "4840/4840 [==============================] - 10s 2ms/step - loss: 0.0053 - mean_squared_error: 0.0053\n",
      "Epoch 2/5\n",
      "4840/4840 [==============================] - 9s 2ms/step - loss: 0.0026 - mean_squared_error: 0.0026\n",
      "Epoch 3/5\n",
      "4840/4840 [==============================] - 8s 2ms/step - loss: 0.0026 - mean_squared_error: 0.0026\n",
      "Epoch 4/5\n",
      "4840/4840 [==============================] - 8s 2ms/step - loss: 0.0025 - mean_squared_error: 0.0025\n",
      "Epoch 5/5\n",
      "4840/4840 [==============================] - 8s 2ms/step - loss: 0.0025 - mean_squared_error: 0.0025\n",
      "Best: 0.845704 using {'fit__batch_size': 20, 'fit__epochs': 5, 'model__activation': 'relu', 'model__optimizer': 'adam'}\n",
      "0.840889 with: {'fit__batch_size': 10, 'fit__epochs': 5, 'model__activation': 'relu', 'model__optimizer': 'adam'}\n",
      "0.834983 with: {'fit__batch_size': 10, 'fit__epochs': 5, 'model__activation': 'relu', 'model__optimizer': 'sgd'}\n",
      "0.833309 with: {'fit__batch_size': 10, 'fit__epochs': 5, 'model__activation': 'tanh', 'model__optimizer': 'adam'}\n",
      "0.761438 with: {'fit__batch_size': 10, 'fit__epochs': 5, 'model__activation': 'tanh', 'model__optimizer': 'sgd'}\n",
      "0.840925 with: {'fit__batch_size': 10, 'fit__epochs': 10, 'model__activation': 'relu', 'model__optimizer': 'adam'}\n",
      "0.841489 with: {'fit__batch_size': 10, 'fit__epochs': 10, 'model__activation': 'relu', 'model__optimizer': 'sgd'}\n",
      "0.831441 with: {'fit__batch_size': 10, 'fit__epochs': 10, 'model__activation': 'tanh', 'model__optimizer': 'adam'}\n",
      "0.781805 with: {'fit__batch_size': 10, 'fit__epochs': 10, 'model__activation': 'tanh', 'model__optimizer': 'sgd'}\n",
      "0.845704 with: {'fit__batch_size': 20, 'fit__epochs': 5, 'model__activation': 'relu', 'model__optimizer': 'adam'}\n",
      "0.815947 with: {'fit__batch_size': 20, 'fit__epochs': 5, 'model__activation': 'relu', 'model__optimizer': 'sgd'}\n",
      "0.813188 with: {'fit__batch_size': 20, 'fit__epochs': 5, 'model__activation': 'tanh', 'model__optimizer': 'adam'}\n",
      "0.624004 with: {'fit__batch_size': 20, 'fit__epochs': 5, 'model__activation': 'tanh', 'model__optimizer': 'sgd'}\n",
      "0.842122 with: {'fit__batch_size': 20, 'fit__epochs': 10, 'model__activation': 'relu', 'model__optimizer': 'adam'}\n",
      "0.834650 with: {'fit__batch_size': 20, 'fit__epochs': 10, 'model__activation': 'relu', 'model__optimizer': 'sgd'}\n",
      "0.832776 with: {'fit__batch_size': 20, 'fit__epochs': 10, 'model__activation': 'tanh', 'model__optimizer': 'adam'}\n",
      "0.719563 with: {'fit__batch_size': 20, 'fit__epochs': 10, 'model__activation': 'tanh', 'model__optimizer': 'sgd'}\n",
      "0.843238 with: {'fit__batch_size': 32, 'fit__epochs': 5, 'model__activation': 'relu', 'model__optimizer': 'adam'}\n",
      "0.786332 with: {'fit__batch_size': 32, 'fit__epochs': 5, 'model__activation': 'relu', 'model__optimizer': 'sgd'}\n",
      "0.831336 with: {'fit__batch_size': 32, 'fit__epochs': 5, 'model__activation': 'tanh', 'model__optimizer': 'adam'}\n",
      "0.421701 with: {'fit__batch_size': 32, 'fit__epochs': 5, 'model__activation': 'tanh', 'model__optimizer': 'sgd'}\n",
      "0.831880 with: {'fit__batch_size': 32, 'fit__epochs': 10, 'model__activation': 'relu', 'model__optimizer': 'adam'}\n",
      "0.825473 with: {'fit__batch_size': 32, 'fit__epochs': 10, 'model__activation': 'relu', 'model__optimizer': 'sgd'}\n",
      "0.834078 with: {'fit__batch_size': 32, 'fit__epochs': 10, 'model__activation': 'tanh', 'model__optimizer': 'adam'}\n",
      "0.688854 with: {'fit__batch_size': 32, 'fit__epochs': 10, 'model__activation': 'tanh', 'model__optimizer': 'sgd'}\n"
     ]
    }
   ],
   "source": [
    "def build_model(optimizer='adam', activation='relu'):\n",
    "    model = Sequential()\n",
    "    model.add(Dense(units=64, activation=activation, input_dim=X_train_scaled.shape[1]))\n",
    "    model.add(Dense(units=32, activation=activation))\n",
    "    model.add(Dense(units=1, activation='linear'))\n",
    "    model.compile(optimizer=optimizer, loss='mean_squared_error', metrics=['mean_squared_error'])\n",
    "    return model\n",
    "\n",
    "model = KerasRegressor(model=build_model, verbose=1)\n",
    "\n",
    "param_grid = {\n",
    "    'model__optimizer': ['adam', 'sgd'],\n",
    "    'model__activation': ['relu', 'tanh'],\n",
    "    'fit__batch_size': [10, 20, 32],  # Testen verschiedener batch_size Werte\n",
    "    'fit__epochs': [5, 10]  # Optional: Testen verschiedener epoch Werte\n",
    "}\n",
    "\n",
    "grid = GridSearchCV(estimator=model, param_grid=param_grid, n_jobs=-1, cv=3)\n",
    "grid_result = grid.fit(X_train_scaled, y_train_scaled)\n",
    "\n",
    "# Ergebnisse ausgeben\n",
    "print(\"Best: %f using %s\" % (grid_result.best_score_, grid_result.best_params_))\n",
    "for mean_score, params in zip(grid_result.cv_results_['mean_test_score'], grid_result.cv_results_['params']):\n",
    "    print(\"%f with: %r\" % (mean_score, params))\n"
   ]
  },
  {
   "cell_type": "code",
   "execution_count": null,
   "id": "492cf0ed",
   "metadata": {},
   "outputs": [],
   "source": []
  }
 ],
 "metadata": {
  "kernelspec": {
   "display_name": "Python 3 (ipykernel)",
   "language": "python",
   "name": "python3"
  },
  "language_info": {
   "codemirror_mode": {
    "name": "ipython",
    "version": 3
   },
   "file_extension": ".py",
   "mimetype": "text/x-python",
   "name": "python",
   "nbconvert_exporter": "python",
   "pygments_lexer": "ipython3",
   "version": "3.11.4"
  }
 },
 "nbformat": 4,
 "nbformat_minor": 5
}
