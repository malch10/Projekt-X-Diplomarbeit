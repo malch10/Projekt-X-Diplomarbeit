{
 "cells": [
  {
   "cell_type": "code",
   "execution_count": 2,
   "id": "94b0518e",
   "metadata": {
    "ExecuteTime": {
     "end_time": "2024-02-22T09:50:38.590991400Z",
     "start_time": "2024-02-22T09:50:25.501335900Z"
    }
   },
   "outputs": [
    {
     "name": "stdout",
     "output_type": "stream",
     "text": [
      "WARNING:tensorflow:From C:\\Users\\erikm\\Desktop\\Diplomarbeit Erik Marr\\Projekt X\\venv\\Lib\\site-packages\\keras\\src\\losses.py:2976: The name tf.losses.sparse_softmax_cross_entropy is deprecated. Please use tf.compat.v1.losses.sparse_softmax_cross_entropy instead.\n"
     ]
    }
   ],
   "source": [
    "import numpy as np\n",
    "import tensorflow as tf\n",
    "import matplotlib.pyplot as plt\n",
    "from sklearn.model_selection import train_test_split\n",
    "from sklearn.preprocessing import MinMaxScaler, StandardScaler\n",
    "import pandas as pd\n",
    "from tensorflow.keras.models import Sequential\n",
    "from tensorflow.keras.layers import Dense , Dropout\n",
    "from sklearn.model_selection import GridSearchCV\n",
    "from scikeras.wrappers import KerasRegressor \n",
    "from tensorflow.keras.regularizers import l2\n",
    "from tensorflow.keras.callbacks import EarlyStopping\n",
    "from tensorflow.keras.optimizers import Adam\n",
    "import time\n",
    "from keras_tuner import HyperModel\n",
    "from keras.models import Sequential\n",
    "from keras.layers import Dense, Dropout\n",
    "from keras.optimizers import Adam\n",
    "from keras.regularizers import l2\n",
    "from keras.callbacks import EarlyStopping\n",
    "from keras_tuner import RandomSearch\n",
    "\n",
    "from tensorflow.keras.models import Sequential\n",
    "from tensorflow.keras.layers import Dense\n",
    "from tensorflow.keras.optimizers import Adam\n",
    "from tensorflow.keras.regularizers import l2\n",
    "from tensorflow.keras.wrappers.scikit_learn import KerasRegressor\n",
    "from sklearn.model_selection import GridSearchCV"
   ]
  },
  {
   "cell_type": "code",
   "execution_count": 3,
   "id": "e4ff61b1",
   "metadata": {
    "ExecuteTime": {
     "end_time": "2024-02-22T09:50:38.639619400Z",
     "start_time": "2024-02-22T09:50:38.591992300Z"
    }
   },
   "outputs": [
    {
     "data": {
      "text/plain": "        X-Koordinate  Y-Koordinate  Zeitpunkt  Strom  Kraft  Temperatur\n0             0.0000      -0.00200        500   7000   9000      669.05\n1             0.0000      -0.00199        500   7000   9000      675.83\n2             0.0000      -0.00198        500   7000   9000      682.81\n3             0.0000      -0.00197        500   7000   9000      689.82\n4             0.0000      -0.00196        500   7000   9000      696.80\n...              ...           ...        ...    ...    ...         ...\n100646        0.0025       0.00196        500   7000   9000      578.47\n100647        0.0025       0.00197        500   7000   9000      576.89\n100648        0.0025       0.00198        500   7000   9000      575.32\n100649        0.0025       0.00199        500   7000   9000      573.76\n100650        0.0025       0.00200        500   7000   9000      572.20\n\n[100651 rows x 6 columns]",
      "text/html": "<div>\n<style scoped>\n    .dataframe tbody tr th:only-of-type {\n        vertical-align: middle;\n    }\n\n    .dataframe tbody tr th {\n        vertical-align: top;\n    }\n\n    .dataframe thead th {\n        text-align: right;\n    }\n</style>\n<table border=\"1\" class=\"dataframe\">\n  <thead>\n    <tr style=\"text-align: right;\">\n      <th></th>\n      <th>X-Koordinate</th>\n      <th>Y-Koordinate</th>\n      <th>Zeitpunkt</th>\n      <th>Strom</th>\n      <th>Kraft</th>\n      <th>Temperatur</th>\n    </tr>\n  </thead>\n  <tbody>\n    <tr>\n      <th>0</th>\n      <td>0.0000</td>\n      <td>-0.00200</td>\n      <td>500</td>\n      <td>7000</td>\n      <td>9000</td>\n      <td>669.05</td>\n    </tr>\n    <tr>\n      <th>1</th>\n      <td>0.0000</td>\n      <td>-0.00199</td>\n      <td>500</td>\n      <td>7000</td>\n      <td>9000</td>\n      <td>675.83</td>\n    </tr>\n    <tr>\n      <th>2</th>\n      <td>0.0000</td>\n      <td>-0.00198</td>\n      <td>500</td>\n      <td>7000</td>\n      <td>9000</td>\n      <td>682.81</td>\n    </tr>\n    <tr>\n      <th>3</th>\n      <td>0.0000</td>\n      <td>-0.00197</td>\n      <td>500</td>\n      <td>7000</td>\n      <td>9000</td>\n      <td>689.82</td>\n    </tr>\n    <tr>\n      <th>4</th>\n      <td>0.0000</td>\n      <td>-0.00196</td>\n      <td>500</td>\n      <td>7000</td>\n      <td>9000</td>\n      <td>696.80</td>\n    </tr>\n    <tr>\n      <th>...</th>\n      <td>...</td>\n      <td>...</td>\n      <td>...</td>\n      <td>...</td>\n      <td>...</td>\n      <td>...</td>\n    </tr>\n    <tr>\n      <th>100646</th>\n      <td>0.0025</td>\n      <td>0.00196</td>\n      <td>500</td>\n      <td>7000</td>\n      <td>9000</td>\n      <td>578.47</td>\n    </tr>\n    <tr>\n      <th>100647</th>\n      <td>0.0025</td>\n      <td>0.00197</td>\n      <td>500</td>\n      <td>7000</td>\n      <td>9000</td>\n      <td>576.89</td>\n    </tr>\n    <tr>\n      <th>100648</th>\n      <td>0.0025</td>\n      <td>0.00198</td>\n      <td>500</td>\n      <td>7000</td>\n      <td>9000</td>\n      <td>575.32</td>\n    </tr>\n    <tr>\n      <th>100649</th>\n      <td>0.0025</td>\n      <td>0.00199</td>\n      <td>500</td>\n      <td>7000</td>\n      <td>9000</td>\n      <td>573.76</td>\n    </tr>\n    <tr>\n      <th>100650</th>\n      <td>0.0025</td>\n      <td>0.00200</td>\n      <td>500</td>\n      <td>7000</td>\n      <td>9000</td>\n      <td>572.20</td>\n    </tr>\n  </tbody>\n</table>\n<p>100651 rows × 6 columns</p>\n</div>"
     },
     "execution_count": 3,
     "metadata": {},
     "output_type": "execute_result"
    }
   ],
   "source": [
    "#data = pd.read_pickle('C:/Users/erikm/Desktop/Diplomarbeit Erik Marr/Daten/Finish/TPath_300_finish_data.pkl')\n",
    "data = pd.read_pickle('C:/Users/erikm/Desktop/Diplomarbeit Erik Marr/Daten/Finish_D1_I7000_F9000/TPath_500_finish_data_D1.pkl')\n",
    "\n",
    "data"
   ]
  },
  {
   "cell_type": "code",
   "execution_count": 4,
   "id": "966e3c74",
   "metadata": {
    "ExecuteTime": {
     "end_time": "2024-02-22T09:50:38.639619400Z",
     "start_time": "2024-02-22T09:50:38.619745300Z"
    }
   },
   "outputs": [
    {
     "data": {
      "text/plain": "        X-Koordinate  Y-Koordinate  Temperatur\n0             0.0000      -0.00200      669.05\n1             0.0000      -0.00199      675.83\n2             0.0000      -0.00198      682.81\n3             0.0000      -0.00197      689.82\n4             0.0000      -0.00196      696.80\n...              ...           ...         ...\n100646        0.0025       0.00196      578.47\n100647        0.0025       0.00197      576.89\n100648        0.0025       0.00198      575.32\n100649        0.0025       0.00199      573.76\n100650        0.0025       0.00200      572.20\n\n[100651 rows x 3 columns]",
      "text/html": "<div>\n<style scoped>\n    .dataframe tbody tr th:only-of-type {\n        vertical-align: middle;\n    }\n\n    .dataframe tbody tr th {\n        vertical-align: top;\n    }\n\n    .dataframe thead th {\n        text-align: right;\n    }\n</style>\n<table border=\"1\" class=\"dataframe\">\n  <thead>\n    <tr style=\"text-align: right;\">\n      <th></th>\n      <th>X-Koordinate</th>\n      <th>Y-Koordinate</th>\n      <th>Temperatur</th>\n    </tr>\n  </thead>\n  <tbody>\n    <tr>\n      <th>0</th>\n      <td>0.0000</td>\n      <td>-0.00200</td>\n      <td>669.05</td>\n    </tr>\n    <tr>\n      <th>1</th>\n      <td>0.0000</td>\n      <td>-0.00199</td>\n      <td>675.83</td>\n    </tr>\n    <tr>\n      <th>2</th>\n      <td>0.0000</td>\n      <td>-0.00198</td>\n      <td>682.81</td>\n    </tr>\n    <tr>\n      <th>3</th>\n      <td>0.0000</td>\n      <td>-0.00197</td>\n      <td>689.82</td>\n    </tr>\n    <tr>\n      <th>4</th>\n      <td>0.0000</td>\n      <td>-0.00196</td>\n      <td>696.80</td>\n    </tr>\n    <tr>\n      <th>...</th>\n      <td>...</td>\n      <td>...</td>\n      <td>...</td>\n    </tr>\n    <tr>\n      <th>100646</th>\n      <td>0.0025</td>\n      <td>0.00196</td>\n      <td>578.47</td>\n    </tr>\n    <tr>\n      <th>100647</th>\n      <td>0.0025</td>\n      <td>0.00197</td>\n      <td>576.89</td>\n    </tr>\n    <tr>\n      <th>100648</th>\n      <td>0.0025</td>\n      <td>0.00198</td>\n      <td>575.32</td>\n    </tr>\n    <tr>\n      <th>100649</th>\n      <td>0.0025</td>\n      <td>0.00199</td>\n      <td>573.76</td>\n    </tr>\n    <tr>\n      <th>100650</th>\n      <td>0.0025</td>\n      <td>0.00200</td>\n      <td>572.20</td>\n    </tr>\n  </tbody>\n</table>\n<p>100651 rows × 3 columns</p>\n</div>"
     },
     "execution_count": 4,
     "metadata": {},
     "output_type": "execute_result"
    }
   ],
   "source": [
    "df = data.drop(data.columns[2:5], axis = 1)\n",
    "df"
   ]
  },
  {
   "cell_type": "code",
   "execution_count": 5,
   "id": "8783d1d6",
   "metadata": {
    "ExecuteTime": {
     "end_time": "2024-02-22T09:50:38.659060400Z",
     "start_time": "2024-02-22T09:50:38.631619700Z"
    }
   },
   "outputs": [
    {
     "name": "stdout",
     "output_type": "stream",
     "text": [
      "       X-Koordinate  Y-Koordinate  Temperatur\n",
      "83145       0.00207      -0.00062      1282.2\n",
      "66701       0.00166      -0.00065      1347.6\n",
      "91325       0.00227       0.00098      1094.6\n",
      "46593       0.00116      -0.00123      1175.7\n",
      "49518       0.00123      -0.00005      1459.2\n",
      "...             ...           ...         ...\n",
      "6265        0.00015       0.00050      1439.1\n",
      "54886       0.00136       0.00150       876.7\n",
      "76820       0.00191       0.00029      1335.8\n",
      "860         0.00002      -0.00142      1071.2\n",
      "15795       0.00039      -0.00044      1488.1\n",
      "\n",
      "[100651 rows x 3 columns]\n"
     ]
    },
    {
     "data": {
      "text/plain": "        X-Koordinate  Y-Koordinate  Temperatur\n0            0.00207      -0.00062      1282.2\n1            0.00166      -0.00065      1347.6\n2            0.00227       0.00098      1094.6\n3            0.00116      -0.00123      1175.7\n4            0.00123      -0.00005      1459.2\n...              ...           ...         ...\n100646       0.00015       0.00050      1439.1\n100647       0.00136       0.00150       876.7\n100648       0.00191       0.00029      1335.8\n100649       0.00002      -0.00142      1071.2\n100650       0.00039      -0.00044      1488.1\n\n[100651 rows x 3 columns]",
      "text/html": "<div>\n<style scoped>\n    .dataframe tbody tr th:only-of-type {\n        vertical-align: middle;\n    }\n\n    .dataframe tbody tr th {\n        vertical-align: top;\n    }\n\n    .dataframe thead th {\n        text-align: right;\n    }\n</style>\n<table border=\"1\" class=\"dataframe\">\n  <thead>\n    <tr style=\"text-align: right;\">\n      <th></th>\n      <th>X-Koordinate</th>\n      <th>Y-Koordinate</th>\n      <th>Temperatur</th>\n    </tr>\n  </thead>\n  <tbody>\n    <tr>\n      <th>0</th>\n      <td>0.00207</td>\n      <td>-0.00062</td>\n      <td>1282.2</td>\n    </tr>\n    <tr>\n      <th>1</th>\n      <td>0.00166</td>\n      <td>-0.00065</td>\n      <td>1347.6</td>\n    </tr>\n    <tr>\n      <th>2</th>\n      <td>0.00227</td>\n      <td>0.00098</td>\n      <td>1094.6</td>\n    </tr>\n    <tr>\n      <th>3</th>\n      <td>0.00116</td>\n      <td>-0.00123</td>\n      <td>1175.7</td>\n    </tr>\n    <tr>\n      <th>4</th>\n      <td>0.00123</td>\n      <td>-0.00005</td>\n      <td>1459.2</td>\n    </tr>\n    <tr>\n      <th>...</th>\n      <td>...</td>\n      <td>...</td>\n      <td>...</td>\n    </tr>\n    <tr>\n      <th>100646</th>\n      <td>0.00015</td>\n      <td>0.00050</td>\n      <td>1439.1</td>\n    </tr>\n    <tr>\n      <th>100647</th>\n      <td>0.00136</td>\n      <td>0.00150</td>\n      <td>876.7</td>\n    </tr>\n    <tr>\n      <th>100648</th>\n      <td>0.00191</td>\n      <td>0.00029</td>\n      <td>1335.8</td>\n    </tr>\n    <tr>\n      <th>100649</th>\n      <td>0.00002</td>\n      <td>-0.00142</td>\n      <td>1071.2</td>\n    </tr>\n    <tr>\n      <th>100650</th>\n      <td>0.00039</td>\n      <td>-0.00044</td>\n      <td>1488.1</td>\n    </tr>\n  </tbody>\n</table>\n<p>100651 rows × 3 columns</p>\n</div>"
     },
     "execution_count": 5,
     "metadata": {},
     "output_type": "execute_result"
    }
   ],
   "source": [
    "df1 = df.sample(frac=1, random_state=42)  # Hier wird 42 als Random State verwendet, um die Ergebnisse reproduzierbar zu machen\n",
    "\n",
    "print(df1)\n",
    "df_reset = df1.reset_index(drop=True)\n",
    "df_reset"
   ]
  },
  {
   "cell_type": "code",
   "execution_count": 6,
   "id": "a4e72a16",
   "metadata": {
    "ExecuteTime": {
     "end_time": "2024-02-22T09:50:38.659060400Z",
     "start_time": "2024-02-22T09:50:38.647420500Z"
    }
   },
   "outputs": [],
   "source": [
    "label = df_reset[\"Temperatur\"]\n",
    "# Korrektur: Verwenden Sie den Spaltennamen direkt, ohne Indexierung der columns-Eigenschaft\n",
    "df1 = df_reset.drop(\"Temperatur\", axis=1)\n",
    "X = df1\n",
    "y = label\n"
   ]
  },
  {
   "cell_type": "markdown",
   "source": [],
   "metadata": {
    "collapsed": false
   },
   "id": "f7fa289a50d87423"
  },
  {
   "cell_type": "code",
   "execution_count": 7,
   "id": "e694a236",
   "metadata": {
    "ExecuteTime": {
     "end_time": "2024-02-22T09:50:38.709846Z",
     "start_time": "2024-02-22T09:50:38.653061100Z"
    }
   },
   "outputs": [
    {
     "data": {
      "text/plain": "        X-Koordinate  Y-Koordinate\ncount  100651.000000  1.006510e+05\nmean        0.001250  1.103042e-20\nstd         0.000725  1.157589e-03\nmin         0.000000 -2.000000e-03\n25%         0.000620 -1.000000e-03\n50%         0.001250  4.529900e-18\n75%         0.001880  1.000000e-03\nmax         0.002500  2.000000e-03",
      "text/html": "<div>\n<style scoped>\n    .dataframe tbody tr th:only-of-type {\n        vertical-align: middle;\n    }\n\n    .dataframe tbody tr th {\n        vertical-align: top;\n    }\n\n    .dataframe thead th {\n        text-align: right;\n    }\n</style>\n<table border=\"1\" class=\"dataframe\">\n  <thead>\n    <tr style=\"text-align: right;\">\n      <th></th>\n      <th>X-Koordinate</th>\n      <th>Y-Koordinate</th>\n    </tr>\n  </thead>\n  <tbody>\n    <tr>\n      <th>count</th>\n      <td>100651.000000</td>\n      <td>1.006510e+05</td>\n    </tr>\n    <tr>\n      <th>mean</th>\n      <td>0.001250</td>\n      <td>1.103042e-20</td>\n    </tr>\n    <tr>\n      <th>std</th>\n      <td>0.000725</td>\n      <td>1.157589e-03</td>\n    </tr>\n    <tr>\n      <th>min</th>\n      <td>0.000000</td>\n      <td>-2.000000e-03</td>\n    </tr>\n    <tr>\n      <th>25%</th>\n      <td>0.000620</td>\n      <td>-1.000000e-03</td>\n    </tr>\n    <tr>\n      <th>50%</th>\n      <td>0.001250</td>\n      <td>4.529900e-18</td>\n    </tr>\n    <tr>\n      <th>75%</th>\n      <td>0.001880</td>\n      <td>1.000000e-03</td>\n    </tr>\n    <tr>\n      <th>max</th>\n      <td>0.002500</td>\n      <td>2.000000e-03</td>\n    </tr>\n  </tbody>\n</table>\n</div>"
     },
     "execution_count": 7,
     "metadata": {},
     "output_type": "execute_result"
    }
   ],
   "source": [
    "X.describe()"
   ]
  },
  {
   "cell_type": "code",
   "execution_count": 8,
   "id": "3f3303b4",
   "metadata": {
    "ExecuteTime": {
     "end_time": "2024-02-22T09:50:38.799377500Z",
     "start_time": "2024-02-22T09:50:38.670890300Z"
    }
   },
   "outputs": [
    {
     "data": {
      "text/plain": "count    100651.000000\nmean       1144.030064\nstd         264.135723\nmin         572.200000\n25%         937.330000\n50%        1201.100000\n75%        1368.700000\nmax        1520.000000\nName: Temperatur, dtype: float64"
     },
     "execution_count": 8,
     "metadata": {},
     "output_type": "execute_result"
    }
   ],
   "source": [
    "y.describe()\n"
   ]
  },
  {
   "cell_type": "code",
   "execution_count": 9,
   "id": "e3ad8da0",
   "metadata": {
    "ExecuteTime": {
     "end_time": "2024-02-22T09:50:38.833562200Z",
     "start_time": "2024-02-22T09:50:38.680996600Z"
    }
   },
   "outputs": [],
   "source": [
    " # train_df enthält 80% der Daten, test_df enthält 20% der Daten\n",
    "X_train, X_test, y_train, y_test = train_test_split(X, y, test_size=0.20, random_state=42)\n"
   ]
  },
  {
   "cell_type": "code",
   "execution_count": 10,
   "id": "9c705edb",
   "metadata": {
    "ExecuteTime": {
     "end_time": "2024-02-22T09:50:38.859633900Z",
     "start_time": "2024-02-22T09:50:38.689697100Z"
    }
   },
   "outputs": [],
   "source": [
    "# Initialisiere einen MinMaxScaler für die Features\n",
    "scaler_features = MinMaxScaler()\n",
    "scaler_features2 = MinMaxScaler()\n",
    "# Skaliere X_train und X_test\n",
    "X_train_scaled = scaler_features.fit_transform(X_train)\n",
    "X_test_scaled = scaler_features.transform(X_test)  # Nutze unterschiedliche Skalierungsparameter\n",
    "\n",
    "# Initialisiere einen SEPARATEN MinMaxScaler für das Ziel, wenn nötig\n",
    "scaler_target = MinMaxScaler()\n",
    "\n",
    "\n",
    "# Skaliere y_train und y_test. Beachte, dass y_train.reshape(-1, 1) verwendet wird, da MinMaxScaler \n",
    "# erwartet, dass die Eingaben als 2D-Arrays kommen, und Ziele normalerweise als 1D-Arrays vorliegen.\n",
    "y_train_scaled = scaler_target.fit_transform(y_train.values.reshape(-1, 1))\n",
    "y_test_scaled = scaler_target.transform(y_test.values.reshape(-1, 1))\n"
   ]
  },
  {
   "cell_type": "code",
   "execution_count": 11,
   "id": "bbefe631e495b483",
   "metadata": {
    "ExecuteTime": {
     "end_time": "2024-02-22T09:50:38.860633100Z",
     "start_time": "2024-02-22T09:50:38.699530500Z"
    }
   },
   "outputs": [
    {
     "data": {
      "text/plain": "array([[0.416 , 0.5725],\n       [0.812 , 0.7325],\n       [0.628 , 0.5075],\n       ...,\n       [0.604 , 0.3875],\n       [0.748 , 0.65  ],\n       [0.028 , 0.6225]])"
     },
     "execution_count": 11,
     "metadata": {},
     "output_type": "execute_result"
    }
   ],
   "source": [
    "X_train_scaled"
   ]
  },
  {
   "cell_type": "code",
   "execution_count": 23,
   "outputs": [
    {
     "name": "stdout",
     "output_type": "stream",
     "text": [
      "Epoch 1/200\n",
      "323/323 [==============================] - 2s 3ms/step - loss: 0.1719 - mae: 0.0765 - val_loss: 0.1117 - val_mae: 0.0109\n",
      "Epoch 2/200\n",
      "323/323 [==============================] - 1s 3ms/step - loss: 0.1030 - mae: 0.0131 - val_loss: 0.0951 - val_mae: 0.0107\n",
      "Epoch 3/200\n",
      "323/323 [==============================] - 1s 3ms/step - loss: 0.0892 - mae: 0.0130 - val_loss: 0.0833 - val_mae: 0.0114\n",
      "Epoch 4/200\n",
      "323/323 [==============================] - 1s 3ms/step - loss: 0.0784 - mae: 0.0087 - val_loss: 0.0736 - val_mae: 0.0054\n",
      "Epoch 5/200\n",
      "323/323 [==============================] - 1s 3ms/step - loss: 0.0696 - mae: 0.0092 - val_loss: 0.0655 - val_mae: 0.0045\n",
      "Epoch 6/200\n",
      "323/323 [==============================] - 1s 3ms/step - loss: 0.0620 - mae: 0.0081 - val_loss: 0.0588 - val_mae: 0.0141\n",
      "Epoch 7/200\n",
      "323/323 [==============================] - 1s 3ms/step - loss: 0.0554 - mae: 0.0084 - val_loss: 0.0528 - val_mae: 0.0187\n",
      "Epoch 8/200\n",
      "323/323 [==============================] - 1s 3ms/step - loss: 0.0495 - mae: 0.0079 - val_loss: 0.0468 - val_mae: 0.0100\n",
      "Epoch 9/200\n",
      "323/323 [==============================] - 1s 3ms/step - loss: 0.0441 - mae: 0.0071 - val_loss: 0.0417 - val_mae: 0.0106\n",
      "Epoch 10/200\n",
      "323/323 [==============================] - 1s 3ms/step - loss: 0.0392 - mae: 0.0072 - val_loss: 0.0368 - val_mae: 0.0048\n",
      "Epoch 11/200\n",
      "323/323 [==============================] - 1s 3ms/step - loss: 0.0346 - mae: 0.0064 - val_loss: 0.0324 - val_mae: 0.0035\n",
      "Epoch 12/200\n",
      "323/323 [==============================] - 1s 3ms/step - loss: 0.0304 - mae: 0.0066 - val_loss: 0.0284 - val_mae: 0.0072\n",
      "Epoch 13/200\n",
      "323/323 [==============================] - 1s 3ms/step - loss: 0.0265 - mae: 0.0058 - val_loss: 0.0247 - val_mae: 0.0067\n",
      "Epoch 14/200\n",
      "323/323 [==============================] - 1s 3ms/step - loss: 0.0230 - mae: 0.0063 - val_loss: 0.0213 - val_mae: 0.0038\n",
      "Epoch 15/200\n",
      "323/323 [==============================] - 1s 3ms/step - loss: 0.0198 - mae: 0.0067 - val_loss: 0.0182 - val_mae: 0.0041\n",
      "Epoch 16/200\n",
      "323/323 [==============================] - 1s 3ms/step - loss: 0.0170 - mae: 0.0068 - val_loss: 0.0156 - val_mae: 0.0067\n",
      "Epoch 17/200\n",
      "323/323 [==============================] - 1s 3ms/step - loss: 0.0144 - mae: 0.0066 - val_loss: 0.0139 - val_mae: 0.0237\n",
      "Epoch 18/200\n",
      "323/323 [==============================] - 1s 3ms/step - loss: 0.0123 - mae: 0.0069 - val_loss: 0.0112 - val_mae: 0.0053\n",
      "Epoch 19/200\n",
      "323/323 [==============================] - 1s 3ms/step - loss: 0.0103 - mae: 0.0056 - val_loss: 0.0095 - val_mae: 0.0070\n",
      "Epoch 20/200\n",
      "323/323 [==============================] - 1s 3ms/step - loss: 0.0087 - mae: 0.0070 - val_loss: 0.0081 - val_mae: 0.0117\n",
      "Epoch 21/200\n",
      "323/323 [==============================] - 1s 3ms/step - loss: 0.0074 - mae: 0.0081 - val_loss: 0.0068 - val_mae: 0.0113\n",
      "Epoch 22/200\n",
      "323/323 [==============================] - 1s 3ms/step - loss: 0.0062 - mae: 0.0061 - val_loss: 0.0061 - val_mae: 0.0183\n",
      "Epoch 23/200\n",
      "323/323 [==============================] - 1s 3ms/step - loss: 0.0052 - mae: 0.0065 - val_loss: 0.0051 - val_mae: 0.0175\n",
      "Epoch 24/200\n",
      "323/323 [==============================] - 1s 3ms/step - loss: 0.0044 - mae: 0.0069 - val_loss: 0.0041 - val_mae: 0.0068\n",
      "Epoch 25/200\n",
      "323/323 [==============================] - 1s 3ms/step - loss: 0.0038 - mae: 0.0078 - val_loss: 0.0035 - val_mae: 0.0062\n",
      "Epoch 26/200\n",
      "323/323 [==============================] - 1s 3ms/step - loss: 0.0033 - mae: 0.0065 - val_loss: 0.0037 - val_mae: 0.0193\n",
      "Epoch 27/200\n",
      "323/323 [==============================] - 1s 3ms/step - loss: 0.0029 - mae: 0.0069 - val_loss: 0.0028 - val_mae: 0.0132\n",
      "Epoch 28/200\n",
      "323/323 [==============================] - 1s 3ms/step - loss: 0.0025 - mae: 0.0070 - val_loss: 0.0025 - val_mae: 0.0121\n",
      "Epoch 29/200\n",
      "323/323 [==============================] - 1s 3ms/step - loss: 0.0023 - mae: 0.0078 - val_loss: 0.0022 - val_mae: 0.0098\n",
      "Epoch 30/200\n",
      "323/323 [==============================] - 1s 3ms/step - loss: 0.0020 - mae: 0.0062 - val_loss: 0.0019 - val_mae: 0.0040\n",
      "Epoch 31/200\n",
      "323/323 [==============================] - 1s 3ms/step - loss: 0.0019 - mae: 0.0070 - val_loss: 0.0020 - val_mae: 0.0144\n",
      "Epoch 32/200\n",
      "323/323 [==============================] - 1s 3ms/step - loss: 0.0018 - mae: 0.0081 - val_loss: 0.0017 - val_mae: 0.0070\n",
      "Epoch 33/200\n",
      "323/323 [==============================] - 1s 3ms/step - loss: 0.0016 - mae: 0.0068 - val_loss: 0.0017 - val_mae: 0.0124\n",
      "Epoch 34/200\n",
      "323/323 [==============================] - 1s 3ms/step - loss: 0.0015 - mae: 0.0067 - val_loss: 0.0015 - val_mae: 0.0062\n",
      "Epoch 35/200\n",
      "323/323 [==============================] - 1s 3ms/step - loss: 0.0015 - mae: 0.0069 - val_loss: 0.0017 - val_mae: 0.0159\n",
      "Epoch 36/200\n",
      "323/323 [==============================] - 1s 3ms/step - loss: 0.0014 - mae: 0.0080 - val_loss: 0.0014 - val_mae: 0.0072\n",
      "Epoch 37/200\n",
      "323/323 [==============================] - 1s 3ms/step - loss: 0.0014 - mae: 0.0066 - val_loss: 0.0013 - val_mae: 0.0061\n",
      "Epoch 38/200\n",
      "323/323 [==============================] - 1s 3ms/step - loss: 0.0013 - mae: 0.0060 - val_loss: 0.0013 - val_mae: 0.0057\n",
      "Epoch 39/200\n",
      "323/323 [==============================] - 1s 3ms/step - loss: 0.0013 - mae: 0.0075 - val_loss: 0.0012 - val_mae: 0.0069\n",
      "Epoch 40/200\n",
      "323/323 [==============================] - 1s 3ms/step - loss: 0.0012 - mae: 0.0065 - val_loss: 0.0012 - val_mae: 0.0044\n",
      "Epoch 41/200\n",
      "323/323 [==============================] - 1s 3ms/step - loss: 0.0013 - mae: 0.0083 - val_loss: 0.0012 - val_mae: 0.0058\n",
      "Epoch 42/200\n",
      "323/323 [==============================] - 1s 3ms/step - loss: 0.0012 - mae: 0.0064 - val_loss: 0.0011 - val_mae: 0.0044\n",
      "Epoch 43/200\n",
      "323/323 [==============================] - 1s 3ms/step - loss: 0.0012 - mae: 0.0070 - val_loss: 0.0011 - val_mae: 0.0049\n",
      "Epoch 44/200\n",
      "323/323 [==============================] - 1s 3ms/step - loss: 0.0012 - mae: 0.0071 - val_loss: 0.0011 - val_mae: 0.0045\n",
      "Epoch 45/200\n",
      "323/323 [==============================] - 1s 3ms/step - loss: 0.0011 - mae: 0.0064 - val_loss: 0.0016 - val_mae: 0.0214\n",
      "Epoch 46/200\n",
      "323/323 [==============================] - 1s 3ms/step - loss: 0.0011 - mae: 0.0070 - val_loss: 0.0011 - val_mae: 0.0079\n",
      "Epoch 47/200\n",
      "323/323 [==============================] - 1s 3ms/step - loss: 0.0011 - mae: 0.0076 - val_loss: 0.0010 - val_mae: 0.0048\n",
      "Epoch 48/200\n",
      "323/323 [==============================] - 1s 3ms/step - loss: 0.0011 - mae: 0.0064 - val_loss: 0.0013 - val_mae: 0.0122\n",
      "Epoch 49/200\n",
      "323/323 [==============================] - 1s 3ms/step - loss: 0.0011 - mae: 0.0066 - val_loss: 0.0011 - val_mae: 0.0078\n",
      "Epoch 50/200\n",
      "323/323 [==============================] - 1s 3ms/step - loss: 0.0011 - mae: 0.0080 - val_loss: 0.0012 - val_mae: 0.0112\n",
      "Epoch 51/200\n",
      "323/323 [==============================] - 1s 3ms/step - loss: 0.0010 - mae: 0.0060 - val_loss: 0.0010 - val_mae: 0.0045\n",
      "Epoch 52/200\n",
      "323/323 [==============================] - 1s 3ms/step - loss: 0.0011 - mae: 0.0069 - val_loss: 9.7742e-04 - val_mae: 0.0035\n",
      "Epoch 53/200\n",
      "323/323 [==============================] - 1s 3ms/step - loss: 0.0010 - mae: 0.0063 - val_loss: 0.0014 - val_mae: 0.0190\n",
      "Epoch 54/200\n",
      "323/323 [==============================] - 1s 3ms/step - loss: 0.0010 - mae: 0.0073 - val_loss: 0.0010 - val_mae: 0.0077\n",
      "Epoch 55/200\n",
      "323/323 [==============================] - 1s 3ms/step - loss: 0.0010 - mae: 0.0066 - val_loss: 0.0011 - val_mae: 0.0094\n",
      "Epoch 56/200\n",
      "323/323 [==============================] - 1s 3ms/step - loss: 0.0010 - mae: 0.0066 - val_loss: 9.8488e-04 - val_mae: 0.0068\n",
      "Epoch 57/200\n",
      "323/323 [==============================] - 1s 3ms/step - loss: 9.8786e-04 - mae: 0.0065 - val_loss: 0.0013 - val_mae: 0.0159\n",
      "Epoch 58/200\n",
      "323/323 [==============================] - 1s 3ms/step - loss: 0.0010 - mae: 0.0071 - val_loss: 9.4238e-04 - val_mae: 0.0047\n",
      "Epoch 59/200\n",
      "323/323 [==============================] - 1s 3ms/step - loss: 9.9349e-04 - mae: 0.0068 - val_loss: 0.0012 - val_mae: 0.0159\n",
      "Epoch 60/200\n",
      "323/323 [==============================] - 1s 3ms/step - loss: 9.8327e-04 - mae: 0.0068 - val_loss: 0.0011 - val_mae: 0.0099\n",
      "Epoch 61/200\n",
      "323/323 [==============================] - 1s 3ms/step - loss: 9.4145e-04 - mae: 0.0055 - val_loss: 0.0014 - val_mae: 0.0201\n",
      "Epoch 62/200\n",
      "323/323 [==============================] - 1s 3ms/step - loss: 9.7258e-04 - mae: 0.0069 - val_loss: 9.2434e-04 - val_mae: 0.0050\n",
      "Epoch 63/200\n",
      "323/323 [==============================] - 1s 3ms/step - loss: 9.6057e-04 - mae: 0.0068 - val_loss: 9.8226e-04 - val_mae: 0.0084\n",
      "Epoch 64/200\n",
      "323/323 [==============================] - 1s 3ms/step - loss: 9.5330e-04 - mae: 0.0069 - val_loss: 9.1904e-04 - val_mae: 0.0058\n",
      "Epoch 65/200\n",
      "323/323 [==============================] - 1s 3ms/step - loss: 9.9323e-04 - mae: 0.0073 - val_loss: 9.3616e-04 - val_mae: 0.0065\n",
      "Epoch 66/200\n",
      "323/323 [==============================] - 1s 3ms/step - loss: 9.1243e-04 - mae: 0.0055 - val_loss: 0.0017 - val_mae: 0.0245\n",
      "Epoch 67/200\n",
      "323/323 [==============================] - 1s 3ms/step - loss: 9.4994e-04 - mae: 0.0068 - val_loss: 0.0010 - val_mae: 0.0107\n",
      "Epoch 68/200\n",
      "323/323 [==============================] - 1s 3ms/step - loss: 9.3289e-04 - mae: 0.0067 - val_loss: 0.0011 - val_mae: 0.0149\n",
      "Epoch 69/200\n",
      "323/323 [==============================] - 1s 3ms/step - loss: 9.4663e-04 - mae: 0.0071 - val_loss: 0.0012 - val_mae: 0.0149\n",
      "Epoch 70/200\n",
      "323/323 [==============================] - 1s 3ms/step - loss: 9.2651e-04 - mae: 0.0067 - val_loss: 0.0011 - val_mae: 0.0132\n",
      "Epoch 71/200\n",
      "323/323 [==============================] - 1s 3ms/step - loss: 8.9658e-04 - mae: 0.0058 - val_loss: 8.7438e-04 - val_mae: 0.0048\n",
      "Epoch 72/200\n",
      "323/323 [==============================] - 1s 3ms/step - loss: 9.2082e-04 - mae: 0.0071 - val_loss: 9.0775e-04 - val_mae: 0.0077\n",
      "Epoch 73/200\n",
      "323/323 [==============================] - 1s 3ms/step - loss: 9.1825e-04 - mae: 0.0070 - val_loss: 8.6034e-04 - val_mae: 0.0046\n",
      "Epoch 74/200\n",
      "323/323 [==============================] - 1s 3ms/step - loss: 8.8345e-04 - mae: 0.0058 - val_loss: 9.4279e-04 - val_mae: 0.0096\n",
      "Epoch 75/200\n",
      "323/323 [==============================] - 1s 3ms/step - loss: 9.5705e-04 - mae: 0.0078 - val_loss: 8.7337e-04 - val_mae: 0.0059\n",
      "Epoch 76/200\n",
      "323/323 [==============================] - 1s 3ms/step - loss: 9.0061e-04 - mae: 0.0063 - val_loss: 8.6943e-04 - val_mae: 0.0061\n",
      "Epoch 77/200\n",
      "323/323 [==============================] - 1s 3ms/step - loss: 8.7716e-04 - mae: 0.0059 - val_loss: 8.9667e-04 - val_mae: 0.0081\n",
      "Epoch 78/200\n",
      "323/323 [==============================] - 1s 3ms/step - loss: 9.2570e-04 - mae: 0.0074 - val_loss: 8.8049e-04 - val_mae: 0.0068\n",
      "Epoch 79/200\n",
      "323/323 [==============================] - 1s 3ms/step - loss: 8.7397e-04 - mae: 0.0062 - val_loss: 8.7301e-04 - val_mae: 0.0071\n",
      "Epoch 80/200\n",
      "323/323 [==============================] - 1s 3ms/step - loss: 8.8481e-04 - mae: 0.0066 - val_loss: 9.1028e-04 - val_mae: 0.0090\n",
      "Epoch 81/200\n",
      "323/323 [==============================] - 1s 3ms/step - loss: 8.5483e-04 - mae: 0.0056 - val_loss: 8.3139e-04 - val_mae: 0.0045\n",
      "Epoch 82/200\n",
      "323/323 [==============================] - 1s 3ms/step - loss: 9.0646e-04 - mae: 0.0075 - val_loss: 9.2538e-04 - val_mae: 0.0094\n",
      "Epoch 83/200\n",
      "323/323 [==============================] - 1s 3ms/step - loss: 8.6526e-04 - mae: 0.0064 - val_loss: 8.3967e-04 - val_mae: 0.0056\n",
      "Epoch 84/200\n",
      "323/323 [==============================] - 1s 3ms/step - loss: 8.4046e-04 - mae: 0.0055 - val_loss: 8.2648e-04 - val_mae: 0.0046\n",
      "Epoch 85/200\n",
      "323/323 [==============================] - 1s 3ms/step - loss: 8.6148e-04 - mae: 0.0065 - val_loss: 8.1385e-04 - val_mae: 0.0043\n",
      "Epoch 86/200\n",
      "323/323 [==============================] - 1s 3ms/step - loss: 8.5684e-04 - mae: 0.0064 - val_loss: 8.1479e-04 - val_mae: 0.0048\n",
      "Epoch 87/200\n",
      "323/323 [==============================] - 1s 3ms/step - loss: 8.6768e-04 - mae: 0.0068 - val_loss: 8.0015e-04 - val_mae: 0.0036\n",
      "Epoch 88/200\n",
      "323/323 [==============================] - 1s 3ms/step - loss: 8.5291e-04 - mae: 0.0065 - val_loss: 8.2905e-04 - val_mae: 0.0058\n",
      "Epoch 89/200\n",
      "323/323 [==============================] - 1s 3ms/step - loss: 8.4832e-04 - mae: 0.0067 - val_loss: 0.0010 - val_mae: 0.0128\n",
      "Epoch 90/200\n",
      "323/323 [==============================] - 1s 3ms/step - loss: 8.9161e-04 - mae: 0.0078 - val_loss: 8.5365e-04 - val_mae: 0.0068\n",
      "Epoch 91/200\n",
      "323/323 [==============================] - 1s 3ms/step - loss: 8.1499e-04 - mae: 0.0051 - val_loss: 0.0015 - val_mae: 0.0194\n",
      "Epoch 92/200\n",
      "323/323 [==============================] - 1s 3ms/step - loss: 8.5104e-04 - mae: 0.0069 - val_loss: 9.1886e-04 - val_mae: 0.0108\n",
      "Epoch 93/200\n",
      "323/323 [==============================] - 1s 3ms/step - loss: 8.4245e-04 - mae: 0.0065 - val_loss: 0.0011 - val_mae: 0.0121\n",
      "Epoch 94/200\n",
      "323/323 [==============================] - 1s 3ms/step - loss: 8.2076e-04 - mae: 0.0059 - val_loss: 7.8350e-04 - val_mae: 0.0041\n",
      "Epoch 95/200\n",
      "323/323 [==============================] - 1s 3ms/step - loss: 8.8125e-04 - mae: 0.0084 - val_loss: 0.0011 - val_mae: 0.0157\n",
      "Epoch 96/200\n",
      "323/323 [==============================] - 1s 3ms/step - loss: 8.0844e-04 - mae: 0.0053 - val_loss: 8.0505e-04 - val_mae: 0.0060\n",
      "Epoch 97/200\n",
      "323/323 [==============================] - 1s 3ms/step - loss: 8.2606e-04 - mae: 0.0063 - val_loss: 7.7843e-04 - val_mae: 0.0040\n",
      "Epoch 98/200\n",
      "323/323 [==============================] - 1s 3ms/step - loss: 8.0525e-04 - mae: 0.0058 - val_loss: 8.6291e-04 - val_mae: 0.0092\n",
      "Epoch 99/200\n",
      "323/323 [==============================] - 1s 3ms/step - loss: 8.4865e-04 - mae: 0.0075 - val_loss: 0.0011 - val_mae: 0.0128\n",
      "Epoch 100/200\n",
      "323/323 [==============================] - 1s 3ms/step - loss: 8.2064e-04 - mae: 0.0064 - val_loss: 7.8598e-04 - val_mae: 0.0057\n",
      "Epoch 101/200\n",
      "323/323 [==============================] - 1s 3ms/step - loss: 8.0925e-04 - mae: 0.0063 - val_loss: 0.0015 - val_mae: 0.0204\n",
      "Epoch 102/200\n",
      "323/323 [==============================] - 1s 3ms/step - loss: 8.4501e-04 - mae: 0.0073 - val_loss: 0.0012 - val_mae: 0.0186\n",
      "Epoch 103/200\n",
      "323/323 [==============================] - 1s 3ms/step - loss: 8.2271e-04 - mae: 0.0062 - val_loss: 7.6588e-04 - val_mae: 0.0040\n",
      "Epoch 104/200\n",
      "323/323 [==============================] - 1s 3ms/step - loss: 7.9214e-04 - mae: 0.0058 - val_loss: 7.8590e-04 - val_mae: 0.0053\n",
      "Epoch 105/200\n",
      "323/323 [==============================] - 1s 3ms/step - loss: 8.1676e-04 - mae: 0.0069 - val_loss: 7.4949e-04 - val_mae: 0.0030\n",
      "Epoch 106/200\n",
      "323/323 [==============================] - 1s 3ms/step - loss: 8.0660e-04 - mae: 0.0066 - val_loss: 8.3150e-04 - val_mae: 0.0086\n",
      "Epoch 107/200\n",
      "323/323 [==============================] - 1s 3ms/step - loss: 7.9179e-04 - mae: 0.0061 - val_loss: 7.5075e-04 - val_mae: 0.0040\n",
      "Epoch 108/200\n",
      "323/323 [==============================] - 1s 3ms/step - loss: 8.0094e-04 - mae: 0.0066 - val_loss: 9.0380e-04 - val_mae: 0.0097\n",
      "Epoch 109/200\n",
      "323/323 [==============================] - 1s 3ms/step - loss: 8.3270e-04 - mae: 0.0075 - val_loss: 0.0019 - val_mae: 0.0246\n",
      "Epoch 110/200\n",
      "323/323 [==============================] - 1s 3ms/step - loss: 8.4016e-04 - mae: 0.0070 - val_loss: 7.6437e-04 - val_mae: 0.0052\n",
      "Epoch 111/200\n",
      "323/323 [==============================] - 1s 3ms/step - loss: 7.7033e-04 - mae: 0.0053 - val_loss: 7.4931e-04 - val_mae: 0.0043\n",
      "Epoch 112/200\n",
      "323/323 [==============================] - 1s 3ms/step - loss: 8.2474e-04 - mae: 0.0068 - val_loss: 7.4294e-04 - val_mae: 0.0035\n",
      "Epoch 113/200\n",
      "323/323 [==============================] - 1s 3ms/step - loss: 7.6606e-04 - mae: 0.0053 - val_loss: 7.4318e-04 - val_mae: 0.0044\n",
      "Epoch 114/200\n",
      "323/323 [==============================] - 1s 3ms/step - loss: 7.9591e-04 - mae: 0.0069 - val_loss: 8.2819e-04 - val_mae: 0.0093\n",
      "Epoch 115/200\n",
      "323/323 [==============================] - 1s 3ms/step - loss: 7.9327e-04 - mae: 0.0064 - val_loss: 8.8498e-04 - val_mae: 0.0118\n",
      "Epoch 116/200\n",
      "323/323 [==============================] - 1s 3ms/step - loss: 7.8046e-04 - mae: 0.0064 - val_loss: 7.3459e-04 - val_mae: 0.0036\n",
      "Epoch 117/200\n",
      "323/323 [==============================] - 1s 3ms/step - loss: 7.7504e-04 - mae: 0.0062 - val_loss: 7.3996e-04 - val_mae: 0.0047\n",
      "Epoch 118/200\n",
      "323/323 [==============================] - 1s 3ms/step - loss: 8.1097e-04 - mae: 0.0071 - val_loss: 7.9782e-04 - val_mae: 0.0084\n",
      "Epoch 119/200\n",
      "323/323 [==============================] - 1s 3ms/step - loss: 7.8979e-04 - mae: 0.0064 - val_loss: 7.5627e-04 - val_mae: 0.0050\n",
      "Epoch 120/200\n",
      "323/323 [==============================] - 1s 3ms/step - loss: 7.6640e-04 - mae: 0.0058 - val_loss: 9.1747e-04 - val_mae: 0.0120\n",
      "Epoch 121/200\n",
      "323/323 [==============================] - 1s 3ms/step - loss: 7.9263e-04 - mae: 0.0072 - val_loss: 7.4604e-04 - val_mae: 0.0057\n",
      "Epoch 122/200\n",
      "323/323 [==============================] - 1s 3ms/step - loss: 7.5067e-04 - mae: 0.0055 - val_loss: 7.1972e-04 - val_mae: 0.0033\n",
      "Epoch 123/200\n",
      "323/323 [==============================] - 1s 3ms/step - loss: 7.7856e-04 - mae: 0.0066 - val_loss: 7.1706e-04 - val_mae: 0.0033\n",
      "Epoch 124/200\n",
      "323/323 [==============================] - 1s 3ms/step - loss: 7.7995e-04 - mae: 0.0068 - val_loss: 8.1045e-04 - val_mae: 0.0086\n",
      "Epoch 125/200\n",
      "323/323 [==============================] - 1s 3ms/step - loss: 7.6822e-04 - mae: 0.0062 - val_loss: 7.1383e-04 - val_mae: 0.0031\n",
      "Epoch 126/200\n",
      "323/323 [==============================] - 1s 3ms/step - loss: 7.8087e-04 - mae: 0.0071 - val_loss: 7.5503e-04 - val_mae: 0.0069\n",
      "Epoch 127/200\n",
      "323/323 [==============================] - 1s 3ms/step - loss: 7.5314e-04 - mae: 0.0060 - val_loss: 8.4279e-04 - val_mae: 0.0111\n",
      "Epoch 128/200\n",
      "323/323 [==============================] - 1s 3ms/step - loss: 7.7727e-04 - mae: 0.0065 - val_loss: 8.2480e-04 - val_mae: 0.0104\n",
      "Epoch 129/200\n",
      "323/323 [==============================] - 1s 3ms/step - loss: 7.7591e-04 - mae: 0.0072 - val_loss: 7.0526e-04 - val_mae: 0.0029\n",
      "Epoch 130/200\n",
      "323/323 [==============================] - 1s 3ms/step - loss: 7.8623e-04 - mae: 0.0074 - val_loss: 8.0020e-04 - val_mae: 0.0075\n",
      "Epoch 131/200\n",
      "323/323 [==============================] - 1s 3ms/step - loss: 7.6289e-04 - mae: 0.0063 - val_loss: 7.6619e-04 - val_mae: 0.0076\n",
      "Epoch 132/200\n",
      "323/323 [==============================] - 1s 3ms/step - loss: 8.0013e-04 - mae: 0.0074 - val_loss: 0.0018 - val_mae: 0.0284\n",
      "Epoch 133/200\n",
      "323/323 [==============================] - 1s 3ms/step - loss: 7.5235e-04 - mae: 0.0056 - val_loss: 7.0151e-04 - val_mae: 0.0032\n",
      "Epoch 134/200\n",
      "323/323 [==============================] - 1s 3ms/step - loss: 7.5294e-04 - mae: 0.0061 - val_loss: 8.6443e-04 - val_mae: 0.0110\n",
      "Epoch 135/200\n",
      "323/323 [==============================] - 1s 3ms/step - loss: 7.6583e-04 - mae: 0.0063 - val_loss: 7.0556e-04 - val_mae: 0.0040\n",
      "Epoch 136/200\n",
      "323/323 [==============================] - 1s 3ms/step - loss: 7.5461e-04 - mae: 0.0064 - val_loss: 7.6379e-04 - val_mae: 0.0069\n",
      "Epoch 137/200\n",
      "323/323 [==============================] - 1s 3ms/step - loss: 7.6284e-04 - mae: 0.0066 - val_loss: 7.5802e-04 - val_mae: 0.0082\n",
      "Epoch 138/200\n",
      "323/323 [==============================] - 1s 3ms/step - loss: 7.4379e-04 - mae: 0.0062 - val_loss: 7.0475e-04 - val_mae: 0.0041\n",
      "Epoch 139/200\n",
      "323/323 [==============================] - 1s 3ms/step - loss: 7.5318e-04 - mae: 0.0064 - val_loss: 7.4717e-04 - val_mae: 0.0073\n",
      "Epoch 140/200\n",
      "323/323 [==============================] - 1s 3ms/step - loss: 7.6585e-04 - mae: 0.0070 - val_loss: 7.3894e-04 - val_mae: 0.0060\n",
      "Epoch 141/200\n",
      "323/323 [==============================] - 1s 3ms/step - loss: 7.5054e-04 - mae: 0.0065 - val_loss: 7.0156e-04 - val_mae: 0.0043\n",
      "Epoch 142/200\n",
      "323/323 [==============================] - 1s 3ms/step - loss: 7.7628e-04 - mae: 0.0075 - val_loss: 8.5008e-04 - val_mae: 0.0113\n",
      "Epoch 143/200\n",
      "307/323 [===========================>..] - ETA: 0s - loss: 7.2114e-04 - mae: 0.0054Restoring model weights from the end of the best epoch: 133.\n",
      "323/323 [==============================] - 1s 3ms/step - loss: 7.2315e-04 - mae: 0.0055 - val_loss: 7.4263e-04 - val_mae: 0.0070\n",
      "Epoch 143: early stopping\n",
      "Die Ausführungszeit betrug 127.74366974830627 Sekunden.\n"
     ]
    }
   ],
   "source": [
    "start_time = time.time()\n",
    "# Netzwerkarchitektur\n",
    "model = Sequential([\n",
    "    # Eingabeschicht\n",
    "    Dense(224, activation='relu', input_shape=(2,), kernel_initializer='he_uniform', kernel_regularizer=l2(0.0001)),\n",
    "    #Dropout(0.01),\n",
    "    # Versteckte Schicht\n",
    "    Dense(32, activation='relu', kernel_initializer='he_uniform', kernel_regularizer=l2(0.0001)),\n",
    "    Dense(96, activation='relu', kernel_initializer='he_uniform', kernel_regularizer=l2(0.0001)),\n",
    "    #Dropout(0.01),\n",
    "    # Ausgabeschicht für Regression (1 Einheit ohne Aktivierungsfunktion)\n",
    "    Dense(224, activation='relu', kernel_initializer='he_uniform', kernel_regularizer=l2(0.0001)),\n",
    "    Dense(128, activation='relu', kernel_initializer='he_uniform', kernel_regularizer=l2(0.0001)),\n",
    "    Dense(352, activation='relu', kernel_initializer='he_uniform', kernel_regularizer=l2(0.0001)),\n",
    "    \n",
    "    Dense(1 , activation = 'linear')\n",
    "])\n",
    "\n",
    "# Optimierer\n",
    "optimizer = tf.keras.optimizers.Adam(learning_rate=0.001)\n",
    "\n",
    "# Modell kompilieren (Verwendung von mean_squared_error als Verlustfunktion für Regression)\n",
    "model.compile(optimizer=optimizer,\n",
    "              loss='mean_squared_error',\n",
    "              metrics=['mae'])  # Metriken für Regression: Mean Absolute Error und Mean Squared Error\n",
    "\n",
    "# Early Stopping Callback\n",
    "early_stopping = EarlyStopping(monitor='val_loss', patience=10, verbose=2, mode='min', restore_best_weights=True)#, min_delta = 0.00005)\n",
    "\n",
    "# Trainingsparameter\n",
    "batch_size = 200\n",
    "epochs = 200\n",
    "\n",
    "# Modell trainieren (Annahme: X_train, y_train, X_val, y_val sind vordefiniert)\n",
    "history = model.fit(X_train_scaled, y_train_scaled,\n",
    "                    batch_size=batch_size,\n",
    "                    epochs=epochs,\n",
    "                    validation_split=0.2,\n",
    "                    callbacks=[early_stopping],\n",
    "                    verbose = 1)\n",
    "\n",
    "end_time = time.time()\n",
    "\n",
    "# Berechne die Dauer\n",
    "duration = end_time - start_time\n",
    "\n",
    "print(f\"Die Ausführungszeit betrug {duration} Sekunden.\")"
   ],
   "metadata": {
    "collapsed": false,
    "ExecuteTime": {
     "end_time": "2024-02-22T10:37:30.871082900Z",
     "start_time": "2024-02-22T10:35:23.122700200Z"
    }
   },
   "id": "8b52e1a9a6ff3aeb"
  },
  {
   "cell_type": "code",
   "execution_count": 24,
   "id": "9f6f672a",
   "metadata": {
    "ExecuteTime": {
     "end_time": "2024-02-22T10:37:36.250778900Z",
     "start_time": "2024-02-22T10:37:35.180798500Z"
    }
   },
   "outputs": [
    {
     "name": "stdout",
     "output_type": "stream",
     "text": [
      " Bsp. Predicted: [1191.9076] Actual: [1195.9] \n",
      "Durchschnittliche Abweichung (MAE): [3.07670403]\n"
     ]
    }
   ],
   "source": [
    "scaled_predicted_values = model.predict(X_test_scaled, verbose = 0)\n",
    "\n",
    "# Führen Sie die Rücktransformation der skalierten Werte durch\n",
    "original_predicted_values = scaler_target.inverse_transform(scaled_predicted_values)\n",
    "original_actual_values = scaler_target.inverse_transform(y_test_scaled)  # y_test sind die skalierten tatsächlichen Werte\n",
    "print(f' Bsp. Predicted: {original_predicted_values[1000]} Actual: {original_actual_values[1000]} ')\n",
    "\n",
    "def calculate_mae(list1, list2):\n",
    "    # Stelle sicher, dass beide Listen die gleiche Länge haben\n",
    "    if len(list1) != len(list2):\n",
    "        raise ValueError(\"Listen müssen die gleiche Länge haben\")\n",
    "    \n",
    "    # Berechne die absolute Differenz zwischen den Elementen der Listen\n",
    "    differences = [abs(x - y) for x, y in zip(list1, list2)]\n",
    "    \n",
    "    # Berechne den Durchschnitt der absoluten Differenzen\n",
    "    mae = sum(differences) / len(differences)\n",
    "    \n",
    "    return mae\n",
    "\n",
    "# Beispiel\n",
    "list1 = original_predicted_values\n",
    "list2 = original_actual_values\n",
    "\n",
    "mae = calculate_mae(list1, list2)\n",
    "print(f\"Durchschnittliche Abweichung (MAE): {mae}\")\n"
   ]
  },
  {
   "cell_type": "code",
   "execution_count": 26,
   "outputs": [
    {
     "name": "stdout",
     "output_type": "stream",
     "text": [
      "Anzahl der Werte die kleiner sind: 1327\n"
     ]
    },
    {
     "data": {
      "text/plain": "             Echt  Vorhergesagt  X-Koordinate  Y-Koordinate  Differenz\n4472   559.645264        589.58         0.580        1.0000 -29.934736\n17844  560.029968        589.93         0.568        1.0000 -29.900032\n14372  561.057007        590.84         0.536        1.0000 -29.782993\n16327  559.405151        589.10         0.596        1.0000 -29.694849\n7952   561.570374        591.26         0.520        1.0000 -29.689626\n...           ...           ...           ...           ...        ...\n14839  627.143005        599.38         0.956        0.9725  27.763005\n15061  615.466980        587.18         0.956        0.9775  28.286980\n11939  615.796448        586.88         0.964        0.9775  28.916448\n13809  622.623901        593.15         0.988        0.9750  29.473901\n20012  622.953430        588.92         0.996        0.9750  34.033430\n\n[20131 rows x 5 columns]",
      "text/html": "<div>\n<style scoped>\n    .dataframe tbody tr th:only-of-type {\n        vertical-align: middle;\n    }\n\n    .dataframe tbody tr th {\n        vertical-align: top;\n    }\n\n    .dataframe thead th {\n        text-align: right;\n    }\n</style>\n<table border=\"1\" class=\"dataframe\">\n  <thead>\n    <tr style=\"text-align: right;\">\n      <th></th>\n      <th>Echt</th>\n      <th>Vorhergesagt</th>\n      <th>X-Koordinate</th>\n      <th>Y-Koordinate</th>\n      <th>Differenz</th>\n    </tr>\n  </thead>\n  <tbody>\n    <tr>\n      <th>4472</th>\n      <td>559.645264</td>\n      <td>589.58</td>\n      <td>0.580</td>\n      <td>1.0000</td>\n      <td>-29.934736</td>\n    </tr>\n    <tr>\n      <th>17844</th>\n      <td>560.029968</td>\n      <td>589.93</td>\n      <td>0.568</td>\n      <td>1.0000</td>\n      <td>-29.900032</td>\n    </tr>\n    <tr>\n      <th>14372</th>\n      <td>561.057007</td>\n      <td>590.84</td>\n      <td>0.536</td>\n      <td>1.0000</td>\n      <td>-29.782993</td>\n    </tr>\n    <tr>\n      <th>16327</th>\n      <td>559.405151</td>\n      <td>589.10</td>\n      <td>0.596</td>\n      <td>1.0000</td>\n      <td>-29.694849</td>\n    </tr>\n    <tr>\n      <th>7952</th>\n      <td>561.570374</td>\n      <td>591.26</td>\n      <td>0.520</td>\n      <td>1.0000</td>\n      <td>-29.689626</td>\n    </tr>\n    <tr>\n      <th>...</th>\n      <td>...</td>\n      <td>...</td>\n      <td>...</td>\n      <td>...</td>\n      <td>...</td>\n    </tr>\n    <tr>\n      <th>14839</th>\n      <td>627.143005</td>\n      <td>599.38</td>\n      <td>0.956</td>\n      <td>0.9725</td>\n      <td>27.763005</td>\n    </tr>\n    <tr>\n      <th>15061</th>\n      <td>615.466980</td>\n      <td>587.18</td>\n      <td>0.956</td>\n      <td>0.9775</td>\n      <td>28.286980</td>\n    </tr>\n    <tr>\n      <th>11939</th>\n      <td>615.796448</td>\n      <td>586.88</td>\n      <td>0.964</td>\n      <td>0.9775</td>\n      <td>28.916448</td>\n    </tr>\n    <tr>\n      <th>13809</th>\n      <td>622.623901</td>\n      <td>593.15</td>\n      <td>0.988</td>\n      <td>0.9750</td>\n      <td>29.473901</td>\n    </tr>\n    <tr>\n      <th>20012</th>\n      <td>622.953430</td>\n      <td>588.92</td>\n      <td>0.996</td>\n      <td>0.9750</td>\n      <td>34.033430</td>\n    </tr>\n  </tbody>\n</table>\n<p>20131 rows × 5 columns</p>\n</div>"
     },
     "execution_count": 26,
     "metadata": {},
     "output_type": "execute_result"
    }
   ],
   "source": [
    "df_result = pd.DataFrame({'Echt': [val[0] for val in list1], 'Vorhergesagt': [val[0] for val in list2]})\n",
    "df_result['X-Koordinate'] = X_test_scaled[:, 0]\n",
    "df_result['Y-Koordinate'] = X_test_scaled[:, 1]\n",
    "\n",
    "df_result['Differenz'] = df_result['Echt'] - df_result['Vorhergesagt']\n",
    "df_result['Differenz'].sort_values()\n",
    "sorted_df = df_result.sort_values(by= 'Differenz')\n",
    "Anzahl_Punkte = (sorted_df['Differenz'] > 5).sum()\n",
    "print(\"Anzahl der Werte die kleiner sind:\", Anzahl_Punkte)\n",
    " \n",
    "sorted_df"
   ],
   "metadata": {
    "collapsed": false,
    "ExecuteTime": {
     "end_time": "2024-02-22T10:38:23.694427500Z",
     "start_time": "2024-02-22T10:38:23.613245Z"
    }
   },
   "id": "42bde60d3b4f2007"
  },
  {
   "cell_type": "markdown",
   "id": "553df6fa",
   "metadata": {},
   "source": []
  },
  {
   "cell_type": "code",
   "execution_count": 37,
   "outputs": [
    {
     "data": {
      "text/plain": "<Figure size 1000x600 with 1 Axes>",
      "image/png": "[encoded data removed]"
     },
     "metadata": {},
     "output_type": "display_data"
    }
   ],
   "source": [
    "mae = history.history['loss']\n",
    "val_mae = history.history['val_loss']\n",
    "\n",
    "epochs = range(1, len(mae) + 1)\n",
    "# MAE Diagramm\n",
    "plt.figure(figsize=(10, 6))\n",
    "plt.plot(epochs, mae, 'r', label='Training MAE')\n",
    "plt.plot(epochs, val_mae, 'b', label='Validation MAE')\n",
    "plt.title('Training and Validation MAE')\n",
    "plt.xlabel('Epochs')\n",
    "plt.ylabel('MAE')\n",
    "plt.legend()\n",
    "plt.show()"
   ],
   "metadata": {
    "collapsed": false,
    "ExecuteTime": {
     "end_time": "2024-02-22T12:01:17.919812200Z",
     "start_time": "2024-02-22T12:01:17.781771Z"
    }
   },
   "id": "3688dd7102e95baf"
  },
  {
   "cell_type": "markdown",
   "source": [
    "\n",
    "# GridSearch\n",
    "Grid Search bietet die Vorteile der anpassbaren Rechenzeit sowie die Möglichkeit des EInsatzes von Verteilungen. So können theoretisch Hyperparamterkonfuigurationen gefunden wende, welche durch GridSearch nicht auffindbar wären. ZUdem ist das Ziel der Hyperparamteroptimierung eine Einstellung zu finden, welche auf Trainings und Testset gut angepasst ist. Die EInstellung muss nicht die bestmöglichste Einstellung sein, sondern eine Einstellung die das gewähltre Problem gut wiederspiegelt. \n",
    "Bayesian Optimierung"
   ],
   "metadata": {
    "collapsed": false
   },
   "id": "9c177960cc729052"
  },
  {
   "cell_type": "code",
   "execution_count": 43,
   "id": "3f17e2cf",
   "metadata": {
    "ExecuteTime": {
     "end_time": "2024-02-22T15:59:48.819124300Z",
     "start_time": "2024-02-22T15:59:38.690236800Z"
    }
   },
   "outputs": [
    {
     "name": "stdout",
     "output_type": "stream",
     "text": [
      "Fitting 3 folds for each of 12 candidates, totalling 36 fits\n"
     ]
    },
    {
     "ename": "ValueError",
     "evalue": "\nAll the 36 fits failed.\nIt is very likely that your model is misconfigured.\nYou can try to debug the error by setting error_score='raise'.\n\nBelow are more details about the failures:\n--------------------------------------------------------------------------------\n36 fits failed with the following error:\nTraceback (most recent call last):\n  File \"C:\\Users\\erikm\\Desktop\\Diplomarbeit Erik Marr\\Projekt X\\venv\\Lib\\site-packages\\sklearn\\model_selection\\_validation.py\", line 890, in _fit_and_score\n    estimator.fit(X_train, y_train, **fit_params)\n  File \"C:\\Users\\erikm\\Desktop\\Diplomarbeit Erik Marr\\Projekt X\\venv\\Lib\\site-packages\\scikeras\\wrappers.py\", line 760, in fit\n    self._fit(\n  File \"C:\\Users\\erikm\\Desktop\\Diplomarbeit Erik Marr\\Projekt X\\venv\\Lib\\site-packages\\scikeras\\wrappers.py\", line 928, in _fit\n    self._fit_keras_model(\n  File \"C:\\Users\\erikm\\Desktop\\Diplomarbeit Erik Marr\\Projekt X\\venv\\Lib\\site-packages\\scikeras\\wrappers.py\", line 524, in _fit_keras_model\n    hist = self.model_.fit(x=X, y=y, **fit_args)\n           ^^^^^^^^^^^^^^^^^^^^^^^^^^^^^^^^^^^^^\n  File \"C:\\Users\\erikm\\Desktop\\Diplomarbeit Erik Marr\\Projekt X\\venv\\Lib\\site-packages\\keras\\src\\utils\\traceback_utils.py\", line 70, in error_handler\n    raise e.with_traceback(filtered_tb) from None\n  File \"C:\\Users\\erikm\\Desktop\\Diplomarbeit Erik Marr\\Projekt X\\venv\\Lib\\site-packages\\keras\\src\\engine\\data_adapter.py\", line 275, in __init__\n    self._size = int(math.ceil(num_samples / batch_size))\n                               ~~~~~~~~~~~~^~~~~~~~~~~~\nTypeError: unsupported operand type(s) for /: 'int' and 'list'\n",
     "output_type": "error",
     "traceback": [
      "\u001B[1;31m---------------------------------------------------------------------------\u001B[0m",
      "\u001B[1;31mValueError\u001B[0m                                Traceback (most recent call last)",
      "Cell \u001B[1;32mIn[43], line 43\u001B[0m\n\u001B[0;32m     41\u001B[0m grid_search \u001B[38;5;241m=\u001B[39m GridSearchCV(estimator\u001B[38;5;241m=\u001B[39mmodel, param_grid\u001B[38;5;241m=\u001B[39mparam_grid, n_jobs\u001B[38;5;241m=\u001B[39m\u001B[38;5;241m-\u001B[39m\u001B[38;5;241m1\u001B[39m, cv\u001B[38;5;241m=\u001B[39m\u001B[38;5;241m3\u001B[39m, verbose\u001B[38;5;241m=\u001B[39m\u001B[38;5;241m2\u001B[39m)\n\u001B[0;32m     42\u001B[0m \u001B[38;5;66;03m# Hinweis: Stellen Sie sicher, dass Ihre Daten (X_train_scaled, y_train_scaled) korrekt definiert sind\u001B[39;00m\n\u001B[1;32m---> 43\u001B[0m grid_result \u001B[38;5;241m=\u001B[39m \u001B[43mgrid_search\u001B[49m\u001B[38;5;241;43m.\u001B[39;49m\u001B[43mfit\u001B[49m\u001B[43m(\u001B[49m\u001B[43mX_train_scaled\u001B[49m\u001B[43m,\u001B[49m\u001B[43m \u001B[49m\u001B[43my_train_scaled\u001B[49m\u001B[43m,\u001B[49m\u001B[43m \u001B[49m\u001B[38;5;241;43m*\u001B[39;49m\u001B[38;5;241;43m*\u001B[39;49m\u001B[43mfit_params\u001B[49m\u001B[43m)\u001B[49m\n\u001B[0;32m     44\u001B[0m \u001B[38;5;66;03m# Beste Parameter und Score ausgeben\u001B[39;00m\n\u001B[0;32m     45\u001B[0m \u001B[38;5;28mprint\u001B[39m(\u001B[38;5;124m\"\u001B[39m\u001B[38;5;124mBeste Parameter:\u001B[39m\u001B[38;5;124m\"\u001B[39m, grid_search\u001B[38;5;241m.\u001B[39mbest_params_)\n",
      "File \u001B[1;32m~\\Desktop\\Diplomarbeit Erik Marr\\Projekt X\\venv\\Lib\\site-packages\\sklearn\\base.py:1351\u001B[0m, in \u001B[0;36m_fit_context.<locals>.decorator.<locals>.wrapper\u001B[1;34m(estimator, *args, **kwargs)\u001B[0m\n\u001B[0;32m   1344\u001B[0m     estimator\u001B[38;5;241m.\u001B[39m_validate_params()\n\u001B[0;32m   1346\u001B[0m \u001B[38;5;28;01mwith\u001B[39;00m config_context(\n\u001B[0;32m   1347\u001B[0m     skip_parameter_validation\u001B[38;5;241m=\u001B[39m(\n\u001B[0;32m   1348\u001B[0m         prefer_skip_nested_validation \u001B[38;5;129;01mor\u001B[39;00m global_skip_validation\n\u001B[0;32m   1349\u001B[0m     )\n\u001B[0;32m   1350\u001B[0m ):\n\u001B[1;32m-> 1351\u001B[0m     \u001B[38;5;28;01mreturn\u001B[39;00m \u001B[43mfit_method\u001B[49m\u001B[43m(\u001B[49m\u001B[43mestimator\u001B[49m\u001B[43m,\u001B[49m\u001B[43m \u001B[49m\u001B[38;5;241;43m*\u001B[39;49m\u001B[43margs\u001B[49m\u001B[43m,\u001B[49m\u001B[43m \u001B[49m\u001B[38;5;241;43m*\u001B[39;49m\u001B[38;5;241;43m*\u001B[39;49m\u001B[43mkwargs\u001B[49m\u001B[43m)\u001B[49m\n",
      "File \u001B[1;32m~\\Desktop\\Diplomarbeit Erik Marr\\Projekt X\\venv\\Lib\\site-packages\\sklearn\\model_selection\\_search.py:970\u001B[0m, in \u001B[0;36mBaseSearchCV.fit\u001B[1;34m(self, X, y, **params)\u001B[0m\n\u001B[0;32m    964\u001B[0m     results \u001B[38;5;241m=\u001B[39m \u001B[38;5;28mself\u001B[39m\u001B[38;5;241m.\u001B[39m_format_results(\n\u001B[0;32m    965\u001B[0m         all_candidate_params, n_splits, all_out, all_more_results\n\u001B[0;32m    966\u001B[0m     )\n\u001B[0;32m    968\u001B[0m     \u001B[38;5;28;01mreturn\u001B[39;00m results\n\u001B[1;32m--> 970\u001B[0m \u001B[38;5;28;43mself\u001B[39;49m\u001B[38;5;241;43m.\u001B[39;49m\u001B[43m_run_search\u001B[49m\u001B[43m(\u001B[49m\u001B[43mevaluate_candidates\u001B[49m\u001B[43m)\u001B[49m\n\u001B[0;32m    972\u001B[0m \u001B[38;5;66;03m# multimetric is determined here because in the case of a callable\u001B[39;00m\n\u001B[0;32m    973\u001B[0m \u001B[38;5;66;03m# self.scoring the return type is only known after calling\u001B[39;00m\n\u001B[0;32m    974\u001B[0m first_test_score \u001B[38;5;241m=\u001B[39m all_out[\u001B[38;5;241m0\u001B[39m][\u001B[38;5;124m\"\u001B[39m\u001B[38;5;124mtest_scores\u001B[39m\u001B[38;5;124m\"\u001B[39m]\n",
      "File \u001B[1;32m~\\Desktop\\Diplomarbeit Erik Marr\\Projekt X\\venv\\Lib\\site-packages\\sklearn\\model_selection\\_search.py:1527\u001B[0m, in \u001B[0;36mGridSearchCV._run_search\u001B[1;34m(self, evaluate_candidates)\u001B[0m\n\u001B[0;32m   1525\u001B[0m \u001B[38;5;28;01mdef\u001B[39;00m \u001B[38;5;21m_run_search\u001B[39m(\u001B[38;5;28mself\u001B[39m, evaluate_candidates):\n\u001B[0;32m   1526\u001B[0m \u001B[38;5;250m    \u001B[39m\u001B[38;5;124;03m\"\"\"Search all candidates in param_grid\"\"\"\u001B[39;00m\n\u001B[1;32m-> 1527\u001B[0m     \u001B[43mevaluate_candidates\u001B[49m\u001B[43m(\u001B[49m\u001B[43mParameterGrid\u001B[49m\u001B[43m(\u001B[49m\u001B[38;5;28;43mself\u001B[39;49m\u001B[38;5;241;43m.\u001B[39;49m\u001B[43mparam_grid\u001B[49m\u001B[43m)\u001B[49m\u001B[43m)\u001B[49m\n",
      "File \u001B[1;32m~\\Desktop\\Diplomarbeit Erik Marr\\Projekt X\\venv\\Lib\\site-packages\\sklearn\\model_selection\\_search.py:947\u001B[0m, in \u001B[0;36mBaseSearchCV.fit.<locals>.evaluate_candidates\u001B[1;34m(candidate_params, cv, more_results)\u001B[0m\n\u001B[0;32m    940\u001B[0m \u001B[38;5;28;01melif\u001B[39;00m \u001B[38;5;28mlen\u001B[39m(out) \u001B[38;5;241m!=\u001B[39m n_candidates \u001B[38;5;241m*\u001B[39m n_splits:\n\u001B[0;32m    941\u001B[0m     \u001B[38;5;28;01mraise\u001B[39;00m \u001B[38;5;167;01mValueError\u001B[39;00m(\n\u001B[0;32m    942\u001B[0m         \u001B[38;5;124m\"\u001B[39m\u001B[38;5;124mcv.split and cv.get_n_splits returned \u001B[39m\u001B[38;5;124m\"\u001B[39m\n\u001B[0;32m    943\u001B[0m         \u001B[38;5;124m\"\u001B[39m\u001B[38;5;124minconsistent results. Expected \u001B[39m\u001B[38;5;132;01m{}\u001B[39;00m\u001B[38;5;124m \u001B[39m\u001B[38;5;124m\"\u001B[39m\n\u001B[0;32m    944\u001B[0m         \u001B[38;5;124m\"\u001B[39m\u001B[38;5;124msplits, got \u001B[39m\u001B[38;5;132;01m{}\u001B[39;00m\u001B[38;5;124m\"\u001B[39m\u001B[38;5;241m.\u001B[39mformat(n_splits, \u001B[38;5;28mlen\u001B[39m(out) \u001B[38;5;241m/\u001B[39m\u001B[38;5;241m/\u001B[39m n_candidates)\n\u001B[0;32m    945\u001B[0m     )\n\u001B[1;32m--> 947\u001B[0m \u001B[43m_warn_or_raise_about_fit_failures\u001B[49m\u001B[43m(\u001B[49m\u001B[43mout\u001B[49m\u001B[43m,\u001B[49m\u001B[43m \u001B[49m\u001B[38;5;28;43mself\u001B[39;49m\u001B[38;5;241;43m.\u001B[39;49m\u001B[43merror_score\u001B[49m\u001B[43m)\u001B[49m\n\u001B[0;32m    949\u001B[0m \u001B[38;5;66;03m# For callable self.scoring, the return type is only know after\u001B[39;00m\n\u001B[0;32m    950\u001B[0m \u001B[38;5;66;03m# calling. If the return type is a dictionary, the error scores\u001B[39;00m\n\u001B[0;32m    951\u001B[0m \u001B[38;5;66;03m# can now be inserted with the correct key. The type checking\u001B[39;00m\n\u001B[0;32m    952\u001B[0m \u001B[38;5;66;03m# of out will be done in `_insert_error_scores`.\u001B[39;00m\n\u001B[0;32m    953\u001B[0m \u001B[38;5;28;01mif\u001B[39;00m \u001B[38;5;28mcallable\u001B[39m(\u001B[38;5;28mself\u001B[39m\u001B[38;5;241m.\u001B[39mscoring):\n",
      "File \u001B[1;32m~\\Desktop\\Diplomarbeit Erik Marr\\Projekt X\\venv\\Lib\\site-packages\\sklearn\\model_selection\\_validation.py:531\u001B[0m, in \u001B[0;36m_warn_or_raise_about_fit_failures\u001B[1;34m(results, error_score)\u001B[0m\n\u001B[0;32m    524\u001B[0m \u001B[38;5;28;01mif\u001B[39;00m num_failed_fits \u001B[38;5;241m==\u001B[39m num_fits:\n\u001B[0;32m    525\u001B[0m     all_fits_failed_message \u001B[38;5;241m=\u001B[39m (\n\u001B[0;32m    526\u001B[0m         \u001B[38;5;124mf\u001B[39m\u001B[38;5;124m\"\u001B[39m\u001B[38;5;130;01m\\n\u001B[39;00m\u001B[38;5;124mAll the \u001B[39m\u001B[38;5;132;01m{\u001B[39;00mnum_fits\u001B[38;5;132;01m}\u001B[39;00m\u001B[38;5;124m fits failed.\u001B[39m\u001B[38;5;130;01m\\n\u001B[39;00m\u001B[38;5;124m\"\u001B[39m\n\u001B[0;32m    527\u001B[0m         \u001B[38;5;124m\"\u001B[39m\u001B[38;5;124mIt is very likely that your model is misconfigured.\u001B[39m\u001B[38;5;130;01m\\n\u001B[39;00m\u001B[38;5;124m\"\u001B[39m\n\u001B[0;32m    528\u001B[0m         \u001B[38;5;124m\"\u001B[39m\u001B[38;5;124mYou can try to debug the error by setting error_score=\u001B[39m\u001B[38;5;124m'\u001B[39m\u001B[38;5;124mraise\u001B[39m\u001B[38;5;124m'\u001B[39m\u001B[38;5;124m.\u001B[39m\u001B[38;5;130;01m\\n\u001B[39;00m\u001B[38;5;130;01m\\n\u001B[39;00m\u001B[38;5;124m\"\u001B[39m\n\u001B[0;32m    529\u001B[0m         \u001B[38;5;124mf\u001B[39m\u001B[38;5;124m\"\u001B[39m\u001B[38;5;124mBelow are more details about the failures:\u001B[39m\u001B[38;5;130;01m\\n\u001B[39;00m\u001B[38;5;132;01m{\u001B[39;00mfit_errors_summary\u001B[38;5;132;01m}\u001B[39;00m\u001B[38;5;124m\"\u001B[39m\n\u001B[0;32m    530\u001B[0m     )\n\u001B[1;32m--> 531\u001B[0m     \u001B[38;5;28;01mraise\u001B[39;00m \u001B[38;5;167;01mValueError\u001B[39;00m(all_fits_failed_message)\n\u001B[0;32m    533\u001B[0m \u001B[38;5;28;01melse\u001B[39;00m:\n\u001B[0;32m    534\u001B[0m     some_fits_failed_message \u001B[38;5;241m=\u001B[39m (\n\u001B[0;32m    535\u001B[0m         \u001B[38;5;124mf\u001B[39m\u001B[38;5;124m\"\u001B[39m\u001B[38;5;130;01m\\n\u001B[39;00m\u001B[38;5;132;01m{\u001B[39;00mnum_failed_fits\u001B[38;5;132;01m}\u001B[39;00m\u001B[38;5;124m fits failed out of a total of \u001B[39m\u001B[38;5;132;01m{\u001B[39;00mnum_fits\u001B[38;5;132;01m}\u001B[39;00m\u001B[38;5;124m.\u001B[39m\u001B[38;5;130;01m\\n\u001B[39;00m\u001B[38;5;124m\"\u001B[39m\n\u001B[0;32m    536\u001B[0m         \u001B[38;5;124m\"\u001B[39m\u001B[38;5;124mThe score on these train-test partitions for these parameters\u001B[39m\u001B[38;5;124m\"\u001B[39m\n\u001B[1;32m   (...)\u001B[0m\n\u001B[0;32m    540\u001B[0m         \u001B[38;5;124mf\u001B[39m\u001B[38;5;124m\"\u001B[39m\u001B[38;5;124mBelow are more details about the failures:\u001B[39m\u001B[38;5;130;01m\\n\u001B[39;00m\u001B[38;5;132;01m{\u001B[39;00mfit_errors_summary\u001B[38;5;132;01m}\u001B[39;00m\u001B[38;5;124m\"\u001B[39m\n\u001B[0;32m    541\u001B[0m     )\n",
      "\u001B[1;31mValueError\u001B[0m: \nAll the 36 fits failed.\nIt is very likely that your model is misconfigured.\nYou can try to debug the error by setting error_score='raise'.\n\nBelow are more details about the failures:\n--------------------------------------------------------------------------------\n36 fits failed with the following error:\nTraceback (most recent call last):\n  File \"C:\\Users\\erikm\\Desktop\\Diplomarbeit Erik Marr\\Projekt X\\venv\\Lib\\site-packages\\sklearn\\model_selection\\_validation.py\", line 890, in _fit_and_score\n    estimator.fit(X_train, y_train, **fit_params)\n  File \"C:\\Users\\erikm\\Desktop\\Diplomarbeit Erik Marr\\Projekt X\\venv\\Lib\\site-packages\\scikeras\\wrappers.py\", line 760, in fit\n    self._fit(\n  File \"C:\\Users\\erikm\\Desktop\\Diplomarbeit Erik Marr\\Projekt X\\venv\\Lib\\site-packages\\scikeras\\wrappers.py\", line 928, in _fit\n    self._fit_keras_model(\n  File \"C:\\Users\\erikm\\Desktop\\Diplomarbeit Erik Marr\\Projekt X\\venv\\Lib\\site-packages\\scikeras\\wrappers.py\", line 524, in _fit_keras_model\n    hist = self.model_.fit(x=X, y=y, **fit_args)\n           ^^^^^^^^^^^^^^^^^^^^^^^^^^^^^^^^^^^^^\n  File \"C:\\Users\\erikm\\Desktop\\Diplomarbeit Erik Marr\\Projekt X\\venv\\Lib\\site-packages\\keras\\src\\utils\\traceback_utils.py\", line 70, in error_handler\n    raise e.with_traceback(filtered_tb) from None\n  File \"C:\\Users\\erikm\\Desktop\\Diplomarbeit Erik Marr\\Projekt X\\venv\\Lib\\site-packages\\keras\\src\\engine\\data_adapter.py\", line 275, in __init__\n    self._size = int(math.ceil(num_samples / batch_size))\n                               ~~~~~~~~~~~~^~~~~~~~~~~~\nTypeError: unsupported operand type(s) for /: 'int' and 'list'\n"
     ]
    }
   ],
   "source": [
    "from tensorflow.keras.models import Sequential\n",
    "from tensorflow.keras.layers import Dense ,Dropout\n",
    "from tensorflow.keras.optimizers import Adam\n",
    "from tensorflow.keras.regularizers import l2\n",
    "from sklearn.model_selection import GridSearchCV\n",
    "\n",
    "def build_model(learning_rate=0.001, activation='relu', regularization=0.0001, dropout_rate=0.0):\n",
    "    model = Sequential()\n",
    "    model.add(Dense(224, activation=activation, input_shape=(2,), kernel_initializer='he_uniform', kernel_regularizer=l2(regularization))),\n",
    "    model.add(Dropout(dropout_rate)),\n",
    "    model.add(Dense(32, activation=activation, kernel_initializer='he_uniform', kernel_regularizer=l2(regularization))),\n",
    "    model.add(Dropout(dropout_rate)),\n",
    "    model.add(Dense(96, activation=activation, kernel_initializer='he_uniform', kernel_regularizer=l2(regularization))),\n",
    "    model.add(Dropout(dropout_rate)),\n",
    "    model.add(Dense(224, activation=activation, kernel_initializer='he_uniform', kernel_regularizer=l2(regularization))),\n",
    "    model.add(Dropout(dropout_rate)),\n",
    "    model.add(Dense(128, activation=activation, kernel_initializer='he_uniform', kernel_regularizer=l2(regularization))),\n",
    "    model.add(Dropout(dropout_rate)),\n",
    "    model.add(Dense(352, activation=activation, kernel_initializer='he_uniform', kernel_regularizer=l2(regularization))),\n",
    "    model.add(Dropout(dropout_rate)),\n",
    "    model.add(Dense(1, activation='linear'))\n",
    "    model.compile(optimizer=Adam(learning_rate=learning_rate), loss='mean_squared_error', metrics=['mae'])\n",
    "    return model\n",
    "\n",
    "# Verwenden Sie eine Funktion, um das Modell zu instanziieren, für scikit-learn Wrapper\n",
    "model = KerasRegressor(model=build_model, verbose=2, epochs=30, dropout_rate = 'dropout_rate', learning_rate = 'learning_rate', regularization = 'regularization')\n",
    "\n",
    "# Anpassung der Parameter im param_grid\n",
    "param_grid = {\n",
    "    'learning_rate': [0.01, 0.001, 0.0001],\n",
    "    'regularization': [0.001, 0.0001],\n",
    "    'dropout_rate': [0.0, 0.2],\n",
    "    \n",
    "}\n",
    "\n",
    "fit_params = {\n",
    "    'batch_size': [50, 100, 200, 500],\n",
    "    'epochs': 30\n",
    "}\n",
    "\n",
    "grid_search = GridSearchCV(estimator=model, param_grid=param_grid, n_jobs=-1, cv=3, verbose=2)\n",
    "# Hinweis: Stellen Sie sicher, dass Ihre Daten (X_train_scaled, y_train_scaled) korrekt definiert sind\n",
    "grid_result = grid_search.fit(X_train_scaled, y_train_scaled, **fit_params)\n",
    "# Beste Parameter und Score ausgeben\n",
    "print(\"Beste Parameter:\", grid_search.best_params_)\n",
    "print(\"Beste Genauigkeit:\", grid_search.best_score_)"
   ]
  },
  {
   "cell_type": "code",
   "execution_count": 48,
   "outputs": [
    {
     "ename": "ValueError",
     "evalue": "Invalid parameter learning_rate for estimator KerasClassifier.\nThis issue can likely be resolved by setting this parameter in the KerasClassifier constructor:\n`KerasClassifier(learning_rate=0.001)`\nCheck the list of available parameters with `estimator.get_params().keys()`",
     "output_type": "error",
     "traceback": [
      "\u001B[1;31m---------------------------------------------------------------------------\u001B[0m",
      "\u001B[1;31m_RemoteTraceback\u001B[0m                          Traceback (most recent call last)",
      "\u001B[1;31m_RemoteTraceback\u001B[0m: \n\"\"\"\nTraceback (most recent call last):\n  File \"C:\\Users\\erikm\\Desktop\\Diplomarbeit Erik Marr\\Projekt X\\venv\\Lib\\site-packages\\joblib\\externals\\loky\\process_executor.py\", line 463, in _process_worker\n    r = call_item()\n        ^^^^^^^^^^^\n  File \"C:\\Users\\erikm\\Desktop\\Diplomarbeit Erik Marr\\Projekt X\\venv\\Lib\\site-packages\\joblib\\externals\\loky\\process_executor.py\", line 291, in __call__\n    return self.fn(*self.args, **self.kwargs)\n           ^^^^^^^^^^^^^^^^^^^^^^^^^^^^^^^^^^\n  File \"C:\\Users\\erikm\\Desktop\\Diplomarbeit Erik Marr\\Projekt X\\venv\\Lib\\site-packages\\joblib\\parallel.py\", line 589, in __call__\n    return [func(*args, **kwargs)\n           ^^^^^^^^^^^^^^^^^^^^^^\n  File \"C:\\Users\\erikm\\Desktop\\Diplomarbeit Erik Marr\\Projekt X\\venv\\Lib\\site-packages\\joblib\\parallel.py\", line 589, in <listcomp>\n    return [func(*args, **kwargs)\n            ^^^^^^^^^^^^^^^^^^^^^\n  File \"C:\\Users\\erikm\\Desktop\\Diplomarbeit Erik Marr\\Projekt X\\venv\\Lib\\site-packages\\sklearn\\utils\\parallel.py\", line 129, in __call__\n    return self.function(*args, **kwargs)\n           ^^^^^^^^^^^^^^^^^^^^^^^^^^^^^^\n  File \"C:\\Users\\erikm\\Desktop\\Diplomarbeit Erik Marr\\Projekt X\\venv\\Lib\\site-packages\\sklearn\\model_selection\\_validation.py\", line 878, in _fit_and_score\n    estimator = estimator.set_params(**clone(parameters, safe=False))\n                ^^^^^^^^^^^^^^^^^^^^^^^^^^^^^^^^^^^^^^^^^^^^^^^^^^^^^\n  File \"C:\\Users\\erikm\\Desktop\\Diplomarbeit Erik Marr\\Projekt X\\venv\\Lib\\site-packages\\scikeras\\wrappers.py\", line 1165, in set_params\n    raise ValueError(\nValueError: Invalid parameter learning_rate for estimator KerasClassifier.\nThis issue can likely be resolved by setting this parameter in the KerasClassifier constructor:\n`KerasClassifier(learning_rate=0.001)`\nCheck the list of available parameters with `estimator.get_params().keys()`\n\"\"\"",
      "\nThe above exception was the direct cause of the following exception:\n",
      "\u001B[1;31mValueError\u001B[0m                                Traceback (most recent call last)",
      "Cell \u001B[1;32mIn[48], line 34\u001B[0m\n\u001B[0;32m     32\u001B[0m \u001B[38;5;66;03m# Erstelle und führe die Grid Search aus\u001B[39;00m\n\u001B[0;32m     33\u001B[0m grid \u001B[38;5;241m=\u001B[39m GridSearchCV(estimator\u001B[38;5;241m=\u001B[39mmodel, param_grid\u001B[38;5;241m=\u001B[39mparam_grid, n_jobs\u001B[38;5;241m=\u001B[39m\u001B[38;5;241m-\u001B[39m\u001B[38;5;241m1\u001B[39m, cv\u001B[38;5;241m=\u001B[39m\u001B[38;5;241m3\u001B[39m)\n\u001B[1;32m---> 34\u001B[0m grid_result \u001B[38;5;241m=\u001B[39m \u001B[43mgrid\u001B[49m\u001B[38;5;241;43m.\u001B[39;49m\u001B[43mfit\u001B[49m\u001B[43m(\u001B[49m\u001B[43mX_train_scaled\u001B[49m\u001B[43m,\u001B[49m\u001B[43m \u001B[49m\u001B[43my_train_scaled\u001B[49m\u001B[43m)\u001B[49m\n\u001B[0;32m     36\u001B[0m \u001B[38;5;66;03m# Ergebnisse\u001B[39;00m\n\u001B[0;32m     37\u001B[0m \u001B[38;5;28mprint\u001B[39m(\u001B[38;5;124m\"\u001B[39m\u001B[38;5;124mBest: \u001B[39m\u001B[38;5;132;01m%f\u001B[39;00m\u001B[38;5;124m using \u001B[39m\u001B[38;5;132;01m%s\u001B[39;00m\u001B[38;5;124m\"\u001B[39m \u001B[38;5;241m%\u001B[39m (grid_result\u001B[38;5;241m.\u001B[39mbest_score_, grid_result\u001B[38;5;241m.\u001B[39mbest_params_))\n",
      "File \u001B[1;32m~\\Desktop\\Diplomarbeit Erik Marr\\Projekt X\\venv\\Lib\\site-packages\\sklearn\\base.py:1351\u001B[0m, in \u001B[0;36m_fit_context.<locals>.decorator.<locals>.wrapper\u001B[1;34m(estimator, *args, **kwargs)\u001B[0m\n\u001B[0;32m   1344\u001B[0m     estimator\u001B[38;5;241m.\u001B[39m_validate_params()\n\u001B[0;32m   1346\u001B[0m \u001B[38;5;28;01mwith\u001B[39;00m config_context(\n\u001B[0;32m   1347\u001B[0m     skip_parameter_validation\u001B[38;5;241m=\u001B[39m(\n\u001B[0;32m   1348\u001B[0m         prefer_skip_nested_validation \u001B[38;5;129;01mor\u001B[39;00m global_skip_validation\n\u001B[0;32m   1349\u001B[0m     )\n\u001B[0;32m   1350\u001B[0m ):\n\u001B[1;32m-> 1351\u001B[0m     \u001B[38;5;28;01mreturn\u001B[39;00m \u001B[43mfit_method\u001B[49m\u001B[43m(\u001B[49m\u001B[43mestimator\u001B[49m\u001B[43m,\u001B[49m\u001B[43m \u001B[49m\u001B[38;5;241;43m*\u001B[39;49m\u001B[43margs\u001B[49m\u001B[43m,\u001B[49m\u001B[43m \u001B[49m\u001B[38;5;241;43m*\u001B[39;49m\u001B[38;5;241;43m*\u001B[39;49m\u001B[43mkwargs\u001B[49m\u001B[43m)\u001B[49m\n",
      "File \u001B[1;32m~\\Desktop\\Diplomarbeit Erik Marr\\Projekt X\\venv\\Lib\\site-packages\\sklearn\\model_selection\\_search.py:970\u001B[0m, in \u001B[0;36mBaseSearchCV.fit\u001B[1;34m(self, X, y, **params)\u001B[0m\n\u001B[0;32m    964\u001B[0m     results \u001B[38;5;241m=\u001B[39m \u001B[38;5;28mself\u001B[39m\u001B[38;5;241m.\u001B[39m_format_results(\n\u001B[0;32m    965\u001B[0m         all_candidate_params, n_splits, all_out, all_more_results\n\u001B[0;32m    966\u001B[0m     )\n\u001B[0;32m    968\u001B[0m     \u001B[38;5;28;01mreturn\u001B[39;00m results\n\u001B[1;32m--> 970\u001B[0m \u001B[38;5;28;43mself\u001B[39;49m\u001B[38;5;241;43m.\u001B[39;49m\u001B[43m_run_search\u001B[49m\u001B[43m(\u001B[49m\u001B[43mevaluate_candidates\u001B[49m\u001B[43m)\u001B[49m\n\u001B[0;32m    972\u001B[0m \u001B[38;5;66;03m# multimetric is determined here because in the case of a callable\u001B[39;00m\n\u001B[0;32m    973\u001B[0m \u001B[38;5;66;03m# self.scoring the return type is only known after calling\u001B[39;00m\n\u001B[0;32m    974\u001B[0m first_test_score \u001B[38;5;241m=\u001B[39m all_out[\u001B[38;5;241m0\u001B[39m][\u001B[38;5;124m\"\u001B[39m\u001B[38;5;124mtest_scores\u001B[39m\u001B[38;5;124m\"\u001B[39m]\n",
      "File \u001B[1;32m~\\Desktop\\Diplomarbeit Erik Marr\\Projekt X\\venv\\Lib\\site-packages\\sklearn\\model_selection\\_search.py:1527\u001B[0m, in \u001B[0;36mGridSearchCV._run_search\u001B[1;34m(self, evaluate_candidates)\u001B[0m\n\u001B[0;32m   1525\u001B[0m \u001B[38;5;28;01mdef\u001B[39;00m \u001B[38;5;21m_run_search\u001B[39m(\u001B[38;5;28mself\u001B[39m, evaluate_candidates):\n\u001B[0;32m   1526\u001B[0m \u001B[38;5;250m    \u001B[39m\u001B[38;5;124;03m\"\"\"Search all candidates in param_grid\"\"\"\u001B[39;00m\n\u001B[1;32m-> 1527\u001B[0m     \u001B[43mevaluate_candidates\u001B[49m\u001B[43m(\u001B[49m\u001B[43mParameterGrid\u001B[49m\u001B[43m(\u001B[49m\u001B[38;5;28;43mself\u001B[39;49m\u001B[38;5;241;43m.\u001B[39;49m\u001B[43mparam_grid\u001B[49m\u001B[43m)\u001B[49m\u001B[43m)\u001B[49m\n",
      "File \u001B[1;32m~\\Desktop\\Diplomarbeit Erik Marr\\Projekt X\\venv\\Lib\\site-packages\\sklearn\\model_selection\\_search.py:916\u001B[0m, in \u001B[0;36mBaseSearchCV.fit.<locals>.evaluate_candidates\u001B[1;34m(candidate_params, cv, more_results)\u001B[0m\n\u001B[0;32m    908\u001B[0m \u001B[38;5;28;01mif\u001B[39;00m \u001B[38;5;28mself\u001B[39m\u001B[38;5;241m.\u001B[39mverbose \u001B[38;5;241m>\u001B[39m \u001B[38;5;241m0\u001B[39m:\n\u001B[0;32m    909\u001B[0m     \u001B[38;5;28mprint\u001B[39m(\n\u001B[0;32m    910\u001B[0m         \u001B[38;5;124m\"\u001B[39m\u001B[38;5;124mFitting \u001B[39m\u001B[38;5;132;01m{0}\u001B[39;00m\u001B[38;5;124m folds for each of \u001B[39m\u001B[38;5;132;01m{1}\u001B[39;00m\u001B[38;5;124m candidates,\u001B[39m\u001B[38;5;124m\"\u001B[39m\n\u001B[0;32m    911\u001B[0m         \u001B[38;5;124m\"\u001B[39m\u001B[38;5;124m totalling \u001B[39m\u001B[38;5;132;01m{2}\u001B[39;00m\u001B[38;5;124m fits\u001B[39m\u001B[38;5;124m\"\u001B[39m\u001B[38;5;241m.\u001B[39mformat(\n\u001B[0;32m    912\u001B[0m             n_splits, n_candidates, n_candidates \u001B[38;5;241m*\u001B[39m n_splits\n\u001B[0;32m    913\u001B[0m         )\n\u001B[0;32m    914\u001B[0m     )\n\u001B[1;32m--> 916\u001B[0m out \u001B[38;5;241m=\u001B[39m \u001B[43mparallel\u001B[49m\u001B[43m(\u001B[49m\n\u001B[0;32m    917\u001B[0m \u001B[43m    \u001B[49m\u001B[43mdelayed\u001B[49m\u001B[43m(\u001B[49m\u001B[43m_fit_and_score\u001B[49m\u001B[43m)\u001B[49m\u001B[43m(\u001B[49m\n\u001B[0;32m    918\u001B[0m \u001B[43m        \u001B[49m\u001B[43mclone\u001B[49m\u001B[43m(\u001B[49m\u001B[43mbase_estimator\u001B[49m\u001B[43m)\u001B[49m\u001B[43m,\u001B[49m\n\u001B[0;32m    919\u001B[0m \u001B[43m        \u001B[49m\u001B[43mX\u001B[49m\u001B[43m,\u001B[49m\n\u001B[0;32m    920\u001B[0m \u001B[43m        \u001B[49m\u001B[43my\u001B[49m\u001B[43m,\u001B[49m\n\u001B[0;32m    921\u001B[0m \u001B[43m        \u001B[49m\u001B[43mtrain\u001B[49m\u001B[38;5;241;43m=\u001B[39;49m\u001B[43mtrain\u001B[49m\u001B[43m,\u001B[49m\n\u001B[0;32m    922\u001B[0m \u001B[43m        \u001B[49m\u001B[43mtest\u001B[49m\u001B[38;5;241;43m=\u001B[39;49m\u001B[43mtest\u001B[49m\u001B[43m,\u001B[49m\n\u001B[0;32m    923\u001B[0m \u001B[43m        \u001B[49m\u001B[43mparameters\u001B[49m\u001B[38;5;241;43m=\u001B[39;49m\u001B[43mparameters\u001B[49m\u001B[43m,\u001B[49m\n\u001B[0;32m    924\u001B[0m \u001B[43m        \u001B[49m\u001B[43msplit_progress\u001B[49m\u001B[38;5;241;43m=\u001B[39;49m\u001B[43m(\u001B[49m\u001B[43msplit_idx\u001B[49m\u001B[43m,\u001B[49m\u001B[43m \u001B[49m\u001B[43mn_splits\u001B[49m\u001B[43m)\u001B[49m\u001B[43m,\u001B[49m\n\u001B[0;32m    925\u001B[0m \u001B[43m        \u001B[49m\u001B[43mcandidate_progress\u001B[49m\u001B[38;5;241;43m=\u001B[39;49m\u001B[43m(\u001B[49m\u001B[43mcand_idx\u001B[49m\u001B[43m,\u001B[49m\u001B[43m \u001B[49m\u001B[43mn_candidates\u001B[49m\u001B[43m)\u001B[49m\u001B[43m,\u001B[49m\n\u001B[0;32m    926\u001B[0m \u001B[43m        \u001B[49m\u001B[38;5;241;43m*\u001B[39;49m\u001B[38;5;241;43m*\u001B[39;49m\u001B[43mfit_and_score_kwargs\u001B[49m\u001B[43m,\u001B[49m\n\u001B[0;32m    927\u001B[0m \u001B[43m    \u001B[49m\u001B[43m)\u001B[49m\n\u001B[0;32m    928\u001B[0m \u001B[43m    \u001B[49m\u001B[38;5;28;43;01mfor\u001B[39;49;00m\u001B[43m \u001B[49m\u001B[43m(\u001B[49m\u001B[43mcand_idx\u001B[49m\u001B[43m,\u001B[49m\u001B[43m \u001B[49m\u001B[43mparameters\u001B[49m\u001B[43m)\u001B[49m\u001B[43m,\u001B[49m\u001B[43m \u001B[49m\u001B[43m(\u001B[49m\u001B[43msplit_idx\u001B[49m\u001B[43m,\u001B[49m\u001B[43m \u001B[49m\u001B[43m(\u001B[49m\u001B[43mtrain\u001B[49m\u001B[43m,\u001B[49m\u001B[43m \u001B[49m\u001B[43mtest\u001B[49m\u001B[43m)\u001B[49m\u001B[43m)\u001B[49m\u001B[43m \u001B[49m\u001B[38;5;129;43;01min\u001B[39;49;00m\u001B[43m \u001B[49m\u001B[43mproduct\u001B[49m\u001B[43m(\u001B[49m\n\u001B[0;32m    929\u001B[0m \u001B[43m        \u001B[49m\u001B[38;5;28;43menumerate\u001B[39;49m\u001B[43m(\u001B[49m\u001B[43mcandidate_params\u001B[49m\u001B[43m)\u001B[49m\u001B[43m,\u001B[49m\n\u001B[0;32m    930\u001B[0m \u001B[43m        \u001B[49m\u001B[38;5;28;43menumerate\u001B[39;49m\u001B[43m(\u001B[49m\u001B[43mcv\u001B[49m\u001B[38;5;241;43m.\u001B[39;49m\u001B[43msplit\u001B[49m\u001B[43m(\u001B[49m\u001B[43mX\u001B[49m\u001B[43m,\u001B[49m\u001B[43m \u001B[49m\u001B[43my\u001B[49m\u001B[43m,\u001B[49m\u001B[43m \u001B[49m\u001B[38;5;241;43m*\u001B[39;49m\u001B[38;5;241;43m*\u001B[39;49m\u001B[43mrouted_params\u001B[49m\u001B[38;5;241;43m.\u001B[39;49m\u001B[43msplitter\u001B[49m\u001B[38;5;241;43m.\u001B[39;49m\u001B[43msplit\u001B[49m\u001B[43m)\u001B[49m\u001B[43m)\u001B[49m\u001B[43m,\u001B[49m\n\u001B[0;32m    931\u001B[0m \u001B[43m    \u001B[49m\u001B[43m)\u001B[49m\n\u001B[0;32m    932\u001B[0m \u001B[43m\u001B[49m\u001B[43m)\u001B[49m\n\u001B[0;32m    934\u001B[0m \u001B[38;5;28;01mif\u001B[39;00m \u001B[38;5;28mlen\u001B[39m(out) \u001B[38;5;241m<\u001B[39m \u001B[38;5;241m1\u001B[39m:\n\u001B[0;32m    935\u001B[0m     \u001B[38;5;28;01mraise\u001B[39;00m \u001B[38;5;167;01mValueError\u001B[39;00m(\n\u001B[0;32m    936\u001B[0m         \u001B[38;5;124m\"\u001B[39m\u001B[38;5;124mNo fits were performed. \u001B[39m\u001B[38;5;124m\"\u001B[39m\n\u001B[0;32m    937\u001B[0m         \u001B[38;5;124m\"\u001B[39m\u001B[38;5;124mWas the CV iterator empty? \u001B[39m\u001B[38;5;124m\"\u001B[39m\n\u001B[0;32m    938\u001B[0m         \u001B[38;5;124m\"\u001B[39m\u001B[38;5;124mWere there no candidates?\u001B[39m\u001B[38;5;124m\"\u001B[39m\n\u001B[0;32m    939\u001B[0m     )\n",
      "File \u001B[1;32m~\\Desktop\\Diplomarbeit Erik Marr\\Projekt X\\venv\\Lib\\site-packages\\sklearn\\utils\\parallel.py:67\u001B[0m, in \u001B[0;36mParallel.__call__\u001B[1;34m(self, iterable)\u001B[0m\n\u001B[0;32m     62\u001B[0m config \u001B[38;5;241m=\u001B[39m get_config()\n\u001B[0;32m     63\u001B[0m iterable_with_config \u001B[38;5;241m=\u001B[39m (\n\u001B[0;32m     64\u001B[0m     (_with_config(delayed_func, config), args, kwargs)\n\u001B[0;32m     65\u001B[0m     \u001B[38;5;28;01mfor\u001B[39;00m delayed_func, args, kwargs \u001B[38;5;129;01min\u001B[39;00m iterable\n\u001B[0;32m     66\u001B[0m )\n\u001B[1;32m---> 67\u001B[0m \u001B[38;5;28;01mreturn\u001B[39;00m \u001B[38;5;28;43msuper\u001B[39;49m\u001B[43m(\u001B[49m\u001B[43m)\u001B[49m\u001B[38;5;241;43m.\u001B[39;49m\u001B[38;5;21;43m__call__\u001B[39;49m\u001B[43m(\u001B[49m\u001B[43miterable_with_config\u001B[49m\u001B[43m)\u001B[49m\n",
      "File \u001B[1;32m~\\Desktop\\Diplomarbeit Erik Marr\\Projekt X\\venv\\Lib\\site-packages\\joblib\\parallel.py:1952\u001B[0m, in \u001B[0;36mParallel.__call__\u001B[1;34m(self, iterable)\u001B[0m\n\u001B[0;32m   1946\u001B[0m \u001B[38;5;66;03m# The first item from the output is blank, but it makes the interpreter\u001B[39;00m\n\u001B[0;32m   1947\u001B[0m \u001B[38;5;66;03m# progress until it enters the Try/Except block of the generator and\u001B[39;00m\n\u001B[0;32m   1948\u001B[0m \u001B[38;5;66;03m# reach the first `yield` statement. This starts the aynchronous\u001B[39;00m\n\u001B[0;32m   1949\u001B[0m \u001B[38;5;66;03m# dispatch of the tasks to the workers.\u001B[39;00m\n\u001B[0;32m   1950\u001B[0m \u001B[38;5;28mnext\u001B[39m(output)\n\u001B[1;32m-> 1952\u001B[0m \u001B[38;5;28;01mreturn\u001B[39;00m output \u001B[38;5;28;01mif\u001B[39;00m \u001B[38;5;28mself\u001B[39m\u001B[38;5;241m.\u001B[39mreturn_generator \u001B[38;5;28;01melse\u001B[39;00m \u001B[38;5;28mlist\u001B[39m(output)\n",
      "File \u001B[1;32m~\\Desktop\\Diplomarbeit Erik Marr\\Projekt X\\venv\\Lib\\site-packages\\joblib\\parallel.py:1595\u001B[0m, in \u001B[0;36mParallel._get_outputs\u001B[1;34m(self, iterator, pre_dispatch)\u001B[0m\n\u001B[0;32m   1592\u001B[0m     \u001B[38;5;28;01myield\u001B[39;00m\n\u001B[0;32m   1594\u001B[0m     \u001B[38;5;28;01mwith\u001B[39;00m \u001B[38;5;28mself\u001B[39m\u001B[38;5;241m.\u001B[39m_backend\u001B[38;5;241m.\u001B[39mretrieval_context():\n\u001B[1;32m-> 1595\u001B[0m         \u001B[38;5;28;01myield from\u001B[39;00m \u001B[38;5;28mself\u001B[39m\u001B[38;5;241m.\u001B[39m_retrieve()\n\u001B[0;32m   1597\u001B[0m \u001B[38;5;28;01mexcept\u001B[39;00m \u001B[38;5;167;01mGeneratorExit\u001B[39;00m:\n\u001B[0;32m   1598\u001B[0m     \u001B[38;5;66;03m# The generator has been garbage collected before being fully\u001B[39;00m\n\u001B[0;32m   1599\u001B[0m     \u001B[38;5;66;03m# consumed. This aborts the remaining tasks if possible and warn\u001B[39;00m\n\u001B[0;32m   1600\u001B[0m     \u001B[38;5;66;03m# the user if necessary.\u001B[39;00m\n\u001B[0;32m   1601\u001B[0m     \u001B[38;5;28mself\u001B[39m\u001B[38;5;241m.\u001B[39m_exception \u001B[38;5;241m=\u001B[39m \u001B[38;5;28;01mTrue\u001B[39;00m\n",
      "File \u001B[1;32m~\\Desktop\\Diplomarbeit Erik Marr\\Projekt X\\venv\\Lib\\site-packages\\joblib\\parallel.py:1699\u001B[0m, in \u001B[0;36mParallel._retrieve\u001B[1;34m(self)\u001B[0m\n\u001B[0;32m   1692\u001B[0m \u001B[38;5;28;01mwhile\u001B[39;00m \u001B[38;5;28mself\u001B[39m\u001B[38;5;241m.\u001B[39m_wait_retrieval():\n\u001B[0;32m   1693\u001B[0m \n\u001B[0;32m   1694\u001B[0m     \u001B[38;5;66;03m# If the callback thread of a worker has signaled that its task\u001B[39;00m\n\u001B[0;32m   1695\u001B[0m     \u001B[38;5;66;03m# triggered an exception, or if the retrieval loop has raised an\u001B[39;00m\n\u001B[0;32m   1696\u001B[0m     \u001B[38;5;66;03m# exception (e.g. `GeneratorExit`), exit the loop and surface the\u001B[39;00m\n\u001B[0;32m   1697\u001B[0m     \u001B[38;5;66;03m# worker traceback.\u001B[39;00m\n\u001B[0;32m   1698\u001B[0m     \u001B[38;5;28;01mif\u001B[39;00m \u001B[38;5;28mself\u001B[39m\u001B[38;5;241m.\u001B[39m_aborting:\n\u001B[1;32m-> 1699\u001B[0m         \u001B[38;5;28;43mself\u001B[39;49m\u001B[38;5;241;43m.\u001B[39;49m\u001B[43m_raise_error_fast\u001B[49m\u001B[43m(\u001B[49m\u001B[43m)\u001B[49m\n\u001B[0;32m   1700\u001B[0m         \u001B[38;5;28;01mbreak\u001B[39;00m\n\u001B[0;32m   1702\u001B[0m     \u001B[38;5;66;03m# If the next job is not ready for retrieval yet, we just wait for\u001B[39;00m\n\u001B[0;32m   1703\u001B[0m     \u001B[38;5;66;03m# async callbacks to progress.\u001B[39;00m\n",
      "File \u001B[1;32m~\\Desktop\\Diplomarbeit Erik Marr\\Projekt X\\venv\\Lib\\site-packages\\joblib\\parallel.py:1734\u001B[0m, in \u001B[0;36mParallel._raise_error_fast\u001B[1;34m(self)\u001B[0m\n\u001B[0;32m   1730\u001B[0m \u001B[38;5;66;03m# If this error job exists, immediatly raise the error by\u001B[39;00m\n\u001B[0;32m   1731\u001B[0m \u001B[38;5;66;03m# calling get_result. This job might not exists if abort has been\u001B[39;00m\n\u001B[0;32m   1732\u001B[0m \u001B[38;5;66;03m# called directly or if the generator is gc'ed.\u001B[39;00m\n\u001B[0;32m   1733\u001B[0m \u001B[38;5;28;01mif\u001B[39;00m error_job \u001B[38;5;129;01mis\u001B[39;00m \u001B[38;5;129;01mnot\u001B[39;00m \u001B[38;5;28;01mNone\u001B[39;00m:\n\u001B[1;32m-> 1734\u001B[0m     \u001B[43merror_job\u001B[49m\u001B[38;5;241;43m.\u001B[39;49m\u001B[43mget_result\u001B[49m\u001B[43m(\u001B[49m\u001B[38;5;28;43mself\u001B[39;49m\u001B[38;5;241;43m.\u001B[39;49m\u001B[43mtimeout\u001B[49m\u001B[43m)\u001B[49m\n",
      "File \u001B[1;32m~\\Desktop\\Diplomarbeit Erik Marr\\Projekt X\\venv\\Lib\\site-packages\\joblib\\parallel.py:736\u001B[0m, in \u001B[0;36mBatchCompletionCallBack.get_result\u001B[1;34m(self, timeout)\u001B[0m\n\u001B[0;32m    730\u001B[0m backend \u001B[38;5;241m=\u001B[39m \u001B[38;5;28mself\u001B[39m\u001B[38;5;241m.\u001B[39mparallel\u001B[38;5;241m.\u001B[39m_backend\n\u001B[0;32m    732\u001B[0m \u001B[38;5;28;01mif\u001B[39;00m backend\u001B[38;5;241m.\u001B[39msupports_retrieve_callback:\n\u001B[0;32m    733\u001B[0m     \u001B[38;5;66;03m# We assume that the result has already been retrieved by the\u001B[39;00m\n\u001B[0;32m    734\u001B[0m     \u001B[38;5;66;03m# callback thread, and is stored internally. It's just waiting to\u001B[39;00m\n\u001B[0;32m    735\u001B[0m     \u001B[38;5;66;03m# be returned.\u001B[39;00m\n\u001B[1;32m--> 736\u001B[0m     \u001B[38;5;28;01mreturn\u001B[39;00m \u001B[38;5;28;43mself\u001B[39;49m\u001B[38;5;241;43m.\u001B[39;49m\u001B[43m_return_or_raise\u001B[49m\u001B[43m(\u001B[49m\u001B[43m)\u001B[49m\n\u001B[0;32m    738\u001B[0m \u001B[38;5;66;03m# For other backends, the main thread needs to run the retrieval step.\u001B[39;00m\n\u001B[0;32m    739\u001B[0m \u001B[38;5;28;01mtry\u001B[39;00m:\n",
      "File \u001B[1;32m~\\Desktop\\Diplomarbeit Erik Marr\\Projekt X\\venv\\Lib\\site-packages\\joblib\\parallel.py:754\u001B[0m, in \u001B[0;36mBatchCompletionCallBack._return_or_raise\u001B[1;34m(self)\u001B[0m\n\u001B[0;32m    752\u001B[0m \u001B[38;5;28;01mtry\u001B[39;00m:\n\u001B[0;32m    753\u001B[0m     \u001B[38;5;28;01mif\u001B[39;00m \u001B[38;5;28mself\u001B[39m\u001B[38;5;241m.\u001B[39mstatus \u001B[38;5;241m==\u001B[39m TASK_ERROR:\n\u001B[1;32m--> 754\u001B[0m         \u001B[38;5;28;01mraise\u001B[39;00m \u001B[38;5;28mself\u001B[39m\u001B[38;5;241m.\u001B[39m_result\n\u001B[0;32m    755\u001B[0m     \u001B[38;5;28;01mreturn\u001B[39;00m \u001B[38;5;28mself\u001B[39m\u001B[38;5;241m.\u001B[39m_result\n\u001B[0;32m    756\u001B[0m \u001B[38;5;28;01mfinally\u001B[39;00m:\n",
      "\u001B[1;31mValueError\u001B[0m: Invalid parameter learning_rate for estimator KerasClassifier.\nThis issue can likely be resolved by setting this parameter in the KerasClassifier constructor:\n`KerasClassifier(learning_rate=0.001)`\nCheck the list of available parameters with `estimator.get_params().keys()`"
     ]
    }
   ],
   "source": [
    "import tensorflow as tf\n",
    "from tensorflow.keras.models import Sequential\n",
    "from tensorflow.keras.layers import Dense, Dropout\n",
    "from scikeras.wrappers import KerasClassifier, KerasRegressor\n",
    "from sklearn.model_selection import GridSearchCV\n",
    "\n",
    "# Funktion, um das Keras-Modell zu erstellen\n",
    "def create_model(learning_rate=0.001,  regularization_rate=0.0001):\n",
    "    model = Sequential([\n",
    "        Dense(64, input_shape=(2,), activation='relu', \n",
    "              kernel_regularizer=tf.keras.regularizers.l2(regularization_rate)),\n",
    "        Dropout(dropout_rate),\n",
    "        Dense(1, activation='sigmoid')\n",
    "    ])\n",
    "    \n",
    "    optimizer = tf.keras.optimizers.Adam(learning_rate=learning_rate)\n",
    "    model.compile(optimizer=optimizer, loss='MSE', metrics=['MAE'])\n",
    "    return model\n",
    "\n",
    "# Wrapper um das Modell für Grid Search\n",
    "model = KerasClassifier(build_fn=create_model, verbose=0, lr=None, optimizer=None)\n",
    "\n",
    "# Definiere den Parameterraum für die Grid Search\n",
    "param_grid = {\n",
    "    'batch_size': [16, 32, 64],\n",
    "    'epochs': [10, 20],\n",
    "    'learning_rate': [0.001, 0.01, 0.1],\n",
    "    #'dropout_rate': [0.0, 0.2, 0.5],\n",
    "    'regularization_rate': [0.01, 0.001, 0.0001]\n",
    "}\n",
    "\n",
    "# Erstelle und führe die Grid Search aus\n",
    "grid = GridSearchCV(estimator=model, param_grid=param_grid, n_jobs=-1, cv=3)\n",
    "grid_result = grid.fit(X_train_scaled, y_train_scaled)\n",
    "\n",
    "# Ergebnisse\n",
    "print(\"Best: %f using %s\" % (grid_result.best_score_, grid_result.best_params_))\n",
    "for params, mean_score, scores in grid_result.cv_results_['params'], grid_result.cv_results_['mean_test_score'], grid_result.cv_results_['std_test_score']:\n",
    "    print(\"%f (%f) with: %r\" % (mean_score, scores, params))\n"
   ],
   "metadata": {
    "collapsed": false,
    "ExecuteTime": {
     "end_time": "2024-02-22T16:08:53.249161500Z",
     "start_time": "2024-02-22T16:08:43.822287Z"
    }
   },
   "id": "6e3fbba3423056ad"
  },
  {
   "cell_type": "code",
   "execution_count": 37,
   "outputs": [
    {
     "name": "stdout",
     "output_type": "stream",
     "text": [
      "Trial 20 Complete [00h 00m 46s]\n",
      "val_mae: 0.005825335392728448\n",
      "\n",
      "Best val_mae So Far: 0.0035446375841274858\n",
      "Total elapsed time: 00h 15m 04s\n",
      "Die besten Hyperparameter sind: {'units_input': 32, 'units_hidden1': 96, 'units_hidden2': 32, 'learning_rate': 0.001}\n"
     ]
    }
   ],
   "source": [
    "class RegressionHyperModel(HyperModel):\n",
    "    def __init__(self, input_shape):\n",
    "        self.input_shape = input_shape\n",
    "\n",
    "    def build(self, hp):\n",
    "        model = Sequential()\n",
    "        model.add(Dense(\n",
    "            units=hp.Int('units_input', min_value=16, max_value=124, step=16),\n",
    "            activation='relu',\n",
    "            input_shape=self.input_shape,\n",
    "            kernel_initializer='he_uniform',\n",
    "            kernel_regularizer=l2(0.0001)\n",
    "        ))\n",
    "        model.add(Dense(\n",
    "            units=hp.Int('units_hidden1', min_value=16, max_value=124, step=16),\n",
    "            activation='relu',\n",
    "            kernel_initializer='he_uniform',\n",
    "            kernel_regularizer=l2(0.0001)\n",
    "        ))\n",
    "        model.add(Dense(\n",
    "            units=hp.Int('units_hidden2', min_value=16, max_value=124, step=16),\n",
    "            activation='relu',\n",
    "            kernel_initializer='he_uniform',\n",
    "            kernel_regularizer=l2(0.0001) \n",
    "        ))\n",
    "        model.add(Dense(1, activation='linear'))\n",
    "\n",
    "        model.compile(\n",
    "            optimizer=Adam(hp.Choice('learning_rate', values=[1e-2, 1e-3, 1e-4])),\n",
    "            loss='mean_squared_error',\n",
    "            metrics=['mae']\n",
    "        )\n",
    "        return model\n",
    "\n",
    "# Setzen Sie die richtige Eingabeform hier, z.B. (2,)\n",
    "hypermodel = RegressionHyperModel(input_shape=(2,))\n",
    "\n",
    "tuner = RandomSearch(\n",
    "    hypermodel,\n",
    "    objective='val_mae',\n",
    "    max_trials=20,\n",
    "    executions_per_trial=2,\n",
    "    directory='my_dir',\n",
    "    project_name='keras_tuner_demo4'\n",
    ")\n",
    "\n",
    "# Beachten Sie, dass X_train_scaled, y_train_scaled durch Ihre tatsächlichen Trainingsdaten ersetzt werden müssen.\n",
    "tuner.search(X_train_scaled, y_train_scaled, epochs=10, validation_split=0.2, callbacks=[EarlyStopping(monitor='val_loss', patience=5)])\n",
    "\n",
    "# Die besten Hyperparameter bekommen\n",
    "best_hps = tuner.get_best_hyperparameters(num_trials=1)[0]\n",
    "print(f\"Die besten Hyperparameter sind: {best_hps.values}\")\n",
    "\n",
    "# Das beste Modell mit den optimalen Hyperparametern trainieren\n",
    "#model = tuner.hypermodel.build(best_hps)\n",
    "# Hier müssen Sie die tatsächlichen Trainings- und Validierungsdaten einfügen\n",
    "#history = model.fit(X_train_scaled, y_train_scaled, epochs=100, validation_split=0.2, callbacks=[EarlyStopping(monitor='val_loss', patience=5, restore_best_weights=True)])\n"
   ],
   "metadata": {
    "collapsed": false
   },
   "id": "9e4c339eeed37479"
  },
  {
   "cell_type": "markdown",
   "source": [],
   "metadata": {
    "collapsed": false
   },
   "id": "6751193b14f574a1"
  },
  {
   "cell_type": "code",
   "execution_count": 16,
   "outputs": [
    {
     "name": "stdout",
     "output_type": "stream",
     "text": [
      "|   iter    |  target   | learni... | neuron... | neuron... | neuron... | neuron... | neuron... |\n",
      "-------------------------------------------------------------------------------------------------\n",
      "Restoring model weights from the end of the best epoch: 12.\n",
      "Epoch 17: early stopping\n",
      "| \u001B[0m1        \u001B[0m | \u001B[0m-0.000638\u001B[0m | \u001B[0m0.004229 \u001B[0m | \u001B[0m148.5    \u001B[0m | \u001B[0m16.02    \u001B[0m | \u001B[0m71.63    \u001B[0m | \u001B[0m43.0     \u001B[0m | \u001B[0m32.99    \u001B[0m |\n",
      "Restoring model weights from the end of the best epoch: 14.\n",
      "Epoch 19: early stopping\n",
      "| \u001B[95m2        \u001B[0m | \u001B[95m-0.000562\u001B[0m | \u001B[95m0.001944 \u001B[0m | \u001B[95m79.58    \u001B[0m | \u001B[95m89.01    \u001B[0m | \u001B[95m115.1    \u001B[0m | \u001B[95m93.13    \u001B[0m | \u001B[95m142.1    \u001B[0m |\n",
      "Restoring model weights from the end of the best epoch: 13.\n",
      "Epoch 18: early stopping\n",
      "| \u001B[0m3        \u001B[0m | \u001B[0m-0.000766\u001B[0m | \u001B[0m0.005658 \u001B[0m | \u001B[0m85.07    \u001B[0m | \u001B[0m104.1    \u001B[0m | \u001B[0m119.3    \u001B[0m | \u001B[0m41.35    \u001B[0m | \u001B[0m134.6    \u001B[0m |\n",
      "Restoring model weights from the end of the best epoch: 11.\n",
      "Epoch 16: early stopping\n",
      "| \u001B[0m4        \u001B[0m | \u001B[0m-0.000834\u001B[0m | \u001B[0m0.008647 \u001B[0m | \u001B[0m85.11    \u001B[0m | \u001B[0m86.15    \u001B[0m | \u001B[0m110.5    \u001B[0m | \u001B[0m103.4    \u001B[0m | \u001B[0m144.2    \u001B[0m |\n",
      "Restoring model weights from the end of the best epoch: 15.\n",
      "Epoch 20: early stopping\n",
      "| \u001B[0m5        \u001B[0m | \u001B[0m-0.000733\u001B[0m | \u001B[0m0.008982 \u001B[0m | \u001B[0m113.5    \u001B[0m | \u001B[0m26.86    \u001B[0m | \u001B[0m170.1    \u001B[0m | \u001B[0m57.75    \u001B[0m | \u001B[0m50.06    \u001B[0m |\n",
      "Restoring model weights from the end of the best epoch: 7.\n",
      "Epoch 12: early stopping\n",
      "| \u001B[0m6        \u001B[0m | \u001B[0m-0.000743\u001B[0m | \u001B[0m0.004154 \u001B[0m | \u001B[0m38.5     \u001B[0m | \u001B[0m150.3    \u001B[0m | \u001B[0m175.7    \u001B[0m | \u001B[0m138.0    \u001B[0m | \u001B[0m88.68    \u001B[0m |\n",
      "Restoring model weights from the end of the best epoch: 16.\n",
      "Epoch 21: early stopping\n",
      "| \u001B[0m7        \u001B[0m | \u001B[0m-0.000796\u001B[0m | \u001B[0m0.009176 \u001B[0m | \u001B[0m33.41    \u001B[0m | \u001B[0m197.5    \u001B[0m | \u001B[0m190.2    \u001B[0m | \u001B[0m18.45    \u001B[0m | \u001B[0m99.55    \u001B[0m |\n",
      "Restoring model weights from the end of the best epoch: 12.\n",
      "Epoch 17: early stopping\n",
      "| \u001B[0m8        \u001B[0m | \u001B[0m-0.000782\u001B[0m | \u001B[0m0.006971 \u001B[0m | \u001B[0m121.5    \u001B[0m | \u001B[0m76.55    \u001B[0m | \u001B[0m146.6    \u001B[0m | \u001B[0m162.7    \u001B[0m | \u001B[0m21.59    \u001B[0m |\n",
      "Restoring model weights from the end of the best epoch: 17.\n",
      "Epoch 22: early stopping\n",
      "| \u001B[95m9        \u001B[0m | \u001B[95m-0.000546\u001B[0m | \u001B[95m0.002098 \u001B[0m | \u001B[95m70.04    \u001B[0m | \u001B[95m45.3     \u001B[0m | \u001B[95m67.57    \u001B[0m | \u001B[95m165.3    \u001B[0m | \u001B[95m146.0    \u001B[0m |\n",
      "Restoring model weights from the end of the best epoch: 34.\n",
      "Epoch 39: early stopping\n",
      "| \u001B[0m10       \u001B[0m | \u001B[0m-0.000793\u001B[0m | \u001B[0m0.0001457\u001B[0m | \u001B[0m167.1    \u001B[0m | \u001B[0m110.3    \u001B[0m | \u001B[0m114.7    \u001B[0m | \u001B[0m151.9    \u001B[0m | \u001B[0m189.9    \u001B[0m |\n",
      "Restoring model weights from the end of the best epoch: 20.\n",
      "Epoch 25: early stopping\n",
      "| \u001B[0m11       \u001B[0m | \u001B[0m-0.000610\u001B[0m | \u001B[0m0.0004375\u001B[0m | \u001B[0m148.2    \u001B[0m | \u001B[0m174.9    \u001B[0m | \u001B[0m71.28    \u001B[0m | \u001B[0m171.8    \u001B[0m | \u001B[0m93.63    \u001B[0m |\n",
      "Restoring model weights from the end of the best epoch: 17.\n",
      "Epoch 22: early stopping\n",
      "| \u001B[0m12       \u001B[0m | \u001B[0m-0.000757\u001B[0m | \u001B[0m0.008991 \u001B[0m | \u001B[0m31.9     \u001B[0m | \u001B[0m119.0    \u001B[0m | \u001B[0m62.88    \u001B[0m | \u001B[0m155.0    \u001B[0m | \u001B[0m59.75    \u001B[0m |\n",
      "Restoring model weights from the end of the best epoch: 10.\n",
      "Epoch 15: early stopping\n",
      "| \u001B[0m13       \u001B[0m | \u001B[0m-0.000891\u001B[0m | \u001B[0m0.00989  \u001B[0m | \u001B[0m153.3    \u001B[0m | \u001B[0m75.35    \u001B[0m | \u001B[0m84.86    \u001B[0m | \u001B[0m76.01    \u001B[0m | \u001B[0m122.9    \u001B[0m |\n",
      "Restoring model weights from the end of the best epoch: 12.\n",
      "Epoch 17: early stopping\n",
      "| \u001B[0m14       \u001B[0m | \u001B[0m-0.000719\u001B[0m | \u001B[0m0.007607 \u001B[0m | \u001B[0m53.49    \u001B[0m | \u001B[0m58.95    \u001B[0m | \u001B[0m123.7    \u001B[0m | \u001B[0m157.1    \u001B[0m | \u001B[0m193.7    \u001B[0m |\n",
      "Restoring model weights from the end of the best epoch: 14.\n",
      "Epoch 19: early stopping\n",
      "| \u001B[0m15       \u001B[0m | \u001B[0m-0.000742\u001B[0m | \u001B[0m0.008752 \u001B[0m | \u001B[0m198.6    \u001B[0m | \u001B[0m87.49    \u001B[0m | \u001B[0m174.8    \u001B[0m | \u001B[0m161.6    \u001B[0m | \u001B[0m149.4    \u001B[0m |\n",
      "Restoring model weights from the end of the best epoch: 25.\n",
      "Epoch 30: early stopping\n",
      "| \u001B[0m16       \u001B[0m | \u001B[0m-0.000624\u001B[0m | \u001B[0m0.0002723\u001B[0m | \u001B[0m76.96    \u001B[0m | \u001B[0m101.7    \u001B[0m | \u001B[0m68.82    \u001B[0m | \u001B[0m133.2    \u001B[0m | \u001B[0m89.11    \u001B[0m |\n",
      "Restoring model weights from the end of the best epoch: 19.\n",
      "Epoch 24: early stopping\n",
      "| \u001B[0m17       \u001B[0m | \u001B[0m-0.000692\u001B[0m | \u001B[0m0.005645 \u001B[0m | \u001B[0m124.5    \u001B[0m | \u001B[0m149.4    \u001B[0m | \u001B[0m155.6    \u001B[0m | \u001B[0m96.35    \u001B[0m | \u001B[0m137.5    \u001B[0m |\n",
      "Restoring model weights from the end of the best epoch: 26.\n",
      "Epoch 31: early stopping\n",
      "| \u001B[95m18       \u001B[0m | \u001B[95m-0.000504\u001B[0m | \u001B[95m0.0008563\u001B[0m | \u001B[95m139.4    \u001B[0m | \u001B[95m143.1    \u001B[0m | \u001B[95m142.2    \u001B[0m | \u001B[95m67.5     \u001B[0m | \u001B[95m129.6    \u001B[0m |\n",
      "Restoring model weights from the end of the best epoch: 7.\n",
      "Epoch 12: early stopping\n",
      "| \u001B[0m19       \u001B[0m | \u001B[0m-0.000737\u001B[0m | \u001B[0m0.008334 \u001B[0m | \u001B[0m17.35    \u001B[0m | \u001B[0m23.21    \u001B[0m | \u001B[0m164.6    \u001B[0m | \u001B[0m32.63    \u001B[0m | \u001B[0m155.2    \u001B[0m |\n",
      "Restoring model weights from the end of the best epoch: 14.\n",
      "Epoch 19: early stopping\n",
      "| \u001B[0m20       \u001B[0m | \u001B[0m-0.000575\u001B[0m | \u001B[0m0.001016 \u001B[0m | \u001B[0m198.8    \u001B[0m | \u001B[0m101.1    \u001B[0m | \u001B[0m41.64    \u001B[0m | \u001B[0m70.41    \u001B[0m | \u001B[0m37.44    \u001B[0m |\n",
      "Restoring model weights from the end of the best epoch: 15.\n",
      "Epoch 20: early stopping\n",
      "| \u001B[0m21       \u001B[0m | \u001B[0m-0.000635\u001B[0m | \u001B[0m0.001644 \u001B[0m | \u001B[0m28.21    \u001B[0m | \u001B[0m184.1    \u001B[0m | \u001B[0m34.07    \u001B[0m | \u001B[0m73.35    \u001B[0m | \u001B[0m133.9    \u001B[0m |\n",
      "Restoring model weights from the end of the best epoch: 14.\n",
      "Epoch 19: early stopping\n",
      "| \u001B[0m22       \u001B[0m | \u001B[0m-0.000690\u001B[0m | \u001B[0m0.004116 \u001B[0m | \u001B[0m150.9    \u001B[0m | \u001B[0m173.6    \u001B[0m | \u001B[0m198.3    \u001B[0m | \u001B[0m173.2    \u001B[0m | \u001B[0m61.95    \u001B[0m |\n",
      "=================================================================================================\n",
      "{'target': -0.0005042816046625376, 'params': {'learning_rate': 0.0008562808887904138, 'neurons_layer_1': 139.37382512499065, 'neurons_layer_2': 143.13142125355472, 'neurons_layer_3': 142.17467953414652, 'neurons_layer_4': 67.50109625880788, 'neurons_layer_5': 129.5541186323257}}\n"
     ]
    }
   ],
   "source": [
    "from bayes_opt import BayesianOptimization\n",
    "\n",
    "\n",
    "# Angenommene Daten\n",
    "# X_train_scaled, y_train_scaled = # Deine skalierten Trainingsdaten\n",
    "\n",
    "def train_evaluate(neurons_layer_1, neurons_layer_2, neurons_layer_3, neurons_layer_4, neurons_layer_5, learning_rate):\n",
    "    model = Sequential([\n",
    "        Dense(int(neurons_layer_1), activation='relu', input_shape=(2,), kernel_initializer='he_uniform', kernel_regularizer=l2(0.0001)),\n",
    "        Dense(int(neurons_layer_2), activation='relu', kernel_initializer='he_uniform', kernel_regularizer=l2(0.0001)),\n",
    "        Dense(int(neurons_layer_3), activation='relu', kernel_initializer='he_uniform', kernel_regularizer=l2(0.0001)),\n",
    "        Dense(int(neurons_layer_4), activation='relu', kernel_initializer='he_uniform', kernel_regularizer=l2(0.0001)),\n",
    "        Dense(int(neurons_layer_5), activation='relu', kernel_initializer='he_uniform', kernel_regularizer=l2(0.0001)),\n",
    "        \n",
    "        Dense(1, activation='linear')\n",
    "    ])\n",
    "\n",
    "    optimizer = tf.keras.optimizers.Adam(learning_rate=learning_rate)\n",
    "    model.compile(optimizer=optimizer, loss='mean_squared_error', metrics=['mae'])\n",
    "\n",
    "    early_stopping = EarlyStopping(monitor='loss', patience=5, verbose=1, mode='min', restore_best_weights=True, min_delta=0.0001)\n",
    "\n",
    "    history = model.fit(X_train_scaled, y_train_scaled, batch_size=32, epochs=100, validation_split=0.2, callbacks=[early_stopping], verbose=0)\n",
    "\n",
    "    # Hier wählen wir den negativen Mean Squared Error, da Bayesian Optimization maximiert\n",
    "    mse = np.min(history.history['val_loss'])\n",
    "    return -mse\n",
    "\n",
    "# Definieren des Bereichs der Hyperparameter\n",
    "pbounds = {\n",
    "    'neurons_layer_1': (16, 200),\n",
    "    'neurons_layer_2': (16, 200),\n",
    "    'neurons_layer_3': (16, 200),\n",
    "    'neurons_layer_4': (16, 200),\n",
    "    'neurons_layer_5': (16, 200),\n",
    "    'learning_rate': (0.0001, 0.01),\n",
    "}\n",
    "\n",
    "# Initialisieren des BayesianOptimization-Objekts\n",
    "optimizer = BayesianOptimization(\n",
    "    f=train_evaluate,\n",
    "    pbounds=pbounds,\n",
    "    random_state=1,\n",
    ")\n",
    "\n",
    "# Starten der Optimierung\n",
    "optimizer.maximize(init_points=2, n_iter=20)\n",
    "\n",
    "print(optimizer.max)\n"
   ],
   "metadata": {
    "collapsed": false,
    "ExecuteTime": {
     "end_time": "2024-02-21T15:22:26.910485500Z",
     "start_time": "2024-02-21T15:05:40.545629700Z"
    }
   },
   "id": "a5b6232547cdae67"
  },
  {
   "cell_type": "code",
   "execution_count": 18,
   "outputs": [
    {
     "name": "stdout",
     "output_type": "stream",
     "text": [
      "Trial 100 Complete [00h 00m 48s]\n",
      "val_loss: 1.355679523840081e-05\n",
      "\n",
      "Best val_loss So Far: 1.3108049188303994e-06\n",
      "Total elapsed time: 01h 41m 02s\n",
      "Model: \"sequential\"\n",
      "_________________________________________________________________\n",
      " Layer (type)                Output Shape              Param #   \n",
      "=================================================================\n",
      " dense (Dense)               (None, 224)               672       \n",
      "                                                                 \n",
      " dense_1 (Dense)             (None, 32)                7200      \n",
      "                                                                 \n",
      " dense_2 (Dense)             (None, 96)                3168      \n",
      "                                                                 \n",
      " dense_3 (Dense)             (None, 224)               21728     \n",
      "                                                                 \n",
      " dense_4 (Dense)             (None, 128)               28800     \n",
      "                                                                 \n",
      " dense_5 (Dense)             (None, 352)               45408     \n",
      "                                                                 \n",
      " dense_6 (Dense)             (None, 1)                 353       \n",
      "                                                                 \n",
      "=================================================================\n",
      "Total params: 107329 (419.25 KB)\n",
      "Trainable params: 107329 (419.25 KB)\n",
      "Non-trainable params: 0 (0.00 Byte)\n",
      "_________________________________________________________________\n",
      "{'input_units': 224, 'n_layers': 5, 'units_0': 32, 'units_1': 96, 'units_2': 224, 'units_3': 128, 'units_4': 352, 'units_5': 448, 'units_6': 64, 'units_7': 448, 'units_8': 480, 'units_9': 480}\n"
     ]
    }
   ],
   "source": [
    "# Definieren der Funktion, die das Modell erstellt\n",
    "def build_model(hp):\n",
    "    model = Sequential()\n",
    "    model.add(Dense(hp.Int('input_units', min_value=32, max_value=512, step=32), input_shape=(2,), activation='relu'))\n",
    "    # Hinzufügen von Schichten basierend auf dem Suchraum\n",
    "    for i in range(hp.Int('n_layers', 1, 10)):\n",
    "        model.add(Dense(hp.Int(f'units_{i}', min_value=32, max_value=512, step=32), activation='relu'))\n",
    "    model.add(Dense(1, activation='linear'))\n",
    "    model.compile(optimizer='adam', loss='mean_squared_error')\n",
    "    return model\n",
    "\n",
    "# Erstellen des RandomSearch Objekts\n",
    "tuner = RandomSearch(\n",
    "    build_model,\n",
    "    objective='val_loss',\n",
    "    max_trials=100,  # Anzahl der zu testenden Modellkonfigurationen\n",
    "    executions_per_trial=1,  # Anzahl der Male, die jede Modellkonfiguration trainiert wird\n",
    "    directory='random_search',  # Verzeichnis zur Speicherung der Suchlogs\n",
    "    project_name='neural_network_optimization'\n",
    ")\n",
    "\n",
    "# Durchführung des Random Search\n",
    "tuner.search(X_train_scaled, y_train_scaled, epochs=20, batch_size=50, validation_split=0.2, callbacks=[EarlyStopping(monitor='val_loss', patience=5)])\n",
    "\n",
    "# Abrufen des besten Modells\n",
    "best_model = tuner.get_best_models(num_models=1)[0]\n",
    "\n",
    "# Zusammenfassung des besten Modells\n",
    "best_model.summary()\n",
    "\n",
    "# Sie können auch die besten Hyperparameter direkt abrufen\n",
    "best_hyperparameters = tuner.get_best_hyperparameters()[0]\n",
    "print(best_hyperparameters.values) "
   ],
   "metadata": {
    "collapsed": false
   },
   "id": "4bcbb2bbe83bfb6b"
  },
  {
   "cell_type": "code",
   "execution_count": null,
   "outputs": [],
   "source": [],
   "metadata": {
    "collapsed": false
   },
   "id": "c6a6fa208c5d8a01"
  }
 ],
 "metadata": {
  "kernelspec": {
   "display_name": "Python 3 (ipykernel)",
   "language": "python",
   "name": "python3"
  },
  "language_info": {
   "codemirror_mode": {
    "name": "ipython",
    "version": 3
   },
   "file_extension": ".py",
   "mimetype": "text/x-python",
   "name": "python",
   "nbconvert_exporter": "python",
   "pygments_lexer": "ipython3",
   "version": "3.11.4"
  }
 },
 "nbformat": 4,
 "nbformat_minor": 5
}
