{
 "cells": [
  {
   "cell_type": "code",
   "execution_count": 1,
   "id": "94b0518e",
   "metadata": {
    "ExecuteTime": {
     "end_time": "2024-02-28T10:46:05.412821300Z",
     "start_time": "2024-02-28T10:46:01.134335600Z"
    }
   },
   "outputs": [
    {
     "name": "stdout",
     "output_type": "stream",
     "text": [
      "WARNING:tensorflow:From C:\\Users\\erikm\\Desktop\\Diplomarbeit Erik Marr\\Projekt X\\venv\\Lib\\site-packages\\keras\\src\\losses.py:2976: The name tf.losses.sparse_softmax_cross_entropy is deprecated. Please use tf.compat.v1.losses.sparse_softmax_cross_entropy instead.\n"
     ]
    }
   ],
   "source": [
    "import numpy as np\n",
    "import tensorflow as tf\n",
    "import matplotlib.pyplot as plt\n",
    "from sklearn.model_selection import train_test_split\n",
    "from sklearn.preprocessing import MinMaxScaler, StandardScaler\n",
    "import pandas as pd\n",
    "from tensorflow.keras.models import Sequential\n",
    "from tensorflow.keras.layers import Dense , Dropout\n",
    "from sklearn.model_selection import GridSearchCV\n",
    "from scikeras.wrappers import KerasRegressor \n",
    "from tensorflow.keras.regularizers import l2\n",
    "from tensorflow.keras.callbacks import EarlyStopping\n",
    "from tensorflow.keras.optimizers import Adam\n",
    "import time\n",
    "from keras_tuner import HyperModel\n",
    "from keras.models import Sequential\n",
    "from keras.layers import Dense, Dropout\n",
    "from keras.optimizers import Adam\n",
    "from keras.regularizers import l2\n",
    "from keras.callbacks import EarlyStopping\n",
    "from keras_tuner import RandomSearch\n",
    "\n",
    "from tensorflow.keras.models import Sequential\n",
    "from tensorflow.keras.layers import Dense\n",
    "from tensorflow.keras.optimizers import Adam\n",
    "from tensorflow.keras.regularizers import l2\n",
    "\n",
    "from sklearn.model_selection import GridSearchCV"
   ]
  },
  {
   "cell_type": "code",
   "execution_count": 2,
   "id": "e4ff61b1",
   "metadata": {
    "ExecuteTime": {
     "end_time": "2024-02-28T10:46:08.596232700Z",
     "start_time": "2024-02-28T10:46:08.557219600Z"
    }
   },
   "outputs": [
    {
     "data": {
      "text/plain": "        X-Koordinate  Y-Koordinate  Zeitpunkt  Strom  Kraft  Temperatur\n0             0.0000      -0.00200        500   7000   9000      669.05\n1             0.0000      -0.00199        500   7000   9000      675.83\n2             0.0000      -0.00198        500   7000   9000      682.81\n3             0.0000      -0.00197        500   7000   9000      689.82\n4             0.0000      -0.00196        500   7000   9000      696.80\n...              ...           ...        ...    ...    ...         ...\n100646        0.0025       0.00196        500   7000   9000      578.47\n100647        0.0025       0.00197        500   7000   9000      576.89\n100648        0.0025       0.00198        500   7000   9000      575.32\n100649        0.0025       0.00199        500   7000   9000      573.76\n100650        0.0025       0.00200        500   7000   9000      572.20\n\n[100651 rows x 6 columns]",
      "text/html": "<div>\n<style scoped>\n    .dataframe tbody tr th:only-of-type {\n        vertical-align: middle;\n    }\n\n    .dataframe tbody tr th {\n        vertical-align: top;\n    }\n\n    .dataframe thead th {\n        text-align: right;\n    }\n</style>\n<table border=\"1\" class=\"dataframe\">\n  <thead>\n    <tr style=\"text-align: right;\">\n      <th></th>\n      <th>X-Koordinate</th>\n      <th>Y-Koordinate</th>\n      <th>Zeitpunkt</th>\n      <th>Strom</th>\n      <th>Kraft</th>\n      <th>Temperatur</th>\n    </tr>\n  </thead>\n  <tbody>\n    <tr>\n      <th>0</th>\n      <td>0.0000</td>\n      <td>-0.00200</td>\n      <td>500</td>\n      <td>7000</td>\n      <td>9000</td>\n      <td>669.05</td>\n    </tr>\n    <tr>\n      <th>1</th>\n      <td>0.0000</td>\n      <td>-0.00199</td>\n      <td>500</td>\n      <td>7000</td>\n      <td>9000</td>\n      <td>675.83</td>\n    </tr>\n    <tr>\n      <th>2</th>\n      <td>0.0000</td>\n      <td>-0.00198</td>\n      <td>500</td>\n      <td>7000</td>\n      <td>9000</td>\n      <td>682.81</td>\n    </tr>\n    <tr>\n      <th>3</th>\n      <td>0.0000</td>\n      <td>-0.00197</td>\n      <td>500</td>\n      <td>7000</td>\n      <td>9000</td>\n      <td>689.82</td>\n    </tr>\n    <tr>\n      <th>4</th>\n      <td>0.0000</td>\n      <td>-0.00196</td>\n      <td>500</td>\n      <td>7000</td>\n      <td>9000</td>\n      <td>696.80</td>\n    </tr>\n    <tr>\n      <th>...</th>\n      <td>...</td>\n      <td>...</td>\n      <td>...</td>\n      <td>...</td>\n      <td>...</td>\n      <td>...</td>\n    </tr>\n    <tr>\n      <th>100646</th>\n      <td>0.0025</td>\n      <td>0.00196</td>\n      <td>500</td>\n      <td>7000</td>\n      <td>9000</td>\n      <td>578.47</td>\n    </tr>\n    <tr>\n      <th>100647</th>\n      <td>0.0025</td>\n      <td>0.00197</td>\n      <td>500</td>\n      <td>7000</td>\n      <td>9000</td>\n      <td>576.89</td>\n    </tr>\n    <tr>\n      <th>100648</th>\n      <td>0.0025</td>\n      <td>0.00198</td>\n      <td>500</td>\n      <td>7000</td>\n      <td>9000</td>\n      <td>575.32</td>\n    </tr>\n    <tr>\n      <th>100649</th>\n      <td>0.0025</td>\n      <td>0.00199</td>\n      <td>500</td>\n      <td>7000</td>\n      <td>9000</td>\n      <td>573.76</td>\n    </tr>\n    <tr>\n      <th>100650</th>\n      <td>0.0025</td>\n      <td>0.00200</td>\n      <td>500</td>\n      <td>7000</td>\n      <td>9000</td>\n      <td>572.20</td>\n    </tr>\n  </tbody>\n</table>\n<p>100651 rows × 6 columns</p>\n</div>"
     },
     "execution_count": 2,
     "metadata": {},
     "output_type": "execute_result"
    }
   ],
   "source": [
    "#data = pd.read_pickle('C:/Users/erikm/Desktop/Diplomarbeit Erik Marr/Daten/Finish/TPath_300_finish_data.pkl')\n",
    "data = pd.read_pickle('C:/Users/erikm/Desktop/Diplomarbeit Erik Marr/Daten/Finish_D1_I7000_F9000/TPath_500_finish_data_D1.pkl')\n",
    "\n",
    "data"
   ]
  },
  {
   "cell_type": "code",
   "execution_count": 3,
   "id": "966e3c74",
   "metadata": {
    "ExecuteTime": {
     "end_time": "2024-02-28T10:46:09.393270100Z",
     "start_time": "2024-02-28T10:46:09.363010900Z"
    }
   },
   "outputs": [
    {
     "data": {
      "text/plain": "        X-Koordinate  Y-Koordinate  Temperatur\n0             0.0000      -0.00200      669.05\n1             0.0000      -0.00199      675.83\n2             0.0000      -0.00198      682.81\n3             0.0000      -0.00197      689.82\n4             0.0000      -0.00196      696.80\n...              ...           ...         ...\n100646        0.0025       0.00196      578.47\n100647        0.0025       0.00197      576.89\n100648        0.0025       0.00198      575.32\n100649        0.0025       0.00199      573.76\n100650        0.0025       0.00200      572.20\n\n[100651 rows x 3 columns]",
      "text/html": "<div>\n<style scoped>\n    .dataframe tbody tr th:only-of-type {\n        vertical-align: middle;\n    }\n\n    .dataframe tbody tr th {\n        vertical-align: top;\n    }\n\n    .dataframe thead th {\n        text-align: right;\n    }\n</style>\n<table border=\"1\" class=\"dataframe\">\n  <thead>\n    <tr style=\"text-align: right;\">\n      <th></th>\n      <th>X-Koordinate</th>\n      <th>Y-Koordinate</th>\n      <th>Temperatur</th>\n    </tr>\n  </thead>\n  <tbody>\n    <tr>\n      <th>0</th>\n      <td>0.0000</td>\n      <td>-0.00200</td>\n      <td>669.05</td>\n    </tr>\n    <tr>\n      <th>1</th>\n      <td>0.0000</td>\n      <td>-0.00199</td>\n      <td>675.83</td>\n    </tr>\n    <tr>\n      <th>2</th>\n      <td>0.0000</td>\n      <td>-0.00198</td>\n      <td>682.81</td>\n    </tr>\n    <tr>\n      <th>3</th>\n      <td>0.0000</td>\n      <td>-0.00197</td>\n      <td>689.82</td>\n    </tr>\n    <tr>\n      <th>4</th>\n      <td>0.0000</td>\n      <td>-0.00196</td>\n      <td>696.80</td>\n    </tr>\n    <tr>\n      <th>...</th>\n      <td>...</td>\n      <td>...</td>\n      <td>...</td>\n    </tr>\n    <tr>\n      <th>100646</th>\n      <td>0.0025</td>\n      <td>0.00196</td>\n      <td>578.47</td>\n    </tr>\n    <tr>\n      <th>100647</th>\n      <td>0.0025</td>\n      <td>0.00197</td>\n      <td>576.89</td>\n    </tr>\n    <tr>\n      <th>100648</th>\n      <td>0.0025</td>\n      <td>0.00198</td>\n      <td>575.32</td>\n    </tr>\n    <tr>\n      <th>100649</th>\n      <td>0.0025</td>\n      <td>0.00199</td>\n      <td>573.76</td>\n    </tr>\n    <tr>\n      <th>100650</th>\n      <td>0.0025</td>\n      <td>0.00200</td>\n      <td>572.20</td>\n    </tr>\n  </tbody>\n</table>\n<p>100651 rows × 3 columns</p>\n</div>"
     },
     "execution_count": 3,
     "metadata": {},
     "output_type": "execute_result"
    }
   ],
   "source": [
    "df = data.drop(data.columns[2:5], axis = 1)\n",
    "df"
   ]
  },
  {
   "cell_type": "code",
   "execution_count": 4,
   "id": "8783d1d6",
   "metadata": {
    "ExecuteTime": {
     "end_time": "2024-02-28T10:46:09.733876500Z",
     "start_time": "2024-02-28T10:46:09.670879700Z"
    }
   },
   "outputs": [
    {
     "name": "stdout",
     "output_type": "stream",
     "text": [
      "       X-Koordinate  Y-Koordinate  Temperatur\n",
      "83145       0.00207      -0.00062      1282.2\n",
      "66701       0.00166      -0.00065      1347.6\n",
      "91325       0.00227       0.00098      1094.6\n",
      "46593       0.00116      -0.00123      1175.7\n",
      "49518       0.00123      -0.00005      1459.2\n",
      "...             ...           ...         ...\n",
      "6265        0.00015       0.00050      1439.1\n",
      "54886       0.00136       0.00150       876.7\n",
      "76820       0.00191       0.00029      1335.8\n",
      "860         0.00002      -0.00142      1071.2\n",
      "15795       0.00039      -0.00044      1488.1\n",
      "\n",
      "[100651 rows x 3 columns]\n"
     ]
    },
    {
     "data": {
      "text/plain": "        X-Koordinate  Y-Koordinate  Temperatur\n0            0.00207      -0.00062      1282.2\n1            0.00166      -0.00065      1347.6\n2            0.00227       0.00098      1094.6\n3            0.00116      -0.00123      1175.7\n4            0.00123      -0.00005      1459.2\n...              ...           ...         ...\n100646       0.00015       0.00050      1439.1\n100647       0.00136       0.00150       876.7\n100648       0.00191       0.00029      1335.8\n100649       0.00002      -0.00142      1071.2\n100650       0.00039      -0.00044      1488.1\n\n[100651 rows x 3 columns]",
      "text/html": "<div>\n<style scoped>\n    .dataframe tbody tr th:only-of-type {\n        vertical-align: middle;\n    }\n\n    .dataframe tbody tr th {\n        vertical-align: top;\n    }\n\n    .dataframe thead th {\n        text-align: right;\n    }\n</style>\n<table border=\"1\" class=\"dataframe\">\n  <thead>\n    <tr style=\"text-align: right;\">\n      <th></th>\n      <th>X-Koordinate</th>\n      <th>Y-Koordinate</th>\n      <th>Temperatur</th>\n    </tr>\n  </thead>\n  <tbody>\n    <tr>\n      <th>0</th>\n      <td>0.00207</td>\n      <td>-0.00062</td>\n      <td>1282.2</td>\n    </tr>\n    <tr>\n      <th>1</th>\n      <td>0.00166</td>\n      <td>-0.00065</td>\n      <td>1347.6</td>\n    </tr>\n    <tr>\n      <th>2</th>\n      <td>0.00227</td>\n      <td>0.00098</td>\n      <td>1094.6</td>\n    </tr>\n    <tr>\n      <th>3</th>\n      <td>0.00116</td>\n      <td>-0.00123</td>\n      <td>1175.7</td>\n    </tr>\n    <tr>\n      <th>4</th>\n      <td>0.00123</td>\n      <td>-0.00005</td>\n      <td>1459.2</td>\n    </tr>\n    <tr>\n      <th>...</th>\n      <td>...</td>\n      <td>...</td>\n      <td>...</td>\n    </tr>\n    <tr>\n      <th>100646</th>\n      <td>0.00015</td>\n      <td>0.00050</td>\n      <td>1439.1</td>\n    </tr>\n    <tr>\n      <th>100647</th>\n      <td>0.00136</td>\n      <td>0.00150</td>\n      <td>876.7</td>\n    </tr>\n    <tr>\n      <th>100648</th>\n      <td>0.00191</td>\n      <td>0.00029</td>\n      <td>1335.8</td>\n    </tr>\n    <tr>\n      <th>100649</th>\n      <td>0.00002</td>\n      <td>-0.00142</td>\n      <td>1071.2</td>\n    </tr>\n    <tr>\n      <th>100650</th>\n      <td>0.00039</td>\n      <td>-0.00044</td>\n      <td>1488.1</td>\n    </tr>\n  </tbody>\n</table>\n<p>100651 rows × 3 columns</p>\n</div>"
     },
     "execution_count": 4,
     "metadata": {},
     "output_type": "execute_result"
    }
   ],
   "source": [
    "df1 = df.sample(frac=1, random_state=42)  # Hier wird 42 als Random State verwendet, um die Ergebnisse reproduzierbar zu machen\n",
    "\n",
    "print(df1)\n",
    "df_reset = df1.reset_index(drop=True)\n",
    "df_reset"
   ]
  },
  {
   "cell_type": "code",
   "execution_count": 5,
   "id": "a4e72a16",
   "metadata": {
    "ExecuteTime": {
     "end_time": "2024-02-28T10:46:09.883114700Z",
     "start_time": "2024-02-28T10:46:09.838711200Z"
    }
   },
   "outputs": [],
   "source": [
    "label = df_reset[\"Temperatur\"]\n",
    "# Korrektur: Verwenden Sie den Spaltennamen direkt, ohne Indexierung der columns-Eigenschaft\n",
    "df1 = df_reset.drop(\"Temperatur\", axis=1)\n",
    "X = df1\n",
    "y = label\n"
   ]
  },
  {
   "cell_type": "markdown",
   "source": [],
   "metadata": {
    "collapsed": false
   },
   "id": "f7fa289a50d87423"
  },
  {
   "cell_type": "code",
   "execution_count": 6,
   "id": "e694a236",
   "metadata": {
    "ExecuteTime": {
     "end_time": "2024-02-28T10:46:10.219998900Z",
     "start_time": "2024-02-28T10:46:10.178152400Z"
    }
   },
   "outputs": [
    {
     "data": {
      "text/plain": "        X-Koordinate  Y-Koordinate\ncount  100651.000000  1.006510e+05\nmean        0.001250  1.103042e-20\nstd         0.000725  1.157589e-03\nmin         0.000000 -2.000000e-03\n25%         0.000620 -1.000000e-03\n50%         0.001250  4.529900e-18\n75%         0.001880  1.000000e-03\nmax         0.002500  2.000000e-03",
      "text/html": "<div>\n<style scoped>\n    .dataframe tbody tr th:only-of-type {\n        vertical-align: middle;\n    }\n\n    .dataframe tbody tr th {\n        vertical-align: top;\n    }\n\n    .dataframe thead th {\n        text-align: right;\n    }\n</style>\n<table border=\"1\" class=\"dataframe\">\n  <thead>\n    <tr style=\"text-align: right;\">\n      <th></th>\n      <th>X-Koordinate</th>\n      <th>Y-Koordinate</th>\n    </tr>\n  </thead>\n  <tbody>\n    <tr>\n      <th>count</th>\n      <td>100651.000000</td>\n      <td>1.006510e+05</td>\n    </tr>\n    <tr>\n      <th>mean</th>\n      <td>0.001250</td>\n      <td>1.103042e-20</td>\n    </tr>\n    <tr>\n      <th>std</th>\n      <td>0.000725</td>\n      <td>1.157589e-03</td>\n    </tr>\n    <tr>\n      <th>min</th>\n      <td>0.000000</td>\n      <td>-2.000000e-03</td>\n    </tr>\n    <tr>\n      <th>25%</th>\n      <td>0.000620</td>\n      <td>-1.000000e-03</td>\n    </tr>\n    <tr>\n      <th>50%</th>\n      <td>0.001250</td>\n      <td>4.529900e-18</td>\n    </tr>\n    <tr>\n      <th>75%</th>\n      <td>0.001880</td>\n      <td>1.000000e-03</td>\n    </tr>\n    <tr>\n      <th>max</th>\n      <td>0.002500</td>\n      <td>2.000000e-03</td>\n    </tr>\n  </tbody>\n</table>\n</div>"
     },
     "execution_count": 6,
     "metadata": {},
     "output_type": "execute_result"
    }
   ],
   "source": [
    "X.describe()"
   ]
  },
  {
   "cell_type": "code",
   "execution_count": 7,
   "id": "3f3303b4",
   "metadata": {
    "ExecuteTime": {
     "end_time": "2024-02-28T10:46:10.404794Z",
     "start_time": "2024-02-28T10:46:10.389794500Z"
    }
   },
   "outputs": [
    {
     "data": {
      "text/plain": "count    100651.000000\nmean       1144.030064\nstd         264.135723\nmin         572.200000\n25%         937.330000\n50%        1201.100000\n75%        1368.700000\nmax        1520.000000\nName: Temperatur, dtype: float64"
     },
     "execution_count": 7,
     "metadata": {},
     "output_type": "execute_result"
    }
   ],
   "source": [
    "y.describe()\n"
   ]
  },
  {
   "cell_type": "code",
   "execution_count": 8,
   "id": "e3ad8da0",
   "metadata": {
    "ExecuteTime": {
     "end_time": "2024-02-28T10:46:10.619230700Z",
     "start_time": "2024-02-28T10:46:10.573586Z"
    }
   },
   "outputs": [],
   "source": [
    " # train_df enthält 80% der Daten, test_df enthält 20% der Daten\n",
    "X_train, X_test, y_train, y_test = train_test_split(X, y, test_size=0.20, random_state=42)\n"
   ]
  },
  {
   "cell_type": "code",
   "execution_count": 9,
   "id": "9c705edb",
   "metadata": {
    "ExecuteTime": {
     "end_time": "2024-02-28T10:46:10.701034600Z",
     "start_time": "2024-02-28T10:46:10.692230Z"
    }
   },
   "outputs": [],
   "source": [
    "# Initialisiere einen MinMaxScaler für die Features\n",
    "scaler_features = MinMaxScaler()\n",
    "scaler_features2 = MinMaxScaler()\n",
    "# Skaliere X_train und X_test\n",
    "X_train_scaled = scaler_features.fit_transform(X_train)\n",
    "X_test_scaled = scaler_features.transform(X_test)  # Nutze unterschiedliche Skalierungsparameter\n",
    "\n",
    "# Initialisiere einen SEPARATEN MinMaxScaler für das Ziel, wenn nötig\n",
    "scaler_target = MinMaxScaler()\n",
    "\n",
    "\n",
    "# Skaliere y_train und y_test. Beachte, dass y_train.reshape(-1, 1) verwendet wird, da MinMaxScaler \n",
    "# erwartet, dass die Eingaben als 2D-Arrays kommen, und Ziele normalerweise als 1D-Arrays vorliegen.\n",
    "y_train_scaled = scaler_target.fit_transform(y_train.values.reshape(-1, 1))\n",
    "y_test_scaled = scaler_target.transform(y_test.values.reshape(-1, 1))\n"
   ]
  },
  {
   "cell_type": "code",
   "execution_count": 10,
   "id": "bbefe631e495b483",
   "metadata": {
    "ExecuteTime": {
     "end_time": "2024-02-28T10:46:12.739249300Z",
     "start_time": "2024-02-28T10:46:12.730885900Z"
    }
   },
   "outputs": [
    {
     "data": {
      "text/plain": "array([[0.416 , 0.5725],\n       [0.812 , 0.7325],\n       [0.628 , 0.5075],\n       ...,\n       [0.604 , 0.3875],\n       [0.748 , 0.65  ],\n       [0.028 , 0.6225]])"
     },
     "execution_count": 10,
     "metadata": {},
     "output_type": "execute_result"
    }
   ],
   "source": [
    "X_train_scaled"
   ]
  },
  {
   "cell_type": "code",
   "execution_count": 17,
   "outputs": [
    {
     "name": "stdout",
     "output_type": "stream",
     "text": [
      "Epoch 1/200\n",
      "129/129 [==============================] - 2s 6ms/step - loss: 0.2231 - mae: 0.1356 - val_loss: 0.1428 - val_mae: 0.0094\n",
      "Epoch 2/200\n",
      "129/129 [==============================] - 1s 5ms/step - loss: 0.1312 - mae: 0.0177 - val_loss: 0.1213 - val_mae: 0.0110\n",
      "Epoch 3/200\n",
      "129/129 [==============================] - 1s 5ms/step - loss: 0.1151 - mae: 0.0093 - val_loss: 0.1093 - val_mae: 0.0048\n",
      "Epoch 4/200\n",
      "129/129 [==============================] - 1s 5ms/step - loss: 0.1048 - mae: 0.0113 - val_loss: 0.1002 - val_mae: 0.0074\n",
      "Epoch 5/200\n",
      "129/129 [==============================] - 1s 5ms/step - loss: 0.0965 - mae: 0.0107 - val_loss: 0.0927 - val_mae: 0.0086\n",
      "Epoch 6/200\n",
      "129/129 [==============================] - 1s 5ms/step - loss: 0.0894 - mae: 0.0089 - val_loss: 0.0860 - val_mae: 0.0049\n",
      "Epoch 7/200\n",
      "129/129 [==============================] - 1s 5ms/step - loss: 0.0832 - mae: 0.0096 - val_loss: 0.0803 - val_mae: 0.0096\n",
      "Epoch 8/200\n",
      "129/129 [==============================] - 1s 6ms/step - loss: 0.0777 - mae: 0.0108 - val_loss: 0.0749 - val_mae: 0.0037\n",
      "Epoch 9/200\n",
      "129/129 [==============================] - 1s 5ms/step - loss: 0.0726 - mae: 0.0065 - val_loss: 0.0702 - val_mae: 0.0060\n",
      "Epoch 10/200\n",
      "129/129 [==============================] - 1s 5ms/step - loss: 0.0681 - mae: 0.0077 - val_loss: 0.0664 - val_mae: 0.0209\n",
      "Epoch 11/200\n",
      "129/129 [==============================] - 1s 5ms/step - loss: 0.0640 - mae: 0.0094 - val_loss: 0.0619 - val_mae: 0.0040\n",
      "Epoch 12/200\n",
      "129/129 [==============================] - 1s 5ms/step - loss: 0.0601 - mae: 0.0061 - val_loss: 0.0583 - val_mae: 0.0081\n",
      "Epoch 13/200\n",
      "129/129 [==============================] - 1s 5ms/step - loss: 0.0566 - mae: 0.0075 - val_loss: 0.0549 - val_mae: 0.0066\n",
      "Epoch 14/200\n",
      "129/129 [==============================] - 1s 5ms/step - loss: 0.0534 - mae: 0.0087 - val_loss: 0.0518 - val_mae: 0.0075\n",
      "Epoch 15/200\n",
      "129/129 [==============================] - 1s 5ms/step - loss: 0.0503 - mae: 0.0051 - val_loss: 0.0488 - val_mae: 0.0052\n",
      "Epoch 16/200\n",
      "129/129 [==============================] - 1s 5ms/step - loss: 0.0475 - mae: 0.0079 - val_loss: 0.0460 - val_mae: 0.0036\n",
      "Epoch 17/200\n",
      "129/129 [==============================] - 1s 5ms/step - loss: 0.0447 - mae: 0.0055 - val_loss: 0.0434 - val_mae: 0.0035\n",
      "Epoch 18/200\n",
      "129/129 [==============================] - 1s 5ms/step - loss: 0.0423 - mae: 0.0073 - val_loss: 0.0410 - val_mae: 0.0064\n",
      "Epoch 19/200\n",
      "129/129 [==============================] - 1s 5ms/step - loss: 0.0399 - mae: 0.0064 - val_loss: 0.0387 - val_mae: 0.0035\n",
      "Epoch 20/200\n",
      "129/129 [==============================] - 1s 5ms/step - loss: 0.0377 - mae: 0.0067 - val_loss: 0.0366 - val_mae: 0.0083\n",
      "Epoch 21/200\n",
      "129/129 [==============================] - 1s 5ms/step - loss: 0.0355 - mae: 0.0051 - val_loss: 0.0345 - val_mae: 0.0076\n",
      "Epoch 22/200\n",
      "129/129 [==============================] - 1s 5ms/step - loss: 0.0335 - mae: 0.0069 - val_loss: 0.0325 - val_mae: 0.0035\n",
      "Epoch 23/200\n",
      "129/129 [==============================] - 1s 5ms/step - loss: 0.0316 - mae: 0.0060 - val_loss: 0.0307 - val_mae: 0.0060\n",
      "Epoch 24/200\n",
      "129/129 [==============================] - 1s 5ms/step - loss: 0.0298 - mae: 0.0073 - val_loss: 0.0289 - val_mae: 0.0032\n",
      "Epoch 25/200\n",
      "129/129 [==============================] - 1s 5ms/step - loss: 0.0281 - mae: 0.0059 - val_loss: 0.0274 - val_mae: 0.0111\n",
      "Epoch 26/200\n",
      "129/129 [==============================] - 1s 5ms/step - loss: 0.0265 - mae: 0.0069 - val_loss: 0.0257 - val_mae: 0.0068\n",
      "Epoch 27/200\n",
      "129/129 [==============================] - 1s 5ms/step - loss: 0.0250 - mae: 0.0075 - val_loss: 0.0243 - val_mae: 0.0105\n",
      "Epoch 28/200\n",
      "129/129 [==============================] - 1s 5ms/step - loss: 0.0236 - mae: 0.0093 - val_loss: 0.0228 - val_mae: 0.0054\n",
      "Epoch 29/200\n",
      "129/129 [==============================] - 1s 5ms/step - loss: 0.0221 - mae: 0.0037 - val_loss: 0.0214 - val_mae: 0.0032\n",
      "Epoch 30/200\n",
      "129/129 [==============================] - 1s 5ms/step - loss: 0.0208 - mae: 0.0040 - val_loss: 0.0203 - val_mae: 0.0108\n",
      "Epoch 31/200\n",
      "129/129 [==============================] - 1s 5ms/step - loss: 0.0196 - mae: 0.0081 - val_loss: 0.0190 - val_mae: 0.0080\n",
      "Epoch 32/200\n",
      "129/129 [==============================] - 1s 5ms/step - loss: 0.0184 - mae: 0.0065 - val_loss: 0.0179 - val_mae: 0.0072\n",
      "Epoch 33/200\n",
      "129/129 [==============================] - 1s 5ms/step - loss: 0.0173 - mae: 0.0063 - val_loss: 0.0171 - val_mae: 0.0185\n",
      "Epoch 34/200\n",
      "129/129 [==============================] - 1s 5ms/step - loss: 0.0164 - mae: 0.0086 - val_loss: 0.0158 - val_mae: 0.0077\n",
      "Epoch 35/200\n",
      "129/129 [==============================] - 1s 5ms/step - loss: 0.0154 - mae: 0.0074 - val_loss: 0.0149 - val_mae: 0.0095\n",
      "Epoch 36/200\n",
      "129/129 [==============================] - 1s 5ms/step - loss: 0.0145 - mae: 0.0074 - val_loss: 0.0139 - val_mae: 0.0035\n",
      "Epoch 37/200\n",
      "129/129 [==============================] - 1s 5ms/step - loss: 0.0136 - mae: 0.0077 - val_loss: 0.0132 - val_mae: 0.0083\n",
      "Epoch 38/200\n",
      "129/129 [==============================] - 1s 5ms/step - loss: 0.0128 - mae: 0.0066 - val_loss: 0.0123 - val_mae: 0.0037\n",
      "Epoch 39/200\n",
      "129/129 [==============================] - 1s 5ms/step - loss: 0.0121 - mae: 0.0074 - val_loss: 0.0116 - val_mae: 0.0048\n",
      "Epoch 40/200\n",
      "129/129 [==============================] - 1s 5ms/step - loss: 0.0113 - mae: 0.0063 - val_loss: 0.0112 - val_mae: 0.0155\n",
      "Epoch 41/200\n",
      "129/129 [==============================] - 1s 5ms/step - loss: 0.0107 - mae: 0.0080 - val_loss: 0.0103 - val_mae: 0.0033\n",
      "Epoch 42/200\n",
      "129/129 [==============================] - 1s 5ms/step - loss: 0.0100 - mae: 0.0056 - val_loss: 0.0097 - val_mae: 0.0067\n",
      "Epoch 43/200\n",
      "129/129 [==============================] - 1s 5ms/step - loss: 0.0095 - mae: 0.0086 - val_loss: 0.0095 - val_mae: 0.0167\n",
      "Epoch 44/200\n",
      "129/129 [==============================] - 1s 5ms/step - loss: 0.0090 - mae: 0.0065 - val_loss: 0.0089 - val_mae: 0.0137\n",
      "Epoch 45/200\n",
      "129/129 [==============================] - 1s 5ms/step - loss: 0.0085 - mae: 0.0077 - val_loss: 0.0082 - val_mae: 0.0032\n",
      "Epoch 46/200\n",
      "129/129 [==============================] - 1s 5ms/step - loss: 0.0079 - mae: 0.0050 - val_loss: 0.0077 - val_mae: 0.0058\n",
      "Epoch 47/200\n",
      "129/129 [==============================] - 1s 5ms/step - loss: 0.0075 - mae: 0.0068 - val_loss: 0.0073 - val_mae: 0.0032\n",
      "Epoch 48/200\n",
      "129/129 [==============================] - 1s 5ms/step - loss: 0.0071 - mae: 0.0070 - val_loss: 0.0069 - val_mae: 0.0039\n",
      "Epoch 49/200\n",
      "129/129 [==============================] - 1s 6ms/step - loss: 0.0068 - mae: 0.0064 - val_loss: 0.0065 - val_mae: 0.0042\n",
      "Epoch 50/200\n",
      "129/129 [==============================] - 1s 5ms/step - loss: 0.0064 - mae: 0.0072 - val_loss: 0.0062 - val_mae: 0.0035\n",
      "Epoch 51/200\n",
      "129/129 [==============================] - 1s 5ms/step - loss: 0.0061 - mae: 0.0067 - val_loss: 0.0058 - val_mae: 0.0033\n",
      "Epoch 52/200\n",
      "129/129 [==============================] - 1s 5ms/step - loss: 0.0057 - mae: 0.0065 - val_loss: 0.0055 - val_mae: 0.0036\n",
      "Epoch 53/200\n",
      "129/129 [==============================] - 1s 5ms/step - loss: 0.0054 - mae: 0.0066 - val_loss: 0.0052 - val_mae: 0.0030\n",
      "Epoch 54/200\n",
      "129/129 [==============================] - 1s 5ms/step - loss: 0.0052 - mae: 0.0061 - val_loss: 0.0051 - val_mae: 0.0106\n",
      "Epoch 55/200\n",
      "129/129 [==============================] - 1s 5ms/step - loss: 0.0049 - mae: 0.0078 - val_loss: 0.0047 - val_mae: 0.0033\n",
      "Epoch 56/200\n",
      "129/129 [==============================] - 1s 5ms/step - loss: 0.0046 - mae: 0.0049 - val_loss: 0.0045 - val_mae: 0.0070\n",
      "Epoch 57/200\n",
      "129/129 [==============================] - 1s 5ms/step - loss: 0.0044 - mae: 0.0060 - val_loss: 0.0043 - val_mae: 0.0029\n",
      "Epoch 58/200\n",
      "129/129 [==============================] - 1s 5ms/step - loss: 0.0042 - mae: 0.0066 - val_loss: 0.0042 - val_mae: 0.0112\n",
      "Epoch 59/200\n",
      "129/129 [==============================] - 1s 5ms/step - loss: 0.0040 - mae: 0.0060 - val_loss: 0.0039 - val_mae: 0.0037\n",
      "Epoch 60/200\n",
      "129/129 [==============================] - 1s 5ms/step - loss: 0.0038 - mae: 0.0059 - val_loss: 0.0038 - val_mae: 0.0121\n",
      "Epoch 61/200\n",
      "129/129 [==============================] - 1s 5ms/step - loss: 0.0036 - mae: 0.0059 - val_loss: 0.0035 - val_mae: 0.0057\n",
      "Epoch 62/200\n",
      "129/129 [==============================] - 1s 5ms/step - loss: 0.0035 - mae: 0.0068 - val_loss: 0.0034 - val_mae: 0.0074\n",
      "Epoch 63/200\n",
      "129/129 [==============================] - 1s 5ms/step - loss: 0.0033 - mae: 0.0054 - val_loss: 0.0032 - val_mae: 0.0034\n",
      "Epoch 64/200\n",
      "129/129 [==============================] - 1s 5ms/step - loss: 0.0032 - mae: 0.0060 - val_loss: 0.0036 - val_mae: 0.0217\n",
      "Epoch 65/200\n",
      "129/129 [==============================] - 1s 5ms/step - loss: 0.0030 - mae: 0.0055 - val_loss: 0.0029 - val_mae: 0.0063\n",
      "Epoch 66/200\n",
      "129/129 [==============================] - 1s 6ms/step - loss: 0.0029 - mae: 0.0058 - val_loss: 0.0029 - val_mae: 0.0082\n",
      "Epoch 67/200\n",
      "129/129 [==============================] - 1s 6ms/step - loss: 0.0028 - mae: 0.0053 - val_loss: 0.0027 - val_mae: 0.0043\n",
      "Epoch 68/200\n",
      "129/129 [==============================] - 1s 6ms/step - loss: 0.0027 - mae: 0.0067 - val_loss: 0.0027 - val_mae: 0.0104\n",
      "Epoch 69/200\n",
      "129/129 [==============================] - 1s 9ms/step - loss: 0.0025 - mae: 0.0060 - val_loss: 0.0025 - val_mae: 0.0077\n",
      "Epoch 70/200\n",
      "129/129 [==============================] - 1s 7ms/step - loss: 0.0024 - mae: 0.0045 - val_loss: 0.0024 - val_mae: 0.0073\n",
      "Epoch 71/200\n",
      "129/129 [==============================] - 1s 6ms/step - loss: 0.0024 - mae: 0.0073 - val_loss: 0.0023 - val_mae: 0.0069\n",
      "Epoch 72/200\n",
      "129/129 [==============================] - 1s 6ms/step - loss: 0.0023 - mae: 0.0055 - val_loss: 0.0022 - val_mae: 0.0051\n",
      "Epoch 73/200\n",
      "129/129 [==============================] - 1s 5ms/step - loss: 0.0022 - mae: 0.0057 - val_loss: 0.0021 - val_mae: 0.0028\n",
      "Epoch 74/200\n",
      "129/129 [==============================] - 1s 5ms/step - loss: 0.0021 - mae: 0.0059 - val_loss: 0.0021 - val_mae: 0.0065\n",
      "Epoch 75/200\n",
      "129/129 [==============================] - 1s 6ms/step - loss: 0.0020 - mae: 0.0063 - val_loss: 0.0022 - val_mae: 0.0129\n",
      "Epoch 76/200\n",
      "129/129 [==============================] - 1s 5ms/step - loss: 0.0020 - mae: 0.0058 - val_loss: 0.0020 - val_mae: 0.0088\n",
      "Epoch 77/200\n",
      "129/129 [==============================] - 1s 6ms/step - loss: 0.0019 - mae: 0.0062 - val_loss: 0.0018 - val_mae: 0.0035\n",
      "Epoch 78/200\n",
      "129/129 [==============================] - 1s 5ms/step - loss: 0.0018 - mae: 0.0040 - val_loss: 0.0018 - val_mae: 0.0040\n",
      "Epoch 79/200\n",
      "129/129 [==============================] - 1s 5ms/step - loss: 0.0018 - mae: 0.0063 - val_loss: 0.0017 - val_mae: 0.0060\n",
      "Epoch 80/200\n",
      "129/129 [==============================] - 1s 6ms/step - loss: 0.0017 - mae: 0.0056 - val_loss: 0.0017 - val_mae: 0.0045\n",
      "Epoch 81/200\n",
      "129/129 [==============================] - 1s 5ms/step - loss: 0.0017 - mae: 0.0054 - val_loss: 0.0016 - val_mae: 0.0032\n",
      "Epoch 82/200\n",
      "129/129 [==============================] - 1s 5ms/step - loss: 0.0017 - mae: 0.0070 - val_loss: 0.0016 - val_mae: 0.0028\n",
      "Epoch 83/200\n",
      "129/129 [==============================] - 1s 6ms/step - loss: 0.0016 - mae: 0.0054 - val_loss: 0.0018 - val_mae: 0.0164\n",
      "Epoch 84/200\n",
      "129/129 [==============================] - 1s 6ms/step - loss: 0.0015 - mae: 0.0055 - val_loss: 0.0015 - val_mae: 0.0070\n",
      "Epoch 85/200\n",
      "129/129 [==============================] - 1s 5ms/step - loss: 0.0015 - mae: 0.0062 - val_loss: 0.0014 - val_mae: 0.0030\n",
      "Epoch 86/200\n",
      "129/129 [==============================] - 1s 5ms/step - loss: 0.0015 - mae: 0.0062 - val_loss: 0.0014 - val_mae: 0.0066\n",
      "Epoch 87/200\n",
      "129/129 [==============================] - 1s 5ms/step - loss: 0.0014 - mae: 0.0052 - val_loss: 0.0015 - val_mae: 0.0114\n",
      "Epoch 88/200\n",
      "129/129 [==============================] - 1s 5ms/step - loss: 0.0014 - mae: 0.0069 - val_loss: 0.0013 - val_mae: 0.0042\n",
      "Epoch 89/200\n",
      "129/129 [==============================] - 1s 6ms/step - loss: 0.0014 - mae: 0.0054 - val_loss: 0.0013 - val_mae: 0.0035\n",
      "Epoch 90/200\n",
      "129/129 [==============================] - 1s 6ms/step - loss: 0.0013 - mae: 0.0061 - val_loss: 0.0013 - val_mae: 0.0029\n",
      "Epoch 91/200\n",
      "129/129 [==============================] - 1s 5ms/step - loss: 0.0013 - mae: 0.0052 - val_loss: 0.0013 - val_mae: 0.0037\n",
      "Epoch 92/200\n",
      "129/129 [==============================] - 1s 5ms/step - loss: 0.0013 - mae: 0.0066 - val_loss: 0.0012 - val_mae: 0.0034\n",
      "Epoch 93/200\n",
      "129/129 [==============================] - 1s 5ms/step - loss: 0.0013 - mae: 0.0064 - val_loss: 0.0012 - val_mae: 0.0043\n",
      "Epoch 94/200\n",
      "129/129 [==============================] - 0s 4ms/step - loss: 0.0012 - mae: 0.0054 - val_loss: 0.0012 - val_mae: 0.0028\n",
      "Epoch 95/200\n",
      "129/129 [==============================] - 0s 4ms/step - loss: 0.0012 - mae: 0.0057 - val_loss: 0.0012 - val_mae: 0.0050\n",
      "Epoch 96/200\n",
      "129/129 [==============================] - 0s 4ms/step - loss: 0.0012 - mae: 0.0063 - val_loss: 0.0016 - val_mae: 0.0209\n",
      "Epoch 97/200\n",
      "129/129 [==============================] - 0s 4ms/step - loss: 0.0012 - mae: 0.0064 - val_loss: 0.0011 - val_mae: 0.0031\n",
      "Epoch 98/200\n",
      "129/129 [==============================] - 0s 4ms/step - loss: 0.0011 - mae: 0.0049 - val_loss: 0.0011 - val_mae: 0.0042\n",
      "Epoch 99/200\n",
      "129/129 [==============================] - 1s 4ms/step - loss: 0.0011 - mae: 0.0056 - val_loss: 0.0011 - val_mae: 0.0053\n",
      "Epoch 100/200\n",
      "129/129 [==============================] - 1s 4ms/step - loss: 0.0011 - mae: 0.0066 - val_loss: 0.0011 - val_mae: 0.0033\n",
      "Epoch 101/200\n",
      "129/129 [==============================] - 0s 4ms/step - loss: 0.0011 - mae: 0.0055 - val_loss: 0.0013 - val_mae: 0.0163\n",
      "Epoch 102/200\n",
      "129/129 [==============================] - 0s 3ms/step - loss: 0.0011 - mae: 0.0067 - val_loss: 0.0010 - val_mae: 0.0037\n",
      "Epoch 103/200\n",
      "129/129 [==============================] - 0s 4ms/step - loss: 0.0010 - mae: 0.0041 - val_loss: 0.0011 - val_mae: 0.0093\n",
      "Epoch 104/200\n",
      "129/129 [==============================] - 0s 4ms/step - loss: 0.0011 - mae: 0.0059 - val_loss: 0.0010 - val_mae: 0.0055\n",
      "Epoch 105/200\n",
      "129/129 [==============================] - 1s 4ms/step - loss: 0.0010 - mae: 0.0065 - val_loss: 9.9315e-04 - val_mae: 0.0030\n",
      "Epoch 106/200\n",
      "129/129 [==============================] - 1s 4ms/step - loss: 0.0010 - mae: 0.0062 - val_loss: 0.0011 - val_mae: 0.0117\n",
      "Epoch 107/200\n",
      "129/129 [==============================] - 0s 4ms/step - loss: 0.0010 - mae: 0.0062 - val_loss: 0.0010 - val_mae: 0.0082\n",
      "Epoch 108/200\n",
      "129/129 [==============================] - 0s 4ms/step - loss: 0.0010 - mae: 0.0066 - val_loss: 0.0010 - val_mae: 0.0069\n",
      "Epoch 109/200\n",
      "129/129 [==============================] - 1s 4ms/step - loss: 9.8268e-04 - mae: 0.0050 - val_loss: 9.9169e-04 - val_mae: 0.0070\n",
      "Epoch 110/200\n",
      "129/129 [==============================] - 0s 4ms/step - loss: 9.9876e-04 - mae: 0.0065 - val_loss: 0.0011 - val_mae: 0.0110\n",
      "Epoch 111/200\n",
      "129/129 [==============================] - 1s 4ms/step - loss: 9.7331e-04 - mae: 0.0058 - val_loss: 9.2895e-04 - val_mae: 0.0031\n",
      "Epoch 112/200\n",
      "129/129 [==============================] - 0s 4ms/step - loss: 9.6879e-04 - mae: 0.0061 - val_loss: 9.1840e-04 - val_mae: 0.0029\n",
      "Epoch 113/200\n",
      "129/129 [==============================] - 0s 4ms/step - loss: 9.6448e-04 - mae: 0.0062 - val_loss: 9.2294e-04 - val_mae: 0.0043\n",
      "Epoch 114/200\n",
      "129/129 [==============================] - 0s 4ms/step - loss: 9.5360e-04 - mae: 0.0064 - val_loss: 8.9951e-04 - val_mae: 0.0027\n",
      "Epoch 115/200\n",
      "129/129 [==============================] - 0s 4ms/step - loss: 9.3919e-04 - mae: 0.0058 - val_loss: 9.2206e-04 - val_mae: 0.0057\n",
      "Epoch 116/200\n",
      "129/129 [==============================] - 0s 4ms/step - loss: 9.4572e-04 - mae: 0.0064 - val_loss: 8.8725e-04 - val_mae: 0.0030\n",
      "Epoch 117/200\n",
      "129/129 [==============================] - 0s 4ms/step - loss: 9.3118e-04 - mae: 0.0064 - val_loss: 0.0010 - val_mae: 0.0109\n",
      "Epoch 118/200\n",
      "129/129 [==============================] - 0s 4ms/step - loss: 9.2014e-04 - mae: 0.0059 - val_loss: 8.8339e-04 - val_mae: 0.0042\n",
      "Epoch 119/200\n",
      "129/129 [==============================] - 0s 4ms/step - loss: 9.2666e-04 - mae: 0.0067 - val_loss: 9.1531e-04 - val_mae: 0.0070\n",
      "Epoch 120/200\n",
      "129/129 [==============================] - 0s 4ms/step - loss: 9.0061e-04 - mae: 0.0055 - val_loss: 8.6079e-04 - val_mae: 0.0032\n",
      "Epoch 121/200\n",
      "129/129 [==============================] - 1s 4ms/step - loss: 9.0939e-04 - mae: 0.0066 - val_loss: 8.5371e-04 - val_mae: 0.0029\n",
      "Epoch 122/200\n",
      "129/129 [==============================] - 0s 4ms/step - loss: 8.9193e-04 - mae: 0.0059 - val_loss: 8.5031e-04 - val_mae: 0.0033\n",
      "Epoch 123/200\n",
      "129/129 [==============================] - 0s 4ms/step - loss: 8.9339e-04 - mae: 0.0062 - val_loss: 8.7670e-04 - val_mae: 0.0062\n",
      "Epoch 124/200\n",
      "129/129 [==============================] - 0s 4ms/step - loss: 8.7782e-04 - mae: 0.0059 - val_loss: 8.7109e-04 - val_mae: 0.0062\n",
      "Epoch 125/200\n",
      "129/129 [==============================] - 0s 4ms/step - loss: 8.8868e-04 - mae: 0.0066 - val_loss: 8.8259e-04 - val_mae: 0.0072\n",
      "Epoch 126/200\n",
      "129/129 [==============================] - 0s 4ms/step - loss: 8.8729e-04 - mae: 0.0067 - val_loss: 9.2404e-04 - val_mae: 0.0093\n",
      "Epoch 127/200\n",
      "129/129 [==============================] - 1s 4ms/step - loss: 8.5892e-04 - mae: 0.0055 - val_loss: 8.2165e-04 - val_mae: 0.0030\n",
      "Epoch 128/200\n",
      "129/129 [==============================] - 1s 4ms/step - loss: 8.7516e-04 - mae: 0.0063 - val_loss: 8.5217e-04 - val_mae: 0.0062\n",
      "Epoch 129/200\n",
      "129/129 [==============================] - 1s 4ms/step - loss: 8.6176e-04 - mae: 0.0060 - val_loss: 8.2555e-04 - val_mae: 0.0045\n",
      "Epoch 130/200\n",
      "129/129 [==============================] - 1s 4ms/step - loss: 8.6949e-04 - mae: 0.0067 - val_loss: 8.0850e-04 - val_mae: 0.0029\n",
      "Epoch 131/200\n",
      "129/129 [==============================] - 1s 4ms/step - loss: 8.3583e-04 - mae: 0.0051 - val_loss: 8.0454e-04 - val_mae: 0.0032\n",
      "Epoch 132/200\n",
      "129/129 [==============================] - 0s 4ms/step - loss: 8.4006e-04 - mae: 0.0056 - val_loss: 7.9962e-04 - val_mae: 0.0032\n",
      "Epoch 133/200\n",
      "129/129 [==============================] - 0s 4ms/step - loss: 8.6760e-04 - mae: 0.0069 - val_loss: 8.6088e-04 - val_mae: 0.0082\n",
      "Epoch 134/200\n",
      "129/129 [==============================] - 0s 4ms/step - loss: 8.3362e-04 - mae: 0.0059 - val_loss: 8.0881e-04 - val_mae: 0.0046\n",
      "Epoch 135/200\n",
      "129/129 [==============================] - 0s 4ms/step - loss: 8.4830e-04 - mae: 0.0068 - val_loss: 7.9893e-04 - val_mae: 0.0043\n",
      "Epoch 136/200\n",
      "129/129 [==============================] - 1s 4ms/step - loss: 8.3192e-04 - mae: 0.0063 - val_loss: 7.8184e-04 - val_mae: 0.0028\n",
      "Epoch 137/200\n",
      "129/129 [==============================] - 1s 4ms/step - loss: 8.3039e-04 - mae: 0.0061 - val_loss: 8.3021e-04 - val_mae: 0.0070\n",
      "Epoch 138/200\n",
      "129/129 [==============================] - 1s 4ms/step - loss: 8.3015e-04 - mae: 0.0063 - val_loss: 7.9927e-04 - val_mae: 0.0049\n",
      "Epoch 139/200\n",
      "129/129 [==============================] - 0s 4ms/step - loss: 8.0978e-04 - mae: 0.0055 - val_loss: 7.7910e-04 - val_mae: 0.0038\n",
      "Epoch 140/200\n",
      "129/129 [==============================] - 0s 4ms/step - loss: 8.2072e-04 - mae: 0.0062 - val_loss: 8.8354e-04 - val_mae: 0.0105\n",
      "Epoch 141/200\n",
      "129/129 [==============================] - 0s 3ms/step - loss: 8.0535e-04 - mae: 0.0056 - val_loss: 9.5290e-04 - val_mae: 0.0133\n",
      "Epoch 142/200\n",
      "129/129 [==============================] - 0s 4ms/step - loss: 8.2207e-04 - mae: 0.0069 - val_loss: 7.6221e-04 - val_mae: 0.0029\n",
      "Epoch 143/200\n",
      "129/129 [==============================] - 0s 4ms/step - loss: 8.1841e-04 - mae: 0.0067 - val_loss: 7.6933e-04 - val_mae: 0.0041\n",
      "Epoch 144/200\n",
      "129/129 [==============================] - 1s 4ms/step - loss: 8.0034e-04 - mae: 0.0059 - val_loss: 7.5913e-04 - val_mae: 0.0032\n",
      "Epoch 145/200\n",
      "129/129 [==============================] - 0s 4ms/step - loss: 7.9009e-04 - mae: 0.0055 - val_loss: 7.5132e-04 - val_mae: 0.0028\n",
      "Epoch 146/200\n",
      "129/129 [==============================] - 0s 4ms/step - loss: 8.0065e-04 - mae: 0.0063 - val_loss: 9.4961e-04 - val_mae: 0.0139\n",
      "Epoch 147/200\n",
      "129/129 [==============================] - 0s 4ms/step - loss: 7.9149e-04 - mae: 0.0058 - val_loss: 7.4572e-04 - val_mae: 0.0030\n",
      "Epoch 148/200\n",
      "129/129 [==============================] - 0s 4ms/step - loss: 7.9782e-04 - mae: 0.0060 - val_loss: 8.2467e-04 - val_mae: 0.0090\n",
      "Epoch 149/200\n",
      "129/129 [==============================] - 0s 4ms/step - loss: 8.1460e-04 - mae: 0.0070 - val_loss: 7.4381e-04 - val_mae: 0.0033\n",
      "Epoch 150/200\n",
      "129/129 [==============================] - 1s 4ms/step - loss: 7.9062e-04 - mae: 0.0062 - val_loss: 7.7086e-04 - val_mae: 0.0055\n",
      "Epoch 151/200\n",
      "129/129 [==============================] - 0s 4ms/step - loss: 7.6338e-04 - mae: 0.0051 - val_loss: 7.6023e-04 - val_mae: 0.0054\n",
      "Epoch 152/200\n",
      "129/129 [==============================] - 0s 4ms/step - loss: 7.9039e-04 - mae: 0.0068 - val_loss: 8.3097e-04 - val_mae: 0.0097\n",
      "Epoch 153/200\n",
      "129/129 [==============================] - 0s 4ms/step - loss: 7.8163e-04 - mae: 0.0061 - val_loss: 7.3206e-04 - val_mae: 0.0030\n",
      "Epoch 154/200\n",
      "129/129 [==============================] - 0s 4ms/step - loss: 7.6868e-04 - mae: 0.0060 - val_loss: 7.3082e-04 - val_mae: 0.0032\n",
      "Epoch 155/200\n",
      "129/129 [==============================] - 0s 4ms/step - loss: 7.7227e-04 - mae: 0.0063 - val_loss: 7.3443e-04 - val_mae: 0.0036\n",
      "Epoch 156/200\n",
      "129/129 [==============================] - 0s 4ms/step - loss: 7.8741e-04 - mae: 0.0066 - val_loss: 7.3251e-04 - val_mae: 0.0040\n",
      "Epoch 157/200\n",
      "129/129 [==============================] - 0s 4ms/step - loss: 7.5964e-04 - mae: 0.0056 - val_loss: 9.0052e-04 - val_mae: 0.0128\n",
      "Epoch 158/200\n",
      "129/129 [==============================] - 0s 4ms/step - loss: 7.7802e-04 - mae: 0.0067 - val_loss: 7.4250e-04 - val_mae: 0.0055\n",
      "Epoch 159/200\n",
      "129/129 [==============================] - 0s 3ms/step - loss: 7.5610e-04 - mae: 0.0057 - val_loss: 7.1644e-04 - val_mae: 0.0030\n",
      "Epoch 160/200\n",
      "129/129 [==============================] - 0s 4ms/step - loss: 7.6618e-04 - mae: 0.0064 - val_loss: 7.8105e-04 - val_mae: 0.0081\n",
      "Epoch 161/200\n",
      "129/129 [==============================] - 0s 3ms/step - loss: 7.6813e-04 - mae: 0.0065 - val_loss: 7.1092e-04 - val_mae: 0.0029\n",
      "Epoch 162/200\n",
      "129/129 [==============================] - 1s 4ms/step - loss: 7.6095e-04 - mae: 0.0063 - val_loss: 7.6819e-04 - val_mae: 0.0077\n",
      "Epoch 163/200\n",
      "129/129 [==============================] - 0s 3ms/step - loss: 7.5385e-04 - mae: 0.0062 - val_loss: 7.0813e-04 - val_mae: 0.0030\n",
      "Epoch 164/200\n",
      "129/129 [==============================] - 0s 4ms/step - loss: 7.6151e-04 - mae: 0.0065 - val_loss: 7.5682e-04 - val_mae: 0.0072\n",
      "Epoch 165/200\n",
      "129/129 [==============================] - 0s 4ms/step - loss: 7.4170e-04 - mae: 0.0056 - val_loss: 7.3644e-04 - val_mae: 0.0060\n",
      "Epoch 166/200\n",
      "129/129 [==============================] - 0s 4ms/step - loss: 7.6093e-04 - mae: 0.0070 - val_loss: 7.0430e-04 - val_mae: 0.0038\n",
      "Epoch 167/200\n",
      "129/129 [==============================] - 1s 4ms/step - loss: 7.8441e-04 - mae: 0.0072 - val_loss: 7.0015e-04 - val_mae: 0.0034\n",
      "Epoch 168/200\n",
      "129/129 [==============================] - 1s 4ms/step - loss: 7.0828e-04 - mae: 0.0041 - val_loss: 7.0195e-04 - val_mae: 0.0040\n",
      "Epoch 169/200\n",
      "129/129 [==============================] - 0s 4ms/step - loss: 7.4695e-04 - mae: 0.0059 - val_loss: 7.1621e-04 - val_mae: 0.0053\n",
      "Epoch 170/200\n",
      "129/129 [==============================] - 0s 4ms/step - loss: 7.3431e-04 - mae: 0.0060 - val_loss: 6.9483e-04 - val_mae: 0.0037\n",
      "Epoch 171/200\n",
      "129/129 [==============================] - 0s 4ms/step - loss: 7.4256e-04 - mae: 0.0066 - val_loss: 7.0475e-04 - val_mae: 0.0044\n",
      "Epoch 172/200\n",
      "129/129 [==============================] - 0s 4ms/step - loss: 7.2914e-04 - mae: 0.0060 - val_loss: 7.7426e-04 - val_mae: 0.0095\n",
      "Epoch 173/200\n",
      "129/129 [==============================] - 1s 4ms/step - loss: 7.4912e-04 - mae: 0.0069 - val_loss: 8.5459e-04 - val_mae: 0.0127\n",
      "Epoch 174/200\n",
      "129/129 [==============================] - 1s 4ms/step - loss: 7.3382e-04 - mae: 0.0060 - val_loss: 7.0444e-04 - val_mae: 0.0052\n",
      "Epoch 175/200\n",
      "118/129 [==========================>...] - ETA: 0s - loss: 7.2614e-04 - mae: 0.0060Restoring model weights from the end of the best epoch: 170.\n",
      "129/129 [==============================] - 1s 4ms/step - loss: 7.2763e-04 - mae: 0.0061 - val_loss: 7.7484e-04 - val_mae: 0.0097\n",
      "Epoch 175: early stopping\n",
      "Die Ausführungszeit betrug 103.6082022190094 Sekunden.\n"
     ]
    }
   ],
   "source": [
    "start_time = time.time()\n",
    "# Netzwerkarchitektur\n",
    "model = Sequential([\n",
    "    # Eingabeschicht\n",
    "    Dense(224, activation='relu', input_shape=(2,), kernel_initializer='he_uniform', kernel_regularizer=l2(0.0001)),\n",
    "    \n",
    "    Dense(32, activation='relu', kernel_initializer='he_uniform', kernel_regularizer=l2(0.0001)),\n",
    "    \n",
    "    Dense(96, activation='relu', kernel_initializer='he_uniform', kernel_regularizer=l2(0.0001)),\n",
    " \n",
    "    Dense(224, activation='relu', kernel_initializer='he_uniform', kernel_regularizer=l2(0.0001)),\n",
    "    \n",
    "    Dense(128, activation='relu', kernel_initializer='he_uniform', kernel_regularizer=l2(0.0001)),\n",
    "    \n",
    "    Dense(352, activation='relu', kernel_initializer='he_uniform', kernel_regularizer=l2(0.0001)),\n",
    "    \n",
    "    Dense(1 , activation = 'linear')\n",
    "])\n",
    "\n",
    "# Optimierer\n",
    "optimizer = tf.keras.optimizers.Adam(learning_rate=0.001)\n",
    "\n",
    "# Modell kompilieren (Verwendung von mean_squared_error als Verlustfunktion für Regression)\n",
    "model.compile(optimizer=optimizer,\n",
    "              loss='mean_squared_error',\n",
    "              metrics=['mae'])  # Metriken für Regression: Mean Absolute Error und Mean Squared Error\n",
    "\n",
    "# Early Stopping Callback\n",
    "early_stopping = EarlyStopping(monitor='val_loss', patience=5, verbose=2, mode='min', restore_best_weights=True)#, min_delta = 0.00005)\n",
    "\n",
    "# Trainingsparameter\n",
    "batch_size = 500\n",
    "epochs = 200\n",
    "\n",
    "# Modell trainieren (Annahme: X_train, y_train, X_val, y_val sind vordefiniert)\n",
    "history = model.fit(X_train_scaled, y_train_scaled,\n",
    "                    batch_size=batch_size,\n",
    "                    epochs=epochs,\n",
    "                    validation_split=0.2,\n",
    "                    callbacks=[early_stopping],\n",
    "                    verbose = 1)\n",
    "\n",
    "end_time = time.time()\n",
    "\n",
    "# Berechne die Dauer\n",
    "duration = end_time - start_time\n",
    "\n",
    "print(f\"Die Ausführungszeit betrug {duration} Sekunden.\")"
   ],
   "metadata": {
    "collapsed": false,
    "ExecuteTime": {
     "end_time": "2024-02-28T12:02:19.100603800Z",
     "start_time": "2024-02-28T12:00:35.475593100Z"
    }
   },
   "id": "8b52e1a9a6ff3aeb"
  },
  {
   "cell_type": "code",
   "execution_count": 18,
   "id": "9f6f672a",
   "metadata": {
    "ExecuteTime": {
     "end_time": "2024-02-28T12:02:41.951650400Z",
     "start_time": "2024-02-28T12:02:41.033520700Z"
    }
   },
   "outputs": [
    {
     "name": "stdout",
     "output_type": "stream",
     "text": [
      " Bsp. Predicted: [1197.9163] Actual: [1195.9] \n",
      "Durchschnittliche Abweichung (MAE): [3.52265818]\n"
     ]
    }
   ],
   "source": [
    "scaled_predicted_values = model.predict(X_test_scaled, verbose = 0)\n",
    "\n",
    "# Führen Sie die Rücktransformation der skalierten Werte durch\n",
    "original_predicted_values = scaler_target.inverse_transform(scaled_predicted_values)\n",
    "original_actual_values = scaler_target.inverse_transform(y_test_scaled)  # y_test sind die skalierten tatsächlichen Werte\n",
    "print(f' Bsp. Predicted: {original_predicted_values[1000]} Actual: {original_actual_values[1000]} ')\n",
    "\n",
    "def calculate_mae(list1, list2):\n",
    "    # Stelle sicher, dass beide Listen die gleiche Länge haben\n",
    "    if len(list1) != len(list2):\n",
    "        raise ValueError(\"Listen müssen die gleiche Länge haben\")\n",
    "    \n",
    "    # Berechne die absolute Differenz zwischen den Elementen der Listen\n",
    "    differences = [abs(x - y) for x, y in zip(list1, list2)]\n",
    "    \n",
    "    # Berechne den Durchschnitt der absoluten Differenzen\n",
    "    mae = sum(differences) / len(differences)\n",
    "    \n",
    "    return mae\n",
    "\n",
    "# Beispiel\n",
    "list1 = original_predicted_values\n",
    "list2 = original_actual_values\n",
    "\n",
    "mae = calculate_mae(list1, list2)\n",
    "print(f\"Durchschnittliche Abweichung (MAE): {mae}\")\n"
   ]
  },
  {
   "cell_type": "code",
   "execution_count": 20,
   "outputs": [
    {
     "name": "stdout",
     "output_type": "stream",
     "text": [
      "Anzahl der Werte die kleiner sind: 370\n"
     ]
    },
    {
     "data": {
      "text/plain": "             Echt  Vorhergesagt  X-Koordinate  Y-Koordinate  Differenz\n19281  773.464722        807.84         1.000        0.9125 -34.375278\n14143  799.875488        832.75         1.000        0.9025 -32.874512\n16514  806.433167        838.63         1.000        0.9000 -32.196833\n4160   773.369629        805.35         0.992        0.9125 -31.980371\n9896   760.146057        791.74         0.992        0.9175 -31.593943\n...           ...           ...           ...           ...        ...\n9782   686.061401        665.99         0.920        0.0000  20.071401\n7694   687.607117        667.48         0.944        0.0000  20.127117\n11547  685.803589        665.34         0.916        0.0000  20.463589\n1409   687.091919        666.57         0.936        0.0000  20.521919\n18290  682.196655        661.65         0.860        0.0000  20.546655\n\n[20131 rows x 5 columns]",
      "text/html": "<div>\n<style scoped>\n    .dataframe tbody tr th:only-of-type {\n        vertical-align: middle;\n    }\n\n    .dataframe tbody tr th {\n        vertical-align: top;\n    }\n\n    .dataframe thead th {\n        text-align: right;\n    }\n</style>\n<table border=\"1\" class=\"dataframe\">\n  <thead>\n    <tr style=\"text-align: right;\">\n      <th></th>\n      <th>Echt</th>\n      <th>Vorhergesagt</th>\n      <th>X-Koordinate</th>\n      <th>Y-Koordinate</th>\n      <th>Differenz</th>\n    </tr>\n  </thead>\n  <tbody>\n    <tr>\n      <th>19281</th>\n      <td>773.464722</td>\n      <td>807.84</td>\n      <td>1.000</td>\n      <td>0.9125</td>\n      <td>-34.375278</td>\n    </tr>\n    <tr>\n      <th>14143</th>\n      <td>799.875488</td>\n      <td>832.75</td>\n      <td>1.000</td>\n      <td>0.9025</td>\n      <td>-32.874512</td>\n    </tr>\n    <tr>\n      <th>16514</th>\n      <td>806.433167</td>\n      <td>838.63</td>\n      <td>1.000</td>\n      <td>0.9000</td>\n      <td>-32.196833</td>\n    </tr>\n    <tr>\n      <th>4160</th>\n      <td>773.369629</td>\n      <td>805.35</td>\n      <td>0.992</td>\n      <td>0.9125</td>\n      <td>-31.980371</td>\n    </tr>\n    <tr>\n      <th>9896</th>\n      <td>760.146057</td>\n      <td>791.74</td>\n      <td>0.992</td>\n      <td>0.9175</td>\n      <td>-31.593943</td>\n    </tr>\n    <tr>\n      <th>...</th>\n      <td>...</td>\n      <td>...</td>\n      <td>...</td>\n      <td>...</td>\n      <td>...</td>\n    </tr>\n    <tr>\n      <th>9782</th>\n      <td>686.061401</td>\n      <td>665.99</td>\n      <td>0.920</td>\n      <td>0.0000</td>\n      <td>20.071401</td>\n    </tr>\n    <tr>\n      <th>7694</th>\n      <td>687.607117</td>\n      <td>667.48</td>\n      <td>0.944</td>\n      <td>0.0000</td>\n      <td>20.127117</td>\n    </tr>\n    <tr>\n      <th>11547</th>\n      <td>685.803589</td>\n      <td>665.34</td>\n      <td>0.916</td>\n      <td>0.0000</td>\n      <td>20.463589</td>\n    </tr>\n    <tr>\n      <th>1409</th>\n      <td>687.091919</td>\n      <td>666.57</td>\n      <td>0.936</td>\n      <td>0.0000</td>\n      <td>20.521919</td>\n    </tr>\n    <tr>\n      <th>18290</th>\n      <td>682.196655</td>\n      <td>661.65</td>\n      <td>0.860</td>\n      <td>0.0000</td>\n      <td>20.546655</td>\n    </tr>\n  </tbody>\n</table>\n<p>20131 rows × 5 columns</p>\n</div>"
     },
     "execution_count": 20,
     "metadata": {},
     "output_type": "execute_result"
    }
   ],
   "source": [
    "df_result = pd.DataFrame({'Echt': [val[0] for val in list1], 'Vorhergesagt': [val[0] for val in list2]})\n",
    "df_result['X-Koordinate'] = X_test_scaled[:, 0]\n",
    "df_result['Y-Koordinate'] = X_test_scaled[:, 1]\n",
    "\n",
    "df_result['Differenz'] = df_result['Echt'] - df_result['Vorhergesagt']\n",
    "df_result['Differenz'].sort_values()\n",
    "sorted_df = df_result.sort_values(by= 'Differenz')\n",
    "Anzahl_Punkte = (sorted_df['Differenz'] < -10).sum()\n",
    "print(\"Anzahl der Werte die kleiner sind:\", Anzahl_Punkte)\n",
    " \n",
    "sorted_df"
   ],
   "metadata": {
    "collapsed": false,
    "ExecuteTime": {
     "end_time": "2024-02-28T12:02:57.475590300Z",
     "start_time": "2024-02-28T12:02:57.375128200Z"
    }
   },
   "id": "42bde60d3b4f2007"
  },
  {
   "cell_type": "markdown",
   "id": "553df6fa",
   "metadata": {},
   "source": []
  },
  {
   "cell_type": "code",
   "execution_count": 21,
   "outputs": [
    {
     "data": {
      "text/plain": "<Figure size 1000x600 with 1 Axes>",
      "image/png": "[encoded data removed]"
     },
     "metadata": {},
     "output_type": "display_data"
    }
   ],
   "source": [
    "mae = history.history['loss']\n",
    "val_mae = history.history['val_loss']\n",
    "\n",
    "epochs = range(1, len(mae) + 1)\n",
    "# MAE Diagramm\n",
    "plt.figure(figsize=(10, 6))\n",
    "plt.plot(epochs, mae, 'r', label='Training MSE')\n",
    "plt.plot(epochs, val_mae, 'b', label='Validation MSE')\n",
    "plt.title('Training and Validation MAE')\n",
    "plt.xlabel('Epochs')\n",
    "plt.ylabel('MAE')\n",
    "plt.legend()\n",
    "plt.show()"
   ],
   "metadata": {
    "collapsed": false,
    "ExecuteTime": {
     "end_time": "2024-02-28T12:03:02.628843800Z",
     "start_time": "2024-02-28T12:03:02.076886700Z"
    }
   },
   "id": "3688dd7102e95baf"
  },
  {
   "cell_type": "markdown",
   "source": [
    "\n",
    "# GridSearch\n",
    "Grid Search bietet die Vorteile der anpassbaren Rechenzeit sowie die Möglichkeit des EInsatzes von Verteilungen. So können theoretisch Hyperparamterkonfuigurationen gefunden wende, welche durch GridSearch nicht auffindbar wären. ZUdem ist das Ziel der Hyperparamteroptimierung eine Einstellung zu finden, welche auf Trainings und Testset gut angepasst ist. Die EInstellung muss nicht die bestmöglichste Einstellung sein, sondern eine Einstellung die das gewähltre Problem gut wiederspiegelt. \n",
    "Bayesian Optimierung"
   ],
   "metadata": {
    "collapsed": false
   },
   "id": "9c177960cc729052"
  },
  {
   "cell_type": "code",
   "execution_count": 11,
   "id": "3f17e2cf",
   "metadata": {
    "ExecuteTime": {
     "end_time": "2024-02-28T11:43:40.551323300Z",
     "start_time": "2024-02-28T10:46:31.827883700Z"
    }
   },
   "outputs": [
    {
     "name": "stdout",
     "output_type": "stream",
     "text": [
      "Fitting 3 folds for each of 72 candidates, totalling 216 fits\n",
      "WARNING:tensorflow:From C:\\Users\\erikm\\Desktop\\Diplomarbeit Erik Marr\\Projekt X\\venv\\Lib\\site-packages\\keras\\src\\backend.py:873: The name tf.get_default_graph is deprecated. Please use tf.compat.v1.get_default_graph instead.\n",
      "Epoch 1/30\n",
      "WARNING:tensorflow:From C:\\Users\\erikm\\Desktop\\Diplomarbeit Erik Marr\\Projekt X\\venv\\Lib\\site-packages\\keras\\src\\utils\\tf_utils.py:492: The name tf.ragged.RaggedTensorValue is deprecated. Please use tf.compat.v1.ragged.RaggedTensorValue instead.\n",
      "WARNING:tensorflow:From C:\\Users\\erikm\\Desktop\\Diplomarbeit Erik Marr\\Projekt X\\venv\\Lib\\site-packages\\keras\\src\\engine\\base_layer_utils.py:384: The name tf.executing_eagerly_outside_functions is deprecated. Please use tf.compat.v1.executing_eagerly_outside_functions instead.\n",
      "162/162 - 12s - loss: 0.1968 - mae: 0.0992 - 12s/epoch - 76ms/step\n",
      "Epoch 2/30\n",
      "162/162 - 1s - loss: 0.1165 - mae: 0.0120 - 1s/epoch - 7ms/step\n",
      "Epoch 3/30\n",
      "162/162 - 1s - loss: 0.1008 - mae: 0.0113 - 1s/epoch - 8ms/step\n",
      "Epoch 4/30\n",
      "162/162 - 2s - loss: 0.0900 - mae: 0.0098 - 2s/epoch - 10ms/step\n",
      "Epoch 5/30\n",
      "162/162 - 2s - loss: 0.0813 - mae: 0.0086 - 2s/epoch - 14ms/step\n",
      "Epoch 6/30\n",
      "162/162 - 3s - loss: 0.0740 - mae: 0.0100 - 3s/epoch - 17ms/step\n",
      "Epoch 7/30\n",
      "162/162 - 3s - loss: 0.0674 - mae: 0.0073 - 3s/epoch - 17ms/step\n",
      "Epoch 8/30\n",
      "162/162 - 3s - loss: 0.0617 - mae: 0.0081 - 3s/epoch - 19ms/step\n",
      "Epoch 9/30\n",
      "162/162 - 3s - loss: 0.0566 - mae: 0.0080 - 3s/epoch - 17ms/step\n",
      "Epoch 10/30\n",
      "162/162 - 3s - loss: 0.0520 - mae: 0.0070 - 3s/epoch - 17ms/step\n",
      "Epoch 11/30\n",
      "162/162 - 3s - loss: 0.0479 - mae: 0.0068 - 3s/epoch - 18ms/step\n",
      "Epoch 12/30\n",
      "162/162 - 3s - loss: 0.0442 - mae: 0.0072 - 3s/epoch - 18ms/step\n",
      "Epoch 13/30\n",
      "162/162 - 3s - loss: 0.0408 - mae: 0.0075 - 3s/epoch - 19ms/step\n",
      "Epoch 14/30\n",
      "162/162 - 3s - loss: 0.0377 - mae: 0.0066 - 3s/epoch - 18ms/step\n",
      "Epoch 15/30\n",
      "162/162 - 3s - loss: 0.0349 - mae: 0.0082 - 3s/epoch - 17ms/step\n",
      "Epoch 16/30\n",
      "162/162 - 3s - loss: 0.0322 - mae: 0.0059 - 3s/epoch - 16ms/step\n",
      "Epoch 17/30\n",
      "162/162 - 3s - loss: 0.0298 - mae: 0.0054 - 3s/epoch - 16ms/step\n",
      "Epoch 18/30\n",
      "162/162 - 2s - loss: 0.0276 - mae: 0.0066 - 2s/epoch - 15ms/step\n",
      "Epoch 19/30\n",
      "162/162 - 2s - loss: 0.0255 - mae: 0.0069 - 2s/epoch - 15ms/step\n",
      "Epoch 20/30\n",
      "162/162 - 2s - loss: 0.0236 - mae: 0.0078 - 2s/epoch - 14ms/step\n",
      "Epoch 21/30\n",
      "162/162 - 2s - loss: 0.0218 - mae: 0.0064 - 2s/epoch - 15ms/step\n",
      "Epoch 22/30\n",
      "162/162 - 2s - loss: 0.0202 - mae: 0.0068 - 2s/epoch - 15ms/step\n",
      "Epoch 23/30\n",
      "162/162 - 2s - loss: 0.0186 - mae: 0.0063 - 2s/epoch - 14ms/step\n",
      "Epoch 24/30\n",
      "162/162 - 2s - loss: 0.0172 - mae: 0.0076 - 2s/epoch - 15ms/step\n",
      "Epoch 25/30\n",
      "162/162 - 3s - loss: 0.0159 - mae: 0.0061 - 3s/epoch - 17ms/step\n",
      "Epoch 26/30\n",
      "162/162 - 3s - loss: 0.0147 - mae: 0.0063 - 3s/epoch - 18ms/step\n",
      "Epoch 27/30\n",
      "162/162 - 3s - loss: 0.0136 - mae: 0.0071 - 3s/epoch - 19ms/step\n",
      "Epoch 28/30\n",
      "162/162 - 3s - loss: 0.0126 - mae: 0.0072 - 3s/epoch - 19ms/step\n",
      "Epoch 29/30\n",
      "162/162 - 3s - loss: 0.0116 - mae: 0.0064 - 3s/epoch - 17ms/step\n",
      "Epoch 30/30\n",
      "162/162 - 3s - loss: 0.0107 - mae: 0.0071 - 3s/epoch - 19ms/step\n",
      "Beste Parameter: {'fit__batch_size': 500, 'fit__epochs': 30, 'model__dropout_rate': 0.0, 'model__learning_rate': 0.001, 'model__regularization': 0.0001}\n",
      "Beste Genauigkeit: 0.9995720602540953\n"
     ]
    }
   ],
   "source": [
    "def build_model(learning_rate=0.001, activation='relu', regularization=0.0001, dropout_rate=0.0):\n",
    "    model = Sequential()\n",
    "    model.add(Dense(224, activation=activation, input_shape=(2,), kernel_initializer='he_uniform', kernel_regularizer=l2(regularization)))\n",
    "    model.add(Dropout(dropout_rate))\n",
    "\n",
    "    model.add(Dense(32, activation=activation, kernel_initializer='he_uniform', kernel_regularizer=l2(regularization)))\n",
    "    model.add(Dropout(dropout_rate))\n",
    "\n",
    "    model.add(Dense(96, activation=activation, kernel_initializer='he_uniform', kernel_regularizer=l2(regularization)))\n",
    "    model.add(Dropout(dropout_rate))\n",
    "\n",
    "    model.add(Dense(224, activation=activation, kernel_initializer='he_uniform', kernel_regularizer=l2(regularization)))\n",
    "    model.add(Dropout(dropout_rate))\n",
    "\n",
    "    model.add(Dense(128, activation=activation, kernel_initializer='he_uniform', kernel_regularizer=l2(regularization)))\n",
    "    model.add(Dropout(dropout_rate))\n",
    "\n",
    "    model.add(Dense(352, activation=activation, kernel_initializer='he_uniform', kernel_regularizer=l2(regularization)))\n",
    "    model.add(Dropout(dropout_rate))\n",
    "    \n",
    "    model.add(Dense(1, activation='linear'))\n",
    "    model.compile(optimizer=Adam(learning_rate=learning_rate), loss='mean_squared_error', metrics=['mae'])\n",
    "    return model\n",
    "\n",
    "# Verwenden Sie eine Funktion, um das Modell zu instanziieren, für scikit-learn Wrapper\n",
    "model = KerasRegressor(model=build_model, verbose=2)\n",
    "\n",
    "# Anpassung der Parameter im param_grid\n",
    "param_grid = {\n",
    "    'model__learning_rate': [0.01, 0.001, 0.0001],\n",
    "    'model__regularization': [0.001, 0.0001],\n",
    "    'fit__batch_size': [50, 100, 200, 500],\n",
    "    'fit__epochs': [30],\n",
    "    'model__dropout_rate' : [0.0, 0.1, 0.2]\n",
    "}\n",
    "\n",
    "grid_search = GridSearchCV(estimator=model, param_grid=param_grid, n_jobs=-1, cv=3, verbose=2)\n",
    "# Hinweis: Stellen Sie sicher, dass Ihre Daten (X_train_scaled, y_train_scaled) korrekt definiert sind\n",
    "grid_result = grid_search.fit(X_train_scaled, y_train_scaled)\n",
    "# Beste Parameter und Score ausgeben\n",
    "print(\"Beste Parameter:\", grid_search.best_params_)\n",
    "print(\"Beste Genauigkeit:\", grid_search.best_score_)\n",
    "\n",
    "with open(\"Gridsearch_D1.txt\", \"w\") as f:\n",
    "    f.write(f\"Beste Parameter: {grid_search.best_params_}\\n\")\n",
    "    f.write(f\"Beste Genauigkeit: {grid_search.best_score_}\")\n"
   ]
  },
  {
   "cell_type": "markdown",
   "source": [
    "# Bayesian Optimization"
   ],
   "metadata": {
    "collapsed": false
   },
   "id": "3bb41910a42cbdee"
  },
  {
   "cell_type": "code",
   "execution_count": 16,
   "outputs": [
    {
     "name": "stdout",
     "output_type": "stream",
     "text": [
      "|   iter    |  target   | learni... | neuron... | neuron... | neuron... | neuron... | neuron... |\n",
      "-------------------------------------------------------------------------------------------------\n",
      "Restoring model weights from the end of the best epoch: 12.\n",
      "Epoch 17: early stopping\n",
      "| \u001B[0m1        \u001B[0m | \u001B[0m-0.000638\u001B[0m | \u001B[0m0.004229 \u001B[0m | \u001B[0m148.5    \u001B[0m | \u001B[0m16.02    \u001B[0m | \u001B[0m71.63    \u001B[0m | \u001B[0m43.0     \u001B[0m | \u001B[0m32.99    \u001B[0m |\n",
      "Restoring model weights from the end of the best epoch: 14.\n",
      "Epoch 19: early stopping\n",
      "| \u001B[95m2        \u001B[0m | \u001B[95m-0.000562\u001B[0m | \u001B[95m0.001944 \u001B[0m | \u001B[95m79.58    \u001B[0m | \u001B[95m89.01    \u001B[0m | \u001B[95m115.1    \u001B[0m | \u001B[95m93.13    \u001B[0m | \u001B[95m142.1    \u001B[0m |\n",
      "Restoring model weights from the end of the best epoch: 13.\n",
      "Epoch 18: early stopping\n",
      "| \u001B[0m3        \u001B[0m | \u001B[0m-0.000766\u001B[0m | \u001B[0m0.005658 \u001B[0m | \u001B[0m85.07    \u001B[0m | \u001B[0m104.1    \u001B[0m | \u001B[0m119.3    \u001B[0m | \u001B[0m41.35    \u001B[0m | \u001B[0m134.6    \u001B[0m |\n",
      "Restoring model weights from the end of the best epoch: 11.\n",
      "Epoch 16: early stopping\n",
      "| \u001B[0m4        \u001B[0m | \u001B[0m-0.000834\u001B[0m | \u001B[0m0.008647 \u001B[0m | \u001B[0m85.11    \u001B[0m | \u001B[0m86.15    \u001B[0m | \u001B[0m110.5    \u001B[0m | \u001B[0m103.4    \u001B[0m | \u001B[0m144.2    \u001B[0m |\n",
      "Restoring model weights from the end of the best epoch: 15.\n",
      "Epoch 20: early stopping\n",
      "| \u001B[0m5        \u001B[0m | \u001B[0m-0.000733\u001B[0m | \u001B[0m0.008982 \u001B[0m | \u001B[0m113.5    \u001B[0m | \u001B[0m26.86    \u001B[0m | \u001B[0m170.1    \u001B[0m | \u001B[0m57.75    \u001B[0m | \u001B[0m50.06    \u001B[0m |\n",
      "Restoring model weights from the end of the best epoch: 7.\n",
      "Epoch 12: early stopping\n",
      "| \u001B[0m6        \u001B[0m | \u001B[0m-0.000743\u001B[0m | \u001B[0m0.004154 \u001B[0m | \u001B[0m38.5     \u001B[0m | \u001B[0m150.3    \u001B[0m | \u001B[0m175.7    \u001B[0m | \u001B[0m138.0    \u001B[0m | \u001B[0m88.68    \u001B[0m |\n",
      "Restoring model weights from the end of the best epoch: 16.\n",
      "Epoch 21: early stopping\n",
      "| \u001B[0m7        \u001B[0m | \u001B[0m-0.000796\u001B[0m | \u001B[0m0.009176 \u001B[0m | \u001B[0m33.41    \u001B[0m | \u001B[0m197.5    \u001B[0m | \u001B[0m190.2    \u001B[0m | \u001B[0m18.45    \u001B[0m | \u001B[0m99.55    \u001B[0m |\n",
      "Restoring model weights from the end of the best epoch: 12.\n",
      "Epoch 17: early stopping\n",
      "| \u001B[0m8        \u001B[0m | \u001B[0m-0.000782\u001B[0m | \u001B[0m0.006971 \u001B[0m | \u001B[0m121.5    \u001B[0m | \u001B[0m76.55    \u001B[0m | \u001B[0m146.6    \u001B[0m | \u001B[0m162.7    \u001B[0m | \u001B[0m21.59    \u001B[0m |\n",
      "Restoring model weights from the end of the best epoch: 17.\n",
      "Epoch 22: early stopping\n",
      "| \u001B[95m9        \u001B[0m | \u001B[95m-0.000546\u001B[0m | \u001B[95m0.002098 \u001B[0m | \u001B[95m70.04    \u001B[0m | \u001B[95m45.3     \u001B[0m | \u001B[95m67.57    \u001B[0m | \u001B[95m165.3    \u001B[0m | \u001B[95m146.0    \u001B[0m |\n",
      "Restoring model weights from the end of the best epoch: 34.\n",
      "Epoch 39: early stopping\n",
      "| \u001B[0m10       \u001B[0m | \u001B[0m-0.000793\u001B[0m | \u001B[0m0.0001457\u001B[0m | \u001B[0m167.1    \u001B[0m | \u001B[0m110.3    \u001B[0m | \u001B[0m114.7    \u001B[0m | \u001B[0m151.9    \u001B[0m | \u001B[0m189.9    \u001B[0m |\n",
      "Restoring model weights from the end of the best epoch: 20.\n",
      "Epoch 25: early stopping\n",
      "| \u001B[0m11       \u001B[0m | \u001B[0m-0.000610\u001B[0m | \u001B[0m0.0004375\u001B[0m | \u001B[0m148.2    \u001B[0m | \u001B[0m174.9    \u001B[0m | \u001B[0m71.28    \u001B[0m | \u001B[0m171.8    \u001B[0m | \u001B[0m93.63    \u001B[0m |\n",
      "Restoring model weights from the end of the best epoch: 17.\n",
      "Epoch 22: early stopping\n",
      "| \u001B[0m12       \u001B[0m | \u001B[0m-0.000757\u001B[0m | \u001B[0m0.008991 \u001B[0m | \u001B[0m31.9     \u001B[0m | \u001B[0m119.0    \u001B[0m | \u001B[0m62.88    \u001B[0m | \u001B[0m155.0    \u001B[0m | \u001B[0m59.75    \u001B[0m |\n",
      "Restoring model weights from the end of the best epoch: 10.\n",
      "Epoch 15: early stopping\n",
      "| \u001B[0m13       \u001B[0m | \u001B[0m-0.000891\u001B[0m | \u001B[0m0.00989  \u001B[0m | \u001B[0m153.3    \u001B[0m | \u001B[0m75.35    \u001B[0m | \u001B[0m84.86    \u001B[0m | \u001B[0m76.01    \u001B[0m | \u001B[0m122.9    \u001B[0m |\n",
      "Restoring model weights from the end of the best epoch: 12.\n",
      "Epoch 17: early stopping\n",
      "| \u001B[0m14       \u001B[0m | \u001B[0m-0.000719\u001B[0m | \u001B[0m0.007607 \u001B[0m | \u001B[0m53.49    \u001B[0m | \u001B[0m58.95    \u001B[0m | \u001B[0m123.7    \u001B[0m | \u001B[0m157.1    \u001B[0m | \u001B[0m193.7    \u001B[0m |\n",
      "Restoring model weights from the end of the best epoch: 14.\n",
      "Epoch 19: early stopping\n",
      "| \u001B[0m15       \u001B[0m | \u001B[0m-0.000742\u001B[0m | \u001B[0m0.008752 \u001B[0m | \u001B[0m198.6    \u001B[0m | \u001B[0m87.49    \u001B[0m | \u001B[0m174.8    \u001B[0m | \u001B[0m161.6    \u001B[0m | \u001B[0m149.4    \u001B[0m |\n",
      "Restoring model weights from the end of the best epoch: 25.\n",
      "Epoch 30: early stopping\n",
      "| \u001B[0m16       \u001B[0m | \u001B[0m-0.000624\u001B[0m | \u001B[0m0.0002723\u001B[0m | \u001B[0m76.96    \u001B[0m | \u001B[0m101.7    \u001B[0m | \u001B[0m68.82    \u001B[0m | \u001B[0m133.2    \u001B[0m | \u001B[0m89.11    \u001B[0m |\n",
      "Restoring model weights from the end of the best epoch: 19.\n",
      "Epoch 24: early stopping\n",
      "| \u001B[0m17       \u001B[0m | \u001B[0m-0.000692\u001B[0m | \u001B[0m0.005645 \u001B[0m | \u001B[0m124.5    \u001B[0m | \u001B[0m149.4    \u001B[0m | \u001B[0m155.6    \u001B[0m | \u001B[0m96.35    \u001B[0m | \u001B[0m137.5    \u001B[0m |\n",
      "Restoring model weights from the end of the best epoch: 26.\n",
      "Epoch 31: early stopping\n",
      "| \u001B[95m18       \u001B[0m | \u001B[95m-0.000504\u001B[0m | \u001B[95m0.0008563\u001B[0m | \u001B[95m139.4    \u001B[0m | \u001B[95m143.1    \u001B[0m | \u001B[95m142.2    \u001B[0m | \u001B[95m67.5     \u001B[0m | \u001B[95m129.6    \u001B[0m |\n",
      "Restoring model weights from the end of the best epoch: 7.\n",
      "Epoch 12: early stopping\n",
      "| \u001B[0m19       \u001B[0m | \u001B[0m-0.000737\u001B[0m | \u001B[0m0.008334 \u001B[0m | \u001B[0m17.35    \u001B[0m | \u001B[0m23.21    \u001B[0m | \u001B[0m164.6    \u001B[0m | \u001B[0m32.63    \u001B[0m | \u001B[0m155.2    \u001B[0m |\n",
      "Restoring model weights from the end of the best epoch: 14.\n",
      "Epoch 19: early stopping\n",
      "| \u001B[0m20       \u001B[0m | \u001B[0m-0.000575\u001B[0m | \u001B[0m0.001016 \u001B[0m | \u001B[0m198.8    \u001B[0m | \u001B[0m101.1    \u001B[0m | \u001B[0m41.64    \u001B[0m | \u001B[0m70.41    \u001B[0m | \u001B[0m37.44    \u001B[0m |\n",
      "Restoring model weights from the end of the best epoch: 15.\n",
      "Epoch 20: early stopping\n",
      "| \u001B[0m21       \u001B[0m | \u001B[0m-0.000635\u001B[0m | \u001B[0m0.001644 \u001B[0m | \u001B[0m28.21    \u001B[0m | \u001B[0m184.1    \u001B[0m | \u001B[0m34.07    \u001B[0m | \u001B[0m73.35    \u001B[0m | \u001B[0m133.9    \u001B[0m |\n",
      "Restoring model weights from the end of the best epoch: 14.\n",
      "Epoch 19: early stopping\n",
      "| \u001B[0m22       \u001B[0m | \u001B[0m-0.000690\u001B[0m | \u001B[0m0.004116 \u001B[0m | \u001B[0m150.9    \u001B[0m | \u001B[0m173.6    \u001B[0m | \u001B[0m198.3    \u001B[0m | \u001B[0m173.2    \u001B[0m | \u001B[0m61.95    \u001B[0m |\n",
      "=================================================================================================\n",
      "{'target': -0.0005042816046625376, 'params': {'learning_rate': 0.0008562808887904138, 'neurons_layer_1': 139.37382512499065, 'neurons_layer_2': 143.13142125355472, 'neurons_layer_3': 142.17467953414652, 'neurons_layer_4': 67.50109625880788, 'neurons_layer_5': 129.5541186323257}}\n"
     ]
    }
   ],
   "source": [
    "from bayes_opt import BayesianOptimization\n",
    "\n",
    "\n",
    "# Angenommene Daten\n",
    "# X_train_scaled, y_train_scaled = # Deine skalierten Trainingsdaten\n",
    "\n",
    "def train_evaluate(neurons_layer_1, neurons_layer_2, neurons_layer_3, neurons_layer_4, neurons_layer_5, learning_rate):\n",
    "    model = Sequential([\n",
    "        Dense(int(neurons_layer_1), activation='relu', input_shape=(2,), kernel_initializer='he_uniform', kernel_regularizer=l2(0.0001)),\n",
    "        Dense(int(neurons_layer_2), activation='relu', kernel_initializer='he_uniform', kernel_regularizer=l2(0.0001)),\n",
    "        Dense(int(neurons_layer_3), activation='relu', kernel_initializer='he_uniform', kernel_regularizer=l2(0.0001)),\n",
    "        Dense(int(neurons_layer_4), activation='relu', kernel_initializer='he_uniform', kernel_regularizer=l2(0.0001)),\n",
    "        Dense(int(neurons_layer_5), activation='relu', kernel_initializer='he_uniform', kernel_regularizer=l2(0.0001)),\n",
    "        \n",
    "        Dense(1, activation='linear')\n",
    "    ])\n",
    "\n",
    "    optimizer = tf.keras.optimizers.Adam(learning_rate=learning_rate)\n",
    "    model.compile(optimizer=optimizer, loss='mean_squared_error', metrics=['mae'])\n",
    "\n",
    "    early_stopping = EarlyStopping(monitor='loss', patience=5, verbose=1, mode='min', restore_best_weights=True, min_delta=0.0001)\n",
    "\n",
    "    history = model.fit(X_train_scaled, y_train_scaled, batch_size=32, epochs=100, validation_split=0.2, callbacks=[early_stopping], verbose=0)\n",
    "\n",
    "    # Hier wählen wir den negativen Mean Squared Error, da Bayesian Optimization maximiert\n",
    "    mse = np.min(history.history['val_loss'])\n",
    "    return -mse\n",
    "\n",
    "# Definieren des Bereichs der Hyperparameter\n",
    "pbounds = {\n",
    "    'neurons_layer_1': (16, 200),\n",
    "    'neurons_layer_2': (16, 200),\n",
    "    'neurons_layer_3': (16, 200),\n",
    "    'neurons_layer_4': (16, 200),\n",
    "    'neurons_layer_5': (16, 200),\n",
    "    'learning_rate': (0.0001, 0.01),\n",
    "}\n",
    "\n",
    "# Initialisieren des BayesianOptimization-Objekts\n",
    "optimizer = BayesianOptimization(\n",
    "    f=train_evaluate,\n",
    "    pbounds=pbounds,\n",
    "    random_state=1,\n",
    ")\n",
    "\n",
    "# Starten der Optimierung\n",
    "optimizer.maximize(init_points=2, n_iter=20)\n",
    "\n",
    "print(optimizer.max)\n"
   ],
   "metadata": {
    "collapsed": false,
    "ExecuteTime": {
     "end_time": "2024-02-21T15:22:26.910485500Z",
     "start_time": "2024-02-21T15:05:40.545629700Z"
    }
   },
   "id": "a5b6232547cdae67"
  },
  {
   "cell_type": "markdown",
   "source": [
    "# Random Search Architektur"
   ],
   "metadata": {
    "collapsed": false
   },
   "id": "75773dfef8260e5f"
  },
  {
   "cell_type": "code",
   "execution_count": 18,
   "outputs": [
    {
     "name": "stdout",
     "output_type": "stream",
     "text": [
      "Trial 100 Complete [00h 00m 48s]\n",
      "val_loss: 1.355679523840081e-05\n",
      "\n",
      "Best val_loss So Far: 1.3108049188303994e-06\n",
      "Total elapsed time: 01h 41m 02s\n",
      "Model: \"sequential\"\n",
      "_________________________________________________________________\n",
      " Layer (type)                Output Shape              Param #   \n",
      "=================================================================\n",
      " dense (Dense)               (None, 224)               672       \n",
      "                                                                 \n",
      " dense_1 (Dense)             (None, 32)                7200      \n",
      "                                                                 \n",
      " dense_2 (Dense)             (None, 96)                3168      \n",
      "                                                                 \n",
      " dense_3 (Dense)             (None, 224)               21728     \n",
      "                                                                 \n",
      " dense_4 (Dense)             (None, 128)               28800     \n",
      "                                                                 \n",
      " dense_5 (Dense)             (None, 352)               45408     \n",
      "                                                                 \n",
      " dense_6 (Dense)             (None, 1)                 353       \n",
      "                                                                 \n",
      "=================================================================\n",
      "Total params: 107329 (419.25 KB)\n",
      "Trainable params: 107329 (419.25 KB)\n",
      "Non-trainable params: 0 (0.00 Byte)\n",
      "_________________________________________________________________\n",
      "{'input_units': 224, 'n_layers': 5, 'units_0': 32, 'units_1': 96, 'units_2': 224, 'units_3': 128, 'units_4': 352, 'units_5': 448, 'units_6': 64, 'units_7': 448, 'units_8': 480, 'units_9': 480}\n"
     ]
    }
   ],
   "source": [
    "# Definieren der Funktion, die das Modell erstellt\n",
    "def build_model(hp):\n",
    "    model = Sequential()\n",
    "    model.add(Dense(hp.Int('input_units', min_value=32, max_value=512, step=32), input_shape=(2,), activation='relu'))\n",
    "    # Hinzufügen von Schichten basierend auf dem Suchraum\n",
    "    for i in range(hp.Int('n_layers', 1, 10)):\n",
    "        model.add(Dense(hp.Int(f'units_{i}', min_value=32, max_value=512, step=32), activation='relu'))\n",
    "    model.add(Dense(1, activation='linear'))\n",
    "    model.compile(optimizer='adam', loss='mean_squared_error')\n",
    "    return model\n",
    "\n",
    "# Erstellen des RandomSearch Objekts\n",
    "tuner = RandomSearch(\n",
    "    build_model,\n",
    "    objective='val_loss',\n",
    "    max_trials=100,  # Anzahl der zu testenden Modellkonfigurationen\n",
    "    executions_per_trial=1,  # Anzahl der Male, die jede Modellkonfiguration trainiert wird\n",
    "    directory='random_search',  # Verzeichnis zur Speicherung der Suchlogs\n",
    "    project_name='neural_network_optimization'\n",
    ")\n",
    "\n",
    "# Durchführung des Random Search\n",
    "tuner.search(X_train_scaled, y_train_scaled, epochs=20, batch_size=50, validation_split=0.2, callbacks=[EarlyStopping(monitor='val_loss', patience=5)])\n",
    "\n",
    "# Abrufen des besten Modells\n",
    "best_model = tuner.get_best_models(num_models=1)[0]\n",
    "\n",
    "# Zusammenfassung des besten Modells\n",
    "best_model.summary()\n",
    "\n",
    "# Sie können auch die besten Hyperparameter direkt abrufen\n",
    "best_hyperparameters = tuner.get_best_hyperparameters()[0]\n",
    "print(best_hyperparameters.values) "
   ],
   "metadata": {
    "collapsed": false
   },
   "id": "4bcbb2bbe83bfb6b"
  },
  {
   "cell_type": "code",
   "execution_count": null,
   "outputs": [],
   "source": [],
   "metadata": {
    "collapsed": false
   },
   "id": "c6a6fa208c5d8a01"
  }
 ],
 "metadata": {
  "kernelspec": {
   "display_name": "Python 3 (ipykernel)",
   "language": "python",
   "name": "python3"
  },
  "language_info": {
   "codemirror_mode": {
    "name": "ipython",
    "version": 3
   },
   "file_extension": ".py",
   "mimetype": "text/x-python",
   "name": "python",
   "nbconvert_exporter": "python",
   "pygments_lexer": "ipython3",
   "version": "3.11.4"
  }
 },
 "nbformat": 4,
 "nbformat_minor": 5
}
