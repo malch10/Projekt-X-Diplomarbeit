{
 "cells": [
  {
   "cell_type": "code",
   "execution_count": 1,
   "id": "94b0518e",
   "metadata": {
    "ExecuteTime": {
     "end_time": "2024-02-21T15:00:28.063522400Z",
     "start_time": "2024-02-21T15:00:09.840877Z"
    }
   },
   "outputs": [
    {
     "name": "stdout",
     "output_type": "stream",
     "text": [
      "WARNING:tensorflow:From C:\\Users\\erikm\\Desktop\\Diplomarbeit Erik Marr\\Projekt X\\venv\\Lib\\site-packages\\keras\\src\\losses.py:2976: The name tf.losses.sparse_softmax_cross_entropy is deprecated. Please use tf.compat.v1.losses.sparse_softmax_cross_entropy instead.\n"
     ]
    }
   ],
   "source": [
    "import numpy as np\n",
    "import tensorflow as tf\n",
    "import matplotlib.pyplot as plt\n",
    "import pandas as pd\n",
    "from tensorflow import keras\n",
    "from tensorflow.keras.models import Sequential\n",
    "from tensorflow.keras.layers import Dense\n",
    "from sklearn.model_selection import train_test_split\n",
    "from tensorflow.keras import layers\n",
    "import glob\n",
    "\n",
    "from sklearn.preprocessing import MinMaxScaler, StandardScaler\n",
    "import pandas as pd\n",
    "\n",
    "from tensorflow.keras.models import Sequential\n",
    "from tensorflow.keras.layers import Dense , Dropout\n",
    "from sklearn.model_selection import GridSearchCV\n",
    "from scikeras.wrappers import KerasRegressor, KerasClassifier\n",
    "from tensorflow.keras.regularizers import l2\n",
    "from tensorflow.keras.callbacks import EarlyStopping\n",
    "from tensorflow.keras.optimizers import Adam\n",
    "import time\n",
    "from keras_tuner import HyperModel\n",
    "from keras.models import Sequential\n",
    "from keras.layers import Dense, Dropout\n",
    "from keras.optimizers import Adam\n",
    "from keras.regularizers import l2\n",
    "from keras.callbacks import EarlyStopping\n",
    "from keras_tuner.tuners import RandomSearch"
   ]
  },
  {
   "cell_type": "code",
   "execution_count": 2,
   "id": "e4ff61b1",
   "metadata": {
    "ExecuteTime": {
     "end_time": "2024-02-21T15:02:19.613118100Z",
     "start_time": "2024-02-21T15:02:19.510389300Z"
    }
   },
   "outputs": [
    {
     "data": {
      "text/plain": "        X-Koordinate  Y-Koordinate  Zeitpunkt  Strom  Kraft  Temperatur\n0             0.0000      -0.00200        500   7000   9000      669.05\n1             0.0000      -0.00199        500   7000   9000      675.83\n2             0.0000      -0.00198        500   7000   9000      682.81\n3             0.0000      -0.00197        500   7000   9000      689.82\n4             0.0000      -0.00196        500   7000   9000      696.80\n...              ...           ...        ...    ...    ...         ...\n100646        0.0025       0.00196        500   7000   9000      578.47\n100647        0.0025       0.00197        500   7000   9000      576.89\n100648        0.0025       0.00198        500   7000   9000      575.32\n100649        0.0025       0.00199        500   7000   9000      573.76\n100650        0.0025       0.00200        500   7000   9000      572.20\n\n[100651 rows x 6 columns]",
      "text/html": "<div>\n<style scoped>\n    .dataframe tbody tr th:only-of-type {\n        vertical-align: middle;\n    }\n\n    .dataframe tbody tr th {\n        vertical-align: top;\n    }\n\n    .dataframe thead th {\n        text-align: right;\n    }\n</style>\n<table border=\"1\" class=\"dataframe\">\n  <thead>\n    <tr style=\"text-align: right;\">\n      <th></th>\n      <th>X-Koordinate</th>\n      <th>Y-Koordinate</th>\n      <th>Zeitpunkt</th>\n      <th>Strom</th>\n      <th>Kraft</th>\n      <th>Temperatur</th>\n    </tr>\n  </thead>\n  <tbody>\n    <tr>\n      <th>0</th>\n      <td>0.0000</td>\n      <td>-0.00200</td>\n      <td>500</td>\n      <td>7000</td>\n      <td>9000</td>\n      <td>669.05</td>\n    </tr>\n    <tr>\n      <th>1</th>\n      <td>0.0000</td>\n      <td>-0.00199</td>\n      <td>500</td>\n      <td>7000</td>\n      <td>9000</td>\n      <td>675.83</td>\n    </tr>\n    <tr>\n      <th>2</th>\n      <td>0.0000</td>\n      <td>-0.00198</td>\n      <td>500</td>\n      <td>7000</td>\n      <td>9000</td>\n      <td>682.81</td>\n    </tr>\n    <tr>\n      <th>3</th>\n      <td>0.0000</td>\n      <td>-0.00197</td>\n      <td>500</td>\n      <td>7000</td>\n      <td>9000</td>\n      <td>689.82</td>\n    </tr>\n    <tr>\n      <th>4</th>\n      <td>0.0000</td>\n      <td>-0.00196</td>\n      <td>500</td>\n      <td>7000</td>\n      <td>9000</td>\n      <td>696.80</td>\n    </tr>\n    <tr>\n      <th>...</th>\n      <td>...</td>\n      <td>...</td>\n      <td>...</td>\n      <td>...</td>\n      <td>...</td>\n      <td>...</td>\n    </tr>\n    <tr>\n      <th>100646</th>\n      <td>0.0025</td>\n      <td>0.00196</td>\n      <td>500</td>\n      <td>7000</td>\n      <td>9000</td>\n      <td>578.47</td>\n    </tr>\n    <tr>\n      <th>100647</th>\n      <td>0.0025</td>\n      <td>0.00197</td>\n      <td>500</td>\n      <td>7000</td>\n      <td>9000</td>\n      <td>576.89</td>\n    </tr>\n    <tr>\n      <th>100648</th>\n      <td>0.0025</td>\n      <td>0.00198</td>\n      <td>500</td>\n      <td>7000</td>\n      <td>9000</td>\n      <td>575.32</td>\n    </tr>\n    <tr>\n      <th>100649</th>\n      <td>0.0025</td>\n      <td>0.00199</td>\n      <td>500</td>\n      <td>7000</td>\n      <td>9000</td>\n      <td>573.76</td>\n    </tr>\n    <tr>\n      <th>100650</th>\n      <td>0.0025</td>\n      <td>0.00200</td>\n      <td>500</td>\n      <td>7000</td>\n      <td>9000</td>\n      <td>572.20</td>\n    </tr>\n  </tbody>\n</table>\n<p>100651 rows × 6 columns</p>\n</div>"
     },
     "execution_count": 2,
     "metadata": {},
     "output_type": "execute_result"
    }
   ],
   "source": [
    "#data = pd.read_pickle('C:/Users/erikm/Desktop/Diplomarbeit Erik Marr/Daten/Finish/TPath_300_finish_data.pkl')\n",
    "data = pd.read_pickle('C:/Users/erikm/Desktop/Diplomarbeit Erik Marr/Daten/Finish_D1_I7000_F9000/TPath_500_finish_data_D1.pkl')\n",
    "\n",
    "data"
   ]
  },
  {
   "cell_type": "code",
   "execution_count": 3,
   "id": "966e3c74",
   "metadata": {
    "ExecuteTime": {
     "end_time": "2024-02-21T15:02:19.691753100Z",
     "start_time": "2024-02-21T15:02:19.675618100Z"
    }
   },
   "outputs": [
    {
     "data": {
      "text/plain": "        X-Koordinate  Y-Koordinate  Temperatur\n0             0.0000      -0.00200      669.05\n1             0.0000      -0.00199      675.83\n2             0.0000      -0.00198      682.81\n3             0.0000      -0.00197      689.82\n4             0.0000      -0.00196      696.80\n...              ...           ...         ...\n100646        0.0025       0.00196      578.47\n100647        0.0025       0.00197      576.89\n100648        0.0025       0.00198      575.32\n100649        0.0025       0.00199      573.76\n100650        0.0025       0.00200      572.20\n\n[100651 rows x 3 columns]",
      "text/html": "<div>\n<style scoped>\n    .dataframe tbody tr th:only-of-type {\n        vertical-align: middle;\n    }\n\n    .dataframe tbody tr th {\n        vertical-align: top;\n    }\n\n    .dataframe thead th {\n        text-align: right;\n    }\n</style>\n<table border=\"1\" class=\"dataframe\">\n  <thead>\n    <tr style=\"text-align: right;\">\n      <th></th>\n      <th>X-Koordinate</th>\n      <th>Y-Koordinate</th>\n      <th>Temperatur</th>\n    </tr>\n  </thead>\n  <tbody>\n    <tr>\n      <th>0</th>\n      <td>0.0000</td>\n      <td>-0.00200</td>\n      <td>669.05</td>\n    </tr>\n    <tr>\n      <th>1</th>\n      <td>0.0000</td>\n      <td>-0.00199</td>\n      <td>675.83</td>\n    </tr>\n    <tr>\n      <th>2</th>\n      <td>0.0000</td>\n      <td>-0.00198</td>\n      <td>682.81</td>\n    </tr>\n    <tr>\n      <th>3</th>\n      <td>0.0000</td>\n      <td>-0.00197</td>\n      <td>689.82</td>\n    </tr>\n    <tr>\n      <th>4</th>\n      <td>0.0000</td>\n      <td>-0.00196</td>\n      <td>696.80</td>\n    </tr>\n    <tr>\n      <th>...</th>\n      <td>...</td>\n      <td>...</td>\n      <td>...</td>\n    </tr>\n    <tr>\n      <th>100646</th>\n      <td>0.0025</td>\n      <td>0.00196</td>\n      <td>578.47</td>\n    </tr>\n    <tr>\n      <th>100647</th>\n      <td>0.0025</td>\n      <td>0.00197</td>\n      <td>576.89</td>\n    </tr>\n    <tr>\n      <th>100648</th>\n      <td>0.0025</td>\n      <td>0.00198</td>\n      <td>575.32</td>\n    </tr>\n    <tr>\n      <th>100649</th>\n      <td>0.0025</td>\n      <td>0.00199</td>\n      <td>573.76</td>\n    </tr>\n    <tr>\n      <th>100650</th>\n      <td>0.0025</td>\n      <td>0.00200</td>\n      <td>572.20</td>\n    </tr>\n  </tbody>\n</table>\n<p>100651 rows × 3 columns</p>\n</div>"
     },
     "execution_count": 3,
     "metadata": {},
     "output_type": "execute_result"
    }
   ],
   "source": [
    "df = data.drop(data.columns[2:5], axis = 1)\n",
    "df"
   ]
  },
  {
   "cell_type": "code",
   "execution_count": 4,
   "id": "8783d1d6",
   "metadata": {
    "ExecuteTime": {
     "end_time": "2024-02-21T15:02:19.962356200Z",
     "start_time": "2024-02-21T15:02:19.868081Z"
    }
   },
   "outputs": [
    {
     "name": "stdout",
     "output_type": "stream",
     "text": [
      "       X-Koordinate  Y-Koordinate  Temperatur\n",
      "83145       0.00207      -0.00062      1282.2\n",
      "66701       0.00166      -0.00065      1347.6\n",
      "91325       0.00227       0.00098      1094.6\n",
      "46593       0.00116      -0.00123      1175.7\n",
      "49518       0.00123      -0.00005      1459.2\n",
      "...             ...           ...         ...\n",
      "6265        0.00015       0.00050      1439.1\n",
      "54886       0.00136       0.00150       876.7\n",
      "76820       0.00191       0.00029      1335.8\n",
      "860         0.00002      -0.00142      1071.2\n",
      "15795       0.00039      -0.00044      1488.1\n",
      "\n",
      "[100651 rows x 3 columns]\n"
     ]
    },
    {
     "data": {
      "text/plain": "        X-Koordinate  Y-Koordinate  Temperatur\n0            0.00207      -0.00062      1282.2\n1            0.00166      -0.00065      1347.6\n2            0.00227       0.00098      1094.6\n3            0.00116      -0.00123      1175.7\n4            0.00123      -0.00005      1459.2\n...              ...           ...         ...\n100646       0.00015       0.00050      1439.1\n100647       0.00136       0.00150       876.7\n100648       0.00191       0.00029      1335.8\n100649       0.00002      -0.00142      1071.2\n100650       0.00039      -0.00044      1488.1\n\n[100651 rows x 3 columns]",
      "text/html": "<div>\n<style scoped>\n    .dataframe tbody tr th:only-of-type {\n        vertical-align: middle;\n    }\n\n    .dataframe tbody tr th {\n        vertical-align: top;\n    }\n\n    .dataframe thead th {\n        text-align: right;\n    }\n</style>\n<table border=\"1\" class=\"dataframe\">\n  <thead>\n    <tr style=\"text-align: right;\">\n      <th></th>\n      <th>X-Koordinate</th>\n      <th>Y-Koordinate</th>\n      <th>Temperatur</th>\n    </tr>\n  </thead>\n  <tbody>\n    <tr>\n      <th>0</th>\n      <td>0.00207</td>\n      <td>-0.00062</td>\n      <td>1282.2</td>\n    </tr>\n    <tr>\n      <th>1</th>\n      <td>0.00166</td>\n      <td>-0.00065</td>\n      <td>1347.6</td>\n    </tr>\n    <tr>\n      <th>2</th>\n      <td>0.00227</td>\n      <td>0.00098</td>\n      <td>1094.6</td>\n    </tr>\n    <tr>\n      <th>3</th>\n      <td>0.00116</td>\n      <td>-0.00123</td>\n      <td>1175.7</td>\n    </tr>\n    <tr>\n      <th>4</th>\n      <td>0.00123</td>\n      <td>-0.00005</td>\n      <td>1459.2</td>\n    </tr>\n    <tr>\n      <th>...</th>\n      <td>...</td>\n      <td>...</td>\n      <td>...</td>\n    </tr>\n    <tr>\n      <th>100646</th>\n      <td>0.00015</td>\n      <td>0.00050</td>\n      <td>1439.1</td>\n    </tr>\n    <tr>\n      <th>100647</th>\n      <td>0.00136</td>\n      <td>0.00150</td>\n      <td>876.7</td>\n    </tr>\n    <tr>\n      <th>100648</th>\n      <td>0.00191</td>\n      <td>0.00029</td>\n      <td>1335.8</td>\n    </tr>\n    <tr>\n      <th>100649</th>\n      <td>0.00002</td>\n      <td>-0.00142</td>\n      <td>1071.2</td>\n    </tr>\n    <tr>\n      <th>100650</th>\n      <td>0.00039</td>\n      <td>-0.00044</td>\n      <td>1488.1</td>\n    </tr>\n  </tbody>\n</table>\n<p>100651 rows × 3 columns</p>\n</div>"
     },
     "execution_count": 4,
     "metadata": {},
     "output_type": "execute_result"
    }
   ],
   "source": [
    "df1 = df.sample(frac=1, random_state=42)  # Hier wird 42 als Random State verwendet, um die Ergebnisse reproduzierbar zu machen\n",
    "\n",
    "print(df1)\n",
    "df_reset = df1.reset_index(drop=True)\n",
    "df_reset"
   ]
  },
  {
   "cell_type": "code",
   "execution_count": 5,
   "id": "a4e72a16",
   "metadata": {
    "ExecuteTime": {
     "end_time": "2024-02-21T15:02:20.140727800Z",
     "start_time": "2024-02-21T15:02:20.090555100Z"
    }
   },
   "outputs": [],
   "source": [
    "label = df_reset[\"Temperatur\"]\n",
    "# Korrektur: Verwenden Sie den Spaltennamen direkt, ohne Indexierung der columns-Eigenschaft\n",
    "df1 = df_reset.drop(\"Temperatur\", axis=1)\n",
    "X = df1\n",
    "y = label\n"
   ]
  },
  {
   "cell_type": "markdown",
   "source": [],
   "metadata": {
    "collapsed": false
   },
   "id": "f7fa289a50d87423"
  },
  {
   "cell_type": "code",
   "execution_count": 6,
   "id": "e694a236",
   "metadata": {
    "ExecuteTime": {
     "end_time": "2024-02-21T15:02:20.528544600Z",
     "start_time": "2024-02-21T15:02:20.458244Z"
    }
   },
   "outputs": [
    {
     "data": {
      "text/plain": "        X-Koordinate  Y-Koordinate\ncount  100651.000000  1.006510e+05\nmean        0.001250  1.103042e-20\nstd         0.000725  1.157589e-03\nmin         0.000000 -2.000000e-03\n25%         0.000620 -1.000000e-03\n50%         0.001250  4.529900e-18\n75%         0.001880  1.000000e-03\nmax         0.002500  2.000000e-03",
      "text/html": "<div>\n<style scoped>\n    .dataframe tbody tr th:only-of-type {\n        vertical-align: middle;\n    }\n\n    .dataframe tbody tr th {\n        vertical-align: top;\n    }\n\n    .dataframe thead th {\n        text-align: right;\n    }\n</style>\n<table border=\"1\" class=\"dataframe\">\n  <thead>\n    <tr style=\"text-align: right;\">\n      <th></th>\n      <th>X-Koordinate</th>\n      <th>Y-Koordinate</th>\n    </tr>\n  </thead>\n  <tbody>\n    <tr>\n      <th>count</th>\n      <td>100651.000000</td>\n      <td>1.006510e+05</td>\n    </tr>\n    <tr>\n      <th>mean</th>\n      <td>0.001250</td>\n      <td>1.103042e-20</td>\n    </tr>\n    <tr>\n      <th>std</th>\n      <td>0.000725</td>\n      <td>1.157589e-03</td>\n    </tr>\n    <tr>\n      <th>min</th>\n      <td>0.000000</td>\n      <td>-2.000000e-03</td>\n    </tr>\n    <tr>\n      <th>25%</th>\n      <td>0.000620</td>\n      <td>-1.000000e-03</td>\n    </tr>\n    <tr>\n      <th>50%</th>\n      <td>0.001250</td>\n      <td>4.529900e-18</td>\n    </tr>\n    <tr>\n      <th>75%</th>\n      <td>0.001880</td>\n      <td>1.000000e-03</td>\n    </tr>\n    <tr>\n      <th>max</th>\n      <td>0.002500</td>\n      <td>2.000000e-03</td>\n    </tr>\n  </tbody>\n</table>\n</div>"
     },
     "execution_count": 6,
     "metadata": {},
     "output_type": "execute_result"
    }
   ],
   "source": [
    "X.describe()"
   ]
  },
  {
   "cell_type": "code",
   "execution_count": 7,
   "id": "3f3303b4",
   "metadata": {
    "ExecuteTime": {
     "end_time": "2024-02-21T15:02:20.686284300Z",
     "start_time": "2024-02-21T15:02:20.631281100Z"
    }
   },
   "outputs": [
    {
     "data": {
      "text/plain": "count    100651.000000\nmean       1144.030064\nstd         264.135723\nmin         572.200000\n25%         937.330000\n50%        1201.100000\n75%        1368.700000\nmax        1520.000000\nName: Temperatur, dtype: float64"
     },
     "execution_count": 7,
     "metadata": {},
     "output_type": "execute_result"
    }
   ],
   "source": [
    "y.describe()\n"
   ]
  },
  {
   "cell_type": "code",
   "execution_count": 8,
   "id": "e3ad8da0",
   "metadata": {
    "ExecuteTime": {
     "end_time": "2024-02-21T15:02:21.529444700Z",
     "start_time": "2024-02-21T15:02:21.474426700Z"
    }
   },
   "outputs": [],
   "source": [
    " # train_df enthält 80% der Daten, test_df enthält 20% der Daten\n",
    "X_train, X_test, y_train, y_test = train_test_split(X, y, test_size=0.20, random_state=42)\n"
   ]
  },
  {
   "cell_type": "code",
   "execution_count": 9,
   "id": "9c705edb",
   "metadata": {
    "ExecuteTime": {
     "end_time": "2024-02-21T15:02:21.928216500Z",
     "start_time": "2024-02-21T15:02:21.919539800Z"
    }
   },
   "outputs": [],
   "source": [
    "# Initialisiere einen MinMaxScaler für die Features\n",
    "scaler_features = MinMaxScaler()\n",
    "scaler_features2 = MinMaxScaler()\n",
    "# Skaliere X_train und X_test\n",
    "X_train_scaled = scaler_features.fit_transform(X_train)\n",
    "X_test_scaled = scaler_features.transform(X_test)  # Nutze unterschiedliche Skalierungsparameter\n",
    "\n",
    "# Initialisiere einen SEPARATEN MinMaxScaler für das Ziel, wenn nötig\n",
    "scaler_target = MinMaxScaler()\n",
    "\n",
    "\n",
    "# Skaliere y_train und y_test. Beachte, dass y_train.reshape(-1, 1) verwendet wird, da MinMaxScaler \n",
    "# erwartet, dass die Eingaben als 2D-Arrays kommen, und Ziele normalerweise als 1D-Arrays vorliegen.\n",
    "y_train_scaled = scaler_target.fit_transform(y_train.values.reshape(-1, 1))\n",
    "y_test_scaled = scaler_target.transform(y_test.values.reshape(-1, 1))\n"
   ]
  },
  {
   "cell_type": "code",
   "execution_count": 10,
   "id": "bbefe631e495b483",
   "metadata": {
    "ExecuteTime": {
     "end_time": "2024-02-21T15:02:22.481937200Z",
     "start_time": "2024-02-21T15:02:22.443806200Z"
    }
   },
   "outputs": [
    {
     "data": {
      "text/plain": "array([[0.416 , 0.5725],\n       [0.812 , 0.7325],\n       [0.628 , 0.5075],\n       ...,\n       [0.604 , 0.3875],\n       [0.748 , 0.65  ],\n       [0.028 , 0.6225]])"
     },
     "execution_count": 10,
     "metadata": {},
     "output_type": "execute_result"
    }
   ],
   "source": [
    "X_train_scaled"
   ]
  },
  {
   "cell_type": "code",
   "execution_count": 11,
   "id": "a6eccbb7534cd064",
   "metadata": {
    "ExecuteTime": {
     "end_time": "2024-02-21T15:02:24.939744400Z",
     "start_time": "2024-02-21T15:02:24.915733200Z"
    }
   },
   "outputs": [],
   "source": [
    "# Lernplan erstellen\n",
    "#initial_learning_rate = 0.1\n",
    "#lr_schedule = tf.keras.optimizers.schedules.ExponentialDecay(\n",
    "#    initial_learning_rate, decay_steps=100, decay_rate=0.9, staircase=True)"
   ]
  },
  {
   "cell_type": "code",
   "execution_count": 22,
   "outputs": [
    {
     "name": "stdout",
     "output_type": "stream",
     "text": [
      "Epoch 1/100\n",
      "1289/1289 [==============================] - 3s 2ms/step - loss: 0.1124 - mae: 0.0331 - val_loss: 0.0758 - val_mae: 0.0065\n",
      "Epoch 2/100\n",
      "1289/1289 [==============================] - 2s 2ms/step - loss: 0.0618 - mae: 0.0116 - val_loss: 0.0493 - val_mae: 0.0053\n",
      "Epoch 3/100\n",
      "1289/1289 [==============================] - 2s 2ms/step - loss: 0.0398 - mae: 0.0099 - val_loss: 0.0309 - val_mae: 0.0075\n",
      "Epoch 4/100\n",
      "1289/1289 [==============================] - 2s 2ms/step - loss: 0.0242 - mae: 0.0096 - val_loss: 0.0182 - val_mae: 0.0069\n",
      "Epoch 5/100\n",
      "1289/1289 [==============================] - 2s 2ms/step - loss: 0.0140 - mae: 0.0098 - val_loss: 0.0103 - val_mae: 0.0061\n",
      "Epoch 6/100\n",
      "1289/1289 [==============================] - 2s 2ms/step - loss: 0.0080 - mae: 0.0088 - val_loss: 0.0060 - val_mae: 0.0087\n",
      "Epoch 7/100\n",
      "1289/1289 [==============================] - 2s 2ms/step - loss: 0.0047 - mae: 0.0081 - val_loss: 0.0036 - val_mae: 0.0061\n",
      "Epoch 8/100\n",
      "1289/1289 [==============================] - 2s 2ms/step - loss: 0.0031 - mae: 0.0091 - val_loss: 0.0025 - val_mae: 0.0080\n",
      "Epoch 9/100\n",
      "1289/1289 [==============================] - 2s 2ms/step - loss: 0.0022 - mae: 0.0085 - val_loss: 0.0021 - val_mae: 0.0160\n",
      "Epoch 10/100\n",
      "1289/1289 [==============================] - 2s 2ms/step - loss: 0.0017 - mae: 0.0085 - val_loss: 0.0015 - val_mae: 0.0047\n",
      "Epoch 11/100\n",
      "1289/1289 [==============================] - 2s 2ms/step - loss: 0.0015 - mae: 0.0085 - val_loss: 0.0013 - val_mae: 0.0046\n",
      "Epoch 12/100\n",
      "1289/1289 [==============================] - 2s 2ms/step - loss: 0.0014 - mae: 0.0087 - val_loss: 0.0013 - val_mae: 0.0093\n",
      "Epoch 13/100\n",
      "1289/1289 [==============================] - 2s 2ms/step - loss: 0.0012 - mae: 0.0081 - val_loss: 0.0013 - val_mae: 0.0100\n",
      "Epoch 14/100\n",
      "1289/1289 [==============================] - 2s 2ms/step - loss: 0.0012 - mae: 0.0083 - val_loss: 0.0011 - val_mae: 0.0057\n",
      "Epoch 15/100\n",
      "1289/1289 [==============================] - 2s 2ms/step - loss: 0.0011 - mae: 0.0081 - val_loss: 0.0010 - val_mae: 0.0062\n",
      "Epoch 16/100\n",
      "1289/1289 [==============================] - 2s 2ms/step - loss: 0.0011 - mae: 0.0081 - val_loss: 0.0011 - val_mae: 0.0079\n",
      "Epoch 17/100\n",
      "1289/1289 [==============================] - 2s 2ms/step - loss: 0.0011 - mae: 0.0083 - val_loss: 0.0013 - val_mae: 0.0145\n",
      "Epoch 18/100\n",
      "1289/1289 [==============================] - 2s 2ms/step - loss: 9.9195e-04 - mae: 0.0073 - val_loss: 0.0010 - val_mae: 0.0100\n",
      "Epoch 19/100\n",
      "1289/1289 [==============================] - 2s 2ms/step - loss: 9.9400e-04 - mae: 0.0079 - val_loss: 9.1259e-04 - val_mae: 0.0060\n",
      "Epoch 20/100\n",
      "1289/1289 [==============================] - 2s 2ms/step - loss: 9.4619e-04 - mae: 0.0074 - val_loss: 9.3585e-04 - val_mae: 0.0078\n",
      "Epoch 21/100\n",
      "1289/1289 [==============================] - 2s 2ms/step - loss: 9.2205e-04 - mae: 0.0077 - val_loss: 8.7968e-04 - val_mae: 0.0081\n",
      "Epoch 22/100\n",
      "1289/1289 [==============================] - 2s 2ms/step - loss: 8.8177e-04 - mae: 0.0076 - val_loss: 9.7525e-04 - val_mae: 0.0119\n",
      "Epoch 23/100\n",
      "1289/1289 [==============================] - 2s 2ms/step - loss: 8.4202e-04 - mae: 0.0073 - val_loss: 7.6234e-04 - val_mae: 0.0045\n",
      "Epoch 24/100\n",
      "1289/1289 [==============================] - 2s 2ms/step - loss: 8.0623e-04 - mae: 0.0069 - val_loss: 9.0579e-04 - val_mae: 0.0129\n",
      "Epoch 25/100\n",
      "1289/1289 [==============================] - 2s 2ms/step - loss: 7.8936e-04 - mae: 0.0068 - val_loss: 7.4905e-04 - val_mae: 0.0059\n",
      "Epoch 26/100\n",
      "1289/1289 [==============================] - 2s 2ms/step - loss: 7.7566e-04 - mae: 0.0069 - val_loss: 8.4229e-04 - val_mae: 0.0114\n",
      "Epoch 27/100\n",
      "1289/1289 [==============================] - 2s 2ms/step - loss: 7.8519e-04 - mae: 0.0073 - val_loss: 7.4450e-04 - val_mae: 0.0065\n",
      "Epoch 28/100\n",
      "1289/1289 [==============================] - 2s 2ms/step - loss: 7.5655e-04 - mae: 0.0068 - val_loss: 7.8681e-04 - val_mae: 0.0088\n",
      "Epoch 29/100\n",
      "1289/1289 [==============================] - 2s 2ms/step - loss: 7.4807e-04 - mae: 0.0068 - val_loss: 8.2191e-04 - val_mae: 0.0114\n",
      "Epoch 30/100\n",
      "1289/1289 [==============================] - ETA: 0s - loss: 7.5107e-04 - mae: 0.0070Restoring model weights from the end of the best epoch: 25.\n",
      "1289/1289 [==============================] - 2s 2ms/step - loss: 7.5107e-04 - mae: 0.0070 - val_loss: 7.4744e-04 - val_mae: 0.0081\n",
      "Epoch 30: early stopping\n",
      "Die Ausführungszeit betrug 62.224000215530396 Sekunden.\n"
     ]
    }
   ],
   "source": [
    "start_time = time.time()\n",
    "# Netzwerkarchitektur\n",
    "model = Sequential([\n",
    "    # Eingabeschicht\n",
    "    Dense(224, activation='relu', input_shape=(2,), kernel_initializer='he_uniform', kernel_regularizer=l2(0.0001)),\n",
    "    #Dropout(0.01),\n",
    "    # Versteckte Schicht\n",
    "    Dense(32, activation='relu', kernel_initializer='he_uniform', kernel_regularizer=l2(0.0001)),\n",
    "    Dense(96, activation='relu', kernel_initializer='he_uniform', kernel_regularizer=l2(0.0001)),\n",
    "    #Dropout(0.01),\n",
    "    # Ausgabeschicht für Regression (1 Einheit ohne Aktivierungsfunktion)\n",
    "    Dense(224, activation='relu', kernel_initializer='he_uniform', kernel_regularizer=l2(0.0001)),\n",
    "    Dense(128, activation='relu', kernel_initializer='he_uniform', kernel_regularizer=l2(0.0001)),\n",
    "    Dense(352, activation='relu', kernel_initializer='he_uniform', kernel_regularizer=l2(0.0001)),\n",
    "    \n",
    "    Dense(1 , activation = 'linear')\n",
    "])\n",
    "\n",
    "# Optimierer\n",
    "optimizer = tf.keras.optimizers.Adam(learning_rate=0.001)\n",
    "\n",
    "# Modell kompilieren (Verwendung von mean_squared_error als Verlustfunktion für Regression)\n",
    "model.compile(optimizer=optimizer,\n",
    "              loss='mean_squared_error',\n",
    "              metrics=['mae'])  # Metriken für Regression: Mean Absolute Error und Mean Squared Error\n",
    "\n",
    "# Early Stopping Callback\n",
    "early_stopping = EarlyStopping(monitor='loss', patience=5, verbose=2, mode='min', restore_best_weights=True, min_delta = 0.00005)\n",
    "\n",
    "# Trainingsparameter\n",
    "batch_size = 50\n",
    "epochs = 100\n",
    "\n",
    "# Modell trainieren (Annahme: X_train, y_train, X_val, y_val sind vordefiniert)\n",
    "history = model.fit(X_train_scaled, y_train_scaled,\n",
    "                    batch_size=batch_size,\n",
    "                    epochs=epochs,\n",
    "                    validation_split=0.2,\n",
    "                    callbacks=[early_stopping],\n",
    "                    verbose = 1)\n",
    "\n",
    "end_time = time.time()\n",
    "\n",
    "# Berechne die Dauer\n",
    "duration = end_time - start_time\n",
    "\n",
    "print(f\"Die Ausführungszeit betrug {duration} Sekunden.\")"
   ],
   "metadata": {
    "collapsed": false,
    "ExecuteTime": {
     "end_time": "2024-02-21T18:24:54.232977500Z",
     "start_time": "2024-02-21T18:23:52.010731Z"
    }
   },
   "id": "8b52e1a9a6ff3aeb"
  },
  {
   "cell_type": "code",
   "execution_count": 23,
   "id": "9f6f672a",
   "metadata": {
    "ExecuteTime": {
     "end_time": "2024-02-21T18:29:19.654636600Z",
     "start_time": "2024-02-21T18:29:18.488222100Z"
    }
   },
   "outputs": [
    {
     "name": "stdout",
     "output_type": "stream",
     "text": [
      " Bsp. Predicted: [1202.3224] Actual: [1195.9] \n",
      "Durchschnittliche Abweichung (MAE): [5.56051763]\n"
     ]
    }
   ],
   "source": [
    "scaled_predicted_values = model.predict(X_test_scaled, verbose = 0)\n",
    "\n",
    "# Führen Sie die Rücktransformation der skalierten Werte durch\n",
    "original_predicted_values = scaler_target.inverse_transform(scaled_predicted_values)\n",
    "original_actual_values = scaler_target.inverse_transform(y_test_scaled)  # y_test sind die skalierten tatsächlichen Werte\n",
    "print(f' Bsp. Predicted: {original_predicted_values[1000]} Actual: {original_actual_values[1000]} ')\n",
    "\n",
    "def calculate_mae(list1, list2):\n",
    "    # Stelle sicher, dass beide Listen die gleiche Länge haben\n",
    "    if len(list1) != len(list2):\n",
    "        raise ValueError(\"Listen müssen die gleiche Länge haben\")\n",
    "    \n",
    "    # Berechne die absolute Differenz zwischen den Elementen der Listen\n",
    "    differences = [abs(x - y) for x, y in zip(list1, list2)]\n",
    "    \n",
    "    # Berechne den Durchschnitt der absoluten Differenzen\n",
    "    mae = sum(differences) / len(differences)\n",
    "    \n",
    "    return mae\n",
    "\n",
    "# Beispiel\n",
    "list1 = original_predicted_values\n",
    "list2 = original_actual_values\n",
    "\n",
    "mae = calculate_mae(list1, list2)\n",
    "print(f\"Durchschnittliche Abweichung (MAE): {mae}\")\n"
   ]
  },
  {
   "cell_type": "code",
   "execution_count": 25,
   "outputs": [
    {
     "name": "stdout",
     "output_type": "stream",
     "text": [
      "Anzahl der Werte die kleiner sind: 2035\n"
     ]
    },
    {
     "data": {
      "text/plain": "             Echt  Vorhergesagt  X-Koordinate  Y-Koordinate  Differenz\n19281  777.257812        807.84         1.000        0.9125 -30.582188\n14143  803.717285        832.75         1.000        0.9025 -29.032715\n16514  810.329468        838.63         1.000        0.9000 -28.300532\n4160   777.189209        805.35         0.992        0.9125 -28.160791\n9896   763.958801        791.74         0.992        0.9175 -27.781199\n...           ...           ...           ...           ...        ...\n18290  692.531189        661.65         0.860        0.0000  30.881189\n9782   697.264343        665.99         0.920        0.0000  31.274343\n11547  696.947754        665.34         0.916        0.0000  31.607754\n7694   699.166809        667.48         0.944        0.0000  31.686809\n1409   698.532593        666.57         0.936        0.0000  31.962593\n\n[20131 rows x 5 columns]",
      "text/html": "<div>\n<style scoped>\n    .dataframe tbody tr th:only-of-type {\n        vertical-align: middle;\n    }\n\n    .dataframe tbody tr th {\n        vertical-align: top;\n    }\n\n    .dataframe thead th {\n        text-align: right;\n    }\n</style>\n<table border=\"1\" class=\"dataframe\">\n  <thead>\n    <tr style=\"text-align: right;\">\n      <th></th>\n      <th>Echt</th>\n      <th>Vorhergesagt</th>\n      <th>X-Koordinate</th>\n      <th>Y-Koordinate</th>\n      <th>Differenz</th>\n    </tr>\n  </thead>\n  <tbody>\n    <tr>\n      <th>19281</th>\n      <td>777.257812</td>\n      <td>807.84</td>\n      <td>1.000</td>\n      <td>0.9125</td>\n      <td>-30.582188</td>\n    </tr>\n    <tr>\n      <th>14143</th>\n      <td>803.717285</td>\n      <td>832.75</td>\n      <td>1.000</td>\n      <td>0.9025</td>\n      <td>-29.032715</td>\n    </tr>\n    <tr>\n      <th>16514</th>\n      <td>810.329468</td>\n      <td>838.63</td>\n      <td>1.000</td>\n      <td>0.9000</td>\n      <td>-28.300532</td>\n    </tr>\n    <tr>\n      <th>4160</th>\n      <td>777.189209</td>\n      <td>805.35</td>\n      <td>0.992</td>\n      <td>0.9125</td>\n      <td>-28.160791</td>\n    </tr>\n    <tr>\n      <th>9896</th>\n      <td>763.958801</td>\n      <td>791.74</td>\n      <td>0.992</td>\n      <td>0.9175</td>\n      <td>-27.781199</td>\n    </tr>\n    <tr>\n      <th>...</th>\n      <td>...</td>\n      <td>...</td>\n      <td>...</td>\n      <td>...</td>\n      <td>...</td>\n    </tr>\n    <tr>\n      <th>18290</th>\n      <td>692.531189</td>\n      <td>661.65</td>\n      <td>0.860</td>\n      <td>0.0000</td>\n      <td>30.881189</td>\n    </tr>\n    <tr>\n      <th>9782</th>\n      <td>697.264343</td>\n      <td>665.99</td>\n      <td>0.920</td>\n      <td>0.0000</td>\n      <td>31.274343</td>\n    </tr>\n    <tr>\n      <th>11547</th>\n      <td>696.947754</td>\n      <td>665.34</td>\n      <td>0.916</td>\n      <td>0.0000</td>\n      <td>31.607754</td>\n    </tr>\n    <tr>\n      <th>7694</th>\n      <td>699.166809</td>\n      <td>667.48</td>\n      <td>0.944</td>\n      <td>0.0000</td>\n      <td>31.686809</td>\n    </tr>\n    <tr>\n      <th>1409</th>\n      <td>698.532593</td>\n      <td>666.57</td>\n      <td>0.936</td>\n      <td>0.0000</td>\n      <td>31.962593</td>\n    </tr>\n  </tbody>\n</table>\n<p>20131 rows × 5 columns</p>\n</div>"
     },
     "execution_count": 25,
     "metadata": {},
     "output_type": "execute_result"
    }
   ],
   "source": [
    "df_result = pd.DataFrame({'Echt': [val[0] for val in list1], 'Vorhergesagt': [val[0] for val in list2]})\n",
    "df_result['X-Koordinate'] = X_test_scaled[:, 0]\n",
    "df_result['Y-Koordinate'] = X_test_scaled[:, 1]\n",
    "\n",
    "df_result['Differenz'] = df_result['Echt'] - df_result['Vorhergesagt']\n",
    "df_result['Differenz'].sort_values()\n",
    "sorted_df = df_result.sort_values(by= 'Differenz')\n",
    "Anzahl_Punkte = (sorted_df['Differenz'] > 10).sum()\n",
    "print(\"Anzahl der Werte die kleiner sind:\", Anzahl_Punkte)\n",
    " \n",
    "sorted_df"
   ],
   "metadata": {
    "collapsed": false,
    "ExecuteTime": {
     "end_time": "2024-02-21T18:34:24.625894700Z",
     "start_time": "2024-02-21T18:34:24.571806900Z"
    }
   },
   "id": "42bde60d3b4f2007"
  },
  {
   "cell_type": "markdown",
   "id": "553df6fa",
   "metadata": {},
   "source": []
  },
  {
   "cell_type": "code",
   "execution_count": 26,
   "outputs": [
    {
     "data": {
      "text/plain": "<Figure size 1000x600 with 1 Axes>",
      "image/png": "[encoded data removed]"
     },
     "metadata": {},
     "output_type": "display_data"
    }
   ],
   "source": [
    "mae = history.history['mae']\n",
    "val_mae = history.history['val_mae']\n",
    "\n",
    "epochs = range(1, len(mae) + 1)\n",
    "# MAE Diagramm\n",
    "plt.figure(figsize=(10, 6))\n",
    "plt.plot(epochs, mae, 'r', label='Training MAE')\n",
    "plt.plot(epochs, val_mae, 'b', label='Validation MAE')\n",
    "plt.title('Training and Validation MAE')\n",
    "plt.xlabel('Epochs')\n",
    "plt.ylabel('MAE')\n",
    "plt.legend()\n",
    "plt.show()"
   ],
   "metadata": {
    "collapsed": false,
    "ExecuteTime": {
     "end_time": "2024-02-21T18:34:26.380928800Z",
     "start_time": "2024-02-21T18:34:26.070749Z"
    }
   },
   "id": "3688dd7102e95baf"
  },
  {
   "cell_type": "markdown",
   "source": [
    "\n",
    "# GridSearch\n",
    "Grid Search bietet die Vorteile der anpassbaren Rechenzeit sowie die Möglichkeit des EInsatzes von Verteilungen. So können theoretisch Hyperparamterkonfuigurationen gefunden wende, welche durch GridSearch nicht auffindbar wären. ZUdem ist das Ziel der Hyperparamteroptimierung eine Einstellung zu finden, welche auf Trainings und Testset gut angepasst ist. Die EInstellung muss nicht die bestmöglichste Einstellung sein, sondern eine Einstellung die das gewähltre Problem gut wiederspiegelt. \n",
    "Bayesian Optimierung"
   ],
   "metadata": {
    "collapsed": false
   },
   "id": "9c177960cc729052"
  },
  {
   "cell_type": "code",
   "execution_count": null,
   "id": "1dca80c2",
   "metadata": {},
   "outputs": [],
   "source": [
    "# Schritt 1: Definiere dein Modell als eine Funktion, die Hyperparameter akzeptiert\n",
    "def build_model(optimizer='adam', activation='relu'):\n",
    "    model = Sequential()\n",
    "    model.add(Dense(units=32, activation=activation, input_dim=X_train_scaled.shape[1]))\n",
    "    model.add(Dense(units=8, activation=activation))\n",
    "    model.add(Dense(units=1, activation='linear'))\n",
    "    model.compile(optimizer=optimizer, loss='mean_squared_error', metrics=['mae'])\n",
    "    return model\n",
    "\n",
    "# Schritt 2: Erstelle eine Instanz von KerasRegressor ohne batch_size und epochs im param_grid\n",
    "model = KerasRegressor(model=build_model, verbose=0)\n",
    "\n",
    "# Schritt 3: Definiere den Parameter-Raum für die Grid-Suche OHNE batch_size und epochs\n",
    "param_grid = {\n",
    "    'model__optimizer': ['adam', 'sgd'],\n",
    "    'model__activation': ['relu', 'sigmoid']\n",
    "}\n",
    "\n",
    "# Optional: Definiere Fit-Parameter (wie batch_size und epochs) separat\n",
    "fit_params = {\n",
    "    'batch_size': 32,\n",
    "    'epochs': 100\n",
    "}\n",
    "\n",
    "# Schritt 4: Führe GridSearchCV aus mit fit_params, wenn nötig\n",
    "grid = GridSearchCV(estimator=model, param_grid=param_grid, n_jobs=-1, cv=3)\n",
    "grid_result = grid.fit(X_train_scaled, y_train_scaled, **fit_params)\n",
    "\n",
    "# Ergebnisse ausgeben\n",
    "print(\"Best: %f using %s\" % (grid_result.best_score_, grid_result.best_params_))\n",
    "for mean_score, params in zip(grid_result.cv_results_['mean_test_score'], grid_result.cv_results_['params']):\n",
    "    print(\"%f with: %r\" % (mean_score, params))\n"
   ]
  },
  {
   "cell_type": "code",
   "execution_count": null,
   "id": "3f17e2cf",
   "metadata": {},
   "outputs": [],
   "source": [
    "def build_model(optimizer='adam', activation='relu'):\n",
    "    model = Sequential()\n",
    "    model.add(Dense(units=64, activation=activation, input_dim=X_train_scaled.shape[1]))\n",
    "    model.add(Dense(units=32, activation=activation))\n",
    "    model.add(Dense(units=1, activation='linear'))\n",
    "    model.compile(optimizer=optimizer, loss='mean_squared_error', metrics=['mean_squared_error'])\n",
    "    return model\n",
    "\n",
    "model = KerasRegressor(model=build_model, verbose=1)\n",
    "\n",
    "param_grid = {\n",
    "    'model__optimizer': ['adam', 'sgd'],\n",
    "    'model__activation': ['relu', 'tanh'],\n",
    "    'fit__batch_size': [10, 20, 32, 50, 100],  # Testen verschiedener batch_size Werte\n",
    "    'fit__epochs': [5, 10]  # Optional: Testen verschiedener epoch Werte\n",
    "}\n",
    "\n",
    "grid = GridSearchCV(estimator=model, param_grid=param_grid, n_jobs=-1, cv=3)\n",
    "grid_result = grid.fit(X_train_scaled, y_train_scaled)\n",
    "\n",
    "# Ergebnisse ausgeben\n",
    "print(\"Best: %f using %s\" % (grid_result.best_score_, grid_result.best_params_))\n",
    "for mean_score, params in zip(grid_result.cv_results_['mean_test_score'], grid_result.cv_results_['params']):\n",
    "    print(\"%f with: %r\" % (mean_score, params))\n"
   ]
  },
  {
   "cell_type": "code",
   "execution_count": null,
   "id": "492cf0ed",
   "metadata": {},
   "outputs": [],
   "source": []
  },
  {
   "cell_type": "code",
   "execution_count": 37,
   "outputs": [
    {
     "name": "stdout",
     "output_type": "stream",
     "text": [
      "Trial 20 Complete [00h 00m 46s]\n",
      "val_mae: 0.005825335392728448\n",
      "\n",
      "Best val_mae So Far: 0.0035446375841274858\n",
      "Total elapsed time: 00h 15m 04s\n",
      "Die besten Hyperparameter sind: {'units_input': 32, 'units_hidden1': 96, 'units_hidden2': 32, 'learning_rate': 0.001}\n"
     ]
    }
   ],
   "source": [
    "class RegressionHyperModel(HyperModel):\n",
    "    def __init__(self, input_shape):\n",
    "        self.input_shape = input_shape\n",
    "\n",
    "    def build(self, hp):\n",
    "        model = Sequential()\n",
    "        model.add(Dense(\n",
    "            units=hp.Int('units_input', min_value=16, max_value=124, step=16),\n",
    "            activation='relu',\n",
    "            input_shape=self.input_shape,\n",
    "            kernel_initializer='he_uniform',\n",
    "            kernel_regularizer=l2(0.0001)\n",
    "        ))\n",
    "        model.add(Dense(\n",
    "            units=hp.Int('units_hidden1', min_value=16, max_value=124, step=16),\n",
    "            activation='relu',\n",
    "            kernel_initializer='he_uniform',\n",
    "            kernel_regularizer=l2(0.0001)\n",
    "        ))\n",
    "        model.add(Dense(\n",
    "            units=hp.Int('units_hidden2', min_value=16, max_value=124, step=16),\n",
    "            activation='relu',\n",
    "            kernel_initializer='he_uniform',\n",
    "            kernel_regularizer=l2(0.0001) \n",
    "        ))\n",
    "        model.add(Dense(1, activation='linear'))\n",
    "\n",
    "        model.compile(\n",
    "            optimizer=Adam(hp.Choice('learning_rate', values=[1e-2, 1e-3, 1e-4])),\n",
    "            loss='mean_squared_error',\n",
    "            metrics=['mae']\n",
    "        )\n",
    "        return model\n",
    "\n",
    "# Setzen Sie die richtige Eingabeform hier, z.B. (2,)\n",
    "hypermodel = RegressionHyperModel(input_shape=(2,))\n",
    "\n",
    "tuner = RandomSearch(\n",
    "    hypermodel,\n",
    "    objective='val_mae',\n",
    "    max_trials=20,\n",
    "    executions_per_trial=2,\n",
    "    directory='my_dir',\n",
    "    project_name='keras_tuner_demo4'\n",
    ")\n",
    "\n",
    "# Beachten Sie, dass X_train_scaled, y_train_scaled durch Ihre tatsächlichen Trainingsdaten ersetzt werden müssen.\n",
    "tuner.search(X_train_scaled, y_train_scaled, epochs=10, validation_split=0.2, callbacks=[EarlyStopping(monitor='val_loss', patience=5)])\n",
    "\n",
    "# Die besten Hyperparameter bekommen\n",
    "best_hps = tuner.get_best_hyperparameters(num_trials=1)[0]\n",
    "print(f\"Die besten Hyperparameter sind: {best_hps.values}\")\n",
    "\n",
    "# Das beste Modell mit den optimalen Hyperparametern trainieren\n",
    "#model = tuner.hypermodel.build(best_hps)\n",
    "# Hier müssen Sie die tatsächlichen Trainings- und Validierungsdaten einfügen\n",
    "#history = model.fit(X_train_scaled, y_train_scaled, epochs=100, validation_split=0.2, callbacks=[EarlyStopping(monitor='val_loss', patience=5, restore_best_weights=True)])\n"
   ],
   "metadata": {
    "collapsed": false
   },
   "id": "9e4c339eeed37479"
  },
  {
   "cell_type": "markdown",
   "source": [],
   "metadata": {
    "collapsed": false
   },
   "id": "6751193b14f574a1"
  },
  {
   "cell_type": "code",
   "execution_count": 16,
   "outputs": [
    {
     "name": "stdout",
     "output_type": "stream",
     "text": [
      "|   iter    |  target   | learni... | neuron... | neuron... | neuron... | neuron... | neuron... |\n",
      "-------------------------------------------------------------------------------------------------\n",
      "Restoring model weights from the end of the best epoch: 12.\n",
      "Epoch 17: early stopping\n",
      "| \u001B[0m1        \u001B[0m | \u001B[0m-0.000638\u001B[0m | \u001B[0m0.004229 \u001B[0m | \u001B[0m148.5    \u001B[0m | \u001B[0m16.02    \u001B[0m | \u001B[0m71.63    \u001B[0m | \u001B[0m43.0     \u001B[0m | \u001B[0m32.99    \u001B[0m |\n",
      "Restoring model weights from the end of the best epoch: 14.\n",
      "Epoch 19: early stopping\n",
      "| \u001B[95m2        \u001B[0m | \u001B[95m-0.000562\u001B[0m | \u001B[95m0.001944 \u001B[0m | \u001B[95m79.58    \u001B[0m | \u001B[95m89.01    \u001B[0m | \u001B[95m115.1    \u001B[0m | \u001B[95m93.13    \u001B[0m | \u001B[95m142.1    \u001B[0m |\n",
      "Restoring model weights from the end of the best epoch: 13.\n",
      "Epoch 18: early stopping\n",
      "| \u001B[0m3        \u001B[0m | \u001B[0m-0.000766\u001B[0m | \u001B[0m0.005658 \u001B[0m | \u001B[0m85.07    \u001B[0m | \u001B[0m104.1    \u001B[0m | \u001B[0m119.3    \u001B[0m | \u001B[0m41.35    \u001B[0m | \u001B[0m134.6    \u001B[0m |\n",
      "Restoring model weights from the end of the best epoch: 11.\n",
      "Epoch 16: early stopping\n",
      "| \u001B[0m4        \u001B[0m | \u001B[0m-0.000834\u001B[0m | \u001B[0m0.008647 \u001B[0m | \u001B[0m85.11    \u001B[0m | \u001B[0m86.15    \u001B[0m | \u001B[0m110.5    \u001B[0m | \u001B[0m103.4    \u001B[0m | \u001B[0m144.2    \u001B[0m |\n",
      "Restoring model weights from the end of the best epoch: 15.\n",
      "Epoch 20: early stopping\n",
      "| \u001B[0m5        \u001B[0m | \u001B[0m-0.000733\u001B[0m | \u001B[0m0.008982 \u001B[0m | \u001B[0m113.5    \u001B[0m | \u001B[0m26.86    \u001B[0m | \u001B[0m170.1    \u001B[0m | \u001B[0m57.75    \u001B[0m | \u001B[0m50.06    \u001B[0m |\n",
      "Restoring model weights from the end of the best epoch: 7.\n",
      "Epoch 12: early stopping\n",
      "| \u001B[0m6        \u001B[0m | \u001B[0m-0.000743\u001B[0m | \u001B[0m0.004154 \u001B[0m | \u001B[0m38.5     \u001B[0m | \u001B[0m150.3    \u001B[0m | \u001B[0m175.7    \u001B[0m | \u001B[0m138.0    \u001B[0m | \u001B[0m88.68    \u001B[0m |\n",
      "Restoring model weights from the end of the best epoch: 16.\n",
      "Epoch 21: early stopping\n",
      "| \u001B[0m7        \u001B[0m | \u001B[0m-0.000796\u001B[0m | \u001B[0m0.009176 \u001B[0m | \u001B[0m33.41    \u001B[0m | \u001B[0m197.5    \u001B[0m | \u001B[0m190.2    \u001B[0m | \u001B[0m18.45    \u001B[0m | \u001B[0m99.55    \u001B[0m |\n",
      "Restoring model weights from the end of the best epoch: 12.\n",
      "Epoch 17: early stopping\n",
      "| \u001B[0m8        \u001B[0m | \u001B[0m-0.000782\u001B[0m | \u001B[0m0.006971 \u001B[0m | \u001B[0m121.5    \u001B[0m | \u001B[0m76.55    \u001B[0m | \u001B[0m146.6    \u001B[0m | \u001B[0m162.7    \u001B[0m | \u001B[0m21.59    \u001B[0m |\n",
      "Restoring model weights from the end of the best epoch: 17.\n",
      "Epoch 22: early stopping\n",
      "| \u001B[95m9        \u001B[0m | \u001B[95m-0.000546\u001B[0m | \u001B[95m0.002098 \u001B[0m | \u001B[95m70.04    \u001B[0m | \u001B[95m45.3     \u001B[0m | \u001B[95m67.57    \u001B[0m | \u001B[95m165.3    \u001B[0m | \u001B[95m146.0    \u001B[0m |\n",
      "Restoring model weights from the end of the best epoch: 34.\n",
      "Epoch 39: early stopping\n",
      "| \u001B[0m10       \u001B[0m | \u001B[0m-0.000793\u001B[0m | \u001B[0m0.0001457\u001B[0m | \u001B[0m167.1    \u001B[0m | \u001B[0m110.3    \u001B[0m | \u001B[0m114.7    \u001B[0m | \u001B[0m151.9    \u001B[0m | \u001B[0m189.9    \u001B[0m |\n",
      "Restoring model weights from the end of the best epoch: 20.\n",
      "Epoch 25: early stopping\n",
      "| \u001B[0m11       \u001B[0m | \u001B[0m-0.000610\u001B[0m | \u001B[0m0.0004375\u001B[0m | \u001B[0m148.2    \u001B[0m | \u001B[0m174.9    \u001B[0m | \u001B[0m71.28    \u001B[0m | \u001B[0m171.8    \u001B[0m | \u001B[0m93.63    \u001B[0m |\n",
      "Restoring model weights from the end of the best epoch: 17.\n",
      "Epoch 22: early stopping\n",
      "| \u001B[0m12       \u001B[0m | \u001B[0m-0.000757\u001B[0m | \u001B[0m0.008991 \u001B[0m | \u001B[0m31.9     \u001B[0m | \u001B[0m119.0    \u001B[0m | \u001B[0m62.88    \u001B[0m | \u001B[0m155.0    \u001B[0m | \u001B[0m59.75    \u001B[0m |\n",
      "Restoring model weights from the end of the best epoch: 10.\n",
      "Epoch 15: early stopping\n",
      "| \u001B[0m13       \u001B[0m | \u001B[0m-0.000891\u001B[0m | \u001B[0m0.00989  \u001B[0m | \u001B[0m153.3    \u001B[0m | \u001B[0m75.35    \u001B[0m | \u001B[0m84.86    \u001B[0m | \u001B[0m76.01    \u001B[0m | \u001B[0m122.9    \u001B[0m |\n",
      "Restoring model weights from the end of the best epoch: 12.\n",
      "Epoch 17: early stopping\n",
      "| \u001B[0m14       \u001B[0m | \u001B[0m-0.000719\u001B[0m | \u001B[0m0.007607 \u001B[0m | \u001B[0m53.49    \u001B[0m | \u001B[0m58.95    \u001B[0m | \u001B[0m123.7    \u001B[0m | \u001B[0m157.1    \u001B[0m | \u001B[0m193.7    \u001B[0m |\n",
      "Restoring model weights from the end of the best epoch: 14.\n",
      "Epoch 19: early stopping\n",
      "| \u001B[0m15       \u001B[0m | \u001B[0m-0.000742\u001B[0m | \u001B[0m0.008752 \u001B[0m | \u001B[0m198.6    \u001B[0m | \u001B[0m87.49    \u001B[0m | \u001B[0m174.8    \u001B[0m | \u001B[0m161.6    \u001B[0m | \u001B[0m149.4    \u001B[0m |\n",
      "Restoring model weights from the end of the best epoch: 25.\n",
      "Epoch 30: early stopping\n",
      "| \u001B[0m16       \u001B[0m | \u001B[0m-0.000624\u001B[0m | \u001B[0m0.0002723\u001B[0m | \u001B[0m76.96    \u001B[0m | \u001B[0m101.7    \u001B[0m | \u001B[0m68.82    \u001B[0m | \u001B[0m133.2    \u001B[0m | \u001B[0m89.11    \u001B[0m |\n",
      "Restoring model weights from the end of the best epoch: 19.\n",
      "Epoch 24: early stopping\n",
      "| \u001B[0m17       \u001B[0m | \u001B[0m-0.000692\u001B[0m | \u001B[0m0.005645 \u001B[0m | \u001B[0m124.5    \u001B[0m | \u001B[0m149.4    \u001B[0m | \u001B[0m155.6    \u001B[0m | \u001B[0m96.35    \u001B[0m | \u001B[0m137.5    \u001B[0m |\n",
      "Restoring model weights from the end of the best epoch: 26.\n",
      "Epoch 31: early stopping\n",
      "| \u001B[95m18       \u001B[0m | \u001B[95m-0.000504\u001B[0m | \u001B[95m0.0008563\u001B[0m | \u001B[95m139.4    \u001B[0m | \u001B[95m143.1    \u001B[0m | \u001B[95m142.2    \u001B[0m | \u001B[95m67.5     \u001B[0m | \u001B[95m129.6    \u001B[0m |\n",
      "Restoring model weights from the end of the best epoch: 7.\n",
      "Epoch 12: early stopping\n",
      "| \u001B[0m19       \u001B[0m | \u001B[0m-0.000737\u001B[0m | \u001B[0m0.008334 \u001B[0m | \u001B[0m17.35    \u001B[0m | \u001B[0m23.21    \u001B[0m | \u001B[0m164.6    \u001B[0m | \u001B[0m32.63    \u001B[0m | \u001B[0m155.2    \u001B[0m |\n",
      "Restoring model weights from the end of the best epoch: 14.\n",
      "Epoch 19: early stopping\n",
      "| \u001B[0m20       \u001B[0m | \u001B[0m-0.000575\u001B[0m | \u001B[0m0.001016 \u001B[0m | \u001B[0m198.8    \u001B[0m | \u001B[0m101.1    \u001B[0m | \u001B[0m41.64    \u001B[0m | \u001B[0m70.41    \u001B[0m | \u001B[0m37.44    \u001B[0m |\n",
      "Restoring model weights from the end of the best epoch: 15.\n",
      "Epoch 20: early stopping\n",
      "| \u001B[0m21       \u001B[0m | \u001B[0m-0.000635\u001B[0m | \u001B[0m0.001644 \u001B[0m | \u001B[0m28.21    \u001B[0m | \u001B[0m184.1    \u001B[0m | \u001B[0m34.07    \u001B[0m | \u001B[0m73.35    \u001B[0m | \u001B[0m133.9    \u001B[0m |\n",
      "Restoring model weights from the end of the best epoch: 14.\n",
      "Epoch 19: early stopping\n",
      "| \u001B[0m22       \u001B[0m | \u001B[0m-0.000690\u001B[0m | \u001B[0m0.004116 \u001B[0m | \u001B[0m150.9    \u001B[0m | \u001B[0m173.6    \u001B[0m | \u001B[0m198.3    \u001B[0m | \u001B[0m173.2    \u001B[0m | \u001B[0m61.95    \u001B[0m |\n",
      "=================================================================================================\n",
      "{'target': -0.0005042816046625376, 'params': {'learning_rate': 0.0008562808887904138, 'neurons_layer_1': 139.37382512499065, 'neurons_layer_2': 143.13142125355472, 'neurons_layer_3': 142.17467953414652, 'neurons_layer_4': 67.50109625880788, 'neurons_layer_5': 129.5541186323257}}\n"
     ]
    }
   ],
   "source": [
    "from bayes_opt import BayesianOptimization\n",
    "\n",
    "\n",
    "# Angenommene Daten\n",
    "# X_train_scaled, y_train_scaled = # Deine skalierten Trainingsdaten\n",
    "\n",
    "def train_evaluate(neurons_layer_1, neurons_layer_2, neurons_layer_3, neurons_layer_4, neurons_layer_5, learning_rate):\n",
    "    model = Sequential([\n",
    "        Dense(int(neurons_layer_1), activation='relu', input_shape=(2,), kernel_initializer='he_uniform', kernel_regularizer=l2(0.0001)),\n",
    "        Dense(int(neurons_layer_2), activation='relu', kernel_initializer='he_uniform', kernel_regularizer=l2(0.0001)),\n",
    "        Dense(int(neurons_layer_3), activation='relu', kernel_initializer='he_uniform', kernel_regularizer=l2(0.0001)),\n",
    "        Dense(int(neurons_layer_4), activation='relu', kernel_initializer='he_uniform', kernel_regularizer=l2(0.0001)),\n",
    "        Dense(int(neurons_layer_5), activation='relu', kernel_initializer='he_uniform', kernel_regularizer=l2(0.0001)),\n",
    "        \n",
    "        Dense(1, activation='linear')\n",
    "    ])\n",
    "\n",
    "    optimizer = tf.keras.optimizers.Adam(learning_rate=learning_rate)\n",
    "    model.compile(optimizer=optimizer, loss='mean_squared_error', metrics=['mae'])\n",
    "\n",
    "    early_stopping = EarlyStopping(monitor='loss', patience=5, verbose=1, mode='min', restore_best_weights=True, min_delta=0.0001)\n",
    "\n",
    "    history = model.fit(X_train_scaled, y_train_scaled, batch_size=32, epochs=100, validation_split=0.2, callbacks=[early_stopping], verbose=0)\n",
    "\n",
    "    # Hier wählen wir den negativen Mean Squared Error, da Bayesian Optimization maximiert\n",
    "    mse = np.min(history.history['val_loss'])\n",
    "    return -mse\n",
    "\n",
    "# Definieren des Bereichs der Hyperparameter\n",
    "pbounds = {\n",
    "    'neurons_layer_1': (16, 200),\n",
    "    'neurons_layer_2': (16, 200),\n",
    "    'neurons_layer_3': (16, 200),\n",
    "    'neurons_layer_4': (16, 200),\n",
    "    'neurons_layer_5': (16, 200),\n",
    "    'learning_rate': (0.0001, 0.01),\n",
    "}\n",
    "\n",
    "# Initialisieren des BayesianOptimization-Objekts\n",
    "optimizer = BayesianOptimization(\n",
    "    f=train_evaluate,\n",
    "    pbounds=pbounds,\n",
    "    random_state=1,\n",
    ")\n",
    "\n",
    "# Starten der Optimierung\n",
    "optimizer.maximize(init_points=2, n_iter=20)\n",
    "\n",
    "print(optimizer.max)\n"
   ],
   "metadata": {
    "collapsed": false,
    "ExecuteTime": {
     "end_time": "2024-02-21T15:22:26.910485500Z",
     "start_time": "2024-02-21T15:05:40.545629700Z"
    }
   },
   "id": "a5b6232547cdae67"
  },
  {
   "cell_type": "code",
   "execution_count": 18,
   "outputs": [
    {
     "name": "stdout",
     "output_type": "stream",
     "text": [
      "Trial 100 Complete [00h 00m 48s]\n",
      "val_loss: 1.355679523840081e-05\n",
      "\n",
      "Best val_loss So Far: 1.3108049188303994e-06\n",
      "Total elapsed time: 01h 41m 02s\n",
      "Model: \"sequential\"\n",
      "_________________________________________________________________\n",
      " Layer (type)                Output Shape              Param #   \n",
      "=================================================================\n",
      " dense (Dense)               (None, 224)               672       \n",
      "                                                                 \n",
      " dense_1 (Dense)             (None, 32)                7200      \n",
      "                                                                 \n",
      " dense_2 (Dense)             (None, 96)                3168      \n",
      "                                                                 \n",
      " dense_3 (Dense)             (None, 224)               21728     \n",
      "                                                                 \n",
      " dense_4 (Dense)             (None, 128)               28800     \n",
      "                                                                 \n",
      " dense_5 (Dense)             (None, 352)               45408     \n",
      "                                                                 \n",
      " dense_6 (Dense)             (None, 1)                 353       \n",
      "                                                                 \n",
      "=================================================================\n",
      "Total params: 107329 (419.25 KB)\n",
      "Trainable params: 107329 (419.25 KB)\n",
      "Non-trainable params: 0 (0.00 Byte)\n",
      "_________________________________________________________________\n",
      "{'input_units': 224, 'n_layers': 5, 'units_0': 32, 'units_1': 96, 'units_2': 224, 'units_3': 128, 'units_4': 352, 'units_5': 448, 'units_6': 64, 'units_7': 448, 'units_8': 480, 'units_9': 480}\n"
     ]
    }
   ],
   "source": [
    "from keras_tuner import RandomSearch\n",
    "\n",
    "# Definieren der Funktion, die das Modell erstellt\n",
    "def build_model(hp):\n",
    "    model = Sequential()\n",
    "    model.add(Dense(hp.Int('input_units', min_value=32, max_value=512, step=32), input_shape=(2,), activation='relu'))\n",
    "    # Hinzufügen von Schichten basierend auf dem Suchraum\n",
    "    for i in range(hp.Int('n_layers', 1, 10)):\n",
    "        model.add(Dense(hp.Int(f'units_{i}', min_value=32, max_value=512, step=32), activation='relu'))\n",
    "    model.add(Dense(1, activation='linear'))\n",
    "    model.compile(optimizer='adam', loss='mean_squared_error')\n",
    "    return model\n",
    "\n",
    "# Erstellen des RandomSearch Objekts\n",
    "tuner = RandomSearch(\n",
    "    build_model,\n",
    "    objective='val_loss',\n",
    "    max_trials=100,  # Anzahl der zu testenden Modellkonfigurationen\n",
    "    executions_per_trial=1,  # Anzahl der Male, die jede Modellkonfiguration trainiert wird\n",
    "    directory='random_search',  # Verzeichnis zur Speicherung der Suchlogs\n",
    "    project_name='neural_network_optimization'\n",
    ")\n",
    "\n",
    "# Durchführung des Random Search\n",
    "tuner.search(X_train_scaled, y_train_scaled, epochs=20, batch_size=50, validation_split=0.2, callbacks=[EarlyStopping(monitor='val_loss', patience=5)])\n",
    "\n",
    "# Abrufen des besten Modells\n",
    "best_model = tuner.get_best_models(num_models=1)[0]\n",
    "\n",
    "# Zusammenfassung des besten Modells\n",
    "best_model.summary()\n",
    "\n",
    "# Sie können auch die besten Hyperparameter direkt abrufen\n",
    "best_hyperparameters = tuner.get_best_hyperparameters()[0]\n",
    "print(best_hyperparameters.values) "
   ],
   "metadata": {
    "collapsed": false
   },
   "id": "4bcbb2bbe83bfb6b"
  },
  {
   "cell_type": "code",
   "execution_count": null,
   "outputs": [],
   "source": [],
   "metadata": {
    "collapsed": false
   },
   "id": "c6a6fa208c5d8a01"
  }
 ],
 "metadata": {
  "kernelspec": {
   "display_name": "Python 3 (ipykernel)",
   "language": "python",
   "name": "python3"
  },
  "language_info": {
   "codemirror_mode": {
    "name": "ipython",
    "version": 3
   },
   "file_extension": ".py",
   "mimetype": "text/x-python",
   "name": "python",
   "nbconvert_exporter": "python",
   "pygments_lexer": "ipython3",
   "version": "3.11.4"
  }
 },
 "nbformat": 4,
 "nbformat_minor": 5
}
