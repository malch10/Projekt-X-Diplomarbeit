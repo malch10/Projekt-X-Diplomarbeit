{
 "cells": [
  {
   "cell_type": "code",
   "execution_count": 1,
   "id": "94b0518e",
   "metadata": {
    "ExecuteTime": {
     "end_time": "2024-02-29T22:53:38.615514300Z",
     "start_time": "2024-02-29T22:53:26.165838900Z"
    }
   },
   "outputs": [
    {
     "name": "stdout",
     "output_type": "stream",
     "text": [
      "WARNING:tensorflow:From C:\\Users\\erikm\\Desktop\\Diplomarbeit Erik Marr\\Projekt X\\venv\\Lib\\site-packages\\keras\\src\\losses.py:2976: The name tf.losses.sparse_softmax_cross_entropy is deprecated. Please use tf.compat.v1.losses.sparse_softmax_cross_entropy instead.\n"
     ]
    }
   ],
   "source": [
    "import numpy as np\n",
    "import os\n",
    "import tensorflow as tf\n",
    "import matplotlib.pyplot as plt\n",
    "from sklearn.model_selection import train_test_split\n",
    "from sklearn.preprocessing import MinMaxScaler\n",
    "import pandas as pd\n",
    "from tensorflow.keras.layers import Dense , Dropout\n",
    "from scikeras.wrappers import KerasRegressor \n",
    "from tensorflow.keras.callbacks import EarlyStopping\n",
    "import time\n",
    "from keras.models import Sequential\n",
    "from keras.layers import Dense, Dropout\n",
    "from keras.optimizers import Adam\n",
    "from keras.regularizers import l2\n",
    "from keras.callbacks import EarlyStopping\n",
    "from keras_tuner import RandomSearch\n",
    "from tensorflow.keras.models import Sequential\n",
    "from tensorflow.keras.layers import Dense\n",
    "from tensorflow.keras.optimizers import Adam\n",
    "from tensorflow.keras.regularizers import l2\n",
    "from sklearn.model_selection import GridSearchCV"
   ]
  },
  {
   "cell_type": "code",
   "execution_count": 2,
   "id": "e4ff61b1",
   "metadata": {
    "ExecuteTime": {
     "end_time": "2024-02-29T22:53:38.643668100Z",
     "start_time": "2024-02-29T22:53:38.615514300Z"
    }
   },
   "outputs": [
    {
     "data": {
      "text/plain": "        X-Koordinate  Y-Koordinate  Zeitpunkt  Strom  Kraft  Temperatur\n0             0.0000      -0.00200        500   7000   9000      669.05\n1             0.0000      -0.00199        500   7000   9000      675.83\n2             0.0000      -0.00198        500   7000   9000      682.81\n3             0.0000      -0.00197        500   7000   9000      689.82\n4             0.0000      -0.00196        500   7000   9000      696.80\n...              ...           ...        ...    ...    ...         ...\n100646        0.0025       0.00196        500   7000   9000      578.47\n100647        0.0025       0.00197        500   7000   9000      576.89\n100648        0.0025       0.00198        500   7000   9000      575.32\n100649        0.0025       0.00199        500   7000   9000      573.76\n100650        0.0025       0.00200        500   7000   9000      572.20\n\n[100651 rows x 6 columns]",
      "text/html": "<div>\n<style scoped>\n    .dataframe tbody tr th:only-of-type {\n        vertical-align: middle;\n    }\n\n    .dataframe tbody tr th {\n        vertical-align: top;\n    }\n\n    .dataframe thead th {\n        text-align: right;\n    }\n</style>\n<table border=\"1\" class=\"dataframe\">\n  <thead>\n    <tr style=\"text-align: right;\">\n      <th></th>\n      <th>X-Koordinate</th>\n      <th>Y-Koordinate</th>\n      <th>Zeitpunkt</th>\n      <th>Strom</th>\n      <th>Kraft</th>\n      <th>Temperatur</th>\n    </tr>\n  </thead>\n  <tbody>\n    <tr>\n      <th>0</th>\n      <td>0.0000</td>\n      <td>-0.00200</td>\n      <td>500</td>\n      <td>7000</td>\n      <td>9000</td>\n      <td>669.05</td>\n    </tr>\n    <tr>\n      <th>1</th>\n      <td>0.0000</td>\n      <td>-0.00199</td>\n      <td>500</td>\n      <td>7000</td>\n      <td>9000</td>\n      <td>675.83</td>\n    </tr>\n    <tr>\n      <th>2</th>\n      <td>0.0000</td>\n      <td>-0.00198</td>\n      <td>500</td>\n      <td>7000</td>\n      <td>9000</td>\n      <td>682.81</td>\n    </tr>\n    <tr>\n      <th>3</th>\n      <td>0.0000</td>\n      <td>-0.00197</td>\n      <td>500</td>\n      <td>7000</td>\n      <td>9000</td>\n      <td>689.82</td>\n    </tr>\n    <tr>\n      <th>4</th>\n      <td>0.0000</td>\n      <td>-0.00196</td>\n      <td>500</td>\n      <td>7000</td>\n      <td>9000</td>\n      <td>696.80</td>\n    </tr>\n    <tr>\n      <th>...</th>\n      <td>...</td>\n      <td>...</td>\n      <td>...</td>\n      <td>...</td>\n      <td>...</td>\n      <td>...</td>\n    </tr>\n    <tr>\n      <th>100646</th>\n      <td>0.0025</td>\n      <td>0.00196</td>\n      <td>500</td>\n      <td>7000</td>\n      <td>9000</td>\n      <td>578.47</td>\n    </tr>\n    <tr>\n      <th>100647</th>\n      <td>0.0025</td>\n      <td>0.00197</td>\n      <td>500</td>\n      <td>7000</td>\n      <td>9000</td>\n      <td>576.89</td>\n    </tr>\n    <tr>\n      <th>100648</th>\n      <td>0.0025</td>\n      <td>0.00198</td>\n      <td>500</td>\n      <td>7000</td>\n      <td>9000</td>\n      <td>575.32</td>\n    </tr>\n    <tr>\n      <th>100649</th>\n      <td>0.0025</td>\n      <td>0.00199</td>\n      <td>500</td>\n      <td>7000</td>\n      <td>9000</td>\n      <td>573.76</td>\n    </tr>\n    <tr>\n      <th>100650</th>\n      <td>0.0025</td>\n      <td>0.00200</td>\n      <td>500</td>\n      <td>7000</td>\n      <td>9000</td>\n      <td>572.20</td>\n    </tr>\n  </tbody>\n</table>\n<p>100651 rows × 6 columns</p>\n</div>"
     },
     "execution_count": 2,
     "metadata": {},
     "output_type": "execute_result"
    }
   ],
   "source": [
    "#data = pd.read_pickle('C:/Users/erikm/Desktop/Diplomarbeit Erik Marr/Daten/Finish/TPath_300_finish_data.pkl')\n",
    "data = pd.read_pickle('C:/Users/erikm/Desktop/Diplomarbeit Erik Marr/Daten/Finish_D1_I7000_F9000/TPath_500_finish_data_D1.pkl')\n",
    "\n",
    "data"
   ]
  },
  {
   "cell_type": "code",
   "execution_count": 3,
   "id": "966e3c74",
   "metadata": {
    "ExecuteTime": {
     "end_time": "2024-02-29T22:53:38.649312Z",
     "start_time": "2024-02-29T22:53:38.639668800Z"
    }
   },
   "outputs": [
    {
     "data": {
      "text/plain": "        X-Koordinate  Y-Koordinate  Temperatur\n0             0.0000      -0.00200      669.05\n1             0.0000      -0.00199      675.83\n2             0.0000      -0.00198      682.81\n3             0.0000      -0.00197      689.82\n4             0.0000      -0.00196      696.80\n...              ...           ...         ...\n100646        0.0025       0.00196      578.47\n100647        0.0025       0.00197      576.89\n100648        0.0025       0.00198      575.32\n100649        0.0025       0.00199      573.76\n100650        0.0025       0.00200      572.20\n\n[100651 rows x 3 columns]",
      "text/html": "<div>\n<style scoped>\n    .dataframe tbody tr th:only-of-type {\n        vertical-align: middle;\n    }\n\n    .dataframe tbody tr th {\n        vertical-align: top;\n    }\n\n    .dataframe thead th {\n        text-align: right;\n    }\n</style>\n<table border=\"1\" class=\"dataframe\">\n  <thead>\n    <tr style=\"text-align: right;\">\n      <th></th>\n      <th>X-Koordinate</th>\n      <th>Y-Koordinate</th>\n      <th>Temperatur</th>\n    </tr>\n  </thead>\n  <tbody>\n    <tr>\n      <th>0</th>\n      <td>0.0000</td>\n      <td>-0.00200</td>\n      <td>669.05</td>\n    </tr>\n    <tr>\n      <th>1</th>\n      <td>0.0000</td>\n      <td>-0.00199</td>\n      <td>675.83</td>\n    </tr>\n    <tr>\n      <th>2</th>\n      <td>0.0000</td>\n      <td>-0.00198</td>\n      <td>682.81</td>\n    </tr>\n    <tr>\n      <th>3</th>\n      <td>0.0000</td>\n      <td>-0.00197</td>\n      <td>689.82</td>\n    </tr>\n    <tr>\n      <th>4</th>\n      <td>0.0000</td>\n      <td>-0.00196</td>\n      <td>696.80</td>\n    </tr>\n    <tr>\n      <th>...</th>\n      <td>...</td>\n      <td>...</td>\n      <td>...</td>\n    </tr>\n    <tr>\n      <th>100646</th>\n      <td>0.0025</td>\n      <td>0.00196</td>\n      <td>578.47</td>\n    </tr>\n    <tr>\n      <th>100647</th>\n      <td>0.0025</td>\n      <td>0.00197</td>\n      <td>576.89</td>\n    </tr>\n    <tr>\n      <th>100648</th>\n      <td>0.0025</td>\n      <td>0.00198</td>\n      <td>575.32</td>\n    </tr>\n    <tr>\n      <th>100649</th>\n      <td>0.0025</td>\n      <td>0.00199</td>\n      <td>573.76</td>\n    </tr>\n    <tr>\n      <th>100650</th>\n      <td>0.0025</td>\n      <td>0.00200</td>\n      <td>572.20</td>\n    </tr>\n  </tbody>\n</table>\n<p>100651 rows × 3 columns</p>\n</div>"
     },
     "execution_count": 3,
     "metadata": {},
     "output_type": "execute_result"
    }
   ],
   "source": [
    "df = data.drop(data.columns[2:5], axis = 1)\n",
    "df"
   ]
  },
  {
   "cell_type": "code",
   "execution_count": 4,
   "id": "8783d1d6",
   "metadata": {
    "ExecuteTime": {
     "end_time": "2024-02-29T22:53:38.727205500Z",
     "start_time": "2024-02-29T22:53:38.649312Z"
    }
   },
   "outputs": [
    {
     "name": "stdout",
     "output_type": "stream",
     "text": [
      "       X-Koordinate  Y-Koordinate  Temperatur\n",
      "83145       0.00207      -0.00062      1282.2\n",
      "66701       0.00166      -0.00065      1347.6\n",
      "91325       0.00227       0.00098      1094.6\n",
      "46593       0.00116      -0.00123      1175.7\n",
      "49518       0.00123      -0.00005      1459.2\n",
      "...             ...           ...         ...\n",
      "6265        0.00015       0.00050      1439.1\n",
      "54886       0.00136       0.00150       876.7\n",
      "76820       0.00191       0.00029      1335.8\n",
      "860         0.00002      -0.00142      1071.2\n",
      "15795       0.00039      -0.00044      1488.1\n",
      "\n",
      "[100651 rows x 3 columns]\n"
     ]
    },
    {
     "data": {
      "text/plain": "        X-Koordinate  Y-Koordinate  Temperatur\n0            0.00207      -0.00062      1282.2\n1            0.00166      -0.00065      1347.6\n2            0.00227       0.00098      1094.6\n3            0.00116      -0.00123      1175.7\n4            0.00123      -0.00005      1459.2\n...              ...           ...         ...\n100646       0.00015       0.00050      1439.1\n100647       0.00136       0.00150       876.7\n100648       0.00191       0.00029      1335.8\n100649       0.00002      -0.00142      1071.2\n100650       0.00039      -0.00044      1488.1\n\n[100651 rows x 3 columns]",
      "text/html": "<div>\n<style scoped>\n    .dataframe tbody tr th:only-of-type {\n        vertical-align: middle;\n    }\n\n    .dataframe tbody tr th {\n        vertical-align: top;\n    }\n\n    .dataframe thead th {\n        text-align: right;\n    }\n</style>\n<table border=\"1\" class=\"dataframe\">\n  <thead>\n    <tr style=\"text-align: right;\">\n      <th></th>\n      <th>X-Koordinate</th>\n      <th>Y-Koordinate</th>\n      <th>Temperatur</th>\n    </tr>\n  </thead>\n  <tbody>\n    <tr>\n      <th>0</th>\n      <td>0.00207</td>\n      <td>-0.00062</td>\n      <td>1282.2</td>\n    </tr>\n    <tr>\n      <th>1</th>\n      <td>0.00166</td>\n      <td>-0.00065</td>\n      <td>1347.6</td>\n    </tr>\n    <tr>\n      <th>2</th>\n      <td>0.00227</td>\n      <td>0.00098</td>\n      <td>1094.6</td>\n    </tr>\n    <tr>\n      <th>3</th>\n      <td>0.00116</td>\n      <td>-0.00123</td>\n      <td>1175.7</td>\n    </tr>\n    <tr>\n      <th>4</th>\n      <td>0.00123</td>\n      <td>-0.00005</td>\n      <td>1459.2</td>\n    </tr>\n    <tr>\n      <th>...</th>\n      <td>...</td>\n      <td>...</td>\n      <td>...</td>\n    </tr>\n    <tr>\n      <th>100646</th>\n      <td>0.00015</td>\n      <td>0.00050</td>\n      <td>1439.1</td>\n    </tr>\n    <tr>\n      <th>100647</th>\n      <td>0.00136</td>\n      <td>0.00150</td>\n      <td>876.7</td>\n    </tr>\n    <tr>\n      <th>100648</th>\n      <td>0.00191</td>\n      <td>0.00029</td>\n      <td>1335.8</td>\n    </tr>\n    <tr>\n      <th>100649</th>\n      <td>0.00002</td>\n      <td>-0.00142</td>\n      <td>1071.2</td>\n    </tr>\n    <tr>\n      <th>100650</th>\n      <td>0.00039</td>\n      <td>-0.00044</td>\n      <td>1488.1</td>\n    </tr>\n  </tbody>\n</table>\n<p>100651 rows × 3 columns</p>\n</div>"
     },
     "execution_count": 4,
     "metadata": {},
     "output_type": "execute_result"
    }
   ],
   "source": [
    "df1 = df.sample(frac=1, random_state=42)  # Hier wird 42 als Random State verwendet, um die Ergebnisse reproduzierbar zu machen\n",
    "\n",
    "print(df1)\n",
    "df_reset = df1.reset_index(drop=True)\n",
    "df_reset"
   ]
  },
  {
   "cell_type": "code",
   "execution_count": 5,
   "id": "a4e72a16",
   "metadata": {
    "ExecuteTime": {
     "end_time": "2024-02-29T22:53:38.729205400Z",
     "start_time": "2024-02-29T22:53:38.665449400Z"
    }
   },
   "outputs": [],
   "source": [
    "label = df_reset[\"Temperatur\"]\n",
    "# Korrektur: Verwenden Sie den Spaltennamen direkt, ohne Indexierung der columns-Eigenschaft\n",
    "df1 = df_reset.drop(\"Temperatur\", axis=1)\n",
    "X = df1\n",
    "y = label\n"
   ]
  },
  {
   "cell_type": "markdown",
   "source": [],
   "metadata": {
    "collapsed": false
   },
   "id": "f7fa289a50d87423"
  },
  {
   "cell_type": "code",
   "execution_count": 6,
   "id": "e694a236",
   "metadata": {
    "ExecuteTime": {
     "end_time": "2024-02-29T22:53:38.776205200Z",
     "start_time": "2024-02-29T22:53:38.671035900Z"
    }
   },
   "outputs": [
    {
     "data": {
      "text/plain": "        X-Koordinate  Y-Koordinate\ncount  100651.000000  1.006510e+05\nmean        0.001250  1.103042e-20\nstd         0.000725  1.157589e-03\nmin         0.000000 -2.000000e-03\n25%         0.000620 -1.000000e-03\n50%         0.001250  4.529900e-18\n75%         0.001880  1.000000e-03\nmax         0.002500  2.000000e-03",
      "text/html": "<div>\n<style scoped>\n    .dataframe tbody tr th:only-of-type {\n        vertical-align: middle;\n    }\n\n    .dataframe tbody tr th {\n        vertical-align: top;\n    }\n\n    .dataframe thead th {\n        text-align: right;\n    }\n</style>\n<table border=\"1\" class=\"dataframe\">\n  <thead>\n    <tr style=\"text-align: right;\">\n      <th></th>\n      <th>X-Koordinate</th>\n      <th>Y-Koordinate</th>\n    </tr>\n  </thead>\n  <tbody>\n    <tr>\n      <th>count</th>\n      <td>100651.000000</td>\n      <td>1.006510e+05</td>\n    </tr>\n    <tr>\n      <th>mean</th>\n      <td>0.001250</td>\n      <td>1.103042e-20</td>\n    </tr>\n    <tr>\n      <th>std</th>\n      <td>0.000725</td>\n      <td>1.157589e-03</td>\n    </tr>\n    <tr>\n      <th>min</th>\n      <td>0.000000</td>\n      <td>-2.000000e-03</td>\n    </tr>\n    <tr>\n      <th>25%</th>\n      <td>0.000620</td>\n      <td>-1.000000e-03</td>\n    </tr>\n    <tr>\n      <th>50%</th>\n      <td>0.001250</td>\n      <td>4.529900e-18</td>\n    </tr>\n    <tr>\n      <th>75%</th>\n      <td>0.001880</td>\n      <td>1.000000e-03</td>\n    </tr>\n    <tr>\n      <th>max</th>\n      <td>0.002500</td>\n      <td>2.000000e-03</td>\n    </tr>\n  </tbody>\n</table>\n</div>"
     },
     "execution_count": 6,
     "metadata": {},
     "output_type": "execute_result"
    }
   ],
   "source": [
    "X.describe()"
   ]
  },
  {
   "cell_type": "code",
   "execution_count": 7,
   "id": "3f3303b4",
   "metadata": {
    "ExecuteTime": {
     "end_time": "2024-02-29T22:53:38.776205200Z",
     "start_time": "2024-02-29T22:53:38.689270Z"
    }
   },
   "outputs": [
    {
     "data": {
      "text/plain": "count    100651.000000\nmean       1144.030064\nstd         264.135723\nmin         572.200000\n25%         937.330000\n50%        1201.100000\n75%        1368.700000\nmax        1520.000000\nName: Temperatur, dtype: float64"
     },
     "execution_count": 7,
     "metadata": {},
     "output_type": "execute_result"
    }
   ],
   "source": [
    "y.describe()\n"
   ]
  },
  {
   "cell_type": "code",
   "execution_count": 8,
   "id": "e3ad8da0",
   "metadata": {
    "ExecuteTime": {
     "end_time": "2024-02-29T22:53:38.776205200Z",
     "start_time": "2024-02-29T22:53:38.700164300Z"
    }
   },
   "outputs": [],
   "source": [
    " # train_df enthält 80% der Daten, test_df enthält 20% der Daten\n",
    "X_train, X_test, y_train, y_test = train_test_split(X, y, test_size=0.20, random_state=42)\n"
   ]
  },
  {
   "cell_type": "code",
   "execution_count": 9,
   "id": "9c705edb",
   "metadata": {
    "ExecuteTime": {
     "end_time": "2024-02-29T22:53:38.793205500Z",
     "start_time": "2024-02-29T22:53:38.708121400Z"
    }
   },
   "outputs": [],
   "source": [
    "# Initialisiere einen MinMaxScaler für die Features\n",
    "scaler_features = MinMaxScaler()\n",
    "scaler_features2 = MinMaxScaler()\n",
    "# Skaliere X_train und X_test\n",
    "X_train_scaled = scaler_features.fit_transform(X_train)\n",
    "X_test_scaled = scaler_features.transform(X_test)  # Nutze unterschiedliche Skalierungsparameter\n",
    "\n",
    "# Initialisiere einen SEPARATEN MinMaxScaler für das Ziel, wenn nötig\n",
    "scaler_target = MinMaxScaler()\n",
    "\n",
    "\n",
    "# Skaliere y_train und y_test. Beachte, dass y_train.reshape(-1, 1) verwendet wird, da MinMaxScaler \n",
    "# erwartet, dass die Eingaben als 2D-Arrays kommen, und Ziele normalerweise als 1D-Arrays vorliegen.\n",
    "y_train_scaled = scaler_target.fit_transform(y_train.values.reshape(-1, 1))\n",
    "y_test_scaled = scaler_target.transform(y_test.values.reshape(-1, 1))\n"
   ]
  },
  {
   "cell_type": "code",
   "execution_count": 10,
   "id": "bbefe631e495b483",
   "metadata": {
    "ExecuteTime": {
     "end_time": "2024-02-29T22:53:38.794204700Z",
     "start_time": "2024-02-29T22:53:38.717743Z"
    }
   },
   "outputs": [
    {
     "data": {
      "text/plain": "array([[0.416 , 0.5725],\n       [0.812 , 0.7325],\n       [0.628 , 0.5075],\n       ...,\n       [0.604 , 0.3875],\n       [0.748 , 0.65  ],\n       [0.028 , 0.6225]])"
     },
     "execution_count": 10,
     "metadata": {},
     "output_type": "execute_result"
    }
   ],
   "source": [
    "X_train_scaled"
   ]
  },
  {
   "cell_type": "code",
   "execution_count": 37,
   "outputs": [
    {
     "name": "stdout",
     "output_type": "stream",
     "text": [
      "Epoch 1/400\n",
      "81/81 [==============================] - 2s 13ms/step - loss: 0.5078 - mae: 0.2564 - val_loss: 0.2939 - val_mae: 0.0674\n",
      "Epoch 2/400\n",
      "81/81 [==============================] - 1s 11ms/step - loss: 0.2691 - mae: 0.0405 - val_loss: 0.2499 - val_mae: 0.0128\n",
      "Epoch 3/400\n",
      "81/81 [==============================] - 1s 11ms/step - loss: 0.2422 - mae: 0.0214 - val_loss: 0.2345 - val_mae: 0.0191\n",
      "Epoch 4/400\n",
      "81/81 [==============================] - 1s 11ms/step - loss: 0.2290 - mae: 0.0147 - val_loss: 0.2237 - val_mae: 0.0078\n",
      "Epoch 5/400\n",
      "81/81 [==============================] - 1s 11ms/step - loss: 0.2200 - mae: 0.0175 - val_loss: 0.2153 - val_mae: 0.0108\n",
      "Epoch 6/400\n",
      "81/81 [==============================] - 1s 11ms/step - loss: 0.2119 - mae: 0.0144 - val_loss: 0.2080 - val_mae: 0.0147\n",
      "Epoch 7/400\n",
      "81/81 [==============================] - 1s 11ms/step - loss: 0.2046 - mae: 0.0136 - val_loss: 0.2007 - val_mae: 0.0045\n",
      "Epoch 8/400\n",
      "81/81 [==============================] - 1s 11ms/step - loss: 0.1979 - mae: 0.0135 - val_loss: 0.1946 - val_mae: 0.0136\n",
      "Epoch 9/400\n",
      "81/81 [==============================] - 1s 11ms/step - loss: 0.1915 - mae: 0.0099 - val_loss: 0.1903 - val_mae: 0.0367\n",
      "Epoch 10/400\n",
      "81/81 [==============================] - 1s 11ms/step - loss: 0.1857 - mae: 0.0117 - val_loss: 0.1826 - val_mae: 0.0083\n",
      "Epoch 11/400\n",
      "81/81 [==============================] - 1s 11ms/step - loss: 0.1801 - mae: 0.0129 - val_loss: 0.1773 - val_mae: 0.0141\n",
      "Epoch 12/400\n",
      "81/81 [==============================] - 1s 11ms/step - loss: 0.1746 - mae: 0.0089 - val_loss: 0.1718 - val_mae: 0.0032\n",
      "Epoch 13/400\n",
      "81/81 [==============================] - 1s 11ms/step - loss: 0.1696 - mae: 0.0124 - val_loss: 0.1671 - val_mae: 0.0146\n",
      "Epoch 14/400\n",
      "81/81 [==============================] - 1s 11ms/step - loss: 0.1646 - mae: 0.0085 - val_loss: 0.1620 - val_mae: 0.0053\n",
      "Epoch 15/400\n",
      "81/81 [==============================] - 1s 11ms/step - loss: 0.1600 - mae: 0.0125 - val_loss: 0.1574 - val_mae: 0.0052\n",
      "Epoch 16/400\n",
      "81/81 [==============================] - 1s 11ms/step - loss: 0.1553 - mae: 0.0073 - val_loss: 0.1530 - val_mae: 0.0060\n",
      "Epoch 17/400\n",
      "81/81 [==============================] - 1s 11ms/step - loss: 0.1511 - mae: 0.0121 - val_loss: 0.1491 - val_mae: 0.0178\n",
      "Epoch 18/400\n",
      "81/81 [==============================] - 1s 11ms/step - loss: 0.1467 - mae: 0.0080 - val_loss: 0.1446 - val_mae: 0.0130\n",
      "Epoch 19/400\n",
      "81/81 [==============================] - 1s 11ms/step - loss: 0.1426 - mae: 0.0113 - val_loss: 0.1404 - val_mae: 0.0047\n",
      "Epoch 20/400\n",
      "81/81 [==============================] - 1s 12ms/step - loss: 0.1385 - mae: 0.0075 - val_loss: 0.1365 - val_mae: 0.0102\n",
      "Epoch 21/400\n",
      "81/81 [==============================] - 1s 11ms/step - loss: 0.1347 - mae: 0.0100 - val_loss: 0.1331 - val_mae: 0.0207\n",
      "Epoch 22/400\n",
      "81/81 [==============================] - 1s 11ms/step - loss: 0.1308 - mae: 0.0078 - val_loss: 0.1289 - val_mae: 0.0100\n",
      "Epoch 23/400\n",
      "81/81 [==============================] - 1s 11ms/step - loss: 0.1272 - mae: 0.0114 - val_loss: 0.1251 - val_mae: 0.0045\n",
      "Epoch 24/400\n",
      "81/81 [==============================] - 1s 11ms/step - loss: 0.1235 - mae: 0.0089 - val_loss: 0.1221 - val_mae: 0.0203\n",
      "Epoch 25/400\n",
      "81/81 [==============================] - 1s 11ms/step - loss: 0.1200 - mae: 0.0094 - val_loss: 0.1189 - val_mae: 0.0224\n",
      "Epoch 26/400\n",
      "81/81 [==============================] - 1s 11ms/step - loss: 0.1166 - mae: 0.0097 - val_loss: 0.1147 - val_mae: 0.0057\n",
      "Epoch 27/400\n",
      "81/81 [==============================] - 1s 11ms/step - loss: 0.1131 - mae: 0.0085 - val_loss: 0.1113 - val_mae: 0.0042\n",
      "Epoch 28/400\n",
      "81/81 [==============================] - 1s 11ms/step - loss: 0.1098 - mae: 0.0075 - val_loss: 0.1080 - val_mae: 0.0047\n",
      "Epoch 29/400\n",
      "81/81 [==============================] - 1s 11ms/step - loss: 0.1066 - mae: 0.0086 - val_loss: 0.1048 - val_mae: 0.0033\n",
      "Epoch 30/400\n",
      "81/81 [==============================] - 1s 11ms/step - loss: 0.1034 - mae: 0.0087 - val_loss: 0.1021 - val_mae: 0.0160\n",
      "Epoch 31/400\n",
      "81/81 [==============================] - 1s 11ms/step - loss: 0.1003 - mae: 0.0091 - val_loss: 0.0986 - val_mae: 0.0052\n",
      "Epoch 32/400\n",
      "81/81 [==============================] - 1s 11ms/step - loss: 0.0973 - mae: 0.0106 - val_loss: 0.0956 - val_mae: 0.0052\n",
      "Epoch 33/400\n",
      "81/81 [==============================] - 1s 11ms/step - loss: 0.0942 - mae: 0.0079 - val_loss: 0.0926 - val_mae: 0.0040\n",
      "Epoch 34/400\n",
      "81/81 [==============================] - 1s 11ms/step - loss: 0.0913 - mae: 0.0075 - val_loss: 0.0897 - val_mae: 0.0046\n",
      "Epoch 35/400\n",
      "81/81 [==============================] - 1s 11ms/step - loss: 0.0885 - mae: 0.0103 - val_loss: 0.0877 - val_mae: 0.0216\n",
      "Epoch 36/400\n",
      "81/81 [==============================] - 1s 11ms/step - loss: 0.0856 - mae: 0.0080 - val_loss: 0.0843 - val_mae: 0.0128\n",
      "Epoch 37/400\n",
      "81/81 [==============================] - 1s 11ms/step - loss: 0.0829 - mae: 0.0092 - val_loss: 0.0814 - val_mae: 0.0042\n",
      "Epoch 38/400\n",
      "81/81 [==============================] - 1s 11ms/step - loss: 0.0802 - mae: 0.0081 - val_loss: 0.0788 - val_mae: 0.0107\n",
      "Epoch 39/400\n",
      "81/81 [==============================] - 1s 11ms/step - loss: 0.0776 - mae: 0.0099 - val_loss: 0.0762 - val_mae: 0.0081\n",
      "Epoch 40/400\n",
      "81/81 [==============================] - 1s 11ms/step - loss: 0.0749 - mae: 0.0066 - val_loss: 0.0736 - val_mae: 0.0078\n",
      "Epoch 41/400\n",
      "81/81 [==============================] - 1s 11ms/step - loss: 0.0725 - mae: 0.0093 - val_loss: 0.0710 - val_mae: 0.0034\n",
      "Epoch 42/400\n",
      "81/81 [==============================] - 1s 11ms/step - loss: 0.0701 - mae: 0.0113 - val_loss: 0.0686 - val_mae: 0.0059\n",
      "Epoch 43/400\n",
      "81/81 [==============================] - 1s 11ms/step - loss: 0.0674 - mae: 0.0069 - val_loss: 0.0661 - val_mae: 0.0033\n",
      "Epoch 44/400\n",
      "81/81 [==============================] - 1s 11ms/step - loss: 0.0651 - mae: 0.0084 - val_loss: 0.0638 - val_mae: 0.0052\n",
      "Epoch 45/400\n",
      "81/81 [==============================] - 1s 11ms/step - loss: 0.0629 - mae: 0.0107 - val_loss: 0.0615 - val_mae: 0.0041\n",
      "Epoch 46/400\n",
      "81/81 [==============================] - 1s 11ms/step - loss: 0.0605 - mae: 0.0089 - val_loss: 0.0593 - val_mae: 0.0050\n",
      "Epoch 47/400\n",
      "81/81 [==============================] - 1s 11ms/step - loss: 0.0583 - mae: 0.0096 - val_loss: 0.0575 - val_mae: 0.0152\n",
      "Epoch 48/400\n",
      "81/81 [==============================] - 1s 11ms/step - loss: 0.0562 - mae: 0.0103 - val_loss: 0.0554 - val_mae: 0.0173\n",
      "Epoch 49/400\n",
      "81/81 [==============================] - 1s 11ms/step - loss: 0.0542 - mae: 0.0111 - val_loss: 0.0530 - val_mae: 0.0085\n",
      "Epoch 50/400\n",
      "81/81 [==============================] - 1s 11ms/step - loss: 0.0520 - mae: 0.0082 - val_loss: 0.0509 - val_mae: 0.0070\n",
      "Epoch 51/400\n",
      "81/81 [==============================] - 1s 11ms/step - loss: 0.0500 - mae: 0.0085 - val_loss: 0.0490 - val_mae: 0.0061\n",
      "Epoch 52/400\n",
      "81/81 [==============================] - 1s 11ms/step - loss: 0.0482 - mae: 0.0103 - val_loss: 0.0471 - val_mae: 0.0087\n",
      "Epoch 53/400\n",
      "81/81 [==============================] - 1s 11ms/step - loss: 0.0462 - mae: 0.0092 - val_loss: 0.0457 - val_mae: 0.0208\n",
      "Epoch 54/400\n",
      "81/81 [==============================] - 1s 11ms/step - loss: 0.0444 - mae: 0.0092 - val_loss: 0.0434 - val_mae: 0.0075\n",
      "Epoch 55/400\n",
      "81/81 [==============================] - 1s 11ms/step - loss: 0.0426 - mae: 0.0099 - val_loss: 0.0416 - val_mae: 0.0063\n",
      "Epoch 56/400\n",
      "81/81 [==============================] - 1s 11ms/step - loss: 0.0409 - mae: 0.0081 - val_loss: 0.0399 - val_mae: 0.0056\n",
      "Epoch 57/400\n",
      "81/81 [==============================] - 1s 12ms/step - loss: 0.0393 - mae: 0.0104 - val_loss: 0.0383 - val_mae: 0.0038\n",
      "Epoch 58/400\n",
      "81/81 [==============================] - 1s 11ms/step - loss: 0.0376 - mae: 0.0077 - val_loss: 0.0367 - val_mae: 0.0034\n",
      "Epoch 59/400\n",
      "81/81 [==============================] - 1s 11ms/step - loss: 0.0362 - mae: 0.0122 - val_loss: 0.0351 - val_mae: 0.0040\n",
      "Epoch 60/400\n",
      "81/81 [==============================] - 1s 11ms/step - loss: 0.0345 - mae: 0.0081 - val_loss: 0.0338 - val_mae: 0.0138\n",
      "Epoch 61/400\n",
      "81/81 [==============================] - 1s 11ms/step - loss: 0.0331 - mae: 0.0098 - val_loss: 0.0322 - val_mae: 0.0053\n",
      "Epoch 62/400\n",
      "81/81 [==============================] - 1s 11ms/step - loss: 0.0317 - mae: 0.0110 - val_loss: 0.0316 - val_mae: 0.0215\n",
      "Epoch 63/400\n",
      "81/81 [==============================] - 1s 11ms/step - loss: 0.0303 - mae: 0.0102 - val_loss: 0.0296 - val_mae: 0.0095\n",
      "Epoch 64/400\n",
      "81/81 [==============================] - 1s 11ms/step - loss: 0.0289 - mae: 0.0071 - val_loss: 0.0282 - val_mae: 0.0033\n",
      "Epoch 65/400\n",
      "81/81 [==============================] - 1s 11ms/step - loss: 0.0277 - mae: 0.0107 - val_loss: 0.0272 - val_mae: 0.0152\n",
      "Epoch 66/400\n",
      "81/81 [==============================] - 1s 11ms/step - loss: 0.0265 - mae: 0.0085 - val_loss: 0.0258 - val_mae: 0.0083\n",
      "Epoch 67/400\n",
      "81/81 [==============================] - 1s 11ms/step - loss: 0.0253 - mae: 0.0099 - val_loss: 0.0246 - val_mae: 0.0044\n",
      "Epoch 68/400\n",
      "81/81 [==============================] - 1s 11ms/step - loss: 0.0241 - mae: 0.0081 - val_loss: 0.0238 - val_mae: 0.0135\n",
      "Epoch 69/400\n",
      "81/81 [==============================] - 1s 11ms/step - loss: 0.0230 - mae: 0.0066 - val_loss: 0.0224 - val_mae: 0.0052\n",
      "Epoch 70/400\n",
      "81/81 [==============================] - 1s 11ms/step - loss: 0.0221 - mae: 0.0114 - val_loss: 0.0214 - val_mae: 0.0090\n",
      "Epoch 71/400\n",
      "81/81 [==============================] - 1s 11ms/step - loss: 0.0210 - mae: 0.0092 - val_loss: 0.0205 - val_mae: 0.0091\n",
      "Epoch 72/400\n",
      "81/81 [==============================] - 1s 11ms/step - loss: 0.0200 - mae: 0.0088 - val_loss: 0.0195 - val_mae: 0.0064\n",
      "Epoch 73/400\n",
      "81/81 [==============================] - 1s 11ms/step - loss: 0.0191 - mae: 0.0082 - val_loss: 0.0187 - val_mae: 0.0104\n",
      "Epoch 74/400\n",
      "81/81 [==============================] - 1s 11ms/step - loss: 0.0183 - mae: 0.0109 - val_loss: 0.0177 - val_mae: 0.0075\n",
      "Epoch 75/400\n",
      "81/81 [==============================] - 1s 11ms/step - loss: 0.0174 - mae: 0.0093 - val_loss: 0.0168 - val_mae: 0.0047\n",
      "Epoch 76/400\n",
      "81/81 [==============================] - 1s 11ms/step - loss: 0.0166 - mae: 0.0089 - val_loss: 0.0161 - val_mae: 0.0081\n",
      "Epoch 77/400\n",
      "81/81 [==============================] - 1s 11ms/step - loss: 0.0158 - mae: 0.0111 - val_loss: 0.0159 - val_mae: 0.0242\n",
      "Epoch 78/400\n",
      "81/81 [==============================] - 1s 11ms/step - loss: 0.0150 - mae: 0.0081 - val_loss: 0.0146 - val_mae: 0.0038\n",
      "Epoch 79/400\n",
      "81/81 [==============================] - 1s 11ms/step - loss: 0.0151 - mae: 0.0181 - val_loss: 0.0140 - val_mae: 0.0076\n",
      "Epoch 80/400\n",
      "81/81 [==============================] - 1s 11ms/step - loss: 0.0136 - mae: 0.0046 - val_loss: 0.0133 - val_mae: 0.0047\n",
      "Epoch 81/400\n",
      "81/81 [==============================] - 1s 11ms/step - loss: 0.0130 - mae: 0.0062 - val_loss: 0.0127 - val_mae: 0.0082\n",
      "Epoch 82/400\n",
      "81/81 [==============================] - 1s 11ms/step - loss: 0.0125 - mae: 0.0105 - val_loss: 0.0131 - val_mae: 0.0307\n",
      "Epoch 83/400\n",
      "81/81 [==============================] - 1s 11ms/step - loss: 0.0119 - mae: 0.0074 - val_loss: 0.0115 - val_mae: 0.0048\n",
      "Epoch 84/400\n",
      "81/81 [==============================] - 1s 11ms/step - loss: 0.0114 - mae: 0.0106 - val_loss: 0.0109 - val_mae: 0.0046\n",
      "Epoch 85/400\n",
      "81/81 [==============================] - 1s 11ms/step - loss: 0.0108 - mae: 0.0084 - val_loss: 0.0106 - val_mae: 0.0115\n",
      "Epoch 86/400\n",
      "81/81 [==============================] - 1s 11ms/step - loss: 0.0103 - mae: 0.0086 - val_loss: 0.0099 - val_mae: 0.0063\n",
      "Epoch 87/400\n",
      "81/81 [==============================] - 1s 11ms/step - loss: 0.0100 - mae: 0.0117 - val_loss: 0.0095 - val_mae: 0.0034\n",
      "Epoch 88/400\n",
      "81/81 [==============================] - 1s 11ms/step - loss: 0.0093 - mae: 0.0051 - val_loss: 0.0094 - val_mae: 0.0151\n",
      "Epoch 89/400\n",
      "81/81 [==============================] - 1s 11ms/step - loss: 0.0089 - mae: 0.0084 - val_loss: 0.0087 - val_mae: 0.0117\n",
      "Epoch 90/400\n",
      "81/81 [==============================] - 1s 12ms/step - loss: 0.0086 - mae: 0.0103 - val_loss: 0.0082 - val_mae: 0.0037\n",
      "Epoch 91/400\n",
      "81/81 [==============================] - 1s 11ms/step - loss: 0.0082 - mae: 0.0103 - val_loss: 0.0082 - val_mae: 0.0154\n",
      "Epoch 92/400\n",
      "81/81 [==============================] - 1s 11ms/step - loss: 0.0077 - mae: 0.0063 - val_loss: 0.0075 - val_mae: 0.0045\n",
      "Epoch 93/400\n",
      "81/81 [==============================] - 1s 11ms/step - loss: 0.0074 - mae: 0.0094 - val_loss: 0.0071 - val_mae: 0.0048\n",
      "Epoch 94/400\n",
      "81/81 [==============================] - 1s 11ms/step - loss: 0.0071 - mae: 0.0104 - val_loss: 0.0068 - val_mae: 0.0033\n",
      "Epoch 95/400\n",
      "81/81 [==============================] - 1s 11ms/step - loss: 0.0067 - mae: 0.0085 - val_loss: 0.0066 - val_mae: 0.0083\n",
      "Epoch 96/400\n",
      "81/81 [==============================] - 1s 11ms/step - loss: 0.0065 - mae: 0.0100 - val_loss: 0.0063 - val_mae: 0.0080\n",
      "Epoch 97/400\n",
      "81/81 [==============================] - 1s 11ms/step - loss: 0.0062 - mae: 0.0091 - val_loss: 0.0059 - val_mae: 0.0035\n",
      "Epoch 98/400\n",
      "81/81 [==============================] - 1s 11ms/step - loss: 0.0061 - mae: 0.0118 - val_loss: 0.0057 - val_mae: 0.0044\n",
      "Epoch 99/400\n",
      "81/81 [==============================] - 1s 11ms/step - loss: 0.0056 - mae: 0.0052 - val_loss: 0.0055 - val_mae: 0.0086\n",
      "Epoch 100/400\n",
      "81/81 [==============================] - 1s 11ms/step - loss: 0.0055 - mae: 0.0083 - val_loss: 0.0052 - val_mae: 0.0050\n",
      "Epoch 101/400\n",
      "81/81 [==============================] - 1s 11ms/step - loss: 0.0053 - mae: 0.0095 - val_loss: 0.0050 - val_mae: 0.0042\n",
      "Epoch 102/400\n",
      "81/81 [==============================] - 1s 11ms/step - loss: 0.0050 - mae: 0.0082 - val_loss: 0.0048 - val_mae: 0.0052\n",
      "Epoch 103/400\n",
      "81/81 [==============================] - 1s 11ms/step - loss: 0.0051 - mae: 0.0142 - val_loss: 0.0047 - val_mae: 0.0087\n",
      "Epoch 104/400\n",
      "81/81 [==============================] - 1s 11ms/step - loss: 0.0045 - mae: 0.0044 - val_loss: 0.0044 - val_mae: 0.0042\n",
      "Epoch 105/400\n",
      "81/81 [==============================] - 1s 11ms/step - loss: 0.0044 - mae: 0.0066 - val_loss: 0.0043 - val_mae: 0.0067\n",
      "Epoch 106/400\n",
      "81/81 [==============================] - 1s 11ms/step - loss: 0.0043 - mae: 0.0089 - val_loss: 0.0041 - val_mae: 0.0048\n",
      "Epoch 107/400\n",
      "81/81 [==============================] - 1s 11ms/step - loss: 0.0041 - mae: 0.0073 - val_loss: 0.0039 - val_mae: 0.0034\n",
      "Epoch 108/400\n",
      "81/81 [==============================] - 1s 11ms/step - loss: 0.0041 - mae: 0.0102 - val_loss: 0.0038 - val_mae: 0.0035\n",
      "Epoch 109/400\n",
      "81/81 [==============================] - 1s 11ms/step - loss: 0.0039 - mae: 0.0090 - val_loss: 0.0037 - val_mae: 0.0065\n",
      "Epoch 110/400\n",
      "81/81 [==============================] - 1s 11ms/step - loss: 0.0037 - mae: 0.0076 - val_loss: 0.0036 - val_mae: 0.0050\n",
      "Epoch 111/400\n",
      "81/81 [==============================] - 1s 11ms/step - loss: 0.0036 - mae: 0.0095 - val_loss: 0.0036 - val_mae: 0.0113\n",
      "Epoch 112/400\n",
      "81/81 [==============================] - 1s 11ms/step - loss: 0.0035 - mae: 0.0099 - val_loss: 0.0037 - val_mae: 0.0180\n",
      "Epoch 113/400\n",
      "81/81 [==============================] - 1s 11ms/step - loss: 0.0034 - mae: 0.0083 - val_loss: 0.0032 - val_mae: 0.0057\n",
      "Epoch 114/400\n",
      "81/81 [==============================] - 1s 11ms/step - loss: 0.0033 - mae: 0.0096 - val_loss: 0.0035 - val_mae: 0.0176\n",
      "Epoch 115/400\n",
      "81/81 [==============================] - 1s 11ms/step - loss: 0.0032 - mae: 0.0086 - val_loss: 0.0031 - val_mae: 0.0051\n",
      "Epoch 116/400\n",
      "81/81 [==============================] - 1s 11ms/step - loss: 0.0032 - mae: 0.0108 - val_loss: 0.0030 - val_mae: 0.0056\n",
      "Epoch 117/400\n",
      "81/81 [==============================] - 1s 11ms/step - loss: 0.0030 - mae: 0.0069 - val_loss: 0.0029 - val_mae: 0.0064\n",
      "Epoch 118/400\n",
      "81/81 [==============================] - 1s 11ms/step - loss: 0.0029 - mae: 0.0085 - val_loss: 0.0028 - val_mae: 0.0050\n",
      "Epoch 119/400\n",
      "81/81 [==============================] - 1s 11ms/step - loss: 0.0029 - mae: 0.0104 - val_loss: 0.0028 - val_mae: 0.0068\n",
      "Epoch 120/400\n",
      "81/81 [==============================] - 1s 11ms/step - loss: 0.0028 - mae: 0.0079 - val_loss: 0.0031 - val_mae: 0.0186\n",
      "Epoch 121/400\n",
      "81/81 [==============================] - 1s 11ms/step - loss: 0.0028 - mae: 0.0093 - val_loss: 0.0026 - val_mae: 0.0034\n",
      "Epoch 122/400\n",
      "81/81 [==============================] - 1s 11ms/step - loss: 0.0028 - mae: 0.0103 - val_loss: 0.0026 - val_mae: 0.0078\n",
      "Epoch 123/400\n",
      "81/81 [==============================] - 1s 11ms/step - loss: 0.0026 - mae: 0.0065 - val_loss: 0.0026 - val_mae: 0.0086\n",
      "Epoch 124/400\n",
      "81/81 [==============================] - 1s 11ms/step - loss: 0.0026 - mae: 0.0078 - val_loss: 0.0031 - val_mae: 0.0242\n",
      "Epoch 125/400\n",
      "81/81 [==============================] - 1s 11ms/step - loss: 0.0026 - mae: 0.0092 - val_loss: 0.0025 - val_mae: 0.0078\n",
      "Epoch 126/400\n",
      "81/81 [==============================] - 1s 11ms/step - loss: 0.0026 - mae: 0.0100 - val_loss: 0.0024 - val_mae: 0.0035\n",
      "Epoch 127/400\n",
      "81/81 [==============================] - 1s 12ms/step - loss: 0.0024 - mae: 0.0076 - val_loss: 0.0024 - val_mae: 0.0081\n",
      "Epoch 128/400\n",
      "81/81 [==============================] - 1s 11ms/step - loss: 0.0024 - mae: 0.0090 - val_loss: 0.0026 - val_mae: 0.0166\n",
      "Epoch 129/400\n",
      "81/81 [==============================] - 1s 11ms/step - loss: 0.0024 - mae: 0.0094 - val_loss: 0.0023 - val_mae: 0.0062\n",
      "Epoch 130/400\n",
      "81/81 [==============================] - 1s 11ms/step - loss: 0.0023 - mae: 0.0082 - val_loss: 0.0029 - val_mae: 0.0245\n",
      "Epoch 131/400\n",
      "81/81 [==============================] - 1s 11ms/step - loss: 0.0024 - mae: 0.0096 - val_loss: 0.0022 - val_mae: 0.0048\n",
      "Epoch 132/400\n",
      "81/81 [==============================] - 1s 11ms/step - loss: 0.0023 - mae: 0.0104 - val_loss: 0.0022 - val_mae: 0.0082\n",
      "Epoch 133/400\n",
      "81/81 [==============================] - 1s 11ms/step - loss: 0.0023 - mae: 0.0099 - val_loss: 0.0021 - val_mae: 0.0035\n",
      "Epoch 134/400\n",
      "81/81 [==============================] - 1s 11ms/step - loss: 0.0022 - mae: 0.0058 - val_loss: 0.0023 - val_mae: 0.0125\n",
      "Epoch 135/400\n",
      "81/81 [==============================] - 1s 11ms/step - loss: 0.0022 - mae: 0.0086 - val_loss: 0.0021 - val_mae: 0.0034\n",
      "Epoch 136/400\n",
      "81/81 [==============================] - 1s 11ms/step - loss: 0.0023 - mae: 0.0105 - val_loss: 0.0021 - val_mae: 0.0048\n",
      "Epoch 137/400\n",
      "81/81 [==============================] - 1s 11ms/step - loss: 0.0022 - mae: 0.0081 - val_loss: 0.0021 - val_mae: 0.0092\n",
      "Epoch 138/400\n",
      "81/81 [==============================] - 1s 11ms/step - loss: 0.0021 - mae: 0.0066 - val_loss: 0.0025 - val_mae: 0.0204\n",
      "Epoch 139/400\n",
      "81/81 [==============================] - 1s 11ms/step - loss: 0.0021 - mae: 0.0089 - val_loss: 0.0020 - val_mae: 0.0042\n",
      "Epoch 140/400\n",
      "81/81 [==============================] - 1s 11ms/step - loss: 0.0021 - mae: 0.0089 - val_loss: 0.0020 - val_mae: 0.0073\n",
      "Epoch 141/400\n",
      "81/81 [==============================] - 1s 11ms/step - loss: 0.0021 - mae: 0.0082 - val_loss: 0.0021 - val_mae: 0.0127\n",
      "Epoch 142/400\n",
      "81/81 [==============================] - 1s 11ms/step - loss: 0.0021 - mae: 0.0092 - val_loss: 0.0020 - val_mae: 0.0044\n",
      "Epoch 143/400\n",
      "81/81 [==============================] - 1s 11ms/step - loss: 0.0020 - mae: 0.0084 - val_loss: 0.0019 - val_mae: 0.0046\n",
      "Epoch 144/400\n",
      "81/81 [==============================] - 1s 11ms/step - loss: 0.0021 - mae: 0.0094 - val_loss: 0.0021 - val_mae: 0.0127\n",
      "Epoch 145/400\n",
      "81/81 [==============================] - 1s 11ms/step - loss: 0.0020 - mae: 0.0085 - val_loss: 0.0019 - val_mae: 0.0061\n",
      "Epoch 146/400\n",
      "81/81 [==============================] - 1s 11ms/step - loss: 0.0021 - mae: 0.0099 - val_loss: 0.0020 - val_mae: 0.0075\n",
      "Epoch 147/400\n",
      "81/81 [==============================] - 1s 11ms/step - loss: 0.0020 - mae: 0.0073 - val_loss: 0.0019 - val_mae: 0.0040\n",
      "Epoch 148/400\n",
      "81/81 [==============================] - 1s 11ms/step - loss: 0.0020 - mae: 0.0088 - val_loss: 0.0019 - val_mae: 0.0069\n",
      "Epoch 149/400\n",
      "81/81 [==============================] - 1s 11ms/step - loss: 0.0020 - mae: 0.0092 - val_loss: 0.0019 - val_mae: 0.0044\n",
      "Epoch 150/400\n",
      "81/81 [==============================] - 1s 11ms/step - loss: 0.0020 - mae: 0.0082 - val_loss: 0.0019 - val_mae: 0.0076\n",
      "Epoch 151/400\n",
      "81/81 [==============================] - 1s 11ms/step - loss: 0.0019 - mae: 0.0073 - val_loss: 0.0018 - val_mae: 0.0043\n",
      "Epoch 152/400\n",
      "81/81 [==============================] - 1s 11ms/step - loss: 0.0020 - mae: 0.0099 - val_loss: 0.0021 - val_mae: 0.0159\n",
      "Epoch 153/400\n",
      "81/81 [==============================] - 1s 11ms/step - loss: 0.0020 - mae: 0.0095 - val_loss: 0.0027 - val_mae: 0.0213\n",
      "Epoch 154/400\n",
      "81/81 [==============================] - 1s 11ms/step - loss: 0.0019 - mae: 0.0079 - val_loss: 0.0018 - val_mae: 0.0049\n",
      "Epoch 155/400\n",
      "81/81 [==============================] - 1s 11ms/step - loss: 0.0018 - mae: 0.0061 - val_loss: 0.0018 - val_mae: 0.0055\n",
      "Epoch 156/400\n",
      "81/81 [==============================] - 1s 11ms/step - loss: 0.0019 - mae: 0.0088 - val_loss: 0.0018 - val_mae: 0.0034\n",
      "Epoch 157/400\n",
      "81/81 [==============================] - 1s 11ms/step - loss: 0.0019 - mae: 0.0095 - val_loss: 0.0018 - val_mae: 0.0058\n",
      "Epoch 158/400\n",
      "81/81 [==============================] - 1s 11ms/step - loss: 0.0018 - mae: 0.0058 - val_loss: 0.0020 - val_mae: 0.0147\n",
      "Epoch 159/400\n",
      "81/81 [==============================] - 1s 12ms/step - loss: 0.0019 - mae: 0.0088 - val_loss: 0.0018 - val_mae: 0.0062\n",
      "Epoch 160/400\n",
      "81/81 [==============================] - 1s 12ms/step - loss: 0.0019 - mae: 0.0100 - val_loss: 0.0024 - val_mae: 0.0257\n",
      "Epoch 161/400\n",
      "81/81 [==============================] - 1s 11ms/step - loss: 0.0018 - mae: 0.0073 - val_loss: 0.0018 - val_mae: 0.0044\n",
      "Epoch 162/400\n",
      "81/81 [==============================] - 1s 11ms/step - loss: 0.0019 - mae: 0.0095 - val_loss: 0.0017 - val_mae: 0.0037\n",
      "Epoch 163/400\n",
      "81/81 [==============================] - 1s 11ms/step - loss: 0.0019 - mae: 0.0092 - val_loss: 0.0018 - val_mae: 0.0046\n",
      "Epoch 164/400\n",
      "81/81 [==============================] - 1s 11ms/step - loss: 0.0018 - mae: 0.0059 - val_loss: 0.0019 - val_mae: 0.0139\n",
      "Epoch 165/400\n",
      "81/81 [==============================] - 1s 11ms/step - loss: 0.0019 - mae: 0.0113 - val_loss: 0.0025 - val_mae: 0.0249\n",
      "Epoch 166/400\n",
      "81/81 [==============================] - 1s 11ms/step - loss: 0.0018 - mae: 0.0059 - val_loss: 0.0017 - val_mae: 0.0048\n",
      "Epoch 167/400\n",
      "81/81 [==============================] - 1s 11ms/step - loss: 0.0018 - mae: 0.0068 - val_loss: 0.0018 - val_mae: 0.0084\n",
      "Epoch 168/400\n",
      "81/81 [==============================] - 1s 11ms/step - loss: 0.0018 - mae: 0.0092 - val_loss: 0.0017 - val_mae: 0.0044\n",
      "Epoch 169/400\n",
      "81/81 [==============================] - 1s 11ms/step - loss: 0.0018 - mae: 0.0092 - val_loss: 0.0017 - val_mae: 0.0035\n",
      "Epoch 170/400\n",
      "81/81 [==============================] - 1s 11ms/step - loss: 0.0019 - mae: 0.0092 - val_loss: 0.0017 - val_mae: 0.0050\n",
      "Epoch 171/400\n",
      "81/81 [==============================] - 1s 11ms/step - loss: 0.0017 - mae: 0.0046 - val_loss: 0.0017 - val_mae: 0.0049\n",
      "Epoch 172/400\n",
      "81/81 [==============================] - 1s 11ms/step - loss: 0.0018 - mae: 0.0087 - val_loss: 0.0018 - val_mae: 0.0079\n",
      "Epoch 173/400\n",
      "81/81 [==============================] - 1s 11ms/step - loss: 0.0017 - mae: 0.0070 - val_loss: 0.0021 - val_mae: 0.0188\n",
      "Epoch 174/400\n",
      "81/81 [==============================] - 1s 11ms/step - loss: 0.0020 - mae: 0.0125 - val_loss: 0.0017 - val_mae: 0.0038\n",
      "Epoch 175/400\n",
      "81/81 [==============================] - 1s 11ms/step - loss: 0.0017 - mae: 0.0044 - val_loss: 0.0017 - val_mae: 0.0058\n",
      "Epoch 176/400\n",
      "81/81 [==============================] - 1s 11ms/step - loss: 0.0017 - mae: 0.0066 - val_loss: 0.0017 - val_mae: 0.0047\n",
      "Epoch 177/400\n",
      "81/81 [==============================] - 1s 11ms/step - loss: 0.0017 - mae: 0.0078 - val_loss: 0.0017 - val_mae: 0.0054\n",
      "Epoch 178/400\n",
      "81/81 [==============================] - 1s 11ms/step - loss: 0.0017 - mae: 0.0073 - val_loss: 0.0018 - val_mae: 0.0097\n",
      "Epoch 179/400\n",
      "81/81 [==============================] - 1s 11ms/step - loss: 0.0018 - mae: 0.0099 - val_loss: 0.0019 - val_mae: 0.0111\n",
      "Epoch 180/400\n",
      "81/81 [==============================] - 1s 11ms/step - loss: 0.0018 - mae: 0.0090 - val_loss: 0.0017 - val_mae: 0.0035\n",
      "Epoch 181/400\n",
      "81/81 [==============================] - 1s 11ms/step - loss: 0.0017 - mae: 0.0057 - val_loss: 0.0024 - val_mae: 0.0232\n",
      "Epoch 182/400\n",
      "81/81 [==============================] - 1s 11ms/step - loss: 0.0018 - mae: 0.0078 - val_loss: 0.0016 - val_mae: 0.0039\n",
      "Epoch 183/400\n",
      "81/81 [==============================] - 1s 11ms/step - loss: 0.0018 - mae: 0.0083 - val_loss: 0.0017 - val_mae: 0.0084\n",
      "Epoch 184/400\n",
      "81/81 [==============================] - 1s 11ms/step - loss: 0.0017 - mae: 0.0082 - val_loss: 0.0016 - val_mae: 0.0037\n",
      "Epoch 185/400\n",
      "81/81 [==============================] - 1s 11ms/step - loss: 0.0017 - mae: 0.0075 - val_loss: 0.0017 - val_mae: 0.0078\n",
      "Epoch 186/400\n",
      "81/81 [==============================] - 1s 11ms/step - loss: 0.0017 - mae: 0.0079 - val_loss: 0.0016 - val_mae: 0.0034\n",
      "Epoch 187/400\n",
      "81/81 [==============================] - 1s 11ms/step - loss: 0.0017 - mae: 0.0080 - val_loss: 0.0017 - val_mae: 0.0073\n",
      "Epoch 188/400\n",
      "81/81 [==============================] - 1s 11ms/step - loss: 0.0017 - mae: 0.0091 - val_loss: 0.0017 - val_mae: 0.0088\n",
      "Epoch 189/400\n",
      "81/81 [==============================] - 1s 11ms/step - loss: 0.0017 - mae: 0.0065 - val_loss: 0.0016 - val_mae: 0.0058\n",
      "Epoch 190/400\n",
      "81/81 [==============================] - 1s 11ms/step - loss: 0.0017 - mae: 0.0075 - val_loss: 0.0019 - val_mae: 0.0154\n",
      "Epoch 191/400\n",
      "81/81 [==============================] - 1s 11ms/step - loss: 0.0018 - mae: 0.0090 - val_loss: 0.0016 - val_mae: 0.0043\n",
      "Epoch 192/400\n",
      "81/81 [==============================] - 1s 11ms/step - loss: 0.0018 - mae: 0.0086 - val_loss: 0.0022 - val_mae: 0.0198\n",
      "Epoch 193/400\n",
      "81/81 [==============================] - 1s 12ms/step - loss: 0.0016 - mae: 0.0057 - val_loss: 0.0016 - val_mae: 0.0050\n",
      "Epoch 194/400\n",
      "81/81 [==============================] - 1s 11ms/step - loss: 0.0017 - mae: 0.0074 - val_loss: 0.0022 - val_mae: 0.0238\n",
      "Epoch 195/400\n",
      "81/81 [==============================] - 1s 11ms/step - loss: 0.0017 - mae: 0.0086 - val_loss: 0.0016 - val_mae: 0.0036\n",
      "Epoch 196/400\n",
      "81/81 [==============================] - 1s 11ms/step - loss: 0.0016 - mae: 0.0052 - val_loss: 0.0020 - val_mae: 0.0201\n",
      "Epoch 197/400\n",
      "81/81 [==============================] - 1s 11ms/step - loss: 0.0017 - mae: 0.0090 - val_loss: 0.0017 - val_mae: 0.0080\n",
      "Epoch 198/400\n",
      "81/81 [==============================] - 1s 11ms/step - loss: 0.0016 - mae: 0.0061 - val_loss: 0.0016 - val_mae: 0.0044\n",
      "Epoch 199/400\n",
      "81/81 [==============================] - 1s 11ms/step - loss: 0.0017 - mae: 0.0096 - val_loss: 0.0017 - val_mae: 0.0116\n",
      "Epoch 200/400\n",
      "81/81 [==============================] - 1s 11ms/step - loss: 0.0016 - mae: 0.0065 - val_loss: 0.0016 - val_mae: 0.0047\n",
      "Epoch 201/400\n",
      "81/81 [==============================] - 1s 11ms/step - loss: 0.0017 - mae: 0.0071 - val_loss: 0.0019 - val_mae: 0.0170\n",
      "Epoch 202/400\n",
      "81/81 [==============================] - 1s 11ms/step - loss: 0.0017 - mae: 0.0079 - val_loss: 0.0018 - val_mae: 0.0144\n",
      "Epoch 203/400\n",
      "81/81 [==============================] - 1s 11ms/step - loss: 0.0016 - mae: 0.0069 - val_loss: 0.0019 - val_mae: 0.0182\n",
      "Epoch 204/400\n",
      "81/81 [==============================] - 1s 12ms/step - loss: 0.0017 - mae: 0.0083 - val_loss: 0.0016 - val_mae: 0.0046\n",
      "Epoch 205/400\n",
      "81/81 [==============================] - 1s 11ms/step - loss: 0.0017 - mae: 0.0086 - val_loss: 0.0016 - val_mae: 0.0034\n",
      "Epoch 206/400\n",
      "81/81 [==============================] - 1s 11ms/step - loss: 0.0016 - mae: 0.0061 - val_loss: 0.0016 - val_mae: 0.0049\n",
      "Epoch 207/400\n",
      "81/81 [==============================] - 1s 11ms/step - loss: 0.0017 - mae: 0.0091 - val_loss: 0.0016 - val_mae: 0.0037\n",
      "Epoch 208/400\n",
      "81/81 [==============================] - 1s 11ms/step - loss: 0.0016 - mae: 0.0082 - val_loss: 0.0018 - val_mae: 0.0136\n",
      "Epoch 209/400\n",
      "81/81 [==============================] - 1s 11ms/step - loss: 0.0017 - mae: 0.0083 - val_loss: 0.0017 - val_mae: 0.0086\n",
      "Epoch 210/400\n",
      "81/81 [==============================] - 1s 11ms/step - loss: 0.0016 - mae: 0.0066 - val_loss: 0.0017 - val_mae: 0.0114\n",
      "Epoch 211/400\n",
      "81/81 [==============================] - 1s 11ms/step - loss: 0.0019 - mae: 0.0122 - val_loss: 0.0016 - val_mae: 0.0060\n",
      "Epoch 212/400\n",
      "81/81 [==============================] - 1s 11ms/step - loss: 0.0016 - mae: 0.0045 - val_loss: 0.0015 - val_mae: 0.0037\n",
      "Epoch 213/400\n",
      "81/81 [==============================] - 1s 11ms/step - loss: 0.0016 - mae: 0.0046 - val_loss: 0.0015 - val_mae: 0.0039\n",
      "Epoch 214/400\n",
      "81/81 [==============================] - 1s 11ms/step - loss: 0.0017 - mae: 0.0092 - val_loss: 0.0016 - val_mae: 0.0069\n",
      "Epoch 215/400\n",
      "81/81 [==============================] - 1s 11ms/step - loss: 0.0016 - mae: 0.0049 - val_loss: 0.0015 - val_mae: 0.0039\n",
      "Epoch 216/400\n",
      "81/81 [==============================] - 1s 11ms/step - loss: 0.0016 - mae: 0.0078 - val_loss: 0.0016 - val_mae: 0.0047\n",
      "Epoch 217/400\n",
      "81/81 [==============================] - 1s 11ms/step - loss: 0.0016 - mae: 0.0079 - val_loss: 0.0016 - val_mae: 0.0061\n",
      "Epoch 218/400\n",
      "81/81 [==============================] - 1s 11ms/step - loss: 0.0016 - mae: 0.0071 - val_loss: 0.0016 - val_mae: 0.0056\n",
      "Epoch 219/400\n",
      "81/81 [==============================] - 1s 11ms/step - loss: 0.0016 - mae: 0.0085 - val_loss: 0.0019 - val_mae: 0.0139\n",
      "Epoch 220/400\n",
      "81/81 [==============================] - 1s 11ms/step - loss: 0.0016 - mae: 0.0086 - val_loss: 0.0015 - val_mae: 0.0039\n",
      "Epoch 221/400\n",
      "81/81 [==============================] - 1s 11ms/step - loss: 0.0016 - mae: 0.0065 - val_loss: 0.0016 - val_mae: 0.0073\n",
      "Epoch 222/400\n",
      "81/81 [==============================] - 1s 11ms/step - loss: 0.0016 - mae: 0.0074 - val_loss: 0.0016 - val_mae: 0.0099\n",
      "Epoch 223/400\n",
      "81/81 [==============================] - 1s 11ms/step - loss: 0.0016 - mae: 0.0090 - val_loss: 0.0015 - val_mae: 0.0053\n",
      "Epoch 224/400\n",
      "81/81 [==============================] - 1s 11ms/step - loss: 0.0015 - mae: 0.0056 - val_loss: 0.0016 - val_mae: 0.0080\n",
      "Epoch 225/400\n",
      "81/81 [==============================] - 1s 11ms/step - loss: 0.0017 - mae: 0.0108 - val_loss: 0.0015 - val_mae: 0.0034\n",
      "Epoch 226/400\n",
      "81/81 [==============================] - 1s 11ms/step - loss: 0.0015 - mae: 0.0047 - val_loss: 0.0016 - val_mae: 0.0073\n",
      "Epoch 227/400\n",
      "81/81 [==============================] - 1s 11ms/step - loss: 0.0016 - mae: 0.0082 - val_loss: 0.0017 - val_mae: 0.0122\n",
      "Epoch 228/400\n",
      "81/81 [==============================] - 1s 11ms/step - loss: 0.0016 - mae: 0.0090 - val_loss: 0.0016 - val_mae: 0.0104\n",
      "Epoch 229/400\n",
      "81/81 [==============================] - 1s 11ms/step - loss: 0.0016 - mae: 0.0079 - val_loss: 0.0015 - val_mae: 0.0050\n",
      "Epoch 230/400\n",
      "76/81 [===========================>..] - ETA: 0s - loss: 0.0016 - mae: 0.0098Restoring model weights from the end of the best epoch: 225.\n",
      "81/81 [==============================] - 1s 12ms/step - loss: 0.0016 - mae: 0.0099 - val_loss: 0.0020 - val_mae: 0.0222\n",
      "Epoch 230: early stopping\n",
      "Die Ausführungszeit betrug 203.96538853645325 Sekunden.\n"
     ]
    }
   ],
   "source": [
    "start_time = time.time()\n",
    "# Netzwerkarchitektur\n",
    "model = Sequential([\n",
    "    # Eingabeschicht\n",
    "\n",
    "    Dense(320, activation='relu', input_shape=(2,), kernel_initializer='he_uniform', kernel_regularizer=l2(0.0001)),\n",
    "\n",
    "    Dense(178, activation='relu', kernel_initializer='he_uniform', kernel_regularizer=l2(0.0001)),\n",
    "\n",
    "    Dense(288, activation='relu', kernel_initializer='he_uniform', kernel_regularizer=l2(0.0001)),\n",
    "\n",
    "    Dense(192, activation='relu', kernel_initializer='he_uniform', kernel_regularizer=l2(0.0001)),\n",
    "\n",
    "    Dense(208, activation='relu', kernel_initializer='he_uniform', kernel_regularizer=l2(0.0001)),\n",
    "\n",
    "    Dense(224, activation='relu', kernel_initializer='he_uniform', kernel_regularizer=l2(0.0001)),\n",
    "    \n",
    "    Dense(80, activation='relu', kernel_initializer='he_uniform', kernel_regularizer=l2(0.0001)),\n",
    "    \n",
    "    Dense(304, activation='relu', kernel_initializer='he_uniform', kernel_regularizer=l2(0.0001)),\n",
    "    \n",
    "    Dense(240, activation='relu', kernel_initializer='he_uniform', kernel_regularizer=l2(0.0001)),\n",
    "    \n",
    "    Dense(48, activation='relu', kernel_initializer='he_uniform', kernel_regularizer=l2(0.0001)),\n",
    "    \n",
    "    Dense(1 , activation = 'linear')\n",
    "])\n",
    "\n",
    "# Optimierer\n",
    "optimizer = tf.keras.optimizers.Adam(learning_rate=0.001)\n",
    "\n",
    "# Modell kompilieren (Verwendung von mean_squared_error als Verlustfunktion für Regression)\n",
    "model.compile(optimizer=optimizer,\n",
    "              loss='mean_squared_error',\n",
    "              metrics=['mae'])  # Metriken für Regression: Mean Absolute Error und Mean Squared Error\n",
    "\n",
    "# Early Stopping Callback\n",
    "early_stopping = EarlyStopping(monitor='val_loss', patience=5, verbose=2, mode='min', restore_best_weights=True)#, min_delta = 0.00005)\n",
    "\n",
    "# Trainingsparameter\n",
    "batch_size = 800\n",
    "epochs = 400\n",
    "\n",
    "# Modell trainieren (Annahme: X_train, y_train, X_val, y_val sind vordefiniert)\n",
    "history = model.fit(X_train_scaled, y_train_scaled,\n",
    "                    batch_size=batch_size,\n",
    "                    epochs=epochs,\n",
    "                    validation_split=0.2,\n",
    "                    callbacks=[early_stopping],\n",
    "                    verbose = 1)\n",
    "\n",
    "end_time = time.time()\n",
    "\n",
    "# Berechne die Dauer\n",
    "duration = end_time - start_time\n",
    "\n",
    "print(f\"Die Ausführungszeit betrug {duration} Sekunden.\")"
   ],
   "metadata": {
    "collapsed": false,
    "ExecuteTime": {
     "end_time": "2024-03-01T11:57:25.623079400Z",
     "start_time": "2024-03-01T11:54:01.645707Z"
    }
   },
   "id": "8b52e1a9a6ff3aeb"
  },
  {
   "cell_type": "code",
   "execution_count": 38,
   "outputs": [
    {
     "name": "stdout",
     "output_type": "stream",
     "text": [
      "630/630 - 1s - loss: 0.0015 - mae: 0.0034 - 647ms/epoch - 1ms/step\n"
     ]
    },
    {
     "data": {
      "text/plain": "[0.0015176483429968357, 0.0034180309157818556]"
     },
     "execution_count": 38,
     "metadata": {},
     "output_type": "execute_result"
    }
   ],
   "source": [
    "results = model.evaluate(X_test_scaled, y_test_scaled, verbose=2)\n",
    "results"
   ],
   "metadata": {
    "collapsed": false,
    "ExecuteTime": {
     "end_time": "2024-03-01T11:58:22.127102900Z",
     "start_time": "2024-03-01T11:58:21.437418900Z"
    }
   },
   "id": "68d86893ad985b02"
  },
  {
   "cell_type": "code",
   "execution_count": 39,
   "id": "9f6f672a",
   "metadata": {
    "ExecuteTime": {
     "end_time": "2024-03-01T11:59:06.617458700Z",
     "start_time": "2024-03-01T11:59:05.699568300Z"
    }
   },
   "outputs": [
    {
     "name": "stdout",
     "output_type": "stream",
     "text": [
      " Bsp. Predicted: [1193.0062] Actual: [1195.9] \n",
      "Durchschnittliche Abweichung (MAE): [3.23960823]\n"
     ]
    }
   ],
   "source": [
    "scaled_predicted_values = model.predict(X_test_scaled, verbose = 0)\n",
    "\n",
    "# Führen Sie die Rücktransformation der skalierten Werte durch\n",
    "original_predicted_values = scaler_target.inverse_transform(scaled_predicted_values)\n",
    "original_actual_values = scaler_target.inverse_transform(y_test_scaled)  # y_test sind die skalierten tatsächlichen Werte\n",
    "print(f' Bsp. Predicted: {original_predicted_values[1000]} Actual: {original_actual_values[1000]} ')\n",
    "\n",
    "def calculate_mae(list1, list2):\n",
    "    # Stelle sicher, dass beide Listen die gleiche Länge haben\n",
    "    if len(list1) != len(list2):\n",
    "        raise ValueError(\"Listen müssen die gleiche Länge haben\")\n",
    "\n",
    "    # Berechne die absolute Differenz zwischen den Elementen der Listen\n",
    "    differences = [abs(x - y) for x, y in zip(list1, list2)]\n",
    "\n",
    "    # Berechne den Durchschnitt der absoluten Differenzen\n",
    "    mae = sum(differences) / len(differences)\n",
    "\n",
    "    return mae\n",
    "\n",
    "# Beispiel\n",
    "list1 = original_predicted_values\n",
    "list2 = original_actual_values\n",
    "\n",
    "mae = calculate_mae(list1, list2)\n",
    "print(f\"Durchschnittliche Abweichung (MAE): {mae}\")\n"
   ]
  },
  {
   "cell_type": "code",
   "execution_count": 26,
   "outputs": [
    {
     "name": "stdout",
     "output_type": "stream",
     "text": [
      "Anzahl der Werte die kleiner sind: 72\n"
     ]
    },
    {
     "data": {
      "text/plain": "             Echt  Vorhergesagt  X-Koordinate  Y-Koordinate  Differenz\n19281  782.048828        807.84         1.000        0.9125 -25.791172\n14143  808.242554        832.75         1.000        0.9025 -24.507446\n16514  814.791077        838.63         1.000        0.9000 -23.838923\n4160   781.866699        805.35         0.992        0.9125 -23.483301\n4177   821.317810        844.45         1.000        0.8975 -23.132190\n...           ...           ...           ...           ...        ...\n13809  618.043274        593.15         0.988        0.9750  24.893274\n11547  690.403198        665.34         0.916        0.0000  25.063198\n7694   693.200806        667.48         0.944        0.0000  25.720806\n1409   692.383972        666.57         0.936        0.0000  25.813972\n20012  618.225891        588.92         0.996        0.9750  29.305891\n\n[20131 rows x 5 columns]",
      "text/html": "<div>\n<style scoped>\n    .dataframe tbody tr th:only-of-type {\n        vertical-align: middle;\n    }\n\n    .dataframe tbody tr th {\n        vertical-align: top;\n    }\n\n    .dataframe thead th {\n        text-align: right;\n    }\n</style>\n<table border=\"1\" class=\"dataframe\">\n  <thead>\n    <tr style=\"text-align: right;\">\n      <th></th>\n      <th>Echt</th>\n      <th>Vorhergesagt</th>\n      <th>X-Koordinate</th>\n      <th>Y-Koordinate</th>\n      <th>Differenz</th>\n    </tr>\n  </thead>\n  <tbody>\n    <tr>\n      <th>19281</th>\n      <td>782.048828</td>\n      <td>807.84</td>\n      <td>1.000</td>\n      <td>0.9125</td>\n      <td>-25.791172</td>\n    </tr>\n    <tr>\n      <th>14143</th>\n      <td>808.242554</td>\n      <td>832.75</td>\n      <td>1.000</td>\n      <td>0.9025</td>\n      <td>-24.507446</td>\n    </tr>\n    <tr>\n      <th>16514</th>\n      <td>814.791077</td>\n      <td>838.63</td>\n      <td>1.000</td>\n      <td>0.9000</td>\n      <td>-23.838923</td>\n    </tr>\n    <tr>\n      <th>4160</th>\n      <td>781.866699</td>\n      <td>805.35</td>\n      <td>0.992</td>\n      <td>0.9125</td>\n      <td>-23.483301</td>\n    </tr>\n    <tr>\n      <th>4177</th>\n      <td>821.317810</td>\n      <td>844.45</td>\n      <td>1.000</td>\n      <td>0.8975</td>\n      <td>-23.132190</td>\n    </tr>\n    <tr>\n      <th>...</th>\n      <td>...</td>\n      <td>...</td>\n      <td>...</td>\n      <td>...</td>\n      <td>...</td>\n    </tr>\n    <tr>\n      <th>13809</th>\n      <td>618.043274</td>\n      <td>593.15</td>\n      <td>0.988</td>\n      <td>0.9750</td>\n      <td>24.893274</td>\n    </tr>\n    <tr>\n      <th>11547</th>\n      <td>690.403198</td>\n      <td>665.34</td>\n      <td>0.916</td>\n      <td>0.0000</td>\n      <td>25.063198</td>\n    </tr>\n    <tr>\n      <th>7694</th>\n      <td>693.200806</td>\n      <td>667.48</td>\n      <td>0.944</td>\n      <td>0.0000</td>\n      <td>25.720806</td>\n    </tr>\n    <tr>\n      <th>1409</th>\n      <td>692.383972</td>\n      <td>666.57</td>\n      <td>0.936</td>\n      <td>0.0000</td>\n      <td>25.813972</td>\n    </tr>\n    <tr>\n      <th>20012</th>\n      <td>618.225891</td>\n      <td>588.92</td>\n      <td>0.996</td>\n      <td>0.9750</td>\n      <td>29.305891</td>\n    </tr>\n  </tbody>\n</table>\n<p>20131 rows × 5 columns</p>\n</div>"
     },
     "execution_count": 26,
     "metadata": {},
     "output_type": "execute_result"
    }
   ],
   "source": [
    "df_result = pd.DataFrame({'Echt': [val[0] for val in list1], 'Vorhergesagt': [val[0] for val in list2]})\n",
    "df_result['X-Koordinate'] = X_test_scaled[:, 0]\n",
    "df_result['Y-Koordinate'] = X_test_scaled[:, 1]\n",
    "\n",
    "df_result['Differenz'] = df_result['Echt'] - df_result['Vorhergesagt']\n",
    "df_result['Differenz'].sort_values()\n",
    "sorted_df = df_result.sort_values(by= 'Differenz')\n",
    "Anzahl_Punkte = (sorted_df['Differenz'] > 20).sum()\n",
    "print(\"Anzahl der Werte die kleiner sind:\", Anzahl_Punkte)\n",
    "\n",
    "sorted_df"
   ],
   "metadata": {
    "collapsed": false,
    "ExecuteTime": {
     "end_time": "2024-03-01T11:21:35.606813400Z",
     "start_time": "2024-03-01T11:21:35.567830200Z"
    }
   },
   "id": "42bde60d3b4f2007"
  },
  {
   "cell_type": "markdown",
   "id": "553df6fa",
   "metadata": {},
   "source": []
  },
  {
   "cell_type": "code",
   "execution_count": 27,
   "outputs": [
    {
     "data": {
      "text/plain": "<Figure size 1000x600 with 1 Axes>",
      "image/png": "[encoded data removed]"
     },
     "metadata": {},
     "output_type": "display_data"
    }
   ],
   "source": [
    "mae = history.history['loss']\n",
    "val_mae = history.history['val_loss']\n",
    "\n",
    "epochs = range(1, len(mae) + 1)\n",
    "# MAE Diagramm\n",
    "plt.figure(figsize=(10, 6))\n",
    "plt.plot(epochs, mae, 'r', label='Training MSE')\n",
    "plt.plot(epochs, val_mae, 'b', label='Validation MSE')\n",
    "plt.title('Training and Validation MAE')\n",
    "plt.xlabel('Epochs')\n",
    "plt.ylabel('MSE')\n",
    "plt.legend()\n",
    "plt.show()"
   ],
   "metadata": {
    "collapsed": false,
    "ExecuteTime": {
     "end_time": "2024-03-01T11:21:40.888881300Z",
     "start_time": "2024-03-01T11:21:40.736569800Z"
    }
   },
   "id": "3688dd7102e95baf"
  },
  {
   "cell_type": "markdown",
   "source": [
    "\n",
    "# GridSearch\n",
    "Grid Search bietet die Vorteile der anpassbaren Rechenzeit sowie die Möglichkeit des EInsatzes von Verteilungen. So können theoretisch Hyperparamterkonfuigurationen gefunden wende, welche durch GridSearch nicht auffindbar wären. ZUdem ist das Ziel der Hyperparamteroptimierung eine Einstellung zu finden, welche auf Trainings und Testset gut angepasst ist. Die EInstellung muss nicht die bestmöglichste Einstellung sein, sondern eine Einstellung die das gewähltre Problem gut wiederspiegelt. \n",
    "Bayesian Optimierung"
   ],
   "metadata": {
    "collapsed": false
   },
   "id": "9c177960cc729052"
  },
  {
   "cell_type": "code",
   "execution_count": 12,
   "id": "3f17e2cf",
   "metadata": {
    "ExecuteTime": {
     "end_time": "2024-03-01T10:18:12.811682Z",
     "start_time": "2024-03-01T08:04:08.961509400Z"
    }
   },
   "outputs": [
    {
     "name": "stdout",
     "output_type": "stream",
     "text": [
      "Fitting 3 folds for each of 72 candidates, totalling 216 fits\n",
      "Epoch 1/50\n",
      "101/101 - 2s - loss: 0.4234 - mae: 0.2246 - 2s/epoch - 24ms/step\n",
      "Epoch 2/50\n",
      "101/101 - 1s - loss: 0.2489 - mae: 0.0298 - 898ms/epoch - 9ms/step\n",
      "Epoch 3/50\n",
      "101/101 - 1s - loss: 0.2246 - mae: 0.0213 - 913ms/epoch - 9ms/step\n",
      "Epoch 4/50\n",
      "101/101 - 1s - loss: 0.2096 - mae: 0.0177 - 901ms/epoch - 9ms/step\n",
      "Epoch 5/50\n",
      "101/101 - 1s - loss: 0.1979 - mae: 0.0148 - 917ms/epoch - 9ms/step\n",
      "Epoch 6/50\n",
      "101/101 - 1s - loss: 0.1875 - mae: 0.0108 - 914ms/epoch - 9ms/step\n",
      "Epoch 7/50\n",
      "101/101 - 1s - loss: 0.1785 - mae: 0.0125 - 905ms/epoch - 9ms/step\n",
      "Epoch 8/50\n",
      "101/101 - 1s - loss: 0.1700 - mae: 0.0139 - 900ms/epoch - 9ms/step\n",
      "Epoch 9/50\n",
      "101/101 - 1s - loss: 0.1620 - mae: 0.0095 - 902ms/epoch - 9ms/step\n",
      "Epoch 10/50\n",
      "101/101 - 1s - loss: 0.1548 - mae: 0.0120 - 893ms/epoch - 9ms/step\n",
      "Epoch 11/50\n",
      "101/101 - 1s - loss: 0.1480 - mae: 0.0124 - 892ms/epoch - 9ms/step\n",
      "Epoch 12/50\n",
      "101/101 - 1s - loss: 0.1414 - mae: 0.0097 - 886ms/epoch - 9ms/step\n",
      "Epoch 13/50\n",
      "101/101 - 1s - loss: 0.1353 - mae: 0.0095 - 891ms/epoch - 9ms/step\n",
      "Epoch 14/50\n",
      "101/101 - 1s - loss: 0.1295 - mae: 0.0100 - 889ms/epoch - 9ms/step\n",
      "Epoch 15/50\n",
      "101/101 - 1s - loss: 0.1240 - mae: 0.0092 - 906ms/epoch - 9ms/step\n",
      "Epoch 16/50\n",
      "101/101 - 1s - loss: 0.1187 - mae: 0.0092 - 893ms/epoch - 9ms/step\n",
      "Epoch 17/50\n",
      "101/101 - 1s - loss: 0.1139 - mae: 0.0120 - 894ms/epoch - 9ms/step\n",
      "Epoch 18/50\n",
      "101/101 - 1s - loss: 0.1089 - mae: 0.0076 - 899ms/epoch - 9ms/step\n",
      "Epoch 19/50\n",
      "101/101 - 1s - loss: 0.1042 - mae: 0.0066 - 893ms/epoch - 9ms/step\n",
      "Epoch 20/50\n",
      "101/101 - 1s - loss: 0.0999 - mae: 0.0096 - 885ms/epoch - 9ms/step\n",
      "Epoch 21/50\n",
      "101/101 - 1s - loss: 0.0955 - mae: 0.0069 - 882ms/epoch - 9ms/step\n",
      "Epoch 22/50\n",
      "101/101 - 1s - loss: 0.0915 - mae: 0.0095 - 887ms/epoch - 9ms/step\n",
      "Epoch 23/50\n",
      "101/101 - 1s - loss: 0.0875 - mae: 0.0087 - 894ms/epoch - 9ms/step\n",
      "Epoch 24/50\n",
      "101/101 - 1s - loss: 0.0836 - mae: 0.0059 - 894ms/epoch - 9ms/step\n",
      "Epoch 25/50\n",
      "101/101 - 1s - loss: 0.0800 - mae: 0.0101 - 942ms/epoch - 9ms/step\n",
      "Epoch 26/50\n",
      "101/101 - 1s - loss: 0.0763 - mae: 0.0072 - 912ms/epoch - 9ms/step\n",
      "Epoch 27/50\n",
      "101/101 - 1s - loss: 0.0730 - mae: 0.0114 - 912ms/epoch - 9ms/step\n",
      "Epoch 28/50\n",
      "101/101 - 1s - loss: 0.0695 - mae: 0.0057 - 912ms/epoch - 9ms/step\n",
      "Epoch 29/50\n",
      "101/101 - 1s - loss: 0.0664 - mae: 0.0103 - 913ms/epoch - 9ms/step\n",
      "Epoch 30/50\n",
      "101/101 - 1s - loss: 0.0631 - mae: 0.0070 - 914ms/epoch - 9ms/step\n",
      "Epoch 31/50\n",
      "101/101 - 1s - loss: 0.0601 - mae: 0.0072 - 914ms/epoch - 9ms/step\n",
      "Epoch 32/50\n",
      "101/101 - 1s - loss: 0.0574 - mae: 0.0092 - 893ms/epoch - 9ms/step\n",
      "Epoch 33/50\n",
      "101/101 - 1s - loss: 0.0545 - mae: 0.0083 - 889ms/epoch - 9ms/step\n",
      "Epoch 34/50\n",
      "101/101 - 1s - loss: 0.0516 - mae: 0.0058 - 936ms/epoch - 9ms/step\n",
      "Epoch 35/50\n",
      "101/101 - 1s - loss: 0.0491 - mae: 0.0089 - 890ms/epoch - 9ms/step\n",
      "Epoch 36/50\n",
      "101/101 - 1s - loss: 0.0467 - mae: 0.0107 - 895ms/epoch - 9ms/step\n",
      "Epoch 37/50\n",
      "101/101 - 1s - loss: 0.0441 - mae: 0.0076 - 891ms/epoch - 9ms/step\n",
      "Epoch 38/50\n",
      "101/101 - 1s - loss: 0.0419 - mae: 0.0095 - 904ms/epoch - 9ms/step\n",
      "Epoch 39/50\n",
      "101/101 - 1s - loss: 0.0396 - mae: 0.0074 - 894ms/epoch - 9ms/step\n",
      "Epoch 40/50\n",
      "101/101 - 1s - loss: 0.0375 - mae: 0.0094 - 886ms/epoch - 9ms/step\n",
      "Epoch 41/50\n",
      "101/101 - 1s - loss: 0.0354 - mae: 0.0108 - 881ms/epoch - 9ms/step\n",
      "Epoch 42/50\n",
      "101/101 - 1s - loss: 0.0334 - mae: 0.0084 - 890ms/epoch - 9ms/step\n",
      "Epoch 43/50\n",
      "101/101 - 1s - loss: 0.0315 - mae: 0.0081 - 887ms/epoch - 9ms/step\n",
      "Epoch 44/50\n",
      "101/101 - 1s - loss: 0.0298 - mae: 0.0096 - 880ms/epoch - 9ms/step\n",
      "Epoch 45/50\n",
      "101/101 - 1s - loss: 0.0281 - mae: 0.0096 - 892ms/epoch - 9ms/step\n",
      "Epoch 46/50\n",
      "101/101 - 1s - loss: 0.0266 - mae: 0.0117 - 890ms/epoch - 9ms/step\n",
      "Epoch 47/50\n",
      "101/101 - 1s - loss: 0.0248 - mae: 0.0046 - 890ms/epoch - 9ms/step\n",
      "Epoch 48/50\n",
      "101/101 - 1s - loss: 0.0234 - mae: 0.0077 - 890ms/epoch - 9ms/step\n",
      "Epoch 49/50\n",
      "101/101 - 1s - loss: 0.0220 - mae: 0.0090 - 891ms/epoch - 9ms/step\n",
      "Epoch 50/50\n",
      "101/101 - 1s - loss: 0.0207 - mae: 0.0092 - 892ms/epoch - 9ms/step\n",
      "Beste Parameter: {'fit__batch_size': 800, 'fit__epochs': 50, 'model__dropout_rate': 0.0, 'model__learning_rate': 0.001, 'model__regularization': 0.0001}\n",
      "Beste Genauigkeit: 0.9996594089931544\n"
     ]
    }
   ],
   "source": [
    "# def build_model(learning_rate=0.001, activation='relu', regularization=0.0001, dropout_rate=0.0):\n",
    "#     model = Sequential()\n",
    "#     model.add(Dense(320, activation=activation, input_shape=(2,), kernel_initializer='he_uniform', kernel_regularizer=l2(regularization)))\n",
    "#     model.add(Dropout(dropout_rate))\n",
    "# \n",
    "#     model.add(Dense(176, activation=activation, kernel_initializer='he_uniform', kernel_regularizer=l2(regularization)))\n",
    "#     model.add(Dropout(dropout_rate))\n",
    "# \n",
    "#     model.add(Dense(288, activation=activation, kernel_initializer='he_uniform', kernel_regularizer=l2(regularization)))\n",
    "#     model.add(Dropout(dropout_rate))\n",
    "# \n",
    "#     model.add(Dense(192, activation=activation, kernel_initializer='he_uniform', kernel_regularizer=l2(regularization)))\n",
    "#     model.add(Dropout(dropout_rate))\n",
    "# \n",
    "#     model.add(Dense(208, activation=activation, kernel_initializer='he_uniform', kernel_regularizer=l2(regularization)))\n",
    "#     model.add(Dropout(dropout_rate))\n",
    "# \n",
    "#     model.add(Dense(224, activation=activation, kernel_initializer='he_uniform', kernel_regularizer=l2(regularization)))\n",
    "#     model.add(Dropout(dropout_rate))\n",
    "#     \n",
    "#     model.add(Dense(80, activation=activation, kernel_initializer='he_uniform', kernel_regularizer=l2(regularization)))\n",
    "#     model.add(Dropout(dropout_rate))\n",
    "#     \n",
    "#     model.add(Dense(304, activation=activation, kernel_initializer='he_uniform', kernel_regularizer=l2(regularization)))\n",
    "#     model.add(Dropout(dropout_rate)) \n",
    "#     \n",
    "#     model.add(Dense(240, activation=activation, kernel_initializer='he_uniform', kernel_regularizer=l2(regularization)))\n",
    "#     model.add(Dropout(dropout_rate))   \n",
    "#     \n",
    "#     model.add(Dense(48, activation=activation, kernel_initializer='he_uniform', kernel_regularizer=l2(regularization)))\n",
    "#     model.add(Dropout(dropout_rate))\n",
    "# \n",
    "#     model.add(Dense(1, activation='linear'))\n",
    "#     model.compile(optimizer=Adam(learning_rate=learning_rate), loss='mean_squared_error', metrics=['mae'])\n",
    "#     return model\n",
    "# \n",
    "# # Verwenden Sie eine Funktion, um das Modell zu instanziieren, für scikit-learn Wrapper\n",
    "# model = KerasRegressor(model=build_model, verbose=2)\n",
    "# \n",
    "# # Anpassung der Parameter im param_grid\n",
    "# param_grid = {\n",
    "#     'model__learning_rate': [0.01, 0.001, 0.0001],\n",
    "#     'model__regularization': [0.001, 0.0001],\n",
    "#     'fit__batch_size': [100, 200, 400, 800],\n",
    "#     'fit__epochs': [50],\n",
    "#     'model__dropout_rate' : [0.0, 0.1, 0.2]\n",
    "# }\n",
    "# \n",
    "# grid_search = GridSearchCV(estimator=model, param_grid=param_grid, n_jobs=-1, cv=3, verbose=2)\n",
    "# # Hinweis: Stellen Sie sicher, dass Ihre Daten (X_train_scaled, y_train_scaled) korrekt definiert sind\n",
    "# grid_result = grid_search.fit(X_train_scaled, y_train_scaled)\n",
    "# # Beste Parameter und Score ausgeben\n",
    "# print(\"Beste Parameter:\", grid_search.best_params_)\n",
    "# print(\"Beste Genauigkeit:\", grid_search.best_score_)\n",
    "# \n",
    "# with open(\"grid_search_D1_2.txt\", \"w\") as f:\n",
    "#     f.write(f\"Beste Parameter: {grid_search.best_params_}\\n\")\n",
    "#     f.write(f\"Beste Genauigkeit: {grid_search.best_score_}\")\n"
   ]
  },
  {
   "cell_type": "markdown",
   "source": [
    "  # Bayesian Optimization"
   ],
   "metadata": {
    "collapsed": false
   },
   "id": "3bb41910a42cbdee"
  },
  {
   "cell_type": "code",
   "execution_count": 51,
   "outputs": [],
   "source": [
    "# from bayes_opt import BayesianOptimization\n",
    "# \n",
    "# \n",
    "# # Angenommene Daten\n",
    "# # X_train_scaled, y_train_scaled = # Deine skalierten Trainingsdaten\n",
    "# \n",
    "# def train_evaluate(neurons_layer_1, neurons_layer_2, neurons_layer_3, neurons_layer_4, neurons_layer_5, learning_rate):\n",
    "#     model = Sequential([\n",
    "#         Dense(int(neurons_layer_1), activation='relu', input_shape=(2,), kernel_initializer='he_uniform', kernel_regularizer=l2(0.0001)),\n",
    "#         Dense(int(neurons_layer_2), activation='relu', kernel_initializer='he_uniform', kernel_regularizer=l2(0.0001)),\n",
    "#         Dense(int(neurons_layer_3), activation='relu', kernel_initializer='he_uniform', kernel_regularizer=l2(0.0001)),\n",
    "#         Dense(int(neurons_layer_4), activation='relu', kernel_initializer='he_uniform', kernel_regularizer=l2(0.0001)),\n",
    "#         Dense(int(neurons_layer_5), activation='relu', kernel_initializer='he_uniform', kernel_regularizer=l2(0.0001)),\n",
    "#         \n",
    "#         Dense(1, activation='linear')\n",
    "#     ])\n",
    "# \n",
    "#     optimizer = tf.keras.optimizers.Adam(learning_rate=learning_rate)\n",
    "#     model.compile(optimizer=optimizer, loss='mean_squared_error', metrics=['mae'])\n",
    "# \n",
    "#     early_stopping = EarlyStopping(monitor='loss', patience=5, verbose=1, mode='min', restore_best_weights=True, min_delta=0.0001)\n",
    "# \n",
    "#     history = model.fit(X_train_scaled, y_train_scaled, batch_size=32, epochs=100, validation_split=0.2, callbacks=[early_stopping], verbose=0)\n",
    "# \n",
    "#     # Hier wählen wir den negativen Mean Squared Error, da Bayesian Optimization maximiert\n",
    "#     mse = np.min(history.history['val_loss'])\n",
    "#     return -mse\n",
    "# \n",
    "# # Definieren des Bereichs der Hyperparameter\n",
    "# pbounds = {\n",
    "#     'neurons_layer_1': (16, 200),\n",
    "#     'neurons_layer_2': (16, 200),\n",
    "#     'neurons_layer_3': (16, 200),\n",
    "#     'neurons_layer_4': (16, 200),\n",
    "#     'neurons_layer_5': (16, 200),\n",
    "#     'learning_rate': (0.0001, 0.01),\n",
    "# }\n",
    "# \n",
    "# # Initialisieren des BayesianOptimization-Objekts\n",
    "# optimizer = BayesianOptimization(\n",
    "#     f=train_evaluate,\n",
    "#     pbounds=pbounds,\n",
    "#     random_state=1,\n",
    "# )\n",
    "# \n",
    "# # Starten der Optimierung\n",
    "# optimizer.maximize(init_points=2, n_iter=20)\n",
    "# \n",
    "# print(optimizer.max)\n"
   ],
   "metadata": {
    "collapsed": false,
    "ExecuteTime": {
     "end_time": "2024-02-28T23:32:18.017548300Z",
     "start_time": "2024-02-28T23:32:18.013537200Z"
    }
   },
   "id": "a5b6232547cdae67"
  },
  {
   "cell_type": "markdown",
   "source": [
    "# Random Search Architektur\n",
    "Tiefes Netz besser als breites Netz; Layer lernen auf unterschiedliche Weise"
   ],
   "metadata": {
    "collapsed": false
   },
   "id": "75773dfef8260e5f"
  },
  {
   "cell_type": "code",
   "execution_count": 53,
   "outputs": [
    {
     "name": "stdout",
     "output_type": "stream",
     "text": [
      "Reloading Tuner from random_search\\random_search_D1_1\\tuner0.json\n",
      "WARNING:tensorflow:Detecting that an object or model or tf.train.Checkpoint is being deleted with unrestored values. See the following logs for the specific values in question. To silence these warnings, use `status.expect_partial()`. See https://www.tensorflow.org/api_docs/python/tf/train/Checkpoint#restorefor details about the status object returned by the restore function.\n",
      "WARNING:tensorflow:Value in checkpoint could not be found in the restored object: (root).optimizer._variables.1\n",
      "WARNING:tensorflow:Value in checkpoint could not be found in the restored object: (root).optimizer._variables.2\n",
      "WARNING:tensorflow:Value in checkpoint could not be found in the restored object: (root).optimizer._variables.3\n",
      "WARNING:tensorflow:Value in checkpoint could not be found in the restored object: (root).optimizer._variables.4\n",
      "WARNING:tensorflow:Value in checkpoint could not be found in the restored object: (root).optimizer._variables.5\n",
      "WARNING:tensorflow:Value in checkpoint could not be found in the restored object: (root).optimizer._variables.6\n",
      "WARNING:tensorflow:Value in checkpoint could not be found in the restored object: (root).optimizer._variables.7\n",
      "WARNING:tensorflow:Value in checkpoint could not be found in the restored object: (root).optimizer._variables.8\n",
      "WARNING:tensorflow:Value in checkpoint could not be found in the restored object: (root).optimizer._variables.9\n",
      "WARNING:tensorflow:Value in checkpoint could not be found in the restored object: (root).optimizer._variables.10\n",
      "WARNING:tensorflow:Value in checkpoint could not be found in the restored object: (root).optimizer._variables.11\n",
      "WARNING:tensorflow:Value in checkpoint could not be found in the restored object: (root).optimizer._variables.12\n",
      "WARNING:tensorflow:Value in checkpoint could not be found in the restored object: (root).optimizer._variables.13\n",
      "WARNING:tensorflow:Value in checkpoint could not be found in the restored object: (root).optimizer._variables.14\n",
      "WARNING:tensorflow:Value in checkpoint could not be found in the restored object: (root).optimizer._variables.15\n",
      "WARNING:tensorflow:Value in checkpoint could not be found in the restored object: (root).optimizer._variables.16\n",
      "WARNING:tensorflow:Value in checkpoint could not be found in the restored object: (root).optimizer._variables.17\n",
      "WARNING:tensorflow:Value in checkpoint could not be found in the restored object: (root).optimizer._variables.18\n",
      "WARNING:tensorflow:Value in checkpoint could not be found in the restored object: (root).optimizer._variables.19\n",
      "WARNING:tensorflow:Value in checkpoint could not be found in the restored object: (root).optimizer._variables.20\n",
      "WARNING:tensorflow:Value in checkpoint could not be found in the restored object: (root).optimizer._variables.21\n",
      "WARNING:tensorflow:Value in checkpoint could not be found in the restored object: (root).optimizer._variables.22\n",
      "WARNING:tensorflow:Value in checkpoint could not be found in the restored object: (root).optimizer._variables.23\n",
      "WARNING:tensorflow:Value in checkpoint could not be found in the restored object: (root).optimizer._variables.24\n",
      "WARNING:tensorflow:Value in checkpoint could not be found in the restored object: (root).optimizer._variables.25\n",
      "WARNING:tensorflow:Value in checkpoint could not be found in the restored object: (root).optimizer._variables.26\n",
      "WARNING:tensorflow:Value in checkpoint could not be found in the restored object: (root).optimizer._variables.27\n",
      "WARNING:tensorflow:Value in checkpoint could not be found in the restored object: (root).optimizer._variables.28\n",
      "WARNING:tensorflow:Value in checkpoint could not be found in the restored object: (root).optimizer._variables.29\n",
      "WARNING:tensorflow:Value in checkpoint could not be found in the restored object: (root).optimizer._variables.30\n",
      "WARNING:tensorflow:Value in checkpoint could not be found in the restored object: (root).optimizer._variables.31\n",
      "WARNING:tensorflow:Value in checkpoint could not be found in the restored object: (root).optimizer._variables.32\n",
      "WARNING:tensorflow:Value in checkpoint could not be found in the restored object: (root).optimizer._variables.33\n",
      "WARNING:tensorflow:Value in checkpoint could not be found in the restored object: (root).optimizer._variables.34\n",
      "WARNING:tensorflow:Value in checkpoint could not be found in the restored object: (root).optimizer._variables.35\n",
      "WARNING:tensorflow:Value in checkpoint could not be found in the restored object: (root).optimizer._variables.36\n",
      "WARNING:tensorflow:Value in checkpoint could not be found in the restored object: (root).optimizer._variables.37\n",
      "WARNING:tensorflow:Value in checkpoint could not be found in the restored object: (root).optimizer._variables.38\n",
      "WARNING:tensorflow:Value in checkpoint could not be found in the restored object: (root).optimizer._variables.39\n",
      "WARNING:tensorflow:Value in checkpoint could not be found in the restored object: (root).optimizer._variables.40\n",
      "WARNING:tensorflow:Value in checkpoint could not be found in the restored object: (root).optimizer._variables.41\n",
      "WARNING:tensorflow:Value in checkpoint could not be found in the restored object: (root).optimizer._variables.42\n",
      "WARNING:tensorflow:Value in checkpoint could not be found in the restored object: (root).optimizer._variables.43\n",
      "WARNING:tensorflow:Value in checkpoint could not be found in the restored object: (root).optimizer._variables.44\n"
     ]
    },
    {
     "name": "stderr",
     "output_type": "stream",
     "text": [
      "C:\\Users\\erikm\\Desktop\\Diplomarbeit Erik Marr\\Projekt X\\venv\\Lib\\site-packages\\keras\\src\\engine\\training.py:3103: UserWarning: You are saving your model as an HDF5 file via `model.save()`. This file format is considered legacy. We recommend using instead the native Keras format, e.g. `model.save('my_model.keras')`.\n",
      "  saving_api.save_model(\n"
     ]
    },
    {
     "ename": "PermissionError",
     "evalue": "[Errno 13] Permission denied: 'random_search_D1_1.csv'",
     "output_type": "error",
     "traceback": [
      "\u001B[1;31m---------------------------------------------------------------------------\u001B[0m",
      "\u001B[1;31mPermissionError\u001B[0m                           Traceback (most recent call last)",
      "Cell \u001B[1;32mIn[53], line 41\u001B[0m\n\u001B[0;32m     39\u001B[0m df_hyperparameters \u001B[38;5;241m=\u001B[39m pd\u001B[38;5;241m.\u001B[39mDataFrame([best_hyperparameters\u001B[38;5;241m.\u001B[39mvalues])\n\u001B[0;32m     40\u001B[0m \u001B[38;5;66;03m# Speichern des DataFrame als CSV\u001B[39;00m\n\u001B[1;32m---> 41\u001B[0m \u001B[43mdf_hyperparameters\u001B[49m\u001B[38;5;241;43m.\u001B[39;49m\u001B[43mto_csv\u001B[49m\u001B[43m(\u001B[49m\u001B[38;5;124;43mf\u001B[39;49m\u001B[38;5;124;43m'\u001B[39;49m\u001B[38;5;124;43mrandom_search_D1_\u001B[39;49m\u001B[38;5;132;43;01m{\u001B[39;49;00m\u001B[43mrun\u001B[49m\u001B[38;5;132;43;01m}\u001B[39;49;00m\u001B[38;5;124;43m.csv\u001B[39;49m\u001B[38;5;124;43m'\u001B[39;49m\u001B[43m,\u001B[49m\u001B[43m \u001B[49m\u001B[43mindex\u001B[49m\u001B[38;5;241;43m=\u001B[39;49m\u001B[38;5;28;43;01mFalse\u001B[39;49;00m\u001B[43m)\u001B[49m\n\u001B[0;32m     42\u001B[0m best_model\u001B[38;5;241m.\u001B[39mdescribe()\n\u001B[0;32m     43\u001B[0m \u001B[38;5;28mprint\u001B[39m(\u001B[38;5;124mf\u001B[39m\u001B[38;5;124m\"\u001B[39m\u001B[38;5;124mBeste Hyperparameter für Lauf \u001B[39m\u001B[38;5;132;01m{\u001B[39;00mrun\u001B[38;5;132;01m}\u001B[39;00m\u001B[38;5;124m: \u001B[39m\u001B[38;5;132;01m{\u001B[39;00mbest_hyperparameters\u001B[38;5;241m.\u001B[39mvalues\u001B[38;5;132;01m}\u001B[39;00m\u001B[38;5;124m\"\u001B[39m)\n",
      "File \u001B[1;32m~\\Desktop\\Diplomarbeit Erik Marr\\Projekt X\\venv\\Lib\\site-packages\\pandas\\util\\_decorators.py:333\u001B[0m, in \u001B[0;36mdeprecate_nonkeyword_arguments.<locals>.decorate.<locals>.wrapper\u001B[1;34m(*args, **kwargs)\u001B[0m\n\u001B[0;32m    327\u001B[0m \u001B[38;5;28;01mif\u001B[39;00m \u001B[38;5;28mlen\u001B[39m(args) \u001B[38;5;241m>\u001B[39m num_allow_args:\n\u001B[0;32m    328\u001B[0m     warnings\u001B[38;5;241m.\u001B[39mwarn(\n\u001B[0;32m    329\u001B[0m         msg\u001B[38;5;241m.\u001B[39mformat(arguments\u001B[38;5;241m=\u001B[39m_format_argument_list(allow_args)),\n\u001B[0;32m    330\u001B[0m         \u001B[38;5;167;01mFutureWarning\u001B[39;00m,\n\u001B[0;32m    331\u001B[0m         stacklevel\u001B[38;5;241m=\u001B[39mfind_stack_level(),\n\u001B[0;32m    332\u001B[0m     )\n\u001B[1;32m--> 333\u001B[0m \u001B[38;5;28;01mreturn\u001B[39;00m \u001B[43mfunc\u001B[49m\u001B[43m(\u001B[49m\u001B[38;5;241;43m*\u001B[39;49m\u001B[43margs\u001B[49m\u001B[43m,\u001B[49m\u001B[43m \u001B[49m\u001B[38;5;241;43m*\u001B[39;49m\u001B[38;5;241;43m*\u001B[39;49m\u001B[43mkwargs\u001B[49m\u001B[43m)\u001B[49m\n",
      "File \u001B[1;32m~\\Desktop\\Diplomarbeit Erik Marr\\Projekt X\\venv\\Lib\\site-packages\\pandas\\core\\generic.py:3964\u001B[0m, in \u001B[0;36mNDFrame.to_csv\u001B[1;34m(self, path_or_buf, sep, na_rep, float_format, columns, header, index, index_label, mode, encoding, compression, quoting, quotechar, lineterminator, chunksize, date_format, doublequote, escapechar, decimal, errors, storage_options)\u001B[0m\n\u001B[0;32m   3953\u001B[0m df \u001B[38;5;241m=\u001B[39m \u001B[38;5;28mself\u001B[39m \u001B[38;5;28;01mif\u001B[39;00m \u001B[38;5;28misinstance\u001B[39m(\u001B[38;5;28mself\u001B[39m, ABCDataFrame) \u001B[38;5;28;01melse\u001B[39;00m \u001B[38;5;28mself\u001B[39m\u001B[38;5;241m.\u001B[39mto_frame()\n\u001B[0;32m   3955\u001B[0m formatter \u001B[38;5;241m=\u001B[39m DataFrameFormatter(\n\u001B[0;32m   3956\u001B[0m     frame\u001B[38;5;241m=\u001B[39mdf,\n\u001B[0;32m   3957\u001B[0m     header\u001B[38;5;241m=\u001B[39mheader,\n\u001B[1;32m   (...)\u001B[0m\n\u001B[0;32m   3961\u001B[0m     decimal\u001B[38;5;241m=\u001B[39mdecimal,\n\u001B[0;32m   3962\u001B[0m )\n\u001B[1;32m-> 3964\u001B[0m \u001B[38;5;28;01mreturn\u001B[39;00m \u001B[43mDataFrameRenderer\u001B[49m\u001B[43m(\u001B[49m\u001B[43mformatter\u001B[49m\u001B[43m)\u001B[49m\u001B[38;5;241;43m.\u001B[39;49m\u001B[43mto_csv\u001B[49m\u001B[43m(\u001B[49m\n\u001B[0;32m   3965\u001B[0m \u001B[43m    \u001B[49m\u001B[43mpath_or_buf\u001B[49m\u001B[43m,\u001B[49m\n\u001B[0;32m   3966\u001B[0m \u001B[43m    \u001B[49m\u001B[43mlineterminator\u001B[49m\u001B[38;5;241;43m=\u001B[39;49m\u001B[43mlineterminator\u001B[49m\u001B[43m,\u001B[49m\n\u001B[0;32m   3967\u001B[0m \u001B[43m    \u001B[49m\u001B[43msep\u001B[49m\u001B[38;5;241;43m=\u001B[39;49m\u001B[43msep\u001B[49m\u001B[43m,\u001B[49m\n\u001B[0;32m   3968\u001B[0m \u001B[43m    \u001B[49m\u001B[43mencoding\u001B[49m\u001B[38;5;241;43m=\u001B[39;49m\u001B[43mencoding\u001B[49m\u001B[43m,\u001B[49m\n\u001B[0;32m   3969\u001B[0m \u001B[43m    \u001B[49m\u001B[43merrors\u001B[49m\u001B[38;5;241;43m=\u001B[39;49m\u001B[43merrors\u001B[49m\u001B[43m,\u001B[49m\n\u001B[0;32m   3970\u001B[0m \u001B[43m    \u001B[49m\u001B[43mcompression\u001B[49m\u001B[38;5;241;43m=\u001B[39;49m\u001B[43mcompression\u001B[49m\u001B[43m,\u001B[49m\n\u001B[0;32m   3971\u001B[0m \u001B[43m    \u001B[49m\u001B[43mquoting\u001B[49m\u001B[38;5;241;43m=\u001B[39;49m\u001B[43mquoting\u001B[49m\u001B[43m,\u001B[49m\n\u001B[0;32m   3972\u001B[0m \u001B[43m    \u001B[49m\u001B[43mcolumns\u001B[49m\u001B[38;5;241;43m=\u001B[39;49m\u001B[43mcolumns\u001B[49m\u001B[43m,\u001B[49m\n\u001B[0;32m   3973\u001B[0m \u001B[43m    \u001B[49m\u001B[43mindex_label\u001B[49m\u001B[38;5;241;43m=\u001B[39;49m\u001B[43mindex_label\u001B[49m\u001B[43m,\u001B[49m\n\u001B[0;32m   3974\u001B[0m \u001B[43m    \u001B[49m\u001B[43mmode\u001B[49m\u001B[38;5;241;43m=\u001B[39;49m\u001B[43mmode\u001B[49m\u001B[43m,\u001B[49m\n\u001B[0;32m   3975\u001B[0m \u001B[43m    \u001B[49m\u001B[43mchunksize\u001B[49m\u001B[38;5;241;43m=\u001B[39;49m\u001B[43mchunksize\u001B[49m\u001B[43m,\u001B[49m\n\u001B[0;32m   3976\u001B[0m \u001B[43m    \u001B[49m\u001B[43mquotechar\u001B[49m\u001B[38;5;241;43m=\u001B[39;49m\u001B[43mquotechar\u001B[49m\u001B[43m,\u001B[49m\n\u001B[0;32m   3977\u001B[0m \u001B[43m    \u001B[49m\u001B[43mdate_format\u001B[49m\u001B[38;5;241;43m=\u001B[39;49m\u001B[43mdate_format\u001B[49m\u001B[43m,\u001B[49m\n\u001B[0;32m   3978\u001B[0m \u001B[43m    \u001B[49m\u001B[43mdoublequote\u001B[49m\u001B[38;5;241;43m=\u001B[39;49m\u001B[43mdoublequote\u001B[49m\u001B[43m,\u001B[49m\n\u001B[0;32m   3979\u001B[0m \u001B[43m    \u001B[49m\u001B[43mescapechar\u001B[49m\u001B[38;5;241;43m=\u001B[39;49m\u001B[43mescapechar\u001B[49m\u001B[43m,\u001B[49m\n\u001B[0;32m   3980\u001B[0m \u001B[43m    \u001B[49m\u001B[43mstorage_options\u001B[49m\u001B[38;5;241;43m=\u001B[39;49m\u001B[43mstorage_options\u001B[49m\u001B[43m,\u001B[49m\n\u001B[0;32m   3981\u001B[0m \u001B[43m\u001B[49m\u001B[43m)\u001B[49m\n",
      "File \u001B[1;32m~\\Desktop\\Diplomarbeit Erik Marr\\Projekt X\\venv\\Lib\\site-packages\\pandas\\io\\formats\\format.py:1014\u001B[0m, in \u001B[0;36mDataFrameRenderer.to_csv\u001B[1;34m(self, path_or_buf, encoding, sep, columns, index_label, mode, compression, quoting, quotechar, lineterminator, chunksize, date_format, doublequote, escapechar, errors, storage_options)\u001B[0m\n\u001B[0;32m    993\u001B[0m     created_buffer \u001B[38;5;241m=\u001B[39m \u001B[38;5;28;01mFalse\u001B[39;00m\n\u001B[0;32m    995\u001B[0m csv_formatter \u001B[38;5;241m=\u001B[39m CSVFormatter(\n\u001B[0;32m    996\u001B[0m     path_or_buf\u001B[38;5;241m=\u001B[39mpath_or_buf,\n\u001B[0;32m    997\u001B[0m     lineterminator\u001B[38;5;241m=\u001B[39mlineterminator,\n\u001B[1;32m   (...)\u001B[0m\n\u001B[0;32m   1012\u001B[0m     formatter\u001B[38;5;241m=\u001B[39m\u001B[38;5;28mself\u001B[39m\u001B[38;5;241m.\u001B[39mfmt,\n\u001B[0;32m   1013\u001B[0m )\n\u001B[1;32m-> 1014\u001B[0m \u001B[43mcsv_formatter\u001B[49m\u001B[38;5;241;43m.\u001B[39;49m\u001B[43msave\u001B[49m\u001B[43m(\u001B[49m\u001B[43m)\u001B[49m\n\u001B[0;32m   1016\u001B[0m \u001B[38;5;28;01mif\u001B[39;00m created_buffer:\n\u001B[0;32m   1017\u001B[0m     \u001B[38;5;28;01massert\u001B[39;00m \u001B[38;5;28misinstance\u001B[39m(path_or_buf, StringIO)\n",
      "File \u001B[1;32m~\\Desktop\\Diplomarbeit Erik Marr\\Projekt X\\venv\\Lib\\site-packages\\pandas\\io\\formats\\csvs.py:251\u001B[0m, in \u001B[0;36mCSVFormatter.save\u001B[1;34m(self)\u001B[0m\n\u001B[0;32m    247\u001B[0m \u001B[38;5;250m\u001B[39m\u001B[38;5;124;03m\"\"\"\u001B[39;00m\n\u001B[0;32m    248\u001B[0m \u001B[38;5;124;03mCreate the writer & save.\u001B[39;00m\n\u001B[0;32m    249\u001B[0m \u001B[38;5;124;03m\"\"\"\u001B[39;00m\n\u001B[0;32m    250\u001B[0m \u001B[38;5;66;03m# apply compression and byte/text conversion\u001B[39;00m\n\u001B[1;32m--> 251\u001B[0m \u001B[38;5;28;01mwith\u001B[39;00m \u001B[43mget_handle\u001B[49m\u001B[43m(\u001B[49m\n\u001B[0;32m    252\u001B[0m \u001B[43m    \u001B[49m\u001B[38;5;28;43mself\u001B[39;49m\u001B[38;5;241;43m.\u001B[39;49m\u001B[43mfilepath_or_buffer\u001B[49m\u001B[43m,\u001B[49m\n\u001B[0;32m    253\u001B[0m \u001B[43m    \u001B[49m\u001B[38;5;28;43mself\u001B[39;49m\u001B[38;5;241;43m.\u001B[39;49m\u001B[43mmode\u001B[49m\u001B[43m,\u001B[49m\n\u001B[0;32m    254\u001B[0m \u001B[43m    \u001B[49m\u001B[43mencoding\u001B[49m\u001B[38;5;241;43m=\u001B[39;49m\u001B[38;5;28;43mself\u001B[39;49m\u001B[38;5;241;43m.\u001B[39;49m\u001B[43mencoding\u001B[49m\u001B[43m,\u001B[49m\n\u001B[0;32m    255\u001B[0m \u001B[43m    \u001B[49m\u001B[43merrors\u001B[49m\u001B[38;5;241;43m=\u001B[39;49m\u001B[38;5;28;43mself\u001B[39;49m\u001B[38;5;241;43m.\u001B[39;49m\u001B[43merrors\u001B[49m\u001B[43m,\u001B[49m\n\u001B[0;32m    256\u001B[0m \u001B[43m    \u001B[49m\u001B[43mcompression\u001B[49m\u001B[38;5;241;43m=\u001B[39;49m\u001B[38;5;28;43mself\u001B[39;49m\u001B[38;5;241;43m.\u001B[39;49m\u001B[43mcompression\u001B[49m\u001B[43m,\u001B[49m\n\u001B[0;32m    257\u001B[0m \u001B[43m    \u001B[49m\u001B[43mstorage_options\u001B[49m\u001B[38;5;241;43m=\u001B[39;49m\u001B[38;5;28;43mself\u001B[39;49m\u001B[38;5;241;43m.\u001B[39;49m\u001B[43mstorage_options\u001B[49m\u001B[43m,\u001B[49m\n\u001B[0;32m    258\u001B[0m \u001B[43m\u001B[49m\u001B[43m)\u001B[49m \u001B[38;5;28;01mas\u001B[39;00m handles:\n\u001B[0;32m    259\u001B[0m     \u001B[38;5;66;03m# Note: self.encoding is irrelevant here\u001B[39;00m\n\u001B[0;32m    260\u001B[0m     \u001B[38;5;28mself\u001B[39m\u001B[38;5;241m.\u001B[39mwriter \u001B[38;5;241m=\u001B[39m csvlib\u001B[38;5;241m.\u001B[39mwriter(\n\u001B[0;32m    261\u001B[0m         handles\u001B[38;5;241m.\u001B[39mhandle,\n\u001B[0;32m    262\u001B[0m         lineterminator\u001B[38;5;241m=\u001B[39m\u001B[38;5;28mself\u001B[39m\u001B[38;5;241m.\u001B[39mlineterminator,\n\u001B[1;32m   (...)\u001B[0m\n\u001B[0;32m    267\u001B[0m         quotechar\u001B[38;5;241m=\u001B[39m\u001B[38;5;28mself\u001B[39m\u001B[38;5;241m.\u001B[39mquotechar,\n\u001B[0;32m    268\u001B[0m     )\n\u001B[0;32m    270\u001B[0m     \u001B[38;5;28mself\u001B[39m\u001B[38;5;241m.\u001B[39m_save()\n",
      "File \u001B[1;32m~\\Desktop\\Diplomarbeit Erik Marr\\Projekt X\\venv\\Lib\\site-packages\\pandas\\io\\common.py:873\u001B[0m, in \u001B[0;36mget_handle\u001B[1;34m(path_or_buf, mode, encoding, compression, memory_map, is_text, errors, storage_options)\u001B[0m\n\u001B[0;32m    868\u001B[0m \u001B[38;5;28;01melif\u001B[39;00m \u001B[38;5;28misinstance\u001B[39m(handle, \u001B[38;5;28mstr\u001B[39m):\n\u001B[0;32m    869\u001B[0m     \u001B[38;5;66;03m# Check whether the filename is to be opened in binary mode.\u001B[39;00m\n\u001B[0;32m    870\u001B[0m     \u001B[38;5;66;03m# Binary mode does not support 'encoding' and 'newline'.\u001B[39;00m\n\u001B[0;32m    871\u001B[0m     \u001B[38;5;28;01mif\u001B[39;00m ioargs\u001B[38;5;241m.\u001B[39mencoding \u001B[38;5;129;01mand\u001B[39;00m \u001B[38;5;124m\"\u001B[39m\u001B[38;5;124mb\u001B[39m\u001B[38;5;124m\"\u001B[39m \u001B[38;5;129;01mnot\u001B[39;00m \u001B[38;5;129;01min\u001B[39;00m ioargs\u001B[38;5;241m.\u001B[39mmode:\n\u001B[0;32m    872\u001B[0m         \u001B[38;5;66;03m# Encoding\u001B[39;00m\n\u001B[1;32m--> 873\u001B[0m         handle \u001B[38;5;241m=\u001B[39m \u001B[38;5;28;43mopen\u001B[39;49m\u001B[43m(\u001B[49m\n\u001B[0;32m    874\u001B[0m \u001B[43m            \u001B[49m\u001B[43mhandle\u001B[49m\u001B[43m,\u001B[49m\n\u001B[0;32m    875\u001B[0m \u001B[43m            \u001B[49m\u001B[43mioargs\u001B[49m\u001B[38;5;241;43m.\u001B[39;49m\u001B[43mmode\u001B[49m\u001B[43m,\u001B[49m\n\u001B[0;32m    876\u001B[0m \u001B[43m            \u001B[49m\u001B[43mencoding\u001B[49m\u001B[38;5;241;43m=\u001B[39;49m\u001B[43mioargs\u001B[49m\u001B[38;5;241;43m.\u001B[39;49m\u001B[43mencoding\u001B[49m\u001B[43m,\u001B[49m\n\u001B[0;32m    877\u001B[0m \u001B[43m            \u001B[49m\u001B[43merrors\u001B[49m\u001B[38;5;241;43m=\u001B[39;49m\u001B[43merrors\u001B[49m\u001B[43m,\u001B[49m\n\u001B[0;32m    878\u001B[0m \u001B[43m            \u001B[49m\u001B[43mnewline\u001B[49m\u001B[38;5;241;43m=\u001B[39;49m\u001B[38;5;124;43m\"\u001B[39;49m\u001B[38;5;124;43m\"\u001B[39;49m\u001B[43m,\u001B[49m\n\u001B[0;32m    879\u001B[0m \u001B[43m        \u001B[49m\u001B[43m)\u001B[49m\n\u001B[0;32m    880\u001B[0m     \u001B[38;5;28;01melse\u001B[39;00m:\n\u001B[0;32m    881\u001B[0m         \u001B[38;5;66;03m# Binary mode\u001B[39;00m\n\u001B[0;32m    882\u001B[0m         handle \u001B[38;5;241m=\u001B[39m \u001B[38;5;28mopen\u001B[39m(handle, ioargs\u001B[38;5;241m.\u001B[39mmode)\n",
      "\u001B[1;31mPermissionError\u001B[0m: [Errno 13] Permission denied: 'random_search_D1_1.csv'"
     ]
    }
   ],
   "source": [
    "# # Funktion zum Erstellen des Modells\n",
    "# def build_model(hp):\n",
    "#     model = Sequential()\n",
    "#     model.add(Dense(hp.Int('input_units', min_value=16, max_value=328, step=16), input_shape=(2,), activation='relu'))\n",
    "#     for i in range(hp.Int('n_layers', 1, 10)):\n",
    "#         model.add(Dense(hp.Int(f'units_{i}', min_value=16, max_value=328, step=16), activation='relu'))\n",
    "#     model.add(Dense(1, activation='linear'))\n",
    "#     model.compile(optimizer='adam', loss='mean_squared_error')\n",
    "#     return model\n",
    "# \n",
    "# # Durchführung der Random Search dreimal\n",
    "# for run in range(1, 4):\n",
    "#     # Anpassen des Verzeichnisses und des Projektnamens für jeden Durchlauf\n",
    "#     directory = 'random_search'\n",
    "#     project_name = f'random_search_D1_{run}'\n",
    "#     \n",
    "#     tuner = RandomSearch(\n",
    "#         build_model,\n",
    "#         objective='val_loss',\n",
    "#         max_trials=100,\n",
    "#         executions_per_trial=1,\n",
    "#         directory=directory,\n",
    "#         project_name=project_name\n",
    "#     )\n",
    "#     \n",
    "#     # Durchführung des Random Search\n",
    "#     tuner.search(X_train_scaled, y_train_scaled, epochs=50, verbose =0, batch_size=500, validation_split=0.2, callbacks=[EarlyStopping(monitor='val_loss', patience=5)])\n",
    "#     \n",
    "#     # Abrufen und Speichern des besten Modells\n",
    "#     best_model = tuner.get_best_models(num_models=1)[0]\n",
    "#     model_path = os.path.join(directory, project_name, 'best_model.h5') \n",
    "#     best_model.save(model_path)\n",
    "#     \n",
    "# \n",
    "#     # Optional: Abrufen und Ausgeben der besten Hyperparameter\n",
    "#     best_hyperparameters = tuner.get_best_hyperparameters()[0]\n",
    "#     \n",
    "#     # Konvertieren der Hyperparameter in ein DataFrame\n",
    "#     df_hyperparameters = pd.DataFrame([best_hyperparameters.values])\n",
    "#     # Speichern des DataFrame als CSV\n",
    "#     df_hyperparameters.to_csv(f'random_search_D1_{run}.csv', index=False)\n",
    "#     best_model.describe()\n",
    "#     print(f\"Beste Hyperparameter für Lauf {run}: {best_hyperparameters.values}\")"
   ],
   "metadata": {
    "collapsed": false,
    "ExecuteTime": {
     "end_time": "2024-02-29T09:20:52.809500800Z",
     "start_time": "2024-02-29T09:20:49.358443Z"
    }
   },
   "id": "158d81fabf560fc4"
  },
  {
   "cell_type": "code",
   "execution_count": 55,
   "outputs": [
    {
     "name": "stdout",
     "output_type": "stream",
     "text": [
      "Model: \"sequential\"\n",
      "_________________________________________________________________\n",
      " Layer (type)                Output Shape              Param #   \n",
      "=================================================================\n",
      " dense (Dense)               (None, 256)               768       \n",
      "                                                                 \n",
      " dense_1 (Dense)             (None, 128)               32896     \n",
      "                                                                 \n",
      " dense_2 (Dense)             (None, 160)               20640     \n",
      "                                                                 \n",
      " dense_3 (Dense)             (None, 224)               36064     \n",
      "                                                                 \n",
      " dense_4 (Dense)             (None, 112)               25200     \n",
      "                                                                 \n",
      " dense_5 (Dense)             (None, 320)               36160     \n",
      "                                                                 \n",
      " dense_6 (Dense)             (None, 16)                5136      \n",
      "                                                                 \n",
      " dense_7 (Dense)             (None, 112)               1904      \n",
      "                                                                 \n",
      " dense_8 (Dense)             (None, 1)                 113       \n",
      "                                                                 \n",
      "=================================================================\n",
      "Total params: 158881 (620.63 KB)\n",
      "Trainable params: 158881 (620.63 KB)\n",
      "Non-trainable params: 0 (0.00 Byte)\n",
      "_________________________________________________________________\n"
     ]
    }
   ],
   "source": [],
   "metadata": {
    "collapsed": false,
    "ExecuteTime": {
     "end_time": "2024-02-29T09:23:22.039814800Z",
     "start_time": "2024-02-29T09:23:22.016141600Z"
    }
   },
   "id": "6f86db4f21a8c913"
  },
  {
   "cell_type": "code",
   "execution_count": null,
   "outputs": [],
   "source": [],
   "metadata": {
    "collapsed": false
   },
   "id": "2a8e01cea48e945f"
  }
 ],
 "metadata": {
  "kernelspec": {
   "display_name": "Python 3 (ipykernel)",
   "language": "python",
   "name": "python3"
  },
  "language_info": {
   "codemirror_mode": {
    "name": "ipython",
    "version": 3
   },
   "file_extension": ".py",
   "mimetype": "text/x-python",
   "name": "python",
   "nbconvert_exporter": "python",
   "pygments_lexer": "ipython3",
   "version": "3.11.4"
  }
 },
 "nbformat": 4,
 "nbformat_minor": 5
}
