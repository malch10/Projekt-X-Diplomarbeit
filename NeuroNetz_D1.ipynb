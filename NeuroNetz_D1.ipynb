{
 "cells": [
  {
   "cell_type": "code",
   "execution_count": 1,
   "id": "94b0518e",
   "metadata": {
    "ExecuteTime": {
     "end_time": "2024-02-08T11:06:59.754310Z",
     "start_time": "2024-02-08T11:06:51.742885Z"
    }
   },
   "outputs": [
    {
     "name": "stdout",
     "output_type": "stream",
     "text": [
      "WARNING:tensorflow:From C:\\Users\\erikm\\Desktop\\Diplomarbeit Erik Marr\\Projekt X\\venv\\Lib\\site-packages\\keras\\src\\losses.py:2976: The name tf.losses.sparse_softmax_cross_entropy is deprecated. Please use tf.compat.v1.losses.sparse_softmax_cross_entropy instead.\n"
     ]
    }
   ],
   "source": [
    "import numpy as np\n",
    "import tensorflow as tf\n",
    "import matplotlib.pyplot as plt\n",
    "import pandas as pd\n",
    "from tensorflow import keras\n",
    "from tensorflow.keras.models import Sequential\n",
    "from tensorflow.keras.layers import Dense\n",
    "from sklearn.model_selection import train_test_split\n",
    "from tensorflow.keras import layers\n",
    "import glob\n",
    "\n",
    "from sklearn.preprocessing import MinMaxScaler, StandardScaler\n",
    "import pandas as pd\n",
    "\n",
    "from tensorflow.keras.models import Sequential\n",
    "from tensorflow.keras.layers import Dense , Dropout\n",
    "from sklearn.model_selection import GridSearchCV\n",
    "from scikeras.wrappers import KerasRegressor, KerasClassifier\n",
    "from tensorflow.keras.regularizers import l2\n",
    "from tensorflow.keras.callbacks import EarlyStopping\n",
    "from tensorflow.keras.optimizers import Adam\n"
   ]
  },
  {
   "cell_type": "code",
   "execution_count": 50,
   "id": "e4ff61b1",
   "metadata": {
    "ExecuteTime": {
     "end_time": "2024-02-08T17:15:17.002266100Z",
     "start_time": "2024-02-08T17:15:16.946033900Z"
    }
   },
   "outputs": [
    {
     "data": {
      "text/plain": "        X-Koordinate  Y-Koordinate  Zeitpunkt  Strom  Kraft  Temperatur\n0              0.000      -0.00200        300   7000   9000      532.25\n1              0.000      -0.00199        300   7000   9000      536.47\n2              0.000      -0.00198        300   7000   9000      540.69\n3              0.000      -0.00197        300   7000   9000      544.90\n4              0.000      -0.00196        300   7000   9000      549.09\n...              ...           ...        ...    ...    ...         ...\n120649         0.003       0.00196        300   7000   9000      422.17\n120650         0.003       0.00197        300   7000   9000      422.04\n120651         0.003       0.00198        300   7000   9000      421.90\n120652         0.003       0.00199        300   7000   9000      421.76\n120653         0.003       0.00200        300   7000   9000      421.60\n\n[120654 rows x 6 columns]",
      "text/html": "<div>\n<style scoped>\n    .dataframe tbody tr th:only-of-type {\n        vertical-align: middle;\n    }\n\n    .dataframe tbody tr th {\n        vertical-align: top;\n    }\n\n    .dataframe thead th {\n        text-align: right;\n    }\n</style>\n<table border=\"1\" class=\"dataframe\">\n  <thead>\n    <tr style=\"text-align: right;\">\n      <th></th>\n      <th>X-Koordinate</th>\n      <th>Y-Koordinate</th>\n      <th>Zeitpunkt</th>\n      <th>Strom</th>\n      <th>Kraft</th>\n      <th>Temperatur</th>\n    </tr>\n  </thead>\n  <tbody>\n    <tr>\n      <th>0</th>\n      <td>0.000</td>\n      <td>-0.00200</td>\n      <td>300</td>\n      <td>7000</td>\n      <td>9000</td>\n      <td>532.25</td>\n    </tr>\n    <tr>\n      <th>1</th>\n      <td>0.000</td>\n      <td>-0.00199</td>\n      <td>300</td>\n      <td>7000</td>\n      <td>9000</td>\n      <td>536.47</td>\n    </tr>\n    <tr>\n      <th>2</th>\n      <td>0.000</td>\n      <td>-0.00198</td>\n      <td>300</td>\n      <td>7000</td>\n      <td>9000</td>\n      <td>540.69</td>\n    </tr>\n    <tr>\n      <th>3</th>\n      <td>0.000</td>\n      <td>-0.00197</td>\n      <td>300</td>\n      <td>7000</td>\n      <td>9000</td>\n      <td>544.90</td>\n    </tr>\n    <tr>\n      <th>4</th>\n      <td>0.000</td>\n      <td>-0.00196</td>\n      <td>300</td>\n      <td>7000</td>\n      <td>9000</td>\n      <td>549.09</td>\n    </tr>\n    <tr>\n      <th>...</th>\n      <td>...</td>\n      <td>...</td>\n      <td>...</td>\n      <td>...</td>\n      <td>...</td>\n      <td>...</td>\n    </tr>\n    <tr>\n      <th>120649</th>\n      <td>0.003</td>\n      <td>0.00196</td>\n      <td>300</td>\n      <td>7000</td>\n      <td>9000</td>\n      <td>422.17</td>\n    </tr>\n    <tr>\n      <th>120650</th>\n      <td>0.003</td>\n      <td>0.00197</td>\n      <td>300</td>\n      <td>7000</td>\n      <td>9000</td>\n      <td>422.04</td>\n    </tr>\n    <tr>\n      <th>120651</th>\n      <td>0.003</td>\n      <td>0.00198</td>\n      <td>300</td>\n      <td>7000</td>\n      <td>9000</td>\n      <td>421.90</td>\n    </tr>\n    <tr>\n      <th>120652</th>\n      <td>0.003</td>\n      <td>0.00199</td>\n      <td>300</td>\n      <td>7000</td>\n      <td>9000</td>\n      <td>421.76</td>\n    </tr>\n    <tr>\n      <th>120653</th>\n      <td>0.003</td>\n      <td>0.00200</td>\n      <td>300</td>\n      <td>7000</td>\n      <td>9000</td>\n      <td>421.60</td>\n    </tr>\n  </tbody>\n</table>\n<p>120654 rows × 6 columns</p>\n</div>"
     },
     "execution_count": 50,
     "metadata": {},
     "output_type": "execute_result"
    }
   ],
   "source": [
    "#data = pd.read_pickle('C:/Users/erikm/Desktop/Diplomarbeit Erik Marr/Daten/Finish/TPath_300_finish_data.pkl')\n",
    "data = pd.read_pickle('C:/Users/erikm/Desktop/Diplomarbeit Erik Marr/Daten/Finish_D1_I7000_F9000/TPath_300_finish_data_D1.pkl')\n",
    "\n",
    "data"
   ]
  },
  {
   "cell_type": "code",
   "execution_count": 51,
   "id": "966e3c74",
   "metadata": {
    "ExecuteTime": {
     "end_time": "2024-02-08T17:15:39.343009800Z",
     "start_time": "2024-02-08T17:15:39.309993200Z"
    }
   },
   "outputs": [
    {
     "data": {
      "text/plain": "        X-Koordinate  Y-Koordinate  Temperatur\n0              0.000      -0.00200      532.25\n1              0.000      -0.00199      536.47\n2              0.000      -0.00198      540.69\n3              0.000      -0.00197      544.90\n4              0.000      -0.00196      549.09\n...              ...           ...         ...\n120649         0.003       0.00196      422.17\n120650         0.003       0.00197      422.04\n120651         0.003       0.00198      421.90\n120652         0.003       0.00199      421.76\n120653         0.003       0.00200      421.60\n\n[120654 rows x 3 columns]",
      "text/html": "<div>\n<style scoped>\n    .dataframe tbody tr th:only-of-type {\n        vertical-align: middle;\n    }\n\n    .dataframe tbody tr th {\n        vertical-align: top;\n    }\n\n    .dataframe thead th {\n        text-align: right;\n    }\n</style>\n<table border=\"1\" class=\"dataframe\">\n  <thead>\n    <tr style=\"text-align: right;\">\n      <th></th>\n      <th>X-Koordinate</th>\n      <th>Y-Koordinate</th>\n      <th>Temperatur</th>\n    </tr>\n  </thead>\n  <tbody>\n    <tr>\n      <th>0</th>\n      <td>0.000</td>\n      <td>-0.00200</td>\n      <td>532.25</td>\n    </tr>\n    <tr>\n      <th>1</th>\n      <td>0.000</td>\n      <td>-0.00199</td>\n      <td>536.47</td>\n    </tr>\n    <tr>\n      <th>2</th>\n      <td>0.000</td>\n      <td>-0.00198</td>\n      <td>540.69</td>\n    </tr>\n    <tr>\n      <th>3</th>\n      <td>0.000</td>\n      <td>-0.00197</td>\n      <td>544.90</td>\n    </tr>\n    <tr>\n      <th>4</th>\n      <td>0.000</td>\n      <td>-0.00196</td>\n      <td>549.09</td>\n    </tr>\n    <tr>\n      <th>...</th>\n      <td>...</td>\n      <td>...</td>\n      <td>...</td>\n    </tr>\n    <tr>\n      <th>120649</th>\n      <td>0.003</td>\n      <td>0.00196</td>\n      <td>422.17</td>\n    </tr>\n    <tr>\n      <th>120650</th>\n      <td>0.003</td>\n      <td>0.00197</td>\n      <td>422.04</td>\n    </tr>\n    <tr>\n      <th>120651</th>\n      <td>0.003</td>\n      <td>0.00198</td>\n      <td>421.90</td>\n    </tr>\n    <tr>\n      <th>120652</th>\n      <td>0.003</td>\n      <td>0.00199</td>\n      <td>421.76</td>\n    </tr>\n    <tr>\n      <th>120653</th>\n      <td>0.003</td>\n      <td>0.00200</td>\n      <td>421.60</td>\n    </tr>\n  </tbody>\n</table>\n<p>120654 rows × 3 columns</p>\n</div>"
     },
     "execution_count": 51,
     "metadata": {},
     "output_type": "execute_result"
    }
   ],
   "source": [
    "df = data.drop(data.columns[2:5], axis = 1)\n",
    "df"
   ]
  },
  {
   "cell_type": "code",
   "execution_count": 52,
   "id": "8783d1d6",
   "metadata": {
    "ExecuteTime": {
     "end_time": "2024-02-08T17:15:40.021479Z",
     "start_time": "2024-02-08T17:15:39.957273Z"
    }
   },
   "outputs": [
    {
     "name": "stdout",
     "output_type": "stream",
     "text": [
      "        X-Koordinate  Y-Koordinate  Temperatur\n",
      "98727        0.00246      -0.00119      733.99\n",
      "39755        0.00099      -0.00144      738.26\n",
      "104285       0.00260      -0.00175      693.22\n",
      "15272        0.00038      -0.00166      665.76\n",
      "58728        0.00146      -0.00018      859.83\n",
      "...              ...           ...         ...\n",
      "110268       0.00274       0.00198      441.73\n",
      "119879       0.00299      -0.00179      654.76\n",
      "103694       0.00258       0.00036      724.67\n",
      "860          0.00002      -0.00142      743.94\n",
      "15795        0.00039      -0.00044      902.39\n",
      "\n",
      "[120654 rows x 3 columns]\n"
     ]
    },
    {
     "data": {
      "text/plain": "        X-Koordinate  Y-Koordinate  Temperatur\n0            0.00246      -0.00119      733.99\n1            0.00099      -0.00144      738.26\n2            0.00260      -0.00175      693.22\n3            0.00038      -0.00166      665.76\n4            0.00146      -0.00018      859.83\n...              ...           ...         ...\n120649       0.00274       0.00198      441.73\n120650       0.00299      -0.00179      654.76\n120651       0.00258       0.00036      724.67\n120652       0.00002      -0.00142      743.94\n120653       0.00039      -0.00044      902.39\n\n[120654 rows x 3 columns]",
      "text/html": "<div>\n<style scoped>\n    .dataframe tbody tr th:only-of-type {\n        vertical-align: middle;\n    }\n\n    .dataframe tbody tr th {\n        vertical-align: top;\n    }\n\n    .dataframe thead th {\n        text-align: right;\n    }\n</style>\n<table border=\"1\" class=\"dataframe\">\n  <thead>\n    <tr style=\"text-align: right;\">\n      <th></th>\n      <th>X-Koordinate</th>\n      <th>Y-Koordinate</th>\n      <th>Temperatur</th>\n    </tr>\n  </thead>\n  <tbody>\n    <tr>\n      <th>0</th>\n      <td>0.00246</td>\n      <td>-0.00119</td>\n      <td>733.99</td>\n    </tr>\n    <tr>\n      <th>1</th>\n      <td>0.00099</td>\n      <td>-0.00144</td>\n      <td>738.26</td>\n    </tr>\n    <tr>\n      <th>2</th>\n      <td>0.00260</td>\n      <td>-0.00175</td>\n      <td>693.22</td>\n    </tr>\n    <tr>\n      <th>3</th>\n      <td>0.00038</td>\n      <td>-0.00166</td>\n      <td>665.76</td>\n    </tr>\n    <tr>\n      <th>4</th>\n      <td>0.00146</td>\n      <td>-0.00018</td>\n      <td>859.83</td>\n    </tr>\n    <tr>\n      <th>...</th>\n      <td>...</td>\n      <td>...</td>\n      <td>...</td>\n    </tr>\n    <tr>\n      <th>120649</th>\n      <td>0.00274</td>\n      <td>0.00198</td>\n      <td>441.73</td>\n    </tr>\n    <tr>\n      <th>120650</th>\n      <td>0.00299</td>\n      <td>-0.00179</td>\n      <td>654.76</td>\n    </tr>\n    <tr>\n      <th>120651</th>\n      <td>0.00258</td>\n      <td>0.00036</td>\n      <td>724.67</td>\n    </tr>\n    <tr>\n      <th>120652</th>\n      <td>0.00002</td>\n      <td>-0.00142</td>\n      <td>743.94</td>\n    </tr>\n    <tr>\n      <th>120653</th>\n      <td>0.00039</td>\n      <td>-0.00044</td>\n      <td>902.39</td>\n    </tr>\n  </tbody>\n</table>\n<p>120654 rows × 3 columns</p>\n</div>"
     },
     "execution_count": 52,
     "metadata": {},
     "output_type": "execute_result"
    }
   ],
   "source": [
    "df1 = df.sample(frac=1, random_state=42)  # Hier wird 42 als Random State verwendet, um die Ergebnisse reproduzierbar zu machen\n",
    "\n",
    "print(df1)\n",
    "df_reset = df1.reset_index(drop=True)\n",
    "df_reset"
   ]
  },
  {
   "cell_type": "code",
   "execution_count": 53,
   "id": "a4e72a16",
   "metadata": {
    "ExecuteTime": {
     "end_time": "2024-02-08T17:15:40.809424100Z",
     "start_time": "2024-02-08T17:15:40.785975100Z"
    }
   },
   "outputs": [],
   "source": [
    "label = df_reset[\"Temperatur\"]\n",
    "# Korrektur: Verwenden Sie den Spaltennamen direkt, ohne Indexierung der columns-Eigenschaft\n",
    "df1 = df_reset.drop(\"Temperatur\", axis=1)\n",
    "X = df1\n",
    "y = label\n"
   ]
  },
  {
   "cell_type": "markdown",
   "source": [],
   "metadata": {
    "collapsed": false
   },
   "id": "f7fa289a50d87423"
  },
  {
   "cell_type": "code",
   "execution_count": 54,
   "id": "e694a236",
   "metadata": {
    "ExecuteTime": {
     "end_time": "2024-02-08T17:15:41.968815300Z",
     "start_time": "2024-02-08T17:15:41.950948200Z"
    }
   },
   "outputs": [
    {
     "data": {
      "text/plain": "        X-Koordinate  Y-Koordinate\n0            0.00246      -0.00119\n1            0.00099      -0.00144\n2            0.00260      -0.00175\n3            0.00038      -0.00166\n4            0.00146      -0.00018\n...              ...           ...\n120649       0.00274       0.00198\n120650       0.00299      -0.00179\n120651       0.00258       0.00036\n120652       0.00002      -0.00142\n120653       0.00039      -0.00044\n\n[120654 rows x 2 columns]",
      "text/html": "<div>\n<style scoped>\n    .dataframe tbody tr th:only-of-type {\n        vertical-align: middle;\n    }\n\n    .dataframe tbody tr th {\n        vertical-align: top;\n    }\n\n    .dataframe thead th {\n        text-align: right;\n    }\n</style>\n<table border=\"1\" class=\"dataframe\">\n  <thead>\n    <tr style=\"text-align: right;\">\n      <th></th>\n      <th>X-Koordinate</th>\n      <th>Y-Koordinate</th>\n    </tr>\n  </thead>\n  <tbody>\n    <tr>\n      <th>0</th>\n      <td>0.00246</td>\n      <td>-0.00119</td>\n    </tr>\n    <tr>\n      <th>1</th>\n      <td>0.00099</td>\n      <td>-0.00144</td>\n    </tr>\n    <tr>\n      <th>2</th>\n      <td>0.00260</td>\n      <td>-0.00175</td>\n    </tr>\n    <tr>\n      <th>3</th>\n      <td>0.00038</td>\n      <td>-0.00166</td>\n    </tr>\n    <tr>\n      <th>4</th>\n      <td>0.00146</td>\n      <td>-0.00018</td>\n    </tr>\n    <tr>\n      <th>...</th>\n      <td>...</td>\n      <td>...</td>\n    </tr>\n    <tr>\n      <th>120649</th>\n      <td>0.00274</td>\n      <td>0.00198</td>\n    </tr>\n    <tr>\n      <th>120650</th>\n      <td>0.00299</td>\n      <td>-0.00179</td>\n    </tr>\n    <tr>\n      <th>120651</th>\n      <td>0.00258</td>\n      <td>0.00036</td>\n    </tr>\n    <tr>\n      <th>120652</th>\n      <td>0.00002</td>\n      <td>-0.00142</td>\n    </tr>\n    <tr>\n      <th>120653</th>\n      <td>0.00039</td>\n      <td>-0.00044</td>\n    </tr>\n  </tbody>\n</table>\n<p>120654 rows × 2 columns</p>\n</div>"
     },
     "execution_count": 54,
     "metadata": {},
     "output_type": "execute_result"
    }
   ],
   "source": [
    "X"
   ]
  },
  {
   "cell_type": "code",
   "execution_count": 55,
   "id": "3f3303b4",
   "metadata": {
    "ExecuteTime": {
     "end_time": "2024-02-08T17:15:43.741742300Z",
     "start_time": "2024-02-08T17:15:43.704393Z"
    }
   },
   "outputs": [
    {
     "data": {
      "text/plain": "0         733.99\n1         738.26\n2         693.22\n3         665.76\n4         859.83\n           ...  \n120649    441.73\n120650    654.76\n120651    724.67\n120652    743.94\n120653    902.39\nName: Temperatur, Length: 120654, dtype: float64"
     },
     "execution_count": 55,
     "metadata": {},
     "output_type": "execute_result"
    }
   ],
   "source": [
    "y"
   ]
  },
  {
   "cell_type": "code",
   "execution_count": 56,
   "id": "e3ad8da0",
   "metadata": {
    "ExecuteTime": {
     "end_time": "2024-02-08T17:15:44.748796400Z",
     "start_time": "2024-02-08T17:15:44.717023900Z"
    }
   },
   "outputs": [],
   "source": [
    " # train_df enthält 80% der Daten, test_df enthält 20% der Daten\n",
    "X_train, X_test, y_train, y_test = train_test_split(X, y, test_size=0.20, random_state=42)\n"
   ]
  },
  {
   "cell_type": "code",
   "execution_count": 57,
   "id": "9c705edb",
   "metadata": {
    "ExecuteTime": {
     "end_time": "2024-02-08T17:15:46.188112100Z",
     "start_time": "2024-02-08T17:15:46.155504200Z"
    }
   },
   "outputs": [],
   "source": [
    "# Initialisiere einen MinMaxScaler für die Features\n",
    "scaler_features = MinMaxScaler()\n",
    "scaler_features2 = MinMaxScaler()\n",
    "# Skaliere X_train und X_test\n",
    "X_train_scaled = scaler_features.fit_transform(X_train)\n",
    "X_test_scaled = scaler_features.transform(X_test)  # Nutze unterschiedliche Skalierungsparameter\n",
    "\n",
    "# Initialisiere einen SEPARATEN MinMaxScaler für das Ziel, wenn nötig\n",
    "scaler_target = MinMaxScaler()\n",
    "\n",
    "\n",
    "# Skaliere y_train und y_test. Beachte, dass y_train.reshape(-1, 1) verwendet wird, da MinMaxScaler \n",
    "# erwartet, dass die Eingaben als 2D-Arrays kommen, und Ziele normalerweise als 1D-Arrays vorliegen.\n",
    "y_train_scaled = scaler_target.fit_transform(y_train.values.reshape(-1, 1))\n",
    "y_test_scaled = scaler_target.transform(y_test.values.reshape(-1, 1))\n"
   ]
  },
  {
   "cell_type": "code",
   "execution_count": 58,
   "id": "bbefe631e495b483",
   "metadata": {
    "ExecuteTime": {
     "end_time": "2024-02-08T17:15:47.300646500Z",
     "start_time": "2024-02-08T17:15:47.298135300Z"
    }
   },
   "outputs": [
    {
     "data": {
      "text/plain": "array([[0.97      , 0.9575    ],\n       [0.06666667, 0.325     ],\n       [0.65      , 0.69      ],\n       ...,\n       [0.25666667, 0.1175    ],\n       [0.81333333, 0.2225    ],\n       [0.22      , 0.22      ]])"
     },
     "execution_count": 58,
     "metadata": {},
     "output_type": "execute_result"
    }
   ],
   "source": [
    "X_train_scaled"
   ]
  },
  {
   "cell_type": "code",
   "execution_count": 59,
   "outputs": [
    {
     "data": {
      "text/plain": "1.0"
     },
     "execution_count": 59,
     "metadata": {},
     "output_type": "execute_result"
    }
   ],
   "source": [
    "y_train_scaled.max()"
   ],
   "metadata": {
    "collapsed": false,
    "ExecuteTime": {
     "end_time": "2024-02-08T17:15:54.469934400Z",
     "start_time": "2024-02-08T17:15:54.433492Z"
    }
   },
   "id": "ce04ce43aac2242f"
  },
  {
   "cell_type": "code",
   "execution_count": 60,
   "id": "a6eccbb7534cd064",
   "metadata": {
    "ExecuteTime": {
     "end_time": "2024-02-08T17:15:54.995555800Z",
     "start_time": "2024-02-08T17:15:54.995047600Z"
    }
   },
   "outputs": [],
   "source": [
    "# Lernplan erstellen\n",
    "#initial_learning_rate = 0.1\n",
    "#lr_schedule = tf.keras.optimizers.schedules.ExponentialDecay(\n",
    "#    initial_learning_rate, decay_steps=100, decay_rate=0.9, staircase=True)"
   ]
  },
  {
   "cell_type": "code",
   "execution_count": 61,
   "outputs": [
    {
     "name": "stdout",
     "output_type": "stream",
     "text": [
      "Epoch 1/100\n",
      "1545/1545 [==============================] - 2s 1ms/step - loss: 0.3223 - mae: 0.1503 - val_loss: 0.0823 - val_mae: 0.0800\n",
      "Epoch 2/100\n",
      "1545/1545 [==============================] - 1s 862us/step - loss: 0.0345 - mae: 0.0636 - val_loss: 0.0143 - val_mae: 0.0549\n",
      "Epoch 3/100\n",
      "1545/1545 [==============================] - 1s 840us/step - loss: 0.0108 - mae: 0.0490 - val_loss: 0.0085 - val_mae: 0.0447\n",
      "Epoch 4/100\n",
      "1545/1545 [==============================] - 1s 851us/step - loss: 0.0074 - mae: 0.0415 - val_loss: 0.0065 - val_mae: 0.0404\n",
      "Epoch 5/100\n",
      "1545/1545 [==============================] - 1s 843us/step - loss: 0.0057 - mae: 0.0333 - val_loss: 0.0051 - val_mae: 0.0290\n",
      "Epoch 6/100\n",
      "1545/1545 [==============================] - 1s 849us/step - loss: 0.0047 - mae: 0.0289 - val_loss: 0.0042 - val_mae: 0.0267\n",
      "Epoch 7/100\n",
      "1545/1545 [==============================] - 1s 877us/step - loss: 0.0040 - mae: 0.0262 - val_loss: 0.0037 - val_mae: 0.0254\n",
      "Epoch 8/100\n",
      "1545/1545 [==============================] - 1s 876us/step - loss: 0.0035 - mae: 0.0245 - val_loss: 0.0034 - val_mae: 0.0238\n",
      "Epoch 9/100\n",
      "1545/1545 [==============================] - 1s 899us/step - loss: 0.0032 - mae: 0.0235 - val_loss: 0.0030 - val_mae: 0.0225\n",
      "Epoch 10/100\n",
      "1545/1545 [==============================] - 1s 850us/step - loss: 0.0029 - mae: 0.0229 - val_loss: 0.0026 - val_mae: 0.0207\n",
      "Epoch 11/100\n",
      "1545/1545 [==============================] - 1s 845us/step - loss: 0.0026 - mae: 0.0221 - val_loss: 0.0025 - val_mae: 0.0221\n",
      "Epoch 12/100\n",
      "1545/1545 [==============================] - 1s 907us/step - loss: 0.0025 - mae: 0.0216 - val_loss: 0.0023 - val_mae: 0.0208\n",
      "Epoch 13/100\n",
      "1545/1545 [==============================] - 1s 869us/step - loss: 0.0023 - mae: 0.0214 - val_loss: 0.0021 - val_mae: 0.0208\n",
      "Epoch 14/100\n",
      "1545/1545 [==============================] - 1s 850us/step - loss: 0.0022 - mae: 0.0212 - val_loss: 0.0024 - val_mae: 0.0258\n",
      "Epoch 15/100\n",
      "1545/1545 [==============================] - 1s 860us/step - loss: 0.0021 - mae: 0.0207 - val_loss: 0.0019 - val_mae: 0.0186\n",
      "Epoch 16/100\n",
      "1545/1545 [==============================] - 1s 833us/step - loss: 0.0020 - mae: 0.0206 - val_loss: 0.0019 - val_mae: 0.0188\n",
      "Epoch 17/100\n",
      "1545/1545 [==============================] - 1s 903us/step - loss: 0.0019 - mae: 0.0202 - val_loss: 0.0018 - val_mae: 0.0200\n",
      "Epoch 18/100\n",
      "1545/1545 [==============================] - 1s 896us/step - loss: 0.0019 - mae: 0.0199 - val_loss: 0.0017 - val_mae: 0.0193\n",
      "Epoch 19/100\n",
      "1545/1545 [==============================] - 1s 847us/step - loss: 0.0018 - mae: 0.0199 - val_loss: 0.0019 - val_mae: 0.0217\n",
      "Epoch 20/100\n",
      "1545/1545 [==============================] - 1s 869us/step - loss: 0.0018 - mae: 0.0198 - val_loss: 0.0019 - val_mae: 0.0239\n",
      "Epoch 21/100\n",
      "1545/1545 [==============================] - 1s 834us/step - loss: 0.0017 - mae: 0.0193 - val_loss: 0.0021 - val_mae: 0.0257\n",
      "Epoch 22/100\n",
      "1545/1545 [==============================] - 1s 852us/step - loss: 0.0017 - mae: 0.0193 - val_loss: 0.0016 - val_mae: 0.0180\n",
      "Epoch 23/100\n",
      "1545/1545 [==============================] - 1s 869us/step - loss: 0.0017 - mae: 0.0193 - val_loss: 0.0019 - val_mae: 0.0220\n",
      "Epoch 24/100\n",
      "1545/1545 [==============================] - 1s 835us/step - loss: 0.0016 - mae: 0.0193 - val_loss: 0.0017 - val_mae: 0.0200\n",
      "Epoch 25/100\n",
      "1545/1545 [==============================] - 1s 851us/step - loss: 0.0016 - mae: 0.0193 - val_loss: 0.0015 - val_mae: 0.0186\n",
      "Epoch 26/100\n",
      "1545/1545 [==============================] - 1s 886us/step - loss: 0.0016 - mae: 0.0190 - val_loss: 0.0014 - val_mae: 0.0169\n",
      "Epoch 27/100\n",
      "1545/1545 [==============================] - 1s 855us/step - loss: 0.0015 - mae: 0.0187 - val_loss: 0.0014 - val_mae: 0.0184\n",
      "Epoch 28/100\n",
      "1545/1545 [==============================] - 1s 879us/step - loss: 0.0015 - mae: 0.0192 - val_loss: 0.0015 - val_mae: 0.0194\n",
      "Epoch 29/100\n",
      "1545/1545 [==============================] - 1s 876us/step - loss: 0.0015 - mae: 0.0189 - val_loss: 0.0013 - val_mae: 0.0168\n",
      "Epoch 30/100\n",
      "1545/1545 [==============================] - 1s 841us/step - loss: 0.0015 - mae: 0.0189 - val_loss: 0.0015 - val_mae: 0.0188\n",
      "Epoch 31/100\n",
      "1545/1545 [==============================] - 1s 822us/step - loss: 0.0015 - mae: 0.0189 - val_loss: 0.0016 - val_mae: 0.0207\n",
      "Epoch 32/100\n",
      "1545/1545 [==============================] - 1s 852us/step - loss: 0.0015 - mae: 0.0190 - val_loss: 0.0015 - val_mae: 0.0189\n",
      "Epoch 33/100\n",
      "1545/1545 [==============================] - 1s 861us/step - loss: 0.0015 - mae: 0.0190 - val_loss: 0.0014 - val_mae: 0.0199\n",
      "Epoch 34/100\n",
      "1545/1545 [==============================] - 1s 835us/step - loss: 0.0014 - mae: 0.0186 - val_loss: 0.0013 - val_mae: 0.0167\n",
      "Epoch 35/100\n",
      "1541/1545 [============================>.] - ETA: 0s - loss: 0.0014 - mae: 0.0184Restoring model weights from the end of the best epoch: 30.\n",
      "1545/1545 [==============================] - 1s 873us/step - loss: 0.0014 - mae: 0.0184 - val_loss: 0.0014 - val_mae: 0.0189\n",
      "Epoch 35: early stopping\n"
     ]
    }
   ],
   "source": [
    "# Netzwerkarchitektur\n",
    "model = Sequential([\n",
    "    # Eingabeschicht\n",
    "    Dense(32, activation='relu', input_shape=(2,), kernel_initializer='he_uniform', kernel_regularizer=l2(0.01)),\n",
    "    #Dropout(0.01),\n",
    "    # Versteckte Schicht\n",
    "    #Dense(8, activation='relu', kernel_initializer='he_uniform', kernel_regularizer=l2(0.01)),\n",
    "    #Dropout(0.01),\n",
    "    # Ausgabeschicht für Regression (1 Einheit ohne Aktivierungsfunktion)\n",
    "    Dense(1 , activation = 'linear')\n",
    "])\n",
    "\n",
    "# Optimierer\n",
    "optimizer = 'adam' #Adam(learningrate =  0.001)\n",
    "\n",
    "# Modell kompilieren (Verwendung von mean_squared_error als Verlustfunktion für Regression)\n",
    "model.compile(optimizer=optimizer,\n",
    "              loss='mean_squared_error',\n",
    "              metrics=['mae'])  # Metriken für Regression: Mean Absolute Error und Mean Squared Error\n",
    "\n",
    "# Early Stopping Callback\n",
    "early_stopping = EarlyStopping(monitor='loss', patience=5, verbose=1, mode='min', restore_best_weights=True, min_delta = 0.0001)\n",
    "\n",
    "# Trainingsparameter\n",
    "batch_size = 50\n",
    "epochs = 100\n",
    "\n",
    "# Modell trainieren (Annahme: X_train, y_train, X_val, y_val sind vordefiniert)\n",
    "history = model.fit(X_train_scaled, y_train_scaled,\n",
    "                    batch_size=batch_size,\n",
    "                    epochs=epochs,\n",
    "                    validation_split=0.2,\n",
    "                    callbacks=[early_stopping])"
   ],
   "metadata": {
    "collapsed": false,
    "ExecuteTime": {
     "end_time": "2024-02-08T17:16:43.421849800Z",
     "start_time": "2024-02-08T17:15:55.404054100Z"
    }
   },
   "id": "8b52e1a9a6ff3aeb"
  },
  {
   "cell_type": "code",
   "execution_count": 62,
   "outputs": [
    {
     "data": {
      "text/plain": "<Figure size 1000x600 with 1 Axes>",
      "image/png": "[encoded data removed]"
     },
     "metadata": {},
     "output_type": "display_data"
    }
   ],
   "source": [
    "mae = history.history['loss']\n",
    "val_mae = history.history['val_loss']\n",
    "\n",
    "epochs = range(1, len(mae) + 1)\n",
    "\n",
    "# MAE Diagramm\n",
    "plt.figure(figsize=(10, 6))\n",
    "plt.plot(epochs, mae, 'r', label='Training MAE')\n",
    "plt.plot(epochs, val_mae, 'b', label='Validation MAE')\n",
    "plt.title('Training and Validation MAE')\n",
    "plt.xlabel('Epochs')\n",
    "plt.ylabel('MAE')\n",
    "plt.legend()\n",
    "\n",
    "plt.show()"
   ],
   "metadata": {
    "collapsed": false,
    "ExecuteTime": {
     "end_time": "2024-02-08T17:16:48.630478700Z",
     "start_time": "2024-02-08T17:16:48.494493700Z"
    }
   },
   "id": "3688dd7102e95baf"
  },
  {
   "cell_type": "code",
   "execution_count": 63,
   "id": "9f6f672a",
   "metadata": {
    "ExecuteTime": {
     "end_time": "2024-02-08T17:16:50.612801100Z",
     "start_time": "2024-02-08T17:16:49.759502800Z"
    }
   },
   "outputs": [
    {
     "name": "stdout",
     "output_type": "stream",
     "text": [
      " Bsp. Predicted: [885.8579] Actual: [880.09] \n",
      "Durchschnittliche Abweichung (MAE): [9.41356127]\n"
     ]
    }
   ],
   "source": [
    "scaled_predicted_values = model.predict(X_test_scaled, verbose = 0)\n",
    "\n",
    "# Führen Sie die Rücktransformation der skalierten Werte durch\n",
    "original_predicted_values = scaler_target.inverse_transform(scaled_predicted_values)\n",
    "original_actual_values = scaler_target.inverse_transform(y_test_scaled)  # y_test sind die skalierten tatsächlichen Werte\n",
    "print(f' Bsp. Predicted: {original_predicted_values[100]} Actual: {original_actual_values[100]} ')\n",
    "\n",
    "def calculate_mae(list1, list2):\n",
    "    # Stelle sicher, dass beide Listen die gleiche Länge haben\n",
    "    if len(list1) != len(list2):\n",
    "        raise ValueError(\"Listen müssen die gleiche Länge haben\")\n",
    "    \n",
    "    # Berechne die absolute Differenz zwischen den Elementen der Listen\n",
    "    differences = [abs(x - y) for x, y in zip(list1, list2)]\n",
    "    \n",
    "    # Berechne den Durchschnitt der absoluten Differenzen\n",
    "    mae = sum(differences) / len(differences)\n",
    "    \n",
    "    return mae\n",
    "\n",
    "# Beispiel\n",
    "list1 = original_predicted_values\n",
    "list2 = original_actual_values\n",
    "\n",
    "mae = calculate_mae(list1, list2)\n",
    "print(f\"Durchschnittliche Abweichung (MAE): {mae}\")"
   ]
  },
  {
   "cell_type": "markdown",
   "id": "553df6fa",
   "metadata": {},
   "source": [
    "# GridSearch"
   ]
  },
  {
   "cell_type": "code",
   "execution_count": 11,
   "id": "1dca80c2",
   "metadata": {},
   "outputs": [
    {
     "name": "stdout",
     "output_type": "stream",
     "text": [
      "WARNING:tensorflow:From C:\\Users\\erikm\\anaconda3\\Lib\\site-packages\\keras\\backend.py:873: The name tf.get_default_graph is deprecated. Please use tf.compat.v1.get_default_graph instead.\n",
      "\n",
      "WARNING:tensorflow:From C:\\Users\\erikm\\anaconda3\\Lib\\site-packages\\keras\\optimizers\\__init__.py:300: The name tf.train.Optimizer is deprecated. Please use tf.compat.v1.train.Optimizer instead.\n",
      "\n",
      "Epoch 1/10\n",
      "WARNING:tensorflow:From C:\\Users\\erikm\\anaconda3\\Lib\\site-packages\\keras\\utils\\tf_utils.py:490: The name tf.ragged.RaggedTensorValue is deprecated. Please use tf.compat.v1.ragged.RaggedTensorValue instead.\n",
      "\n",
      "WARNING:tensorflow:From C:\\Users\\erikm\\anaconda3\\Lib\\site-packages\\keras\\engine\\base_layer_utils.py:380: The name tf.executing_eagerly_outside_functions is deprecated. Please use tf.compat.v1.executing_eagerly_outside_functions instead.\n",
      "\n",
      "3025/3025 [==============================] - 6s 2ms/step - loss: 0.0097 - mean_squared_error: 0.0097\n",
      "Epoch 2/10\n",
      "3025/3025 [==============================] - 5s 2ms/step - loss: 0.0026 - mean_squared_error: 0.0026\n",
      "Epoch 3/10\n",
      "3025/3025 [==============================] - 5s 2ms/step - loss: 0.0025 - mean_squared_error: 0.0025\n",
      "Epoch 4/10\n",
      "3025/3025 [==============================] - 5s 2ms/step - loss: 0.0025 - mean_squared_error: 0.0025\n",
      "Epoch 5/10\n",
      "3025/3025 [==============================] - 5s 2ms/step - loss: 0.0025 - mean_squared_error: 0.0025\n",
      "Epoch 6/10\n",
      "3025/3025 [==============================] - 5s 2ms/step - loss: 0.0025 - mean_squared_error: 0.0025\n",
      "Epoch 7/10\n",
      "3025/3025 [==============================] - 5s 2ms/step - loss: 0.0025 - mean_squared_error: 0.0025\n",
      "Epoch 8/10\n",
      "3025/3025 [==============================] - 5s 2ms/step - loss: 0.0025 - mean_squared_error: 0.0025\n",
      "Epoch 9/10\n",
      "3025/3025 [==============================] - 5s 2ms/step - loss: 0.0025 - mean_squared_error: 0.0025\n",
      "Epoch 10/10\n",
      "3025/3025 [==============================] - 5s 2ms/step - loss: 0.0025 - mean_squared_error: 0.0025\n",
      "Best: 0.844394 using {'model__activation': 'relu', 'model__optimizer': 'adam'}\n",
      "0.844394 with: {'model__activation': 'relu', 'model__optimizer': 'adam'}\n",
      "0.827458 with: {'model__activation': 'relu', 'model__optimizer': 'sgd'}\n",
      "0.834291 with: {'model__activation': 'tanh', 'model__optimizer': 'adam'}\n",
      "0.630665 with: {'model__activation': 'tanh', 'model__optimizer': 'sgd'}\n"
     ]
    }
   ],
   "source": [
    "# Schritt 1: Definiere dein Modell als eine Funktion, die Hyperparameter akzeptiert\n",
    "def build_model(optimizer='adam', activation='relu'):\n",
    "    model = Sequential()\n",
    "    model.add(Dense(units=64, activation=activation, input_dim=X_train_scaled.shape[1]))\n",
    "    model.add(Dense(units=32, activation=activation))\n",
    "    model.add(Dense(units=1, activation='linear'))\n",
    "    model.compile(optimizer=optimizer, loss='mean_squared_error', metrics=['mean_squared_error'])\n",
    "    return model\n",
    "\n",
    "# Schritt 2: Erstelle eine Instanz von KerasRegressor ohne batch_size und epochs im param_grid\n",
    "model = KerasRegressor(model=build_model, verbose=1)\n",
    "\n",
    "# Schritt 3: Definiere den Parameter-Raum für die Grid-Suche OHNE batch_size und epochs\n",
    "param_grid = {\n",
    "    'model__optimizer': ['adam', 'sgd'],\n",
    "    'model__activation': ['relu', 'tanh']\n",
    "}\n",
    "\n",
    "# Optional: Definiere Fit-Parameter (wie batch_size und epochs) separat\n",
    "fit_params = {\n",
    "    'batch_size': 32,\n",
    "    'epochs': 10\n",
    "}\n",
    "\n",
    "# Schritt 4: Führe GridSearchCV aus mit fit_params, wenn nötig\n",
    "grid = GridSearchCV(estimator=model, param_grid=param_grid, n_jobs=-1, cv=3)\n",
    "grid_result = grid.fit(X_train_scaled, y_train_scaled, **fit_params)\n",
    "\n",
    "# Ergebnisse ausgeben\n",
    "print(\"Best: %f using %s\" % (grid_result.best_score_, grid_result.best_params_))\n",
    "for mean_score, params in zip(grid_result.cv_results_['mean_test_score'], grid_result.cv_results_['params']):\n",
    "    print(\"%f with: %r\" % (mean_score, params))\n"
   ]
  },
  {
   "cell_type": "code",
   "execution_count": 12,
   "id": "3f17e2cf",
   "metadata": {},
   "outputs": [
    {
     "name": "stdout",
     "output_type": "stream",
     "text": [
      "Epoch 1/5\n",
      "4840/4840 [==============================] - 10s 2ms/step - loss: 0.0053 - mean_squared_error: 0.0053\n",
      "Epoch 2/5\n",
      "4840/4840 [==============================] - 9s 2ms/step - loss: 0.0026 - mean_squared_error: 0.0026\n",
      "Epoch 3/5\n",
      "4840/4840 [==============================] - 8s 2ms/step - loss: 0.0026 - mean_squared_error: 0.0026\n",
      "Epoch 4/5\n",
      "4840/4840 [==============================] - 8s 2ms/step - loss: 0.0025 - mean_squared_error: 0.0025\n",
      "Epoch 5/5\n",
      "4840/4840 [==============================] - 8s 2ms/step - loss: 0.0025 - mean_squared_error: 0.0025\n",
      "Best: 0.845704 using {'fit__batch_size': 20, 'fit__epochs': 5, 'model__activation': 'relu', 'model__optimizer': 'adam'}\n",
      "0.840889 with: {'fit__batch_size': 10, 'fit__epochs': 5, 'model__activation': 'relu', 'model__optimizer': 'adam'}\n",
      "0.834983 with: {'fit__batch_size': 10, 'fit__epochs': 5, 'model__activation': 'relu', 'model__optimizer': 'sgd'}\n",
      "0.833309 with: {'fit__batch_size': 10, 'fit__epochs': 5, 'model__activation': 'tanh', 'model__optimizer': 'adam'}\n",
      "0.761438 with: {'fit__batch_size': 10, 'fit__epochs': 5, 'model__activation': 'tanh', 'model__optimizer': 'sgd'}\n",
      "0.840925 with: {'fit__batch_size': 10, 'fit__epochs': 10, 'model__activation': 'relu', 'model__optimizer': 'adam'}\n",
      "0.841489 with: {'fit__batch_size': 10, 'fit__epochs': 10, 'model__activation': 'relu', 'model__optimizer': 'sgd'}\n",
      "0.831441 with: {'fit__batch_size': 10, 'fit__epochs': 10, 'model__activation': 'tanh', 'model__optimizer': 'adam'}\n",
      "0.781805 with: {'fit__batch_size': 10, 'fit__epochs': 10, 'model__activation': 'tanh', 'model__optimizer': 'sgd'}\n",
      "0.845704 with: {'fit__batch_size': 20, 'fit__epochs': 5, 'model__activation': 'relu', 'model__optimizer': 'adam'}\n",
      "0.815947 with: {'fit__batch_size': 20, 'fit__epochs': 5, 'model__activation': 'relu', 'model__optimizer': 'sgd'}\n",
      "0.813188 with: {'fit__batch_size': 20, 'fit__epochs': 5, 'model__activation': 'tanh', 'model__optimizer': 'adam'}\n",
      "0.624004 with: {'fit__batch_size': 20, 'fit__epochs': 5, 'model__activation': 'tanh', 'model__optimizer': 'sgd'}\n",
      "0.842122 with: {'fit__batch_size': 20, 'fit__epochs': 10, 'model__activation': 'relu', 'model__optimizer': 'adam'}\n",
      "0.834650 with: {'fit__batch_size': 20, 'fit__epochs': 10, 'model__activation': 'relu', 'model__optimizer': 'sgd'}\n",
      "0.832776 with: {'fit__batch_size': 20, 'fit__epochs': 10, 'model__activation': 'tanh', 'model__optimizer': 'adam'}\n",
      "0.719563 with: {'fit__batch_size': 20, 'fit__epochs': 10, 'model__activation': 'tanh', 'model__optimizer': 'sgd'}\n",
      "0.843238 with: {'fit__batch_size': 32, 'fit__epochs': 5, 'model__activation': 'relu', 'model__optimizer': 'adam'}\n",
      "0.786332 with: {'fit__batch_size': 32, 'fit__epochs': 5, 'model__activation': 'relu', 'model__optimizer': 'sgd'}\n",
      "0.831336 with: {'fit__batch_size': 32, 'fit__epochs': 5, 'model__activation': 'tanh', 'model__optimizer': 'adam'}\n",
      "0.421701 with: {'fit__batch_size': 32, 'fit__epochs': 5, 'model__activation': 'tanh', 'model__optimizer': 'sgd'}\n",
      "0.831880 with: {'fit__batch_size': 32, 'fit__epochs': 10, 'model__activation': 'relu', 'model__optimizer': 'adam'}\n",
      "0.825473 with: {'fit__batch_size': 32, 'fit__epochs': 10, 'model__activation': 'relu', 'model__optimizer': 'sgd'}\n",
      "0.834078 with: {'fit__batch_size': 32, 'fit__epochs': 10, 'model__activation': 'tanh', 'model__optimizer': 'adam'}\n",
      "0.688854 with: {'fit__batch_size': 32, 'fit__epochs': 10, 'model__activation': 'tanh', 'model__optimizer': 'sgd'}\n"
     ]
    }
   ],
   "source": [
    "def build_model(optimizer='adam', activation='relu'):\n",
    "    model = Sequential()\n",
    "    model.add(Dense(units=64, activation=activation, input_dim=X_train_scaled.shape[1]))\n",
    "    model.add(Dense(units=32, activation=activation))\n",
    "    model.add(Dense(units=1, activation='linear'))\n",
    "    model.compile(optimizer=optimizer, loss='mean_squared_error', metrics=['mean_squared_error'])\n",
    "    return model\n",
    "\n",
    "model = KerasRegressor(model=build_model, verbose=1)\n",
    "\n",
    "param_grid = {\n",
    "    'model__optimizer': ['adam', 'sgd'],\n",
    "    'model__activation': ['relu', 'tanh'],\n",
    "    'fit__batch_size': [10, 20, 32],  # Testen verschiedener batch_size Werte\n",
    "    'fit__epochs': [5, 10]  # Optional: Testen verschiedener epoch Werte\n",
    "}\n",
    "\n",
    "grid = GridSearchCV(estimator=model, param_grid=param_grid, n_jobs=-1, cv=3)\n",
    "grid_result = grid.fit(X_train_scaled, y_train_scaled)\n",
    "\n",
    "# Ergebnisse ausgeben\n",
    "print(\"Best: %f using %s\" % (grid_result.best_score_, grid_result.best_params_))\n",
    "for mean_score, params in zip(grid_result.cv_results_['mean_test_score'], grid_result.cv_results_['params']):\n",
    "    print(\"%f with: %r\" % (mean_score, params))\n"
   ]
  },
  {
   "cell_type": "code",
   "execution_count": null,
   "id": "492cf0ed",
   "metadata": {},
   "outputs": [],
   "source": []
  }
 ],
 "metadata": {
  "kernelspec": {
   "display_name": "Python 3 (ipykernel)",
   "language": "python",
   "name": "python3"
  },
  "language_info": {
   "codemirror_mode": {
    "name": "ipython",
    "version": 3
   },
   "file_extension": ".py",
   "mimetype": "text/x-python",
   "name": "python",
   "nbconvert_exporter": "python",
   "pygments_lexer": "ipython3",
   "version": "3.11.4"
  }
 },
 "nbformat": 4,
 "nbformat_minor": 5
}
