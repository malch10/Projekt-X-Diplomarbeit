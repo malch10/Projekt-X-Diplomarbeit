{
 "cells": [
  {
   "cell_type": "code",
   "execution_count": 1,
   "id": "94b0518e",
   "metadata": {
    "ExecuteTime": {
     "end_time": "2024-02-16T13:19:36.726689Z",
     "start_time": "2024-02-16T13:19:31.420387100Z"
    }
   },
   "outputs": [
    {
     "name": "stdout",
     "output_type": "stream",
     "text": [
      "WARNING:tensorflow:From C:\\Users\\erikm\\Desktop\\Diplomarbeit Erik Marr\\Projekt X\\venv\\Lib\\site-packages\\keras\\src\\losses.py:2976: The name tf.losses.sparse_softmax_cross_entropy is deprecated. Please use tf.compat.v1.losses.sparse_softmax_cross_entropy instead.\n"
     ]
    }
   ],
   "source": [
    "import numpy as np\n",
    "import tensorflow as tf\n",
    "import matplotlib.pyplot as plt\n",
    "import pandas as pd\n",
    "from tensorflow import keras\n",
    "from tensorflow.keras.models import Sequential\n",
    "from tensorflow.keras.layers import Dense\n",
    "from sklearn.model_selection import train_test_split\n",
    "from tensorflow.keras import layers\n",
    "import glob\n",
    "\n",
    "from sklearn.preprocessing import MinMaxScaler, StandardScaler\n",
    "import pandas as pd\n",
    "\n",
    "from tensorflow.keras.models import Sequential\n",
    "from tensorflow.keras.layers import Dense , Dropout\n",
    "from sklearn.model_selection import GridSearchCV\n",
    "from scikeras.wrappers import KerasRegressor, KerasClassifier\n",
    "from tensorflow.keras.regularizers import l2\n",
    "from tensorflow.keras.callbacks import EarlyStopping\n",
    "from tensorflow.keras.optimizers import Adam\n",
    "import time\n",
    "from keras_tuner import HyperModel\n",
    "from keras.models import Sequential\n",
    "from keras.layers import Dense, Dropout\n",
    "from keras.optimizers import Adam\n",
    "from keras.regularizers import l2\n",
    "from keras.callbacks import EarlyStopping\n",
    "from keras_tuner.tuners import RandomSearch"
   ]
  },
  {
   "cell_type": "code",
   "execution_count": 2,
   "id": "e4ff61b1",
   "metadata": {
    "ExecuteTime": {
     "end_time": "2024-02-16T13:19:38.390665200Z",
     "start_time": "2024-02-16T13:19:38.254767600Z"
    }
   },
   "outputs": [
    {
     "data": {
      "text/plain": "        X-Koordinate  Y-Koordinate  Zeitpunkt  Strom  Kraft  Temperatur\n0             0.0000      -0.00200        500   7000   9000      669.05\n1             0.0000      -0.00199        500   7000   9000      675.83\n2             0.0000      -0.00198        500   7000   9000      682.81\n3             0.0000      -0.00197        500   7000   9000      689.82\n4             0.0000      -0.00196        500   7000   9000      696.80\n...              ...           ...        ...    ...    ...         ...\n100646        0.0025       0.00196        500   7000   9000      578.47\n100647        0.0025       0.00197        500   7000   9000      576.89\n100648        0.0025       0.00198        500   7000   9000      575.32\n100649        0.0025       0.00199        500   7000   9000      573.76\n100650        0.0025       0.00200        500   7000   9000      572.20\n\n[100651 rows x 6 columns]",
      "text/html": "<div>\n<style scoped>\n    .dataframe tbody tr th:only-of-type {\n        vertical-align: middle;\n    }\n\n    .dataframe tbody tr th {\n        vertical-align: top;\n    }\n\n    .dataframe thead th {\n        text-align: right;\n    }\n</style>\n<table border=\"1\" class=\"dataframe\">\n  <thead>\n    <tr style=\"text-align: right;\">\n      <th></th>\n      <th>X-Koordinate</th>\n      <th>Y-Koordinate</th>\n      <th>Zeitpunkt</th>\n      <th>Strom</th>\n      <th>Kraft</th>\n      <th>Temperatur</th>\n    </tr>\n  </thead>\n  <tbody>\n    <tr>\n      <th>0</th>\n      <td>0.0000</td>\n      <td>-0.00200</td>\n      <td>500</td>\n      <td>7000</td>\n      <td>9000</td>\n      <td>669.05</td>\n    </tr>\n    <tr>\n      <th>1</th>\n      <td>0.0000</td>\n      <td>-0.00199</td>\n      <td>500</td>\n      <td>7000</td>\n      <td>9000</td>\n      <td>675.83</td>\n    </tr>\n    <tr>\n      <th>2</th>\n      <td>0.0000</td>\n      <td>-0.00198</td>\n      <td>500</td>\n      <td>7000</td>\n      <td>9000</td>\n      <td>682.81</td>\n    </tr>\n    <tr>\n      <th>3</th>\n      <td>0.0000</td>\n      <td>-0.00197</td>\n      <td>500</td>\n      <td>7000</td>\n      <td>9000</td>\n      <td>689.82</td>\n    </tr>\n    <tr>\n      <th>4</th>\n      <td>0.0000</td>\n      <td>-0.00196</td>\n      <td>500</td>\n      <td>7000</td>\n      <td>9000</td>\n      <td>696.80</td>\n    </tr>\n    <tr>\n      <th>...</th>\n      <td>...</td>\n      <td>...</td>\n      <td>...</td>\n      <td>...</td>\n      <td>...</td>\n      <td>...</td>\n    </tr>\n    <tr>\n      <th>100646</th>\n      <td>0.0025</td>\n      <td>0.00196</td>\n      <td>500</td>\n      <td>7000</td>\n      <td>9000</td>\n      <td>578.47</td>\n    </tr>\n    <tr>\n      <th>100647</th>\n      <td>0.0025</td>\n      <td>0.00197</td>\n      <td>500</td>\n      <td>7000</td>\n      <td>9000</td>\n      <td>576.89</td>\n    </tr>\n    <tr>\n      <th>100648</th>\n      <td>0.0025</td>\n      <td>0.00198</td>\n      <td>500</td>\n      <td>7000</td>\n      <td>9000</td>\n      <td>575.32</td>\n    </tr>\n    <tr>\n      <th>100649</th>\n      <td>0.0025</td>\n      <td>0.00199</td>\n      <td>500</td>\n      <td>7000</td>\n      <td>9000</td>\n      <td>573.76</td>\n    </tr>\n    <tr>\n      <th>100650</th>\n      <td>0.0025</td>\n      <td>0.00200</td>\n      <td>500</td>\n      <td>7000</td>\n      <td>9000</td>\n      <td>572.20</td>\n    </tr>\n  </tbody>\n</table>\n<p>100651 rows × 6 columns</p>\n</div>"
     },
     "execution_count": 2,
     "metadata": {},
     "output_type": "execute_result"
    }
   ],
   "source": [
    "#data = pd.read_pickle('C:/Users/erikm/Desktop/Diplomarbeit Erik Marr/Daten/Finish/TPath_300_finish_data.pkl')\n",
    "data = pd.read_pickle('C:/Users/erikm/Desktop/Diplomarbeit Erik Marr/Daten/Finish_D1_I7000_F9000/TPath_500_finish_data_D1.pkl')\n",
    "\n",
    "data"
   ]
  },
  {
   "cell_type": "code",
   "execution_count": 3,
   "id": "966e3c74",
   "metadata": {
    "ExecuteTime": {
     "end_time": "2024-02-16T13:19:38.657363900Z",
     "start_time": "2024-02-16T13:19:38.474830Z"
    }
   },
   "outputs": [
    {
     "data": {
      "text/plain": "        X-Koordinate  Y-Koordinate  Temperatur\n0             0.0000      -0.00200      669.05\n1             0.0000      -0.00199      675.83\n2             0.0000      -0.00198      682.81\n3             0.0000      -0.00197      689.82\n4             0.0000      -0.00196      696.80\n...              ...           ...         ...\n100646        0.0025       0.00196      578.47\n100647        0.0025       0.00197      576.89\n100648        0.0025       0.00198      575.32\n100649        0.0025       0.00199      573.76\n100650        0.0025       0.00200      572.20\n\n[100651 rows x 3 columns]",
      "text/html": "<div>\n<style scoped>\n    .dataframe tbody tr th:only-of-type {\n        vertical-align: middle;\n    }\n\n    .dataframe tbody tr th {\n        vertical-align: top;\n    }\n\n    .dataframe thead th {\n        text-align: right;\n    }\n</style>\n<table border=\"1\" class=\"dataframe\">\n  <thead>\n    <tr style=\"text-align: right;\">\n      <th></th>\n      <th>X-Koordinate</th>\n      <th>Y-Koordinate</th>\n      <th>Temperatur</th>\n    </tr>\n  </thead>\n  <tbody>\n    <tr>\n      <th>0</th>\n      <td>0.0000</td>\n      <td>-0.00200</td>\n      <td>669.05</td>\n    </tr>\n    <tr>\n      <th>1</th>\n      <td>0.0000</td>\n      <td>-0.00199</td>\n      <td>675.83</td>\n    </tr>\n    <tr>\n      <th>2</th>\n      <td>0.0000</td>\n      <td>-0.00198</td>\n      <td>682.81</td>\n    </tr>\n    <tr>\n      <th>3</th>\n      <td>0.0000</td>\n      <td>-0.00197</td>\n      <td>689.82</td>\n    </tr>\n    <tr>\n      <th>4</th>\n      <td>0.0000</td>\n      <td>-0.00196</td>\n      <td>696.80</td>\n    </tr>\n    <tr>\n      <th>...</th>\n      <td>...</td>\n      <td>...</td>\n      <td>...</td>\n    </tr>\n    <tr>\n      <th>100646</th>\n      <td>0.0025</td>\n      <td>0.00196</td>\n      <td>578.47</td>\n    </tr>\n    <tr>\n      <th>100647</th>\n      <td>0.0025</td>\n      <td>0.00197</td>\n      <td>576.89</td>\n    </tr>\n    <tr>\n      <th>100648</th>\n      <td>0.0025</td>\n      <td>0.00198</td>\n      <td>575.32</td>\n    </tr>\n    <tr>\n      <th>100649</th>\n      <td>0.0025</td>\n      <td>0.00199</td>\n      <td>573.76</td>\n    </tr>\n    <tr>\n      <th>100650</th>\n      <td>0.0025</td>\n      <td>0.00200</td>\n      <td>572.20</td>\n    </tr>\n  </tbody>\n</table>\n<p>100651 rows × 3 columns</p>\n</div>"
     },
     "execution_count": 3,
     "metadata": {},
     "output_type": "execute_result"
    }
   ],
   "source": [
    "df = data.drop(data.columns[2:5], axis = 1)\n",
    "df"
   ]
  },
  {
   "cell_type": "code",
   "execution_count": 4,
   "id": "8783d1d6",
   "metadata": {
    "ExecuteTime": {
     "end_time": "2024-02-16T13:19:38.846904200Z",
     "start_time": "2024-02-16T13:19:38.649688500Z"
    }
   },
   "outputs": [
    {
     "name": "stdout",
     "output_type": "stream",
     "text": [
      "       X-Koordinate  Y-Koordinate  Temperatur\n",
      "83145       0.00207      -0.00062      1282.2\n",
      "66701       0.00166      -0.00065      1347.6\n",
      "91325       0.00227       0.00098      1094.6\n",
      "46593       0.00116      -0.00123      1175.7\n",
      "49518       0.00123      -0.00005      1459.2\n",
      "...             ...           ...         ...\n",
      "6265        0.00015       0.00050      1439.1\n",
      "54886       0.00136       0.00150       876.7\n",
      "76820       0.00191       0.00029      1335.8\n",
      "860         0.00002      -0.00142      1071.2\n",
      "15795       0.00039      -0.00044      1488.1\n",
      "\n",
      "[100651 rows x 3 columns]\n"
     ]
    },
    {
     "data": {
      "text/plain": "        X-Koordinate  Y-Koordinate  Temperatur\n0            0.00207      -0.00062      1282.2\n1            0.00166      -0.00065      1347.6\n2            0.00227       0.00098      1094.6\n3            0.00116      -0.00123      1175.7\n4            0.00123      -0.00005      1459.2\n...              ...           ...         ...\n100646       0.00015       0.00050      1439.1\n100647       0.00136       0.00150       876.7\n100648       0.00191       0.00029      1335.8\n100649       0.00002      -0.00142      1071.2\n100650       0.00039      -0.00044      1488.1\n\n[100651 rows x 3 columns]",
      "text/html": "<div>\n<style scoped>\n    .dataframe tbody tr th:only-of-type {\n        vertical-align: middle;\n    }\n\n    .dataframe tbody tr th {\n        vertical-align: top;\n    }\n\n    .dataframe thead th {\n        text-align: right;\n    }\n</style>\n<table border=\"1\" class=\"dataframe\">\n  <thead>\n    <tr style=\"text-align: right;\">\n      <th></th>\n      <th>X-Koordinate</th>\n      <th>Y-Koordinate</th>\n      <th>Temperatur</th>\n    </tr>\n  </thead>\n  <tbody>\n    <tr>\n      <th>0</th>\n      <td>0.00207</td>\n      <td>-0.00062</td>\n      <td>1282.2</td>\n    </tr>\n    <tr>\n      <th>1</th>\n      <td>0.00166</td>\n      <td>-0.00065</td>\n      <td>1347.6</td>\n    </tr>\n    <tr>\n      <th>2</th>\n      <td>0.00227</td>\n      <td>0.00098</td>\n      <td>1094.6</td>\n    </tr>\n    <tr>\n      <th>3</th>\n      <td>0.00116</td>\n      <td>-0.00123</td>\n      <td>1175.7</td>\n    </tr>\n    <tr>\n      <th>4</th>\n      <td>0.00123</td>\n      <td>-0.00005</td>\n      <td>1459.2</td>\n    </tr>\n    <tr>\n      <th>...</th>\n      <td>...</td>\n      <td>...</td>\n      <td>...</td>\n    </tr>\n    <tr>\n      <th>100646</th>\n      <td>0.00015</td>\n      <td>0.00050</td>\n      <td>1439.1</td>\n    </tr>\n    <tr>\n      <th>100647</th>\n      <td>0.00136</td>\n      <td>0.00150</td>\n      <td>876.7</td>\n    </tr>\n    <tr>\n      <th>100648</th>\n      <td>0.00191</td>\n      <td>0.00029</td>\n      <td>1335.8</td>\n    </tr>\n    <tr>\n      <th>100649</th>\n      <td>0.00002</td>\n      <td>-0.00142</td>\n      <td>1071.2</td>\n    </tr>\n    <tr>\n      <th>100650</th>\n      <td>0.00039</td>\n      <td>-0.00044</td>\n      <td>1488.1</td>\n    </tr>\n  </tbody>\n</table>\n<p>100651 rows × 3 columns</p>\n</div>"
     },
     "execution_count": 4,
     "metadata": {},
     "output_type": "execute_result"
    }
   ],
   "source": [
    "df1 = df.sample(frac=1, random_state=42)  # Hier wird 42 als Random State verwendet, um die Ergebnisse reproduzierbar zu machen\n",
    "\n",
    "print(df1)\n",
    "df_reset = df1.reset_index(drop=True)\n",
    "df_reset"
   ]
  },
  {
   "cell_type": "code",
   "execution_count": 5,
   "id": "a4e72a16",
   "metadata": {
    "ExecuteTime": {
     "end_time": "2024-02-16T13:19:38.902425200Z",
     "start_time": "2024-02-16T13:19:38.776863400Z"
    }
   },
   "outputs": [],
   "source": [
    "label = df_reset[\"Temperatur\"]\n",
    "# Korrektur: Verwenden Sie den Spaltennamen direkt, ohne Indexierung der columns-Eigenschaft\n",
    "df1 = df_reset.drop(\"Temperatur\", axis=1)\n",
    "X = df1\n",
    "y = label\n"
   ]
  },
  {
   "cell_type": "markdown",
   "source": [],
   "metadata": {
    "collapsed": false
   },
   "id": "f7fa289a50d87423"
  },
  {
   "cell_type": "code",
   "execution_count": 6,
   "id": "e694a236",
   "metadata": {
    "ExecuteTime": {
     "end_time": "2024-02-16T13:19:39.421057900Z",
     "start_time": "2024-02-16T13:19:39.167540200Z"
    }
   },
   "outputs": [
    {
     "data": {
      "text/plain": "        X-Koordinate  Y-Koordinate\ncount  100651.000000  1.006510e+05\nmean        0.001250  1.103042e-20\nstd         0.000725  1.157589e-03\nmin         0.000000 -2.000000e-03\n25%         0.000620 -1.000000e-03\n50%         0.001250  4.529900e-18\n75%         0.001880  1.000000e-03\nmax         0.002500  2.000000e-03",
      "text/html": "<div>\n<style scoped>\n    .dataframe tbody tr th:only-of-type {\n        vertical-align: middle;\n    }\n\n    .dataframe tbody tr th {\n        vertical-align: top;\n    }\n\n    .dataframe thead th {\n        text-align: right;\n    }\n</style>\n<table border=\"1\" class=\"dataframe\">\n  <thead>\n    <tr style=\"text-align: right;\">\n      <th></th>\n      <th>X-Koordinate</th>\n      <th>Y-Koordinate</th>\n    </tr>\n  </thead>\n  <tbody>\n    <tr>\n      <th>count</th>\n      <td>100651.000000</td>\n      <td>1.006510e+05</td>\n    </tr>\n    <tr>\n      <th>mean</th>\n      <td>0.001250</td>\n      <td>1.103042e-20</td>\n    </tr>\n    <tr>\n      <th>std</th>\n      <td>0.000725</td>\n      <td>1.157589e-03</td>\n    </tr>\n    <tr>\n      <th>min</th>\n      <td>0.000000</td>\n      <td>-2.000000e-03</td>\n    </tr>\n    <tr>\n      <th>25%</th>\n      <td>0.000620</td>\n      <td>-1.000000e-03</td>\n    </tr>\n    <tr>\n      <th>50%</th>\n      <td>0.001250</td>\n      <td>4.529900e-18</td>\n    </tr>\n    <tr>\n      <th>75%</th>\n      <td>0.001880</td>\n      <td>1.000000e-03</td>\n    </tr>\n    <tr>\n      <th>max</th>\n      <td>0.002500</td>\n      <td>2.000000e-03</td>\n    </tr>\n  </tbody>\n</table>\n</div>"
     },
     "execution_count": 6,
     "metadata": {},
     "output_type": "execute_result"
    }
   ],
   "source": [
    "X.describe()"
   ]
  },
  {
   "cell_type": "code",
   "execution_count": 7,
   "id": "3f3303b4",
   "metadata": {
    "ExecuteTime": {
     "end_time": "2024-02-16T13:19:39.574237500Z",
     "start_time": "2024-02-16T13:19:39.367269400Z"
    }
   },
   "outputs": [
    {
     "data": {
      "text/plain": "count    100651.000000\nmean       1144.030064\nstd         264.135723\nmin         572.200000\n25%         937.330000\n50%        1201.100000\n75%        1368.700000\nmax        1520.000000\nName: Temperatur, dtype: float64"
     },
     "execution_count": 7,
     "metadata": {},
     "output_type": "execute_result"
    }
   ],
   "source": [
    "y.describe()\n"
   ]
  },
  {
   "cell_type": "code",
   "execution_count": 8,
   "id": "e3ad8da0",
   "metadata": {
    "ExecuteTime": {
     "end_time": "2024-02-16T13:19:39.589681600Z",
     "start_time": "2024-02-16T13:19:39.527375100Z"
    }
   },
   "outputs": [],
   "source": [
    " # train_df enthält 80% der Daten, test_df enthält 20% der Daten\n",
    "X_train, X_test, y_train, y_test = train_test_split(X, y, test_size=0.20, random_state=42)\n"
   ]
  },
  {
   "cell_type": "code",
   "execution_count": 9,
   "id": "9c705edb",
   "metadata": {
    "ExecuteTime": {
     "end_time": "2024-02-16T13:19:39.926500400Z",
     "start_time": "2024-02-16T13:19:39.715917900Z"
    }
   },
   "outputs": [],
   "source": [
    "# Initialisiere einen MinMaxScaler für die Features\n",
    "scaler_features = MinMaxScaler()\n",
    "scaler_features2 = MinMaxScaler()\n",
    "# Skaliere X_train und X_test\n",
    "X_train_scaled = scaler_features.fit_transform(X_train)\n",
    "X_test_scaled = scaler_features.transform(X_test)  # Nutze unterschiedliche Skalierungsparameter\n",
    "\n",
    "# Initialisiere einen SEPARATEN MinMaxScaler für das Ziel, wenn nötig\n",
    "scaler_target = MinMaxScaler()\n",
    "\n",
    "\n",
    "# Skaliere y_train und y_test. Beachte, dass y_train.reshape(-1, 1) verwendet wird, da MinMaxScaler \n",
    "# erwartet, dass die Eingaben als 2D-Arrays kommen, und Ziele normalerweise als 1D-Arrays vorliegen.\n",
    "y_train_scaled = scaler_target.fit_transform(y_train.values.reshape(-1, 1))\n",
    "y_test_scaled = scaler_target.transform(y_test.values.reshape(-1, 1))\n"
   ]
  },
  {
   "cell_type": "code",
   "execution_count": 10,
   "id": "bbefe631e495b483",
   "metadata": {
    "ExecuteTime": {
     "end_time": "2024-02-16T13:19:40.126018800Z",
     "start_time": "2024-02-16T13:19:39.899270400Z"
    }
   },
   "outputs": [
    {
     "data": {
      "text/plain": "array([[0.416 , 0.5725],\n       [0.812 , 0.7325],\n       [0.628 , 0.5075],\n       ...,\n       [0.604 , 0.3875],\n       [0.748 , 0.65  ],\n       [0.028 , 0.6225]])"
     },
     "execution_count": 10,
     "metadata": {},
     "output_type": "execute_result"
    }
   ],
   "source": [
    "X_train_scaled"
   ]
  },
  {
   "cell_type": "code",
   "execution_count": 11,
   "id": "a6eccbb7534cd064",
   "metadata": {
    "ExecuteTime": {
     "end_time": "2024-02-16T13:19:40.154018800Z",
     "start_time": "2024-02-16T13:19:40.016201200Z"
    }
   },
   "outputs": [],
   "source": [
    "# Lernplan erstellen\n",
    "#initial_learning_rate = 0.1\n",
    "#lr_schedule = tf.keras.optimizers.schedules.ExponentialDecay(\n",
    "#    initial_learning_rate, decay_steps=100, decay_rate=0.9, staircase=True)"
   ]
  },
  {
   "cell_type": "code",
   "execution_count": 38,
   "outputs": [
    {
     "name": "stdout",
     "output_type": "stream",
     "text": [
      "Epoch 1/100\n",
      "1289/1289 - 2s - loss: 0.0297 - mae: 0.0436 - val_loss: 0.0125 - val_mae: 0.0070 - 2s/epoch - 2ms/step\n",
      "Epoch 2/100\n",
      "1289/1289 - 1s - loss: 0.0100 - mae: 0.0082 - val_loss: 0.0081 - val_mae: 0.0118 - 1s/epoch - 884us/step\n",
      "Epoch 3/100\n",
      "1289/1289 - 1s - loss: 0.0066 - mae: 0.0078 - val_loss: 0.0053 - val_mae: 0.0107 - 1s/epoch - 885us/step\n",
      "Epoch 4/100\n",
      "1289/1289 - 1s - loss: 0.0043 - mae: 0.0069 - val_loss: 0.0035 - val_mae: 0.0085 - 1s/epoch - 883us/step\n",
      "Epoch 5/100\n",
      "1289/1289 - 1s - loss: 0.0028 - mae: 0.0065 - val_loss: 0.0023 - val_mae: 0.0062 - 1s/epoch - 894us/step\n",
      "Epoch 6/100\n",
      "1289/1289 - 1s - loss: 0.0019 - mae: 0.0063 - val_loss: 0.0019 - val_mae: 0.0146 - 1s/epoch - 880us/step\n",
      "Epoch 7/100\n",
      "1289/1289 - 1s - loss: 0.0014 - mae: 0.0062 - val_loss: 0.0012 - val_mae: 0.0046 - 1s/epoch - 891us/step\n",
      "Epoch 8/100\n",
      "1289/1289 - 1s - loss: 0.0011 - mae: 0.0062 - val_loss: 0.0010 - val_mae: 0.0056 - 1s/epoch - 901us/step\n",
      "Epoch 9/100\n",
      "1289/1289 - 1s - loss: 9.5248e-04 - mae: 0.0058 - val_loss: 8.5174e-04 - val_mae: 0.0037 - 1s/epoch - 892us/step\n",
      "Epoch 10/100\n",
      "1289/1289 - 1s - loss: 8.2694e-04 - mae: 0.0057 - val_loss: 7.7219e-04 - val_mae: 0.0055 - 1s/epoch - 896us/step\n",
      "Epoch 11/100\n",
      "1289/1289 - 1s - loss: 7.4189e-04 - mae: 0.0057 - val_loss: 7.1788e-04 - val_mae: 0.0070 - 1s/epoch - 899us/step\n",
      "Epoch 12/100\n",
      "1289/1289 - 1s - loss: 6.9015e-04 - mae: 0.0061 - val_loss: 6.4199e-04 - val_mae: 0.0048 - 1s/epoch - 909us/step\n",
      "Epoch 13/100\n",
      "1289/1289 - 1s - loss: 6.3119e-04 - mae: 0.0055 - val_loss: 5.9847e-04 - val_mae: 0.0046 - 1s/epoch - 893us/step\n",
      "Epoch 14/100\n",
      "1289/1289 - 1s - loss: 5.9528e-04 - mae: 0.0055 - val_loss: 6.3572e-04 - val_mae: 0.0081 - 1s/epoch - 895us/step\n",
      "Epoch 15/100\n",
      "1289/1289 - 1s - loss: 5.7429e-04 - mae: 0.0058 - val_loss: 5.5574e-04 - val_mae: 0.0058 - 1s/epoch - 888us/step\n",
      "Epoch 16/100\n",
      "1289/1289 - 1s - loss: 5.4932e-04 - mae: 0.0055 - val_loss: 5.1322e-04 - val_mae: 0.0039 - 1s/epoch - 890us/step\n",
      "Epoch 17/100\n",
      "1289/1289 - 1s - loss: 5.3134e-04 - mae: 0.0056 - val_loss: 4.9990e-04 - val_mae: 0.0040 - 1s/epoch - 898us/step\n",
      "Epoch 18/100\n",
      "1289/1289 - 1s - loss: 5.2229e-04 - mae: 0.0058 - val_loss: 5.4229e-04 - val_mae: 0.0075 - 1s/epoch - 900us/step\n",
      "Epoch 19/100\n",
      "1289/1289 - 1s - loss: 4.9836e-04 - mae: 0.0053 - val_loss: 4.6798e-04 - val_mae: 0.0038 - 1s/epoch - 907us/step\n",
      "Epoch 20/100\n",
      "1289/1289 - 1s - loss: 4.9061e-04 - mae: 0.0055 - val_loss: 6.1880e-04 - val_mae: 0.0105 - 1s/epoch - 899us/step\n",
      "Epoch 21/100\n",
      "1289/1289 - 1s - loss: 4.8528e-04 - mae: 0.0057 - val_loss: 4.5909e-04 - val_mae: 0.0047 - 1s/epoch - 915us/step\n",
      "Epoch 22/100\n",
      "1289/1289 - 1s - loss: 4.6719e-04 - mae: 0.0054 - val_loss: 6.2254e-04 - val_mae: 0.0119 - 1s/epoch - 914us/step\n",
      "Epoch 23/100\n",
      "1289/1289 - 1s - loss: 4.5874e-04 - mae: 0.0054 - val_loss: 4.4920e-04 - val_mae: 0.0053 - 1s/epoch - 919us/step\n",
      "Epoch 24/100\n",
      "1289/1289 - 1s - loss: 4.4420e-04 - mae: 0.0051 - val_loss: 4.4643e-04 - val_mae: 0.0058 - 1s/epoch - 925us/step\n",
      "Epoch 25/100\n",
      "1289/1289 - 1s - loss: 4.4594e-04 - mae: 0.0056 - val_loss: 4.1857e-04 - val_mae: 0.0043 - 1s/epoch - 912us/step\n",
      "Epoch 26/100\n",
      "1289/1289 - 1s - loss: 4.3378e-04 - mae: 0.0054 - val_loss: 4.1019e-04 - val_mae: 0.0040 - 1s/epoch - 893us/step\n",
      "Epoch 27/100\n",
      "Restoring model weights from the end of the best epoch: 22.\n",
      "1289/1289 - 1s - loss: 4.2598e-04 - mae: 0.0052 - val_loss: 4.0088e-04 - val_mae: 0.0040 - 1s/epoch - 894us/step\n",
      "Epoch 27: early stopping\n",
      "Die Ausführungszeit betrug 32.22986602783203 Sekunden.\n"
     ]
    }
   ],
   "source": [
    "start_time = time.time()\n",
    "# Netzwerkarchitektur\n",
    "model = Sequential([\n",
    "    # Eingabeschicht\n",
    "    Dense(32, activation='relu', input_shape=(2,), kernel_initializer='he_uniform', kernel_regularizer=l2(0.0001)),\n",
    "    #Dropout(0.01),\n",
    "    # Versteckte Schicht\n",
    "    Dense(96, activation='relu', kernel_initializer='he_uniform', kernel_regularizer=l2(0.0001)),\n",
    "    #Dropout(0.01),\n",
    "    # Ausgabeschicht für Regression (1 Einheit ohne Aktivierungsfunktion)\n",
    "    Dense(32, activation='relu', kernel_initializer='he_uniform', kernel_regularizer=l2(0.0001)),\n",
    "    \n",
    "    Dense(1 , activation = 'linear')\n",
    "])\n",
    "\n",
    "# Optimierer\n",
    "optimizer = tf.keras.optimizers.Adam(learning_rate=0.001)\n",
    "\n",
    "# Modell kompilieren (Verwendung von mean_squared_error als Verlustfunktion für Regression)\n",
    "model.compile(optimizer=optimizer,\n",
    "              loss='mean_squared_error',\n",
    "              metrics=['mae'])  # Metriken für Regression: Mean Absolute Error und Mean Squared Error\n",
    "\n",
    "# Early Stopping Callback\n",
    "early_stopping = EarlyStopping(monitor='loss', patience=5, verbose=1, mode='min', restore_best_weights=True, min_delta = 0.00005)\n",
    "\n",
    "# Trainingsparameter\n",
    "batch_size = 50\n",
    "epochs = 100\n",
    "\n",
    "# Modell trainieren (Annahme: X_train, y_train, X_val, y_val sind vordefiniert)\n",
    "history = model.fit(X_train_scaled, y_train_scaled,\n",
    "                    batch_size=batch_size,\n",
    "                    epochs=epochs,\n",
    "                    validation_split=0.2,\n",
    "                    callbacks=[early_stopping],\n",
    "                    verbose = 2)\n",
    "\n",
    "end_time = time.time()\n",
    "\n",
    "# Berechne die Dauer\n",
    "duration = end_time - start_time\n",
    "\n",
    "print(f\"Die Ausführungszeit betrug {duration} Sekunden.\")"
   ],
   "metadata": {
    "collapsed": false,
    "ExecuteTime": {
     "end_time": "2024-02-16T13:59:48.571481Z",
     "start_time": "2024-02-16T13:59:16.338525200Z"
    }
   },
   "id": "8b52e1a9a6ff3aeb"
  },
  {
   "cell_type": "code",
   "execution_count": 39,
   "id": "9f6f672a",
   "metadata": {
    "ExecuteTime": {
     "end_time": "2024-02-16T13:59:53.985112500Z",
     "start_time": "2024-02-16T13:59:53.099313400Z"
    }
   },
   "outputs": [
    {
     "name": "stdout",
     "output_type": "stream",
     "text": [
      " Bsp. Predicted: [1171.5438] Actual: [1195.9] \n",
      "Durchschnittliche Abweichung (MAE): [11.38017216]\n"
     ]
    }
   ],
   "source": [
    "scaled_predicted_values = model.predict(X_test_scaled, verbose = 0)\n",
    "\n",
    "# Führen Sie die Rücktransformation der skalierten Werte durch\n",
    "original_predicted_values = scaler_target.inverse_transform(scaled_predicted_values)\n",
    "original_actual_values = scaler_target.inverse_transform(y_test_scaled)  # y_test sind die skalierten tatsächlichen Werte\n",
    "print(f' Bsp. Predicted: {original_predicted_values[1000]} Actual: {original_actual_values[1000]} ')\n",
    "\n",
    "def calculate_mae(list1, list2):\n",
    "    # Stelle sicher, dass beide Listen die gleiche Länge haben\n",
    "    if len(list1) != len(list2):\n",
    "        raise ValueError(\"Listen müssen die gleiche Länge haben\")\n",
    "    \n",
    "    # Berechne die absolute Differenz zwischen den Elementen der Listen\n",
    "    differences = [abs(x - y) for x, y in zip(list1, list2)]\n",
    "    \n",
    "    # Berechne den Durchschnitt der absoluten Differenzen\n",
    "    mae = sum(differences) / len(differences)\n",
    "    \n",
    "    return mae\n",
    "\n",
    "# Beispiel\n",
    "list1 = original_predicted_values\n",
    "list2 = original_actual_values\n",
    "\n",
    "mae = calculate_mae(list1, list2)\n",
    "print(f\"Durchschnittliche Abweichung (MAE): {mae}\")\n"
   ]
  },
  {
   "cell_type": "code",
   "execution_count": 40,
   "outputs": [
    {
     "name": "stdout",
     "output_type": "stream",
     "text": [
      "Anzahl der Werte die kleiner sind: 18041\n"
     ]
    },
    {
     "data": {
      "text/plain": "             Echt  Vorhergesagt  X-Koordinate  Y-Koordinate  Differenz\n13104  774.550171        812.70         1.000        0.0425 -38.149829\n396    768.254333        806.10         1.000        0.0400 -37.845667\n19881  799.277527        836.11         0.996        0.0525 -36.832473\n15198  812.325317        848.92         1.000        0.0575 -36.594683\n2783   767.342224        803.59         0.992        0.0400 -36.247776\n...           ...           ...           ...           ...        ...\n321    632.305420        591.99         0.884        0.9750  40.315420\n4134   631.888062        591.24         0.840        0.9750  40.648062\n15061  628.228577        587.18         0.956        0.9775  41.048577\n11939  628.304077        586.88         0.964        0.9775  41.424077\n20012  633.360840        588.92         0.996        0.9750  44.440840\n\n[20131 rows x 5 columns]",
      "text/html": "<div>\n<style scoped>\n    .dataframe tbody tr th:only-of-type {\n        vertical-align: middle;\n    }\n\n    .dataframe tbody tr th {\n        vertical-align: top;\n    }\n\n    .dataframe thead th {\n        text-align: right;\n    }\n</style>\n<table border=\"1\" class=\"dataframe\">\n  <thead>\n    <tr style=\"text-align: right;\">\n      <th></th>\n      <th>Echt</th>\n      <th>Vorhergesagt</th>\n      <th>X-Koordinate</th>\n      <th>Y-Koordinate</th>\n      <th>Differenz</th>\n    </tr>\n  </thead>\n  <tbody>\n    <tr>\n      <th>13104</th>\n      <td>774.550171</td>\n      <td>812.70</td>\n      <td>1.000</td>\n      <td>0.0425</td>\n      <td>-38.149829</td>\n    </tr>\n    <tr>\n      <th>396</th>\n      <td>768.254333</td>\n      <td>806.10</td>\n      <td>1.000</td>\n      <td>0.0400</td>\n      <td>-37.845667</td>\n    </tr>\n    <tr>\n      <th>19881</th>\n      <td>799.277527</td>\n      <td>836.11</td>\n      <td>0.996</td>\n      <td>0.0525</td>\n      <td>-36.832473</td>\n    </tr>\n    <tr>\n      <th>15198</th>\n      <td>812.325317</td>\n      <td>848.92</td>\n      <td>1.000</td>\n      <td>0.0575</td>\n      <td>-36.594683</td>\n    </tr>\n    <tr>\n      <th>2783</th>\n      <td>767.342224</td>\n      <td>803.59</td>\n      <td>0.992</td>\n      <td>0.0400</td>\n      <td>-36.247776</td>\n    </tr>\n    <tr>\n      <th>...</th>\n      <td>...</td>\n      <td>...</td>\n      <td>...</td>\n      <td>...</td>\n      <td>...</td>\n    </tr>\n    <tr>\n      <th>321</th>\n      <td>632.305420</td>\n      <td>591.99</td>\n      <td>0.884</td>\n      <td>0.9750</td>\n      <td>40.315420</td>\n    </tr>\n    <tr>\n      <th>4134</th>\n      <td>631.888062</td>\n      <td>591.24</td>\n      <td>0.840</td>\n      <td>0.9750</td>\n      <td>40.648062</td>\n    </tr>\n    <tr>\n      <th>15061</th>\n      <td>628.228577</td>\n      <td>587.18</td>\n      <td>0.956</td>\n      <td>0.9775</td>\n      <td>41.048577</td>\n    </tr>\n    <tr>\n      <th>11939</th>\n      <td>628.304077</td>\n      <td>586.88</td>\n      <td>0.964</td>\n      <td>0.9775</td>\n      <td>41.424077</td>\n    </tr>\n    <tr>\n      <th>20012</th>\n      <td>633.360840</td>\n      <td>588.92</td>\n      <td>0.996</td>\n      <td>0.9750</td>\n      <td>44.440840</td>\n    </tr>\n  </tbody>\n</table>\n<p>20131 rows × 5 columns</p>\n</div>"
     },
     "execution_count": 40,
     "metadata": {},
     "output_type": "execute_result"
    }
   ],
   "source": [
    "df_result = pd.DataFrame({'Echt': [val[0] for val in list1], 'Vorhergesagt': [val[0] for val in list2]})\n",
    "df_result['X-Koordinate'] = X_test_scaled[:, 0]\n",
    "df_result['Y-Koordinate'] = X_test_scaled[:, 1]\n",
    "\n",
    "df_result['Differenz'] = df_result['Echt'] - df_result['Vorhergesagt']\n",
    "df_result['Differenz'].sort_values()\n",
    "sorted_df = df_result.sort_values(by= 'Differenz')\n",
    "Anzahl_Punkte = (sorted_df['Differenz'] < 10).sum()\n",
    "print(\"Anzahl der Werte die kleiner sind:\", Anzahl_Punkte)\n",
    " \n",
    "sorted_df"
   ],
   "metadata": {
    "collapsed": false,
    "ExecuteTime": {
     "end_time": "2024-02-16T13:59:54.037775600Z",
     "start_time": "2024-02-16T13:59:53.986111Z"
    }
   },
   "id": "42bde60d3b4f2007"
  },
  {
   "cell_type": "markdown",
   "id": "553df6fa",
   "metadata": {},
   "source": []
  },
  {
   "cell_type": "code",
   "execution_count": 41,
   "outputs": [
    {
     "data": {
      "text/plain": "<Figure size 1000x600 with 1 Axes>",
      "image/png": "[encoded data removed]"
     },
     "metadata": {},
     "output_type": "display_data"
    }
   ],
   "source": [
    "mae = history.history['mae']\n",
    "val_mae = history.history['val_mae']\n",
    "\n",
    "epochs = range(1, len(mae) + 1)\n",
    "# MAE Diagramm\n",
    "plt.figure(figsize=(10, 6))\n",
    "plt.plot(epochs, mae, 'r', label='Training MAE')\n",
    "plt.plot(epochs, val_mae, 'b', label='Validation MAE')\n",
    "plt.title('Training and Validation MAE')\n",
    "plt.xlabel('Epochs')\n",
    "plt.ylabel('MAE')\n",
    "plt.legend()\n",
    "plt.show()"
   ],
   "metadata": {
    "collapsed": false,
    "ExecuteTime": {
     "end_time": "2024-02-16T14:00:03.459803400Z",
     "start_time": "2024-02-16T14:00:03.236361200Z"
    }
   },
   "id": "3688dd7102e95baf"
  },
  {
   "cell_type": "markdown",
   "source": [
    "\n",
    "# GridSearch\n",
    "Grid Search bietet die Vorteile der anpassbaren Rechenzeit sowie die Möglichkeit des EInsatzes von Verteilungen. So können theoretisch Hyperparamterkonfuigurationen gefunden wende, welche durch GridSearch nicht auffindbar wären. ZUdem ist das Ziel der Hyperparamteroptimierung eine Einstellung zu finden, welche auf Trainings und Testset gut angepasst ist. Die EInstellung muss nicht die bestmöglichste Einstellung sein, sondern eine Einstellung die das gewähltre Problem gut wiederspiegelt. \n",
    "Bayesian Optimierung"
   ],
   "metadata": {
    "collapsed": false
   },
   "id": "9c177960cc729052"
  },
  {
   "cell_type": "code",
   "execution_count": null,
   "id": "1dca80c2",
   "metadata": {},
   "outputs": [],
   "source": [
    "# Schritt 1: Definiere dein Modell als eine Funktion, die Hyperparameter akzeptiert\n",
    "def build_model(optimizer='adam', activation='relu'):\n",
    "    model = Sequential()\n",
    "    model.add(Dense(units=32, activation=activation, input_dim=X_train_scaled.shape[1]))\n",
    "    model.add(Dense(units=8, activation=activation))\n",
    "    model.add(Dense(units=1, activation='linear'))\n",
    "    model.compile(optimizer=optimizer, loss='mean_squared_error', metrics=['mae'])\n",
    "    return model\n",
    "\n",
    "# Schritt 2: Erstelle eine Instanz von KerasRegressor ohne batch_size und epochs im param_grid\n",
    "model = KerasRegressor(model=build_model, verbose=0)\n",
    "\n",
    "# Schritt 3: Definiere den Parameter-Raum für die Grid-Suche OHNE batch_size und epochs\n",
    "param_grid = {\n",
    "    'model__optimizer': ['adam', 'sgd'],\n",
    "    'model__activation': ['relu', 'sigmoid']\n",
    "}\n",
    "\n",
    "# Optional: Definiere Fit-Parameter (wie batch_size und epochs) separat\n",
    "fit_params = {\n",
    "    'batch_size': 32,\n",
    "    'epochs': 100\n",
    "}\n",
    "\n",
    "# Schritt 4: Führe GridSearchCV aus mit fit_params, wenn nötig\n",
    "grid = GridSearchCV(estimator=model, param_grid=param_grid, n_jobs=-1, cv=3)\n",
    "grid_result = grid.fit(X_train_scaled, y_train_scaled, **fit_params)\n",
    "\n",
    "# Ergebnisse ausgeben\n",
    "print(\"Best: %f using %s\" % (grid_result.best_score_, grid_result.best_params_))\n",
    "for mean_score, params in zip(grid_result.cv_results_['mean_test_score'], grid_result.cv_results_['params']):\n",
    "    print(\"%f with: %r\" % (mean_score, params))\n"
   ]
  },
  {
   "cell_type": "code",
   "execution_count": null,
   "id": "3f17e2cf",
   "metadata": {},
   "outputs": [],
   "source": [
    "def build_model(optimizer='adam', activation='relu'):\n",
    "    model = Sequential()\n",
    "    model.add(Dense(units=64, activation=activation, input_dim=X_train_scaled.shape[1]))\n",
    "    model.add(Dense(units=32, activation=activation))\n",
    "    model.add(Dense(units=1, activation='linear'))\n",
    "    model.compile(optimizer=optimizer, loss='mean_squared_error', metrics=['mean_squared_error'])\n",
    "    return model\n",
    "\n",
    "model = KerasRegressor(model=build_model, verbose=1)\n",
    "\n",
    "param_grid = {\n",
    "    'model__optimizer': ['adam', 'sgd'],\n",
    "    'model__activation': ['relu', 'tanh'],\n",
    "    'fit__batch_size': [10, 20, 32, 50, 100],  # Testen verschiedener batch_size Werte\n",
    "    'fit__epochs': [5, 10]  # Optional: Testen verschiedener epoch Werte\n",
    "}\n",
    "\n",
    "grid = GridSearchCV(estimator=model, param_grid=param_grid, n_jobs=-1, cv=3)\n",
    "grid_result = grid.fit(X_train_scaled, y_train_scaled)\n",
    "\n",
    "# Ergebnisse ausgeben\n",
    "print(\"Best: %f using %s\" % (grid_result.best_score_, grid_result.best_params_))\n",
    "for mean_score, params in zip(grid_result.cv_results_['mean_test_score'], grid_result.cv_results_['params']):\n",
    "    print(\"%f with: %r\" % (mean_score, params))\n"
   ]
  },
  {
   "cell_type": "code",
   "execution_count": null,
   "id": "492cf0ed",
   "metadata": {},
   "outputs": [],
   "source": []
  },
  {
   "cell_type": "code",
   "execution_count": 37,
   "outputs": [
    {
     "name": "stdout",
     "output_type": "stream",
     "text": [
      "Trial 20 Complete [00h 00m 46s]\n",
      "val_mae: 0.005825335392728448\n",
      "\n",
      "Best val_mae So Far: 0.0035446375841274858\n",
      "Total elapsed time: 00h 15m 04s\n",
      "Die besten Hyperparameter sind: {'units_input': 32, 'units_hidden1': 96, 'units_hidden2': 32, 'learning_rate': 0.001}\n"
     ]
    }
   ],
   "source": [
    "class RegressionHyperModel(HyperModel):\n",
    "    def __init__(self, input_shape):\n",
    "        self.input_shape = input_shape\n",
    "\n",
    "    def build(self, hp):\n",
    "        model = Sequential()\n",
    "        model.add(Dense(\n",
    "            units=hp.Int('units_input', min_value=16, max_value=124, step=16),\n",
    "            activation='relu',\n",
    "            input_shape=self.input_shape,\n",
    "            kernel_initializer='he_uniform',\n",
    "            kernel_regularizer=l2(0.0001)\n",
    "        ))\n",
    "        model.add(Dense(\n",
    "            units=hp.Int('units_hidden1', min_value=16, max_value=124, step=16),\n",
    "            activation='relu',\n",
    "            kernel_initializer='he_uniform',\n",
    "            kernel_regularizer=l2(0.0001)\n",
    "        ))\n",
    "        model.add(Dense(\n",
    "            units=hp.Int('units_hidden2', min_value=16, max_value=124, step=16),\n",
    "            activation='relu',\n",
    "            kernel_initializer='he_uniform',\n",
    "            kernel_regularizer=l2(0.0001) \n",
    "        ))\n",
    "        model.add(Dense(1, activation='linear'))\n",
    "\n",
    "        model.compile(\n",
    "            optimizer=Adam(hp.Choice('learning_rate', values=[1e-2, 1e-3, 1e-4])),\n",
    "            loss='mean_squared_error',\n",
    "            metrics=['mae']\n",
    "        )\n",
    "        return model\n",
    "\n",
    "# Setzen Sie die richtige Eingabeform hier, z.B. (2,)\n",
    "hypermodel = RegressionHyperModel(input_shape=(2,))\n",
    "\n",
    "tuner = RandomSearch(\n",
    "    hypermodel,\n",
    "    objective='val_mae',\n",
    "    max_trials=20,\n",
    "    executions_per_trial=2,\n",
    "    directory='my_dir',\n",
    "    project_name='keras_tuner_demo4'\n",
    ")\n",
    "\n",
    "# Beachten Sie, dass X_train_scaled, y_train_scaled durch Ihre tatsächlichen Trainingsdaten ersetzt werden müssen.\n",
    "tuner.search(X_train_scaled, y_train_scaled, epochs=10, validation_split=0.2, callbacks=[EarlyStopping(monitor='val_loss', patience=5)])\n",
    "\n",
    "# Die besten Hyperparameter bekommen\n",
    "best_hps = tuner.get_best_hyperparameters(num_trials=1)[0]\n",
    "print(f\"Die besten Hyperparameter sind: {best_hps.values}\")\n",
    "\n",
    "# Das beste Modell mit den optimalen Hyperparametern trainieren\n",
    "#model = tuner.hypermodel.build(best_hps)\n",
    "# Hier müssen Sie die tatsächlichen Trainings- und Validierungsdaten einfügen\n",
    "#history = model.fit(X_train_scaled, y_train_scaled, epochs=100, validation_split=0.2, callbacks=[EarlyStopping(monitor='val_loss', patience=5, restore_best_weights=True)])\n"
   ],
   "metadata": {
    "collapsed": false
   },
   "id": "9e4c339eeed37479"
  },
  {
   "cell_type": "markdown",
   "source": [],
   "metadata": {
    "collapsed": false
   },
   "id": "6751193b14f574a1"
  },
  {
   "cell_type": "code",
   "execution_count": 16,
   "outputs": [
    {
     "name": "stdout",
     "output_type": "stream",
     "text": [
      "|   iter    |  target   | learni... | neuron... | neuron... | neuron... |\n",
      "-------------------------------------------------------------------------\n",
      "Restoring model weights from the end of the best epoch: 8.\n",
      "Epoch 13: early stopping\n",
      "| \u001B[0m1        \u001B[0m | \u001B[0m-0.000574\u001B[0m | \u001B[0m0.004229 \u001B[0m | \u001B[0m96.68    \u001B[0m | \u001B[0m16.01    \u001B[0m | \u001B[0m49.86    \u001B[0m |\n",
      "Restoring model weights from the end of the best epoch: 11.\n",
      "Epoch 16: early stopping\n",
      "| \u001B[0m2        \u001B[0m | \u001B[0m-0.000625\u001B[0m | \u001B[0m0.001553 \u001B[0m | \u001B[0m26.34    \u001B[0m | \u001B[0m36.86    \u001B[0m | \u001B[0m54.7     \u001B[0m |\n",
      "Restoring model weights from the end of the best epoch: 12.\n",
      "Epoch 17: early stopping\n",
      "| \u001B[95m3        \u001B[0m | \u001B[95m-0.000540\u001B[0m | \u001B[95m0.003015 \u001B[0m | \u001B[95m95.56    \u001B[0m | \u001B[95m18.41    \u001B[0m | \u001B[95m50.67    \u001B[0m |\n",
      "Restoring model weights from the end of the best epoch: 8.\n",
      "Epoch 13: early stopping\n",
      "| \u001B[0m4        \u001B[0m | \u001B[0m-0.000718\u001B[0m | \u001B[0m0.006143 \u001B[0m | \u001B[0m95.07    \u001B[0m | \u001B[0m17.42    \u001B[0m | \u001B[0m52.76    \u001B[0m |\n",
      "Restoring model weights from the end of the best epoch: 7.\n",
      "Epoch 12: early stopping\n",
      "| \u001B[0m5        \u001B[0m | \u001B[0m-0.000624\u001B[0m | \u001B[0m0.006272 \u001B[0m | \u001B[0m41.0     \u001B[0m | \u001B[0m123.4    \u001B[0m | \u001B[0m106.1    \u001B[0m |\n",
      "Restoring model weights from the end of the best epoch: 23.\n",
      "Epoch 28: early stopping\n",
      "| \u001B[0m6        \u001B[0m | \u001B[0m-0.000632\u001B[0m | \u001B[0m0.0003099\u001B[0m | \u001B[0m106.5    \u001B[0m | \u001B[0m124.1    \u001B[0m | \u001B[0m94.63    \u001B[0m |\n",
      "Restoring model weights from the end of the best epoch: 11.\n",
      "Epoch 16: early stopping\n",
      "| \u001B[0m7        \u001B[0m | \u001B[0m-0.000541\u001B[0m | \u001B[0m0.003708 \u001B[0m | \u001B[0m18.51    \u001B[0m | \u001B[0m33.07    \u001B[0m | \u001B[0m124.8    \u001B[0m |\n",
      "Restoring model weights from the end of the best epoch: 7.\n",
      "Epoch 12: early stopping\n",
      "| \u001B[0m8        \u001B[0m | \u001B[0m-0.000615\u001B[0m | \u001B[0m0.009953 \u001B[0m | \u001B[0m52.42    \u001B[0m | \u001B[0m107.5    \u001B[0m | \u001B[0m21.0     \u001B[0m |\n",
      "Restoring model weights from the end of the best epoch: 11.\n",
      "Epoch 16: early stopping\n",
      "| \u001B[0m9        \u001B[0m | \u001B[0m-0.000719\u001B[0m | \u001B[0m0.009814 \u001B[0m | \u001B[0m46.29    \u001B[0m | \u001B[0m106.6    \u001B[0m | \u001B[0m66.01    \u001B[0m |\n",
      "Restoring model weights from the end of the best epoch: 9.\n",
      "Epoch 14: early stopping\n",
      "| \u001B[0m10       \u001B[0m | \u001B[0m-0.000567\u001B[0m | \u001B[0m0.003316 \u001B[0m | \u001B[0m87.21    \u001B[0m | \u001B[0m60.86    \u001B[0m | \u001B[0m100.2    \u001B[0m |\n",
      "Restoring model weights from the end of the best epoch: 10.\n",
      "Epoch 15: early stopping\n",
      "| \u001B[0m11       \u001B[0m | \u001B[0m-0.000580\u001B[0m | \u001B[0m0.003129 \u001B[0m | \u001B[0m91.79    \u001B[0m | \u001B[0m77.75    \u001B[0m | \u001B[0m51.38    \u001B[0m |\n",
      "Restoring model weights from the end of the best epoch: 12.\n",
      "Epoch 17: early stopping\n",
      "| \u001B[0m12       \u001B[0m | \u001B[0m-0.000600\u001B[0m | \u001B[0m0.004032 \u001B[0m | \u001B[0m37.75    \u001B[0m | \u001B[0m21.92    \u001B[0m | \u001B[0m54.63    \u001B[0m |\n",
      "Restoring model weights from the end of the best epoch: 33.\n",
      "Epoch 38: early stopping\n",
      "| \u001B[0m13       \u001B[0m | \u001B[0m-0.000600\u001B[0m | \u001B[0m0.0001937\u001B[0m | \u001B[0m77.62    \u001B[0m | \u001B[0m34.14    \u001B[0m | \u001B[0m69.51    \u001B[0m |\n",
      "Restoring model weights from the end of the best epoch: 10.\n",
      "Epoch 15: early stopping\n",
      "| \u001B[0m14       \u001B[0m | \u001B[0m-0.000561\u001B[0m | \u001B[0m0.00339  \u001B[0m | \u001B[0m70.3     \u001B[0m | \u001B[0m62.68    \u001B[0m | \u001B[0m107.9    \u001B[0m |\n",
      "Restoring model weights from the end of the best epoch: 12.\n",
      "Epoch 17: early stopping\n",
      "| \u001B[0m15       \u001B[0m | \u001B[0m-0.000605\u001B[0m | \u001B[0m0.002417 \u001B[0m | \u001B[0m66.06    \u001B[0m | \u001B[0m77.61    \u001B[0m | \u001B[0m122.3    \u001B[0m |\n",
      "Restoring model weights from the end of the best epoch: 13.\n",
      "Epoch 18: early stopping\n",
      "| \u001B[0m16       \u001B[0m | \u001B[0m-0.000584\u001B[0m | \u001B[0m0.001267 \u001B[0m | \u001B[0m77.66    \u001B[0m | \u001B[0m71.04    \u001B[0m | \u001B[0m32.35    \u001B[0m |\n",
      "Restoring model weights from the end of the best epoch: 11.\n",
      "Epoch 16: early stopping\n",
      "| \u001B[0m17       \u001B[0m | \u001B[0m-0.000548\u001B[0m | \u001B[0m0.002701 \u001B[0m | \u001B[0m18.45    \u001B[0m | \u001B[0m34.76    \u001B[0m | \u001B[0m87.86    \u001B[0m |\n",
      "Restoring model weights from the end of the best epoch: 12.\n",
      "Epoch 17: early stopping\n",
      "| \u001B[95m18       \u001B[0m | \u001B[95m-0.000538\u001B[0m | \u001B[95m0.002041 \u001B[0m | \u001B[95m60.84    \u001B[0m | \u001B[95m73.72    \u001B[0m | \u001B[95m23.85    \u001B[0m |\n",
      "Restoring model weights from the end of the best epoch: 12.\n",
      "Epoch 17: early stopping\n",
      "| \u001B[95m19       \u001B[0m | \u001B[95m-0.000512\u001B[0m | \u001B[95m0.00189  \u001B[0m | \u001B[95m46.44    \u001B[0m | \u001B[95m106.0    \u001B[0m | \u001B[95m88.58    \u001B[0m |\n",
      "Restoring model weights from the end of the best epoch: 18.\n",
      "Epoch 23: early stopping\n",
      "| \u001B[95m20       \u001B[0m | \u001B[95m-0.000463\u001B[0m | \u001B[95m0.001424 \u001B[0m | \u001B[95m72.88    \u001B[0m | \u001B[95m115.6    \u001B[0m | \u001B[95m79.52    \u001B[0m |\n",
      "Restoring model weights from the end of the best epoch: 13.\n",
      "Epoch 18: early stopping\n",
      "| \u001B[0m21       \u001B[0m | \u001B[0m-0.000465\u001B[0m | \u001B[0m0.001601 \u001B[0m | \u001B[0m38.88    \u001B[0m | \u001B[0m91.32    \u001B[0m | \u001B[0m114.0    \u001B[0m |\n",
      "Restoring model weights from the end of the best epoch: 10.\n",
      "Epoch 15: early stopping\n",
      "| \u001B[0m22       \u001B[0m | \u001B[0m-0.000795\u001B[0m | \u001B[0m0.008199 \u001B[0m | \u001B[0m34.31    \u001B[0m | \u001B[0m17.68    \u001B[0m | \u001B[0m34.03    \u001B[0m |\n",
      "=========================================================================\n",
      "{'target': -0.0004634845245163888, 'params': {'learning_rate': 0.0014237584796799013, 'neurons_layer_1': 72.87904416306228, 'neurons_layer_2': 115.57957207596513, 'neurons_layer_3': 79.52237841470118}}\n"
     ]
    }
   ],
   "source": [
    "from bayes_opt import BayesianOptimization\n",
    "\n",
    "\n",
    "# Angenommene Daten\n",
    "# X_train_scaled, y_train_scaled = # Deine skalierten Trainingsdaten\n",
    "\n",
    "def train_evaluate(neurons_layer_1, neurons_layer_2, neurons_layer_3, learning_rate):\n",
    "    model = Sequential([\n",
    "        Dense(int(neurons_layer_1), activation='relu', input_shape=(2,), kernel_initializer='he_uniform', kernel_regularizer=l2(0.0001)),\n",
    "        Dense(int(neurons_layer_2), activation='relu', kernel_initializer='he_uniform', kernel_regularizer=l2(0.0001)),\n",
    "        Dense(int(neurons_layer_3), activation='relu', kernel_initializer='he_uniform', kernel_regularizer=l2(0.0001)),\n",
    "        \n",
    "        Dense(1, activation='linear')\n",
    "    ])\n",
    "\n",
    "    optimizer = tf.keras.optimizers.Adam(learning_rate=learning_rate)\n",
    "    model.compile(optimizer=optimizer, loss='mean_squared_error', metrics=['mae'])\n",
    "\n",
    "    early_stopping = EarlyStopping(monitor='loss', patience=5, verbose=1, mode='min', restore_best_weights=True, min_delta=0.0001)\n",
    "\n",
    "    history = model.fit(X_train_scaled, y_train_scaled, batch_size=32, epochs=100, validation_split=0.2, callbacks=[early_stopping], verbose=0)\n",
    "\n",
    "    # Hier wählen wir den negativen Mean Squared Error, da Bayesian Optimization maximiert\n",
    "    mse = np.min(history.history['val_loss'])\n",
    "    return -mse\n",
    "\n",
    "# Definieren des Bereichs der Hyperparameter\n",
    "pbounds = {\n",
    "    'neurons_layer_1': (16, 128),\n",
    "    'neurons_layer_2': (16, 128),\n",
    "    'neurons_layer_3': (16, 128),\n",
    "    'learning_rate': (0.0001, 0.01),\n",
    "}\n",
    "\n",
    "# Initialisieren des BayesianOptimization-Objekts\n",
    "optimizer = BayesianOptimization(\n",
    "    f=train_evaluate,\n",
    "    pbounds=pbounds,\n",
    "    random_state=1,\n",
    ")\n",
    "\n",
    "# Starten der Optimierung\n",
    "optimizer.maximize(init_points=2, n_iter=20)\n",
    "\n",
    "print(optimizer.max)\n"
   ],
   "metadata": {
    "collapsed": false,
    "ExecuteTime": {
     "end_time": "2024-02-15T10:22:37.319066100Z",
     "start_time": "2024-02-15T10:08:43.739288500Z"
    }
   },
   "id": "a5b6232547cdae67"
  },
  {
   "cell_type": "code",
   "execution_count": null,
   "outputs": [],
   "source": [],
   "metadata": {
    "collapsed": false
   },
   "id": "4bcbb2bbe83bfb6b"
  }
 ],
 "metadata": {
  "kernelspec": {
   "display_name": "Python 3 (ipykernel)",
   "language": "python",
   "name": "python3"
  },
  "language_info": {
   "codemirror_mode": {
    "name": "ipython",
    "version": 3
   },
   "file_extension": ".py",
   "mimetype": "text/x-python",
   "name": "python",
   "nbconvert_exporter": "python",
   "pygments_lexer": "ipython3",
   "version": "3.11.4"
  }
 },
 "nbformat": 4,
 "nbformat_minor": 5
}
