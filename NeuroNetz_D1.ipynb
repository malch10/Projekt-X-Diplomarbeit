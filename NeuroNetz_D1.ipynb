{
 "cells": [
  {
   "cell_type": "code",
   "execution_count": 16,
   "id": "94b0518e",
   "metadata": {
    "ExecuteTime": {
     "end_time": "2024-02-14T11:50:01.707336900Z",
     "start_time": "2024-02-14T11:50:01.705324700Z"
    }
   },
   "outputs": [],
   "source": [
    "import numpy as np\n",
    "import tensorflow as tf\n",
    "import matplotlib.pyplot as plt\n",
    "import pandas as pd\n",
    "from tensorflow import keras\n",
    "from tensorflow.keras.models import Sequential\n",
    "from tensorflow.keras.layers import Dense\n",
    "from sklearn.model_selection import train_test_split\n",
    "from tensorflow.keras import layers\n",
    "import glob\n",
    "\n",
    "from sklearn.preprocessing import MinMaxScaler, StandardScaler\n",
    "import pandas as pd\n",
    "\n",
    "from tensorflow.keras.models import Sequential\n",
    "from tensorflow.keras.layers import Dense , Dropout\n",
    "from sklearn.model_selection import GridSearchCV\n",
    "from scikeras.wrappers import KerasRegressor, KerasClassifier\n",
    "from tensorflow.keras.regularizers import l2\n",
    "from tensorflow.keras.callbacks import EarlyStopping\n",
    "from tensorflow.keras.optimizers import Adam\n",
    "import time\n",
    "from kerastuner import HyperModel\n",
    "from keras.models import Sequential\n",
    "from keras.layers import Dense, Dropout\n",
    "from keras.optimizers import Adam\n",
    "from keras.regularizers import l2\n",
    "from keras.callbacks import EarlyStopping\n",
    "from kerastuner.tuners import RandomSearch"
   ]
  },
  {
   "cell_type": "code",
   "execution_count": 17,
   "id": "e4ff61b1",
   "metadata": {
    "ExecuteTime": {
     "end_time": "2024-02-14T11:50:01.981734900Z",
     "start_time": "2024-02-14T11:50:01.947524500Z"
    }
   },
   "outputs": [
    {
     "data": {
      "text/plain": "        X-Koordinate  Y-Koordinate  Zeitpunkt  Strom  Kraft  Temperatur\n0              0.000      -0.00200        300   7000   9000      532.25\n1              0.000      -0.00199        300   7000   9000      536.47\n2              0.000      -0.00198        300   7000   9000      540.69\n3              0.000      -0.00197        300   7000   9000      544.90\n4              0.000      -0.00196        300   7000   9000      549.09\n...              ...           ...        ...    ...    ...         ...\n120649         0.003       0.00196        300   7000   9000      422.17\n120650         0.003       0.00197        300   7000   9000      422.04\n120651         0.003       0.00198        300   7000   9000      421.90\n120652         0.003       0.00199        300   7000   9000      421.76\n120653         0.003       0.00200        300   7000   9000      421.60\n\n[120654 rows x 6 columns]",
      "text/html": "<div>\n<style scoped>\n    .dataframe tbody tr th:only-of-type {\n        vertical-align: middle;\n    }\n\n    .dataframe tbody tr th {\n        vertical-align: top;\n    }\n\n    .dataframe thead th {\n        text-align: right;\n    }\n</style>\n<table border=\"1\" class=\"dataframe\">\n  <thead>\n    <tr style=\"text-align: right;\">\n      <th></th>\n      <th>X-Koordinate</th>\n      <th>Y-Koordinate</th>\n      <th>Zeitpunkt</th>\n      <th>Strom</th>\n      <th>Kraft</th>\n      <th>Temperatur</th>\n    </tr>\n  </thead>\n  <tbody>\n    <tr>\n      <th>0</th>\n      <td>0.000</td>\n      <td>-0.00200</td>\n      <td>300</td>\n      <td>7000</td>\n      <td>9000</td>\n      <td>532.25</td>\n    </tr>\n    <tr>\n      <th>1</th>\n      <td>0.000</td>\n      <td>-0.00199</td>\n      <td>300</td>\n      <td>7000</td>\n      <td>9000</td>\n      <td>536.47</td>\n    </tr>\n    <tr>\n      <th>2</th>\n      <td>0.000</td>\n      <td>-0.00198</td>\n      <td>300</td>\n      <td>7000</td>\n      <td>9000</td>\n      <td>540.69</td>\n    </tr>\n    <tr>\n      <th>3</th>\n      <td>0.000</td>\n      <td>-0.00197</td>\n      <td>300</td>\n      <td>7000</td>\n      <td>9000</td>\n      <td>544.90</td>\n    </tr>\n    <tr>\n      <th>4</th>\n      <td>0.000</td>\n      <td>-0.00196</td>\n      <td>300</td>\n      <td>7000</td>\n      <td>9000</td>\n      <td>549.09</td>\n    </tr>\n    <tr>\n      <th>...</th>\n      <td>...</td>\n      <td>...</td>\n      <td>...</td>\n      <td>...</td>\n      <td>...</td>\n      <td>...</td>\n    </tr>\n    <tr>\n      <th>120649</th>\n      <td>0.003</td>\n      <td>0.00196</td>\n      <td>300</td>\n      <td>7000</td>\n      <td>9000</td>\n      <td>422.17</td>\n    </tr>\n    <tr>\n      <th>120650</th>\n      <td>0.003</td>\n      <td>0.00197</td>\n      <td>300</td>\n      <td>7000</td>\n      <td>9000</td>\n      <td>422.04</td>\n    </tr>\n    <tr>\n      <th>120651</th>\n      <td>0.003</td>\n      <td>0.00198</td>\n      <td>300</td>\n      <td>7000</td>\n      <td>9000</td>\n      <td>421.90</td>\n    </tr>\n    <tr>\n      <th>120652</th>\n      <td>0.003</td>\n      <td>0.00199</td>\n      <td>300</td>\n      <td>7000</td>\n      <td>9000</td>\n      <td>421.76</td>\n    </tr>\n    <tr>\n      <th>120653</th>\n      <td>0.003</td>\n      <td>0.00200</td>\n      <td>300</td>\n      <td>7000</td>\n      <td>9000</td>\n      <td>421.60</td>\n    </tr>\n  </tbody>\n</table>\n<p>120654 rows × 6 columns</p>\n</div>"
     },
     "execution_count": 17,
     "metadata": {},
     "output_type": "execute_result"
    }
   ],
   "source": [
    "#data = pd.read_pickle('C:/Users/erikm/Desktop/Diplomarbeit Erik Marr/Daten/Finish/TPath_300_finish_data.pkl')\n",
    "data = pd.read_pickle('C:/Users/erikm/Desktop/Diplomarbeit Erik Marr/Daten/Finish_D1_I7000_F9000/TPath_500_finish_data_D1.pkl')\n",
    "\n",
    "data"
   ]
  },
  {
   "cell_type": "code",
   "execution_count": 18,
   "id": "966e3c74",
   "metadata": {
    "ExecuteTime": {
     "end_time": "2024-02-14T11:50:02.228770700Z",
     "start_time": "2024-02-14T11:50:02.171203Z"
    }
   },
   "outputs": [
    {
     "data": {
      "text/plain": "        X-Koordinate  Y-Koordinate  Temperatur\n0              0.000      -0.00200      532.25\n1              0.000      -0.00199      536.47\n2              0.000      -0.00198      540.69\n3              0.000      -0.00197      544.90\n4              0.000      -0.00196      549.09\n...              ...           ...         ...\n120649         0.003       0.00196      422.17\n120650         0.003       0.00197      422.04\n120651         0.003       0.00198      421.90\n120652         0.003       0.00199      421.76\n120653         0.003       0.00200      421.60\n\n[120654 rows x 3 columns]",
      "text/html": "<div>\n<style scoped>\n    .dataframe tbody tr th:only-of-type {\n        vertical-align: middle;\n    }\n\n    .dataframe tbody tr th {\n        vertical-align: top;\n    }\n\n    .dataframe thead th {\n        text-align: right;\n    }\n</style>\n<table border=\"1\" class=\"dataframe\">\n  <thead>\n    <tr style=\"text-align: right;\">\n      <th></th>\n      <th>X-Koordinate</th>\n      <th>Y-Koordinate</th>\n      <th>Temperatur</th>\n    </tr>\n  </thead>\n  <tbody>\n    <tr>\n      <th>0</th>\n      <td>0.000</td>\n      <td>-0.00200</td>\n      <td>532.25</td>\n    </tr>\n    <tr>\n      <th>1</th>\n      <td>0.000</td>\n      <td>-0.00199</td>\n      <td>536.47</td>\n    </tr>\n    <tr>\n      <th>2</th>\n      <td>0.000</td>\n      <td>-0.00198</td>\n      <td>540.69</td>\n    </tr>\n    <tr>\n      <th>3</th>\n      <td>0.000</td>\n      <td>-0.00197</td>\n      <td>544.90</td>\n    </tr>\n    <tr>\n      <th>4</th>\n      <td>0.000</td>\n      <td>-0.00196</td>\n      <td>549.09</td>\n    </tr>\n    <tr>\n      <th>...</th>\n      <td>...</td>\n      <td>...</td>\n      <td>...</td>\n    </tr>\n    <tr>\n      <th>120649</th>\n      <td>0.003</td>\n      <td>0.00196</td>\n      <td>422.17</td>\n    </tr>\n    <tr>\n      <th>120650</th>\n      <td>0.003</td>\n      <td>0.00197</td>\n      <td>422.04</td>\n    </tr>\n    <tr>\n      <th>120651</th>\n      <td>0.003</td>\n      <td>0.00198</td>\n      <td>421.90</td>\n    </tr>\n    <tr>\n      <th>120652</th>\n      <td>0.003</td>\n      <td>0.00199</td>\n      <td>421.76</td>\n    </tr>\n    <tr>\n      <th>120653</th>\n      <td>0.003</td>\n      <td>0.00200</td>\n      <td>421.60</td>\n    </tr>\n  </tbody>\n</table>\n<p>120654 rows × 3 columns</p>\n</div>"
     },
     "execution_count": 18,
     "metadata": {},
     "output_type": "execute_result"
    }
   ],
   "source": [
    "df = data.drop(data.columns[2:5], axis = 1)\n",
    "df"
   ]
  },
  {
   "cell_type": "code",
   "execution_count": 19,
   "id": "8783d1d6",
   "metadata": {
    "ExecuteTime": {
     "end_time": "2024-02-14T11:50:02.396901100Z",
     "start_time": "2024-02-14T11:50:02.351010800Z"
    }
   },
   "outputs": [
    {
     "name": "stdout",
     "output_type": "stream",
     "text": [
      "        X-Koordinate  Y-Koordinate  Temperatur\n",
      "98727        0.00246      -0.00119      733.99\n",
      "39755        0.00099      -0.00144      738.26\n",
      "104285       0.00260      -0.00175      693.22\n",
      "15272        0.00038      -0.00166      665.76\n",
      "58728        0.00146      -0.00018      859.83\n",
      "...              ...           ...         ...\n",
      "110268       0.00274       0.00198      441.73\n",
      "119879       0.00299      -0.00179      654.76\n",
      "103694       0.00258       0.00036      724.67\n",
      "860          0.00002      -0.00142      743.94\n",
      "15795        0.00039      -0.00044      902.39\n",
      "\n",
      "[120654 rows x 3 columns]\n"
     ]
    },
    {
     "data": {
      "text/plain": "        X-Koordinate  Y-Koordinate  Temperatur\n0            0.00246      -0.00119      733.99\n1            0.00099      -0.00144      738.26\n2            0.00260      -0.00175      693.22\n3            0.00038      -0.00166      665.76\n4            0.00146      -0.00018      859.83\n...              ...           ...         ...\n120649       0.00274       0.00198      441.73\n120650       0.00299      -0.00179      654.76\n120651       0.00258       0.00036      724.67\n120652       0.00002      -0.00142      743.94\n120653       0.00039      -0.00044      902.39\n\n[120654 rows x 3 columns]",
      "text/html": "<div>\n<style scoped>\n    .dataframe tbody tr th:only-of-type {\n        vertical-align: middle;\n    }\n\n    .dataframe tbody tr th {\n        vertical-align: top;\n    }\n\n    .dataframe thead th {\n        text-align: right;\n    }\n</style>\n<table border=\"1\" class=\"dataframe\">\n  <thead>\n    <tr style=\"text-align: right;\">\n      <th></th>\n      <th>X-Koordinate</th>\n      <th>Y-Koordinate</th>\n      <th>Temperatur</th>\n    </tr>\n  </thead>\n  <tbody>\n    <tr>\n      <th>0</th>\n      <td>0.00246</td>\n      <td>-0.00119</td>\n      <td>733.99</td>\n    </tr>\n    <tr>\n      <th>1</th>\n      <td>0.00099</td>\n      <td>-0.00144</td>\n      <td>738.26</td>\n    </tr>\n    <tr>\n      <th>2</th>\n      <td>0.00260</td>\n      <td>-0.00175</td>\n      <td>693.22</td>\n    </tr>\n    <tr>\n      <th>3</th>\n      <td>0.00038</td>\n      <td>-0.00166</td>\n      <td>665.76</td>\n    </tr>\n    <tr>\n      <th>4</th>\n      <td>0.00146</td>\n      <td>-0.00018</td>\n      <td>859.83</td>\n    </tr>\n    <tr>\n      <th>...</th>\n      <td>...</td>\n      <td>...</td>\n      <td>...</td>\n    </tr>\n    <tr>\n      <th>120649</th>\n      <td>0.00274</td>\n      <td>0.00198</td>\n      <td>441.73</td>\n    </tr>\n    <tr>\n      <th>120650</th>\n      <td>0.00299</td>\n      <td>-0.00179</td>\n      <td>654.76</td>\n    </tr>\n    <tr>\n      <th>120651</th>\n      <td>0.00258</td>\n      <td>0.00036</td>\n      <td>724.67</td>\n    </tr>\n    <tr>\n      <th>120652</th>\n      <td>0.00002</td>\n      <td>-0.00142</td>\n      <td>743.94</td>\n    </tr>\n    <tr>\n      <th>120653</th>\n      <td>0.00039</td>\n      <td>-0.00044</td>\n      <td>902.39</td>\n    </tr>\n  </tbody>\n</table>\n<p>120654 rows × 3 columns</p>\n</div>"
     },
     "execution_count": 19,
     "metadata": {},
     "output_type": "execute_result"
    }
   ],
   "source": [
    "df1 = df.sample(frac=1, random_state=42)  # Hier wird 42 als Random State verwendet, um die Ergebnisse reproduzierbar zu machen\n",
    "\n",
    "print(df1)\n",
    "df_reset = df1.reset_index(drop=True)\n",
    "df_reset"
   ]
  },
  {
   "cell_type": "code",
   "execution_count": 20,
   "id": "a4e72a16",
   "metadata": {
    "ExecuteTime": {
     "end_time": "2024-02-14T11:50:02.538307400Z",
     "start_time": "2024-02-14T11:50:02.482968300Z"
    }
   },
   "outputs": [],
   "source": [
    "label = df_reset[\"Temperatur\"]\n",
    "# Korrektur: Verwenden Sie den Spaltennamen direkt, ohne Indexierung der columns-Eigenschaft\n",
    "df1 = df_reset.drop(\"Temperatur\", axis=1)\n",
    "X = df1\n",
    "y = label\n"
   ]
  },
  {
   "cell_type": "markdown",
   "source": [],
   "metadata": {
    "collapsed": false
   },
   "id": "f7fa289a50d87423"
  },
  {
   "cell_type": "code",
   "execution_count": 21,
   "id": "e694a236",
   "metadata": {
    "ExecuteTime": {
     "end_time": "2024-02-14T11:50:02.847433500Z",
     "start_time": "2024-02-14T11:50:02.810892700Z"
    }
   },
   "outputs": [
    {
     "data": {
      "text/plain": "        X-Koordinate  Y-Koordinate\n0            0.00246      -0.00119\n1            0.00099      -0.00144\n2            0.00260      -0.00175\n3            0.00038      -0.00166\n4            0.00146      -0.00018\n...              ...           ...\n120649       0.00274       0.00198\n120650       0.00299      -0.00179\n120651       0.00258       0.00036\n120652       0.00002      -0.00142\n120653       0.00039      -0.00044\n\n[120654 rows x 2 columns]",
      "text/html": "<div>\n<style scoped>\n    .dataframe tbody tr th:only-of-type {\n        vertical-align: middle;\n    }\n\n    .dataframe tbody tr th {\n        vertical-align: top;\n    }\n\n    .dataframe thead th {\n        text-align: right;\n    }\n</style>\n<table border=\"1\" class=\"dataframe\">\n  <thead>\n    <tr style=\"text-align: right;\">\n      <th></th>\n      <th>X-Koordinate</th>\n      <th>Y-Koordinate</th>\n    </tr>\n  </thead>\n  <tbody>\n    <tr>\n      <th>0</th>\n      <td>0.00246</td>\n      <td>-0.00119</td>\n    </tr>\n    <tr>\n      <th>1</th>\n      <td>0.00099</td>\n      <td>-0.00144</td>\n    </tr>\n    <tr>\n      <th>2</th>\n      <td>0.00260</td>\n      <td>-0.00175</td>\n    </tr>\n    <tr>\n      <th>3</th>\n      <td>0.00038</td>\n      <td>-0.00166</td>\n    </tr>\n    <tr>\n      <th>4</th>\n      <td>0.00146</td>\n      <td>-0.00018</td>\n    </tr>\n    <tr>\n      <th>...</th>\n      <td>...</td>\n      <td>...</td>\n    </tr>\n    <tr>\n      <th>120649</th>\n      <td>0.00274</td>\n      <td>0.00198</td>\n    </tr>\n    <tr>\n      <th>120650</th>\n      <td>0.00299</td>\n      <td>-0.00179</td>\n    </tr>\n    <tr>\n      <th>120651</th>\n      <td>0.00258</td>\n      <td>0.00036</td>\n    </tr>\n    <tr>\n      <th>120652</th>\n      <td>0.00002</td>\n      <td>-0.00142</td>\n    </tr>\n    <tr>\n      <th>120653</th>\n      <td>0.00039</td>\n      <td>-0.00044</td>\n    </tr>\n  </tbody>\n</table>\n<p>120654 rows × 2 columns</p>\n</div>"
     },
     "execution_count": 21,
     "metadata": {},
     "output_type": "execute_result"
    }
   ],
   "source": [
    "X"
   ]
  },
  {
   "cell_type": "code",
   "execution_count": 22,
   "id": "3f3303b4",
   "metadata": {
    "ExecuteTime": {
     "end_time": "2024-02-14T11:50:03.007752600Z",
     "start_time": "2024-02-14T11:50:02.995108900Z"
    }
   },
   "outputs": [
    {
     "data": {
      "text/plain": "0         733.99\n1         738.26\n2         693.22\n3         665.76\n4         859.83\n           ...  \n120649    441.73\n120650    654.76\n120651    724.67\n120652    743.94\n120653    902.39\nName: Temperatur, Length: 120654, dtype: float64"
     },
     "execution_count": 22,
     "metadata": {},
     "output_type": "execute_result"
    }
   ],
   "source": [
    "y"
   ]
  },
  {
   "cell_type": "code",
   "execution_count": 23,
   "id": "e3ad8da0",
   "metadata": {
    "ExecuteTime": {
     "end_time": "2024-02-14T11:50:03.220098400Z",
     "start_time": "2024-02-14T11:50:03.170794200Z"
    }
   },
   "outputs": [],
   "source": [
    " # train_df enthält 80% der Daten, test_df enthält 20% der Daten\n",
    "X_train, X_test, y_train, y_test = train_test_split(X, y, test_size=0.20, random_state=42)\n"
   ]
  },
  {
   "cell_type": "code",
   "execution_count": 24,
   "id": "9c705edb",
   "metadata": {
    "ExecuteTime": {
     "end_time": "2024-02-14T11:50:03.744212600Z",
     "start_time": "2024-02-14T11:50:03.709172800Z"
    }
   },
   "outputs": [],
   "source": [
    "# Initialisiere einen MinMaxScaler für die Features\n",
    "scaler_features = MinMaxScaler()\n",
    "scaler_features2 = MinMaxScaler()\n",
    "# Skaliere X_train und X_test\n",
    "X_train_scaled = scaler_features.fit_transform(X_train)\n",
    "X_test_scaled = scaler_features.transform(X_test)  # Nutze unterschiedliche Skalierungsparameter\n",
    "\n",
    "# Initialisiere einen SEPARATEN MinMaxScaler für das Ziel, wenn nötig\n",
    "scaler_target = MinMaxScaler()\n",
    "\n",
    "\n",
    "# Skaliere y_train und y_test. Beachte, dass y_train.reshape(-1, 1) verwendet wird, da MinMaxScaler \n",
    "# erwartet, dass die Eingaben als 2D-Arrays kommen, und Ziele normalerweise als 1D-Arrays vorliegen.\n",
    "y_train_scaled = scaler_target.fit_transform(y_train.values.reshape(-1, 1))\n",
    "y_test_scaled = scaler_target.transform(y_test.values.reshape(-1, 1))\n"
   ]
  },
  {
   "cell_type": "code",
   "execution_count": 25,
   "id": "bbefe631e495b483",
   "metadata": {
    "ExecuteTime": {
     "end_time": "2024-02-14T11:50:04.070729400Z",
     "start_time": "2024-02-14T11:50:04.064173500Z"
    }
   },
   "outputs": [
    {
     "data": {
      "text/plain": "array([[0.97      , 0.9575    ],\n       [0.06666667, 0.325     ],\n       [0.65      , 0.69      ],\n       ...,\n       [0.25666667, 0.1175    ],\n       [0.81333333, 0.2225    ],\n       [0.22      , 0.22      ]])"
     },
     "execution_count": 25,
     "metadata": {},
     "output_type": "execute_result"
    }
   ],
   "source": [
    "X_train_scaled"
   ]
  },
  {
   "cell_type": "code",
   "execution_count": 27,
   "id": "a6eccbb7534cd064",
   "metadata": {
    "ExecuteTime": {
     "end_time": "2024-02-14T11:50:05.457310Z",
     "start_time": "2024-02-14T11:50:05.451298Z"
    }
   },
   "outputs": [],
   "source": [
    "# Lernplan erstellen\n",
    "#initial_learning_rate = 0.1\n",
    "#lr_schedule = tf.keras.optimizers.schedules.ExponentialDecay(\n",
    "#    initial_learning_rate, decay_steps=100, decay_rate=0.9, staircase=True)"
   ]
  },
  {
   "cell_type": "code",
   "execution_count": 52,
   "outputs": [
    {
     "name": "stdout",
     "output_type": "stream",
     "text": [
      "Epoch 1/100\n",
      "1545/1545 [==============================] - 3s 1ms/step - loss: 0.0311 - mae: 0.0351 - val_loss: 0.0193 - val_mae: 0.0211\n",
      "Epoch 2/100\n",
      "1545/1545 [==============================] - 2s 1ms/step - loss: 0.0159 - mae: 0.0171 - val_loss: 0.0129 - val_mae: 0.0157\n",
      "Epoch 3/100\n",
      "1545/1545 [==============================] - 2s 1ms/step - loss: 0.0111 - mae: 0.0153 - val_loss: 0.0090 - val_mae: 0.0094\n",
      "Epoch 4/100\n",
      "1545/1545 [==============================] - 2s 1ms/step - loss: 0.0079 - mae: 0.0138 - val_loss: 0.0064 - val_mae: 0.0100\n",
      "Epoch 5/100\n",
      "1545/1545 [==============================] - 2s 1ms/step - loss: 0.0057 - mae: 0.0129 - val_loss: 0.0048 - val_mae: 0.0118\n",
      "Epoch 6/100\n",
      "1545/1545 [==============================] - 2s 1ms/step - loss: 0.0042 - mae: 0.0125 - val_loss: 0.0035 - val_mae: 0.0092\n",
      "Epoch 7/100\n",
      "1545/1545 [==============================] - 2s 1ms/step - loss: 0.0032 - mae: 0.0117 - val_loss: 0.0027 - val_mae: 0.0093\n",
      "Epoch 8/100\n",
      "1545/1545 [==============================] - 2s 1ms/step - loss: 0.0025 - mae: 0.0106 - val_loss: 0.0021 - val_mae: 0.0069\n",
      "Epoch 9/100\n",
      "1545/1545 [==============================] - 2s 1ms/step - loss: 0.0021 - mae: 0.0114 - val_loss: 0.0020 - val_mae: 0.0133\n",
      "Epoch 10/100\n",
      "1545/1545 [==============================] - 2s 1ms/step - loss: 0.0018 - mae: 0.0108 - val_loss: 0.0017 - val_mae: 0.0132\n",
      "Epoch 11/100\n",
      "1545/1545 [==============================] - 2s 1ms/step - loss: 0.0016 - mae: 0.0106 - val_loss: 0.0017 - val_mae: 0.0130\n",
      "Epoch 12/100\n",
      "1545/1545 [==============================] - 2s 1ms/step - loss: 0.0015 - mae: 0.0102 - val_loss: 0.0015 - val_mae: 0.0154\n",
      "Epoch 13/100\n",
      "1545/1545 [==============================] - 2s 1ms/step - loss: 0.0014 - mae: 0.0109 - val_loss: 0.0012 - val_mae: 0.0078\n",
      "Epoch 14/100\n",
      "1545/1545 [==============================] - 2s 1ms/step - loss: 0.0013 - mae: 0.0106 - val_loss: 0.0015 - val_mae: 0.0174\n",
      "Epoch 15/100\n",
      "1545/1545 [==============================] - 2s 1ms/step - loss: 0.0012 - mae: 0.0100 - val_loss: 0.0013 - val_mae: 0.0139\n",
      "Epoch 16/100\n",
      "1545/1545 [==============================] - 2s 1ms/step - loss: 0.0012 - mae: 0.0102 - val_loss: 0.0014 - val_mae: 0.0187\n",
      "Epoch 17/100\n",
      "1545/1545 [==============================] - 2s 1ms/step - loss: 0.0011 - mae: 0.0100 - val_loss: 0.0011 - val_mae: 0.0121\n",
      "Epoch 18/100\n",
      "1545/1545 [==============================] - 2s 1ms/step - loss: 0.0011 - mae: 0.0101 - val_loss: 9.4884e-04 - val_mae: 0.0069\n",
      "Epoch 19/100\n",
      "1545/1545 [==============================] - 2s 1ms/step - loss: 0.0011 - mae: 0.0104 - val_loss: 0.0011 - val_mae: 0.0111\n",
      "Epoch 20/100\n",
      "1545/1545 [==============================] - 2s 1ms/step - loss: 0.0010 - mae: 0.0101 - val_loss: 9.7180e-04 - val_mae: 0.0103\n",
      "Epoch 21/100\n",
      "1545/1545 [==============================] - 2s 1ms/step - loss: 0.0010 - mae: 0.0100 - val_loss: 9.9897e-04 - val_mae: 0.0108\n",
      "Epoch 22/100\n",
      "1545/1545 [==============================] - 2s 1ms/step - loss: 9.9196e-04 - mae: 0.0097 - val_loss: 8.5460e-04 - val_mae: 0.0068\n",
      "Epoch 23/100\n",
      "1545/1545 [==============================] - 2s 1ms/step - loss: 9.6564e-04 - mae: 0.0097 - val_loss: 0.0010 - val_mae: 0.0120\n",
      "Epoch 24/100\n",
      "1545/1545 [==============================] - 2s 1ms/step - loss: 9.6849e-04 - mae: 0.0102 - val_loss: 9.0109e-04 - val_mae: 0.0114\n",
      "Epoch 25/100\n",
      "1545/1545 [==============================] - 2s 1ms/step - loss: 9.3411e-04 - mae: 0.0097 - val_loss: 8.2832e-04 - val_mae: 0.0080\n",
      "Epoch 26/100\n",
      "1545/1545 [==============================] - 2s 1ms/step - loss: 9.2785e-04 - mae: 0.0099 - val_loss: 7.9028e-04 - val_mae: 0.0068\n",
      "Epoch 27/100\n",
      "1545/1545 [==============================] - 2s 1ms/step - loss: 9.0989e-04 - mae: 0.0099 - val_loss: 9.2628e-04 - val_mae: 0.0131\n",
      "Epoch 28/100\n",
      "1545/1545 [==============================] - 2s 1ms/step - loss: 8.9813e-04 - mae: 0.0097 - val_loss: 0.0011 - val_mae: 0.0149\n",
      "Epoch 29/100\n",
      "1545/1545 [==============================] - 2s 1ms/step - loss: 8.8522e-04 - mae: 0.0097 - val_loss: 8.3395e-04 - val_mae: 0.0103\n",
      "Epoch 30/100\n",
      "1545/1545 [==============================] - 2s 1ms/step - loss: 8.5635e-04 - mae: 0.0094 - val_loss: 8.2450e-04 - val_mae: 0.0117\n",
      "Epoch 31/100\n",
      "1545/1545 [==============================] - 2s 1ms/step - loss: 8.4839e-04 - mae: 0.0094 - val_loss: 7.0696e-04 - val_mae: 0.0061\n",
      "Epoch 32/100\n",
      "1545/1545 [==============================] - 2s 1ms/step - loss: 8.5308e-04 - mae: 0.0097 - val_loss: 8.5695e-04 - val_mae: 0.0114\n",
      "Epoch 33/100\n",
      "1545/1545 [==============================] - 2s 1ms/step - loss: 8.4080e-04 - mae: 0.0096 - val_loss: 0.0011 - val_mae: 0.0163\n",
      "Epoch 34/100\n",
      "1545/1545 [==============================] - 2s 1ms/step - loss: 8.3660e-04 - mae: 0.0097 - val_loss: 8.5260e-04 - val_mae: 0.0115\n",
      "Epoch 35/100\n",
      "1504/1545 [============================>.] - ETA: 0s - loss: 8.2229e-04 - mae: 0.0096Restoring model weights from the end of the best epoch: 30.\n",
      "1545/1545 [==============================] - 2s 1ms/step - loss: 8.2217e-04 - mae: 0.0096 - val_loss: 8.2857e-04 - val_mae: 0.0119\n",
      "Epoch 35: early stopping\n",
      "Die Ausführungszeit betrug 62.13900065422058 Sekunden.\n"
     ]
    }
   ],
   "source": [
    "start_time = time.time()\n",
    "# Netzwerkarchitektur\n",
    "model = Sequential([\n",
    "    # Eingabeschicht\n",
    "    Dense(80, activation='relu', input_shape=(2,), kernel_initializer='he_uniform', kernel_regularizer=l2(0.0001)),\n",
    "    #Dropout(0.01),\n",
    "    # Versteckte Schicht\n",
    "    Dense(112, activation='relu', kernel_initializer='he_uniform', kernel_regularizer=l2(0.0001)),\n",
    "    #Dropout(0.01),\n",
    "    # Ausgabeschicht für Regression (1 Einheit ohne Aktivierungsfunktion)\n",
    "    Dense(80, activation='relu', kernel_initializer='he_uniform', kernel_regularizer=l2(0.0001)),\n",
    "    \n",
    "    Dense(1 , activation = 'linear')\n",
    "])\n",
    "\n",
    "# Optimierer\n",
    "optimizer = tf.keras.optimizers.Adam(learning_rate=0.001)\n",
    "\n",
    "# Modell kompilieren (Verwendung von mean_squared_error als Verlustfunktion für Regression)\n",
    "model.compile(optimizer=optimizer,\n",
    "              loss='mean_squared_error',\n",
    "              metrics=['mae'])  # Metriken für Regression: Mean Absolute Error und Mean Squared Error\n",
    "\n",
    "# Early Stopping Callback\n",
    "early_stopping = EarlyStopping(monitor='loss', patience=5, verbose=1, mode='min', restore_best_weights=True, min_delta = 0.00005)\n",
    "\n",
    "# Trainingsparameter\n",
    "batch_size = 50\n",
    "epochs = 100\n",
    "\n",
    "# Modell trainieren (Annahme: X_train, y_train, X_val, y_val sind vordefiniert)\n",
    "history = model.fit(X_train_scaled, y_train_scaled,\n",
    "                    batch_size=batch_size,\n",
    "                    epochs=epochs,\n",
    "                    validation_split=0.2,\n",
    "                    callbacks=[early_stopping])\n",
    "\n",
    "end_time = time.time()\n",
    "\n",
    "# Berechne die Dauer\n",
    "duration = end_time - start_time\n",
    "\n",
    "print(f\"Die Ausführungszeit betrug {duration} Sekunden.\")"
   ],
   "metadata": {
    "collapsed": false,
    "ExecuteTime": {
     "end_time": "2024-02-14T14:37:17.021964600Z",
     "start_time": "2024-02-14T14:36:14.883523600Z"
    }
   },
   "id": "8b52e1a9a6ff3aeb"
  },
  {
   "cell_type": "code",
   "execution_count": 54,
   "id": "9f6f672a",
   "metadata": {
    "ExecuteTime": {
     "end_time": "2024-02-14T14:37:34.394796700Z",
     "start_time": "2024-02-14T14:37:33.518966600Z"
    }
   },
   "outputs": [
    {
     "name": "stdout",
     "output_type": "stream",
     "text": [
      " Bsp. Predicted: [882.0121] Actual: [880.09] \n",
      "Durchschnittliche Abweichung (MAE): [5.92604107]\n"
     ]
    }
   ],
   "source": [
    "scaled_predicted_values = model.predict(X_test_scaled, verbose = 0)\n",
    "\n",
    "# Führen Sie die Rücktransformation der skalierten Werte durch\n",
    "original_predicted_values = scaler_target.inverse_transform(scaled_predicted_values)\n",
    "original_actual_values = scaler_target.inverse_transform(y_test_scaled)  # y_test sind die skalierten tatsächlichen Werte\n",
    "print(f' Bsp. Predicted: {original_predicted_values[100]} Actual: {original_actual_values[100]} ')\n",
    "\n",
    "def calculate_mae(list1, list2):\n",
    "    # Stelle sicher, dass beide Listen die gleiche Länge haben\n",
    "    if len(list1) != len(list2):\n",
    "        raise ValueError(\"Listen müssen die gleiche Länge haben\")\n",
    "    \n",
    "    # Berechne die absolute Differenz zwischen den Elementen der Listen\n",
    "    differences = [abs(x - y) for x, y in zip(list1, list2)]\n",
    "    \n",
    "    # Berechne den Durchschnitt der absoluten Differenzen\n",
    "    mae = sum(differences) / len(differences)\n",
    "    \n",
    "    return mae\n",
    "\n",
    "# Beispiel\n",
    "list1 = original_predicted_values\n",
    "list2 = original_actual_values\n",
    "\n",
    "mae = calculate_mae(list1, list2)\n",
    "print(f\"Durchschnittliche Abweichung (MAE): {mae}\")"
   ]
  },
  {
   "cell_type": "markdown",
   "id": "553df6fa",
   "metadata": {},
   "source": [
    "# GridSearch\n",
    "Grid Search bietet die Vorteile der anpassbaren Rechenzeit sowie die Möglichkeit des EInsatzes von Verteilungen. So können theoretisch Hyperparamterkonfuigurationen gefunden wende, welche durch GridSearch nicht auffindbar wären. ZUdem ist das Ziel der Hyperparamteroptimierung eine Einstellung zu finden, welche auf Trainings und Testset gut angepasst ist. Die EInstellung muss nicht die bestmöglichste Einstellung sein, sondern eine Einstellung die das gewähltre Problem gut wiederspiegelt. "
   ]
  },
  {
   "cell_type": "code",
   "execution_count": 34,
   "outputs": [
    {
     "data": {
      "text/plain": "<Figure size 1000x600 with 1 Axes>",
      "image/png": "[encoded data removed]"
     },
     "metadata": {},
     "output_type": "display_data"
    }
   ],
   "source": [
    "mae = history.history['mae']\n",
    "val_mae = history.history['val_mae']\n",
    "#RMSE = \n",
    "\n",
    "\n",
    "epochs = range(1, len(mae) + 1)\n",
    "\n",
    "# MAE Diagramm\n",
    "plt.figure(figsize=(10, 6))\n",
    "plt.plot(epochs, mae, 'r', label='Training MAE')\n",
    "plt.plot(epochs, val_mae, 'b', label='Validation MAE')\n",
    "plt.title('Training and Validation MAE')\n",
    "plt.xlabel('Epochs')\n",
    "plt.ylabel('MAE')\n",
    "plt.legend()\n",
    "plt.show()"
   ],
   "metadata": {
    "collapsed": false,
    "ExecuteTime": {
     "start_time": "2024-02-14T12:53:53.083064100Z"
    }
   },
   "id": "3688dd7102e95baf"
  },
  {
   "cell_type": "code",
   "execution_count": null,
   "id": "1dca80c2",
   "metadata": {},
   "outputs": [],
   "source": [
    "# Schritt 1: Definiere dein Modell als eine Funktion, die Hyperparameter akzeptiert\n",
    "def build_model(optimizer='adam', activation='relu'):\n",
    "    model = Sequential()\n",
    "    model.add(Dense(units=32, activation=activation, input_dim=X_train_scaled.shape[1]))\n",
    "    model.add(Dense(units=8, activation=activation))\n",
    "    model.add(Dense(units=1, activation='linear'))\n",
    "    model.compile(optimizer=optimizer, loss='mean_squared_error', metrics=['mae'])\n",
    "    return model\n",
    "\n",
    "# Schritt 2: Erstelle eine Instanz von KerasRegressor ohne batch_size und epochs im param_grid\n",
    "model = KerasRegressor(model=build_model, verbose=0)\n",
    "\n",
    "# Schritt 3: Definiere den Parameter-Raum für die Grid-Suche OHNE batch_size und epochs\n",
    "param_grid = {\n",
    "    'model__optimizer': ['adam', 'sgd'],\n",
    "    'model__activation': ['relu', 'sigmoid']\n",
    "}\n",
    "\n",
    "# Optional: Definiere Fit-Parameter (wie batch_size und epochs) separat\n",
    "fit_params = {\n",
    "    'batch_size': 32,\n",
    "    'epochs': 100\n",
    "}\n",
    "\n",
    "# Schritt 4: Führe GridSearchCV aus mit fit_params, wenn nötig\n",
    "grid = GridSearchCV(estimator=model, param_grid=param_grid, n_jobs=-1, cv=3)\n",
    "grid_result = grid.fit(X_train_scaled, y_train_scaled, **fit_params)\n",
    "\n",
    "# Ergebnisse ausgeben\n",
    "print(\"Best: %f using %s\" % (grid_result.best_score_, grid_result.best_params_))\n",
    "for mean_score, params in zip(grid_result.cv_results_['mean_test_score'], grid_result.cv_results_['params']):\n",
    "    print(\"%f with: %r\" % (mean_score, params))\n"
   ]
  },
  {
   "cell_type": "code",
   "execution_count": null,
   "id": "3f17e2cf",
   "metadata": {},
   "outputs": [],
   "source": [
    "def build_model(optimizer='adam', activation='relu'):\n",
    "    model = Sequential()\n",
    "    model.add(Dense(units=64, activation=activation, input_dim=X_train_scaled.shape[1]))\n",
    "    model.add(Dense(units=32, activation=activation))\n",
    "    model.add(Dense(units=1, activation='linear'))\n",
    "    model.compile(optimizer=optimizer, loss='mean_squared_error', metrics=['mean_squared_error'])\n",
    "    return model\n",
    "\n",
    "model = KerasRegressor(model=build_model, verbose=1)\n",
    "\n",
    "param_grid = {\n",
    "    'model__optimizer': ['adam', 'sgd'],\n",
    "    'model__activation': ['relu', 'tanh'],\n",
    "    'fit__batch_size': [10, 20, 32],  # Testen verschiedener batch_size Werte\n",
    "    'fit__epochs': [5, 10]  # Optional: Testen verschiedener epoch Werte\n",
    "}\n",
    "\n",
    "grid = GridSearchCV(estimator=model, param_grid=param_grid, n_jobs=-1, cv=3)\n",
    "grid_result = grid.fit(X_train_scaled, y_train_scaled)\n",
    "\n",
    "# Ergebnisse ausgeben\n",
    "print(\"Best: %f using %s\" % (grid_result.best_score_, grid_result.best_params_))\n",
    "for mean_score, params in zip(grid_result.cv_results_['mean_test_score'], grid_result.cv_results_['params']):\n",
    "    print(\"%f with: %r\" % (mean_score, params))\n"
   ]
  },
  {
   "cell_type": "code",
   "execution_count": 39,
   "id": "492cf0ed",
   "metadata": {
    "ExecuteTime": {
     "end_time": "2024-02-14T13:18:39.127355600Z",
     "start_time": "2024-02-14T13:18:39.085697200Z"
    }
   },
   "outputs": [],
   "source": []
  },
  {
   "cell_type": "code",
   "execution_count": 51,
   "outputs": [
    {
     "name": "stdout",
     "output_type": "stream",
     "text": [
      "Trial 20 Complete [00h 01m 04s]\n",
      "val_mae: 0.011988535989075899\n",
      "\n",
      "Best val_mae So Far: 0.006423373706638813\n",
      "Total elapsed time: 00h 19m 16s\n",
      "Die besten Hyperparameter sind: {'units_input': 80, 'units_hidden1': 112, 'units_hidden2': 80, 'learning_rate': 0.001}\n"
     ]
    }
   ],
   "source": [
    "class RegressionHyperModel(HyperModel):\n",
    "    def __init__(self, input_shape):\n",
    "        self.input_shape = input_shape\n",
    "\n",
    "    def build(self, hp):\n",
    "        model = Sequential()\n",
    "        model.add(Dense(\n",
    "            units=hp.Int('units_input', min_value=16, max_value=124, step=16),\n",
    "            activation='relu',\n",
    "            input_shape=self.input_shape,\n",
    "            kernel_initializer='he_uniform',\n",
    "            kernel_regularizer=l2(0.0001)\n",
    "        ))\n",
    "        model.add(Dense(\n",
    "            units=hp.Int('units_hidden1', min_value=16, max_value=124, step=16),\n",
    "            activation='relu',\n",
    "            kernel_initializer='he_uniform',\n",
    "            kernel_regularizer=l2(0.0001)\n",
    "        ))\n",
    "        model.add(Dense(\n",
    "            units=hp.Int('units_hidden2', min_value=16, max_value=124, step=16),\n",
    "            activation='relu',\n",
    "            kernel_initializer='he_uniform',\n",
    "            kernel_regularizer=l2(0.0001) \n",
    "        ))\n",
    "        model.add(Dense(1, activation='linear'))\n",
    "\n",
    "        model.compile(\n",
    "            optimizer=Adam(hp.Choice('learning_rate', values=[1e-2, 1e-3, 1e-4])),\n",
    "            loss='mean_squared_error',\n",
    "            metrics=['mae']\n",
    "        )\n",
    "        return model\n",
    "\n",
    "# Setzen Sie die richtige Eingabeform hier, z.B. (2,)\n",
    "hypermodel = RegressionHyperModel(input_shape=(2,))\n",
    "\n",
    "tuner = RandomSearch(\n",
    "    hypermodel,\n",
    "    objective='val_mae',\n",
    "    max_trials=20,\n",
    "    executions_per_trial=2,\n",
    "    directory='my_dir',\n",
    "    project_name='keras_tuner_demo2'\n",
    ")\n",
    "\n",
    "# Beachten Sie, dass X_train_scaled, y_train_scaled durch Ihre tatsächlichen Trainingsdaten ersetzt werden müssen.\n",
    "tuner.search(X_train_scaled, y_train_scaled, epochs=10, validation_split=0.2, callbacks=[EarlyStopping(monitor='val_loss', patience=5)])\n",
    "\n",
    "# Die besten Hyperparameter bekommen\n",
    "best_hps = tuner.get_best_hyperparameters(num_trials=1)[0]\n",
    "print(f\"Die besten Hyperparameter sind: {best_hps.values}\")\n",
    "\n",
    "# Das beste Modell mit den optimalen Hyperparametern trainieren\n",
    "model = tuner.hypermodel.build(best_hps)\n",
    "# Hier müssen Sie die tatsächlichen Trainings- und Validierungsdaten einfügen\n",
    "#history = model.fit(X_train_scaled, y_train_scaled, epochs=100, validation_split=0.2, callbacks=[EarlyStopping(monitor='val_loss', patience=5, restore_best_weights=True)])\n"
   ],
   "metadata": {
    "collapsed": false
   },
   "id": "9e4c339eeed37479"
  },
  {
   "cell_type": "code",
   "execution_count": null,
   "outputs": [],
   "source": [],
   "metadata": {
    "collapsed": false
   },
   "id": "be9159643d6f38cb"
  }
 ],
 "metadata": {
  "kernelspec": {
   "display_name": "Python 3 (ipykernel)",
   "language": "python",
   "name": "python3"
  },
  "language_info": {
   "codemirror_mode": {
    "name": "ipython",
    "version": 3
   },
   "file_extension": ".py",
   "mimetype": "text/x-python",
   "name": "python",
   "nbconvert_exporter": "python",
   "pygments_lexer": "ipython3",
   "version": "3.11.4"
  }
 },
 "nbformat": 4,
 "nbformat_minor": 5
}
