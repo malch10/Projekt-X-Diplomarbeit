{
 "cells": [
  {
   "cell_type": "code",
   "execution_count": 20,
   "id": "94b0518e",
   "metadata": {
    "ExecuteTime": {
     "end_time": "2024-03-14T16:02:17.762613400Z",
     "start_time": "2024-03-14T16:02:17.651516300Z"
    }
   },
   "outputs": [],
   "source": [
    "import numpy as np\n",
    "import os\n",
    "import tensorflow as tf\n",
    "import matplotlib.pyplot as plt\n",
    "from sklearn.model_selection import train_test_split\n",
    "from sklearn.preprocessing import MinMaxScaler\n",
    "import pandas as pd\n",
    "from tensorflow.keras.layers import Dense , Dropout\n",
    "from scikeras.wrappers import KerasRegressor \n",
    "from tensorflow.keras.callbacks import EarlyStopping\n",
    "import time\n",
    "from keras.models import Sequential\n",
    "from keras.layers import Dense, Dropout\n",
    "from keras.optimizers import Adam\n",
    "from keras.regularizers import l2\n",
    "from keras.callbacks import EarlyStopping\n",
    "from keras_tuner import RandomSearch\n",
    "from tensorflow.keras.models import Sequential\n",
    "from tensorflow.keras.layers import Dense\n",
    "from tensorflow.keras.optimizers import Adam\n",
    "from tensorflow.keras.regularizers import l2\n",
    "from sklearn.model_selection import GridSearchCV"
   ]
  },
  {
   "cell_type": "code",
   "execution_count": 21,
   "id": "e4ff61b1",
   "metadata": {
    "ExecuteTime": {
     "end_time": "2024-03-14T16:02:17.840612500Z",
     "start_time": "2024-03-14T16:02:17.654516100Z"
    }
   },
   "outputs": [
    {
     "data": {
      "text/plain": "        X-Koordinate  Y-Koordinate  Zeitpunkt  Strom  Kraft  Temperatur\n0             0.0000      -0.00200        500   7000   9000      669.05\n1             0.0000      -0.00199        500   7000   9000      675.83\n2             0.0000      -0.00198        500   7000   9000      682.81\n3             0.0000      -0.00197        500   7000   9000      689.82\n4             0.0000      -0.00196        500   7000   9000      696.80\n...              ...           ...        ...    ...    ...         ...\n100646        0.0025       0.00196        500   7000   9000      578.47\n100647        0.0025       0.00197        500   7000   9000      576.89\n100648        0.0025       0.00198        500   7000   9000      575.32\n100649        0.0025       0.00199        500   7000   9000      573.76\n100650        0.0025       0.00200        500   7000   9000      572.20\n\n[100651 rows x 6 columns]",
      "text/html": "<div>\n<style scoped>\n    .dataframe tbody tr th:only-of-type {\n        vertical-align: middle;\n    }\n\n    .dataframe tbody tr th {\n        vertical-align: top;\n    }\n\n    .dataframe thead th {\n        text-align: right;\n    }\n</style>\n<table border=\"1\" class=\"dataframe\">\n  <thead>\n    <tr style=\"text-align: right;\">\n      <th></th>\n      <th>X-Koordinate</th>\n      <th>Y-Koordinate</th>\n      <th>Zeitpunkt</th>\n      <th>Strom</th>\n      <th>Kraft</th>\n      <th>Temperatur</th>\n    </tr>\n  </thead>\n  <tbody>\n    <tr>\n      <th>0</th>\n      <td>0.0000</td>\n      <td>-0.00200</td>\n      <td>500</td>\n      <td>7000</td>\n      <td>9000</td>\n      <td>669.05</td>\n    </tr>\n    <tr>\n      <th>1</th>\n      <td>0.0000</td>\n      <td>-0.00199</td>\n      <td>500</td>\n      <td>7000</td>\n      <td>9000</td>\n      <td>675.83</td>\n    </tr>\n    <tr>\n      <th>2</th>\n      <td>0.0000</td>\n      <td>-0.00198</td>\n      <td>500</td>\n      <td>7000</td>\n      <td>9000</td>\n      <td>682.81</td>\n    </tr>\n    <tr>\n      <th>3</th>\n      <td>0.0000</td>\n      <td>-0.00197</td>\n      <td>500</td>\n      <td>7000</td>\n      <td>9000</td>\n      <td>689.82</td>\n    </tr>\n    <tr>\n      <th>4</th>\n      <td>0.0000</td>\n      <td>-0.00196</td>\n      <td>500</td>\n      <td>7000</td>\n      <td>9000</td>\n      <td>696.80</td>\n    </tr>\n    <tr>\n      <th>...</th>\n      <td>...</td>\n      <td>...</td>\n      <td>...</td>\n      <td>...</td>\n      <td>...</td>\n      <td>...</td>\n    </tr>\n    <tr>\n      <th>100646</th>\n      <td>0.0025</td>\n      <td>0.00196</td>\n      <td>500</td>\n      <td>7000</td>\n      <td>9000</td>\n      <td>578.47</td>\n    </tr>\n    <tr>\n      <th>100647</th>\n      <td>0.0025</td>\n      <td>0.00197</td>\n      <td>500</td>\n      <td>7000</td>\n      <td>9000</td>\n      <td>576.89</td>\n    </tr>\n    <tr>\n      <th>100648</th>\n      <td>0.0025</td>\n      <td>0.00198</td>\n      <td>500</td>\n      <td>7000</td>\n      <td>9000</td>\n      <td>575.32</td>\n    </tr>\n    <tr>\n      <th>100649</th>\n      <td>0.0025</td>\n      <td>0.00199</td>\n      <td>500</td>\n      <td>7000</td>\n      <td>9000</td>\n      <td>573.76</td>\n    </tr>\n    <tr>\n      <th>100650</th>\n      <td>0.0025</td>\n      <td>0.00200</td>\n      <td>500</td>\n      <td>7000</td>\n      <td>9000</td>\n      <td>572.20</td>\n    </tr>\n  </tbody>\n</table>\n<p>100651 rows × 6 columns</p>\n</div>"
     },
     "execution_count": 21,
     "metadata": {},
     "output_type": "execute_result"
    }
   ],
   "source": [
    "#data = pd.read_pickle('C:/Users/erikm/Desktop/Diplomarbeit Erik Marr/Daten/Finish/TPath_300_finish_data.pkl')\n",
    "data = pd.read_pickle('C:/Users/erikm/Desktop/Diplomarbeit Erik Marr/Daten/Finish/Finish_D1_I7000_F9000/TPath_500_finish_data_D1.pkl')\n",
    "\n",
    "data"
   ]
  },
  {
   "cell_type": "code",
   "execution_count": 22,
   "id": "966e3c74",
   "metadata": {
    "ExecuteTime": {
     "end_time": "2024-03-14T16:02:17.856612700Z",
     "start_time": "2024-03-14T16:02:17.663785900Z"
    }
   },
   "outputs": [
    {
     "data": {
      "text/plain": "count    100651.000000\nmean       1144.030064\nstd         264.135723\nmin         572.200000\n25%         937.330000\n50%        1201.100000\n75%        1368.700000\nmax        1520.000000\nName: Temperatur, dtype: float64"
     },
     "execution_count": 22,
     "metadata": {},
     "output_type": "execute_result"
    }
   ],
   "source": [
    "df = data.drop(data.columns[2:5], axis = 1)\n",
    "df['Temperatur'].describe()"
   ]
  },
  {
   "cell_type": "code",
   "execution_count": 23,
   "id": "8783d1d6",
   "metadata": {
    "ExecuteTime": {
     "end_time": "2024-03-14T16:02:17.939613300Z",
     "start_time": "2024-03-14T16:02:17.671096600Z"
    }
   },
   "outputs": [
    {
     "name": "stdout",
     "output_type": "stream",
     "text": [
      "       X-Koordinate  Y-Koordinate  Temperatur\n",
      "83145       0.00207      -0.00062      1282.2\n",
      "66701       0.00166      -0.00065      1347.6\n",
      "91325       0.00227       0.00098      1094.6\n",
      "46593       0.00116      -0.00123      1175.7\n",
      "49518       0.00123      -0.00005      1459.2\n",
      "...             ...           ...         ...\n",
      "6265        0.00015       0.00050      1439.1\n",
      "54886       0.00136       0.00150       876.7\n",
      "76820       0.00191       0.00029      1335.8\n",
      "860         0.00002      -0.00142      1071.2\n",
      "15795       0.00039      -0.00044      1488.1\n",
      "\n",
      "[100651 rows x 3 columns]\n"
     ]
    },
    {
     "data": {
      "text/plain": "        X-Koordinate  Y-Koordinate  Temperatur\n0            0.00207      -0.00062      1282.2\n1            0.00166      -0.00065      1347.6\n2            0.00227       0.00098      1094.6\n3            0.00116      -0.00123      1175.7\n4            0.00123      -0.00005      1459.2\n...              ...           ...         ...\n100646       0.00015       0.00050      1439.1\n100647       0.00136       0.00150       876.7\n100648       0.00191       0.00029      1335.8\n100649       0.00002      -0.00142      1071.2\n100650       0.00039      -0.00044      1488.1\n\n[100651 rows x 3 columns]",
      "text/html": "<div>\n<style scoped>\n    .dataframe tbody tr th:only-of-type {\n        vertical-align: middle;\n    }\n\n    .dataframe tbody tr th {\n        vertical-align: top;\n    }\n\n    .dataframe thead th {\n        text-align: right;\n    }\n</style>\n<table border=\"1\" class=\"dataframe\">\n  <thead>\n    <tr style=\"text-align: right;\">\n      <th></th>\n      <th>X-Koordinate</th>\n      <th>Y-Koordinate</th>\n      <th>Temperatur</th>\n    </tr>\n  </thead>\n  <tbody>\n    <tr>\n      <th>0</th>\n      <td>0.00207</td>\n      <td>-0.00062</td>\n      <td>1282.2</td>\n    </tr>\n    <tr>\n      <th>1</th>\n      <td>0.00166</td>\n      <td>-0.00065</td>\n      <td>1347.6</td>\n    </tr>\n    <tr>\n      <th>2</th>\n      <td>0.00227</td>\n      <td>0.00098</td>\n      <td>1094.6</td>\n    </tr>\n    <tr>\n      <th>3</th>\n      <td>0.00116</td>\n      <td>-0.00123</td>\n      <td>1175.7</td>\n    </tr>\n    <tr>\n      <th>4</th>\n      <td>0.00123</td>\n      <td>-0.00005</td>\n      <td>1459.2</td>\n    </tr>\n    <tr>\n      <th>...</th>\n      <td>...</td>\n      <td>...</td>\n      <td>...</td>\n    </tr>\n    <tr>\n      <th>100646</th>\n      <td>0.00015</td>\n      <td>0.00050</td>\n      <td>1439.1</td>\n    </tr>\n    <tr>\n      <th>100647</th>\n      <td>0.00136</td>\n      <td>0.00150</td>\n      <td>876.7</td>\n    </tr>\n    <tr>\n      <th>100648</th>\n      <td>0.00191</td>\n      <td>0.00029</td>\n      <td>1335.8</td>\n    </tr>\n    <tr>\n      <th>100649</th>\n      <td>0.00002</td>\n      <td>-0.00142</td>\n      <td>1071.2</td>\n    </tr>\n    <tr>\n      <th>100650</th>\n      <td>0.00039</td>\n      <td>-0.00044</td>\n      <td>1488.1</td>\n    </tr>\n  </tbody>\n</table>\n<p>100651 rows × 3 columns</p>\n</div>"
     },
     "execution_count": 23,
     "metadata": {},
     "output_type": "execute_result"
    }
   ],
   "source": [
    "df1 = df.sample(frac=1, random_state=42)  # Hier wird 42 als Random State verwendet, um die Ergebnisse reproduzierbar zu machen\n",
    "\n",
    "print(df1)\n",
    "df_reset = df1.reset_index(drop=True)\n",
    "df_reset"
   ]
  },
  {
   "cell_type": "code",
   "execution_count": 24,
   "id": "a4e72a16",
   "metadata": {
    "ExecuteTime": {
     "end_time": "2024-03-14T16:02:17.940613500Z",
     "start_time": "2024-03-14T16:02:17.686694400Z"
    }
   },
   "outputs": [],
   "source": [
    "label = df_reset[\"Temperatur\"]\n",
    "# Korrektur: Verwenden Sie den Spaltennamen direkt, ohne Indexierung der columns-Eigenschaft\n",
    "df1 = df_reset.drop(\"Temperatur\", axis=1)\n",
    "X = df1\n",
    "y = label\n"
   ]
  },
  {
   "cell_type": "markdown",
   "source": [],
   "metadata": {
    "collapsed": false
   },
   "id": "f7fa289a50d87423"
  },
  {
   "cell_type": "code",
   "execution_count": 25,
   "id": "e694a236",
   "metadata": {
    "ExecuteTime": {
     "end_time": "2024-03-14T16:02:17.943612800Z",
     "start_time": "2024-03-14T16:02:17.691694200Z"
    }
   },
   "outputs": [
    {
     "data": {
      "text/plain": "        X-Koordinate  Y-Koordinate\ncount  100651.000000  1.006510e+05\nmean        0.001250  1.103042e-20\nstd         0.000725  1.157589e-03\nmin         0.000000 -2.000000e-03\n25%         0.000620 -1.000000e-03\n50%         0.001250  4.529900e-18\n75%         0.001880  1.000000e-03\nmax         0.002500  2.000000e-03",
      "text/html": "<div>\n<style scoped>\n    .dataframe tbody tr th:only-of-type {\n        vertical-align: middle;\n    }\n\n    .dataframe tbody tr th {\n        vertical-align: top;\n    }\n\n    .dataframe thead th {\n        text-align: right;\n    }\n</style>\n<table border=\"1\" class=\"dataframe\">\n  <thead>\n    <tr style=\"text-align: right;\">\n      <th></th>\n      <th>X-Koordinate</th>\n      <th>Y-Koordinate</th>\n    </tr>\n  </thead>\n  <tbody>\n    <tr>\n      <th>count</th>\n      <td>100651.000000</td>\n      <td>1.006510e+05</td>\n    </tr>\n    <tr>\n      <th>mean</th>\n      <td>0.001250</td>\n      <td>1.103042e-20</td>\n    </tr>\n    <tr>\n      <th>std</th>\n      <td>0.000725</td>\n      <td>1.157589e-03</td>\n    </tr>\n    <tr>\n      <th>min</th>\n      <td>0.000000</td>\n      <td>-2.000000e-03</td>\n    </tr>\n    <tr>\n      <th>25%</th>\n      <td>0.000620</td>\n      <td>-1.000000e-03</td>\n    </tr>\n    <tr>\n      <th>50%</th>\n      <td>0.001250</td>\n      <td>4.529900e-18</td>\n    </tr>\n    <tr>\n      <th>75%</th>\n      <td>0.001880</td>\n      <td>1.000000e-03</td>\n    </tr>\n    <tr>\n      <th>max</th>\n      <td>0.002500</td>\n      <td>2.000000e-03</td>\n    </tr>\n  </tbody>\n</table>\n</div>"
     },
     "execution_count": 25,
     "metadata": {},
     "output_type": "execute_result"
    }
   ],
   "source": [
    "X.describe()"
   ]
  },
  {
   "cell_type": "code",
   "execution_count": 26,
   "id": "3f3303b4",
   "metadata": {
    "ExecuteTime": {
     "end_time": "2024-03-14T16:02:17.944612500Z",
     "start_time": "2024-03-14T16:02:17.705747800Z"
    }
   },
   "outputs": [
    {
     "data": {
      "text/plain": "count    100651.000000\nmean       1144.030064\nstd         264.135723\nmin         572.200000\n25%         937.330000\n50%        1201.100000\n75%        1368.700000\nmax        1520.000000\nName: Temperatur, dtype: float64"
     },
     "execution_count": 26,
     "metadata": {},
     "output_type": "execute_result"
    }
   ],
   "source": [
    "y.describe()\n"
   ]
  },
  {
   "cell_type": "code",
   "execution_count": 27,
   "id": "e3ad8da0",
   "metadata": {
    "ExecuteTime": {
     "end_time": "2024-03-14T16:02:17.944612500Z",
     "start_time": "2024-03-14T16:02:17.715981Z"
    }
   },
   "outputs": [],
   "source": [
    " # train_df enthält 80% der Daten, test_df enthält 20% der Daten\n",
    "X_train, X_test, y_train, y_test = train_test_split(X, y, test_size=0.20, random_state=42)\n"
   ]
  },
  {
   "cell_type": "code",
   "execution_count": 28,
   "id": "9c705edb",
   "metadata": {
    "ExecuteTime": {
     "end_time": "2024-03-14T16:02:17.944612500Z",
     "start_time": "2024-03-14T16:02:17.725949600Z"
    }
   },
   "outputs": [],
   "source": [
    "# Initialisiere einen MinMaxScaler für die Features\n",
    "scaler_features = MinMaxScaler()\n",
    "scaler_features2 = MinMaxScaler()\n",
    "# Skaliere X_train und X_test\n",
    "X_train_scaled = scaler_features.fit_transform(X_train)\n",
    "X_test_scaled = scaler_features.transform(X_test)  # Nutze unterschiedliche Skalierungsparameter\n",
    "\n",
    "# Initialisiere einen SEPARATEN MinMaxScaler für das Ziel, wenn nötig\n",
    "scaler_target = MinMaxScaler()\n",
    "\n",
    "\n",
    "# Skaliere y_train und y_test. Beachte, dass y_train.reshape(-1, 1) verwendet wird, da MinMaxScaler \n",
    "# erwartet, dass die Eingaben als 2D-Arrays kommen, und Ziele normalerweise als 1D-Arrays vorliegen.\n",
    "y_train_scaled = scaler_target.fit_transform(y_train.values.reshape(-1, 1))\n",
    "y_test_scaled = scaler_target.transform(y_test.values.reshape(-1, 1))\n"
   ]
  },
  {
   "cell_type": "code",
   "execution_count": 29,
   "id": "bbefe631e495b483",
   "metadata": {
    "ExecuteTime": {
     "end_time": "2024-03-14T16:02:17.944612500Z",
     "start_time": "2024-03-14T16:02:17.733974200Z"
    }
   },
   "outputs": [
    {
     "data": {
      "text/plain": "array([[0.416 , 0.5725],\n       [0.812 , 0.7325],\n       [0.628 , 0.5075],\n       ...,\n       [0.604 , 0.3875],\n       [0.748 , 0.65  ],\n       [0.028 , 0.6225]])"
     },
     "execution_count": 29,
     "metadata": {},
     "output_type": "execute_result"
    }
   ],
   "source": [
    "X_train_scaled"
   ]
  },
  {
   "cell_type": "code",
   "execution_count": 30,
   "outputs": [
    {
     "name": "stdout",
     "output_type": "stream",
     "text": [
      "Epoch 1/400\n",
      "645/645 [==============================] - 3s 3ms/step - loss: 0.2869 - mae: 0.1414 - val_loss: 0.1944 - val_mae: 0.0165\n",
      "Epoch 2/400\n",
      "645/645 [==============================] - 1s 2ms/step - loss: 0.1763 - mae: 0.0114 - val_loss: 0.1621 - val_mae: 0.0065\n",
      "Epoch 3/400\n",
      "645/645 [==============================] - 1s 2ms/step - loss: 0.1535 - mae: 0.0109 - val_loss: 0.1462 - val_mae: 0.0077\n",
      "Epoch 4/400\n",
      "645/645 [==============================] - 1s 2ms/step - loss: 0.1416 - mae: 0.0140 - val_loss: 0.1368 - val_mae: 0.0076\n",
      "Epoch 5/400\n",
      "645/645 [==============================] - 1s 2ms/step - loss: 0.1335 - mae: 0.0120 - val_loss: 0.1300 - val_mae: 0.0092\n",
      "Epoch 6/400\n",
      "645/645 [==============================] - 1s 2ms/step - loss: 0.1271 - mae: 0.0105 - val_loss: 0.1241 - val_mae: 0.0123\n",
      "Epoch 7/400\n",
      "645/645 [==============================] - 1s 2ms/step - loss: 0.1212 - mae: 0.0099 - val_loss: 0.1182 - val_mae: 0.0078\n",
      "Epoch 8/400\n",
      "645/645 [==============================] - 1s 2ms/step - loss: 0.1156 - mae: 0.0111 - val_loss: 0.1129 - val_mae: 0.0149\n",
      "Epoch 9/400\n",
      "645/645 [==============================] - 1s 2ms/step - loss: 0.1102 - mae: 0.0102 - val_loss: 0.1075 - val_mae: 0.0118\n",
      "Epoch 10/400\n",
      "645/645 [==============================] - 1s 2ms/step - loss: 0.1049 - mae: 0.0113 - val_loss: 0.1021 - val_mae: 0.0073\n",
      "Epoch 11/400\n",
      "645/645 [==============================] - 2s 2ms/step - loss: 0.0996 - mae: 0.0078 - val_loss: 0.0971 - val_mae: 0.0081\n",
      "Epoch 12/400\n",
      "645/645 [==============================] - 2s 2ms/step - loss: 0.0948 - mae: 0.0105 - val_loss: 0.0922 - val_mae: 0.0044\n",
      "Epoch 13/400\n",
      "645/645 [==============================] - 2s 3ms/step - loss: 0.0899 - mae: 0.0069 - val_loss: 0.0874 - val_mae: 0.0056\n",
      "Epoch 14/400\n",
      "645/645 [==============================] - 1s 2ms/step - loss: 0.0852 - mae: 0.0084 - val_loss: 0.0842 - val_mae: 0.0304\n",
      "Epoch 15/400\n",
      "645/645 [==============================] - 1s 2ms/step - loss: 0.0806 - mae: 0.0076 - val_loss: 0.0785 - val_mae: 0.0118\n",
      "Epoch 16/400\n",
      "645/645 [==============================] - 2s 2ms/step - loss: 0.0762 - mae: 0.0075 - val_loss: 0.0746 - val_mae: 0.0190\n",
      "Epoch 17/400\n",
      "645/645 [==============================] - 1s 2ms/step - loss: 0.0721 - mae: 0.0073 - val_loss: 0.0701 - val_mae: 0.0079\n",
      "Epoch 18/400\n",
      "645/645 [==============================] - 2s 3ms/step - loss: 0.0682 - mae: 0.0074 - val_loss: 0.0662 - val_mae: 0.0061\n",
      "Epoch 19/400\n",
      "645/645 [==============================] - 2s 3ms/step - loss: 0.0645 - mae: 0.0069 - val_loss: 0.0628 - val_mae: 0.0124\n",
      "Epoch 20/400\n",
      "645/645 [==============================] - 2s 3ms/step - loss: 0.0610 - mae: 0.0068 - val_loss: 0.0593 - val_mae: 0.0039\n",
      "Epoch 21/400\n",
      "645/645 [==============================] - 2s 3ms/step - loss: 0.0579 - mae: 0.0070 - val_loss: 0.0563 - val_mae: 0.0043\n",
      "Epoch 22/400\n",
      "645/645 [==============================] - 2s 3ms/step - loss: 0.0550 - mae: 0.0072 - val_loss: 0.0535 - val_mae: 0.0051\n",
      "Epoch 23/400\n",
      "645/645 [==============================] - 2s 3ms/step - loss: 0.0523 - mae: 0.0060 - val_loss: 0.0510 - val_mae: 0.0036\n",
      "Epoch 24/400\n",
      "645/645 [==============================] - 2s 3ms/step - loss: 0.0497 - mae: 0.0050 - val_loss: 0.0488 - val_mae: 0.0178\n",
      "Epoch 25/400\n",
      "645/645 [==============================] - 2s 3ms/step - loss: 0.0472 - mae: 0.0072 - val_loss: 0.0460 - val_mae: 0.0088\n",
      "Epoch 26/400\n",
      "645/645 [==============================] - 2s 3ms/step - loss: 0.0448 - mae: 0.0047 - val_loss: 0.0437 - val_mae: 0.0054\n",
      "Epoch 27/400\n",
      "645/645 [==============================] - 2s 3ms/step - loss: 0.0425 - mae: 0.0052 - val_loss: 0.0413 - val_mae: 0.0058\n",
      "Epoch 28/400\n",
      "645/645 [==============================] - 2s 3ms/step - loss: 0.0402 - mae: 0.0056 - val_loss: 0.0391 - val_mae: 0.0030\n",
      "Epoch 29/400\n",
      "645/645 [==============================] - 2s 3ms/step - loss: 0.0381 - mae: 0.0051 - val_loss: 0.0371 - val_mae: 0.0074\n",
      "Epoch 30/400\n",
      "645/645 [==============================] - 2s 3ms/step - loss: 0.0360 - mae: 0.0047 - val_loss: 0.0349 - val_mae: 0.0056\n",
      "Epoch 31/400\n",
      "645/645 [==============================] - 2s 3ms/step - loss: 0.0339 - mae: 0.0060 - val_loss: 0.0329 - val_mae: 0.0038\n",
      "Epoch 32/400\n",
      "645/645 [==============================] - 2s 3ms/step - loss: 0.0321 - mae: 0.0045 - val_loss: 0.0312 - val_mae: 0.0031\n",
      "Epoch 33/400\n",
      "645/645 [==============================] - 2s 3ms/step - loss: 0.0303 - mae: 0.0050 - val_loss: 0.0294 - val_mae: 0.0070\n",
      "Epoch 34/400\n",
      "645/645 [==============================] - 2s 4ms/step - loss: 0.0285 - mae: 0.0045 - val_loss: 0.0276 - val_mae: 0.0040\n",
      "Epoch 35/400\n",
      "645/645 [==============================] - 2s 4ms/step - loss: 0.0268 - mae: 0.0048 - val_loss: 0.0263 - val_mae: 0.0146\n",
      "Epoch 36/400\n",
      "645/645 [==============================] - 2s 4ms/step - loss: 0.0251 - mae: 0.0048 - val_loss: 0.0243 - val_mae: 0.0043\n",
      "Epoch 37/400\n",
      "645/645 [==============================] - 2s 3ms/step - loss: 0.0236 - mae: 0.0044 - val_loss: 0.0228 - val_mae: 0.0036\n",
      "Epoch 38/400\n",
      "645/645 [==============================] - 2s 4ms/step - loss: 0.0221 - mae: 0.0050 - val_loss: 0.0215 - val_mae: 0.0061\n",
      "Epoch 39/400\n",
      "645/645 [==============================] - 2s 4ms/step - loss: 0.0208 - mae: 0.0046 - val_loss: 0.0202 - val_mae: 0.0074\n",
      "Epoch 40/400\n",
      "645/645 [==============================] - 2s 4ms/step - loss: 0.0195 - mae: 0.0046 - val_loss: 0.0188 - val_mae: 0.0049\n",
      "Epoch 41/400\n",
      "645/645 [==============================] - 2s 3ms/step - loss: 0.0182 - mae: 0.0045 - val_loss: 0.0177 - val_mae: 0.0054\n",
      "Epoch 42/400\n",
      "645/645 [==============================] - 2s 3ms/step - loss: 0.0170 - mae: 0.0042 - val_loss: 0.0165 - val_mae: 0.0055\n",
      "Epoch 43/400\n",
      "645/645 [==============================] - 2s 3ms/step - loss: 0.0159 - mae: 0.0041 - val_loss: 0.0153 - val_mae: 0.0030\n",
      "Epoch 44/400\n",
      "645/645 [==============================] - 2s 3ms/step - loss: 0.0147 - mae: 0.0043 - val_loss: 0.0142 - val_mae: 0.0076\n",
      "Epoch 45/400\n",
      "645/645 [==============================] - 2s 3ms/step - loss: 0.0137 - mae: 0.0045 - val_loss: 0.0132 - val_mae: 0.0047\n",
      "Epoch 46/400\n",
      "645/645 [==============================] - 2s 3ms/step - loss: 0.0128 - mae: 0.0041 - val_loss: 0.0123 - val_mae: 0.0056\n",
      "Epoch 47/400\n",
      "645/645 [==============================] - 2s 3ms/step - loss: 0.0119 - mae: 0.0042 - val_loss: 0.0114 - val_mae: 0.0036\n",
      "Epoch 48/400\n",
      "645/645 [==============================] - 2s 3ms/step - loss: 0.0110 - mae: 0.0043 - val_loss: 0.0106 - val_mae: 0.0033\n",
      "Epoch 49/400\n",
      "645/645 [==============================] - 2s 3ms/step - loss: 0.0102 - mae: 0.0043 - val_loss: 0.0099 - val_mae: 0.0057\n",
      "Epoch 50/400\n",
      "645/645 [==============================] - 2s 3ms/step - loss: 0.0095 - mae: 0.0039 - val_loss: 0.0092 - val_mae: 0.0033\n",
      "Epoch 51/400\n",
      "645/645 [==============================] - 2s 3ms/step - loss: 0.0088 - mae: 0.0041 - val_loss: 0.0085 - val_mae: 0.0046\n",
      "Epoch 52/400\n",
      "645/645 [==============================] - 2s 4ms/step - loss: 0.0082 - mae: 0.0043 - val_loss: 0.0079 - val_mae: 0.0048\n",
      "Epoch 53/400\n",
      "645/645 [==============================] - 2s 3ms/step - loss: 0.0076 - mae: 0.0043 - val_loss: 0.0074 - val_mae: 0.0061\n",
      "Epoch 54/400\n",
      "645/645 [==============================] - 2s 4ms/step - loss: 0.0071 - mae: 0.0042 - val_loss: 0.0069 - val_mae: 0.0030\n",
      "Epoch 55/400\n",
      "645/645 [==============================] - 3s 4ms/step - loss: 0.0067 - mae: 0.0043 - val_loss: 0.0064 - val_mae: 0.0032\n",
      "Epoch 56/400\n",
      "645/645 [==============================] - 3s 4ms/step - loss: 0.0062 - mae: 0.0041 - val_loss: 0.0060 - val_mae: 0.0032\n",
      "Epoch 57/400\n",
      "645/645 [==============================] - 3s 4ms/step - loss: 0.0058 - mae: 0.0043 - val_loss: 0.0056 - val_mae: 0.0033\n",
      "Epoch 58/400\n",
      "645/645 [==============================] - 2s 4ms/step - loss: 0.0055 - mae: 0.0041 - val_loss: 0.0053 - val_mae: 0.0041\n",
      "Epoch 59/400\n",
      "645/645 [==============================] - 3s 4ms/step - loss: 0.0051 - mae: 0.0042 - val_loss: 0.0050 - val_mae: 0.0050\n",
      "Epoch 60/400\n",
      "645/645 [==============================] - 2s 4ms/step - loss: 0.0048 - mae: 0.0041 - val_loss: 0.0047 - val_mae: 0.0039\n",
      "Epoch 61/400\n",
      "645/645 [==============================] - 2s 3ms/step - loss: 0.0045 - mae: 0.0040 - val_loss: 0.0044 - val_mae: 0.0036\n",
      "Epoch 62/400\n",
      "645/645 [==============================] - 2s 3ms/step - loss: 0.0043 - mae: 0.0041 - val_loss: 0.0041 - val_mae: 0.0030\n",
      "Epoch 63/400\n",
      "645/645 [==============================] - 2s 3ms/step - loss: 0.0040 - mae: 0.0040 - val_loss: 0.0039 - val_mae: 0.0058\n",
      "Epoch 64/400\n",
      "645/645 [==============================] - 2s 3ms/step - loss: 0.0038 - mae: 0.0041 - val_loss: 0.0038 - val_mae: 0.0096\n",
      "Epoch 65/400\n",
      "645/645 [==============================] - 2s 3ms/step - loss: 0.0036 - mae: 0.0042 - val_loss: 0.0035 - val_mae: 0.0050\n",
      "Epoch 66/400\n",
      "645/645 [==============================] - 2s 4ms/step - loss: 0.0034 - mae: 0.0042 - val_loss: 0.0033 - val_mae: 0.0059\n",
      "Epoch 67/400\n",
      "645/645 [==============================] - 2s 3ms/step - loss: 0.0032 - mae: 0.0040 - val_loss: 0.0032 - val_mae: 0.0051\n",
      "Epoch 68/400\n",
      "645/645 [==============================] - 2s 3ms/step - loss: 0.0031 - mae: 0.0040 - val_loss: 0.0030 - val_mae: 0.0040\n",
      "Epoch 69/400\n",
      "645/645 [==============================] - 2s 3ms/step - loss: 0.0029 - mae: 0.0040 - val_loss: 0.0029 - val_mae: 0.0063\n",
      "Epoch 70/400\n",
      "645/645 [==============================] - 2s 4ms/step - loss: 0.0028 - mae: 0.0041 - val_loss: 0.0027 - val_mae: 0.0047\n",
      "Epoch 71/400\n",
      "645/645 [==============================] - 2s 3ms/step - loss: 0.0027 - mae: 0.0040 - val_loss: 0.0026 - val_mae: 0.0044\n",
      "Epoch 72/400\n",
      "645/645 [==============================] - 2s 3ms/step - loss: 0.0026 - mae: 0.0041 - val_loss: 0.0025 - val_mae: 0.0039\n",
      "Epoch 73/400\n",
      "645/645 [==============================] - 2s 3ms/step - loss: 0.0024 - mae: 0.0042 - val_loss: 0.0024 - val_mae: 0.0031\n",
      "Epoch 74/400\n",
      "645/645 [==============================] - 2s 3ms/step - loss: 0.0024 - mae: 0.0039 - val_loss: 0.0023 - val_mae: 0.0043\n",
      "Epoch 75/400\n",
      "645/645 [==============================] - 2s 3ms/step - loss: 0.0023 - mae: 0.0040 - val_loss: 0.0022 - val_mae: 0.0032\n",
      "Epoch 76/400\n",
      "645/645 [==============================] - 2s 3ms/step - loss: 0.0022 - mae: 0.0041 - val_loss: 0.0021 - val_mae: 0.0031\n",
      "Epoch 77/400\n",
      "645/645 [==============================] - 2s 3ms/step - loss: 0.0021 - mae: 0.0040 - val_loss: 0.0021 - val_mae: 0.0032\n",
      "Epoch 78/400\n",
      "645/645 [==============================] - 2s 3ms/step - loss: 0.0020 - mae: 0.0038 - val_loss: 0.0021 - val_mae: 0.0069\n",
      "Epoch 79/400\n",
      "645/645 [==============================] - 2s 3ms/step - loss: 0.0020 - mae: 0.0040 - val_loss: 0.0019 - val_mae: 0.0030\n",
      "Epoch 80/400\n",
      "645/645 [==============================] - 2s 3ms/step - loss: 0.0019 - mae: 0.0040 - val_loss: 0.0019 - val_mae: 0.0056\n",
      "Epoch 81/400\n",
      "645/645 [==============================] - 2s 3ms/step - loss: 0.0019 - mae: 0.0038 - val_loss: 0.0018 - val_mae: 0.0028\n",
      "Epoch 82/400\n",
      "645/645 [==============================] - 2s 3ms/step - loss: 0.0018 - mae: 0.0038 - val_loss: 0.0018 - val_mae: 0.0059\n",
      "Epoch 83/400\n",
      "645/645 [==============================] - 2s 3ms/step - loss: 0.0018 - mae: 0.0041 - val_loss: 0.0017 - val_mae: 0.0029\n",
      "Epoch 84/400\n",
      "645/645 [==============================] - 2s 3ms/step - loss: 0.0017 - mae: 0.0036 - val_loss: 0.0017 - val_mae: 0.0034\n",
      "Epoch 85/400\n",
      "645/645 [==============================] - 2s 3ms/step - loss: 0.0017 - mae: 0.0038 - val_loss: 0.0017 - val_mae: 0.0046\n",
      "Epoch 86/400\n",
      "645/645 [==============================] - 2s 3ms/step - loss: 0.0016 - mae: 0.0040 - val_loss: 0.0016 - val_mae: 0.0028\n",
      "Epoch 87/400\n",
      "645/645 [==============================] - 2s 3ms/step - loss: 0.0016 - mae: 0.0038 - val_loss: 0.0016 - val_mae: 0.0043\n",
      "Epoch 88/400\n",
      "645/645 [==============================] - 2s 3ms/step - loss: 0.0016 - mae: 0.0038 - val_loss: 0.0016 - val_mae: 0.0057\n",
      "Epoch 89/400\n",
      "645/645 [==============================] - 2s 3ms/step - loss: 0.0015 - mae: 0.0039 - val_loss: 0.0015 - val_mae: 0.0051\n",
      "Epoch 90/400\n",
      "645/645 [==============================] - 2s 3ms/step - loss: 0.0015 - mae: 0.0038 - val_loss: 0.0015 - val_mae: 0.0050\n",
      "Epoch 91/400\n",
      "645/645 [==============================] - 2s 3ms/step - loss: 0.0015 - mae: 0.0039 - val_loss: 0.0015 - val_mae: 0.0059\n",
      "Epoch 92/400\n",
      "645/645 [==============================] - 2s 3ms/step - loss: 0.0015 - mae: 0.0040 - val_loss: 0.0015 - val_mae: 0.0062\n",
      "Epoch 93/400\n",
      "645/645 [==============================] - 2s 3ms/step - loss: 0.0014 - mae: 0.0038 - val_loss: 0.0014 - val_mae: 0.0049\n",
      "Epoch 94/400\n",
      "645/645 [==============================] - 2s 3ms/step - loss: 0.0014 - mae: 0.0039 - val_loss: 0.0014 - val_mae: 0.0040\n",
      "Epoch 95/400\n",
      "645/645 [==============================] - 2s 3ms/step - loss: 0.0014 - mae: 0.0037 - val_loss: 0.0014 - val_mae: 0.0062\n",
      "Epoch 96/400\n",
      "645/645 [==============================] - 2s 3ms/step - loss: 0.0014 - mae: 0.0040 - val_loss: 0.0014 - val_mae: 0.0034\n",
      "Epoch 97/400\n",
      "645/645 [==============================] - 2s 3ms/step - loss: 0.0013 - mae: 0.0037 - val_loss: 0.0013 - val_mae: 0.0041\n",
      "Epoch 98/400\n",
      "645/645 [==============================] - 2s 3ms/step - loss: 0.0013 - mae: 0.0038 - val_loss: 0.0014 - val_mae: 0.0076\n",
      "Epoch 99/400\n",
      "645/645 [==============================] - 2s 3ms/step - loss: 0.0013 - mae: 0.0039 - val_loss: 0.0013 - val_mae: 0.0030\n",
      "Epoch 100/400\n",
      "645/645 [==============================] - 2s 3ms/step - loss: 0.0013 - mae: 0.0039 - val_loss: 0.0013 - val_mae: 0.0048\n",
      "Epoch 101/400\n",
      "645/645 [==============================] - 2s 3ms/step - loss: 0.0013 - mae: 0.0039 - val_loss: 0.0013 - val_mae: 0.0057\n",
      "Epoch 102/400\n",
      "645/645 [==============================] - 2s 3ms/step - loss: 0.0013 - mae: 0.0036 - val_loss: 0.0013 - val_mae: 0.0035\n",
      "Epoch 103/400\n",
      "645/645 [==============================] - 2s 3ms/step - loss: 0.0013 - mae: 0.0038 - val_loss: 0.0012 - val_mae: 0.0029\n",
      "Epoch 104/400\n",
      "645/645 [==============================] - 2s 3ms/step - loss: 0.0012 - mae: 0.0040 - val_loss: 0.0013 - val_mae: 0.0074\n",
      "Epoch 105/400\n",
      "645/645 [==============================] - 2s 3ms/step - loss: 0.0012 - mae: 0.0037 - val_loss: 0.0012 - val_mae: 0.0033\n",
      "Epoch 106/400\n",
      "645/645 [==============================] - 2s 3ms/step - loss: 0.0012 - mae: 0.0038 - val_loss: 0.0012 - val_mae: 0.0059\n",
      "Epoch 107/400\n",
      "645/645 [==============================] - 2s 3ms/step - loss: 0.0012 - mae: 0.0039 - val_loss: 0.0012 - val_mae: 0.0037\n",
      "Epoch 108/400\n",
      "645/645 [==============================] - 2s 3ms/step - loss: 0.0012 - mae: 0.0038 - val_loss: 0.0012 - val_mae: 0.0030\n",
      "Epoch 109/400\n",
      "645/645 [==============================] - 2s 3ms/step - loss: 0.0012 - mae: 0.0039 - val_loss: 0.0012 - val_mae: 0.0070\n",
      "Epoch 110/400\n",
      "645/645 [==============================] - 2s 3ms/step - loss: 0.0012 - mae: 0.0038 - val_loss: 0.0012 - val_mae: 0.0032\n",
      "Epoch 111/400\n",
      "645/645 [==============================] - 2s 3ms/step - loss: 0.0012 - mae: 0.0038 - val_loss: 0.0012 - val_mae: 0.0084\n",
      "Epoch 112/400\n",
      "645/645 [==============================] - 2s 3ms/step - loss: 0.0012 - mae: 0.0038 - val_loss: 0.0012 - val_mae: 0.0039\n",
      "Epoch 113/400\n",
      "645/645 [==============================] - 2s 3ms/step - loss: 0.0012 - mae: 0.0039 - val_loss: 0.0011 - val_mae: 0.0035\n",
      "Epoch 114/400\n",
      "645/645 [==============================] - 2s 3ms/step - loss: 0.0011 - mae: 0.0039 - val_loss: 0.0011 - val_mae: 0.0044\n",
      "Epoch 115/400\n",
      "645/645 [==============================] - 2s 3ms/step - loss: 0.0011 - mae: 0.0038 - val_loss: 0.0011 - val_mae: 0.0047\n",
      "Epoch 116/400\n",
      "645/645 [==============================] - 2s 3ms/step - loss: 0.0011 - mae: 0.0038 - val_loss: 0.0011 - val_mae: 0.0031\n",
      "Epoch 117/400\n",
      "645/645 [==============================] - 2s 3ms/step - loss: 0.0011 - mae: 0.0038 - val_loss: 0.0011 - val_mae: 0.0033\n",
      "Epoch 118/400\n",
      "645/645 [==============================] - 2s 3ms/step - loss: 0.0011 - mae: 0.0039 - val_loss: 0.0011 - val_mae: 0.0048\n",
      "Epoch 119/400\n",
      "645/645 [==============================] - 2s 3ms/step - loss: 0.0011 - mae: 0.0040 - val_loss: 0.0011 - val_mae: 0.0068\n",
      "Epoch 120/400\n",
      "645/645 [==============================] - 2s 3ms/step - loss: 0.0011 - mae: 0.0039 - val_loss: 0.0011 - val_mae: 0.0039\n",
      "Epoch 121/400\n",
      "645/645 [==============================] - 2s 3ms/step - loss: 0.0011 - mae: 0.0037 - val_loss: 0.0011 - val_mae: 0.0035\n",
      "Epoch 122/400\n",
      "645/645 [==============================] - 2s 3ms/step - loss: 0.0011 - mae: 0.0039 - val_loss: 0.0011 - val_mae: 0.0031\n",
      "Epoch 123/400\n",
      "645/645 [==============================] - 2s 3ms/step - loss: 0.0011 - mae: 0.0040 - val_loss: 0.0011 - val_mae: 0.0036\n",
      "Epoch 124/400\n",
      "645/645 [==============================] - 2s 3ms/step - loss: 0.0011 - mae: 0.0037 - val_loss: 0.0011 - val_mae: 0.0058\n",
      "Epoch 125/400\n",
      "645/645 [==============================] - 2s 3ms/step - loss: 0.0011 - mae: 0.0038 - val_loss: 0.0011 - val_mae: 0.0039\n",
      "Epoch 126/400\n",
      "645/645 [==============================] - 2s 3ms/step - loss: 0.0011 - mae: 0.0038 - val_loss: 0.0011 - val_mae: 0.0035\n",
      "Epoch 127/400\n",
      "645/645 [==============================] - 2s 3ms/step - loss: 0.0011 - mae: 0.0039 - val_loss: 0.0011 - val_mae: 0.0028\n",
      "Epoch 128/400\n",
      "645/645 [==============================] - 2s 3ms/step - loss: 0.0011 - mae: 0.0037 - val_loss: 0.0011 - val_mae: 0.0035\n",
      "Epoch 129/400\n",
      "645/645 [==============================] - 2s 3ms/step - loss: 0.0011 - mae: 0.0039 - val_loss: 0.0010 - val_mae: 0.0030\n",
      "Epoch 130/400\n",
      "645/645 [==============================] - 2s 3ms/step - loss: 0.0011 - mae: 0.0039 - val_loss: 0.0010 - val_mae: 0.0031\n",
      "Epoch 131/400\n",
      "645/645 [==============================] - 2s 3ms/step - loss: 0.0010 - mae: 0.0039 - val_loss: 0.0011 - val_mae: 0.0045\n",
      "Epoch 132/400\n",
      "645/645 [==============================] - 2s 3ms/step - loss: 0.0010 - mae: 0.0038 - val_loss: 0.0010 - val_mae: 0.0031\n",
      "Epoch 133/400\n",
      "645/645 [==============================] - 2s 3ms/step - loss: 0.0010 - mae: 0.0039 - val_loss: 0.0010 - val_mae: 0.0043\n",
      "Epoch 134/400\n",
      "645/645 [==============================] - 2s 3ms/step - loss: 0.0010 - mae: 0.0037 - val_loss: 0.0011 - val_mae: 0.0054\n",
      "Epoch 135/400\n",
      "645/645 [==============================] - 2s 3ms/step - loss: 0.0010 - mae: 0.0039 - val_loss: 0.0010 - val_mae: 0.0046\n",
      "Epoch 136/400\n",
      "645/645 [==============================] - 2s 3ms/step - loss: 0.0010 - mae: 0.0038 - val_loss: 0.0011 - val_mae: 0.0071\n",
      "Epoch 137/400\n",
      "645/645 [==============================] - 2s 3ms/step - loss: 0.0010 - mae: 0.0038 - val_loss: 0.0010 - val_mae: 0.0033\n",
      "Epoch 138/400\n",
      "645/645 [==============================] - 2s 3ms/step - loss: 0.0010 - mae: 0.0037 - val_loss: 0.0010 - val_mae: 0.0058\n",
      "Epoch 139/400\n",
      "645/645 [==============================] - 2s 3ms/step - loss: 0.0010 - mae: 0.0036 - val_loss: 0.0010 - val_mae: 0.0034\n",
      "Epoch 140/400\n",
      "645/645 [==============================] - 2s 3ms/step - loss: 0.0010 - mae: 0.0038 - val_loss: 0.0010 - val_mae: 0.0031\n",
      "Epoch 141/400\n",
      "645/645 [==============================] - 2s 3ms/step - loss: 0.0010 - mae: 0.0038 - val_loss: 0.0010 - val_mae: 0.0050\n",
      "Epoch 142/400\n",
      "645/645 [==============================] - 2s 3ms/step - loss: 0.0010 - mae: 0.0038 - val_loss: 9.9411e-04 - val_mae: 0.0027\n",
      "Epoch 143/400\n",
      "645/645 [==============================] - 2s 3ms/step - loss: 0.0010 - mae: 0.0037 - val_loss: 9.9328e-04 - val_mae: 0.0031\n",
      "Epoch 144/400\n",
      "645/645 [==============================] - 2s 3ms/step - loss: 9.9810e-04 - mae: 0.0038 - val_loss: 0.0011 - val_mae: 0.0087\n",
      "Epoch 145/400\n",
      "645/645 [==============================] - 2s 3ms/step - loss: 9.9596e-04 - mae: 0.0038 - val_loss: 0.0010 - val_mae: 0.0050\n",
      "Epoch 146/400\n",
      "645/645 [==============================] - 2s 3ms/step - loss: 9.9221e-04 - mae: 0.0038 - val_loss: 9.8358e-04 - val_mae: 0.0031\n",
      "Epoch 147/400\n",
      "645/645 [==============================] - 2s 2ms/step - loss: 9.8872e-04 - mae: 0.0038 - val_loss: 9.9471e-04 - val_mae: 0.0048\n",
      "Epoch 148/400\n",
      "645/645 [==============================] - 1s 2ms/step - loss: 9.8690e-04 - mae: 0.0039 - val_loss: 9.8245e-04 - val_mae: 0.0037\n",
      "Epoch 149/400\n",
      "645/645 [==============================] - 1s 2ms/step - loss: 9.8401e-04 - mae: 0.0038 - val_loss: 9.9672e-04 - val_mae: 0.0049\n",
      "Epoch 150/400\n",
      "645/645 [==============================] - 1s 2ms/step - loss: 9.8033e-04 - mae: 0.0038 - val_loss: 9.7778e-04 - val_mae: 0.0040\n",
      "Epoch 151/400\n",
      "645/645 [==============================] - 1s 2ms/step - loss: 9.7815e-04 - mae: 0.0038 - val_loss: 9.8494e-04 - val_mae: 0.0048\n",
      "Epoch 152/400\n",
      "645/645 [==============================] - 1s 2ms/step - loss: 9.7429e-04 - mae: 0.0037 - val_loss: 9.7258e-04 - val_mae: 0.0037\n",
      "Epoch 153/400\n",
      "645/645 [==============================] - 1s 2ms/step - loss: 9.7129e-04 - mae: 0.0037 - val_loss: 9.8661e-04 - val_mae: 0.0055\n",
      "Epoch 154/400\n",
      "645/645 [==============================] - 1s 2ms/step - loss: 9.6786e-04 - mae: 0.0036 - val_loss: 9.5856e-04 - val_mae: 0.0028\n",
      "Epoch 155/400\n",
      "645/645 [==============================] - 1s 2ms/step - loss: 9.6459e-04 - mae: 0.0036 - val_loss: 9.7098e-04 - val_mae: 0.0045\n",
      "Epoch 156/400\n",
      "645/645 [==============================] - 1s 2ms/step - loss: 9.6689e-04 - mae: 0.0040 - val_loss: 9.6207e-04 - val_mae: 0.0040\n",
      "Epoch 157/400\n",
      "645/645 [==============================] - 1s 2ms/step - loss: 9.5954e-04 - mae: 0.0036 - val_loss: 9.4956e-04 - val_mae: 0.0026\n",
      "Epoch 158/400\n",
      "645/645 [==============================] - 2s 2ms/step - loss: 9.6213e-04 - mae: 0.0039 - val_loss: 9.6913e-04 - val_mae: 0.0050\n",
      "Epoch 159/400\n",
      "645/645 [==============================] - 2s 2ms/step - loss: 9.5613e-04 - mae: 0.0036 - val_loss: 9.4499e-04 - val_mae: 0.0025\n",
      "Epoch 160/400\n",
      "645/645 [==============================] - 2s 2ms/step - loss: 9.5393e-04 - mae: 0.0037 - val_loss: 9.5718e-04 - val_mae: 0.0045\n",
      "Epoch 161/400\n",
      "645/645 [==============================] - 1s 2ms/step - loss: 9.5001e-04 - mae: 0.0036 - val_loss: 9.5709e-04 - val_mae: 0.0047\n",
      "Epoch 162/400\n",
      "645/645 [==============================] - 1s 2ms/step - loss: 9.5132e-04 - mae: 0.0039 - val_loss: 9.3777e-04 - val_mae: 0.0027\n",
      "Epoch 163/400\n",
      "645/645 [==============================] - 1s 2ms/step - loss: 9.4763e-04 - mae: 0.0038 - val_loss: 0.0011 - val_mae: 0.0093\n",
      "Epoch 164/400\n",
      "645/645 [==============================] - 1s 2ms/step - loss: 9.4716e-04 - mae: 0.0039 - val_loss: 9.3608e-04 - val_mae: 0.0030\n",
      "Epoch 165/400\n",
      "645/645 [==============================] - 1s 2ms/step - loss: 9.4227e-04 - mae: 0.0036 - val_loss: 9.4769e-04 - val_mae: 0.0044\n",
      "Epoch 166/400\n",
      "645/645 [==============================] - 1s 2ms/step - loss: 9.4026e-04 - mae: 0.0037 - val_loss: 9.5310e-04 - val_mae: 0.0052\n",
      "Epoch 167/400\n",
      "645/645 [==============================] - 2s 2ms/step - loss: 9.3886e-04 - mae: 0.0037 - val_loss: 9.7626e-04 - val_mae: 0.0066\n",
      "Epoch 168/400\n",
      "645/645 [==============================] - 1s 2ms/step - loss: 9.3948e-04 - mae: 0.0039 - val_loss: 9.5747e-04 - val_mae: 0.0056\n",
      "Epoch 169/400\n",
      "645/645 [==============================] - 1s 2ms/step - loss: 9.3437e-04 - mae: 0.0036 - val_loss: 9.2650e-04 - val_mae: 0.0032\n",
      "Epoch 170/400\n",
      "645/645 [==============================] - 1s 2ms/step - loss: 9.3222e-04 - mae: 0.0036 - val_loss: 9.3084e-04 - val_mae: 0.0037\n",
      "Epoch 171/400\n",
      "645/645 [==============================] - 1s 2ms/step - loss: 9.2972e-04 - mae: 0.0036 - val_loss: 9.2543e-04 - val_mae: 0.0034\n",
      "Epoch 172/400\n",
      "645/645 [==============================] - 2s 2ms/step - loss: 9.3065e-04 - mae: 0.0038 - val_loss: 9.3563e-04 - val_mae: 0.0046\n",
      "Epoch 173/400\n",
      "645/645 [==============================] - 1s 2ms/step - loss: 9.2649e-04 - mae: 0.0036 - val_loss: 9.8822e-04 - val_mae: 0.0083\n",
      "Epoch 174/400\n",
      "645/645 [==============================] - 1s 2ms/step - loss: 9.2592e-04 - mae: 0.0037 - val_loss: 9.3424e-04 - val_mae: 0.0047\n",
      "Epoch 175/400\n",
      "645/645 [==============================] - 1s 2ms/step - loss: 9.2413e-04 - mae: 0.0038 - val_loss: 9.1234e-04 - val_mae: 0.0027\n",
      "Epoch 176/400\n",
      "645/645 [==============================] - 1s 2ms/step - loss: 9.2247e-04 - mae: 0.0038 - val_loss: 9.1418e-04 - val_mae: 0.0031\n",
      "Epoch 177/400\n",
      "645/645 [==============================] - 1s 2ms/step - loss: 9.2107e-04 - mae: 0.0038 - val_loss: 9.2371e-04 - val_mae: 0.0043\n",
      "Epoch 178/400\n",
      "645/645 [==============================] - 1s 2ms/step - loss: 9.1625e-04 - mae: 0.0035 - val_loss: 9.1026e-04 - val_mae: 0.0029\n",
      "Epoch 179/400\n",
      "645/645 [==============================] - 1s 2ms/step - loss: 9.1826e-04 - mae: 0.0038 - val_loss: 9.3930e-04 - val_mae: 0.0052\n",
      "Epoch 180/400\n",
      "645/645 [==============================] - 1s 2ms/step - loss: 9.1423e-04 - mae: 0.0036 - val_loss: 9.4211e-04 - val_mae: 0.0061\n",
      "Epoch 181/400\n",
      "645/645 [==============================] - 2s 2ms/step - loss: 9.1283e-04 - mae: 0.0036 - val_loss: 9.9951e-04 - val_mae: 0.0091\n",
      "Epoch 182/400\n",
      "645/645 [==============================] - 1s 2ms/step - loss: 9.1128e-04 - mae: 0.0036 - val_loss: 9.0298e-04 - val_mae: 0.0028\n",
      "Epoch 183/400\n",
      "645/645 [==============================] - 1s 2ms/step - loss: 9.1384e-04 - mae: 0.0040 - val_loss: 9.0859e-04 - val_mae: 0.0035\n",
      "Epoch 184/400\n",
      "645/645 [==============================] - 1s 2ms/step - loss: 9.0628e-04 - mae: 0.0035 - val_loss: 8.9793e-04 - val_mae: 0.0027\n",
      "Epoch 185/400\n",
      "645/645 [==============================] - 1s 2ms/step - loss: 9.0823e-04 - mae: 0.0038 - val_loss: 9.1072e-04 - val_mae: 0.0040\n",
      "Epoch 186/400\n",
      "645/645 [==============================] - 1s 2ms/step - loss: 9.0547e-04 - mae: 0.0037 - val_loss: 9.0744e-04 - val_mae: 0.0040\n",
      "Epoch 187/400\n",
      "645/645 [==============================] - 1s 2ms/step - loss: 9.0379e-04 - mae: 0.0037 - val_loss: 9.5096e-04 - val_mae: 0.0076\n",
      "Epoch 188/400\n",
      "645/645 [==============================] - 1s 2ms/step - loss: 9.0737e-04 - mae: 0.0040 - val_loss: 9.6448e-04 - val_mae: 0.0086\n",
      "Epoch 189/400\n",
      "637/645 [============================>.] - ETA: 0s - loss: 9.0221e-04 - mae: 0.0037Restoring model weights from the end of the best epoch: 184.\n",
      "645/645 [==============================] - 1s 2ms/step - loss: 9.0249e-04 - mae: 0.0037 - val_loss: 9.5694e-04 - val_mae: 0.0083\n",
      "Epoch 189: early stopping\n",
      "Die Ausführungszeit betrug 345.4478051662445 Sekunden.\n"
     ]
    }
   ],
   "source": [
    "start_time = time.time()\n",
    "# Netzwerkarchitektur\n",
    "model = Sequential([\n",
    "    # Eingabeschicht\n",
    "\n",
    "    Dense(256, activation='relu', input_shape=(2,), kernel_initializer='he_uniform', kernel_regularizer=l2(0.0001)),\n",
    "\n",
    "    Dense(128, activation='relu', kernel_initializer='he_uniform', kernel_regularizer=l2(0.0001)),\n",
    "\n",
    "    Dense(160, activation='relu', kernel_initializer='he_uniform', kernel_regularizer=l2(0.0001)),\n",
    "\n",
    "    Dense(224, activation='relu', kernel_initializer='he_uniform', kernel_regularizer=l2(0.0001)),\n",
    "\n",
    "    Dense(112, activation='relu', kernel_initializer='he_uniform', kernel_regularizer=l2(0.0001)),\n",
    "\n",
    "    Dense(320, activation='relu', kernel_initializer='he_uniform', kernel_regularizer=l2(0.0001)),\n",
    "    \n",
    "    Dense(16, activation='relu', kernel_initializer='he_uniform', kernel_regularizer=l2(0.0001)),\n",
    "    \n",
    "    Dense(112, activation='relu', kernel_initializer='he_uniform', kernel_regularizer=l2(0.0001)),\n",
    "    \n",
    "    #Dense(240, activation='relu', kernel_initializer='he_uniform', kernel_regularizer=l2(0.0001)),\n",
    "    \n",
    "    #Dense(48, activation='relu', kernel_initializer='he_uniform', kernel_regularizer=l2(0.0001)),\n",
    "    \n",
    "    Dense(1 , activation = 'linear')\n",
    "])\n",
    "\n",
    "# Optimierer\n",
    "optimizer = tf.keras.optimizers.Adam(learning_rate=0.0001)\n",
    "\n",
    "# Modell kompilieren (Verwendung von mean_squared_error als Verlustfunktion für Regression)\n",
    "model.compile(optimizer=optimizer,\n",
    "              loss='mean_squared_error',\n",
    "              metrics=['mae'])  # Metriken für Regression: Mean Absolute Error und Mean Squared Error\n",
    "\n",
    "# Early Stopping Callback\n",
    "early_stopping = EarlyStopping(monitor='val_loss', patience=5, verbose=2, mode='min', restore_best_weights=True)#, min_delta = 0.00005)\n",
    "\n",
    "# Trainingsparameter\n",
    "batch_size = 100\n",
    "epochs = 400\n",
    "\n",
    "# Modell trainieren (Annahme: X_train, y_train, X_val, y_val sind vordefiniert)\n",
    "history = model.fit(X_train_scaled, y_train_scaled,\n",
    "                    batch_size=batch_size,\n",
    "                    epochs=epochs,\n",
    "                    validation_split=0.2,\n",
    "                    callbacks=[early_stopping],\n",
    "                    verbose = 1)\n",
    "\n",
    "end_time = time.time()\n",
    "\n",
    "# Berechne die Dauer\n",
    "duration = end_time - start_time\n",
    "\n",
    "print(f\"Die Ausführungszeit betrug {duration} Sekunden.\")"
   ],
   "metadata": {
    "collapsed": false,
    "ExecuteTime": {
     "end_time": "2024-03-14T16:08:03.198726500Z",
     "start_time": "2024-03-14T16:02:17.736612900Z"
    }
   },
   "id": "8b52e1a9a6ff3aeb"
  },
  {
   "cell_type": "code",
   "execution_count": 31,
   "outputs": [
    {
     "name": "stdout",
     "output_type": "stream",
     "text": [
      "630/630 - 1s - loss: 8.9852e-04 - mae: 0.0027 - 642ms/epoch - 1ms/step\n"
     ]
    },
    {
     "data": {
      "text/plain": "[0.0008985208696685731, 0.0027488218620419502]"
     },
     "execution_count": 31,
     "metadata": {},
     "output_type": "execute_result"
    }
   ],
   "source": [
    "results = model.evaluate(X_test_scaled, y_test_scaled, verbose=2)\n",
    "results"
   ],
   "metadata": {
    "collapsed": false,
    "ExecuteTime": {
     "end_time": "2024-03-14T16:08:03.904209500Z",
     "start_time": "2024-03-14T16:08:03.198726500Z"
    }
   },
   "id": "68d86893ad985b02"
  },
  {
   "cell_type": "code",
   "execution_count": 32,
   "id": "9f6f672a",
   "metadata": {
    "ExecuteTime": {
     "end_time": "2024-03-14T16:08:04.688516600Z",
     "start_time": "2024-03-14T16:08:03.881209600Z"
    }
   },
   "outputs": [
    {
     "name": "stdout",
     "output_type": "stream",
     "text": [
      " Bsp. Predicted: [1193.7445] Actual: [1195.9] \n",
      "Durchschnittliche Abweichung (MAE): [2.60533657]\n"
     ]
    }
   ],
   "source": [
    "scaled_predicted_values = model.predict(X_test_scaled, verbose = 0)\n",
    "\n",
    "# Führen Sie die Rücktransformation der skalierten Werte durch\n",
    "original_predicted_values = scaler_target.inverse_transform(scaled_predicted_values)\n",
    "original_actual_values = scaler_target.inverse_transform(y_test_scaled)  # y_test sind die skalierten tatsächlichen Werte\n",
    "print(f' Bsp. Predicted: {original_predicted_values[1000]} Actual: {original_actual_values[1000]} ')\n",
    "\n",
    "def calculate_mae(list1, list2):\n",
    "    # Stelle sicher, dass beide Listen die gleiche Länge haben\n",
    "    if len(list1) != len(list2):\n",
    "        raise ValueError(\"Listen müssen die gleiche Länge haben\")\n",
    "\n",
    "    # Berechne die absolute Differenz zwischen den Elementen der Listen\n",
    "    differences = [abs(x - y) for x, y in zip(list1, list2)]\n",
    "\n",
    "    # Berechne den Durchschnitt der absoluten Differenzen\n",
    "    mae = sum(differences) / len(differences)\n",
    "\n",
    "    return mae\n",
    "\n",
    "# Beispiel\n",
    "list1 = original_predicted_values\n",
    "list2 = original_actual_values\n",
    "\n",
    "mae = calculate_mae(list1, list2)\n",
    "print(f\"Durchschnittliche Abweichung (MAE): {mae}\")\n"
   ]
  },
  {
   "cell_type": "code",
   "execution_count": 33,
   "outputs": [
    {
     "name": "stdout",
     "output_type": "stream",
     "text": [
      "R^2: [0.99978783]\n"
     ]
    }
   ],
   "source": [
    "def calculate_r_squared(predicted, actual):\n",
    "    # Berechnung des Mittelwerts der tatsächlichen Werte\n",
    "    mean_actual = sum(actual) / len(actual)\n",
    "    \n",
    "    # Berechnung der totalen Summe der Quadrate (SST)\n",
    "    sst = sum((x - mean_actual) ** 2 for x in actual)\n",
    "    \n",
    "    # Berechnung der Summe der Quadrate der Residuen (SSE)\n",
    "    sse = sum((actual[i] - predicted[i]) ** 2 for i in range(len(actual)))\n",
    "    \n",
    "    # Berechnung des R^2-Wertes\n",
    "    r_squared = 1 - (sse / sst)\n",
    "    \n",
    "    return r_squared\n",
    "\n",
    "# Berechnung von R^2 mit den bereitgestellten Listen\n",
    "r_squared = calculate_r_squared(list1, list2)\n",
    "\n",
    "print(f\"R^2: {r_squared}\")"
   ],
   "metadata": {
    "collapsed": false,
    "ExecuteTime": {
     "end_time": "2024-03-14T16:08:04.797830700Z",
     "start_time": "2024-03-14T16:08:04.690516400Z"
    }
   },
   "id": "48ac8cdcc05e55fd"
  },
  {
   "cell_type": "code",
   "execution_count": 34,
   "outputs": [
    {
     "name": "stdout",
     "output_type": "stream",
     "text": [
      "Anzahl der Werte die kleiner sind: 8\n"
     ]
    },
    {
     "data": {
      "text/plain": "             Echt  Vorhergesagt  X-Koordinate  Y-Koordinate  Differenz\n19281  777.887451        807.84         1.000        0.9125 -29.952549\n14143  802.839111        832.75         1.000        0.9025 -29.910889\n16514  809.072205        838.63         1.000        0.9000 -29.557795\n4177   815.301086        844.45         1.000        0.8975 -29.148914\n16594  827.754272        855.66         1.000        0.8925 -27.905728\n...           ...           ...           ...           ...        ...\n15061  608.071289        587.18         0.956        0.9775  20.891289\n11939  608.316162        586.88         0.964        0.9775  21.436162\n14839  621.090210        599.38         0.956        0.9725  21.710210\n13809  615.559082        593.15         0.988        0.9750  22.409082\n20012  615.804016        588.92         0.996        0.9750  26.884016\n\n[20131 rows x 5 columns]",
      "text/html": "<div>\n<style scoped>\n    .dataframe tbody tr th:only-of-type {\n        vertical-align: middle;\n    }\n\n    .dataframe tbody tr th {\n        vertical-align: top;\n    }\n\n    .dataframe thead th {\n        text-align: right;\n    }\n</style>\n<table border=\"1\" class=\"dataframe\">\n  <thead>\n    <tr style=\"text-align: right;\">\n      <th></th>\n      <th>Echt</th>\n      <th>Vorhergesagt</th>\n      <th>X-Koordinate</th>\n      <th>Y-Koordinate</th>\n      <th>Differenz</th>\n    </tr>\n  </thead>\n  <tbody>\n    <tr>\n      <th>19281</th>\n      <td>777.887451</td>\n      <td>807.84</td>\n      <td>1.000</td>\n      <td>0.9125</td>\n      <td>-29.952549</td>\n    </tr>\n    <tr>\n      <th>14143</th>\n      <td>802.839111</td>\n      <td>832.75</td>\n      <td>1.000</td>\n      <td>0.9025</td>\n      <td>-29.910889</td>\n    </tr>\n    <tr>\n      <th>16514</th>\n      <td>809.072205</td>\n      <td>838.63</td>\n      <td>1.000</td>\n      <td>0.9000</td>\n      <td>-29.557795</td>\n    </tr>\n    <tr>\n      <th>4177</th>\n      <td>815.301086</td>\n      <td>844.45</td>\n      <td>1.000</td>\n      <td>0.8975</td>\n      <td>-29.148914</td>\n    </tr>\n    <tr>\n      <th>16594</th>\n      <td>827.754272</td>\n      <td>855.66</td>\n      <td>1.000</td>\n      <td>0.8925</td>\n      <td>-27.905728</td>\n    </tr>\n    <tr>\n      <th>...</th>\n      <td>...</td>\n      <td>...</td>\n      <td>...</td>\n      <td>...</td>\n      <td>...</td>\n    </tr>\n    <tr>\n      <th>15061</th>\n      <td>608.071289</td>\n      <td>587.18</td>\n      <td>0.956</td>\n      <td>0.9775</td>\n      <td>20.891289</td>\n    </tr>\n    <tr>\n      <th>11939</th>\n      <td>608.316162</td>\n      <td>586.88</td>\n      <td>0.964</td>\n      <td>0.9775</td>\n      <td>21.436162</td>\n    </tr>\n    <tr>\n      <th>14839</th>\n      <td>621.090210</td>\n      <td>599.38</td>\n      <td>0.956</td>\n      <td>0.9725</td>\n      <td>21.710210</td>\n    </tr>\n    <tr>\n      <th>13809</th>\n      <td>615.559082</td>\n      <td>593.15</td>\n      <td>0.988</td>\n      <td>0.9750</td>\n      <td>22.409082</td>\n    </tr>\n    <tr>\n      <th>20012</th>\n      <td>615.804016</td>\n      <td>588.92</td>\n      <td>0.996</td>\n      <td>0.9750</td>\n      <td>26.884016</td>\n    </tr>\n  </tbody>\n</table>\n<p>20131 rows × 5 columns</p>\n</div>"
     },
     "execution_count": 34,
     "metadata": {},
     "output_type": "execute_result"
    }
   ],
   "source": [
    "df_result = pd.DataFrame({'Echt': [val[0] for val in list1], 'Vorhergesagt': [val[0] for val in list2]})\n",
    "df_result['X-Koordinate'] = X_test_scaled[:, 0]\n",
    "df_result['Y-Koordinate'] = X_test_scaled[:, 1]\n",
    "\n",
    "df_result['Differenz'] = df_result['Echt'] - df_result['Vorhergesagt']\n",
    "df_result['Differenz'].sort_values()\n",
    "sorted_df = df_result.sort_values(by= 'Differenz')\n",
    "Anzahl_Punkte = (sorted_df['Differenz'] > 20).sum()\n",
    "print(\"Anzahl der Werte die kleiner sind:\", Anzahl_Punkte)\n",
    "\n",
    "sorted_df"
   ],
   "metadata": {
    "collapsed": false,
    "ExecuteTime": {
     "end_time": "2024-03-14T16:08:04.827234900Z",
     "start_time": "2024-03-14T16:08:04.796830700Z"
    }
   },
   "id": "42bde60d3b4f2007"
  },
  {
   "cell_type": "markdown",
   "id": "553df6fa",
   "metadata": {},
   "source": []
  },
  {
   "cell_type": "code",
   "execution_count": 35,
   "outputs": [
    {
     "data": {
      "text/plain": "<Figure size 1000x600 with 1 Axes>",
      "image/png": "[encoded data removed]"
     },
     "metadata": {},
     "output_type": "display_data"
    }
   ],
   "source": [
    "mae = history.history['loss']\n",
    "val_mae = history.history['val_loss']\n",
    "\n",
    "epochs = range(1, len(mae) + 1)\n",
    "# MAE Diagramm\n",
    "plt.figure(figsize=(10, 6))\n",
    "plt.plot(epochs, mae, 'r', label='Training MSE')\n",
    "plt.plot(epochs, val_mae, 'b', label='Validation MSE')\n",
    "plt.title('Training and Validation MAE')\n",
    "plt.xlabel('Epochs')\n",
    "plt.ylabel('MSE')\n",
    "plt.legend()\n",
    "plt.show()"
   ],
   "metadata": {
    "collapsed": false,
    "ExecuteTime": {
     "end_time": "2024-03-14T16:08:04.956265300Z",
     "start_time": "2024-03-14T16:08:04.825234900Z"
    }
   },
   "id": "3688dd7102e95baf"
  },
  {
   "cell_type": "markdown",
   "source": [
    "\n",
    "# GridSearch\n",
    "Grid Search bietet die Vorteile der anpassbaren Rechenzeit sowie die Möglichkeit des EInsatzes von Verteilungen. So können theoretisch Hyperparamterkonfuigurationen gefunden wende, welche durch GridSearch nicht auffindbar wären. ZUdem ist das Ziel der Hyperparamteroptimierung eine Einstellung zu finden, welche auf Trainings und Testset gut angepasst ist. Die EInstellung muss nicht die bestmöglichste Einstellung sein, sondern eine Einstellung die das gewähltre Problem gut wiederspiegelt. \n",
    "Bayesian Optimierung"
   ],
   "metadata": {
    "collapsed": false
   },
   "id": "9c177960cc729052"
  },
  {
   "cell_type": "code",
   "execution_count": 36,
   "id": "3f17e2cf",
   "metadata": {
    "ExecuteTime": {
     "end_time": "2024-03-14T16:08:04.960266400Z",
     "start_time": "2024-03-14T16:08:04.958265800Z"
    }
   },
   "outputs": [],
   "source": [
    "# def build_model(learning_rate=0.001, activation='relu', regularization=0.0001, dropout_rate=0.0):\n",
    "#     model = Sequential()\n",
    "#     model.add(Dense(320, activation=activation, input_shape=(2,), kernel_initializer='he_uniform', kernel_regularizer=l2(regularization)))\n",
    "#     model.add(Dropout(dropout_rate))\n",
    "# \n",
    "#     model.add(Dense(176, activation=activation, kernel_initializer='he_uniform', kernel_regularizer=l2(regularization)))\n",
    "#     model.add(Dropout(dropout_rate))\n",
    "# \n",
    "#     model.add(Dense(288, activation=activation, kernel_initializer='he_uniform', kernel_regularizer=l2(regularization)))\n",
    "#     model.add(Dropout(dropout_rate))\n",
    "# \n",
    "#     model.add(Dense(192, activation=activation, kernel_initializer='he_uniform', kernel_regularizer=l2(regularization)))\n",
    "#     model.add(Dropout(dropout_rate))\n",
    "# \n",
    "#     model.add(Dense(208, activation=activation, kernel_initializer='he_uniform', kernel_regularizer=l2(regularization)))\n",
    "#     model.add(Dropout(dropout_rate))\n",
    "# \n",
    "#     model.add(Dense(224, activation=activation, kernel_initializer='he_uniform', kernel_regularizer=l2(regularization)))\n",
    "#     model.add(Dropout(dropout_rate))\n",
    "# \n",
    "#     model.add(Dense(80, activation=activation, kernel_initializer='he_uniform', kernel_regularizer=l2(regularization)))\n",
    "#     model.add(Dropout(dropout_rate))\n",
    "# \n",
    "#     model.add(Dense(304, activation=activation, kernel_initializer='he_uniform', kernel_regularizer=l2(regularization)))\n",
    "#     model.add(Dropout(dropout_rate)) \n",
    "# \n",
    "#     model.add(Dense(240, activation=activation, kernel_initializer='he_uniform', kernel_regularizer=l2(regularization)))\n",
    "#     model.add(Dropout(dropout_rate))   \n",
    "# \n",
    "#     model.add(Dense(48, activation=activation, kernel_initializer='he_uniform', kernel_regularizer=l2(regularization)))\n",
    "#     model.add(Dropout(dropout_rate))\n",
    "# \n",
    "#     model.add(Dense(1, activation='linear'))\n",
    "#     model.compile(optimizer=Adam(learning_rate=learning_rate), loss='mean_squared_error', metrics=['mae'])\n",
    "#     return model\n",
    "# \n",
    "# # Verwenden Sie eine Funktion, um das Modell zu instanziieren, für scikit-learn Wrapper\n",
    "# model = KerasRegressor(model=build_model, verbose=2)\n",
    "# \n",
    "# # Anpassung der Parameter im param_grid\n",
    "# param_grid = {\n",
    "#     'model__learning_rate': [0.01, 0.001, 0.0001],\n",
    "#     'model__regularization': [0.001, 0.0001],\n",
    "#     'fit__batch_size': [100, 200, 400, 800],\n",
    "#     'fit__epochs': [50],\n",
    "#     'model__dropout_rate' : [0.0, 0.1, 0.2]\n",
    "# }\n",
    "# \n",
    "# grid_search = GridSearchCV(estimator=model, param_grid=param_grid, n_jobs=-1, cv=3, verbose=2)\n",
    "# # Hinweis: Stellen Sie sicher, dass Ihre Daten (X_train_scaled, y_train_scaled) korrekt definiert sind\n",
    "# grid_result = grid_search.fit(X_train_scaled, y_train_scaled)\n",
    "# # Beste Parameter und Score ausgeben\n",
    "# print(\"Beste Parameter:\", grid_search.best_params_)\n",
    "# print(\"Beste Genauigkeit:\", grid_search.best_score_)\n",
    "# \n",
    "# with open(\"grid_search_D1_2.txt\", \"w\") as f:\n",
    "#     f.write(f\"Beste Parameter: {grid_search.best_params_}\\n\")\n",
    "#     f.write(f\"Beste Genauigkeit: {grid_search.best_score_}\")\n"
   ]
  },
  {
   "cell_type": "markdown",
   "source": [
    "  # Bayesian Optimization"
   ],
   "metadata": {
    "collapsed": false
   },
   "id": "3bb41910a42cbdee"
  },
  {
   "cell_type": "code",
   "execution_count": 37,
   "outputs": [],
   "source": [
    "# from bayes_opt import BayesianOptimization\n",
    "# \n",
    "# \n",
    "# # Angenommene Daten\n",
    "# # X_train_scaled, y_train_scaled = # Deine skalierten Trainingsdaten\n",
    "# \n",
    "# def train_evaluate(neurons_layer_1, neurons_layer_2, neurons_layer_3, neurons_layer_4, neurons_layer_5, learning_rate):\n",
    "#     model = Sequential([\n",
    "#         Dense(int(neurons_layer_1), activation='relu', input_shape=(2,), kernel_initializer='he_uniform', kernel_regularizer=l2(0.0001)),\n",
    "#         Dense(int(neurons_layer_2), activation='relu', kernel_initializer='he_uniform', kernel_regularizer=l2(0.0001)),\n",
    "#         Dense(int(neurons_layer_3), activation='relu', kernel_initializer='he_uniform', kernel_regularizer=l2(0.0001)),\n",
    "#         Dense(int(neurons_layer_4), activation='relu', kernel_initializer='he_uniform', kernel_regularizer=l2(0.0001)),\n",
    "#         Dense(int(neurons_layer_5), activation='relu', kernel_initializer='he_uniform', kernel_regularizer=l2(0.0001)),\n",
    "#         \n",
    "#         Dense(1, activation='linear')\n",
    "#     ])\n",
    "# \n",
    "#     optimizer = tf.keras.optimizers.Adam(learning_rate=learning_rate)\n",
    "#     model.compile(optimizer=optimizer, loss='mean_squared_error', metrics=['mae'])\n",
    "# \n",
    "#     early_stopping = EarlyStopping(monitor='loss', patience=5, verbose=1, mode='min', restore_best_weights=True, min_delta=0.0001)\n",
    "# \n",
    "#     history = model.fit(X_train_scaled, y_train_scaled, batch_size=32, epochs=100, validation_split=0.2, callbacks=[early_stopping], verbose=0)\n",
    "# \n",
    "#     # Hier wählen wir den negativen Mean Squared Error, da Bayesian Optimization maximiert\n",
    "#     mse = np.min(history.history['val_loss'])\n",
    "#     return -mse\n",
    "# \n",
    "# # Definieren des Bereichs der Hyperparameter\n",
    "# pbounds = {\n",
    "#     'neurons_layer_1': (16, 200),\n",
    "#     'neurons_layer_2': (16, 200),\n",
    "#     'neurons_layer_3': (16, 200),\n",
    "#     'neurons_layer_4': (16, 200),\n",
    "#     'neurons_layer_5': (16, 200),\n",
    "#     'learning_rate': (0.0001, 0.01),\n",
    "# }\n",
    "# \n",
    "# # Initialisieren des BayesianOptimization-Objekts\n",
    "# optimizer = BayesianOptimization(\n",
    "#     f=train_evaluate,\n",
    "#     pbounds=pbounds,\n",
    "#     random_state=1,\n",
    "# )\n",
    "# \n",
    "# # Starten der Optimierung\n",
    "# optimizer.maximize(init_points=2, n_iter=20)\n",
    "# \n",
    "# print(optimizer.max)\n"
   ],
   "metadata": {
    "collapsed": false,
    "ExecuteTime": {
     "end_time": "2024-03-14T16:08:04.964272300Z",
     "start_time": "2024-03-14T16:08:04.961265900Z"
    }
   },
   "id": "a5b6232547cdae67"
  },
  {
   "cell_type": "markdown",
   "source": [
    "# Random Search Architektur\n",
    "Tiefes Netz besser als breites Netz; Layer lernen auf unterschiedliche Weise"
   ],
   "metadata": {
    "collapsed": false
   },
   "id": "75773dfef8260e5f"
  },
  {
   "cell_type": "code",
   "execution_count": 38,
   "outputs": [],
   "source": [
    "# # Funktion zum Erstellen des Modells\n",
    "# def build_model(hp):\n",
    "#     model = Sequential()\n",
    "#     model.add(Dense(hp.Int('input_units', min_value=16, max_value=328, step=16), input_shape=(2,), activation='relu'))\n",
    "#     for i in range(hp.Int('n_layers', 1, 10)):\n",
    "#         model.add(Dense(hp.Int(f'units_{i}', min_value=16, max_value=328, step=16), activation='relu'))\n",
    "#     model.add(Dense(1, activation='linear'))\n",
    "#     model.compile(optimizer='adam', loss='mean_squared_error')\n",
    "#     return model\n",
    "# \n",
    "# # Durchführung der Random Search dreimal\n",
    "# for run in range(1, 4):\n",
    "#     # Anpassen des Verzeichnisses und des Projektnamens für jeden Durchlauf\n",
    "#     directory = 'random_search'\n",
    "#     project_name = f'random_search_D1_{run}'\n",
    "# \n",
    "#     tuner = RandomSearch(\n",
    "#         build_model,\n",
    "#         objective='val_loss',\n",
    "#         max_trials=100,\n",
    "#         executions_per_trial=1,\n",
    "#         directory=directory,\n",
    "#         project_name=project_name\n",
    "#     )\n",
    "# \n",
    "#     # Durchführung des Random Search\n",
    "#     tuner.search(X_train_scaled, y_train_scaled, epochs=50, verbose =0, batch_size=500, validation_split=0.2, callbacks=[EarlyStopping(monitor='val_loss', patience=5)])\n",
    "# \n",
    "#     # Abrufen und Speichern des besten Modells\n",
    "#     best_model = tuner.get_best_models(num_models=1)[0]\n",
    "#     model_path = os.path.join(directory, project_name, 'best_model.h5') \n",
    "#     best_model.save(model_path)\n",
    "# \n",
    "# \n",
    "#     # Optional: Abrufen und Ausgeben der besten Hyperparameter\n",
    "#     best_hyperparameters = tuner.get_best_hyperparameters()[0]\n",
    "# \n",
    "#     # Konvertieren der Hyperparameter in ein DataFrame\n",
    "#     df_hyperparameters = pd.DataFrame([best_hyperparameters.values])\n",
    "#     # Speichern des DataFrame als CSV\n",
    "#     df_hyperparameters.to_csv(f'random_search_D1_{run}.csv', index=False)\n",
    "#     best_model.describe()\n",
    "#     print(f\"Beste Hyperparameter für Lauf {run}: {best_hyperparameters.values}\")"
   ],
   "metadata": {
    "collapsed": false,
    "ExecuteTime": {
     "end_time": "2024-03-14T16:08:04.969305400Z",
     "start_time": "2024-03-14T16:08:04.965272900Z"
    }
   },
   "id": "158d81fabf560fc4"
  },
  {
   "cell_type": "code",
   "execution_count": 38,
   "outputs": [],
   "source": [],
   "metadata": {
    "collapsed": false,
    "ExecuteTime": {
     "end_time": "2024-03-14T16:08:04.972392100Z",
     "start_time": "2024-03-14T16:08:04.970416500Z"
    }
   },
   "id": "6f86db4f21a8c913"
  },
  {
   "cell_type": "code",
   "execution_count": 38,
   "outputs": [],
   "source": [],
   "metadata": {
    "collapsed": false,
    "ExecuteTime": {
     "end_time": "2024-03-14T16:08:04.973908800Z",
     "start_time": "2024-03-14T16:08:04.971415200Z"
    }
   },
   "id": "2a8e01cea48e945f"
  }
 ],
 "metadata": {
  "kernelspec": {
   "display_name": "Python 3 (ipykernel)",
   "language": "python",
   "name": "python3"
  },
  "language_info": {
   "codemirror_mode": {
    "name": "ipython",
    "version": 3
   },
   "file_extension": ".py",
   "mimetype": "text/x-python",
   "name": "python",
   "nbconvert_exporter": "python",
   "pygments_lexer": "ipython3",
   "version": "3.11.4"
  }
 },
 "nbformat": 4,
 "nbformat_minor": 5
}
