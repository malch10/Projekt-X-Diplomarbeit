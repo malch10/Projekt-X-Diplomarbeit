{
 "cells": [
  {
   "cell_type": "code",
   "execution_count": 15,
   "id": "94b0518e",
   "metadata": {
    "ExecuteTime": {
     "end_time": "2024-04-15T12:15:15.384640600Z",
     "start_time": "2024-04-15T12:15:15.375122500Z"
    }
   },
   "outputs": [],
   "source": [
    "import numpy as np\n",
    "import os\n",
    "from sklearn.model_selection import KFold\n",
    "import tensorflow as tf\n",
    "import matplotlib.pyplot as plt\n",
    "from sklearn.model_selection import train_test_split\n",
    "from sklearn.preprocessing import MinMaxScaler\n",
    "import pandas as pd\n",
    "from tensorflow.keras.layers import Dense , Dropout\n",
    "from scikeras.wrappers import KerasRegressor \n",
    "from tensorflow.keras.callbacks import EarlyStopping\n",
    "import time\n",
    "from keras.models import Sequential\n",
    "from keras.layers import Dense, Dropout\n",
    "from keras.optimizers import Adam\n",
    "from keras.regularizers import l2\n",
    "from keras.callbacks import EarlyStopping\n",
    "from keras_tuner import RandomSearch\n",
    "from tensorflow.keras.models import Sequential\n",
    "from tensorflow.keras.layers import Dense\n",
    "from tensorflow.keras.optimizers import Adam\n",
    "from tensorflow.keras.regularizers import l2\n",
    "from sklearn.model_selection import GridSearchCV"
   ]
  },
  {
   "cell_type": "markdown",
   "source": [
    "# Einlesen der Pickle-Dateien und Vorverarbeitung des Inhaltes"
   ],
   "metadata": {
    "collapsed": false
   },
   "id": "42e897a1c7eeed"
  },
  {
   "cell_type": "code",
   "execution_count": 4,
   "id": "e4ff61b1",
   "metadata": {
    "ExecuteTime": {
     "end_time": "2024-04-15T12:09:56.245087700Z",
     "start_time": "2024-04-15T12:09:56.206431600Z"
    }
   },
   "outputs": [
    {
     "data": {
      "text/plain": "        X-Koordinate  Y-Koordinate  Zeitpunkt  Strom  Kraft  Temperatur\n0             0.0000      -0.00200        500   7000   9000      669.05\n1             0.0000      -0.00199        500   7000   9000      675.83\n2             0.0000      -0.00198        500   7000   9000      682.81\n3             0.0000      -0.00197        500   7000   9000      689.82\n4             0.0000      -0.00196        500   7000   9000      696.80\n...              ...           ...        ...    ...    ...         ...\n100646        0.0025       0.00196        500   7000   9000      578.47\n100647        0.0025       0.00197        500   7000   9000      576.89\n100648        0.0025       0.00198        500   7000   9000      575.32\n100649        0.0025       0.00199        500   7000   9000      573.76\n100650        0.0025       0.00200        500   7000   9000      572.20\n\n[100651 rows x 6 columns]",
      "text/html": "<div>\n<style scoped>\n    .dataframe tbody tr th:only-of-type {\n        vertical-align: middle;\n    }\n\n    .dataframe tbody tr th {\n        vertical-align: top;\n    }\n\n    .dataframe thead th {\n        text-align: right;\n    }\n</style>\n<table border=\"1\" class=\"dataframe\">\n  <thead>\n    <tr style=\"text-align: right;\">\n      <th></th>\n      <th>X-Koordinate</th>\n      <th>Y-Koordinate</th>\n      <th>Zeitpunkt</th>\n      <th>Strom</th>\n      <th>Kraft</th>\n      <th>Temperatur</th>\n    </tr>\n  </thead>\n  <tbody>\n    <tr>\n      <th>0</th>\n      <td>0.0000</td>\n      <td>-0.00200</td>\n      <td>500</td>\n      <td>7000</td>\n      <td>9000</td>\n      <td>669.05</td>\n    </tr>\n    <tr>\n      <th>1</th>\n      <td>0.0000</td>\n      <td>-0.00199</td>\n      <td>500</td>\n      <td>7000</td>\n      <td>9000</td>\n      <td>675.83</td>\n    </tr>\n    <tr>\n      <th>2</th>\n      <td>0.0000</td>\n      <td>-0.00198</td>\n      <td>500</td>\n      <td>7000</td>\n      <td>9000</td>\n      <td>682.81</td>\n    </tr>\n    <tr>\n      <th>3</th>\n      <td>0.0000</td>\n      <td>-0.00197</td>\n      <td>500</td>\n      <td>7000</td>\n      <td>9000</td>\n      <td>689.82</td>\n    </tr>\n    <tr>\n      <th>4</th>\n      <td>0.0000</td>\n      <td>-0.00196</td>\n      <td>500</td>\n      <td>7000</td>\n      <td>9000</td>\n      <td>696.80</td>\n    </tr>\n    <tr>\n      <th>...</th>\n      <td>...</td>\n      <td>...</td>\n      <td>...</td>\n      <td>...</td>\n      <td>...</td>\n      <td>...</td>\n    </tr>\n    <tr>\n      <th>100646</th>\n      <td>0.0025</td>\n      <td>0.00196</td>\n      <td>500</td>\n      <td>7000</td>\n      <td>9000</td>\n      <td>578.47</td>\n    </tr>\n    <tr>\n      <th>100647</th>\n      <td>0.0025</td>\n      <td>0.00197</td>\n      <td>500</td>\n      <td>7000</td>\n      <td>9000</td>\n      <td>576.89</td>\n    </tr>\n    <tr>\n      <th>100648</th>\n      <td>0.0025</td>\n      <td>0.00198</td>\n      <td>500</td>\n      <td>7000</td>\n      <td>9000</td>\n      <td>575.32</td>\n    </tr>\n    <tr>\n      <th>100649</th>\n      <td>0.0025</td>\n      <td>0.00199</td>\n      <td>500</td>\n      <td>7000</td>\n      <td>9000</td>\n      <td>573.76</td>\n    </tr>\n    <tr>\n      <th>100650</th>\n      <td>0.0025</td>\n      <td>0.00200</td>\n      <td>500</td>\n      <td>7000</td>\n      <td>9000</td>\n      <td>572.20</td>\n    </tr>\n  </tbody>\n</table>\n<p>100651 rows × 6 columns</p>\n</div>"
     },
     "execution_count": 4,
     "metadata": {},
     "output_type": "execute_result"
    }
   ],
   "source": [
    "data = pd.read_pickle('C:/Users/erikm/Desktop/Diplomarbeit Erik Marr/Daten/Finish/Finish_D1_I7000_F9000/TPath_500_finish_data_D1.pkl')\n",
    "data"
   ]
  },
  {
   "cell_type": "code",
   "execution_count": 5,
   "id": "966e3c74",
   "metadata": {
    "ExecuteTime": {
     "end_time": "2024-04-15T12:09:56.446061Z",
     "start_time": "2024-04-15T12:09:56.405170900Z"
    }
   },
   "outputs": [
    {
     "data": {
      "text/plain": "count    100651.000000\nmean       1144.030064\nstd         264.135723\nmin         572.200000\n25%         937.330000\n50%        1201.100000\n75%        1368.700000\nmax        1520.000000\nName: Temperatur, dtype: float64"
     },
     "execution_count": 5,
     "metadata": {},
     "output_type": "execute_result"
    }
   ],
   "source": [
    "# Droppen der Spalten, welche nicht benötigt werden\n",
    "df = data.drop(data.columns[2:5], axis = 1)\n",
    "df['Temperatur'].describe()"
   ]
  },
  {
   "cell_type": "code",
   "execution_count": 6,
   "id": "8783d1d6",
   "metadata": {
    "ExecuteTime": {
     "end_time": "2024-04-15T12:09:56.650740Z",
     "start_time": "2024-04-15T12:09:56.599559700Z"
    }
   },
   "outputs": [
    {
     "name": "stdout",
     "output_type": "stream",
     "text": [
      "       X-Koordinate  Y-Koordinate  Temperatur\n",
      "83145       0.00207      -0.00062      1282.2\n",
      "66701       0.00166      -0.00065      1347.6\n",
      "91325       0.00227       0.00098      1094.6\n",
      "46593       0.00116      -0.00123      1175.7\n",
      "49518       0.00123      -0.00005      1459.2\n",
      "...             ...           ...         ...\n",
      "6265        0.00015       0.00050      1439.1\n",
      "54886       0.00136       0.00150       876.7\n",
      "76820       0.00191       0.00029      1335.8\n",
      "860         0.00002      -0.00142      1071.2\n",
      "15795       0.00039      -0.00044      1488.1\n",
      "\n",
      "[100651 rows x 3 columns]\n"
     ]
    },
    {
     "data": {
      "text/plain": "        X-Koordinate  Y-Koordinate  Temperatur\n0            0.00207      -0.00062      1282.2\n1            0.00166      -0.00065      1347.6\n2            0.00227       0.00098      1094.6\n3            0.00116      -0.00123      1175.7\n4            0.00123      -0.00005      1459.2\n...              ...           ...         ...\n100646       0.00015       0.00050      1439.1\n100647       0.00136       0.00150       876.7\n100648       0.00191       0.00029      1335.8\n100649       0.00002      -0.00142      1071.2\n100650       0.00039      -0.00044      1488.1\n\n[100651 rows x 3 columns]",
      "text/html": "<div>\n<style scoped>\n    .dataframe tbody tr th:only-of-type {\n        vertical-align: middle;\n    }\n\n    .dataframe tbody tr th {\n        vertical-align: top;\n    }\n\n    .dataframe thead th {\n        text-align: right;\n    }\n</style>\n<table border=\"1\" class=\"dataframe\">\n  <thead>\n    <tr style=\"text-align: right;\">\n      <th></th>\n      <th>X-Koordinate</th>\n      <th>Y-Koordinate</th>\n      <th>Temperatur</th>\n    </tr>\n  </thead>\n  <tbody>\n    <tr>\n      <th>0</th>\n      <td>0.00207</td>\n      <td>-0.00062</td>\n      <td>1282.2</td>\n    </tr>\n    <tr>\n      <th>1</th>\n      <td>0.00166</td>\n      <td>-0.00065</td>\n      <td>1347.6</td>\n    </tr>\n    <tr>\n      <th>2</th>\n      <td>0.00227</td>\n      <td>0.00098</td>\n      <td>1094.6</td>\n    </tr>\n    <tr>\n      <th>3</th>\n      <td>0.00116</td>\n      <td>-0.00123</td>\n      <td>1175.7</td>\n    </tr>\n    <tr>\n      <th>4</th>\n      <td>0.00123</td>\n      <td>-0.00005</td>\n      <td>1459.2</td>\n    </tr>\n    <tr>\n      <th>...</th>\n      <td>...</td>\n      <td>...</td>\n      <td>...</td>\n    </tr>\n    <tr>\n      <th>100646</th>\n      <td>0.00015</td>\n      <td>0.00050</td>\n      <td>1439.1</td>\n    </tr>\n    <tr>\n      <th>100647</th>\n      <td>0.00136</td>\n      <td>0.00150</td>\n      <td>876.7</td>\n    </tr>\n    <tr>\n      <th>100648</th>\n      <td>0.00191</td>\n      <td>0.00029</td>\n      <td>1335.8</td>\n    </tr>\n    <tr>\n      <th>100649</th>\n      <td>0.00002</td>\n      <td>-0.00142</td>\n      <td>1071.2</td>\n    </tr>\n    <tr>\n      <th>100650</th>\n      <td>0.00039</td>\n      <td>-0.00044</td>\n      <td>1488.1</td>\n    </tr>\n  </tbody>\n</table>\n<p>100651 rows × 3 columns</p>\n</div>"
     },
     "execution_count": 6,
     "metadata": {},
     "output_type": "execute_result"
    }
   ],
   "source": [
    "#Randomisieren der Dataframes und Reset des Index\n",
    "df1 = df.sample(frac=1, random_state=42)  # Hier wird 42 als Random State verwendet, um die Ergebnisse reproduzierbar zu machen\n",
    "print(df1)\n",
    "df_reset = df1.reset_index(drop=True)\n",
    "df_reset"
   ]
  },
  {
   "cell_type": "code",
   "execution_count": 7,
   "id": "a4e72a16",
   "metadata": {
    "ExecuteTime": {
     "end_time": "2024-04-15T12:09:56.825036400Z",
     "start_time": "2024-04-15T12:09:56.764423500Z"
    }
   },
   "outputs": [],
   "source": [
    "# Festlegen der Gesamtdaten\n",
    "label = df_reset[\"Temperatur\"]\n",
    "# Korrektur: Verwenden Sie den Spaltennamen direkt, ohne Indexierung der columns-Eigenschaft\n",
    "df1 = df_reset.drop(\"Temperatur\", axis=1)\n",
    "X = df1\n",
    "y = label"
   ]
  },
  {
   "cell_type": "markdown",
   "source": [],
   "metadata": {
    "collapsed": false
   },
   "id": "f7fa289a50d87423"
  },
  {
   "cell_type": "code",
   "execution_count": 8,
   "id": "e694a236",
   "metadata": {
    "ExecuteTime": {
     "end_time": "2024-04-15T12:09:57.125191300Z",
     "start_time": "2024-04-15T12:09:57.082760600Z"
    }
   },
   "outputs": [
    {
     "data": {
      "text/plain": "        X-Koordinate  Y-Koordinate\ncount  100651.000000  1.006510e+05\nmean        0.001250  1.103042e-20\nstd         0.000725  1.157589e-03\nmin         0.000000 -2.000000e-03\n25%         0.000620 -1.000000e-03\n50%         0.001250  4.529900e-18\n75%         0.001880  1.000000e-03\nmax         0.002500  2.000000e-03",
      "text/html": "<div>\n<style scoped>\n    .dataframe tbody tr th:only-of-type {\n        vertical-align: middle;\n    }\n\n    .dataframe tbody tr th {\n        vertical-align: top;\n    }\n\n    .dataframe thead th {\n        text-align: right;\n    }\n</style>\n<table border=\"1\" class=\"dataframe\">\n  <thead>\n    <tr style=\"text-align: right;\">\n      <th></th>\n      <th>X-Koordinate</th>\n      <th>Y-Koordinate</th>\n    </tr>\n  </thead>\n  <tbody>\n    <tr>\n      <th>count</th>\n      <td>100651.000000</td>\n      <td>1.006510e+05</td>\n    </tr>\n    <tr>\n      <th>mean</th>\n      <td>0.001250</td>\n      <td>1.103042e-20</td>\n    </tr>\n    <tr>\n      <th>std</th>\n      <td>0.000725</td>\n      <td>1.157589e-03</td>\n    </tr>\n    <tr>\n      <th>min</th>\n      <td>0.000000</td>\n      <td>-2.000000e-03</td>\n    </tr>\n    <tr>\n      <th>25%</th>\n      <td>0.000620</td>\n      <td>-1.000000e-03</td>\n    </tr>\n    <tr>\n      <th>50%</th>\n      <td>0.001250</td>\n      <td>4.529900e-18</td>\n    </tr>\n    <tr>\n      <th>75%</th>\n      <td>0.001880</td>\n      <td>1.000000e-03</td>\n    </tr>\n    <tr>\n      <th>max</th>\n      <td>0.002500</td>\n      <td>2.000000e-03</td>\n    </tr>\n  </tbody>\n</table>\n</div>"
     },
     "execution_count": 8,
     "metadata": {},
     "output_type": "execute_result"
    }
   ],
   "source": [
    "X.describe()"
   ]
  },
  {
   "cell_type": "code",
   "execution_count": 9,
   "id": "3f3303b4",
   "metadata": {
    "ExecuteTime": {
     "end_time": "2024-04-15T12:09:57.327761300Z",
     "start_time": "2024-04-15T12:09:57.288702300Z"
    }
   },
   "outputs": [
    {
     "data": {
      "text/plain": "count    100651.000000\nmean       1144.030064\nstd         264.135723\nmin         572.200000\n25%         937.330000\n50%        1201.100000\n75%        1368.700000\nmax        1520.000000\nName: Temperatur, dtype: float64"
     },
     "execution_count": 9,
     "metadata": {},
     "output_type": "execute_result"
    }
   ],
   "source": [
    "y.describe()\n"
   ]
  },
  {
   "cell_type": "code",
   "execution_count": 10,
   "id": "e3ad8da0",
   "metadata": {
    "ExecuteTime": {
     "end_time": "2024-04-15T12:09:57.485475800Z",
     "start_time": "2024-04-15T12:09:57.441878500Z"
    }
   },
   "outputs": [],
   "source": [
    "# Einteiulng in Trainings- und Testdaten\n",
    "X_train, X_test, y_train, y_test = train_test_split(X, y, test_size=0.20, random_state=42)\n"
   ]
  },
  {
   "cell_type": "code",
   "execution_count": 11,
   "id": "9c705edb",
   "metadata": {
    "ExecuteTime": {
     "end_time": "2024-04-15T12:09:58.106265600Z",
     "start_time": "2024-04-15T12:09:58.093239Z"
    }
   },
   "outputs": [],
   "source": [
    "# Initialisiere einen MinMaxScaler für die Features\n",
    "scaler_features = MinMaxScaler()\n",
    "scaler_features2 = MinMaxScaler()\n",
    "# Skaliere X_train und X_test\n",
    "X_train_scaled = scaler_features.fit_transform(X_train)\n",
    "X_test_scaled = scaler_features.transform(X_test)  # Testdaten werden mithilfe des auf die Trainingsdaten gefitteten scaler skaliert\n",
    "\n",
    "# eigener Scaler für die Label (Temperaturen)\n",
    "scaler_target = MinMaxScaler()\n",
    "y_train_scaled = scaler_target.fit_transform(y_train.values.reshape(-1, 1))\n",
    "y_test_scaled = scaler_target.transform(y_test.values.reshape(-1, 1))\n"
   ]
  },
  {
   "cell_type": "code",
   "execution_count": 12,
   "id": "bbefe631e495b483",
   "metadata": {
    "ExecuteTime": {
     "end_time": "2024-04-15T12:09:58.309501600Z",
     "start_time": "2024-04-15T12:09:58.285427Z"
    }
   },
   "outputs": [
    {
     "data": {
      "text/plain": "array([[0.416 , 0.5725],\n       [0.812 , 0.7325],\n       [0.628 , 0.5075],\n       ...,\n       [0.604 , 0.3875],\n       [0.748 , 0.65  ],\n       [0.028 , 0.6225]])"
     },
     "execution_count": 12,
     "metadata": {},
     "output_type": "execute_result"
    }
   ],
   "source": [
    "X_train_scaled"
   ]
  },
  {
   "cell_type": "markdown",
   "source": [
    "# Ende der Datenvorverarbeitung"
   ],
   "metadata": {
    "collapsed": false
   },
   "id": "bbcdf8ff6114c7a6"
  },
  {
   "cell_type": "markdown",
   "source": [
    "# Machine Learning Modell mit Konfiguration je nach Dateiname"
   ],
   "metadata": {
    "collapsed": false
   },
   "id": "ca42b21ba64183fa"
  },
  {
   "cell_type": "code",
   "execution_count": 28,
   "outputs": [
    {
     "name": "stdout",
     "output_type": "stream",
     "text": [
      "Epoch 1/400\n",
      "645/645 [==============================] - 3s 3ms/step - loss: 0.1522 - mae: 0.1573 - val_loss: 0.0617 - val_mae: 0.0159\n",
      "Epoch 2/400\n",
      "645/645 [==============================] - 1s 2ms/step - loss: 0.0550 - mae: 0.0118 - val_loss: 0.0500 - val_mae: 0.0195\n",
      "Epoch 3/400\n",
      "645/645 [==============================] - 1s 2ms/step - loss: 0.0462 - mae: 0.0086 - val_loss: 0.0440 - val_mae: 0.0190\n",
      "Epoch 4/400\n",
      "645/645 [==============================] - 1s 2ms/step - loss: 0.0421 - mae: 0.0123 - val_loss: 0.0398 - val_mae: 0.0043\n",
      "Epoch 5/400\n",
      "645/645 [==============================] - 1s 2ms/step - loss: 0.0388 - mae: 0.0102 - val_loss: 0.0375 - val_mae: 0.0087\n",
      "Epoch 6/400\n",
      "645/645 [==============================] - 2s 2ms/step - loss: 0.0367 - mae: 0.0096 - val_loss: 0.0355 - val_mae: 0.0061\n",
      "Epoch 7/400\n",
      "645/645 [==============================] - 1s 2ms/step - loss: 0.0348 - mae: 0.0101 - val_loss: 0.0336 - val_mae: 0.0075\n",
      "Epoch 8/400\n",
      "645/645 [==============================] - 1s 2ms/step - loss: 0.0328 - mae: 0.0065 - val_loss: 0.0325 - val_mae: 0.0209\n",
      "Epoch 9/400\n",
      "645/645 [==============================] - 1s 2ms/step - loss: 0.0311 - mae: 0.0076 - val_loss: 0.0300 - val_mae: 0.0042\n",
      "Epoch 10/400\n",
      "645/645 [==============================] - 1s 2ms/step - loss: 0.0294 - mae: 0.0085 - val_loss: 0.0310 - val_mae: 0.0377\n",
      "Epoch 11/400\n",
      "645/645 [==============================] - 1s 2ms/step - loss: 0.0276 - mae: 0.0083 - val_loss: 0.0268 - val_mae: 0.0100\n",
      "Epoch 12/400\n",
      "645/645 [==============================] - 1s 2ms/step - loss: 0.0263 - mae: 0.0101 - val_loss: 0.0252 - val_mae: 0.0039\n",
      "Epoch 13/400\n",
      "645/645 [==============================] - 1s 2ms/step - loss: 0.0246 - mae: 0.0062 - val_loss: 0.0237 - val_mae: 0.0042\n",
      "Epoch 14/400\n",
      "645/645 [==============================] - 1s 2ms/step - loss: 0.0231 - mae: 0.0080 - val_loss: 0.0226 - val_mae: 0.0132\n",
      "Epoch 15/400\n",
      "645/645 [==============================] - 1s 2ms/step - loss: 0.0217 - mae: 0.0069 - val_loss: 0.0210 - val_mae: 0.0041\n",
      "Epoch 16/400\n",
      "645/645 [==============================] - 1s 2ms/step - loss: 0.0205 - mae: 0.0078 - val_loss: 0.0197 - val_mae: 0.0032\n",
      "Epoch 17/400\n",
      "645/645 [==============================] - 1s 2ms/step - loss: 0.0193 - mae: 0.0070 - val_loss: 0.0186 - val_mae: 0.0034\n",
      "Epoch 18/400\n",
      "645/645 [==============================] - 1s 2ms/step - loss: 0.0182 - mae: 0.0061 - val_loss: 0.0177 - val_mae: 0.0039\n",
      "Epoch 19/400\n",
      "645/645 [==============================] - 1s 2ms/step - loss: 0.0173 - mae: 0.0070 - val_loss: 0.0169 - val_mae: 0.0108\n",
      "Epoch 20/400\n",
      "645/645 [==============================] - 1s 2ms/step - loss: 0.0165 - mae: 0.0064 - val_loss: 0.0160 - val_mae: 0.0045\n",
      "Epoch 21/400\n",
      "645/645 [==============================] - 1s 2ms/step - loss: 0.0157 - mae: 0.0062 - val_loss: 0.0153 - val_mae: 0.0029\n",
      "Epoch 22/400\n",
      "645/645 [==============================] - 1s 2ms/step - loss: 0.0150 - mae: 0.0058 - val_loss: 0.0146 - val_mae: 0.0029\n",
      "Epoch 23/400\n",
      "645/645 [==============================] - 1s 2ms/step - loss: 0.0144 - mae: 0.0061 - val_loss: 0.0140 - val_mae: 0.0024\n",
      "Epoch 24/400\n",
      "645/645 [==============================] - 1s 2ms/step - loss: 0.0138 - mae: 0.0057 - val_loss: 0.0135 - val_mae: 0.0043\n",
      "Epoch 25/400\n",
      "645/645 [==============================] - 1s 2ms/step - loss: 0.0133 - mae: 0.0052 - val_loss: 0.0131 - val_mae: 0.0070\n",
      "Epoch 26/400\n",
      "645/645 [==============================] - 1s 2ms/step - loss: 0.0129 - mae: 0.0065 - val_loss: 0.0126 - val_mae: 0.0053\n",
      "Epoch 27/400\n",
      "645/645 [==============================] - 1s 2ms/step - loss: 0.0124 - mae: 0.0046 - val_loss: 0.0123 - val_mae: 0.0127\n",
      "Epoch 28/400\n",
      "645/645 [==============================] - 1s 2ms/step - loss: 0.0120 - mae: 0.0055 - val_loss: 0.0117 - val_mae: 0.0039\n",
      "Epoch 29/400\n",
      "645/645 [==============================] - 1s 2ms/step - loss: 0.0116 - mae: 0.0054 - val_loss: 0.0113 - val_mae: 0.0024\n",
      "Epoch 30/400\n",
      "645/645 [==============================] - 1s 2ms/step - loss: 0.0112 - mae: 0.0062 - val_loss: 0.0110 - val_mae: 0.0032\n",
      "Epoch 31/400\n",
      "645/645 [==============================] - 1s 2ms/step - loss: 0.0109 - mae: 0.0055 - val_loss: 0.0121 - val_mae: 0.0295\n",
      "Epoch 32/400\n",
      "645/645 [==============================] - 1s 2ms/step - loss: 0.0105 - mae: 0.0037 - val_loss: 0.0104 - val_mae: 0.0045\n",
      "Epoch 33/400\n",
      "645/645 [==============================] - 1s 2ms/step - loss: 0.0103 - mae: 0.0053 - val_loss: 0.0101 - val_mae: 0.0033\n",
      "Epoch 34/400\n",
      "645/645 [==============================] - 1s 2ms/step - loss: 0.0099 - mae: 0.0045 - val_loss: 0.0102 - val_mae: 0.0163\n",
      "Epoch 35/400\n",
      "645/645 [==============================] - 1s 2ms/step - loss: 0.0097 - mae: 0.0045 - val_loss: 0.0095 - val_mae: 0.0027\n",
      "Epoch 36/400\n",
      "645/645 [==============================] - 1s 2ms/step - loss: 0.0094 - mae: 0.0042 - val_loss: 0.0093 - val_mae: 0.0058\n",
      "Epoch 37/400\n",
      "645/645 [==============================] - 1s 2ms/step - loss: 0.0092 - mae: 0.0052 - val_loss: 0.0092 - val_mae: 0.0097\n",
      "Epoch 38/400\n",
      "645/645 [==============================] - 1s 2ms/step - loss: 0.0089 - mae: 0.0031 - val_loss: 0.0088 - val_mae: 0.0020\n",
      "Epoch 39/400\n",
      "645/645 [==============================] - 1s 2ms/step - loss: 0.0087 - mae: 0.0042 - val_loss: 0.0085 - val_mae: 0.0026\n",
      "Epoch 40/400\n",
      "645/645 [==============================] - 1s 2ms/step - loss: 0.0085 - mae: 0.0054 - val_loss: 0.0083 - val_mae: 0.0020\n",
      "Epoch 41/400\n",
      "645/645 [==============================] - 1s 2ms/step - loss: 0.0082 - mae: 0.0032 - val_loss: 0.0081 - val_mae: 0.0048\n",
      "Epoch 42/400\n",
      "645/645 [==============================] - 1s 2ms/step - loss: 0.0081 - mae: 0.0049 - val_loss: 0.0079 - val_mae: 0.0031\n",
      "Epoch 43/400\n",
      "645/645 [==============================] - 1s 2ms/step - loss: 0.0079 - mae: 0.0037 - val_loss: 0.0077 - val_mae: 0.0025\n",
      "Epoch 44/400\n",
      "645/645 [==============================] - 1s 2ms/step - loss: 0.0077 - mae: 0.0035 - val_loss: 0.0075 - val_mae: 0.0017\n",
      "Epoch 45/400\n",
      "645/645 [==============================] - 1s 2ms/step - loss: 0.0075 - mae: 0.0037 - val_loss: 0.0074 - val_mae: 0.0043\n",
      "Epoch 46/400\n",
      "645/645 [==============================] - 1s 2ms/step - loss: 0.0073 - mae: 0.0037 - val_loss: 0.0072 - val_mae: 0.0033\n",
      "Epoch 47/400\n",
      "645/645 [==============================] - 1s 2ms/step - loss: 0.0071 - mae: 0.0041 - val_loss: 0.0070 - val_mae: 0.0040\n",
      "Epoch 48/400\n",
      "645/645 [==============================] - 1s 2ms/step - loss: 0.0070 - mae: 0.0039 - val_loss: 0.0069 - val_mae: 0.0032\n",
      "Epoch 49/400\n",
      "645/645 [==============================] - 1s 2ms/step - loss: 0.0068 - mae: 0.0028 - val_loss: 0.0067 - val_mae: 0.0019\n",
      "Epoch 50/400\n",
      "645/645 [==============================] - 1s 2ms/step - loss: 0.0066 - mae: 0.0036 - val_loss: 0.0066 - val_mae: 0.0033\n",
      "Epoch 51/400\n",
      "645/645 [==============================] - 1s 2ms/step - loss: 0.0065 - mae: 0.0039 - val_loss: 0.0064 - val_mae: 0.0050\n",
      "Epoch 52/400\n",
      "645/645 [==============================] - 1s 2ms/step - loss: 0.0063 - mae: 0.0035 - val_loss: 0.0063 - val_mae: 0.0075\n",
      "Epoch 53/400\n",
      "645/645 [==============================] - 1s 2ms/step - loss: 0.0062 - mae: 0.0035 - val_loss: 0.0061 - val_mae: 0.0014\n",
      "Epoch 54/400\n",
      "645/645 [==============================] - 1s 2ms/step - loss: 0.0061 - mae: 0.0036 - val_loss: 0.0060 - val_mae: 0.0023\n",
      "Epoch 55/400\n",
      "645/645 [==============================] - 1s 2ms/step - loss: 0.0060 - mae: 0.0026 - val_loss: 0.0059 - val_mae: 0.0054\n",
      "Epoch 56/400\n",
      "645/645 [==============================] - 1s 2ms/step - loss: 0.0058 - mae: 0.0033 - val_loss: 0.0058 - val_mae: 0.0035\n",
      "Epoch 57/400\n",
      "645/645 [==============================] - 1s 2ms/step - loss: 0.0057 - mae: 0.0034 - val_loss: 0.0058 - val_mae: 0.0094\n",
      "Epoch 58/400\n",
      "645/645 [==============================] - 1s 2ms/step - loss: 0.0056 - mae: 0.0036 - val_loss: 0.0055 - val_mae: 0.0017\n",
      "Epoch 59/400\n",
      "645/645 [==============================] - 1s 2ms/step - loss: 0.0055 - mae: 0.0033 - val_loss: 0.0054 - val_mae: 0.0021\n",
      "Epoch 60/400\n",
      "645/645 [==============================] - 1s 2ms/step - loss: 0.0054 - mae: 0.0032 - val_loss: 0.0053 - val_mae: 0.0041\n",
      "Epoch 61/400\n",
      "645/645 [==============================] - 1s 2ms/step - loss: 0.0053 - mae: 0.0031 - val_loss: 0.0052 - val_mae: 0.0020\n",
      "Epoch 62/400\n",
      "645/645 [==============================] - 1s 2ms/step - loss: 0.0052 - mae: 0.0030 - val_loss: 0.0051 - val_mae: 0.0025\n",
      "Epoch 63/400\n",
      "645/645 [==============================] - 1s 2ms/step - loss: 0.0051 - mae: 0.0037 - val_loss: 0.0052 - val_mae: 0.0108\n",
      "Epoch 64/400\n",
      "645/645 [==============================] - 1s 2ms/step - loss: 0.0050 - mae: 0.0022 - val_loss: 0.0049 - val_mae: 0.0038\n",
      "Epoch 65/400\n",
      "645/645 [==============================] - 1s 2ms/step - loss: 0.0049 - mae: 0.0031 - val_loss: 0.0049 - val_mae: 0.0075\n",
      "Epoch 66/400\n",
      "645/645 [==============================] - 1s 2ms/step - loss: 0.0048 - mae: 0.0029 - val_loss: 0.0050 - val_mae: 0.0114\n",
      "Epoch 67/400\n",
      "645/645 [==============================] - 1s 2ms/step - loss: 0.0047 - mae: 0.0026 - val_loss: 0.0046 - val_mae: 0.0021\n",
      "Epoch 68/400\n",
      "645/645 [==============================] - 1s 2ms/step - loss: 0.0046 - mae: 0.0030 - val_loss: 0.0046 - val_mae: 0.0026\n",
      "Epoch 69/400\n",
      "645/645 [==============================] - 1s 2ms/step - loss: 0.0045 - mae: 0.0032 - val_loss: 0.0045 - val_mae: 0.0050\n",
      "Epoch 70/400\n",
      "645/645 [==============================] - 1s 2ms/step - loss: 0.0044 - mae: 0.0028 - val_loss: 0.0044 - val_mae: 0.0021\n",
      "Epoch 71/400\n",
      "645/645 [==============================] - 1s 2ms/step - loss: 0.0043 - mae: 0.0029 - val_loss: 0.0043 - val_mae: 0.0018\n",
      "Epoch 72/400\n",
      "645/645 [==============================] - 1s 2ms/step - loss: 0.0043 - mae: 0.0028 - val_loss: 0.0042 - val_mae: 0.0026\n",
      "Epoch 73/400\n",
      "645/645 [==============================] - 1s 2ms/step - loss: 0.0042 - mae: 0.0027 - val_loss: 0.0041 - val_mae: 0.0020\n",
      "Epoch 74/400\n",
      "645/645 [==============================] - 1s 2ms/step - loss: 0.0041 - mae: 0.0030 - val_loss: 0.0041 - val_mae: 0.0030\n",
      "Epoch 75/400\n",
      "645/645 [==============================] - 1s 2ms/step - loss: 0.0040 - mae: 0.0026 - val_loss: 0.0040 - val_mae: 0.0039\n",
      "Epoch 76/400\n",
      "645/645 [==============================] - 1s 2ms/step - loss: 0.0040 - mae: 0.0030 - val_loss: 0.0039 - val_mae: 0.0014\n",
      "Epoch 77/400\n",
      "645/645 [==============================] - 1s 2ms/step - loss: 0.0039 - mae: 0.0025 - val_loss: 0.0038 - val_mae: 0.0022\n",
      "Epoch 78/400\n",
      "645/645 [==============================] - 1s 2ms/step - loss: 0.0038 - mae: 0.0026 - val_loss: 0.0038 - val_mae: 0.0034\n",
      "Epoch 79/400\n",
      "645/645 [==============================] - 1s 2ms/step - loss: 0.0037 - mae: 0.0029 - val_loss: 0.0037 - val_mae: 0.0048\n",
      "Epoch 80/400\n",
      "645/645 [==============================] - 1s 2ms/step - loss: 0.0037 - mae: 0.0028 - val_loss: 0.0037 - val_mae: 0.0057\n",
      "Epoch 81/400\n",
      "645/645 [==============================] - 1s 2ms/step - loss: 0.0036 - mae: 0.0031 - val_loss: 0.0036 - val_mae: 0.0025\n",
      "Epoch 82/400\n",
      "645/645 [==============================] - 1s 2ms/step - loss: 0.0035 - mae: 0.0025 - val_loss: 0.0035 - val_mae: 0.0040\n",
      "Epoch 83/400\n",
      "645/645 [==============================] - 1s 2ms/step - loss: 0.0035 - mae: 0.0025 - val_loss: 0.0035 - val_mae: 0.0030\n",
      "Epoch 84/400\n",
      "645/645 [==============================] - 1s 2ms/step - loss: 0.0034 - mae: 0.0027 - val_loss: 0.0034 - val_mae: 0.0020\n",
      "Epoch 85/400\n",
      "645/645 [==============================] - 1s 2ms/step - loss: 0.0034 - mae: 0.0028 - val_loss: 0.0033 - val_mae: 0.0023\n",
      "Epoch 86/400\n",
      "645/645 [==============================] - 1s 2ms/step - loss: 0.0033 - mae: 0.0023 - val_loss: 0.0033 - val_mae: 0.0016\n",
      "Epoch 87/400\n",
      "645/645 [==============================] - 1s 2ms/step - loss: 0.0032 - mae: 0.0027 - val_loss: 0.0032 - val_mae: 0.0030\n",
      "Epoch 88/400\n",
      "645/645 [==============================] - 1s 2ms/step - loss: 0.0032 - mae: 0.0025 - val_loss: 0.0032 - val_mae: 0.0041\n",
      "Epoch 89/400\n",
      "645/645 [==============================] - 1s 2ms/step - loss: 0.0031 - mae: 0.0027 - val_loss: 0.0031 - val_mae: 0.0021\n",
      "Epoch 90/400\n",
      "645/645 [==============================] - 1s 2ms/step - loss: 0.0031 - mae: 0.0024 - val_loss: 0.0030 - val_mae: 0.0013\n",
      "Epoch 91/400\n",
      "645/645 [==============================] - 1s 2ms/step - loss: 0.0030 - mae: 0.0030 - val_loss: 0.0030 - val_mae: 0.0012\n",
      "Epoch 92/400\n",
      "645/645 [==============================] - 1s 2ms/step - loss: 0.0030 - mae: 0.0022 - val_loss: 0.0029 - val_mae: 0.0012\n",
      "Epoch 93/400\n",
      "645/645 [==============================] - 1s 2ms/step - loss: 0.0029 - mae: 0.0027 - val_loss: 0.0029 - val_mae: 0.0044\n",
      "Epoch 94/400\n",
      "645/645 [==============================] - 1s 2ms/step - loss: 0.0029 - mae: 0.0026 - val_loss: 0.0028 - val_mae: 0.0015\n",
      "Epoch 95/400\n",
      "645/645 [==============================] - 1s 2ms/step - loss: 0.0028 - mae: 0.0027 - val_loss: 0.0029 - val_mae: 0.0093\n",
      "Epoch 96/400\n",
      "645/645 [==============================] - 1s 2ms/step - loss: 0.0028 - mae: 0.0024 - val_loss: 0.0027 - val_mae: 0.0014\n",
      "Epoch 97/400\n",
      "645/645 [==============================] - 1s 2ms/step - loss: 0.0027 - mae: 0.0022 - val_loss: 0.0027 - val_mae: 0.0024\n",
      "Epoch 98/400\n",
      "645/645 [==============================] - 1s 2ms/step - loss: 0.0027 - mae: 0.0026 - val_loss: 0.0026 - val_mae: 0.0028\n",
      "Epoch 99/400\n",
      "645/645 [==============================] - 1s 2ms/step - loss: 0.0026 - mae: 0.0025 - val_loss: 0.0026 - val_mae: 0.0012\n",
      "Epoch 100/400\n",
      "645/645 [==============================] - 1s 2ms/step - loss: 0.0026 - mae: 0.0024 - val_loss: 0.0025 - val_mae: 0.0020\n",
      "Epoch 101/400\n",
      "645/645 [==============================] - 1s 2ms/step - loss: 0.0025 - mae: 0.0025 - val_loss: 0.0025 - val_mae: 0.0031\n",
      "Epoch 102/400\n",
      "645/645 [==============================] - 1s 2ms/step - loss: 0.0025 - mae: 0.0025 - val_loss: 0.0024 - val_mae: 0.0031\n",
      "Epoch 103/400\n",
      "645/645 [==============================] - 1s 2ms/step - loss: 0.0024 - mae: 0.0025 - val_loss: 0.0024 - val_mae: 0.0029\n",
      "Epoch 104/400\n",
      "645/645 [==============================] - 1s 2ms/step - loss: 0.0024 - mae: 0.0020 - val_loss: 0.0024 - val_mae: 0.0079\n",
      "Epoch 105/400\n",
      "645/645 [==============================] - 1s 2ms/step - loss: 0.0023 - mae: 0.0024 - val_loss: 0.0023 - val_mae: 0.0014\n",
      "Epoch 106/400\n",
      "645/645 [==============================] - 1s 2ms/step - loss: 0.0023 - mae: 0.0026 - val_loss: 0.0023 - val_mae: 0.0026\n",
      "Epoch 107/400\n",
      "645/645 [==============================] - 1s 2ms/step - loss: 0.0022 - mae: 0.0022 - val_loss: 0.0023 - val_mae: 0.0049\n",
      "Epoch 108/400\n",
      "645/645 [==============================] - 1s 2ms/step - loss: 0.0022 - mae: 0.0025 - val_loss: 0.0022 - val_mae: 0.0013\n",
      "Epoch 109/400\n",
      "645/645 [==============================] - 1s 2ms/step - loss: 0.0022 - mae: 0.0025 - val_loss: 0.0021 - val_mae: 0.0022\n",
      "Epoch 110/400\n",
      "645/645 [==============================] - 1s 2ms/step - loss: 0.0021 - mae: 0.0020 - val_loss: 0.0021 - val_mae: 0.0025\n",
      "Epoch 111/400\n",
      "645/645 [==============================] - 2s 2ms/step - loss: 0.0021 - mae: 0.0023 - val_loss: 0.0021 - val_mae: 0.0018\n",
      "Epoch 112/400\n",
      "645/645 [==============================] - 1s 2ms/step - loss: 0.0020 - mae: 0.0024 - val_loss: 0.0021 - val_mae: 0.0065\n",
      "Epoch 113/400\n",
      "645/645 [==============================] - 2s 2ms/step - loss: 0.0020 - mae: 0.0024 - val_loss: 0.0020 - val_mae: 0.0029\n",
      "Epoch 114/400\n",
      "645/645 [==============================] - 1s 2ms/step - loss: 0.0020 - mae: 0.0022 - val_loss: 0.0019 - val_mae: 0.0023\n",
      "Epoch 115/400\n",
      "645/645 [==============================] - 1s 2ms/step - loss: 0.0019 - mae: 0.0024 - val_loss: 0.0019 - val_mae: 0.0016\n",
      "Epoch 116/400\n",
      "645/645 [==============================] - 1s 2ms/step - loss: 0.0019 - mae: 0.0023 - val_loss: 0.0019 - val_mae: 0.0012\n",
      "Epoch 117/400\n",
      "645/645 [==============================] - 1s 2ms/step - loss: 0.0019 - mae: 0.0022 - val_loss: 0.0018 - val_mae: 0.0032\n",
      "Epoch 118/400\n",
      "645/645 [==============================] - 1s 2ms/step - loss: 0.0018 - mae: 0.0027 - val_loss: 0.0021 - val_mae: 0.0129\n",
      "Epoch 119/400\n",
      "645/645 [==============================] - 1s 2ms/step - loss: 0.0018 - mae: 0.0022 - val_loss: 0.0018 - val_mae: 0.0018\n",
      "Epoch 120/400\n",
      "645/645 [==============================] - 1s 2ms/step - loss: 0.0018 - mae: 0.0018 - val_loss: 0.0018 - val_mae: 0.0032\n",
      "Epoch 121/400\n",
      "645/645 [==============================] - 1s 2ms/step - loss: 0.0017 - mae: 0.0024 - val_loss: 0.0017 - val_mae: 0.0011\n",
      "Epoch 122/400\n",
      "645/645 [==============================] - 1s 2ms/step - loss: 0.0017 - mae: 0.0021 - val_loss: 0.0017 - val_mae: 0.0024\n",
      "Epoch 123/400\n",
      "645/645 [==============================] - 1s 2ms/step - loss: 0.0017 - mae: 0.0022 - val_loss: 0.0017 - val_mae: 0.0018\n",
      "Epoch 124/400\n",
      "645/645 [==============================] - 1s 2ms/step - loss: 0.0016 - mae: 0.0024 - val_loss: 0.0016 - val_mae: 0.0014\n",
      "Epoch 125/400\n",
      "645/645 [==============================] - 1s 2ms/step - loss: 0.0016 - mae: 0.0021 - val_loss: 0.0016 - val_mae: 0.0032\n",
      "Epoch 126/400\n",
      "645/645 [==============================] - 1s 2ms/step - loss: 0.0016 - mae: 0.0022 - val_loss: 0.0016 - val_mae: 0.0032\n",
      "Epoch 127/400\n",
      "645/645 [==============================] - 1s 2ms/step - loss: 0.0016 - mae: 0.0023 - val_loss: 0.0016 - val_mae: 0.0046\n",
      "Epoch 128/400\n",
      "645/645 [==============================] - 1s 2ms/step - loss: 0.0015 - mae: 0.0021 - val_loss: 0.0016 - val_mae: 0.0061\n",
      "Epoch 129/400\n",
      "645/645 [==============================] - 1s 2ms/step - loss: 0.0015 - mae: 0.0023 - val_loss: 0.0015 - val_mae: 0.0060\n",
      "Epoch 130/400\n",
      "645/645 [==============================] - 1s 2ms/step - loss: 0.0015 - mae: 0.0020 - val_loss: 0.0015 - val_mae: 0.0021\n",
      "Epoch 131/400\n",
      "645/645 [==============================] - 1s 2ms/step - loss: 0.0014 - mae: 0.0022 - val_loss: 0.0014 - val_mae: 0.0031\n",
      "Epoch 132/400\n",
      "645/645 [==============================] - 1s 2ms/step - loss: 0.0014 - mae: 0.0022 - val_loss: 0.0014 - val_mae: 0.0019\n",
      "Epoch 133/400\n",
      "645/645 [==============================] - 1s 2ms/step - loss: 0.0014 - mae: 0.0020 - val_loss: 0.0014 - val_mae: 0.0023\n",
      "Epoch 134/400\n",
      "645/645 [==============================] - 1s 2ms/step - loss: 0.0014 - mae: 0.0021 - val_loss: 0.0013 - val_mae: 0.0016\n",
      "Epoch 135/400\n",
      "645/645 [==============================] - 1s 2ms/step - loss: 0.0013 - mae: 0.0021 - val_loss: 0.0013 - val_mae: 0.0019\n",
      "Epoch 136/400\n",
      "645/645 [==============================] - 1s 2ms/step - loss: 0.0013 - mae: 0.0022 - val_loss: 0.0013 - val_mae: 0.0024\n",
      "Epoch 137/400\n",
      "645/645 [==============================] - 1s 2ms/step - loss: 0.0013 - mae: 0.0023 - val_loss: 0.0013 - val_mae: 0.0023\n",
      "Epoch 138/400\n",
      "645/645 [==============================] - 1s 2ms/step - loss: 0.0013 - mae: 0.0021 - val_loss: 0.0013 - val_mae: 0.0031\n",
      "Epoch 139/400\n",
      "645/645 [==============================] - 1s 2ms/step - loss: 0.0012 - mae: 0.0021 - val_loss: 0.0012 - val_mae: 0.0034\n",
      "Epoch 140/400\n",
      "645/645 [==============================] - 1s 2ms/step - loss: 0.0012 - mae: 0.0022 - val_loss: 0.0012 - val_mae: 0.0022\n",
      "Epoch 141/400\n",
      "645/645 [==============================] - 1s 2ms/step - loss: 0.0012 - mae: 0.0021 - val_loss: 0.0012 - val_mae: 0.0024\n",
      "Epoch 142/400\n",
      "645/645 [==============================] - 1s 2ms/step - loss: 0.0012 - mae: 0.0020 - val_loss: 0.0012 - val_mae: 0.0043\n",
      "Epoch 143/400\n",
      "645/645 [==============================] - 1s 2ms/step - loss: 0.0012 - mae: 0.0021 - val_loss: 0.0011 - val_mae: 0.0016\n",
      "Epoch 144/400\n",
      "645/645 [==============================] - 1s 2ms/step - loss: 0.0011 - mae: 0.0021 - val_loss: 0.0011 - val_mae: 0.0025\n",
      "Epoch 145/400\n",
      "645/645 [==============================] - 1s 2ms/step - loss: 0.0011 - mae: 0.0020 - val_loss: 0.0011 - val_mae: 0.0018\n",
      "Epoch 146/400\n",
      "645/645 [==============================] - 1s 2ms/step - loss: 0.0011 - mae: 0.0020 - val_loss: 0.0011 - val_mae: 0.0025\n",
      "Epoch 147/400\n",
      "645/645 [==============================] - 1s 2ms/step - loss: 0.0011 - mae: 0.0019 - val_loss: 0.0011 - val_mae: 0.0017\n",
      "Epoch 148/400\n",
      "645/645 [==============================] - 1s 2ms/step - loss: 0.0011 - mae: 0.0022 - val_loss: 0.0011 - val_mae: 0.0026\n",
      "Epoch 149/400\n",
      "645/645 [==============================] - 1s 2ms/step - loss: 0.0010 - mae: 0.0020 - val_loss: 0.0010 - val_mae: 0.0019\n",
      "Epoch 150/400\n",
      "645/645 [==============================] - 1s 2ms/step - loss: 0.0010 - mae: 0.0021 - val_loss: 0.0010 - val_mae: 0.0015\n",
      "Epoch 151/400\n",
      "645/645 [==============================] - 1s 2ms/step - loss: 9.9957e-04 - mae: 0.0019 - val_loss: 9.9682e-04 - val_mae: 0.0030\n",
      "Epoch 152/400\n",
      "645/645 [==============================] - 1s 2ms/step - loss: 9.8381e-04 - mae: 0.0021 - val_loss: 9.6936e-04 - val_mae: 0.0012\n",
      "Epoch 153/400\n",
      "645/645 [==============================] - 1s 2ms/step - loss: 9.6766e-04 - mae: 0.0022 - val_loss: 9.5371e-04 - val_mae: 0.0013\n",
      "Epoch 154/400\n",
      "645/645 [==============================] - 1s 2ms/step - loss: 9.4786e-04 - mae: 0.0018 - val_loss: 9.4506e-04 - val_mae: 0.0027\n",
      "Epoch 155/400\n",
      "645/645 [==============================] - 1s 2ms/step - loss: 9.3430e-04 - mae: 0.0021 - val_loss: 9.3352e-04 - val_mae: 0.0035\n",
      "Epoch 156/400\n",
      "645/645 [==============================] - 1s 2ms/step - loss: 9.1722e-04 - mae: 0.0020 - val_loss: 9.0525e-04 - val_mae: 0.0014\n",
      "Epoch 157/400\n",
      "645/645 [==============================] - 1s 2ms/step - loss: 9.0164e-04 - mae: 0.0020 - val_loss: 8.9751e-04 - val_mae: 0.0029\n",
      "Epoch 158/400\n",
      "645/645 [==============================] - 1s 2ms/step - loss: 8.8691e-04 - mae: 0.0020 - val_loss: 8.8114e-04 - val_mae: 0.0023\n",
      "Epoch 159/400\n",
      "645/645 [==============================] - 1s 2ms/step - loss: 8.7561e-04 - mae: 0.0022 - val_loss: 8.6333e-04 - val_mae: 0.0019\n",
      "Epoch 160/400\n",
      "645/645 [==============================] - 1s 2ms/step - loss: 8.5591e-04 - mae: 0.0017 - val_loss: 8.6110e-04 - val_mae: 0.0033\n",
      "Epoch 161/400\n",
      "645/645 [==============================] - 1s 2ms/step - loss: 8.4285e-04 - mae: 0.0018 - val_loss: 8.3177e-04 - val_mae: 0.0012\n",
      "Epoch 162/400\n",
      "645/645 [==============================] - 1s 2ms/step - loss: 8.2836e-04 - mae: 0.0019 - val_loss: 9.7894e-04 - val_mae: 0.0119\n",
      "Epoch 163/400\n",
      "645/645 [==============================] - 1s 2ms/step - loss: 8.1736e-04 - mae: 0.0023 - val_loss: 8.0679e-04 - val_mae: 0.0017\n",
      "Epoch 164/400\n",
      "645/645 [==============================] - 1s 2ms/step - loss: 8.0456e-04 - mae: 0.0022 - val_loss: 7.9608e-04 - val_mae: 0.0022\n",
      "Epoch 165/400\n",
      "645/645 [==============================] - 1s 2ms/step - loss: 7.8757e-04 - mae: 0.0017 - val_loss: 7.7978e-04 - val_mae: 0.0015\n",
      "Epoch 166/400\n",
      "645/645 [==============================] - 1s 2ms/step - loss: 7.7757e-04 - mae: 0.0021 - val_loss: 7.7213e-04 - val_mae: 0.0024\n",
      "Epoch 167/400\n",
      "645/645 [==============================] - 1s 2ms/step - loss: 7.6329e-04 - mae: 0.0018 - val_loss: 7.5675e-04 - val_mae: 0.0018\n",
      "Epoch 168/400\n",
      "645/645 [==============================] - 1s 2ms/step - loss: 7.5388e-04 - mae: 0.0022 - val_loss: 7.4150e-04 - val_mae: 0.0014\n",
      "Epoch 169/400\n",
      "645/645 [==============================] - 1s 2ms/step - loss: 7.3786e-04 - mae: 0.0017 - val_loss: 7.4179e-04 - val_mae: 0.0027\n",
      "Epoch 170/400\n",
      "645/645 [==============================] - 1s 2ms/step - loss: 7.2846e-04 - mae: 0.0020 - val_loss: 7.2720e-04 - val_mae: 0.0029\n",
      "Epoch 171/400\n",
      "645/645 [==============================] - 1s 2ms/step - loss: 7.1642e-04 - mae: 0.0020 - val_loss: 7.0795e-04 - val_mae: 0.0015\n",
      "Epoch 172/400\n",
      "645/645 [==============================] - 1s 2ms/step - loss: 7.0495e-04 - mae: 0.0020 - val_loss: 6.9548e-04 - val_mae: 0.0013\n",
      "Epoch 173/400\n",
      "645/645 [==============================] - 1s 2ms/step - loss: 6.9293e-04 - mae: 0.0018 - val_loss: 6.9827e-04 - val_mae: 0.0030\n",
      "Epoch 174/400\n",
      "645/645 [==============================] - 1s 2ms/step - loss: 6.8227e-04 - mae: 0.0019 - val_loss: 6.8021e-04 - val_mae: 0.0027\n",
      "Epoch 175/400\n",
      "645/645 [==============================] - 1s 2ms/step - loss: 6.7257e-04 - mae: 0.0020 - val_loss: 6.6315e-04 - val_mae: 0.0013\n",
      "Epoch 176/400\n",
      "645/645 [==============================] - 1s 2ms/step - loss: 6.6084e-04 - mae: 0.0019 - val_loss: 6.6153e-04 - val_mae: 0.0028\n",
      "Epoch 177/400\n",
      "645/645 [==============================] - 1s 2ms/step - loss: 6.5159e-04 - mae: 0.0020 - val_loss: 6.4190e-04 - val_mae: 0.0012\n",
      "Epoch 178/400\n",
      "645/645 [==============================] - 1s 2ms/step - loss: 6.4178e-04 - mae: 0.0020 - val_loss: 6.3392e-04 - val_mae: 0.0016\n",
      "Epoch 179/400\n",
      "645/645 [==============================] - 1s 2ms/step - loss: 6.3074e-04 - mae: 0.0018 - val_loss: 6.2806e-04 - val_mae: 0.0024\n",
      "Epoch 180/400\n",
      "645/645 [==============================] - 1s 2ms/step - loss: 6.2066e-04 - mae: 0.0018 - val_loss: 6.3230e-04 - val_mae: 0.0042\n",
      "Epoch 181/400\n",
      "645/645 [==============================] - 1s 2ms/step - loss: 6.1281e-04 - mae: 0.0020 - val_loss: 6.0301e-04 - val_mae: 0.0011\n",
      "Epoch 182/400\n",
      "645/645 [==============================] - 1s 2ms/step - loss: 6.0425e-04 - mae: 0.0021 - val_loss: 6.1319e-04 - val_mae: 0.0033\n",
      "Epoch 183/400\n",
      "645/645 [==============================] - 1s 2ms/step - loss: 5.9224e-04 - mae: 0.0016 - val_loss: 6.0003e-04 - val_mae: 0.0033\n",
      "Epoch 184/400\n",
      "645/645 [==============================] - 1s 2ms/step - loss: 5.8667e-04 - mae: 0.0021 - val_loss: 6.0441e-04 - val_mae: 0.0047\n",
      "Epoch 185/400\n",
      "645/645 [==============================] - 1s 2ms/step - loss: 5.7729e-04 - mae: 0.0018 - val_loss: 5.9317e-04 - val_mae: 0.0037\n",
      "Epoch 186/400\n",
      "645/645 [==============================] - 1s 2ms/step - loss: 5.6936e-04 - mae: 0.0019 - val_loss: 5.6556e-04 - val_mae: 0.0020\n",
      "Epoch 187/400\n",
      "645/645 [==============================] - 1s 2ms/step - loss: 5.5976e-04 - mae: 0.0017 - val_loss: 5.6295e-04 - val_mae: 0.0028\n",
      "Epoch 188/400\n",
      "645/645 [==============================] - 1s 2ms/step - loss: 5.5335e-04 - mae: 0.0020 - val_loss: 5.6164e-04 - val_mae: 0.0035\n",
      "Epoch 189/400\n",
      "645/645 [==============================] - 1s 2ms/step - loss: 5.4419e-04 - mae: 0.0018 - val_loss: 5.3675e-04 - val_mae: 0.0011\n",
      "Epoch 190/400\n",
      "645/645 [==============================] - 1s 2ms/step - loss: 5.3825e-04 - mae: 0.0021 - val_loss: 5.3577e-04 - val_mae: 0.0022\n",
      "Epoch 191/400\n",
      "645/645 [==============================] - 1s 2ms/step - loss: 5.2869e-04 - mae: 0.0018 - val_loss: 5.2417e-04 - val_mae: 0.0017\n",
      "Epoch 192/400\n",
      "645/645 [==============================] - 1s 2ms/step - loss: 5.2245e-04 - mae: 0.0019 - val_loss: 5.1719e-04 - val_mae: 0.0019\n",
      "Epoch 193/400\n",
      "645/645 [==============================] - 1s 2ms/step - loss: 5.1548e-04 - mae: 0.0020 - val_loss: 5.1360e-04 - val_mae: 0.0025\n",
      "Epoch 194/400\n",
      "645/645 [==============================] - 1s 2ms/step - loss: 5.0842e-04 - mae: 0.0020 - val_loss: 5.0234e-04 - val_mae: 0.0016\n",
      "Epoch 195/400\n",
      "645/645 [==============================] - 1s 2ms/step - loss: 5.0087e-04 - mae: 0.0018 - val_loss: 5.0549e-04 - val_mae: 0.0032\n",
      "Epoch 196/400\n",
      "645/645 [==============================] - 1s 2ms/step - loss: 4.9632e-04 - mae: 0.0019 - val_loss: 4.8847e-04 - val_mae: 0.0013\n",
      "Epoch 197/400\n",
      "645/645 [==============================] - 2s 2ms/step - loss: 4.8849e-04 - mae: 0.0018 - val_loss: 4.8575e-04 - val_mae: 0.0020\n",
      "Epoch 198/400\n",
      "645/645 [==============================] - 1s 2ms/step - loss: 4.8306e-04 - mae: 0.0020 - val_loss: 4.9653e-04 - val_mae: 0.0039\n",
      "Epoch 199/400\n",
      "645/645 [==============================] - 2s 3ms/step - loss: 4.7491e-04 - mae: 0.0017 - val_loss: 4.9607e-04 - val_mae: 0.0045\n",
      "Epoch 200/400\n",
      "645/645 [==============================] - 2s 2ms/step - loss: 4.6965e-04 - mae: 0.0018 - val_loss: 4.6557e-04 - val_mae: 0.0018\n",
      "Epoch 201/400\n",
      "645/645 [==============================] - 2s 2ms/step - loss: 4.6435e-04 - mae: 0.0019 - val_loss: 4.6288e-04 - val_mae: 0.0022\n",
      "Epoch 202/400\n",
      "645/645 [==============================] - 2s 2ms/step - loss: 4.5791e-04 - mae: 0.0018 - val_loss: 4.6093e-04 - val_mae: 0.0031\n",
      "Epoch 203/400\n",
      "645/645 [==============================] - 1s 2ms/step - loss: 4.5200e-04 - mae: 0.0018 - val_loss: 4.9255e-04 - val_mae: 0.0058\n",
      "Epoch 204/400\n",
      "645/645 [==============================] - 2s 2ms/step - loss: 4.4682e-04 - mae: 0.0019 - val_loss: 4.4023e-04 - val_mae: 0.0011\n",
      "Epoch 205/400\n",
      "645/645 [==============================] - 1s 2ms/step - loss: 4.4156e-04 - mae: 0.0019 - val_loss: 4.5997e-04 - val_mae: 0.0039\n",
      "Epoch 206/400\n",
      "645/645 [==============================] - 2s 2ms/step - loss: 4.3688e-04 - mae: 0.0020 - val_loss: 4.3078e-04 - val_mae: 0.0012\n",
      "Epoch 207/400\n",
      "645/645 [==============================] - 2s 2ms/step - loss: 4.3141e-04 - mae: 0.0019 - val_loss: 4.3044e-04 - val_mae: 0.0021\n",
      "Epoch 208/400\n",
      "645/645 [==============================] - 1s 2ms/step - loss: 4.2658e-04 - mae: 0.0019 - val_loss: 4.2062e-04 - val_mae: 0.0012\n",
      "Epoch 209/400\n",
      "645/645 [==============================] - 1s 2ms/step - loss: 4.2303e-04 - mae: 0.0020 - val_loss: 4.2122e-04 - val_mae: 0.0024\n",
      "Epoch 210/400\n",
      "645/645 [==============================] - 1s 2ms/step - loss: 4.1624e-04 - mae: 0.0017 - val_loss: 4.1418e-04 - val_mae: 0.0017\n",
      "Epoch 211/400\n",
      "645/645 [==============================] - 1s 2ms/step - loss: 4.1228e-04 - mae: 0.0018 - val_loss: 4.7004e-04 - val_mae: 0.0067\n",
      "Epoch 212/400\n",
      "645/645 [==============================] - 1s 2ms/step - loss: 4.1015e-04 - mae: 0.0021 - val_loss: 4.1556e-04 - val_mae: 0.0033\n",
      "Epoch 213/400\n",
      "645/645 [==============================] - 1s 2ms/step - loss: 4.0480e-04 - mae: 0.0019 - val_loss: 4.0734e-04 - val_mae: 0.0027\n",
      "Epoch 214/400\n",
      "645/645 [==============================] - 1s 2ms/step - loss: 3.9892e-04 - mae: 0.0017 - val_loss: 3.9500e-04 - val_mae: 0.0013\n",
      "Epoch 215/400\n",
      "645/645 [==============================] - 2s 2ms/step - loss: 3.9596e-04 - mae: 0.0019 - val_loss: 3.9353e-04 - val_mae: 0.0017\n",
      "Epoch 216/400\n",
      "645/645 [==============================] - 2s 2ms/step - loss: 3.9242e-04 - mae: 0.0020 - val_loss: 3.8697e-04 - val_mae: 0.0015\n",
      "Epoch 217/400\n",
      "645/645 [==============================] - 1s 2ms/step - loss: 3.8700e-04 - mae: 0.0017 - val_loss: 3.8688e-04 - val_mae: 0.0023\n",
      "Epoch 218/400\n",
      "645/645 [==============================] - 2s 2ms/step - loss: 3.8408e-04 - mae: 0.0019 - val_loss: 3.8029e-04 - val_mae: 0.0016\n",
      "Epoch 219/400\n",
      "645/645 [==============================] - 1s 2ms/step - loss: 3.7967e-04 - mae: 0.0017 - val_loss: 3.7531e-04 - val_mae: 0.0012\n",
      "Epoch 220/400\n",
      "645/645 [==============================] - 1s 2ms/step - loss: 3.7626e-04 - mae: 0.0018 - val_loss: 3.7701e-04 - val_mae: 0.0026\n",
      "Epoch 221/400\n",
      "645/645 [==============================] - 1s 2ms/step - loss: 3.7294e-04 - mae: 0.0019 - val_loss: 4.6608e-04 - val_mae: 0.0081\n",
      "Epoch 222/400\n",
      "645/645 [==============================] - 1s 2ms/step - loss: 3.6946e-04 - mae: 0.0019 - val_loss: 3.6650e-04 - val_mae: 0.0020\n",
      "Epoch 223/400\n",
      "645/645 [==============================] - 1s 2ms/step - loss: 3.6615e-04 - mae: 0.0019 - val_loss: 3.6210e-04 - val_mae: 0.0016\n",
      "Epoch 224/400\n",
      "645/645 [==============================] - 1s 2ms/step - loss: 3.6148e-04 - mae: 0.0017 - val_loss: 3.7511e-04 - val_mae: 0.0043\n",
      "Epoch 225/400\n",
      "645/645 [==============================] - 1s 2ms/step - loss: 3.5931e-04 - mae: 0.0018 - val_loss: 3.6413e-04 - val_mae: 0.0026\n",
      "Epoch 226/400\n",
      "645/645 [==============================] - 1s 2ms/step - loss: 3.5596e-04 - mae: 0.0019 - val_loss: 3.6725e-04 - val_mae: 0.0036\n",
      "Epoch 227/400\n",
      "645/645 [==============================] - 1s 2ms/step - loss: 3.5314e-04 - mae: 0.0019 - val_loss: 3.5627e-04 - val_mae: 0.0031\n",
      "Epoch 228/400\n",
      "645/645 [==============================] - 1s 2ms/step - loss: 3.4891e-04 - mae: 0.0017 - val_loss: 3.5977e-04 - val_mae: 0.0036\n",
      "Epoch 229/400\n",
      "645/645 [==============================] - 1s 2ms/step - loss: 3.4581e-04 - mae: 0.0017 - val_loss: 3.4396e-04 - val_mae: 0.0018\n",
      "Epoch 230/400\n",
      "645/645 [==============================] - 1s 2ms/step - loss: 3.4443e-04 - mae: 0.0020 - val_loss: 3.5617e-04 - val_mae: 0.0042\n",
      "Epoch 231/400\n",
      "645/645 [==============================] - 1s 2ms/step - loss: 3.4051e-04 - mae: 0.0018 - val_loss: 3.3482e-04 - val_mae: 9.5549e-04\n",
      "Epoch 232/400\n",
      "645/645 [==============================] - 1s 2ms/step - loss: 3.3602e-04 - mae: 0.0016 - val_loss: 3.4584e-04 - val_mae: 0.0036\n",
      "Epoch 233/400\n",
      "645/645 [==============================] - 1s 2ms/step - loss: 3.3437e-04 - mae: 0.0018 - val_loss: 3.5599e-04 - val_mae: 0.0047\n",
      "Epoch 234/400\n",
      "645/645 [==============================] - 2s 2ms/step - loss: 3.3127e-04 - mae: 0.0017 - val_loss: 3.5758e-04 - val_mae: 0.0048\n",
      "Epoch 235/400\n",
      "645/645 [==============================] - 1s 2ms/step - loss: 3.2912e-04 - mae: 0.0018 - val_loss: 3.2997e-04 - val_mae: 0.0025\n",
      "Epoch 236/400\n",
      "645/645 [==============================] - 2s 2ms/step - loss: 3.2663e-04 - mae: 0.0019 - val_loss: 3.2393e-04 - val_mae: 0.0018\n",
      "Epoch 237/400\n",
      "645/645 [==============================] - 1s 2ms/step - loss: 3.2275e-04 - mae: 0.0017 - val_loss: 3.2894e-04 - val_mae: 0.0027\n",
      "Epoch 238/400\n",
      "645/645 [==============================] - 1s 2ms/step - loss: 3.2130e-04 - mae: 0.0018 - val_loss: 3.1807e-04 - val_mae: 0.0017\n",
      "Epoch 239/400\n",
      "645/645 [==============================] - 2s 2ms/step - loss: 3.1894e-04 - mae: 0.0019 - val_loss: 3.2003e-04 - val_mae: 0.0024\n",
      "Epoch 240/400\n",
      "645/645 [==============================] - 2s 2ms/step - loss: 3.1553e-04 - mae: 0.0017 - val_loss: 3.1668e-04 - val_mae: 0.0021\n",
      "Epoch 241/400\n",
      "645/645 [==============================] - 2s 2ms/step - loss: 3.1345e-04 - mae: 0.0018 - val_loss: 3.1045e-04 - val_mae: 0.0016\n",
      "Epoch 242/400\n",
      "645/645 [==============================] - 1s 2ms/step - loss: 3.1139e-04 - mae: 0.0018 - val_loss: 3.1506e-04 - val_mae: 0.0030\n",
      "Epoch 243/400\n",
      "645/645 [==============================] - 1s 2ms/step - loss: 3.0915e-04 - mae: 0.0019 - val_loss: 3.1572e-04 - val_mae: 0.0031\n",
      "Epoch 244/400\n",
      "645/645 [==============================] - 1s 2ms/step - loss: 3.0743e-04 - mae: 0.0019 - val_loss: 3.0579e-04 - val_mae: 0.0020\n",
      "Epoch 245/400\n",
      "645/645 [==============================] - 1s 2ms/step - loss: 3.0497e-04 - mae: 0.0018 - val_loss: 3.1285e-04 - val_mae: 0.0035\n",
      "Epoch 246/400\n",
      "645/645 [==============================] - 1s 2ms/step - loss: 3.0260e-04 - mae: 0.0018 - val_loss: 2.9923e-04 - val_mae: 0.0015\n",
      "Epoch 247/400\n",
      "645/645 [==============================] - 1s 2ms/step - loss: 3.0136e-04 - mae: 0.0018 - val_loss: 4.1156e-04 - val_mae: 0.0091\n",
      "Epoch 248/400\n",
      "645/645 [==============================] - 1s 2ms/step - loss: 2.9912e-04 - mae: 0.0018 - val_loss: 2.9481e-04 - val_mae: 0.0012\n",
      "Epoch 249/400\n",
      "645/645 [==============================] - 1s 2ms/step - loss: 2.9706e-04 - mae: 0.0019 - val_loss: 2.9355e-04 - val_mae: 0.0013\n",
      "Epoch 250/400\n",
      "645/645 [==============================] - 1s 2ms/step - loss: 2.9479e-04 - mae: 0.0018 - val_loss: 2.9124e-04 - val_mae: 0.0014\n",
      "Epoch 251/400\n",
      "645/645 [==============================] - 1s 2ms/step - loss: 2.9286e-04 - mae: 0.0018 - val_loss: 3.1770e-04 - val_mae: 0.0043\n",
      "Epoch 252/400\n",
      "645/645 [==============================] - 1s 2ms/step - loss: 2.9153e-04 - mae: 0.0018 - val_loss: 2.9635e-04 - val_mae: 0.0030\n",
      "Epoch 253/400\n",
      "645/645 [==============================] - 2s 2ms/step - loss: 2.8941e-04 - mae: 0.0018 - val_loss: 2.8827e-04 - val_mae: 0.0018\n",
      "Epoch 254/400\n",
      "645/645 [==============================] - 2s 2ms/step - loss: 2.8698e-04 - mae: 0.0017 - val_loss: 2.8341e-04 - val_mae: 0.0011\n",
      "Epoch 255/400\n",
      "645/645 [==============================] - 1s 2ms/step - loss: 2.8670e-04 - mae: 0.0019 - val_loss: 2.8648e-04 - val_mae: 0.0024\n",
      "Epoch 256/400\n",
      "645/645 [==============================] - 2s 2ms/step - loss: 2.8477e-04 - mae: 0.0018 - val_loss: 2.8317e-04 - val_mae: 0.0017\n",
      "Epoch 257/400\n",
      "645/645 [==============================] - 1s 2ms/step - loss: 2.8179e-04 - mae: 0.0016 - val_loss: 2.8276e-04 - val_mae: 0.0023\n",
      "Epoch 258/400\n",
      "645/645 [==============================] - 1s 2ms/step - loss: 2.8110e-04 - mae: 0.0018 - val_loss: 2.7982e-04 - val_mae: 0.0019\n",
      "Epoch 259/400\n",
      "645/645 [==============================] - 1s 2ms/step - loss: 2.7891e-04 - mae: 0.0017 - val_loss: 2.9293e-04 - val_mae: 0.0038\n",
      "Epoch 260/400\n",
      "645/645 [==============================] - 1s 2ms/step - loss: 2.7874e-04 - mae: 0.0019 - val_loss: 2.7380e-04 - val_mae: 0.0012\n",
      "Epoch 261/400\n",
      "645/645 [==============================] - 1s 2ms/step - loss: 2.7500e-04 - mae: 0.0016 - val_loss: 2.8042e-04 - val_mae: 0.0029\n",
      "Epoch 262/400\n",
      "645/645 [==============================] - 1s 2ms/step - loss: 2.7488e-04 - mae: 0.0018 - val_loss: 2.7070e-04 - val_mae: 0.0012\n",
      "Epoch 263/400\n",
      "645/645 [==============================] - 1s 2ms/step - loss: 2.7162e-04 - mae: 0.0016 - val_loss: 2.7864e-04 - val_mae: 0.0026\n",
      "Epoch 264/400\n",
      "645/645 [==============================] - 2s 2ms/step - loss: 2.7259e-04 - mae: 0.0019 - val_loss: 2.7755e-04 - val_mae: 0.0031\n",
      "Epoch 265/400\n",
      "645/645 [==============================] - 1s 2ms/step - loss: 2.6999e-04 - mae: 0.0018 - val_loss: 2.6715e-04 - val_mae: 0.0014\n",
      "Epoch 266/400\n",
      "645/645 [==============================] - 1s 2ms/step - loss: 2.6827e-04 - mae: 0.0017 - val_loss: 2.6434e-04 - val_mae: 0.0011\n",
      "Epoch 267/400\n",
      "645/645 [==============================] - 1s 2ms/step - loss: 2.6723e-04 - mae: 0.0018 - val_loss: 2.6537e-04 - val_mae: 0.0015\n",
      "Epoch 268/400\n",
      "645/645 [==============================] - 1s 2ms/step - loss: 2.6506e-04 - mae: 0.0017 - val_loss: 2.6138e-04 - val_mae: 0.0010\n",
      "Epoch 269/400\n",
      "645/645 [==============================] - 1s 2ms/step - loss: 2.6560e-04 - mae: 0.0020 - val_loss: 2.6570e-04 - val_mae: 0.0021\n",
      "Epoch 270/400\n",
      "645/645 [==============================] - 1s 2ms/step - loss: 2.6356e-04 - mae: 0.0018 - val_loss: 2.9306e-04 - val_mae: 0.0048\n",
      "Epoch 271/400\n",
      "645/645 [==============================] - 1s 2ms/step - loss: 2.6166e-04 - mae: 0.0017 - val_loss: 2.8469e-04 - val_mae: 0.0046\n",
      "Epoch 272/400\n",
      "645/645 [==============================] - 1s 2ms/step - loss: 2.6169e-04 - mae: 0.0020 - val_loss: 2.5637e-04 - val_mae: 0.0010\n",
      "Epoch 273/400\n",
      "645/645 [==============================] - 1s 2ms/step - loss: 2.5865e-04 - mae: 0.0016 - val_loss: 2.5564e-04 - val_mae: 0.0013\n",
      "Epoch 274/400\n",
      "645/645 [==============================] - 1s 2ms/step - loss: 2.5769e-04 - mae: 0.0017 - val_loss: 2.5467e-04 - val_mae: 0.0013\n",
      "Epoch 275/400\n",
      "645/645 [==============================] - 1s 2ms/step - loss: 2.5750e-04 - mae: 0.0018 - val_loss: 2.6691e-04 - val_mae: 0.0037\n",
      "Epoch 276/400\n",
      "645/645 [==============================] - 1s 2ms/step - loss: 2.5634e-04 - mae: 0.0018 - val_loss: 2.5696e-04 - val_mae: 0.0024\n",
      "Epoch 277/400\n",
      "645/645 [==============================] - 1s 2ms/step - loss: 2.5433e-04 - mae: 0.0018 - val_loss: 2.5574e-04 - val_mae: 0.0024\n",
      "Epoch 278/400\n",
      "645/645 [==============================] - 1s 2ms/step - loss: 2.5319e-04 - mae: 0.0017 - val_loss: 2.5301e-04 - val_mae: 0.0019\n",
      "Epoch 279/400\n",
      "645/645 [==============================] - 1s 2ms/step - loss: 2.5213e-04 - mae: 0.0018 - val_loss: 2.4874e-04 - val_mae: 0.0012\n",
      "Epoch 280/400\n",
      "645/645 [==============================] - 1s 2ms/step - loss: 2.5124e-04 - mae: 0.0018 - val_loss: 2.4857e-04 - val_mae: 0.0014\n",
      "Epoch 281/400\n",
      "645/645 [==============================] - 1s 2ms/step - loss: 2.5069e-04 - mae: 0.0017 - val_loss: 2.4667e-04 - val_mae: 0.0013\n",
      "Epoch 282/400\n",
      "645/645 [==============================] - 1s 2ms/step - loss: 2.4905e-04 - mae: 0.0018 - val_loss: 2.4801e-04 - val_mae: 0.0018\n",
      "Epoch 283/400\n",
      "645/645 [==============================] - 1s 2ms/step - loss: 2.4800e-04 - mae: 0.0018 - val_loss: 2.4666e-04 - val_mae: 0.0017\n",
      "Epoch 284/400\n",
      "645/645 [==============================] - 1s 2ms/step - loss: 2.4698e-04 - mae: 0.0018 - val_loss: 2.4568e-04 - val_mae: 0.0018\n",
      "Epoch 285/400\n",
      "645/645 [==============================] - 1s 2ms/step - loss: 2.4584e-04 - mae: 0.0018 - val_loss: 2.4876e-04 - val_mae: 0.0024\n",
      "Epoch 286/400\n",
      "645/645 [==============================] - 1s 2ms/step - loss: 2.4577e-04 - mae: 0.0019 - val_loss: 2.4177e-04 - val_mae: 0.0014\n",
      "Epoch 287/400\n",
      "645/645 [==============================] - 1s 2ms/step - loss: 2.4374e-04 - mae: 0.0018 - val_loss: 2.7209e-04 - val_mae: 0.0045\n",
      "Epoch 288/400\n",
      "645/645 [==============================] - 1s 2ms/step - loss: 2.4357e-04 - mae: 0.0019 - val_loss: 2.4720e-04 - val_mae: 0.0028\n",
      "Epoch 289/400\n",
      "645/645 [==============================] - 1s 2ms/step - loss: 2.4161e-04 - mae: 0.0018 - val_loss: 2.4984e-04 - val_mae: 0.0033\n",
      "Epoch 290/400\n",
      "645/645 [==============================] - 1s 2ms/step - loss: 2.4167e-04 - mae: 0.0019 - val_loss: 2.4801e-04 - val_mae: 0.0030\n",
      "Epoch 291/400\n",
      "623/645 [===========================>..] - ETA: 0s - loss: 2.3883e-04 - mae: 0.0016Restoring model weights from the end of the best epoch: 286.\n",
      "645/645 [==============================] - 1s 2ms/step - loss: 2.3928e-04 - mae: 0.0017 - val_loss: 3.4394e-04 - val_mae: 0.0073\n",
      "Epoch 291: early stopping\n",
      "Die Ausführungszeit betrug 418.94752860069275 Sekunden.\n"
     ]
    },
    {
     "name": "stderr",
     "output_type": "stream",
     "text": [
      "C:\\Users\\erikm\\Desktop\\Diplomarbeit Erik Marr\\Projekt X\\venv\\Lib\\site-packages\\keras\\src\\engine\\training.py:3103: UserWarning: You are saving your model as an HDF5 file via `model.save()`. This file format is considered legacy. We recommend using instead the native Keras format, e.g. `model.save('my_model.keras')`.\n",
      "  saving_api.save_model(\n"
     ]
    }
   ],
   "source": [
    "start_time = time.time()\n",
    "# Netzwerkarchitektur\n",
    "model = Sequential([\n",
    "\n",
    "    Dense(256, activation='relu', input_shape=(2,), kernel_initializer='he_uniform', kernel_regularizer=l2(0.00001)),\n",
    "\n",
    "    Dense(128, activation='relu', kernel_initializer='he_uniform', kernel_regularizer=l2(0.00001)),\n",
    "\n",
    "    Dense(160, activation='relu', kernel_initializer='he_uniform', kernel_regularizer=l2(0.00001)),\n",
    "\n",
    "    Dense(224, activation='relu', kernel_initializer='he_uniform', kernel_regularizer=l2(0.00001)),\n",
    "\n",
    "    Dense(112, activation='relu', kernel_initializer='he_uniform', kernel_regularizer=l2(0.00001)),\n",
    "\n",
    "    Dense(320, activation='relu', kernel_initializer='he_uniform', kernel_regularizer=l2(0.0001)),\n",
    "\n",
    "    Dense(16, activation='relu', kernel_initializer='he_uniform', kernel_regularizer=l2(0.00001)),\n",
    "\n",
    "    Dense(112, activation='relu', kernel_initializer='he_uniform', kernel_regularizer=l2(0.00001)),\n",
    "\n",
    "    Dense(1 , activation = 'linear')\n",
    "    \n",
    "])\n",
    "\n",
    "# Optimierer\n",
    "optimizer = tf.keras.optimizers.Adam(learning_rate=0.0001)\n",
    "\n",
    "# Modell kompilieren (Verwendung von mean_squared_error als Verlustfunktion für Regression)\n",
    "model.compile(optimizer=optimizer,\n",
    "              loss='mean_squared_error',\n",
    "              metrics=['mae'])  # Metriken für Regression: Mean Absolute Error und Mean Squared Error\n",
    "\n",
    "# Early Stopping Callback\n",
    "early_stopping = EarlyStopping(monitor='val_loss', patience=5, verbose=2, mode='min', restore_best_weights=True) # Early Stopping um Overfitting zu vermeiden\n",
    "\n",
    "# Trainingsparameter\n",
    "batch_size = 100\n",
    "epochs = 400\n",
    "\n",
    "# Modell trainieren (Annahme: X_train, y_train, X_val, y_val sind vordefiniert)\n",
    "history = model.fit(X_train_scaled, y_train_scaled,\n",
    "                    batch_size=batch_size,\n",
    "                    epochs=epochs,\n",
    "                    validation_split=0.2,\n",
    "                    callbacks=[early_stopping],\n",
    "                    verbose = 1)\n",
    "\n",
    "model.save('D1_1.h5')  #Speichern des trainierten Netzes\n",
    "\n",
    "end_time = time.time()\n",
    "\n",
    "# Berechne die Dauer\n",
    "duration = end_time - start_time\n",
    "\n",
    "print(f\"Die Ausführungszeit betrug {duration} Sekunden.\")"
   ],
   "metadata": {
    "collapsed": false,
    "ExecuteTime": {
     "end_time": "2024-04-10T14:36:23.826930200Z",
     "start_time": "2024-04-10T14:29:24.874577900Z"
    }
   },
   "id": "8b52e1a9a6ff3aeb"
  },
  {
   "cell_type": "markdown",
   "source": [
    "# k-Fold Crossvalidation \n",
    "Für die Performancebestimmung der unterschiedlichen Netzarchitekturen auf den Trainingsdaten"
   ],
   "metadata": {
    "collapsed": false
   },
   "id": "a7928df8ec1031de"
  },
  {
   "cell_type": "code",
   "execution_count": 13,
   "outputs": [],
   "source": [
    "# # Initialisiere Listen, um Ergebnisse zu speichern\n",
    "# val_loss_results = []\n",
    "# val_mae_results = []\n",
    "# \n",
    "# # Funktion, um das Modell zu erstellen\n",
    "# def create_model():\n",
    "#     model = Sequential([\n",
    "#             Dense(256, activation='relu', input_shape=(2,), kernel_initializer='he_uniform', kernel_regularizer=l2(0.00001)),\n",
    "# \n",
    "#             Dense(128, activation='relu', kernel_initializer='he_uniform', kernel_regularizer=l2(0.00001)),\n",
    "#         \n",
    "#             Dense(160, activation='relu', kernel_initializer='he_uniform', kernel_regularizer=l2(0.00001)),\n",
    "#         \n",
    "#             Dense(224, activation='relu', kernel_initializer='he_uniform', kernel_regularizer=l2(0.00001)),\n",
    "#         \n",
    "#             Dense(112, activation='relu', kernel_initializer='he_uniform', kernel_regularizer=l2(0.00001)),\n",
    "#         \n",
    "#             Dense(320, activation='relu', kernel_initializer='he_uniform', kernel_regularizer=l2(0.00001)),\n",
    "#         \n",
    "#             Dense(16, activation='relu', kernel_initializer='he_uniform', kernel_regularizer=l2(0.00001)),\n",
    "#         \n",
    "#             Dense(112, activation='relu', kernel_initializer='he_uniform', kernel_regularizer=l2(0.0001)),\n",
    "#         \n",
    "#             Dense(1 , activation = 'linear')\n",
    "#     ])\n",
    "#     optimizer = Adam(learning_rate=0.0001)\n",
    "#     model.compile(optimizer=optimizer, loss='mean_squared_error', metrics=['mae'])\n",
    "#     return model\n",
    "# \n",
    "# # K-Fold Cross-Validation Konfiguration\n",
    "# n_splits = 5\n",
    "# kf = KFold(n_splits=n_splits, shuffle=True, random_state=42)\n",
    "# \n",
    "# # Leistungsüberwachung\n",
    "# fold_no = 1\n",
    "# for train_index, val_index in kf.split(X_train_scaled):\n",
    "#     X_train_fold, X_val_fold = X_train_scaled[train_index], X_train_scaled[val_index]\n",
    "#     y_train_fold, y_val_fold = y_train_scaled[train_index], y_train_scaled[val_index]\n",
    "# \n",
    "#     model = create_model()\n",
    "# \n",
    "#     early_stopping = EarlyStopping(monitor='val_loss', patience=5, verbose=1, mode='min', restore_best_weights=True)\n",
    "# \n",
    "#     print(f'Training für Fold {fold_no}...')\n",
    "#     history = model.fit(X_train_fold, y_train_fold, batch_size=100, epochs=1000, validation_data=(X_val_fold, y_val_fold), callbacks=[early_stopping], verbose=1)\n",
    "# \n",
    "#     # Speichere die Ergebnisse des aktuellen Folds\n",
    "#     val_loss_results.append(min(history.history['val_loss']))\n",
    "#     val_mae_results.append(min(history.history['val_mae']))\n",
    "# \n",
    "#     fold_no += 1\n",
    "# \n",
    "# # Berechne den Durchschnitt über alle Folds\n",
    "# average_val_loss = np.mean(val_loss_results)\n",
    "# average_val_mae = np.mean(val_mae_results)\n",
    "# \n",
    "# # Umwandeln der Listen in Pandas DataFrames\n",
    "# val_loss_df = pd.DataFrame(val_loss_results, columns=['Validation Loss'])\n",
    "# val_mae_df = pd.DataFrame(val_mae_results, columns=['Validation MAE'])\n",
    "# \n",
    "# # Speichern der DataFrames in CSV-Dateien\n",
    "# val_loss_df.to_csv('val_loss_results_D1_1.csv', index=False)\n",
    "# val_mae_df.to_csv('val_mae_results_D1_1.csv', index=False)\n",
    "# \n",
    "# # Gib die durchschnittlichen Ergebnisse aus\n",
    "# print(f'Durchschnittlicher Validation Loss: {average_val_loss}')\n",
    "# print(f'Durchschnittlicher Validation MAE: {average_val_mae}')\n",
    "\n",
    "\n"
   ],
   "metadata": {
    "collapsed": false,
    "ExecuteTime": {
     "end_time": "2024-04-10T13:44:14.260431200Z",
     "start_time": "2024-04-10T13:44:14.253692900Z"
    }
   },
   "id": "29c288dd786bd1cb"
  },
  {
   "cell_type": "markdown",
   "source": [
    " # Auswertung des NeuroNetz auf dem Testdatensatz"
   ],
   "metadata": {
    "collapsed": false
   },
   "id": "83d8d88143abaf36"
  },
  {
   "cell_type": "code",
   "execution_count": 17,
   "outputs": [
    {
     "name": "stdout",
     "output_type": "stream",
     "text": [
      "WARNING:tensorflow:From C:\\Users\\erikm\\Desktop\\Diplomarbeit Erik Marr\\Projekt X\\venv\\Lib\\site-packages\\keras\\src\\backend.py:1398: The name tf.executing_eagerly_outside_functions is deprecated. Please use tf.compat.v1.executing_eagerly_outside_functions instead.\n"
     ]
    }
   ],
   "source": [
    "model = tf.keras.models.load_model('Trainierte_Netze\\D1_1.h5')"
   ],
   "metadata": {
    "collapsed": false,
    "ExecuteTime": {
     "end_time": "2024-04-15T12:17:39.678194500Z",
     "start_time": "2024-04-15T12:17:39.274949Z"
    }
   },
   "id": "8ac51ca3b45b4479"
  },
  {
   "cell_type": "code",
   "execution_count": 18,
   "outputs": [
    {
     "name": "stdout",
     "output_type": "stream",
     "text": [
      "WARNING:tensorflow:From C:\\Users\\erikm\\Desktop\\Diplomarbeit Erik Marr\\Projekt X\\venv\\Lib\\site-packages\\keras\\src\\utils\\tf_utils.py:492: The name tf.ragged.RaggedTensorValue is deprecated. Please use tf.compat.v1.ragged.RaggedTensorValue instead.\n",
      "630/630 - 1s - loss: 2.4178e-04 - mae: 0.0013 - 1s/epoch - 2ms/step\n"
     ]
    },
    {
     "data": {
      "text/plain": "[0.00024177721934393048, 0.0013477057218551636]"
     },
     "execution_count": 18,
     "metadata": {},
     "output_type": "execute_result"
    }
   ],
   "source": [
    "results = model.evaluate(X_test_scaled, y_test_scaled, verbose=2)\n",
    "results"
   ],
   "metadata": {
    "collapsed": false,
    "ExecuteTime": {
     "end_time": "2024-04-15T12:17:43.956556400Z",
     "start_time": "2024-04-15T12:17:42.828816Z"
    }
   },
   "id": "68d86893ad985b02"
  },
  {
   "cell_type": "code",
   "execution_count": 19,
   "id": "9f6f672a",
   "metadata": {
    "ExecuteTime": {
     "end_time": "2024-04-15T12:17:45.962996200Z",
     "start_time": "2024-04-15T12:17:44.884489300Z"
    }
   },
   "outputs": [
    {
     "name": "stdout",
     "output_type": "stream",
     "text": [
      " Bsp. Predicted: [1193.436] Actual: [1195.9] \n",
      "Durchschnittliche Abweichung (MAE): [1.2773567]\n",
      "0.1352159636182349\n"
     ]
    }
   ],
   "source": [
    "#Rückrechnung des skalierten MAE zum unskalierten MAE für eines bessere Einschätzung des Ergebnisses\n",
    "scaled_predicted_values = model.predict(X_test_scaled, verbose = 0)\n",
    "\n",
    "# Rücktransformation der skalierten Werte\n",
    "original_predicted_values = scaler_target.inverse_transform(scaled_predicted_values)\n",
    "original_actual_values = scaler_target.inverse_transform(y_test_scaled)  # y_test sind die skalierten tatsächlichen Werte\n",
    "print(f' Bsp. Predicted: {original_predicted_values[1000]} Actual: {original_actual_values[1000]} ')\n",
    "\n",
    "#Berechnung des MAE\n",
    "\n",
    "def calculate_mae(list1, list2):\n",
    "    # Stelle sicher, dass beide Listen die gleiche Länge haben\n",
    "    if len(list1) != len(list2):\n",
    "        raise ValueError(\"Listen müssen die gleiche Länge haben\")\n",
    "\n",
    "    # Berechne die absolute Differenz zwischen den Elementen der Listen\n",
    "    differences = [abs(x - y) for x, y in zip(list1, list2)]\n",
    "\n",
    "    # Berechne den Durchschnitt der absoluten Differenzen\n",
    "    mae = sum(differences) / len(differences)\n",
    "\n",
    "    return mae\n",
    "\n",
    "\n",
    "list1 = original_predicted_values\n",
    "list2 = original_actual_values\n",
    "\n",
    "mae = calculate_mae(list1, list2)\n",
    "print(f\"Durchschnittliche Abweichung (MAE): {mae}\")\n",
    "\n",
    "# Berechnung MAPE\n",
    "errors = np.abs((original_actual_values - original_predicted_values) / original_actual_values)\n",
    "mape = np.mean(errors) * 100\n",
    "print(mape)\n"
   ]
  },
  {
   "cell_type": "code",
   "execution_count": 20,
   "outputs": [
    {
     "name": "stdout",
     "output_type": "stream",
     "text": [
      "R^2: [0.99995398]\n"
     ]
    }
   ],
   "source": [
    "# Berechnung der Auswertungsgröße R^2\n",
    "\n",
    "def calculate_r_squared(predicted, actual):\n",
    "    # Berechnung des Mittelwerts der tatsächlichen Werte\n",
    "    mean_actual = sum(actual) / len(actual)\n",
    "    \n",
    "    # Berechnung der totalen Summe der Quadrate (SST)\n",
    "    sst = sum((x - mean_actual) ** 2 for x in actual)\n",
    "    \n",
    "    # Berechnung der Summe der Quadrate der Residuen (SSE)\n",
    "    sse = sum((actual[i] - predicted[i]) ** 2 for i in range(len(actual)))\n",
    "    \n",
    "    # Berechnung des R^2-Wertes\n",
    "    r_squared = 1 - (sse / sst)\n",
    "    \n",
    "    return r_squared\n",
    "\n",
    "# Berechnung von R^2 mit den vorherigen Listen\n",
    "r_squared = calculate_r_squared(list1, list2)\n",
    "\n",
    "print(f\"R^2: {r_squared}\")"
   ],
   "metadata": {
    "collapsed": false,
    "ExecuteTime": {
     "end_time": "2024-04-15T12:17:46.940343600Z",
     "start_time": "2024-04-15T12:17:46.824709100Z"
    }
   },
   "id": "48ac8cdcc05e55fd"
  },
  {
   "cell_type": "code",
   "execution_count": 23,
   "outputs": [
    {
     "name": "stdout",
     "output_type": "stream",
     "text": [
      "Anzahl der Werte die kleiner sind: 0\n"
     ]
    },
    {
     "data": {
      "text/plain": "              Echt  Vorhergesagt  X-Koordinate  Y-Koordinate  Differenz\n6379   1506.900024       1506.90         0.092        0.5325   0.000024\n9292   1298.199951       1298.20         0.796        0.6075   0.000049\n3583   1382.200073       1382.20         0.624        0.5875   0.000073\n2106   1280.700073       1280.70         0.696        0.2825   0.000073\n11641  1265.900146       1265.90         0.280        0.2250   0.000146\n...            ...           ...           ...           ...        ...\n9896    777.896484        791.74         0.992        0.9175  13.843516\n11539   718.623352        733.08         0.996        0.9375  14.456648\n15566   756.037781        771.22         0.996        0.9250  15.182219\n19281   792.360596        807.84         1.000        0.9125  15.479404\n20012   606.472046        588.92         0.996        0.9750  17.552046\n\n[20131 rows x 5 columns]",
      "text/html": "<div>\n<style scoped>\n    .dataframe tbody tr th:only-of-type {\n        vertical-align: middle;\n    }\n\n    .dataframe tbody tr th {\n        vertical-align: top;\n    }\n\n    .dataframe thead th {\n        text-align: right;\n    }\n</style>\n<table border=\"1\" class=\"dataframe\">\n  <thead>\n    <tr style=\"text-align: right;\">\n      <th></th>\n      <th>Echt</th>\n      <th>Vorhergesagt</th>\n      <th>X-Koordinate</th>\n      <th>Y-Koordinate</th>\n      <th>Differenz</th>\n    </tr>\n  </thead>\n  <tbody>\n    <tr>\n      <th>6379</th>\n      <td>1506.900024</td>\n      <td>1506.90</td>\n      <td>0.092</td>\n      <td>0.5325</td>\n      <td>0.000024</td>\n    </tr>\n    <tr>\n      <th>9292</th>\n      <td>1298.199951</td>\n      <td>1298.20</td>\n      <td>0.796</td>\n      <td>0.6075</td>\n      <td>0.000049</td>\n    </tr>\n    <tr>\n      <th>3583</th>\n      <td>1382.200073</td>\n      <td>1382.20</td>\n      <td>0.624</td>\n      <td>0.5875</td>\n      <td>0.000073</td>\n    </tr>\n    <tr>\n      <th>2106</th>\n      <td>1280.700073</td>\n      <td>1280.70</td>\n      <td>0.696</td>\n      <td>0.2825</td>\n      <td>0.000073</td>\n    </tr>\n    <tr>\n      <th>11641</th>\n      <td>1265.900146</td>\n      <td>1265.90</td>\n      <td>0.280</td>\n      <td>0.2250</td>\n      <td>0.000146</td>\n    </tr>\n    <tr>\n      <th>...</th>\n      <td>...</td>\n      <td>...</td>\n      <td>...</td>\n      <td>...</td>\n      <td>...</td>\n    </tr>\n    <tr>\n      <th>9896</th>\n      <td>777.896484</td>\n      <td>791.74</td>\n      <td>0.992</td>\n      <td>0.9175</td>\n      <td>13.843516</td>\n    </tr>\n    <tr>\n      <th>11539</th>\n      <td>718.623352</td>\n      <td>733.08</td>\n      <td>0.996</td>\n      <td>0.9375</td>\n      <td>14.456648</td>\n    </tr>\n    <tr>\n      <th>15566</th>\n      <td>756.037781</td>\n      <td>771.22</td>\n      <td>0.996</td>\n      <td>0.9250</td>\n      <td>15.182219</td>\n    </tr>\n    <tr>\n      <th>19281</th>\n      <td>792.360596</td>\n      <td>807.84</td>\n      <td>1.000</td>\n      <td>0.9125</td>\n      <td>15.479404</td>\n    </tr>\n    <tr>\n      <th>20012</th>\n      <td>606.472046</td>\n      <td>588.92</td>\n      <td>0.996</td>\n      <td>0.9750</td>\n      <td>17.552046</td>\n    </tr>\n  </tbody>\n</table>\n<p>20131 rows × 5 columns</p>\n</div>"
     },
     "execution_count": 23,
     "metadata": {},
     "output_type": "execute_result"
    }
   ],
   "source": [
    "#Ausgabe der höchsten Abweichungen zwischen Echt und Vorhergesagt\n",
    "df_result = pd.DataFrame({'Echt': [val[0] for val in list2], 'Vorhergesagt': [val[0] for val in list1]})\n",
    "df_result['X-Koordinate'] = X_test_scaled[:, 0]\n",
    "df_result['Y-Koordinate'] = X_test_scaled[:, 1]\n",
    "\n",
    "df_result['Differenz'] = abs(df_result['Echt'] - df_result['Vorhergesagt'])\n",
    "df_result['Differenz'].sort_values()\n",
    "sorted_df = df_result.sort_values(by= 'Differenz')\n",
    "Anzahl_Punkte = (sorted_df['Differenz'] > 20).sum()\n",
    "print(\"Anzahl der Werte die kleiner sind:\", Anzahl_Punkte)\n",
    "\n",
    "sorted_df"
   ],
   "metadata": {
    "collapsed": false,
    "ExecuteTime": {
     "end_time": "2024-04-15T12:18:59.264613100Z",
     "start_time": "2024-04-15T12:18:59.209284300Z"
    }
   },
   "id": "42bde60d3b4f2007"
  },
  {
   "cell_type": "markdown",
   "id": "553df6fa",
   "metadata": {},
   "source": [
    "# Plotten des Trainingsprozesses"
   ]
  },
  {
   "cell_type": "code",
   "execution_count": 25,
   "outputs": [
    {
     "ename": "NameError",
     "evalue": "name 'history' is not defined",
     "output_type": "error",
     "traceback": [
      "\u001B[1;31m---------------------------------------------------------------------------\u001B[0m",
      "\u001B[1;31mNameError\u001B[0m                                 Traceback (most recent call last)",
      "Cell \u001B[1;32mIn[25], line 1\u001B[0m\n\u001B[1;32m----> 1\u001B[0m mse \u001B[38;5;241m=\u001B[39m \u001B[43mhistory\u001B[49m\u001B[38;5;241m.\u001B[39mhistory[\u001B[38;5;124m'\u001B[39m\u001B[38;5;124mloss\u001B[39m\u001B[38;5;124m'\u001B[39m]\n\u001B[0;32m      2\u001B[0m val_mse \u001B[38;5;241m=\u001B[39m history\u001B[38;5;241m.\u001B[39mhistory[\u001B[38;5;124m'\u001B[39m\u001B[38;5;124mval_loss\u001B[39m\u001B[38;5;124m'\u001B[39m]\n\u001B[0;32m      4\u001B[0m epochs \u001B[38;5;241m=\u001B[39m \u001B[38;5;28mrange\u001B[39m(\u001B[38;5;241m1\u001B[39m, \u001B[38;5;28mlen\u001B[39m(mae) \u001B[38;5;241m+\u001B[39m \u001B[38;5;241m1\u001B[39m)\n",
      "\u001B[1;31mNameError\u001B[0m: name 'history' is not defined"
     ]
    }
   ],
   "source": [
    "mse = history.history['loss']\n",
    "val_mse = history.history['val_loss']\n",
    "\n",
    "epochs = range(1, len(mse) + 1)\n",
    "# MAE Diagramm\n",
    "plt.figure(figsize=(10, 6))\n",
    "plt.plot(epochs, mse, 'r', label='Training MSE')\n",
    "plt.plot(epochs, val_mse, 'b', label='Validation MSE')\n",
    "plt.title('Training and Validation MAE')\n",
    "plt.xlabel('Epochs')\n",
    "plt.ylabel('MSE')\n",
    "plt.legend()\n",
    "plt.savefig('C:/Users/erikm/Desktop/Diplomarbeit Erik Marr/Bilder Diplomarbeit/MSE_NeuroNetz/MSE_NeuroNetz_D1_1')\n",
    "plt.show()\n"
   ],
   "metadata": {
    "collapsed": false,
    "ExecuteTime": {
     "end_time": "2024-04-15T12:19:36.509413900Z",
     "start_time": "2024-04-15T12:19:36.469008300Z"
    }
   },
   "id": "3688dd7102e95baf"
  },
  {
   "cell_type": "markdown",
   "source": [
    "\n",
    "# GridSearch Hyperparameter"
   ],
   "metadata": {
    "collapsed": false
   },
   "id": "9c177960cc729052"
  },
  {
   "cell_type": "code",
   "execution_count": 59,
   "id": "3f17e2cf",
   "metadata": {
    "ExecuteTime": {
     "end_time": "2024-03-15T10:00:01.423818100Z",
     "start_time": "2024-03-15T10:00:01.416947800Z"
    }
   },
   "outputs": [],
   "source": [
    "def build_model(learning_rate=0.001, activation='relu', regularization=0.0001, dropout_rate=0.0):\n",
    "    model = Sequential()\n",
    "    model.add(Dense(256, activation=activation, input_shape=(2,), kernel_initializer='he_uniform', kernel_regularizer=l2(regularization)))\n",
    "    model.add(Dropout(dropout_rate))\n",
    "\n",
    "    model.add(Dense(128, activation=activation, kernel_initializer='he_uniform', kernel_regularizer=l2(regularization)))\n",
    "    model.add(Dropout(dropout_rate))\n",
    "\n",
    "    model.add(Dense(160, activation=activation, kernel_initializer='he_uniform', kernel_regularizer=l2(regularization)))\n",
    "    model.add(Dropout(dropout_rate))\n",
    "\n",
    "    model.add(Dense(224, activation=activation, kernel_initializer='he_uniform', kernel_regularizer=l2(regularization)))\n",
    "    model.add(Dropout(dropout_rate))\n",
    "\n",
    "    model.add(Dense(112, activation=activation, kernel_initializer='he_uniform', kernel_regularizer=l2(regularization)))\n",
    "    model.add(Dropout(dropout_rate))\n",
    "\n",
    "    model.add(Dense(320, activation=activation, kernel_initializer='he_uniform', kernel_regularizer=l2(regularization)))\n",
    "    model.add(Dropout(dropout_rate))\n",
    "\n",
    "    model.add(Dense(16, activation=activation, kernel_initializer='he_uniform', kernel_regularizer=l2(regularization)))\n",
    "    model.add(Dropout(dropout_rate))\n",
    "\n",
    "    model.add(Dense(112, activation=activation, kernel_initializer='he_uniform', kernel_regularizer=l2(regularization)))\n",
    "    model.add(Dropout(dropout_rate)) \n",
    "\n",
    "    model.add(Dense(1, activation='linear'))\n",
    "    model.compile(optimizer=Adam(learning_rate=learning_rate), loss='mean_squared_error', metrics=['mae'])\n",
    "    return model\n",
    "\n",
    "# Verwenden Sie eine Funktion, um das Modell zu instanziieren, für scikit-learn Wrapper\n",
    "model = KerasRegressor(model=build_model, verbose=2)\n",
    "\n",
    "# Anpassung der Parameter im param_grid\n",
    "param_grid = {\n",
    "    'model__learning_rate': [0.01, 0.001, 0.0001],\n",
    "    'model__regularization': [0.001, 0.0001, 0.00001],\n",
    "    'fit__batch_size': [100, 200, 400, 800],\n",
    "    'fit__epochs': [50],\n",
    "    'model__dropout_rate' : [0.0, 0.1, 0.2]\n",
    "}\n",
    "\n",
    "grid_search = GridSearchCV(estimator=model, param_grid=param_grid, n_jobs=-1, cv=3, verbose=2)\n",
    "# Hinweis: Stellen Sie sicher, dass Ihre Daten (X_train_scaled, y_train_scaled) korrekt definiert sind\n",
    "grid_result = grid_search.fit(X_train_scaled, y_train_scaled)\n",
    "# Beste Parameter und Score ausgeben\n",
    "print(\"Beste Parameter:\", grid_search.best_params_)\n",
    "print(\"Beste Genauigkeit:\", grid_search.best_score_)\n",
    "\n",
    "with open(\"grid_search_D1_1.txt\", \"w\") as f:\n",
    "    f.write(f\"Beste Parameter: {grid_search.best_params_}\\n\")\n",
    "    f.write(f\"Beste Genauigkeit: {grid_search.best_score_}\")\n"
   ]
  },
  {
   "cell_type": "markdown",
   "source": [
    "# Random Search Architektur\n"
   ],
   "metadata": {
    "collapsed": false
   },
   "id": "75773dfef8260e5f"
  },
  {
   "cell_type": "code",
   "execution_count": 61,
   "outputs": [],
   "source": [
    "# Funktion zum Erstellen des Modells\n",
    "def build_model(hp):\n",
    "    model = Sequential()\n",
    "    model.add(Dense(hp.Int('input_units', min_value=8, max_value=328, step=16), input_shape=(2,), activation='relu'))\n",
    "    for i in range(hp.Int('n_layers', 1, 10)):\n",
    "        model.add(Dense(hp.Int(f'units_{i}', min_value=8, max_value=328, step=16), activation='relu'))\n",
    "    model.add(Dense(1, activation='linear'))\n",
    "    model.compile(optimizer='adam', loss='mean_squared_error')\n",
    "    return model\n",
    "\n",
    "# Durchführung der Random Search dreimal\n",
    "for run in range(1, 4):\n",
    "    # Anpassen des Verzeichnisses und des Projektnamens für jeden Durchlauf\n",
    "    directory = 'random_search'\n",
    "    project_name = f'random_search_D1_{run}'\n",
    "\n",
    "    tuner = RandomSearch(\n",
    "        build_model,\n",
    "        objective='val_loss',\n",
    "        max_trials=100,\n",
    "        executions_per_trial=1,\n",
    "        directory=directory,\n",
    "        project_name=project_name\n",
    "    )\n",
    "\n",
    "    # Durchführung des Random Search\n",
    "    tuner.search(X_train_scaled, y_train_scaled, epochs=50, verbose =0, batch_size=500, validation_split=0.2, callbacks=[EarlyStopping(monitor='val_loss', patience=5)])\n",
    "\n",
    "    # Abrufen und Speichern des besten Modells\n",
    "    best_model = tuner.get_best_models(num_models=1)[0]\n",
    "    model_path = os.path.join(directory, project_name, 'best_model.h5') \n",
    "    best_model.save(model_path)\n",
    "\n",
    "\n",
    "    # Optional: Abrufen und Ausgeben der besten Hyperparameter\n",
    "    best_hyperparameters = tuner.get_best_hyperparameters()[0]\n",
    "\n",
    "    # Konvertieren der Hyperparameter in ein DataFrame\n",
    "    df_hyperparameters = pd.DataFrame([best_hyperparameters.values])\n",
    "    # Speichern des DataFrame als CSV\n",
    "    df_hyperparameters.to_csv(f'random_search_D1_{run}.csv', index=False)\n",
    "    best_model.describe()\n",
    "    print(f\"Beste Hyperparameter für Lauf {run}: {best_hyperparameters.values}\")"
   ],
   "metadata": {
    "collapsed": false,
    "ExecuteTime": {
     "end_time": "2024-03-15T10:00:01.435372800Z",
     "start_time": "2024-03-15T10:00:01.425559Z"
    }
   },
   "id": "158d81fabf560fc4"
  }
 ],
 "metadata": {
  "kernelspec": {
   "display_name": "Python 3 (ipykernel)",
   "language": "python",
   "name": "python3"
  },
  "language_info": {
   "codemirror_mode": {
    "name": "ipython",
    "version": 3
   },
   "file_extension": ".py",
   "mimetype": "text/x-python",
   "name": "python",
   "nbconvert_exporter": "python",
   "pygments_lexer": "ipython3",
   "version": "3.11.4"
  }
 },
 "nbformat": 4,
 "nbformat_minor": 5
}
