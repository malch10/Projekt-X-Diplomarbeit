{
 "cells": [
  {
   "cell_type": "code",
   "execution_count": 73,
   "id": "94b0518e",
   "metadata": {
    "ExecuteTime": {
     "end_time": "2024-02-07T12:58:09.618352700Z",
     "start_time": "2024-02-07T12:58:09.590040400Z"
    }
   },
   "outputs": [],
   "source": [
    "import numpy as np\n",
    "import tensorflow as tf\n",
    "import matplotlib.pyplot as plt\n",
    "import pandas as pd\n",
    "from tensorflow import keras\n",
    "from tensorflow.keras.models import Sequential\n",
    "from tensorflow.keras.layers import Dense\n",
    "from sklearn.model_selection import train_test_split\n",
    "from tensorflow.keras import layers\n",
    "import glob\n",
    "\n",
    "from sklearn.preprocessing import MinMaxScaler, StandardScaler\n",
    "import pandas as pd\n",
    "\n",
    "from tensorflow.keras.models import Sequential\n",
    "from tensorflow.keras.layers import Dense , Dropout\n",
    "from sklearn.model_selection import GridSearchCV\n",
    "from scikeras.wrappers import KerasRegressor, KerasClassifier\n",
    "from tensorflow.keras.regularizers import l2\n",
    "from tensorflow.keras.callbacks import EarlyStopping\n",
    "from tensorflow.keras.optimizers import Adam\n"
   ]
  },
  {
   "cell_type": "code",
   "execution_count": 161,
   "id": "e4ff61b1",
   "metadata": {
    "ExecuteTime": {
     "end_time": "2024-02-07T16:02:16.170356200Z",
     "start_time": "2024-02-07T16:02:16.131938200Z"
    }
   },
   "outputs": [
    {
     "data": {
      "text/plain": "        X-Koordinate  Y-Koordinate  Zeitpunkt  Strom  Kraft  Temperatur\n1                  0      -0.00200        500   7000   9000      669.05\n2                  0      -0.00199        500   7000   9000      675.83\n3                  0      -0.00198        500   7000   9000      682.81\n4                  0      -0.00197        500   7000   9000      689.82\n5                  0      -0.00196        500   7000   9000      696.80\n...              ...           ...        ...    ...    ...         ...\n120997           300       0.00196        500   7000   9000      516.32\n120998           300       0.00197        500   7000   9000      516.04\n120999           300       0.00198        500   7000   9000      515.74\n121000           300       0.00199        500   7000   9000      515.43\n121001           300       0.00200        500   7000   9000      515.09\n\n[121001 rows x 6 columns]",
      "text/html": "<div>\n<style scoped>\n    .dataframe tbody tr th:only-of-type {\n        vertical-align: middle;\n    }\n\n    .dataframe tbody tr th {\n        vertical-align: top;\n    }\n\n    .dataframe thead th {\n        text-align: right;\n    }\n</style>\n<table border=\"1\" class=\"dataframe\">\n  <thead>\n    <tr style=\"text-align: right;\">\n      <th></th>\n      <th>X-Koordinate</th>\n      <th>Y-Koordinate</th>\n      <th>Zeitpunkt</th>\n      <th>Strom</th>\n      <th>Kraft</th>\n      <th>Temperatur</th>\n    </tr>\n  </thead>\n  <tbody>\n    <tr>\n      <th>1</th>\n      <td>0</td>\n      <td>-0.00200</td>\n      <td>500</td>\n      <td>7000</td>\n      <td>9000</td>\n      <td>669.05</td>\n    </tr>\n    <tr>\n      <th>2</th>\n      <td>0</td>\n      <td>-0.00199</td>\n      <td>500</td>\n      <td>7000</td>\n      <td>9000</td>\n      <td>675.83</td>\n    </tr>\n    <tr>\n      <th>3</th>\n      <td>0</td>\n      <td>-0.00198</td>\n      <td>500</td>\n      <td>7000</td>\n      <td>9000</td>\n      <td>682.81</td>\n    </tr>\n    <tr>\n      <th>4</th>\n      <td>0</td>\n      <td>-0.00197</td>\n      <td>500</td>\n      <td>7000</td>\n      <td>9000</td>\n      <td>689.82</td>\n    </tr>\n    <tr>\n      <th>5</th>\n      <td>0</td>\n      <td>-0.00196</td>\n      <td>500</td>\n      <td>7000</td>\n      <td>9000</td>\n      <td>696.80</td>\n    </tr>\n    <tr>\n      <th>...</th>\n      <td>...</td>\n      <td>...</td>\n      <td>...</td>\n      <td>...</td>\n      <td>...</td>\n      <td>...</td>\n    </tr>\n    <tr>\n      <th>120997</th>\n      <td>300</td>\n      <td>0.00196</td>\n      <td>500</td>\n      <td>7000</td>\n      <td>9000</td>\n      <td>516.32</td>\n    </tr>\n    <tr>\n      <th>120998</th>\n      <td>300</td>\n      <td>0.00197</td>\n      <td>500</td>\n      <td>7000</td>\n      <td>9000</td>\n      <td>516.04</td>\n    </tr>\n    <tr>\n      <th>120999</th>\n      <td>300</td>\n      <td>0.00198</td>\n      <td>500</td>\n      <td>7000</td>\n      <td>9000</td>\n      <td>515.74</td>\n    </tr>\n    <tr>\n      <th>121000</th>\n      <td>300</td>\n      <td>0.00199</td>\n      <td>500</td>\n      <td>7000</td>\n      <td>9000</td>\n      <td>515.43</td>\n    </tr>\n    <tr>\n      <th>121001</th>\n      <td>300</td>\n      <td>0.00200</td>\n      <td>500</td>\n      <td>7000</td>\n      <td>9000</td>\n      <td>515.09</td>\n    </tr>\n  </tbody>\n</table>\n<p>121001 rows × 6 columns</p>\n</div>"
     },
     "execution_count": 161,
     "metadata": {},
     "output_type": "execute_result"
    }
   ],
   "source": [
    "# data = pd.read_pickle('C:/Users/erikm/Desktop/Diplomarbeit Erik Marr/Daten/Finish/TPath_300_finish_data.pkl')\n",
    "data = pd.read_pickle('C:/Users/erikm/Desktop/Diplomarbeit Erik Marr/Daten/Finish/TPath_500_finish_data.pkl')\n",
    "\n",
    "data"
   ]
  },
  {
   "cell_type": "code",
   "execution_count": 162,
   "id": "966e3c74",
   "metadata": {
    "ExecuteTime": {
     "end_time": "2024-02-07T16:02:16.947367700Z",
     "start_time": "2024-02-07T16:02:16.911620700Z"
    }
   },
   "outputs": [
    {
     "data": {
      "text/plain": "        X-Koordinate  Y-Koordinate  Temperatur\n1                  0      -0.00200      669.05\n2                  0      -0.00199      675.83\n3                  0      -0.00198      682.81\n4                  0      -0.00197      689.82\n5                  0      -0.00196      696.80\n...              ...           ...         ...\n120997           300       0.00196      516.32\n120998           300       0.00197      516.04\n120999           300       0.00198      515.74\n121000           300       0.00199      515.43\n121001           300       0.00200      515.09\n\n[121001 rows x 3 columns]",
      "text/html": "<div>\n<style scoped>\n    .dataframe tbody tr th:only-of-type {\n        vertical-align: middle;\n    }\n\n    .dataframe tbody tr th {\n        vertical-align: top;\n    }\n\n    .dataframe thead th {\n        text-align: right;\n    }\n</style>\n<table border=\"1\" class=\"dataframe\">\n  <thead>\n    <tr style=\"text-align: right;\">\n      <th></th>\n      <th>X-Koordinate</th>\n      <th>Y-Koordinate</th>\n      <th>Temperatur</th>\n    </tr>\n  </thead>\n  <tbody>\n    <tr>\n      <th>1</th>\n      <td>0</td>\n      <td>-0.00200</td>\n      <td>669.05</td>\n    </tr>\n    <tr>\n      <th>2</th>\n      <td>0</td>\n      <td>-0.00199</td>\n      <td>675.83</td>\n    </tr>\n    <tr>\n      <th>3</th>\n      <td>0</td>\n      <td>-0.00198</td>\n      <td>682.81</td>\n    </tr>\n    <tr>\n      <th>4</th>\n      <td>0</td>\n      <td>-0.00197</td>\n      <td>689.82</td>\n    </tr>\n    <tr>\n      <th>5</th>\n      <td>0</td>\n      <td>-0.00196</td>\n      <td>696.80</td>\n    </tr>\n    <tr>\n      <th>...</th>\n      <td>...</td>\n      <td>...</td>\n      <td>...</td>\n    </tr>\n    <tr>\n      <th>120997</th>\n      <td>300</td>\n      <td>0.00196</td>\n      <td>516.32</td>\n    </tr>\n    <tr>\n      <th>120998</th>\n      <td>300</td>\n      <td>0.00197</td>\n      <td>516.04</td>\n    </tr>\n    <tr>\n      <th>120999</th>\n      <td>300</td>\n      <td>0.00198</td>\n      <td>515.74</td>\n    </tr>\n    <tr>\n      <th>121000</th>\n      <td>300</td>\n      <td>0.00199</td>\n      <td>515.43</td>\n    </tr>\n    <tr>\n      <th>121001</th>\n      <td>300</td>\n      <td>0.00200</td>\n      <td>515.09</td>\n    </tr>\n  </tbody>\n</table>\n<p>121001 rows × 3 columns</p>\n</div>"
     },
     "execution_count": 162,
     "metadata": {},
     "output_type": "execute_result"
    }
   ],
   "source": [
    "df = data.drop(data.columns[2:5], axis = 1)\n",
    "df"
   ]
  },
  {
   "cell_type": "code",
   "execution_count": 163,
   "id": "8783d1d6",
   "metadata": {
    "ExecuteTime": {
     "end_time": "2024-02-07T16:02:24.048325300Z",
     "start_time": "2024-02-07T16:02:24.013883500Z"
    }
   },
   "outputs": [
    {
     "name": "stdout",
     "output_type": "stream",
     "text": [
      "        X-Koordinate  Y-Koordinate  Temperatur\n",
      "85427            212       0.00002     1318.80\n",
      "6977              17      -0.00058     1466.20\n",
      "101558           252       0.00053     1149.50\n",
      "22333             55       0.00022     1487.20\n",
      "13974             34       0.00105     1194.30\n",
      "...              ...           ...         ...\n",
      "110269           274      -0.00080     1065.60\n",
      "119880           298      -0.00117      936.07\n",
      "103695           257       0.00180      701.17\n",
      "861                2      -0.00144     1057.50\n",
      "15796             39      -0.00083     1390.80\n",
      "\n",
      "[121001 rows x 3 columns]\n"
     ]
    },
    {
     "data": {
      "text/plain": "        X-Koordinate  Y-Koordinate  Temperatur\n0                212       0.00002     1318.80\n1                 17      -0.00058     1466.20\n2                252       0.00053     1149.50\n3                 55       0.00022     1487.20\n4                 34       0.00105     1194.30\n...              ...           ...         ...\n120996           274      -0.00080     1065.60\n120997           298      -0.00117      936.07\n120998           257       0.00180      701.17\n120999             2      -0.00144     1057.50\n121000            39      -0.00083     1390.80\n\n[121001 rows x 3 columns]",
      "text/html": "<div>\n<style scoped>\n    .dataframe tbody tr th:only-of-type {\n        vertical-align: middle;\n    }\n\n    .dataframe tbody tr th {\n        vertical-align: top;\n    }\n\n    .dataframe thead th {\n        text-align: right;\n    }\n</style>\n<table border=\"1\" class=\"dataframe\">\n  <thead>\n    <tr style=\"text-align: right;\">\n      <th></th>\n      <th>X-Koordinate</th>\n      <th>Y-Koordinate</th>\n      <th>Temperatur</th>\n    </tr>\n  </thead>\n  <tbody>\n    <tr>\n      <th>0</th>\n      <td>212</td>\n      <td>0.00002</td>\n      <td>1318.80</td>\n    </tr>\n    <tr>\n      <th>1</th>\n      <td>17</td>\n      <td>-0.00058</td>\n      <td>1466.20</td>\n    </tr>\n    <tr>\n      <th>2</th>\n      <td>252</td>\n      <td>0.00053</td>\n      <td>1149.50</td>\n    </tr>\n    <tr>\n      <th>3</th>\n      <td>55</td>\n      <td>0.00022</td>\n      <td>1487.20</td>\n    </tr>\n    <tr>\n      <th>4</th>\n      <td>34</td>\n      <td>0.00105</td>\n      <td>1194.30</td>\n    </tr>\n    <tr>\n      <th>...</th>\n      <td>...</td>\n      <td>...</td>\n      <td>...</td>\n    </tr>\n    <tr>\n      <th>120996</th>\n      <td>274</td>\n      <td>-0.00080</td>\n      <td>1065.60</td>\n    </tr>\n    <tr>\n      <th>120997</th>\n      <td>298</td>\n      <td>-0.00117</td>\n      <td>936.07</td>\n    </tr>\n    <tr>\n      <th>120998</th>\n      <td>257</td>\n      <td>0.00180</td>\n      <td>701.17</td>\n    </tr>\n    <tr>\n      <th>120999</th>\n      <td>2</td>\n      <td>-0.00144</td>\n      <td>1057.50</td>\n    </tr>\n    <tr>\n      <th>121000</th>\n      <td>39</td>\n      <td>-0.00083</td>\n      <td>1390.80</td>\n    </tr>\n  </tbody>\n</table>\n<p>121001 rows × 3 columns</p>\n</div>"
     },
     "execution_count": 163,
     "metadata": {},
     "output_type": "execute_result"
    }
   ],
   "source": [
    "df1 = df.sample(frac=1, random_state=42)  # Hier wird 42 als Random State verwendet, um die Ergebnisse reproduzierbar zu machen\n",
    "\n",
    "print(df1)\n",
    "df_reset = df1.reset_index(drop=True)\n",
    "df_reset"
   ]
  },
  {
   "cell_type": "code",
   "execution_count": 164,
   "id": "a4e72a16",
   "metadata": {
    "ExecuteTime": {
     "end_time": "2024-02-07T16:02:25.411992900Z",
     "start_time": "2024-02-07T16:02:25.409537400Z"
    }
   },
   "outputs": [],
   "source": [
    "label = df_reset[\"Temperatur\"]\n",
    "# Korrektur: Verwenden Sie den Spaltennamen direkt, ohne Indexierung der columns-Eigenschaft\n",
    "df1 = df_reset.drop(\"Temperatur\", axis=1)\n",
    "X = df1\n",
    "y = label\n"
   ]
  },
  {
   "cell_type": "code",
   "execution_count": 165,
   "id": "e694a236",
   "metadata": {
    "ExecuteTime": {
     "end_time": "2024-02-07T16:02:26.167928100Z",
     "start_time": "2024-02-07T16:02:26.166830Z"
    }
   },
   "outputs": [
    {
     "data": {
      "text/plain": "        X-Koordinate  Y-Koordinate\n0                212       0.00002\n1                 17      -0.00058\n2                252       0.00053\n3                 55       0.00022\n4                 34       0.00105\n...              ...           ...\n120996           274      -0.00080\n120997           298      -0.00117\n120998           257       0.00180\n120999             2      -0.00144\n121000            39      -0.00083\n\n[121001 rows x 2 columns]",
      "text/html": "<div>\n<style scoped>\n    .dataframe tbody tr th:only-of-type {\n        vertical-align: middle;\n    }\n\n    .dataframe tbody tr th {\n        vertical-align: top;\n    }\n\n    .dataframe thead th {\n        text-align: right;\n    }\n</style>\n<table border=\"1\" class=\"dataframe\">\n  <thead>\n    <tr style=\"text-align: right;\">\n      <th></th>\n      <th>X-Koordinate</th>\n      <th>Y-Koordinate</th>\n    </tr>\n  </thead>\n  <tbody>\n    <tr>\n      <th>0</th>\n      <td>212</td>\n      <td>0.00002</td>\n    </tr>\n    <tr>\n      <th>1</th>\n      <td>17</td>\n      <td>-0.00058</td>\n    </tr>\n    <tr>\n      <th>2</th>\n      <td>252</td>\n      <td>0.00053</td>\n    </tr>\n    <tr>\n      <th>3</th>\n      <td>55</td>\n      <td>0.00022</td>\n    </tr>\n    <tr>\n      <th>4</th>\n      <td>34</td>\n      <td>0.00105</td>\n    </tr>\n    <tr>\n      <th>...</th>\n      <td>...</td>\n      <td>...</td>\n    </tr>\n    <tr>\n      <th>120996</th>\n      <td>274</td>\n      <td>-0.00080</td>\n    </tr>\n    <tr>\n      <th>120997</th>\n      <td>298</td>\n      <td>-0.00117</td>\n    </tr>\n    <tr>\n      <th>120998</th>\n      <td>257</td>\n      <td>0.00180</td>\n    </tr>\n    <tr>\n      <th>120999</th>\n      <td>2</td>\n      <td>-0.00144</td>\n    </tr>\n    <tr>\n      <th>121000</th>\n      <td>39</td>\n      <td>-0.00083</td>\n    </tr>\n  </tbody>\n</table>\n<p>121001 rows × 2 columns</p>\n</div>"
     },
     "execution_count": 165,
     "metadata": {},
     "output_type": "execute_result"
    }
   ],
   "source": [
    "X"
   ]
  },
  {
   "cell_type": "code",
   "execution_count": 166,
   "id": "3f3303b4",
   "metadata": {
    "ExecuteTime": {
     "end_time": "2024-02-07T16:02:26.578190900Z",
     "start_time": "2024-02-07T16:02:26.569443500Z"
    }
   },
   "outputs": [
    {
     "data": {
      "text/plain": "0         1318.80\n1         1466.20\n2         1149.50\n3         1487.20\n4         1194.30\n           ...   \n120996    1065.60\n120997     936.07\n120998     701.17\n120999    1057.50\n121000    1390.80\nName: Temperatur, Length: 121001, dtype: float64"
     },
     "execution_count": 166,
     "metadata": {},
     "output_type": "execute_result"
    }
   ],
   "source": [
    "y"
   ]
  },
  {
   "cell_type": "code",
   "execution_count": 167,
   "id": "e3ad8da0",
   "metadata": {
    "ExecuteTime": {
     "end_time": "2024-02-07T16:02:27.374860900Z",
     "start_time": "2024-02-07T16:02:27.337630500Z"
    }
   },
   "outputs": [],
   "source": [
    " # train_df enthält 80% der Daten, test_df enthält 20% der Daten\n",
    "X_train, X_test, y_train, y_test = train_test_split(X, y, test_size=0.20, random_state=42)\n"
   ]
  },
  {
   "cell_type": "code",
   "execution_count": 168,
   "id": "9c705edb",
   "metadata": {
    "ExecuteTime": {
     "end_time": "2024-02-07T16:02:27.958261600Z",
     "start_time": "2024-02-07T16:02:27.923873600Z"
    }
   },
   "outputs": [],
   "source": [
    "# Initialisiere einen MinMaxScaler für die Features\n",
    "scaler_features = MinMaxScaler()\n",
    "scaler_features2 = MinMaxScaler()\n",
    "# Skaliere X_train und X_test\n",
    "X_train_scaled = scaler_features.fit_transform(X_train)\n",
    "X_test_scaled = scaler_features.transform(X_test)  # Nutze unterschiedliche Skalierungsparameter\n",
    "\n",
    "# Initialisiere einen SEPARATEN MinMaxScaler für das Ziel, wenn nötig\n",
    "scaler_target = MinMaxScaler()\n",
    "\n",
    "\n",
    "# Skaliere y_train und y_test. Beachte, dass y_train.reshape(-1, 1) verwendet wird, da MinMaxScaler \n",
    "# erwartet, dass die Eingaben als 2D-Arrays kommen, und Ziele normalerweise als 1D-Arrays vorliegen.\n",
    "y_train_scaled = scaler_target.fit_transform(y_train.values.reshape(-1, 1))\n",
    "y_test_scaled = scaler_target.transform(y_test.values.reshape(-1, 1))\n"
   ]
  },
  {
   "cell_type": "code",
   "execution_count": 169,
   "id": "bbefe631e495b483",
   "metadata": {
    "ExecuteTime": {
     "end_time": "2024-02-07T16:02:30.812349900Z",
     "start_time": "2024-02-07T16:02:30.807472100Z"
    }
   },
   "outputs": [
    {
     "data": {
      "text/plain": "array([[0.48666667, 0.7575    ],\n       [0.06666667, 0.4075    ],\n       [0.48333333, 0.2       ],\n       ...,\n       [0.27333333, 0.745     ],\n       [0.36333333, 0.64      ],\n       [0.89666667, 0.49      ]])"
     },
     "execution_count": 169,
     "metadata": {},
     "output_type": "execute_result"
    }
   ],
   "source": [
    "X_train_scaled"
   ]
  },
  {
   "cell_type": "code",
   "execution_count": 170,
   "outputs": [
    {
     "data": {
      "text/plain": "1.0"
     },
     "execution_count": 170,
     "metadata": {},
     "output_type": "execute_result"
    }
   ],
   "source": [
    "y_train_scaled.max()"
   ],
   "metadata": {
    "collapsed": false,
    "ExecuteTime": {
     "end_time": "2024-02-07T16:02:32.992869600Z",
     "start_time": "2024-02-07T16:02:32.987541Z"
    }
   },
   "id": "ce04ce43aac2242f"
  },
  {
   "cell_type": "code",
   "execution_count": 171,
   "id": "a6eccbb7534cd064",
   "metadata": {
    "ExecuteTime": {
     "end_time": "2024-02-07T16:02:33.657628400Z",
     "start_time": "2024-02-07T16:02:33.652608800Z"
    }
   },
   "outputs": [],
   "source": [
    "# Lernplan erstellen\n",
    "#initial_learning_rate = 0.1\n",
    "#lr_schedule = tf.keras.optimizers.schedules.ExponentialDecay(\n",
    "#    initial_learning_rate, decay_steps=100, decay_rate=0.9, staircase=True)"
   ]
  },
  {
   "cell_type": "code",
   "execution_count": 178,
   "outputs": [
    {
     "name": "stdout",
     "output_type": "stream",
     "text": [
      "Epoch 1/100\n",
      "1549/1549 [==============================] - 2s 1ms/step - loss: 0.3007 - mae: 0.1261 - val_loss: 0.0647 - val_mae: 0.0560\n",
      "Epoch 2/100\n",
      "1549/1549 [==============================] - 1s 949us/step - loss: 0.0252 - mae: 0.0526 - val_loss: 0.0110 - val_mae: 0.0502\n",
      "Epoch 3/100\n",
      "1549/1549 [==============================] - 1s 923us/step - loss: 0.0092 - mae: 0.0470 - val_loss: 0.0083 - val_mae: 0.0455\n",
      "Epoch 4/100\n",
      "1549/1549 [==============================] - 2s 970us/step - loss: 0.0073 - mae: 0.0400 - val_loss: 0.0068 - val_mae: 0.0394\n",
      "Epoch 5/100\n",
      "1549/1549 [==============================] - 1s 905us/step - loss: 0.0060 - mae: 0.0334 - val_loss: 0.0058 - val_mae: 0.0351\n",
      "Epoch 6/100\n",
      "1549/1549 [==============================] - 1s 942us/step - loss: 0.0051 - mae: 0.0282 - val_loss: 0.0048 - val_mae: 0.0250\n",
      "Epoch 7/100\n",
      "1549/1549 [==============================] - 1s 942us/step - loss: 0.0045 - mae: 0.0249 - val_loss: 0.0043 - val_mae: 0.0226\n",
      "Epoch 8/100\n",
      "1549/1549 [==============================] - 1s 954us/step - loss: 0.0041 - mae: 0.0226 - val_loss: 0.0042 - val_mae: 0.0227\n",
      "Epoch 9/100\n",
      "1549/1549 [==============================] - 2s 970us/step - loss: 0.0038 - mae: 0.0212 - val_loss: 0.0038 - val_mae: 0.0197\n",
      "Epoch 10/100\n",
      "1549/1549 [==============================] - 1s 909us/step - loss: 0.0036 - mae: 0.0199 - val_loss: 0.0036 - val_mae: 0.0208\n",
      "Epoch 11/100\n",
      "1549/1549 [==============================] - 1s 896us/step - loss: 0.0034 - mae: 0.0189 - val_loss: 0.0034 - val_mae: 0.0173\n",
      "Epoch 12/100\n",
      "1549/1549 [==============================] - 1s 931us/step - loss: 0.0033 - mae: 0.0182 - val_loss: 0.0033 - val_mae: 0.0168\n",
      "Epoch 13/100\n",
      "1549/1549 [==============================] - 1s 946us/step - loss: 0.0032 - mae: 0.0178 - val_loss: 0.0033 - val_mae: 0.0153\n",
      "Epoch 14/100\n",
      "1549/1549 [==============================] - 1s 964us/step - loss: 0.0032 - mae: 0.0177 - val_loss: 0.0034 - val_mae: 0.0229\n",
      "Epoch 15/100\n",
      "1549/1549 [==============================] - 1s 949us/step - loss: 0.0031 - mae: 0.0177 - val_loss: 0.0036 - val_mae: 0.0245\n",
      "Epoch 16/100\n",
      "1549/1549 [==============================] - 1s 953us/step - loss: 0.0031 - mae: 0.0173 - val_loss: 0.0031 - val_mae: 0.0179\n",
      "Epoch 17/100\n",
      "1549/1549 [==============================] - 1s 898us/step - loss: 0.0030 - mae: 0.0174 - val_loss: 0.0031 - val_mae: 0.0143\n",
      "Epoch 18/100\n",
      "1549/1549 [==============================] - 2s 969us/step - loss: 0.0030 - mae: 0.0174 - val_loss: 0.0031 - val_mae: 0.0183\n",
      "Epoch 19/100\n",
      "1549/1549 [==============================] - 1s 908us/step - loss: 0.0030 - mae: 0.0171 - val_loss: 0.0033 - val_mae: 0.0232\n",
      "Epoch 20/100\n",
      "1549/1549 [==============================] - 1s 938us/step - loss: 0.0029 - mae: 0.0170 - val_loss: 0.0038 - val_mae: 0.0306\n",
      "Epoch 21/100\n",
      "1549/1549 [==============================] - 1s 942us/step - loss: 0.0029 - mae: 0.0174 - val_loss: 0.0030 - val_mae: 0.0155\n",
      "Epoch 22/100\n",
      "1549/1549 [==============================] - 1s 949us/step - loss: 0.0029 - mae: 0.0172 - val_loss: 0.0031 - val_mae: 0.0190\n",
      "Epoch 23/100\n",
      "1549/1549 [==============================] - 1s 944us/step - loss: 0.0029 - mae: 0.0173 - val_loss: 0.0031 - val_mae: 0.0198\n",
      "Epoch 24/100\n",
      "1549/1549 [==============================] - 1s 906us/step - loss: 0.0029 - mae: 0.0173 - val_loss: 0.0031 - val_mae: 0.0186\n",
      "Epoch 25/100\n",
      "1498/1549 [============================>.] - ETA: 0s - loss: 0.0029 - mae: 0.0172Restoring model weights from the end of the best epoch: 20.\n",
      "1549/1549 [==============================] - 1s 900us/step - loss: 0.0029 - mae: 0.0172 - val_loss: 0.0032 - val_mae: 0.0203\n",
      "Epoch 25: early stopping\n"
     ]
    }
   ],
   "source": [
    "# Netzwerkarchitektur\n",
    "model = Sequential([\n",
    "    # Eingabeschicht\n",
    "    Dense(32, activation='relu', input_shape=(2,), kernel_initializer='he_uniform', kernel_regularizer=l2(0.01)),\n",
    "    #Dropout(0.01),\n",
    "    # Versteckte Schicht\n",
    "    #Dense(8, activation='relu', kernel_initializer='he_uniform', kernel_regularizer=l2(0.01)),\n",
    "    #Dropout(0.01),\n",
    "    # Ausgabeschicht für Regression (1 Einheit ohne Aktivierungsfunktion)\n",
    "    Dense(1 , activation = 'linear')\n",
    "])\n",
    "\n",
    "# Optimierer\n",
    "optimizer = 'adam' #Adam(learningrate =  0.001)\n",
    "\n",
    "# Modell kompilieren (Verwendung von mean_squared_error als Verlustfunktion für Regression)\n",
    "model.compile(optimizer=optimizer,\n",
    "              loss='mean_squared_error',\n",
    "              metrics=['mae'])  # Metriken für Regression: Mean Absolute Error und Mean Squared Error\n",
    "\n",
    "# Early Stopping Callback\n",
    "early_stopping = EarlyStopping(monitor='loss', patience=5, verbose=1, mode='min', restore_best_weights=True, min_delta = 0.0001)\n",
    "\n",
    "# Trainingsparameter\n",
    "batch_size = 50\n",
    "epochs = 100\n",
    "\n",
    "# Modell trainieren (Annahme: X_train, y_train, X_val, y_val sind vordefiniert)\n",
    "history = model.fit(X_train_scaled, y_train_scaled,\n",
    "                    batch_size=batch_size,\n",
    "                    epochs=epochs,\n",
    "                    validation_split=0.2,\n",
    "                    callbacks=[early_stopping])"
   ],
   "metadata": {
    "collapsed": false,
    "ExecuteTime": {
     "end_time": "2024-02-07T16:17:52.154004Z",
     "start_time": "2024-02-07T16:17:15.040466200Z"
    }
   },
   "id": "8b52e1a9a6ff3aeb"
  },
  {
   "cell_type": "code",
   "execution_count": 179,
   "outputs": [
    {
     "data": {
      "text/plain": "<Figure size 1000x600 with 1 Axes>",
      "image/png": "[encoded data removed]"
     },
     "metadata": {},
     "output_type": "display_data"
    }
   ],
   "source": [
    "mae = history.history['loss']\n",
    "val_mae = history.history['val_loss']\n",
    "\n",
    "epochs = range(1, len(mae) + 1)\n",
    "\n",
    "# MAE Diagramm\n",
    "plt.figure(figsize=(10, 6))\n",
    "plt.plot(epochs, mae, 'r', label='Training MAE')\n",
    "plt.plot(epochs, val_mae, 'b', label='Validation MAE')\n",
    "plt.title('Training and Validation MAE')\n",
    "plt.xlabel('Epochs')\n",
    "plt.ylabel('MAE')\n",
    "plt.legend()\n",
    "\n",
    "plt.show()"
   ],
   "metadata": {
    "collapsed": false,
    "ExecuteTime": {
     "end_time": "2024-02-07T16:17:56.172068700Z",
     "start_time": "2024-02-07T16:17:56.041004300Z"
    }
   },
   "id": "3688dd7102e95baf"
  },
  {
   "cell_type": "code",
   "execution_count": 180,
   "id": "9f6f672a",
   "metadata": {
    "ExecuteTime": {
     "end_time": "2024-02-07T16:17:59.636430500Z",
     "start_time": "2024-02-07T16:17:58.747282Z"
    }
   },
   "outputs": [
    {
     "name": "stdout",
     "output_type": "stream",
     "text": [
      " Bsp. Predicted: [1430.8009] Actual: [1436.7] \n",
      "Durchschnittliche Abweichung (MAE): [45.7732519]\n"
     ]
    }
   ],
   "source": [
    "scaled_predicted_values = model.predict(X_test_scaled, verbose = 0)\n",
    "\n",
    "# Führen Sie die Rücktransformation der skalierten Werte durch\n",
    "original_predicted_values = scaler_target.inverse_transform(scaled_predicted_values)\n",
    "original_actual_values = scaler_target.inverse_transform(y_test_scaled)  # y_test sind die skalierten tatsächlichen Werte\n",
    "print(f' Bsp. Predicted: {original_predicted_values[10]} Actual: {original_actual_values[10]} ')\n",
    "\n",
    "def calculate_mae(list1, list2):\n",
    "    # Stelle sicher, dass beide Listen die gleiche Länge haben\n",
    "    if len(list1) != len(list2):\n",
    "        raise ValueError(\"Listen müssen die gleiche Länge haben\")\n",
    "    \n",
    "    # Berechne die absolute Differenz zwischen den Elementen der Listen\n",
    "    differences = [abs(x - y) for x, y in zip(list1, list2)]\n",
    "    \n",
    "    # Berechne den Durchschnitt der absoluten Differenzen\n",
    "    mae = sum(differences) / len(differences)\n",
    "    \n",
    "    return mae\n",
    "\n",
    "# Beispiel\n",
    "list1 = original_predicted_values\n",
    "list2 = original_actual_values\n",
    "\n",
    "mae = calculate_mae(list1, list2)\n",
    "print(f\"Durchschnittliche Abweichung (MAE): {mae}\")"
   ]
  },
  {
   "cell_type": "markdown",
   "id": "553df6fa",
   "metadata": {},
   "source": [
    "# GridSearch"
   ]
  },
  {
   "cell_type": "code",
   "execution_count": 11,
   "id": "1dca80c2",
   "metadata": {},
   "outputs": [
    {
     "name": "stdout",
     "output_type": "stream",
     "text": [
      "WARNING:tensorflow:From C:\\Users\\erikm\\anaconda3\\Lib\\site-packages\\keras\\backend.py:873: The name tf.get_default_graph is deprecated. Please use tf.compat.v1.get_default_graph instead.\n",
      "\n",
      "WARNING:tensorflow:From C:\\Users\\erikm\\anaconda3\\Lib\\site-packages\\keras\\optimizers\\__init__.py:300: The name tf.train.Optimizer is deprecated. Please use tf.compat.v1.train.Optimizer instead.\n",
      "\n",
      "Epoch 1/10\n",
      "WARNING:tensorflow:From C:\\Users\\erikm\\anaconda3\\Lib\\site-packages\\keras\\utils\\tf_utils.py:490: The name tf.ragged.RaggedTensorValue is deprecated. Please use tf.compat.v1.ragged.RaggedTensorValue instead.\n",
      "\n",
      "WARNING:tensorflow:From C:\\Users\\erikm\\anaconda3\\Lib\\site-packages\\keras\\engine\\base_layer_utils.py:380: The name tf.executing_eagerly_outside_functions is deprecated. Please use tf.compat.v1.executing_eagerly_outside_functions instead.\n",
      "\n",
      "3025/3025 [==============================] - 6s 2ms/step - loss: 0.0097 - mean_squared_error: 0.0097\n",
      "Epoch 2/10\n",
      "3025/3025 [==============================] - 5s 2ms/step - loss: 0.0026 - mean_squared_error: 0.0026\n",
      "Epoch 3/10\n",
      "3025/3025 [==============================] - 5s 2ms/step - loss: 0.0025 - mean_squared_error: 0.0025\n",
      "Epoch 4/10\n",
      "3025/3025 [==============================] - 5s 2ms/step - loss: 0.0025 - mean_squared_error: 0.0025\n",
      "Epoch 5/10\n",
      "3025/3025 [==============================] - 5s 2ms/step - loss: 0.0025 - mean_squared_error: 0.0025\n",
      "Epoch 6/10\n",
      "3025/3025 [==============================] - 5s 2ms/step - loss: 0.0025 - mean_squared_error: 0.0025\n",
      "Epoch 7/10\n",
      "3025/3025 [==============================] - 5s 2ms/step - loss: 0.0025 - mean_squared_error: 0.0025\n",
      "Epoch 8/10\n",
      "3025/3025 [==============================] - 5s 2ms/step - loss: 0.0025 - mean_squared_error: 0.0025\n",
      "Epoch 9/10\n",
      "3025/3025 [==============================] - 5s 2ms/step - loss: 0.0025 - mean_squared_error: 0.0025\n",
      "Epoch 10/10\n",
      "3025/3025 [==============================] - 5s 2ms/step - loss: 0.0025 - mean_squared_error: 0.0025\n",
      "Best: 0.844394 using {'model__activation': 'relu', 'model__optimizer': 'adam'}\n",
      "0.844394 with: {'model__activation': 'relu', 'model__optimizer': 'adam'}\n",
      "0.827458 with: {'model__activation': 'relu', 'model__optimizer': 'sgd'}\n",
      "0.834291 with: {'model__activation': 'tanh', 'model__optimizer': 'adam'}\n",
      "0.630665 with: {'model__activation': 'tanh', 'model__optimizer': 'sgd'}\n"
     ]
    }
   ],
   "source": [
    "# Schritt 1: Definiere dein Modell als eine Funktion, die Hyperparameter akzeptiert\n",
    "def build_model(optimizer='adam', activation='relu'):\n",
    "    model = Sequential()\n",
    "    model.add(Dense(units=64, activation=activation, input_dim=X_train_scaled.shape[1]))\n",
    "    model.add(Dense(units=32, activation=activation))\n",
    "    model.add(Dense(units=1, activation='linear'))\n",
    "    model.compile(optimizer=optimizer, loss='mean_squared_error', metrics=['mean_squared_error'])\n",
    "    return model\n",
    "\n",
    "# Schritt 2: Erstelle eine Instanz von KerasRegressor ohne batch_size und epochs im param_grid\n",
    "model = KerasRegressor(model=build_model, verbose=1)\n",
    "\n",
    "# Schritt 3: Definiere den Parameter-Raum für die Grid-Suche OHNE batch_size und epochs\n",
    "param_grid = {\n",
    "    'model__optimizer': ['adam', 'sgd'],\n",
    "    'model__activation': ['relu', 'tanh']\n",
    "}\n",
    "\n",
    "# Optional: Definiere Fit-Parameter (wie batch_size und epochs) separat\n",
    "fit_params = {\n",
    "    'batch_size': 32,\n",
    "    'epochs': 10\n",
    "}\n",
    "\n",
    "# Schritt 4: Führe GridSearchCV aus mit fit_params, wenn nötig\n",
    "grid = GridSearchCV(estimator=model, param_grid=param_grid, n_jobs=-1, cv=3)\n",
    "grid_result = grid.fit(X_train_scaled, y_train_scaled, **fit_params)\n",
    "\n",
    "# Ergebnisse ausgeben\n",
    "print(\"Best: %f using %s\" % (grid_result.best_score_, grid_result.best_params_))\n",
    "for mean_score, params in zip(grid_result.cv_results_['mean_test_score'], grid_result.cv_results_['params']):\n",
    "    print(\"%f with: %r\" % (mean_score, params))\n"
   ]
  },
  {
   "cell_type": "code",
   "execution_count": 12,
   "id": "3f17e2cf",
   "metadata": {},
   "outputs": [
    {
     "name": "stdout",
     "output_type": "stream",
     "text": [
      "Epoch 1/5\n",
      "4840/4840 [==============================] - 10s 2ms/step - loss: 0.0053 - mean_squared_error: 0.0053\n",
      "Epoch 2/5\n",
      "4840/4840 [==============================] - 9s 2ms/step - loss: 0.0026 - mean_squared_error: 0.0026\n",
      "Epoch 3/5\n",
      "4840/4840 [==============================] - 8s 2ms/step - loss: 0.0026 - mean_squared_error: 0.0026\n",
      "Epoch 4/5\n",
      "4840/4840 [==============================] - 8s 2ms/step - loss: 0.0025 - mean_squared_error: 0.0025\n",
      "Epoch 5/5\n",
      "4840/4840 [==============================] - 8s 2ms/step - loss: 0.0025 - mean_squared_error: 0.0025\n",
      "Best: 0.845704 using {'fit__batch_size': 20, 'fit__epochs': 5, 'model__activation': 'relu', 'model__optimizer': 'adam'}\n",
      "0.840889 with: {'fit__batch_size': 10, 'fit__epochs': 5, 'model__activation': 'relu', 'model__optimizer': 'adam'}\n",
      "0.834983 with: {'fit__batch_size': 10, 'fit__epochs': 5, 'model__activation': 'relu', 'model__optimizer': 'sgd'}\n",
      "0.833309 with: {'fit__batch_size': 10, 'fit__epochs': 5, 'model__activation': 'tanh', 'model__optimizer': 'adam'}\n",
      "0.761438 with: {'fit__batch_size': 10, 'fit__epochs': 5, 'model__activation': 'tanh', 'model__optimizer': 'sgd'}\n",
      "0.840925 with: {'fit__batch_size': 10, 'fit__epochs': 10, 'model__activation': 'relu', 'model__optimizer': 'adam'}\n",
      "0.841489 with: {'fit__batch_size': 10, 'fit__epochs': 10, 'model__activation': 'relu', 'model__optimizer': 'sgd'}\n",
      "0.831441 with: {'fit__batch_size': 10, 'fit__epochs': 10, 'model__activation': 'tanh', 'model__optimizer': 'adam'}\n",
      "0.781805 with: {'fit__batch_size': 10, 'fit__epochs': 10, 'model__activation': 'tanh', 'model__optimizer': 'sgd'}\n",
      "0.845704 with: {'fit__batch_size': 20, 'fit__epochs': 5, 'model__activation': 'relu', 'model__optimizer': 'adam'}\n",
      "0.815947 with: {'fit__batch_size': 20, 'fit__epochs': 5, 'model__activation': 'relu', 'model__optimizer': 'sgd'}\n",
      "0.813188 with: {'fit__batch_size': 20, 'fit__epochs': 5, 'model__activation': 'tanh', 'model__optimizer': 'adam'}\n",
      "0.624004 with: {'fit__batch_size': 20, 'fit__epochs': 5, 'model__activation': 'tanh', 'model__optimizer': 'sgd'}\n",
      "0.842122 with: {'fit__batch_size': 20, 'fit__epochs': 10, 'model__activation': 'relu', 'model__optimizer': 'adam'}\n",
      "0.834650 with: {'fit__batch_size': 20, 'fit__epochs': 10, 'model__activation': 'relu', 'model__optimizer': 'sgd'}\n",
      "0.832776 with: {'fit__batch_size': 20, 'fit__epochs': 10, 'model__activation': 'tanh', 'model__optimizer': 'adam'}\n",
      "0.719563 with: {'fit__batch_size': 20, 'fit__epochs': 10, 'model__activation': 'tanh', 'model__optimizer': 'sgd'}\n",
      "0.843238 with: {'fit__batch_size': 32, 'fit__epochs': 5, 'model__activation': 'relu', 'model__optimizer': 'adam'}\n",
      "0.786332 with: {'fit__batch_size': 32, 'fit__epochs': 5, 'model__activation': 'relu', 'model__optimizer': 'sgd'}\n",
      "0.831336 with: {'fit__batch_size': 32, 'fit__epochs': 5, 'model__activation': 'tanh', 'model__optimizer': 'adam'}\n",
      "0.421701 with: {'fit__batch_size': 32, 'fit__epochs': 5, 'model__activation': 'tanh', 'model__optimizer': 'sgd'}\n",
      "0.831880 with: {'fit__batch_size': 32, 'fit__epochs': 10, 'model__activation': 'relu', 'model__optimizer': 'adam'}\n",
      "0.825473 with: {'fit__batch_size': 32, 'fit__epochs': 10, 'model__activation': 'relu', 'model__optimizer': 'sgd'}\n",
      "0.834078 with: {'fit__batch_size': 32, 'fit__epochs': 10, 'model__activation': 'tanh', 'model__optimizer': 'adam'}\n",
      "0.688854 with: {'fit__batch_size': 32, 'fit__epochs': 10, 'model__activation': 'tanh', 'model__optimizer': 'sgd'}\n"
     ]
    }
   ],
   "source": [
    "def build_model(optimizer='adam', activation='relu'):\n",
    "    model = Sequential()\n",
    "    model.add(Dense(units=64, activation=activation, input_dim=X_train_scaled.shape[1]))\n",
    "    model.add(Dense(units=32, activation=activation))\n",
    "    model.add(Dense(units=1, activation='linear'))\n",
    "    model.compile(optimizer=optimizer, loss='mean_squared_error', metrics=['mean_squared_error'])\n",
    "    return model\n",
    "\n",
    "model = KerasRegressor(model=build_model, verbose=1)\n",
    "\n",
    "param_grid = {\n",
    "    'model__optimizer': ['adam', 'sgd'],\n",
    "    'model__activation': ['relu', 'tanh'],\n",
    "    'fit__batch_size': [10, 20, 32],  # Testen verschiedener batch_size Werte\n",
    "    'fit__epochs': [5, 10]  # Optional: Testen verschiedener epoch Werte\n",
    "}\n",
    "\n",
    "grid = GridSearchCV(estimator=model, param_grid=param_grid, n_jobs=-1, cv=3)\n",
    "grid_result = grid.fit(X_train_scaled, y_train_scaled)\n",
    "\n",
    "# Ergebnisse ausgeben\n",
    "print(\"Best: %f using %s\" % (grid_result.best_score_, grid_result.best_params_))\n",
    "for mean_score, params in zip(grid_result.cv_results_['mean_test_score'], grid_result.cv_results_['params']):\n",
    "    print(\"%f with: %r\" % (mean_score, params))\n"
   ]
  },
  {
   "cell_type": "code",
   "execution_count": null,
   "id": "492cf0ed",
   "metadata": {},
   "outputs": [],
   "source": []
  }
 ],
 "metadata": {
  "kernelspec": {
   "display_name": "Python 3 (ipykernel)",
   "language": "python",
   "name": "python3"
  },
  "language_info": {
   "codemirror_mode": {
    "name": "ipython",
    "version": 3
   },
   "file_extension": ".py",
   "mimetype": "text/x-python",
   "name": "python",
   "nbconvert_exporter": "python",
   "pygments_lexer": "ipython3",
   "version": "3.11.4"
  }
 },
 "nbformat": 4,
 "nbformat_minor": 5
}
