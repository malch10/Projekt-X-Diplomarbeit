{
 "cells": [
  {
   "cell_type": "code",
   "execution_count": 1,
   "id": "94b0518e",
   "metadata": {
    "ExecuteTime": {
     "end_time": "2024-02-05T18:40:54.176762600Z",
     "start_time": "2024-02-05T18:40:41.618119900Z"
    }
   },
   "outputs": [
    {
     "name": "stdout",
     "output_type": "stream",
     "text": [
      "WARNING:tensorflow:From C:\\Users\\erikm\\Desktop\\Diplomarbeit Erik Marr\\Projekt X\\venv\\Lib\\site-packages\\keras\\src\\losses.py:2976: The name tf.losses.sparse_softmax_cross_entropy is deprecated. Please use tf.compat.v1.losses.sparse_softmax_cross_entropy instead.\n"
     ]
    }
   ],
   "source": [
    "import numpy as np\n",
    "import tensorflow as tf\n",
    "import matplotlib.pyplot as plt\n",
    "import pandas as pd\n",
    "from tensorflow import keras\n",
    "from tensorflow.keras.models import Sequential\n",
    "from tensorflow.keras.layers import Dense\n",
    "from sklearn.model_selection import train_test_split\n",
    "from tensorflow.keras import layers\n",
    "import glob\n",
    "from sklearn.preprocessing import MinMaxScaler, StandardScaler\n",
    "import pandas as pd\n",
    "\n"
   ]
  },
  {
   "cell_type": "code",
   "execution_count": 5,
   "id": "e4ff61b1",
   "metadata": {
    "ExecuteTime": {
     "end_time": "2024-02-05T18:42:17.217346Z",
     "start_time": "2024-02-05T18:42:17.164079600Z"
    }
   },
   "outputs": [
    {
     "data": {
      "text/plain": "        X-Koordinate  Y-Koordinate  Zeitpunkt  Strom  Kraft  Temperatur\n1                  0      -0.00200        300   7000   9000      532.25\n2                  0      -0.00199        300   7000   9000      536.47\n3                  0      -0.00198        300   7000   9000      540.69\n4                  0      -0.00197        300   7000   9000      544.90\n5                  0      -0.00196        300   7000   9000      549.09\n...              ...           ...        ...    ...    ...         ...\n120997           300       0.00196        300   7000   9000      422.17\n120998           300       0.00197        300   7000   9000      422.04\n120999           300       0.00198        300   7000   9000      421.90\n121000           300       0.00199        300   7000   9000      421.76\n121001           300       0.00200        300   7000   9000      421.60\n\n[121001 rows x 6 columns]",
      "text/html": "<div>\n<style scoped>\n    .dataframe tbody tr th:only-of-type {\n        vertical-align: middle;\n    }\n\n    .dataframe tbody tr th {\n        vertical-align: top;\n    }\n\n    .dataframe thead th {\n        text-align: right;\n    }\n</style>\n<table border=\"1\" class=\"dataframe\">\n  <thead>\n    <tr style=\"text-align: right;\">\n      <th></th>\n      <th>X-Koordinate</th>\n      <th>Y-Koordinate</th>\n      <th>Zeitpunkt</th>\n      <th>Strom</th>\n      <th>Kraft</th>\n      <th>Temperatur</th>\n    </tr>\n  </thead>\n  <tbody>\n    <tr>\n      <th>1</th>\n      <td>0</td>\n      <td>-0.00200</td>\n      <td>300</td>\n      <td>7000</td>\n      <td>9000</td>\n      <td>532.25</td>\n    </tr>\n    <tr>\n      <th>2</th>\n      <td>0</td>\n      <td>-0.00199</td>\n      <td>300</td>\n      <td>7000</td>\n      <td>9000</td>\n      <td>536.47</td>\n    </tr>\n    <tr>\n      <th>3</th>\n      <td>0</td>\n      <td>-0.00198</td>\n      <td>300</td>\n      <td>7000</td>\n      <td>9000</td>\n      <td>540.69</td>\n    </tr>\n    <tr>\n      <th>4</th>\n      <td>0</td>\n      <td>-0.00197</td>\n      <td>300</td>\n      <td>7000</td>\n      <td>9000</td>\n      <td>544.90</td>\n    </tr>\n    <tr>\n      <th>5</th>\n      <td>0</td>\n      <td>-0.00196</td>\n      <td>300</td>\n      <td>7000</td>\n      <td>9000</td>\n      <td>549.09</td>\n    </tr>\n    <tr>\n      <th>...</th>\n      <td>...</td>\n      <td>...</td>\n      <td>...</td>\n      <td>...</td>\n      <td>...</td>\n      <td>...</td>\n    </tr>\n    <tr>\n      <th>120997</th>\n      <td>300</td>\n      <td>0.00196</td>\n      <td>300</td>\n      <td>7000</td>\n      <td>9000</td>\n      <td>422.17</td>\n    </tr>\n    <tr>\n      <th>120998</th>\n      <td>300</td>\n      <td>0.00197</td>\n      <td>300</td>\n      <td>7000</td>\n      <td>9000</td>\n      <td>422.04</td>\n    </tr>\n    <tr>\n      <th>120999</th>\n      <td>300</td>\n      <td>0.00198</td>\n      <td>300</td>\n      <td>7000</td>\n      <td>9000</td>\n      <td>421.90</td>\n    </tr>\n    <tr>\n      <th>121000</th>\n      <td>300</td>\n      <td>0.00199</td>\n      <td>300</td>\n      <td>7000</td>\n      <td>9000</td>\n      <td>421.76</td>\n    </tr>\n    <tr>\n      <th>121001</th>\n      <td>300</td>\n      <td>0.00200</td>\n      <td>300</td>\n      <td>7000</td>\n      <td>9000</td>\n      <td>421.60</td>\n    </tr>\n  </tbody>\n</table>\n<p>121001 rows × 6 columns</p>\n</div>"
     },
     "execution_count": 5,
     "metadata": {},
     "output_type": "execute_result"
    }
   ],
   "source": [
    "data = pd.read_pickle('C:/Users/erikm/Desktop/Diplomarbeit Erik Marr/Daten/Finish/TPath_300_finish_data.pkl')\n",
    "data"
   ]
  },
  {
   "cell_type": "code",
   "execution_count": 6,
   "id": "966e3c74",
   "metadata": {
    "ExecuteTime": {
     "end_time": "2024-02-05T18:42:22.652873500Z",
     "start_time": "2024-02-05T18:42:22.611870400Z"
    }
   },
   "outputs": [
    {
     "data": {
      "text/plain": "        X-Koordinate  Y-Koordinate  Temperatur\n1                  0      -0.00200      532.25\n2                  0      -0.00199      536.47\n3                  0      -0.00198      540.69\n4                  0      -0.00197      544.90\n5                  0      -0.00196      549.09\n...              ...           ...         ...\n120997           300       0.00196      422.17\n120998           300       0.00197      422.04\n120999           300       0.00198      421.90\n121000           300       0.00199      421.76\n121001           300       0.00200      421.60\n\n[121001 rows x 3 columns]",
      "text/html": "<div>\n<style scoped>\n    .dataframe tbody tr th:only-of-type {\n        vertical-align: middle;\n    }\n\n    .dataframe tbody tr th {\n        vertical-align: top;\n    }\n\n    .dataframe thead th {\n        text-align: right;\n    }\n</style>\n<table border=\"1\" class=\"dataframe\">\n  <thead>\n    <tr style=\"text-align: right;\">\n      <th></th>\n      <th>X-Koordinate</th>\n      <th>Y-Koordinate</th>\n      <th>Temperatur</th>\n    </tr>\n  </thead>\n  <tbody>\n    <tr>\n      <th>1</th>\n      <td>0</td>\n      <td>-0.00200</td>\n      <td>532.25</td>\n    </tr>\n    <tr>\n      <th>2</th>\n      <td>0</td>\n      <td>-0.00199</td>\n      <td>536.47</td>\n    </tr>\n    <tr>\n      <th>3</th>\n      <td>0</td>\n      <td>-0.00198</td>\n      <td>540.69</td>\n    </tr>\n    <tr>\n      <th>4</th>\n      <td>0</td>\n      <td>-0.00197</td>\n      <td>544.90</td>\n    </tr>\n    <tr>\n      <th>5</th>\n      <td>0</td>\n      <td>-0.00196</td>\n      <td>549.09</td>\n    </tr>\n    <tr>\n      <th>...</th>\n      <td>...</td>\n      <td>...</td>\n      <td>...</td>\n    </tr>\n    <tr>\n      <th>120997</th>\n      <td>300</td>\n      <td>0.00196</td>\n      <td>422.17</td>\n    </tr>\n    <tr>\n      <th>120998</th>\n      <td>300</td>\n      <td>0.00197</td>\n      <td>422.04</td>\n    </tr>\n    <tr>\n      <th>120999</th>\n      <td>300</td>\n      <td>0.00198</td>\n      <td>421.90</td>\n    </tr>\n    <tr>\n      <th>121000</th>\n      <td>300</td>\n      <td>0.00199</td>\n      <td>421.76</td>\n    </tr>\n    <tr>\n      <th>121001</th>\n      <td>300</td>\n      <td>0.00200</td>\n      <td>421.60</td>\n    </tr>\n  </tbody>\n</table>\n<p>121001 rows × 3 columns</p>\n</div>"
     },
     "execution_count": 6,
     "metadata": {},
     "output_type": "execute_result"
    }
   ],
   "source": [
    "df = data.drop(data.columns[2:5], axis = 1)\n",
    "df"
   ]
  },
  {
   "cell_type": "code",
   "execution_count": 7,
   "id": "8783d1d6",
   "metadata": {
    "ExecuteTime": {
     "end_time": "2024-02-05T18:42:23.486915400Z",
     "start_time": "2024-02-05T18:42:23.423595600Z"
    }
   },
   "outputs": [
    {
     "name": "stdout",
     "output_type": "stream",
     "text": [
      "        X-Koordinate  Y-Koordinate  Temperatur\n",
      "85427            212       0.00002      789.97\n",
      "6977              17      -0.00058      896.26\n",
      "101558           252       0.00053      731.63\n",
      "22333             55       0.00022      900.43\n",
      "13974             34       0.00105      791.90\n",
      "...              ...           ...         ...\n",
      "110269           274      -0.00080      697.25\n",
      "119880           298      -0.00117      652.65\n",
      "103695           257       0.00180      637.77\n",
      "861                2      -0.00144      737.98\n",
      "15796             39      -0.00083      868.79\n",
      "\n",
      "[121001 rows x 3 columns]\n"
     ]
    },
    {
     "data": {
      "text/plain": "        X-Koordinate  Y-Koordinate  Temperatur\n0                212       0.00002      789.97\n1                 17      -0.00058      896.26\n2                252       0.00053      731.63\n3                 55       0.00022      900.43\n4                 34       0.00105      791.90\n...              ...           ...         ...\n120996           274      -0.00080      697.25\n120997           298      -0.00117      652.65\n120998           257       0.00180      637.77\n120999             2      -0.00144      737.98\n121000            39      -0.00083      868.79\n\n[121001 rows x 3 columns]",
      "text/html": "<div>\n<style scoped>\n    .dataframe tbody tr th:only-of-type {\n        vertical-align: middle;\n    }\n\n    .dataframe tbody tr th {\n        vertical-align: top;\n    }\n\n    .dataframe thead th {\n        text-align: right;\n    }\n</style>\n<table border=\"1\" class=\"dataframe\">\n  <thead>\n    <tr style=\"text-align: right;\">\n      <th></th>\n      <th>X-Koordinate</th>\n      <th>Y-Koordinate</th>\n      <th>Temperatur</th>\n    </tr>\n  </thead>\n  <tbody>\n    <tr>\n      <th>0</th>\n      <td>212</td>\n      <td>0.00002</td>\n      <td>789.97</td>\n    </tr>\n    <tr>\n      <th>1</th>\n      <td>17</td>\n      <td>-0.00058</td>\n      <td>896.26</td>\n    </tr>\n    <tr>\n      <th>2</th>\n      <td>252</td>\n      <td>0.00053</td>\n      <td>731.63</td>\n    </tr>\n    <tr>\n      <th>3</th>\n      <td>55</td>\n      <td>0.00022</td>\n      <td>900.43</td>\n    </tr>\n    <tr>\n      <th>4</th>\n      <td>34</td>\n      <td>0.00105</td>\n      <td>791.90</td>\n    </tr>\n    <tr>\n      <th>...</th>\n      <td>...</td>\n      <td>...</td>\n      <td>...</td>\n    </tr>\n    <tr>\n      <th>120996</th>\n      <td>274</td>\n      <td>-0.00080</td>\n      <td>697.25</td>\n    </tr>\n    <tr>\n      <th>120997</th>\n      <td>298</td>\n      <td>-0.00117</td>\n      <td>652.65</td>\n    </tr>\n    <tr>\n      <th>120998</th>\n      <td>257</td>\n      <td>0.00180</td>\n      <td>637.77</td>\n    </tr>\n    <tr>\n      <th>120999</th>\n      <td>2</td>\n      <td>-0.00144</td>\n      <td>737.98</td>\n    </tr>\n    <tr>\n      <th>121000</th>\n      <td>39</td>\n      <td>-0.00083</td>\n      <td>868.79</td>\n    </tr>\n  </tbody>\n</table>\n<p>121001 rows × 3 columns</p>\n</div>"
     },
     "execution_count": 7,
     "metadata": {},
     "output_type": "execute_result"
    }
   ],
   "source": [
    "df1 = df.sample(frac=1, random_state=42)  # Hier wird 42 als Random State verwendet, um die Ergebnisse reproduzierbar zu machen\n",
    "\n",
    "print(df1)\n",
    "df_reset = df1.reset_index(drop=True)\n",
    "df_reset"
   ]
  },
  {
   "cell_type": "code",
   "execution_count": 13,
   "id": "a4e72a16",
   "metadata": {
    "ExecuteTime": {
     "end_time": "2024-02-05T18:43:05.885377600Z",
     "start_time": "2024-02-05T18:43:05.877046600Z"
    }
   },
   "outputs": [],
   "source": [
    "label = df_min_max_scaled[\"Temperatur\"]\n",
    "# Korrektur: Verwenden Sie den Spaltennamen direkt, ohne Indexierung der columns-Eigenschaft\n",
    "df1 = df_min_max_scaled.drop(\"Temperatur\", axis=1)\n",
    "X = df1\n",
    "y = label\n"
   ]
  },
  {
   "cell_type": "code",
   "execution_count": 14,
   "id": "e694a236",
   "metadata": {
    "ExecuteTime": {
     "end_time": "2024-02-05T18:43:06.749001300Z",
     "start_time": "2024-02-05T18:43:06.743236100Z"
    }
   },
   "outputs": [
    {
     "data": {
      "text/plain": "        X-Koordinate  Y-Koordinate\n0           0.706667        0.5050\n1           0.056667        0.3550\n2           0.840000        0.6325\n3           0.183333        0.5550\n4           0.113333        0.7625\n...              ...           ...\n120996      0.913333        0.3000\n120997      0.993333        0.2075\n120998      0.856667        0.9500\n120999      0.006667        0.1400\n121000      0.130000        0.2925\n\n[121001 rows x 2 columns]",
      "text/html": "<div>\n<style scoped>\n    .dataframe tbody tr th:only-of-type {\n        vertical-align: middle;\n    }\n\n    .dataframe tbody tr th {\n        vertical-align: top;\n    }\n\n    .dataframe thead th {\n        text-align: right;\n    }\n</style>\n<table border=\"1\" class=\"dataframe\">\n  <thead>\n    <tr style=\"text-align: right;\">\n      <th></th>\n      <th>X-Koordinate</th>\n      <th>Y-Koordinate</th>\n    </tr>\n  </thead>\n  <tbody>\n    <tr>\n      <th>0</th>\n      <td>0.706667</td>\n      <td>0.5050</td>\n    </tr>\n    <tr>\n      <th>1</th>\n      <td>0.056667</td>\n      <td>0.3550</td>\n    </tr>\n    <tr>\n      <th>2</th>\n      <td>0.840000</td>\n      <td>0.6325</td>\n    </tr>\n    <tr>\n      <th>3</th>\n      <td>0.183333</td>\n      <td>0.5550</td>\n    </tr>\n    <tr>\n      <th>4</th>\n      <td>0.113333</td>\n      <td>0.7625</td>\n    </tr>\n    <tr>\n      <th>...</th>\n      <td>...</td>\n      <td>...</td>\n    </tr>\n    <tr>\n      <th>120996</th>\n      <td>0.913333</td>\n      <td>0.3000</td>\n    </tr>\n    <tr>\n      <th>120997</th>\n      <td>0.993333</td>\n      <td>0.2075</td>\n    </tr>\n    <tr>\n      <th>120998</th>\n      <td>0.856667</td>\n      <td>0.9500</td>\n    </tr>\n    <tr>\n      <th>120999</th>\n      <td>0.006667</td>\n      <td>0.1400</td>\n    </tr>\n    <tr>\n      <th>121000</th>\n      <td>0.130000</td>\n      <td>0.2925</td>\n    </tr>\n  </tbody>\n</table>\n<p>121001 rows × 2 columns</p>\n</div>"
     },
     "execution_count": 14,
     "metadata": {},
     "output_type": "execute_result"
    }
   ],
   "source": [
    "X"
   ]
  },
  {
   "cell_type": "code",
   "execution_count": 15,
   "id": "3f3303b4",
   "metadata": {
    "ExecuteTime": {
     "end_time": "2024-02-05T18:43:07.948698300Z",
     "start_time": "2024-02-05T18:43:07.943158500Z"
    }
   },
   "outputs": [
    {
     "data": {
      "text/plain": "0         0.864234\n1         0.980516\n2         0.800409\n3         0.985078\n4         0.866345\n            ...   \n120996    0.762797\n120997    0.714004\n120998    0.697726\n120999    0.807356\n121000    0.950463\nName: Temperatur, Length: 121001, dtype: float64"
     },
     "execution_count": 15,
     "metadata": {},
     "output_type": "execute_result"
    }
   ],
   "source": [
    "y"
   ]
  },
  {
   "cell_type": "code",
   "execution_count": 37,
   "id": "e3ad8da0",
   "metadata": {
    "ExecuteTime": {
     "end_time": "2024-02-05T19:53:39.197296900Z",
     "start_time": "2024-02-05T19:53:39.147992700Z"
    }
   },
   "outputs": [],
   "source": [
    " # train_df enthält 80% der Daten, test_df enthält 20% der Daten\n",
    "X_train, X_test, y_train, y_test = train_test_split(X, y, test_size=0.20, random_state=42)\n"
   ]
  },
  {
   "cell_type": "code",
   "execution_count": 39,
   "outputs": [
    {
     "data": {
      "text/plain": "        X-Koordinate  Y-Koordinate\n94235       0.486667        0.7575\n89243       0.066667        0.4075\n21452       0.483333        0.2000\n66873       0.733333        1.0000\n30913       0.710000        0.3075\n...              ...           ...\n110268      0.196667        0.1275\n119879      0.043333        0.0350\n103694      0.273333        0.7450\n860         0.363333        0.6400\n15795       0.896667        0.4900\n\n[96800 rows x 2 columns]",
      "text/html": "<div>\n<style scoped>\n    .dataframe tbody tr th:only-of-type {\n        vertical-align: middle;\n    }\n\n    .dataframe tbody tr th {\n        vertical-align: top;\n    }\n\n    .dataframe thead th {\n        text-align: right;\n    }\n</style>\n<table border=\"1\" class=\"dataframe\">\n  <thead>\n    <tr style=\"text-align: right;\">\n      <th></th>\n      <th>X-Koordinate</th>\n      <th>Y-Koordinate</th>\n    </tr>\n  </thead>\n  <tbody>\n    <tr>\n      <th>94235</th>\n      <td>0.486667</td>\n      <td>0.7575</td>\n    </tr>\n    <tr>\n      <th>89243</th>\n      <td>0.066667</td>\n      <td>0.4075</td>\n    </tr>\n    <tr>\n      <th>21452</th>\n      <td>0.483333</td>\n      <td>0.2000</td>\n    </tr>\n    <tr>\n      <th>66873</th>\n      <td>0.733333</td>\n      <td>1.0000</td>\n    </tr>\n    <tr>\n      <th>30913</th>\n      <td>0.710000</td>\n      <td>0.3075</td>\n    </tr>\n    <tr>\n      <th>...</th>\n      <td>...</td>\n      <td>...</td>\n    </tr>\n    <tr>\n      <th>110268</th>\n      <td>0.196667</td>\n      <td>0.1275</td>\n    </tr>\n    <tr>\n      <th>119879</th>\n      <td>0.043333</td>\n      <td>0.0350</td>\n    </tr>\n    <tr>\n      <th>103694</th>\n      <td>0.273333</td>\n      <td>0.7450</td>\n    </tr>\n    <tr>\n      <th>860</th>\n      <td>0.363333</td>\n      <td>0.6400</td>\n    </tr>\n    <tr>\n      <th>15795</th>\n      <td>0.896667</td>\n      <td>0.4900</td>\n    </tr>\n  </tbody>\n</table>\n<p>96800 rows × 2 columns</p>\n</div>"
     },
     "execution_count": 39,
     "metadata": {},
     "output_type": "execute_result"
    }
   ],
   "source": [
    "scaler_minmax = MinMaxScaler()\n",
    "scaler_minmax2 = MinMaxScaler() \n",
    "scaler_minmax.fit_transform(X_train, y_train)\n",
    "scaler_minmax2.fit_transform(X_test, y_test)\n",
    " \n",
    "\n",
    "# Z-Score-Normalisierung\n",
    "#scaler_standard = StandardScaler()\n",
    "#df_z_scaled = pd.DataFrame(scaler.fit_transform(df), columns=df.columns)\n"
   ],
   "metadata": {
    "collapsed": false,
    "ExecuteTime": {
     "end_time": "2024-02-05T19:54:24.121044900Z",
     "start_time": "2024-02-05T19:54:24.070969400Z"
    }
   },
   "id": "86bbf632c2ea15c5"
  },
  {
   "cell_type": "code",
   "execution_count": null,
   "outputs": [],
   "source": [],
   "metadata": {
    "collapsed": false
   },
   "id": "bbefe631e495b483"
  },
  {
   "cell_type": "code",
   "execution_count": 31,
   "id": "af49c8fd",
   "metadata": {
    "ExecuteTime": {
     "end_time": "2024-02-05T19:36:14.740796100Z",
     "start_time": "2024-02-05T19:36:14.692969700Z"
    }
   },
   "outputs": [],
   "source": [
    "model = Sequential()\n",
    "model.add(Dense(124, activation='relu', input_dim=2))  # Eingabeschicht mit 2 Features\n",
    "model.add(Dense(64, activation='relu'))\n",
    "model.add(Dense(32, activation='relu'))\n",
    "# Eine versteckte Schicht\n",
    "model.add(Dense(1))  # Ausgabeschicht für die Temperaturvorhersage\n"
   ]
  },
  {
   "cell_type": "code",
   "execution_count": 32,
   "outputs": [],
   "source": [
    "# Lernplan erstellen\n",
    "initial_learning_rate = 0.02\n",
    "#lr_schedule = tf.keras.optimizers.schedules.ExponentialDecay(\n",
    " #   initial_learning_rate, decay_steps=100, decay_rate=0.9, staircase=True)"
   ],
   "metadata": {
    "collapsed": false,
    "ExecuteTime": {
     "end_time": "2024-02-05T19:36:15.111794400Z",
     "start_time": "2024-02-05T19:36:15.106783300Z"
    }
   },
   "id": "a6eccbb7534cd064"
  },
  {
   "cell_type": "code",
   "execution_count": 33,
   "id": "4db7bd0b",
   "metadata": {
    "ExecuteTime": {
     "end_time": "2024-02-05T19:36:15.806173100Z",
     "start_time": "2024-02-05T19:36:15.739408600Z"
    }
   },
   "outputs": [],
   "source": [
    "model.compile(optimizer='adam', loss='mean_squared_error', metrics=['mean_absolute_error'])\n"
   ]
  },
  {
   "cell_type": "code",
   "execution_count": 34,
   "id": "b1a00efb",
   "metadata": {
    "ExecuteTime": {
     "end_time": "2024-02-05T19:36:58.824078900Z",
     "start_time": "2024-02-05T19:36:16.615724300Z"
    }
   },
   "outputs": [
    {
     "name": "stdout",
     "output_type": "stream",
     "text": [
      "Epoch 1/18\n",
      "2420/2420 [==============================] - 3s 1ms/step - loss: 0.0065 - mean_absolute_error: 0.0283 - val_loss: 0.0027 - val_mean_absolute_error: 0.0137\n",
      "Epoch 2/18\n",
      "2420/2420 [==============================] - 2s 963us/step - loss: 0.0026 - mean_absolute_error: 0.0164 - val_loss: 0.0026 - val_mean_absolute_error: 0.0099\n",
      "Epoch 3/18\n",
      "2420/2420 [==============================] - 2s 957us/step - loss: 0.0026 - mean_absolute_error: 0.0153 - val_loss: 0.0027 - val_mean_absolute_error: 0.0156\n",
      "Epoch 4/18\n",
      "2420/2420 [==============================] - 2s 957us/step - loss: 0.0025 - mean_absolute_error: 0.0151 - val_loss: 0.0026 - val_mean_absolute_error: 0.0128\n",
      "Epoch 5/18\n",
      "2420/2420 [==============================] - 2s 940us/step - loss: 0.0025 - mean_absolute_error: 0.0143 - val_loss: 0.0024 - val_mean_absolute_error: 0.0088\n",
      "Epoch 6/18\n",
      "2420/2420 [==============================] - 2s 930us/step - loss: 0.0025 - mean_absolute_error: 0.0136 - val_loss: 0.0027 - val_mean_absolute_error: 0.0134\n",
      "Epoch 7/18\n",
      "2420/2420 [==============================] - 2s 936us/step - loss: 0.0025 - mean_absolute_error: 0.0135 - val_loss: 0.0024 - val_mean_absolute_error: 0.0085\n",
      "Epoch 8/18\n",
      "2420/2420 [==============================] - 2s 952us/step - loss: 0.0025 - mean_absolute_error: 0.0135 - val_loss: 0.0025 - val_mean_absolute_error: 0.0125\n",
      "Epoch 9/18\n",
      "2420/2420 [==============================] - 2s 950us/step - loss: 0.0024 - mean_absolute_error: 0.0134 - val_loss: 0.0024 - val_mean_absolute_error: 0.0127\n",
      "Epoch 10/18\n",
      "2420/2420 [==============================] - 2s 963us/step - loss: 0.0024 - mean_absolute_error: 0.0131 - val_loss: 0.0025 - val_mean_absolute_error: 0.0160\n",
      "Epoch 11/18\n",
      "2420/2420 [==============================] - 2s 933us/step - loss: 0.0024 - mean_absolute_error: 0.0129 - val_loss: 0.0025 - val_mean_absolute_error: 0.0137\n",
      "Epoch 12/18\n",
      "2420/2420 [==============================] - 2s 931us/step - loss: 0.0024 - mean_absolute_error: 0.0125 - val_loss: 0.0026 - val_mean_absolute_error: 0.0160\n",
      "Epoch 13/18\n",
      "2420/2420 [==============================] - 2s 935us/step - loss: 0.0024 - mean_absolute_error: 0.0126 - val_loss: 0.0027 - val_mean_absolute_error: 0.0158\n",
      "Epoch 14/18\n",
      "2420/2420 [==============================] - 2s 961us/step - loss: 0.0024 - mean_absolute_error: 0.0130 - val_loss: 0.0024 - val_mean_absolute_error: 0.0095\n",
      "Epoch 15/18\n",
      "2420/2420 [==============================] - 2s 939us/step - loss: 0.0024 - mean_absolute_error: 0.0123 - val_loss: 0.0025 - val_mean_absolute_error: 0.0118\n",
      "Epoch 16/18\n",
      "2420/2420 [==============================] - 2s 931us/step - loss: 0.0024 - mean_absolute_error: 0.0124 - val_loss: 0.0027 - val_mean_absolute_error: 0.0186\n",
      "Epoch 17/18\n",
      "2420/2420 [==============================] - 2s 937us/step - loss: 0.0024 - mean_absolute_error: 0.0127 - val_loss: 0.0024 - val_mean_absolute_error: 0.0090\n",
      "Epoch 18/18\n",
      "2420/2420 [==============================] - 2s 934us/step - loss: 0.0024 - mean_absolute_error: 0.0124 - val_loss: 0.0024 - val_mean_absolute_error: 0.0128\n"
     ]
    }
   ],
   "source": [
    "history = model.fit(X_train, y_train, validation_split=0.2, epochs=18, batch_size=32, verbose=1)\n"
   ]
  },
  {
   "cell_type": "code",
   "execution_count": 35,
   "id": "9f6f672a",
   "metadata": {
    "ExecuteTime": {
     "end_time": "2024-02-05T19:36:59.387325900Z",
     "start_time": "2024-02-05T19:36:58.825078900Z"
    }
   },
   "outputs": [
    {
     "name": "stdout",
     "output_type": "stream",
     "text": [
      "Test MAE: 0.012277033179998398\n"
     ]
    }
   ],
   "source": [
    "test_loss, test_mae = model.evaluate(X_test, y_test, verbose=0)\n",
    "print(f'Test MAE: {test_mae}')\n"
   ]
  },
  {
   "cell_type": "code",
   "execution_count": 36,
   "id": "61f644c0",
   "metadata": {
    "ExecuteTime": {
     "end_time": "2024-02-05T19:36:59.493060Z",
     "start_time": "2024-02-05T19:36:59.383326100Z"
    }
   },
   "outputs": [
    {
     "data": {
      "text/plain": "<Figure size 640x480 with 1 Axes>",
      "image/png": "[encoded data removed]"
     },
     "metadata": {},
     "output_type": "display_data"
    }
   ],
   "source": [
    "# Plot erstellen\n",
    "loss_values = history.history['loss']\n",
    "plt.plot(loss_values)\n",
    "plt.xlabel('Epochen')\n",
    "plt.ylabel('Verlust')\n",
    "plt.title('Verlustfunktion im Verlauf des Trainings')\n",
    "plt.show()"
   ]
  },
  {
   "cell_type": "code",
   "execution_count": 42,
   "outputs": [
    {
     "name": "stdout",
     "output_type": "stream",
     "text": [
      "757/757 [==============================] - 1s 685us/step\n"
     ]
    }
   ],
   "source": [
    "scaled_predicted_values = model.predict(X_test)\n"
   ],
   "metadata": {
    "collapsed": false,
    "ExecuteTime": {
     "end_time": "2024-02-05T19:57:05.568338800Z",
     "start_time": "2024-02-05T19:57:04.631529500Z"
    }
   },
   "id": "583c6e76446bd9a2"
  },
  {
   "cell_type": "code",
   "execution_count": 47,
   "outputs": [
    {
     "ename": "ValueError",
     "evalue": "non-broadcastable output operand with shape (24201,1) doesn't match the broadcast shape (24201,2)",
     "output_type": "error",
     "traceback": [
      "\u001B[1;31m---------------------------------------------------------------------------\u001B[0m",
      "\u001B[1;31mValueError\u001B[0m                                Traceback (most recent call last)",
      "Cell \u001B[1;32mIn[47], line 2\u001B[0m\n\u001B[0;32m      1\u001B[0m \u001B[38;5;66;03m# Führen Sie die Rücktransformation der skalierten Werte durch\u001B[39;00m\n\u001B[1;32m----> 2\u001B[0m original_predicted_values \u001B[38;5;241m=\u001B[39m \u001B[43mscaler_minmax\u001B[49m\u001B[38;5;241;43m.\u001B[39;49m\u001B[43minverse_transform\u001B[49m\u001B[43m(\u001B[49m\u001B[43mscaled_predicted_values\u001B[49m\u001B[43m)\u001B[49m\n\u001B[0;32m      3\u001B[0m original_actual_values \u001B[38;5;241m=\u001B[39m scaler_minmax2\u001B[38;5;241m.\u001B[39minverse_transform(y_test)  \u001B[38;5;66;03m# y_test sind die skalierten tatsächlichen Werte\u001B[39;00m\n\u001B[0;32m      4\u001B[0m \u001B[38;5;28mprint\u001B[39m(original_predicted_values)\n",
      "File \u001B[1;32m~\\Desktop\\Diplomarbeit Erik Marr\\Projekt X\\venv\\Lib\\site-packages\\sklearn\\preprocessing\\_data.py:572\u001B[0m, in \u001B[0;36mMinMaxScaler.inverse_transform\u001B[1;34m(self, X)\u001B[0m\n\u001B[0;32m    563\u001B[0m xp, _ \u001B[38;5;241m=\u001B[39m get_namespace(X)\n\u001B[0;32m    565\u001B[0m X \u001B[38;5;241m=\u001B[39m check_array(\n\u001B[0;32m    566\u001B[0m     X,\n\u001B[0;32m    567\u001B[0m     copy\u001B[38;5;241m=\u001B[39m\u001B[38;5;28mself\u001B[39m\u001B[38;5;241m.\u001B[39mcopy,\n\u001B[0;32m    568\u001B[0m     dtype\u001B[38;5;241m=\u001B[39m_array_api\u001B[38;5;241m.\u001B[39msupported_float_dtypes(xp),\n\u001B[0;32m    569\u001B[0m     force_all_finite\u001B[38;5;241m=\u001B[39m\u001B[38;5;124m\"\u001B[39m\u001B[38;5;124mallow-nan\u001B[39m\u001B[38;5;124m\"\u001B[39m,\n\u001B[0;32m    570\u001B[0m )\n\u001B[1;32m--> 572\u001B[0m \u001B[43mX\u001B[49m\u001B[43m \u001B[49m\u001B[38;5;241;43m-\u001B[39;49m\u001B[38;5;241;43m=\u001B[39;49m\u001B[43m \u001B[49m\u001B[38;5;28;43mself\u001B[39;49m\u001B[38;5;241;43m.\u001B[39;49m\u001B[43mmin_\u001B[49m\n\u001B[0;32m    573\u001B[0m X \u001B[38;5;241m/\u001B[39m\u001B[38;5;241m=\u001B[39m \u001B[38;5;28mself\u001B[39m\u001B[38;5;241m.\u001B[39mscale_\n\u001B[0;32m    574\u001B[0m \u001B[38;5;28;01mreturn\u001B[39;00m X\n",
      "\u001B[1;31mValueError\u001B[0m: non-broadcastable output operand with shape (24201,1) doesn't match the broadcast shape (24201,2)"
     ]
    }
   ],
   "source": [
    "# Führen Sie die Rücktransformation der skalierten Werte durch\n",
    "original_predicted_values = scaler_minmax.inverse_transform(scaled_predicted_values)\n",
    "original_actual_values = scaler_minmax2.inverse_transform(y_test)  # y_test sind die skalierten tatsächlichen Werte\n",
    "print(original_predicted_values)\n",
    "print(original_predicted_values)\n",
    "# Vergleichen Sie die Vorhersagen mit den tatsächlichen Werten\n",
    "for i in range(len(original_predicted_values)):\n",
    "    print(\"Vorhergesagter Wert:\", original_predicted_values[i])\n",
    "    print(\"Tatsächlicher Wert:\", original_actual_values[i][0])\n",
    "    print()"
   ],
   "metadata": {
    "collapsed": false,
    "ExecuteTime": {
     "end_time": "2024-02-05T19:59:59.701564900Z",
     "start_time": "2024-02-05T19:59:59.652262500Z"
    }
   },
   "id": "c1d415a6fa5bee38"
  },
  {
   "cell_type": "code",
   "execution_count": null,
   "outputs": [],
   "source": [],
   "metadata": {
    "collapsed": false
   },
   "id": "ed8e7414be079732"
  }
 ],
 "metadata": {
  "kernelspec": {
   "display_name": "Python 3 (ipykernel)",
   "language": "python",
   "name": "python3"
  },
  "language_info": {
   "codemirror_mode": {
    "name": "ipython",
    "version": 3
   },
   "file_extension": ".py",
   "mimetype": "text/x-python",
   "name": "python",
   "nbconvert_exporter": "python",
   "pygments_lexer": "ipython3",
   "version": "3.11.4"
  }
 },
 "nbformat": 4,
 "nbformat_minor": 5
}
