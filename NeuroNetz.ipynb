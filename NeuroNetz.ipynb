{
 "cells": [
  {
   "cell_type": "code",
   "execution_count": 1,
   "id": "94b0518e",
   "metadata": {
    "ExecuteTime": {
     "end_time": "2024-02-08T11:06:59.754310Z",
     "start_time": "2024-02-08T11:06:51.742885Z"
    }
   },
   "outputs": [
    {
     "name": "stdout",
     "output_type": "stream",
     "text": [
      "WARNING:tensorflow:From C:\\Users\\erikm\\Desktop\\Diplomarbeit Erik Marr\\Projekt X\\venv\\Lib\\site-packages\\keras\\src\\losses.py:2976: The name tf.losses.sparse_softmax_cross_entropy is deprecated. Please use tf.compat.v1.losses.sparse_softmax_cross_entropy instead.\n"
     ]
    }
   ],
   "source": [
    "import numpy as np\n",
    "import tensorflow as tf\n",
    "import matplotlib.pyplot as plt\n",
    "import pandas as pd\n",
    "from tensorflow import keras\n",
    "from tensorflow.keras.models import Sequential\n",
    "from tensorflow.keras.layers import Dense\n",
    "from sklearn.model_selection import train_test_split\n",
    "from tensorflow.keras import layers\n",
    "import glob\n",
    "\n",
    "from sklearn.preprocessing import MinMaxScaler, StandardScaler\n",
    "import pandas as pd\n",
    "\n",
    "from tensorflow.keras.models import Sequential\n",
    "from tensorflow.keras.layers import Dense , Dropout\n",
    "from sklearn.model_selection import GridSearchCV\n",
    "from scikeras.wrappers import KerasRegressor, KerasClassifier\n",
    "from tensorflow.keras.regularizers import l2\n",
    "from tensorflow.keras.callbacks import EarlyStopping\n",
    "from tensorflow.keras.optimizers import Adam\n"
   ]
  },
  {
   "cell_type": "code",
   "execution_count": 3,
   "id": "e4ff61b1",
   "metadata": {
    "ExecuteTime": {
     "end_time": "2024-02-08T11:14:23.573454900Z",
     "start_time": "2024-02-08T11:14:23.543517500Z"
    }
   },
   "outputs": [
    {
     "data": {
      "text/plain": "        X-Koordinate  Y-Koordinate  Zeitpunkt  Strom  Kraft  Temperatur\n0              0.000      -0.00200        300   7000   9000      532.25\n1              0.000      -0.00199        300   7000   9000      536.47\n2              0.000      -0.00198        300   7000   9000      540.69\n3              0.000      -0.00197        300   7000   9000      544.90\n4              0.000      -0.00196        300   7000   9000      549.09\n...              ...           ...        ...    ...    ...         ...\n120696         0.003       0.00196        300   7000   9000      422.17\n120697         0.003       0.00197        300   7000   9000      422.04\n120698         0.003       0.00198        300   7000   9000      421.90\n120699         0.003       0.00199        300   7000   9000      421.76\n120700         0.003       0.00200        300   7000   9000      421.60\n\n[120701 rows x 6 columns]",
      "text/html": "<div>\n<style scoped>\n    .dataframe tbody tr th:only-of-type {\n        vertical-align: middle;\n    }\n\n    .dataframe tbody tr th {\n        vertical-align: top;\n    }\n\n    .dataframe thead th {\n        text-align: right;\n    }\n</style>\n<table border=\"1\" class=\"dataframe\">\n  <thead>\n    <tr style=\"text-align: right;\">\n      <th></th>\n      <th>X-Koordinate</th>\n      <th>Y-Koordinate</th>\n      <th>Zeitpunkt</th>\n      <th>Strom</th>\n      <th>Kraft</th>\n      <th>Temperatur</th>\n    </tr>\n  </thead>\n  <tbody>\n    <tr>\n      <th>0</th>\n      <td>0.000</td>\n      <td>-0.00200</td>\n      <td>300</td>\n      <td>7000</td>\n      <td>9000</td>\n      <td>532.25</td>\n    </tr>\n    <tr>\n      <th>1</th>\n      <td>0.000</td>\n      <td>-0.00199</td>\n      <td>300</td>\n      <td>7000</td>\n      <td>9000</td>\n      <td>536.47</td>\n    </tr>\n    <tr>\n      <th>2</th>\n      <td>0.000</td>\n      <td>-0.00198</td>\n      <td>300</td>\n      <td>7000</td>\n      <td>9000</td>\n      <td>540.69</td>\n    </tr>\n    <tr>\n      <th>3</th>\n      <td>0.000</td>\n      <td>-0.00197</td>\n      <td>300</td>\n      <td>7000</td>\n      <td>9000</td>\n      <td>544.90</td>\n    </tr>\n    <tr>\n      <th>4</th>\n      <td>0.000</td>\n      <td>-0.00196</td>\n      <td>300</td>\n      <td>7000</td>\n      <td>9000</td>\n      <td>549.09</td>\n    </tr>\n    <tr>\n      <th>...</th>\n      <td>...</td>\n      <td>...</td>\n      <td>...</td>\n      <td>...</td>\n      <td>...</td>\n      <td>...</td>\n    </tr>\n    <tr>\n      <th>120696</th>\n      <td>0.003</td>\n      <td>0.00196</td>\n      <td>300</td>\n      <td>7000</td>\n      <td>9000</td>\n      <td>422.17</td>\n    </tr>\n    <tr>\n      <th>120697</th>\n      <td>0.003</td>\n      <td>0.00197</td>\n      <td>300</td>\n      <td>7000</td>\n      <td>9000</td>\n      <td>422.04</td>\n    </tr>\n    <tr>\n      <th>120698</th>\n      <td>0.003</td>\n      <td>0.00198</td>\n      <td>300</td>\n      <td>7000</td>\n      <td>9000</td>\n      <td>421.90</td>\n    </tr>\n    <tr>\n      <th>120699</th>\n      <td>0.003</td>\n      <td>0.00199</td>\n      <td>300</td>\n      <td>7000</td>\n      <td>9000</td>\n      <td>421.76</td>\n    </tr>\n    <tr>\n      <th>120700</th>\n      <td>0.003</td>\n      <td>0.00200</td>\n      <td>300</td>\n      <td>7000</td>\n      <td>9000</td>\n      <td>421.60</td>\n    </tr>\n  </tbody>\n</table>\n<p>120701 rows × 6 columns</p>\n</div>"
     },
     "execution_count": 3,
     "metadata": {},
     "output_type": "execute_result"
    }
   ],
   "source": [
    "data = pd.read_pickle('C:/Users/erikm/Desktop/Diplomarbeit Erik Marr/Daten/Finish/TPath_300_finish_data.pkl')\n",
    "#data = pd.read_pickle('C:/Users/erikm/Desktop/Diplomarbeit Erik Marr/Daten/Finish/TPath_500_finish_data.pkl')\n",
    "\n",
    "data"
   ]
  },
  {
   "cell_type": "code",
   "execution_count": 4,
   "id": "966e3c74",
   "metadata": {
    "ExecuteTime": {
     "end_time": "2024-02-08T11:14:35.177958600Z",
     "start_time": "2024-02-08T11:14:35.150650800Z"
    }
   },
   "outputs": [
    {
     "data": {
      "text/plain": "        X-Koordinate  Y-Koordinate  Temperatur\n0              0.000      -0.00200      532.25\n1              0.000      -0.00199      536.47\n2              0.000      -0.00198      540.69\n3              0.000      -0.00197      544.90\n4              0.000      -0.00196      549.09\n...              ...           ...         ...\n120696         0.003       0.00196      422.17\n120697         0.003       0.00197      422.04\n120698         0.003       0.00198      421.90\n120699         0.003       0.00199      421.76\n120700         0.003       0.00200      421.60\n\n[120701 rows x 3 columns]",
      "text/html": "<div>\n<style scoped>\n    .dataframe tbody tr th:only-of-type {\n        vertical-align: middle;\n    }\n\n    .dataframe tbody tr th {\n        vertical-align: top;\n    }\n\n    .dataframe thead th {\n        text-align: right;\n    }\n</style>\n<table border=\"1\" class=\"dataframe\">\n  <thead>\n    <tr style=\"text-align: right;\">\n      <th></th>\n      <th>X-Koordinate</th>\n      <th>Y-Koordinate</th>\n      <th>Temperatur</th>\n    </tr>\n  </thead>\n  <tbody>\n    <tr>\n      <th>0</th>\n      <td>0.000</td>\n      <td>-0.00200</td>\n      <td>532.25</td>\n    </tr>\n    <tr>\n      <th>1</th>\n      <td>0.000</td>\n      <td>-0.00199</td>\n      <td>536.47</td>\n    </tr>\n    <tr>\n      <th>2</th>\n      <td>0.000</td>\n      <td>-0.00198</td>\n      <td>540.69</td>\n    </tr>\n    <tr>\n      <th>3</th>\n      <td>0.000</td>\n      <td>-0.00197</td>\n      <td>544.90</td>\n    </tr>\n    <tr>\n      <th>4</th>\n      <td>0.000</td>\n      <td>-0.00196</td>\n      <td>549.09</td>\n    </tr>\n    <tr>\n      <th>...</th>\n      <td>...</td>\n      <td>...</td>\n      <td>...</td>\n    </tr>\n    <tr>\n      <th>120696</th>\n      <td>0.003</td>\n      <td>0.00196</td>\n      <td>422.17</td>\n    </tr>\n    <tr>\n      <th>120697</th>\n      <td>0.003</td>\n      <td>0.00197</td>\n      <td>422.04</td>\n    </tr>\n    <tr>\n      <th>120698</th>\n      <td>0.003</td>\n      <td>0.00198</td>\n      <td>421.90</td>\n    </tr>\n    <tr>\n      <th>120699</th>\n      <td>0.003</td>\n      <td>0.00199</td>\n      <td>421.76</td>\n    </tr>\n    <tr>\n      <th>120700</th>\n      <td>0.003</td>\n      <td>0.00200</td>\n      <td>421.60</td>\n    </tr>\n  </tbody>\n</table>\n<p>120701 rows × 3 columns</p>\n</div>"
     },
     "execution_count": 4,
     "metadata": {},
     "output_type": "execute_result"
    }
   ],
   "source": [
    "df = data.drop(data.columns[2:5], axis = 1)\n",
    "df"
   ]
  },
  {
   "cell_type": "code",
   "execution_count": 5,
   "id": "8783d1d6",
   "metadata": {
    "ExecuteTime": {
     "end_time": "2024-02-08T11:14:39.194912400Z",
     "start_time": "2024-02-08T11:14:39.149473Z"
    }
   },
   "outputs": [
    {
     "name": "stdout",
     "output_type": "stream",
     "text": [
      "        X-Koordinate  Y-Koordinate  Temperatur\n",
      "5823         0.00014       0.00009      910.95\n",
      "39085        0.00097      -0.00012      892.79\n",
      "38683        0.00096      -0.00013      893.23\n",
      "48806        0.00121       0.00085      821.47\n",
      "18821        0.00046       0.00175      558.49\n",
      "...              ...           ...         ...\n",
      "110268       0.00274       0.00194      442.36\n",
      "119879       0.00298       0.00181      656.53\n",
      "103694       0.00258       0.00036      724.67\n",
      "860          0.00002      -0.00142      743.94\n",
      "15795        0.00039      -0.00044      902.39\n",
      "\n",
      "[120701 rows x 3 columns]\n"
     ]
    },
    {
     "data": {
      "text/plain": "        X-Koordinate  Y-Koordinate  Temperatur\n0            0.00014       0.00009      910.95\n1            0.00097      -0.00012      892.79\n2            0.00096      -0.00013      893.23\n3            0.00121       0.00085      821.47\n4            0.00046       0.00175      558.49\n...              ...           ...         ...\n120696       0.00274       0.00194      442.36\n120697       0.00298       0.00181      656.53\n120698       0.00258       0.00036      724.67\n120699       0.00002      -0.00142      743.94\n120700       0.00039      -0.00044      902.39\n\n[120701 rows x 3 columns]",
      "text/html": "<div>\n<style scoped>\n    .dataframe tbody tr th:only-of-type {\n        vertical-align: middle;\n    }\n\n    .dataframe tbody tr th {\n        vertical-align: top;\n    }\n\n    .dataframe thead th {\n        text-align: right;\n    }\n</style>\n<table border=\"1\" class=\"dataframe\">\n  <thead>\n    <tr style=\"text-align: right;\">\n      <th></th>\n      <th>X-Koordinate</th>\n      <th>Y-Koordinate</th>\n      <th>Temperatur</th>\n    </tr>\n  </thead>\n  <tbody>\n    <tr>\n      <th>0</th>\n      <td>0.00014</td>\n      <td>0.00009</td>\n      <td>910.95</td>\n    </tr>\n    <tr>\n      <th>1</th>\n      <td>0.00097</td>\n      <td>-0.00012</td>\n      <td>892.79</td>\n    </tr>\n    <tr>\n      <th>2</th>\n      <td>0.00096</td>\n      <td>-0.00013</td>\n      <td>893.23</td>\n    </tr>\n    <tr>\n      <th>3</th>\n      <td>0.00121</td>\n      <td>0.00085</td>\n      <td>821.47</td>\n    </tr>\n    <tr>\n      <th>4</th>\n      <td>0.00046</td>\n      <td>0.00175</td>\n      <td>558.49</td>\n    </tr>\n    <tr>\n      <th>...</th>\n      <td>...</td>\n      <td>...</td>\n      <td>...</td>\n    </tr>\n    <tr>\n      <th>120696</th>\n      <td>0.00274</td>\n      <td>0.00194</td>\n      <td>442.36</td>\n    </tr>\n    <tr>\n      <th>120697</th>\n      <td>0.00298</td>\n      <td>0.00181</td>\n      <td>656.53</td>\n    </tr>\n    <tr>\n      <th>120698</th>\n      <td>0.00258</td>\n      <td>0.00036</td>\n      <td>724.67</td>\n    </tr>\n    <tr>\n      <th>120699</th>\n      <td>0.00002</td>\n      <td>-0.00142</td>\n      <td>743.94</td>\n    </tr>\n    <tr>\n      <th>120700</th>\n      <td>0.00039</td>\n      <td>-0.00044</td>\n      <td>902.39</td>\n    </tr>\n  </tbody>\n</table>\n<p>120701 rows × 3 columns</p>\n</div>"
     },
     "execution_count": 5,
     "metadata": {},
     "output_type": "execute_result"
    }
   ],
   "source": [
    "df1 = df.sample(frac=1, random_state=42)  # Hier wird 42 als Random State verwendet, um die Ergebnisse reproduzierbar zu machen\n",
    "\n",
    "print(df1)\n",
    "df_reset = df1.reset_index(drop=True)\n",
    "df_reset"
   ]
  },
  {
   "cell_type": "code",
   "execution_count": 6,
   "id": "a4e72a16",
   "metadata": {
    "ExecuteTime": {
     "end_time": "2024-02-08T11:14:54.018482700Z",
     "start_time": "2024-02-08T11:14:53.996817600Z"
    }
   },
   "outputs": [],
   "source": [
    "label = df_reset[\"Temperatur\"]\n",
    "# Korrektur: Verwenden Sie den Spaltennamen direkt, ohne Indexierung der columns-Eigenschaft\n",
    "df1 = df_reset.drop(\"Temperatur\", axis=1)\n",
    "X = df1\n",
    "y = label\n"
   ]
  },
  {
   "cell_type": "code",
   "execution_count": 7,
   "id": "e694a236",
   "metadata": {
    "ExecuteTime": {
     "end_time": "2024-02-08T11:14:55.045206700Z",
     "start_time": "2024-02-08T11:14:55.029059300Z"
    }
   },
   "outputs": [
    {
     "data": {
      "text/plain": "        X-Koordinate  Y-Koordinate\n0            0.00014       0.00009\n1            0.00097      -0.00012\n2            0.00096      -0.00013\n3            0.00121       0.00085\n4            0.00046       0.00175\n...              ...           ...\n120696       0.00274       0.00194\n120697       0.00298       0.00181\n120698       0.00258       0.00036\n120699       0.00002      -0.00142\n120700       0.00039      -0.00044\n\n[120701 rows x 2 columns]",
      "text/html": "<div>\n<style scoped>\n    .dataframe tbody tr th:only-of-type {\n        vertical-align: middle;\n    }\n\n    .dataframe tbody tr th {\n        vertical-align: top;\n    }\n\n    .dataframe thead th {\n        text-align: right;\n    }\n</style>\n<table border=\"1\" class=\"dataframe\">\n  <thead>\n    <tr style=\"text-align: right;\">\n      <th></th>\n      <th>X-Koordinate</th>\n      <th>Y-Koordinate</th>\n    </tr>\n  </thead>\n  <tbody>\n    <tr>\n      <th>0</th>\n      <td>0.00014</td>\n      <td>0.00009</td>\n    </tr>\n    <tr>\n      <th>1</th>\n      <td>0.00097</td>\n      <td>-0.00012</td>\n    </tr>\n    <tr>\n      <th>2</th>\n      <td>0.00096</td>\n      <td>-0.00013</td>\n    </tr>\n    <tr>\n      <th>3</th>\n      <td>0.00121</td>\n      <td>0.00085</td>\n    </tr>\n    <tr>\n      <th>4</th>\n      <td>0.00046</td>\n      <td>0.00175</td>\n    </tr>\n    <tr>\n      <th>...</th>\n      <td>...</td>\n      <td>...</td>\n    </tr>\n    <tr>\n      <th>120696</th>\n      <td>0.00274</td>\n      <td>0.00194</td>\n    </tr>\n    <tr>\n      <th>120697</th>\n      <td>0.00298</td>\n      <td>0.00181</td>\n    </tr>\n    <tr>\n      <th>120698</th>\n      <td>0.00258</td>\n      <td>0.00036</td>\n    </tr>\n    <tr>\n      <th>120699</th>\n      <td>0.00002</td>\n      <td>-0.00142</td>\n    </tr>\n    <tr>\n      <th>120700</th>\n      <td>0.00039</td>\n      <td>-0.00044</td>\n    </tr>\n  </tbody>\n</table>\n<p>120701 rows × 2 columns</p>\n</div>"
     },
     "execution_count": 7,
     "metadata": {},
     "output_type": "execute_result"
    }
   ],
   "source": [
    "X"
   ]
  },
  {
   "cell_type": "code",
   "execution_count": 8,
   "id": "3f3303b4",
   "metadata": {
    "ExecuteTime": {
     "end_time": "2024-02-08T11:14:58.301274Z",
     "start_time": "2024-02-08T11:14:58.264444600Z"
    }
   },
   "outputs": [
    {
     "data": {
      "text/plain": "0         910.95\n1         892.79\n2         893.23\n3         821.47\n4         558.49\n           ...  \n120696    442.36\n120697    656.53\n120698    724.67\n120699    743.94\n120700    902.39\nName: Temperatur, Length: 120701, dtype: float64"
     },
     "execution_count": 8,
     "metadata": {},
     "output_type": "execute_result"
    }
   ],
   "source": [
    "y"
   ]
  },
  {
   "cell_type": "code",
   "execution_count": 9,
   "id": "e3ad8da0",
   "metadata": {
    "ExecuteTime": {
     "end_time": "2024-02-08T11:15:13.983848400Z",
     "start_time": "2024-02-08T11:15:13.943500100Z"
    }
   },
   "outputs": [],
   "source": [
    " # train_df enthält 80% der Daten, test_df enthält 20% der Daten\n",
    "X_train, X_test, y_train, y_test = train_test_split(X, y, test_size=0.20, random_state=42)\n"
   ]
  },
  {
   "cell_type": "code",
   "execution_count": 10,
   "id": "9c705edb",
   "metadata": {
    "ExecuteTime": {
     "end_time": "2024-02-08T11:15:14.595534900Z",
     "start_time": "2024-02-08T11:15:14.567140700Z"
    }
   },
   "outputs": [],
   "source": [
    "# Initialisiere einen MinMaxScaler für die Features\n",
    "scaler_features = MinMaxScaler()\n",
    "scaler_features2 = MinMaxScaler()\n",
    "# Skaliere X_train und X_test\n",
    "X_train_scaled = scaler_features.fit_transform(X_train)\n",
    "X_test_scaled = scaler_features.transform(X_test)  # Nutze unterschiedliche Skalierungsparameter\n",
    "\n",
    "# Initialisiere einen SEPARATEN MinMaxScaler für das Ziel, wenn nötig\n",
    "scaler_target = MinMaxScaler()\n",
    "\n",
    "\n",
    "# Skaliere y_train und y_test. Beachte, dass y_train.reshape(-1, 1) verwendet wird, da MinMaxScaler \n",
    "# erwartet, dass die Eingaben als 2D-Arrays kommen, und Ziele normalerweise als 1D-Arrays vorliegen.\n",
    "y_train_scaled = scaler_target.fit_transform(y_train.values.reshape(-1, 1))\n",
    "y_test_scaled = scaler_target.transform(y_test.values.reshape(-1, 1))\n"
   ]
  },
  {
   "cell_type": "code",
   "execution_count": 11,
   "id": "bbefe631e495b483",
   "metadata": {
    "ExecuteTime": {
     "end_time": "2024-02-08T11:15:15.485669300Z",
     "start_time": "2024-02-08T11:15:15.472021600Z"
    }
   },
   "outputs": [
    {
     "data": {
      "text/plain": "array([[0.72333333, 0.125     ],\n       [0.09333333, 0.9175    ],\n       [0.44333333, 0.0675    ],\n       ...,\n       [0.78333333, 0.7675    ],\n       [0.99666667, 0.955     ],\n       [0.66      , 0.27      ]])"
     },
     "execution_count": 11,
     "metadata": {},
     "output_type": "execute_result"
    }
   ],
   "source": [
    "X_train_scaled"
   ]
  },
  {
   "cell_type": "code",
   "execution_count": 12,
   "outputs": [
    {
     "data": {
      "text/plain": "1.0"
     },
     "execution_count": 12,
     "metadata": {},
     "output_type": "execute_result"
    }
   ],
   "source": [
    "y_train_scaled.max()"
   ],
   "metadata": {
    "collapsed": false,
    "ExecuteTime": {
     "end_time": "2024-02-08T11:15:20.048477900Z",
     "start_time": "2024-02-08T11:15:20.006793600Z"
    }
   },
   "id": "ce04ce43aac2242f"
  },
  {
   "cell_type": "code",
   "execution_count": 13,
   "id": "a6eccbb7534cd064",
   "metadata": {
    "ExecuteTime": {
     "end_time": "2024-02-08T11:15:21.260267700Z",
     "start_time": "2024-02-08T11:15:21.244628900Z"
    }
   },
   "outputs": [],
   "source": [
    "# Lernplan erstellen\n",
    "#initial_learning_rate = 0.1\n",
    "#lr_schedule = tf.keras.optimizers.schedules.ExponentialDecay(\n",
    "#    initial_learning_rate, decay_steps=100, decay_rate=0.9, staircase=True)"
   ]
  },
  {
   "cell_type": "code",
   "execution_count": 14,
   "outputs": [
    {
     "name": "stdout",
     "output_type": "stream",
     "text": [
      "WARNING:tensorflow:From C:\\Users\\erikm\\Desktop\\Diplomarbeit Erik Marr\\Projekt X\\venv\\Lib\\site-packages\\keras\\src\\backend.py:873: The name tf.get_default_graph is deprecated. Please use tf.compat.v1.get_default_graph instead.\n",
      "WARNING:tensorflow:From C:\\Users\\erikm\\Desktop\\Diplomarbeit Erik Marr\\Projekt X\\venv\\Lib\\site-packages\\keras\\src\\optimizers\\__init__.py:309: The name tf.train.Optimizer is deprecated. Please use tf.compat.v1.train.Optimizer instead.\n",
      "Epoch 1/100\n",
      "WARNING:tensorflow:From C:\\Users\\erikm\\Desktop\\Diplomarbeit Erik Marr\\Projekt X\\venv\\Lib\\site-packages\\keras\\src\\utils\\tf_utils.py:492: The name tf.ragged.RaggedTensorValue is deprecated. Please use tf.compat.v1.ragged.RaggedTensorValue instead.\n",
      "WARNING:tensorflow:From C:\\Users\\erikm\\Desktop\\Diplomarbeit Erik Marr\\Projekt X\\venv\\Lib\\site-packages\\keras\\src\\engine\\base_layer_utils.py:384: The name tf.executing_eagerly_outside_functions is deprecated. Please use tf.compat.v1.executing_eagerly_outside_functions instead.\n",
      "1545/1545 [==============================] - 2s 1ms/step - loss: 0.2516 - mae: 0.0979 - val_loss: 0.0616 - val_mae: 0.0387\n",
      "Epoch 2/100\n",
      "1545/1545 [==============================] - 1s 932us/step - loss: 0.0227 - mae: 0.0391 - val_loss: 0.0066 - val_mae: 0.0365\n",
      "Epoch 3/100\n",
      "1545/1545 [==============================] - 1s 891us/step - loss: 0.0046 - mae: 0.0352 - val_loss: 0.0037 - val_mae: 0.0306\n",
      "Epoch 4/100\n",
      "1545/1545 [==============================] - 1s 891us/step - loss: 0.0032 - mae: 0.0281 - val_loss: 0.0027 - val_mae: 0.0235\n",
      "Epoch 5/100\n",
      "1545/1545 [==============================] - 1s 919us/step - loss: 0.0024 - mae: 0.0221 - val_loss: 0.0022 - val_mae: 0.0203\n",
      "Epoch 6/100\n",
      "1545/1545 [==============================] - 1s 880us/step - loss: 0.0020 - mae: 0.0189 - val_loss: 0.0017 - val_mae: 0.0159\n",
      "Epoch 7/100\n",
      "1545/1545 [==============================] - 1s 915us/step - loss: 0.0017 - mae: 0.0169 - val_loss: 0.0015 - val_mae: 0.0151\n",
      "Epoch 8/100\n",
      "1545/1545 [==============================] - 1s 876us/step - loss: 0.0014 - mae: 0.0157 - val_loss: 0.0013 - val_mae: 0.0138\n",
      "Epoch 9/100\n",
      "1545/1545 [==============================] - 1s 870us/step - loss: 0.0013 - mae: 0.0144 - val_loss: 0.0011 - val_mae: 0.0129\n",
      "Epoch 10/100\n",
      "1545/1545 [==============================] - 1s 870us/step - loss: 0.0011 - mae: 0.0138 - val_loss: 0.0010 - val_mae: 0.0128\n",
      "Epoch 11/100\n",
      "1545/1545 [==============================] - 1s 870us/step - loss: 0.0011 - mae: 0.0137 - val_loss: 0.0010 - val_mae: 0.0135\n",
      "Epoch 12/100\n",
      "1545/1545 [==============================] - 1s 870us/step - loss: 9.8482e-04 - mae: 0.0129 - val_loss: 8.8858e-04 - val_mae: 0.0124\n",
      "Epoch 13/100\n",
      "1545/1545 [==============================] - 1s 870us/step - loss: 9.3116e-04 - mae: 0.0127 - val_loss: 8.6736e-04 - val_mae: 0.0123\n",
      "Epoch 14/100\n",
      "1545/1545 [==============================] - 1s 871us/step - loss: 8.9653e-04 - mae: 0.0127 - val_loss: 7.7109e-04 - val_mae: 0.0103\n",
      "Epoch 15/100\n",
      "1545/1545 [==============================] - 1s 891us/step - loss: 8.7956e-04 - mae: 0.0130 - val_loss: 7.7945e-04 - val_mae: 0.0109\n",
      "Epoch 16/100\n",
      "1545/1545 [==============================] - 1s 875us/step - loss: 8.3214e-04 - mae: 0.0124 - val_loss: 7.6956e-04 - val_mae: 0.0119\n",
      "Epoch 17/100\n",
      "1545/1545 [==============================] - 1s 868us/step - loss: 8.0869e-04 - mae: 0.0124 - val_loss: 7.0219e-04 - val_mae: 0.0103\n",
      "Epoch 18/100\n",
      "1545/1545 [==============================] - 1s 886us/step - loss: 8.2713e-04 - mae: 0.0132 - val_loss: 9.1858e-04 - val_mae: 0.0177\n",
      "Epoch 19/100\n",
      "1545/1545 [==============================] - 1s 882us/step - loss: 7.7216e-04 - mae: 0.0121 - val_loss: 7.6242e-04 - val_mae: 0.0130\n",
      "Epoch 20/100\n",
      "1545/1545 [==============================] - 1s 870us/step - loss: 7.7057e-04 - mae: 0.0124 - val_loss: 6.9290e-04 - val_mae: 0.0112\n",
      "Epoch 21/100\n",
      "1545/1545 [==============================] - 1s 883us/step - loss: 7.6448e-04 - mae: 0.0126 - val_loss: 6.7260e-04 - val_mae: 0.0113\n",
      "Epoch 22/100\n",
      "1545/1545 [==============================] - 1s 909us/step - loss: 7.4120e-04 - mae: 0.0122 - val_loss: 6.3649e-04 - val_mae: 0.0100\n",
      "Epoch 23/100\n",
      "1545/1545 [==============================] - 1s 891us/step - loss: 7.3671e-04 - mae: 0.0123 - val_loss: 7.2809e-04 - val_mae: 0.0137\n",
      "Epoch 24/100\n",
      "1465/1545 [===========================>..] - ETA: 0s - loss: 7.3208e-04 - mae: 0.0123Restoring model weights from the end of the best epoch: 19.\n",
      "1545/1545 [==============================] - 1s 873us/step - loss: 7.2971e-04 - mae: 0.0123 - val_loss: 7.0476e-04 - val_mae: 0.0131\n",
      "Epoch 24: early stopping\n"
     ]
    }
   ],
   "source": [
    "# Netzwerkarchitektur\n",
    "model = Sequential([\n",
    "    # Eingabeschicht\n",
    "    Dense(32, activation='relu', input_shape=(2,), kernel_initializer='he_uniform', kernel_regularizer=l2(0.01)),\n",
    "    #Dropout(0.01),\n",
    "    # Versteckte Schicht\n",
    "    #Dense(8, activation='relu', kernel_initializer='he_uniform', kernel_regularizer=l2(0.01)),\n",
    "    #Dropout(0.01),\n",
    "    # Ausgabeschicht für Regression (1 Einheit ohne Aktivierungsfunktion)\n",
    "    Dense(1 , activation = 'linear')\n",
    "])\n",
    "\n",
    "# Optimierer\n",
    "optimizer = 'adam' #Adam(learningrate =  0.001)\n",
    "\n",
    "# Modell kompilieren (Verwendung von mean_squared_error als Verlustfunktion für Regression)\n",
    "model.compile(optimizer=optimizer,\n",
    "              loss='mean_squared_error',\n",
    "              metrics=['mae'])  # Metriken für Regression: Mean Absolute Error und Mean Squared Error\n",
    "\n",
    "# Early Stopping Callback\n",
    "early_stopping = EarlyStopping(monitor='loss', patience=5, verbose=1, mode='min', restore_best_weights=True, min_delta = 0.0001)\n",
    "\n",
    "# Trainingsparameter\n",
    "batch_size = 50\n",
    "epochs = 100\n",
    "\n",
    "# Modell trainieren (Annahme: X_train, y_train, X_val, y_val sind vordefiniert)\n",
    "history = model.fit(X_train_scaled, y_train_scaled,\n",
    "                    batch_size=batch_size,\n",
    "                    epochs=epochs,\n",
    "                    validation_split=0.2,\n",
    "                    callbacks=[early_stopping])"
   ],
   "metadata": {
    "collapsed": false,
    "ExecuteTime": {
     "end_time": "2024-02-08T11:15:56.171302800Z",
     "start_time": "2024-02-08T11:15:21.967792900Z"
    }
   },
   "id": "8b52e1a9a6ff3aeb"
  },
  {
   "cell_type": "code",
   "execution_count": 15,
   "outputs": [
    {
     "data": {
      "text/plain": "<Figure size 1000x600 with 1 Axes>",
      "image/png": "[encoded data removed]"
     },
     "metadata": {},
     "output_type": "display_data"
    }
   ],
   "source": [
    "mae = history.history['loss']\n",
    "val_mae = history.history['val_loss']\n",
    "\n",
    "epochs = range(1, len(mae) + 1)\n",
    "\n",
    "# MAE Diagramm\n",
    "plt.figure(figsize=(10, 6))\n",
    "plt.plot(epochs, mae, 'r', label='Training MAE')\n",
    "plt.plot(epochs, val_mae, 'b', label='Validation MAE')\n",
    "plt.title('Training and Validation MAE')\n",
    "plt.xlabel('Epochs')\n",
    "plt.ylabel('MAE')\n",
    "plt.legend()\n",
    "\n",
    "plt.show()"
   ],
   "metadata": {
    "collapsed": false,
    "ExecuteTime": {
     "end_time": "2024-02-08T11:16:00.880606400Z",
     "start_time": "2024-02-08T11:16:00.622208200Z"
    }
   },
   "id": "3688dd7102e95baf"
  },
  {
   "cell_type": "code",
   "execution_count": 16,
   "id": "9f6f672a",
   "metadata": {
    "ExecuteTime": {
     "end_time": "2024-02-08T11:16:11.244243Z",
     "start_time": "2024-02-08T11:16:10.227454800Z"
    }
   },
   "outputs": [
    {
     "name": "stdout",
     "output_type": "stream",
     "text": [
      " Bsp. Predicted: [813.0132] Actual: [792.04] \n",
      "Durchschnittliche Abweichung (MAE): [12.039001]\n"
     ]
    }
   ],
   "source": [
    "scaled_predicted_values = model.predict(X_test_scaled, verbose = 0)\n",
    "\n",
    "# Führen Sie die Rücktransformation der skalierten Werte durch\n",
    "original_predicted_values = scaler_target.inverse_transform(scaled_predicted_values)\n",
    "original_actual_values = scaler_target.inverse_transform(y_test_scaled)  # y_test sind die skalierten tatsächlichen Werte\n",
    "print(f' Bsp. Predicted: {original_predicted_values[10]} Actual: {original_actual_values[10]} ')\n",
    "\n",
    "def calculate_mae(list1, list2):\n",
    "    # Stelle sicher, dass beide Listen die gleiche Länge haben\n",
    "    if len(list1) != len(list2):\n",
    "        raise ValueError(\"Listen müssen die gleiche Länge haben\")\n",
    "    \n",
    "    # Berechne die absolute Differenz zwischen den Elementen der Listen\n",
    "    differences = [abs(x - y) for x, y in zip(list1, list2)]\n",
    "    \n",
    "    # Berechne den Durchschnitt der absoluten Differenzen\n",
    "    mae = sum(differences) / len(differences)\n",
    "    \n",
    "    return mae\n",
    "\n",
    "# Beispiel\n",
    "list1 = original_predicted_values\n",
    "list2 = original_actual_values\n",
    "\n",
    "mae = calculate_mae(list1, list2)\n",
    "print(f\"Durchschnittliche Abweichung (MAE): {mae}\")"
   ]
  },
  {
   "cell_type": "markdown",
   "id": "553df6fa",
   "metadata": {},
   "source": [
    "# GridSearch"
   ]
  },
  {
   "cell_type": "code",
   "execution_count": 11,
   "id": "1dca80c2",
   "metadata": {},
   "outputs": [
    {
     "name": "stdout",
     "output_type": "stream",
     "text": [
      "WARNING:tensorflow:From C:\\Users\\erikm\\anaconda3\\Lib\\site-packages\\keras\\backend.py:873: The name tf.get_default_graph is deprecated. Please use tf.compat.v1.get_default_graph instead.\n",
      "\n",
      "WARNING:tensorflow:From C:\\Users\\erikm\\anaconda3\\Lib\\site-packages\\keras\\optimizers\\__init__.py:300: The name tf.train.Optimizer is deprecated. Please use tf.compat.v1.train.Optimizer instead.\n",
      "\n",
      "Epoch 1/10\n",
      "WARNING:tensorflow:From C:\\Users\\erikm\\anaconda3\\Lib\\site-packages\\keras\\utils\\tf_utils.py:490: The name tf.ragged.RaggedTensorValue is deprecated. Please use tf.compat.v1.ragged.RaggedTensorValue instead.\n",
      "\n",
      "WARNING:tensorflow:From C:\\Users\\erikm\\anaconda3\\Lib\\site-packages\\keras\\engine\\base_layer_utils.py:380: The name tf.executing_eagerly_outside_functions is deprecated. Please use tf.compat.v1.executing_eagerly_outside_functions instead.\n",
      "\n",
      "3025/3025 [==============================] - 6s 2ms/step - loss: 0.0097 - mean_squared_error: 0.0097\n",
      "Epoch 2/10\n",
      "3025/3025 [==============================] - 5s 2ms/step - loss: 0.0026 - mean_squared_error: 0.0026\n",
      "Epoch 3/10\n",
      "3025/3025 [==============================] - 5s 2ms/step - loss: 0.0025 - mean_squared_error: 0.0025\n",
      "Epoch 4/10\n",
      "3025/3025 [==============================] - 5s 2ms/step - loss: 0.0025 - mean_squared_error: 0.0025\n",
      "Epoch 5/10\n",
      "3025/3025 [==============================] - 5s 2ms/step - loss: 0.0025 - mean_squared_error: 0.0025\n",
      "Epoch 6/10\n",
      "3025/3025 [==============================] - 5s 2ms/step - loss: 0.0025 - mean_squared_error: 0.0025\n",
      "Epoch 7/10\n",
      "3025/3025 [==============================] - 5s 2ms/step - loss: 0.0025 - mean_squared_error: 0.0025\n",
      "Epoch 8/10\n",
      "3025/3025 [==============================] - 5s 2ms/step - loss: 0.0025 - mean_squared_error: 0.0025\n",
      "Epoch 9/10\n",
      "3025/3025 [==============================] - 5s 2ms/step - loss: 0.0025 - mean_squared_error: 0.0025\n",
      "Epoch 10/10\n",
      "3025/3025 [==============================] - 5s 2ms/step - loss: 0.0025 - mean_squared_error: 0.0025\n",
      "Best: 0.844394 using {'model__activation': 'relu', 'model__optimizer': 'adam'}\n",
      "0.844394 with: {'model__activation': 'relu', 'model__optimizer': 'adam'}\n",
      "0.827458 with: {'model__activation': 'relu', 'model__optimizer': 'sgd'}\n",
      "0.834291 with: {'model__activation': 'tanh', 'model__optimizer': 'adam'}\n",
      "0.630665 with: {'model__activation': 'tanh', 'model__optimizer': 'sgd'}\n"
     ]
    }
   ],
   "source": [
    "# Schritt 1: Definiere dein Modell als eine Funktion, die Hyperparameter akzeptiert\n",
    "def build_model(optimizer='adam', activation='relu'):\n",
    "    model = Sequential()\n",
    "    model.add(Dense(units=64, activation=activation, input_dim=X_train_scaled.shape[1]))\n",
    "    model.add(Dense(units=32, activation=activation))\n",
    "    model.add(Dense(units=1, activation='linear'))\n",
    "    model.compile(optimizer=optimizer, loss='mean_squared_error', metrics=['mean_squared_error'])\n",
    "    return model\n",
    "\n",
    "# Schritt 2: Erstelle eine Instanz von KerasRegressor ohne batch_size und epochs im param_grid\n",
    "model = KerasRegressor(model=build_model, verbose=1)\n",
    "\n",
    "# Schritt 3: Definiere den Parameter-Raum für die Grid-Suche OHNE batch_size und epochs\n",
    "param_grid = {\n",
    "    'model__optimizer': ['adam', 'sgd'],\n",
    "    'model__activation': ['relu', 'tanh']\n",
    "}\n",
    "\n",
    "# Optional: Definiere Fit-Parameter (wie batch_size und epochs) separat\n",
    "fit_params = {\n",
    "    'batch_size': 32,\n",
    "    'epochs': 10\n",
    "}\n",
    "\n",
    "# Schritt 4: Führe GridSearchCV aus mit fit_params, wenn nötig\n",
    "grid = GridSearchCV(estimator=model, param_grid=param_grid, n_jobs=-1, cv=3)\n",
    "grid_result = grid.fit(X_train_scaled, y_train_scaled, **fit_params)\n",
    "\n",
    "# Ergebnisse ausgeben\n",
    "print(\"Best: %f using %s\" % (grid_result.best_score_, grid_result.best_params_))\n",
    "for mean_score, params in zip(grid_result.cv_results_['mean_test_score'], grid_result.cv_results_['params']):\n",
    "    print(\"%f with: %r\" % (mean_score, params))\n"
   ]
  },
  {
   "cell_type": "code",
   "execution_count": 12,
   "id": "3f17e2cf",
   "metadata": {},
   "outputs": [
    {
     "name": "stdout",
     "output_type": "stream",
     "text": [
      "Epoch 1/5\n",
      "4840/4840 [==============================] - 10s 2ms/step - loss: 0.0053 - mean_squared_error: 0.0053\n",
      "Epoch 2/5\n",
      "4840/4840 [==============================] - 9s 2ms/step - loss: 0.0026 - mean_squared_error: 0.0026\n",
      "Epoch 3/5\n",
      "4840/4840 [==============================] - 8s 2ms/step - loss: 0.0026 - mean_squared_error: 0.0026\n",
      "Epoch 4/5\n",
      "4840/4840 [==============================] - 8s 2ms/step - loss: 0.0025 - mean_squared_error: 0.0025\n",
      "Epoch 5/5\n",
      "4840/4840 [==============================] - 8s 2ms/step - loss: 0.0025 - mean_squared_error: 0.0025\n",
      "Best: 0.845704 using {'fit__batch_size': 20, 'fit__epochs': 5, 'model__activation': 'relu', 'model__optimizer': 'adam'}\n",
      "0.840889 with: {'fit__batch_size': 10, 'fit__epochs': 5, 'model__activation': 'relu', 'model__optimizer': 'adam'}\n",
      "0.834983 with: {'fit__batch_size': 10, 'fit__epochs': 5, 'model__activation': 'relu', 'model__optimizer': 'sgd'}\n",
      "0.833309 with: {'fit__batch_size': 10, 'fit__epochs': 5, 'model__activation': 'tanh', 'model__optimizer': 'adam'}\n",
      "0.761438 with: {'fit__batch_size': 10, 'fit__epochs': 5, 'model__activation': 'tanh', 'model__optimizer': 'sgd'}\n",
      "0.840925 with: {'fit__batch_size': 10, 'fit__epochs': 10, 'model__activation': 'relu', 'model__optimizer': 'adam'}\n",
      "0.841489 with: {'fit__batch_size': 10, 'fit__epochs': 10, 'model__activation': 'relu', 'model__optimizer': 'sgd'}\n",
      "0.831441 with: {'fit__batch_size': 10, 'fit__epochs': 10, 'model__activation': 'tanh', 'model__optimizer': 'adam'}\n",
      "0.781805 with: {'fit__batch_size': 10, 'fit__epochs': 10, 'model__activation': 'tanh', 'model__optimizer': 'sgd'}\n",
      "0.845704 with: {'fit__batch_size': 20, 'fit__epochs': 5, 'model__activation': 'relu', 'model__optimizer': 'adam'}\n",
      "0.815947 with: {'fit__batch_size': 20, 'fit__epochs': 5, 'model__activation': 'relu', 'model__optimizer': 'sgd'}\n",
      "0.813188 with: {'fit__batch_size': 20, 'fit__epochs': 5, 'model__activation': 'tanh', 'model__optimizer': 'adam'}\n",
      "0.624004 with: {'fit__batch_size': 20, 'fit__epochs': 5, 'model__activation': 'tanh', 'model__optimizer': 'sgd'}\n",
      "0.842122 with: {'fit__batch_size': 20, 'fit__epochs': 10, 'model__activation': 'relu', 'model__optimizer': 'adam'}\n",
      "0.834650 with: {'fit__batch_size': 20, 'fit__epochs': 10, 'model__activation': 'relu', 'model__optimizer': 'sgd'}\n",
      "0.832776 with: {'fit__batch_size': 20, 'fit__epochs': 10, 'model__activation': 'tanh', 'model__optimizer': 'adam'}\n",
      "0.719563 with: {'fit__batch_size': 20, 'fit__epochs': 10, 'model__activation': 'tanh', 'model__optimizer': 'sgd'}\n",
      "0.843238 with: {'fit__batch_size': 32, 'fit__epochs': 5, 'model__activation': 'relu', 'model__optimizer': 'adam'}\n",
      "0.786332 with: {'fit__batch_size': 32, 'fit__epochs': 5, 'model__activation': 'relu', 'model__optimizer': 'sgd'}\n",
      "0.831336 with: {'fit__batch_size': 32, 'fit__epochs': 5, 'model__activation': 'tanh', 'model__optimizer': 'adam'}\n",
      "0.421701 with: {'fit__batch_size': 32, 'fit__epochs': 5, 'model__activation': 'tanh', 'model__optimizer': 'sgd'}\n",
      "0.831880 with: {'fit__batch_size': 32, 'fit__epochs': 10, 'model__activation': 'relu', 'model__optimizer': 'adam'}\n",
      "0.825473 with: {'fit__batch_size': 32, 'fit__epochs': 10, 'model__activation': 'relu', 'model__optimizer': 'sgd'}\n",
      "0.834078 with: {'fit__batch_size': 32, 'fit__epochs': 10, 'model__activation': 'tanh', 'model__optimizer': 'adam'}\n",
      "0.688854 with: {'fit__batch_size': 32, 'fit__epochs': 10, 'model__activation': 'tanh', 'model__optimizer': 'sgd'}\n"
     ]
    }
   ],
   "source": [
    "def build_model(optimizer='adam', activation='relu'):\n",
    "    model = Sequential()\n",
    "    model.add(Dense(units=64, activation=activation, input_dim=X_train_scaled.shape[1]))\n",
    "    model.add(Dense(units=32, activation=activation))\n",
    "    model.add(Dense(units=1, activation='linear'))\n",
    "    model.compile(optimizer=optimizer, loss='mean_squared_error', metrics=['mean_squared_error'])\n",
    "    return model\n",
    "\n",
    "model = KerasRegressor(model=build_model, verbose=1)\n",
    "\n",
    "param_grid = {\n",
    "    'model__optimizer': ['adam', 'sgd'],\n",
    "    'model__activation': ['relu', 'tanh'],\n",
    "    'fit__batch_size': [10, 20, 32],  # Testen verschiedener batch_size Werte\n",
    "    'fit__epochs': [5, 10]  # Optional: Testen verschiedener epoch Werte\n",
    "}\n",
    "\n",
    "grid = GridSearchCV(estimator=model, param_grid=param_grid, n_jobs=-1, cv=3)\n",
    "grid_result = grid.fit(X_train_scaled, y_train_scaled)\n",
    "\n",
    "# Ergebnisse ausgeben\n",
    "print(\"Best: %f using %s\" % (grid_result.best_score_, grid_result.best_params_))\n",
    "for mean_score, params in zip(grid_result.cv_results_['mean_test_score'], grid_result.cv_results_['params']):\n",
    "    print(\"%f with: %r\" % (mean_score, params))\n"
   ]
  },
  {
   "cell_type": "code",
   "execution_count": null,
   "id": "492cf0ed",
   "metadata": {},
   "outputs": [],
   "source": []
  }
 ],
 "metadata": {
  "kernelspec": {
   "display_name": "Python 3 (ipykernel)",
   "language": "python",
   "name": "python3"
  },
  "language_info": {
   "codemirror_mode": {
    "name": "ipython",
    "version": 3
   },
   "file_extension": ".py",
   "mimetype": "text/x-python",
   "name": "python",
   "nbconvert_exporter": "python",
   "pygments_lexer": "ipython3",
   "version": "3.11.4"
  }
 },
 "nbformat": 4,
 "nbformat_minor": 5
}
