{
 "cells": [
  {
   "cell_type": "code",
   "execution_count": 16,
   "id": "94b0518e",
   "metadata": {
    "ExecuteTime": {
     "end_time": "2024-04-02T11:09:19.807505100Z",
     "start_time": "2024-04-02T11:09:19.764194700Z"
    }
   },
   "outputs": [],
   "source": [
    "import numpy as np\n",
    "import os\n",
    "from sklearn.model_selection import KFold\n",
    "import tensorflow as tf\n",
    "import matplotlib.pyplot as plt\n",
    "from sklearn.model_selection import train_test_split\n",
    "from sklearn.preprocessing import MinMaxScaler\n",
    "import pandas as pd\n",
    "from tensorflow.keras.layers import Dense , Dropout\n",
    "from scikeras.wrappers import KerasRegressor \n",
    "from tensorflow.keras.callbacks import EarlyStopping\n",
    "import time\n",
    "from keras.models import Sequential\n",
    "from keras.layers import Dense, Dropout\n",
    "from keras.optimizers import Adam\n",
    "from keras.regularizers import l2\n",
    "from keras.callbacks import EarlyStopping\n",
    "from keras_tuner import RandomSearch\n",
    "from tensorflow.keras.models import Sequential\n",
    "from tensorflow.keras.layers import Dense\n",
    "from tensorflow.keras.optimizers import Adam\n",
    "from tensorflow.keras.regularizers import l2\n",
    "from sklearn.model_selection import GridSearchCV"
   ]
  },
  {
   "cell_type": "code",
   "execution_count": 17,
   "id": "14809ab5e1b4d1d7",
   "metadata": {
    "ExecuteTime": {
     "end_time": "2024-04-02T11:09:20.602232700Z",
     "start_time": "2024-04-02T11:09:20.566865100Z"
    }
   },
   "outputs": [
    {
     "data": {
      "text/plain": "         X-Koordinate  Y-Koordinate  Zeitpunkt  Strom  Kraft    Temperatur\n0             0.00000      -0.00200        100   6000   5000  4.498000e+02\n1             0.00000      -0.00196        100   6000   5000  4.652100e+02\n2             0.00000      -0.00192        100   6000   5000  4.797600e+02\n3             0.00000      -0.00188        100   6000   5000  4.935200e+02\n4             0.00000      -0.00184        100   6000   5000  5.066000e+02\n...               ...           ...        ...    ...    ...           ...\n2087059       0.00248       0.00184        500   9000   5000  1.110600e+03\n2087060       0.00248       0.00188        500   9000   5000  1.046600e+03\n2087061       0.00248       0.00192        500   9000   5000  9.810900e+02\n2087062       0.00248       0.00196        500   9000   5000  7.888600e-31\n2087063       0.00248       0.00200        500   9000   5000  9.403500e+02\n\n[458136 rows x 6 columns]",
      "text/html": "<div>\n<style scoped>\n    .dataframe tbody tr th:only-of-type {\n        vertical-align: middle;\n    }\n\n    .dataframe tbody tr th {\n        vertical-align: top;\n    }\n\n    .dataframe thead th {\n        text-align: right;\n    }\n</style>\n<table border=\"1\" class=\"dataframe\">\n  <thead>\n    <tr style=\"text-align: right;\">\n      <th></th>\n      <th>X-Koordinate</th>\n      <th>Y-Koordinate</th>\n      <th>Zeitpunkt</th>\n      <th>Strom</th>\n      <th>Kraft</th>\n      <th>Temperatur</th>\n    </tr>\n  </thead>\n  <tbody>\n    <tr>\n      <th>0</th>\n      <td>0.00000</td>\n      <td>-0.00200</td>\n      <td>100</td>\n      <td>6000</td>\n      <td>5000</td>\n      <td>4.498000e+02</td>\n    </tr>\n    <tr>\n      <th>1</th>\n      <td>0.00000</td>\n      <td>-0.00196</td>\n      <td>100</td>\n      <td>6000</td>\n      <td>5000</td>\n      <td>4.652100e+02</td>\n    </tr>\n    <tr>\n      <th>2</th>\n      <td>0.00000</td>\n      <td>-0.00192</td>\n      <td>100</td>\n      <td>6000</td>\n      <td>5000</td>\n      <td>4.797600e+02</td>\n    </tr>\n    <tr>\n      <th>3</th>\n      <td>0.00000</td>\n      <td>-0.00188</td>\n      <td>100</td>\n      <td>6000</td>\n      <td>5000</td>\n      <td>4.935200e+02</td>\n    </tr>\n    <tr>\n      <th>4</th>\n      <td>0.00000</td>\n      <td>-0.00184</td>\n      <td>100</td>\n      <td>6000</td>\n      <td>5000</td>\n      <td>5.066000e+02</td>\n    </tr>\n    <tr>\n      <th>...</th>\n      <td>...</td>\n      <td>...</td>\n      <td>...</td>\n      <td>...</td>\n      <td>...</td>\n      <td>...</td>\n    </tr>\n    <tr>\n      <th>2087059</th>\n      <td>0.00248</td>\n      <td>0.00184</td>\n      <td>500</td>\n      <td>9000</td>\n      <td>5000</td>\n      <td>1.110600e+03</td>\n    </tr>\n    <tr>\n      <th>2087060</th>\n      <td>0.00248</td>\n      <td>0.00188</td>\n      <td>500</td>\n      <td>9000</td>\n      <td>5000</td>\n      <td>1.046600e+03</td>\n    </tr>\n    <tr>\n      <th>2087061</th>\n      <td>0.00248</td>\n      <td>0.00192</td>\n      <td>500</td>\n      <td>9000</td>\n      <td>5000</td>\n      <td>9.810900e+02</td>\n    </tr>\n    <tr>\n      <th>2087062</th>\n      <td>0.00248</td>\n      <td>0.00196</td>\n      <td>500</td>\n      <td>9000</td>\n      <td>5000</td>\n      <td>7.888600e-31</td>\n    </tr>\n    <tr>\n      <th>2087063</th>\n      <td>0.00248</td>\n      <td>0.00200</td>\n      <td>500</td>\n      <td>9000</td>\n      <td>5000</td>\n      <td>9.403500e+02</td>\n    </tr>\n  </tbody>\n</table>\n<p>458136 rows × 6 columns</p>\n</div>"
     },
     "execution_count": 17,
     "metadata": {},
     "output_type": "execute_result"
    }
   ],
   "source": [
    "#data = pd.read_pickle('C:/Users/erikm/Desktop/Diplomarbeit Erik Marr/Daten/Finish/TPath_300_finish_data.pkl')\n",
    "data = pd.read_pickle('C:/Users/erikm/Desktop/Diplomarbeit Erik Marr/Daten/Finish/Finish_ALL_D3_t_9_I_F_PKL.pkl')\n",
    "# selected_points = data.loc[data['Zeitpunkt'] % 10 == 0, 'Zeitpunkt']\n",
    "# selected_points\n",
    "# copy =  data.loc[selected_points.index]\n",
    "# copy.to_pickle('C:/Users/erikm/Desktop/Diplomarbeit Erik Marr/Daten/Finish/Finish_ALL_D3_t_41_I_F_PKL.pkl')\n",
    "# copy\n",
    "data"
   ]
  },
  {
   "cell_type": "code",
   "execution_count": 44,
   "id": "966e3c74",
   "metadata": {
    "ExecuteTime": {
     "end_time": "2024-04-02T15:22:10.972818Z",
     "start_time": "2024-04-02T15:22:10.895853400Z"
    }
   },
   "outputs": [
    {
     "name": "stdout",
     "output_type": "stream",
     "text": [
      "Empty DataFrame\n",
      "Columns: [X-Koordinate, Y-Koordinate, Zeitpunkt, Strom, Kraft, Temperatur]\n",
      "Index: []\n"
     ]
    },
    {
     "data": {
      "text/plain": "         X-Koordinate  Y-Koordinate  Zeitpunkt  Strom  Kraft  Temperatur\n1037169       0.00000      -0.00200        500   7000   6000      811.76\n1037170       0.00000      -0.00196        500   7000   6000      853.27\n1037171       0.00000      -0.00192        500   7000   6000      897.57\n1037172       0.00000      -0.00188        500   7000   6000      941.21\n1037173       0.00000      -0.00184        500   7000   6000      986.34\n...               ...           ...        ...    ...    ...         ...\n1043527       0.00248       0.00184        500   7000   6000      784.55\n1043528       0.00248       0.00188        500   7000   6000      745.87\n1043529       0.00248       0.00192        500   7000   6000      706.17\n1043530       0.00248       0.00196        500   7000   6000      693.28\n1043531       0.00248       0.00200        500   7000   6000      687.80\n\n[6363 rows x 6 columns]",
      "text/html": "<div>\n<style scoped>\n    .dataframe tbody tr th:only-of-type {\n        vertical-align: middle;\n    }\n\n    .dataframe tbody tr th {\n        vertical-align: top;\n    }\n\n    .dataframe thead th {\n        text-align: right;\n    }\n</style>\n<table border=\"1\" class=\"dataframe\">\n  <thead>\n    <tr style=\"text-align: right;\">\n      <th></th>\n      <th>X-Koordinate</th>\n      <th>Y-Koordinate</th>\n      <th>Zeitpunkt</th>\n      <th>Strom</th>\n      <th>Kraft</th>\n      <th>Temperatur</th>\n    </tr>\n  </thead>\n  <tbody>\n    <tr>\n      <th>1037169</th>\n      <td>0.00000</td>\n      <td>-0.00200</td>\n      <td>500</td>\n      <td>7000</td>\n      <td>6000</td>\n      <td>811.76</td>\n    </tr>\n    <tr>\n      <th>1037170</th>\n      <td>0.00000</td>\n      <td>-0.00196</td>\n      <td>500</td>\n      <td>7000</td>\n      <td>6000</td>\n      <td>853.27</td>\n    </tr>\n    <tr>\n      <th>1037171</th>\n      <td>0.00000</td>\n      <td>-0.00192</td>\n      <td>500</td>\n      <td>7000</td>\n      <td>6000</td>\n      <td>897.57</td>\n    </tr>\n    <tr>\n      <th>1037172</th>\n      <td>0.00000</td>\n      <td>-0.00188</td>\n      <td>500</td>\n      <td>7000</td>\n      <td>6000</td>\n      <td>941.21</td>\n    </tr>\n    <tr>\n      <th>1037173</th>\n      <td>0.00000</td>\n      <td>-0.00184</td>\n      <td>500</td>\n      <td>7000</td>\n      <td>6000</td>\n      <td>986.34</td>\n    </tr>\n    <tr>\n      <th>...</th>\n      <td>...</td>\n      <td>...</td>\n      <td>...</td>\n      <td>...</td>\n      <td>...</td>\n      <td>...</td>\n    </tr>\n    <tr>\n      <th>1043527</th>\n      <td>0.00248</td>\n      <td>0.00184</td>\n      <td>500</td>\n      <td>7000</td>\n      <td>6000</td>\n      <td>784.55</td>\n    </tr>\n    <tr>\n      <th>1043528</th>\n      <td>0.00248</td>\n      <td>0.00188</td>\n      <td>500</td>\n      <td>7000</td>\n      <td>6000</td>\n      <td>745.87</td>\n    </tr>\n    <tr>\n      <th>1043529</th>\n      <td>0.00248</td>\n      <td>0.00192</td>\n      <td>500</td>\n      <td>7000</td>\n      <td>6000</td>\n      <td>706.17</td>\n    </tr>\n    <tr>\n      <th>1043530</th>\n      <td>0.00248</td>\n      <td>0.00196</td>\n      <td>500</td>\n      <td>7000</td>\n      <td>6000</td>\n      <td>693.28</td>\n    </tr>\n    <tr>\n      <th>1043531</th>\n      <td>0.00248</td>\n      <td>0.00200</td>\n      <td>500</td>\n      <td>7000</td>\n      <td>6000</td>\n      <td>687.80</td>\n    </tr>\n  </tbody>\n</table>\n<p>6363 rows × 6 columns</p>\n</div>"
     },
     "execution_count": 44,
     "metadata": {},
     "output_type": "execute_result"
    }
   ],
   "source": [
    "bedingung = (data['Kraft'] == 6000) & (data['Strom'] == 7000)\n",
    "df_test = data[bedingung].copy()\n",
    "#print(df_test)\n",
    "#df_test.to_pickle('C:/Users/erikm/Desktop/Diplomarbeit Erik Marr/Daten/Finish/Finish_I7000_F6000_D3_500_I_F_PKL.pkl')\n",
    "data_all = data.drop(df_test.index)\n",
    "#print(data_all)\n",
    "print(data_all[(data_all['Kraft'] == 6000) & (data_all['Strom'] == 7000)])\n",
    "df_test_500 = df_test[(df_test['Zeitpunkt'] == 500)]\n",
    "df_test_500\n"
   ]
  },
  {
   "cell_type": "code",
   "execution_count": 45,
   "outputs": [
    {
     "data": {
      "text/plain": "         X-Koordinate  Y-Koordinate  Zeitpunkt  Strom  Kraft    Temperatur\n0             0.00000      -0.00200        100   6000   5000  4.498000e+02\n1             0.00000      -0.00196        100   6000   5000  4.652100e+02\n2             0.00000      -0.00192        100   6000   5000  4.797600e+02\n3             0.00000      -0.00188        100   6000   5000  4.935200e+02\n4             0.00000      -0.00184        100   6000   5000  5.066000e+02\n...               ...           ...        ...    ...    ...           ...\n2087059       0.00248       0.00184        500   9000   5000  1.110600e+03\n2087060       0.00248       0.00188        500   9000   5000  1.046600e+03\n2087061       0.00248       0.00192        500   9000   5000  9.810900e+02\n2087062       0.00248       0.00196        500   9000   5000  7.888600e-31\n2087063       0.00248       0.00200        500   9000   5000  9.403500e+02\n\n[400869 rows x 6 columns]",
      "text/html": "<div>\n<style scoped>\n    .dataframe tbody tr th:only-of-type {\n        vertical-align: middle;\n    }\n\n    .dataframe tbody tr th {\n        vertical-align: top;\n    }\n\n    .dataframe thead th {\n        text-align: right;\n    }\n</style>\n<table border=\"1\" class=\"dataframe\">\n  <thead>\n    <tr style=\"text-align: right;\">\n      <th></th>\n      <th>X-Koordinate</th>\n      <th>Y-Koordinate</th>\n      <th>Zeitpunkt</th>\n      <th>Strom</th>\n      <th>Kraft</th>\n      <th>Temperatur</th>\n    </tr>\n  </thead>\n  <tbody>\n    <tr>\n      <th>0</th>\n      <td>0.00000</td>\n      <td>-0.00200</td>\n      <td>100</td>\n      <td>6000</td>\n      <td>5000</td>\n      <td>4.498000e+02</td>\n    </tr>\n    <tr>\n      <th>1</th>\n      <td>0.00000</td>\n      <td>-0.00196</td>\n      <td>100</td>\n      <td>6000</td>\n      <td>5000</td>\n      <td>4.652100e+02</td>\n    </tr>\n    <tr>\n      <th>2</th>\n      <td>0.00000</td>\n      <td>-0.00192</td>\n      <td>100</td>\n      <td>6000</td>\n      <td>5000</td>\n      <td>4.797600e+02</td>\n    </tr>\n    <tr>\n      <th>3</th>\n      <td>0.00000</td>\n      <td>-0.00188</td>\n      <td>100</td>\n      <td>6000</td>\n      <td>5000</td>\n      <td>4.935200e+02</td>\n    </tr>\n    <tr>\n      <th>4</th>\n      <td>0.00000</td>\n      <td>-0.00184</td>\n      <td>100</td>\n      <td>6000</td>\n      <td>5000</td>\n      <td>5.066000e+02</td>\n    </tr>\n    <tr>\n      <th>...</th>\n      <td>...</td>\n      <td>...</td>\n      <td>...</td>\n      <td>...</td>\n      <td>...</td>\n      <td>...</td>\n    </tr>\n    <tr>\n      <th>2087059</th>\n      <td>0.00248</td>\n      <td>0.00184</td>\n      <td>500</td>\n      <td>9000</td>\n      <td>5000</td>\n      <td>1.110600e+03</td>\n    </tr>\n    <tr>\n      <th>2087060</th>\n      <td>0.00248</td>\n      <td>0.00188</td>\n      <td>500</td>\n      <td>9000</td>\n      <td>5000</td>\n      <td>1.046600e+03</td>\n    </tr>\n    <tr>\n      <th>2087061</th>\n      <td>0.00248</td>\n      <td>0.00192</td>\n      <td>500</td>\n      <td>9000</td>\n      <td>5000</td>\n      <td>9.810900e+02</td>\n    </tr>\n    <tr>\n      <th>2087062</th>\n      <td>0.00248</td>\n      <td>0.00196</td>\n      <td>500</td>\n      <td>9000</td>\n      <td>5000</td>\n      <td>7.888600e-31</td>\n    </tr>\n    <tr>\n      <th>2087063</th>\n      <td>0.00248</td>\n      <td>0.00200</td>\n      <td>500</td>\n      <td>9000</td>\n      <td>5000</td>\n      <td>9.403500e+02</td>\n    </tr>\n  </tbody>\n</table>\n<p>400869 rows × 6 columns</p>\n</div>"
     },
     "execution_count": 45,
     "metadata": {},
     "output_type": "execute_result"
    }
   ],
   "source": [
    "data_all"
   ],
   "metadata": {
    "collapsed": false,
    "ExecuteTime": {
     "end_time": "2024-04-02T15:22:13.490024400Z",
     "start_time": "2024-04-02T15:22:13.444095800Z"
    }
   },
   "id": "5285bb0b0f14baf5"
  },
  {
   "cell_type": "code",
   "execution_count": 46,
   "id": "8783d1d6",
   "metadata": {
    "ExecuteTime": {
     "end_time": "2024-04-02T15:22:17.079091300Z",
     "start_time": "2024-04-02T15:22:17.021081300Z"
    }
   },
   "outputs": [
    {
     "data": {
      "text/plain": "        X-Koordinate  Y-Koordinate  Zeitpunkt  Strom  Kraft  Temperatur\n0            0.00120      -0.00012        350   9000   5000     2389.80\n1            0.00092      -0.00176        400   7000   9000      731.76\n2            0.00068      -0.00188        450   9000   5000     1278.60\n3            0.00056       0.00132        400   9000   5000     1853.30\n4            0.00196       0.00100        150   6000   5000      683.24\n...              ...           ...        ...    ...    ...         ...\n400864       0.00184      -0.00152        300   8000   6000     1354.60\n400865       0.00124      -0.00136        250   9000   5000     1674.20\n400866       0.00184      -0.00096        200   7000   5000     1191.10\n400867       0.00020      -0.00148        350   7000   5000     1425.90\n400868       0.00040       0.00004        150   7000   5000     1014.40\n\n[400869 rows x 6 columns]",
      "text/html": "<div>\n<style scoped>\n    .dataframe tbody tr th:only-of-type {\n        vertical-align: middle;\n    }\n\n    .dataframe tbody tr th {\n        vertical-align: top;\n    }\n\n    .dataframe thead th {\n        text-align: right;\n    }\n</style>\n<table border=\"1\" class=\"dataframe\">\n  <thead>\n    <tr style=\"text-align: right;\">\n      <th></th>\n      <th>X-Koordinate</th>\n      <th>Y-Koordinate</th>\n      <th>Zeitpunkt</th>\n      <th>Strom</th>\n      <th>Kraft</th>\n      <th>Temperatur</th>\n    </tr>\n  </thead>\n  <tbody>\n    <tr>\n      <th>0</th>\n      <td>0.00120</td>\n      <td>-0.00012</td>\n      <td>350</td>\n      <td>9000</td>\n      <td>5000</td>\n      <td>2389.80</td>\n    </tr>\n    <tr>\n      <th>1</th>\n      <td>0.00092</td>\n      <td>-0.00176</td>\n      <td>400</td>\n      <td>7000</td>\n      <td>9000</td>\n      <td>731.76</td>\n    </tr>\n    <tr>\n      <th>2</th>\n      <td>0.00068</td>\n      <td>-0.00188</td>\n      <td>450</td>\n      <td>9000</td>\n      <td>5000</td>\n      <td>1278.60</td>\n    </tr>\n    <tr>\n      <th>3</th>\n      <td>0.00056</td>\n      <td>0.00132</td>\n      <td>400</td>\n      <td>9000</td>\n      <td>5000</td>\n      <td>1853.30</td>\n    </tr>\n    <tr>\n      <th>4</th>\n      <td>0.00196</td>\n      <td>0.00100</td>\n      <td>150</td>\n      <td>6000</td>\n      <td>5000</td>\n      <td>683.24</td>\n    </tr>\n    <tr>\n      <th>...</th>\n      <td>...</td>\n      <td>...</td>\n      <td>...</td>\n      <td>...</td>\n      <td>...</td>\n      <td>...</td>\n    </tr>\n    <tr>\n      <th>400864</th>\n      <td>0.00184</td>\n      <td>-0.00152</td>\n      <td>300</td>\n      <td>8000</td>\n      <td>6000</td>\n      <td>1354.60</td>\n    </tr>\n    <tr>\n      <th>400865</th>\n      <td>0.00124</td>\n      <td>-0.00136</td>\n      <td>250</td>\n      <td>9000</td>\n      <td>5000</td>\n      <td>1674.20</td>\n    </tr>\n    <tr>\n      <th>400866</th>\n      <td>0.00184</td>\n      <td>-0.00096</td>\n      <td>200</td>\n      <td>7000</td>\n      <td>5000</td>\n      <td>1191.10</td>\n    </tr>\n    <tr>\n      <th>400867</th>\n      <td>0.00020</td>\n      <td>-0.00148</td>\n      <td>350</td>\n      <td>7000</td>\n      <td>5000</td>\n      <td>1425.90</td>\n    </tr>\n    <tr>\n      <th>400868</th>\n      <td>0.00040</td>\n      <td>0.00004</td>\n      <td>150</td>\n      <td>7000</td>\n      <td>5000</td>\n      <td>1014.40</td>\n    </tr>\n  </tbody>\n</table>\n<p>400869 rows × 6 columns</p>\n</div>"
     },
     "execution_count": 46,
     "metadata": {},
     "output_type": "execute_result"
    }
   ],
   "source": [
    "data_all = data_all.sample(frac=1, random_state=42)  # Hier wird 42 als Random State verwendet, um die Ergebnisse reproduzierbar zu machen\n",
    "df_reset = data_all.reset_index(drop=True)\n",
    "df_reset"
   ]
  },
  {
   "cell_type": "code",
   "execution_count": 47,
   "id": "a4e72a16",
   "metadata": {
    "ExecuteTime": {
     "end_time": "2024-04-02T15:22:20.746300600Z",
     "start_time": "2024-04-02T15:22:20.697756800Z"
    }
   },
   "outputs": [
    {
     "name": "stdout",
     "output_type": "stream",
     "text": [
      "Empty DataFrame\n",
      "Columns: [X-Koordinate, Y-Koordinate, Zeitpunkt, Strom, Kraft]\n",
      "Index: []\n"
     ]
    }
   ],
   "source": [
    "y = df_reset[\"Temperatur\"]\n",
    "# Korrektur: Verwenden Sie den Spaltennamen direkt, ohne Indexierung der columns-Eigenschaft\n",
    "X = df_reset.drop(\"Temperatur\", axis=1)\n",
    "\n",
    "print(X[(X['Kraft'] == 6000) & (X['Strom'] == 7000)])"
   ]
  },
  {
   "cell_type": "code",
   "execution_count": 48,
   "outputs": [],
   "source": [
    "label = df_test_500[\"Temperatur\"]\n",
    "# Korrektur: Verwenden Sie den Spaltennamen direkt, ohne Indexierung der columns-Eigenschaft\n",
    "X_2 = df_test_500.drop(\"Temperatur\", axis=1)\n",
    "\n",
    "X_2 = X_2.reset_index(drop=True)\n",
    "y_2 = label"
   ],
   "metadata": {
    "collapsed": false,
    "ExecuteTime": {
     "end_time": "2024-04-02T15:22:36.686698500Z",
     "start_time": "2024-04-02T15:22:36.647937500Z"
    }
   },
   "id": "2920a35d3f81234d"
  },
  {
   "cell_type": "markdown",
   "source": [],
   "metadata": {
    "collapsed": false
   },
   "id": "f7fa289a50d87423"
  },
  {
   "cell_type": "code",
   "execution_count": 49,
   "id": "e694a236",
   "metadata": {
    "ExecuteTime": {
     "end_time": "2024-04-02T15:22:40.925945400Z",
     "start_time": "2024-04-02T15:22:40.907404100Z"
    }
   },
   "outputs": [
    {
     "data": {
      "text/plain": "      X-Koordinate  Y-Koordinate  Zeitpunkt  Strom  Kraft\n0          0.00000      -0.00200        500   7000   6000\n1          0.00000      -0.00196        500   7000   6000\n2          0.00000      -0.00192        500   7000   6000\n3          0.00000      -0.00188        500   7000   6000\n4          0.00000      -0.00184        500   7000   6000\n...            ...           ...        ...    ...    ...\n6358       0.00248       0.00184        500   7000   6000\n6359       0.00248       0.00188        500   7000   6000\n6360       0.00248       0.00192        500   7000   6000\n6361       0.00248       0.00196        500   7000   6000\n6362       0.00248       0.00200        500   7000   6000\n\n[6363 rows x 5 columns]",
      "text/html": "<div>\n<style scoped>\n    .dataframe tbody tr th:only-of-type {\n        vertical-align: middle;\n    }\n\n    .dataframe tbody tr th {\n        vertical-align: top;\n    }\n\n    .dataframe thead th {\n        text-align: right;\n    }\n</style>\n<table border=\"1\" class=\"dataframe\">\n  <thead>\n    <tr style=\"text-align: right;\">\n      <th></th>\n      <th>X-Koordinate</th>\n      <th>Y-Koordinate</th>\n      <th>Zeitpunkt</th>\n      <th>Strom</th>\n      <th>Kraft</th>\n    </tr>\n  </thead>\n  <tbody>\n    <tr>\n      <th>0</th>\n      <td>0.00000</td>\n      <td>-0.00200</td>\n      <td>500</td>\n      <td>7000</td>\n      <td>6000</td>\n    </tr>\n    <tr>\n      <th>1</th>\n      <td>0.00000</td>\n      <td>-0.00196</td>\n      <td>500</td>\n      <td>7000</td>\n      <td>6000</td>\n    </tr>\n    <tr>\n      <th>2</th>\n      <td>0.00000</td>\n      <td>-0.00192</td>\n      <td>500</td>\n      <td>7000</td>\n      <td>6000</td>\n    </tr>\n    <tr>\n      <th>3</th>\n      <td>0.00000</td>\n      <td>-0.00188</td>\n      <td>500</td>\n      <td>7000</td>\n      <td>6000</td>\n    </tr>\n    <tr>\n      <th>4</th>\n      <td>0.00000</td>\n      <td>-0.00184</td>\n      <td>500</td>\n      <td>7000</td>\n      <td>6000</td>\n    </tr>\n    <tr>\n      <th>...</th>\n      <td>...</td>\n      <td>...</td>\n      <td>...</td>\n      <td>...</td>\n      <td>...</td>\n    </tr>\n    <tr>\n      <th>6358</th>\n      <td>0.00248</td>\n      <td>0.00184</td>\n      <td>500</td>\n      <td>7000</td>\n      <td>6000</td>\n    </tr>\n    <tr>\n      <th>6359</th>\n      <td>0.00248</td>\n      <td>0.00188</td>\n      <td>500</td>\n      <td>7000</td>\n      <td>6000</td>\n    </tr>\n    <tr>\n      <th>6360</th>\n      <td>0.00248</td>\n      <td>0.00192</td>\n      <td>500</td>\n      <td>7000</td>\n      <td>6000</td>\n    </tr>\n    <tr>\n      <th>6361</th>\n      <td>0.00248</td>\n      <td>0.00196</td>\n      <td>500</td>\n      <td>7000</td>\n      <td>6000</td>\n    </tr>\n    <tr>\n      <th>6362</th>\n      <td>0.00248</td>\n      <td>0.00200</td>\n      <td>500</td>\n      <td>7000</td>\n      <td>6000</td>\n    </tr>\n  </tbody>\n</table>\n<p>6363 rows × 5 columns</p>\n</div>"
     },
     "execution_count": 49,
     "metadata": {},
     "output_type": "execute_result"
    }
   ],
   "source": [
    "X_2"
   ]
  },
  {
   "cell_type": "code",
   "execution_count": 50,
   "id": "3f3303b4",
   "metadata": {
    "ExecuteTime": {
     "end_time": "2024-04-02T15:22:42.951923100Z",
     "start_time": "2024-04-02T15:22:42.938625900Z"
    }
   },
   "outputs": [
    {
     "data": {
      "text/plain": "1037169    811.76\n1037170    853.27\n1037171    897.57\n1037172    941.21\n1037173    986.34\n            ...  \n1043527    784.55\n1043528    745.87\n1043529    706.17\n1043530    693.28\n1043531    687.80\nName: Temperatur, Length: 6363, dtype: float64"
     },
     "execution_count": 50,
     "metadata": {},
     "output_type": "execute_result"
    }
   ],
   "source": [
    "y_2"
   ]
  },
  {
   "cell_type": "code",
   "execution_count": 51,
   "id": "e3ad8da0",
   "metadata": {
    "ExecuteTime": {
     "end_time": "2024-04-02T15:22:45.519177900Z",
     "start_time": "2024-04-02T15:22:45.512166600Z"
    }
   },
   "outputs": [],
   "source": [
    " # train_df enthält 80% der Daten, test_df enthält 20% der Daten\n",
    "#X_train, X_test, y_train, y_test = train_test_split(X, y, test_size=0.20, random_state=42)\n"
   ]
  },
  {
   "cell_type": "code",
   "execution_count": 51,
   "outputs": [],
   "source": [],
   "metadata": {
    "collapsed": false,
    "ExecuteTime": {
     "end_time": "2024-04-02T15:22:45.693547800Z",
     "start_time": "2024-04-02T15:22:45.686536800Z"
    }
   },
   "id": "b78be1fe68aa0b4a"
  },
  {
   "cell_type": "code",
   "execution_count": 52,
   "id": "9c705edb",
   "metadata": {
    "ExecuteTime": {
     "end_time": "2024-04-02T15:22:46.176243200Z",
     "start_time": "2024-04-02T15:22:46.125278500Z"
    }
   },
   "outputs": [],
   "source": [
    "# Initialisiere einen MinMaxScaler für die Features\n",
    "scaler_features = MinMaxScaler()\n",
    "scaler_features2 = MinMaxScaler()\n",
    "# Skaliere X_train und X_test\n",
    "X_train_scaled = scaler_features.fit_transform(X)\n",
    "#X_test_scaled = scaler_features.transform(X_test)  # Nutze gleiche Skalierungsparameter ohne das X_Test Informationen einfließen\n",
    "X_test_scaled = scaler_features.transform(X_2)  # Nutze gleiche Skalierungsparameter ohne das X_Test Informationen einfließen\n",
    "\n",
    "# Initialisiere einen SEPARATEN MinMaxScaler für das Ziel, wenn nötig\n",
    "scaler_target = MinMaxScaler()\n",
    "\n",
    "\n",
    "# Skaliere y_train und y_test. Beachte, dass y_train.reshape(-1, 1) verwendet wird, da MinMaxScaler \n",
    "# erwartet, dass die Eingaben als 2D-Arrays kommen, und Ziele normalerweise als 1D-Arrays vorliegen.\n",
    "y_train_scaled = scaler_target.fit_transform(y.values.reshape(-1, 1))\n",
    "#y_test_scaled = scaler_target.transform(y_test.values.reshape(-1, 1))\n",
    "y_test_scaled = scaler_target.transform(y_2.values.reshape(-1, 1))\n"
   ]
  },
  {
   "cell_type": "code",
   "execution_count": 54,
   "id": "bbefe631e495b483",
   "metadata": {
    "ExecuteTime": {
     "end_time": "2024-04-02T15:24:14.883958100Z",
     "start_time": "2024-04-02T15:24:14.878432Z"
    }
   },
   "outputs": [
    {
     "data": {
      "text/plain": "array([[0.        , 0.        , 1.        , 0.33333333, 0.25      ],\n       [0.        , 0.01      , 1.        , 0.33333333, 0.25      ],\n       [0.        , 0.02      , 1.        , 0.33333333, 0.25      ],\n       ...,\n       [1.        , 0.98      , 1.        , 0.33333333, 0.25      ],\n       [1.        , 0.99      , 1.        , 0.33333333, 0.25      ],\n       [1.        , 1.        , 1.        , 0.33333333, 0.25      ]])"
     },
     "execution_count": 54,
     "metadata": {},
     "output_type": "execute_result"
    }
   ],
   "source": [
    "X_test_scaled"
   ]
  },
  {
   "cell_type": "code",
   "execution_count": 28,
   "outputs": [
    {
     "data": {
      "text/plain": "array([[0.48387097, 0.47      , 0.625     , 1.        , 0.        ],\n       [0.37096774, 0.06      , 0.75      , 0.33333333, 1.        ],\n       [0.27419355, 0.03      , 0.875     , 1.        , 0.        ],\n       ...,\n       [0.74193548, 0.26      , 0.25      , 0.33333333, 0.        ],\n       [0.08064516, 0.13      , 0.625     , 0.33333333, 0.        ],\n       [0.16129032, 0.51      , 0.125     , 0.33333333, 0.        ]])"
     },
     "execution_count": 28,
     "metadata": {},
     "output_type": "execute_result"
    }
   ],
   "source": [
    "X_train_scaled"
   ],
   "metadata": {
    "collapsed": false,
    "ExecuteTime": {
     "end_time": "2024-04-02T11:09:27.026367500Z",
     "start_time": "2024-04-02T11:09:26.993849700Z"
    }
   },
   "id": "ce04ce43aac2242f"
  },
  {
   "cell_type": "code",
   "execution_count": 14,
   "outputs": [
    {
     "name": "stdout",
     "output_type": "stream",
     "text": [
      "WARNING:tensorflow:From C:\\Users\\erikm\\Desktop\\Diplomarbeit Erik Marr\\Projekt X\\venv\\Lib\\site-packages\\keras\\src\\backend.py:873: The name tf.get_default_graph is deprecated. Please use tf.compat.v1.get_default_graph instead.\n",
      "Epoch 1/500\n",
      "WARNING:tensorflow:From C:\\Users\\erikm\\Desktop\\Diplomarbeit Erik Marr\\Projekt X\\venv\\Lib\\site-packages\\keras\\src\\utils\\tf_utils.py:492: The name tf.ragged.RaggedTensorValue is deprecated. Please use tf.compat.v1.ragged.RaggedTensorValue instead.\n",
      "WARNING:tensorflow:From C:\\Users\\erikm\\Desktop\\Diplomarbeit Erik Marr\\Projekt X\\venv\\Lib\\site-packages\\keras\\src\\engine\\base_layer_utils.py:384: The name tf.executing_eagerly_outside_functions is deprecated. Please use tf.compat.v1.executing_eagerly_outside_functions instead.\n",
      "1604/1604 [==============================] - 6s 3ms/step - loss: 0.0175 - mae: 0.0456 - val_loss: 0.0110 - val_mae: 0.0248\n",
      "Epoch 2/500\n",
      "1604/1604 [==============================] - 5s 3ms/step - loss: 0.0099 - mae: 0.0162 - val_loss: 0.0092 - val_mae: 0.0133\n",
      "Epoch 3/500\n",
      "1604/1604 [==============================] - 5s 3ms/step - loss: 0.0087 - mae: 0.0112 - val_loss: 0.0087 - val_mae: 0.0204\n",
      "Epoch 4/500\n",
      "1604/1604 [==============================] - 6s 4ms/step - loss: 0.0080 - mae: 0.0098 - val_loss: 0.0076 - val_mae: 0.0084\n",
      "Epoch 5/500\n",
      "1604/1604 [==============================] - 5s 3ms/step - loss: 0.0073 - mae: 0.0087 - val_loss: 0.0071 - val_mae: 0.0075\n",
      "Epoch 6/500\n",
      "1604/1604 [==============================] - 6s 4ms/step - loss: 0.0068 - mae: 0.0080 - val_loss: 0.0066 - val_mae: 0.0074\n",
      "Epoch 7/500\n",
      "1604/1604 [==============================] - 5s 3ms/step - loss: 0.0064 - mae: 0.0078 - val_loss: 0.0061 - val_mae: 0.0059\n",
      "Epoch 8/500\n",
      "1604/1604 [==============================] - 6s 4ms/step - loss: 0.0060 - mae: 0.0072 - val_loss: 0.0058 - val_mae: 0.0059\n",
      "Epoch 9/500\n",
      "1604/1604 [==============================] - 5s 3ms/step - loss: 0.0056 - mae: 0.0073 - val_loss: 0.0056 - val_mae: 0.0113\n",
      "Epoch 10/500\n",
      "1604/1604 [==============================] - 6s 3ms/step - loss: 0.0053 - mae: 0.0069 - val_loss: 0.0052 - val_mae: 0.0063\n",
      "Epoch 11/500\n",
      "1604/1604 [==============================] - 5s 3ms/step - loss: 0.0051 - mae: 0.0068 - val_loss: 0.0049 - val_mae: 0.0064\n",
      "Epoch 12/500\n",
      "1604/1604 [==============================] - 6s 4ms/step - loss: 0.0048 - mae: 0.0064 - val_loss: 0.0047 - val_mae: 0.0051\n",
      "Epoch 13/500\n",
      "1604/1604 [==============================] - 5s 3ms/step - loss: 0.0046 - mae: 0.0063 - val_loss: 0.0044 - val_mae: 0.0062\n",
      "Epoch 14/500\n",
      "1604/1604 [==============================] - 6s 4ms/step - loss: 0.0043 - mae: 0.0063 - val_loss: 0.0042 - val_mae: 0.0053\n",
      "Epoch 15/500\n",
      "1604/1604 [==============================] - 5s 3ms/step - loss: 0.0041 - mae: 0.0061 - val_loss: 0.0040 - val_mae: 0.0048\n",
      "Epoch 16/500\n",
      "1604/1604 [==============================] - 6s 3ms/step - loss: 0.0039 - mae: 0.0060 - val_loss: 0.0038 - val_mae: 0.0055\n",
      "Epoch 17/500\n",
      "1604/1604 [==============================] - 5s 3ms/step - loss: 0.0037 - mae: 0.0058 - val_loss: 0.0036 - val_mae: 0.0061\n",
      "Epoch 18/500\n",
      "1604/1604 [==============================] - 6s 4ms/step - loss: 0.0035 - mae: 0.0056 - val_loss: 0.0034 - val_mae: 0.0056\n",
      "Epoch 19/500\n",
      "1604/1604 [==============================] - 5s 3ms/step - loss: 0.0034 - mae: 0.0057 - val_loss: 0.0033 - val_mae: 0.0051\n",
      "Epoch 20/500\n",
      "1604/1604 [==============================] - 6s 3ms/step - loss: 0.0032 - mae: 0.0057 - val_loss: 0.0031 - val_mae: 0.0048\n",
      "Epoch 21/500\n",
      "1604/1604 [==============================] - 5s 3ms/step - loss: 0.0030 - mae: 0.0053 - val_loss: 0.0030 - val_mae: 0.0047\n",
      "Epoch 22/500\n",
      "1604/1604 [==============================] - 6s 3ms/step - loss: 0.0029 - mae: 0.0054 - val_loss: 0.0028 - val_mae: 0.0048\n",
      "Epoch 23/500\n",
      "1604/1604 [==============================] - 5s 3ms/step - loss: 0.0027 - mae: 0.0053 - val_loss: 0.0027 - val_mae: 0.0049\n",
      "Epoch 24/500\n",
      "1604/1604 [==============================] - 6s 3ms/step - loss: 0.0026 - mae: 0.0052 - val_loss: 0.0025 - val_mae: 0.0055\n",
      "Epoch 25/500\n",
      "1604/1604 [==============================] - 6s 3ms/step - loss: 0.0025 - mae: 0.0051 - val_loss: 0.0024 - val_mae: 0.0041\n",
      "Epoch 26/500\n",
      "1604/1604 [==============================] - 5s 3ms/step - loss: 0.0023 - mae: 0.0050 - val_loss: 0.0023 - val_mae: 0.0047\n",
      "Epoch 27/500\n",
      "1604/1604 [==============================] - 6s 4ms/step - loss: 0.0022 - mae: 0.0050 - val_loss: 0.0022 - val_mae: 0.0056\n",
      "Epoch 28/500\n",
      "1604/1604 [==============================] - 5s 3ms/step - loss: 0.0021 - mae: 0.0049 - val_loss: 0.0020 - val_mae: 0.0041\n",
      "Epoch 29/500\n",
      "1604/1604 [==============================] - 6s 4ms/step - loss: 0.0020 - mae: 0.0049 - val_loss: 0.0019 - val_mae: 0.0055\n",
      "Epoch 30/500\n",
      "1604/1604 [==============================] - 5s 3ms/step - loss: 0.0019 - mae: 0.0048 - val_loss: 0.0018 - val_mae: 0.0041\n",
      "Epoch 31/500\n",
      "1604/1604 [==============================] - 6s 3ms/step - loss: 0.0018 - mae: 0.0047 - val_loss: 0.0017 - val_mae: 0.0039\n",
      "Epoch 32/500\n",
      "1604/1604 [==============================] - 5s 3ms/step - loss: 0.0017 - mae: 0.0047 - val_loss: 0.0016 - val_mae: 0.0044\n",
      "Epoch 33/500\n",
      "1604/1604 [==============================] - 6s 4ms/step - loss: 0.0016 - mae: 0.0048 - val_loss: 0.0016 - val_mae: 0.0065\n",
      "Epoch 34/500\n",
      "1604/1604 [==============================] - 5s 3ms/step - loss: 0.0015 - mae: 0.0046 - val_loss: 0.0016 - val_mae: 0.0092\n",
      "Epoch 35/500\n",
      "1604/1604 [==============================] - 6s 3ms/step - loss: 0.0014 - mae: 0.0046 - val_loss: 0.0014 - val_mae: 0.0048\n",
      "Epoch 36/500\n",
      "1604/1604 [==============================] - 5s 3ms/step - loss: 0.0014 - mae: 0.0046 - val_loss: 0.0013 - val_mae: 0.0042\n",
      "Epoch 37/500\n",
      "1604/1604 [==============================] - 6s 4ms/step - loss: 0.0013 - mae: 0.0045 - val_loss: 0.0013 - val_mae: 0.0038\n",
      "Epoch 38/500\n",
      "1604/1604 [==============================] - 5s 3ms/step - loss: 0.0012 - mae: 0.0045 - val_loss: 0.0012 - val_mae: 0.0038\n",
      "Epoch 39/500\n",
      "1604/1604 [==============================] - 6s 3ms/step - loss: 0.0012 - mae: 0.0044 - val_loss: 0.0011 - val_mae: 0.0050\n",
      "Epoch 40/500\n",
      "1604/1604 [==============================] - 5s 3ms/step - loss: 0.0011 - mae: 0.0044 - val_loss: 0.0011 - val_mae: 0.0039\n",
      "Epoch 41/500\n",
      "1604/1604 [==============================] - 6s 3ms/step - loss: 0.0011 - mae: 0.0044 - val_loss: 0.0011 - val_mae: 0.0064\n",
      "Epoch 42/500\n",
      "1604/1604 [==============================] - 5s 3ms/step - loss: 0.0010 - mae: 0.0043 - val_loss: 9.7196e-04 - val_mae: 0.0038\n",
      "Epoch 43/500\n",
      "1604/1604 [==============================] - 6s 3ms/step - loss: 9.5539e-04 - mae: 0.0044 - val_loss: 9.2554e-04 - val_mae: 0.0037\n",
      "Epoch 44/500\n",
      "1604/1604 [==============================] - 5s 3ms/step - loss: 9.1023e-04 - mae: 0.0043 - val_loss: 8.9335e-04 - val_mae: 0.0046\n",
      "Epoch 45/500\n",
      "1604/1604 [==============================] - 5s 3ms/step - loss: 8.6717e-04 - mae: 0.0042 - val_loss: 8.4379e-04 - val_mae: 0.0038\n",
      "Epoch 46/500\n",
      "1604/1604 [==============================] - 6s 3ms/step - loss: 8.2790e-04 - mae: 0.0043 - val_loss: 7.9888e-04 - val_mae: 0.0034\n",
      "Epoch 47/500\n",
      "1604/1604 [==============================] - 5s 3ms/step - loss: 7.8836e-04 - mae: 0.0042 - val_loss: 7.7175e-04 - val_mae: 0.0044\n",
      "Epoch 48/500\n",
      "1604/1604 [==============================] - 6s 3ms/step - loss: 7.5455e-04 - mae: 0.0043 - val_loss: 7.2991e-04 - val_mae: 0.0035\n",
      "Epoch 49/500\n",
      "1604/1604 [==============================] - 5s 3ms/step - loss: 7.2114e-04 - mae: 0.0041 - val_loss: 7.2992e-04 - val_mae: 0.0062\n",
      "Epoch 50/500\n",
      "1604/1604 [==============================] - 6s 4ms/step - loss: 6.9147e-04 - mae: 0.0041 - val_loss: 6.7529e-04 - val_mae: 0.0038\n",
      "Epoch 51/500\n",
      "1604/1604 [==============================] - 5s 3ms/step - loss: 6.6195e-04 - mae: 0.0040 - val_loss: 6.4501e-04 - val_mae: 0.0036\n",
      "Epoch 52/500\n",
      "1604/1604 [==============================] - 6s 4ms/step - loss: 6.3399e-04 - mae: 0.0040 - val_loss: 6.2961e-04 - val_mae: 0.0044\n",
      "Epoch 53/500\n",
      "1604/1604 [==============================] - 6s 4ms/step - loss: 6.0920e-04 - mae: 0.0040 - val_loss: 5.9186e-04 - val_mae: 0.0035\n",
      "Epoch 54/500\n",
      "1604/1604 [==============================] - 6s 4ms/step - loss: 5.8440e-04 - mae: 0.0039 - val_loss: 5.6852e-04 - val_mae: 0.0036\n",
      "Epoch 55/500\n",
      "1604/1604 [==============================] - 5s 3ms/step - loss: 5.6228e-04 - mae: 0.0039 - val_loss: 5.6402e-04 - val_mae: 0.0049\n",
      "Epoch 56/500\n",
      "1604/1604 [==============================] - 6s 3ms/step - loss: 5.4102e-04 - mae: 0.0039 - val_loss: 5.2753e-04 - val_mae: 0.0035\n",
      "Epoch 57/500\n",
      "1604/1604 [==============================] - 5s 3ms/step - loss: 5.2094e-04 - mae: 0.0039 - val_loss: 5.0983e-04 - val_mae: 0.0037\n",
      "Epoch 58/500\n",
      "1604/1604 [==============================] - 6s 3ms/step - loss: 5.0246e-04 - mae: 0.0039 - val_loss: 4.9738e-04 - val_mae: 0.0044\n",
      "Epoch 59/500\n",
      "1604/1604 [==============================] - 5s 3ms/step - loss: 4.8498e-04 - mae: 0.0038 - val_loss: 4.7348e-04 - val_mae: 0.0036\n",
      "Epoch 60/500\n",
      "1604/1604 [==============================] - 6s 3ms/step - loss: 4.6823e-04 - mae: 0.0038 - val_loss: 4.5361e-04 - val_mae: 0.0031\n",
      "Epoch 61/500\n",
      "1604/1604 [==============================] - 5s 3ms/step - loss: 4.5207e-04 - mae: 0.0038 - val_loss: 4.4045e-04 - val_mae: 0.0034\n",
      "Epoch 62/500\n",
      "1604/1604 [==============================] - 6s 4ms/step - loss: 4.3861e-04 - mae: 0.0038 - val_loss: 4.3270e-04 - val_mae: 0.0040\n",
      "Epoch 63/500\n",
      "1604/1604 [==============================] - 5s 3ms/step - loss: 4.2488e-04 - mae: 0.0038 - val_loss: 4.2990e-04 - val_mae: 0.0049\n",
      "Epoch 64/500\n",
      "1604/1604 [==============================] - 5s 3ms/step - loss: 4.1319e-04 - mae: 0.0038 - val_loss: 4.1926e-04 - val_mae: 0.0049\n",
      "Epoch 65/500\n",
      "1604/1604 [==============================] - 5s 3ms/step - loss: 3.9935e-04 - mae: 0.0037 - val_loss: 4.0710e-04 - val_mae: 0.0047\n",
      "Epoch 66/500\n",
      "1604/1604 [==============================] - 5s 3ms/step - loss: 3.8860e-04 - mae: 0.0037 - val_loss: 3.9764e-04 - val_mae: 0.0049\n",
      "Epoch 67/500\n",
      "1604/1604 [==============================] - 5s 3ms/step - loss: 3.7855e-04 - mae: 0.0037 - val_loss: 3.7299e-04 - val_mae: 0.0038\n",
      "Epoch 68/500\n",
      "1604/1604 [==============================] - 5s 3ms/step - loss: 3.6667e-04 - mae: 0.0036 - val_loss: 3.6194e-04 - val_mae: 0.0035\n",
      "Epoch 69/500\n",
      "1604/1604 [==============================] - 6s 3ms/step - loss: 3.5774e-04 - mae: 0.0036 - val_loss: 3.4959e-04 - val_mae: 0.0032\n",
      "Epoch 70/500\n",
      "1604/1604 [==============================] - 5s 3ms/step - loss: 3.4916e-04 - mae: 0.0037 - val_loss: 3.4001e-04 - val_mae: 0.0031\n",
      "Epoch 71/500\n",
      "1604/1604 [==============================] - 5s 3ms/step - loss: 3.3983e-04 - mae: 0.0036 - val_loss: 3.2984e-04 - val_mae: 0.0029\n",
      "Epoch 72/500\n",
      "1604/1604 [==============================] - 5s 3ms/step - loss: 3.3225e-04 - mae: 0.0036 - val_loss: 3.2482e-04 - val_mae: 0.0032\n",
      "Epoch 73/500\n",
      "1604/1604 [==============================] - 5s 3ms/step - loss: 3.2413e-04 - mae: 0.0036 - val_loss: 3.1546e-04 - val_mae: 0.0030\n",
      "Epoch 74/500\n",
      "1604/1604 [==============================] - 5s 3ms/step - loss: 3.1695e-04 - mae: 0.0036 - val_loss: 3.0721e-04 - val_mae: 0.0029\n",
      "Epoch 75/500\n",
      "1604/1604 [==============================] - 6s 4ms/step - loss: 3.1014e-04 - mae: 0.0036 - val_loss: 3.0819e-04 - val_mae: 0.0036\n",
      "Epoch 76/500\n",
      "1604/1604 [==============================] - 5s 3ms/step - loss: 3.0356e-04 - mae: 0.0035 - val_loss: 2.9598e-04 - val_mae: 0.0031\n",
      "Epoch 77/500\n",
      "1604/1604 [==============================] - 6s 3ms/step - loss: 2.9729e-04 - mae: 0.0035 - val_loss: 2.9241e-04 - val_mae: 0.0033\n",
      "Epoch 78/500\n",
      "1604/1604 [==============================] - 5s 3ms/step - loss: 2.9129e-04 - mae: 0.0035 - val_loss: 3.1198e-04 - val_mae: 0.0049\n",
      "Epoch 79/500\n",
      "1604/1604 [==============================] - 5s 3ms/step - loss: 2.8626e-04 - mae: 0.0035 - val_loss: 2.8051e-04 - val_mae: 0.0033\n",
      "Epoch 80/500\n",
      "1604/1604 [==============================] - 5s 3ms/step - loss: 2.8029e-04 - mae: 0.0035 - val_loss: 2.7706e-04 - val_mae: 0.0033\n",
      "Epoch 81/500\n",
      "1604/1604 [==============================] - 6s 3ms/step - loss: 2.7531e-04 - mae: 0.0035 - val_loss: 2.7580e-04 - val_mae: 0.0038\n",
      "Epoch 82/500\n",
      "1604/1604 [==============================] - 5s 3ms/step - loss: 2.7048e-04 - mae: 0.0035 - val_loss: 2.6427e-04 - val_mae: 0.0030\n",
      "Epoch 83/500\n",
      "1604/1604 [==============================] - 6s 3ms/step - loss: 2.6603e-04 - mae: 0.0035 - val_loss: 2.6226e-04 - val_mae: 0.0033\n",
      "Epoch 84/500\n",
      "1604/1604 [==============================] - 5s 3ms/step - loss: 2.6166e-04 - mae: 0.0035 - val_loss: 2.5524e-04 - val_mae: 0.0030\n",
      "Epoch 85/500\n",
      "1604/1604 [==============================] - 6s 3ms/step - loss: 2.5697e-04 - mae: 0.0034 - val_loss: 2.5135e-04 - val_mae: 0.0030\n",
      "Epoch 86/500\n",
      "1604/1604 [==============================] - 5s 3ms/step - loss: 2.5312e-04 - mae: 0.0034 - val_loss: 2.4505e-04 - val_mae: 0.0027\n",
      "Epoch 87/500\n",
      "1604/1604 [==============================] - 5s 3ms/step - loss: 2.4884e-04 - mae: 0.0034 - val_loss: 2.4664e-04 - val_mae: 0.0033\n",
      "Epoch 88/500\n",
      "1604/1604 [==============================] - 6s 3ms/step - loss: 2.4541e-04 - mae: 0.0034 - val_loss: 2.5012e-04 - val_mae: 0.0040\n",
      "Epoch 89/500\n",
      "1604/1604 [==============================] - 5s 3ms/step - loss: 2.4241e-04 - mae: 0.0034 - val_loss: 2.4042e-04 - val_mae: 0.0035\n",
      "Epoch 90/500\n",
      "1604/1604 [==============================] - 5s 3ms/step - loss: 2.3873e-04 - mae: 0.0034 - val_loss: 2.3798e-04 - val_mae: 0.0033\n",
      "Epoch 91/500\n",
      "1604/1604 [==============================] - 5s 3ms/step - loss: 2.3557e-04 - mae: 0.0034 - val_loss: 2.3012e-04 - val_mae: 0.0029\n",
      "Epoch 92/500\n",
      "1604/1604 [==============================] - 6s 3ms/step - loss: 2.3197e-04 - mae: 0.0034 - val_loss: 2.2518e-04 - val_mae: 0.0027\n",
      "Epoch 93/500\n",
      "1604/1604 [==============================] - 5s 3ms/step - loss: 2.2926e-04 - mae: 0.0034 - val_loss: 2.3062e-04 - val_mae: 0.0032\n",
      "Epoch 94/500\n",
      "1604/1604 [==============================] - 6s 4ms/step - loss: 2.2589e-04 - mae: 0.0033 - val_loss: 2.2376e-04 - val_mae: 0.0032\n",
      "Epoch 95/500\n",
      "1604/1604 [==============================] - 5s 3ms/step - loss: 2.2357e-04 - mae: 0.0034 - val_loss: 2.1658e-04 - val_mae: 0.0027\n",
      "Epoch 96/500\n",
      "1604/1604 [==============================] - 6s 3ms/step - loss: 2.2121e-04 - mae: 0.0034 - val_loss: 2.1650e-04 - val_mae: 0.0029\n",
      "Epoch 97/500\n",
      "1604/1604 [==============================] - 5s 3ms/step - loss: 2.1795e-04 - mae: 0.0033 - val_loss: 2.1669e-04 - val_mae: 0.0033\n",
      "Epoch 98/500\n",
      "1604/1604 [==============================] - 6s 3ms/step - loss: 2.1578e-04 - mae: 0.0034 - val_loss: 2.0816e-04 - val_mae: 0.0026\n",
      "Epoch 99/500\n",
      "1604/1604 [==============================] - 5s 3ms/step - loss: 2.1371e-04 - mae: 0.0034 - val_loss: 2.1259e-04 - val_mae: 0.0033\n",
      "Epoch 100/500\n",
      "1604/1604 [==============================] - 6s 3ms/step - loss: 2.1130e-04 - mae: 0.0034 - val_loss: 2.1695e-04 - val_mae: 0.0042\n",
      "Epoch 101/500\n",
      "1604/1604 [==============================] - 5s 3ms/step - loss: 2.0854e-04 - mae: 0.0034 - val_loss: 2.0510e-04 - val_mae: 0.0031\n",
      "Epoch 102/500\n",
      "1604/1604 [==============================] - 5s 3ms/step - loss: 2.0638e-04 - mae: 0.0033 - val_loss: 2.1030e-04 - val_mae: 0.0039\n",
      "Epoch 103/500\n",
      "1604/1604 [==============================] - 5s 3ms/step - loss: 2.0397e-04 - mae: 0.0033 - val_loss: 2.0339e-04 - val_mae: 0.0032\n",
      "Epoch 104/500\n",
      "1604/1604 [==============================] - 6s 3ms/step - loss: 2.0192e-04 - mae: 0.0033 - val_loss: 2.0199e-04 - val_mae: 0.0032\n",
      "Epoch 105/500\n",
      "1604/1604 [==============================] - 5s 3ms/step - loss: 1.9954e-04 - mae: 0.0033 - val_loss: 1.9738e-04 - val_mae: 0.0031\n",
      "Epoch 106/500\n",
      "1604/1604 [==============================] - 5s 3ms/step - loss: 1.9835e-04 - mae: 0.0033 - val_loss: 2.0123e-04 - val_mae: 0.0037\n",
      "Epoch 107/500\n",
      "1604/1604 [==============================] - 5s 3ms/step - loss: 1.9656e-04 - mae: 0.0033 - val_loss: 1.9371e-04 - val_mae: 0.0031\n",
      "Epoch 108/500\n",
      "1604/1604 [==============================] - 5s 3ms/step - loss: 1.9457e-04 - mae: 0.0033 - val_loss: 1.8963e-04 - val_mae: 0.0028\n",
      "Epoch 109/500\n",
      "1604/1604 [==============================] - 5s 3ms/step - loss: 1.9281e-04 - mae: 0.0033 - val_loss: 1.9003e-04 - val_mae: 0.0030\n",
      "Epoch 110/500\n",
      "1604/1604 [==============================] - 6s 3ms/step - loss: 1.9121e-04 - mae: 0.0033 - val_loss: 1.8952e-04 - val_mae: 0.0031\n",
      "Epoch 111/500\n",
      "1604/1604 [==============================] - 5s 3ms/step - loss: 1.8963e-04 - mae: 0.0033 - val_loss: 2.0980e-04 - val_mae: 0.0052\n",
      "Epoch 112/500\n",
      "1604/1604 [==============================] - 5s 3ms/step - loss: 1.8725e-04 - mae: 0.0032 - val_loss: 1.9138e-04 - val_mae: 0.0039\n",
      "Epoch 113/500\n",
      "1604/1604 [==============================] - 6s 3ms/step - loss: 1.8620e-04 - mae: 0.0033 - val_loss: 1.8803e-04 - val_mae: 0.0036\n",
      "Epoch 114/500\n",
      "1604/1604 [==============================] - 5s 3ms/step - loss: 1.8498e-04 - mae: 0.0033 - val_loss: 1.8089e-04 - val_mae: 0.0029\n",
      "Epoch 115/500\n",
      "1604/1604 [==============================] - 5s 3ms/step - loss: 1.8347e-04 - mae: 0.0033 - val_loss: 1.7734e-04 - val_mae: 0.0026\n",
      "Epoch 116/500\n",
      "1604/1604 [==============================] - 5s 3ms/step - loss: 1.8168e-04 - mae: 0.0032 - val_loss: 1.8848e-04 - val_mae: 0.0039\n",
      "Epoch 117/500\n",
      "1604/1604 [==============================] - 5s 3ms/step - loss: 1.8024e-04 - mae: 0.0032 - val_loss: 1.8045e-04 - val_mae: 0.0032\n",
      "Epoch 118/500\n",
      "1604/1604 [==============================] - 5s 3ms/step - loss: 1.7917e-04 - mae: 0.0032 - val_loss: 1.8089e-04 - val_mae: 0.0035\n",
      "Epoch 119/500\n",
      "1604/1604 [==============================] - 6s 3ms/step - loss: 1.7771e-04 - mae: 0.0032 - val_loss: 1.7480e-04 - val_mae: 0.0030\n",
      "Epoch 120/500\n",
      "1604/1604 [==============================] - 5s 3ms/step - loss: 1.7668e-04 - mae: 0.0033 - val_loss: 1.8042e-04 - val_mae: 0.0036\n",
      "Epoch 121/500\n",
      "1604/1604 [==============================] - 5s 3ms/step - loss: 1.7511e-04 - mae: 0.0032 - val_loss: 1.8536e-04 - val_mae: 0.0042\n",
      "Epoch 122/500\n",
      "1604/1604 [==============================] - 5s 3ms/step - loss: 1.7393e-04 - mae: 0.0032 - val_loss: 1.6957e-04 - val_mae: 0.0028\n",
      "Epoch 123/500\n",
      "1604/1604 [==============================] - 6s 4ms/step - loss: 1.7259e-04 - mae: 0.0032 - val_loss: 1.6775e-04 - val_mae: 0.0026\n",
      "Epoch 124/500\n",
      "1604/1604 [==============================] - 5s 3ms/step - loss: 1.7100e-04 - mae: 0.0032 - val_loss: 1.6629e-04 - val_mae: 0.0027\n",
      "Epoch 125/500\n",
      "1604/1604 [==============================] - 5s 3ms/step - loss: 1.7073e-04 - mae: 0.0032 - val_loss: 1.6708e-04 - val_mae: 0.0028\n",
      "Epoch 126/500\n",
      "1604/1604 [==============================] - 5s 3ms/step - loss: 1.6873e-04 - mae: 0.0032 - val_loss: 1.7044e-04 - val_mae: 0.0034\n",
      "Epoch 127/500\n",
      "1604/1604 [==============================] - 6s 3ms/step - loss: 1.6828e-04 - mae: 0.0032 - val_loss: 1.8110e-04 - val_mae: 0.0041\n",
      "Epoch 128/500\n",
      "1604/1604 [==============================] - 5s 3ms/step - loss: 1.6685e-04 - mae: 0.0032 - val_loss: 1.7799e-04 - val_mae: 0.0042\n",
      "Epoch 129/500\n",
      "1588/1604 [============================>.] - ETA: 0s - loss: 1.6602e-04 - mae: 0.0032Restoring model weights from the end of the best epoch: 124.\n",
      "1604/1604 [==============================] - 6s 3ms/step - loss: 1.6608e-04 - mae: 0.0032 - val_loss: 1.6743e-04 - val_mae: 0.0033\n",
      "Epoch 129: early stopping\n"
     ]
    },
    {
     "name": "stderr",
     "output_type": "stream",
     "text": [
      "C:\\Users\\erikm\\Desktop\\Diplomarbeit Erik Marr\\Projekt X\\venv\\Lib\\site-packages\\keras\\src\\engine\\training.py:3103: UserWarning: You are saving your model as an HDF5 file via `model.save()`. This file format is considered legacy. We recommend using instead the native Keras format, e.g. `model.save('my_model.keras')`.\n",
      "  saving_api.save_model(\n"
     ]
    }
   ],
   "source": [
    "# Netzwerkarchitektur\n",
    "model = Sequential([\n",
    "\n",
    "    Dense(88, activation='relu', input_shape=(5,), kernel_initializer='he_uniform', kernel_regularizer=l2(0.00001)),\n",
    "\n",
    "    Dense(200, activation='relu', kernel_initializer='he_uniform', kernel_regularizer=l2(0.00001)),\n",
    "    \n",
    "    Dense(200, activation='relu', kernel_initializer='he_uniform', kernel_regularizer=l2(0.00001)),\n",
    "    \n",
    "    Dense(184, activation='relu', kernel_initializer='he_uniform', kernel_regularizer=l2(0.00001)),\n",
    "    \n",
    "    Dense(1 , activation = 'linear')\n",
    "])\n",
    "\n",
    "# Optimierer\n",
    "optimizer = tf.keras.optimizers.Adam(learning_rate=0.0001)\n",
    "\n",
    "# Modell kompilieren (Verwendung von mean_squared_error als Verlustfunktion für Regression)\n",
    "model.compile(optimizer=optimizer,\n",
    "              loss='mean_squared_error',\n",
    "              metrics=['mae'])  # Metriken für Regression: Mean Absolute Error und Mean Squared Error\n",
    "\n",
    "# Early Stopping Callback\n",
    "early_stopping = EarlyStopping(monitor='val_loss', patience=5, verbose=1, mode='min', restore_best_weights=True)\n",
    "\n",
    "# Trainingsparameter\n",
    "batch_size = 200\n",
    "epochs = 500\n",
    "\n",
    "# Modell trainieren (Annahme: X_train, y_train, X_val, y_val sind vordefiniert)\n",
    "history = model.fit(X_train_scaled, y_train_scaled,\n",
    "                    batch_size=batch_size,\n",
    "                    epochs=epochs,\n",
    "                    validation_split=0.2,\n",
    "                    callbacks=[early_stopping])\n",
    "\n",
    "model.save('D3_t_9_I_F_1.h5')"
   ],
   "metadata": {
    "collapsed": false,
    "ExecuteTime": {
     "end_time": "2024-04-02T10:45:39.983279Z",
     "start_time": "2024-04-02T10:33:53.244323600Z"
    }
   },
   "id": "8b52e1a9a6ff3aeb"
  },
  {
   "cell_type": "code",
   "execution_count": 107,
   "outputs": [],
   "source": [
    "# # Initialisiere Listen, um Ergebnisse zu speichern\n",
    "# val_loss_results = []\n",
    "# val_mae_results = []\n",
    "# \n",
    "# # Funktion, um das Modell zu erstellen\n",
    "# def create_model():\n",
    "#     model = Sequential([\n",
    "#             Dense(88, activation='relu', input_shape=(5,), kernel_initializer='he_uniform', kernel_regularizer=l2(0.00001)),\n",
    "#         \n",
    "#             Dense(200, activation='relu', kernel_initializer='he_uniform', kernel_regularizer=l2(0.00001)),\n",
    "#             \n",
    "#             Dense(200, activation='relu', kernel_initializer='he_uniform', kernel_regularizer=l2(0.00001)),\n",
    "#             \n",
    "#             Dense(184, activation='relu', kernel_initializer='he_uniform', kernel_regularizer=l2(0.00001)),\n",
    "#             \n",
    "#             Dense(1 , activation = 'linear')\n",
    "# \n",
    "#     ])\n",
    "#     optimizer = Adam(learning_rate=0.0001)\n",
    "#     model.compile(optimizer=optimizer, loss='mean_squared_error', metrics=['mae'])\n",
    "#     return model\n",
    "# \n",
    "# # K-Fold Cross-Validation Konfiguration\n",
    "# n_splits = 5\n",
    "# kf = KFold(n_splits=n_splits, shuffle=True, random_state=42)\n",
    "# \n",
    "# # Leistungsüberwachung\n",
    "# fold_no = 1\n",
    "# for train_index, val_index in kf.split(X_train_scaled):\n",
    "#     X_train_fold, X_val_fold = X_train_scaled[train_index], X_train_scaled[val_index]\n",
    "#     y_train_fold, y_val_fold = y_train_scaled[train_index], y_train_scaled[val_index]\n",
    "# \n",
    "#     model = create_model()\n",
    "# \n",
    "#     early_stopping = EarlyStopping(monitor='val_loss', patience=5, verbose=1, mode='min', restore_best_weights=True)\n",
    "# \n",
    "#     print(f'Training für Fold {fold_no}...')\n",
    "#     history = model.fit(X_train_fold, y_train_fold, batch_size=200, epochs=1000, validation_data=(X_val_fold, y_val_fold), callbacks=[early_stopping], verbose=1)\n",
    "# \n",
    "#     # Speichere die Ergebnisse des aktuellen Folds\n",
    "#     val_loss_results.append(min(history.history['val_loss']))\n",
    "#     val_mae_results.append(min(history.history['val_mae']))\n",
    "# \n",
    "#     fold_no += 1\n",
    "# \n",
    "# # Berechne den Durchschnitt über alle Folds\n",
    "# average_val_loss = np.mean(val_loss_results)\n",
    "# average_val_mae = np.mean(val_mae_results)\n",
    "# \n",
    "# # Umwandeln der Listen in Pandas DataFrames\n",
    "# val_loss_df = pd.DataFrame(val_loss_results, columns=['Validation Loss'])\n",
    "# val_mae_df = pd.DataFrame(val_mae_results, columns=['Validation MAE'])\n",
    "# \n",
    "# # Speichern der DataFrames in CSV-Dateien\n",
    "# val_loss_df.to_csv('val_loss_results_D3_t_9_I_F_1.csv', index=False)\n",
    "# val_mae_df.to_csv('val_mae_results_D3_t_9_I_F_1.csv', index=False)\n",
    "# \n",
    "# # Gib die durchschnittlichen Ergebnisse aus\n",
    "# print(f'Durchschnittlicher Validation Loss: {average_val_loss}')\n",
    "# print(f'Durchschnittlicher Validation MAE: {average_val_mae}')\n",
    "\n",
    "\n"
   ],
   "metadata": {
    "collapsed": false,
    "ExecuteTime": {
     "end_time": "2024-03-29T16:48:46.430767500Z",
     "start_time": "2024-03-29T16:48:46.424849400Z"
    }
   },
   "id": "7ff728388210d66b"
  },
  {
   "cell_type": "code",
   "execution_count": 53,
   "outputs": [
    {
     "name": "stdout",
     "output_type": "stream",
     "text": [
      "199/199 - 0s - loss: 1.4519e-04 - mae: 0.0029 - 172ms/epoch - 864us/step\n"
     ]
    },
    {
     "data": {
      "text/plain": "[0.000145194775541313, 0.002936975099146366]"
     },
     "execution_count": 53,
     "metadata": {},
     "output_type": "execute_result"
    }
   ],
   "source": [
    "results = model.evaluate(X_test_scaled, y_test_scaled, verbose=2)\n",
    "results"
   ],
   "metadata": {
    "collapsed": false,
    "ExecuteTime": {
     "end_time": "2024-04-02T15:23:03.366960700Z",
     "start_time": "2024-04-02T15:23:03.158192900Z"
    }
   },
   "id": "9050ab66ab36f169"
  },
  {
   "cell_type": "code",
   "execution_count": 43,
   "outputs": [
    {
     "name": "stdout",
     "output_type": "stream",
     "text": [
      " Bsp. Predicted: [441.89044] Actual: [444.2] \n",
      "Durchschnittliche Abweichung (MAE): [15.49797922]\n",
      "1.4393714894878864\n"
     ]
    }
   ],
   "source": [
    "\n",
    "scaled_predicted_values = model.predict(X_test_scaled, verbose = 0)\n",
    "\n",
    "# Führen Sie die Rücktransformation der skalierten Werte durch\n",
    "original_predicted_values = scaler_target.inverse_transform(scaled_predicted_values)\n",
    "original_actual_values = scaler_target.inverse_transform(y_test_scaled)  # y_test sind die skalierten tatsächlichen Werte\n",
    "print(f' Bsp. Predicted: {original_predicted_values[100]} Actual: {original_actual_values[100]} ')\n",
    "\n",
    "def calculate_mae(list1, list2):\n",
    "    # Stelle sicher, dass beide Listen die gleiche Länge haben\n",
    "    if len(list1) != len(list2):\n",
    "        raise ValueError(\"Listen müssen die gleiche Länge haben\")\n",
    "\n",
    "    # Berechne die absolute Differenz zwischen den Elementen der Listen\n",
    "    differences = [abs(x - y) for x, y in zip(list1, list2)]\n",
    "\n",
    "    # Berechne den Durchschnitt der absoluten Differenzen\n",
    "    mae = sum(differences) / len(differences)\n",
    "\n",
    "    return mae\n",
    "\n",
    "# Beispiel\n",
    "list1 = original_predicted_values\n",
    "list2 = original_actual_values\n",
    "\n",
    "mae = calculate_mae(list1, list2)\n",
    "print(f\"Durchschnittliche Abweichung (MAE): {mae}\")\n",
    "\n",
    "errors = np.abs((original_actual_values - original_predicted_values) / original_actual_values)\n",
    "mape = np.mean(errors) * 100\n",
    "print(mape)"
   ],
   "metadata": {
    "collapsed": false,
    "ExecuteTime": {
     "end_time": "2024-04-02T15:01:15.556452800Z",
     "start_time": "2024-04-02T15:01:13.560265200Z"
    }
   },
   "id": "10cd79ca028075dd"
  },
  {
   "cell_type": "code",
   "execution_count": 28,
   "outputs": [
    {
     "name": "stdout",
     "output_type": "stream",
     "text": [
      "R^2: [0.99760398]\n"
     ]
    }
   ],
   "source": [
    "def calculate_r_squared(predicted, actual):\n",
    "    # Berechnung des Mittelwerts der tatsächlichen Werte\n",
    "    mean_actual = sum(actual) / len(actual)\n",
    "    \n",
    "    # Berechnung der totalen Summe der Quadrate (SST)\n",
    "    sst = sum((x - mean_actual) ** 2 for x in actual)\n",
    "    \n",
    "    # Berechnung der Summe der Quadrate der Residuen (SSE)\n",
    "    sse = sum((actual[i] - predicted[i]) ** 2 for i in range(len(actual)))\n",
    "    \n",
    "    # Berechnung des R^2-Wertes\n",
    "    r_squared = 1 - (sse / sst)\n",
    "    \n",
    "    return r_squared\n",
    "\n",
    "# Berechnung von R^2 mit den bereitgestellten Listen\n",
    "r_squared = calculate_r_squared(list1, list2)\n",
    "\n",
    "print(f\"R^2: {r_squared}\")"
   ],
   "metadata": {
    "collapsed": false,
    "ExecuteTime": {
     "end_time": "2024-04-01T13:19:37.703465700Z",
     "start_time": "2024-04-01T13:19:37.624835Z"
    }
   },
   "id": "d0505d16afcbef4a"
  },
  {
   "cell_type": "code",
   "execution_count": 29,
   "outputs": [
    {
     "name": "stdout",
     "output_type": "stream",
     "text": [
      "Anzahl der Werte die kleiner sind: 1079\n"
     ]
    },
    {
     "data": {
      "text/plain": "        Echt   Temperatur  X-Koordinate  Y-Koordinate  Differenz\n61    1924.9  1954.841675      0.000000          0.61 -29.941675\n3594  1852.4  1882.334839      0.564516          0.59 -29.934839\n3695  1846.5  1876.360596      0.580645          0.59 -29.860596\n60    1936.2  1965.990112      0.000000          0.60 -29.790112\n3493  1858.1  1887.637329      0.548387          0.59 -29.537329\n...      ...          ...           ...           ...        ...\n2735  1154.7  1105.007202      0.435484          0.08  49.692798\n2837  1198.1  1147.960327      0.451613          0.09  50.139673\n2736  1199.9  1149.641724      0.435484          0.09  50.258276\n2635  1201.7  1151.406860      0.419355          0.09  50.293140\n6362   687.8   636.177307      1.000000          1.00  51.622693\n\n[6363 rows x 5 columns]",
      "text/html": "<div>\n<style scoped>\n    .dataframe tbody tr th:only-of-type {\n        vertical-align: middle;\n    }\n\n    .dataframe tbody tr th {\n        vertical-align: top;\n    }\n\n    .dataframe thead th {\n        text-align: right;\n    }\n</style>\n<table border=\"1\" class=\"dataframe\">\n  <thead>\n    <tr style=\"text-align: right;\">\n      <th></th>\n      <th>Echt</th>\n      <th>Temperatur</th>\n      <th>X-Koordinate</th>\n      <th>Y-Koordinate</th>\n      <th>Differenz</th>\n    </tr>\n  </thead>\n  <tbody>\n    <tr>\n      <th>61</th>\n      <td>1924.9</td>\n      <td>1954.841675</td>\n      <td>0.000000</td>\n      <td>0.61</td>\n      <td>-29.941675</td>\n    </tr>\n    <tr>\n      <th>3594</th>\n      <td>1852.4</td>\n      <td>1882.334839</td>\n      <td>0.564516</td>\n      <td>0.59</td>\n      <td>-29.934839</td>\n    </tr>\n    <tr>\n      <th>3695</th>\n      <td>1846.5</td>\n      <td>1876.360596</td>\n      <td>0.580645</td>\n      <td>0.59</td>\n      <td>-29.860596</td>\n    </tr>\n    <tr>\n      <th>60</th>\n      <td>1936.2</td>\n      <td>1965.990112</td>\n      <td>0.000000</td>\n      <td>0.60</td>\n      <td>-29.790112</td>\n    </tr>\n    <tr>\n      <th>3493</th>\n      <td>1858.1</td>\n      <td>1887.637329</td>\n      <td>0.548387</td>\n      <td>0.59</td>\n      <td>-29.537329</td>\n    </tr>\n    <tr>\n      <th>...</th>\n      <td>...</td>\n      <td>...</td>\n      <td>...</td>\n      <td>...</td>\n      <td>...</td>\n    </tr>\n    <tr>\n      <th>2735</th>\n      <td>1154.7</td>\n      <td>1105.007202</td>\n      <td>0.435484</td>\n      <td>0.08</td>\n      <td>49.692798</td>\n    </tr>\n    <tr>\n      <th>2837</th>\n      <td>1198.1</td>\n      <td>1147.960327</td>\n      <td>0.451613</td>\n      <td>0.09</td>\n      <td>50.139673</td>\n    </tr>\n    <tr>\n      <th>2736</th>\n      <td>1199.9</td>\n      <td>1149.641724</td>\n      <td>0.435484</td>\n      <td>0.09</td>\n      <td>50.258276</td>\n    </tr>\n    <tr>\n      <th>2635</th>\n      <td>1201.7</td>\n      <td>1151.406860</td>\n      <td>0.419355</td>\n      <td>0.09</td>\n      <td>50.293140</td>\n    </tr>\n    <tr>\n      <th>6362</th>\n      <td>687.8</td>\n      <td>636.177307</td>\n      <td>1.000000</td>\n      <td>1.00</td>\n      <td>51.622693</td>\n    </tr>\n  </tbody>\n</table>\n<p>6363 rows × 5 columns</p>\n</div>"
     },
     "execution_count": 29,
     "metadata": {},
     "output_type": "execute_result"
    }
   ],
   "source": [
    "df_result = pd.DataFrame({'Echt': [val[0] for val in list2], 'Temperatur': [val[0] for val in list1]})\n",
    "df_result['X-Koordinate'] = X_test_scaled_2[:, 0]\n",
    "df_result['Y-Koordinate'] = X_test_scaled_2[:, 1]\n",
    "\n",
    "df_result['Differenz'] = df_result['Echt'] - df_result['Temperatur']\n",
    "df_result['Differenz'].sort_values()\n",
    "sorted_df = df_result.sort_values(by= 'Differenz')\n",
    "Anzahl_Punkte = (sorted_df['Differenz'] > 20).sum()\n",
    "print(\"Anzahl der Werte die kleiner sind:\", Anzahl_Punkte)\n",
    "\n",
    "sorted_df"
   ],
   "metadata": {
    "collapsed": false,
    "ExecuteTime": {
     "end_time": "2024-04-01T13:19:49.860236700Z",
     "start_time": "2024-04-01T13:19:49.737552700Z"
    }
   },
   "id": "47d4a39665ed1159"
  },
  {
   "cell_type": "code",
   "execution_count": 100,
   "outputs": [],
   "source": [
    "df_test['Vorhergesagt'] = list1\n",
    "#df_test.to_pickle('C:/Users/erikm/Desktop/Diplomarbeit Erik Marr/Daten/Finish/Finish_I7000_F6000_D3_500_I_F_PKL_Prediction.pkl')"
   ],
   "metadata": {
    "collapsed": false,
    "ExecuteTime": {
     "end_time": "2024-03-29T15:32:21.241594100Z",
     "start_time": "2024-03-29T15:32:21.192942700Z"
    }
   },
   "id": "73defb2e4e9a45da"
  },
  {
   "cell_type": "code",
   "execution_count": 81,
   "outputs": [
    {
     "data": {
      "text/plain": "<Figure size 1000x600 with 1 Axes>",
      "image/png": "[encoded data removed]"
     },
     "metadata": {},
     "output_type": "display_data"
    }
   ],
   "source": [
    "mae = history.history['loss']\n",
    "val_mae = history.history['val_loss']\n",
    "\n",
    "epochs = range(1, len(mae) + 1)\n",
    "\n",
    "# MAE Diagramm\n",
    "plt.figure(figsize=(10, 6))\n",
    "plt.plot(epochs, mae, 'r', label='Training MSE')\n",
    "plt.plot(epochs, val_mae, 'b', label='Validation MSE')\n",
    "plt.title('Training and Validation MSE')\n",
    "plt.xlabel('Epochs')\n",
    "plt.ylabel('MSE')\n",
    "plt.legend()\n",
    "plt.savefig('C:/Users/erikm/Desktop/Diplomarbeit Erik Marr/Bilder Diplomarbeit/MSE_NeuroNetz/MSE_NeuroNetz_D3_2')\n",
    "\n",
    "plt.show()\n"
   ],
   "metadata": {
    "collapsed": false,
    "ExecuteTime": {
     "end_time": "2024-03-29T14:43:33.453659500Z",
     "start_time": "2024-03-29T14:43:33.154886700Z"
    }
   },
   "id": "3688dd7102e95baf"
  },
  {
   "cell_type": "code",
   "execution_count": 48,
   "id": "9f6f672a",
   "metadata": {
    "ExecuteTime": {
     "end_time": "2024-03-15T10:01:02.439200700Z",
     "start_time": "2024-03-15T10:01:02.436683600Z"
    }
   },
   "outputs": [],
   "source": []
  },
  {
   "cell_type": "markdown",
   "id": "553df6fa",
   "metadata": {},
   "source": [
    "# GridSearch"
   ]
  },
  {
   "cell_type": "code",
   "execution_count": 49,
   "outputs": [],
   "source": [
    "# def build_model(learning_rate=0.001, activation='relu', regularization=0.0001, dropout_rate=0.0):\n",
    "#     model = Sequential()\n",
    "#     model.add(Dense(200, activation=activation, input_shape=(2,), kernel_initializer='he_uniform', kernel_regularizer=l2(regularization)))\n",
    "#     model.add(Dropout(dropout_rate))\n",
    "# \n",
    "#     model.add(Dense(448, activation=activation, kernel_initializer='he_uniform', kernel_regularizer=l2(regularization)))\n",
    "#     model.add(Dropout(dropout_rate))\n",
    "# \n",
    "#     model.add(Dense(352, activation=activation, kernel_initializer='he_uniform', kernel_regularizer=l2(regularization)))\n",
    "#     model.add(Dropout(dropout_rate))\n",
    "# \n",
    "#     model.add(Dense(320, activation=activation, kernel_initializer='he_uniform', kernel_regularizer=l2(regularization)))\n",
    "#     model.add(Dropout(dropout_rate))\n",
    "# \n",
    "#     model.add(Dense(256, activation=activation, kernel_initializer='he_uniform', kernel_regularizer=l2(regularization)))\n",
    "#     model.add(Dropout(dropout_rate))\n",
    "# \n",
    "#     model.add(Dense(416, activation=activation, kernel_initializer='he_uniform', kernel_regularizer=l2(regularization)))\n",
    "#     model.add(Dropout(dropout_rate))\n",
    "# \n",
    "#     model.add(Dense(128, activation=activation, kernel_initializer='he_uniform', kernel_regularizer=l2(regularization)))\n",
    "#     model.add(Dropout(dropout_rate))\n",
    "# \n",
    "#     model.add(Dense(96, activation=activation, kernel_initializer='he_uniform', kernel_regularizer=l2(regularization)))\n",
    "#     model.add(Dropout(dropout_rate))    \n",
    "# \n",
    "#     model.add(Dense(32, activation=activation, kernel_initializer='he_uniform', kernel_regularizer=l2(regularization)))\n",
    "#     model.add(Dropout(dropout_rate))\n",
    "# \n",
    "#     model.add(Dense(1, activation='linear'))\n",
    "#     model.compile(optimizer=Adam(learning_rate=learning_rate), loss='mean_squared_error', metrics=['mae'])\n",
    "#     return model\n",
    "# \n",
    "# # Verwenden Sie eine Funktion, um das Modell zu instanziieren, für scikit-learn Wrapper\n",
    "# model = KerasRegressor(model=build_model, verbose=2)\n",
    "# \n",
    "# # Anpassung der Parameter im param_grid\n",
    "# param_grid = {\n",
    "#     'model__learning_rate': [0.01, 0.001, 0.0001],\n",
    "#     'model__regularization': [0.001, 0.0001, 0.00001],\n",
    "#     'fit__batch_size': [25, 50, 75, 100],\n",
    "#     'fit__epochs': [50],\n",
    "#     'model__dropout_rate' : [0.0, 0.1, 0.2]\n",
    "# }\n",
    "# \n",
    "# grid_search = GridSearchCV(estimator=model, param_grid=param_grid, n_jobs=-1, cv=3, verbose=2)\n",
    "# # Hinweis: Stellen Sie sicher, dass Ihre Daten (X_train_scaled, y_train_scaled) korrekt definiert sind\n",
    "# grid_result = grid_search.fit(X_train_scaled, y_train_scaled)\n",
    "# # Beste Parameter und Score ausgeben\n",
    "# print(\"Beste Parameter:\", grid_search.best_params_)\n",
    "# print(\"Beste Genauigkeit:\", grid_search.best_score_)\n",
    "# \n",
    "# with open(\"Gridsearch_D3.txt\", \"w\") as f:\n",
    "#     f.write(f\"Beste Parameter: {grid_search.best_params_}\\n\")\n",
    "#     f.write(f\"Beste Genauigkeit: {grid_search.best_score_}\")\n"
   ],
   "metadata": {
    "collapsed": false,
    "ExecuteTime": {
     "end_time": "2024-03-15T10:01:02.450167100Z",
     "start_time": "2024-03-15T10:01:02.439200700Z"
    }
   },
   "id": "578403f6e218787a"
  },
  {
   "cell_type": "markdown",
   "source": [
    "# Random Search"
   ],
   "metadata": {
    "collapsed": false
   },
   "id": "69b9aef262bcb2c3"
  },
  {
   "cell_type": "code",
   "execution_count": 50,
   "id": "492cf0ed",
   "metadata": {
    "ExecuteTime": {
     "end_time": "2024-03-15T10:01:02.450167100Z",
     "start_time": "2024-03-15T10:01:02.443220200Z"
    }
   },
   "outputs": [],
   "source": [
    "# # Funktion zum Erstellen des Modells\n",
    "# def build_model(hp):\n",
    "#     model = Sequential()\n",
    "#     model.add(Dense(hp.Int('input_units', min_value=8, max_value=328, step=16), input_shape=(2,), activation='relu'))\n",
    "#     for i in range(hp.Int('n_layers', 1, 10)):\n",
    "#         model.add(Dense(hp.Int(f'units_{i}', min_value=8, max_value=328, step=16), activation='relu'))\n",
    "#     model.add(Dense(1, activation='linear'))\n",
    "#     model.compile(optimizer='adam', loss='mean_squared_error')\n",
    "#     return model\n",
    "# \n",
    "# # Durchführung der Random Search dreimal\n",
    "# for run in range(1, 4):\n",
    "#     # Anpassen des Verzeichnisses und des Projektnamens für jeden Durchlauf\n",
    "#     directory = 'random_search'\n",
    "#     project_name = f'random_search_D3_{run}'\n",
    "#     \n",
    "#     tuner = RandomSearch(\n",
    "#         build_model,\n",
    "#         objective='val_loss',\n",
    "#         max_trials=100,\n",
    "#         executions_per_trial=1,\n",
    "#         directory=directory,\n",
    "#         project_name=project_name\n",
    "#     )\n",
    "#     \n",
    "#     # Durchführung des Random Search\n",
    "#     tuner.search(X_train_scaled, y_train_scaled, epochs=50, verbose =0, batch_size=50, validation_split=0.2, callbacks=[EarlyStopping(monitor='val_loss', patience=5)])\n",
    "#     \n",
    "#     # Abrufen und Speichern des besten Modells\n",
    "#     best_model = tuner.get_best_models(num_models=1)[0]\n",
    "#     model_path = os.path.join(directory, project_name, 'best_model.h5') \n",
    "#     best_model.save(model_path)\n",
    "#     \n",
    "# \n",
    "#     # Optional: Abrufen und Ausgeben der besten Hyperparameter\n",
    "#     best_hyperparameters = tuner.get_best_hyperparameters()[0]\n",
    "#     \n",
    "#     # Konvertieren der Hyperparameter in ein DataFrame\n",
    "#     df_hyperparameters = pd.DataFrame([best_hyperparameters.values])\n",
    "#     # Speichern des DataFrame als CSV\n",
    "#     df_hyperparameters.to_csv(f'random_search_D3_{run}.csv', index=False)\n",
    "#     \n",
    "#     print(f\"Beste Hyperparameter für Lauf {run}: {best_hyperparameters.values}\")"
   ]
  },
  {
   "cell_type": "code",
   "execution_count": 50,
   "outputs": [],
   "source": [],
   "metadata": {
    "collapsed": false,
    "ExecuteTime": {
     "end_time": "2024-03-15T10:01:02.450167100Z",
     "start_time": "2024-03-15T10:01:02.447649400Z"
    }
   },
   "id": "412f38f9b1e03d5"
  }
 ],
 "metadata": {
  "kernelspec": {
   "display_name": "Python 3 (ipykernel)",
   "language": "python",
   "name": "python3"
  },
  "language_info": {
   "codemirror_mode": {
    "name": "ipython",
    "version": 3
   },
   "file_extension": ".py",
   "mimetype": "text/x-python",
   "name": "python",
   "nbconvert_exporter": "python",
   "pygments_lexer": "ipython3",
   "version": "3.11.4"
  }
 },
 "nbformat": 4,
 "nbformat_minor": 5
}
