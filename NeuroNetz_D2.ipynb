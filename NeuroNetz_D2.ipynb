{
 "cells": [
  {
   "cell_type": "code",
   "execution_count": 1,
   "id": "94b0518e",
   "metadata": {
    "ExecuteTime": {
     "end_time": "2024-02-08T15:50:38.839185400Z",
     "start_time": "2024-02-08T15:50:33.677941500Z"
    }
   },
   "outputs": [
    {
     "name": "stdout",
     "output_type": "stream",
     "text": [
      "WARNING:tensorflow:From C:\\Users\\erikm\\Desktop\\Diplomarbeit Erik Marr\\Projekt X\\venv\\Lib\\site-packages\\keras\\src\\losses.py:2976: The name tf.losses.sparse_softmax_cross_entropy is deprecated. Please use tf.compat.v1.losses.sparse_softmax_cross_entropy instead.\n"
     ]
    }
   ],
   "source": [
    "import numpy as np\n",
    "import tensorflow as tf\n",
    "import matplotlib.pyplot as plt\n",
    "import pandas as pd\n",
    "from tensorflow import keras\n",
    "from tensorflow.keras.models import Sequential\n",
    "from tensorflow.keras.layers import Dense\n",
    "from sklearn.model_selection import train_test_split\n",
    "from tensorflow.keras import layers\n",
    "import glob\n",
    "\n",
    "from sklearn.preprocessing import MinMaxScaler, StandardScaler\n",
    "import pandas as pd\n",
    "\n",
    "from tensorflow.keras.models import Sequential\n",
    "from tensorflow.keras.layers import Dense , Dropout\n",
    "from sklearn.model_selection import GridSearchCV\n",
    "from scikeras.wrappers import KerasRegressor, KerasClassifier\n",
    "from tensorflow.keras.regularizers import l2\n",
    "from tensorflow.keras.callbacks import EarlyStopping\n",
    "from tensorflow.keras.optimizers import Adam\n"
   ]
  },
  {
   "cell_type": "code",
   "execution_count": 16,
   "id": "e4ff61b1",
   "metadata": {
    "ExecuteTime": {
     "end_time": "2024-02-08T17:17:33.757508800Z",
     "start_time": "2024-02-08T17:17:33.708649Z"
    }
   },
   "outputs": [
    {
     "data": {
      "text/plain": "       X-Koordinate  Y-Koordinate  Zeitpunkt  Strom  Kraft  Temperatur\n0             0.000      -0.00200        300   7000   9000      532.25\n1             0.000      -0.00198        300   7000   9000      540.69\n2             0.000      -0.00196        300   7000   9000      549.09\n3             0.000      -0.00194        300   7000   9000      557.38\n4             0.000      -0.00192        300   7000   9000      565.57\n...             ...           ...        ...    ...    ...         ...\n30329         0.003       0.00188        300   7000   9000      653.16\n30330         0.003       0.00190        300   7000   9000      653.16\n30331         0.003       0.00196        300   7000   9000      422.17\n30332         0.003       0.00198        300   7000   9000      421.90\n30333         0.003       0.00200        300   7000   9000      421.60\n\n[30334 rows x 6 columns]",
      "text/html": "<div>\n<style scoped>\n    .dataframe tbody tr th:only-of-type {\n        vertical-align: middle;\n    }\n\n    .dataframe tbody tr th {\n        vertical-align: top;\n    }\n\n    .dataframe thead th {\n        text-align: right;\n    }\n</style>\n<table border=\"1\" class=\"dataframe\">\n  <thead>\n    <tr style=\"text-align: right;\">\n      <th></th>\n      <th>X-Koordinate</th>\n      <th>Y-Koordinate</th>\n      <th>Zeitpunkt</th>\n      <th>Strom</th>\n      <th>Kraft</th>\n      <th>Temperatur</th>\n    </tr>\n  </thead>\n  <tbody>\n    <tr>\n      <th>0</th>\n      <td>0.000</td>\n      <td>-0.00200</td>\n      <td>300</td>\n      <td>7000</td>\n      <td>9000</td>\n      <td>532.25</td>\n    </tr>\n    <tr>\n      <th>1</th>\n      <td>0.000</td>\n      <td>-0.00198</td>\n      <td>300</td>\n      <td>7000</td>\n      <td>9000</td>\n      <td>540.69</td>\n    </tr>\n    <tr>\n      <th>2</th>\n      <td>0.000</td>\n      <td>-0.00196</td>\n      <td>300</td>\n      <td>7000</td>\n      <td>9000</td>\n      <td>549.09</td>\n    </tr>\n    <tr>\n      <th>3</th>\n      <td>0.000</td>\n      <td>-0.00194</td>\n      <td>300</td>\n      <td>7000</td>\n      <td>9000</td>\n      <td>557.38</td>\n    </tr>\n    <tr>\n      <th>4</th>\n      <td>0.000</td>\n      <td>-0.00192</td>\n      <td>300</td>\n      <td>7000</td>\n      <td>9000</td>\n      <td>565.57</td>\n    </tr>\n    <tr>\n      <th>...</th>\n      <td>...</td>\n      <td>...</td>\n      <td>...</td>\n      <td>...</td>\n      <td>...</td>\n      <td>...</td>\n    </tr>\n    <tr>\n      <th>30329</th>\n      <td>0.003</td>\n      <td>0.00188</td>\n      <td>300</td>\n      <td>7000</td>\n      <td>9000</td>\n      <td>653.16</td>\n    </tr>\n    <tr>\n      <th>30330</th>\n      <td>0.003</td>\n      <td>0.00190</td>\n      <td>300</td>\n      <td>7000</td>\n      <td>9000</td>\n      <td>653.16</td>\n    </tr>\n    <tr>\n      <th>30331</th>\n      <td>0.003</td>\n      <td>0.00196</td>\n      <td>300</td>\n      <td>7000</td>\n      <td>9000</td>\n      <td>422.17</td>\n    </tr>\n    <tr>\n      <th>30332</th>\n      <td>0.003</td>\n      <td>0.00198</td>\n      <td>300</td>\n      <td>7000</td>\n      <td>9000</td>\n      <td>421.90</td>\n    </tr>\n    <tr>\n      <th>30333</th>\n      <td>0.003</td>\n      <td>0.00200</td>\n      <td>300</td>\n      <td>7000</td>\n      <td>9000</td>\n      <td>421.60</td>\n    </tr>\n  </tbody>\n</table>\n<p>30334 rows × 6 columns</p>\n</div>"
     },
     "execution_count": 16,
     "metadata": {},
     "output_type": "execute_result"
    }
   ],
   "source": [
    "#data = pd.read_pickle('C:/Users/erikm/Desktop/Diplomarbeit Erik Marr/Daten/Finish/TPath_300_finish_data.pkl')\n",
    "data = pd.read_pickle('C:/Users/erikm/Desktop/Diplomarbeit Erik Marr/Daten/Finish_D2_I7000_F9000/TPath_300_finish_data_D2.pkl')\n",
    "\n",
    "data"
   ]
  },
  {
   "cell_type": "code",
   "execution_count": 17,
   "id": "966e3c74",
   "metadata": {
    "ExecuteTime": {
     "end_time": "2024-02-08T17:17:36.094366800Z",
     "start_time": "2024-02-08T17:17:36.054289200Z"
    }
   },
   "outputs": [
    {
     "data": {
      "text/plain": "       X-Koordinate  Y-Koordinate  Temperatur\n0             0.000      -0.00200      532.25\n1             0.000      -0.00198      540.69\n2             0.000      -0.00196      549.09\n3             0.000      -0.00194      557.38\n4             0.000      -0.00192      565.57\n...             ...           ...         ...\n30329         0.003       0.00188      653.16\n30330         0.003       0.00190      653.16\n30331         0.003       0.00196      422.17\n30332         0.003       0.00198      421.90\n30333         0.003       0.00200      421.60\n\n[30334 rows x 3 columns]",
      "text/html": "<div>\n<style scoped>\n    .dataframe tbody tr th:only-of-type {\n        vertical-align: middle;\n    }\n\n    .dataframe tbody tr th {\n        vertical-align: top;\n    }\n\n    .dataframe thead th {\n        text-align: right;\n    }\n</style>\n<table border=\"1\" class=\"dataframe\">\n  <thead>\n    <tr style=\"text-align: right;\">\n      <th></th>\n      <th>X-Koordinate</th>\n      <th>Y-Koordinate</th>\n      <th>Temperatur</th>\n    </tr>\n  </thead>\n  <tbody>\n    <tr>\n      <th>0</th>\n      <td>0.000</td>\n      <td>-0.00200</td>\n      <td>532.25</td>\n    </tr>\n    <tr>\n      <th>1</th>\n      <td>0.000</td>\n      <td>-0.00198</td>\n      <td>540.69</td>\n    </tr>\n    <tr>\n      <th>2</th>\n      <td>0.000</td>\n      <td>-0.00196</td>\n      <td>549.09</td>\n    </tr>\n    <tr>\n      <th>3</th>\n      <td>0.000</td>\n      <td>-0.00194</td>\n      <td>557.38</td>\n    </tr>\n    <tr>\n      <th>4</th>\n      <td>0.000</td>\n      <td>-0.00192</td>\n      <td>565.57</td>\n    </tr>\n    <tr>\n      <th>...</th>\n      <td>...</td>\n      <td>...</td>\n      <td>...</td>\n    </tr>\n    <tr>\n      <th>30329</th>\n      <td>0.003</td>\n      <td>0.00188</td>\n      <td>653.16</td>\n    </tr>\n    <tr>\n      <th>30330</th>\n      <td>0.003</td>\n      <td>0.00190</td>\n      <td>653.16</td>\n    </tr>\n    <tr>\n      <th>30331</th>\n      <td>0.003</td>\n      <td>0.00196</td>\n      <td>422.17</td>\n    </tr>\n    <tr>\n      <th>30332</th>\n      <td>0.003</td>\n      <td>0.00198</td>\n      <td>421.90</td>\n    </tr>\n    <tr>\n      <th>30333</th>\n      <td>0.003</td>\n      <td>0.00200</td>\n      <td>421.60</td>\n    </tr>\n  </tbody>\n</table>\n<p>30334 rows × 3 columns</p>\n</div>"
     },
     "execution_count": 17,
     "metadata": {},
     "output_type": "execute_result"
    }
   ],
   "source": [
    "df = data.drop(data.columns[2:5], axis = 1)\n",
    "df"
   ]
  },
  {
   "cell_type": "code",
   "execution_count": 18,
   "id": "8783d1d6",
   "metadata": {
    "ExecuteTime": {
     "end_time": "2024-02-08T17:17:36.807772700Z",
     "start_time": "2024-02-08T17:17:36.759244800Z"
    }
   },
   "outputs": [
    {
     "name": "stdout",
     "output_type": "stream",
     "text": [
      "       X-Koordinate  Y-Koordinate  Temperatur\n",
      "17969       0.00178      -0.00040      827.72\n",
      "15667       0.00154       0.00180      540.58\n",
      "29141       0.00290      -0.00190      669.83\n",
      "28557       0.00284      -0.00158      678.54\n",
      "6899        0.00068      -0.00070      878.69\n",
      "...             ...           ...         ...\n",
      "29802       0.00296      -0.00068      662.03\n",
      "5390        0.00052       0.00128      728.92\n",
      "860         0.00008      -0.00088      863.65\n",
      "15795       0.00156       0.00034      844.40\n",
      "23654       0.00234       0.00074      753.46\n",
      "\n",
      "[30334 rows x 3 columns]\n"
     ]
    },
    {
     "data": {
      "text/plain": "       X-Koordinate  Y-Koordinate  Temperatur\n0           0.00178      -0.00040      827.72\n1           0.00154       0.00180      540.58\n2           0.00290      -0.00190      669.83\n3           0.00284      -0.00158      678.54\n4           0.00068      -0.00070      878.69\n...             ...           ...         ...\n30329       0.00296      -0.00068      662.03\n30330       0.00052       0.00128      728.92\n30331       0.00008      -0.00088      863.65\n30332       0.00156       0.00034      844.40\n30333       0.00234       0.00074      753.46\n\n[30334 rows x 3 columns]",
      "text/html": "<div>\n<style scoped>\n    .dataframe tbody tr th:only-of-type {\n        vertical-align: middle;\n    }\n\n    .dataframe tbody tr th {\n        vertical-align: top;\n    }\n\n    .dataframe thead th {\n        text-align: right;\n    }\n</style>\n<table border=\"1\" class=\"dataframe\">\n  <thead>\n    <tr style=\"text-align: right;\">\n      <th></th>\n      <th>X-Koordinate</th>\n      <th>Y-Koordinate</th>\n      <th>Temperatur</th>\n    </tr>\n  </thead>\n  <tbody>\n    <tr>\n      <th>0</th>\n      <td>0.00178</td>\n      <td>-0.00040</td>\n      <td>827.72</td>\n    </tr>\n    <tr>\n      <th>1</th>\n      <td>0.00154</td>\n      <td>0.00180</td>\n      <td>540.58</td>\n    </tr>\n    <tr>\n      <th>2</th>\n      <td>0.00290</td>\n      <td>-0.00190</td>\n      <td>669.83</td>\n    </tr>\n    <tr>\n      <th>3</th>\n      <td>0.00284</td>\n      <td>-0.00158</td>\n      <td>678.54</td>\n    </tr>\n    <tr>\n      <th>4</th>\n      <td>0.00068</td>\n      <td>-0.00070</td>\n      <td>878.69</td>\n    </tr>\n    <tr>\n      <th>...</th>\n      <td>...</td>\n      <td>...</td>\n      <td>...</td>\n    </tr>\n    <tr>\n      <th>30329</th>\n      <td>0.00296</td>\n      <td>-0.00068</td>\n      <td>662.03</td>\n    </tr>\n    <tr>\n      <th>30330</th>\n      <td>0.00052</td>\n      <td>0.00128</td>\n      <td>728.92</td>\n    </tr>\n    <tr>\n      <th>30331</th>\n      <td>0.00008</td>\n      <td>-0.00088</td>\n      <td>863.65</td>\n    </tr>\n    <tr>\n      <th>30332</th>\n      <td>0.00156</td>\n      <td>0.00034</td>\n      <td>844.40</td>\n    </tr>\n    <tr>\n      <th>30333</th>\n      <td>0.00234</td>\n      <td>0.00074</td>\n      <td>753.46</td>\n    </tr>\n  </tbody>\n</table>\n<p>30334 rows × 3 columns</p>\n</div>"
     },
     "execution_count": 18,
     "metadata": {},
     "output_type": "execute_result"
    }
   ],
   "source": [
    "df1 = df.sample(frac=1, random_state=42)  # Hier wird 42 als Random State verwendet, um die Ergebnisse reproduzierbar zu machen\n",
    "\n",
    "print(df1)\n",
    "df_reset = df1.reset_index(drop=True)\n",
    "df_reset"
   ]
  },
  {
   "cell_type": "code",
   "execution_count": 19,
   "id": "a4e72a16",
   "metadata": {
    "ExecuteTime": {
     "end_time": "2024-02-08T17:17:37.653880400Z",
     "start_time": "2024-02-08T17:17:37.632831300Z"
    }
   },
   "outputs": [],
   "source": [
    "label = df_reset[\"Temperatur\"]\n",
    "# Korrektur: Verwenden Sie den Spaltennamen direkt, ohne Indexierung der columns-Eigenschaft\n",
    "df1 = df_reset.drop(\"Temperatur\", axis=1)\n",
    "X = df1\n",
    "y = label\n"
   ]
  },
  {
   "cell_type": "markdown",
   "source": [],
   "metadata": {
    "collapsed": false
   },
   "id": "f7fa289a50d87423"
  },
  {
   "cell_type": "code",
   "execution_count": 20,
   "id": "e694a236",
   "metadata": {
    "ExecuteTime": {
     "end_time": "2024-02-08T17:17:38.719599Z",
     "start_time": "2024-02-08T17:17:38.680766300Z"
    }
   },
   "outputs": [
    {
     "data": {
      "text/plain": "       X-Koordinate  Y-Koordinate\n0           0.00178      -0.00040\n1           0.00154       0.00180\n2           0.00290      -0.00190\n3           0.00284      -0.00158\n4           0.00068      -0.00070\n...             ...           ...\n30329       0.00296      -0.00068\n30330       0.00052       0.00128\n30331       0.00008      -0.00088\n30332       0.00156       0.00034\n30333       0.00234       0.00074\n\n[30334 rows x 2 columns]",
      "text/html": "<div>\n<style scoped>\n    .dataframe tbody tr th:only-of-type {\n        vertical-align: middle;\n    }\n\n    .dataframe tbody tr th {\n        vertical-align: top;\n    }\n\n    .dataframe thead th {\n        text-align: right;\n    }\n</style>\n<table border=\"1\" class=\"dataframe\">\n  <thead>\n    <tr style=\"text-align: right;\">\n      <th></th>\n      <th>X-Koordinate</th>\n      <th>Y-Koordinate</th>\n    </tr>\n  </thead>\n  <tbody>\n    <tr>\n      <th>0</th>\n      <td>0.00178</td>\n      <td>-0.00040</td>\n    </tr>\n    <tr>\n      <th>1</th>\n      <td>0.00154</td>\n      <td>0.00180</td>\n    </tr>\n    <tr>\n      <th>2</th>\n      <td>0.00290</td>\n      <td>-0.00190</td>\n    </tr>\n    <tr>\n      <th>3</th>\n      <td>0.00284</td>\n      <td>-0.00158</td>\n    </tr>\n    <tr>\n      <th>4</th>\n      <td>0.00068</td>\n      <td>-0.00070</td>\n    </tr>\n    <tr>\n      <th>...</th>\n      <td>...</td>\n      <td>...</td>\n    </tr>\n    <tr>\n      <th>30329</th>\n      <td>0.00296</td>\n      <td>-0.00068</td>\n    </tr>\n    <tr>\n      <th>30330</th>\n      <td>0.00052</td>\n      <td>0.00128</td>\n    </tr>\n    <tr>\n      <th>30331</th>\n      <td>0.00008</td>\n      <td>-0.00088</td>\n    </tr>\n    <tr>\n      <th>30332</th>\n      <td>0.00156</td>\n      <td>0.00034</td>\n    </tr>\n    <tr>\n      <th>30333</th>\n      <td>0.00234</td>\n      <td>0.00074</td>\n    </tr>\n  </tbody>\n</table>\n<p>30334 rows × 2 columns</p>\n</div>"
     },
     "execution_count": 20,
     "metadata": {},
     "output_type": "execute_result"
    }
   ],
   "source": [
    "X"
   ]
  },
  {
   "cell_type": "code",
   "execution_count": 21,
   "id": "3f3303b4",
   "metadata": {
    "ExecuteTime": {
     "end_time": "2024-02-08T17:17:40.158006800Z",
     "start_time": "2024-02-08T17:17:40.139504200Z"
    }
   },
   "outputs": [
    {
     "data": {
      "text/plain": "0        827.72\n1        540.58\n2        669.83\n3        678.54\n4        878.69\n          ...  \n30329    662.03\n30330    728.92\n30331    863.65\n30332    844.40\n30333    753.46\nName: Temperatur, Length: 30334, dtype: float64"
     },
     "execution_count": 21,
     "metadata": {},
     "output_type": "execute_result"
    }
   ],
   "source": [
    "y"
   ]
  },
  {
   "cell_type": "code",
   "execution_count": 22,
   "id": "e3ad8da0",
   "metadata": {
    "ExecuteTime": {
     "end_time": "2024-02-08T17:17:40.714379Z",
     "start_time": "2024-02-08T17:17:40.661936800Z"
    }
   },
   "outputs": [],
   "source": [
    " # train_df enthält 80% der Daten, test_df enthält 20% der Daten\n",
    "X_train, X_test, y_train, y_test = train_test_split(X, y, test_size=0.20, random_state=42)\n"
   ]
  },
  {
   "cell_type": "code",
   "execution_count": 23,
   "id": "9c705edb",
   "metadata": {
    "ExecuteTime": {
     "end_time": "2024-02-08T17:17:41.501455700Z",
     "start_time": "2024-02-08T17:17:41.460443600Z"
    }
   },
   "outputs": [],
   "source": [
    "# Initialisiere einen MinMaxScaler für die Features\n",
    "scaler_features = MinMaxScaler()\n",
    "scaler_features2 = MinMaxScaler()\n",
    "# Skaliere X_train und X_test\n",
    "X_train_scaled = scaler_features.fit_transform(X_train)\n",
    "X_test_scaled = scaler_features.transform(X_test)  # Nutze unterschiedliche Skalierungsparameter\n",
    "\n",
    "# Initialisiere einen SEPARATEN MinMaxScaler für das Ziel, wenn nötig\n",
    "scaler_target = MinMaxScaler()\n",
    "\n",
    "\n",
    "# Skaliere y_train und y_test. Beachte, dass y_train.reshape(-1, 1) verwendet wird, da MinMaxScaler \n",
    "# erwartet, dass die Eingaben als 2D-Arrays kommen, und Ziele normalerweise als 1D-Arrays vorliegen.\n",
    "y_train_scaled = scaler_target.fit_transform(y_train.values.reshape(-1, 1))\n",
    "y_test_scaled = scaler_target.transform(y_test.values.reshape(-1, 1))\n"
   ]
  },
  {
   "cell_type": "code",
   "execution_count": 24,
   "id": "bbefe631e495b483",
   "metadata": {
    "ExecuteTime": {
     "end_time": "2024-02-08T17:17:42.071051600Z",
     "start_time": "2024-02-08T17:17:42.060454400Z"
    }
   },
   "outputs": [
    {
     "data": {
      "text/plain": "array([[0.80666667, 0.52      ],\n       [0.48666667, 0.795     ],\n       [0.97333333, 0.245     ],\n       ...,\n       [0.12666667, 0.8       ],\n       [0.75333333, 0.555     ],\n       [0.15333333, 0.155     ]])"
     },
     "execution_count": 24,
     "metadata": {},
     "output_type": "execute_result"
    }
   ],
   "source": [
    "X_train_scaled"
   ]
  },
  {
   "cell_type": "code",
   "execution_count": 25,
   "outputs": [
    {
     "data": {
      "text/plain": "1.0"
     },
     "execution_count": 25,
     "metadata": {},
     "output_type": "execute_result"
    }
   ],
   "source": [
    "y_train_scaled.max()"
   ],
   "metadata": {
    "collapsed": false,
    "ExecuteTime": {
     "end_time": "2024-02-08T17:17:43.353426100Z",
     "start_time": "2024-02-08T17:17:43.255038600Z"
    }
   },
   "id": "ce04ce43aac2242f"
  },
  {
   "cell_type": "code",
   "execution_count": 26,
   "id": "a6eccbb7534cd064",
   "metadata": {
    "ExecuteTime": {
     "end_time": "2024-02-08T17:17:43.904994600Z",
     "start_time": "2024-02-08T17:17:43.904485600Z"
    }
   },
   "outputs": [],
   "source": [
    "# Lernplan erstellen\n",
    "#initial_learning_rate = 0.1\n",
    "#lr_schedule = tf.keras.optimizers.schedules.ExponentialDecay(\n",
    "#    initial_learning_rate, decay_steps=100, decay_rate=0.9, staircase=True)"
   ]
  },
  {
   "cell_type": "code",
   "execution_count": 27,
   "outputs": [
    {
     "name": "stdout",
     "output_type": "stream",
     "text": [
      "Epoch 1/100\n",
      "389/389 [==============================] - 1s 1ms/step - loss: 0.7518 - mae: 0.3125 - val_loss: 0.5137 - val_mae: 0.1780\n",
      "Epoch 2/100\n",
      "389/389 [==============================] - 0s 926us/step - loss: 0.4094 - mae: 0.1480 - val_loss: 0.3193 - val_mae: 0.1256\n",
      "Epoch 3/100\n",
      "389/389 [==============================] - 0s 926us/step - loss: 0.2541 - mae: 0.1173 - val_loss: 0.1963 - val_mae: 0.1077\n",
      "Epoch 4/100\n",
      "389/389 [==============================] - 0s 887us/step - loss: 0.1550 - mae: 0.1021 - val_loss: 0.1193 - val_mae: 0.0978\n",
      "Epoch 5/100\n",
      "389/389 [==============================] - 0s 899us/step - loss: 0.0949 - mae: 0.0948 - val_loss: 0.0735 - val_mae: 0.0895\n",
      "Epoch 6/100\n",
      "389/389 [==============================] - 0s 886us/step - loss: 0.0603 - mae: 0.0909 - val_loss: 0.0492 - val_mae: 0.0917\n",
      "Epoch 7/100\n",
      "389/389 [==============================] - 0s 934us/step - loss: 0.0423 - mae: 0.0921 - val_loss: 0.0360 - val_mae: 0.0896\n",
      "Epoch 8/100\n",
      "389/389 [==============================] - 0s 948us/step - loss: 0.0322 - mae: 0.0920 - val_loss: 0.0284 - val_mae: 0.0903\n",
      "Epoch 9/100\n",
      "389/389 [==============================] - 0s 926us/step - loss: 0.0264 - mae: 0.0906 - val_loss: 0.0243 - val_mae: 0.0924\n",
      "Epoch 10/100\n",
      "389/389 [==============================] - 0s 905us/step - loss: 0.0228 - mae: 0.0882 - val_loss: 0.0211 - val_mae: 0.0826\n",
      "Epoch 11/100\n",
      "389/389 [==============================] - 0s 906us/step - loss: 0.0203 - mae: 0.0844 - val_loss: 0.0190 - val_mae: 0.0794\n",
      "Epoch 12/100\n",
      "389/389 [==============================] - 0s 846us/step - loss: 0.0184 - mae: 0.0806 - val_loss: 0.0174 - val_mae: 0.0785\n",
      "Epoch 13/100\n",
      "389/389 [==============================] - 0s 900us/step - loss: 0.0167 - mae: 0.0754 - val_loss: 0.0154 - val_mae: 0.0723\n",
      "Epoch 14/100\n",
      "389/389 [==============================] - 0s 902us/step - loss: 0.0147 - mae: 0.0673 - val_loss: 0.0134 - val_mae: 0.0636\n",
      "Epoch 15/100\n",
      "389/389 [==============================] - 0s 886us/step - loss: 0.0130 - mae: 0.0608 - val_loss: 0.0121 - val_mae: 0.0540\n",
      "Epoch 16/100\n",
      "389/389 [==============================] - 0s 886us/step - loss: 0.0118 - mae: 0.0557 - val_loss: 0.0111 - val_mae: 0.0559\n",
      "Epoch 17/100\n",
      "389/389 [==============================] - 0s 1ms/step - loss: 0.0109 - mae: 0.0527 - val_loss: 0.0103 - val_mae: 0.0486\n",
      "Epoch 18/100\n",
      "389/389 [==============================] - 0s 1ms/step - loss: 0.0102 - mae: 0.0508 - val_loss: 0.0096 - val_mae: 0.0507\n",
      "Epoch 19/100\n",
      "389/389 [==============================] - 0s 966us/step - loss: 0.0096 - mae: 0.0490 - val_loss: 0.0093 - val_mae: 0.0508\n",
      "Epoch 20/100\n",
      "389/389 [==============================] - 0s 945us/step - loss: 0.0090 - mae: 0.0477 - val_loss: 0.0086 - val_mae: 0.0470\n",
      "Epoch 21/100\n",
      "389/389 [==============================] - 0s 901us/step - loss: 0.0086 - mae: 0.0464 - val_loss: 0.0082 - val_mae: 0.0441\n",
      "Epoch 22/100\n",
      "389/389 [==============================] - 0s 886us/step - loss: 0.0082 - mae: 0.0444 - val_loss: 0.0077 - val_mae: 0.0419\n",
      "Epoch 23/100\n",
      "389/389 [==============================] - 0s 901us/step - loss: 0.0078 - mae: 0.0419 - val_loss: 0.0078 - val_mae: 0.0470\n",
      "Epoch 24/100\n",
      "389/389 [==============================] - 0s 920us/step - loss: 0.0074 - mae: 0.0403 - val_loss: 0.0070 - val_mae: 0.0380\n",
      "Epoch 25/100\n",
      "389/389 [==============================] - 0s 951us/step - loss: 0.0071 - mae: 0.0390 - val_loss: 0.0067 - val_mae: 0.0373\n",
      "Epoch 26/100\n",
      "389/389 [==============================] - 0s 926us/step - loss: 0.0068 - mae: 0.0376 - val_loss: 0.0066 - val_mae: 0.0367\n",
      "Epoch 27/100\n",
      "389/389 [==============================] - 0s 910us/step - loss: 0.0065 - mae: 0.0370 - val_loss: 0.0062 - val_mae: 0.0348\n",
      "Epoch 28/100\n",
      "389/389 [==============================] - 0s 902us/step - loss: 0.0062 - mae: 0.0354 - val_loss: 0.0059 - val_mae: 0.0324\n",
      "Epoch 29/100\n",
      "389/389 [==============================] - 0s 886us/step - loss: 0.0060 - mae: 0.0342 - val_loss: 0.0058 - val_mae: 0.0342\n",
      "Epoch 30/100\n",
      "389/389 [==============================] - 0s 881us/step - loss: 0.0058 - mae: 0.0336 - val_loss: 0.0055 - val_mae: 0.0331\n",
      "Epoch 31/100\n",
      "389/389 [==============================] - 0s 886us/step - loss: 0.0055 - mae: 0.0321 - val_loss: 0.0053 - val_mae: 0.0316\n",
      "Epoch 32/100\n",
      "389/389 [==============================] - 0s 886us/step - loss: 0.0053 - mae: 0.0314 - val_loss: 0.0049 - val_mae: 0.0285\n",
      "Epoch 33/100\n",
      "389/389 [==============================] - 0s 887us/step - loss: 0.0051 - mae: 0.0304 - val_loss: 0.0049 - val_mae: 0.0293\n",
      "Epoch 34/100\n",
      "389/389 [==============================] - 0s 928us/step - loss: 0.0048 - mae: 0.0292 - val_loss: 0.0046 - val_mae: 0.0280\n",
      "Epoch 35/100\n",
      "389/389 [==============================] - 0s 886us/step - loss: 0.0047 - mae: 0.0284 - val_loss: 0.0044 - val_mae: 0.0277\n",
      "Epoch 36/100\n",
      "389/389 [==============================] - 0s 892us/step - loss: 0.0045 - mae: 0.0278 - val_loss: 0.0043 - val_mae: 0.0276\n",
      "Epoch 37/100\n",
      "389/389 [==============================] - 0s 900us/step - loss: 0.0043 - mae: 0.0271 - val_loss: 0.0043 - val_mae: 0.0302\n",
      "Epoch 38/100\n",
      "389/389 [==============================] - 0s 906us/step - loss: 0.0041 - mae: 0.0263 - val_loss: 0.0039 - val_mae: 0.0246\n",
      "Epoch 39/100\n",
      "389/389 [==============================] - 0s 910us/step - loss: 0.0040 - mae: 0.0258 - val_loss: 0.0038 - val_mae: 0.0237\n",
      "Epoch 40/100\n",
      "389/389 [==============================] - 0s 903us/step - loss: 0.0038 - mae: 0.0246 - val_loss: 0.0036 - val_mae: 0.0219\n",
      "Epoch 41/100\n",
      "389/389 [==============================] - 0s 887us/step - loss: 0.0037 - mae: 0.0247 - val_loss: 0.0035 - val_mae: 0.0228\n",
      "Epoch 42/100\n",
      "389/389 [==============================] - 0s 926us/step - loss: 0.0035 - mae: 0.0233 - val_loss: 0.0036 - val_mae: 0.0254\n",
      "Epoch 43/100\n",
      "389/389 [==============================] - 0s 921us/step - loss: 0.0035 - mae: 0.0240 - val_loss: 0.0034 - val_mae: 0.0245\n",
      "Epoch 44/100\n",
      "389/389 [==============================] - 0s 886us/step - loss: 0.0033 - mae: 0.0231 - val_loss: 0.0032 - val_mae: 0.0219\n",
      "Epoch 45/100\n",
      "389/389 [==============================] - 0s 926us/step - loss: 0.0033 - mae: 0.0230 - val_loss: 0.0030 - val_mae: 0.0197\n",
      "Epoch 46/100\n",
      "389/389 [==============================] - 0s 887us/step - loss: 0.0031 - mae: 0.0222 - val_loss: 0.0030 - val_mae: 0.0217\n",
      "Epoch 47/100\n",
      "389/389 [==============================] - 0s 882us/step - loss: 0.0031 - mae: 0.0223 - val_loss: 0.0029 - val_mae: 0.0204\n",
      "Epoch 48/100\n",
      "389/389 [==============================] - 0s 886us/step - loss: 0.0030 - mae: 0.0221 - val_loss: 0.0028 - val_mae: 0.0212\n",
      "Epoch 49/100\n",
      "389/389 [==============================] - 0s 887us/step - loss: 0.0029 - mae: 0.0219 - val_loss: 0.0028 - val_mae: 0.0213\n",
      "Epoch 50/100\n",
      "389/389 [==============================] - 0s 887us/step - loss: 0.0028 - mae: 0.0214 - val_loss: 0.0028 - val_mae: 0.0240\n",
      "Epoch 51/100\n",
      "389/389 [==============================] - 0s 920us/step - loss: 0.0028 - mae: 0.0226 - val_loss: 0.0027 - val_mae: 0.0218\n",
      "Epoch 52/100\n",
      "389/389 [==============================] - 0s 926us/step - loss: 0.0027 - mae: 0.0214 - val_loss: 0.0027 - val_mae: 0.0237\n",
      "Epoch 53/100\n",
      "389/389 [==============================] - 0s 882us/step - loss: 0.0027 - mae: 0.0214 - val_loss: 0.0027 - val_mae: 0.0236\n",
      "Epoch 54/100\n",
      "389/389 [==============================] - 0s 900us/step - loss: 0.0026 - mae: 0.0207 - val_loss: 0.0025 - val_mae: 0.0200\n",
      "Epoch 55/100\n",
      "389/389 [==============================] - 0s 911us/step - loss: 0.0026 - mae: 0.0206 - val_loss: 0.0024 - val_mae: 0.0188\n",
      "Epoch 56/100\n",
      "389/389 [==============================] - 0s 886us/step - loss: 0.0025 - mae: 0.0205 - val_loss: 0.0024 - val_mae: 0.0196\n",
      "Epoch 57/100\n",
      "389/389 [==============================] - 0s 900us/step - loss: 0.0025 - mae: 0.0207 - val_loss: 0.0023 - val_mae: 0.0184\n",
      "Epoch 58/100\n",
      "389/389 [==============================] - 0s 886us/step - loss: 0.0025 - mae: 0.0209 - val_loss: 0.0023 - val_mae: 0.0198\n",
      "Epoch 59/100\n",
      "389/389 [==============================] - 0s 904us/step - loss: 0.0024 - mae: 0.0203 - val_loss: 0.0025 - val_mae: 0.0237\n",
      "Epoch 60/100\n",
      "389/389 [==============================] - 0s 869us/step - loss: 0.0024 - mae: 0.0205 - val_loss: 0.0023 - val_mae: 0.0201\n",
      "Epoch 61/100\n",
      "389/389 [==============================] - 0s 886us/step - loss: 0.0023 - mae: 0.0204 - val_loss: 0.0022 - val_mae: 0.0183\n",
      "Epoch 62/100\n",
      "389/389 [==============================] - 0s 887us/step - loss: 0.0023 - mae: 0.0199 - val_loss: 0.0024 - val_mae: 0.0224\n",
      "Epoch 63/100\n",
      "389/389 [==============================] - 0s 887us/step - loss: 0.0023 - mae: 0.0201 - val_loss: 0.0020 - val_mae: 0.0173\n",
      "Epoch 64/100\n",
      "389/389 [==============================] - 0s 886us/step - loss: 0.0022 - mae: 0.0205 - val_loss: 0.0020 - val_mae: 0.0172\n",
      "Epoch 65/100\n",
      "389/389 [==============================] - 0s 927us/step - loss: 0.0022 - mae: 0.0204 - val_loss: 0.0021 - val_mae: 0.0187\n",
      "Epoch 66/100\n",
      "389/389 [==============================] - 0s 904us/step - loss: 0.0021 - mae: 0.0195 - val_loss: 0.0020 - val_mae: 0.0188\n",
      "Epoch 67/100\n",
      "389/389 [==============================] - 0s 886us/step - loss: 0.0021 - mae: 0.0199 - val_loss: 0.0020 - val_mae: 0.0186\n",
      "Epoch 68/100\n",
      "389/389 [==============================] - 0s 894us/step - loss: 0.0021 - mae: 0.0203 - val_loss: 0.0019 - val_mae: 0.0170\n",
      "Epoch 69/100\n",
      "389/389 [==============================] - 0s 889us/step - loss: 0.0021 - mae: 0.0198 - val_loss: 0.0020 - val_mae: 0.0205\n",
      "Epoch 70/100\n",
      "389/389 [==============================] - 0s 900us/step - loss: 0.0021 - mae: 0.0198 - val_loss: 0.0020 - val_mae: 0.0194\n",
      "Epoch 71/100\n",
      "360/389 [==========================>...] - ETA: 0s - loss: 0.0021 - mae: 0.0197Restoring model weights from the end of the best epoch: 66.\n",
      "389/389 [==============================] - 0s 886us/step - loss: 0.0021 - mae: 0.0198 - val_loss: 0.0019 - val_mae: 0.0178\n",
      "Epoch 71: early stopping\n"
     ]
    }
   ],
   "source": [
    "# Netzwerkarchitektur\n",
    "model = Sequential([\n",
    "    # Eingabeschicht\n",
    "    Dense(32, activation='relu', input_shape=(2,), kernel_initializer='he_uniform', kernel_regularizer=l2(0.01)),\n",
    "    #Dropout(0.01),\n",
    "    # Versteckte Schicht\n",
    "    #Dense(8, activation='relu', kernel_initializer='he_uniform', kernel_regularizer=l2(0.01)),\n",
    "    #Dropout(0.01),\n",
    "    # Ausgabeschicht für Regression (1 Einheit ohne Aktivierungsfunktion)\n",
    "    Dense(1 , activation = 'linear')\n",
    "])\n",
    "\n",
    "# Optimierer\n",
    "optimizer = 'adam' #Adam(learningrate =  0.001)\n",
    "\n",
    "# Modell kompilieren (Verwendung von mean_squared_error als Verlustfunktion für Regression)\n",
    "model.compile(optimizer=optimizer,\n",
    "              loss='mean_squared_error',\n",
    "              metrics=['mae'])  # Metriken für Regression: Mean Absolute Error und Mean Squared Error\n",
    "\n",
    "# Early Stopping Callback\n",
    "early_stopping = EarlyStopping(monitor='loss', patience=5, verbose=1, mode='min', restore_best_weights=True, min_delta = 0.0001)\n",
    "\n",
    "# Trainingsparameter\n",
    "batch_size = 50\n",
    "epochs = 100\n",
    "\n",
    "# Modell trainieren (Annahme: X_train, y_train, X_val, y_val sind vordefiniert)\n",
    "history = model.fit(X_train_scaled, y_train_scaled,\n",
    "                    batch_size=batch_size,\n",
    "                    epochs=epochs,\n",
    "                    validation_split=0.2,\n",
    "                    callbacks=[early_stopping])"
   ],
   "metadata": {
    "collapsed": false,
    "ExecuteTime": {
     "end_time": "2024-02-08T17:18:10.226630900Z",
     "start_time": "2024-02-08T17:17:44.289548100Z"
    }
   },
   "id": "8b52e1a9a6ff3aeb"
  },
  {
   "cell_type": "code",
   "execution_count": 28,
   "outputs": [
    {
     "data": {
      "text/plain": "<Figure size 1000x600 with 1 Axes>",
      "image/png": "[encoded data removed]"
     },
     "metadata": {},
     "output_type": "display_data"
    }
   ],
   "source": [
    "mae = history.history['loss']\n",
    "val_mae = history.history['val_loss']\n",
    "\n",
    "epochs = range(1, len(mae) + 1)\n",
    "\n",
    "# MAE Diagramm\n",
    "plt.figure(figsize=(10, 6))\n",
    "plt.plot(epochs, mae, 'r', label='Training MAE')\n",
    "plt.plot(epochs, val_mae, 'b', label='Validation MAE')\n",
    "plt.title('Training and Validation MAE')\n",
    "plt.xlabel('Epochs')\n",
    "plt.ylabel('MAE')\n",
    "plt.legend()\n",
    "\n",
    "plt.show()"
   ],
   "metadata": {
    "collapsed": false,
    "ExecuteTime": {
     "end_time": "2024-02-08T17:18:15.372997Z",
     "start_time": "2024-02-08T17:18:15.237140100Z"
    }
   },
   "id": "3688dd7102e95baf"
  },
  {
   "cell_type": "code",
   "execution_count": 29,
   "id": "9f6f672a",
   "metadata": {
    "ExecuteTime": {
     "end_time": "2024-02-08T17:18:16.613374700Z",
     "start_time": "2024-02-08T17:18:16.366021800Z"
    }
   },
   "outputs": [
    {
     "name": "stdout",
     "output_type": "stream",
     "text": [
      " Bsp. Predicted: [865.6702] Actual: [871.05] \n",
      "Durchschnittliche Abweichung (MAE): [9.4158704]\n"
     ]
    }
   ],
   "source": [
    "scaled_predicted_values = model.predict(X_test_scaled, verbose = 0)\n",
    "\n",
    "# Führen Sie die Rücktransformation der skalierten Werte durch\n",
    "original_predicted_values = scaler_target.inverse_transform(scaled_predicted_values)\n",
    "original_actual_values = scaler_target.inverse_transform(y_test_scaled)  # y_test sind die skalierten tatsächlichen Werte\n",
    "print(f' Bsp. Predicted: {original_predicted_values[100]} Actual: {original_actual_values[100]} ')\n",
    "\n",
    "def calculate_mae(list1, list2):\n",
    "    # Stelle sicher, dass beide Listen die gleiche Länge haben\n",
    "    if len(list1) != len(list2):\n",
    "        raise ValueError(\"Listen müssen die gleiche Länge haben\")\n",
    "    \n",
    "    # Berechne die absolute Differenz zwischen den Elementen der Listen\n",
    "    differences = [abs(x - y) for x, y in zip(list1, list2)]\n",
    "    \n",
    "    # Berechne den Durchschnitt der absoluten Differenzen\n",
    "    mae = sum(differences) / len(differences)\n",
    "    \n",
    "    return mae\n",
    "\n",
    "# Beispiel\n",
    "list1 = original_predicted_values\n",
    "list2 = original_actual_values\n",
    "\n",
    "mae = calculate_mae(list1, list2)\n",
    "print(f\"Durchschnittliche Abweichung (MAE): {mae}\")"
   ]
  },
  {
   "cell_type": "markdown",
   "id": "553df6fa",
   "metadata": {},
   "source": [
    "# GridSearch"
   ]
  },
  {
   "cell_type": "code",
   "execution_count": 11,
   "id": "1dca80c2",
   "metadata": {},
   "outputs": [
    {
     "name": "stdout",
     "output_type": "stream",
     "text": [
      "WARNING:tensorflow:From C:\\Users\\erikm\\anaconda3\\Lib\\site-packages\\keras\\backend.py:873: The name tf.get_default_graph is deprecated. Please use tf.compat.v1.get_default_graph instead.\n",
      "\n",
      "WARNING:tensorflow:From C:\\Users\\erikm\\anaconda3\\Lib\\site-packages\\keras\\optimizers\\__init__.py:300: The name tf.train.Optimizer is deprecated. Please use tf.compat.v1.train.Optimizer instead.\n",
      "\n",
      "Epoch 1/10\n",
      "WARNING:tensorflow:From C:\\Users\\erikm\\anaconda3\\Lib\\site-packages\\keras\\utils\\tf_utils.py:490: The name tf.ragged.RaggedTensorValue is deprecated. Please use tf.compat.v1.ragged.RaggedTensorValue instead.\n",
      "\n",
      "WARNING:tensorflow:From C:\\Users\\erikm\\anaconda3\\Lib\\site-packages\\keras\\engine\\base_layer_utils.py:380: The name tf.executing_eagerly_outside_functions is deprecated. Please use tf.compat.v1.executing_eagerly_outside_functions instead.\n",
      "\n",
      "3025/3025 [==============================] - 6s 2ms/step - loss: 0.0097 - mean_squared_error: 0.0097\n",
      "Epoch 2/10\n",
      "3025/3025 [==============================] - 5s 2ms/step - loss: 0.0026 - mean_squared_error: 0.0026\n",
      "Epoch 3/10\n",
      "3025/3025 [==============================] - 5s 2ms/step - loss: 0.0025 - mean_squared_error: 0.0025\n",
      "Epoch 4/10\n",
      "3025/3025 [==============================] - 5s 2ms/step - loss: 0.0025 - mean_squared_error: 0.0025\n",
      "Epoch 5/10\n",
      "3025/3025 [==============================] - 5s 2ms/step - loss: 0.0025 - mean_squared_error: 0.0025\n",
      "Epoch 6/10\n",
      "3025/3025 [==============================] - 5s 2ms/step - loss: 0.0025 - mean_squared_error: 0.0025\n",
      "Epoch 7/10\n",
      "3025/3025 [==============================] - 5s 2ms/step - loss: 0.0025 - mean_squared_error: 0.0025\n",
      "Epoch 8/10\n",
      "3025/3025 [==============================] - 5s 2ms/step - loss: 0.0025 - mean_squared_error: 0.0025\n",
      "Epoch 9/10\n",
      "3025/3025 [==============================] - 5s 2ms/step - loss: 0.0025 - mean_squared_error: 0.0025\n",
      "Epoch 10/10\n",
      "3025/3025 [==============================] - 5s 2ms/step - loss: 0.0025 - mean_squared_error: 0.0025\n",
      "Best: 0.844394 using {'model__activation': 'relu', 'model__optimizer': 'adam'}\n",
      "0.844394 with: {'model__activation': 'relu', 'model__optimizer': 'adam'}\n",
      "0.827458 with: {'model__activation': 'relu', 'model__optimizer': 'sgd'}\n",
      "0.834291 with: {'model__activation': 'tanh', 'model__optimizer': 'adam'}\n",
      "0.630665 with: {'model__activation': 'tanh', 'model__optimizer': 'sgd'}\n"
     ]
    }
   ],
   "source": [
    "# Schritt 1: Definiere dein Modell als eine Funktion, die Hyperparameter akzeptiert\n",
    "def build_model(optimizer='adam', activation='relu'):\n",
    "    model = Sequential()\n",
    "    model.add(Dense(units=64, activation=activation, input_dim=X_train_scaled.shape[1]))\n",
    "    model.add(Dense(units=32, activation=activation))\n",
    "    model.add(Dense(units=1, activation='linear'))\n",
    "    model.compile(optimizer=optimizer, loss='mean_squared_error', metrics=['mean_squared_error'])\n",
    "    return model\n",
    "\n",
    "# Schritt 2: Erstelle eine Instanz von KerasRegressor ohne batch_size und epochs im param_grid\n",
    "model = KerasRegressor(model=build_model, verbose=1)\n",
    "\n",
    "# Schritt 3: Definiere den Parameter-Raum für die Grid-Suche OHNE batch_size und epochs\n",
    "param_grid = {\n",
    "    'model__optimizer': ['adam', 'sgd'],\n",
    "    'model__activation': ['relu', 'tanh']\n",
    "}\n",
    "\n",
    "# Optional: Definiere Fit-Parameter (wie batch_size und epochs) separat\n",
    "fit_params = {\n",
    "    'batch_size': 32,\n",
    "    'epochs': 10\n",
    "}\n",
    "\n",
    "# Schritt 4: Führe GridSearchCV aus mit fit_params, wenn nötig\n",
    "grid = GridSearchCV(estimator=model, param_grid=param_grid, n_jobs=-1, cv=3)\n",
    "grid_result = grid.fit(X_train_scaled, y_train_scaled, **fit_params)\n",
    "\n",
    "# Ergebnisse ausgeben\n",
    "print(\"Best: %f using %s\" % (grid_result.best_score_, grid_result.best_params_))\n",
    "for mean_score, params in zip(grid_result.cv_results_['mean_test_score'], grid_result.cv_results_['params']):\n",
    "    print(\"%f with: %r\" % (mean_score, params))\n"
   ]
  },
  {
   "cell_type": "code",
   "execution_count": 12,
   "id": "3f17e2cf",
   "metadata": {},
   "outputs": [
    {
     "name": "stdout",
     "output_type": "stream",
     "text": [
      "Epoch 1/5\n",
      "4840/4840 [==============================] - 10s 2ms/step - loss: 0.0053 - mean_squared_error: 0.0053\n",
      "Epoch 2/5\n",
      "4840/4840 [==============================] - 9s 2ms/step - loss: 0.0026 - mean_squared_error: 0.0026\n",
      "Epoch 3/5\n",
      "4840/4840 [==============================] - 8s 2ms/step - loss: 0.0026 - mean_squared_error: 0.0026\n",
      "Epoch 4/5\n",
      "4840/4840 [==============================] - 8s 2ms/step - loss: 0.0025 - mean_squared_error: 0.0025\n",
      "Epoch 5/5\n",
      "4840/4840 [==============================] - 8s 2ms/step - loss: 0.0025 - mean_squared_error: 0.0025\n",
      "Best: 0.845704 using {'fit__batch_size': 20, 'fit__epochs': 5, 'model__activation': 'relu', 'model__optimizer': 'adam'}\n",
      "0.840889 with: {'fit__batch_size': 10, 'fit__epochs': 5, 'model__activation': 'relu', 'model__optimizer': 'adam'}\n",
      "0.834983 with: {'fit__batch_size': 10, 'fit__epochs': 5, 'model__activation': 'relu', 'model__optimizer': 'sgd'}\n",
      "0.833309 with: {'fit__batch_size': 10, 'fit__epochs': 5, 'model__activation': 'tanh', 'model__optimizer': 'adam'}\n",
      "0.761438 with: {'fit__batch_size': 10, 'fit__epochs': 5, 'model__activation': 'tanh', 'model__optimizer': 'sgd'}\n",
      "0.840925 with: {'fit__batch_size': 10, 'fit__epochs': 10, 'model__activation': 'relu', 'model__optimizer': 'adam'}\n",
      "0.841489 with: {'fit__batch_size': 10, 'fit__epochs': 10, 'model__activation': 'relu', 'model__optimizer': 'sgd'}\n",
      "0.831441 with: {'fit__batch_size': 10, 'fit__epochs': 10, 'model__activation': 'tanh', 'model__optimizer': 'adam'}\n",
      "0.781805 with: {'fit__batch_size': 10, 'fit__epochs': 10, 'model__activation': 'tanh', 'model__optimizer': 'sgd'}\n",
      "0.845704 with: {'fit__batch_size': 20, 'fit__epochs': 5, 'model__activation': 'relu', 'model__optimizer': 'adam'}\n",
      "0.815947 with: {'fit__batch_size': 20, 'fit__epochs': 5, 'model__activation': 'relu', 'model__optimizer': 'sgd'}\n",
      "0.813188 with: {'fit__batch_size': 20, 'fit__epochs': 5, 'model__activation': 'tanh', 'model__optimizer': 'adam'}\n",
      "0.624004 with: {'fit__batch_size': 20, 'fit__epochs': 5, 'model__activation': 'tanh', 'model__optimizer': 'sgd'}\n",
      "0.842122 with: {'fit__batch_size': 20, 'fit__epochs': 10, 'model__activation': 'relu', 'model__optimizer': 'adam'}\n",
      "0.834650 with: {'fit__batch_size': 20, 'fit__epochs': 10, 'model__activation': 'relu', 'model__optimizer': 'sgd'}\n",
      "0.832776 with: {'fit__batch_size': 20, 'fit__epochs': 10, 'model__activation': 'tanh', 'model__optimizer': 'adam'}\n",
      "0.719563 with: {'fit__batch_size': 20, 'fit__epochs': 10, 'model__activation': 'tanh', 'model__optimizer': 'sgd'}\n",
      "0.843238 with: {'fit__batch_size': 32, 'fit__epochs': 5, 'model__activation': 'relu', 'model__optimizer': 'adam'}\n",
      "0.786332 with: {'fit__batch_size': 32, 'fit__epochs': 5, 'model__activation': 'relu', 'model__optimizer': 'sgd'}\n",
      "0.831336 with: {'fit__batch_size': 32, 'fit__epochs': 5, 'model__activation': 'tanh', 'model__optimizer': 'adam'}\n",
      "0.421701 with: {'fit__batch_size': 32, 'fit__epochs': 5, 'model__activation': 'tanh', 'model__optimizer': 'sgd'}\n",
      "0.831880 with: {'fit__batch_size': 32, 'fit__epochs': 10, 'model__activation': 'relu', 'model__optimizer': 'adam'}\n",
      "0.825473 with: {'fit__batch_size': 32, 'fit__epochs': 10, 'model__activation': 'relu', 'model__optimizer': 'sgd'}\n",
      "0.834078 with: {'fit__batch_size': 32, 'fit__epochs': 10, 'model__activation': 'tanh', 'model__optimizer': 'adam'}\n",
      "0.688854 with: {'fit__batch_size': 32, 'fit__epochs': 10, 'model__activation': 'tanh', 'model__optimizer': 'sgd'}\n"
     ]
    }
   ],
   "source": [
    "def build_model(optimizer='adam', activation='relu'):\n",
    "    model = Sequential()\n",
    "    model.add(Dense(units=64, activation=activation, input_dim=X_train_scaled.shape[1]))\n",
    "    model.add(Dense(units=32, activation=activation))\n",
    "    model.add(Dense(units=1, activation='linear'))\n",
    "    model.compile(optimizer=optimizer, loss='mean_squared_error', metrics=['mean_squared_error'])\n",
    "    return model\n",
    "\n",
    "model = KerasRegressor(model=build_model, verbose=1)\n",
    "\n",
    "param_grid = {\n",
    "    'model__optimizer': ['adam', 'sgd'],\n",
    "    'model__activation': ['relu', 'tanh'],\n",
    "    'fit__batch_size': [10, 20, 32],  # Testen verschiedener batch_size Werte\n",
    "    'fit__epochs': [5, 10]  # Optional: Testen verschiedener epoch Werte\n",
    "}\n",
    "\n",
    "grid = GridSearchCV(estimator=model, param_grid=param_grid, n_jobs=-1, cv=3)\n",
    "grid_result = grid.fit(X_train_scaled, y_train_scaled)\n",
    "\n",
    "# Ergebnisse ausgeben\n",
    "print(\"Best: %f using %s\" % (grid_result.best_score_, grid_result.best_params_))\n",
    "for mean_score, params in zip(grid_result.cv_results_['mean_test_score'], grid_result.cv_results_['params']):\n",
    "    print(\"%f with: %r\" % (mean_score, params))\n"
   ]
  },
  {
   "cell_type": "code",
   "execution_count": null,
   "id": "492cf0ed",
   "metadata": {},
   "outputs": [],
   "source": []
  }
 ],
 "metadata": {
  "kernelspec": {
   "display_name": "Python 3 (ipykernel)",
   "language": "python",
   "name": "python3"
  },
  "language_info": {
   "codemirror_mode": {
    "name": "ipython",
    "version": 3
   },
   "file_extension": ".py",
   "mimetype": "text/x-python",
   "name": "python",
   "nbconvert_exporter": "python",
   "pygments_lexer": "ipython3",
   "version": "3.11.4"
  }
 },
 "nbformat": 4,
 "nbformat_minor": 5
}
