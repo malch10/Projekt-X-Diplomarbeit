{
 "cells": [
  {
   "cell_type": "code",
   "execution_count": 33,
   "id": "94b0518e",
   "metadata": {
    "ExecuteTime": {
     "end_time": "2024-02-28T11:12:11.549171800Z",
     "start_time": "2024-02-28T11:12:11.507993100Z"
    }
   },
   "outputs": [],
   "source": [
    "import numpy as np\n",
    "import os\n",
    "import tensorflow as tf\n",
    "import matplotlib.pyplot as plt\n",
    "from sklearn.model_selection import train_test_split\n",
    "from sklearn.preprocessing import MinMaxScaler\n",
    "import pandas as pd\n",
    "from tensorflow.keras.layers import Dense , Dropout\n",
    "from scikeras.wrappers import KerasRegressor \n",
    "from tensorflow.keras.callbacks import EarlyStopping\n",
    "import time\n",
    "from keras.models import Sequential\n",
    "from keras.layers import Dense, Dropout\n",
    "from keras.optimizers import Adam\n",
    "from keras.regularizers import l2\n",
    "from keras.callbacks import EarlyStopping\n",
    "from keras_tuner import RandomSearch\n",
    "from tensorflow.keras.models import Sequential\n",
    "from tensorflow.keras.layers import Dense\n",
    "from tensorflow.keras.optimizers import Adam\n",
    "from tensorflow.keras.regularizers import l2\n",
    "from sklearn.model_selection import GridSearchCV\n"
   ]
  },
  {
   "cell_type": "code",
   "execution_count": 34,
   "id": "e4ff61b1",
   "metadata": {
    "ExecuteTime": {
     "end_time": "2024-02-28T11:12:12.231246400Z",
     "start_time": "2024-02-28T11:12:12.105167500Z"
    }
   },
   "outputs": [
    {
     "data": {
      "text/plain": "       X-Koordinate  Y-Koordinate  Zeitpunkt  Strom  Kraft  Temperatur\n0            0.0000      -0.00200        300   7000   9000      532.25\n1            0.0000      -0.00198        300   7000   9000      540.69\n2            0.0000      -0.00196        300   7000   9000      549.09\n3            0.0000      -0.00194        300   7000   9000      557.38\n4            0.0000      -0.00192        300   7000   9000      565.57\n...             ...           ...        ...    ...    ...         ...\n25321        0.0025       0.00192        300   7000   9000      486.58\n25322        0.0025       0.00194        300   7000   9000      481.54\n25323        0.0025       0.00196        300   7000   9000      477.19\n25324        0.0025       0.00198        300   7000   9000      473.54\n25325        0.0025       0.00200        300   7000   9000      470.57\n\n[25326 rows x 6 columns]",
      "text/html": "<div>\n<style scoped>\n    .dataframe tbody tr th:only-of-type {\n        vertical-align: middle;\n    }\n\n    .dataframe tbody tr th {\n        vertical-align: top;\n    }\n\n    .dataframe thead th {\n        text-align: right;\n    }\n</style>\n<table border=\"1\" class=\"dataframe\">\n  <thead>\n    <tr style=\"text-align: right;\">\n      <th></th>\n      <th>X-Koordinate</th>\n      <th>Y-Koordinate</th>\n      <th>Zeitpunkt</th>\n      <th>Strom</th>\n      <th>Kraft</th>\n      <th>Temperatur</th>\n    </tr>\n  </thead>\n  <tbody>\n    <tr>\n      <th>0</th>\n      <td>0.0000</td>\n      <td>-0.00200</td>\n      <td>300</td>\n      <td>7000</td>\n      <td>9000</td>\n      <td>532.25</td>\n    </tr>\n    <tr>\n      <th>1</th>\n      <td>0.0000</td>\n      <td>-0.00198</td>\n      <td>300</td>\n      <td>7000</td>\n      <td>9000</td>\n      <td>540.69</td>\n    </tr>\n    <tr>\n      <th>2</th>\n      <td>0.0000</td>\n      <td>-0.00196</td>\n      <td>300</td>\n      <td>7000</td>\n      <td>9000</td>\n      <td>549.09</td>\n    </tr>\n    <tr>\n      <th>3</th>\n      <td>0.0000</td>\n      <td>-0.00194</td>\n      <td>300</td>\n      <td>7000</td>\n      <td>9000</td>\n      <td>557.38</td>\n    </tr>\n    <tr>\n      <th>4</th>\n      <td>0.0000</td>\n      <td>-0.00192</td>\n      <td>300</td>\n      <td>7000</td>\n      <td>9000</td>\n      <td>565.57</td>\n    </tr>\n    <tr>\n      <th>...</th>\n      <td>...</td>\n      <td>...</td>\n      <td>...</td>\n      <td>...</td>\n      <td>...</td>\n      <td>...</td>\n    </tr>\n    <tr>\n      <th>25321</th>\n      <td>0.0025</td>\n      <td>0.00192</td>\n      <td>300</td>\n      <td>7000</td>\n      <td>9000</td>\n      <td>486.58</td>\n    </tr>\n    <tr>\n      <th>25322</th>\n      <td>0.0025</td>\n      <td>0.00194</td>\n      <td>300</td>\n      <td>7000</td>\n      <td>9000</td>\n      <td>481.54</td>\n    </tr>\n    <tr>\n      <th>25323</th>\n      <td>0.0025</td>\n      <td>0.00196</td>\n      <td>300</td>\n      <td>7000</td>\n      <td>9000</td>\n      <td>477.19</td>\n    </tr>\n    <tr>\n      <th>25324</th>\n      <td>0.0025</td>\n      <td>0.00198</td>\n      <td>300</td>\n      <td>7000</td>\n      <td>9000</td>\n      <td>473.54</td>\n    </tr>\n    <tr>\n      <th>25325</th>\n      <td>0.0025</td>\n      <td>0.00200</td>\n      <td>300</td>\n      <td>7000</td>\n      <td>9000</td>\n      <td>470.57</td>\n    </tr>\n  </tbody>\n</table>\n<p>25326 rows × 6 columns</p>\n</div>"
     },
     "execution_count": 34,
     "metadata": {},
     "output_type": "execute_result"
    }
   ],
   "source": [
    "#data = pd.read_pickle('C:/Users/erikm/Desktop/Diplomarbeit Erik Marr/Daten/Finish/TPath_300_finish_data.pkl')\n",
    "data = pd.read_pickle('C:/Users/erikm/Desktop/Diplomarbeit Erik Marr/Daten/Finish_D2_I7000_F9000/TPath_300_finish_data_D2.pkl')\n",
    "\n",
    "data"
   ]
  },
  {
   "cell_type": "code",
   "execution_count": 35,
   "id": "966e3c74",
   "metadata": {
    "ExecuteTime": {
     "end_time": "2024-02-28T11:12:13.873255100Z",
     "start_time": "2024-02-28T11:12:13.517539300Z"
    }
   },
   "outputs": [
    {
     "data": {
      "text/plain": "       X-Koordinate  Y-Koordinate  Temperatur\n0            0.0000      -0.00200      532.25\n1            0.0000      -0.00198      540.69\n2            0.0000      -0.00196      549.09\n3            0.0000      -0.00194      557.38\n4            0.0000      -0.00192      565.57\n...             ...           ...         ...\n25321        0.0025       0.00192      486.58\n25322        0.0025       0.00194      481.54\n25323        0.0025       0.00196      477.19\n25324        0.0025       0.00198      473.54\n25325        0.0025       0.00200      470.57\n\n[25326 rows x 3 columns]",
      "text/html": "<div>\n<style scoped>\n    .dataframe tbody tr th:only-of-type {\n        vertical-align: middle;\n    }\n\n    .dataframe tbody tr th {\n        vertical-align: top;\n    }\n\n    .dataframe thead th {\n        text-align: right;\n    }\n</style>\n<table border=\"1\" class=\"dataframe\">\n  <thead>\n    <tr style=\"text-align: right;\">\n      <th></th>\n      <th>X-Koordinate</th>\n      <th>Y-Koordinate</th>\n      <th>Temperatur</th>\n    </tr>\n  </thead>\n  <tbody>\n    <tr>\n      <th>0</th>\n      <td>0.0000</td>\n      <td>-0.00200</td>\n      <td>532.25</td>\n    </tr>\n    <tr>\n      <th>1</th>\n      <td>0.0000</td>\n      <td>-0.00198</td>\n      <td>540.69</td>\n    </tr>\n    <tr>\n      <th>2</th>\n      <td>0.0000</td>\n      <td>-0.00196</td>\n      <td>549.09</td>\n    </tr>\n    <tr>\n      <th>3</th>\n      <td>0.0000</td>\n      <td>-0.00194</td>\n      <td>557.38</td>\n    </tr>\n    <tr>\n      <th>4</th>\n      <td>0.0000</td>\n      <td>-0.00192</td>\n      <td>565.57</td>\n    </tr>\n    <tr>\n      <th>...</th>\n      <td>...</td>\n      <td>...</td>\n      <td>...</td>\n    </tr>\n    <tr>\n      <th>25321</th>\n      <td>0.0025</td>\n      <td>0.00192</td>\n      <td>486.58</td>\n    </tr>\n    <tr>\n      <th>25322</th>\n      <td>0.0025</td>\n      <td>0.00194</td>\n      <td>481.54</td>\n    </tr>\n    <tr>\n      <th>25323</th>\n      <td>0.0025</td>\n      <td>0.00196</td>\n      <td>477.19</td>\n    </tr>\n    <tr>\n      <th>25324</th>\n      <td>0.0025</td>\n      <td>0.00198</td>\n      <td>473.54</td>\n    </tr>\n    <tr>\n      <th>25325</th>\n      <td>0.0025</td>\n      <td>0.00200</td>\n      <td>470.57</td>\n    </tr>\n  </tbody>\n</table>\n<p>25326 rows × 3 columns</p>\n</div>"
     },
     "execution_count": 35,
     "metadata": {},
     "output_type": "execute_result"
    }
   ],
   "source": [
    "df = data.drop(data.columns[2:5], axis = 1)\n",
    "df"
   ]
  },
  {
   "cell_type": "code",
   "execution_count": 36,
   "id": "8783d1d6",
   "metadata": {
    "ExecuteTime": {
     "end_time": "2024-02-28T11:12:17.633594600Z",
     "start_time": "2024-02-28T11:12:15.978257700Z"
    }
   },
   "outputs": [
    {
     "name": "stdout",
     "output_type": "stream",
     "text": [
      "       X-Koordinate  Y-Koordinate  Temperatur\n",
      "5099        0.00050      -0.00052      896.41\n",
      "12799       0.00126       0.00072      836.73\n",
      "15071       0.00148       0.00194      488.76\n",
      "24620       0.00244      -0.00004      747.54\n",
      "11071       0.00110      -0.00168      661.61\n",
      "...             ...           ...         ...\n",
      "21575       0.00214      -0.00064      784.07\n",
      "5390        0.00052       0.00128      728.92\n",
      "860         0.00008      -0.00088      863.65\n",
      "15795       0.00156       0.00034      844.40\n",
      "23654       0.00234       0.00074      753.46\n",
      "\n",
      "[25326 rows x 3 columns]\n"
     ]
    },
    {
     "data": {
      "text/plain": "       X-Koordinate  Y-Koordinate  Temperatur\n0           0.00050      -0.00052      896.41\n1           0.00126       0.00072      836.73\n2           0.00148       0.00194      488.76\n3           0.00244      -0.00004      747.54\n4           0.00110      -0.00168      661.61\n...             ...           ...         ...\n25321       0.00214      -0.00064      784.07\n25322       0.00052       0.00128      728.92\n25323       0.00008      -0.00088      863.65\n25324       0.00156       0.00034      844.40\n25325       0.00234       0.00074      753.46\n\n[25326 rows x 3 columns]",
      "text/html": "<div>\n<style scoped>\n    .dataframe tbody tr th:only-of-type {\n        vertical-align: middle;\n    }\n\n    .dataframe tbody tr th {\n        vertical-align: top;\n    }\n\n    .dataframe thead th {\n        text-align: right;\n    }\n</style>\n<table border=\"1\" class=\"dataframe\">\n  <thead>\n    <tr style=\"text-align: right;\">\n      <th></th>\n      <th>X-Koordinate</th>\n      <th>Y-Koordinate</th>\n      <th>Temperatur</th>\n    </tr>\n  </thead>\n  <tbody>\n    <tr>\n      <th>0</th>\n      <td>0.00050</td>\n      <td>-0.00052</td>\n      <td>896.41</td>\n    </tr>\n    <tr>\n      <th>1</th>\n      <td>0.00126</td>\n      <td>0.00072</td>\n      <td>836.73</td>\n    </tr>\n    <tr>\n      <th>2</th>\n      <td>0.00148</td>\n      <td>0.00194</td>\n      <td>488.76</td>\n    </tr>\n    <tr>\n      <th>3</th>\n      <td>0.00244</td>\n      <td>-0.00004</td>\n      <td>747.54</td>\n    </tr>\n    <tr>\n      <th>4</th>\n      <td>0.00110</td>\n      <td>-0.00168</td>\n      <td>661.61</td>\n    </tr>\n    <tr>\n      <th>...</th>\n      <td>...</td>\n      <td>...</td>\n      <td>...</td>\n    </tr>\n    <tr>\n      <th>25321</th>\n      <td>0.00214</td>\n      <td>-0.00064</td>\n      <td>784.07</td>\n    </tr>\n    <tr>\n      <th>25322</th>\n      <td>0.00052</td>\n      <td>0.00128</td>\n      <td>728.92</td>\n    </tr>\n    <tr>\n      <th>25323</th>\n      <td>0.00008</td>\n      <td>-0.00088</td>\n      <td>863.65</td>\n    </tr>\n    <tr>\n      <th>25324</th>\n      <td>0.00156</td>\n      <td>0.00034</td>\n      <td>844.40</td>\n    </tr>\n    <tr>\n      <th>25325</th>\n      <td>0.00234</td>\n      <td>0.00074</td>\n      <td>753.46</td>\n    </tr>\n  </tbody>\n</table>\n<p>25326 rows × 3 columns</p>\n</div>"
     },
     "execution_count": 36,
     "metadata": {},
     "output_type": "execute_result"
    }
   ],
   "source": [
    "df1 = df.sample(frac=1, random_state=42)  # Hier wird 42 als Random State verwendet, um die Ergebnisse reproduzierbar zu machen\n",
    "\n",
    "print(df1)\n",
    "df_reset = df1.reset_index(drop=True)\n",
    "df_reset"
   ]
  },
  {
   "cell_type": "code",
   "execution_count": 37,
   "id": "a4e72a16",
   "metadata": {
    "ExecuteTime": {
     "end_time": "2024-02-28T11:12:17.800157500Z",
     "start_time": "2024-02-28T11:12:17.632593300Z"
    }
   },
   "outputs": [],
   "source": [
    "label = df_reset[\"Temperatur\"]\n",
    "# Korrektur: Verwenden Sie den Spaltennamen direkt, ohne Indexierung der columns-Eigenschaft\n",
    "df1 = df_reset.drop(\"Temperatur\", axis=1)\n",
    "X = df1\n",
    "y = label\n"
   ]
  },
  {
   "cell_type": "markdown",
   "source": [],
   "metadata": {
    "collapsed": false
   },
   "id": "f7fa289a50d87423"
  },
  {
   "cell_type": "code",
   "execution_count": 38,
   "id": "e694a236",
   "metadata": {
    "ExecuteTime": {
     "end_time": "2024-02-28T11:12:24.685114900Z",
     "start_time": "2024-02-28T11:12:24.640594500Z"
    }
   },
   "outputs": [
    {
     "data": {
      "text/plain": "       X-Koordinate  Y-Koordinate\n0           0.00050      -0.00052\n1           0.00126       0.00072\n2           0.00148       0.00194\n3           0.00244      -0.00004\n4           0.00110      -0.00168\n...             ...           ...\n25321       0.00214      -0.00064\n25322       0.00052       0.00128\n25323       0.00008      -0.00088\n25324       0.00156       0.00034\n25325       0.00234       0.00074\n\n[25326 rows x 2 columns]",
      "text/html": "<div>\n<style scoped>\n    .dataframe tbody tr th:only-of-type {\n        vertical-align: middle;\n    }\n\n    .dataframe tbody tr th {\n        vertical-align: top;\n    }\n\n    .dataframe thead th {\n        text-align: right;\n    }\n</style>\n<table border=\"1\" class=\"dataframe\">\n  <thead>\n    <tr style=\"text-align: right;\">\n      <th></th>\n      <th>X-Koordinate</th>\n      <th>Y-Koordinate</th>\n    </tr>\n  </thead>\n  <tbody>\n    <tr>\n      <th>0</th>\n      <td>0.00050</td>\n      <td>-0.00052</td>\n    </tr>\n    <tr>\n      <th>1</th>\n      <td>0.00126</td>\n      <td>0.00072</td>\n    </tr>\n    <tr>\n      <th>2</th>\n      <td>0.00148</td>\n      <td>0.00194</td>\n    </tr>\n    <tr>\n      <th>3</th>\n      <td>0.00244</td>\n      <td>-0.00004</td>\n    </tr>\n    <tr>\n      <th>4</th>\n      <td>0.00110</td>\n      <td>-0.00168</td>\n    </tr>\n    <tr>\n      <th>...</th>\n      <td>...</td>\n      <td>...</td>\n    </tr>\n    <tr>\n      <th>25321</th>\n      <td>0.00214</td>\n      <td>-0.00064</td>\n    </tr>\n    <tr>\n      <th>25322</th>\n      <td>0.00052</td>\n      <td>0.00128</td>\n    </tr>\n    <tr>\n      <th>25323</th>\n      <td>0.00008</td>\n      <td>-0.00088</td>\n    </tr>\n    <tr>\n      <th>25324</th>\n      <td>0.00156</td>\n      <td>0.00034</td>\n    </tr>\n    <tr>\n      <th>25325</th>\n      <td>0.00234</td>\n      <td>0.00074</td>\n    </tr>\n  </tbody>\n</table>\n<p>25326 rows × 2 columns</p>\n</div>"
     },
     "execution_count": 38,
     "metadata": {},
     "output_type": "execute_result"
    }
   ],
   "source": [
    "X"
   ]
  },
  {
   "cell_type": "code",
   "execution_count": 39,
   "id": "3f3303b4",
   "metadata": {
    "ExecuteTime": {
     "end_time": "2024-02-28T11:12:25.304555Z",
     "start_time": "2024-02-28T11:12:25.279977400Z"
    }
   },
   "outputs": [
    {
     "data": {
      "text/plain": "0        896.41\n1        836.73\n2        488.76\n3        747.54\n4        661.61\n          ...  \n25321    784.07\n25322    728.92\n25323    863.65\n25324    844.40\n25325    753.46\nName: Temperatur, Length: 25326, dtype: float64"
     },
     "execution_count": 39,
     "metadata": {},
     "output_type": "execute_result"
    }
   ],
   "source": [
    "y"
   ]
  },
  {
   "cell_type": "code",
   "execution_count": 40,
   "id": "e3ad8da0",
   "metadata": {
    "ExecuteTime": {
     "end_time": "2024-02-28T11:12:26.698781400Z",
     "start_time": "2024-02-28T11:12:26.579356700Z"
    }
   },
   "outputs": [],
   "source": [
    " # train_df enthält 80% der Daten, test_df enthält 20% der Daten\n",
    "X_train, X_test, y_train, y_test = train_test_split(X, y, test_size=0.20, random_state=42)\n"
   ]
  },
  {
   "cell_type": "code",
   "execution_count": 41,
   "id": "9c705edb",
   "metadata": {
    "ExecuteTime": {
     "end_time": "2024-02-28T11:12:27.903876100Z",
     "start_time": "2024-02-28T11:12:27.861877500Z"
    }
   },
   "outputs": [],
   "source": [
    "# Initialisiere einen MinMaxScaler für die Features\n",
    "scaler_features = MinMaxScaler()\n",
    "scaler_features2 = MinMaxScaler()\n",
    "# Skaliere X_train und X_test\n",
    "X_train_scaled = scaler_features.fit_transform(X_train)\n",
    "X_test_scaled = scaler_features.transform(X_test)  # Nutze unterschiedliche Skalierungsparameter\n",
    "\n",
    "# Initialisiere einen SEPARATEN MinMaxScaler für das Ziel, wenn nötig\n",
    "scaler_target = MinMaxScaler()\n",
    "\n",
    "\n",
    "# Skaliere y_train und y_test. Beachte, dass y_train.reshape(-1, 1) verwendet wird, da MinMaxScaler \n",
    "# erwartet, dass die Eingaben als 2D-Arrays kommen, und Ziele normalerweise als 1D-Arrays vorliegen.\n",
    "y_train_scaled = scaler_target.fit_transform(y_train.values.reshape(-1, 1))\n",
    "y_test_scaled = scaler_target.transform(y_test.values.reshape(-1, 1))\n"
   ]
  },
  {
   "cell_type": "code",
   "execution_count": 42,
   "id": "bbefe631e495b483",
   "metadata": {
    "ExecuteTime": {
     "end_time": "2024-02-28T11:12:31.656391300Z",
     "start_time": "2024-02-28T11:12:31.618237500Z"
    }
   },
   "outputs": [
    {
     "data": {
      "text/plain": "array([[1.   , 0.15 ],\n       [0.984, 0.49 ],\n       [0.224, 0.905],\n       ...,\n       [0.04 , 0.585],\n       [0.976, 0.815],\n       [0.744, 0.785]])"
     },
     "execution_count": 42,
     "metadata": {},
     "output_type": "execute_result"
    }
   ],
   "source": [
    "X_train_scaled"
   ]
  },
  {
   "cell_type": "markdown",
   "source": [
    "# Netzwerkarchitektur"
   ],
   "metadata": {
    "collapsed": false
   },
   "id": "d664797f8dcbd88c"
  },
  {
   "cell_type": "code",
   "execution_count": 46,
   "outputs": [
    {
     "name": "stdout",
     "output_type": "stream",
     "text": [
      "Epoch 1/200\n",
      "82/82 [==============================] - 2s 8ms/step - loss: 0.4675 - mae: 0.2533 - val_loss: 0.3401 - val_mae: 0.1352\n",
      "Epoch 2/200\n",
      "82/82 [==============================] - 0s 6ms/step - loss: 0.2948 - mae: 0.0931 - val_loss: 0.2717 - val_mae: 0.0799\n",
      "Epoch 3/200\n",
      "82/82 [==============================] - 0s 6ms/step - loss: 0.2508 - mae: 0.0416 - val_loss: 0.2393 - val_mae: 0.0409\n",
      "Epoch 4/200\n",
      "82/82 [==============================] - 0s 6ms/step - loss: 0.2304 - mae: 0.0323 - val_loss: 0.2212 - val_mae: 0.0158\n",
      "Epoch 5/200\n",
      "82/82 [==============================] - 1s 6ms/step - loss: 0.2168 - mae: 0.0315 - val_loss: 0.2101 - val_mae: 0.0312\n",
      "Epoch 6/200\n",
      "82/82 [==============================] - 0s 6ms/step - loss: 0.2051 - mae: 0.0289 - val_loss: 0.1990 - val_mae: 0.0206\n",
      "Epoch 7/200\n",
      "82/82 [==============================] - 0s 6ms/step - loss: 0.1941 - mae: 0.0163 - val_loss: 0.1892 - val_mae: 0.0110\n",
      "Epoch 8/200\n",
      "82/82 [==============================] - 0s 6ms/step - loss: 0.1857 - mae: 0.0180 - val_loss: 0.1854 - val_mae: 0.0505\n",
      "Epoch 9/200\n",
      "82/82 [==============================] - 0s 6ms/step - loss: 0.1776 - mae: 0.0153 - val_loss: 0.1757 - val_mae: 0.0371\n",
      "Epoch 10/200\n",
      "82/82 [==============================] - 0s 6ms/step - loss: 0.1712 - mae: 0.0259 - val_loss: 0.1665 - val_mae: 0.0148\n",
      "Epoch 11/200\n",
      "82/82 [==============================] - 0s 6ms/step - loss: 0.1633 - mae: 0.0154 - val_loss: 0.1682 - val_mae: 0.0616\n",
      "Epoch 12/200\n",
      "82/82 [==============================] - 0s 5ms/step - loss: 0.1572 - mae: 0.0175 - val_loss: 0.1533 - val_mae: 0.0093\n",
      "Epoch 13/200\n",
      "82/82 [==============================] - 0s 5ms/step - loss: 0.1503 - mae: 0.0095 - val_loss: 0.1475 - val_mae: 0.0149\n",
      "Epoch 14/200\n",
      "82/82 [==============================] - 0s 5ms/step - loss: 0.1447 - mae: 0.0138 - val_loss: 0.1414 - val_mae: 0.0060\n",
      "Epoch 15/200\n",
      "82/82 [==============================] - 0s 6ms/step - loss: 0.1390 - mae: 0.0109 - val_loss: 0.1364 - val_mae: 0.0156\n",
      "Epoch 16/200\n",
      "82/82 [==============================] - 0s 6ms/step - loss: 0.1339 - mae: 0.0158 - val_loss: 0.1318 - val_mae: 0.0243\n",
      "Epoch 17/200\n",
      "82/82 [==============================] - 0s 6ms/step - loss: 0.1287 - mae: 0.0138 - val_loss: 0.1257 - val_mae: 0.0052\n",
      "Epoch 18/200\n",
      "82/82 [==============================] - 0s 6ms/step - loss: 0.1235 - mae: 0.0106 - val_loss: 0.1211 - val_mae: 0.0125\n",
      "Epoch 19/200\n",
      "82/82 [==============================] - 0s 6ms/step - loss: 0.1187 - mae: 0.0077 - val_loss: 0.1163 - val_mae: 0.0078\n",
      "Epoch 20/200\n",
      "82/82 [==============================] - 0s 6ms/step - loss: 0.1145 - mae: 0.0148 - val_loss: 0.1124 - val_mae: 0.0156\n",
      "Epoch 21/200\n",
      "82/82 [==============================] - 0s 6ms/step - loss: 0.1099 - mae: 0.0115 - val_loss: 0.1079 - val_mae: 0.0152\n",
      "Epoch 22/200\n",
      "82/82 [==============================] - 0s 6ms/step - loss: 0.1057 - mae: 0.0116 - val_loss: 0.1034 - val_mae: 0.0076\n",
      "Epoch 23/200\n",
      "82/82 [==============================] - 0s 6ms/step - loss: 0.1015 - mae: 0.0094 - val_loss: 0.1003 - val_mae: 0.0196\n",
      "Epoch 24/200\n",
      "82/82 [==============================] - 0s 6ms/step - loss: 0.0978 - mae: 0.0122 - val_loss: 0.0956 - val_mae: 0.0081\n",
      "Epoch 25/200\n",
      "82/82 [==============================] - 1s 6ms/step - loss: 0.0948 - mae: 0.0224 - val_loss: 0.0947 - val_mae: 0.0409\n",
      "Epoch 26/200\n",
      "82/82 [==============================] - 0s 6ms/step - loss: 0.0905 - mae: 0.0136 - val_loss: 0.0898 - val_mae: 0.0258\n",
      "Epoch 27/200\n",
      "82/82 [==============================] - 0s 6ms/step - loss: 0.0869 - mae: 0.0143 - val_loss: 0.0849 - val_mae: 0.0097\n",
      "Epoch 28/200\n",
      "82/82 [==============================] - 0s 6ms/step - loss: 0.0832 - mae: 0.0088 - val_loss: 0.0817 - val_mae: 0.0128\n",
      "Epoch 29/200\n",
      "82/82 [==============================] - 1s 7ms/step - loss: 0.0799 - mae: 0.0087 - val_loss: 0.0782 - val_mae: 0.0068\n",
      "Epoch 30/200\n",
      "82/82 [==============================] - 1s 6ms/step - loss: 0.0766 - mae: 0.0076 - val_loss: 0.0751 - val_mae: 0.0086\n",
      "Epoch 31/200\n",
      "82/82 [==============================] - 0s 6ms/step - loss: 0.0735 - mae: 0.0067 - val_loss: 0.0719 - val_mae: 0.0050\n",
      "Epoch 32/200\n",
      "82/82 [==============================] - 1s 6ms/step - loss: 0.0709 - mae: 0.0143 - val_loss: 0.0691 - val_mae: 0.0101\n",
      "Epoch 33/200\n",
      "82/82 [==============================] - 1s 6ms/step - loss: 0.0676 - mae: 0.0075 - val_loss: 0.0662 - val_mae: 0.0097\n",
      "Epoch 34/200\n",
      "82/82 [==============================] - 1s 6ms/step - loss: 0.0648 - mae: 0.0088 - val_loss: 0.0633 - val_mae: 0.0055\n",
      "Epoch 35/200\n",
      "82/82 [==============================] - 1s 6ms/step - loss: 0.0621 - mae: 0.0068 - val_loss: 0.0757 - val_mae: 0.0809\n",
      "Epoch 36/200\n",
      "82/82 [==============================] - 1s 6ms/step - loss: 0.0613 - mae: 0.0277 - val_loss: 0.0585 - val_mae: 0.0158\n",
      "Epoch 37/200\n",
      "82/82 [==============================] - 0s 6ms/step - loss: 0.0570 - mae: 0.0089 - val_loss: 0.0557 - val_mae: 0.0058\n",
      "Epoch 38/200\n",
      "82/82 [==============================] - 1s 6ms/step - loss: 0.0545 - mae: 0.0076 - val_loss: 0.0534 - val_mae: 0.0114\n",
      "Epoch 39/200\n",
      "82/82 [==============================] - 1s 6ms/step - loss: 0.0522 - mae: 0.0083 - val_loss: 0.0514 - val_mae: 0.0159\n",
      "Epoch 40/200\n",
      "82/82 [==============================] - 1s 6ms/step - loss: 0.0499 - mae: 0.0092 - val_loss: 0.0501 - val_mae: 0.0291\n",
      "Epoch 41/200\n",
      "82/82 [==============================] - 0s 6ms/step - loss: 0.0479 - mae: 0.0125 - val_loss: 0.0475 - val_mae: 0.0240\n",
      "Epoch 42/200\n",
      "82/82 [==============================] - 0s 6ms/step - loss: 0.0459 - mae: 0.0145 - val_loss: 0.0456 - val_mae: 0.0235\n",
      "Epoch 43/200\n",
      "82/82 [==============================] - 1s 6ms/step - loss: 0.0436 - mae: 0.0107 - val_loss: 0.0429 - val_mae: 0.0154\n",
      "Epoch 44/200\n",
      "82/82 [==============================] - 1s 6ms/step - loss: 0.0416 - mae: 0.0089 - val_loss: 0.0405 - val_mae: 0.0061\n",
      "Epoch 45/200\n",
      "82/82 [==============================] - 0s 6ms/step - loss: 0.0399 - mae: 0.0131 - val_loss: 0.0388 - val_mae: 0.0109\n",
      "Epoch 46/200\n",
      "82/82 [==============================] - 0s 6ms/step - loss: 0.0379 - mae: 0.0090 - val_loss: 0.0370 - val_mae: 0.0118\n",
      "Epoch 47/200\n",
      "82/82 [==============================] - 1s 6ms/step - loss: 0.0361 - mae: 0.0102 - val_loss: 0.0352 - val_mae: 0.0095\n",
      "Epoch 48/200\n",
      "82/82 [==============================] - 1s 7ms/step - loss: 0.0344 - mae: 0.0078 - val_loss: 0.0340 - val_mae: 0.0176\n",
      "Epoch 49/200\n",
      "82/82 [==============================] - 1s 6ms/step - loss: 0.0330 - mae: 0.0132 - val_loss: 0.0319 - val_mae: 0.0078\n",
      "Epoch 50/200\n",
      "82/82 [==============================] - 1s 6ms/step - loss: 0.0312 - mae: 0.0081 - val_loss: 0.0305 - val_mae: 0.0117\n",
      "Epoch 51/200\n",
      "82/82 [==============================] - 0s 6ms/step - loss: 0.0297 - mae: 0.0088 - val_loss: 0.0295 - val_mae: 0.0200\n",
      "Epoch 52/200\n",
      "82/82 [==============================] - 1s 6ms/step - loss: 0.0283 - mae: 0.0091 - val_loss: 0.0278 - val_mae: 0.0157\n",
      "Epoch 53/200\n",
      "82/82 [==============================] - 0s 6ms/step - loss: 0.0269 - mae: 0.0086 - val_loss: 0.0262 - val_mae: 0.0086\n",
      "Epoch 54/200\n",
      "82/82 [==============================] - 1s 6ms/step - loss: 0.0256 - mae: 0.0094 - val_loss: 0.0251 - val_mae: 0.0145\n",
      "Epoch 55/200\n",
      "82/82 [==============================] - 0s 6ms/step - loss: 0.0244 - mae: 0.0109 - val_loss: 0.0237 - val_mae: 0.0098\n",
      "Epoch 56/200\n",
      "82/82 [==============================] - 1s 6ms/step - loss: 0.0232 - mae: 0.0132 - val_loss: 0.0230 - val_mae: 0.0171\n",
      "Epoch 57/200\n",
      "82/82 [==============================] - 1s 6ms/step - loss: 0.0222 - mae: 0.0154 - val_loss: 0.0221 - val_mae: 0.0260\n",
      "Epoch 58/200\n",
      "82/82 [==============================] - 1s 6ms/step - loss: 0.0209 - mae: 0.0093 - val_loss: 0.0216 - val_mae: 0.0250\n",
      "Epoch 59/200\n",
      "82/82 [==============================] - 0s 6ms/step - loss: 0.0199 - mae: 0.0119 - val_loss: 0.0200 - val_mae: 0.0216\n",
      "Epoch 60/200\n",
      "82/82 [==============================] - 0s 6ms/step - loss: 0.0191 - mae: 0.0150 - val_loss: 0.0211 - val_mae: 0.0369\n",
      "Epoch 61/200\n",
      "82/82 [==============================] - 0s 6ms/step - loss: 0.0181 - mae: 0.0116 - val_loss: 0.0188 - val_mae: 0.0255\n",
      "Epoch 62/200\n",
      "82/82 [==============================] - 1s 6ms/step - loss: 0.0172 - mae: 0.0117 - val_loss: 0.0165 - val_mae: 0.0058\n",
      "Epoch 63/200\n",
      "82/82 [==============================] - 0s 6ms/step - loss: 0.0161 - mae: 0.0078 - val_loss: 0.0170 - val_mae: 0.0246\n",
      "Epoch 64/200\n",
      "82/82 [==============================] - 1s 6ms/step - loss: 0.0155 - mae: 0.0122 - val_loss: 0.0149 - val_mae: 0.0065\n",
      "Epoch 65/200\n",
      "82/82 [==============================] - 0s 6ms/step - loss: 0.0146 - mae: 0.0085 - val_loss: 0.0143 - val_mae: 0.0121\n",
      "Epoch 66/200\n",
      "82/82 [==============================] - 1s 6ms/step - loss: 0.0141 - mae: 0.0138 - val_loss: 0.0136 - val_mae: 0.0107\n",
      "Epoch 67/200\n",
      "82/82 [==============================] - 0s 6ms/step - loss: 0.0133 - mae: 0.0111 - val_loss: 0.0131 - val_mae: 0.0139\n",
      "Epoch 68/200\n",
      "82/82 [==============================] - 0s 6ms/step - loss: 0.0127 - mae: 0.0113 - val_loss: 0.0176 - val_mae: 0.0468\n",
      "Epoch 69/200\n",
      "82/82 [==============================] - 0s 6ms/step - loss: 0.0123 - mae: 0.0143 - val_loss: 0.0116 - val_mae: 0.0053\n",
      "Epoch 70/200\n",
      "82/82 [==============================] - 0s 6ms/step - loss: 0.0114 - mae: 0.0085 - val_loss: 0.0111 - val_mae: 0.0112\n",
      "Epoch 71/200\n",
      "82/82 [==============================] - 0s 5ms/step - loss: 0.0109 - mae: 0.0099 - val_loss: 0.0120 - val_mae: 0.0250\n",
      "Epoch 72/200\n",
      "82/82 [==============================] - 0s 5ms/step - loss: 0.0105 - mae: 0.0138 - val_loss: 0.0103 - val_mae: 0.0167\n",
      "Epoch 73/200\n",
      "82/82 [==============================] - 0s 6ms/step - loss: 0.0098 - mae: 0.0089 - val_loss: 0.0096 - val_mae: 0.0088\n",
      "Epoch 74/200\n",
      "82/82 [==============================] - 0s 6ms/step - loss: 0.0094 - mae: 0.0105 - val_loss: 0.0091 - val_mae: 0.0055\n",
      "Epoch 75/200\n",
      "82/82 [==============================] - 0s 6ms/step - loss: 0.0092 - mae: 0.0148 - val_loss: 0.0089 - val_mae: 0.0127\n",
      "Epoch 76/200\n",
      "82/82 [==============================] - 0s 6ms/step - loss: 0.0085 - mae: 0.0075 - val_loss: 0.0082 - val_mae: 0.0068\n",
      "Epoch 77/200\n",
      "82/82 [==============================] - 1s 6ms/step - loss: 0.0081 - mae: 0.0077 - val_loss: 0.0090 - val_mae: 0.0273\n",
      "Epoch 78/200\n",
      "82/82 [==============================] - 0s 6ms/step - loss: 0.0079 - mae: 0.0120 - val_loss: 0.0077 - val_mae: 0.0133\n",
      "Epoch 79/200\n",
      "82/82 [==============================] - 0s 5ms/step - loss: 0.0075 - mae: 0.0113 - val_loss: 0.0071 - val_mae: 0.0057\n",
      "Epoch 80/200\n",
      "82/82 [==============================] - 0s 5ms/step - loss: 0.0072 - mae: 0.0110 - val_loss: 0.0092 - val_mae: 0.0371\n",
      "Epoch 81/200\n",
      "82/82 [==============================] - 0s 6ms/step - loss: 0.0070 - mae: 0.0124 - val_loss: 0.0067 - val_mae: 0.0105\n",
      "Epoch 82/200\n",
      "82/82 [==============================] - 0s 6ms/step - loss: 0.0065 - mae: 0.0079 - val_loss: 0.0109 - val_mae: 0.0403\n",
      "Epoch 83/200\n",
      "82/82 [==============================] - 0s 5ms/step - loss: 0.0067 - mae: 0.0154 - val_loss: 0.0062 - val_mae: 0.0127\n",
      "Epoch 84/200\n",
      "82/82 [==============================] - 0s 5ms/step - loss: 0.0059 - mae: 0.0075 - val_loss: 0.0058 - val_mae: 0.0056\n",
      "Epoch 85/200\n",
      "82/82 [==============================] - 0s 5ms/step - loss: 0.0057 - mae: 0.0074 - val_loss: 0.0056 - val_mae: 0.0070\n",
      "Epoch 86/200\n",
      "82/82 [==============================] - 0s 5ms/step - loss: 0.0055 - mae: 0.0100 - val_loss: 0.0058 - val_mae: 0.0189\n",
      "Epoch 87/200\n",
      "82/82 [==============================] - 0s 5ms/step - loss: 0.0053 - mae: 0.0090 - val_loss: 0.0052 - val_mae: 0.0095\n",
      "Epoch 88/200\n",
      "82/82 [==============================] - 0s 5ms/step - loss: 0.0051 - mae: 0.0090 - val_loss: 0.0050 - val_mae: 0.0114\n",
      "Epoch 89/200\n",
      "82/82 [==============================] - 0s 5ms/step - loss: 0.0051 - mae: 0.0137 - val_loss: 0.0052 - val_mae: 0.0158\n",
      "Epoch 90/200\n",
      "82/82 [==============================] - 0s 6ms/step - loss: 0.0047 - mae: 0.0092 - val_loss: 0.0046 - val_mae: 0.0078\n",
      "Epoch 91/200\n",
      "82/82 [==============================] - 0s 5ms/step - loss: 0.0045 - mae: 0.0072 - val_loss: 0.0070 - val_mae: 0.0373\n",
      "Epoch 92/200\n",
      "82/82 [==============================] - 0s 5ms/step - loss: 0.0050 - mae: 0.0184 - val_loss: 0.0056 - val_mae: 0.0222\n",
      "Epoch 93/200\n",
      "82/82 [==============================] - 0s 5ms/step - loss: 0.0044 - mae: 0.0128 - val_loss: 0.0042 - val_mae: 0.0076\n",
      "Epoch 94/200\n",
      "82/82 [==============================] - 0s 5ms/step - loss: 0.0040 - mae: 0.0061 - val_loss: 0.0041 - val_mae: 0.0105\n",
      "Epoch 95/200\n",
      "82/82 [==============================] - 0s 5ms/step - loss: 0.0040 - mae: 0.0076 - val_loss: 0.0039 - val_mae: 0.0066\n",
      "Epoch 96/200\n",
      "82/82 [==============================] - 0s 5ms/step - loss: 0.0039 - mae: 0.0100 - val_loss: 0.0038 - val_mae: 0.0096\n",
      "Epoch 97/200\n",
      "82/82 [==============================] - 0s 5ms/step - loss: 0.0038 - mae: 0.0091 - val_loss: 0.0044 - val_mae: 0.0199\n",
      "Epoch 98/200\n",
      "82/82 [==============================] - 0s 5ms/step - loss: 0.0037 - mae: 0.0094 - val_loss: 0.0036 - val_mae: 0.0078\n",
      "Epoch 99/200\n",
      "82/82 [==============================] - 0s 6ms/step - loss: 0.0035 - mae: 0.0083 - val_loss: 0.0047 - val_mae: 0.0229\n",
      "Epoch 100/200\n",
      "82/82 [==============================] - 0s 5ms/step - loss: 0.0037 - mae: 0.0141 - val_loss: 0.0053 - val_mae: 0.0282\n",
      "Epoch 101/200\n",
      "82/82 [==============================] - 0s 5ms/step - loss: 0.0038 - mae: 0.0156 - val_loss: 0.0034 - val_mae: 0.0105\n",
      "Epoch 102/200\n",
      "82/82 [==============================] - 0s 5ms/step - loss: 0.0032 - mae: 0.0068 - val_loss: 0.0032 - val_mae: 0.0084\n",
      "Epoch 103/200\n",
      "82/82 [==============================] - 0s 5ms/step - loss: 0.0032 - mae: 0.0091 - val_loss: 0.0033 - val_mae: 0.0126\n",
      "Epoch 104/200\n",
      "82/82 [==============================] - 0s 5ms/step - loss: 0.0031 - mae: 0.0089 - val_loss: 0.0032 - val_mae: 0.0098\n",
      "Epoch 105/200\n",
      "82/82 [==============================] - 0s 5ms/step - loss: 0.0030 - mae: 0.0076 - val_loss: 0.0029 - val_mae: 0.0045\n",
      "Epoch 106/200\n",
      "82/82 [==============================] - 0s 5ms/step - loss: 0.0032 - mae: 0.0127 - val_loss: 0.0043 - val_mae: 0.0256\n",
      "Epoch 107/200\n",
      "82/82 [==============================] - 0s 5ms/step - loss: 0.0032 - mae: 0.0129 - val_loss: 0.0029 - val_mae: 0.0080\n",
      "Epoch 108/200\n",
      "82/82 [==============================] - 0s 5ms/step - loss: 0.0030 - mae: 0.0113 - val_loss: 0.0055 - val_mae: 0.0325\n",
      "Epoch 109/200\n",
      "82/82 [==============================] - 0s 5ms/step - loss: 0.0032 - mae: 0.0148 - val_loss: 0.0027 - val_mae: 0.0053\n",
      "Epoch 110/200\n",
      "82/82 [==============================] - 0s 5ms/step - loss: 0.0028 - mae: 0.0083 - val_loss: 0.0030 - val_mae: 0.0163\n",
      "Epoch 111/200\n",
      "82/82 [==============================] - 0s 5ms/step - loss: 0.0027 - mae: 0.0078 - val_loss: 0.0028 - val_mae: 0.0120\n",
      "Epoch 112/200\n",
      "82/82 [==============================] - 0s 5ms/step - loss: 0.0027 - mae: 0.0084 - val_loss: 0.0026 - val_mae: 0.0070\n",
      "Epoch 113/200\n",
      "82/82 [==============================] - 0s 5ms/step - loss: 0.0027 - mae: 0.0105 - val_loss: 0.0034 - val_mae: 0.0207\n",
      "Epoch 114/200\n",
      "82/82 [==============================] - 0s 5ms/step - loss: 0.0028 - mae: 0.0114 - val_loss: 0.0025 - val_mae: 0.0068\n",
      "Epoch 115/200\n",
      "82/82 [==============================] - 0s 5ms/step - loss: 0.0026 - mae: 0.0091 - val_loss: 0.0046 - val_mae: 0.0301\n",
      "Epoch 116/200\n",
      "82/82 [==============================] - 0s 5ms/step - loss: 0.0026 - mae: 0.0101 - val_loss: 0.0029 - val_mae: 0.0172\n",
      "Epoch 117/200\n",
      "82/82 [==============================] - 0s 5ms/step - loss: 0.0027 - mae: 0.0139 - val_loss: 0.0027 - val_mae: 0.0143\n",
      "Epoch 118/200\n",
      "82/82 [==============================] - 0s 6ms/step - loss: 0.0025 - mae: 0.0095 - val_loss: 0.0027 - val_mae: 0.0154\n",
      "Epoch 119/200\n",
      "82/82 [==============================] - 0s 6ms/step - loss: 0.0025 - mae: 0.0098 - val_loss: 0.0033 - val_mae: 0.0296\n",
      "Epoch 120/200\n",
      "82/82 [==============================] - 0s 6ms/step - loss: 0.0024 - mae: 0.0083 - val_loss: 0.0024 - val_mae: 0.0067\n",
      "Epoch 121/200\n",
      "82/82 [==============================] - 0s 5ms/step - loss: 0.0026 - mae: 0.0142 - val_loss: 0.0025 - val_mae: 0.0142\n",
      "Epoch 122/200\n",
      "82/82 [==============================] - 0s 5ms/step - loss: 0.0025 - mae: 0.0105 - val_loss: 0.0038 - val_mae: 0.0331\n",
      "Epoch 123/200\n",
      "82/82 [==============================] - 0s 5ms/step - loss: 0.0024 - mae: 0.0110 - val_loss: 0.0028 - val_mae: 0.0191\n",
      "Epoch 124/200\n",
      "82/82 [==============================] - 0s 5ms/step - loss: 0.0023 - mae: 0.0096 - val_loss: 0.0034 - val_mae: 0.0254\n",
      "Epoch 125/200\n",
      "82/82 [==============================] - 0s 5ms/step - loss: 0.0024 - mae: 0.0092 - val_loss: 0.0035 - val_mae: 0.0222\n",
      "Epoch 126/200\n",
      "82/82 [==============================] - 0s 6ms/step - loss: 0.0024 - mae: 0.0109 - val_loss: 0.0022 - val_mae: 0.0060\n",
      "Epoch 127/200\n",
      "82/82 [==============================] - 0s 5ms/step - loss: 0.0023 - mae: 0.0097 - val_loss: 0.0024 - val_mae: 0.0130\n",
      "Epoch 128/200\n",
      "82/82 [==============================] - 0s 5ms/step - loss: 0.0023 - mae: 0.0092 - val_loss: 0.0025 - val_mae: 0.0137\n",
      "Epoch 129/200\n",
      "82/82 [==============================] - 0s 6ms/step - loss: 0.0022 - mae: 0.0077 - val_loss: 0.0023 - val_mae: 0.0125\n",
      "Epoch 130/200\n",
      "82/82 [==============================] - 0s 5ms/step - loss: 0.0023 - mae: 0.0120 - val_loss: 0.0034 - val_mae: 0.0308\n",
      "Epoch 131/200\n",
      "82/82 [==============================] - 0s 5ms/step - loss: 0.0024 - mae: 0.0139 - val_loss: 0.0021 - val_mae: 0.0056\n",
      "Epoch 132/200\n",
      "82/82 [==============================] - 0s 5ms/step - loss: 0.0022 - mae: 0.0086 - val_loss: 0.0026 - val_mae: 0.0179\n",
      "Epoch 133/200\n",
      "82/82 [==============================] - 0s 5ms/step - loss: 0.0025 - mae: 0.0158 - val_loss: 0.0041 - val_mae: 0.0359\n",
      "Epoch 134/200\n",
      "82/82 [==============================] - 0s 5ms/step - loss: 0.0024 - mae: 0.0115 - val_loss: 0.0021 - val_mae: 0.0054\n",
      "Epoch 135/200\n",
      "82/82 [==============================] - 0s 5ms/step - loss: 0.0021 - mae: 0.0067 - val_loss: 0.0022 - val_mae: 0.0109\n",
      "Epoch 136/200\n",
      "82/82 [==============================] - 0s 5ms/step - loss: 0.0022 - mae: 0.0108 - val_loss: 0.0021 - val_mae: 0.0081\n",
      "Epoch 137/200\n",
      "82/82 [==============================] - 0s 5ms/step - loss: 0.0021 - mae: 0.0067 - val_loss: 0.0027 - val_mae: 0.0225\n",
      "Epoch 138/200\n",
      "82/82 [==============================] - 0s 5ms/step - loss: 0.0021 - mae: 0.0075 - val_loss: 0.0020 - val_mae: 0.0051\n",
      "Epoch 139/200\n",
      "82/82 [==============================] - 0s 5ms/step - loss: 0.0021 - mae: 0.0088 - val_loss: 0.0021 - val_mae: 0.0103\n",
      "Epoch 140/200\n",
      "82/82 [==============================] - 0s 6ms/step - loss: 0.0021 - mae: 0.0093 - val_loss: 0.0022 - val_mae: 0.0130\n",
      "Epoch 141/200\n",
      "82/82 [==============================] - 0s 5ms/step - loss: 0.0021 - mae: 0.0088 - val_loss: 0.0025 - val_mae: 0.0208\n",
      "Epoch 142/200\n",
      "78/82 [===========================>..] - ETA: 0s - loss: 0.0021 - mae: 0.0112Restoring model weights from the end of the best epoch: 137.\n",
      "82/82 [==============================] - 0s 5ms/step - loss: 0.0021 - mae: 0.0111 - val_loss: 0.0023 - val_mae: 0.0165\n",
      "Epoch 142: early stopping\n"
     ]
    }
   ],
   "source": [
    "# Netzwerkarchitektur\n",
    "model = Sequential([\n",
    "    # Eingabeschicht\n",
    "    Dense(384, activation='relu', input_shape=(2,), kernel_initializer='he_uniform', kernel_regularizer=l2(0.0001)),\n",
    "    \n",
    "    Dense(384, activation='relu', kernel_initializer='he_uniform', kernel_regularizer=l2(0.0001)),\n",
    "    Dense(160, activation='relu', kernel_initializer='he_uniform', kernel_regularizer=l2(0.0001)),\n",
    "    Dense(128, activation='relu', kernel_initializer='he_uniform', kernel_regularizer=l2(0.0001)),\n",
    "          \n",
    "    Dense(384, activation='relu', kernel_initializer='he_uniform', kernel_regularizer=l2(0.0001)),\n",
    "          \n",
    "    Dense(192, activation='relu', kernel_initializer='he_uniform', kernel_regularizer=l2(0.0001)),\n",
    "    #Dropout(0.01),\n",
    "    # Versteckte Schicht\n",
    "    Dense(32, activation='relu', kernel_initializer='he_uniform', kernel_regularizer=l2(0.0001)),\n",
    "    Dense(448, activation='relu', kernel_initializer='he_uniform', kernel_regularizer=l2(0.0001)),\n",
    "    Dense(64, activation='relu', kernel_initializer='he_uniform', kernel_regularizer=l2(0.0001)),\n",
    "    #Dropout(0.01),\n",
    "    # Ausgabeschicht für Regression (1 Einheit ohne Aktivierungsfunktion)\n",
    "    Dense(1 , activation = 'linear')\n",
    "])\n",
    "\n",
    "# Optimierer\n",
    "optimizer = tf.keras.optimizers.Adam(learning_rate=0.001)\n",
    "\n",
    "# Modell kompilieren (Verwendung von mean_squared_error als Verlustfunktion für Regression)\n",
    "model.compile(optimizer=optimizer,\n",
    "              loss='mean_squared_error',\n",
    "              metrics=['mae'])  # Metriken für Regression: Mean Absolute Error und Mean Squared Error\n",
    "\n",
    "# Early Stopping Callback\n",
    "early_stopping = EarlyStopping(monitor='loss', patience=5, verbose=1, mode='min', restore_best_weights=True)\n",
    "\n",
    "# Trainingsparameter\n",
    "batch_size = 200\n",
    "epochs = 200\n",
    "\n",
    "# Modell trainieren (Annahme: X_train, y_train, X_val, y_val sind vordefiniert)\n",
    "history = model.fit(X_train_scaled, y_train_scaled,\n",
    "                    batch_size=batch_size,\n",
    "                    epochs=epochs,\n",
    "                    validation_split=0.2,\n",
    "                    callbacks=[early_stopping])"
   ],
   "metadata": {
    "collapsed": false,
    "ExecuteTime": {
     "end_time": "2024-02-28T12:03:46.176013500Z",
     "start_time": "2024-02-28T12:02:37.795750100Z"
    }
   },
   "id": "8b52e1a9a6ff3aeb"
  },
  {
   "cell_type": "code",
   "execution_count": 48,
   "outputs": [
    {
     "data": {
      "text/plain": "<Figure size 1000x600 with 1 Axes>",
      "image/png": "[encoded data removed]"
     },
     "metadata": {},
     "output_type": "display_data"
    }
   ],
   "source": [
    "mae = history.history['loss']\n",
    "val_mae = history.history['val_loss']\n",
    "\n",
    "epochs = range(1, len(mae) + 1)\n",
    "\n",
    "# MAE Diagramm\n",
    "plt.figure(figsize=(10, 6))\n",
    "plt.plot(epochs, mae, 'r', label='Training MSE')\n",
    "plt.plot(epochs, val_mae, 'b', label='Validation MSE')\n",
    "plt.title('Training and Validation MAE')\n",
    "plt.xlabel('Epochs')\n",
    "plt.ylabel('MAE')\n",
    "plt.legend()\n",
    "\n",
    "plt.show()"
   ],
   "metadata": {
    "collapsed": false,
    "ExecuteTime": {
     "end_time": "2024-02-28T12:04:00.502029200Z",
     "start_time": "2024-02-28T12:04:00.346389400Z"
    }
   },
   "id": "3688dd7102e95baf"
  },
  {
   "cell_type": "code",
   "execution_count": 49,
   "id": "9f6f672a",
   "metadata": {
    "ExecuteTime": {
     "end_time": "2024-02-28T12:04:04.337042900Z",
     "start_time": "2024-02-28T12:04:03.982678700Z"
    }
   },
   "outputs": [
    {
     "name": "stdout",
     "output_type": "stream",
     "text": [
      " Bsp. Predicted: [771.708] Actual: [783.15] \n",
      "Durchschnittliche Abweichung (MAE): [9.98876471]\n"
     ]
    }
   ],
   "source": [
    "scaled_predicted_values = model.predict(X_test_scaled, verbose = 0)\n",
    "\n",
    "# Führen Sie die Rücktransformation der skalierten Werte durch\n",
    "original_predicted_values = scaler_target.inverse_transform(scaled_predicted_values)\n",
    "original_actual_values = scaler_target.inverse_transform(y_test_scaled)  # y_test sind die skalierten tatsächlichen Werte\n",
    "print(f' Bsp. Predicted: {original_predicted_values[100]} Actual: {original_actual_values[100]} ')\n",
    "\n",
    "def calculate_mae(list1, list2):\n",
    "    # Stelle sicher, dass beide Listen die gleiche Länge haben\n",
    "    if len(list1) != len(list2):\n",
    "        raise ValueError(\"Listen müssen die gleiche Länge haben\")\n",
    "    \n",
    "    # Berechne die absolute Differenz zwischen den Elementen der Listen\n",
    "    differences = [abs(x - y) for x, y in zip(list1, list2)]\n",
    "    \n",
    "    # Berechne den Durchschnitt der absoluten Differenzen\n",
    "    mae = sum(differences) / len(differences)\n",
    "    \n",
    "    return mae\n",
    "\n",
    "# Beispiel\n",
    "list1 = original_predicted_values\n",
    "list2 = original_actual_values\n",
    "\n",
    "mae = calculate_mae(list1, list2)\n",
    "print(f\"Durchschnittliche Abweichung (MAE): {mae}\")"
   ]
  },
  {
   "cell_type": "code",
   "execution_count": 51,
   "outputs": [
    {
     "name": "stdout",
     "output_type": "stream",
     "text": [
      "Anzahl der Werte die kleiner sind: 3294\n"
     ]
    },
    {
     "data": {
      "text/plain": "            Echt  Vorhergesagt  X-Koordinate  Y-Koordinate  Differenz\n4855  564.201843        628.54         1.000         0.940 -64.338157\n2316  580.914368        642.22         0.992         0.930 -61.305632\n4353  588.088989        642.43         0.976         0.925 -54.341011\n2187  605.578735        657.61         0.976         0.915 -52.031265\n731   578.552612        629.54         0.968         0.930 -50.987388\n...          ...           ...           ...           ...        ...\n4193  579.494324        565.49         0.904         0.005  14.004324\n2686  581.568848        566.78         0.952         0.000  14.788848\n2746  563.330322        546.15         0.856         0.000  17.180322\n1499  575.466553        557.34         0.920         0.000  18.126553\n1631  569.391907        550.60         0.888         0.000  18.791907\n\n[5066 rows x 5 columns]",
      "text/html": "<div>\n<style scoped>\n    .dataframe tbody tr th:only-of-type {\n        vertical-align: middle;\n    }\n\n    .dataframe tbody tr th {\n        vertical-align: top;\n    }\n\n    .dataframe thead th {\n        text-align: right;\n    }\n</style>\n<table border=\"1\" class=\"dataframe\">\n  <thead>\n    <tr style=\"text-align: right;\">\n      <th></th>\n      <th>Echt</th>\n      <th>Vorhergesagt</th>\n      <th>X-Koordinate</th>\n      <th>Y-Koordinate</th>\n      <th>Differenz</th>\n    </tr>\n  </thead>\n  <tbody>\n    <tr>\n      <th>4855</th>\n      <td>564.201843</td>\n      <td>628.54</td>\n      <td>1.000</td>\n      <td>0.940</td>\n      <td>-64.338157</td>\n    </tr>\n    <tr>\n      <th>2316</th>\n      <td>580.914368</td>\n      <td>642.22</td>\n      <td>0.992</td>\n      <td>0.930</td>\n      <td>-61.305632</td>\n    </tr>\n    <tr>\n      <th>4353</th>\n      <td>588.088989</td>\n      <td>642.43</td>\n      <td>0.976</td>\n      <td>0.925</td>\n      <td>-54.341011</td>\n    </tr>\n    <tr>\n      <th>2187</th>\n      <td>605.578735</td>\n      <td>657.61</td>\n      <td>0.976</td>\n      <td>0.915</td>\n      <td>-52.031265</td>\n    </tr>\n    <tr>\n      <th>731</th>\n      <td>578.552612</td>\n      <td>629.54</td>\n      <td>0.968</td>\n      <td>0.930</td>\n      <td>-50.987388</td>\n    </tr>\n    <tr>\n      <th>...</th>\n      <td>...</td>\n      <td>...</td>\n      <td>...</td>\n      <td>...</td>\n      <td>...</td>\n    </tr>\n    <tr>\n      <th>4193</th>\n      <td>579.494324</td>\n      <td>565.49</td>\n      <td>0.904</td>\n      <td>0.005</td>\n      <td>14.004324</td>\n    </tr>\n    <tr>\n      <th>2686</th>\n      <td>581.568848</td>\n      <td>566.78</td>\n      <td>0.952</td>\n      <td>0.000</td>\n      <td>14.788848</td>\n    </tr>\n    <tr>\n      <th>2746</th>\n      <td>563.330322</td>\n      <td>546.15</td>\n      <td>0.856</td>\n      <td>0.000</td>\n      <td>17.180322</td>\n    </tr>\n    <tr>\n      <th>1499</th>\n      <td>575.466553</td>\n      <td>557.34</td>\n      <td>0.920</td>\n      <td>0.000</td>\n      <td>18.126553</td>\n    </tr>\n    <tr>\n      <th>1631</th>\n      <td>569.391907</td>\n      <td>550.60</td>\n      <td>0.888</td>\n      <td>0.000</td>\n      <td>18.791907</td>\n    </tr>\n  </tbody>\n</table>\n<p>5066 rows × 5 columns</p>\n</div>"
     },
     "execution_count": 51,
     "metadata": {},
     "output_type": "execute_result"
    }
   ],
   "source": [
    "df_result = pd.DataFrame({'Echt': [val[0] for val in list1], 'Vorhergesagt': [val[0] for val in list2]})\n",
    "df_result['X-Koordinate'] = X_test_scaled[:, 0]\n",
    "df_result['Y-Koordinate'] = X_test_scaled[:, 1]\n",
    "\n",
    "df_result['Differenz'] = df_result['Echt'] - df_result['Vorhergesagt']\n",
    "df_result['Differenz'].sort_values()\n",
    "sorted_df = df_result.sort_values(by= 'Differenz')\n",
    "Anzahl_Punkte = (sorted_df['Differenz'] > -10).sum()\n",
    "print(\"Anzahl der Werte die kleiner sind:\", Anzahl_Punkte)\n",
    " \n",
    "sorted_df"
   ],
   "metadata": {
    "collapsed": false,
    "ExecuteTime": {
     "end_time": "2024-02-28T12:08:00.962372500Z",
     "start_time": "2024-02-28T12:08:00.917313600Z"
    }
   },
   "id": "6a9d8a95f5e95b9"
  },
  {
   "cell_type": "markdown",
   "id": "553df6fa",
   "metadata": {},
   "source": [
    "# GridSearch"
   ]
  },
  {
   "cell_type": "code",
   "execution_count": 43,
   "id": "1dca80c2",
   "metadata": {
    "ExecuteTime": {
     "end_time": "2024-02-28T11:58:31.817979200Z",
     "start_time": "2024-02-28T11:12:40.380336800Z"
    }
   },
   "outputs": [
    {
     "name": "stdout",
     "output_type": "stream",
     "text": [
      "Fitting 3 folds for each of 72 candidates, totalling 216 fits\n",
      "WARNING:tensorflow:From C:\\Users\\erikm\\Desktop\\Diplomarbeit Erik Marr\\Projekt X\\venv\\Lib\\site-packages\\keras\\src\\backend.py:873: The name tf.get_default_graph is deprecated. Please use tf.compat.v1.get_default_graph instead.\n",
      "Epoch 1/30\n",
      "WARNING:tensorflow:From C:\\Users\\erikm\\Desktop\\Diplomarbeit Erik Marr\\Projekt X\\venv\\Lib\\site-packages\\keras\\src\\utils\\tf_utils.py:492: The name tf.ragged.RaggedTensorValue is deprecated. Please use tf.compat.v1.ragged.RaggedTensorValue instead.\n",
      "WARNING:tensorflow:From C:\\Users\\erikm\\Desktop\\Diplomarbeit Erik Marr\\Projekt X\\venv\\Lib\\site-packages\\keras\\src\\engine\\base_layer_utils.py:384: The name tf.executing_eagerly_outside_functions is deprecated. Please use tf.compat.v1.executing_eagerly_outside_functions instead.\n",
      "102/102 - 3s - loss: 0.4652 - mae: 0.2446 - 3s/epoch - 30ms/step\n",
      "Epoch 2/30\n",
      "102/102 - 1s - loss: 0.2784 - mae: 0.0538 - 570ms/epoch - 6ms/step\n",
      "Epoch 3/30\n",
      "102/102 - 1s - loss: 0.2441 - mae: 0.0222 - 527ms/epoch - 5ms/step\n",
      "Epoch 4/30\n",
      "102/102 - 1s - loss: 0.2247 - mae: 0.0175 - 559ms/epoch - 5ms/step\n",
      "Epoch 5/30\n",
      "102/102 - 1s - loss: 0.2099 - mae: 0.0204 - 602ms/epoch - 6ms/step\n",
      "Epoch 6/30\n",
      "102/102 - 1s - loss: 0.1965 - mae: 0.0128 - 1s/epoch - 13ms/step\n",
      "Epoch 7/30\n",
      "102/102 - 0s - loss: 0.1857 - mae: 0.0179 - 471ms/epoch - 5ms/step\n",
      "Epoch 8/30\n",
      "102/102 - 1s - loss: 0.1754 - mae: 0.0145 - 506ms/epoch - 5ms/step\n",
      "Epoch 9/30\n",
      "102/102 - 1s - loss: 0.1658 - mae: 0.0117 - 514ms/epoch - 5ms/step\n",
      "Epoch 10/30\n",
      "102/102 - 0s - loss: 0.1574 - mae: 0.0126 - 475ms/epoch - 5ms/step\n",
      "Epoch 11/30\n",
      "102/102 - 0s - loss: 0.1500 - mae: 0.0182 - 479ms/epoch - 5ms/step\n",
      "Epoch 12/30\n",
      "102/102 - 0s - loss: 0.1420 - mae: 0.0120 - 456ms/epoch - 4ms/step\n",
      "Epoch 13/30\n",
      "102/102 - 0s - loss: 0.1350 - mae: 0.0120 - 498ms/epoch - 5ms/step\n",
      "Epoch 14/30\n",
      "102/102 - 1s - loss: 0.1284 - mae: 0.0104 - 526ms/epoch - 5ms/step\n",
      "Epoch 15/30\n",
      "102/102 - 0s - loss: 0.1225 - mae: 0.0147 - 496ms/epoch - 5ms/step\n",
      "Epoch 16/30\n",
      "102/102 - 0s - loss: 0.1165 - mae: 0.0131 - 479ms/epoch - 5ms/step\n",
      "Epoch 17/30\n",
      "102/102 - 1s - loss: 0.1112 - mae: 0.0151 - 524ms/epoch - 5ms/step\n",
      "Epoch 18/30\n",
      "102/102 - 0s - loss: 0.1056 - mae: 0.0116 - 497ms/epoch - 5ms/step\n",
      "Epoch 19/30\n",
      "102/102 - 1s - loss: 0.1011 - mae: 0.0158 - 504ms/epoch - 5ms/step\n",
      "Epoch 20/30\n",
      "102/102 - 0s - loss: 0.0959 - mae: 0.0109 - 465ms/epoch - 5ms/step\n",
      "Epoch 21/30\n",
      "102/102 - 0s - loss: 0.0913 - mae: 0.0102 - 460ms/epoch - 5ms/step\n",
      "Epoch 22/30\n",
      "102/102 - 0s - loss: 0.0869 - mae: 0.0089 - 478ms/epoch - 5ms/step\n",
      "Epoch 23/30\n",
      "102/102 - 0s - loss: 0.0830 - mae: 0.0117 - 460ms/epoch - 5ms/step\n",
      "Epoch 24/30\n",
      "102/102 - 0s - loss: 0.0790 - mae: 0.0135 - 465ms/epoch - 5ms/step\n",
      "Epoch 25/30\n",
      "102/102 - 0s - loss: 0.0750 - mae: 0.0092 - 484ms/epoch - 5ms/step\n",
      "Epoch 26/30\n",
      "102/102 - 0s - loss: 0.0713 - mae: 0.0091 - 472ms/epoch - 5ms/step\n",
      "Epoch 27/30\n",
      "102/102 - 0s - loss: 0.0678 - mae: 0.0099 - 472ms/epoch - 5ms/step\n",
      "Epoch 28/30\n",
      "102/102 - 0s - loss: 0.0645 - mae: 0.0103 - 470ms/epoch - 5ms/step\n",
      "Epoch 29/30\n",
      "102/102 - 0s - loss: 0.0613 - mae: 0.0111 - 457ms/epoch - 4ms/step\n",
      "Epoch 30/30\n",
      "102/102 - 1s - loss: 0.0582 - mae: 0.0124 - 522ms/epoch - 5ms/step\n",
      "Beste Parameter: {'fit__batch_size': 200, 'fit__epochs': 30, 'model__dropout_rate': 0.0, 'model__learning_rate': 0.001, 'model__regularization': 0.0001}\n",
      "Beste Genauigkeit: 0.9951036799503673\n"
     ]
    }
   ],
   "source": [
    "def build_model(learning_rate=0.001, activation='relu', regularization=0.0001, dropout_rate=0.0):\n",
    "    model = Sequential()\n",
    "    model.add(Dense(384, activation=activation, input_shape=(2,), kernel_initializer='he_uniform', kernel_regularizer=l2(regularization)))\n",
    "    model.add(Dropout(dropout_rate))\n",
    "\n",
    "    model.add(Dense(384, activation=activation, kernel_initializer='he_uniform', kernel_regularizer=l2(regularization)))\n",
    "    model.add(Dropout(dropout_rate))\n",
    "\n",
    "    model.add(Dense(160, activation=activation, kernel_initializer='he_uniform', kernel_regularizer=l2(regularization)))\n",
    "    model.add(Dropout(dropout_rate))\n",
    "\n",
    "    model.add(Dense(128, activation=activation, kernel_initializer='he_uniform', kernel_regularizer=l2(regularization)))\n",
    "    model.add(Dropout(dropout_rate))\n",
    "\n",
    "    model.add(Dense(384, activation=activation, kernel_initializer='he_uniform', kernel_regularizer=l2(regularization)))\n",
    "    model.add(Dropout(dropout_rate))\n",
    "\n",
    "    model.add(Dense(192, activation=activation, kernel_initializer='he_uniform', kernel_regularizer=l2(regularization)))\n",
    "    model.add(Dropout(dropout_rate))\n",
    "    \n",
    "    model.add(Dense(32, activation=activation, kernel_initializer='he_uniform', kernel_regularizer=l2(regularization)))\n",
    "    model.add(Dropout(dropout_rate))\n",
    "    \n",
    "    model.add(Dense(448, activation=activation, kernel_initializer='he_uniform', kernel_regularizer=l2(regularization)))\n",
    "    model.add(Dropout(dropout_rate))    \n",
    "    \n",
    "    model.add(Dense(64, activation=activation, kernel_initializer='he_uniform', kernel_regularizer=l2(regularization)))\n",
    "    model.add(Dropout(dropout_rate))\n",
    "    \n",
    "    model.add(Dense(1, activation='linear'))\n",
    "    model.compile(optimizer=Adam(learning_rate=learning_rate), loss='mean_squared_error', metrics=['mae'])\n",
    "    return model\n",
    "\n",
    "# Verwenden Sie eine Funktion, um das Modell zu instanziieren, für scikit-learn Wrapper\n",
    "model = KerasRegressor(model=build_model, verbose=2)\n",
    "\n",
    "# Anpassung der Parameter im param_grid\n",
    "param_grid = {\n",
    "    'model__learning_rate': [0.01, 0.001, 0.0001],\n",
    "    'model__regularization': [0.001, 0.0001],\n",
    "    'fit__batch_size': [50, 100, 200, 500],\n",
    "    'fit__epochs': [30],\n",
    "    'model__dropout_rate' : [0.0, 0.1, 0.2]\n",
    "}\n",
    "\n",
    "grid_search = GridSearchCV(estimator=model, param_grid=param_grid, n_jobs=-1, cv=3, verbose=2)\n",
    "# Hinweis: Stellen Sie sicher, dass Ihre Daten (X_train_scaled, y_train_scaled) korrekt definiert sind\n",
    "grid_result = grid_search.fit(X_train_scaled, y_train_scaled)\n",
    "# Beste Parameter und Score ausgeben\n",
    "print(\"Beste Parameter:\", grid_search.best_params_)\n",
    "print(\"Beste Genauigkeit:\", grid_search.best_score_)\n",
    "\n",
    "with open(\"Gridsearch_D2.txt\", \"w\") as f:\n",
    "    f.write(f\"Beste Parameter: {grid_search.best_params_}\\n\")\n",
    "    f.write(f\"Beste Genauigkeit: {grid_search.best_score_}\")\n"
   ]
  },
  {
   "cell_type": "markdown",
   "source": [
    "# Random Search Architektur"
   ],
   "metadata": {
    "collapsed": false
   },
   "id": "315c4a978449b8a5"
  },
  {
   "cell_type": "code",
   "execution_count": null,
   "outputs": [],
   "source": [
    "# Funktion zum Erstellen des Modells\n",
    "def build_model(hp):\n",
    "    model = Sequential()\n",
    "    model.add(Dense(hp.Int('input_units', min_value=32, max_value=512, step=32), input_shape=(2,), activation='relu'))\n",
    "    for i in range(hp.Int('n_layers', 1, 10)):\n",
    "        model.add(Dense(hp.Int(f'units_{i}', min_value=32, max_value=512, step=32), activation='relu'))\n",
    "    model.add(Dense(1, activation='linear'))\n",
    "    model.compile(optimizer='adam', loss='mean_squared_error')\n",
    "    return model\n",
    "\n",
    "# Durchführung der Random Search dreimal\n",
    "for run in range(1, 4):\n",
    "    # Anpassen des Verzeichnisses und des Projektnamens für jeden Durchlauf\n",
    "    directory = 'random_search'\n",
    "    project_name = f'random_search_D2_{run}'\n",
    "    \n",
    "    tuner = RandomSearch(\n",
    "        build_model,\n",
    "        objective='val_loss',\n",
    "        max_trials=100,\n",
    "        executions_per_trial=1,\n",
    "        directory=directory,\n",
    "        project_name=project_name\n",
    "    )\n",
    "    \n",
    "    # Durchführung des Random Search\n",
    "    tuner.search(X_train_scaled, y_train_scaled, epochs=50, batch_size=200, validation_split=0.2, callbacks=[EarlyStopping(monitor='val_loss', patience=5)])\n",
    "    \n",
    "    # Abrufen und Speichern des besten Modells\n",
    "    best_model = tuner.get_best_models(num_models=1)[0]\n",
    "    model_path = os.path.join(directory, project_name, '.txt')\n",
    "    best_model.save(model_path)\n",
    "    \n",
    "    # Optional: Abrufen und Ausgeben der besten Hyperparameter\n",
    "    best_hyperparameters = tuner.get_best_hyperparameters()[0]\n",
    "    print(f\"Beste Hyperparameter für Lauf {run}: {best_hyperparameters.values}\")"
   ],
   "metadata": {
    "collapsed": false
   },
   "id": "fc6e016b5f7bf997"
  }
 ],
 "metadata": {
  "kernelspec": {
   "display_name": "Python 3 (ipykernel)",
   "language": "python",
   "name": "python3"
  },
  "language_info": {
   "codemirror_mode": {
    "name": "ipython",
    "version": 3
   },
   "file_extension": ".py",
   "mimetype": "text/x-python",
   "name": "python",
   "nbconvert_exporter": "python",
   "pygments_lexer": "ipython3",
   "version": "3.11.4"
  }
 },
 "nbformat": 4,
 "nbformat_minor": 5
}
