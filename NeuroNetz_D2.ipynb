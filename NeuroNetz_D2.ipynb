{
 "cells": [
  {
   "cell_type": "code",
   "execution_count": 1,
   "id": "94b0518e",
   "metadata": {
    "ExecuteTime": {
     "end_time": "2024-02-21T15:16:07.310468300Z",
     "start_time": "2024-02-21T15:16:02.122601Z"
    }
   },
   "outputs": [
    {
     "name": "stdout",
     "output_type": "stream",
     "text": [
      "WARNING:tensorflow:From C:\\Users\\erikm\\Desktop\\Diplomarbeit Erik Marr\\Projekt X\\venv\\Lib\\site-packages\\keras\\src\\losses.py:2976: The name tf.losses.sparse_softmax_cross_entropy is deprecated. Please use tf.compat.v1.losses.sparse_softmax_cross_entropy instead.\n"
     ]
    }
   ],
   "source": [
    "import numpy as np\n",
    "import tensorflow as tf\n",
    "import matplotlib.pyplot as plt\n",
    "import pandas as pd\n",
    "from tensorflow import keras\n",
    "from tensorflow.keras.models import Sequential\n",
    "from tensorflow.keras.layers import Dense\n",
    "from sklearn.model_selection import train_test_split\n",
    "from tensorflow.keras import layers\n",
    "import glob\n",
    "\n",
    "from sklearn.preprocessing import MinMaxScaler, StandardScaler\n",
    "import pandas as pd\n",
    "\n",
    "from tensorflow.keras.models import Sequential\n",
    "from tensorflow.keras.layers import Dense , Dropout\n",
    "from sklearn.model_selection import GridSearchCV\n",
    "from scikeras.wrappers import KerasRegressor, KerasClassifier\n",
    "from tensorflow.keras.regularizers import l2\n",
    "from tensorflow.keras.callbacks import EarlyStopping\n",
    "from tensorflow.keras.optimizers import Adam\n",
    "import autokeras as ak\n"
   ]
  },
  {
   "cell_type": "code",
   "execution_count": 2,
   "id": "e4ff61b1",
   "metadata": {
    "ExecuteTime": {
     "end_time": "2024-02-21T15:16:09.102059600Z",
     "start_time": "2024-02-21T15:16:09.066414800Z"
    }
   },
   "outputs": [
    {
     "data": {
      "text/plain": "       X-Koordinate  Y-Koordinate  Zeitpunkt  Strom  Kraft  Temperatur\n0            0.0000      -0.00200        300   7000   9000      532.25\n1            0.0000      -0.00198        300   7000   9000      540.69\n2            0.0000      -0.00196        300   7000   9000      549.09\n3            0.0000      -0.00194        300   7000   9000      557.38\n4            0.0000      -0.00192        300   7000   9000      565.57\n...             ...           ...        ...    ...    ...         ...\n25321        0.0025       0.00192        300   7000   9000      486.58\n25322        0.0025       0.00194        300   7000   9000      481.54\n25323        0.0025       0.00196        300   7000   9000      477.19\n25324        0.0025       0.00198        300   7000   9000      473.54\n25325        0.0025       0.00200        300   7000   9000      470.57\n\n[25326 rows x 6 columns]",
      "text/html": "<div>\n<style scoped>\n    .dataframe tbody tr th:only-of-type {\n        vertical-align: middle;\n    }\n\n    .dataframe tbody tr th {\n        vertical-align: top;\n    }\n\n    .dataframe thead th {\n        text-align: right;\n    }\n</style>\n<table border=\"1\" class=\"dataframe\">\n  <thead>\n    <tr style=\"text-align: right;\">\n      <th></th>\n      <th>X-Koordinate</th>\n      <th>Y-Koordinate</th>\n      <th>Zeitpunkt</th>\n      <th>Strom</th>\n      <th>Kraft</th>\n      <th>Temperatur</th>\n    </tr>\n  </thead>\n  <tbody>\n    <tr>\n      <th>0</th>\n      <td>0.0000</td>\n      <td>-0.00200</td>\n      <td>300</td>\n      <td>7000</td>\n      <td>9000</td>\n      <td>532.25</td>\n    </tr>\n    <tr>\n      <th>1</th>\n      <td>0.0000</td>\n      <td>-0.00198</td>\n      <td>300</td>\n      <td>7000</td>\n      <td>9000</td>\n      <td>540.69</td>\n    </tr>\n    <tr>\n      <th>2</th>\n      <td>0.0000</td>\n      <td>-0.00196</td>\n      <td>300</td>\n      <td>7000</td>\n      <td>9000</td>\n      <td>549.09</td>\n    </tr>\n    <tr>\n      <th>3</th>\n      <td>0.0000</td>\n      <td>-0.00194</td>\n      <td>300</td>\n      <td>7000</td>\n      <td>9000</td>\n      <td>557.38</td>\n    </tr>\n    <tr>\n      <th>4</th>\n      <td>0.0000</td>\n      <td>-0.00192</td>\n      <td>300</td>\n      <td>7000</td>\n      <td>9000</td>\n      <td>565.57</td>\n    </tr>\n    <tr>\n      <th>...</th>\n      <td>...</td>\n      <td>...</td>\n      <td>...</td>\n      <td>...</td>\n      <td>...</td>\n      <td>...</td>\n    </tr>\n    <tr>\n      <th>25321</th>\n      <td>0.0025</td>\n      <td>0.00192</td>\n      <td>300</td>\n      <td>7000</td>\n      <td>9000</td>\n      <td>486.58</td>\n    </tr>\n    <tr>\n      <th>25322</th>\n      <td>0.0025</td>\n      <td>0.00194</td>\n      <td>300</td>\n      <td>7000</td>\n      <td>9000</td>\n      <td>481.54</td>\n    </tr>\n    <tr>\n      <th>25323</th>\n      <td>0.0025</td>\n      <td>0.00196</td>\n      <td>300</td>\n      <td>7000</td>\n      <td>9000</td>\n      <td>477.19</td>\n    </tr>\n    <tr>\n      <th>25324</th>\n      <td>0.0025</td>\n      <td>0.00198</td>\n      <td>300</td>\n      <td>7000</td>\n      <td>9000</td>\n      <td>473.54</td>\n    </tr>\n    <tr>\n      <th>25325</th>\n      <td>0.0025</td>\n      <td>0.00200</td>\n      <td>300</td>\n      <td>7000</td>\n      <td>9000</td>\n      <td>470.57</td>\n    </tr>\n  </tbody>\n</table>\n<p>25326 rows × 6 columns</p>\n</div>"
     },
     "execution_count": 2,
     "metadata": {},
     "output_type": "execute_result"
    }
   ],
   "source": [
    "#data = pd.read_pickle('C:/Users/erikm/Desktop/Diplomarbeit Erik Marr/Daten/Finish/TPath_300_finish_data.pkl')\n",
    "data = pd.read_pickle('C:/Users/erikm/Desktop/Diplomarbeit Erik Marr/Daten/Finish_D2_I7000_F9000/TPath_300_finish_data_D2.pkl')\n",
    "\n",
    "data"
   ]
  },
  {
   "cell_type": "code",
   "execution_count": 3,
   "id": "966e3c74",
   "metadata": {
    "ExecuteTime": {
     "end_time": "2024-02-21T15:16:09.541636900Z",
     "start_time": "2024-02-21T15:16:09.479759100Z"
    }
   },
   "outputs": [
    {
     "data": {
      "text/plain": "       X-Koordinate  Y-Koordinate  Temperatur\n0            0.0000      -0.00200      532.25\n1            0.0000      -0.00198      540.69\n2            0.0000      -0.00196      549.09\n3            0.0000      -0.00194      557.38\n4            0.0000      -0.00192      565.57\n...             ...           ...         ...\n25321        0.0025       0.00192      486.58\n25322        0.0025       0.00194      481.54\n25323        0.0025       0.00196      477.19\n25324        0.0025       0.00198      473.54\n25325        0.0025       0.00200      470.57\n\n[25326 rows x 3 columns]",
      "text/html": "<div>\n<style scoped>\n    .dataframe tbody tr th:only-of-type {\n        vertical-align: middle;\n    }\n\n    .dataframe tbody tr th {\n        vertical-align: top;\n    }\n\n    .dataframe thead th {\n        text-align: right;\n    }\n</style>\n<table border=\"1\" class=\"dataframe\">\n  <thead>\n    <tr style=\"text-align: right;\">\n      <th></th>\n      <th>X-Koordinate</th>\n      <th>Y-Koordinate</th>\n      <th>Temperatur</th>\n    </tr>\n  </thead>\n  <tbody>\n    <tr>\n      <th>0</th>\n      <td>0.0000</td>\n      <td>-0.00200</td>\n      <td>532.25</td>\n    </tr>\n    <tr>\n      <th>1</th>\n      <td>0.0000</td>\n      <td>-0.00198</td>\n      <td>540.69</td>\n    </tr>\n    <tr>\n      <th>2</th>\n      <td>0.0000</td>\n      <td>-0.00196</td>\n      <td>549.09</td>\n    </tr>\n    <tr>\n      <th>3</th>\n      <td>0.0000</td>\n      <td>-0.00194</td>\n      <td>557.38</td>\n    </tr>\n    <tr>\n      <th>4</th>\n      <td>0.0000</td>\n      <td>-0.00192</td>\n      <td>565.57</td>\n    </tr>\n    <tr>\n      <th>...</th>\n      <td>...</td>\n      <td>...</td>\n      <td>...</td>\n    </tr>\n    <tr>\n      <th>25321</th>\n      <td>0.0025</td>\n      <td>0.00192</td>\n      <td>486.58</td>\n    </tr>\n    <tr>\n      <th>25322</th>\n      <td>0.0025</td>\n      <td>0.00194</td>\n      <td>481.54</td>\n    </tr>\n    <tr>\n      <th>25323</th>\n      <td>0.0025</td>\n      <td>0.00196</td>\n      <td>477.19</td>\n    </tr>\n    <tr>\n      <th>25324</th>\n      <td>0.0025</td>\n      <td>0.00198</td>\n      <td>473.54</td>\n    </tr>\n    <tr>\n      <th>25325</th>\n      <td>0.0025</td>\n      <td>0.00200</td>\n      <td>470.57</td>\n    </tr>\n  </tbody>\n</table>\n<p>25326 rows × 3 columns</p>\n</div>"
     },
     "execution_count": 3,
     "metadata": {},
     "output_type": "execute_result"
    }
   ],
   "source": [
    "df = data.drop(data.columns[2:5], axis = 1)\n",
    "df"
   ]
  },
  {
   "cell_type": "code",
   "execution_count": 4,
   "id": "8783d1d6",
   "metadata": {
    "ExecuteTime": {
     "end_time": "2024-02-21T15:16:09.765528100Z",
     "start_time": "2024-02-21T15:16:09.699497600Z"
    }
   },
   "outputs": [
    {
     "name": "stdout",
     "output_type": "stream",
     "text": [
      "       X-Koordinate  Y-Koordinate  Temperatur\n",
      "5099        0.00050      -0.00052      896.41\n",
      "12799       0.00126       0.00072      836.73\n",
      "15071       0.00148       0.00194      488.76\n",
      "24620       0.00244      -0.00004      747.54\n",
      "11071       0.00110      -0.00168      661.61\n",
      "...             ...           ...         ...\n",
      "21575       0.00214      -0.00064      784.07\n",
      "5390        0.00052       0.00128      728.92\n",
      "860         0.00008      -0.00088      863.65\n",
      "15795       0.00156       0.00034      844.40\n",
      "23654       0.00234       0.00074      753.46\n",
      "\n",
      "[25326 rows x 3 columns]\n"
     ]
    },
    {
     "data": {
      "text/plain": "       X-Koordinate  Y-Koordinate  Temperatur\n0           0.00050      -0.00052      896.41\n1           0.00126       0.00072      836.73\n2           0.00148       0.00194      488.76\n3           0.00244      -0.00004      747.54\n4           0.00110      -0.00168      661.61\n...             ...           ...         ...\n25321       0.00214      -0.00064      784.07\n25322       0.00052       0.00128      728.92\n25323       0.00008      -0.00088      863.65\n25324       0.00156       0.00034      844.40\n25325       0.00234       0.00074      753.46\n\n[25326 rows x 3 columns]",
      "text/html": "<div>\n<style scoped>\n    .dataframe tbody tr th:only-of-type {\n        vertical-align: middle;\n    }\n\n    .dataframe tbody tr th {\n        vertical-align: top;\n    }\n\n    .dataframe thead th {\n        text-align: right;\n    }\n</style>\n<table border=\"1\" class=\"dataframe\">\n  <thead>\n    <tr style=\"text-align: right;\">\n      <th></th>\n      <th>X-Koordinate</th>\n      <th>Y-Koordinate</th>\n      <th>Temperatur</th>\n    </tr>\n  </thead>\n  <tbody>\n    <tr>\n      <th>0</th>\n      <td>0.00050</td>\n      <td>-0.00052</td>\n      <td>896.41</td>\n    </tr>\n    <tr>\n      <th>1</th>\n      <td>0.00126</td>\n      <td>0.00072</td>\n      <td>836.73</td>\n    </tr>\n    <tr>\n      <th>2</th>\n      <td>0.00148</td>\n      <td>0.00194</td>\n      <td>488.76</td>\n    </tr>\n    <tr>\n      <th>3</th>\n      <td>0.00244</td>\n      <td>-0.00004</td>\n      <td>747.54</td>\n    </tr>\n    <tr>\n      <th>4</th>\n      <td>0.00110</td>\n      <td>-0.00168</td>\n      <td>661.61</td>\n    </tr>\n    <tr>\n      <th>...</th>\n      <td>...</td>\n      <td>...</td>\n      <td>...</td>\n    </tr>\n    <tr>\n      <th>25321</th>\n      <td>0.00214</td>\n      <td>-0.00064</td>\n      <td>784.07</td>\n    </tr>\n    <tr>\n      <th>25322</th>\n      <td>0.00052</td>\n      <td>0.00128</td>\n      <td>728.92</td>\n    </tr>\n    <tr>\n      <th>25323</th>\n      <td>0.00008</td>\n      <td>-0.00088</td>\n      <td>863.65</td>\n    </tr>\n    <tr>\n      <th>25324</th>\n      <td>0.00156</td>\n      <td>0.00034</td>\n      <td>844.40</td>\n    </tr>\n    <tr>\n      <th>25325</th>\n      <td>0.00234</td>\n      <td>0.00074</td>\n      <td>753.46</td>\n    </tr>\n  </tbody>\n</table>\n<p>25326 rows × 3 columns</p>\n</div>"
     },
     "execution_count": 4,
     "metadata": {},
     "output_type": "execute_result"
    }
   ],
   "source": [
    "df1 = df.sample(frac=1, random_state=42)  # Hier wird 42 als Random State verwendet, um die Ergebnisse reproduzierbar zu machen\n",
    "\n",
    "print(df1)\n",
    "df_reset = df1.reset_index(drop=True)\n",
    "df_reset"
   ]
  },
  {
   "cell_type": "code",
   "execution_count": 5,
   "id": "a4e72a16",
   "metadata": {
    "ExecuteTime": {
     "end_time": "2024-02-21T15:16:09.888005700Z",
     "start_time": "2024-02-21T15:16:09.851882200Z"
    }
   },
   "outputs": [],
   "source": [
    "label = df_reset[\"Temperatur\"]\n",
    "# Korrektur: Verwenden Sie den Spaltennamen direkt, ohne Indexierung der columns-Eigenschaft\n",
    "df1 = df_reset.drop(\"Temperatur\", axis=1)\n",
    "X = df1\n",
    "y = label\n"
   ]
  },
  {
   "cell_type": "markdown",
   "source": [],
   "metadata": {
    "collapsed": false
   },
   "id": "f7fa289a50d87423"
  },
  {
   "cell_type": "code",
   "execution_count": 6,
   "id": "e694a236",
   "metadata": {
    "ExecuteTime": {
     "end_time": "2024-02-21T15:16:10.161948900Z",
     "start_time": "2024-02-21T15:16:10.150985600Z"
    }
   },
   "outputs": [
    {
     "data": {
      "text/plain": "       X-Koordinate  Y-Koordinate\n0           0.00050      -0.00052\n1           0.00126       0.00072\n2           0.00148       0.00194\n3           0.00244      -0.00004\n4           0.00110      -0.00168\n...             ...           ...\n25321       0.00214      -0.00064\n25322       0.00052       0.00128\n25323       0.00008      -0.00088\n25324       0.00156       0.00034\n25325       0.00234       0.00074\n\n[25326 rows x 2 columns]",
      "text/html": "<div>\n<style scoped>\n    .dataframe tbody tr th:only-of-type {\n        vertical-align: middle;\n    }\n\n    .dataframe tbody tr th {\n        vertical-align: top;\n    }\n\n    .dataframe thead th {\n        text-align: right;\n    }\n</style>\n<table border=\"1\" class=\"dataframe\">\n  <thead>\n    <tr style=\"text-align: right;\">\n      <th></th>\n      <th>X-Koordinate</th>\n      <th>Y-Koordinate</th>\n    </tr>\n  </thead>\n  <tbody>\n    <tr>\n      <th>0</th>\n      <td>0.00050</td>\n      <td>-0.00052</td>\n    </tr>\n    <tr>\n      <th>1</th>\n      <td>0.00126</td>\n      <td>0.00072</td>\n    </tr>\n    <tr>\n      <th>2</th>\n      <td>0.00148</td>\n      <td>0.00194</td>\n    </tr>\n    <tr>\n      <th>3</th>\n      <td>0.00244</td>\n      <td>-0.00004</td>\n    </tr>\n    <tr>\n      <th>4</th>\n      <td>0.00110</td>\n      <td>-0.00168</td>\n    </tr>\n    <tr>\n      <th>...</th>\n      <td>...</td>\n      <td>...</td>\n    </tr>\n    <tr>\n      <th>25321</th>\n      <td>0.00214</td>\n      <td>-0.00064</td>\n    </tr>\n    <tr>\n      <th>25322</th>\n      <td>0.00052</td>\n      <td>0.00128</td>\n    </tr>\n    <tr>\n      <th>25323</th>\n      <td>0.00008</td>\n      <td>-0.00088</td>\n    </tr>\n    <tr>\n      <th>25324</th>\n      <td>0.00156</td>\n      <td>0.00034</td>\n    </tr>\n    <tr>\n      <th>25325</th>\n      <td>0.00234</td>\n      <td>0.00074</td>\n    </tr>\n  </tbody>\n</table>\n<p>25326 rows × 2 columns</p>\n</div>"
     },
     "execution_count": 6,
     "metadata": {},
     "output_type": "execute_result"
    }
   ],
   "source": [
    "X"
   ]
  },
  {
   "cell_type": "code",
   "execution_count": 7,
   "id": "3f3303b4",
   "metadata": {
    "ExecuteTime": {
     "end_time": "2024-02-21T15:16:10.394629900Z",
     "start_time": "2024-02-21T15:16:10.341294200Z"
    }
   },
   "outputs": [
    {
     "data": {
      "text/plain": "0        896.41\n1        836.73\n2        488.76\n3        747.54\n4        661.61\n          ...  \n25321    784.07\n25322    728.92\n25323    863.65\n25324    844.40\n25325    753.46\nName: Temperatur, Length: 25326, dtype: float64"
     },
     "execution_count": 7,
     "metadata": {},
     "output_type": "execute_result"
    }
   ],
   "source": [
    "y"
   ]
  },
  {
   "cell_type": "code",
   "execution_count": 8,
   "id": "e3ad8da0",
   "metadata": {
    "ExecuteTime": {
     "end_time": "2024-02-21T15:16:11.374606600Z",
     "start_time": "2024-02-21T15:16:11.328191500Z"
    }
   },
   "outputs": [],
   "source": [
    " # train_df enthält 80% der Daten, test_df enthält 20% der Daten\n",
    "X_train, X_test, y_train, y_test = train_test_split(X, y, test_size=0.20, random_state=42)\n"
   ]
  },
  {
   "cell_type": "code",
   "execution_count": 9,
   "id": "9c705edb",
   "metadata": {
    "ExecuteTime": {
     "end_time": "2024-02-21T15:16:12.920730700Z",
     "start_time": "2024-02-21T15:16:12.891453600Z"
    }
   },
   "outputs": [],
   "source": [
    "# Initialisiere einen MinMaxScaler für die Features\n",
    "scaler_features = MinMaxScaler()\n",
    "scaler_features2 = MinMaxScaler()\n",
    "# Skaliere X_train und X_test\n",
    "X_train_scaled = scaler_features.fit_transform(X_train)\n",
    "X_test_scaled = scaler_features.transform(X_test)  # Nutze unterschiedliche Skalierungsparameter\n",
    "\n",
    "# Initialisiere einen SEPARATEN MinMaxScaler für das Ziel, wenn nötig\n",
    "scaler_target = MinMaxScaler()\n",
    "\n",
    "\n",
    "# Skaliere y_train und y_test. Beachte, dass y_train.reshape(-1, 1) verwendet wird, da MinMaxScaler \n",
    "# erwartet, dass die Eingaben als 2D-Arrays kommen, und Ziele normalerweise als 1D-Arrays vorliegen.\n",
    "y_train_scaled = scaler_target.fit_transform(y_train.values.reshape(-1, 1))\n",
    "y_test_scaled = scaler_target.transform(y_test.values.reshape(-1, 1))\n"
   ]
  },
  {
   "cell_type": "code",
   "execution_count": 10,
   "id": "bbefe631e495b483",
   "metadata": {
    "ExecuteTime": {
     "end_time": "2024-02-21T15:16:13.919989100Z",
     "start_time": "2024-02-21T15:16:13.911320600Z"
    }
   },
   "outputs": [
    {
     "data": {
      "text/plain": "array([[1.   , 0.15 ],\n       [0.984, 0.49 ],\n       [0.224, 0.905],\n       ...,\n       [0.04 , 0.585],\n       [0.976, 0.815],\n       [0.744, 0.785]])"
     },
     "execution_count": 10,
     "metadata": {},
     "output_type": "execute_result"
    }
   ],
   "source": [
    "X_train_scaled"
   ]
  },
  {
   "cell_type": "code",
   "execution_count": null,
   "id": "a6eccbb7534cd064",
   "metadata": {},
   "outputs": [],
   "source": [
    "# Lernplan erstellen\n",
    "#initial_learning_rate = 0.1\n",
    "#lr_schedule = tf.keras.optimizers.schedules.ExponentialDecay(\n",
    "#    initial_learning_rate, decay_steps=100, decay_rate=0.9, staircase=True)"
   ]
  },
  {
   "cell_type": "markdown",
   "source": [],
   "metadata": {
    "collapsed": false
   },
   "id": "d664797f8dcbd88c"
  },
  {
   "cell_type": "code",
   "execution_count": 14,
   "outputs": [
    {
     "name": "stdout",
     "output_type": "stream",
     "text": [
      "Epoch 1/100\n",
      "WARNING:tensorflow:From C:\\Users\\erikm\\Desktop\\Diplomarbeit Erik Marr\\Projekt X\\venv\\Lib\\site-packages\\keras\\src\\engine\\base_layer_utils.py:384: The name tf.executing_eagerly_outside_functions is deprecated. Please use tf.compat.v1.executing_eagerly_outside_functions instead.\n",
      "325/325 [==============================] - 3s 4ms/step - loss: 0.3484 - mae: 0.1646 - val_loss: 0.2354 - val_mae: 0.0221\n",
      "Epoch 2/100\n",
      "325/325 [==============================] - 1s 3ms/step - loss: 0.2183 - mae: 0.0327 - val_loss: 0.2024 - val_mae: 0.0491\n",
      "Epoch 3/100\n",
      "325/325 [==============================] - 1s 3ms/step - loss: 0.1862 - mae: 0.0159 - val_loss: 0.1733 - val_mae: 0.0137\n",
      "Epoch 4/100\n",
      "325/325 [==============================] - 1s 3ms/step - loss: 0.1627 - mae: 0.0168 - val_loss: 0.1525 - val_mae: 0.0232\n",
      "Epoch 5/100\n",
      "325/325 [==============================] - 1s 3ms/step - loss: 0.1423 - mae: 0.0134 - val_loss: 0.1330 - val_mae: 0.0124\n",
      "Epoch 6/100\n",
      "325/325 [==============================] - 1s 3ms/step - loss: 0.1254 - mae: 0.0191 - val_loss: 0.1165 - val_mae: 0.0102\n",
      "Epoch 7/100\n",
      "325/325 [==============================] - 1s 3ms/step - loss: 0.1096 - mae: 0.0155 - val_loss: 0.1018 - val_mae: 0.0063\n",
      "Epoch 8/100\n",
      "325/325 [==============================] - 1s 4ms/step - loss: 0.0956 - mae: 0.0152 - val_loss: 0.0893 - val_mae: 0.0212\n",
      "Epoch 9/100\n",
      "325/325 [==============================] - 1s 3ms/step - loss: 0.0831 - mae: 0.0156 - val_loss: 0.0784 - val_mae: 0.0351\n",
      "Epoch 10/100\n",
      "325/325 [==============================] - 1s 4ms/step - loss: 0.0713 - mae: 0.0117 - val_loss: 0.0660 - val_mae: 0.0121\n",
      "Epoch 11/100\n",
      "325/325 [==============================] - 1s 4ms/step - loss: 0.0612 - mae: 0.0131 - val_loss: 0.0564 - val_mae: 0.0152\n",
      "Epoch 12/100\n",
      "325/325 [==============================] - 1s 3ms/step - loss: 0.0520 - mae: 0.0143 - val_loss: 0.0475 - val_mae: 0.0113\n",
      "Epoch 13/100\n",
      "325/325 [==============================] - 1s 4ms/step - loss: 0.0439 - mae: 0.0145 - val_loss: 0.0404 - val_mae: 0.0198\n",
      "Epoch 14/100\n",
      "325/325 [==============================] - 1s 4ms/step - loss: 0.0366 - mae: 0.0139 - val_loss: 0.0347 - val_mae: 0.0312\n",
      "Epoch 15/100\n",
      "325/325 [==============================] - 1s 4ms/step - loss: 0.0304 - mae: 0.0126 - val_loss: 0.0276 - val_mae: 0.0150\n",
      "Epoch 16/100\n",
      "325/325 [==============================] - 1s 3ms/step - loss: 0.0252 - mae: 0.0149 - val_loss: 0.0227 - val_mae: 0.0154\n",
      "Epoch 17/100\n",
      "325/325 [==============================] - 1s 3ms/step - loss: 0.0204 - mae: 0.0089 - val_loss: 0.0184 - val_mae: 0.0079\n",
      "Epoch 18/100\n",
      "325/325 [==============================] - 1s 3ms/step - loss: 0.0169 - mae: 0.0133 - val_loss: 0.0151 - val_mae: 0.0115\n",
      "Epoch 19/100\n",
      "325/325 [==============================] - 1s 4ms/step - loss: 0.0137 - mae: 0.0118 - val_loss: 0.0122 - val_mae: 0.0086\n",
      "Epoch 20/100\n",
      "325/325 [==============================] - 1s 3ms/step - loss: 0.0115 - mae: 0.0165 - val_loss: 0.0100 - val_mae: 0.0080\n",
      "Epoch 21/100\n",
      "325/325 [==============================] - 1s 3ms/step - loss: 0.0093 - mae: 0.0130 - val_loss: 0.0086 - val_mae: 0.0161\n",
      "Epoch 22/100\n",
      "325/325 [==============================] - 1s 3ms/step - loss: 0.0077 - mae: 0.0127 - val_loss: 0.0071 - val_mae: 0.0141\n",
      "Epoch 23/100\n",
      "325/325 [==============================] - 1s 3ms/step - loss: 0.0064 - mae: 0.0121 - val_loss: 0.0060 - val_mae: 0.0176\n",
      "Epoch 24/100\n",
      "325/325 [==============================] - 1s 3ms/step - loss: 0.0055 - mae: 0.0130 - val_loss: 0.0060 - val_mae: 0.0220\n",
      "Epoch 25/100\n",
      "325/325 [==============================] - 1s 3ms/step - loss: 0.0046 - mae: 0.0114 - val_loss: 0.0045 - val_mae: 0.0160\n",
      "Epoch 26/100\n",
      "325/325 [==============================] - 1s 3ms/step - loss: 0.0041 - mae: 0.0129 - val_loss: 0.0037 - val_mae: 0.0097\n",
      "Epoch 27/100\n",
      "325/325 [==============================] - 1s 3ms/step - loss: 0.0036 - mae: 0.0116 - val_loss: 0.0034 - val_mae: 0.0115\n",
      "Epoch 28/100\n",
      "325/325 [==============================] - 1s 3ms/step - loss: 0.0033 - mae: 0.0129 - val_loss: 0.0032 - val_mae: 0.0138\n",
      "Epoch 29/100\n",
      "325/325 [==============================] - 1s 3ms/step - loss: 0.0033 - mae: 0.0141 - val_loss: 0.0028 - val_mae: 0.0070\n",
      "Epoch 30/100\n",
      "325/325 [==============================] - 1s 3ms/step - loss: 0.0028 - mae: 0.0112 - val_loss: 0.0030 - val_mae: 0.0135\n",
      "Epoch 31/100\n",
      "325/325 [==============================] - 1s 3ms/step - loss: 0.0026 - mae: 0.0099 - val_loss: 0.0025 - val_mae: 0.0103\n",
      "Epoch 32/100\n",
      "325/325 [==============================] - 1s 3ms/step - loss: 0.0027 - mae: 0.0145 - val_loss: 0.0023 - val_mae: 0.0062\n",
      "Epoch 33/100\n",
      "325/325 [==============================] - 1s 3ms/step - loss: 0.0025 - mae: 0.0122 - val_loss: 0.0038 - val_mae: 0.0352\n",
      "Epoch 34/100\n",
      "325/325 [==============================] - 1s 3ms/step - loss: 0.0023 - mae: 0.0104 - val_loss: 0.0023 - val_mae: 0.0108\n",
      "Epoch 35/100\n",
      "325/325 [==============================] - 1s 3ms/step - loss: 0.0023 - mae: 0.0114 - val_loss: 0.0034 - val_mae: 0.0289\n",
      "Epoch 36/100\n",
      "325/325 [==============================] - 1s 3ms/step - loss: 0.0023 - mae: 0.0118 - val_loss: 0.0024 - val_mae: 0.0158\n",
      "Epoch 37/100\n",
      "325/325 [==============================] - 1s 3ms/step - loss: 0.0021 - mae: 0.0094 - val_loss: 0.0022 - val_mae: 0.0121\n",
      "Epoch 38/100\n",
      "325/325 [==============================] - 1s 3ms/step - loss: 0.0022 - mae: 0.0127 - val_loss: 0.0025 - val_mae: 0.0181\n",
      "Epoch 39/100\n",
      "325/325 [==============================] - 1s 3ms/step - loss: 0.0021 - mae: 0.0101 - val_loss: 0.0019 - val_mae: 0.0062\n",
      "Epoch 40/100\n",
      "325/325 [==============================] - 1s 3ms/step - loss: 0.0021 - mae: 0.0123 - val_loss: 0.0021 - val_mae: 0.0132\n",
      "Epoch 41/100\n",
      "325/325 [==============================] - 1s 3ms/step - loss: 0.0020 - mae: 0.0112 - val_loss: 0.0019 - val_mae: 0.0078\n",
      "Epoch 42/100\n",
      "325/325 [==============================] - 1s 4ms/step - loss: 0.0020 - mae: 0.0110 - val_loss: 0.0019 - val_mae: 0.0115\n",
      "Epoch 43/100\n",
      "325/325 [==============================] - 1s 4ms/step - loss: 0.0020 - mae: 0.0109 - val_loss: 0.0020 - val_mae: 0.0137\n",
      "Epoch 44/100\n",
      "325/325 [==============================] - 1s 4ms/step - loss: 0.0019 - mae: 0.0099 - val_loss: 0.0020 - val_mae: 0.0124\n",
      "Epoch 45/100\n",
      "325/325 [==============================] - 1s 3ms/step - loss: 0.0019 - mae: 0.0094 - val_loss: 0.0020 - val_mae: 0.0132\n",
      "Epoch 46/100\n",
      "325/325 [==============================] - 1s 3ms/step - loss: 0.0019 - mae: 0.0108 - val_loss: 0.0019 - val_mae: 0.0114\n",
      "Epoch 47/100\n",
      "325/325 [==============================] - 1s 3ms/step - loss: 0.0019 - mae: 0.0109 - val_loss: 0.0019 - val_mae: 0.0115\n",
      "Epoch 48/100\n",
      "325/325 [==============================] - 1s 3ms/step - loss: 0.0019 - mae: 0.0116 - val_loss: 0.0017 - val_mae: 0.0065\n",
      "Epoch 49/100\n",
      "319/325 [============================>.] - ETA: 0s - loss: 0.0018 - mae: 0.0099Restoring model weights from the end of the best epoch: 44.\n",
      "325/325 [==============================] - 1s 3ms/step - loss: 0.0018 - mae: 0.0099 - val_loss: 0.0020 - val_mae: 0.0136\n",
      "Epoch 49: early stopping\n"
     ]
    }
   ],
   "source": [
    "# Netzwerkarchitektur\n",
    "model = Sequential([\n",
    "    # Eingabeschicht\n",
    "    Dense(384, activation='relu', input_shape=(2,), kernel_initializer='he_uniform', kernel_regularizer=l2(0.0001)),\n",
    "    \n",
    "    Dense(384, activation='relu', kernel_initializer='he_uniform', kernel_regularizer=l2(0.0001)),\n",
    "    Dense(160, activation='relu', kernel_initializer='he_uniform', kernel_regularizer=l2(0.0001)),\n",
    "    Dense(128, activation='relu', kernel_initializer='he_uniform', kernel_regularizer=l2(0.0001)),\n",
    "          \n",
    "    Dense(384, activation='relu', kernel_initializer='he_uniform', kernel_regularizer=l2(0.0001)),\n",
    "          \n",
    "    Dense(192, activation='relu', kernel_initializer='he_uniform', kernel_regularizer=l2(0.0001)),\n",
    "    #Dropout(0.01),\n",
    "    # Versteckte Schicht\n",
    "    Dense(32, activation='relu', kernel_initializer='he_uniform', kernel_regularizer=l2(0.0001)),\n",
    "    Dense(448, activation='relu', kernel_initializer='he_uniform', kernel_regularizer=l2(0.0001)),\n",
    "    Dense(64, activation='relu', kernel_initializer='he_uniform', kernel_regularizer=l2(0.0001)),\n",
    "    #Dropout(0.01),\n",
    "    # Ausgabeschicht für Regression (1 Einheit ohne Aktivierungsfunktion)\n",
    "    Dense(1 , activation = 'linear')\n",
    "])\n",
    "\n",
    "# Optimierer\n",
    "optimizer = 'adam' #Adam(learningrate =  0.001)\n",
    "\n",
    "# Modell kompilieren (Verwendung von mean_squared_error als Verlustfunktion für Regression)\n",
    "model.compile(optimizer=optimizer,\n",
    "              loss='mean_squared_error',\n",
    "              metrics=['mae'])  # Metriken für Regression: Mean Absolute Error und Mean Squared Error\n",
    "\n",
    "# Early Stopping Callback\n",
    "early_stopping = EarlyStopping(monitor='loss', patience=5, verbose=1, mode='min', restore_best_weights=True, min_delta = 0.0001)\n",
    "\n",
    "# Trainingsparameter\n",
    "batch_size = 50\n",
    "epochs = 100\n",
    "\n",
    "# Modell trainieren (Annahme: X_train, y_train, X_val, y_val sind vordefiniert)\n",
    "history = model.fit(X_train_scaled, y_train_scaled,\n",
    "                    batch_size=batch_size,\n",
    "                    epochs=epochs,\n",
    "                    validation_split=0.2,\n",
    "                    callbacks=[early_stopping])"
   ],
   "metadata": {
    "collapsed": false,
    "ExecuteTime": {
     "end_time": "2024-02-21T18:35:04.241850700Z",
     "start_time": "2024-02-21T18:34:08.522803200Z"
    }
   },
   "id": "8b52e1a9a6ff3aeb"
  },
  {
   "cell_type": "code",
   "execution_count": 15,
   "outputs": [
    {
     "data": {
      "text/plain": "<Figure size 1000x600 with 1 Axes>",
      "image/png": "[encoded data removed]"
     },
     "metadata": {},
     "output_type": "display_data"
    }
   ],
   "source": [
    "mae = history.history['mae']\n",
    "val_mae = history.history['val_mae']\n",
    "\n",
    "epochs = range(1, len(mae) + 1)\n",
    "\n",
    "# MAE Diagramm\n",
    "plt.figure(figsize=(10, 6))\n",
    "plt.plot(epochs, mae, 'r', label='Training MAE')\n",
    "plt.plot(epochs, val_mae, 'b', label='Validation MAE')\n",
    "plt.title('Training and Validation MAE')\n",
    "plt.xlabel('Epochs')\n",
    "plt.ylabel('MAE')\n",
    "plt.legend()\n",
    "\n",
    "plt.show()"
   ],
   "metadata": {
    "collapsed": false,
    "ExecuteTime": {
     "end_time": "2024-02-21T18:35:07.372849800Z",
     "start_time": "2024-02-21T18:35:07.172147100Z"
    }
   },
   "id": "3688dd7102e95baf"
  },
  {
   "cell_type": "code",
   "execution_count": 16,
   "id": "9f6f672a",
   "metadata": {
    "ExecuteTime": {
     "end_time": "2024-02-21T18:35:09.852805Z",
     "start_time": "2024-02-21T18:35:09.292911400Z"
    }
   },
   "outputs": [
    {
     "name": "stdout",
     "output_type": "stream",
     "text": [
      " Bsp. Predicted: [788.4648] Actual: [783.15] \n",
      "Durchschnittliche Abweichung (MAE): [5.43920616]\n"
     ]
    }
   ],
   "source": [
    "scaled_predicted_values = model.predict(X_test_scaled, verbose = 0)\n",
    "\n",
    "# Führen Sie die Rücktransformation der skalierten Werte durch\n",
    "original_predicted_values = scaler_target.inverse_transform(scaled_predicted_values)\n",
    "original_actual_values = scaler_target.inverse_transform(y_test_scaled)  # y_test sind die skalierten tatsächlichen Werte\n",
    "print(f' Bsp. Predicted: {original_predicted_values[100]} Actual: {original_actual_values[100]} ')\n",
    "\n",
    "def calculate_mae(list1, list2):\n",
    "    # Stelle sicher, dass beide Listen die gleiche Länge haben\n",
    "    if len(list1) != len(list2):\n",
    "        raise ValueError(\"Listen müssen die gleiche Länge haben\")\n",
    "    \n",
    "    # Berechne die absolute Differenz zwischen den Elementen der Listen\n",
    "    differences = [abs(x - y) for x, y in zip(list1, list2)]\n",
    "    \n",
    "    # Berechne den Durchschnitt der absoluten Differenzen\n",
    "    mae = sum(differences) / len(differences)\n",
    "    \n",
    "    return mae\n",
    "\n",
    "# Beispiel\n",
    "list1 = original_predicted_values\n",
    "list2 = original_actual_values\n",
    "\n",
    "mae = calculate_mae(list1, list2)\n",
    "print(f\"Durchschnittliche Abweichung (MAE): {mae}\")"
   ]
  },
  {
   "cell_type": "code",
   "execution_count": 17,
   "outputs": [
    {
     "name": "stdout",
     "output_type": "stream",
     "text": [
      "Anzahl der Werte die kleiner sind: 640\n"
     ]
    },
    {
     "data": {
      "text/plain": "            Echt  Vorhergesagt  X-Koordinate  Y-Koordinate  Differenz\n4855  582.890747        628.54         1.000         0.940 -45.649253\n2316  599.958618        642.22         0.992         0.930 -42.261382\n4353  607.411316        642.43         0.976         0.925 -35.018684\n2187  625.036926        657.61         0.976         0.915 -32.573074\n731   597.796509        629.54         0.968         0.930 -31.743491\n...          ...           ...           ...           ...        ...\n2686  599.910461        566.78         0.952         0.000  33.130461\n822   575.750916        541.83         0.800         0.000  33.920916\n1499  593.573120        557.34         0.920         0.000  36.233120\n2746  583.394226        546.15         0.856         0.000  37.244226\n1631  587.877258        550.60         0.888         0.000  37.277258\n\n[5066 rows x 5 columns]",
      "text/html": "<div>\n<style scoped>\n    .dataframe tbody tr th:only-of-type {\n        vertical-align: middle;\n    }\n\n    .dataframe tbody tr th {\n        vertical-align: top;\n    }\n\n    .dataframe thead th {\n        text-align: right;\n    }\n</style>\n<table border=\"1\" class=\"dataframe\">\n  <thead>\n    <tr style=\"text-align: right;\">\n      <th></th>\n      <th>Echt</th>\n      <th>Vorhergesagt</th>\n      <th>X-Koordinate</th>\n      <th>Y-Koordinate</th>\n      <th>Differenz</th>\n    </tr>\n  </thead>\n  <tbody>\n    <tr>\n      <th>4855</th>\n      <td>582.890747</td>\n      <td>628.54</td>\n      <td>1.000</td>\n      <td>0.940</td>\n      <td>-45.649253</td>\n    </tr>\n    <tr>\n      <th>2316</th>\n      <td>599.958618</td>\n      <td>642.22</td>\n      <td>0.992</td>\n      <td>0.930</td>\n      <td>-42.261382</td>\n    </tr>\n    <tr>\n      <th>4353</th>\n      <td>607.411316</td>\n      <td>642.43</td>\n      <td>0.976</td>\n      <td>0.925</td>\n      <td>-35.018684</td>\n    </tr>\n    <tr>\n      <th>2187</th>\n      <td>625.036926</td>\n      <td>657.61</td>\n      <td>0.976</td>\n      <td>0.915</td>\n      <td>-32.573074</td>\n    </tr>\n    <tr>\n      <th>731</th>\n      <td>597.796509</td>\n      <td>629.54</td>\n      <td>0.968</td>\n      <td>0.930</td>\n      <td>-31.743491</td>\n    </tr>\n    <tr>\n      <th>...</th>\n      <td>...</td>\n      <td>...</td>\n      <td>...</td>\n      <td>...</td>\n      <td>...</td>\n    </tr>\n    <tr>\n      <th>2686</th>\n      <td>599.910461</td>\n      <td>566.78</td>\n      <td>0.952</td>\n      <td>0.000</td>\n      <td>33.130461</td>\n    </tr>\n    <tr>\n      <th>822</th>\n      <td>575.750916</td>\n      <td>541.83</td>\n      <td>0.800</td>\n      <td>0.000</td>\n      <td>33.920916</td>\n    </tr>\n    <tr>\n      <th>1499</th>\n      <td>593.573120</td>\n      <td>557.34</td>\n      <td>0.920</td>\n      <td>0.000</td>\n      <td>36.233120</td>\n    </tr>\n    <tr>\n      <th>2746</th>\n      <td>583.394226</td>\n      <td>546.15</td>\n      <td>0.856</td>\n      <td>0.000</td>\n      <td>37.244226</td>\n    </tr>\n    <tr>\n      <th>1631</th>\n      <td>587.877258</td>\n      <td>550.60</td>\n      <td>0.888</td>\n      <td>0.000</td>\n      <td>37.277258</td>\n    </tr>\n  </tbody>\n</table>\n<p>5066 rows × 5 columns</p>\n</div>"
     },
     "execution_count": 17,
     "metadata": {},
     "output_type": "execute_result"
    }
   ],
   "source": [
    "df_result = pd.DataFrame({'Echt': [val[0] for val in list1], 'Vorhergesagt': [val[0] for val in list2]})\n",
    "df_result['X-Koordinate'] = X_test_scaled[:, 0]\n",
    "df_result['Y-Koordinate'] = X_test_scaled[:, 1]\n",
    "\n",
    "df_result['Differenz'] = df_result['Echt'] - df_result['Vorhergesagt']\n",
    "df_result['Differenz'].sort_values()\n",
    "sorted_df = df_result.sort_values(by= 'Differenz')\n",
    "Anzahl_Punkte = (sorted_df['Differenz'] > 10).sum()\n",
    "print(\"Anzahl der Werte die kleiner sind:\", Anzahl_Punkte)\n",
    " \n",
    "sorted_df"
   ],
   "metadata": {
    "collapsed": false,
    "ExecuteTime": {
     "end_time": "2024-02-21T18:35:33.442943800Z",
     "start_time": "2024-02-21T18:35:33.421493300Z"
    }
   },
   "id": "6a9d8a95f5e95b9"
  },
  {
   "cell_type": "markdown",
   "id": "553df6fa",
   "metadata": {},
   "source": [
    "# GridSearch"
   ]
  },
  {
   "cell_type": "code",
   "execution_count": null,
   "id": "1dca80c2",
   "metadata": {},
   "outputs": [],
   "source": [
    "# Schritt 1: Definiere dein Modell als eine Funktion, die Hyperparameter akzeptiert\n",
    "def build_model(optimizer='adam', activation='relu'):\n",
    "    model = Sequential()\n",
    "    model.add(Dense(units=64, activation=activation, input_dim=X_train_scaled.shape[1]))\n",
    "    model.add(Dense(units=32, activation=activation))\n",
    "    model.add(Dense(units=1, activation='linear'))\n",
    "    model.compile(optimizer=optimizer, loss='mean_squared_error', metrics=['mean_squared_error'])\n",
    "    return model\n",
    "\n",
    "# Schritt 2: Erstelle eine Instanz von KerasRegressor ohne batch_size und epochs im param_grid\n",
    "model = KerasRegressor(model=build_model, verbose=1)\n",
    "\n",
    "# Schritt 3: Definiere den Parameter-Raum für die Grid-Suche OHNE batch_size und epochs\n",
    "param_grid = {\n",
    "    'model__optimizer': ['adam', 'sgd'],\n",
    "    'model__activation': ['relu', 'tanh']\n",
    "}\n",
    "\n",
    "# Optional: Definiere Fit-Parameter (wie batch_size und epochs) separat\n",
    "fit_params = {\n",
    "    'batch_size': 32,\n",
    "    'epochs': 10\n",
    "}\n",
    "\n",
    "# Schritt 4: Führe GridSearchCV aus mit fit_params, wenn nötig\n",
    "grid = GridSearchCV(estimator=model, param_grid=param_grid, n_jobs=-1, cv=3)\n",
    "grid_result = grid.fit(X_train_scaled, y_train_scaled, **fit_params)\n",
    "\n",
    "# Ergebnisse ausgeben\n",
    "print(\"Best: %f using %s\" % (grid_result.best_score_, grid_result.best_params_))\n",
    "for mean_score, params in zip(grid_result.cv_results_['mean_test_score'], grid_result.cv_results_['params']):\n",
    "    print(\"%f with: %r\" % (mean_score, params))\n"
   ]
  },
  {
   "cell_type": "code",
   "execution_count": null,
   "id": "3f17e2cf",
   "metadata": {},
   "outputs": [],
   "source": [
    "def build_model(optimizer='adam', activation='relu'):\n",
    "    model = Sequential()\n",
    "    model.add(Dense(units=64, activation=activation, input_dim=X_train_scaled.shape[1]))\n",
    "    model.add(Dense(units=32, activation=activation))\n",
    "    model.add(Dense(units=1, activation='linear'))\n",
    "    model.compile(optimizer=optimizer, loss='mean_squared_error', metrics=['mean_squared_error'])\n",
    "    return model\n",
    "\n",
    "model = KerasRegressor(model=build_model, verbose=1)\n",
    "\n",
    "param_grid = {\n",
    "    'model__optimizer': ['adam', 'sgd'],\n",
    "    'model__activation': ['relu', 'tanh'],\n",
    "    'fit__batch_size': [10, 20, 32],  # Testen verschiedener batch_size Werte\n",
    "    'fit__epochs': [5, 10]  # Optional: Testen verschiedener epoch Werte\n",
    "}\n",
    "\n",
    "grid = GridSearchCV(estimator=model, param_grid=param_grid, n_jobs=-1, cv=3)\n",
    "grid_result = grid.fit(X_train_scaled, y_train_scaled)\n",
    "\n",
    "# Ergebnisse ausgeben\n",
    "print(\"Best: %f using %s\" % (grid_result.best_score_, grid_result.best_params_))\n",
    "for mean_score, params in zip(grid_result.cv_results_['mean_test_score'], grid_result.cv_results_['params']):\n",
    "    print(\"%f with: %r\" % (mean_score, params))\n"
   ]
  },
  {
   "cell_type": "code",
   "execution_count": 13,
   "id": "492cf0ed",
   "metadata": {},
   "outputs": [
    {
     "name": "stdout",
     "output_type": "stream",
     "text": [
      "Trial 100 Complete [00h 00m 26s]\n",
      "val_loss: 4.868703763349913e-05\n",
      "\n",
      "Best val_loss So Far: 5.40524388270569e-06\n",
      "Total elapsed time: 00h 57m 20s\n",
      "Model: \"sequential\"\n",
      "_________________________________________________________________\n",
      " Layer (type)                Output Shape              Param #   \n",
      "=================================================================\n",
      " dense (Dense)               (None, 384)               1152      \n",
      "                                                                 \n",
      " dense_1 (Dense)             (None, 384)               147840    \n",
      "                                                                 \n",
      " dense_2 (Dense)             (None, 160)               61600     \n",
      "                                                                 \n",
      " dense_3 (Dense)             (None, 128)               20608     \n",
      "                                                                 \n",
      " dense_4 (Dense)             (None, 384)               49536     \n",
      "                                                                 \n",
      " dense_5 (Dense)             (None, 192)               73920     \n",
      "                                                                 \n",
      " dense_6 (Dense)             (None, 32)                6176      \n",
      "                                                                 \n",
      " dense_7 (Dense)             (None, 448)               14784     \n",
      "                                                                 \n",
      " dense_8 (Dense)             (None, 64)                28736     \n",
      "                                                                 \n",
      " dense_9 (Dense)             (None, 1)                 65        \n",
      "                                                                 \n",
      "=================================================================\n",
      "Total params: 404417 (1.54 MB)\n",
      "Trainable params: 404417 (1.54 MB)\n",
      "Non-trainable params: 0 (0.00 Byte)\n",
      "_________________________________________________________________\n",
      "{'input_units': 384, 'n_layers': 8, 'units_0': 384, 'units_1': 160, 'units_2': 128, 'units_3': 384, 'units_4': 192, 'units_5': 32, 'units_6': 448, 'units_7': 64, 'units_8': 96, 'units_9': 96}\n"
     ]
    }
   ],
   "source": [
    "from keras_tuner import RandomSearch\n",
    "\n",
    "# Definieren der Funktion, die das Modell erstellt\n",
    "def build_model(hp):\n",
    "    model = Sequential()\n",
    "    model.add(Dense(hp.Int('input_units', min_value=32, max_value=512, step=32), input_shape=(2,), activation='relu'))\n",
    "    # Hinzufügen von Schichten basierend auf dem Suchraum\n",
    "    for i in range(hp.Int('n_layers', 1, 10)):\n",
    "        model.add(Dense(hp.Int(f'units_{i}', min_value=32, max_value=512, step=32), activation='relu'))\n",
    "    model.add(Dense(1, activation='linear'))\n",
    "    model.compile(optimizer='adam', loss='mean_squared_error')\n",
    "    return model\n",
    "\n",
    "# Erstellen des RandomSearch Objekts\n",
    "tuner = RandomSearch(\n",
    "    build_model,\n",
    "    objective='val_loss',\n",
    "    max_trials=100,  # Anzahl der zu testenden Modellkonfigurationen\n",
    "    executions_per_trial=1,  # Anzahl der Male, die jede Modellkonfiguration trainiert wird\n",
    "    directory='random_search',  # Verzeichnis zur Speicherung der Suchlogs\n",
    "    project_name='neural_network_optimization_D2'\n",
    ")\n",
    "\n",
    "# Durchführung des Random Search\n",
    "tuner.search(X_train_scaled, y_train_scaled, epochs=20, batch_size=50, validation_split=0.2, callbacks=[EarlyStopping(monitor='val_loss', patience=5)])\n",
    "\n",
    "# Abrufen des besten Modells\n",
    "best_model = tuner.get_best_models(num_models=1)[0]\n",
    "\n",
    "# Zusammenfassung des besten Modells\n",
    "best_model.summary()\n",
    "\n",
    "# Sie können auch die besten Hyperparameter direkt abrufen\n",
    "best_hyperparameters = tuner.get_best_hyperparameters()[0]\n",
    "print(best_hyperparameters.values)\n"
   ]
  },
  {
   "cell_type": "code",
   "execution_count": null,
   "outputs": [],
   "source": [],
   "metadata": {
    "collapsed": false
   },
   "id": "fc6e016b5f7bf997"
  }
 ],
 "metadata": {
  "kernelspec": {
   "display_name": "Python 3 (ipykernel)",
   "language": "python",
   "name": "python3"
  },
  "language_info": {
   "codemirror_mode": {
    "name": "ipython",
    "version": 3
   },
   "file_extension": ".py",
   "mimetype": "text/x-python",
   "name": "python",
   "nbconvert_exporter": "python",
   "pygments_lexer": "ipython3",
   "version": "3.11.4"
  }
 },
 "nbformat": 4,
 "nbformat_minor": 5
}
