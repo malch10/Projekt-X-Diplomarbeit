{
 "cells": [
  {
   "cell_type": "code",
   "execution_count": 20,
   "id": "94b0518e",
   "metadata": {
    "ExecuteTime": {
     "end_time": "2024-03-15T09:47:15.049787Z",
     "start_time": "2024-03-15T09:47:14.870778800Z"
    }
   },
   "outputs": [],
   "source": [
    "import numpy as np\n",
    "import os\n",
    "import tensorflow as tf\n",
    "import matplotlib.pyplot as plt\n",
    "from sklearn.model_selection import train_test_split\n",
    "from sklearn.preprocessing import MinMaxScaler\n",
    "import pandas as pd\n",
    "from tensorflow.keras.layers import Dense , Dropout\n",
    "from scikeras.wrappers import KerasRegressor \n",
    "from tensorflow.keras.callbacks import EarlyStopping\n",
    "import time\n",
    "from keras.models import Sequential\n",
    "from keras.layers import Dense, Dropout\n",
    "from keras.optimizers import Adam\n",
    "from keras.regularizers import l2\n",
    "from keras.callbacks import EarlyStopping\n",
    "from keras_tuner import RandomSearch\n",
    "from tensorflow.keras.models import Sequential\n",
    "from tensorflow.keras.layers import Dense\n",
    "from tensorflow.keras.optimizers import Adam\n",
    "from tensorflow.keras.regularizers import l2\n",
    "from sklearn.model_selection import GridSearchCV\n"
   ]
  },
  {
   "cell_type": "code",
   "execution_count": 21,
   "id": "e4ff61b1",
   "metadata": {
    "ExecuteTime": {
     "end_time": "2024-03-15T09:47:15.114600900Z",
     "start_time": "2024-03-15T09:47:14.874826200Z"
    }
   },
   "outputs": [
    {
     "data": {
      "text/plain": "       X-Koordinate  Y-Koordinate  Zeitpunkt  Strom  Kraft  Temperatur\n0            0.0000      -0.00200        500   7000   9000      669.05\n1            0.0000      -0.00198        500   7000   9000      682.81\n2            0.0000      -0.00196        500   7000   9000      696.80\n3            0.0000      -0.00194        500   7000   9000      710.67\n4            0.0000      -0.00192        500   7000   9000      724.42\n...             ...           ...        ...    ...    ...         ...\n25321        0.0025       0.00192        500   7000   9000      584.84\n25322        0.0025       0.00194        500   7000   9000      581.64\n25323        0.0025       0.00196        500   7000   9000      578.47\n25324        0.0025       0.00198        500   7000   9000      575.32\n25325        0.0025       0.00200        500   7000   9000      572.20\n\n[25326 rows x 6 columns]",
      "text/html": "<div>\n<style scoped>\n    .dataframe tbody tr th:only-of-type {\n        vertical-align: middle;\n    }\n\n    .dataframe tbody tr th {\n        vertical-align: top;\n    }\n\n    .dataframe thead th {\n        text-align: right;\n    }\n</style>\n<table border=\"1\" class=\"dataframe\">\n  <thead>\n    <tr style=\"text-align: right;\">\n      <th></th>\n      <th>X-Koordinate</th>\n      <th>Y-Koordinate</th>\n      <th>Zeitpunkt</th>\n      <th>Strom</th>\n      <th>Kraft</th>\n      <th>Temperatur</th>\n    </tr>\n  </thead>\n  <tbody>\n    <tr>\n      <th>0</th>\n      <td>0.0000</td>\n      <td>-0.00200</td>\n      <td>500</td>\n      <td>7000</td>\n      <td>9000</td>\n      <td>669.05</td>\n    </tr>\n    <tr>\n      <th>1</th>\n      <td>0.0000</td>\n      <td>-0.00198</td>\n      <td>500</td>\n      <td>7000</td>\n      <td>9000</td>\n      <td>682.81</td>\n    </tr>\n    <tr>\n      <th>2</th>\n      <td>0.0000</td>\n      <td>-0.00196</td>\n      <td>500</td>\n      <td>7000</td>\n      <td>9000</td>\n      <td>696.80</td>\n    </tr>\n    <tr>\n      <th>3</th>\n      <td>0.0000</td>\n      <td>-0.00194</td>\n      <td>500</td>\n      <td>7000</td>\n      <td>9000</td>\n      <td>710.67</td>\n    </tr>\n    <tr>\n      <th>4</th>\n      <td>0.0000</td>\n      <td>-0.00192</td>\n      <td>500</td>\n      <td>7000</td>\n      <td>9000</td>\n      <td>724.42</td>\n    </tr>\n    <tr>\n      <th>...</th>\n      <td>...</td>\n      <td>...</td>\n      <td>...</td>\n      <td>...</td>\n      <td>...</td>\n      <td>...</td>\n    </tr>\n    <tr>\n      <th>25321</th>\n      <td>0.0025</td>\n      <td>0.00192</td>\n      <td>500</td>\n      <td>7000</td>\n      <td>9000</td>\n      <td>584.84</td>\n    </tr>\n    <tr>\n      <th>25322</th>\n      <td>0.0025</td>\n      <td>0.00194</td>\n      <td>500</td>\n      <td>7000</td>\n      <td>9000</td>\n      <td>581.64</td>\n    </tr>\n    <tr>\n      <th>25323</th>\n      <td>0.0025</td>\n      <td>0.00196</td>\n      <td>500</td>\n      <td>7000</td>\n      <td>9000</td>\n      <td>578.47</td>\n    </tr>\n    <tr>\n      <th>25324</th>\n      <td>0.0025</td>\n      <td>0.00198</td>\n      <td>500</td>\n      <td>7000</td>\n      <td>9000</td>\n      <td>575.32</td>\n    </tr>\n    <tr>\n      <th>25325</th>\n      <td>0.0025</td>\n      <td>0.00200</td>\n      <td>500</td>\n      <td>7000</td>\n      <td>9000</td>\n      <td>572.20</td>\n    </tr>\n  </tbody>\n</table>\n<p>25326 rows × 6 columns</p>\n</div>"
     },
     "execution_count": 21,
     "metadata": {},
     "output_type": "execute_result"
    }
   ],
   "source": [
    "#data = pd.read_pickle('C:/Users/erikm/Desktop/Diplomarbeit Erik Marr/Daten/Finish/TPath_300_finish_data.pkl')\n",
    "data = pd.read_pickle('C:/Users/erikm/Desktop/Diplomarbeit Erik Marr/Daten/Finish/Finish_D2_I7000_F9000/TPath_500_finish_data_D2.pkl')\n",
    "\n",
    "data"
   ]
  },
  {
   "cell_type": "code",
   "execution_count": 22,
   "id": "966e3c74",
   "metadata": {
    "ExecuteTime": {
     "end_time": "2024-03-15T09:47:15.314750300Z",
     "start_time": "2024-03-15T09:47:14.884854700Z"
    }
   },
   "outputs": [
    {
     "data": {
      "text/plain": "       X-Koordinate  Y-Koordinate  Temperatur\n0            0.0000      -0.00200      669.05\n1            0.0000      -0.00198      682.81\n2            0.0000      -0.00196      696.80\n3            0.0000      -0.00194      710.67\n4            0.0000      -0.00192      724.42\n...             ...           ...         ...\n25321        0.0025       0.00192      584.84\n25322        0.0025       0.00194      581.64\n25323        0.0025       0.00196      578.47\n25324        0.0025       0.00198      575.32\n25325        0.0025       0.00200      572.20\n\n[25326 rows x 3 columns]",
      "text/html": "<div>\n<style scoped>\n    .dataframe tbody tr th:only-of-type {\n        vertical-align: middle;\n    }\n\n    .dataframe tbody tr th {\n        vertical-align: top;\n    }\n\n    .dataframe thead th {\n        text-align: right;\n    }\n</style>\n<table border=\"1\" class=\"dataframe\">\n  <thead>\n    <tr style=\"text-align: right;\">\n      <th></th>\n      <th>X-Koordinate</th>\n      <th>Y-Koordinate</th>\n      <th>Temperatur</th>\n    </tr>\n  </thead>\n  <tbody>\n    <tr>\n      <th>0</th>\n      <td>0.0000</td>\n      <td>-0.00200</td>\n      <td>669.05</td>\n    </tr>\n    <tr>\n      <th>1</th>\n      <td>0.0000</td>\n      <td>-0.00198</td>\n      <td>682.81</td>\n    </tr>\n    <tr>\n      <th>2</th>\n      <td>0.0000</td>\n      <td>-0.00196</td>\n      <td>696.80</td>\n    </tr>\n    <tr>\n      <th>3</th>\n      <td>0.0000</td>\n      <td>-0.00194</td>\n      <td>710.67</td>\n    </tr>\n    <tr>\n      <th>4</th>\n      <td>0.0000</td>\n      <td>-0.00192</td>\n      <td>724.42</td>\n    </tr>\n    <tr>\n      <th>...</th>\n      <td>...</td>\n      <td>...</td>\n      <td>...</td>\n    </tr>\n    <tr>\n      <th>25321</th>\n      <td>0.0025</td>\n      <td>0.00192</td>\n      <td>584.84</td>\n    </tr>\n    <tr>\n      <th>25322</th>\n      <td>0.0025</td>\n      <td>0.00194</td>\n      <td>581.64</td>\n    </tr>\n    <tr>\n      <th>25323</th>\n      <td>0.0025</td>\n      <td>0.00196</td>\n      <td>578.47</td>\n    </tr>\n    <tr>\n      <th>25324</th>\n      <td>0.0025</td>\n      <td>0.00198</td>\n      <td>575.32</td>\n    </tr>\n    <tr>\n      <th>25325</th>\n      <td>0.0025</td>\n      <td>0.00200</td>\n      <td>572.20</td>\n    </tr>\n  </tbody>\n</table>\n<p>25326 rows × 3 columns</p>\n</div>"
     },
     "execution_count": 22,
     "metadata": {},
     "output_type": "execute_result"
    }
   ],
   "source": [
    "df = data.drop(data.columns[2:5], axis = 1)\n",
    "df"
   ]
  },
  {
   "cell_type": "code",
   "execution_count": 23,
   "id": "8783d1d6",
   "metadata": {
    "ExecuteTime": {
     "end_time": "2024-03-15T09:47:15.324677300Z",
     "start_time": "2024-03-15T09:47:14.894552100Z"
    }
   },
   "outputs": [
    {
     "name": "stdout",
     "output_type": "stream",
     "text": [
      "       X-Koordinate  Y-Koordinate  Temperatur\n",
      "5099        0.00050      -0.00052     1471.00\n",
      "12799       0.00126       0.00072     1319.30\n",
      "15071       0.00148       0.00194      595.19\n",
      "24620       0.00244      -0.00004     1249.00\n",
      "11071       0.00110      -0.00168      884.35\n",
      "...             ...           ...         ...\n",
      "21575       0.00214      -0.00064     1263.60\n",
      "5390        0.00052       0.00128     1035.40\n",
      "860         0.00008      -0.00088     1376.50\n",
      "15795       0.00156       0.00034     1383.80\n",
      "23654       0.00234       0.00074     1149.60\n",
      "\n",
      "[25326 rows x 3 columns]\n"
     ]
    },
    {
     "data": {
      "text/plain": "       X-Koordinate  Y-Koordinate  Temperatur\n0           0.00050      -0.00052     1471.00\n1           0.00126       0.00072     1319.30\n2           0.00148       0.00194      595.19\n3           0.00244      -0.00004     1249.00\n4           0.00110      -0.00168      884.35\n...             ...           ...         ...\n25321       0.00214      -0.00064     1263.60\n25322       0.00052       0.00128     1035.40\n25323       0.00008      -0.00088     1376.50\n25324       0.00156       0.00034     1383.80\n25325       0.00234       0.00074     1149.60\n\n[25326 rows x 3 columns]",
      "text/html": "<div>\n<style scoped>\n    .dataframe tbody tr th:only-of-type {\n        vertical-align: middle;\n    }\n\n    .dataframe tbody tr th {\n        vertical-align: top;\n    }\n\n    .dataframe thead th {\n        text-align: right;\n    }\n</style>\n<table border=\"1\" class=\"dataframe\">\n  <thead>\n    <tr style=\"text-align: right;\">\n      <th></th>\n      <th>X-Koordinate</th>\n      <th>Y-Koordinate</th>\n      <th>Temperatur</th>\n    </tr>\n  </thead>\n  <tbody>\n    <tr>\n      <th>0</th>\n      <td>0.00050</td>\n      <td>-0.00052</td>\n      <td>1471.00</td>\n    </tr>\n    <tr>\n      <th>1</th>\n      <td>0.00126</td>\n      <td>0.00072</td>\n      <td>1319.30</td>\n    </tr>\n    <tr>\n      <th>2</th>\n      <td>0.00148</td>\n      <td>0.00194</td>\n      <td>595.19</td>\n    </tr>\n    <tr>\n      <th>3</th>\n      <td>0.00244</td>\n      <td>-0.00004</td>\n      <td>1249.00</td>\n    </tr>\n    <tr>\n      <th>4</th>\n      <td>0.00110</td>\n      <td>-0.00168</td>\n      <td>884.35</td>\n    </tr>\n    <tr>\n      <th>...</th>\n      <td>...</td>\n      <td>...</td>\n      <td>...</td>\n    </tr>\n    <tr>\n      <th>25321</th>\n      <td>0.00214</td>\n      <td>-0.00064</td>\n      <td>1263.60</td>\n    </tr>\n    <tr>\n      <th>25322</th>\n      <td>0.00052</td>\n      <td>0.00128</td>\n      <td>1035.40</td>\n    </tr>\n    <tr>\n      <th>25323</th>\n      <td>0.00008</td>\n      <td>-0.00088</td>\n      <td>1376.50</td>\n    </tr>\n    <tr>\n      <th>25324</th>\n      <td>0.00156</td>\n      <td>0.00034</td>\n      <td>1383.80</td>\n    </tr>\n    <tr>\n      <th>25325</th>\n      <td>0.00234</td>\n      <td>0.00074</td>\n      <td>1149.60</td>\n    </tr>\n  </tbody>\n</table>\n<p>25326 rows × 3 columns</p>\n</div>"
     },
     "execution_count": 23,
     "metadata": {},
     "output_type": "execute_result"
    }
   ],
   "source": [
    "df1 = df.sample(frac=1, random_state=42)  # Hier wird 42 als Random State verwendet, um die Ergebnisse reproduzierbar zu machen\n",
    "\n",
    "print(df1)\n",
    "df_reset = df1.reset_index(drop=True)\n",
    "df_reset"
   ]
  },
  {
   "cell_type": "code",
   "execution_count": 24,
   "id": "a4e72a16",
   "metadata": {
    "ExecuteTime": {
     "end_time": "2024-03-15T09:47:15.344747Z",
     "start_time": "2024-03-15T09:47:14.904443400Z"
    }
   },
   "outputs": [],
   "source": [
    "label = df_reset[\"Temperatur\"]\n",
    "# Korrektur: Verwenden Sie den Spaltennamen direkt, ohne Indexierung der columns-Eigenschaft\n",
    "df1 = df_reset.drop(\"Temperatur\", axis=1)\n",
    "X = df1\n",
    "y = label\n"
   ]
  },
  {
   "cell_type": "markdown",
   "source": [],
   "metadata": {
    "collapsed": false
   },
   "id": "f7fa289a50d87423"
  },
  {
   "cell_type": "code",
   "execution_count": 25,
   "id": "e694a236",
   "metadata": {
    "ExecuteTime": {
     "end_time": "2024-03-15T09:47:15.354781600Z",
     "start_time": "2024-03-15T09:47:14.910157400Z"
    }
   },
   "outputs": [
    {
     "data": {
      "text/plain": "       X-Koordinate  Y-Koordinate\n0           0.00050      -0.00052\n1           0.00126       0.00072\n2           0.00148       0.00194\n3           0.00244      -0.00004\n4           0.00110      -0.00168\n...             ...           ...\n25321       0.00214      -0.00064\n25322       0.00052       0.00128\n25323       0.00008      -0.00088\n25324       0.00156       0.00034\n25325       0.00234       0.00074\n\n[25326 rows x 2 columns]",
      "text/html": "<div>\n<style scoped>\n    .dataframe tbody tr th:only-of-type {\n        vertical-align: middle;\n    }\n\n    .dataframe tbody tr th {\n        vertical-align: top;\n    }\n\n    .dataframe thead th {\n        text-align: right;\n    }\n</style>\n<table border=\"1\" class=\"dataframe\">\n  <thead>\n    <tr style=\"text-align: right;\">\n      <th></th>\n      <th>X-Koordinate</th>\n      <th>Y-Koordinate</th>\n    </tr>\n  </thead>\n  <tbody>\n    <tr>\n      <th>0</th>\n      <td>0.00050</td>\n      <td>-0.00052</td>\n    </tr>\n    <tr>\n      <th>1</th>\n      <td>0.00126</td>\n      <td>0.00072</td>\n    </tr>\n    <tr>\n      <th>2</th>\n      <td>0.00148</td>\n      <td>0.00194</td>\n    </tr>\n    <tr>\n      <th>3</th>\n      <td>0.00244</td>\n      <td>-0.00004</td>\n    </tr>\n    <tr>\n      <th>4</th>\n      <td>0.00110</td>\n      <td>-0.00168</td>\n    </tr>\n    <tr>\n      <th>...</th>\n      <td>...</td>\n      <td>...</td>\n    </tr>\n    <tr>\n      <th>25321</th>\n      <td>0.00214</td>\n      <td>-0.00064</td>\n    </tr>\n    <tr>\n      <th>25322</th>\n      <td>0.00052</td>\n      <td>0.00128</td>\n    </tr>\n    <tr>\n      <th>25323</th>\n      <td>0.00008</td>\n      <td>-0.00088</td>\n    </tr>\n    <tr>\n      <th>25324</th>\n      <td>0.00156</td>\n      <td>0.00034</td>\n    </tr>\n    <tr>\n      <th>25325</th>\n      <td>0.00234</td>\n      <td>0.00074</td>\n    </tr>\n  </tbody>\n</table>\n<p>25326 rows × 2 columns</p>\n</div>"
     },
     "execution_count": 25,
     "metadata": {},
     "output_type": "execute_result"
    }
   ],
   "source": [
    "X"
   ]
  },
  {
   "cell_type": "code",
   "execution_count": 26,
   "id": "3f3303b4",
   "metadata": {
    "ExecuteTime": {
     "end_time": "2024-03-15T09:47:15.354781600Z",
     "start_time": "2024-03-15T09:47:14.918886Z"
    }
   },
   "outputs": [
    {
     "data": {
      "text/plain": "0        1471.00\n1        1319.30\n2         595.19\n3        1249.00\n4         884.35\n          ...   \n25321    1263.60\n25322    1035.40\n25323    1376.50\n25324    1383.80\n25325    1149.60\nName: Temperatur, Length: 25326, dtype: float64"
     },
     "execution_count": 26,
     "metadata": {},
     "output_type": "execute_result"
    }
   ],
   "source": [
    "y"
   ]
  },
  {
   "cell_type": "code",
   "execution_count": 27,
   "id": "e3ad8da0",
   "metadata": {
    "ExecuteTime": {
     "end_time": "2024-03-15T09:47:15.354781600Z",
     "start_time": "2024-03-15T09:47:14.924946800Z"
    }
   },
   "outputs": [],
   "source": [
    " # train_df enthält 80% der Daten, test_df enthält 20% der Daten\n",
    "X_train, X_test, y_train, y_test = train_test_split(X, y, test_size=0.20, random_state=42)\n"
   ]
  },
  {
   "cell_type": "code",
   "execution_count": 28,
   "id": "9c705edb",
   "metadata": {
    "ExecuteTime": {
     "end_time": "2024-03-15T09:47:15.354781600Z",
     "start_time": "2024-03-15T09:47:14.934869200Z"
    }
   },
   "outputs": [],
   "source": [
    "# Initialisiere einen MinMaxScaler für die Features\n",
    "scaler_features = MinMaxScaler()\n",
    "scaler_features2 = MinMaxScaler()\n",
    "# Skaliere X_train und X_test\n",
    "X_train_scaled = scaler_features.fit_transform(X_train)\n",
    "X_test_scaled = scaler_features.transform(X_test)  # Nutze unterschiedliche Skalierungsparameter\n",
    "\n",
    "# Initialisiere einen SEPARATEN MinMaxScaler für das Ziel, wenn nötig\n",
    "scaler_target = MinMaxScaler()\n",
    "\n",
    "\n",
    "# Skaliere y_train und y_test. Beachte, dass y_train.reshape(-1, 1) verwendet wird, da MinMaxScaler \n",
    "# erwartet, dass die Eingaben als 2D-Arrays kommen, und Ziele normalerweise als 1D-Arrays vorliegen.\n",
    "y_train_scaled = scaler_target.fit_transform(y_train.values.reshape(-1, 1))\n",
    "y_test_scaled = scaler_target.transform(y_test.values.reshape(-1, 1))\n"
   ]
  },
  {
   "cell_type": "code",
   "execution_count": 29,
   "id": "bbefe631e495b483",
   "metadata": {
    "ExecuteTime": {
     "end_time": "2024-03-15T09:47:15.354781600Z",
     "start_time": "2024-03-15T09:47:14.944478100Z"
    }
   },
   "outputs": [
    {
     "data": {
      "text/plain": "array([[1.   , 0.15 ],\n       [0.984, 0.49 ],\n       [0.224, 0.905],\n       ...,\n       [0.04 , 0.585],\n       [0.976, 0.815],\n       [0.744, 0.785]])"
     },
     "execution_count": 29,
     "metadata": {},
     "output_type": "execute_result"
    }
   ],
   "source": [
    "X_train_scaled"
   ]
  },
  {
   "cell_type": "markdown",
   "source": [
    "# Netzwerkarchitektur"
   ],
   "metadata": {
    "collapsed": false
   },
   "id": "d664797f8dcbd88c"
  },
  {
   "cell_type": "code",
   "execution_count": 30,
   "outputs": [
    {
     "name": "stdout",
     "output_type": "stream",
     "text": [
      "Epoch 1/200\n",
      "109/109 [==============================] - 2s 5ms/step - loss: 0.2473 - mae: 0.2173 - val_loss: 0.1335 - val_mae: 0.0811\n",
      "Epoch 2/200\n",
      "109/109 [==============================] - 0s 3ms/step - loss: 0.1148 - mae: 0.0462 - val_loss: 0.1045 - val_mae: 0.0306\n",
      "Epoch 3/200\n",
      "109/109 [==============================] - 0s 4ms/step - loss: 0.0998 - mae: 0.0229 - val_loss: 0.0957 - val_mae: 0.0182\n",
      "Epoch 4/200\n",
      "109/109 [==============================] - 0s 3ms/step - loss: 0.0929 - mae: 0.0169 - val_loss: 0.0908 - val_mae: 0.0322\n",
      "Epoch 5/200\n",
      "109/109 [==============================] - 0s 4ms/step - loss: 0.0889 - mae: 0.0278 - val_loss: 0.0856 - val_mae: 0.0153\n",
      "Epoch 6/200\n",
      "109/109 [==============================] - 0s 4ms/step - loss: 0.0876 - mae: 0.0417 - val_loss: 0.0818 - val_mae: 0.0107\n",
      "Epoch 7/200\n",
      "109/109 [==============================] - 0s 4ms/step - loss: 0.0801 - mae: 0.0096 - val_loss: 0.0787 - val_mae: 0.0149\n",
      "Epoch 8/200\n",
      "109/109 [==============================] - 0s 4ms/step - loss: 0.0770 - mae: 0.0084 - val_loss: 0.0755 - val_mae: 0.0063\n",
      "Epoch 9/200\n",
      "109/109 [==============================] - 0s 4ms/step - loss: 0.0743 - mae: 0.0076 - val_loss: 0.0730 - val_mae: 0.0093\n",
      "Epoch 10/200\n",
      "109/109 [==============================] - 0s 5ms/step - loss: 0.0719 - mae: 0.0101 - val_loss: 0.0708 - val_mae: 0.0139\n",
      "Epoch 11/200\n",
      "109/109 [==============================] - 0s 4ms/step - loss: 0.0699 - mae: 0.0157 - val_loss: 0.0684 - val_mae: 0.0103\n",
      "Epoch 12/200\n",
      "109/109 [==============================] - 0s 4ms/step - loss: 0.0685 - mae: 0.0232 - val_loss: 0.0662 - val_mae: 0.0078\n",
      "Epoch 13/200\n",
      "109/109 [==============================] - 0s 4ms/step - loss: 0.0652 - mae: 0.0060 - val_loss: 0.0643 - val_mae: 0.0103\n",
      "Epoch 14/200\n",
      "109/109 [==============================] - 0s 4ms/step - loss: 0.0634 - mae: 0.0081 - val_loss: 0.0634 - val_mae: 0.0249\n",
      "Epoch 15/200\n",
      "109/109 [==============================] - 0s 4ms/step - loss: 0.0628 - mae: 0.0212 - val_loss: 0.0605 - val_mae: 0.0048\n",
      "Epoch 16/200\n",
      "109/109 [==============================] - 0s 4ms/step - loss: 0.0597 - mae: 0.0060 - val_loss: 0.0590 - val_mae: 0.0140\n",
      "Epoch 17/200\n",
      "109/109 [==============================] - 0s 4ms/step - loss: 0.0582 - mae: 0.0095 - val_loss: 0.0586 - val_mae: 0.0286\n",
      "Epoch 18/200\n",
      "109/109 [==============================] - 0s 4ms/step - loss: 0.0572 - mae: 0.0181 - val_loss: 0.0556 - val_mae: 0.0046\n",
      "Epoch 19/200\n",
      "109/109 [==============================] - 0s 4ms/step - loss: 0.0548 - mae: 0.0035 - val_loss: 0.0540 - val_mae: 0.0042\n",
      "Epoch 20/200\n",
      "109/109 [==============================] - 0s 4ms/step - loss: 0.0533 - mae: 0.0044 - val_loss: 0.0526 - val_mae: 0.0064\n",
      "Epoch 21/200\n",
      "109/109 [==============================] - 0s 4ms/step - loss: 0.0518 - mae: 0.0062 - val_loss: 0.0510 - val_mae: 0.0047\n",
      "Epoch 22/200\n",
      "109/109 [==============================] - 0s 4ms/step - loss: 0.0505 - mae: 0.0086 - val_loss: 0.0509 - val_mae: 0.0265\n",
      "Epoch 23/200\n",
      "109/109 [==============================] - 0s 4ms/step - loss: 0.0496 - mae: 0.0160 - val_loss: 0.0482 - val_mae: 0.0039\n",
      "Epoch 24/200\n",
      "109/109 [==============================] - 0s 4ms/step - loss: 0.0475 - mae: 0.0037 - val_loss: 0.0475 - val_mae: 0.0186\n",
      "Epoch 25/200\n",
      "109/109 [==============================] - 0s 4ms/step - loss: 0.0462 - mae: 0.0054 - val_loss: 0.0458 - val_mae: 0.0163\n",
      "Epoch 26/200\n",
      "109/109 [==============================] - 0s 4ms/step - loss: 0.0450 - mae: 0.0085 - val_loss: 0.0449 - val_mae: 0.0228\n",
      "Epoch 27/200\n",
      "109/109 [==============================] - 0s 4ms/step - loss: 0.0436 - mae: 0.0070 - val_loss: 0.0440 - val_mae: 0.0256\n",
      "Epoch 28/200\n",
      "109/109 [==============================] - 0s 4ms/step - loss: 0.0425 - mae: 0.0120 - val_loss: 0.0418 - val_mae: 0.0132\n",
      "Epoch 29/200\n",
      "109/109 [==============================] - 0s 4ms/step - loss: 0.0411 - mae: 0.0085 - val_loss: 0.0403 - val_mae: 0.0045\n",
      "Epoch 30/200\n",
      "109/109 [==============================] - 0s 4ms/step - loss: 0.0397 - mae: 0.0055 - val_loss: 0.0391 - val_mae: 0.0034\n",
      "Epoch 31/200\n",
      "109/109 [==============================] - 0s 4ms/step - loss: 0.0385 - mae: 0.0055 - val_loss: 0.0383 - val_mae: 0.0189\n",
      "Epoch 32/200\n",
      "109/109 [==============================] - 1s 5ms/step - loss: 0.0375 - mae: 0.0096 - val_loss: 0.0367 - val_mae: 0.0088\n",
      "Epoch 33/200\n",
      "109/109 [==============================] - 0s 4ms/step - loss: 0.0361 - mae: 0.0052 - val_loss: 0.0357 - val_mae: 0.0104\n",
      "Epoch 34/200\n",
      "109/109 [==============================] - 1s 5ms/step - loss: 0.0351 - mae: 0.0115 - val_loss: 0.0343 - val_mae: 0.0034\n",
      "Epoch 35/200\n",
      "109/109 [==============================] - 0s 5ms/step - loss: 0.0338 - mae: 0.0042 - val_loss: 0.0332 - val_mae: 0.0033\n",
      "Epoch 36/200\n",
      "109/109 [==============================] - 0s 4ms/step - loss: 0.0327 - mae: 0.0080 - val_loss: 0.0329 - val_mae: 0.0215\n",
      "Epoch 37/200\n",
      "109/109 [==============================] - 0s 4ms/step - loss: 0.0317 - mae: 0.0094 - val_loss: 0.0311 - val_mae: 0.0113\n",
      "Epoch 38/200\n",
      "109/109 [==============================] - 0s 4ms/step - loss: 0.0306 - mae: 0.0092 - val_loss: 0.0299 - val_mae: 0.0044\n",
      "Epoch 39/200\n",
      "109/109 [==============================] - 0s 4ms/step - loss: 0.0294 - mae: 0.0051 - val_loss: 0.0288 - val_mae: 0.0052\n",
      "Epoch 40/200\n",
      "109/109 [==============================] - 0s 4ms/step - loss: 0.0283 - mae: 0.0058 - val_loss: 0.0280 - val_mae: 0.0134\n",
      "Epoch 41/200\n",
      "109/109 [==============================] - 1s 5ms/step - loss: 0.0276 - mae: 0.0122 - val_loss: 0.0278 - val_mae: 0.0268\n",
      "Epoch 42/200\n",
      "109/109 [==============================] - 0s 5ms/step - loss: 0.0264 - mae: 0.0071 - val_loss: 0.0260 - val_mae: 0.0131\n",
      "Epoch 43/200\n",
      "109/109 [==============================] - 0s 4ms/step - loss: 0.0254 - mae: 0.0073 - val_loss: 0.0248 - val_mae: 0.0035\n",
      "Epoch 44/200\n",
      "109/109 [==============================] - 0s 4ms/step - loss: 0.0243 - mae: 0.0039 - val_loss: 0.0239 - val_mae: 0.0048\n",
      "Epoch 45/200\n",
      "109/109 [==============================] - 0s 4ms/step - loss: 0.0234 - mae: 0.0047 - val_loss: 0.0231 - val_mae: 0.0118\n",
      "Epoch 46/200\n",
      "109/109 [==============================] - 0s 4ms/step - loss: 0.0226 - mae: 0.0089 - val_loss: 0.0220 - val_mae: 0.0055\n",
      "Epoch 47/200\n",
      "109/109 [==============================] - 0s 4ms/step - loss: 0.0216 - mae: 0.0046 - val_loss: 0.0211 - val_mae: 0.0038\n",
      "Epoch 48/200\n",
      "109/109 [==============================] - 0s 4ms/step - loss: 0.0207 - mae: 0.0063 - val_loss: 0.0202 - val_mae: 0.0047\n",
      "Epoch 49/200\n",
      "109/109 [==============================] - 0s 4ms/step - loss: 0.0198 - mae: 0.0045 - val_loss: 0.0193 - val_mae: 0.0041\n",
      "Epoch 50/200\n",
      "109/109 [==============================] - 0s 4ms/step - loss: 0.0193 - mae: 0.0109 - val_loss: 0.0185 - val_mae: 0.0046\n",
      "Epoch 51/200\n",
      "109/109 [==============================] - 0s 5ms/step - loss: 0.0181 - mae: 0.0049 - val_loss: 0.0177 - val_mae: 0.0068\n",
      "Epoch 52/200\n",
      "109/109 [==============================] - 0s 4ms/step - loss: 0.0173 - mae: 0.0044 - val_loss: 0.0170 - val_mae: 0.0062\n",
      "Epoch 53/200\n",
      "109/109 [==============================] - 0s 4ms/step - loss: 0.0166 - mae: 0.0085 - val_loss: 0.0163 - val_mae: 0.0106\n",
      "Epoch 54/200\n",
      "109/109 [==============================] - 0s 4ms/step - loss: 0.0158 - mae: 0.0057 - val_loss: 0.0155 - val_mae: 0.0080\n",
      "Epoch 55/200\n",
      "109/109 [==============================] - 0s 4ms/step - loss: 0.0152 - mae: 0.0086 - val_loss: 0.0150 - val_mae: 0.0154\n",
      "Epoch 56/200\n",
      "109/109 [==============================] - 0s 4ms/step - loss: 0.0144 - mae: 0.0070 - val_loss: 0.0141 - val_mae: 0.0091\n",
      "Epoch 57/200\n",
      "109/109 [==============================] - 0s 4ms/step - loss: 0.0138 - mae: 0.0080 - val_loss: 0.0134 - val_mae: 0.0083\n",
      "Epoch 58/200\n",
      "109/109 [==============================] - 0s 4ms/step - loss: 0.0130 - mae: 0.0039 - val_loss: 0.0127 - val_mae: 0.0030\n",
      "Epoch 59/200\n",
      "109/109 [==============================] - 0s 4ms/step - loss: 0.0124 - mae: 0.0051 - val_loss: 0.0123 - val_mae: 0.0140\n",
      "Epoch 60/200\n",
      "109/109 [==============================] - 0s 4ms/step - loss: 0.0118 - mae: 0.0060 - val_loss: 0.0114 - val_mae: 0.0046\n",
      "Epoch 61/200\n",
      "109/109 [==============================] - 0s 4ms/step - loss: 0.0112 - mae: 0.0072 - val_loss: 0.0111 - val_mae: 0.0141\n",
      "Epoch 62/200\n",
      "109/109 [==============================] - 0s 4ms/step - loss: 0.0106 - mae: 0.0060 - val_loss: 0.0103 - val_mae: 0.0042\n",
      "Epoch 63/200\n",
      "109/109 [==============================] - 0s 4ms/step - loss: 0.0101 - mae: 0.0070 - val_loss: 0.0097 - val_mae: 0.0037\n",
      "Epoch 64/200\n",
      "109/109 [==============================] - 0s 4ms/step - loss: 0.0095 - mae: 0.0051 - val_loss: 0.0092 - val_mae: 0.0054\n",
      "Epoch 65/200\n",
      "109/109 [==============================] - 0s 4ms/step - loss: 0.0090 - mae: 0.0049 - val_loss: 0.0087 - val_mae: 0.0047\n",
      "Epoch 66/200\n",
      "109/109 [==============================] - 0s 4ms/step - loss: 0.0086 - mae: 0.0075 - val_loss: 0.0087 - val_mae: 0.0162\n",
      "Epoch 67/200\n",
      "109/109 [==============================] - 0s 4ms/step - loss: 0.0081 - mae: 0.0065 - val_loss: 0.0079 - val_mae: 0.0116\n",
      "Epoch 68/200\n",
      "109/109 [==============================] - 0s 3ms/step - loss: 0.0076 - mae: 0.0079 - val_loss: 0.0074 - val_mae: 0.0077\n",
      "Epoch 69/200\n",
      "109/109 [==============================] - 0s 4ms/step - loss: 0.0072 - mae: 0.0044 - val_loss: 0.0069 - val_mae: 0.0042\n",
      "Epoch 70/200\n",
      "109/109 [==============================] - 0s 4ms/step - loss: 0.0068 - mae: 0.0055 - val_loss: 0.0066 - val_mae: 0.0050\n",
      "Epoch 71/200\n",
      "109/109 [==============================] - 0s 4ms/step - loss: 0.0064 - mae: 0.0072 - val_loss: 0.0062 - val_mae: 0.0068\n",
      "Epoch 72/200\n",
      "109/109 [==============================] - 0s 4ms/step - loss: 0.0060 - mae: 0.0042 - val_loss: 0.0065 - val_mae: 0.0218\n",
      "Epoch 73/200\n",
      "109/109 [==============================] - 0s 4ms/step - loss: 0.0058 - mae: 0.0093 - val_loss: 0.0055 - val_mae: 0.0043\n",
      "Epoch 74/200\n",
      "109/109 [==============================] - 0s 4ms/step - loss: 0.0054 - mae: 0.0052 - val_loss: 0.0052 - val_mae: 0.0031\n",
      "Epoch 75/200\n",
      "109/109 [==============================] - 0s 4ms/step - loss: 0.0051 - mae: 0.0044 - val_loss: 0.0050 - val_mae: 0.0066\n",
      "Epoch 76/200\n",
      "109/109 [==============================] - 0s 4ms/step - loss: 0.0048 - mae: 0.0050 - val_loss: 0.0047 - val_mae: 0.0065\n",
      "Epoch 77/200\n",
      "109/109 [==============================] - 0s 4ms/step - loss: 0.0045 - mae: 0.0058 - val_loss: 0.0044 - val_mae: 0.0074\n",
      "Epoch 78/200\n",
      "109/109 [==============================] - 0s 3ms/step - loss: 0.0044 - mae: 0.0082 - val_loss: 0.0043 - val_mae: 0.0106\n",
      "Epoch 79/200\n",
      "109/109 [==============================] - 0s 4ms/step - loss: 0.0041 - mae: 0.0059 - val_loss: 0.0040 - val_mae: 0.0076\n",
      "Epoch 80/200\n",
      "109/109 [==============================] - 0s 4ms/step - loss: 0.0038 - mae: 0.0056 - val_loss: 0.0037 - val_mae: 0.0044\n",
      "Epoch 81/200\n",
      "109/109 [==============================] - 0s 4ms/step - loss: 0.0036 - mae: 0.0060 - val_loss: 0.0038 - val_mae: 0.0138\n",
      "Epoch 82/200\n",
      "109/109 [==============================] - 0s 4ms/step - loss: 0.0034 - mae: 0.0055 - val_loss: 0.0033 - val_mae: 0.0048\n",
      "Epoch 83/200\n",
      "109/109 [==============================] - 0s 4ms/step - loss: 0.0033 - mae: 0.0062 - val_loss: 0.0032 - val_mae: 0.0058\n",
      "Epoch 84/200\n",
      "109/109 [==============================] - 0s 4ms/step - loss: 0.0031 - mae: 0.0057 - val_loss: 0.0035 - val_mae: 0.0161\n",
      "Epoch 85/200\n",
      "109/109 [==============================] - 0s 4ms/step - loss: 0.0030 - mae: 0.0075 - val_loss: 0.0029 - val_mae: 0.0078\n",
      "Epoch 86/200\n",
      "109/109 [==============================] - 0s 4ms/step - loss: 0.0028 - mae: 0.0064 - val_loss: 0.0027 - val_mae: 0.0039\n",
      "Epoch 87/200\n",
      "109/109 [==============================] - 0s 4ms/step - loss: 0.0027 - mae: 0.0044 - val_loss: 0.0027 - val_mae: 0.0082\n",
      "Epoch 88/200\n",
      "109/109 [==============================] - 0s 4ms/step - loss: 0.0026 - mae: 0.0061 - val_loss: 0.0027 - val_mae: 0.0130\n",
      "Epoch 89/200\n",
      "109/109 [==============================] - 0s 4ms/step - loss: 0.0025 - mae: 0.0069 - val_loss: 0.0025 - val_mae: 0.0127\n",
      "Epoch 90/200\n",
      "109/109 [==============================] - 0s 4ms/step - loss: 0.0024 - mae: 0.0063 - val_loss: 0.0025 - val_mae: 0.0131\n",
      "Epoch 91/200\n",
      "109/109 [==============================] - 0s 4ms/step - loss: 0.0023 - mae: 0.0063 - val_loss: 0.0023 - val_mae: 0.0101\n",
      "Epoch 92/200\n",
      "109/109 [==============================] - 0s 4ms/step - loss: 0.0023 - mae: 0.0093 - val_loss: 0.0022 - val_mae: 0.0089\n",
      "Epoch 93/200\n",
      "109/109 [==============================] - 0s 4ms/step - loss: 0.0021 - mae: 0.0057 - val_loss: 0.0021 - val_mae: 0.0105\n",
      "Epoch 94/200\n",
      "109/109 [==============================] - 0s 4ms/step - loss: 0.0020 - mae: 0.0049 - val_loss: 0.0020 - val_mae: 0.0088\n",
      "Epoch 95/200\n",
      "109/109 [==============================] - 0s 3ms/step - loss: 0.0019 - mae: 0.0051 - val_loss: 0.0021 - val_mae: 0.0113\n",
      "Epoch 96/200\n",
      "109/109 [==============================] - 0s 4ms/step - loss: 0.0019 - mae: 0.0076 - val_loss: 0.0019 - val_mae: 0.0074\n",
      "Epoch 97/200\n",
      "109/109 [==============================] - 0s 4ms/step - loss: 0.0019 - mae: 0.0088 - val_loss: 0.0020 - val_mae: 0.0144\n",
      "Epoch 98/200\n",
      "109/109 [==============================] - 0s 4ms/step - loss: 0.0018 - mae: 0.0062 - val_loss: 0.0017 - val_mae: 0.0037\n",
      "Epoch 99/200\n",
      "109/109 [==============================] - 0s 4ms/step - loss: 0.0017 - mae: 0.0044 - val_loss: 0.0017 - val_mae: 0.0029\n",
      "Epoch 100/200\n",
      "109/109 [==============================] - 0s 4ms/step - loss: 0.0017 - mae: 0.0054 - val_loss: 0.0017 - val_mae: 0.0086\n",
      "Epoch 101/200\n",
      "109/109 [==============================] - 0s 3ms/step - loss: 0.0017 - mae: 0.0065 - val_loss: 0.0016 - val_mae: 0.0061\n",
      "Epoch 102/200\n",
      "109/109 [==============================] - 0s 4ms/step - loss: 0.0016 - mae: 0.0048 - val_loss: 0.0018 - val_mae: 0.0151\n",
      "Epoch 103/200\n",
      "109/109 [==============================] - 0s 4ms/step - loss: 0.0016 - mae: 0.0077 - val_loss: 0.0015 - val_mae: 0.0044\n",
      "Epoch 104/200\n",
      "109/109 [==============================] - 0s 4ms/step - loss: 0.0016 - mae: 0.0066 - val_loss: 0.0015 - val_mae: 0.0055\n",
      "Epoch 105/200\n",
      "109/109 [==============================] - 0s 4ms/step - loss: 0.0015 - mae: 0.0047 - val_loss: 0.0015 - val_mae: 0.0040\n",
      "Epoch 106/200\n",
      "109/109 [==============================] - 0s 4ms/step - loss: 0.0015 - mae: 0.0049 - val_loss: 0.0026 - val_mae: 0.0309\n",
      "Epoch 107/200\n",
      "109/109 [==============================] - 0s 4ms/step - loss: 0.0016 - mae: 0.0093 - val_loss: 0.0014 - val_mae: 0.0050\n",
      "Epoch 108/200\n",
      "109/109 [==============================] - 0s 4ms/step - loss: 0.0014 - mae: 0.0046 - val_loss: 0.0014 - val_mae: 0.0051\n",
      "Epoch 109/200\n",
      "109/109 [==============================] - 0s 4ms/step - loss: 0.0014 - mae: 0.0058 - val_loss: 0.0016 - val_mae: 0.0107\n",
      "Epoch 110/200\n",
      "109/109 [==============================] - 0s 4ms/step - loss: 0.0014 - mae: 0.0058 - val_loss: 0.0015 - val_mae: 0.0114\n",
      "Epoch 111/200\n",
      "109/109 [==============================] - 0s 4ms/step - loss: 0.0014 - mae: 0.0065 - val_loss: 0.0014 - val_mae: 0.0103\n",
      "Epoch 112/200\n",
      "109/109 [==============================] - 0s 4ms/step - loss: 0.0013 - mae: 0.0061 - val_loss: 0.0013 - val_mae: 0.0038\n",
      "Epoch 113/200\n",
      "109/109 [==============================] - 0s 4ms/step - loss: 0.0013 - mae: 0.0061 - val_loss: 0.0013 - val_mae: 0.0038\n",
      "Epoch 114/200\n",
      "109/109 [==============================] - 0s 4ms/step - loss: 0.0014 - mae: 0.0084 - val_loss: 0.0014 - val_mae: 0.0124\n",
      "Epoch 115/200\n",
      "109/109 [==============================] - 0s 4ms/step - loss: 0.0013 - mae: 0.0059 - val_loss: 0.0013 - val_mae: 0.0076\n",
      "Epoch 116/200\n",
      "109/109 [==============================] - 0s 4ms/step - loss: 0.0013 - mae: 0.0060 - val_loss: 0.0013 - val_mae: 0.0064\n",
      "Epoch 117/200\n",
      "109/109 [==============================] - 0s 4ms/step - loss: 0.0013 - mae: 0.0060 - val_loss: 0.0013 - val_mae: 0.0058\n",
      "Epoch 118/200\n",
      "109/109 [==============================] - 0s 4ms/step - loss: 0.0013 - mae: 0.0073 - val_loss: 0.0014 - val_mae: 0.0135\n",
      "Epoch 119/200\n",
      "109/109 [==============================] - 1s 5ms/step - loss: 0.0013 - mae: 0.0071 - val_loss: 0.0013 - val_mae: 0.0110\n",
      "Epoch 120/200\n",
      "109/109 [==============================] - 0s 4ms/step - loss: 0.0012 - mae: 0.0051 - val_loss: 0.0014 - val_mae: 0.0121\n",
      "Epoch 121/200\n",
      "109/109 [==============================] - 0s 4ms/step - loss: 0.0013 - mae: 0.0076 - val_loss: 0.0014 - val_mae: 0.0117\n",
      "Epoch 122/200\n",
      "109/109 [==============================] - 0s 4ms/step - loss: 0.0012 - mae: 0.0055 - val_loss: 0.0013 - val_mae: 0.0115\n",
      "Epoch 123/200\n",
      "109/109 [==============================] - 0s 4ms/step - loss: 0.0012 - mae: 0.0055 - val_loss: 0.0012 - val_mae: 0.0037\n",
      "Epoch 124/200\n",
      "109/109 [==============================] - 0s 4ms/step - loss: 0.0012 - mae: 0.0052 - val_loss: 0.0011 - val_mae: 0.0034\n",
      "Epoch 125/200\n",
      "109/109 [==============================] - 0s 4ms/step - loss: 0.0012 - mae: 0.0058 - val_loss: 0.0013 - val_mae: 0.0123\n",
      "Epoch 126/200\n",
      "109/109 [==============================] - 0s 4ms/step - loss: 0.0012 - mae: 0.0065 - val_loss: 0.0011 - val_mae: 0.0049\n",
      "Epoch 127/200\n",
      "109/109 [==============================] - 0s 4ms/step - loss: 0.0011 - mae: 0.0054 - val_loss: 0.0011 - val_mae: 0.0058\n",
      "Epoch 128/200\n",
      "109/109 [==============================] - 0s 4ms/step - loss: 0.0011 - mae: 0.0050 - val_loss: 0.0012 - val_mae: 0.0065\n",
      "Epoch 129/200\n",
      "109/109 [==============================] - 0s 3ms/step - loss: 0.0012 - mae: 0.0070 - val_loss: 0.0011 - val_mae: 0.0065\n",
      "Epoch 130/200\n",
      "109/109 [==============================] - 0s 4ms/step - loss: 0.0012 - mae: 0.0083 - val_loss: 0.0011 - val_mae: 0.0059\n",
      "Epoch 131/200\n",
      "109/109 [==============================] - 0s 4ms/step - loss: 0.0011 - mae: 0.0049 - val_loss: 0.0012 - val_mae: 0.0116\n",
      "Epoch 132/200\n",
      "109/109 [==============================] - 0s 4ms/step - loss: 0.0011 - mae: 0.0060 - val_loss: 0.0011 - val_mae: 0.0070\n",
      "Epoch 133/200\n",
      "109/109 [==============================] - 0s 4ms/step - loss: 0.0011 - mae: 0.0050 - val_loss: 0.0015 - val_mae: 0.0171\n",
      "Epoch 134/200\n",
      "109/109 [==============================] - 0s 4ms/step - loss: 0.0012 - mae: 0.0073 - val_loss: 0.0012 - val_mae: 0.0111\n",
      "Epoch 135/200\n",
      "109/109 [==============================] - 0s 3ms/step - loss: 0.0011 - mae: 0.0058 - val_loss: 0.0011 - val_mae: 0.0063\n",
      "Epoch 136/200\n",
      "109/109 [==============================] - 0s 4ms/step - loss: 0.0011 - mae: 0.0054 - val_loss: 0.0012 - val_mae: 0.0117\n",
      "Epoch 137/200\n",
      "109/109 [==============================] - 0s 3ms/step - loss: 0.0011 - mae: 0.0054 - val_loss: 0.0025 - val_mae: 0.0261\n",
      "Epoch 138/200\n",
      "109/109 [==============================] - 0s 4ms/step - loss: 0.0012 - mae: 0.0078 - val_loss: 0.0011 - val_mae: 0.0056\n",
      "Epoch 139/200\n",
      "109/109 [==============================] - 0s 3ms/step - loss: 0.0010 - mae: 0.0047 - val_loss: 0.0011 - val_mae: 0.0080\n",
      "Epoch 140/200\n",
      "109/109 [==============================] - 0s 3ms/step - loss: 0.0010 - mae: 0.0053 - val_loss: 0.0011 - val_mae: 0.0056\n",
      "Epoch 141/200\n",
      "109/109 [==============================] - 0s 3ms/step - loss: 0.0010 - mae: 0.0048 - val_loss: 0.0011 - val_mae: 0.0080\n",
      "Epoch 142/200\n",
      "109/109 [==============================] - 0s 4ms/step - loss: 0.0011 - mae: 0.0067 - val_loss: 0.0010 - val_mae: 0.0037\n",
      "Epoch 143/200\n",
      "109/109 [==============================] - 0s 4ms/step - loss: 0.0011 - mae: 0.0067 - val_loss: 0.0011 - val_mae: 0.0092\n",
      "Epoch 144/200\n",
      "109/109 [==============================] - 0s 4ms/step - loss: 0.0011 - mae: 0.0070 - val_loss: 0.0010 - val_mae: 0.0069\n",
      "Epoch 145/200\n",
      "109/109 [==============================] - 0s 4ms/step - loss: 0.0010 - mae: 0.0063 - val_loss: 0.0011 - val_mae: 0.0076\n",
      "Epoch 146/200\n",
      " 97/109 [=========================>....] - ETA: 0s - loss: 0.0011 - mae: 0.0076Restoring model weights from the end of the best epoch: 141.\n",
      "109/109 [==============================] - 0s 3ms/step - loss: 0.0011 - mae: 0.0078 - val_loss: 0.0012 - val_mae: 0.0134\n",
      "Epoch 146: early stopping\n"
     ]
    }
   ],
   "source": [
    "# Netzwerkarchitektur\n",
    "model = Sequential([\n",
    "\n",
    "    Dense(136, activation='relu', input_shape=(2,), kernel_initializer='he_uniform', kernel_regularizer=l2(0.0001)),\n",
    "\n",
    "    Dense(216, activation='relu', kernel_initializer='he_uniform', kernel_regularizer=l2(0.0001)),\n",
    "    \n",
    "    Dense(104, activation='relu', kernel_initializer='he_uniform', kernel_regularizer=l2(0.0001)),\n",
    "    \n",
    "    Dense(328, activation='relu', kernel_initializer='he_uniform', kernel_regularizer=l2(0.0001)),\n",
    "\n",
    "    Dense(8, activation='relu', kernel_initializer='he_uniform', kernel_regularizer=l2(0.0001)),\n",
    "\n",
    "    Dense(120, activation='relu', kernel_initializer='he_uniform', kernel_regularizer=l2(0.0001)),\n",
    "    \n",
    "    #Dense(216, activation='relu', kernel_initializer='he_uniform', kernel_regularizer=l2(0.0001)),\n",
    "\n",
    "    Dense(1 , activation = 'linear')\n",
    "])\n",
    "\n",
    "# Optimierer\n",
    "optimizer = tf.keras.optimizers.Adam(learning_rate=0.001)\n",
    "\n",
    "# Modell kompilieren (Verwendung von mean_squared_error als Verlustfunktion für Regression)\n",
    "model.compile(optimizer=optimizer,\n",
    "              loss='mean_squared_error',\n",
    "              metrics=['mae'])  # Metriken für Regression: Mean Absolute Error und Mean Squared Error\n",
    "\n",
    "# Early Stopping Callback\n",
    "early_stopping = EarlyStopping(monitor='loss', patience=5, verbose=1, mode='min', restore_best_weights=True)\n",
    "\n",
    "# Trainingsparameter\n",
    "batch_size = 150\n",
    "epochs = 200\n",
    "\n",
    "# Modell trainieren (Annahme: X_train, y_train, X_val, y_val sind vordefiniert)\n",
    "history = model.fit(X_train_scaled, y_train_scaled,\n",
    "                    batch_size=batch_size,\n",
    "                    epochs=epochs,\n",
    "                    validation_split=0.2,\n",
    "                    callbacks=[early_stopping])"
   ],
   "metadata": {
    "collapsed": false,
    "ExecuteTime": {
     "end_time": "2024-03-15T09:48:19.127394400Z",
     "start_time": "2024-03-15T09:47:14.946967200Z"
    }
   },
   "id": "8b52e1a9a6ff3aeb"
  },
  {
   "cell_type": "code",
   "execution_count": 31,
   "outputs": [
    {
     "name": "stdout",
     "output_type": "stream",
     "text": [
      "159/159 - 0s - loss: 0.0011 - mae: 0.0080 - 196ms/epoch - 1ms/step\n"
     ]
    },
    {
     "data": {
      "text/plain": "[0.0010763704776763916, 0.008039509877562523]"
     },
     "execution_count": 31,
     "metadata": {},
     "output_type": "execute_result"
    }
   ],
   "source": [
    "results = model.evaluate(X_test_scaled, y_test_scaled, verbose=2)\n",
    "results"
   ],
   "metadata": {
    "collapsed": false,
    "ExecuteTime": {
     "end_time": "2024-03-15T09:48:19.368762400Z",
     "start_time": "2024-03-15T09:48:19.113391900Z"
    }
   },
   "id": "f27ef8e901869c23"
  },
  {
   "cell_type": "code",
   "execution_count": 32,
   "outputs": [
    {
     "name": "stdout",
     "output_type": "stream",
     "text": [
      " Bsp. Predicted: [1297.1503] Actual: [1286.9] \n",
      "Durchschnittliche Abweichung (MAE): [7.61983165]\n"
     ]
    }
   ],
   "source": [
    "scaled_predicted_values = model.predict(X_test_scaled, verbose = 0)\n",
    "\n",
    "# Führen Sie die Rücktransformation der skalierten Werte durch\n",
    "original_predicted_values = scaler_target.inverse_transform(scaled_predicted_values)\n",
    "original_actual_values = scaler_target.inverse_transform(y_test_scaled)  # y_test sind die skalierten tatsächlichen Werte\n",
    "print(f' Bsp. Predicted: {original_predicted_values[100]} Actual: {original_actual_values[100]} ')\n",
    "\n",
    "def calculate_mae(list1, list2):\n",
    "    # Stelle sicher, dass beide Listen die gleiche Länge haben\n",
    "    if len(list1) != len(list2):\n",
    "        raise ValueError(\"Listen müssen die gleiche Länge haben\")\n",
    "\n",
    "    # Berechne die absolute Differenz zwischen den Elementen der Listen\n",
    "    differences = [abs(x - y) for x, y in zip(list1, list2)]\n",
    "\n",
    "    # Berechne den Durchschnitt der absoluten Differenzen\n",
    "    mae = sum(differences) / len(differences)\n",
    "\n",
    "    return mae\n",
    "\n",
    "# Beispiel\n",
    "list1 = original_predicted_values\n",
    "list2 = original_actual_values\n",
    "\n",
    "mae = calculate_mae(list1, list2)\n",
    "print(f\"Durchschnittliche Abweichung (MAE): {mae}\")\n"
   ],
   "metadata": {
    "collapsed": false,
    "ExecuteTime": {
     "end_time": "2024-03-15T09:48:19.749692700Z",
     "start_time": "2024-03-15T09:48:19.355763600Z"
    }
   },
   "id": "b1e271125bed3df7"
  },
  {
   "cell_type": "code",
   "execution_count": 33,
   "outputs": [
    {
     "name": "stdout",
     "output_type": "stream",
     "text": [
      "R^2: [0.99892046]\n"
     ]
    }
   ],
   "source": [
    "def calculate_r_squared(predicted, actual):\n",
    "    # Berechnung des Mittelwerts der tatsächlichen Werte\n",
    "    mean_actual = sum(actual) / len(actual)\n",
    "    \n",
    "    # Berechnung der totalen Summe der Quadrate (SST)\n",
    "    sst = sum((x - mean_actual) ** 2 for x in actual)\n",
    "    \n",
    "    # Berechnung der Summe der Quadrate der Residuen (SSE)\n",
    "    sse = sum((actual[i] - predicted[i]) ** 2 for i in range(len(actual)))\n",
    "    \n",
    "    # Berechnung des R^2-Wertes\n",
    "    r_squared = 1 - (sse / sst)\n",
    "    \n",
    "    return r_squared\n",
    "\n",
    "# Berechnung von R^2 mit den bereitgestellten Listen\n",
    "r_squared = calculate_r_squared(list1, list2)\n",
    "\n",
    "print(f\"R^2: {r_squared}\")"
   ],
   "metadata": {
    "collapsed": false,
    "ExecuteTime": {
     "end_time": "2024-03-15T09:48:19.809105600Z",
     "start_time": "2024-03-15T09:48:19.752693Z"
    }
   },
   "id": "79a9ed0f6e7bf14e"
  },
  {
   "cell_type": "code",
   "execution_count": 34,
   "outputs": [
    {
     "data": {
      "text/plain": "<Figure size 1000x600 with 1 Axes>",
      "image/png": "[encoded data removed]"
     },
     "metadata": {},
     "output_type": "display_data"
    }
   ],
   "source": [
    "mae = history.history['loss']\n",
    "val_mae = history.history['val_loss']\n",
    "\n",
    "epochs = range(1, len(mae) + 1)\n",
    "\n",
    "# MAE Diagramm\n",
    "plt.figure(figsize=(10, 6))\n",
    "plt.plot(epochs, mae, 'r', label='Training MSE')\n",
    "plt.plot(epochs, val_mae, 'b', label='Validation MSE')\n",
    "plt.title('Training and Validation MSE')\n",
    "plt.xlabel('Epochs')\n",
    "plt.ylabel('MAE')\n",
    "plt.legend()\n",
    "plt.savefig('C:/Users/erikm/Desktop/Diplomarbeit Erik Marr/Bilder Diplomarbeit/MSE_NeuroNetz/MSE_NeuroNetz_D2_1')\n",
    "plt.show()\n"
   ],
   "metadata": {
    "collapsed": false,
    "ExecuteTime": {
     "end_time": "2024-03-15T09:48:20.071653900Z",
     "start_time": "2024-03-15T09:48:19.795104900Z"
    }
   },
   "id": "3688dd7102e95baf"
  },
  {
   "cell_type": "code",
   "execution_count": 34,
   "id": "9f6f672a",
   "metadata": {
    "ExecuteTime": {
     "end_time": "2024-03-15T09:48:20.079621500Z",
     "start_time": "2024-03-15T09:48:20.071103200Z"
    }
   },
   "outputs": [],
   "source": []
  },
  {
   "cell_type": "code",
   "execution_count": 35,
   "outputs": [
    {
     "name": "stdout",
     "output_type": "stream",
     "text": [
      "Anzahl der Werte die kleiner sind: 5045\n"
     ]
    },
    {
     "data": {
      "text/plain": "             Echt  Vorhergesagt  X-Koordinate  Y-Koordinate  Differenz\n2493   816.117737        836.38         0.992         0.900 -20.262263\n2316   736.878540        755.11         0.992         0.930 -18.231460\n2187   776.450989        793.93         0.976         0.915 -17.479011\n2696   802.870056        820.06         0.976         0.905 -17.189944\n2476   874.285461        890.55         1.000         0.875 -16.264539\n...           ...           ...           ...           ...        ...\n1631   690.877136        663.16         0.888         0.000  27.717136\n3510  1114.422119       1086.50         1.000         0.245  27.922119\n2363  1152.861572       1124.30         0.992         0.280  28.561572\n2346  1161.191406       1132.60         1.000         0.295  28.591406\n3079  1153.103149       1123.20         1.000         0.285  29.903149\n\n[5066 rows x 5 columns]",
      "text/html": "<div>\n<style scoped>\n    .dataframe tbody tr th:only-of-type {\n        vertical-align: middle;\n    }\n\n    .dataframe tbody tr th {\n        vertical-align: top;\n    }\n\n    .dataframe thead th {\n        text-align: right;\n    }\n</style>\n<table border=\"1\" class=\"dataframe\">\n  <thead>\n    <tr style=\"text-align: right;\">\n      <th></th>\n      <th>Echt</th>\n      <th>Vorhergesagt</th>\n      <th>X-Koordinate</th>\n      <th>Y-Koordinate</th>\n      <th>Differenz</th>\n    </tr>\n  </thead>\n  <tbody>\n    <tr>\n      <th>2493</th>\n      <td>816.117737</td>\n      <td>836.38</td>\n      <td>0.992</td>\n      <td>0.900</td>\n      <td>-20.262263</td>\n    </tr>\n    <tr>\n      <th>2316</th>\n      <td>736.878540</td>\n      <td>755.11</td>\n      <td>0.992</td>\n      <td>0.930</td>\n      <td>-18.231460</td>\n    </tr>\n    <tr>\n      <th>2187</th>\n      <td>776.450989</td>\n      <td>793.93</td>\n      <td>0.976</td>\n      <td>0.915</td>\n      <td>-17.479011</td>\n    </tr>\n    <tr>\n      <th>2696</th>\n      <td>802.870056</td>\n      <td>820.06</td>\n      <td>0.976</td>\n      <td>0.905</td>\n      <td>-17.189944</td>\n    </tr>\n    <tr>\n      <th>2476</th>\n      <td>874.285461</td>\n      <td>890.55</td>\n      <td>1.000</td>\n      <td>0.875</td>\n      <td>-16.264539</td>\n    </tr>\n    <tr>\n      <th>...</th>\n      <td>...</td>\n      <td>...</td>\n      <td>...</td>\n      <td>...</td>\n      <td>...</td>\n    </tr>\n    <tr>\n      <th>1631</th>\n      <td>690.877136</td>\n      <td>663.16</td>\n      <td>0.888</td>\n      <td>0.000</td>\n      <td>27.717136</td>\n    </tr>\n    <tr>\n      <th>3510</th>\n      <td>1114.422119</td>\n      <td>1086.50</td>\n      <td>1.000</td>\n      <td>0.245</td>\n      <td>27.922119</td>\n    </tr>\n    <tr>\n      <th>2363</th>\n      <td>1152.861572</td>\n      <td>1124.30</td>\n      <td>0.992</td>\n      <td>0.280</td>\n      <td>28.561572</td>\n    </tr>\n    <tr>\n      <th>2346</th>\n      <td>1161.191406</td>\n      <td>1132.60</td>\n      <td>1.000</td>\n      <td>0.295</td>\n      <td>28.591406</td>\n    </tr>\n    <tr>\n      <th>3079</th>\n      <td>1153.103149</td>\n      <td>1123.20</td>\n      <td>1.000</td>\n      <td>0.285</td>\n      <td>29.903149</td>\n    </tr>\n  </tbody>\n</table>\n<p>5066 rows × 5 columns</p>\n</div>"
     },
     "execution_count": 35,
     "metadata": {},
     "output_type": "execute_result"
    }
   ],
   "source": [
    "df_result = pd.DataFrame({'Echt': [val[0] for val in list1], 'Vorhergesagt': [val[0] for val in list2]})\n",
    "df_result['X-Koordinate'] = X_test_scaled[:, 0]\n",
    "df_result['Y-Koordinate'] = X_test_scaled[:, 1]\n",
    "\n",
    "df_result['Differenz'] = df_result['Echt'] - df_result['Vorhergesagt']\n",
    "df_result['Differenz'].sort_values()\n",
    "sorted_df = df_result.sort_values(by= 'Differenz')\n",
    "Anzahl_Punkte = (sorted_df['Differenz'] > -10).sum()\n",
    "print(\"Anzahl der Werte die kleiner sind:\", Anzahl_Punkte)\n",
    "\n",
    "sorted_df"
   ],
   "metadata": {
    "collapsed": false,
    "ExecuteTime": {
     "end_time": "2024-03-15T09:48:20.100363600Z",
     "start_time": "2024-03-15T09:48:20.076622200Z"
    }
   },
   "id": "6a9d8a95f5e95b9"
  },
  {
   "cell_type": "markdown",
   "id": "553df6fa",
   "metadata": {},
   "source": [
    "# GridSearch"
   ]
  },
  {
   "cell_type": "code",
   "execution_count": 36,
   "id": "1dca80c2",
   "metadata": {
    "ExecuteTime": {
     "end_time": "2024-03-15T09:48:20.199573800Z",
     "start_time": "2024-03-15T09:48:20.096439600Z"
    }
   },
   "outputs": [],
   "source": [
    "# def build_model(learning_rate=0.001, activation='relu', regularization=0.0001, dropout_rate=0.0):\n",
    "#     model = Sequential()\n",
    "#     model.add(Dense(264, activation=activation, input_shape=(2,), kernel_initializer='he_uniform', kernel_regularizer=l2(regularization)))\n",
    "#     model.add(Dropout(dropout_rate))\n",
    "# \n",
    "#     model.add(Dense(168, activation=activation, kernel_initializer='he_uniform', kernel_regularizer=l2(regularization)))\n",
    "#     model.add(Dropout(dropout_rate))\n",
    "# \n",
    "#     model.add(Dense(88, activation=activation, kernel_initializer='he_uniform', kernel_regularizer=l2(regularization)))\n",
    "#     model.add(Dropout(dropout_rate))\n",
    "# \n",
    "#     model.add(Dense(264, activation=activation, kernel_initializer='he_uniform', kernel_regularizer=l2(regularization)))\n",
    "#     model.add(Dropout(dropout_rate))\n",
    "# \n",
    "#     model.add(Dense(200, activation=activation, kernel_initializer='he_uniform', kernel_regularizer=l2(regularization)))\n",
    "#     model.add(Dropout(dropout_rate))\n",
    "# \n",
    "#     # model.add(Dense(192, activation=activation, kernel_initializer='he_uniform', kernel_regularizer=l2(regularization)))\n",
    "#     # model.add(Dropout(dropout_rate))\n",
    "#     # \n",
    "#     # model.add(Dense(32, activation=activation, kernel_initializer='he_uniform', kernel_regularizer=l2(regularization)))\n",
    "#     # model.add(Dropout(dropout_rate))\n",
    "#     # \n",
    "#     # model.add(Dense(448, activation=activation, kernel_initializer='he_uniform', kernel_regularizer=l2(regularization)))\n",
    "#     # model.add(Dropout(dropout_rate))    \n",
    "#     # \n",
    "#     # model.add(Dense(64, activation=activation, kernel_initializer='he_uniform', kernel_regularizer=l2(regularization)))\n",
    "#     # model.add(Dropout(dropout_rate))\n",
    "# \n",
    "#     model.add(Dense(1, activation='linear'))\n",
    "#     model.compile(optimizer=Adam(learning_rate=learning_rate), loss='mean_squared_error', metrics=['mae'])\n",
    "#     return model\n",
    "# \n",
    "# # Verwenden Sie eine Funktion, um das Modell zu instanziieren, für scikit-learn Wrapper\n",
    "# model = KerasRegressor(model=build_model, verbose=2)\n",
    "# \n",
    "# # Anpassung der Parameter im param_grid\n",
    "# param_grid = {\n",
    "#     'model__learning_rate': [0.01, 0.001, 0.0001],\n",
    "#     'model__regularization': [0.001, 0.0001],\n",
    "#     'fit__batch_size': [50, 100, 150, 200],\n",
    "#     'fit__epochs': [50],\n",
    "#     'model__dropout_rate' : [0.0, 0.1, 0.2]\n",
    "# }\n",
    "# \n",
    "# grid_search = GridSearchCV(estimator=model, param_grid=param_grid, n_jobs=-1, cv=3, verbose=2)\n",
    "# # Hinweis: Stellen Sie sicher, dass Ihre Daten (X_train_scaled, y_train_scaled) korrekt definiert sind\n",
    "# grid_result = grid_search.fit(X_train_scaled, y_train_scaled)\n",
    "# # Beste Parameter und Score ausgeben\n",
    "# print(\"Beste Parameter:\", grid_search.best_params_)\n",
    "# print(\"Beste Genauigkeit:\", grid_search.best_score_)\n",
    "# \n",
    "# with open(\"Gridsearch_D2_1.txt\", \"w\") as f:\n",
    "#     f.write(f\"Beste Parameter: {grid_search.best_params_}\\n\")\n",
    "#     f.write(f\"Beste Genauigkeit: {grid_search.best_score_}\")\n"
   ]
  },
  {
   "cell_type": "markdown",
   "source": [
    "# Random Search Architektur"
   ],
   "metadata": {
    "collapsed": false
   },
   "id": "315c4a978449b8a5"
  },
  {
   "cell_type": "code",
   "execution_count": 37,
   "outputs": [],
   "source": [
    "# # Funktion zum Erstellen des Modells\n",
    "# def build_model(hp):\n",
    "#     model = Sequential()\n",
    "#     model.add(Dense(hp.Int('input_units', min_value=8, max_value=328, step=16), input_shape=(2,), activation='relu'))\n",
    "#     for i in range(hp.Int('n_layers', 1, 10)):\n",
    "#         model.add(Dense(hp.Int(f'units_{i}', min_value=8, max_value=328, step=16), activation='relu'))\n",
    "#     model.add(Dense(1, activation='linear'))\n",
    "#     model.compile(optimizer='adam', loss='mean_squared_error')\n",
    "#     return model\n",
    "# \n",
    "# # Durchführung der Random Search dreimal\n",
    "# for run in range(1, 4):\n",
    "#     # Anpassen des Verzeichnisses und des Projektnamens für jeden Durchlauf\n",
    "#     directory = 'random_search'\n",
    "#     project_name = f'random_search_D2_{run}'\n",
    "#     \n",
    "#     tuner = RandomSearch(\n",
    "#         build_model,\n",
    "#         objective='val_loss',\n",
    "#         max_trials=100,\n",
    "#         executions_per_trial=1,\n",
    "#         directory=directory,\n",
    "#         project_name=project_name\n",
    "#     )\n",
    "#     \n",
    "#     # Durchführung des Random Search\n",
    "#     tuner.search(X_train_scaled, y_train_scaled, epochs=200, verbose =0, batch_size=50, validation_split=0.2, callbacks=[EarlyStopping(monitor='val_loss', patience=5)])\n",
    "#     \n",
    "#     # Abrufen und Speichern des besten Modells\n",
    "#     best_model = tuner.get_best_models(num_models=1)[0]\n",
    "#     model_path = os.path.join(directory, project_name, 'best_model.h5') \n",
    "#     best_model.save(model_path)\n",
    "#     \n",
    "# \n",
    "#     # Optional: Abrufen und Ausgeben der besten Hyperparameter\n",
    "#     best_hyperparameters = tuner.get_best_hyperparameters()[0]\n",
    "#     \n",
    "#     # Konvertieren der Hyperparameter in ein DataFrame\n",
    "#     df_hyperparameters = pd.DataFrame([best_hyperparameters.values])\n",
    "#     # Speichern des DataFrame als CSV\n",
    "#     df_hyperparameters.to_csv(f'random_search_D2_{run}.csv', index=False)\n",
    "#     \n",
    "#     print(f\"Beste Hyperparameter für Lauf {run}: {best_hyperparameters.values}\")"
   ],
   "metadata": {
    "collapsed": false,
    "ExecuteTime": {
     "end_time": "2024-03-15T09:48:20.201573Z",
     "start_time": "2024-03-15T09:48:20.104364500Z"
    }
   },
   "id": "611306fcc5b8bde8"
  },
  {
   "cell_type": "code",
   "execution_count": 37,
   "outputs": [],
   "source": [],
   "metadata": {
    "collapsed": false,
    "ExecuteTime": {
     "end_time": "2024-03-15T09:48:20.202573600Z",
     "start_time": "2024-03-15T09:48:20.109189300Z"
    }
   },
   "id": "35e7cad28493cba6"
  },
  {
   "cell_type": "code",
   "execution_count": 37,
   "outputs": [],
   "source": [],
   "metadata": {
    "collapsed": false,
    "ExecuteTime": {
     "end_time": "2024-03-15T09:48:20.202573600Z",
     "start_time": "2024-03-15T09:48:20.112985100Z"
    }
   },
   "id": "d4cb47043e0762a5"
  },
  {
   "cell_type": "code",
   "execution_count": 37,
   "outputs": [],
   "source": [],
   "metadata": {
    "collapsed": false,
    "ExecuteTime": {
     "end_time": "2024-03-15T09:48:20.202573600Z",
     "start_time": "2024-03-15T09:48:20.114985700Z"
    }
   },
   "id": "d26a7160fe0b33a8"
  }
 ],
 "metadata": {
  "kernelspec": {
   "display_name": "Python 3 (ipykernel)",
   "language": "python",
   "name": "python3"
  },
  "language_info": {
   "codemirror_mode": {
    "name": "ipython",
    "version": 3
   },
   "file_extension": ".py",
   "mimetype": "text/x-python",
   "name": "python",
   "nbconvert_exporter": "python",
   "pygments_lexer": "ipython3",
   "version": "3.11.4"
  }
 },
 "nbformat": 4,
 "nbformat_minor": 5
}
