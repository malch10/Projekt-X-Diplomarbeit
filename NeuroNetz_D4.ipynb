{
 "cells": [
  {
   "cell_type": "code",
   "execution_count": 2,
   "id": "94b0518e",
   "metadata": {
    "ExecuteTime": {
     "end_time": "2024-02-21T15:32:51.386420300Z",
     "start_time": "2024-02-21T15:32:48.619483300Z"
    }
   },
   "outputs": [
    {
     "name": "stdout",
     "output_type": "stream",
     "text": [
      "WARNING:tensorflow:From C:\\Users\\erikm\\Desktop\\Diplomarbeit Erik Marr\\Projekt X\\venv\\Lib\\site-packages\\keras\\src\\losses.py:2976: The name tf.losses.sparse_softmax_cross_entropy is deprecated. Please use tf.compat.v1.losses.sparse_softmax_cross_entropy instead.\n"
     ]
    }
   ],
   "source": [
    "import numpy as np\n",
    "import tensorflow as tf\n",
    "import matplotlib.pyplot as plt\n",
    "import pandas as pd\n",
    "from tensorflow import keras\n",
    "from tensorflow.keras.models import Sequential\n",
    "from tensorflow.keras.layers import Dense\n",
    "from sklearn.model_selection import train_test_split\n",
    "from tensorflow.keras import layers\n",
    "import glob\n",
    "\n",
    "from sklearn.preprocessing import MinMaxScaler, StandardScaler\n",
    "import pandas as pd\n",
    "\n",
    "from tensorflow.keras.models import Sequential\n",
    "from tensorflow.keras.layers import Dense , Dropout\n",
    "from sklearn.model_selection import GridSearchCV\n",
    "from scikeras.wrappers import KerasRegressor, KerasClassifier\n",
    "from tensorflow.keras.regularizers import l2\n",
    "from tensorflow.keras.callbacks import EarlyStopping\n",
    "from tensorflow.keras.optimizers import Adam\n"
   ]
  },
  {
   "cell_type": "code",
   "execution_count": 3,
   "id": "e4ff61b1",
   "metadata": {
    "ExecuteTime": {
     "end_time": "2024-02-21T15:32:51.406857600Z",
     "start_time": "2024-02-21T15:32:51.386420300Z"
    }
   },
   "outputs": [
    {
     "data": {
      "text/plain": "      X-Koordinate  Y-Koordinate  Zeitpunkt  Strom  Kraft  Temperatur\n0           0.0000      -0.00200        300   7000   9000      532.25\n1           0.0000      -0.00192        300   7000   9000      565.57\n2           0.0000      -0.00184        300   7000   9000      597.71\n3           0.0000      -0.00176        300   7000   9000      628.64\n4           0.0000      -0.00168        300   7000   9000      658.22\n...            ...           ...        ...    ...    ...         ...\n1066        0.0024       0.00168        300   7000   9000      643.44\n1067        0.0024       0.00176        300   7000   9000      605.59\n1068        0.0024       0.00184        300   7000   9000      546.94\n1069        0.0024       0.00192        300   7000   9000      487.60\n1070        0.0024       0.00200        300   7000   9000      475.74\n\n[1071 rows x 6 columns]",
      "text/html": "<div>\n<style scoped>\n    .dataframe tbody tr th:only-of-type {\n        vertical-align: middle;\n    }\n\n    .dataframe tbody tr th {\n        vertical-align: top;\n    }\n\n    .dataframe thead th {\n        text-align: right;\n    }\n</style>\n<table border=\"1\" class=\"dataframe\">\n  <thead>\n    <tr style=\"text-align: right;\">\n      <th></th>\n      <th>X-Koordinate</th>\n      <th>Y-Koordinate</th>\n      <th>Zeitpunkt</th>\n      <th>Strom</th>\n      <th>Kraft</th>\n      <th>Temperatur</th>\n    </tr>\n  </thead>\n  <tbody>\n    <tr>\n      <th>0</th>\n      <td>0.0000</td>\n      <td>-0.00200</td>\n      <td>300</td>\n      <td>7000</td>\n      <td>9000</td>\n      <td>532.25</td>\n    </tr>\n    <tr>\n      <th>1</th>\n      <td>0.0000</td>\n      <td>-0.00192</td>\n      <td>300</td>\n      <td>7000</td>\n      <td>9000</td>\n      <td>565.57</td>\n    </tr>\n    <tr>\n      <th>2</th>\n      <td>0.0000</td>\n      <td>-0.00184</td>\n      <td>300</td>\n      <td>7000</td>\n      <td>9000</td>\n      <td>597.71</td>\n    </tr>\n    <tr>\n      <th>3</th>\n      <td>0.0000</td>\n      <td>-0.00176</td>\n      <td>300</td>\n      <td>7000</td>\n      <td>9000</td>\n      <td>628.64</td>\n    </tr>\n    <tr>\n      <th>4</th>\n      <td>0.0000</td>\n      <td>-0.00168</td>\n      <td>300</td>\n      <td>7000</td>\n      <td>9000</td>\n      <td>658.22</td>\n    </tr>\n    <tr>\n      <th>...</th>\n      <td>...</td>\n      <td>...</td>\n      <td>...</td>\n      <td>...</td>\n      <td>...</td>\n      <td>...</td>\n    </tr>\n    <tr>\n      <th>1066</th>\n      <td>0.0024</td>\n      <td>0.00168</td>\n      <td>300</td>\n      <td>7000</td>\n      <td>9000</td>\n      <td>643.44</td>\n    </tr>\n    <tr>\n      <th>1067</th>\n      <td>0.0024</td>\n      <td>0.00176</td>\n      <td>300</td>\n      <td>7000</td>\n      <td>9000</td>\n      <td>605.59</td>\n    </tr>\n    <tr>\n      <th>1068</th>\n      <td>0.0024</td>\n      <td>0.00184</td>\n      <td>300</td>\n      <td>7000</td>\n      <td>9000</td>\n      <td>546.94</td>\n    </tr>\n    <tr>\n      <th>1069</th>\n      <td>0.0024</td>\n      <td>0.00192</td>\n      <td>300</td>\n      <td>7000</td>\n      <td>9000</td>\n      <td>487.60</td>\n    </tr>\n    <tr>\n      <th>1070</th>\n      <td>0.0024</td>\n      <td>0.00200</td>\n      <td>300</td>\n      <td>7000</td>\n      <td>9000</td>\n      <td>475.74</td>\n    </tr>\n  </tbody>\n</table>\n<p>1071 rows × 6 columns</p>\n</div>"
     },
     "execution_count": 3,
     "metadata": {},
     "output_type": "execute_result"
    }
   ],
   "source": [
    "#data = pd.read_pickle('C:/Users/erikm/Desktop/Diplomarbeit Erik Marr/Daten/Finish/TPath_300_finish_data.pkl')\n",
    "data = pd.read_pickle('C:/Users/erikm/Desktop/Diplomarbeit Erik Marr/Daten/Finish_D4_I7000_F9000/TPath_300_finish_data_D4.pkl')\n",
    "\n",
    "data"
   ]
  },
  {
   "cell_type": "code",
   "execution_count": 4,
   "id": "966e3c74",
   "metadata": {
    "ExecuteTime": {
     "end_time": "2024-02-21T15:32:51.416483Z",
     "start_time": "2024-02-21T15:32:51.405857300Z"
    }
   },
   "outputs": [
    {
     "data": {
      "text/plain": "      X-Koordinate  Y-Koordinate  Temperatur\n0           0.0000      -0.00200      532.25\n1           0.0000      -0.00192      565.57\n2           0.0000      -0.00184      597.71\n3           0.0000      -0.00176      628.64\n4           0.0000      -0.00168      658.22\n...            ...           ...         ...\n1066        0.0024       0.00168      643.44\n1067        0.0024       0.00176      605.59\n1068        0.0024       0.00184      546.94\n1069        0.0024       0.00192      487.60\n1070        0.0024       0.00200      475.74\n\n[1071 rows x 3 columns]",
      "text/html": "<div>\n<style scoped>\n    .dataframe tbody tr th:only-of-type {\n        vertical-align: middle;\n    }\n\n    .dataframe tbody tr th {\n        vertical-align: top;\n    }\n\n    .dataframe thead th {\n        text-align: right;\n    }\n</style>\n<table border=\"1\" class=\"dataframe\">\n  <thead>\n    <tr style=\"text-align: right;\">\n      <th></th>\n      <th>X-Koordinate</th>\n      <th>Y-Koordinate</th>\n      <th>Temperatur</th>\n    </tr>\n  </thead>\n  <tbody>\n    <tr>\n      <th>0</th>\n      <td>0.0000</td>\n      <td>-0.00200</td>\n      <td>532.25</td>\n    </tr>\n    <tr>\n      <th>1</th>\n      <td>0.0000</td>\n      <td>-0.00192</td>\n      <td>565.57</td>\n    </tr>\n    <tr>\n      <th>2</th>\n      <td>0.0000</td>\n      <td>-0.00184</td>\n      <td>597.71</td>\n    </tr>\n    <tr>\n      <th>3</th>\n      <td>0.0000</td>\n      <td>-0.00176</td>\n      <td>628.64</td>\n    </tr>\n    <tr>\n      <th>4</th>\n      <td>0.0000</td>\n      <td>-0.00168</td>\n      <td>658.22</td>\n    </tr>\n    <tr>\n      <th>...</th>\n      <td>...</td>\n      <td>...</td>\n      <td>...</td>\n    </tr>\n    <tr>\n      <th>1066</th>\n      <td>0.0024</td>\n      <td>0.00168</td>\n      <td>643.44</td>\n    </tr>\n    <tr>\n      <th>1067</th>\n      <td>0.0024</td>\n      <td>0.00176</td>\n      <td>605.59</td>\n    </tr>\n    <tr>\n      <th>1068</th>\n      <td>0.0024</td>\n      <td>0.00184</td>\n      <td>546.94</td>\n    </tr>\n    <tr>\n      <th>1069</th>\n      <td>0.0024</td>\n      <td>0.00192</td>\n      <td>487.60</td>\n    </tr>\n    <tr>\n      <th>1070</th>\n      <td>0.0024</td>\n      <td>0.00200</td>\n      <td>475.74</td>\n    </tr>\n  </tbody>\n</table>\n<p>1071 rows × 3 columns</p>\n</div>"
     },
     "execution_count": 4,
     "metadata": {},
     "output_type": "execute_result"
    }
   ],
   "source": [
    "df = data.drop(data.columns[2:5], axis = 1)\n",
    "df"
   ]
  },
  {
   "cell_type": "code",
   "execution_count": 5,
   "id": "8783d1d6",
   "metadata": {
    "ExecuteTime": {
     "end_time": "2024-02-21T15:32:51.433922500Z",
     "start_time": "2024-02-21T15:32:51.414482800Z"
    }
   },
   "outputs": [
    {
     "name": "stdout",
     "output_type": "stream",
     "text": [
      "      X-Koordinate  Y-Koordinate  Temperatur\n",
      "184        0.00036       0.00048      886.60\n",
      "572        0.00132      -0.00112      806.92\n",
      "309        0.00072      -0.00176      629.84\n",
      "930        0.00216      -0.00104      770.86\n",
      "711        0.00156       0.00184      522.14\n",
      "...            ...           ...         ...\n",
      "330        0.00072      -0.00008      902.23\n",
      "466        0.00108      -0.00144      738.36\n",
      "121        0.00024      -0.00048      902.11\n",
      "1044       0.00240      -0.00008      753.13\n",
      "860        0.00192       0.00152      666.93\n",
      "\n",
      "[1071 rows x 3 columns]\n"
     ]
    },
    {
     "data": {
      "text/plain": "      X-Koordinate  Y-Koordinate  Temperatur\n0          0.00036       0.00048      886.60\n1          0.00132      -0.00112      806.92\n2          0.00072      -0.00176      629.84\n3          0.00216      -0.00104      770.86\n4          0.00156       0.00184      522.14\n...            ...           ...         ...\n1066       0.00072      -0.00008      902.23\n1067       0.00108      -0.00144      738.36\n1068       0.00024      -0.00048      902.11\n1069       0.00240      -0.00008      753.13\n1070       0.00192       0.00152      666.93\n\n[1071 rows x 3 columns]",
      "text/html": "<div>\n<style scoped>\n    .dataframe tbody tr th:only-of-type {\n        vertical-align: middle;\n    }\n\n    .dataframe tbody tr th {\n        vertical-align: top;\n    }\n\n    .dataframe thead th {\n        text-align: right;\n    }\n</style>\n<table border=\"1\" class=\"dataframe\">\n  <thead>\n    <tr style=\"text-align: right;\">\n      <th></th>\n      <th>X-Koordinate</th>\n      <th>Y-Koordinate</th>\n      <th>Temperatur</th>\n    </tr>\n  </thead>\n  <tbody>\n    <tr>\n      <th>0</th>\n      <td>0.00036</td>\n      <td>0.00048</td>\n      <td>886.60</td>\n    </tr>\n    <tr>\n      <th>1</th>\n      <td>0.00132</td>\n      <td>-0.00112</td>\n      <td>806.92</td>\n    </tr>\n    <tr>\n      <th>2</th>\n      <td>0.00072</td>\n      <td>-0.00176</td>\n      <td>629.84</td>\n    </tr>\n    <tr>\n      <th>3</th>\n      <td>0.00216</td>\n      <td>-0.00104</td>\n      <td>770.86</td>\n    </tr>\n    <tr>\n      <th>4</th>\n      <td>0.00156</td>\n      <td>0.00184</td>\n      <td>522.14</td>\n    </tr>\n    <tr>\n      <th>...</th>\n      <td>...</td>\n      <td>...</td>\n      <td>...</td>\n    </tr>\n    <tr>\n      <th>1066</th>\n      <td>0.00072</td>\n      <td>-0.00008</td>\n      <td>902.23</td>\n    </tr>\n    <tr>\n      <th>1067</th>\n      <td>0.00108</td>\n      <td>-0.00144</td>\n      <td>738.36</td>\n    </tr>\n    <tr>\n      <th>1068</th>\n      <td>0.00024</td>\n      <td>-0.00048</td>\n      <td>902.11</td>\n    </tr>\n    <tr>\n      <th>1069</th>\n      <td>0.00240</td>\n      <td>-0.00008</td>\n      <td>753.13</td>\n    </tr>\n    <tr>\n      <th>1070</th>\n      <td>0.00192</td>\n      <td>0.00152</td>\n      <td>666.93</td>\n    </tr>\n  </tbody>\n</table>\n<p>1071 rows × 3 columns</p>\n</div>"
     },
     "execution_count": 5,
     "metadata": {},
     "output_type": "execute_result"
    }
   ],
   "source": [
    "df1 = df.sample(frac=1, random_state=42)  # Hier wird 42 als Random State verwendet, um die Ergebnisse reproduzierbar zu machen\n",
    "\n",
    "print(df1)\n",
    "df_reset = df1.reset_index(drop=True)\n",
    "df_reset"
   ]
  },
  {
   "cell_type": "code",
   "execution_count": 6,
   "id": "a4e72a16",
   "metadata": {
    "ExecuteTime": {
     "end_time": "2024-02-21T15:32:51.465370900Z",
     "start_time": "2024-02-21T15:32:51.426308700Z"
    }
   },
   "outputs": [],
   "source": [
    "label = df_reset[\"Temperatur\"]\n",
    "# Korrektur: Verwenden Sie den Spaltennamen direkt, ohne Indexierung der columns-Eigenschaft\n",
    "df1 = df_reset.drop(\"Temperatur\", axis=1)\n",
    "X = df1\n",
    "y = label\n"
   ]
  },
  {
   "cell_type": "markdown",
   "source": [],
   "metadata": {
    "collapsed": false
   },
   "id": "f7fa289a50d87423"
  },
  {
   "cell_type": "code",
   "execution_count": 7,
   "id": "e694a236",
   "metadata": {
    "ExecuteTime": {
     "end_time": "2024-02-21T15:32:51.553888900Z",
     "start_time": "2024-02-21T15:32:51.430920800Z"
    }
   },
   "outputs": [
    {
     "data": {
      "text/plain": "      X-Koordinate  Y-Koordinate\n0          0.00036       0.00048\n1          0.00132      -0.00112\n2          0.00072      -0.00176\n3          0.00216      -0.00104\n4          0.00156       0.00184\n...            ...           ...\n1066       0.00072      -0.00008\n1067       0.00108      -0.00144\n1068       0.00024      -0.00048\n1069       0.00240      -0.00008\n1070       0.00192       0.00152\n\n[1071 rows x 2 columns]",
      "text/html": "<div>\n<style scoped>\n    .dataframe tbody tr th:only-of-type {\n        vertical-align: middle;\n    }\n\n    .dataframe tbody tr th {\n        vertical-align: top;\n    }\n\n    .dataframe thead th {\n        text-align: right;\n    }\n</style>\n<table border=\"1\" class=\"dataframe\">\n  <thead>\n    <tr style=\"text-align: right;\">\n      <th></th>\n      <th>X-Koordinate</th>\n      <th>Y-Koordinate</th>\n    </tr>\n  </thead>\n  <tbody>\n    <tr>\n      <th>0</th>\n      <td>0.00036</td>\n      <td>0.00048</td>\n    </tr>\n    <tr>\n      <th>1</th>\n      <td>0.00132</td>\n      <td>-0.00112</td>\n    </tr>\n    <tr>\n      <th>2</th>\n      <td>0.00072</td>\n      <td>-0.00176</td>\n    </tr>\n    <tr>\n      <th>3</th>\n      <td>0.00216</td>\n      <td>-0.00104</td>\n    </tr>\n    <tr>\n      <th>4</th>\n      <td>0.00156</td>\n      <td>0.00184</td>\n    </tr>\n    <tr>\n      <th>...</th>\n      <td>...</td>\n      <td>...</td>\n    </tr>\n    <tr>\n      <th>1066</th>\n      <td>0.00072</td>\n      <td>-0.00008</td>\n    </tr>\n    <tr>\n      <th>1067</th>\n      <td>0.00108</td>\n      <td>-0.00144</td>\n    </tr>\n    <tr>\n      <th>1068</th>\n      <td>0.00024</td>\n      <td>-0.00048</td>\n    </tr>\n    <tr>\n      <th>1069</th>\n      <td>0.00240</td>\n      <td>-0.00008</td>\n    </tr>\n    <tr>\n      <th>1070</th>\n      <td>0.00192</td>\n      <td>0.00152</td>\n    </tr>\n  </tbody>\n</table>\n<p>1071 rows × 2 columns</p>\n</div>"
     },
     "execution_count": 7,
     "metadata": {},
     "output_type": "execute_result"
    }
   ],
   "source": [
    "X"
   ]
  },
  {
   "cell_type": "code",
   "execution_count": 8,
   "id": "3f3303b4",
   "metadata": {
    "ExecuteTime": {
     "end_time": "2024-02-21T15:32:52.072889900Z",
     "start_time": "2024-02-21T15:32:51.438735300Z"
    }
   },
   "outputs": [
    {
     "data": {
      "text/plain": "0       886.60\n1       806.92\n2       629.84\n3       770.86\n4       522.14\n         ...  \n1066    902.23\n1067    738.36\n1068    902.11\n1069    753.13\n1070    666.93\nName: Temperatur, Length: 1071, dtype: float64"
     },
     "execution_count": 8,
     "metadata": {},
     "output_type": "execute_result"
    }
   ],
   "source": [
    "y"
   ]
  },
  {
   "cell_type": "code",
   "execution_count": 9,
   "id": "e3ad8da0",
   "metadata": {
    "ExecuteTime": {
     "end_time": "2024-02-21T15:32:52.072889900Z",
     "start_time": "2024-02-21T15:32:51.443336400Z"
    }
   },
   "outputs": [],
   "source": [
    " # train_df enthält 80% der Daten, test_df enthält 20% der Daten\n",
    "X_train, X_test, y_train, y_test = train_test_split(X, y, test_size=0.20, random_state=42)\n"
   ]
  },
  {
   "cell_type": "code",
   "execution_count": 10,
   "id": "9c705edb",
   "metadata": {
    "ExecuteTime": {
     "end_time": "2024-02-21T15:32:52.081890300Z",
     "start_time": "2024-02-21T15:32:51.448722700Z"
    }
   },
   "outputs": [],
   "source": [
    "# Initialisiere einen MinMaxScaler für die Features\n",
    "scaler_features = MinMaxScaler()\n",
    "scaler_features2 = MinMaxScaler()\n",
    "# Skaliere X_train und X_test\n",
    "X_train_scaled = scaler_features.fit_transform(X_train)\n",
    "X_test_scaled = scaler_features.transform(X_test)  # Nutze unterschiedliche Skalierungsparameter\n",
    "\n",
    "# Initialisiere einen SEPARATEN MinMaxScaler für das Ziel, wenn nötig\n",
    "scaler_target = MinMaxScaler()\n",
    "\n",
    "\n",
    "# Skaliere y_train und y_test. Beachte, dass y_train.reshape(-1, 1) verwendet wird, da MinMaxScaler \n",
    "# erwartet, dass die Eingaben als 2D-Arrays kommen, und Ziele normalerweise als 1D-Arrays vorliegen.\n",
    "y_train_scaled = scaler_target.fit_transform(y_train.values.reshape(-1, 1))\n",
    "y_test_scaled = scaler_target.transform(y_test.values.reshape(-1, 1))\n"
   ]
  },
  {
   "cell_type": "code",
   "execution_count": 11,
   "id": "bbefe631e495b483",
   "metadata": {
    "ExecuteTime": {
     "end_time": "2024-02-21T15:32:52.081890300Z",
     "start_time": "2024-02-21T15:32:51.454986Z"
    }
   },
   "outputs": [
    {
     "data": {
      "text/plain": "array([[0.35, 0.88],\n       [0.75, 0.88],\n       [0.85, 0.02],\n       ...,\n       [0.2 , 0.86],\n       [1.  , 0.52],\n       [0.8 , 0.04]])"
     },
     "execution_count": 11,
     "metadata": {},
     "output_type": "execute_result"
    }
   ],
   "source": [
    "X_train_scaled"
   ]
  },
  {
   "cell_type": "code",
   "execution_count": 12,
   "outputs": [
    {
     "data": {
      "text/plain": "1.0"
     },
     "execution_count": 12,
     "metadata": {},
     "output_type": "execute_result"
    }
   ],
   "source": [
    "y_train_scaled.max()"
   ],
   "metadata": {
    "collapsed": false,
    "ExecuteTime": {
     "end_time": "2024-02-21T15:32:52.081890300Z",
     "start_time": "2024-02-21T15:32:51.460204300Z"
    }
   },
   "id": "ce04ce43aac2242f"
  },
  {
   "cell_type": "code",
   "execution_count": 13,
   "id": "a6eccbb7534cd064",
   "metadata": {
    "ExecuteTime": {
     "end_time": "2024-02-21T15:32:52.124890300Z",
     "start_time": "2024-02-21T15:32:51.464654900Z"
    }
   },
   "outputs": [],
   "source": [
    "# Lernplan erstellen\n",
    "#initial_learning_rate = 0.1\n",
    "#lr_schedule = tf.keras.optimizers.schedules.ExponentialDecay(\n",
    "#    initial_learning_rate, decay_steps=100, decay_rate=0.9, staircase=True)"
   ]
  },
  {
   "cell_type": "code",
   "execution_count": 20,
   "outputs": [
    {
     "name": "stdout",
     "output_type": "stream",
     "text": [
      "Epoch 1/500\n",
      "14/14 [==============================] - 2s 19ms/step - loss: 46.1436 - mae: 0.5254 - val_loss: 41.8527 - val_mae: 0.2705\n",
      "Epoch 2/500\n",
      "14/14 [==============================] - 0s 7ms/step - loss: 39.0610 - mae: 0.3046 - val_loss: 35.8390 - val_mae: 0.2359\n",
      "Epoch 3/500\n",
      "14/14 [==============================] - 0s 7ms/step - loss: 33.5935 - mae: 0.2797 - val_loss: 31.0431 - val_mae: 0.2346\n",
      "Epoch 4/500\n",
      "14/14 [==============================] - 0s 7ms/step - loss: 29.2142 - mae: 0.2271 - val_loss: 27.1625 - val_mae: 0.1660\n",
      "Epoch 5/500\n",
      "14/14 [==============================] - 0s 6ms/step - loss: 25.7289 - mae: 0.1801 - val_loss: 24.1060 - val_mae: 0.1273\n",
      "Epoch 6/500\n",
      "14/14 [==============================] - 0s 7ms/step - loss: 22.9571 - mae: 0.1467 - val_loss: 21.6621 - val_mae: 0.1136\n",
      "Epoch 7/500\n",
      "14/14 [==============================] - 0s 7ms/step - loss: 20.7315 - mae: 0.1365 - val_loss: 19.7309 - val_mae: 0.2109\n",
      "Epoch 8/500\n",
      "14/14 [==============================] - 0s 7ms/step - loss: 18.9282 - mae: 0.1540 - val_loss: 18.0463 - val_mae: 0.1063\n",
      "Epoch 9/500\n",
      "14/14 [==============================] - 0s 7ms/step - loss: 17.4136 - mae: 0.1152 - val_loss: 16.6830 - val_mae: 0.0929\n",
      "Epoch 10/500\n",
      "14/14 [==============================] - 0s 7ms/step - loss: 16.1502 - mae: 0.1074 - val_loss: 15.5343 - val_mae: 0.1204\n",
      "Epoch 11/500\n",
      "14/14 [==============================] - 0s 10ms/step - loss: 15.0709 - mae: 0.1090 - val_loss: 14.5310 - val_mae: 0.0839\n",
      "Epoch 12/500\n",
      "14/14 [==============================] - 0s 7ms/step - loss: 14.1286 - mae: 0.0901 - val_loss: 13.6605 - val_mae: 0.0927\n",
      "Epoch 13/500\n",
      "14/14 [==============================] - 0s 7ms/step - loss: 13.3053 - mae: 0.0950 - val_loss: 12.8861 - val_mae: 0.0811\n",
      "Epoch 14/500\n",
      "14/14 [==============================] - 0s 7ms/step - loss: 12.5680 - mae: 0.0852 - val_loss: 12.1942 - val_mae: 0.0761\n",
      "Epoch 15/500\n",
      "14/14 [==============================] - 0s 6ms/step - loss: 11.9082 - mae: 0.0851 - val_loss: 11.5706 - val_mae: 0.0888\n",
      "Epoch 16/500\n",
      "14/14 [==============================] - 0s 7ms/step - loss: 11.3136 - mae: 0.0992 - val_loss: 11.0067 - val_mae: 0.0908\n",
      "Epoch 17/500\n",
      "14/14 [==============================] - 0s 7ms/step - loss: 10.7665 - mae: 0.0976 - val_loss: 10.4802 - val_mae: 0.0780\n",
      "Epoch 18/500\n",
      "14/14 [==============================] - 0s 7ms/step - loss: 10.2621 - mae: 0.0873 - val_loss: 10.0145 - val_mae: 0.1310\n",
      "Epoch 19/500\n",
      "14/14 [==============================] - 0s 7ms/step - loss: 9.8049 - mae: 0.1034 - val_loss: 9.5596 - val_mae: 0.1016\n",
      "Epoch 20/500\n",
      "14/14 [==============================] - 0s 7ms/step - loss: 9.3732 - mae: 0.0976 - val_loss: 9.1497 - val_mae: 0.1020\n",
      "Epoch 21/500\n",
      "14/14 [==============================] - 0s 7ms/step - loss: 8.9744 - mae: 0.0973 - val_loss: 8.7641 - val_mae: 0.0874\n",
      "Epoch 22/500\n",
      "14/14 [==============================] - 0s 7ms/step - loss: 8.6009 - mae: 0.0914 - val_loss: 8.4121 - val_mae: 0.1147\n",
      "Epoch 23/500\n",
      "14/14 [==============================] - 0s 7ms/step - loss: 8.2515 - mae: 0.0923 - val_loss: 8.0699 - val_mae: 0.0953\n",
      "Epoch 24/500\n",
      "14/14 [==============================] - 0s 7ms/step - loss: 7.9232 - mae: 0.0875 - val_loss: 7.7499 - val_mae: 0.0845\n",
      "Epoch 25/500\n",
      "14/14 [==============================] - 0s 7ms/step - loss: 7.6136 - mae: 0.0821 - val_loss: 7.4495 - val_mae: 0.0729\n",
      "Epoch 26/500\n",
      "14/14 [==============================] - 0s 6ms/step - loss: 7.3216 - mae: 0.0777 - val_loss: 7.1695 - val_mae: 0.0826\n",
      "Epoch 27/500\n",
      "14/14 [==============================] - 0s 7ms/step - loss: 7.0460 - mae: 0.0766 - val_loss: 6.9003 - val_mae: 0.0748\n",
      "Epoch 28/500\n",
      "14/14 [==============================] - 0s 7ms/step - loss: 6.7861 - mae: 0.0796 - val_loss: 6.6462 - val_mae: 0.0732\n",
      "Epoch 29/500\n",
      "14/14 [==============================] - 0s 7ms/step - loss: 6.5374 - mae: 0.0783 - val_loss: 6.4050 - val_mae: 0.0738\n",
      "Epoch 30/500\n",
      "14/14 [==============================] - 0s 7ms/step - loss: 6.3014 - mae: 0.0751 - val_loss: 6.1769 - val_mae: 0.0721\n",
      "Epoch 31/500\n",
      "14/14 [==============================] - 0s 7ms/step - loss: 6.0785 - mae: 0.0811 - val_loss: 5.9670 - val_mae: 0.1030\n",
      "Epoch 32/500\n",
      "14/14 [==============================] - 0s 6ms/step - loss: 5.8667 - mae: 0.0899 - val_loss: 5.7490 - val_mae: 0.0770\n",
      "Epoch 33/500\n",
      "14/14 [==============================] - 0s 6ms/step - loss: 5.6605 - mae: 0.0862 - val_loss: 5.5541 - val_mae: 0.0820\n",
      "Epoch 34/500\n",
      "14/14 [==============================] - 0s 6ms/step - loss: 5.4643 - mae: 0.0805 - val_loss: 5.3591 - val_mae: 0.0721\n",
      "Epoch 35/500\n",
      "14/14 [==============================] - 0s 6ms/step - loss: 5.2770 - mae: 0.0780 - val_loss: 5.1777 - val_mae: 0.0766\n",
      "Epoch 36/500\n",
      "14/14 [==============================] - 0s 6ms/step - loss: 5.0980 - mae: 0.0746 - val_loss: 5.0025 - val_mae: 0.0686\n",
      "Epoch 37/500\n",
      "14/14 [==============================] - 0s 7ms/step - loss: 4.9272 - mae: 0.0767 - val_loss: 4.8357 - val_mae: 0.0686\n",
      "Epoch 38/500\n",
      "14/14 [==============================] - 0s 7ms/step - loss: 4.7632 - mae: 0.0781 - val_loss: 4.6758 - val_mae: 0.0695\n",
      "Epoch 39/500\n",
      "14/14 [==============================] - 0s 7ms/step - loss: 4.6063 - mae: 0.0801 - val_loss: 4.5216 - val_mae: 0.0690\n",
      "Epoch 40/500\n",
      "14/14 [==============================] - 0s 7ms/step - loss: 4.4547 - mae: 0.0794 - val_loss: 4.3729 - val_mae: 0.0726\n",
      "Epoch 41/500\n",
      "14/14 [==============================] - 0s 7ms/step - loss: 4.3102 - mae: 0.0833 - val_loss: 4.2363 - val_mae: 0.1074\n",
      "Epoch 42/500\n",
      "14/14 [==============================] - 0s 7ms/step - loss: 4.1705 - mae: 0.0871 - val_loss: 4.0934 - val_mae: 0.0801\n",
      "Epoch 43/500\n",
      "14/14 [==============================] - 0s 7ms/step - loss: 4.0339 - mae: 0.0799 - val_loss: 3.9618 - val_mae: 0.0702\n",
      "Epoch 44/500\n",
      "14/14 [==============================] - 0s 7ms/step - loss: 3.9049 - mae: 0.0818 - val_loss: 3.8351 - val_mae: 0.0850\n",
      "Epoch 45/500\n",
      "14/14 [==============================] - 0s 7ms/step - loss: 3.7798 - mae: 0.0814 - val_loss: 3.7116 - val_mae: 0.0732\n",
      "Epoch 46/500\n",
      "14/14 [==============================] - 0s 7ms/step - loss: 3.6589 - mae: 0.0792 - val_loss: 3.5939 - val_mae: 0.0740\n",
      "Epoch 47/500\n",
      "14/14 [==============================] - 0s 7ms/step - loss: 3.5426 - mae: 0.0762 - val_loss: 3.4817 - val_mae: 0.0911\n",
      "Epoch 48/500\n",
      "14/14 [==============================] - 0s 6ms/step - loss: 3.4320 - mae: 0.0838 - val_loss: 3.3705 - val_mae: 0.0753\n",
      "Epoch 49/500\n",
      "14/14 [==============================] - 0s 7ms/step - loss: 3.3241 - mae: 0.0833 - val_loss: 3.2646 - val_mae: 0.0723\n",
      "Epoch 50/500\n",
      "14/14 [==============================] - 0s 6ms/step - loss: 3.2185 - mae: 0.0798 - val_loss: 3.1626 - val_mae: 0.0753\n",
      "Epoch 51/500\n",
      "14/14 [==============================] - 0s 7ms/step - loss: 3.1187 - mae: 0.0799 - val_loss: 3.0678 - val_mae: 0.0930\n",
      "Epoch 52/500\n",
      "14/14 [==============================] - 0s 6ms/step - loss: 3.0215 - mae: 0.0838 - val_loss: 2.9682 - val_mae: 0.0835\n",
      "Epoch 53/500\n",
      "14/14 [==============================] - 0s 6ms/step - loss: 2.9273 - mae: 0.0828 - val_loss: 2.8774 - val_mae: 0.0923\n",
      "Epoch 54/500\n",
      "14/14 [==============================] - 0s 6ms/step - loss: 2.8362 - mae: 0.0823 - val_loss: 2.7874 - val_mae: 0.0826\n",
      "Epoch 55/500\n",
      "14/14 [==============================] - 0s 6ms/step - loss: 2.7484 - mae: 0.0821 - val_loss: 2.7006 - val_mae: 0.0806\n",
      "Epoch 56/500\n",
      "14/14 [==============================] - 0s 6ms/step - loss: 2.6636 - mae: 0.0815 - val_loss: 2.6184 - val_mae: 0.0872\n",
      "Epoch 57/500\n",
      "14/14 [==============================] - 0s 6ms/step - loss: 2.5813 - mae: 0.0843 - val_loss: 2.5363 - val_mae: 0.0788\n",
      "Epoch 58/500\n",
      "14/14 [==============================] - 0s 7ms/step - loss: 2.5014 - mae: 0.0831 - val_loss: 2.4586 - val_mae: 0.0819\n",
      "Epoch 59/500\n",
      "14/14 [==============================] - 0s 6ms/step - loss: 2.4250 - mae: 0.0836 - val_loss: 2.3828 - val_mae: 0.0784\n",
      "Epoch 60/500\n",
      "14/14 [==============================] - 0s 6ms/step - loss: 2.3505 - mae: 0.0853 - val_loss: 2.3097 - val_mae: 0.0788\n",
      "Epoch 61/500\n",
      "14/14 [==============================] - 0s 7ms/step - loss: 2.2788 - mae: 0.0864 - val_loss: 2.2405 - val_mae: 0.0938\n",
      "Epoch 62/500\n",
      "14/14 [==============================] - 0s 6ms/step - loss: 2.2111 - mae: 0.0938 - val_loss: 2.1725 - val_mae: 0.1020\n",
      "Epoch 63/500\n",
      "14/14 [==============================] - 0s 6ms/step - loss: 2.1414 - mae: 0.0911 - val_loss: 2.1038 - val_mae: 0.0810\n",
      "Epoch 64/500\n",
      "14/14 [==============================] - 0s 6ms/step - loss: 2.0754 - mae: 0.0869 - val_loss: 2.0405 - val_mae: 0.0859\n",
      "Epoch 65/500\n",
      "14/14 [==============================] - 0s 6ms/step - loss: 2.0145 - mae: 0.0949 - val_loss: 1.9816 - val_mae: 0.0976\n",
      "Epoch 66/500\n",
      "14/14 [==============================] - 0s 6ms/step - loss: 1.9543 - mae: 0.1034 - val_loss: 1.9174 - val_mae: 0.0841\n",
      "Epoch 67/500\n",
      "14/14 [==============================] - 0s 6ms/step - loss: 1.8917 - mae: 0.0917 - val_loss: 1.8584 - val_mae: 0.0805\n",
      "Epoch 68/500\n",
      "14/14 [==============================] - 0s 6ms/step - loss: 1.8327 - mae: 0.0885 - val_loss: 1.8028 - val_mae: 0.0874\n",
      "Epoch 69/500\n",
      "14/14 [==============================] - 0s 7ms/step - loss: 1.7774 - mae: 0.0904 - val_loss: 1.7459 - val_mae: 0.0827\n",
      "Epoch 70/500\n",
      "14/14 [==============================] - 0s 6ms/step - loss: 1.7221 - mae: 0.0862 - val_loss: 1.6948 - val_mae: 0.0989\n",
      "Epoch 71/500\n",
      "14/14 [==============================] - 0s 6ms/step - loss: 1.6699 - mae: 0.0905 - val_loss: 1.6409 - val_mae: 0.0908\n",
      "Epoch 72/500\n",
      "14/14 [==============================] - 0s 6ms/step - loss: 1.6190 - mae: 0.0898 - val_loss: 1.5925 - val_mae: 0.0811\n",
      "Epoch 73/500\n",
      "14/14 [==============================] - 0s 6ms/step - loss: 1.5697 - mae: 0.0877 - val_loss: 1.5424 - val_mae: 0.0811\n",
      "Epoch 74/500\n",
      "14/14 [==============================] - 0s 6ms/step - loss: 1.5222 - mae: 0.0920 - val_loss: 1.4976 - val_mae: 0.1034\n",
      "Epoch 75/500\n",
      "14/14 [==============================] - 0s 6ms/step - loss: 1.4763 - mae: 0.0944 - val_loss: 1.4522 - val_mae: 0.1018\n",
      "Epoch 76/500\n",
      "14/14 [==============================] - 0s 7ms/step - loss: 1.4323 - mae: 0.0978 - val_loss: 1.4051 - val_mae: 0.0952\n",
      "Epoch 77/500\n",
      "14/14 [==============================] - 0s 6ms/step - loss: 1.3873 - mae: 0.0963 - val_loss: 1.3630 - val_mae: 0.0986\n",
      "Epoch 78/500\n",
      "14/14 [==============================] - 0s 6ms/step - loss: 1.3472 - mae: 0.1034 - val_loss: 1.3207 - val_mae: 0.0881\n",
      "Epoch 79/500\n",
      "14/14 [==============================] - 0s 7ms/step - loss: 1.3034 - mae: 0.0930 - val_loss: 1.2802 - val_mae: 0.0816\n",
      "Epoch 80/500\n",
      "14/14 [==============================] - 0s 7ms/step - loss: 1.2629 - mae: 0.0898 - val_loss: 1.2412 - val_mae: 0.0915\n",
      "Epoch 81/500\n",
      "14/14 [==============================] - 0s 7ms/step - loss: 1.2240 - mae: 0.0899 - val_loss: 1.2069 - val_mae: 0.1023\n",
      "Epoch 82/500\n",
      "14/14 [==============================] - 0s 7ms/step - loss: 1.1880 - mae: 0.0947 - val_loss: 1.1656 - val_mae: 0.0932\n",
      "Epoch 83/500\n",
      "14/14 [==============================] - 0s 6ms/step - loss: 1.1507 - mae: 0.0925 - val_loss: 1.1325 - val_mae: 0.1018\n",
      "Epoch 84/500\n",
      "14/14 [==============================] - 0s 6ms/step - loss: 1.1155 - mae: 0.0936 - val_loss: 1.0974 - val_mae: 0.0983\n",
      "Epoch 85/500\n",
      "14/14 [==============================] - 0s 7ms/step - loss: 1.0813 - mae: 0.0933 - val_loss: 1.0630 - val_mae: 0.0859\n",
      "Epoch 86/500\n",
      "14/14 [==============================] - 0s 7ms/step - loss: 1.0476 - mae: 0.0908 - val_loss: 1.0282 - val_mae: 0.0819\n",
      "Epoch 87/500\n",
      "14/14 [==============================] - 0s 7ms/step - loss: 1.0162 - mae: 0.0922 - val_loss: 1.0069 - val_mae: 0.1180\n",
      "Epoch 88/500\n",
      "14/14 [==============================] - 0s 6ms/step - loss: 0.9888 - mae: 0.1059 - val_loss: 0.9661 - val_mae: 0.0867\n",
      "Epoch 89/500\n",
      "14/14 [==============================] - 0s 7ms/step - loss: 0.9558 - mae: 0.0982 - val_loss: 0.9369 - val_mae: 0.0830\n",
      "Epoch 90/500\n",
      "14/14 [==============================] - 0s 7ms/step - loss: 0.9258 - mae: 0.0953 - val_loss: 0.9112 - val_mae: 0.0952\n",
      "Epoch 91/500\n",
      "14/14 [==============================] - 0s 6ms/step - loss: 0.8983 - mae: 0.1009 - val_loss: 0.8799 - val_mae: 0.0812\n",
      "Epoch 92/500\n",
      "14/14 [==============================] - 0s 7ms/step - loss: 0.8692 - mae: 0.0927 - val_loss: 0.8533 - val_mae: 0.0854\n",
      "Epoch 93/500\n",
      "14/14 [==============================] - 0s 7ms/step - loss: 0.8415 - mae: 0.0891 - val_loss: 0.8280 - val_mae: 0.0860\n",
      "Epoch 94/500\n",
      "14/14 [==============================] - 0s 6ms/step - loss: 0.8155 - mae: 0.0905 - val_loss: 0.8000 - val_mae: 0.0821\n",
      "Epoch 95/500\n",
      "14/14 [==============================] - 0s 7ms/step - loss: 0.7905 - mae: 0.0885 - val_loss: 0.7783 - val_mae: 0.1007\n",
      "Epoch 96/500\n",
      "14/14 [==============================] - 0s 6ms/step - loss: 0.7668 - mae: 0.0929 - val_loss: 0.7513 - val_mae: 0.0817\n",
      "Epoch 97/500\n",
      "14/14 [==============================] - 0s 7ms/step - loss: 0.7417 - mae: 0.0881 - val_loss: 0.7311 - val_mae: 0.0965\n",
      "Epoch 98/500\n",
      "14/14 [==============================] - 0s 7ms/step - loss: 0.7193 - mae: 0.0866 - val_loss: 0.7066 - val_mae: 0.0880\n",
      "Epoch 99/500\n",
      "14/14 [==============================] - 0s 6ms/step - loss: 0.6969 - mae: 0.0907 - val_loss: 0.6846 - val_mae: 0.0802\n",
      "Epoch 100/500\n",
      "14/14 [==============================] - 0s 6ms/step - loss: 0.6763 - mae: 0.0888 - val_loss: 0.6692 - val_mae: 0.1052\n",
      "Epoch 101/500\n",
      "14/14 [==============================] - 0s 6ms/step - loss: 0.6563 - mae: 0.0942 - val_loss: 0.6477 - val_mae: 0.1090\n",
      "Epoch 102/500\n",
      "14/14 [==============================] - 0s 6ms/step - loss: 0.6347 - mae: 0.0883 - val_loss: 0.6249 - val_mae: 0.0975\n",
      "Epoch 103/500\n",
      "14/14 [==============================] - 0s 7ms/step - loss: 0.6150 - mae: 0.0892 - val_loss: 0.6032 - val_mae: 0.0789\n",
      "Epoch 104/500\n",
      "14/14 [==============================] - 0s 7ms/step - loss: 0.5966 - mae: 0.0896 - val_loss: 0.5911 - val_mae: 0.1056\n",
      "Epoch 105/500\n",
      "14/14 [==============================] - 0s 7ms/step - loss: 0.5802 - mae: 0.0977 - val_loss: 0.5679 - val_mae: 0.0837\n",
      "Epoch 106/500\n",
      "14/14 [==============================] - 0s 7ms/step - loss: 0.5610 - mae: 0.0917 - val_loss: 0.5498 - val_mae: 0.0899\n",
      "Epoch 107/500\n",
      "14/14 [==============================] - 0s 7ms/step - loss: 0.5450 - mae: 0.0963 - val_loss: 0.5401 - val_mae: 0.1098\n",
      "Epoch 108/500\n",
      "14/14 [==============================] - 0s 7ms/step - loss: 0.5309 - mae: 0.1055 - val_loss: 0.5298 - val_mae: 0.1279\n",
      "Epoch 109/500\n",
      "14/14 [==============================] - 0s 6ms/step - loss: 0.5180 - mae: 0.1141 - val_loss: 0.5044 - val_mae: 0.1016\n",
      "Epoch 110/500\n",
      "14/14 [==============================] - 0s 7ms/step - loss: 0.4967 - mae: 0.0983 - val_loss: 0.4856 - val_mae: 0.0912\n",
      "Epoch 111/500\n",
      "14/14 [==============================] - 0s 6ms/step - loss: 0.4826 - mae: 0.0993 - val_loss: 0.4706 - val_mae: 0.0910\n",
      "Epoch 112/500\n",
      "14/14 [==============================] - 0s 6ms/step - loss: 0.4660 - mae: 0.0941 - val_loss: 0.4559 - val_mae: 0.0804\n",
      "Epoch 113/500\n",
      "14/14 [==============================] - 0s 6ms/step - loss: 0.4518 - mae: 0.0904 - val_loss: 0.4452 - val_mae: 0.0917\n",
      "Epoch 114/500\n",
      "14/14 [==============================] - 0s 7ms/step - loss: 0.4375 - mae: 0.0932 - val_loss: 0.4286 - val_mae: 0.0875\n",
      "Epoch 115/500\n",
      "14/14 [==============================] - 0s 8ms/step - loss: 0.4238 - mae: 0.0861 - val_loss: 0.4164 - val_mae: 0.0817\n",
      "Epoch 116/500\n",
      "14/14 [==============================] - 0s 8ms/step - loss: 0.4113 - mae: 0.0889 - val_loss: 0.4044 - val_mae: 0.0790\n",
      "Epoch 117/500\n",
      "14/14 [==============================] - 0s 7ms/step - loss: 0.4005 - mae: 0.0946 - val_loss: 0.3969 - val_mae: 0.1048\n",
      "Epoch 118/500\n",
      "14/14 [==============================] - 0s 8ms/step - loss: 0.3886 - mae: 0.0917 - val_loss: 0.3794 - val_mae: 0.0892\n",
      "Epoch 119/500\n",
      "14/14 [==============================] - 0s 9ms/step - loss: 0.3749 - mae: 0.0871 - val_loss: 0.3682 - val_mae: 0.0817\n",
      "Epoch 120/500\n",
      "14/14 [==============================] - 0s 7ms/step - loss: 0.3642 - mae: 0.0877 - val_loss: 0.3566 - val_mae: 0.0814\n",
      "Epoch 121/500\n",
      "14/14 [==============================] - 0s 8ms/step - loss: 0.3534 - mae: 0.0891 - val_loss: 0.3472 - val_mae: 0.0819\n",
      "Epoch 122/500\n",
      "14/14 [==============================] - 0s 7ms/step - loss: 0.3427 - mae: 0.0875 - val_loss: 0.3366 - val_mae: 0.0863\n",
      "Epoch 123/500\n",
      "14/14 [==============================] - 0s 8ms/step - loss: 0.3335 - mae: 0.0887 - val_loss: 0.3260 - val_mae: 0.0793\n",
      "Epoch 124/500\n",
      "14/14 [==============================] - 0s 8ms/step - loss: 0.3232 - mae: 0.0880 - val_loss: 0.3194 - val_mae: 0.0935\n",
      "Epoch 125/500\n",
      "14/14 [==============================] - 0s 7ms/step - loss: 0.3139 - mae: 0.0880 - val_loss: 0.3073 - val_mae: 0.0806\n",
      "Epoch 126/500\n",
      "14/14 [==============================] - 0s 7ms/step - loss: 0.3046 - mae: 0.0862 - val_loss: 0.2985 - val_mae: 0.0825\n",
      "Epoch 127/500\n",
      "14/14 [==============================] - 0s 7ms/step - loss: 0.2955 - mae: 0.0871 - val_loss: 0.2926 - val_mae: 0.0963\n",
      "Epoch 128/500\n",
      "14/14 [==============================] - 0s 7ms/step - loss: 0.2891 - mae: 0.0942 - val_loss: 0.2822 - val_mae: 0.0854\n",
      "Epoch 129/500\n",
      "14/14 [==============================] - 0s 7ms/step - loss: 0.2807 - mae: 0.0930 - val_loss: 0.2744 - val_mae: 0.0827\n",
      "Epoch 130/500\n",
      "14/14 [==============================] - 0s 7ms/step - loss: 0.2723 - mae: 0.0920 - val_loss: 0.2664 - val_mae: 0.0880\n",
      "Epoch 131/500\n",
      "14/14 [==============================] - 0s 7ms/step - loss: 0.2639 - mae: 0.0876 - val_loss: 0.2591 - val_mae: 0.0881\n",
      "Epoch 132/500\n",
      "14/14 [==============================] - 0s 7ms/step - loss: 0.2565 - mae: 0.0895 - val_loss: 0.2515 - val_mae: 0.0856\n",
      "Epoch 133/500\n",
      "14/14 [==============================] - 0s 7ms/step - loss: 0.2500 - mae: 0.0898 - val_loss: 0.2443 - val_mae: 0.0819\n",
      "Epoch 134/500\n",
      "14/14 [==============================] - 0s 7ms/step - loss: 0.2421 - mae: 0.0858 - val_loss: 0.2376 - val_mae: 0.0819\n",
      "Epoch 135/500\n",
      "14/14 [==============================] - 0s 8ms/step - loss: 0.2358 - mae: 0.0872 - val_loss: 0.2312 - val_mae: 0.0817\n",
      "Epoch 136/500\n",
      "14/14 [==============================] - 0s 10ms/step - loss: 0.2300 - mae: 0.0892 - val_loss: 0.2257 - val_mae: 0.0886\n",
      "Epoch 137/500\n",
      "14/14 [==============================] - 0s 10ms/step - loss: 0.2247 - mae: 0.0908 - val_loss: 0.2196 - val_mae: 0.0876\n",
      "Epoch 138/500\n",
      "14/14 [==============================] - 0s 9ms/step - loss: 0.2175 - mae: 0.0883 - val_loss: 0.2137 - val_mae: 0.0849\n",
      "Epoch 139/500\n",
      "14/14 [==============================] - 0s 7ms/step - loss: 0.2120 - mae: 0.0858 - val_loss: 0.2077 - val_mae: 0.0821\n",
      "Epoch 140/500\n",
      "14/14 [==============================] - 0s 7ms/step - loss: 0.2079 - mae: 0.0907 - val_loss: 0.2051 - val_mae: 0.0900\n",
      "Epoch 141/500\n",
      "14/14 [==============================] - 0s 7ms/step - loss: 0.2033 - mae: 0.0962 - val_loss: 0.2008 - val_mae: 0.1027\n",
      "Epoch 142/500\n",
      "14/14 [==============================] - 0s 10ms/step - loss: 0.2010 - mae: 0.1045 - val_loss: 0.1931 - val_mae: 0.0804\n",
      "Epoch 143/500\n",
      "14/14 [==============================] - 0s 10ms/step - loss: 0.1931 - mae: 0.0936 - val_loss: 0.1898 - val_mae: 0.0973\n",
      "Epoch 144/500\n",
      "14/14 [==============================] - 0s 10ms/step - loss: 0.1879 - mae: 0.0910 - val_loss: 0.1859 - val_mae: 0.0946\n",
      "Epoch 145/500\n",
      "14/14 [==============================] - 0s 7ms/step - loss: 0.1870 - mae: 0.1019 - val_loss: 0.1798 - val_mae: 0.0836\n",
      "Epoch 146/500\n",
      "14/14 [==============================] - 0s 10ms/step - loss: 0.1887 - mae: 0.1223 - val_loss: 0.1843 - val_mae: 0.1146\n",
      "Epoch 147/500\n",
      "14/14 [==============================] - 0s 10ms/step - loss: 0.1797 - mae: 0.1095 - val_loss: 0.1736 - val_mae: 0.0910\n",
      "Epoch 148/500\n",
      "14/14 [==============================] - 0s 10ms/step - loss: 0.1711 - mae: 0.0935 - val_loss: 0.1686 - val_mae: 0.0966\n",
      "Epoch 149/500\n",
      "14/14 [==============================] - 0s 7ms/step - loss: 0.1678 - mae: 0.0931 - val_loss: 0.1665 - val_mae: 0.0977\n",
      "Epoch 150/500\n",
      "14/14 [==============================] - 0s 10ms/step - loss: 0.1644 - mae: 0.0952 - val_loss: 0.1604 - val_mae: 0.0826\n",
      "Epoch 151/500\n",
      "14/14 [==============================] - 0s 10ms/step - loss: 0.1609 - mae: 0.0930 - val_loss: 0.1596 - val_mae: 0.0923\n",
      "Epoch 152/500\n",
      "14/14 [==============================] - 0s 10ms/step - loss: 0.1577 - mae: 0.0970 - val_loss: 0.1534 - val_mae: 0.0823\n",
      "Epoch 153/500\n",
      "14/14 [==============================] - 0s 9ms/step - loss: 0.1544 - mae: 0.0930 - val_loss: 0.1515 - val_mae: 0.0935\n",
      "Epoch 154/500\n",
      "14/14 [==============================] - 0s 11ms/step - loss: 0.1493 - mae: 0.0885 - val_loss: 0.1470 - val_mae: 0.0872\n",
      "Epoch 155/500\n",
      "14/14 [==============================] - 0s 11ms/step - loss: 0.1490 - mae: 0.0952 - val_loss: 0.1453 - val_mae: 0.0833\n",
      "Epoch 156/500\n",
      "14/14 [==============================] - 0s 11ms/step - loss: 0.1467 - mae: 0.1000 - val_loss: 0.1447 - val_mae: 0.1060\n",
      "Epoch 157/500\n",
      "14/14 [==============================] - 0s 8ms/step - loss: 0.1434 - mae: 0.0985 - val_loss: 0.1394 - val_mae: 0.0931\n",
      "Epoch 158/500\n",
      "14/14 [==============================] - 0s 10ms/step - loss: 0.1382 - mae: 0.0895 - val_loss: 0.1379 - val_mae: 0.0990\n",
      "Epoch 159/500\n",
      "14/14 [==============================] - 0s 10ms/step - loss: 0.1375 - mae: 0.0971 - val_loss: 0.1335 - val_mae: 0.0834\n",
      "Epoch 160/500\n",
      "14/14 [==============================] - 0s 10ms/step - loss: 0.1332 - mae: 0.0877 - val_loss: 0.1313 - val_mae: 0.0796\n",
      "Epoch 161/500\n",
      "14/14 [==============================] - 0s 8ms/step - loss: 0.1315 - mae: 0.0898 - val_loss: 0.1326 - val_mae: 0.0957\n",
      "Epoch 162/500\n",
      "14/14 [==============================] - 0s 10ms/step - loss: 0.1324 - mae: 0.1013 - val_loss: 0.1266 - val_mae: 0.0884\n",
      "Epoch 163/500\n",
      "14/14 [==============================] - 0s 10ms/step - loss: 0.1283 - mae: 0.0963 - val_loss: 0.1256 - val_mae: 0.0921\n",
      "Epoch 164/500\n",
      "14/14 [==============================] - 0s 10ms/step - loss: 0.1255 - mae: 0.0927 - val_loss: 0.1228 - val_mae: 0.0887\n",
      "Epoch 165/500\n",
      "14/14 [==============================] - 0s 8ms/step - loss: 0.1239 - mae: 0.0941 - val_loss: 0.1211 - val_mae: 0.0867\n",
      "Epoch 166/500\n",
      "14/14 [==============================] - 0s 10ms/step - loss: 0.1226 - mae: 0.0925 - val_loss: 0.1209 - val_mae: 0.0909\n",
      "Epoch 167/500\n",
      "14/14 [==============================] - 0s 10ms/step - loss: 0.1210 - mae: 0.0979 - val_loss: 0.1171 - val_mae: 0.0904\n",
      "Epoch 168/500\n",
      "14/14 [==============================] - 0s 11ms/step - loss: 0.1209 - mae: 0.1027 - val_loss: 0.1253 - val_mae: 0.1191\n",
      "Epoch 169/500\n",
      "14/14 [==============================] - 0s 9ms/step - loss: 0.1194 - mae: 0.1012 - val_loss: 0.1150 - val_mae: 0.0872\n",
      "Epoch 170/500\n",
      "14/14 [==============================] - 0s 10ms/step - loss: 0.1150 - mae: 0.0909 - val_loss: 0.1144 - val_mae: 0.0827\n",
      "Epoch 171/500\n",
      "14/14 [==============================] - 0s 10ms/step - loss: 0.1140 - mae: 0.0922 - val_loss: 0.1133 - val_mae: 0.0978\n",
      "Epoch 172/500\n",
      "14/14 [==============================] - 0s 9ms/step - loss: 0.1113 - mae: 0.0904 - val_loss: 0.1094 - val_mae: 0.0852\n",
      "Epoch 173/500\n",
      "14/14 [==============================] - 0s 9ms/step - loss: 0.1101 - mae: 0.0880 - val_loss: 0.1124 - val_mae: 0.1001\n",
      "Epoch 174/500\n",
      "14/14 [==============================] - 0s 9ms/step - loss: 0.1101 - mae: 0.0938 - val_loss: 0.1067 - val_mae: 0.0858\n",
      "Epoch 175/500\n",
      "14/14 [==============================] - 0s 10ms/step - loss: 0.1105 - mae: 0.1010 - val_loss: 0.1069 - val_mae: 0.0894\n",
      "Epoch 176/500\n",
      "14/14 [==============================] - 0s 9ms/step - loss: 0.1070 - mae: 0.0932 - val_loss: 0.1057 - val_mae: 0.0839\n",
      "Epoch 177/500\n",
      "14/14 [==============================] - 0s 9ms/step - loss: 0.1069 - mae: 0.0945 - val_loss: 0.1075 - val_mae: 0.1006\n",
      "Epoch 178/500\n",
      "14/14 [==============================] - 0s 10ms/step - loss: 0.1089 - mae: 0.1058 - val_loss: 0.1033 - val_mae: 0.0924\n",
      "Epoch 179/500\n",
      "14/14 [==============================] - 0s 10ms/step - loss: 0.1064 - mae: 0.1006 - val_loss: 0.1020 - val_mae: 0.0905\n",
      "Epoch 180/500\n",
      "14/14 [==============================] - 0s 9ms/step - loss: 0.1030 - mae: 0.0953 - val_loss: 0.1006 - val_mae: 0.0894\n",
      "Epoch 181/500\n",
      "14/14 [==============================] - 0s 9ms/step - loss: 0.1017 - mae: 0.0912 - val_loss: 0.1008 - val_mae: 0.0830\n",
      "Epoch 182/500\n",
      "14/14 [==============================] - 0s 9ms/step - loss: 0.1038 - mae: 0.1004 - val_loss: 0.0990 - val_mae: 0.0869\n",
      "Epoch 183/500\n",
      "14/14 [==============================] - 0s 10ms/step - loss: 0.1010 - mae: 0.0953 - val_loss: 0.0988 - val_mae: 0.0887\n",
      "Epoch 184/500\n",
      "14/14 [==============================] - 0s 9ms/step - loss: 0.0990 - mae: 0.0908 - val_loss: 0.0984 - val_mae: 0.0923\n",
      "Epoch 185/500\n",
      "14/14 [==============================] - 0s 10ms/step - loss: 0.0987 - mae: 0.0925 - val_loss: 0.0973 - val_mae: 0.0861\n",
      "Epoch 186/500\n",
      "14/14 [==============================] - 0s 10ms/step - loss: 0.0975 - mae: 0.0922 - val_loss: 0.0970 - val_mae: 0.0923\n",
      "Epoch 187/500\n",
      "14/14 [==============================] - 0s 10ms/step - loss: 0.0966 - mae: 0.0896 - val_loss: 0.0963 - val_mae: 0.0919\n",
      "Epoch 188/500\n",
      "14/14 [==============================] - 0s 8ms/step - loss: 0.0966 - mae: 0.0927 - val_loss: 0.0971 - val_mae: 0.0973\n",
      "Epoch 189/500\n",
      "14/14 [==============================] - 0s 9ms/step - loss: 0.0965 - mae: 0.0934 - val_loss: 0.0938 - val_mae: 0.0844\n",
      "Epoch 190/500\n",
      "14/14 [==============================] - 0s 10ms/step - loss: 0.0983 - mae: 0.1027 - val_loss: 0.0937 - val_mae: 0.0896\n",
      "Epoch 191/500\n",
      "14/14 [==============================] - 0s 10ms/step - loss: 0.0945 - mae: 0.0926 - val_loss: 0.0930 - val_mae: 0.0863\n",
      "Epoch 192/500\n",
      "14/14 [==============================] - 0s 8ms/step - loss: 0.0947 - mae: 0.0913 - val_loss: 0.0963 - val_mae: 0.1017\n",
      "Epoch 193/500\n",
      "14/14 [==============================] - 0s 9ms/step - loss: 0.0959 - mae: 0.1019 - val_loss: 0.0956 - val_mae: 0.0976\n",
      "Epoch 194/500\n",
      "14/14 [==============================] - 0s 10ms/step - loss: 0.0940 - mae: 0.0943 - val_loss: 0.0944 - val_mae: 0.0937\n",
      "Epoch 195/500\n",
      "14/14 [==============================] - 0s 10ms/step - loss: 0.0939 - mae: 0.0988 - val_loss: 0.1011 - val_mae: 0.1188\n",
      "Epoch 196/500\n",
      "14/14 [==============================] - 0s 8ms/step - loss: 0.0974 - mae: 0.1103 - val_loss: 0.1009 - val_mae: 0.1242\n",
      "Epoch 197/500\n",
      "14/14 [==============================] - 0s 9ms/step - loss: 0.0993 - mae: 0.1214 - val_loss: 0.0942 - val_mae: 0.1106\n",
      "Epoch 198/500\n",
      "14/14 [==============================] - 0s 10ms/step - loss: 0.0942 - mae: 0.1047 - val_loss: 0.0898 - val_mae: 0.0851\n",
      "Epoch 199/500\n",
      "14/14 [==============================] - 0s 10ms/step - loss: 0.0931 - mae: 0.0990 - val_loss: 0.1015 - val_mae: 0.1239\n",
      "Epoch 200/500\n",
      "14/14 [==============================] - 0s 8ms/step - loss: 0.0942 - mae: 0.1051 - val_loss: 0.0887 - val_mae: 0.0896\n",
      "Epoch 201/500\n",
      "14/14 [==============================] - 0s 10ms/step - loss: 0.0907 - mae: 0.0945 - val_loss: 0.0915 - val_mae: 0.0954\n",
      "Epoch 202/500\n",
      "14/14 [==============================] - 0s 10ms/step - loss: 0.0912 - mae: 0.0960 - val_loss: 0.0884 - val_mae: 0.0832\n",
      "Epoch 203/500\n",
      "14/14 [==============================] - 0s 10ms/step - loss: 0.0903 - mae: 0.0959 - val_loss: 0.0880 - val_mae: 0.0895\n",
      "Epoch 204/500\n",
      "14/14 [==============================] - 0s 8ms/step - loss: 0.0898 - mae: 0.0934 - val_loss: 0.0905 - val_mae: 0.0976\n",
      "Epoch 205/500\n",
      "14/14 [==============================] - 0s 10ms/step - loss: 0.0893 - mae: 0.0931 - val_loss: 0.0879 - val_mae: 0.0865\n",
      "Epoch 206/500\n",
      "14/14 [==============================] - 0s 10ms/step - loss: 0.0890 - mae: 0.0943 - val_loss: 0.0870 - val_mae: 0.0878\n",
      "Epoch 207/500\n",
      "14/14 [==============================] - 0s 10ms/step - loss: 0.0887 - mae: 0.0916 - val_loss: 0.0885 - val_mae: 0.0942\n",
      "Epoch 208/500\n",
      "14/14 [==============================] - 0s 7ms/step - loss: 0.0895 - mae: 0.0984 - val_loss: 0.0861 - val_mae: 0.0885\n",
      "Epoch 209/500\n",
      "14/14 [==============================] - 0s 10ms/step - loss: 0.0904 - mae: 0.1006 - val_loss: 0.0969 - val_mae: 0.1214\n",
      "Epoch 210/500\n",
      "14/14 [==============================] - 0s 9ms/step - loss: 0.0889 - mae: 0.1003 - val_loss: 0.0858 - val_mae: 0.0896\n",
      "Epoch 211/500\n",
      "14/14 [==============================] - 0s 10ms/step - loss: 0.0873 - mae: 0.0916 - val_loss: 0.0867 - val_mae: 0.0910\n",
      "Epoch 212/500\n",
      "14/14 [==============================] - 0s 8ms/step - loss: 0.0868 - mae: 0.0919 - val_loss: 0.0857 - val_mae: 0.0830\n",
      "Epoch 213/500\n",
      "14/14 [==============================] - 0s 10ms/step - loss: 0.0867 - mae: 0.0913 - val_loss: 0.0862 - val_mae: 0.0917\n",
      "Epoch 214/500\n",
      "14/14 [==============================] - 0s 10ms/step - loss: 0.0872 - mae: 0.0939 - val_loss: 0.0879 - val_mae: 0.1038\n",
      "Epoch 215/500\n",
      "14/14 [==============================] - 0s 10ms/step - loss: 0.0871 - mae: 0.0943 - val_loss: 0.0862 - val_mae: 0.0971\n",
      "Epoch 216/500\n",
      "14/14 [==============================] - 0s 7ms/step - loss: 0.0883 - mae: 0.0986 - val_loss: 0.0851 - val_mae: 0.0842\n",
      "Epoch 217/500\n",
      "14/14 [==============================] - 0s 10ms/step - loss: 0.0862 - mae: 0.0953 - val_loss: 0.0879 - val_mae: 0.0987\n",
      "Epoch 218/500\n",
      "14/14 [==============================] - 0s 10ms/step - loss: 0.0865 - mae: 0.0930 - val_loss: 0.0844 - val_mae: 0.0868\n",
      "Epoch 219/500\n",
      "14/14 [==============================] - 0s 10ms/step - loss: 0.0856 - mae: 0.0916 - val_loss: 0.0856 - val_mae: 0.0964\n",
      "Epoch 220/500\n",
      "14/14 [==============================] - 0s 7ms/step - loss: 0.0863 - mae: 0.0951 - val_loss: 0.0863 - val_mae: 0.0980\n",
      "Epoch 221/500\n",
      "14/14 [==============================] - 0s 10ms/step - loss: 0.0850 - mae: 0.0906 - val_loss: 0.0840 - val_mae: 0.0857\n",
      "Epoch 222/500\n",
      "14/14 [==============================] - 0s 10ms/step - loss: 0.0863 - mae: 0.0964 - val_loss: 0.0917 - val_mae: 0.1139\n",
      "Epoch 223/500\n",
      "14/14 [==============================] - 0s 10ms/step - loss: 0.0854 - mae: 0.0933 - val_loss: 0.0840 - val_mae: 0.0921\n",
      "Epoch 224/500\n",
      "14/14 [==============================] - 0s 7ms/step - loss: 0.0854 - mae: 0.0935 - val_loss: 0.0846 - val_mae: 0.0954\n",
      "Epoch 225/500\n",
      "14/14 [==============================] - 0s 9ms/step - loss: 0.0856 - mae: 0.0958 - val_loss: 0.0842 - val_mae: 0.0881\n",
      "Epoch 226/500\n",
      "10/14 [====================>.........] - ETA: 0s - loss: 0.0869 - mae: 0.1003Restoring model weights from the end of the best epoch: 221.\n",
      "14/14 [==============================] - 0s 12ms/step - loss: 0.0873 - mae: 0.1017 - val_loss: 0.0840 - val_mae: 0.0850\n",
      "Epoch 226: early stopping\n"
     ]
    }
   ],
   "source": [
    "\n",
    "\n",
    "# Netzwerkarchitektur\n",
    "model = Sequential([\n",
    "    # Eingabeschicht\n",
    "    Dense(448, activation='relu', input_shape=(2,), kernel_initializer='he_uniform', kernel_regularizer=l2(0.01)),\n",
    "    #Dropout(0.01),\n",
    "    # Versteckte Schicht\n",
    "    Dense(384, activation='relu', kernel_initializer='he_uniform', kernel_regularizer=l2(0.01)),\n",
    "    Dense(96, activation='relu', kernel_initializer='he_uniform', kernel_regularizer=l2(0.01)),\n",
    "    Dense(128, activation='relu', kernel_initializer='he_uniform', kernel_regularizer=l2(0.01)),\n",
    "    Dense(320, activation='relu', kernel_initializer='he_uniform', kernel_regularizer=l2(0.01)),\n",
    "    Dense(416, activation='relu', kernel_initializer='he_uniform', kernel_regularizer=l2(0.01)),\n",
    "    Dense(416, activation='relu', kernel_initializer='he_uniform', kernel_regularizer=l2(0.01)),\n",
    "    Dense(256, activation='relu', kernel_initializer='he_uniform', kernel_regularizer=l2(0.01)),\n",
    "    #Dropout(0.01),\n",
    "    # Ausgabeschicht für Regression (1 Einheit ohne Aktivierungsfunktion)\n",
    "    Dense(1 , activation = 'linear')\n",
    "])\n",
    "\n",
    "# Optimierer\n",
    "optimizer = 'adam' #Adam(learningrate =  0.001)\n",
    "\n",
    "# Modell kompilieren (Verwendung von mean_squared_error als Verlustfunktion für Regression)\n",
    "model.compile(optimizer=optimizer,\n",
    "              loss='mean_squared_error',\n",
    "              metrics=['mae'])  # Metriken für Regression: Mean Absolute Error und Mean Squared Error\n",
    "\n",
    "# Early Stopping Callback\n",
    "early_stopping = EarlyStopping(monitor='loss', patience=5, verbose=1, mode='min', restore_best_weights=True, min_delta = 0.0001)\n",
    "\n",
    "# Trainingsparameter\n",
    "batch_size = 50\n",
    "epochs = 500\n",
    "\n",
    "# Modell trainieren (Annahme: X_train, y_train, X_val, y_val sind vordefiniert)\n",
    "history = model.fit(X_train_scaled, y_train_scaled,\n",
    "                    batch_size=batch_size,\n",
    "                    epochs=epochs,\n",
    "                    validation_split=0.2,\n",
    "                    callbacks=[early_stopping])"
   ],
   "metadata": {
    "collapsed": false,
    "ExecuteTime": {
     "end_time": "2024-02-21T19:17:33.124143400Z",
     "start_time": "2024-02-21T19:17:06.814971900Z"
    }
   },
   "id": "8b52e1a9a6ff3aeb"
  },
  {
   "cell_type": "code",
   "execution_count": 21,
   "outputs": [
    {
     "data": {
      "text/plain": "<Figure size 1000x600 with 1 Axes>",
      "image/png": "[encoded data removed]"
     },
     "metadata": {},
     "output_type": "display_data"
    }
   ],
   "source": [
    "mae = history.history['mae']\n",
    "val_mae = history.history['val_mae']\n",
    "\n",
    "epochs = range(1, len(mae) + 1)\n",
    "\n",
    "# MAE Diagramm\n",
    "plt.figure(figsize=(10, 6))\n",
    "plt.plot(epochs, mae, 'r', label='Training MAE')\n",
    "plt.plot(epochs, val_mae, 'b', label='Validation MAE')\n",
    "plt.title('Training and Validation MAE')\n",
    "plt.xlabel('Epochs')\n",
    "plt.ylabel('MAE')\n",
    "plt.legend()\n",
    "\n",
    "plt.show()"
   ],
   "metadata": {
    "collapsed": false,
    "ExecuteTime": {
     "end_time": "2024-02-21T19:17:36.229797900Z",
     "start_time": "2024-02-21T19:17:35.945150400Z"
    }
   },
   "id": "3688dd7102e95baf"
  },
  {
   "cell_type": "code",
   "execution_count": 16,
   "id": "9f6f672a",
   "metadata": {
    "ExecuteTime": {
     "end_time": "2024-02-21T15:32:58.162831800Z",
     "start_time": "2024-02-21T15:32:57.974080200Z"
    }
   },
   "outputs": [
    {
     "name": "stdout",
     "output_type": "stream",
     "text": [
      " Bsp. Predicted: [748.5763] Actual: [779.1] \n",
      "Durchschnittliche Abweichung (MAE): [40.42670317]\n"
     ]
    }
   ],
   "source": [
    "scaled_predicted_values = model.predict(X_test_scaled, verbose = 0)\n",
    "\n",
    "# Führen Sie die Rücktransformation der skalierten Werte durch\n",
    "original_predicted_values = scaler_target.inverse_transform(scaled_predicted_values)\n",
    "original_actual_values = scaler_target.inverse_transform(y_test_scaled)  # y_test sind die skalierten tatsächlichen Werte\n",
    "print(f' Bsp. Predicted: {original_predicted_values[100]} Actual: {original_actual_values[100]} ')\n",
    "\n",
    "def calculate_mae(list1, list2):\n",
    "    # Stelle sicher, dass beide Listen die gleiche Länge haben\n",
    "    if len(list1) != len(list2):\n",
    "        raise ValueError(\"Listen müssen die gleiche Länge haben\")\n",
    "    \n",
    "    # Berechne die absolute Differenz zwischen den Elementen der Listen\n",
    "    differences = [abs(x - y) for x, y in zip(list1, list2)]\n",
    "    \n",
    "    # Berechne den Durchschnitt der absoluten Differenzen\n",
    "    mae = sum(differences) / len(differences)\n",
    "    \n",
    "    return mae\n",
    "\n",
    "# Beispiel\n",
    "list1 = original_predicted_values\n",
    "list2 = original_actual_values\n",
    "\n",
    "mae = calculate_mae(list1, list2)\n",
    "print(f\"Durchschnittliche Abweichung (MAE): {mae}\")"
   ]
  },
  {
   "cell_type": "markdown",
   "id": "553df6fa",
   "metadata": {},
   "source": [
    "# GridSearch"
   ]
  },
  {
   "cell_type": "code",
   "execution_count": 18,
   "id": "492cf0ed",
   "metadata": {},
   "outputs": [
    {
     "name": "stdout",
     "output_type": "stream",
     "text": [
      "Trial 100 Complete [00h 00m 23s]\n",
      "val_loss: 0.0003458007122389972\n",
      "\n",
      "Best val_loss So Far: 3.887327329721302e-05\n",
      "Total elapsed time: 00h 31m 11s\n",
      "WARNING:tensorflow:Detecting that an object or model or tf.train.Checkpoint is being deleted with unrestored values. See the following logs for the specific values in question. To silence these warnings, use `status.expect_partial()`. See https://www.tensorflow.org/api_docs/python/tf/train/Checkpoint#restorefor details about the status object returned by the restore function.\n",
      "WARNING:tensorflow:Value in checkpoint could not be found in the restored object: (root).optimizer._variables.1\n",
      "WARNING:tensorflow:Value in checkpoint could not be found in the restored object: (root).optimizer._variables.2\n",
      "WARNING:tensorflow:Value in checkpoint could not be found in the restored object: (root).optimizer._variables.3\n",
      "WARNING:tensorflow:Value in checkpoint could not be found in the restored object: (root).optimizer._variables.4\n",
      "WARNING:tensorflow:Value in checkpoint could not be found in the restored object: (root).optimizer._variables.5\n",
      "WARNING:tensorflow:Value in checkpoint could not be found in the restored object: (root).optimizer._variables.6\n",
      "WARNING:tensorflow:Value in checkpoint could not be found in the restored object: (root).optimizer._variables.7\n",
      "WARNING:tensorflow:Value in checkpoint could not be found in the restored object: (root).optimizer._variables.8\n",
      "WARNING:tensorflow:Value in checkpoint could not be found in the restored object: (root).optimizer._variables.9\n",
      "WARNING:tensorflow:Value in checkpoint could not be found in the restored object: (root).optimizer._variables.10\n",
      "WARNING:tensorflow:Value in checkpoint could not be found in the restored object: (root).optimizer._variables.11\n",
      "WARNING:tensorflow:Value in checkpoint could not be found in the restored object: (root).optimizer._variables.12\n",
      "WARNING:tensorflow:Value in checkpoint could not be found in the restored object: (root).optimizer._variables.13\n",
      "WARNING:tensorflow:Value in checkpoint could not be found in the restored object: (root).optimizer._variables.14\n",
      "WARNING:tensorflow:Value in checkpoint could not be found in the restored object: (root).optimizer._variables.15\n",
      "WARNING:tensorflow:Value in checkpoint could not be found in the restored object: (root).optimizer._variables.16\n",
      "WARNING:tensorflow:Value in checkpoint could not be found in the restored object: (root).optimizer._variables.17\n",
      "WARNING:tensorflow:Value in checkpoint could not be found in the restored object: (root).optimizer._variables.18\n",
      "WARNING:tensorflow:Value in checkpoint could not be found in the restored object: (root).optimizer._variables.19\n",
      "WARNING:tensorflow:Value in checkpoint could not be found in the restored object: (root).optimizer._variables.20\n",
      "WARNING:tensorflow:Value in checkpoint could not be found in the restored object: (root).optimizer._variables.21\n",
      "WARNING:tensorflow:Value in checkpoint could not be found in the restored object: (root).optimizer._variables.22\n",
      "WARNING:tensorflow:Value in checkpoint could not be found in the restored object: (root).optimizer._variables.23\n",
      "WARNING:tensorflow:Value in checkpoint could not be found in the restored object: (root).optimizer._variables.24\n",
      "WARNING:tensorflow:Value in checkpoint could not be found in the restored object: (root).optimizer._variables.25\n",
      "WARNING:tensorflow:Value in checkpoint could not be found in the restored object: (root).optimizer._variables.26\n",
      "WARNING:tensorflow:Value in checkpoint could not be found in the restored object: (root).optimizer._variables.27\n",
      "WARNING:tensorflow:Value in checkpoint could not be found in the restored object: (root).optimizer._variables.28\n",
      "WARNING:tensorflow:Value in checkpoint could not be found in the restored object: (root).optimizer._variables.29\n",
      "WARNING:tensorflow:Value in checkpoint could not be found in the restored object: (root).optimizer._variables.30\n",
      "WARNING:tensorflow:Value in checkpoint could not be found in the restored object: (root).optimizer._variables.31\n",
      "WARNING:tensorflow:Value in checkpoint could not be found in the restored object: (root).optimizer._variables.32\n",
      "Model: \"sequential\"\n",
      "_________________________________________________________________\n",
      " Layer (type)                Output Shape              Param #   \n",
      "=================================================================\n",
      " dense (Dense)               (None, 448)               1344      \n",
      "                                                                 \n",
      " dense_1 (Dense)             (None, 384)               172416    \n",
      "                                                                 \n",
      " dense_2 (Dense)             (None, 96)                36960     \n",
      "                                                                 \n",
      " dense_3 (Dense)             (None, 128)               12416     \n",
      "                                                                 \n",
      " dense_4 (Dense)             (None, 320)               41280     \n",
      "                                                                 \n",
      " dense_5 (Dense)             (None, 416)               133536    \n",
      "                                                                 \n",
      " dense_6 (Dense)             (None, 416)               173472    \n",
      "                                                                 \n",
      " dense_7 (Dense)             (None, 256)               106752    \n",
      "                                                                 \n",
      " dense_8 (Dense)             (None, 1)                 257       \n",
      "                                                                 \n",
      "=================================================================\n",
      "Total params: 678433 (2.59 MB)\n",
      "Trainable params: 678433 (2.59 MB)\n",
      "Non-trainable params: 0 (0.00 Byte)\n",
      "_________________________________________________________________\n",
      "{'input_units': 448, 'n_layers': 7, 'units_0': 384, 'units_1': 96, 'units_2': 128, 'units_3': 320, 'units_4': 416, 'units_5': 416, 'units_6': 256, 'units_7': 192, 'units_8': 32, 'units_9': 32}\n"
     ]
    }
   ],
   "source": [
    "from keras_tuner import RandomSearch\n",
    "\n",
    "# Definieren der Funktion, die das Modell erstellt\n",
    "def build_model(hp):\n",
    "    model = Sequential()\n",
    "    model.add(Dense(hp.Int('input_units', min_value=32, max_value=512, step=32), input_shape=(2,), activation='relu'))\n",
    "    # Hinzufügen von Schichten basierend auf dem Suchraum\n",
    "    for i in range(hp.Int('n_layers', 1, 10)):\n",
    "        model.add(Dense(hp.Int(f'units_{i}', min_value=32, max_value=512, step=32), activation='relu'))\n",
    "    model.add(Dense(1, activation='linear'))\n",
    "    model.compile(optimizer='adam', loss='mean_squared_error')\n",
    "    return model\n",
    "\n",
    "# Erstellen des RandomSearch Objekts\n",
    "tuner = RandomSearch(\n",
    "    build_model,\n",
    "    objective='val_loss',\n",
    "    max_trials=100,  # Anzahl der zu testenden Modellkonfigurationen\n",
    "    executions_per_trial=1,  # Anzahl der Male, die jede Modellkonfiguration trainiert wird\n",
    "    directory='random_search',  # Verzeichnis zur Speicherung der Suchlogs\n",
    "    project_name='neural_network_optimization_D4'\n",
    ")\n",
    "\n",
    "# Durchführung des Random Search\n",
    "tuner.search(X_train_scaled, y_train_scaled, epochs=20, batch_size=50, validation_split=0.2, callbacks=[EarlyStopping(monitor='val_loss', patience=5)])\n",
    "\n",
    "# Abrufen des besten Modells\n",
    "best_model = tuner.get_best_models(num_models=1)[0]\n",
    "\n",
    "# Zusammenfassung des besten Modells\n",
    "best_model.summary()\n",
    "\n",
    "# Sie können auch die besten Hyperparameter direkt abrufen\n",
    "best_hyperparameters = tuner.get_best_hyperparameters()[0]\n",
    "print(best_hyperparameters.values)\n"
   ]
  },
  {
   "cell_type": "code",
   "execution_count": 17,
   "outputs": [],
   "source": [],
   "metadata": {
    "collapsed": false,
    "ExecuteTime": {
     "end_time": "2024-02-21T15:39:28.307586200Z",
     "start_time": "2024-02-21T15:39:28.291945300Z"
    }
   },
   "id": "d0f02feb42b652f5"
  }
 ],
 "metadata": {
  "kernelspec": {
   "display_name": "Python 3 (ipykernel)",
   "language": "python",
   "name": "python3"
  },
  "language_info": {
   "codemirror_mode": {
    "name": "ipython",
    "version": 3
   },
   "file_extension": ".py",
   "mimetype": "text/x-python",
   "name": "python",
   "nbconvert_exporter": "python",
   "pygments_lexer": "ipython3",
   "version": "3.11.4"
  }
 },
 "nbformat": 4,
 "nbformat_minor": 5
}
