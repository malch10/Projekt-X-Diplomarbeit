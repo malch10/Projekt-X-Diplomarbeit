{
 "cells": [
  {
   "cell_type": "code",
   "execution_count": 2,
   "id": "94b0518e",
   "metadata": {
    "ExecuteTime": {
     "end_time": "2024-03-13T12:49:32.805065700Z",
     "start_time": "2024-03-13T12:49:28.486418Z"
    }
   },
   "outputs": [
    {
     "name": "stdout",
     "output_type": "stream",
     "text": [
      "WARNING:tensorflow:From C:\\Users\\erikm\\Desktop\\Diplomarbeit Erik Marr\\Projekt X\\venv\\Lib\\site-packages\\keras\\src\\losses.py:2976: The name tf.losses.sparse_softmax_cross_entropy is deprecated. Please use tf.compat.v1.losses.sparse_softmax_cross_entropy instead.\n"
     ]
    }
   ],
   "source": [
    "import numpy as np\n",
    "import os\n",
    "import tensorflow as tf\n",
    "import matplotlib.pyplot as plt\n",
    "from sklearn.model_selection import train_test_split\n",
    "from sklearn.preprocessing import MinMaxScaler\n",
    "import pandas as pd\n",
    "from tensorflow.keras.layers import Dense , Dropout\n",
    "from scikeras.wrappers import KerasRegressor \n",
    "from tensorflow.keras.callbacks import EarlyStopping\n",
    "import time\n",
    "from keras.models import Sequential\n",
    "from keras.layers import Dense, Dropout\n",
    "from keras.optimizers import Adam\n",
    "from keras.regularizers import l2\n",
    "from keras.callbacks import EarlyStopping\n",
    "from keras_tuner import RandomSearch\n",
    "from tensorflow.keras.models import Sequential\n",
    "from tensorflow.keras.layers import Dense\n",
    "from tensorflow.keras.optimizers import Adam\n",
    "from tensorflow.keras.regularizers import l2\n",
    "from sklearn.model_selection import GridSearchCV"
   ]
  },
  {
   "cell_type": "code",
   "execution_count": 3,
   "id": "e4ff61b1",
   "metadata": {
    "ExecuteTime": {
     "end_time": "2024-03-13T12:49:32.818403400Z",
     "start_time": "2024-03-13T12:49:32.807065800Z"
    }
   },
   "outputs": [
    {
     "data": {
      "text/plain": "      X-Koordinate  Y-Koordinate  Zeitpunkt  Strom  Kraft  Temperatur\n0           0.0000      -0.00200        500   7000   9000      669.05\n1           0.0000      -0.00192        500   7000   9000      724.42\n2           0.0000      -0.00184        500   7000   9000      779.83\n3           0.0000      -0.00176        500   7000   9000      835.21\n4           0.0000      -0.00168        500   7000   9000      890.44\n...            ...           ...        ...    ...    ...         ...\n1066        0.0024       0.00168        500   7000   9000      775.40\n1067        0.0024       0.00176        500   7000   9000      715.43\n1068        0.0024       0.00184        500   7000   9000      645.85\n1069        0.0024       0.00192        500   7000   9000      585.87\n1070        0.0024       0.00200        500   7000   9000      574.64\n\n[1071 rows x 6 columns]",
      "text/html": "<div>\n<style scoped>\n    .dataframe tbody tr th:only-of-type {\n        vertical-align: middle;\n    }\n\n    .dataframe tbody tr th {\n        vertical-align: top;\n    }\n\n    .dataframe thead th {\n        text-align: right;\n    }\n</style>\n<table border=\"1\" class=\"dataframe\">\n  <thead>\n    <tr style=\"text-align: right;\">\n      <th></th>\n      <th>X-Koordinate</th>\n      <th>Y-Koordinate</th>\n      <th>Zeitpunkt</th>\n      <th>Strom</th>\n      <th>Kraft</th>\n      <th>Temperatur</th>\n    </tr>\n  </thead>\n  <tbody>\n    <tr>\n      <th>0</th>\n      <td>0.0000</td>\n      <td>-0.00200</td>\n      <td>500</td>\n      <td>7000</td>\n      <td>9000</td>\n      <td>669.05</td>\n    </tr>\n    <tr>\n      <th>1</th>\n      <td>0.0000</td>\n      <td>-0.00192</td>\n      <td>500</td>\n      <td>7000</td>\n      <td>9000</td>\n      <td>724.42</td>\n    </tr>\n    <tr>\n      <th>2</th>\n      <td>0.0000</td>\n      <td>-0.00184</td>\n      <td>500</td>\n      <td>7000</td>\n      <td>9000</td>\n      <td>779.83</td>\n    </tr>\n    <tr>\n      <th>3</th>\n      <td>0.0000</td>\n      <td>-0.00176</td>\n      <td>500</td>\n      <td>7000</td>\n      <td>9000</td>\n      <td>835.21</td>\n    </tr>\n    <tr>\n      <th>4</th>\n      <td>0.0000</td>\n      <td>-0.00168</td>\n      <td>500</td>\n      <td>7000</td>\n      <td>9000</td>\n      <td>890.44</td>\n    </tr>\n    <tr>\n      <th>...</th>\n      <td>...</td>\n      <td>...</td>\n      <td>...</td>\n      <td>...</td>\n      <td>...</td>\n      <td>...</td>\n    </tr>\n    <tr>\n      <th>1066</th>\n      <td>0.0024</td>\n      <td>0.00168</td>\n      <td>500</td>\n      <td>7000</td>\n      <td>9000</td>\n      <td>775.40</td>\n    </tr>\n    <tr>\n      <th>1067</th>\n      <td>0.0024</td>\n      <td>0.00176</td>\n      <td>500</td>\n      <td>7000</td>\n      <td>9000</td>\n      <td>715.43</td>\n    </tr>\n    <tr>\n      <th>1068</th>\n      <td>0.0024</td>\n      <td>0.00184</td>\n      <td>500</td>\n      <td>7000</td>\n      <td>9000</td>\n      <td>645.85</td>\n    </tr>\n    <tr>\n      <th>1069</th>\n      <td>0.0024</td>\n      <td>0.00192</td>\n      <td>500</td>\n      <td>7000</td>\n      <td>9000</td>\n      <td>585.87</td>\n    </tr>\n    <tr>\n      <th>1070</th>\n      <td>0.0024</td>\n      <td>0.00200</td>\n      <td>500</td>\n      <td>7000</td>\n      <td>9000</td>\n      <td>574.64</td>\n    </tr>\n  </tbody>\n</table>\n<p>1071 rows × 6 columns</p>\n</div>"
     },
     "execution_count": 3,
     "metadata": {},
     "output_type": "execute_result"
    }
   ],
   "source": [
    "#data = pd.read_pickle('C:/Users/erikm/Desktop/Diplomarbeit Erik Marr/Daten/Finish/TPath_300_finish_data.pkl')\n",
    "data = pd.read_pickle('C:/Users/erikm/Desktop/Diplomarbeit Erik Marr/Daten/Finish/Finish_D4_I7000_F9000/TPath_500_finish_data_D4.pkl')\n",
    "\n",
    "data"
   ]
  },
  {
   "cell_type": "code",
   "execution_count": 4,
   "id": "966e3c74",
   "metadata": {
    "ExecuteTime": {
     "end_time": "2024-03-13T12:49:32.827897900Z",
     "start_time": "2024-03-13T12:49:32.817403700Z"
    }
   },
   "outputs": [
    {
     "data": {
      "text/plain": "      X-Koordinate  Y-Koordinate  Temperatur\n0           0.0000      -0.00200      669.05\n1           0.0000      -0.00192      724.42\n2           0.0000      -0.00184      779.83\n3           0.0000      -0.00176      835.21\n4           0.0000      -0.00168      890.44\n...            ...           ...         ...\n1066        0.0024       0.00168      775.40\n1067        0.0024       0.00176      715.43\n1068        0.0024       0.00184      645.85\n1069        0.0024       0.00192      585.87\n1070        0.0024       0.00200      574.64\n\n[1071 rows x 3 columns]",
      "text/html": "<div>\n<style scoped>\n    .dataframe tbody tr th:only-of-type {\n        vertical-align: middle;\n    }\n\n    .dataframe tbody tr th {\n        vertical-align: top;\n    }\n\n    .dataframe thead th {\n        text-align: right;\n    }\n</style>\n<table border=\"1\" class=\"dataframe\">\n  <thead>\n    <tr style=\"text-align: right;\">\n      <th></th>\n      <th>X-Koordinate</th>\n      <th>Y-Koordinate</th>\n      <th>Temperatur</th>\n    </tr>\n  </thead>\n  <tbody>\n    <tr>\n      <th>0</th>\n      <td>0.0000</td>\n      <td>-0.00200</td>\n      <td>669.05</td>\n    </tr>\n    <tr>\n      <th>1</th>\n      <td>0.0000</td>\n      <td>-0.00192</td>\n      <td>724.42</td>\n    </tr>\n    <tr>\n      <th>2</th>\n      <td>0.0000</td>\n      <td>-0.00184</td>\n      <td>779.83</td>\n    </tr>\n    <tr>\n      <th>3</th>\n      <td>0.0000</td>\n      <td>-0.00176</td>\n      <td>835.21</td>\n    </tr>\n    <tr>\n      <th>4</th>\n      <td>0.0000</td>\n      <td>-0.00168</td>\n      <td>890.44</td>\n    </tr>\n    <tr>\n      <th>...</th>\n      <td>...</td>\n      <td>...</td>\n      <td>...</td>\n    </tr>\n    <tr>\n      <th>1066</th>\n      <td>0.0024</td>\n      <td>0.00168</td>\n      <td>775.40</td>\n    </tr>\n    <tr>\n      <th>1067</th>\n      <td>0.0024</td>\n      <td>0.00176</td>\n      <td>715.43</td>\n    </tr>\n    <tr>\n      <th>1068</th>\n      <td>0.0024</td>\n      <td>0.00184</td>\n      <td>645.85</td>\n    </tr>\n    <tr>\n      <th>1069</th>\n      <td>0.0024</td>\n      <td>0.00192</td>\n      <td>585.87</td>\n    </tr>\n    <tr>\n      <th>1070</th>\n      <td>0.0024</td>\n      <td>0.00200</td>\n      <td>574.64</td>\n    </tr>\n  </tbody>\n</table>\n<p>1071 rows × 3 columns</p>\n</div>"
     },
     "execution_count": 4,
     "metadata": {},
     "output_type": "execute_result"
    }
   ],
   "source": [
    "df = data.drop(data.columns[2:5], axis = 1)\n",
    "df"
   ]
  },
  {
   "cell_type": "code",
   "execution_count": 5,
   "id": "8783d1d6",
   "metadata": {
    "ExecuteTime": {
     "end_time": "2024-03-13T12:49:32.859961Z",
     "start_time": "2024-03-13T12:49:32.824898300Z"
    }
   },
   "outputs": [
    {
     "name": "stdout",
     "output_type": "stream",
     "text": [
      "      X-Koordinate  Y-Koordinate  Temperatur\n",
      "184        0.00036       0.00048     1441.10\n",
      "572        0.00132      -0.00112     1225.70\n",
      "309        0.00072      -0.00176      832.88\n",
      "930        0.00216      -0.00104     1158.00\n",
      "711        0.00156       0.00184      642.96\n",
      "...            ...           ...         ...\n",
      "330        0.00072      -0.00008     1500.20\n",
      "466        0.00108      -0.00144     1045.00\n",
      "121        0.00024      -0.00048     1484.90\n",
      "1044       0.00240      -0.00008     1259.10\n",
      "860        0.00192       0.00152      861.75\n",
      "\n",
      "[1071 rows x 3 columns]\n"
     ]
    },
    {
     "data": {
      "text/plain": "      X-Koordinate  Y-Koordinate  Temperatur\n0          0.00036       0.00048     1441.10\n1          0.00132      -0.00112     1225.70\n2          0.00072      -0.00176      832.88\n3          0.00216      -0.00104     1158.00\n4          0.00156       0.00184      642.96\n...            ...           ...         ...\n1066       0.00072      -0.00008     1500.20\n1067       0.00108      -0.00144     1045.00\n1068       0.00024      -0.00048     1484.90\n1069       0.00240      -0.00008     1259.10\n1070       0.00192       0.00152      861.75\n\n[1071 rows x 3 columns]",
      "text/html": "<div>\n<style scoped>\n    .dataframe tbody tr th:only-of-type {\n        vertical-align: middle;\n    }\n\n    .dataframe tbody tr th {\n        vertical-align: top;\n    }\n\n    .dataframe thead th {\n        text-align: right;\n    }\n</style>\n<table border=\"1\" class=\"dataframe\">\n  <thead>\n    <tr style=\"text-align: right;\">\n      <th></th>\n      <th>X-Koordinate</th>\n      <th>Y-Koordinate</th>\n      <th>Temperatur</th>\n    </tr>\n  </thead>\n  <tbody>\n    <tr>\n      <th>0</th>\n      <td>0.00036</td>\n      <td>0.00048</td>\n      <td>1441.10</td>\n    </tr>\n    <tr>\n      <th>1</th>\n      <td>0.00132</td>\n      <td>-0.00112</td>\n      <td>1225.70</td>\n    </tr>\n    <tr>\n      <th>2</th>\n      <td>0.00072</td>\n      <td>-0.00176</td>\n      <td>832.88</td>\n    </tr>\n    <tr>\n      <th>3</th>\n      <td>0.00216</td>\n      <td>-0.00104</td>\n      <td>1158.00</td>\n    </tr>\n    <tr>\n      <th>4</th>\n      <td>0.00156</td>\n      <td>0.00184</td>\n      <td>642.96</td>\n    </tr>\n    <tr>\n      <th>...</th>\n      <td>...</td>\n      <td>...</td>\n      <td>...</td>\n    </tr>\n    <tr>\n      <th>1066</th>\n      <td>0.00072</td>\n      <td>-0.00008</td>\n      <td>1500.20</td>\n    </tr>\n    <tr>\n      <th>1067</th>\n      <td>0.00108</td>\n      <td>-0.00144</td>\n      <td>1045.00</td>\n    </tr>\n    <tr>\n      <th>1068</th>\n      <td>0.00024</td>\n      <td>-0.00048</td>\n      <td>1484.90</td>\n    </tr>\n    <tr>\n      <th>1069</th>\n      <td>0.00240</td>\n      <td>-0.00008</td>\n      <td>1259.10</td>\n    </tr>\n    <tr>\n      <th>1070</th>\n      <td>0.00192</td>\n      <td>0.00152</td>\n      <td>861.75</td>\n    </tr>\n  </tbody>\n</table>\n<p>1071 rows × 3 columns</p>\n</div>"
     },
     "execution_count": 5,
     "metadata": {},
     "output_type": "execute_result"
    }
   ],
   "source": [
    "df1 = df.sample(frac=1, random_state=42)  # Hier wird 42 als Random State verwendet, um die Ergebnisse reproduzierbar zu machen\n",
    "\n",
    "print(df1)\n",
    "df_reset = df1.reset_index(drop=True)\n",
    "df_reset"
   ]
  },
  {
   "cell_type": "code",
   "execution_count": 6,
   "id": "a4e72a16",
   "metadata": {
    "ExecuteTime": {
     "end_time": "2024-03-13T12:49:32.907211400Z",
     "start_time": "2024-03-13T12:49:32.837254400Z"
    }
   },
   "outputs": [],
   "source": [
    "label = df_reset[\"Temperatur\"]\n",
    "# Korrektur: Verwenden Sie den Spaltennamen direkt, ohne Indexierung der columns-Eigenschaft\n",
    "df1 = df_reset.drop(\"Temperatur\", axis=1)\n",
    "X = df1\n",
    "y = label\n"
   ]
  },
  {
   "cell_type": "markdown",
   "source": [],
   "metadata": {
    "collapsed": false
   },
   "id": "f7fa289a50d87423"
  },
  {
   "cell_type": "code",
   "execution_count": 7,
   "id": "e694a236",
   "metadata": {
    "ExecuteTime": {
     "end_time": "2024-03-13T12:49:32.927212Z",
     "start_time": "2024-03-13T12:49:32.841082300Z"
    }
   },
   "outputs": [
    {
     "data": {
      "text/plain": "      X-Koordinate  Y-Koordinate\n0          0.00036       0.00048\n1          0.00132      -0.00112\n2          0.00072      -0.00176\n3          0.00216      -0.00104\n4          0.00156       0.00184\n...            ...           ...\n1066       0.00072      -0.00008\n1067       0.00108      -0.00144\n1068       0.00024      -0.00048\n1069       0.00240      -0.00008\n1070       0.00192       0.00152\n\n[1071 rows x 2 columns]",
      "text/html": "<div>\n<style scoped>\n    .dataframe tbody tr th:only-of-type {\n        vertical-align: middle;\n    }\n\n    .dataframe tbody tr th {\n        vertical-align: top;\n    }\n\n    .dataframe thead th {\n        text-align: right;\n    }\n</style>\n<table border=\"1\" class=\"dataframe\">\n  <thead>\n    <tr style=\"text-align: right;\">\n      <th></th>\n      <th>X-Koordinate</th>\n      <th>Y-Koordinate</th>\n    </tr>\n  </thead>\n  <tbody>\n    <tr>\n      <th>0</th>\n      <td>0.00036</td>\n      <td>0.00048</td>\n    </tr>\n    <tr>\n      <th>1</th>\n      <td>0.00132</td>\n      <td>-0.00112</td>\n    </tr>\n    <tr>\n      <th>2</th>\n      <td>0.00072</td>\n      <td>-0.00176</td>\n    </tr>\n    <tr>\n      <th>3</th>\n      <td>0.00216</td>\n      <td>-0.00104</td>\n    </tr>\n    <tr>\n      <th>4</th>\n      <td>0.00156</td>\n      <td>0.00184</td>\n    </tr>\n    <tr>\n      <th>...</th>\n      <td>...</td>\n      <td>...</td>\n    </tr>\n    <tr>\n      <th>1066</th>\n      <td>0.00072</td>\n      <td>-0.00008</td>\n    </tr>\n    <tr>\n      <th>1067</th>\n      <td>0.00108</td>\n      <td>-0.00144</td>\n    </tr>\n    <tr>\n      <th>1068</th>\n      <td>0.00024</td>\n      <td>-0.00048</td>\n    </tr>\n    <tr>\n      <th>1069</th>\n      <td>0.00240</td>\n      <td>-0.00008</td>\n    </tr>\n    <tr>\n      <th>1070</th>\n      <td>0.00192</td>\n      <td>0.00152</td>\n    </tr>\n  </tbody>\n</table>\n<p>1071 rows × 2 columns</p>\n</div>"
     },
     "execution_count": 7,
     "metadata": {},
     "output_type": "execute_result"
    }
   ],
   "source": [
    "X"
   ]
  },
  {
   "cell_type": "code",
   "execution_count": 8,
   "id": "3f3303b4",
   "metadata": {
    "ExecuteTime": {
     "end_time": "2024-03-13T12:49:32.928212200Z",
     "start_time": "2024-03-13T12:49:32.848086900Z"
    }
   },
   "outputs": [
    {
     "data": {
      "text/plain": "0       1441.10\n1       1225.70\n2        832.88\n3       1158.00\n4        642.96\n         ...   \n1066    1500.20\n1067    1045.00\n1068    1484.90\n1069    1259.10\n1070     861.75\nName: Temperatur, Length: 1071, dtype: float64"
     },
     "execution_count": 8,
     "metadata": {},
     "output_type": "execute_result"
    }
   ],
   "source": [
    "y"
   ]
  },
  {
   "cell_type": "code",
   "execution_count": 9,
   "id": "e3ad8da0",
   "metadata": {
    "ExecuteTime": {
     "end_time": "2024-03-13T12:49:32.932211700Z",
     "start_time": "2024-03-13T12:49:32.853243300Z"
    }
   },
   "outputs": [],
   "source": [
    " # train_df enthält 80% der Daten, test_df enthält 20% der Daten\n",
    "X_train, X_test, y_train, y_test = train_test_split(X, y, test_size=0.20, random_state=42)\n"
   ]
  },
  {
   "cell_type": "code",
   "execution_count": 10,
   "id": "9c705edb",
   "metadata": {
    "ExecuteTime": {
     "end_time": "2024-03-13T12:49:32.971212400Z",
     "start_time": "2024-03-13T12:49:32.858960400Z"
    }
   },
   "outputs": [],
   "source": [
    "# Initialisiere einen MinMaxScaler für die Features\n",
    "scaler_features = MinMaxScaler()\n",
    "scaler_features2 = MinMaxScaler()\n",
    "# Skaliere X_train und X_test\n",
    "X_train_scaled = scaler_features.fit_transform(X_train)\n",
    "X_test_scaled = scaler_features.transform(X_test)  # Nutze unterschiedliche Skalierungsparameter\n",
    "\n",
    "# Initialisiere einen SEPARATEN MinMaxScaler für das Ziel, wenn nötig\n",
    "scaler_target = MinMaxScaler()\n",
    "\n",
    "\n",
    "# Skaliere y_train und y_test. Beachte, dass y_train.reshape(-1, 1) verwendet wird, da MinMaxScaler \n",
    "# erwartet, dass die Eingaben als 2D-Arrays kommen, und Ziele normalerweise als 1D-Arrays vorliegen.\n",
    "y_train_scaled = scaler_target.fit_transform(y_train.values.reshape(-1, 1))\n",
    "y_test_scaled = scaler_target.transform(y_test.values.reshape(-1, 1))\n"
   ]
  },
  {
   "cell_type": "code",
   "execution_count": 11,
   "id": "bbefe631e495b483",
   "metadata": {
    "ExecuteTime": {
     "end_time": "2024-03-13T12:49:32.971212400Z",
     "start_time": "2024-03-13T12:49:32.865094400Z"
    }
   },
   "outputs": [
    {
     "data": {
      "text/plain": "array([[0.35, 0.88],\n       [0.75, 0.88],\n       [0.85, 0.02],\n       ...,\n       [0.2 , 0.86],\n       [1.  , 0.52],\n       [0.8 , 0.04]])"
     },
     "execution_count": 11,
     "metadata": {},
     "output_type": "execute_result"
    }
   ],
   "source": [
    "X_train_scaled"
   ]
  },
  {
   "cell_type": "code",
   "execution_count": 12,
   "outputs": [
    {
     "data": {
      "text/plain": "1.0"
     },
     "execution_count": 12,
     "metadata": {},
     "output_type": "execute_result"
    }
   ],
   "source": [
    "y_train_scaled.max()"
   ],
   "metadata": {
    "collapsed": false,
    "ExecuteTime": {
     "end_time": "2024-03-13T12:49:32.972212Z",
     "start_time": "2024-03-13T12:49:32.870694300Z"
    }
   },
   "id": "ce04ce43aac2242f"
  },
  {
   "cell_type": "code",
   "execution_count": 13,
   "outputs": [
    {
     "name": "stdout",
     "output_type": "stream",
     "text": [
      "WARNING:tensorflow:From C:\\Users\\erikm\\Desktop\\Diplomarbeit Erik Marr\\Projekt X\\venv\\Lib\\site-packages\\keras\\src\\backend.py:873: The name tf.get_default_graph is deprecated. Please use tf.compat.v1.get_default_graph instead.\n",
      "Epoch 1/1000\n",
      "WARNING:tensorflow:From C:\\Users\\erikm\\Desktop\\Diplomarbeit Erik Marr\\Projekt X\\venv\\Lib\\site-packages\\keras\\src\\utils\\tf_utils.py:492: The name tf.ragged.RaggedTensorValue is deprecated. Please use tf.compat.v1.ragged.RaggedTensorValue instead.\n",
      "WARNING:tensorflow:From C:\\Users\\erikm\\Desktop\\Diplomarbeit Erik Marr\\Projekt X\\venv\\Lib\\site-packages\\keras\\src\\engine\\base_layer_utils.py:384: The name tf.executing_eagerly_outside_functions is deprecated. Please use tf.compat.v1.executing_eagerly_outside_functions instead.\n",
      "10/10 [==============================] - 1s 19ms/step - loss: 0.2546 - mae: 0.3557 - val_loss: 0.2246 - val_mae: 0.3252\n",
      "Epoch 2/1000\n",
      "10/10 [==============================] - 0s 4ms/step - loss: 0.2137 - mae: 0.3219 - val_loss: 0.1774 - val_mae: 0.2642\n",
      "Epoch 3/1000\n",
      "10/10 [==============================] - 0s 4ms/step - loss: 0.1844 - mae: 0.2815 - val_loss: 0.1537 - val_mae: 0.2364\n",
      "Epoch 4/1000\n",
      "10/10 [==============================] - 0s 4ms/step - loss: 0.1670 - mae: 0.2597 - val_loss: 0.1361 - val_mae: 0.2245\n",
      "Epoch 5/1000\n",
      "10/10 [==============================] - 0s 4ms/step - loss: 0.1492 - mae: 0.2445 - val_loss: 0.1241 - val_mae: 0.2131\n",
      "Epoch 6/1000\n",
      "10/10 [==============================] - 0s 4ms/step - loss: 0.1315 - mae: 0.2266 - val_loss: 0.1125 - val_mae: 0.1876\n",
      "Epoch 7/1000\n",
      "10/10 [==============================] - 0s 4ms/step - loss: 0.1166 - mae: 0.2030 - val_loss: 0.0941 - val_mae: 0.1593\n",
      "Epoch 8/1000\n",
      "10/10 [==============================] - 0s 4ms/step - loss: 0.1009 - mae: 0.1780 - val_loss: 0.0843 - val_mae: 0.1415\n",
      "Epoch 9/1000\n",
      "10/10 [==============================] - 0s 4ms/step - loss: 0.0884 - mae: 0.1551 - val_loss: 0.0770 - val_mae: 0.1280\n",
      "Epoch 10/1000\n",
      "10/10 [==============================] - 0s 4ms/step - loss: 0.0792 - mae: 0.1361 - val_loss: 0.0736 - val_mae: 0.1231\n",
      "Epoch 11/1000\n",
      "10/10 [==============================] - 0s 4ms/step - loss: 0.0720 - mae: 0.1192 - val_loss: 0.0636 - val_mae: 0.0890\n",
      "Epoch 12/1000\n",
      "10/10 [==============================] - 0s 4ms/step - loss: 0.0652 - mae: 0.1004 - val_loss: 0.0601 - val_mae: 0.0802\n",
      "Epoch 13/1000\n",
      "10/10 [==============================] - 0s 4ms/step - loss: 0.0612 - mae: 0.0891 - val_loss: 0.0606 - val_mae: 0.0903\n",
      "Epoch 14/1000\n",
      "10/10 [==============================] - 0s 4ms/step - loss: 0.0574 - mae: 0.0751 - val_loss: 0.0531 - val_mae: 0.0586\n",
      "Epoch 15/1000\n",
      "10/10 [==============================] - 0s 4ms/step - loss: 0.0546 - mae: 0.0669 - val_loss: 0.0512 - val_mae: 0.0480\n",
      "Epoch 16/1000\n",
      "10/10 [==============================] - 0s 4ms/step - loss: 0.0512 - mae: 0.0525 - val_loss: 0.0498 - val_mae: 0.0449\n",
      "Epoch 17/1000\n",
      "10/10 [==============================] - 0s 4ms/step - loss: 0.0505 - mae: 0.0507 - val_loss: 0.0535 - val_mae: 0.0645\n",
      "Epoch 18/1000\n",
      "10/10 [==============================] - 0s 4ms/step - loss: 0.0508 - mae: 0.0572 - val_loss: 0.0483 - val_mae: 0.0376\n",
      "Epoch 19/1000\n",
      "10/10 [==============================] - 0s 4ms/step - loss: 0.0486 - mae: 0.0449 - val_loss: 0.0468 - val_mae: 0.0355\n",
      "Epoch 20/1000\n",
      "10/10 [==============================] - 0s 4ms/step - loss: 0.0479 - mae: 0.0433 - val_loss: 0.0556 - val_mae: 0.0904\n",
      "Epoch 21/1000\n",
      "10/10 [==============================] - 0s 4ms/step - loss: 0.0490 - mae: 0.0506 - val_loss: 0.0473 - val_mae: 0.0443\n",
      "Epoch 22/1000\n",
      "10/10 [==============================] - 0s 4ms/step - loss: 0.0460 - mae: 0.0345 - val_loss: 0.0459 - val_mae: 0.0314\n",
      "Epoch 23/1000\n",
      "10/10 [==============================] - 0s 4ms/step - loss: 0.0461 - mae: 0.0362 - val_loss: 0.0451 - val_mae: 0.0275\n",
      "Epoch 24/1000\n",
      "10/10 [==============================] - 0s 4ms/step - loss: 0.0454 - mae: 0.0319 - val_loss: 0.0455 - val_mae: 0.0355\n",
      "Epoch 25/1000\n",
      "10/10 [==============================] - 0s 4ms/step - loss: 0.0452 - mae: 0.0339 - val_loss: 0.0441 - val_mae: 0.0254\n",
      "Epoch 26/1000\n",
      "10/10 [==============================] - 0s 4ms/step - loss: 0.0442 - mae: 0.0268 - val_loss: 0.0441 - val_mae: 0.0272\n",
      "Epoch 27/1000\n",
      "10/10 [==============================] - 0s 4ms/step - loss: 0.0439 - mae: 0.0253 - val_loss: 0.0444 - val_mae: 0.0313\n",
      "Epoch 28/1000\n",
      "10/10 [==============================] - 0s 4ms/step - loss: 0.0439 - mae: 0.0273 - val_loss: 0.0448 - val_mae: 0.0374\n",
      "Epoch 29/1000\n",
      "10/10 [==============================] - 0s 4ms/step - loss: 0.0435 - mae: 0.0261 - val_loss: 0.0437 - val_mae: 0.0290\n",
      "Epoch 30/1000\n",
      "10/10 [==============================] - 0s 4ms/step - loss: 0.0430 - mae: 0.0226 - val_loss: 0.0429 - val_mae: 0.0213\n",
      "Epoch 31/1000\n",
      "10/10 [==============================] - 0s 4ms/step - loss: 0.0426 - mae: 0.0211 - val_loss: 0.0423 - val_mae: 0.0160\n",
      "Epoch 32/1000\n",
      "10/10 [==============================] - 0s 4ms/step - loss: 0.0422 - mae: 0.0174 - val_loss: 0.0425 - val_mae: 0.0217\n",
      "Epoch 33/1000\n",
      "10/10 [==============================] - 0s 4ms/step - loss: 0.0422 - mae: 0.0197 - val_loss: 0.0420 - val_mae: 0.0172\n",
      "Epoch 34/1000\n",
      "10/10 [==============================] - 0s 4ms/step - loss: 0.0418 - mae: 0.0171 - val_loss: 0.0417 - val_mae: 0.0169\n",
      "Epoch 35/1000\n",
      "10/10 [==============================] - 0s 4ms/step - loss: 0.0417 - mae: 0.0183 - val_loss: 0.0415 - val_mae: 0.0181\n",
      "Epoch 36/1000\n",
      "10/10 [==============================] - 0s 4ms/step - loss: 0.0414 - mae: 0.0161 - val_loss: 0.0414 - val_mae: 0.0192\n",
      "Epoch 37/1000\n",
      "10/10 [==============================] - 0s 4ms/step - loss: 0.0412 - mae: 0.0168 - val_loss: 0.0415 - val_mae: 0.0213\n",
      "Epoch 38/1000\n",
      "10/10 [==============================] - 0s 4ms/step - loss: 0.0415 - mae: 0.0236 - val_loss: 0.0414 - val_mae: 0.0215\n",
      "Epoch 39/1000\n",
      "10/10 [==============================] - 0s 4ms/step - loss: 0.0411 - mae: 0.0197 - val_loss: 0.0407 - val_mae: 0.0144\n",
      "Epoch 40/1000\n",
      "10/10 [==============================] - 0s 4ms/step - loss: 0.0406 - mae: 0.0156 - val_loss: 0.0408 - val_mae: 0.0200\n",
      "Epoch 41/1000\n",
      "10/10 [==============================] - 0s 4ms/step - loss: 0.0405 - mae: 0.0166 - val_loss: 0.0406 - val_mae: 0.0215\n",
      "Epoch 42/1000\n",
      "10/10 [==============================] - 0s 4ms/step - loss: 0.0403 - mae: 0.0157 - val_loss: 0.0401 - val_mae: 0.0130\n",
      "Epoch 43/1000\n",
      "10/10 [==============================] - 0s 4ms/step - loss: 0.0400 - mae: 0.0137 - val_loss: 0.0401 - val_mae: 0.0164\n",
      "Epoch 44/1000\n",
      "10/10 [==============================] - 0s 4ms/step - loss: 0.0399 - mae: 0.0147 - val_loss: 0.0397 - val_mae: 0.0129\n",
      "Epoch 45/1000\n",
      "10/10 [==============================] - 0s 4ms/step - loss: 0.0397 - mae: 0.0134 - val_loss: 0.0397 - val_mae: 0.0156\n",
      "Epoch 46/1000\n",
      "10/10 [==============================] - 0s 4ms/step - loss: 0.0395 - mae: 0.0131 - val_loss: 0.0395 - val_mae: 0.0140\n",
      "Epoch 47/1000\n",
      "10/10 [==============================] - 0s 4ms/step - loss: 0.0394 - mae: 0.0135 - val_loss: 0.0393 - val_mae: 0.0142\n",
      "Epoch 48/1000\n",
      "10/10 [==============================] - 0s 4ms/step - loss: 0.0392 - mae: 0.0131 - val_loss: 0.0392 - val_mae: 0.0163\n",
      "Epoch 49/1000\n",
      "10/10 [==============================] - 0s 4ms/step - loss: 0.0390 - mae: 0.0132 - val_loss: 0.0395 - val_mae: 0.0215\n",
      "Epoch 50/1000\n",
      "10/10 [==============================] - 0s 4ms/step - loss: 0.0391 - mae: 0.0166 - val_loss: 0.0390 - val_mae: 0.0166\n",
      "Epoch 51/1000\n",
      "10/10 [==============================] - 0s 4ms/step - loss: 0.0388 - mae: 0.0141 - val_loss: 0.0388 - val_mae: 0.0180\n",
      "Epoch 52/1000\n",
      "10/10 [==============================] - 0s 4ms/step - loss: 0.0385 - mae: 0.0122 - val_loss: 0.0386 - val_mae: 0.0146\n",
      "Epoch 53/1000\n",
      "10/10 [==============================] - 0s 4ms/step - loss: 0.0384 - mae: 0.0120 - val_loss: 0.0386 - val_mae: 0.0172\n",
      "Epoch 54/1000\n",
      "10/10 [==============================] - 0s 4ms/step - loss: 0.0382 - mae: 0.0115 - val_loss: 0.0383 - val_mae: 0.0155\n",
      "Epoch 55/1000\n",
      "10/10 [==============================] - 0s 4ms/step - loss: 0.0382 - mae: 0.0135 - val_loss: 0.0380 - val_mae: 0.0127\n",
      "Epoch 56/1000\n",
      "10/10 [==============================] - 0s 4ms/step - loss: 0.0380 - mae: 0.0128 - val_loss: 0.0392 - val_mae: 0.0325\n",
      "Epoch 57/1000\n",
      "10/10 [==============================] - 0s 4ms/step - loss: 0.0389 - mae: 0.0295 - val_loss: 0.0398 - val_mae: 0.0381\n",
      "Epoch 58/1000\n",
      "10/10 [==============================] - 0s 4ms/step - loss: 0.0385 - mae: 0.0250 - val_loss: 0.0383 - val_mae: 0.0242\n",
      "Epoch 59/1000\n",
      "10/10 [==============================] - 0s 4ms/step - loss: 0.0376 - mae: 0.0137 - val_loss: 0.0374 - val_mae: 0.0112\n",
      "Epoch 60/1000\n",
      "10/10 [==============================] - 0s 4ms/step - loss: 0.0373 - mae: 0.0111 - val_loss: 0.0373 - val_mae: 0.0123\n",
      "Epoch 61/1000\n",
      "10/10 [==============================] - 0s 4ms/step - loss: 0.0372 - mae: 0.0108 - val_loss: 0.0371 - val_mae: 0.0104\n",
      "Epoch 62/1000\n",
      "10/10 [==============================] - 0s 4ms/step - loss: 0.0371 - mae: 0.0114 - val_loss: 0.0370 - val_mae: 0.0120\n",
      "Epoch 63/1000\n",
      "10/10 [==============================] - 0s 4ms/step - loss: 0.0369 - mae: 0.0118 - val_loss: 0.0369 - val_mae: 0.0119\n",
      "Epoch 64/1000\n",
      "10/10 [==============================] - 0s 4ms/step - loss: 0.0368 - mae: 0.0115 - val_loss: 0.0368 - val_mae: 0.0134\n",
      "Epoch 65/1000\n",
      "10/10 [==============================] - 0s 4ms/step - loss: 0.0367 - mae: 0.0119 - val_loss: 0.0366 - val_mae: 0.0114\n",
      "Epoch 66/1000\n",
      "10/10 [==============================] - 0s 4ms/step - loss: 0.0365 - mae: 0.0107 - val_loss: 0.0369 - val_mae: 0.0187\n",
      "Epoch 67/1000\n",
      "10/10 [==============================] - 0s 4ms/step - loss: 0.0365 - mae: 0.0139 - val_loss: 0.0363 - val_mae: 0.0124\n",
      "Epoch 68/1000\n",
      "10/10 [==============================] - 0s 4ms/step - loss: 0.0365 - mae: 0.0163 - val_loss: 0.0369 - val_mae: 0.0250\n",
      "Epoch 69/1000\n",
      "10/10 [==============================] - 0s 4ms/step - loss: 0.0366 - mae: 0.0208 - val_loss: 0.0378 - val_mae: 0.0400\n",
      "Epoch 70/1000\n",
      "10/10 [==============================] - 0s 4ms/step - loss: 0.0372 - mae: 0.0298 - val_loss: 0.0385 - val_mae: 0.0463\n",
      "Epoch 71/1000\n",
      "10/10 [==============================] - 0s 4ms/step - loss: 0.0374 - mae: 0.0316 - val_loss: 0.0368 - val_mae: 0.0273\n",
      "Epoch 72/1000\n",
      "10/10 [==============================] - 0s 4ms/step - loss: 0.0361 - mae: 0.0183 - val_loss: 0.0359 - val_mae: 0.0168\n",
      "Epoch 73/1000\n",
      "10/10 [==============================] - 0s 4ms/step - loss: 0.0357 - mae: 0.0138 - val_loss: 0.0359 - val_mae: 0.0177\n",
      "Epoch 74/1000\n",
      "10/10 [==============================] - 0s 4ms/step - loss: 0.0356 - mae: 0.0140 - val_loss: 0.0354 - val_mae: 0.0115\n",
      "Epoch 75/1000\n",
      "10/10 [==============================] - 0s 4ms/step - loss: 0.0354 - mae: 0.0123 - val_loss: 0.0356 - val_mae: 0.0181\n",
      "Epoch 76/1000\n",
      "10/10 [==============================] - 0s 4ms/step - loss: 0.0354 - mae: 0.0160 - val_loss: 0.0352 - val_mae: 0.0118\n",
      "Epoch 77/1000\n",
      "10/10 [==============================] - 0s 4ms/step - loss: 0.0353 - mae: 0.0165 - val_loss: 0.0360 - val_mae: 0.0280\n",
      "Epoch 78/1000\n",
      "10/10 [==============================] - 0s 4ms/step - loss: 0.0353 - mae: 0.0181 - val_loss: 0.0355 - val_mae: 0.0241\n",
      "Epoch 79/1000\n",
      "10/10 [==============================] - 0s 4ms/step - loss: 0.0350 - mae: 0.0148 - val_loss: 0.0350 - val_mae: 0.0149\n",
      "Epoch 80/1000\n",
      "10/10 [==============================] - 0s 4ms/step - loss: 0.0348 - mae: 0.0130 - val_loss: 0.0347 - val_mae: 0.0140\n",
      "Epoch 81/1000\n",
      "10/10 [==============================] - 0s 4ms/step - loss: 0.0346 - mae: 0.0117 - val_loss: 0.0346 - val_mae: 0.0124\n",
      "Epoch 82/1000\n",
      "10/10 [==============================] - 0s 4ms/step - loss: 0.0345 - mae: 0.0109 - val_loss: 0.0345 - val_mae: 0.0124\n",
      "Epoch 83/1000\n",
      "10/10 [==============================] - 0s 4ms/step - loss: 0.0346 - mae: 0.0154 - val_loss: 0.0350 - val_mae: 0.0260\n",
      "Epoch 84/1000\n",
      "10/10 [==============================] - 0s 4ms/step - loss: 0.0345 - mae: 0.0159 - val_loss: 0.0343 - val_mae: 0.0143\n",
      "Epoch 85/1000\n",
      "10/10 [==============================] - 0s 4ms/step - loss: 0.0341 - mae: 0.0113 - val_loss: 0.0345 - val_mae: 0.0204\n",
      "Epoch 86/1000\n",
      "10/10 [==============================] - 0s 4ms/step - loss: 0.0342 - mae: 0.0152 - val_loss: 0.0339 - val_mae: 0.0100\n",
      "Epoch 87/1000\n",
      "10/10 [==============================] - 0s 4ms/step - loss: 0.0341 - mae: 0.0143 - val_loss: 0.0339 - val_mae: 0.0115\n",
      "Epoch 88/1000\n",
      "10/10 [==============================] - 0s 4ms/step - loss: 0.0338 - mae: 0.0106 - val_loss: 0.0339 - val_mae: 0.0130\n",
      "Epoch 89/1000\n",
      "10/10 [==============================] - 0s 4ms/step - loss: 0.0337 - mae: 0.0124 - val_loss: 0.0343 - val_mae: 0.0223\n",
      "Epoch 90/1000\n",
      "10/10 [==============================] - 0s 4ms/step - loss: 0.0338 - mae: 0.0163 - val_loss: 0.0339 - val_mae: 0.0202\n",
      "Epoch 91/1000\n",
      "10/10 [==============================] - 0s 4ms/step - loss: 0.0336 - mae: 0.0143 - val_loss: 0.0335 - val_mae: 0.0149\n",
      "Epoch 92/1000\n",
      "10/10 [==============================] - 0s 4ms/step - loss: 0.0335 - mae: 0.0147 - val_loss: 0.0345 - val_mae: 0.0334\n",
      "Epoch 93/1000\n",
      "10/10 [==============================] - 0s 4ms/step - loss: 0.0337 - mae: 0.0204 - val_loss: 0.0338 - val_mae: 0.0226\n",
      "Epoch 94/1000\n",
      "10/10 [==============================] - 0s 4ms/step - loss: 0.0332 - mae: 0.0136 - val_loss: 0.0337 - val_mae: 0.0231\n",
      "Epoch 95/1000\n",
      "10/10 [==============================] - 0s 4ms/step - loss: 0.0334 - mae: 0.0199 - val_loss: 0.0330 - val_mae: 0.0109\n",
      "Epoch 96/1000\n",
      "10/10 [==============================] - 0s 4ms/step - loss: 0.0330 - mae: 0.0142 - val_loss: 0.0329 - val_mae: 0.0120\n",
      "Epoch 97/1000\n",
      "10/10 [==============================] - 0s 4ms/step - loss: 0.0328 - mae: 0.0116 - val_loss: 0.0331 - val_mae: 0.0203\n",
      "Epoch 98/1000\n",
      "10/10 [==============================] - 0s 4ms/step - loss: 0.0329 - mae: 0.0167 - val_loss: 0.0327 - val_mae: 0.0120\n",
      "Epoch 99/1000\n",
      "10/10 [==============================] - 0s 4ms/step - loss: 0.0326 - mae: 0.0129 - val_loss: 0.0328 - val_mae: 0.0164\n",
      "Epoch 100/1000\n",
      "10/10 [==============================] - 0s 4ms/step - loss: 0.0326 - mae: 0.0130 - val_loss: 0.0325 - val_mae: 0.0139\n",
      "Epoch 101/1000\n",
      "10/10 [==============================] - 0s 4ms/step - loss: 0.0324 - mae: 0.0124 - val_loss: 0.0324 - val_mae: 0.0137\n",
      "Epoch 102/1000\n",
      "10/10 [==============================] - 0s 4ms/step - loss: 0.0323 - mae: 0.0130 - val_loss: 0.0326 - val_mae: 0.0202\n",
      "Epoch 103/1000\n",
      "10/10 [==============================] - 0s 4ms/step - loss: 0.0322 - mae: 0.0126 - val_loss: 0.0321 - val_mae: 0.0113\n",
      "Epoch 104/1000\n",
      "10/10 [==============================] - 0s 4ms/step - loss: 0.0320 - mae: 0.0099 - val_loss: 0.0320 - val_mae: 0.0122\n",
      "Epoch 105/1000\n",
      "10/10 [==============================] - 0s 4ms/step - loss: 0.0320 - mae: 0.0121 - val_loss: 0.0320 - val_mae: 0.0150\n",
      "Epoch 106/1000\n",
      "10/10 [==============================] - 0s 4ms/step - loss: 0.0321 - mae: 0.0174 - val_loss: 0.0319 - val_mae: 0.0166\n",
      "Epoch 107/1000\n",
      "10/10 [==============================] - 0s 4ms/step - loss: 0.0319 - mae: 0.0155 - val_loss: 0.0318 - val_mae: 0.0130\n",
      "Epoch 108/1000\n",
      "10/10 [==============================] - 0s 4ms/step - loss: 0.0318 - mae: 0.0139 - val_loss: 0.0316 - val_mae: 0.0119\n",
      "Epoch 109/1000\n",
      "10/10 [==============================] - 0s 4ms/step - loss: 0.0318 - mae: 0.0165 - val_loss: 0.0324 - val_mae: 0.0274\n",
      "Epoch 110/1000\n",
      "10/10 [==============================] - 0s 4ms/step - loss: 0.0320 - mae: 0.0213 - val_loss: 0.0319 - val_mae: 0.0210\n",
      "Epoch 111/1000\n",
      "10/10 [==============================] - 0s 4ms/step - loss: 0.0316 - mae: 0.0156 - val_loss: 0.0325 - val_mae: 0.0287\n",
      "Epoch 112/1000\n",
      "10/10 [==============================] - 0s 4ms/step - loss: 0.0316 - mae: 0.0189 - val_loss: 0.0314 - val_mae: 0.0158\n",
      "Epoch 113/1000\n",
      "10/10 [==============================] - 0s 4ms/step - loss: 0.0314 - mae: 0.0168 - val_loss: 0.0314 - val_mae: 0.0211\n",
      "Epoch 114/1000\n",
      "10/10 [==============================] - 0s 4ms/step - loss: 0.0312 - mae: 0.0152 - val_loss: 0.0310 - val_mae: 0.0118\n",
      "Epoch 115/1000\n",
      "10/10 [==============================] - 0s 4ms/step - loss: 0.0310 - mae: 0.0133 - val_loss: 0.0314 - val_mae: 0.0195\n",
      "Epoch 116/1000\n",
      "10/10 [==============================] - 0s 4ms/step - loss: 0.0313 - mae: 0.0194 - val_loss: 0.0336 - val_mae: 0.0455\n",
      "Epoch 117/1000\n",
      "10/10 [==============================] - 0s 4ms/step - loss: 0.0322 - mae: 0.0312 - val_loss: 0.0316 - val_mae: 0.0282\n",
      "Epoch 118/1000\n",
      "10/10 [==============================] - 0s 4ms/step - loss: 0.0312 - mae: 0.0207 - val_loss: 0.0315 - val_mae: 0.0251\n",
      "Epoch 119/1000\n",
      "10/10 [==============================] - 0s 4ms/step - loss: 0.0311 - mae: 0.0216 - val_loss: 0.0308 - val_mae: 0.0183\n",
      "Epoch 120/1000\n",
      "10/10 [==============================] - 0s 4ms/step - loss: 0.0310 - mae: 0.0209 - val_loss: 0.0304 - val_mae: 0.0121\n",
      "Epoch 121/1000\n",
      "10/10 [==============================] - 0s 4ms/step - loss: 0.0305 - mae: 0.0138 - val_loss: 0.0311 - val_mae: 0.0270\n",
      "Epoch 122/1000\n",
      "10/10 [==============================] - 0s 4ms/step - loss: 0.0308 - mae: 0.0203 - val_loss: 0.0312 - val_mae: 0.0268\n",
      "Epoch 123/1000\n",
      "10/10 [==============================] - 0s 4ms/step - loss: 0.0309 - mae: 0.0220 - val_loss: 0.0306 - val_mae: 0.0189\n",
      "Epoch 124/1000\n",
      "10/10 [==============================] - 0s 4ms/step - loss: 0.0303 - mae: 0.0152 - val_loss: 0.0304 - val_mae: 0.0187\n",
      "Epoch 125/1000\n",
      "10/10 [==============================] - 0s 4ms/step - loss: 0.0302 - mae: 0.0148 - val_loss: 0.0306 - val_mae: 0.0222\n",
      "Epoch 126/1000\n",
      "10/10 [==============================] - 0s 4ms/step - loss: 0.0301 - mae: 0.0140 - val_loss: 0.0300 - val_mae: 0.0143\n",
      "Epoch 127/1000\n",
      "10/10 [==============================] - 0s 4ms/step - loss: 0.0299 - mae: 0.0137 - val_loss: 0.0299 - val_mae: 0.0150\n",
      "Epoch 128/1000\n",
      "10/10 [==============================] - 0s 4ms/step - loss: 0.0299 - mae: 0.0156 - val_loss: 0.0304 - val_mae: 0.0273\n",
      "Epoch 129/1000\n",
      "10/10 [==============================] - 0s 4ms/step - loss: 0.0298 - mae: 0.0152 - val_loss: 0.0297 - val_mae: 0.0140\n",
      "Epoch 130/1000\n",
      "10/10 [==============================] - 0s 4ms/step - loss: 0.0298 - mae: 0.0162 - val_loss: 0.0313 - val_mae: 0.0346\n",
      "Epoch 131/1000\n",
      "10/10 [==============================] - 0s 4ms/step - loss: 0.0301 - mae: 0.0219 - val_loss: 0.0313 - val_mae: 0.0417\n",
      "Epoch 132/1000\n",
      "10/10 [==============================] - 0s 4ms/step - loss: 0.0300 - mae: 0.0211 - val_loss: 0.0294 - val_mae: 0.0126\n",
      "Epoch 133/1000\n",
      "10/10 [==============================] - 0s 4ms/step - loss: 0.0294 - mae: 0.0131 - val_loss: 0.0292 - val_mae: 0.0103\n",
      "Epoch 134/1000\n",
      "10/10 [==============================] - 0s 4ms/step - loss: 0.0293 - mae: 0.0117 - val_loss: 0.0294 - val_mae: 0.0172\n",
      "Epoch 135/1000\n",
      "10/10 [==============================] - 0s 4ms/step - loss: 0.0291 - mae: 0.0113 - val_loss: 0.0292 - val_mae: 0.0145\n",
      "Epoch 136/1000\n",
      "10/10 [==============================] - 0s 4ms/step - loss: 0.0291 - mae: 0.0124 - val_loss: 0.0290 - val_mae: 0.0096\n",
      "Epoch 137/1000\n",
      "10/10 [==============================] - 0s 4ms/step - loss: 0.0289 - mae: 0.0099 - val_loss: 0.0290 - val_mae: 0.0132\n",
      "Epoch 138/1000\n",
      "10/10 [==============================] - 0s 4ms/step - loss: 0.0290 - mae: 0.0130 - val_loss: 0.0291 - val_mae: 0.0181\n",
      "Epoch 139/1000\n",
      "10/10 [==============================] - 0s 4ms/step - loss: 0.0288 - mae: 0.0122 - val_loss: 0.0303 - val_mae: 0.0309\n",
      "Epoch 140/1000\n",
      "10/10 [==============================] - 0s 4ms/step - loss: 0.0298 - mae: 0.0275 - val_loss: 0.0296 - val_mae: 0.0285\n",
      "Epoch 141/1000\n",
      "10/10 [==============================] - 0s 4ms/step - loss: 0.0289 - mae: 0.0167 - val_loss: 0.0290 - val_mae: 0.0192\n",
      "Epoch 142/1000\n",
      "10/10 [==============================] - 0s 4ms/step - loss: 0.0289 - mae: 0.0178 - val_loss: 0.0297 - val_mae: 0.0310\n",
      "Epoch 143/1000\n",
      "10/10 [==============================] - 0s 4ms/step - loss: 0.0290 - mae: 0.0207 - val_loss: 0.0287 - val_mae: 0.0183\n",
      "Epoch 144/1000\n",
      "10/10 [==============================] - 0s 4ms/step - loss: 0.0286 - mae: 0.0169 - val_loss: 0.0284 - val_mae: 0.0146\n",
      "Epoch 145/1000\n",
      "10/10 [==============================] - 0s 4ms/step - loss: 0.0283 - mae: 0.0113 - val_loss: 0.0290 - val_mae: 0.0234\n",
      "Epoch 146/1000\n",
      "10/10 [==============================] - 0s 4ms/step - loss: 0.0285 - mae: 0.0169 - val_loss: 0.0287 - val_mae: 0.0199\n",
      "Epoch 147/1000\n",
      "10/10 [==============================] - 0s 4ms/step - loss: 0.0285 - mae: 0.0189 - val_loss: 0.0284 - val_mae: 0.0200\n",
      "Epoch 148/1000\n",
      "10/10 [==============================] - 0s 4ms/step - loss: 0.0281 - mae: 0.0122 - val_loss: 0.0285 - val_mae: 0.0204\n",
      "Epoch 149/1000\n",
      "10/10 [==============================] - 0s 4ms/step - loss: 0.0283 - mae: 0.0182 - val_loss: 0.0328 - val_mae: 0.0618\n",
      "Epoch 150/1000\n",
      "10/10 [==============================] - 0s 4ms/step - loss: 0.0319 - mae: 0.0516 - val_loss: 0.0301 - val_mae: 0.0400\n",
      "Epoch 151/1000\n",
      "10/10 [==============================] - 0s 4ms/step - loss: 0.0288 - mae: 0.0261 - val_loss: 0.0281 - val_mae: 0.0157\n",
      "Epoch 152/1000\n",
      "10/10 [==============================] - 0s 4ms/step - loss: 0.0282 - mae: 0.0198 - val_loss: 0.0434 - val_mae: 0.1051\n",
      "Epoch 153/1000\n",
      " 1/10 [==>...........................] - ETA: 0s - loss: 0.0409 - mae: 0.0951Restoring model weights from the end of the best epoch: 148.\n",
      "10/10 [==============================] - 0s 5ms/step - loss: 0.0348 - mae: 0.0659 - val_loss: 0.0345 - val_mae: 0.0734\n",
      "Epoch 153: early stopping\n"
     ]
    }
   ],
   "source": [
    "# Netzwerkarchitektur\n",
    "model = Sequential([\n",
    "\n",
    "    Dense(136, activation='relu', input_shape=(2,), kernel_initializer='he_uniform', kernel_regularizer=l2(0.0001)),\n",
    "\n",
    "    Dense(168, activation='relu', kernel_initializer='he_uniform', kernel_regularizer=l2(0.0001)),\n",
    "    \n",
    "    Dense(24, activation='relu', kernel_initializer='he_uniform', kernel_regularizer=l2(0.0001)),\n",
    "    \n",
    "    Dense(1 , activation = 'linear')\n",
    "])\n",
    "\n",
    "# Optimierer\n",
    "optimizer = tf.keras.optimizers.Adam(learning_rate=0.001)\n",
    "\n",
    "# Modell kompilieren (Verwendung von mean_squared_error als Verlustfunktion für Regression)\n",
    "model.compile(optimizer=optimizer,\n",
    "              loss='mean_squared_error',\n",
    "              metrics=['mae'])  # Metriken für Regression: Mean Absolute Error und Mean Squared Error\n",
    "\n",
    "# Early Stopping Callback\n",
    "early_stopping = EarlyStopping(monitor='loss', patience=5, verbose=1, mode='min', restore_best_weights=True)\n",
    "\n",
    "# Trainingsparameter\n",
    "batch_size = 75\n",
    "epochs = 1000\n",
    "\n",
    "# Modell trainieren (Annahme: X_train, y_train, X_val, y_val sind vordefiniert)\n",
    "history = model.fit(X_train_scaled, y_train_scaled,\n",
    "                    batch_size=batch_size,\n",
    "                    epochs=epochs,\n",
    "                    validation_split=0.2,\n",
    "                    callbacks=[early_stopping])"
   ],
   "metadata": {
    "collapsed": false,
    "ExecuteTime": {
     "end_time": "2024-03-13T12:49:40.200714500Z",
     "start_time": "2024-03-13T12:49:32.872212200Z"
    }
   },
   "id": "8b52e1a9a6ff3aeb"
  },
  {
   "cell_type": "code",
   "execution_count": 14,
   "outputs": [
    {
     "name": "stdout",
     "output_type": "stream",
     "text": [
      "7/7 - 0s - loss: 0.0286 - mae: 0.0212 - 26ms/epoch - 4ms/step\n"
     ]
    },
    {
     "data": {
      "text/plain": "[0.028591785579919815, 0.021230235695838928]"
     },
     "execution_count": 14,
     "metadata": {},
     "output_type": "execute_result"
    }
   ],
   "source": [
    "results = model.evaluate(X_test_scaled, y_test_scaled, verbose=2)\n",
    "results"
   ],
   "metadata": {
    "collapsed": false,
    "ExecuteTime": {
     "end_time": "2024-03-13T12:49:40.257378Z",
     "start_time": "2024-03-13T12:49:40.194714400Z"
    }
   },
   "id": "4b02697cbcecd185"
  },
  {
   "cell_type": "code",
   "execution_count": 15,
   "outputs": [
    {
     "name": "stdout",
     "output_type": "stream",
     "text": [
      " Bsp. Predicted: [1149.7767] Actual: [1148.8] \n",
      "Durchschnittliche Abweichung (MAE): [20.06809395]\n"
     ]
    }
   ],
   "source": [
    "scaled_predicted_values = model.predict(X_test_scaled, verbose = 0)\n",
    "\n",
    "# Führen Sie die Rücktransformation der skalierten Werte durch\n",
    "original_predicted_values = scaler_target.inverse_transform(scaled_predicted_values)\n",
    "original_actual_values = scaler_target.inverse_transform(y_test_scaled)  # y_test sind die skalierten tatsächlichen Werte\n",
    "print(f' Bsp. Predicted: {original_predicted_values[100]} Actual: {original_actual_values[100]} ')\n",
    "\n",
    "def calculate_mae(list1, list2):\n",
    "    # Stelle sicher, dass beide Listen die gleiche Länge haben\n",
    "    if len(list1) != len(list2):\n",
    "        raise ValueError(\"Listen müssen die gleiche Länge haben\")\n",
    "\n",
    "    # Berechne die absolute Differenz zwischen den Elementen der Listen\n",
    "    differences = [abs(x - y) for x, y in zip(list1, list2)]\n",
    "\n",
    "    # Berechne den Durchschnitt der absoluten Differenzen\n",
    "    mae = sum(differences) / len(differences)\n",
    "\n",
    "    return mae\n",
    "\n",
    "# Beispiel\n",
    "list1 = original_predicted_values\n",
    "list2 = original_actual_values\n",
    "\n",
    "mae = calculate_mae(list1, list2)\n",
    "print(f\"Durchschnittliche Abweichung (MAE): {mae}\")"
   ],
   "metadata": {
    "collapsed": false,
    "ExecuteTime": {
     "end_time": "2024-03-13T12:49:40.371770600Z",
     "start_time": "2024-03-13T12:49:40.258377400Z"
    }
   },
   "id": "a402d28abbd82f60"
  },
  {
   "cell_type": "code",
   "execution_count": 16,
   "outputs": [
    {
     "name": "stdout",
     "output_type": "stream",
     "text": [
      "R^2: [0.99001143]\n"
     ]
    }
   ],
   "source": [
    "def calculate_r_squared(predicted, actual):\n",
    "    # Berechnung des Mittelwerts der tatsächlichen Werte\n",
    "    mean_actual = sum(actual) / len(actual)\n",
    "    \n",
    "    # Berechnung der totalen Summe der Quadrate (SST)\n",
    "    sst = sum((x - mean_actual) ** 2 for x in actual)\n",
    "    \n",
    "    # Berechnung der Summe der Quadrate der Residuen (SSE)\n",
    "    sse = sum((actual[i] - predicted[i]) ** 2 for i in range(len(actual)))\n",
    "    \n",
    "    # Berechnung des R^2-Wertes\n",
    "    r_squared = 1 - (sse / sst)\n",
    "    \n",
    "    return r_squared\n",
    "\n",
    "# Berechnung von R^2 mit den bereitgestellten Listen\n",
    "r_squared = calculate_r_squared(list1, list2)\n",
    "\n",
    "print(f\"R^2: {r_squared}\")"
   ],
   "metadata": {
    "collapsed": false,
    "ExecuteTime": {
     "end_time": "2024-03-13T12:49:40.376186500Z",
     "start_time": "2024-03-13T12:49:40.371770600Z"
    }
   },
   "id": "2820df0b9f03b675"
  },
  {
   "cell_type": "code",
   "execution_count": 17,
   "outputs": [
    {
     "data": {
      "text/plain": "<Figure size 1000x600 with 1 Axes>",
      "image/png": "[encoded data removed]"
     },
     "metadata": {},
     "output_type": "display_data"
    }
   ],
   "source": [
    "mae = history.history['loss']\n",
    "val_mae = history.history['val_loss']\n",
    "\n",
    "epochs = range(1, len(mae) + 1)\n",
    "\n",
    "# MAE Diagramm\n",
    "plt.figure(figsize=(10, 6))\n",
    "plt.plot(epochs, mae, 'r', label='Training MSE')\n",
    "plt.plot(epochs, val_mae, 'b', label='Validation MSE')\n",
    "plt.title('Training and Validation MAE')\n",
    "plt.xlabel('Epochs')\n",
    "plt.ylabel('MAE')\n",
    "plt.legend()\n",
    "\n",
    "plt.show()"
   ],
   "metadata": {
    "collapsed": false,
    "ExecuteTime": {
     "end_time": "2024-03-13T12:49:40.512401900Z",
     "start_time": "2024-03-13T12:49:40.375185800Z"
    }
   },
   "id": "3688dd7102e95baf"
  },
  {
   "cell_type": "markdown",
   "id": "553df6fa",
   "metadata": {},
   "source": [
    "# GridSearch"
   ]
  },
  {
   "cell_type": "code",
   "execution_count": 18,
   "outputs": [],
   "source": [
    "# def build_model(learning_rate=0.001, activation='relu', regularization=0.0001, dropout_rate=0.0):\n",
    "#     model = Sequential()\n",
    "#     model.add(Dense(448, activation=activation, input_shape=(2,), kernel_initializer='he_uniform', kernel_regularizer=l2(regularization)))\n",
    "#     model.add(Dropout(dropout_rate))\n",
    "# \n",
    "#     model.add(Dense(384, activation=activation, kernel_initializer='he_uniform', kernel_regularizer=l2(regularization)))\n",
    "#     model.add(Dropout(dropout_rate))\n",
    "# \n",
    "#     model.add(Dense(96, activation=activation, kernel_initializer='he_uniform', kernel_regularizer=l2(regularization)))\n",
    "#     model.add(Dropout(dropout_rate))\n",
    "# \n",
    "#     model.add(Dense(128, activation=activation, kernel_initializer='he_uniform', kernel_regularizer=l2(regularization)))\n",
    "#     model.add(Dropout(dropout_rate))\n",
    "# \n",
    "#     model.add(Dense(320, activation=activation, kernel_initializer='he_uniform', kernel_regularizer=l2(regularization)))\n",
    "#     model.add(Dropout(dropout_rate))\n",
    "# \n",
    "#     model.add(Dense(416, activation=activation, kernel_initializer='he_uniform', kernel_regularizer=l2(regularization)))\n",
    "#     model.add(Dropout(dropout_rate))\n",
    "#     \n",
    "#     model.add(Dense(416, activation=activation, kernel_initializer='he_uniform', kernel_regularizer=l2(regularization)))\n",
    "#     model.add(Dropout(dropout_rate))\n",
    "#     \n",
    "#     model.add(Dense(256, activation=activation, kernel_initializer='he_uniform', kernel_regularizer=l2(regularization)))\n",
    "#     model.add(Dropout(dropout_rate))    \n",
    "#     \n",
    "#     model.add(Dense(1, activation='linear'))\n",
    "#     model.compile(optimizer=Adam(learning_rate=learning_rate), loss='mean_squared_error', metrics=['mae'])\n",
    "#     return model\n",
    "# \n",
    "# # Verwenden Sie eine Funktion, um das Modell zu instanziieren, für scikit-learn Wrapper\n",
    "# model = KerasRegressor(model=build_model, verbose=2)\n",
    "# \n",
    "# # Anpassung der Parameter im param_grid\n",
    "# param_grid = {\n",
    "#     'model__learning_rate': [0.01, 0.001, 0.0001],\n",
    "#     'model__regularization': [0.001, 0.0001],\n",
    "#     'fit__batch_size': [10, 25, 50, 75],\n",
    "#     'fit__epochs': [50],\n",
    "#     'model__dropout_rate' : [0.0, 0.1, 0.2]\n",
    "# }\n",
    "# \n",
    "# grid_search = GridSearchCV(estimator=model, param_grid=param_grid, n_jobs=-1, cv=3, verbose=2)\n",
    "# # Hinweis: Stellen Sie sicher, dass Ihre Daten (X_train_scaled, y_train_scaled) korrekt definiert sind\n",
    "# grid_result = grid_search.fit(X_train_scaled, y_train_scaled)\n",
    "# # Beste Parameter und Score ausgeben\n",
    "# print(\"Beste Parameter:\", grid_search.best_params_)\n",
    "# print(\"Beste Genauigkeit:\", grid_search.best_score_)\n",
    "# \n",
    "# with open(\"Gridsearch_D4.txt\", \"w\") as f:\n",
    "#     f.write(f\"Beste Parameter: {grid_search.best_params_}\\n\")\n",
    "#     f.write(f\"Beste Genauigkeit: {grid_search.best_score_}\")\n"
   ],
   "metadata": {
    "collapsed": false,
    "ExecuteTime": {
     "end_time": "2024-03-13T12:49:40.521831200Z",
     "start_time": "2024-03-13T12:49:40.512401900Z"
    }
   },
   "id": "7464a951f44a07ee"
  },
  {
   "cell_type": "code",
   "execution_count": 19,
   "outputs": [],
   "source": [
    "# # Funktion zum Erstellen des Modells\n",
    "# def build_model(hp):\n",
    "#     model = Sequential()\n",
    "#     model.add(Dense(hp.Int('input_units', min_value=8, max_value=328, step=16), input_shape=(2,), activation='relu'))\n",
    "#     for i in range(hp.Int('n_layers', 1, 10)):\n",
    "#         model.add(Dense(hp.Int(f'units_{i}', min_value=8, max_value=328, step=16), activation='relu'))\n",
    "#     model.add(Dense(1, activation='linear'))\n",
    "#     model.compile(optimizer='adam', loss='mean_squared_error')\n",
    "#     return model\n",
    "# \n",
    "# # Durchführung der Random Search dreimal\n",
    "# for run in range(1, 4):\n",
    "#     # Anpassen des Verzeichnisses und des Projektnamens für jeden Durchlauf\n",
    "#     directory = 'random_search'\n",
    "#     project_name = f'random_search_D4_{run}'\n",
    "#     \n",
    "#     tuner = RandomSearch(\n",
    "#         build_model,\n",
    "#         objective='val_loss',\n",
    "#         max_trials=100,\n",
    "#         executions_per_trial=1,\n",
    "#         directory=directory,\n",
    "#         project_name=project_name\n",
    "#     )\n",
    "#     \n",
    "#     # Durchführung des Random Search\n",
    "#     tuner.search(X_train_scaled, y_train_scaled, epochs=50, verbose =0, batch_size=20, validation_split=0.2, callbacks=[EarlyStopping(monitor='val_loss', patience=5)])\n",
    "#     \n",
    "#     # Abrufen und Speichern des besten Modells\n",
    "#     best_model = tuner.get_best_models(num_models=1)[0]\n",
    "#     model_path = os.path.join(directory, project_name, 'best_model.h5') \n",
    "#     best_model.save(model_path)\n",
    "#     \n",
    "# \n",
    "#     # Optional: Abrufen und Ausgeben der besten Hyperparameter\n",
    "#     best_hyperparameters = tuner.get_best_hyperparameters()[0]\n",
    "#     \n",
    "#     # Konvertieren der Hyperparameter in ein DataFrame\n",
    "#     df_hyperparameters = pd.DataFrame([best_hyperparameters.values])\n",
    "#     # Speichern des DataFrame als CSV\n",
    "#     df_hyperparameters.to_csv(f'random_search_D4_{run}.csv', index=False)\n",
    "#     \n",
    "#     print(f\"Beste Hyperparameter für Lauf {run}: {best_hyperparameters.values}\")\n"
   ],
   "metadata": {
    "collapsed": false,
    "ExecuteTime": {
     "end_time": "2024-03-13T12:49:40.521831200Z",
     "start_time": "2024-03-13T12:49:40.518309300Z"
    }
   },
   "id": "d0f02feb42b652f5"
  },
  {
   "cell_type": "code",
   "execution_count": 19,
   "outputs": [],
   "source": [],
   "metadata": {
    "collapsed": false,
    "ExecuteTime": {
     "end_time": "2024-03-13T12:49:40.523831700Z",
     "start_time": "2024-03-13T12:49:40.520820300Z"
    }
   },
   "id": "3e35d5ebef369658"
  }
 ],
 "metadata": {
  "kernelspec": {
   "display_name": "Python 3 (ipykernel)",
   "language": "python",
   "name": "python3"
  },
  "language_info": {
   "codemirror_mode": {
    "name": "ipython",
    "version": 3
   },
   "file_extension": ".py",
   "mimetype": "text/x-python",
   "name": "python",
   "nbconvert_exporter": "python",
   "pygments_lexer": "ipython3",
   "version": "3.11.4"
  }
 },
 "nbformat": 4,
 "nbformat_minor": 5
}
