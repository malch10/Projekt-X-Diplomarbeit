{
 "cells": [
  {
   "cell_type": "code",
   "execution_count": 88,
   "id": "94b0518e",
   "metadata": {
    "ExecuteTime": {
     "end_time": "2024-03-15T09:47:17.477330Z",
     "start_time": "2024-03-15T09:47:17.244634700Z"
    }
   },
   "outputs": [],
   "source": [
    "import numpy as np\n",
    "import os\n",
    "import tensorflow as tf\n",
    "import matplotlib.pyplot as plt\n",
    "from sklearn.model_selection import train_test_split\n",
    "from sklearn.preprocessing import MinMaxScaler\n",
    "import pandas as pd\n",
    "from tensorflow.keras.layers import Dense , Dropout\n",
    "from scikeras.wrappers import KerasRegressor \n",
    "from tensorflow.keras.callbacks import EarlyStopping\n",
    "import time\n",
    "from keras.models import Sequential\n",
    "from keras.layers import Dense, Dropout\n",
    "from keras.optimizers import Adam\n",
    "from keras.regularizers import l2\n",
    "from keras.callbacks import EarlyStopping\n",
    "from keras_tuner import RandomSearch\n",
    "from tensorflow.keras.models import Sequential\n",
    "from tensorflow.keras.layers import Dense\n",
    "from tensorflow.keras.optimizers import Adam\n",
    "from tensorflow.keras.regularizers import l2\n",
    "from sklearn.model_selection import GridSearchCV"
   ]
  },
  {
   "cell_type": "code",
   "execution_count": 89,
   "id": "e4ff61b1",
   "metadata": {
    "ExecuteTime": {
     "end_time": "2024-03-15T09:47:17.518330500Z",
     "start_time": "2024-03-15T09:47:17.250830500Z"
    }
   },
   "outputs": [
    {
     "data": {
      "text/plain": "      X-Koordinate  Y-Koordinate  Zeitpunkt  Strom  Kraft  Temperatur\n0           0.0000      -0.00200        500   7000   9000      669.05\n1           0.0000      -0.00192        500   7000   9000      724.42\n2           0.0000      -0.00184        500   7000   9000      779.83\n3           0.0000      -0.00176        500   7000   9000      835.21\n4           0.0000      -0.00168        500   7000   9000      890.44\n...            ...           ...        ...    ...    ...         ...\n1066        0.0024       0.00168        500   7000   9000      775.40\n1067        0.0024       0.00176        500   7000   9000      715.43\n1068        0.0024       0.00184        500   7000   9000      645.85\n1069        0.0024       0.00192        500   7000   9000      585.87\n1070        0.0024       0.00200        500   7000   9000      574.64\n\n[1071 rows x 6 columns]",
      "text/html": "<div>\n<style scoped>\n    .dataframe tbody tr th:only-of-type {\n        vertical-align: middle;\n    }\n\n    .dataframe tbody tr th {\n        vertical-align: top;\n    }\n\n    .dataframe thead th {\n        text-align: right;\n    }\n</style>\n<table border=\"1\" class=\"dataframe\">\n  <thead>\n    <tr style=\"text-align: right;\">\n      <th></th>\n      <th>X-Koordinate</th>\n      <th>Y-Koordinate</th>\n      <th>Zeitpunkt</th>\n      <th>Strom</th>\n      <th>Kraft</th>\n      <th>Temperatur</th>\n    </tr>\n  </thead>\n  <tbody>\n    <tr>\n      <th>0</th>\n      <td>0.0000</td>\n      <td>-0.00200</td>\n      <td>500</td>\n      <td>7000</td>\n      <td>9000</td>\n      <td>669.05</td>\n    </tr>\n    <tr>\n      <th>1</th>\n      <td>0.0000</td>\n      <td>-0.00192</td>\n      <td>500</td>\n      <td>7000</td>\n      <td>9000</td>\n      <td>724.42</td>\n    </tr>\n    <tr>\n      <th>2</th>\n      <td>0.0000</td>\n      <td>-0.00184</td>\n      <td>500</td>\n      <td>7000</td>\n      <td>9000</td>\n      <td>779.83</td>\n    </tr>\n    <tr>\n      <th>3</th>\n      <td>0.0000</td>\n      <td>-0.00176</td>\n      <td>500</td>\n      <td>7000</td>\n      <td>9000</td>\n      <td>835.21</td>\n    </tr>\n    <tr>\n      <th>4</th>\n      <td>0.0000</td>\n      <td>-0.00168</td>\n      <td>500</td>\n      <td>7000</td>\n      <td>9000</td>\n      <td>890.44</td>\n    </tr>\n    <tr>\n      <th>...</th>\n      <td>...</td>\n      <td>...</td>\n      <td>...</td>\n      <td>...</td>\n      <td>...</td>\n      <td>...</td>\n    </tr>\n    <tr>\n      <th>1066</th>\n      <td>0.0024</td>\n      <td>0.00168</td>\n      <td>500</td>\n      <td>7000</td>\n      <td>9000</td>\n      <td>775.40</td>\n    </tr>\n    <tr>\n      <th>1067</th>\n      <td>0.0024</td>\n      <td>0.00176</td>\n      <td>500</td>\n      <td>7000</td>\n      <td>9000</td>\n      <td>715.43</td>\n    </tr>\n    <tr>\n      <th>1068</th>\n      <td>0.0024</td>\n      <td>0.00184</td>\n      <td>500</td>\n      <td>7000</td>\n      <td>9000</td>\n      <td>645.85</td>\n    </tr>\n    <tr>\n      <th>1069</th>\n      <td>0.0024</td>\n      <td>0.00192</td>\n      <td>500</td>\n      <td>7000</td>\n      <td>9000</td>\n      <td>585.87</td>\n    </tr>\n    <tr>\n      <th>1070</th>\n      <td>0.0024</td>\n      <td>0.00200</td>\n      <td>500</td>\n      <td>7000</td>\n      <td>9000</td>\n      <td>574.64</td>\n    </tr>\n  </tbody>\n</table>\n<p>1071 rows × 6 columns</p>\n</div>"
     },
     "execution_count": 89,
     "metadata": {},
     "output_type": "execute_result"
    }
   ],
   "source": [
    "#data = pd.read_pickle('C:/Users/erikm/Desktop/Diplomarbeit Erik Marr/Daten/Finish/TPath_300_finish_data.pkl')\n",
    "data = pd.read_pickle('C:/Users/erikm/Desktop/Diplomarbeit Erik Marr/Daten/Finish/Finish_D4_I7000_F9000/TPath_500_finish_data_D4.pkl')\n",
    "\n",
    "data"
   ]
  },
  {
   "cell_type": "code",
   "execution_count": 90,
   "id": "966e3c74",
   "metadata": {
    "ExecuteTime": {
     "end_time": "2024-03-15T09:47:17.610329700Z",
     "start_time": "2024-03-15T09:47:17.264861100Z"
    }
   },
   "outputs": [
    {
     "data": {
      "text/plain": "      X-Koordinate  Y-Koordinate  Temperatur\n0           0.0000      -0.00200      669.05\n1           0.0000      -0.00192      724.42\n2           0.0000      -0.00184      779.83\n3           0.0000      -0.00176      835.21\n4           0.0000      -0.00168      890.44\n...            ...           ...         ...\n1066        0.0024       0.00168      775.40\n1067        0.0024       0.00176      715.43\n1068        0.0024       0.00184      645.85\n1069        0.0024       0.00192      585.87\n1070        0.0024       0.00200      574.64\n\n[1071 rows x 3 columns]",
      "text/html": "<div>\n<style scoped>\n    .dataframe tbody tr th:only-of-type {\n        vertical-align: middle;\n    }\n\n    .dataframe tbody tr th {\n        vertical-align: top;\n    }\n\n    .dataframe thead th {\n        text-align: right;\n    }\n</style>\n<table border=\"1\" class=\"dataframe\">\n  <thead>\n    <tr style=\"text-align: right;\">\n      <th></th>\n      <th>X-Koordinate</th>\n      <th>Y-Koordinate</th>\n      <th>Temperatur</th>\n    </tr>\n  </thead>\n  <tbody>\n    <tr>\n      <th>0</th>\n      <td>0.0000</td>\n      <td>-0.00200</td>\n      <td>669.05</td>\n    </tr>\n    <tr>\n      <th>1</th>\n      <td>0.0000</td>\n      <td>-0.00192</td>\n      <td>724.42</td>\n    </tr>\n    <tr>\n      <th>2</th>\n      <td>0.0000</td>\n      <td>-0.00184</td>\n      <td>779.83</td>\n    </tr>\n    <tr>\n      <th>3</th>\n      <td>0.0000</td>\n      <td>-0.00176</td>\n      <td>835.21</td>\n    </tr>\n    <tr>\n      <th>4</th>\n      <td>0.0000</td>\n      <td>-0.00168</td>\n      <td>890.44</td>\n    </tr>\n    <tr>\n      <th>...</th>\n      <td>...</td>\n      <td>...</td>\n      <td>...</td>\n    </tr>\n    <tr>\n      <th>1066</th>\n      <td>0.0024</td>\n      <td>0.00168</td>\n      <td>775.40</td>\n    </tr>\n    <tr>\n      <th>1067</th>\n      <td>0.0024</td>\n      <td>0.00176</td>\n      <td>715.43</td>\n    </tr>\n    <tr>\n      <th>1068</th>\n      <td>0.0024</td>\n      <td>0.00184</td>\n      <td>645.85</td>\n    </tr>\n    <tr>\n      <th>1069</th>\n      <td>0.0024</td>\n      <td>0.00192</td>\n      <td>585.87</td>\n    </tr>\n    <tr>\n      <th>1070</th>\n      <td>0.0024</td>\n      <td>0.00200</td>\n      <td>574.64</td>\n    </tr>\n  </tbody>\n</table>\n<p>1071 rows × 3 columns</p>\n</div>"
     },
     "execution_count": 90,
     "metadata": {},
     "output_type": "execute_result"
    }
   ],
   "source": [
    "df = data.drop(data.columns[2:5], axis = 1)\n",
    "df"
   ]
  },
  {
   "cell_type": "code",
   "execution_count": 91,
   "id": "8783d1d6",
   "metadata": {
    "ExecuteTime": {
     "end_time": "2024-03-15T09:47:17.637329700Z",
     "start_time": "2024-03-15T09:47:17.275806500Z"
    }
   },
   "outputs": [
    {
     "name": "stdout",
     "output_type": "stream",
     "text": [
      "      X-Koordinate  Y-Koordinate  Temperatur\n",
      "184        0.00036       0.00048     1441.10\n",
      "572        0.00132      -0.00112     1225.70\n",
      "309        0.00072      -0.00176      832.88\n",
      "930        0.00216      -0.00104     1158.00\n",
      "711        0.00156       0.00184      642.96\n",
      "...            ...           ...         ...\n",
      "330        0.00072      -0.00008     1500.20\n",
      "466        0.00108      -0.00144     1045.00\n",
      "121        0.00024      -0.00048     1484.90\n",
      "1044       0.00240      -0.00008     1259.10\n",
      "860        0.00192       0.00152      861.75\n",
      "\n",
      "[1071 rows x 3 columns]\n"
     ]
    },
    {
     "data": {
      "text/plain": "      X-Koordinate  Y-Koordinate  Temperatur\n0          0.00036       0.00048     1441.10\n1          0.00132      -0.00112     1225.70\n2          0.00072      -0.00176      832.88\n3          0.00216      -0.00104     1158.00\n4          0.00156       0.00184      642.96\n...            ...           ...         ...\n1066       0.00072      -0.00008     1500.20\n1067       0.00108      -0.00144     1045.00\n1068       0.00024      -0.00048     1484.90\n1069       0.00240      -0.00008     1259.10\n1070       0.00192       0.00152      861.75\n\n[1071 rows x 3 columns]",
      "text/html": "<div>\n<style scoped>\n    .dataframe tbody tr th:only-of-type {\n        vertical-align: middle;\n    }\n\n    .dataframe tbody tr th {\n        vertical-align: top;\n    }\n\n    .dataframe thead th {\n        text-align: right;\n    }\n</style>\n<table border=\"1\" class=\"dataframe\">\n  <thead>\n    <tr style=\"text-align: right;\">\n      <th></th>\n      <th>X-Koordinate</th>\n      <th>Y-Koordinate</th>\n      <th>Temperatur</th>\n    </tr>\n  </thead>\n  <tbody>\n    <tr>\n      <th>0</th>\n      <td>0.00036</td>\n      <td>0.00048</td>\n      <td>1441.10</td>\n    </tr>\n    <tr>\n      <th>1</th>\n      <td>0.00132</td>\n      <td>-0.00112</td>\n      <td>1225.70</td>\n    </tr>\n    <tr>\n      <th>2</th>\n      <td>0.00072</td>\n      <td>-0.00176</td>\n      <td>832.88</td>\n    </tr>\n    <tr>\n      <th>3</th>\n      <td>0.00216</td>\n      <td>-0.00104</td>\n      <td>1158.00</td>\n    </tr>\n    <tr>\n      <th>4</th>\n      <td>0.00156</td>\n      <td>0.00184</td>\n      <td>642.96</td>\n    </tr>\n    <tr>\n      <th>...</th>\n      <td>...</td>\n      <td>...</td>\n      <td>...</td>\n    </tr>\n    <tr>\n      <th>1066</th>\n      <td>0.00072</td>\n      <td>-0.00008</td>\n      <td>1500.20</td>\n    </tr>\n    <tr>\n      <th>1067</th>\n      <td>0.00108</td>\n      <td>-0.00144</td>\n      <td>1045.00</td>\n    </tr>\n    <tr>\n      <th>1068</th>\n      <td>0.00024</td>\n      <td>-0.00048</td>\n      <td>1484.90</td>\n    </tr>\n    <tr>\n      <th>1069</th>\n      <td>0.00240</td>\n      <td>-0.00008</td>\n      <td>1259.10</td>\n    </tr>\n    <tr>\n      <th>1070</th>\n      <td>0.00192</td>\n      <td>0.00152</td>\n      <td>861.75</td>\n    </tr>\n  </tbody>\n</table>\n<p>1071 rows × 3 columns</p>\n</div>"
     },
     "execution_count": 91,
     "metadata": {},
     "output_type": "execute_result"
    }
   ],
   "source": [
    "df1 = df.sample(frac=1, random_state=42)  # Hier wird 42 als Random State verwendet, um die Ergebnisse reproduzierbar zu machen\n",
    "\n",
    "print(df1)\n",
    "df_reset = df1.reset_index(drop=True)\n",
    "df_reset"
   ]
  },
  {
   "cell_type": "code",
   "execution_count": 92,
   "id": "a4e72a16",
   "metadata": {
    "ExecuteTime": {
     "end_time": "2024-03-15T09:47:17.637329700Z",
     "start_time": "2024-03-15T09:47:17.299401600Z"
    }
   },
   "outputs": [],
   "source": [
    "label = df_reset[\"Temperatur\"]\n",
    "# Korrektur: Verwenden Sie den Spaltennamen direkt, ohne Indexierung der columns-Eigenschaft\n",
    "df1 = df_reset.drop(\"Temperatur\", axis=1)\n",
    "X = df1\n",
    "y = label\n"
   ]
  },
  {
   "cell_type": "markdown",
   "source": [],
   "metadata": {
    "collapsed": false
   },
   "id": "f7fa289a50d87423"
  },
  {
   "cell_type": "code",
   "execution_count": 93,
   "id": "e694a236",
   "metadata": {
    "ExecuteTime": {
     "end_time": "2024-03-15T09:47:17.637329700Z",
     "start_time": "2024-03-15T09:47:17.304797900Z"
    }
   },
   "outputs": [
    {
     "data": {
      "text/plain": "      X-Koordinate  Y-Koordinate\n0          0.00036       0.00048\n1          0.00132      -0.00112\n2          0.00072      -0.00176\n3          0.00216      -0.00104\n4          0.00156       0.00184\n...            ...           ...\n1066       0.00072      -0.00008\n1067       0.00108      -0.00144\n1068       0.00024      -0.00048\n1069       0.00240      -0.00008\n1070       0.00192       0.00152\n\n[1071 rows x 2 columns]",
      "text/html": "<div>\n<style scoped>\n    .dataframe tbody tr th:only-of-type {\n        vertical-align: middle;\n    }\n\n    .dataframe tbody tr th {\n        vertical-align: top;\n    }\n\n    .dataframe thead th {\n        text-align: right;\n    }\n</style>\n<table border=\"1\" class=\"dataframe\">\n  <thead>\n    <tr style=\"text-align: right;\">\n      <th></th>\n      <th>X-Koordinate</th>\n      <th>Y-Koordinate</th>\n    </tr>\n  </thead>\n  <tbody>\n    <tr>\n      <th>0</th>\n      <td>0.00036</td>\n      <td>0.00048</td>\n    </tr>\n    <tr>\n      <th>1</th>\n      <td>0.00132</td>\n      <td>-0.00112</td>\n    </tr>\n    <tr>\n      <th>2</th>\n      <td>0.00072</td>\n      <td>-0.00176</td>\n    </tr>\n    <tr>\n      <th>3</th>\n      <td>0.00216</td>\n      <td>-0.00104</td>\n    </tr>\n    <tr>\n      <th>4</th>\n      <td>0.00156</td>\n      <td>0.00184</td>\n    </tr>\n    <tr>\n      <th>...</th>\n      <td>...</td>\n      <td>...</td>\n    </tr>\n    <tr>\n      <th>1066</th>\n      <td>0.00072</td>\n      <td>-0.00008</td>\n    </tr>\n    <tr>\n      <th>1067</th>\n      <td>0.00108</td>\n      <td>-0.00144</td>\n    </tr>\n    <tr>\n      <th>1068</th>\n      <td>0.00024</td>\n      <td>-0.00048</td>\n    </tr>\n    <tr>\n      <th>1069</th>\n      <td>0.00240</td>\n      <td>-0.00008</td>\n    </tr>\n    <tr>\n      <th>1070</th>\n      <td>0.00192</td>\n      <td>0.00152</td>\n    </tr>\n  </tbody>\n</table>\n<p>1071 rows × 2 columns</p>\n</div>"
     },
     "execution_count": 93,
     "metadata": {},
     "output_type": "execute_result"
    }
   ],
   "source": [
    "X"
   ]
  },
  {
   "cell_type": "code",
   "execution_count": 94,
   "id": "3f3303b4",
   "metadata": {
    "ExecuteTime": {
     "end_time": "2024-03-15T09:47:17.638330800Z",
     "start_time": "2024-03-15T09:47:17.313868700Z"
    }
   },
   "outputs": [
    {
     "data": {
      "text/plain": "0       1441.10\n1       1225.70\n2        832.88\n3       1158.00\n4        642.96\n         ...   \n1066    1500.20\n1067    1045.00\n1068    1484.90\n1069    1259.10\n1070     861.75\nName: Temperatur, Length: 1071, dtype: float64"
     },
     "execution_count": 94,
     "metadata": {},
     "output_type": "execute_result"
    }
   ],
   "source": [
    "y"
   ]
  },
  {
   "cell_type": "code",
   "execution_count": 95,
   "id": "e3ad8da0",
   "metadata": {
    "ExecuteTime": {
     "end_time": "2024-03-15T09:47:17.638330800Z",
     "start_time": "2024-03-15T09:47:17.320320500Z"
    }
   },
   "outputs": [],
   "source": [
    " # train_df enthält 80% der Daten, test_df enthält 20% der Daten\n",
    "X_train, X_test, y_train, y_test = train_test_split(X, y, test_size=0.20, random_state=42)\n"
   ]
  },
  {
   "cell_type": "code",
   "execution_count": 96,
   "id": "9c705edb",
   "metadata": {
    "ExecuteTime": {
     "end_time": "2024-03-15T09:47:17.638330800Z",
     "start_time": "2024-03-15T09:47:17.327321200Z"
    }
   },
   "outputs": [],
   "source": [
    "# Initialisiere einen MinMaxScaler für die Features\n",
    "scaler_features = MinMaxScaler()\n",
    "scaler_features2 = MinMaxScaler()\n",
    "# Skaliere X_train und X_test\n",
    "X_train_scaled = scaler_features.fit_transform(X_train)\n",
    "X_test_scaled = scaler_features.transform(X_test)  # Nutze unterschiedliche Skalierungsparameter\n",
    "\n",
    "# Initialisiere einen SEPARATEN MinMaxScaler für das Ziel, wenn nötig\n",
    "scaler_target = MinMaxScaler()\n",
    "\n",
    "\n",
    "# Skaliere y_train und y_test. Beachte, dass y_train.reshape(-1, 1) verwendet wird, da MinMaxScaler \n",
    "# erwartet, dass die Eingaben als 2D-Arrays kommen, und Ziele normalerweise als 1D-Arrays vorliegen.\n",
    "y_train_scaled = scaler_target.fit_transform(y_train.values.reshape(-1, 1))\n",
    "y_test_scaled = scaler_target.transform(y_test.values.reshape(-1, 1))\n"
   ]
  },
  {
   "cell_type": "code",
   "execution_count": 97,
   "id": "bbefe631e495b483",
   "metadata": {
    "ExecuteTime": {
     "end_time": "2024-03-15T09:47:17.638330800Z",
     "start_time": "2024-03-15T09:47:17.338861700Z"
    }
   },
   "outputs": [
    {
     "data": {
      "text/plain": "array([[0.35, 0.88],\n       [0.75, 0.88],\n       [0.85, 0.02],\n       ...,\n       [0.2 , 0.86],\n       [1.  , 0.52],\n       [0.8 , 0.04]])"
     },
     "execution_count": 97,
     "metadata": {},
     "output_type": "execute_result"
    }
   ],
   "source": [
    "X_train_scaled"
   ]
  },
  {
   "cell_type": "code",
   "execution_count": 98,
   "outputs": [
    {
     "data": {
      "text/plain": "1.0"
     },
     "execution_count": 98,
     "metadata": {},
     "output_type": "execute_result"
    }
   ],
   "source": [
    "y_train_scaled.max()"
   ],
   "metadata": {
    "collapsed": false,
    "ExecuteTime": {
     "end_time": "2024-03-15T09:47:17.639332300Z",
     "start_time": "2024-03-15T09:47:17.344849900Z"
    }
   },
   "id": "ce04ce43aac2242f"
  },
  {
   "cell_type": "code",
   "execution_count": 99,
   "outputs": [
    {
     "name": "stdout",
     "output_type": "stream",
     "text": [
      "Epoch 1/1000\n",
      "28/28 [==============================] - 3s 19ms/step - loss: 0.5508 - mae: 0.3983 - val_loss: 0.3813 - val_mae: 0.2750\n",
      "Epoch 2/1000\n",
      "28/28 [==============================] - 0s 7ms/step - loss: 0.3712 - mae: 0.2810 - val_loss: 0.3238 - val_mae: 0.2424\n",
      "Epoch 3/1000\n",
      "28/28 [==============================] - 0s 6ms/step - loss: 0.3150 - mae: 0.2425 - val_loss: 0.2810 - val_mae: 0.1945\n",
      "Epoch 4/1000\n",
      "28/28 [==============================] - 0s 5ms/step - loss: 0.2879 - mae: 0.2285 - val_loss: 0.2373 - val_mae: 0.1557\n",
      "Epoch 5/1000\n",
      "28/28 [==============================] - 0s 5ms/step - loss: 0.2318 - mae: 0.1460 - val_loss: 0.2300 - val_mae: 0.1442\n",
      "Epoch 6/1000\n",
      "28/28 [==============================] - 0s 5ms/step - loss: 0.2069 - mae: 0.0973 - val_loss: 0.2135 - val_mae: 0.1368\n",
      "Epoch 7/1000\n",
      "28/28 [==============================] - 0s 6ms/step - loss: 0.1911 - mae: 0.0632 - val_loss: 0.1820 - val_mae: 0.0262\n",
      "Epoch 8/1000\n",
      "28/28 [==============================] - 0s 6ms/step - loss: 0.1834 - mae: 0.0462 - val_loss: 0.1792 - val_mae: 0.0381\n",
      "Epoch 9/1000\n",
      "28/28 [==============================] - 0s 6ms/step - loss: 0.1773 - mae: 0.0342 - val_loss: 0.1739 - val_mae: 0.0179\n",
      "Epoch 10/1000\n",
      "28/28 [==============================] - 0s 5ms/step - loss: 0.1742 - mae: 0.0324 - val_loss: 0.1714 - val_mae: 0.0250\n",
      "Epoch 11/1000\n",
      "28/28 [==============================] - 0s 5ms/step - loss: 0.1700 - mae: 0.0233 - val_loss: 0.1680 - val_mae: 0.0160\n",
      "Epoch 12/1000\n",
      "28/28 [==============================] - 0s 6ms/step - loss: 0.1669 - mae: 0.0173 - val_loss: 0.1653 - val_mae: 0.0143\n",
      "Epoch 13/1000\n",
      "28/28 [==============================] - 0s 6ms/step - loss: 0.1651 - mae: 0.0247 - val_loss: 0.1645 - val_mae: 0.0322\n",
      "Epoch 14/1000\n",
      "28/28 [==============================] - 0s 6ms/step - loss: 0.1627 - mae: 0.0265 - val_loss: 0.1607 - val_mae: 0.0188\n",
      "Epoch 15/1000\n",
      "28/28 [==============================] - 0s 5ms/step - loss: 0.1593 - mae: 0.0126 - val_loss: 0.1584 - val_mae: 0.0195\n",
      "Epoch 16/1000\n",
      "28/28 [==============================] - 0s 5ms/step - loss: 0.1570 - mae: 0.0129 - val_loss: 0.1558 - val_mae: 0.0120\n",
      "Epoch 17/1000\n",
      "28/28 [==============================] - 0s 5ms/step - loss: 0.1575 - mae: 0.0340 - val_loss: 0.1585 - val_mae: 0.0512\n",
      "Epoch 18/1000\n",
      "28/28 [==============================] - 0s 6ms/step - loss: 0.1541 - mae: 0.0291 - val_loss: 0.1520 - val_mae: 0.0231\n",
      "Epoch 19/1000\n",
      "28/28 [==============================] - 0s 5ms/step - loss: 0.1518 - mae: 0.0275 - val_loss: 0.1579 - val_mae: 0.0575\n",
      "Epoch 20/1000\n",
      "28/28 [==============================] - 0s 5ms/step - loss: 0.1622 - mae: 0.0802 - val_loss: 0.1551 - val_mae: 0.0706\n",
      "Epoch 21/1000\n",
      "28/28 [==============================] - 0s 6ms/step - loss: 0.1484 - mae: 0.0320 - val_loss: 0.1458 - val_mae: 0.0163\n",
      "Epoch 22/1000\n",
      "28/28 [==============================] - 0s 5ms/step - loss: 0.1447 - mae: 0.0134 - val_loss: 0.1449 - val_mae: 0.0310\n",
      "Epoch 23/1000\n",
      "28/28 [==============================] - 0s 5ms/step - loss: 0.1446 - mae: 0.0351 - val_loss: 0.1422 - val_mae: 0.0177\n",
      "Epoch 24/1000\n",
      "28/28 [==============================] - 0s 5ms/step - loss: 0.1413 - mae: 0.0187 - val_loss: 0.1411 - val_mae: 0.0250\n",
      "Epoch 25/1000\n",
      "28/28 [==============================] - 0s 6ms/step - loss: 0.1392 - mae: 0.0137 - val_loss: 0.1389 - val_mae: 0.0225\n",
      "Epoch 26/1000\n",
      "28/28 [==============================] - 0s 6ms/step - loss: 0.1374 - mae: 0.0121 - val_loss: 0.1365 - val_mae: 0.0123\n",
      "Epoch 27/1000\n",
      "28/28 [==============================] - 0s 6ms/step - loss: 0.1357 - mae: 0.0127 - val_loss: 0.1349 - val_mae: 0.0166\n",
      "Epoch 28/1000\n",
      "28/28 [==============================] - 0s 5ms/step - loss: 0.1339 - mae: 0.0126 - val_loss: 0.1330 - val_mae: 0.0107\n",
      "Epoch 29/1000\n",
      "28/28 [==============================] - 0s 5ms/step - loss: 0.1323 - mae: 0.0119 - val_loss: 0.1321 - val_mae: 0.0235\n",
      "Epoch 30/1000\n",
      "28/28 [==============================] - 0s 6ms/step - loss: 0.1306 - mae: 0.0097 - val_loss: 0.1296 - val_mae: 0.0081\n",
      "Epoch 31/1000\n",
      "28/28 [==============================] - 0s 6ms/step - loss: 0.1290 - mae: 0.0123 - val_loss: 0.1281 - val_mae: 0.0112\n",
      "Epoch 32/1000\n",
      "28/28 [==============================] - 0s 6ms/step - loss: 0.1275 - mae: 0.0136 - val_loss: 0.1266 - val_mae: 0.0104\n",
      "Epoch 33/1000\n",
      "28/28 [==============================] - 0s 5ms/step - loss: 0.1258 - mae: 0.0092 - val_loss: 0.1250 - val_mae: 0.0091\n",
      "Epoch 34/1000\n",
      "28/28 [==============================] - 0s 6ms/step - loss: 0.1245 - mae: 0.0123 - val_loss: 0.1238 - val_mae: 0.0178\n",
      "Epoch 35/1000\n",
      "28/28 [==============================] - 0s 6ms/step - loss: 0.1231 - mae: 0.0148 - val_loss: 0.1249 - val_mae: 0.0405\n",
      "Epoch 36/1000\n",
      "28/28 [==============================] - 0s 6ms/step - loss: 0.1230 - mae: 0.0309 - val_loss: 0.1274 - val_mae: 0.0639\n",
      "Epoch 37/1000\n",
      "28/28 [==============================] - 0s 5ms/step - loss: 0.1224 - mae: 0.0371 - val_loss: 0.1205 - val_mae: 0.0343\n",
      "Epoch 38/1000\n",
      "28/28 [==============================] - 0s 5ms/step - loss: 0.1188 - mae: 0.0168 - val_loss: 0.1178 - val_mae: 0.0123\n",
      "Epoch 39/1000\n",
      "28/28 [==============================] - 0s 5ms/step - loss: 0.1176 - mae: 0.0199 - val_loss: 0.1163 - val_mae: 0.0114\n",
      "Epoch 40/1000\n",
      "28/28 [==============================] - 0s 5ms/step - loss: 0.1160 - mae: 0.0171 - val_loss: 0.1152 - val_mae: 0.0164\n",
      "Epoch 41/1000\n",
      "28/28 [==============================] - 0s 5ms/step - loss: 0.1145 - mae: 0.0144 - val_loss: 0.1137 - val_mae: 0.0157\n",
      "Epoch 42/1000\n",
      "28/28 [==============================] - 0s 5ms/step - loss: 0.1130 - mae: 0.0117 - val_loss: 0.1122 - val_mae: 0.0084\n",
      "Epoch 43/1000\n",
      "28/28 [==============================] - 0s 6ms/step - loss: 0.1116 - mae: 0.0082 - val_loss: 0.1112 - val_mae: 0.0157\n",
      "Epoch 44/1000\n",
      "28/28 [==============================] - 0s 6ms/step - loss: 0.1104 - mae: 0.0112 - val_loss: 0.1098 - val_mae: 0.0136\n",
      "Epoch 45/1000\n",
      "28/28 [==============================] - 0s 6ms/step - loss: 0.1091 - mae: 0.0094 - val_loss: 0.1084 - val_mae: 0.0114\n",
      "Epoch 46/1000\n",
      "28/28 [==============================] - 0s 5ms/step - loss: 0.1078 - mae: 0.0094 - val_loss: 0.1071 - val_mae: 0.0091\n",
      "Epoch 47/1000\n",
      "28/28 [==============================] - 0s 5ms/step - loss: 0.1065 - mae: 0.0097 - val_loss: 0.1059 - val_mae: 0.0111\n",
      "Epoch 48/1000\n",
      "28/28 [==============================] - 0s 6ms/step - loss: 0.1052 - mae: 0.0069 - val_loss: 0.1045 - val_mae: 0.0063\n",
      "Epoch 49/1000\n",
      "28/28 [==============================] - 0s 6ms/step - loss: 0.1040 - mae: 0.0082 - val_loss: 0.1036 - val_mae: 0.0138\n",
      "Epoch 50/1000\n",
      "28/28 [==============================] - 0s 5ms/step - loss: 0.1037 - mae: 0.0222 - val_loss: 0.1037 - val_mae: 0.0301\n",
      "Epoch 51/1000\n",
      "28/28 [==============================] - 0s 5ms/step - loss: 0.1028 - mae: 0.0264 - val_loss: 0.1016 - val_mae: 0.0221\n",
      "Epoch 52/1000\n",
      "28/28 [==============================] - 0s 6ms/step - loss: 0.1023 - mae: 0.0313 - val_loss: 0.1029 - val_mae: 0.0512\n",
      "Epoch 53/1000\n",
      "28/28 [==============================] - 0s 5ms/step - loss: 0.1017 - mae: 0.0378 - val_loss: 0.0996 - val_mae: 0.0204\n",
      "Epoch 54/1000\n",
      "28/28 [==============================] - 0s 5ms/step - loss: 0.0989 - mae: 0.0204 - val_loss: 0.0980 - val_mae: 0.0185\n",
      "Epoch 55/1000\n",
      "28/28 [==============================] - 0s 5ms/step - loss: 0.0974 - mae: 0.0137 - val_loss: 0.0968 - val_mae: 0.0163\n",
      "Epoch 56/1000\n",
      "28/28 [==============================] - 0s 5ms/step - loss: 0.0962 - mae: 0.0148 - val_loss: 0.0960 - val_mae: 0.0234\n",
      "Epoch 57/1000\n",
      "28/28 [==============================] - 0s 5ms/step - loss: 0.0954 - mae: 0.0189 - val_loss: 0.0952 - val_mae: 0.0237\n",
      "Epoch 58/1000\n",
      "28/28 [==============================] - 0s 5ms/step - loss: 0.0940 - mae: 0.0131 - val_loss: 0.0936 - val_mae: 0.0175\n",
      "Epoch 59/1000\n",
      "28/28 [==============================] - 0s 6ms/step - loss: 0.0934 - mae: 0.0207 - val_loss: 0.0944 - val_mae: 0.0371\n",
      "Epoch 60/1000\n",
      "28/28 [==============================] - 0s 5ms/step - loss: 0.0936 - mae: 0.0311 - val_loss: 0.0914 - val_mae: 0.0119\n",
      "Epoch 61/1000\n",
      "28/28 [==============================] - 0s 6ms/step - loss: 0.0925 - mae: 0.0306 - val_loss: 0.0911 - val_mae: 0.0229\n",
      "Epoch 62/1000\n",
      "28/28 [==============================] - 0s 6ms/step - loss: 0.0902 - mae: 0.0190 - val_loss: 0.0895 - val_mae: 0.0158\n",
      "Epoch 63/1000\n",
      "28/28 [==============================] - 0s 6ms/step - loss: 0.0888 - mae: 0.0128 - val_loss: 0.0882 - val_mae: 0.0132\n",
      "Epoch 64/1000\n",
      "28/28 [==============================] - 0s 6ms/step - loss: 0.0881 - mae: 0.0182 - val_loss: 0.0871 - val_mae: 0.0084\n",
      "Epoch 65/1000\n",
      "28/28 [==============================] - 0s 5ms/step - loss: 0.0868 - mae: 0.0135 - val_loss: 0.0862 - val_mae: 0.0145\n",
      "Epoch 66/1000\n",
      "28/28 [==============================] - 0s 5ms/step - loss: 0.0858 - mae: 0.0136 - val_loss: 0.0852 - val_mae: 0.0109\n",
      "Epoch 67/1000\n",
      "28/28 [==============================] - 0s 6ms/step - loss: 0.0847 - mae: 0.0089 - val_loss: 0.0841 - val_mae: 0.0046\n",
      "Epoch 68/1000\n",
      "28/28 [==============================] - 0s 6ms/step - loss: 0.0837 - mae: 0.0073 - val_loss: 0.0833 - val_mae: 0.0115\n",
      "Epoch 69/1000\n",
      "28/28 [==============================] - 0s 5ms/step - loss: 0.0831 - mae: 0.0148 - val_loss: 0.0827 - val_mae: 0.0194\n",
      "Epoch 70/1000\n",
      "28/28 [==============================] - 0s 6ms/step - loss: 0.0821 - mae: 0.0153 - val_loss: 0.0818 - val_mae: 0.0213\n",
      "Epoch 71/1000\n",
      "28/28 [==============================] - 0s 6ms/step - loss: 0.0811 - mae: 0.0147 - val_loss: 0.0809 - val_mae: 0.0222\n",
      "Epoch 72/1000\n",
      "28/28 [==============================] - 0s 6ms/step - loss: 0.0802 - mae: 0.0148 - val_loss: 0.0795 - val_mae: 0.0102\n",
      "Epoch 73/1000\n",
      "28/28 [==============================] - 0s 6ms/step - loss: 0.0790 - mae: 0.0086 - val_loss: 0.0785 - val_mae: 0.0073\n",
      "Epoch 74/1000\n",
      "28/28 [==============================] - 0s 5ms/step - loss: 0.0780 - mae: 0.0069 - val_loss: 0.0775 - val_mae: 0.0055\n",
      "Epoch 75/1000\n",
      "28/28 [==============================] - 0s 5ms/step - loss: 0.0772 - mae: 0.0069 - val_loss: 0.0766 - val_mae: 0.0042\n",
      "Epoch 76/1000\n",
      "28/28 [==============================] - 0s 6ms/step - loss: 0.0763 - mae: 0.0083 - val_loss: 0.0758 - val_mae: 0.0058\n",
      "Epoch 77/1000\n",
      "28/28 [==============================] - 0s 7ms/step - loss: 0.0754 - mae: 0.0092 - val_loss: 0.0749 - val_mae: 0.0079\n",
      "Epoch 78/1000\n",
      "28/28 [==============================] - 0s 6ms/step - loss: 0.0745 - mae: 0.0061 - val_loss: 0.0740 - val_mae: 0.0074\n",
      "Epoch 79/1000\n",
      "28/28 [==============================] - 0s 6ms/step - loss: 0.0737 - mae: 0.0085 - val_loss: 0.0733 - val_mae: 0.0104\n",
      "Epoch 80/1000\n",
      "28/28 [==============================] - 0s 6ms/step - loss: 0.0728 - mae: 0.0081 - val_loss: 0.0730 - val_mae: 0.0221\n",
      "Epoch 81/1000\n",
      "28/28 [==============================] - 0s 6ms/step - loss: 0.0721 - mae: 0.0108 - val_loss: 0.0714 - val_mae: 0.0050\n",
      "Epoch 82/1000\n",
      "28/28 [==============================] - 0s 5ms/step - loss: 0.0711 - mae: 0.0081 - val_loss: 0.0708 - val_mae: 0.0115\n",
      "Epoch 83/1000\n",
      "28/28 [==============================] - 0s 5ms/step - loss: 0.0702 - mae: 0.0073 - val_loss: 0.0698 - val_mae: 0.0070\n",
      "Epoch 84/1000\n",
      "28/28 [==============================] - 0s 5ms/step - loss: 0.0696 - mae: 0.0112 - val_loss: 0.0695 - val_mae: 0.0164\n",
      "Epoch 85/1000\n",
      "28/28 [==============================] - 0s 6ms/step - loss: 0.0700 - mae: 0.0283 - val_loss: 0.0700 - val_mae: 0.0364\n",
      "Epoch 86/1000\n",
      "28/28 [==============================] - 0s 6ms/step - loss: 0.0702 - mae: 0.0349 - val_loss: 0.0700 - val_mae: 0.0440\n",
      "Epoch 87/1000\n",
      "28/28 [==============================] - 0s 4ms/step - loss: 0.0689 - mae: 0.0318 - val_loss: 0.0676 - val_mae: 0.0251\n",
      "Epoch 88/1000\n",
      "28/28 [==============================] - 0s 6ms/step - loss: 0.0675 - mae: 0.0267 - val_loss: 0.0659 - val_mae: 0.0125\n",
      "Epoch 89/1000\n",
      "28/28 [==============================] - 0s 6ms/step - loss: 0.0657 - mae: 0.0125 - val_loss: 0.0654 - val_mae: 0.0162\n",
      "Epoch 90/1000\n",
      "28/28 [==============================] - 0s 6ms/step - loss: 0.0648 - mae: 0.0118 - val_loss: 0.0647 - val_mae: 0.0196\n",
      "Epoch 91/1000\n",
      "28/28 [==============================] - 0s 5ms/step - loss: 0.0640 - mae: 0.0107 - val_loss: 0.0635 - val_mae: 0.0074\n",
      "Epoch 92/1000\n",
      "28/28 [==============================] - 0s 5ms/step - loss: 0.0631 - mae: 0.0091 - val_loss: 0.0628 - val_mae: 0.0129\n",
      "Epoch 93/1000\n",
      "28/28 [==============================] - 0s 6ms/step - loss: 0.0627 - mae: 0.0154 - val_loss: 0.0638 - val_mae: 0.0345\n",
      "Epoch 94/1000\n",
      "28/28 [==============================] - 0s 6ms/step - loss: 0.0620 - mae: 0.0170 - val_loss: 0.0614 - val_mae: 0.0117\n",
      "Epoch 95/1000\n",
      "28/28 [==============================] - 0s 6ms/step - loss: 0.0609 - mae: 0.0081 - val_loss: 0.0604 - val_mae: 0.0078\n",
      "Epoch 96/1000\n",
      "28/28 [==============================] - 0s 5ms/step - loss: 0.0601 - mae: 0.0080 - val_loss: 0.0598 - val_mae: 0.0095\n",
      "Epoch 97/1000\n",
      "28/28 [==============================] - 0s 6ms/step - loss: 0.0593 - mae: 0.0074 - val_loss: 0.0589 - val_mae: 0.0067\n",
      "Epoch 98/1000\n",
      "28/28 [==============================] - 0s 6ms/step - loss: 0.0586 - mae: 0.0064 - val_loss: 0.0584 - val_mae: 0.0125\n",
      "Epoch 99/1000\n",
      "28/28 [==============================] - 0s 6ms/step - loss: 0.0586 - mae: 0.0211 - val_loss: 0.0585 - val_mae: 0.0239\n",
      "Epoch 100/1000\n",
      "28/28 [==============================] - 0s 5ms/step - loss: 0.0585 - mae: 0.0289 - val_loss: 0.0571 - val_mae: 0.0169\n",
      "Epoch 101/1000\n",
      "28/28 [==============================] - 0s 6ms/step - loss: 0.0567 - mae: 0.0134 - val_loss: 0.0562 - val_mae: 0.0092\n",
      "Epoch 102/1000\n",
      "28/28 [==============================] - 0s 6ms/step - loss: 0.0558 - mae: 0.0086 - val_loss: 0.0554 - val_mae: 0.0074\n",
      "Epoch 103/1000\n",
      "28/28 [==============================] - 0s 6ms/step - loss: 0.0552 - mae: 0.0099 - val_loss: 0.0552 - val_mae: 0.0157\n",
      "Epoch 104/1000\n",
      "28/28 [==============================] - 0s 6ms/step - loss: 0.0546 - mae: 0.0126 - val_loss: 0.0544 - val_mae: 0.0175\n",
      "Epoch 105/1000\n",
      "28/28 [==============================] - 0s 5ms/step - loss: 0.0542 - mae: 0.0169 - val_loss: 0.0535 - val_mae: 0.0103\n",
      "Epoch 106/1000\n",
      "28/28 [==============================] - 0s 6ms/step - loss: 0.0531 - mae: 0.0102 - val_loss: 0.0529 - val_mae: 0.0143\n",
      "Epoch 107/1000\n",
      "28/28 [==============================] - 0s 6ms/step - loss: 0.0524 - mae: 0.0080 - val_loss: 0.0521 - val_mae: 0.0095\n",
      "Epoch 108/1000\n",
      "28/28 [==============================] - 0s 5ms/step - loss: 0.0518 - mae: 0.0099 - val_loss: 0.0514 - val_mae: 0.0120\n",
      "Epoch 109/1000\n",
      "28/28 [==============================] - 0s 5ms/step - loss: 0.0512 - mae: 0.0118 - val_loss: 0.0508 - val_mae: 0.0130\n",
      "Epoch 110/1000\n",
      "28/28 [==============================] - 0s 5ms/step - loss: 0.0504 - mae: 0.0092 - val_loss: 0.0502 - val_mae: 0.0132\n",
      "Epoch 111/1000\n",
      "28/28 [==============================] - 0s 6ms/step - loss: 0.0499 - mae: 0.0115 - val_loss: 0.0498 - val_mae: 0.0163\n",
      "Epoch 112/1000\n",
      "28/28 [==============================] - 0s 5ms/step - loss: 0.0494 - mae: 0.0139 - val_loss: 0.0488 - val_mae: 0.0110\n",
      "Epoch 113/1000\n",
      "28/28 [==============================] - 0s 6ms/step - loss: 0.0487 - mae: 0.0131 - val_loss: 0.0488 - val_mae: 0.0239\n",
      "Epoch 114/1000\n",
      "28/28 [==============================] - 0s 4ms/step - loss: 0.0482 - mae: 0.0161 - val_loss: 0.0508 - val_mae: 0.0421\n",
      "Epoch 115/1000\n",
      "28/28 [==============================] - 0s 5ms/step - loss: 0.0521 - mae: 0.0517 - val_loss: 0.0481 - val_mae: 0.0287\n",
      "Epoch 116/1000\n",
      "28/28 [==============================] - 0s 6ms/step - loss: 0.0470 - mae: 0.0161 - val_loss: 0.0465 - val_mae: 0.0141\n",
      "Epoch 117/1000\n",
      "28/28 [==============================] - 0s 6ms/step - loss: 0.0461 - mae: 0.0116 - val_loss: 0.0457 - val_mae: 0.0095\n",
      "Epoch 118/1000\n",
      "28/28 [==============================] - 0s 5ms/step - loss: 0.0455 - mae: 0.0105 - val_loss: 0.0452 - val_mae: 0.0110\n",
      "Epoch 119/1000\n",
      "28/28 [==============================] - 0s 5ms/step - loss: 0.0449 - mae: 0.0099 - val_loss: 0.0466 - val_mae: 0.0385\n",
      "Epoch 120/1000\n",
      "28/28 [==============================] - 0s 6ms/step - loss: 0.0460 - mae: 0.0286 - val_loss: 0.0443 - val_mae: 0.0172\n",
      "Epoch 121/1000\n",
      "28/28 [==============================] - 0s 6ms/step - loss: 0.0442 - mae: 0.0186 - val_loss: 0.0442 - val_mae: 0.0228\n",
      "Epoch 122/1000\n",
      "28/28 [==============================] - 0s 6ms/step - loss: 0.0432 - mae: 0.0117 - val_loss: 0.0428 - val_mae: 0.0098\n",
      "Epoch 123/1000\n",
      "28/28 [==============================] - 0s 5ms/step - loss: 0.0424 - mae: 0.0078 - val_loss: 0.0421 - val_mae: 0.0066\n",
      "Epoch 124/1000\n",
      "28/28 [==============================] - 0s 6ms/step - loss: 0.0419 - mae: 0.0070 - val_loss: 0.0415 - val_mae: 0.0066\n",
      "Epoch 125/1000\n",
      "28/28 [==============================] - 0s 5ms/step - loss: 0.0413 - mae: 0.0057 - val_loss: 0.0409 - val_mae: 0.0038\n",
      "Epoch 126/1000\n",
      "28/28 [==============================] - 0s 5ms/step - loss: 0.0407 - mae: 0.0057 - val_loss: 0.0404 - val_mae: 0.0066\n",
      "Epoch 127/1000\n",
      "28/28 [==============================] - 0s 5ms/step - loss: 0.0403 - mae: 0.0105 - val_loss: 0.0400 - val_mae: 0.0130\n",
      "Epoch 128/1000\n",
      "28/28 [==============================] - 0s 5ms/step - loss: 0.0397 - mae: 0.0099 - val_loss: 0.0393 - val_mae: 0.0081\n",
      "Epoch 129/1000\n",
      "28/28 [==============================] - 0s 6ms/step - loss: 0.0391 - mae: 0.0073 - val_loss: 0.0389 - val_mae: 0.0112\n",
      "Epoch 130/1000\n",
      "28/28 [==============================] - 0s 6ms/step - loss: 0.0385 - mae: 0.0077 - val_loss: 0.0382 - val_mae: 0.0055\n",
      "Epoch 131/1000\n",
      "28/28 [==============================] - 0s 5ms/step - loss: 0.0381 - mae: 0.0105 - val_loss: 0.0380 - val_mae: 0.0158\n",
      "Epoch 132/1000\n",
      "28/28 [==============================] - 0s 5ms/step - loss: 0.0376 - mae: 0.0115 - val_loss: 0.0375 - val_mae: 0.0145\n",
      "Epoch 133/1000\n",
      "28/28 [==============================] - 0s 6ms/step - loss: 0.0371 - mae: 0.0111 - val_loss: 0.0367 - val_mae: 0.0087\n",
      "Epoch 134/1000\n",
      "28/28 [==============================] - 0s 5ms/step - loss: 0.0365 - mae: 0.0093 - val_loss: 0.0363 - val_mae: 0.0145\n",
      "Epoch 135/1000\n",
      "28/28 [==============================] - 0s 6ms/step - loss: 0.0361 - mae: 0.0139 - val_loss: 0.0357 - val_mae: 0.0098\n",
      "Epoch 136/1000\n",
      "28/28 [==============================] - 0s 6ms/step - loss: 0.0356 - mae: 0.0131 - val_loss: 0.0353 - val_mae: 0.0119\n",
      "Epoch 137/1000\n",
      "28/28 [==============================] - 0s 5ms/step - loss: 0.0351 - mae: 0.0124 - val_loss: 0.0351 - val_mae: 0.0190\n",
      "Epoch 138/1000\n",
      "28/28 [==============================] - 0s 6ms/step - loss: 0.0347 - mae: 0.0161 - val_loss: 0.0343 - val_mae: 0.0147\n",
      "Epoch 139/1000\n",
      "28/28 [==============================] - 0s 6ms/step - loss: 0.0340 - mae: 0.0112 - val_loss: 0.0337 - val_mae: 0.0091\n",
      "Epoch 140/1000\n",
      "28/28 [==============================] - 0s 5ms/step - loss: 0.0335 - mae: 0.0104 - val_loss: 0.0333 - val_mae: 0.0126\n",
      "Epoch 141/1000\n",
      "28/28 [==============================] - 0s 4ms/step - loss: 0.0331 - mae: 0.0123 - val_loss: 0.0329 - val_mae: 0.0129\n",
      "Epoch 142/1000\n",
      "28/28 [==============================] - 0s 6ms/step - loss: 0.0337 - mae: 0.0261 - val_loss: 0.0347 - val_mae: 0.0461\n",
      "Epoch 143/1000\n",
      "28/28 [==============================] - 0s 5ms/step - loss: 0.0360 - mae: 0.0520 - val_loss: 0.0348 - val_mae: 0.0437\n",
      "Epoch 144/1000\n",
      "28/28 [==============================] - 0s 5ms/step - loss: 0.0354 - mae: 0.0444 - val_loss: 0.0346 - val_mae: 0.0444\n",
      "Epoch 145/1000\n",
      "28/28 [==============================] - 0s 5ms/step - loss: 0.0393 - mae: 0.0630 - val_loss: 0.0352 - val_mae: 0.0511\n",
      "Epoch 146/1000\n",
      "17/28 [=================>............] - ETA: 0s - loss: 0.0353 - mae: 0.0538Restoring model weights from the end of the best epoch: 141.\n",
      "28/28 [==============================] - 0s 5ms/step - loss: 0.0345 - mae: 0.0496 - val_loss: 0.0318 - val_mae: 0.0317\n",
      "Epoch 146: early stopping\n"
     ]
    }
   ],
   "source": [
    "# Netzwerkarchitektur\n",
    "model = Sequential([\n",
    "\n",
    "    Dense(264, activation='relu', input_shape=(2,), kernel_initializer='he_uniform', kernel_regularizer=l2(0.0001)),\n",
    "\n",
    "    Dense(232, activation='relu', kernel_initializer='he_uniform', kernel_regularizer=l2(0.0001)),\n",
    "    \n",
    "    Dense(280, activation='relu', kernel_initializer='he_uniform', kernel_regularizer=l2(0.0001)),\n",
    "    Dense(264, activation='relu', kernel_initializer='he_uniform', kernel_regularizer=l2(0.0001)),\n",
    "    Dense(216, activation='relu', kernel_initializer='he_uniform', kernel_regularizer=l2(0.0001)),\n",
    "    Dense(72, activation='relu', kernel_initializer='he_uniform', kernel_regularizer=l2(0.0001)),\n",
    "    Dense(216, activation='relu', kernel_initializer='he_uniform', kernel_regularizer=l2(0.0001)),\n",
    "    Dense(88, activation='relu', kernel_initializer='he_uniform', kernel_regularizer=l2(0.0001)),\n",
    "    \n",
    "    Dense(1 , activation = 'linear')\n",
    "])\n",
    "\n",
    "# Optimierer\n",
    "optimizer = tf.keras.optimizers.Adam(learning_rate=0.001)\n",
    "\n",
    "# Modell kompilieren (Verwendung von mean_squared_error als Verlustfunktion für Regression)\n",
    "model.compile(optimizer=optimizer,\n",
    "              loss='mean_squared_error',\n",
    "              metrics=['mae'])  # Metriken für Regression: Mean Absolute Error und Mean Squared Error\n",
    "\n",
    "# Early Stopping Callback\n",
    "early_stopping = EarlyStopping(monitor='loss', patience=5, verbose=1, mode='min', restore_best_weights=True)\n",
    "\n",
    "# Trainingsparameter\n",
    "batch_size = 25\n",
    "epochs = 1000\n",
    "\n",
    "# Modell trainieren (Annahme: X_train, y_train, X_val, y_val sind vordefiniert)\n",
    "history = model.fit(X_train_scaled, y_train_scaled,\n",
    "                    batch_size=batch_size,\n",
    "                    epochs=epochs,\n",
    "                    validation_split=0.2,\n",
    "                    callbacks=[early_stopping])"
   ],
   "metadata": {
    "collapsed": false,
    "ExecuteTime": {
     "end_time": "2024-03-15T09:47:42.444447600Z",
     "start_time": "2024-03-15T09:47:17.354331800Z"
    }
   },
   "id": "8b52e1a9a6ff3aeb"
  },
  {
   "cell_type": "code",
   "execution_count": 100,
   "outputs": [
    {
     "name": "stdout",
     "output_type": "stream",
     "text": [
      "7/7 - 0s - loss: 0.0328 - mae: 0.0112 - 50ms/epoch - 7ms/step\n"
     ]
    },
    {
     "data": {
      "text/plain": "[0.03280320391058922, 0.01116430014371872]"
     },
     "execution_count": 100,
     "metadata": {},
     "output_type": "execute_result"
    }
   ],
   "source": [
    "results = model.evaluate(X_test_scaled, y_test_scaled, verbose=2)\n",
    "results"
   ],
   "metadata": {
    "collapsed": false,
    "ExecuteTime": {
     "end_time": "2024-03-15T09:47:42.534555700Z",
     "start_time": "2024-03-15T09:47:42.414795700Z"
    }
   },
   "id": "4b02697cbcecd185"
  },
  {
   "cell_type": "code",
   "execution_count": 101,
   "outputs": [
    {
     "name": "stdout",
     "output_type": "stream",
     "text": [
      " Bsp. Predicted: [1157.4579] Actual: [1148.8] \n",
      "Durchschnittliche Abweichung (MAE): [10.55316523]\n"
     ]
    }
   ],
   "source": [
    "scaled_predicted_values = model.predict(X_test_scaled, verbose = 0)\n",
    "\n",
    "# Führen Sie die Rücktransformation der skalierten Werte durch\n",
    "original_predicted_values = scaler_target.inverse_transform(scaled_predicted_values)\n",
    "original_actual_values = scaler_target.inverse_transform(y_test_scaled)  # y_test sind die skalierten tatsächlichen Werte\n",
    "print(f' Bsp. Predicted: {original_predicted_values[100]} Actual: {original_actual_values[100]} ')\n",
    "\n",
    "def calculate_mae(list1, list2):\n",
    "    # Stelle sicher, dass beide Listen die gleiche Länge haben\n",
    "    if len(list1) != len(list2):\n",
    "        raise ValueError(\"Listen müssen die gleiche Länge haben\")\n",
    "\n",
    "    # Berechne die absolute Differenz zwischen den Elementen der Listen\n",
    "    differences = [abs(x - y) for x, y in zip(list1, list2)]\n",
    "\n",
    "    # Berechne den Durchschnitt der absoluten Differenzen\n",
    "    mae = sum(differences) / len(differences)\n",
    "\n",
    "    return mae\n",
    "\n",
    "# Beispiel\n",
    "list1 = original_predicted_values\n",
    "list2 = original_actual_values\n",
    "\n",
    "mae = calculate_mae(list1, list2)\n",
    "print(f\"Durchschnittliche Abweichung (MAE): {mae}\")"
   ],
   "metadata": {
    "collapsed": false,
    "ExecuteTime": {
     "end_time": "2024-03-15T09:47:42.762707800Z",
     "start_time": "2024-03-15T09:47:42.534555700Z"
    }
   },
   "id": "a402d28abbd82f60"
  },
  {
   "cell_type": "code",
   "execution_count": 102,
   "outputs": [
    {
     "name": "stdout",
     "output_type": "stream",
     "text": [
      "R^2: [0.99723538]\n"
     ]
    }
   ],
   "source": [
    "def calculate_r_squared(predicted, actual):\n",
    "    # Berechnung des Mittelwerts der tatsächlichen Werte\n",
    "    mean_actual = sum(actual) / len(actual)\n",
    "    \n",
    "    # Berechnung der totalen Summe der Quadrate (SST)\n",
    "    sst = sum((x - mean_actual) ** 2 for x in actual)\n",
    "    \n",
    "    # Berechnung der Summe der Quadrate der Residuen (SSE)\n",
    "    sse = sum((actual[i] - predicted[i]) ** 2 for i in range(len(actual)))\n",
    "    \n",
    "    # Berechnung des R^2-Wertes\n",
    "    r_squared = 1 - (sse / sst)\n",
    "    \n",
    "    return r_squared\n",
    "\n",
    "# Berechnung von R^2 mit den bereitgestellten Listen\n",
    "r_squared = calculate_r_squared(list1, list2)\n",
    "\n",
    "print(f\"R^2: {r_squared}\")"
   ],
   "metadata": {
    "collapsed": false,
    "ExecuteTime": {
     "end_time": "2024-03-15T09:47:42.772648800Z",
     "start_time": "2024-03-15T09:47:42.761709Z"
    }
   },
   "id": "2820df0b9f03b675"
  },
  {
   "cell_type": "code",
   "execution_count": 103,
   "outputs": [
    {
     "data": {
      "text/plain": "<Figure size 1000x600 with 1 Axes>",
      "image/png": "[encoded data removed]"
     },
     "metadata": {},
     "output_type": "display_data"
    }
   ],
   "source": [
    "mae = history.history['loss']\n",
    "val_mae = history.history['val_loss']\n",
    "\n",
    "epochs = range(1, len(mae) + 1)\n",
    "\n",
    "# MAE Diagramm\n",
    "plt.figure(figsize=(10, 6))\n",
    "plt.plot(epochs, mae, 'r', label='Training MSE')\n",
    "plt.plot(epochs, val_mae, 'b', label='Validation MSE')\n",
    "plt.title('Training and Validation MSE')\n",
    "plt.xlabel('Epochs')\n",
    "plt.ylabel('MAE')\n",
    "plt.legend()\n",
    "plt.savefig('C:/Users/erikm/Desktop/Diplomarbeit Erik Marr/Bilder Diplomarbeit/MSE_NeuroNetz/MSE_NeuroNetz_D4_1')\n",
    "plt.show()\n"
   ],
   "metadata": {
    "collapsed": false,
    "ExecuteTime": {
     "end_time": "2024-03-15T09:47:43.077767600Z",
     "start_time": "2024-03-15T09:47:42.769650200Z"
    }
   },
   "id": "3688dd7102e95baf"
  },
  {
   "cell_type": "markdown",
   "id": "553df6fa",
   "metadata": {},
   "source": [
    "# GridSearch"
   ]
  },
  {
   "cell_type": "code",
   "execution_count": 104,
   "outputs": [],
   "source": [
    "# def build_model(learning_rate=0.001, activation='relu', regularization=0.0001, dropout_rate=0.0):\n",
    "#     model = Sequential()\n",
    "#     model.add(Dense(448, activation=activation, input_shape=(2,), kernel_initializer='he_uniform', kernel_regularizer=l2(regularization)))\n",
    "#     model.add(Dropout(dropout_rate))\n",
    "# \n",
    "#     model.add(Dense(384, activation=activation, kernel_initializer='he_uniform', kernel_regularizer=l2(regularization)))\n",
    "#     model.add(Dropout(dropout_rate))\n",
    "# \n",
    "#     model.add(Dense(96, activation=activation, kernel_initializer='he_uniform', kernel_regularizer=l2(regularization)))\n",
    "#     model.add(Dropout(dropout_rate))\n",
    "# \n",
    "#     model.add(Dense(128, activation=activation, kernel_initializer='he_uniform', kernel_regularizer=l2(regularization)))\n",
    "#     model.add(Dropout(dropout_rate))\n",
    "# \n",
    "#     model.add(Dense(320, activation=activation, kernel_initializer='he_uniform', kernel_regularizer=l2(regularization)))\n",
    "#     model.add(Dropout(dropout_rate))\n",
    "# \n",
    "#     model.add(Dense(416, activation=activation, kernel_initializer='he_uniform', kernel_regularizer=l2(regularization)))\n",
    "#     model.add(Dropout(dropout_rate))\n",
    "#     \n",
    "#     model.add(Dense(416, activation=activation, kernel_initializer='he_uniform', kernel_regularizer=l2(regularization)))\n",
    "#     model.add(Dropout(dropout_rate))\n",
    "#     \n",
    "#     model.add(Dense(256, activation=activation, kernel_initializer='he_uniform', kernel_regularizer=l2(regularization)))\n",
    "#     model.add(Dropout(dropout_rate))    \n",
    "#     \n",
    "#     model.add(Dense(1, activation='linear'))\n",
    "#     model.compile(optimizer=Adam(learning_rate=learning_rate), loss='mean_squared_error', metrics=['mae'])\n",
    "#     return model\n",
    "# \n",
    "# # Verwenden Sie eine Funktion, um das Modell zu instanziieren, für scikit-learn Wrapper\n",
    "# model = KerasRegressor(model=build_model, verbose=2)\n",
    "# \n",
    "# # Anpassung der Parameter im param_grid\n",
    "# param_grid = {\n",
    "#     'model__learning_rate': [0.01, 0.001, 0.0001],\n",
    "#     'model__regularization': [0.001, 0.0001],\n",
    "#     'fit__batch_size': [10, 25, 50, 75],\n",
    "#     'fit__epochs': [50],\n",
    "#     'model__dropout_rate' : [0.0, 0.1, 0.2]\n",
    "# }\n",
    "# \n",
    "# grid_search = GridSearchCV(estimator=model, param_grid=param_grid, n_jobs=-1, cv=3, verbose=2)\n",
    "# # Hinweis: Stellen Sie sicher, dass Ihre Daten (X_train_scaled, y_train_scaled) korrekt definiert sind\n",
    "# grid_result = grid_search.fit(X_train_scaled, y_train_scaled)\n",
    "# # Beste Parameter und Score ausgeben\n",
    "# print(\"Beste Parameter:\", grid_search.best_params_)\n",
    "# print(\"Beste Genauigkeit:\", grid_search.best_score_)\n",
    "# \n",
    "# with open(\"Gridsearch_D4.txt\", \"w\") as f:\n",
    "#     f.write(f\"Beste Parameter: {grid_search.best_params_}\\n\")\n",
    "#     f.write(f\"Beste Genauigkeit: {grid_search.best_score_}\")\n"
   ],
   "metadata": {
    "collapsed": false,
    "ExecuteTime": {
     "end_time": "2024-03-15T09:47:43.083649600Z",
     "start_time": "2024-03-15T09:47:43.075765700Z"
    }
   },
   "id": "7464a951f44a07ee"
  },
  {
   "cell_type": "code",
   "execution_count": 105,
   "outputs": [],
   "source": [
    "# # Funktion zum Erstellen des Modells\n",
    "# def build_model(hp):\n",
    "#     model = Sequential()\n",
    "#     model.add(Dense(hp.Int('input_units', min_value=8, max_value=328, step=16), input_shape=(2,), activation='relu'))\n",
    "#     for i in range(hp.Int('n_layers', 1, 10)):\n",
    "#         model.add(Dense(hp.Int(f'units_{i}', min_value=8, max_value=328, step=16), activation='relu'))\n",
    "#     model.add(Dense(1, activation='linear'))\n",
    "#     model.compile(optimizer='adam', loss='mean_squared_error')\n",
    "#     return model\n",
    "# \n",
    "# # Durchführung der Random Search dreimal\n",
    "# for run in range(1, 4):\n",
    "#     # Anpassen des Verzeichnisses und des Projektnamens für jeden Durchlauf\n",
    "#     directory = 'random_search'\n",
    "#     project_name = f'random_search_D4_{run}'\n",
    "#     \n",
    "#     tuner = RandomSearch(\n",
    "#         build_model,\n",
    "#         objective='val_loss',\n",
    "#         max_trials=100,\n",
    "#         executions_per_trial=1,\n",
    "#         directory=directory,\n",
    "#         project_name=project_name\n",
    "#     )\n",
    "#     \n",
    "#     # Durchführung des Random Search\n",
    "#     tuner.search(X_train_scaled, y_train_scaled, epochs=50, verbose =0, batch_size=20, validation_split=0.2, callbacks=[EarlyStopping(monitor='val_loss', patience=5)])\n",
    "#     \n",
    "#     # Abrufen und Speichern des besten Modells\n",
    "#     best_model = tuner.get_best_models(num_models=1)[0]\n",
    "#     model_path = os.path.join(directory, project_name, 'best_model.h5') \n",
    "#     best_model.save(model_path)\n",
    "#     \n",
    "# \n",
    "#     # Optional: Abrufen und Ausgeben der besten Hyperparameter\n",
    "#     best_hyperparameters = tuner.get_best_hyperparameters()[0]\n",
    "#     \n",
    "#     # Konvertieren der Hyperparameter in ein DataFrame\n",
    "#     df_hyperparameters = pd.DataFrame([best_hyperparameters.values])\n",
    "#     # Speichern des DataFrame als CSV\n",
    "#     df_hyperparameters.to_csv(f'random_search_D4_{run}.csv', index=False)\n",
    "#     \n",
    "#     print(f\"Beste Hyperparameter für Lauf {run}: {best_hyperparameters.values}\")\n"
   ],
   "metadata": {
    "collapsed": false,
    "ExecuteTime": {
     "end_time": "2024-03-15T09:47:43.104125800Z",
     "start_time": "2024-03-15T09:47:43.084646900Z"
    }
   },
   "id": "d0f02feb42b652f5"
  },
  {
   "cell_type": "code",
   "execution_count": 105,
   "outputs": [],
   "source": [],
   "metadata": {
    "collapsed": false,
    "ExecuteTime": {
     "end_time": "2024-03-15T09:47:43.105125200Z",
     "start_time": "2024-03-15T09:47:43.090130400Z"
    }
   },
   "id": "3e35d5ebef369658"
  }
 ],
 "metadata": {
  "kernelspec": {
   "display_name": "Python 3 (ipykernel)",
   "language": "python",
   "name": "python3"
  },
  "language_info": {
   "codemirror_mode": {
    "name": "ipython",
    "version": 3
   },
   "file_extension": ".py",
   "mimetype": "text/x-python",
   "name": "python",
   "nbconvert_exporter": "python",
   "pygments_lexer": "ipython3",
   "version": "3.11.4"
  }
 },
 "nbformat": 4,
 "nbformat_minor": 5
}
