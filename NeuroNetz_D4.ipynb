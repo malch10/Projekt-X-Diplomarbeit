{
 "cells": [
  {
   "cell_type": "code",
   "execution_count": 2,
   "id": "94b0518e",
   "metadata": {
    "ExecuteTime": {
     "end_time": "2024-02-28T12:45:06.041276700Z",
     "start_time": "2024-02-28T12:45:05.967040700Z"
    }
   },
   "outputs": [],
   "source": [
    "import numpy as np\n",
    "import tensorflow as tf\n",
    "import matplotlib.pyplot as plt\n",
    "from sklearn.model_selection import train_test_split\n",
    "from sklearn.preprocessing import MinMaxScaler, StandardScaler\n",
    "import pandas as pd\n",
    "from tensorflow.keras.models import Sequential\n",
    "from tensorflow.keras.layers import Dense , Dropout\n",
    "from sklearn.model_selection import GridSearchCV\n",
    "from scikeras.wrappers import KerasRegressor \n",
    "from tensorflow.keras.regularizers import l2\n",
    "from tensorflow.keras.callbacks import EarlyStopping\n",
    "from tensorflow.keras.optimizers import Adam\n",
    "import time\n",
    "from keras_tuner import HyperModel\n",
    "from keras.models import Sequential\n",
    "from keras.layers import Dense, Dropout\n",
    "from keras.optimizers import Adam\n",
    "from keras.regularizers import l2\n",
    "from keras.callbacks import EarlyStopping\n",
    "from keras_tuner import RandomSearch\n",
    "\n",
    "from tensorflow.keras.models import Sequential\n",
    "from tensorflow.keras.layers import Dense\n",
    "from tensorflow.keras.optimizers import Adam\n",
    "from tensorflow.keras.regularizers import l2\n",
    "\n",
    "from sklearn.model_selection import GridSearchCV"
   ]
  },
  {
   "cell_type": "code",
   "execution_count": 3,
   "id": "e4ff61b1",
   "metadata": {
    "ExecuteTime": {
     "end_time": "2024-02-28T12:45:07.791190100Z",
     "start_time": "2024-02-28T12:45:07.691276400Z"
    }
   },
   "outputs": [
    {
     "data": {
      "text/plain": "      X-Koordinate  Y-Koordinate  Zeitpunkt  Strom  Kraft  Temperatur\n0           0.0000      -0.00200        300   7000   9000      532.25\n1           0.0000      -0.00192        300   7000   9000      565.57\n2           0.0000      -0.00184        300   7000   9000      597.71\n3           0.0000      -0.00176        300   7000   9000      628.64\n4           0.0000      -0.00168        300   7000   9000      658.22\n...            ...           ...        ...    ...    ...         ...\n1066        0.0024       0.00168        300   7000   9000      643.44\n1067        0.0024       0.00176        300   7000   9000      605.59\n1068        0.0024       0.00184        300   7000   9000      546.94\n1069        0.0024       0.00192        300   7000   9000      487.60\n1070        0.0024       0.00200        300   7000   9000      475.74\n\n[1071 rows x 6 columns]",
      "text/html": "<div>\n<style scoped>\n    .dataframe tbody tr th:only-of-type {\n        vertical-align: middle;\n    }\n\n    .dataframe tbody tr th {\n        vertical-align: top;\n    }\n\n    .dataframe thead th {\n        text-align: right;\n    }\n</style>\n<table border=\"1\" class=\"dataframe\">\n  <thead>\n    <tr style=\"text-align: right;\">\n      <th></th>\n      <th>X-Koordinate</th>\n      <th>Y-Koordinate</th>\n      <th>Zeitpunkt</th>\n      <th>Strom</th>\n      <th>Kraft</th>\n      <th>Temperatur</th>\n    </tr>\n  </thead>\n  <tbody>\n    <tr>\n      <th>0</th>\n      <td>0.0000</td>\n      <td>-0.00200</td>\n      <td>300</td>\n      <td>7000</td>\n      <td>9000</td>\n      <td>532.25</td>\n    </tr>\n    <tr>\n      <th>1</th>\n      <td>0.0000</td>\n      <td>-0.00192</td>\n      <td>300</td>\n      <td>7000</td>\n      <td>9000</td>\n      <td>565.57</td>\n    </tr>\n    <tr>\n      <th>2</th>\n      <td>0.0000</td>\n      <td>-0.00184</td>\n      <td>300</td>\n      <td>7000</td>\n      <td>9000</td>\n      <td>597.71</td>\n    </tr>\n    <tr>\n      <th>3</th>\n      <td>0.0000</td>\n      <td>-0.00176</td>\n      <td>300</td>\n      <td>7000</td>\n      <td>9000</td>\n      <td>628.64</td>\n    </tr>\n    <tr>\n      <th>4</th>\n      <td>0.0000</td>\n      <td>-0.00168</td>\n      <td>300</td>\n      <td>7000</td>\n      <td>9000</td>\n      <td>658.22</td>\n    </tr>\n    <tr>\n      <th>...</th>\n      <td>...</td>\n      <td>...</td>\n      <td>...</td>\n      <td>...</td>\n      <td>...</td>\n      <td>...</td>\n    </tr>\n    <tr>\n      <th>1066</th>\n      <td>0.0024</td>\n      <td>0.00168</td>\n      <td>300</td>\n      <td>7000</td>\n      <td>9000</td>\n      <td>643.44</td>\n    </tr>\n    <tr>\n      <th>1067</th>\n      <td>0.0024</td>\n      <td>0.00176</td>\n      <td>300</td>\n      <td>7000</td>\n      <td>9000</td>\n      <td>605.59</td>\n    </tr>\n    <tr>\n      <th>1068</th>\n      <td>0.0024</td>\n      <td>0.00184</td>\n      <td>300</td>\n      <td>7000</td>\n      <td>9000</td>\n      <td>546.94</td>\n    </tr>\n    <tr>\n      <th>1069</th>\n      <td>0.0024</td>\n      <td>0.00192</td>\n      <td>300</td>\n      <td>7000</td>\n      <td>9000</td>\n      <td>487.60</td>\n    </tr>\n    <tr>\n      <th>1070</th>\n      <td>0.0024</td>\n      <td>0.00200</td>\n      <td>300</td>\n      <td>7000</td>\n      <td>9000</td>\n      <td>475.74</td>\n    </tr>\n  </tbody>\n</table>\n<p>1071 rows × 6 columns</p>\n</div>"
     },
     "execution_count": 3,
     "metadata": {},
     "output_type": "execute_result"
    }
   ],
   "source": [
    "#data = pd.read_pickle('C:/Users/erikm/Desktop/Diplomarbeit Erik Marr/Daten/Finish/TPath_300_finish_data.pkl')\n",
    "data = pd.read_pickle('C:/Users/erikm/Desktop/Diplomarbeit Erik Marr/Daten/Finish_D4_I7000_F9000/TPath_300_finish_data_D4.pkl')\n",
    "\n",
    "data"
   ]
  },
  {
   "cell_type": "code",
   "execution_count": 4,
   "id": "966e3c74",
   "metadata": {
    "ExecuteTime": {
     "end_time": "2024-02-28T12:45:08.538731700Z",
     "start_time": "2024-02-28T12:45:08.380213200Z"
    }
   },
   "outputs": [
    {
     "data": {
      "text/plain": "      X-Koordinate  Y-Koordinate  Temperatur\n0           0.0000      -0.00200      532.25\n1           0.0000      -0.00192      565.57\n2           0.0000      -0.00184      597.71\n3           0.0000      -0.00176      628.64\n4           0.0000      -0.00168      658.22\n...            ...           ...         ...\n1066        0.0024       0.00168      643.44\n1067        0.0024       0.00176      605.59\n1068        0.0024       0.00184      546.94\n1069        0.0024       0.00192      487.60\n1070        0.0024       0.00200      475.74\n\n[1071 rows x 3 columns]",
      "text/html": "<div>\n<style scoped>\n    .dataframe tbody tr th:only-of-type {\n        vertical-align: middle;\n    }\n\n    .dataframe tbody tr th {\n        vertical-align: top;\n    }\n\n    .dataframe thead th {\n        text-align: right;\n    }\n</style>\n<table border=\"1\" class=\"dataframe\">\n  <thead>\n    <tr style=\"text-align: right;\">\n      <th></th>\n      <th>X-Koordinate</th>\n      <th>Y-Koordinate</th>\n      <th>Temperatur</th>\n    </tr>\n  </thead>\n  <tbody>\n    <tr>\n      <th>0</th>\n      <td>0.0000</td>\n      <td>-0.00200</td>\n      <td>532.25</td>\n    </tr>\n    <tr>\n      <th>1</th>\n      <td>0.0000</td>\n      <td>-0.00192</td>\n      <td>565.57</td>\n    </tr>\n    <tr>\n      <th>2</th>\n      <td>0.0000</td>\n      <td>-0.00184</td>\n      <td>597.71</td>\n    </tr>\n    <tr>\n      <th>3</th>\n      <td>0.0000</td>\n      <td>-0.00176</td>\n      <td>628.64</td>\n    </tr>\n    <tr>\n      <th>4</th>\n      <td>0.0000</td>\n      <td>-0.00168</td>\n      <td>658.22</td>\n    </tr>\n    <tr>\n      <th>...</th>\n      <td>...</td>\n      <td>...</td>\n      <td>...</td>\n    </tr>\n    <tr>\n      <th>1066</th>\n      <td>0.0024</td>\n      <td>0.00168</td>\n      <td>643.44</td>\n    </tr>\n    <tr>\n      <th>1067</th>\n      <td>0.0024</td>\n      <td>0.00176</td>\n      <td>605.59</td>\n    </tr>\n    <tr>\n      <th>1068</th>\n      <td>0.0024</td>\n      <td>0.00184</td>\n      <td>546.94</td>\n    </tr>\n    <tr>\n      <th>1069</th>\n      <td>0.0024</td>\n      <td>0.00192</td>\n      <td>487.60</td>\n    </tr>\n    <tr>\n      <th>1070</th>\n      <td>0.0024</td>\n      <td>0.00200</td>\n      <td>475.74</td>\n    </tr>\n  </tbody>\n</table>\n<p>1071 rows × 3 columns</p>\n</div>"
     },
     "execution_count": 4,
     "metadata": {},
     "output_type": "execute_result"
    }
   ],
   "source": [
    "df = data.drop(data.columns[2:5], axis = 1)\n",
    "df"
   ]
  },
  {
   "cell_type": "code",
   "execution_count": 5,
   "id": "8783d1d6",
   "metadata": {
    "ExecuteTime": {
     "end_time": "2024-02-28T12:45:09.048097900Z",
     "start_time": "2024-02-28T12:45:08.966763600Z"
    }
   },
   "outputs": [
    {
     "name": "stdout",
     "output_type": "stream",
     "text": [
      "      X-Koordinate  Y-Koordinate  Temperatur\n",
      "184        0.00036       0.00048      886.60\n",
      "572        0.00132      -0.00112      806.92\n",
      "309        0.00072      -0.00176      629.84\n",
      "930        0.00216      -0.00104      770.86\n",
      "711        0.00156       0.00184      522.14\n",
      "...            ...           ...         ...\n",
      "330        0.00072      -0.00008      902.23\n",
      "466        0.00108      -0.00144      738.36\n",
      "121        0.00024      -0.00048      902.11\n",
      "1044       0.00240      -0.00008      753.13\n",
      "860        0.00192       0.00152      666.93\n",
      "\n",
      "[1071 rows x 3 columns]\n"
     ]
    },
    {
     "data": {
      "text/plain": "      X-Koordinate  Y-Koordinate  Temperatur\n0          0.00036       0.00048      886.60\n1          0.00132      -0.00112      806.92\n2          0.00072      -0.00176      629.84\n3          0.00216      -0.00104      770.86\n4          0.00156       0.00184      522.14\n...            ...           ...         ...\n1066       0.00072      -0.00008      902.23\n1067       0.00108      -0.00144      738.36\n1068       0.00024      -0.00048      902.11\n1069       0.00240      -0.00008      753.13\n1070       0.00192       0.00152      666.93\n\n[1071 rows x 3 columns]",
      "text/html": "<div>\n<style scoped>\n    .dataframe tbody tr th:only-of-type {\n        vertical-align: middle;\n    }\n\n    .dataframe tbody tr th {\n        vertical-align: top;\n    }\n\n    .dataframe thead th {\n        text-align: right;\n    }\n</style>\n<table border=\"1\" class=\"dataframe\">\n  <thead>\n    <tr style=\"text-align: right;\">\n      <th></th>\n      <th>X-Koordinate</th>\n      <th>Y-Koordinate</th>\n      <th>Temperatur</th>\n    </tr>\n  </thead>\n  <tbody>\n    <tr>\n      <th>0</th>\n      <td>0.00036</td>\n      <td>0.00048</td>\n      <td>886.60</td>\n    </tr>\n    <tr>\n      <th>1</th>\n      <td>0.00132</td>\n      <td>-0.00112</td>\n      <td>806.92</td>\n    </tr>\n    <tr>\n      <th>2</th>\n      <td>0.00072</td>\n      <td>-0.00176</td>\n      <td>629.84</td>\n    </tr>\n    <tr>\n      <th>3</th>\n      <td>0.00216</td>\n      <td>-0.00104</td>\n      <td>770.86</td>\n    </tr>\n    <tr>\n      <th>4</th>\n      <td>0.00156</td>\n      <td>0.00184</td>\n      <td>522.14</td>\n    </tr>\n    <tr>\n      <th>...</th>\n      <td>...</td>\n      <td>...</td>\n      <td>...</td>\n    </tr>\n    <tr>\n      <th>1066</th>\n      <td>0.00072</td>\n      <td>-0.00008</td>\n      <td>902.23</td>\n    </tr>\n    <tr>\n      <th>1067</th>\n      <td>0.00108</td>\n      <td>-0.00144</td>\n      <td>738.36</td>\n    </tr>\n    <tr>\n      <th>1068</th>\n      <td>0.00024</td>\n      <td>-0.00048</td>\n      <td>902.11</td>\n    </tr>\n    <tr>\n      <th>1069</th>\n      <td>0.00240</td>\n      <td>-0.00008</td>\n      <td>753.13</td>\n    </tr>\n    <tr>\n      <th>1070</th>\n      <td>0.00192</td>\n      <td>0.00152</td>\n      <td>666.93</td>\n    </tr>\n  </tbody>\n</table>\n<p>1071 rows × 3 columns</p>\n</div>"
     },
     "execution_count": 5,
     "metadata": {},
     "output_type": "execute_result"
    }
   ],
   "source": [
    "df1 = df.sample(frac=1, random_state=42)  # Hier wird 42 als Random State verwendet, um die Ergebnisse reproduzierbar zu machen\n",
    "\n",
    "print(df1)\n",
    "df_reset = df1.reset_index(drop=True)\n",
    "df_reset"
   ]
  },
  {
   "cell_type": "code",
   "execution_count": 6,
   "id": "a4e72a16",
   "metadata": {
    "ExecuteTime": {
     "end_time": "2024-02-28T12:45:09.454938200Z",
     "start_time": "2024-02-28T12:45:09.441972100Z"
    }
   },
   "outputs": [],
   "source": [
    "label = df_reset[\"Temperatur\"]\n",
    "# Korrektur: Verwenden Sie den Spaltennamen direkt, ohne Indexierung der columns-Eigenschaft\n",
    "df1 = df_reset.drop(\"Temperatur\", axis=1)\n",
    "X = df1\n",
    "y = label\n"
   ]
  },
  {
   "cell_type": "markdown",
   "source": [],
   "metadata": {
    "collapsed": false
   },
   "id": "f7fa289a50d87423"
  },
  {
   "cell_type": "code",
   "execution_count": 7,
   "id": "e694a236",
   "metadata": {
    "ExecuteTime": {
     "end_time": "2024-02-28T12:45:10.532746300Z",
     "start_time": "2024-02-28T12:45:10.452156600Z"
    }
   },
   "outputs": [
    {
     "data": {
      "text/plain": "      X-Koordinate  Y-Koordinate\n0          0.00036       0.00048\n1          0.00132      -0.00112\n2          0.00072      -0.00176\n3          0.00216      -0.00104\n4          0.00156       0.00184\n...            ...           ...\n1066       0.00072      -0.00008\n1067       0.00108      -0.00144\n1068       0.00024      -0.00048\n1069       0.00240      -0.00008\n1070       0.00192       0.00152\n\n[1071 rows x 2 columns]",
      "text/html": "<div>\n<style scoped>\n    .dataframe tbody tr th:only-of-type {\n        vertical-align: middle;\n    }\n\n    .dataframe tbody tr th {\n        vertical-align: top;\n    }\n\n    .dataframe thead th {\n        text-align: right;\n    }\n</style>\n<table border=\"1\" class=\"dataframe\">\n  <thead>\n    <tr style=\"text-align: right;\">\n      <th></th>\n      <th>X-Koordinate</th>\n      <th>Y-Koordinate</th>\n    </tr>\n  </thead>\n  <tbody>\n    <tr>\n      <th>0</th>\n      <td>0.00036</td>\n      <td>0.00048</td>\n    </tr>\n    <tr>\n      <th>1</th>\n      <td>0.00132</td>\n      <td>-0.00112</td>\n    </tr>\n    <tr>\n      <th>2</th>\n      <td>0.00072</td>\n      <td>-0.00176</td>\n    </tr>\n    <tr>\n      <th>3</th>\n      <td>0.00216</td>\n      <td>-0.00104</td>\n    </tr>\n    <tr>\n      <th>4</th>\n      <td>0.00156</td>\n      <td>0.00184</td>\n    </tr>\n    <tr>\n      <th>...</th>\n      <td>...</td>\n      <td>...</td>\n    </tr>\n    <tr>\n      <th>1066</th>\n      <td>0.00072</td>\n      <td>-0.00008</td>\n    </tr>\n    <tr>\n      <th>1067</th>\n      <td>0.00108</td>\n      <td>-0.00144</td>\n    </tr>\n    <tr>\n      <th>1068</th>\n      <td>0.00024</td>\n      <td>-0.00048</td>\n    </tr>\n    <tr>\n      <th>1069</th>\n      <td>0.00240</td>\n      <td>-0.00008</td>\n    </tr>\n    <tr>\n      <th>1070</th>\n      <td>0.00192</td>\n      <td>0.00152</td>\n    </tr>\n  </tbody>\n</table>\n<p>1071 rows × 2 columns</p>\n</div>"
     },
     "execution_count": 7,
     "metadata": {},
     "output_type": "execute_result"
    }
   ],
   "source": [
    "X"
   ]
  },
  {
   "cell_type": "code",
   "execution_count": 8,
   "id": "3f3303b4",
   "metadata": {
    "ExecuteTime": {
     "end_time": "2024-02-28T12:45:10.983868Z",
     "start_time": "2024-02-28T12:45:10.909721900Z"
    }
   },
   "outputs": [
    {
     "data": {
      "text/plain": "0       886.60\n1       806.92\n2       629.84\n3       770.86\n4       522.14\n         ...  \n1066    902.23\n1067    738.36\n1068    902.11\n1069    753.13\n1070    666.93\nName: Temperatur, Length: 1071, dtype: float64"
     },
     "execution_count": 8,
     "metadata": {},
     "output_type": "execute_result"
    }
   ],
   "source": [
    "y"
   ]
  },
  {
   "cell_type": "code",
   "execution_count": 9,
   "id": "e3ad8da0",
   "metadata": {
    "ExecuteTime": {
     "end_time": "2024-02-28T12:45:11.672155400Z",
     "start_time": "2024-02-28T12:45:11.634198900Z"
    }
   },
   "outputs": [],
   "source": [
    " # train_df enthält 80% der Daten, test_df enthält 20% der Daten\n",
    "X_train, X_test, y_train, y_test = train_test_split(X, y, test_size=0.20, random_state=42)\n"
   ]
  },
  {
   "cell_type": "code",
   "execution_count": 10,
   "id": "9c705edb",
   "metadata": {
    "ExecuteTime": {
     "end_time": "2024-02-28T12:45:13.043088500Z",
     "start_time": "2024-02-28T12:45:12.968747100Z"
    }
   },
   "outputs": [],
   "source": [
    "# Initialisiere einen MinMaxScaler für die Features\n",
    "scaler_features = MinMaxScaler()\n",
    "scaler_features2 = MinMaxScaler()\n",
    "# Skaliere X_train und X_test\n",
    "X_train_scaled = scaler_features.fit_transform(X_train)\n",
    "X_test_scaled = scaler_features.transform(X_test)  # Nutze unterschiedliche Skalierungsparameter\n",
    "\n",
    "# Initialisiere einen SEPARATEN MinMaxScaler für das Ziel, wenn nötig\n",
    "scaler_target = MinMaxScaler()\n",
    "\n",
    "\n",
    "# Skaliere y_train und y_test. Beachte, dass y_train.reshape(-1, 1) verwendet wird, da MinMaxScaler \n",
    "# erwartet, dass die Eingaben als 2D-Arrays kommen, und Ziele normalerweise als 1D-Arrays vorliegen.\n",
    "y_train_scaled = scaler_target.fit_transform(y_train.values.reshape(-1, 1))\n",
    "y_test_scaled = scaler_target.transform(y_test.values.reshape(-1, 1))\n"
   ]
  },
  {
   "cell_type": "code",
   "execution_count": 11,
   "id": "bbefe631e495b483",
   "metadata": {
    "ExecuteTime": {
     "end_time": "2024-02-28T12:45:16.191109200Z",
     "start_time": "2024-02-28T12:45:16.110445900Z"
    }
   },
   "outputs": [
    {
     "data": {
      "text/plain": "array([[0.35, 0.88],\n       [0.75, 0.88],\n       [0.85, 0.02],\n       ...,\n       [0.2 , 0.86],\n       [1.  , 0.52],\n       [0.8 , 0.04]])"
     },
     "execution_count": 11,
     "metadata": {},
     "output_type": "execute_result"
    }
   ],
   "source": [
    "X_train_scaled"
   ]
  },
  {
   "cell_type": "code",
   "execution_count": 12,
   "outputs": [
    {
     "data": {
      "text/plain": "1.0"
     },
     "execution_count": 12,
     "metadata": {},
     "output_type": "execute_result"
    }
   ],
   "source": [
    "y_train_scaled.max()"
   ],
   "metadata": {
    "collapsed": false,
    "ExecuteTime": {
     "end_time": "2024-02-28T12:45:21.660448500Z",
     "start_time": "2024-02-28T12:45:21.350200100Z"
    }
   },
   "id": "ce04ce43aac2242f"
  },
  {
   "cell_type": "code",
   "execution_count": 19,
   "outputs": [
    {
     "name": "stdout",
     "output_type": "stream",
     "text": [
      "Epoch 1/500\n",
      "35/35 [==============================] - 2s 10ms/step - loss: 41.9467 - mae: 0.4627 - val_loss: 34.3976 - val_mae: 0.2893\n",
      "Epoch 2/500\n",
      "35/35 [==============================] - 0s 5ms/step - loss: 29.8146 - mae: 0.2899 - val_loss: 25.5937 - val_mae: 0.2226\n",
      "Epoch 3/500\n",
      "35/35 [==============================] - 0s 5ms/step - loss: 22.9697 - mae: 0.2389 - val_loss: 20.4916 - val_mae: 0.1835\n",
      "Epoch 4/500\n",
      "35/35 [==============================] - 0s 5ms/step - loss: 18.8528 - mae: 0.1888 - val_loss: 17.2491 - val_mae: 0.1532\n",
      "Epoch 5/500\n",
      "35/35 [==============================] - 0s 5ms/step - loss: 16.1180 - mae: 0.1601 - val_loss: 14.9906 - val_mae: 0.1523\n",
      "Epoch 6/500\n",
      "35/35 [==============================] - 0s 5ms/step - loss: 14.1143 - mae: 0.1449 - val_loss: 13.2215 - val_mae: 0.1058\n",
      "Epoch 7/500\n",
      "35/35 [==============================] - 0s 5ms/step - loss: 12.5286 - mae: 0.1112 - val_loss: 11.8053 - val_mae: 0.0978\n",
      "Epoch 8/500\n",
      "35/35 [==============================] - 0s 5ms/step - loss: 11.2300 - mae: 0.1034 - val_loss: 10.6207 - val_mae: 0.0878\n",
      "Epoch 9/500\n",
      "35/35 [==============================] - 0s 5ms/step - loss: 10.1301 - mae: 0.0961 - val_loss: 9.6060 - val_mae: 0.0868\n",
      "Epoch 10/500\n",
      "35/35 [==============================] - 0s 5ms/step - loss: 9.1809 - mae: 0.0892 - val_loss: 8.7318 - val_mae: 0.1107\n",
      "Epoch 11/500\n",
      "35/35 [==============================] - 0s 5ms/step - loss: 8.3538 - mae: 0.0972 - val_loss: 7.9539 - val_mae: 0.1007\n",
      "Epoch 12/500\n",
      "35/35 [==============================] - 0s 5ms/step - loss: 7.6205 - mae: 0.0945 - val_loss: 7.2616 - val_mae: 0.0790\n",
      "Epoch 13/500\n",
      "35/35 [==============================] - 0s 5ms/step - loss: 6.9674 - mae: 0.0932 - val_loss: 6.6490 - val_mae: 0.0903\n",
      "Epoch 14/500\n",
      "35/35 [==============================] - 0s 5ms/step - loss: 6.3843 - mae: 0.0997 - val_loss: 6.0933 - val_mae: 0.0858\n",
      "Epoch 15/500\n",
      "35/35 [==============================] - 0s 5ms/step - loss: 5.8575 - mae: 0.1019 - val_loss: 5.5950 - val_mae: 0.0925\n",
      "Epoch 16/500\n",
      "35/35 [==============================] - 0s 5ms/step - loss: 5.3831 - mae: 0.1155 - val_loss: 5.1443 - val_mae: 0.1122\n",
      "Epoch 17/500\n",
      "35/35 [==============================] - 0s 5ms/step - loss: 4.9436 - mae: 0.0990 - val_loss: 4.7307 - val_mae: 0.1015\n",
      "Epoch 18/500\n",
      "35/35 [==============================] - 0s 5ms/step - loss: 4.5494 - mae: 0.0976 - val_loss: 4.3573 - val_mae: 0.1082\n",
      "Epoch 19/500\n",
      "35/35 [==============================] - 0s 5ms/step - loss: 4.1905 - mae: 0.0981 - val_loss: 4.0093 - val_mae: 0.0831\n",
      "Epoch 20/500\n",
      "35/35 [==============================] - 0s 5ms/step - loss: 3.8634 - mae: 0.1075 - val_loss: 3.6971 - val_mae: 0.1041\n",
      "Epoch 21/500\n",
      "35/35 [==============================] - 0s 5ms/step - loss: 3.5590 - mae: 0.0983 - val_loss: 3.4081 - val_mae: 0.0960\n",
      "Epoch 22/500\n",
      "35/35 [==============================] - 0s 5ms/step - loss: 3.2841 - mae: 0.1042 - val_loss: 3.1510 - val_mae: 0.1036\n",
      "Epoch 23/500\n",
      "35/35 [==============================] - 0s 5ms/step - loss: 3.0301 - mae: 0.1060 - val_loss: 2.9010 - val_mae: 0.1016\n",
      "Epoch 24/500\n",
      "35/35 [==============================] - 0s 5ms/step - loss: 2.7937 - mae: 0.0961 - val_loss: 2.6758 - val_mae: 0.0921\n",
      "Epoch 25/500\n",
      "35/35 [==============================] - 0s 5ms/step - loss: 2.5782 - mae: 0.0968 - val_loss: 2.4734 - val_mae: 0.1026\n",
      "Epoch 26/500\n",
      "35/35 [==============================] - 0s 5ms/step - loss: 2.3806 - mae: 0.0985 - val_loss: 2.2819 - val_mae: 0.0927\n",
      "Epoch 27/500\n",
      "35/35 [==============================] - 0s 5ms/step - loss: 2.1991 - mae: 0.1022 - val_loss: 2.1140 - val_mae: 0.1201\n",
      "Epoch 28/500\n",
      "35/35 [==============================] - 0s 5ms/step - loss: 2.0298 - mae: 0.1014 - val_loss: 1.9446 - val_mae: 0.1060\n",
      "Epoch 29/500\n",
      "35/35 [==============================] - 0s 5ms/step - loss: 1.8719 - mae: 0.0917 - val_loss: 1.7946 - val_mae: 0.0911\n",
      "Epoch 30/500\n",
      "35/35 [==============================] - 0s 4ms/step - loss: 1.7304 - mae: 0.1023 - val_loss: 1.6640 - val_mae: 0.1118\n",
      "Epoch 31/500\n",
      "35/35 [==============================] - 0s 5ms/step - loss: 1.5969 - mae: 0.1006 - val_loss: 1.5276 - val_mae: 0.0860\n",
      "Epoch 32/500\n",
      "35/35 [==============================] - 0s 5ms/step - loss: 1.4723 - mae: 0.0899 - val_loss: 1.4109 - val_mae: 0.0950\n",
      "Epoch 33/500\n",
      "35/35 [==============================] - 0s 4ms/step - loss: 1.3615 - mae: 0.1022 - val_loss: 1.3089 - val_mae: 0.1163\n",
      "Epoch 34/500\n",
      "35/35 [==============================] - 0s 4ms/step - loss: 1.2558 - mae: 0.0979 - val_loss: 1.2030 - val_mae: 0.0913\n",
      "Epoch 35/500\n",
      "35/35 [==============================] - 0s 4ms/step - loss: 1.1608 - mae: 0.1030 - val_loss: 1.1084 - val_mae: 0.0907\n",
      "Epoch 36/500\n",
      "35/35 [==============================] - 0s 4ms/step - loss: 1.0713 - mae: 0.1005 - val_loss: 1.0280 - val_mae: 0.1010\n",
      "Epoch 37/500\n",
      "35/35 [==============================] - 0s 4ms/step - loss: 0.9865 - mae: 0.0956 - val_loss: 0.9450 - val_mae: 0.0870\n",
      "Epoch 38/500\n",
      "35/35 [==============================] - 0s 4ms/step - loss: 0.9120 - mae: 0.1022 - val_loss: 0.8760 - val_mae: 0.1121\n",
      "Epoch 39/500\n",
      "35/35 [==============================] - 0s 5ms/step - loss: 0.8420 - mae: 0.1007 - val_loss: 0.8067 - val_mae: 0.1011\n",
      "Epoch 40/500\n",
      "35/35 [==============================] - 0s 4ms/step - loss: 0.7779 - mae: 0.1038 - val_loss: 0.7511 - val_mae: 0.1182\n",
      "Epoch 41/500\n",
      "35/35 [==============================] - 0s 4ms/step - loss: 0.7156 - mae: 0.0933 - val_loss: 0.6839 - val_mae: 0.0890\n",
      "Epoch 42/500\n",
      "35/35 [==============================] - 0s 4ms/step - loss: 0.6592 - mae: 0.0889 - val_loss: 0.6305 - val_mae: 0.0874\n",
      "Epoch 43/500\n",
      "35/35 [==============================] - 0s 5ms/step - loss: 0.6123 - mae: 0.1024 - val_loss: 0.5848 - val_mae: 0.0916\n",
      "Epoch 44/500\n",
      "35/35 [==============================] - 0s 5ms/step - loss: 0.5637 - mae: 0.0979 - val_loss: 0.5376 - val_mae: 0.0793\n",
      "Epoch 45/500\n",
      "35/35 [==============================] - 0s 5ms/step - loss: 0.5215 - mae: 0.0983 - val_loss: 0.5009 - val_mae: 0.0962\n",
      "Epoch 46/500\n",
      "35/35 [==============================] - 0s 5ms/step - loss: 0.4833 - mae: 0.1034 - val_loss: 0.4602 - val_mae: 0.0847\n",
      "Epoch 47/500\n",
      "35/35 [==============================] - 0s 4ms/step - loss: 0.4437 - mae: 0.0898 - val_loss: 0.4259 - val_mae: 0.0874\n",
      "Epoch 48/500\n",
      "35/35 [==============================] - 0s 5ms/step - loss: 0.4129 - mae: 0.1000 - val_loss: 0.3928 - val_mae: 0.0912\n",
      "Epoch 49/500\n",
      "35/35 [==============================] - 0s 4ms/step - loss: 0.3798 - mae: 0.0897 - val_loss: 0.3641 - val_mae: 0.0880\n",
      "Epoch 50/500\n",
      "35/35 [==============================] - 0s 5ms/step - loss: 0.3528 - mae: 0.0913 - val_loss: 0.3363 - val_mae: 0.0866\n",
      "Epoch 51/500\n",
      "35/35 [==============================] - 0s 5ms/step - loss: 0.3283 - mae: 0.0968 - val_loss: 0.3161 - val_mae: 0.0983\n",
      "Epoch 52/500\n",
      "35/35 [==============================] - 0s 5ms/step - loss: 0.3089 - mae: 0.1084 - val_loss: 0.2917 - val_mae: 0.0987\n",
      "Epoch 53/500\n",
      "35/35 [==============================] - 0s 5ms/step - loss: 0.2828 - mae: 0.0961 - val_loss: 0.2703 - val_mae: 0.0887\n",
      "Epoch 54/500\n",
      "35/35 [==============================] - 0s 5ms/step - loss: 0.2657 - mae: 0.1030 - val_loss: 0.2535 - val_mae: 0.0915\n",
      "Epoch 55/500\n",
      "35/35 [==============================] - 0s 5ms/step - loss: 0.2476 - mae: 0.0985 - val_loss: 0.2345 - val_mae: 0.0827\n",
      "Epoch 56/500\n",
      "35/35 [==============================] - 0s 5ms/step - loss: 0.2297 - mae: 0.0943 - val_loss: 0.2200 - val_mae: 0.0835\n",
      "Epoch 57/500\n",
      "35/35 [==============================] - 0s 6ms/step - loss: 0.2182 - mae: 0.1048 - val_loss: 0.2113 - val_mae: 0.1093\n",
      "Epoch 58/500\n",
      "35/35 [==============================] - 0s 5ms/step - loss: 0.2033 - mae: 0.1007 - val_loss: 0.1959 - val_mae: 0.0873\n",
      "Epoch 59/500\n",
      "35/35 [==============================] - 0s 5ms/step - loss: 0.1923 - mae: 0.1034 - val_loss: 0.1847 - val_mae: 0.1014\n",
      "Epoch 60/500\n",
      "35/35 [==============================] - 0s 5ms/step - loss: 0.1813 - mae: 0.1012 - val_loss: 0.1772 - val_mae: 0.1114\n",
      "Epoch 61/500\n",
      "35/35 [==============================] - 0s 5ms/step - loss: 0.1739 - mae: 0.1114 - val_loss: 0.1633 - val_mae: 0.0899\n",
      "Epoch 62/500\n",
      "35/35 [==============================] - 0s 5ms/step - loss: 0.1612 - mae: 0.0957 - val_loss: 0.1585 - val_mae: 0.1043\n",
      "Epoch 63/500\n",
      "35/35 [==============================] - 0s 7ms/step - loss: 0.1540 - mae: 0.0972 - val_loss: 0.1468 - val_mae: 0.0836\n",
      "Epoch 64/500\n",
      "35/35 [==============================] - 0s 7ms/step - loss: 0.1468 - mae: 0.0992 - val_loss: 0.1410 - val_mae: 0.0870\n",
      "Epoch 65/500\n",
      "35/35 [==============================] - 0s 7ms/step - loss: 0.1416 - mae: 0.1000 - val_loss: 0.1347 - val_mae: 0.0927\n",
      "Epoch 66/500\n",
      "35/35 [==============================] - 0s 7ms/step - loss: 0.1342 - mae: 0.1004 - val_loss: 0.1391 - val_mae: 0.1179\n",
      "Epoch 67/500\n",
      "35/35 [==============================] - 0s 6ms/step - loss: 0.1298 - mae: 0.0964 - val_loss: 0.1238 - val_mae: 0.0911\n",
      "Epoch 68/500\n",
      "35/35 [==============================] - 0s 5ms/step - loss: 0.1255 - mae: 0.1010 - val_loss: 0.1194 - val_mae: 0.0879\n",
      "Epoch 69/500\n",
      "35/35 [==============================] - 0s 7ms/step - loss: 0.1226 - mae: 0.1028 - val_loss: 0.1178 - val_mae: 0.0988\n",
      "Epoch 70/500\n",
      "35/35 [==============================] - 0s 8ms/step - loss: 0.1188 - mae: 0.1033 - val_loss: 0.1191 - val_mae: 0.1118\n",
      "Epoch 71/500\n",
      "35/35 [==============================] - 0s 8ms/step - loss: 0.1210 - mae: 0.1243 - val_loss: 0.1105 - val_mae: 0.0988\n",
      "Epoch 72/500\n",
      "35/35 [==============================] - 0s 7ms/step - loss: 0.1115 - mae: 0.1018 - val_loss: 0.1113 - val_mae: 0.1040\n",
      "Epoch 73/500\n",
      "35/35 [==============================] - 0s 6ms/step - loss: 0.1095 - mae: 0.1022 - val_loss: 0.1162 - val_mae: 0.1282\n",
      "Epoch 74/500\n",
      "35/35 [==============================] - 0s 7ms/step - loss: 0.1091 - mae: 0.1076 - val_loss: 0.1035 - val_mae: 0.0868\n",
      "Epoch 75/500\n",
      "35/35 [==============================] - 0s 7ms/step - loss: 0.1055 - mae: 0.1016 - val_loss: 0.1007 - val_mae: 0.0871\n",
      "Epoch 76/500\n",
      "35/35 [==============================] - 0s 7ms/step - loss: 0.1027 - mae: 0.0969 - val_loss: 0.1101 - val_mae: 0.1230\n",
      "Epoch 77/500\n",
      "35/35 [==============================] - 0s 7ms/step - loss: 0.1011 - mae: 0.0966 - val_loss: 0.0978 - val_mae: 0.0840\n",
      "Epoch 78/500\n",
      "35/35 [==============================] - 0s 7ms/step - loss: 0.1013 - mae: 0.1035 - val_loss: 0.1184 - val_mae: 0.1501\n",
      "Epoch 79/500\n",
      "35/35 [==============================] - 0s 7ms/step - loss: 0.0998 - mae: 0.1038 - val_loss: 0.0956 - val_mae: 0.0852\n",
      "Epoch 80/500\n",
      "35/35 [==============================] - 0s 7ms/step - loss: 0.0997 - mae: 0.1072 - val_loss: 0.0956 - val_mae: 0.0954\n",
      "Epoch 81/500\n",
      "35/35 [==============================] - 0s 7ms/step - loss: 0.0982 - mae: 0.1078 - val_loss: 0.0956 - val_mae: 0.1039\n",
      "Epoch 82/500\n",
      "35/35 [==============================] - 0s 6ms/step - loss: 0.0955 - mae: 0.1000 - val_loss: 0.0981 - val_mae: 0.1022\n",
      "Epoch 83/500\n",
      "35/35 [==============================] - 0s 7ms/step - loss: 0.0963 - mae: 0.1031 - val_loss: 0.0935 - val_mae: 0.0912\n",
      "Epoch 84/500\n",
      "35/35 [==============================] - 0s 8ms/step - loss: 0.0951 - mae: 0.1030 - val_loss: 0.0939 - val_mae: 0.1025\n",
      "Epoch 85/500\n",
      "35/35 [==============================] - 0s 8ms/step - loss: 0.0939 - mae: 0.1008 - val_loss: 0.0915 - val_mae: 0.0875\n",
      "Epoch 86/500\n",
      "35/35 [==============================] - 0s 7ms/step - loss: 0.0941 - mae: 0.1031 - val_loss: 0.0962 - val_mae: 0.1063\n",
      "Epoch 87/500\n",
      "35/35 [==============================] - 0s 7ms/step - loss: 0.0929 - mae: 0.1034 - val_loss: 0.0891 - val_mae: 0.0917\n",
      "Epoch 88/500\n",
      "35/35 [==============================] - 0s 7ms/step - loss: 0.0981 - mae: 0.1183 - val_loss: 0.0936 - val_mae: 0.1141\n",
      "Epoch 89/500\n",
      "35/35 [==============================] - 0s 7ms/step - loss: 0.0965 - mae: 0.1190 - val_loss: 0.0932 - val_mae: 0.1135\n",
      "Epoch 90/500\n",
      "35/35 [==============================] - 0s 8ms/step - loss: 0.0937 - mae: 0.1122 - val_loss: 0.0881 - val_mae: 0.0952\n",
      "Epoch 91/500\n",
      "35/35 [==============================] - 0s 6ms/step - loss: 0.0924 - mae: 0.1051 - val_loss: 0.0965 - val_mae: 0.1204\n",
      "Epoch 92/500\n",
      "35/35 [==============================] - 0s 7ms/step - loss: 0.0924 - mae: 0.1076 - val_loss: 0.0885 - val_mae: 0.0853\n",
      "Epoch 93/500\n",
      "35/35 [==============================] - 0s 7ms/step - loss: 0.0900 - mae: 0.0984 - val_loss: 0.0873 - val_mae: 0.0863\n",
      "Epoch 94/500\n",
      "35/35 [==============================] - 0s 7ms/step - loss: 0.0899 - mae: 0.0999 - val_loss: 0.0893 - val_mae: 0.0975\n",
      "Epoch 95/500\n",
      "35/35 [==============================] - 0s 7ms/step - loss: 0.1014 - mae: 0.1324 - val_loss: 0.0871 - val_mae: 0.0976\n",
      "Epoch 96/500\n",
      "35/35 [==============================] - 0s 7ms/step - loss: 0.0893 - mae: 0.1033 - val_loss: 0.0943 - val_mae: 0.1170\n",
      "Epoch 97/500\n",
      "35/35 [==============================] - 0s 7ms/step - loss: 0.0895 - mae: 0.1019 - val_loss: 0.1005 - val_mae: 0.1287\n",
      "Epoch 98/500\n",
      "35/35 [==============================] - 0s 7ms/step - loss: 0.0910 - mae: 0.1067 - val_loss: 0.0864 - val_mae: 0.0939\n",
      "Epoch 99/500\n",
      "35/35 [==============================] - 0s 7ms/step - loss: 0.0878 - mae: 0.0965 - val_loss: 0.0854 - val_mae: 0.0889\n",
      "Epoch 100/500\n",
      "35/35 [==============================] - 0s 6ms/step - loss: 0.0872 - mae: 0.0950 - val_loss: 0.0853 - val_mae: 0.0879\n",
      "Epoch 101/500\n",
      "35/35 [==============================] - 0s 7ms/step - loss: 0.0866 - mae: 0.0948 - val_loss: 0.0855 - val_mae: 0.0909\n",
      "Epoch 102/500\n",
      "35/35 [==============================] - 0s 8ms/step - loss: 0.0873 - mae: 0.0943 - val_loss: 0.0913 - val_mae: 0.1107\n",
      "Epoch 103/500\n",
      "35/35 [==============================] - 0s 8ms/step - loss: 0.0879 - mae: 0.0995 - val_loss: 0.0881 - val_mae: 0.1022\n",
      "Epoch 104/500\n",
      "35/35 [==============================] - 0s 7ms/step - loss: 0.0883 - mae: 0.1025 - val_loss: 0.0908 - val_mae: 0.1155\n",
      "Epoch 105/500\n",
      "35/35 [==============================] - 0s 6ms/step - loss: 0.0905 - mae: 0.1062 - val_loss: 0.0847 - val_mae: 0.0858\n",
      "Epoch 106/500\n",
      "30/35 [========================>.....] - ETA: 0s - loss: 0.0884 - mae: 0.1021Restoring model weights from the end of the best epoch: 101.\n",
      "35/35 [==============================] - 0s 7ms/step - loss: 0.0880 - mae: 0.1016 - val_loss: 0.0848 - val_mae: 0.0962\n",
      "Epoch 106: early stopping\n"
     ]
    }
   ],
   "source": [
    "\n",
    "\n",
    "# Netzwerkarchitektur\n",
    "model = Sequential([\n",
    "    # Eingabeschicht\n",
    "    Dense(448, activation='relu', input_shape=(2,), kernel_initializer='he_uniform', kernel_regularizer=l2(0.01)),\n",
    "    #Dropout(0.01),\n",
    "    # Versteckte Schicht\n",
    "    Dense(384, activation='relu', kernel_initializer='he_uniform', kernel_regularizer=l2(0.01)),\n",
    "    Dense(96, activation='relu', kernel_initializer='he_uniform', kernel_regularizer=l2(0.01)),\n",
    "    Dense(128, activation='relu', kernel_initializer='he_uniform', kernel_regularizer=l2(0.01)),\n",
    "    Dense(320, activation='relu', kernel_initializer='he_uniform', kernel_regularizer=l2(0.01)),\n",
    "    Dense(416, activation='relu', kernel_initializer='he_uniform', kernel_regularizer=l2(0.01)),\n",
    "    Dense(416, activation='relu', kernel_initializer='he_uniform', kernel_regularizer=l2(0.01)),\n",
    "    Dense(256, activation='relu', kernel_initializer='he_uniform', kernel_regularizer=l2(0.01)),\n",
    "    #Dropout(0.01),\n",
    "    # Ausgabeschicht für Regression (1 Einheit ohne Aktivierungsfunktion)\n",
    "    Dense(1 , activation = 'linear')\n",
    "])\n",
    "\n",
    "# Optimierer\n",
    "optimizer = tf.keras.optimizers.Adam(learning_rate=0.001)\n",
    "\n",
    "# Modell kompilieren (Verwendung von mean_squared_error als Verlustfunktion für Regression)\n",
    "model.compile(optimizer=optimizer,\n",
    "              loss='mean_squared_error',\n",
    "              metrics=['mae'])  # Metriken für Regression: Mean Absolute Error und Mean Squared Error\n",
    "\n",
    "# Early Stopping Callback\n",
    "early_stopping = EarlyStopping(monitor='loss', patience=5, verbose=1, mode='min', restore_best_weights=True)\n",
    "\n",
    "# Trainingsparameter\n",
    "batch_size = 20\n",
    "epochs = 500\n",
    "\n",
    "# Modell trainieren (Annahme: X_train, y_train, X_val, y_val sind vordefiniert)\n",
    "history = model.fit(X_train_scaled, y_train_scaled,\n",
    "                    batch_size=batch_size,\n",
    "                    epochs=epochs,\n",
    "                    validation_split=0.2,\n",
    "                    callbacks=[early_stopping])"
   ],
   "metadata": {
    "collapsed": false,
    "ExecuteTime": {
     "end_time": "2024-02-28T13:02:56.628674600Z",
     "start_time": "2024-02-28T13:02:33.696957200Z"
    }
   },
   "id": "8b52e1a9a6ff3aeb"
  },
  {
   "cell_type": "code",
   "execution_count": 20,
   "outputs": [
    {
     "data": {
      "text/plain": "<Figure size 1000x600 with 1 Axes>",
      "image/png": "[encoded data removed]"
     },
     "metadata": {},
     "output_type": "display_data"
    }
   ],
   "source": [
    "mae = history.history['loss']\n",
    "val_mae = history.history['val_loss']\n",
    "\n",
    "epochs = range(1, len(mae) + 1)\n",
    "\n",
    "# MAE Diagramm\n",
    "plt.figure(figsize=(10, 6))\n",
    "plt.plot(epochs, mae, 'r', label='Training MSE')\n",
    "plt.plot(epochs, val_mae, 'b', label='Validation MSE')\n",
    "plt.title('Training and Validation MAE')\n",
    "plt.xlabel('Epochs')\n",
    "plt.ylabel('MAE')\n",
    "plt.legend()\n",
    "\n",
    "plt.show()"
   ],
   "metadata": {
    "collapsed": false,
    "ExecuteTime": {
     "end_time": "2024-02-28T13:04:21.003622500Z",
     "start_time": "2024-02-28T13:04:20.890347500Z"
    }
   },
   "id": "3688dd7102e95baf"
  },
  {
   "cell_type": "code",
   "execution_count": 21,
   "id": "9f6f672a",
   "metadata": {
    "ExecuteTime": {
     "end_time": "2024-02-28T13:04:25.236875700Z",
     "start_time": "2024-02-28T13:04:25.104779200Z"
    }
   },
   "outputs": [
    {
     "name": "stdout",
     "output_type": "stream",
     "text": [
      " Bsp. Predicted: [731.44324] Actual: [779.1] \n",
      "Durchschnittliche Abweichung (MAE): [41.71629408]\n"
     ]
    }
   ],
   "source": [
    "scaled_predicted_values = model.predict(X_test_scaled, verbose = 0)\n",
    "\n",
    "# Führen Sie die Rücktransformation der skalierten Werte durch\n",
    "original_predicted_values = scaler_target.inverse_transform(scaled_predicted_values)\n",
    "original_actual_values = scaler_target.inverse_transform(y_test_scaled)  # y_test sind die skalierten tatsächlichen Werte\n",
    "print(f' Bsp. Predicted: {original_predicted_values[100]} Actual: {original_actual_values[100]} ')\n",
    "\n",
    "def calculate_mae(list1, list2):\n",
    "    # Stelle sicher, dass beide Listen die gleiche Länge haben\n",
    "    if len(list1) != len(list2):\n",
    "        raise ValueError(\"Listen müssen die gleiche Länge haben\")\n",
    "    \n",
    "    # Berechne die absolute Differenz zwischen den Elementen der Listen\n",
    "    differences = [abs(x - y) for x, y in zip(list1, list2)]\n",
    "    \n",
    "    # Berechne den Durchschnitt der absoluten Differenzen\n",
    "    mae = sum(differences) / len(differences)\n",
    "    \n",
    "    return mae\n",
    "\n",
    "# Beispiel\n",
    "list1 = original_predicted_values\n",
    "list2 = original_actual_values\n",
    "\n",
    "mae = calculate_mae(list1, list2)\n",
    "print(f\"Durchschnittliche Abweichung (MAE): {mae}\")"
   ]
  },
  {
   "cell_type": "markdown",
   "id": "553df6fa",
   "metadata": {},
   "source": [
    "# GridSearch"
   ]
  },
  {
   "cell_type": "code",
   "execution_count": 13,
   "outputs": [
    {
     "name": "stdout",
     "output_type": "stream",
     "text": [
      "Fitting 3 folds for each of 72 candidates, totalling 216 fits\n",
      "WARNING:tensorflow:From C:\\Users\\erikm\\Desktop\\Diplomarbeit Erik Marr\\Projekt X\\venv\\Lib\\site-packages\\keras\\src\\backend.py:873: The name tf.get_default_graph is deprecated. Please use tf.compat.v1.get_default_graph instead.\n",
      "Epoch 1/30\n",
      "WARNING:tensorflow:From C:\\Users\\erikm\\Desktop\\Diplomarbeit Erik Marr\\Projekt X\\venv\\Lib\\site-packages\\keras\\src\\utils\\tf_utils.py:492: The name tf.ragged.RaggedTensorValue is deprecated. Please use tf.compat.v1.ragged.RaggedTensorValue instead.\n",
      "WARNING:tensorflow:From C:\\Users\\erikm\\Desktop\\Diplomarbeit Erik Marr\\Projekt X\\venv\\Lib\\site-packages\\keras\\src\\engine\\base_layer_utils.py:384: The name tf.executing_eagerly_outside_functions is deprecated. Please use tf.compat.v1.executing_eagerly_outside_functions instead.\n",
      "18/18 - 2s - loss: 1.1954 - mae: 0.5272 - 2s/epoch - 101ms/step\n",
      "Epoch 2/30\n",
      "18/18 - 0s - loss: 0.5568 - mae: 0.3038 - 108ms/epoch - 6ms/step\n",
      "Epoch 3/30\n",
      "18/18 - 0s - loss: 0.4845 - mae: 0.2602 - 100ms/epoch - 6ms/step\n",
      "Epoch 4/30\n",
      "18/18 - 0s - loss: 0.4201 - mae: 0.1973 - 101ms/epoch - 6ms/step\n",
      "Epoch 5/30\n",
      "18/18 - 0s - loss: 0.3948 - mae: 0.1762 - 105ms/epoch - 6ms/step\n",
      "Epoch 6/30\n",
      "18/18 - 0s - loss: 0.3778 - mae: 0.1606 - 103ms/epoch - 6ms/step\n",
      "Epoch 7/30\n",
      "18/18 - 0s - loss: 0.3408 - mae: 0.1054 - 102ms/epoch - 6ms/step\n",
      "Epoch 8/30\n",
      "18/18 - 0s - loss: 0.3307 - mae: 0.0793 - 114ms/epoch - 6ms/step\n",
      "Epoch 9/30\n",
      "18/18 - 0s - loss: 0.3190 - mae: 0.0613 - 109ms/epoch - 6ms/step\n",
      "Epoch 10/30\n",
      "18/18 - 0s - loss: 0.3114 - mae: 0.0484 - 114ms/epoch - 6ms/step\n",
      "Epoch 11/30\n",
      "18/18 - 0s - loss: 0.3086 - mae: 0.0533 - 112ms/epoch - 6ms/step\n",
      "Epoch 12/30\n",
      "18/18 - 0s - loss: 0.3010 - mae: 0.0347 - 111ms/epoch - 6ms/step\n",
      "Epoch 13/30\n",
      "18/18 - 0s - loss: 0.2989 - mae: 0.0408 - 107ms/epoch - 6ms/step\n",
      "Epoch 14/30\n",
      "18/18 - 0s - loss: 0.2930 - mae: 0.0260 - 110ms/epoch - 6ms/step\n",
      "Epoch 15/30\n",
      "18/18 - 0s - loss: 0.2950 - mae: 0.0528 - 117ms/epoch - 6ms/step\n",
      "Epoch 16/30\n",
      "18/18 - 0s - loss: 0.2871 - mae: 0.0279 - 108ms/epoch - 6ms/step\n",
      "Epoch 17/30\n",
      "18/18 - 0s - loss: 0.2886 - mae: 0.0516 - 110ms/epoch - 6ms/step\n",
      "Epoch 18/30\n",
      "18/18 - 0s - loss: 0.2828 - mae: 0.0368 - 105ms/epoch - 6ms/step\n",
      "Epoch 19/30\n",
      "18/18 - 0s - loss: 0.2801 - mae: 0.0358 - 102ms/epoch - 6ms/step\n",
      "Epoch 20/30\n",
      "18/18 - 0s - loss: 0.2784 - mae: 0.0398 - 104ms/epoch - 6ms/step\n",
      "Epoch 21/30\n",
      "18/18 - 0s - loss: 0.2784 - mae: 0.0532 - 105ms/epoch - 6ms/step\n",
      "Epoch 22/30\n",
      "18/18 - 0s - loss: 0.2711 - mae: 0.0288 - 98ms/epoch - 5ms/step\n",
      "Epoch 23/30\n",
      "18/18 - 0s - loss: 0.2694 - mae: 0.0310 - 94ms/epoch - 5ms/step\n",
      "Epoch 24/30\n",
      "18/18 - 0s - loss: 0.2657 - mae: 0.0210 - 102ms/epoch - 6ms/step\n",
      "Epoch 25/30\n",
      "18/18 - 0s - loss: 0.2653 - mae: 0.0346 - 93ms/epoch - 5ms/step\n",
      "Epoch 26/30\n",
      "18/18 - 0s - loss: 0.2637 - mae: 0.0382 - 101ms/epoch - 6ms/step\n",
      "Epoch 27/30\n",
      "18/18 - 0s - loss: 0.2614 - mae: 0.0376 - 95ms/epoch - 5ms/step\n",
      "Epoch 28/30\n",
      "18/18 - 0s - loss: 0.2583 - mae: 0.0332 - 95ms/epoch - 5ms/step\n",
      "Epoch 29/30\n",
      "18/18 - 0s - loss: 0.2552 - mae: 0.0248 - 109ms/epoch - 6ms/step\n",
      "Epoch 30/30\n",
      "18/18 - 0s - loss: 0.2540 - mae: 0.0337 - 98ms/epoch - 5ms/step\n",
      "Beste Parameter: {'fit__batch_size': 50, 'fit__epochs': 30, 'model__dropout_rate': 0.0, 'model__learning_rate': 0.001, 'model__regularization': 0.0001}\n",
      "Beste Genauigkeit: 0.9875191801291772\n"
     ]
    }
   ],
   "source": [
    "def build_model(learning_rate=0.001, activation='relu', regularization=0.0001, dropout_rate=0.0):\n",
    "    model = Sequential()\n",
    "    model.add(Dense(448, activation=activation, input_shape=(2,), kernel_initializer='he_uniform', kernel_regularizer=l2(regularization)))\n",
    "    model.add(Dropout(dropout_rate))\n",
    "\n",
    "    model.add(Dense(384, activation=activation, kernel_initializer='he_uniform', kernel_regularizer=l2(regularization)))\n",
    "    model.add(Dropout(dropout_rate))\n",
    "\n",
    "    model.add(Dense(96, activation=activation, kernel_initializer='he_uniform', kernel_regularizer=l2(regularization)))\n",
    "    model.add(Dropout(dropout_rate))\n",
    "\n",
    "    model.add(Dense(128, activation=activation, kernel_initializer='he_uniform', kernel_regularizer=l2(regularization)))\n",
    "    model.add(Dropout(dropout_rate))\n",
    "\n",
    "    model.add(Dense(320, activation=activation, kernel_initializer='he_uniform', kernel_regularizer=l2(regularization)))\n",
    "    model.add(Dropout(dropout_rate))\n",
    "\n",
    "    model.add(Dense(416, activation=activation, kernel_initializer='he_uniform', kernel_regularizer=l2(regularization)))\n",
    "    model.add(Dropout(dropout_rate))\n",
    "    \n",
    "    model.add(Dense(416, activation=activation, kernel_initializer='he_uniform', kernel_regularizer=l2(regularization)))\n",
    "    model.add(Dropout(dropout_rate))\n",
    "    \n",
    "    model.add(Dense(256, activation=activation, kernel_initializer='he_uniform', kernel_regularizer=l2(regularization)))\n",
    "    model.add(Dropout(dropout_rate))    \n",
    "    \n",
    "    model.add(Dense(1, activation='linear'))\n",
    "    model.compile(optimizer=Adam(learning_rate=learning_rate), loss='mean_squared_error', metrics=['mae'])\n",
    "    return model\n",
    "\n",
    "# Verwenden Sie eine Funktion, um das Modell zu instanziieren, für scikit-learn Wrapper\n",
    "model = KerasRegressor(model=build_model, verbose=2)\n",
    "\n",
    "# Anpassung der Parameter im param_grid\n",
    "param_grid = {\n",
    "    'model__learning_rate': [0.01, 0.001, 0.0001],\n",
    "    'model__regularization': [0.001, 0.0001],\n",
    "    'fit__batch_size': [50, 100, 200, 500],\n",
    "    'fit__epochs': [30],\n",
    "    'model__dropout_rate' : [0.0, 0.1, 0.2]\n",
    "}\n",
    "\n",
    "grid_search = GridSearchCV(estimator=model, param_grid=param_grid, n_jobs=-1, cv=3, verbose=2)\n",
    "# Hinweis: Stellen Sie sicher, dass Ihre Daten (X_train_scaled, y_train_scaled) korrekt definiert sind\n",
    "grid_result = grid_search.fit(X_train_scaled, y_train_scaled)\n",
    "# Beste Parameter und Score ausgeben\n",
    "print(\"Beste Parameter:\", grid_search.best_params_)\n",
    "print(\"Beste Genauigkeit:\", grid_search.best_score_)\n",
    "\n",
    "with open(\"Gridsearch_D2.txt\", \"w\") as f:\n",
    "    f.write(f\"Beste Parameter: {grid_search.best_params_}\\n\")\n",
    "    f.write(f\"Beste Genauigkeit: {grid_search.best_score_}\")\n"
   ],
   "metadata": {
    "collapsed": false,
    "ExecuteTime": {
     "end_time": "2024-02-28T12:58:33.619547200Z",
     "start_time": "2024-02-28T12:46:51.217406200Z"
    }
   },
   "id": "7464a951f44a07ee"
  },
  {
   "cell_type": "code",
   "execution_count": 18,
   "id": "492cf0ed",
   "metadata": {},
   "outputs": [
    {
     "name": "stdout",
     "output_type": "stream",
     "text": [
      "Trial 100 Complete [00h 00m 23s]\n",
      "val_loss: 0.0003458007122389972\n",
      "\n",
      "Best val_loss So Far: 3.887327329721302e-05\n",
      "Total elapsed time: 00h 31m 11s\n",
      "WARNING:tensorflow:Detecting that an object or model or tf.train.Checkpoint is being deleted with unrestored values. See the following logs for the specific values in question. To silence these warnings, use `status.expect_partial()`. See https://www.tensorflow.org/api_docs/python/tf/train/Checkpoint#restorefor details about the status object returned by the restore function.\n",
      "WARNING:tensorflow:Value in checkpoint could not be found in the restored object: (root).optimizer._variables.1\n",
      "WARNING:tensorflow:Value in checkpoint could not be found in the restored object: (root).optimizer._variables.2\n",
      "WARNING:tensorflow:Value in checkpoint could not be found in the restored object: (root).optimizer._variables.3\n",
      "WARNING:tensorflow:Value in checkpoint could not be found in the restored object: (root).optimizer._variables.4\n",
      "WARNING:tensorflow:Value in checkpoint could not be found in the restored object: (root).optimizer._variables.5\n",
      "WARNING:tensorflow:Value in checkpoint could not be found in the restored object: (root).optimizer._variables.6\n",
      "WARNING:tensorflow:Value in checkpoint could not be found in the restored object: (root).optimizer._variables.7\n",
      "WARNING:tensorflow:Value in checkpoint could not be found in the restored object: (root).optimizer._variables.8\n",
      "WARNING:tensorflow:Value in checkpoint could not be found in the restored object: (root).optimizer._variables.9\n",
      "WARNING:tensorflow:Value in checkpoint could not be found in the restored object: (root).optimizer._variables.10\n",
      "WARNING:tensorflow:Value in checkpoint could not be found in the restored object: (root).optimizer._variables.11\n",
      "WARNING:tensorflow:Value in checkpoint could not be found in the restored object: (root).optimizer._variables.12\n",
      "WARNING:tensorflow:Value in checkpoint could not be found in the restored object: (root).optimizer._variables.13\n",
      "WARNING:tensorflow:Value in checkpoint could not be found in the restored object: (root).optimizer._variables.14\n",
      "WARNING:tensorflow:Value in checkpoint could not be found in the restored object: (root).optimizer._variables.15\n",
      "WARNING:tensorflow:Value in checkpoint could not be found in the restored object: (root).optimizer._variables.16\n",
      "WARNING:tensorflow:Value in checkpoint could not be found in the restored object: (root).optimizer._variables.17\n",
      "WARNING:tensorflow:Value in checkpoint could not be found in the restored object: (root).optimizer._variables.18\n",
      "WARNING:tensorflow:Value in checkpoint could not be found in the restored object: (root).optimizer._variables.19\n",
      "WARNING:tensorflow:Value in checkpoint could not be found in the restored object: (root).optimizer._variables.20\n",
      "WARNING:tensorflow:Value in checkpoint could not be found in the restored object: (root).optimizer._variables.21\n",
      "WARNING:tensorflow:Value in checkpoint could not be found in the restored object: (root).optimizer._variables.22\n",
      "WARNING:tensorflow:Value in checkpoint could not be found in the restored object: (root).optimizer._variables.23\n",
      "WARNING:tensorflow:Value in checkpoint could not be found in the restored object: (root).optimizer._variables.24\n",
      "WARNING:tensorflow:Value in checkpoint could not be found in the restored object: (root).optimizer._variables.25\n",
      "WARNING:tensorflow:Value in checkpoint could not be found in the restored object: (root).optimizer._variables.26\n",
      "WARNING:tensorflow:Value in checkpoint could not be found in the restored object: (root).optimizer._variables.27\n",
      "WARNING:tensorflow:Value in checkpoint could not be found in the restored object: (root).optimizer._variables.28\n",
      "WARNING:tensorflow:Value in checkpoint could not be found in the restored object: (root).optimizer._variables.29\n",
      "WARNING:tensorflow:Value in checkpoint could not be found in the restored object: (root).optimizer._variables.30\n",
      "WARNING:tensorflow:Value in checkpoint could not be found in the restored object: (root).optimizer._variables.31\n",
      "WARNING:tensorflow:Value in checkpoint could not be found in the restored object: (root).optimizer._variables.32\n",
      "Model: \"sequential\"\n",
      "_________________________________________________________________\n",
      " Layer (type)                Output Shape              Param #   \n",
      "=================================================================\n",
      " dense (Dense)               (None, 448)               1344      \n",
      "                                                                 \n",
      " dense_1 (Dense)             (None, 384)               172416    \n",
      "                                                                 \n",
      " dense_2 (Dense)             (None, 96)                36960     \n",
      "                                                                 \n",
      " dense_3 (Dense)             (None, 128)               12416     \n",
      "                                                                 \n",
      " dense_4 (Dense)             (None, 320)               41280     \n",
      "                                                                 \n",
      " dense_5 (Dense)             (None, 416)               133536    \n",
      "                                                                 \n",
      " dense_6 (Dense)             (None, 416)               173472    \n",
      "                                                                 \n",
      " dense_7 (Dense)             (None, 256)               106752    \n",
      "                                                                 \n",
      " dense_8 (Dense)             (None, 1)                 257       \n",
      "                                                                 \n",
      "=================================================================\n",
      "Total params: 678433 (2.59 MB)\n",
      "Trainable params: 678433 (2.59 MB)\n",
      "Non-trainable params: 0 (0.00 Byte)\n",
      "_________________________________________________________________\n",
      "{'input_units': 448, 'n_layers': 7, 'units_0': 384, 'units_1': 96, 'units_2': 128, 'units_3': 320, 'units_4': 416, 'units_5': 416, 'units_6': 256, 'units_7': 192, 'units_8': 32, 'units_9': 32}\n"
     ]
    }
   ],
   "source": [
    "from keras_tuner import RandomSearch\n",
    "\n",
    "# Definieren der Funktion, die das Modell erstellt\n",
    "def build_model(hp):\n",
    "    model = Sequential()\n",
    "    model.add(Dense(hp.Int('input_units', min_value=32, max_value=512, step=32), input_shape=(2,), activation='relu'))\n",
    "    # Hinzufügen von Schichten basierend auf dem Suchraum\n",
    "    for i in range(hp.Int('n_layers', 1, 10)):\n",
    "        model.add(Dense(hp.Int(f'units_{i}', min_value=32, max_value=512, step=32), activation='relu'))\n",
    "    model.add(Dense(1, activation='linear'))\n",
    "    model.compile(optimizer='adam', loss='mean_squared_error')\n",
    "    return model\n",
    "\n",
    "# Erstellen des RandomSearch Objekts\n",
    "tuner = RandomSearch(\n",
    "    build_model,\n",
    "    objective='val_loss',\n",
    "    max_trials=100,  # Anzahl der zu testenden Modellkonfigurationen\n",
    "    executions_per_trial=1,  # Anzahl der Male, die jede Modellkonfiguration trainiert wird\n",
    "    directory='random_search',  # Verzeichnis zur Speicherung der Suchlogs\n",
    "    project_name='neural_network_optimization_D4'\n",
    ")\n",
    "\n",
    "# Durchführung des Random Search\n",
    "tuner.search(X_train_scaled, y_train_scaled, epochs=20, batch_size=50, validation_split=0.2, callbacks=[EarlyStopping(monitor='val_loss', patience=5)])\n",
    "\n",
    "# Abrufen des besten Modells\n",
    "best_model = tuner.get_best_models(num_models=1)[0]\n",
    "\n",
    "# Zusammenfassung des besten Modells\n",
    "best_model.summary()\n",
    "\n",
    "# Sie können auch die besten Hyperparameter direkt abrufen\n",
    "best_hyperparameters = tuner.get_best_hyperparameters()[0]\n",
    "print(best_hyperparameters.values)\n"
   ]
  },
  {
   "cell_type": "code",
   "execution_count": 17,
   "outputs": [],
   "source": [],
   "metadata": {
    "collapsed": false,
    "ExecuteTime": {
     "end_time": "2024-02-21T15:39:28.307586200Z",
     "start_time": "2024-02-21T15:39:28.291945300Z"
    }
   },
   "id": "d0f02feb42b652f5"
  }
 ],
 "metadata": {
  "kernelspec": {
   "display_name": "Python 3 (ipykernel)",
   "language": "python",
   "name": "python3"
  },
  "language_info": {
   "codemirror_mode": {
    "name": "ipython",
    "version": 3
   },
   "file_extension": ".py",
   "mimetype": "text/x-python",
   "name": "python",
   "nbconvert_exporter": "python",
   "pygments_lexer": "ipython3",
   "version": "3.11.4"
  }
 },
 "nbformat": 4,
 "nbformat_minor": 5
}
