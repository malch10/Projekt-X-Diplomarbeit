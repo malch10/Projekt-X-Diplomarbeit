{
 "cells": [
  {
   "cell_type": "code",
   "execution_count": 1,
   "id": "94b0518e",
   "metadata": {
    "ExecuteTime": {
     "end_time": "2024-02-08T17:40:09.392657900Z",
     "start_time": "2024-02-08T17:40:03.709958Z"
    }
   },
   "outputs": [
    {
     "name": "stdout",
     "output_type": "stream",
     "text": [
      "WARNING:tensorflow:From C:\\Users\\erikm\\Desktop\\Diplomarbeit Erik Marr\\Projekt X\\venv\\Lib\\site-packages\\keras\\src\\losses.py:2976: The name tf.losses.sparse_softmax_cross_entropy is deprecated. Please use tf.compat.v1.losses.sparse_softmax_cross_entropy instead.\n"
     ]
    }
   ],
   "source": [
    "import numpy as np\n",
    "import tensorflow as tf\n",
    "import matplotlib.pyplot as plt\n",
    "import pandas as pd\n",
    "from tensorflow import keras\n",
    "from tensorflow.keras.models import Sequential\n",
    "from tensorflow.keras.layers import Dense\n",
    "from sklearn.model_selection import train_test_split\n",
    "from tensorflow.keras import layers\n",
    "import glob\n",
    "\n",
    "from sklearn.preprocessing import MinMaxScaler, StandardScaler\n",
    "import pandas as pd\n",
    "\n",
    "from tensorflow.keras.models import Sequential\n",
    "from tensorflow.keras.layers import Dense , Dropout\n",
    "from sklearn.model_selection import GridSearchCV\n",
    "from scikeras.wrappers import KerasRegressor, KerasClassifier\n",
    "from tensorflow.keras.regularizers import l2\n",
    "from tensorflow.keras.callbacks import EarlyStopping\n",
    "from tensorflow.keras.optimizers import Adam\n"
   ]
  },
  {
   "cell_type": "code",
   "execution_count": 2,
   "id": "e4ff61b1",
   "metadata": {
    "ExecuteTime": {
     "end_time": "2024-02-08T17:40:11.232828900Z",
     "start_time": "2024-02-08T17:40:11.204692100Z"
    }
   },
   "outputs": [
    {
     "data": {
      "text/plain": "      X-Koordinate  Y-Koordinate  Zeitpunkt  Strom  Kraft  Temperatur\n0            0.000      -0.00200        300   7000   9000      532.25\n1            0.000      -0.00196        300   7000   9000      549.09\n2            0.000      -0.00192        300   7000   9000      565.57\n3            0.000      -0.00188        300   7000   9000      581.72\n4            0.000      -0.00184        300   7000   9000      597.71\n...            ...           ...        ...    ...    ...         ...\n7663         0.003       0.00180        300   7000   9000      653.01\n7664         0.003       0.00184        300   7000   9000      653.11\n7665         0.003       0.00188        300   7000   9000      653.16\n7666         0.003       0.00196        300   7000   9000      422.17\n7667         0.003       0.00200        300   7000   9000      421.60\n\n[7668 rows x 6 columns]",
      "text/html": "<div>\n<style scoped>\n    .dataframe tbody tr th:only-of-type {\n        vertical-align: middle;\n    }\n\n    .dataframe tbody tr th {\n        vertical-align: top;\n    }\n\n    .dataframe thead th {\n        text-align: right;\n    }\n</style>\n<table border=\"1\" class=\"dataframe\">\n  <thead>\n    <tr style=\"text-align: right;\">\n      <th></th>\n      <th>X-Koordinate</th>\n      <th>Y-Koordinate</th>\n      <th>Zeitpunkt</th>\n      <th>Strom</th>\n      <th>Kraft</th>\n      <th>Temperatur</th>\n    </tr>\n  </thead>\n  <tbody>\n    <tr>\n      <th>0</th>\n      <td>0.000</td>\n      <td>-0.00200</td>\n      <td>300</td>\n      <td>7000</td>\n      <td>9000</td>\n      <td>532.25</td>\n    </tr>\n    <tr>\n      <th>1</th>\n      <td>0.000</td>\n      <td>-0.00196</td>\n      <td>300</td>\n      <td>7000</td>\n      <td>9000</td>\n      <td>549.09</td>\n    </tr>\n    <tr>\n      <th>2</th>\n      <td>0.000</td>\n      <td>-0.00192</td>\n      <td>300</td>\n      <td>7000</td>\n      <td>9000</td>\n      <td>565.57</td>\n    </tr>\n    <tr>\n      <th>3</th>\n      <td>0.000</td>\n      <td>-0.00188</td>\n      <td>300</td>\n      <td>7000</td>\n      <td>9000</td>\n      <td>581.72</td>\n    </tr>\n    <tr>\n      <th>4</th>\n      <td>0.000</td>\n      <td>-0.00184</td>\n      <td>300</td>\n      <td>7000</td>\n      <td>9000</td>\n      <td>597.71</td>\n    </tr>\n    <tr>\n      <th>...</th>\n      <td>...</td>\n      <td>...</td>\n      <td>...</td>\n      <td>...</td>\n      <td>...</td>\n      <td>...</td>\n    </tr>\n    <tr>\n      <th>7663</th>\n      <td>0.003</td>\n      <td>0.00180</td>\n      <td>300</td>\n      <td>7000</td>\n      <td>9000</td>\n      <td>653.01</td>\n    </tr>\n    <tr>\n      <th>7664</th>\n      <td>0.003</td>\n      <td>0.00184</td>\n      <td>300</td>\n      <td>7000</td>\n      <td>9000</td>\n      <td>653.11</td>\n    </tr>\n    <tr>\n      <th>7665</th>\n      <td>0.003</td>\n      <td>0.00188</td>\n      <td>300</td>\n      <td>7000</td>\n      <td>9000</td>\n      <td>653.16</td>\n    </tr>\n    <tr>\n      <th>7666</th>\n      <td>0.003</td>\n      <td>0.00196</td>\n      <td>300</td>\n      <td>7000</td>\n      <td>9000</td>\n      <td>422.17</td>\n    </tr>\n    <tr>\n      <th>7667</th>\n      <td>0.003</td>\n      <td>0.00200</td>\n      <td>300</td>\n      <td>7000</td>\n      <td>9000</td>\n      <td>421.60</td>\n    </tr>\n  </tbody>\n</table>\n<p>7668 rows × 6 columns</p>\n</div>"
     },
     "execution_count": 2,
     "metadata": {},
     "output_type": "execute_result"
    }
   ],
   "source": [
    "#data = pd.read_pickle('C:/Users/erikm/Desktop/Diplomarbeit Erik Marr/Daten/Finish/TPath_300_finish_data.pkl')\n",
    "data = pd.read_pickle('C:/Users/erikm/Desktop/Diplomarbeit Erik Marr/Daten/Finish_D3_I7000_F9000/TPath_300_finish_data_D3.pkl')\n",
    "\n",
    "data"
   ]
  },
  {
   "cell_type": "code",
   "execution_count": 3,
   "id": "966e3c74",
   "metadata": {
    "ExecuteTime": {
     "end_time": "2024-02-08T17:40:11.893208600Z",
     "start_time": "2024-02-08T17:40:11.848423400Z"
    }
   },
   "outputs": [
    {
     "data": {
      "text/plain": "      X-Koordinate  Y-Koordinate  Temperatur\n0            0.000      -0.00200      532.25\n1            0.000      -0.00196      549.09\n2            0.000      -0.00192      565.57\n3            0.000      -0.00188      581.72\n4            0.000      -0.00184      597.71\n...            ...           ...         ...\n7663         0.003       0.00180      653.01\n7664         0.003       0.00184      653.11\n7665         0.003       0.00188      653.16\n7666         0.003       0.00196      422.17\n7667         0.003       0.00200      421.60\n\n[7668 rows x 3 columns]",
      "text/html": "<div>\n<style scoped>\n    .dataframe tbody tr th:only-of-type {\n        vertical-align: middle;\n    }\n\n    .dataframe tbody tr th {\n        vertical-align: top;\n    }\n\n    .dataframe thead th {\n        text-align: right;\n    }\n</style>\n<table border=\"1\" class=\"dataframe\">\n  <thead>\n    <tr style=\"text-align: right;\">\n      <th></th>\n      <th>X-Koordinate</th>\n      <th>Y-Koordinate</th>\n      <th>Temperatur</th>\n    </tr>\n  </thead>\n  <tbody>\n    <tr>\n      <th>0</th>\n      <td>0.000</td>\n      <td>-0.00200</td>\n      <td>532.25</td>\n    </tr>\n    <tr>\n      <th>1</th>\n      <td>0.000</td>\n      <td>-0.00196</td>\n      <td>549.09</td>\n    </tr>\n    <tr>\n      <th>2</th>\n      <td>0.000</td>\n      <td>-0.00192</td>\n      <td>565.57</td>\n    </tr>\n    <tr>\n      <th>3</th>\n      <td>0.000</td>\n      <td>-0.00188</td>\n      <td>581.72</td>\n    </tr>\n    <tr>\n      <th>4</th>\n      <td>0.000</td>\n      <td>-0.00184</td>\n      <td>597.71</td>\n    </tr>\n    <tr>\n      <th>...</th>\n      <td>...</td>\n      <td>...</td>\n      <td>...</td>\n    </tr>\n    <tr>\n      <th>7663</th>\n      <td>0.003</td>\n      <td>0.00180</td>\n      <td>653.01</td>\n    </tr>\n    <tr>\n      <th>7664</th>\n      <td>0.003</td>\n      <td>0.00184</td>\n      <td>653.11</td>\n    </tr>\n    <tr>\n      <th>7665</th>\n      <td>0.003</td>\n      <td>0.00188</td>\n      <td>653.16</td>\n    </tr>\n    <tr>\n      <th>7666</th>\n      <td>0.003</td>\n      <td>0.00196</td>\n      <td>422.17</td>\n    </tr>\n    <tr>\n      <th>7667</th>\n      <td>0.003</td>\n      <td>0.00200</td>\n      <td>421.60</td>\n    </tr>\n  </tbody>\n</table>\n<p>7668 rows × 3 columns</p>\n</div>"
     },
     "execution_count": 3,
     "metadata": {},
     "output_type": "execute_result"
    }
   ],
   "source": [
    "df = data.drop(data.columns[2:5], axis = 1)\n",
    "df"
   ]
  },
  {
   "cell_type": "code",
   "execution_count": 4,
   "id": "8783d1d6",
   "metadata": {
    "ExecuteTime": {
     "end_time": "2024-02-08T17:40:12.582718900Z",
     "start_time": "2024-02-08T17:40:12.525103200Z"
    }
   },
   "outputs": [
    {
     "name": "stdout",
     "output_type": "stream",
     "text": [
      "      X-Koordinate  Y-Koordinate  Temperatur\n",
      "2029       0.00080      -0.00164      674.04\n",
      "2882       0.00112       0.00016      881.03\n",
      "2748       0.00108      -0.00116      804.41\n",
      "5559       0.00220      -0.00184      632.64\n",
      "1728       0.00068      -0.00156      700.73\n",
      "...            ...           ...         ...\n",
      "5226       0.00204       0.00100      769.47\n",
      "5390       0.00212      -0.00052      788.09\n",
      "860        0.00032       0.00008      909.37\n",
      "7603       0.00300      -0.00060      657.04\n",
      "7270       0.00288      -0.00192      672.51\n",
      "\n",
      "[7668 rows x 3 columns]\n"
     ]
    },
    {
     "data": {
      "text/plain": "      X-Koordinate  Y-Koordinate  Temperatur\n0          0.00080      -0.00164      674.04\n1          0.00112       0.00016      881.03\n2          0.00108      -0.00116      804.41\n3          0.00220      -0.00184      632.64\n4          0.00068      -0.00156      700.73\n...            ...           ...         ...\n7663       0.00204       0.00100      769.47\n7664       0.00212      -0.00052      788.09\n7665       0.00032       0.00008      909.37\n7666       0.00300      -0.00060      657.04\n7667       0.00288      -0.00192      672.51\n\n[7668 rows x 3 columns]",
      "text/html": "<div>\n<style scoped>\n    .dataframe tbody tr th:only-of-type {\n        vertical-align: middle;\n    }\n\n    .dataframe tbody tr th {\n        vertical-align: top;\n    }\n\n    .dataframe thead th {\n        text-align: right;\n    }\n</style>\n<table border=\"1\" class=\"dataframe\">\n  <thead>\n    <tr style=\"text-align: right;\">\n      <th></th>\n      <th>X-Koordinate</th>\n      <th>Y-Koordinate</th>\n      <th>Temperatur</th>\n    </tr>\n  </thead>\n  <tbody>\n    <tr>\n      <th>0</th>\n      <td>0.00080</td>\n      <td>-0.00164</td>\n      <td>674.04</td>\n    </tr>\n    <tr>\n      <th>1</th>\n      <td>0.00112</td>\n      <td>0.00016</td>\n      <td>881.03</td>\n    </tr>\n    <tr>\n      <th>2</th>\n      <td>0.00108</td>\n      <td>-0.00116</td>\n      <td>804.41</td>\n    </tr>\n    <tr>\n      <th>3</th>\n      <td>0.00220</td>\n      <td>-0.00184</td>\n      <td>632.64</td>\n    </tr>\n    <tr>\n      <th>4</th>\n      <td>0.00068</td>\n      <td>-0.00156</td>\n      <td>700.73</td>\n    </tr>\n    <tr>\n      <th>...</th>\n      <td>...</td>\n      <td>...</td>\n      <td>...</td>\n    </tr>\n    <tr>\n      <th>7663</th>\n      <td>0.00204</td>\n      <td>0.00100</td>\n      <td>769.47</td>\n    </tr>\n    <tr>\n      <th>7664</th>\n      <td>0.00212</td>\n      <td>-0.00052</td>\n      <td>788.09</td>\n    </tr>\n    <tr>\n      <th>7665</th>\n      <td>0.00032</td>\n      <td>0.00008</td>\n      <td>909.37</td>\n    </tr>\n    <tr>\n      <th>7666</th>\n      <td>0.00300</td>\n      <td>-0.00060</td>\n      <td>657.04</td>\n    </tr>\n    <tr>\n      <th>7667</th>\n      <td>0.00288</td>\n      <td>-0.00192</td>\n      <td>672.51</td>\n    </tr>\n  </tbody>\n</table>\n<p>7668 rows × 3 columns</p>\n</div>"
     },
     "execution_count": 4,
     "metadata": {},
     "output_type": "execute_result"
    }
   ],
   "source": [
    "df1 = df.sample(frac=1, random_state=42)  # Hier wird 42 als Random State verwendet, um die Ergebnisse reproduzierbar zu machen\n",
    "\n",
    "print(df1)\n",
    "df_reset = df1.reset_index(drop=True)\n",
    "df_reset"
   ]
  },
  {
   "cell_type": "code",
   "execution_count": 5,
   "id": "a4e72a16",
   "metadata": {
    "ExecuteTime": {
     "end_time": "2024-02-08T17:40:14.271997100Z",
     "start_time": "2024-02-08T17:40:14.252246400Z"
    }
   },
   "outputs": [],
   "source": [
    "label = df_reset[\"Temperatur\"]\n",
    "# Korrektur: Verwenden Sie den Spaltennamen direkt, ohne Indexierung der columns-Eigenschaft\n",
    "df1 = df_reset.drop(\"Temperatur\", axis=1)\n",
    "X = df1\n",
    "y = label\n"
   ]
  },
  {
   "cell_type": "markdown",
   "source": [],
   "metadata": {
    "collapsed": false
   },
   "id": "f7fa289a50d87423"
  },
  {
   "cell_type": "code",
   "execution_count": 6,
   "id": "e694a236",
   "metadata": {
    "ExecuteTime": {
     "end_time": "2024-02-08T17:40:15.336407100Z",
     "start_time": "2024-02-08T17:40:15.316161800Z"
    }
   },
   "outputs": [
    {
     "data": {
      "text/plain": "      X-Koordinate  Y-Koordinate\n0          0.00080      -0.00164\n1          0.00112       0.00016\n2          0.00108      -0.00116\n3          0.00220      -0.00184\n4          0.00068      -0.00156\n...            ...           ...\n7663       0.00204       0.00100\n7664       0.00212      -0.00052\n7665       0.00032       0.00008\n7666       0.00300      -0.00060\n7667       0.00288      -0.00192\n\n[7668 rows x 2 columns]",
      "text/html": "<div>\n<style scoped>\n    .dataframe tbody tr th:only-of-type {\n        vertical-align: middle;\n    }\n\n    .dataframe tbody tr th {\n        vertical-align: top;\n    }\n\n    .dataframe thead th {\n        text-align: right;\n    }\n</style>\n<table border=\"1\" class=\"dataframe\">\n  <thead>\n    <tr style=\"text-align: right;\">\n      <th></th>\n      <th>X-Koordinate</th>\n      <th>Y-Koordinate</th>\n    </tr>\n  </thead>\n  <tbody>\n    <tr>\n      <th>0</th>\n      <td>0.00080</td>\n      <td>-0.00164</td>\n    </tr>\n    <tr>\n      <th>1</th>\n      <td>0.00112</td>\n      <td>0.00016</td>\n    </tr>\n    <tr>\n      <th>2</th>\n      <td>0.00108</td>\n      <td>-0.00116</td>\n    </tr>\n    <tr>\n      <th>3</th>\n      <td>0.00220</td>\n      <td>-0.00184</td>\n    </tr>\n    <tr>\n      <th>4</th>\n      <td>0.00068</td>\n      <td>-0.00156</td>\n    </tr>\n    <tr>\n      <th>...</th>\n      <td>...</td>\n      <td>...</td>\n    </tr>\n    <tr>\n      <th>7663</th>\n      <td>0.00204</td>\n      <td>0.00100</td>\n    </tr>\n    <tr>\n      <th>7664</th>\n      <td>0.00212</td>\n      <td>-0.00052</td>\n    </tr>\n    <tr>\n      <th>7665</th>\n      <td>0.00032</td>\n      <td>0.00008</td>\n    </tr>\n    <tr>\n      <th>7666</th>\n      <td>0.00300</td>\n      <td>-0.00060</td>\n    </tr>\n    <tr>\n      <th>7667</th>\n      <td>0.00288</td>\n      <td>-0.00192</td>\n    </tr>\n  </tbody>\n</table>\n<p>7668 rows × 2 columns</p>\n</div>"
     },
     "execution_count": 6,
     "metadata": {},
     "output_type": "execute_result"
    }
   ],
   "source": [
    "X"
   ]
  },
  {
   "cell_type": "code",
   "execution_count": 7,
   "id": "3f3303b4",
   "metadata": {
    "ExecuteTime": {
     "end_time": "2024-02-08T17:40:16.434905300Z",
     "start_time": "2024-02-08T17:40:16.398584200Z"
    }
   },
   "outputs": [
    {
     "data": {
      "text/plain": "0       674.04\n1       881.03\n2       804.41\n3       632.64\n4       700.73\n         ...  \n7663    769.47\n7664    788.09\n7665    909.37\n7666    657.04\n7667    672.51\nName: Temperatur, Length: 7668, dtype: float64"
     },
     "execution_count": 7,
     "metadata": {},
     "output_type": "execute_result"
    }
   ],
   "source": [
    "y"
   ]
  },
  {
   "cell_type": "code",
   "execution_count": 8,
   "id": "e3ad8da0",
   "metadata": {
    "ExecuteTime": {
     "end_time": "2024-02-08T17:40:17.245783500Z",
     "start_time": "2024-02-08T17:40:17.224637600Z"
    }
   },
   "outputs": [],
   "source": [
    " # train_df enthält 80% der Daten, test_df enthält 20% der Daten\n",
    "X_train, X_test, y_train, y_test = train_test_split(X, y, test_size=0.20, random_state=42)\n"
   ]
  },
  {
   "cell_type": "code",
   "execution_count": 11,
   "id": "9c705edb",
   "metadata": {
    "ExecuteTime": {
     "end_time": "2024-02-08T17:41:31.196454700Z",
     "start_time": "2024-02-08T17:41:31.160964Z"
    }
   },
   "outputs": [],
   "source": [
    "# Initialisiere einen MinMaxScaler für die Features\n",
    "scaler_features = MinMaxScaler()\n",
    "scaler_features2 = MinMaxScaler()\n",
    "# Skaliere X_train und X_test\n",
    "X_train_scaled = scaler_features.fit_transform(X_train)\n",
    "X_test_scaled = scaler_features.transform(X_test)  # Nutze gleiche Skalierungsparameter ohne das X_Test Informationen einfließen\n",
    "\n",
    "# Initialisiere einen SEPARATEN MinMaxScaler für das Ziel, wenn nötig\n",
    "scaler_target = MinMaxScaler()\n",
    "\n",
    "\n",
    "# Skaliere y_train und y_test. Beachte, dass y_train.reshape(-1, 1) verwendet wird, da MinMaxScaler \n",
    "# erwartet, dass die Eingaben als 2D-Arrays kommen, und Ziele normalerweise als 1D-Arrays vorliegen.\n",
    "y_train_scaled = scaler_target.fit_transform(y_train.values.reshape(-1, 1))\n",
    "y_test_scaled = scaler_target.transform(y_test.values.reshape(-1, 1))\n"
   ]
  },
  {
   "cell_type": "code",
   "execution_count": 12,
   "id": "bbefe631e495b483",
   "metadata": {
    "ExecuteTime": {
     "end_time": "2024-02-08T17:41:31.712823100Z",
     "start_time": "2024-02-08T17:41:31.693587300Z"
    }
   },
   "outputs": [
    {
     "data": {
      "text/plain": "array([[0.41333333, 0.28      ],\n       [0.96      , 0.27      ],\n       [0.56      , 0.24      ],\n       ...,\n       [0.84      , 0.45      ],\n       [0.26666667, 0.41      ],\n       [0.72      , 0.57      ]])"
     },
     "execution_count": 12,
     "metadata": {},
     "output_type": "execute_result"
    }
   ],
   "source": [
    "X_train_scaled"
   ]
  },
  {
   "cell_type": "code",
   "execution_count": 13,
   "outputs": [
    {
     "data": {
      "text/plain": "1.0"
     },
     "execution_count": 13,
     "metadata": {},
     "output_type": "execute_result"
    }
   ],
   "source": [
    "y_train_scaled.max()"
   ],
   "metadata": {
    "collapsed": false,
    "ExecuteTime": {
     "end_time": "2024-02-08T17:41:33.321634700Z",
     "start_time": "2024-02-08T17:41:33.304848200Z"
    }
   },
   "id": "ce04ce43aac2242f"
  },
  {
   "cell_type": "code",
   "execution_count": 14,
   "id": "a6eccbb7534cd064",
   "metadata": {
    "ExecuteTime": {
     "end_time": "2024-02-08T17:41:33.814495300Z",
     "start_time": "2024-02-08T17:41:33.813988900Z"
    }
   },
   "outputs": [],
   "source": [
    "# Lernplan erstellen\n",
    "#initial_learning_rate = 0.1\n",
    "#lr_schedule = tf.keras.optimizers.schedules.ExponentialDecay(\n",
    "#    initial_learning_rate, decay_steps=100, decay_rate=0.9, staircase=True)"
   ]
  },
  {
   "cell_type": "code",
   "execution_count": 15,
   "outputs": [
    {
     "name": "stdout",
     "output_type": "stream",
     "text": [
      "WARNING:tensorflow:From C:\\Users\\erikm\\Desktop\\Diplomarbeit Erik Marr\\Projekt X\\venv\\Lib\\site-packages\\keras\\src\\backend.py:873: The name tf.get_default_graph is deprecated. Please use tf.compat.v1.get_default_graph instead.\n",
      "WARNING:tensorflow:From C:\\Users\\erikm\\Desktop\\Diplomarbeit Erik Marr\\Projekt X\\venv\\Lib\\site-packages\\keras\\src\\optimizers\\__init__.py:309: The name tf.train.Optimizer is deprecated. Please use tf.compat.v1.train.Optimizer instead.\n",
      "Epoch 1/100\n",
      "WARNING:tensorflow:From C:\\Users\\erikm\\Desktop\\Diplomarbeit Erik Marr\\Projekt X\\venv\\Lib\\site-packages\\keras\\src\\utils\\tf_utils.py:492: The name tf.ragged.RaggedTensorValue is deprecated. Please use tf.compat.v1.ragged.RaggedTensorValue instead.\n",
      "WARNING:tensorflow:From C:\\Users\\erikm\\Desktop\\Diplomarbeit Erik Marr\\Projekt X\\venv\\Lib\\site-packages\\keras\\src\\engine\\base_layer_utils.py:384: The name tf.executing_eagerly_outside_functions is deprecated. Please use tf.compat.v1.executing_eagerly_outside_functions instead.\n",
      "99/99 [==============================] - 1s 2ms/step - loss: 0.6415 - mae: 0.2866 - val_loss: 0.5693 - val_mae: 0.2478\n",
      "Epoch 2/100\n",
      "99/99 [==============================] - 0s 1ms/step - loss: 0.5148 - mae: 0.2213 - val_loss: 0.4601 - val_mae: 0.1939\n",
      "Epoch 3/100\n",
      "99/99 [==============================] - 0s 1ms/step - loss: 0.4185 - mae: 0.1757 - val_loss: 0.3763 - val_mae: 0.1567\n",
      "Epoch 4/100\n",
      "99/99 [==============================] - 0s 1ms/step - loss: 0.3436 - mae: 0.1455 - val_loss: 0.3098 - val_mae: 0.1325\n",
      "Epoch 5/100\n",
      "99/99 [==============================] - 0s 1ms/step - loss: 0.2830 - mae: 0.1236 - val_loss: 0.2550 - val_mae: 0.1123\n",
      "Epoch 6/100\n",
      "99/99 [==============================] - 0s 1ms/step - loss: 0.2328 - mae: 0.1058 - val_loss: 0.2097 - val_mae: 0.0965\n",
      "Epoch 7/100\n",
      "99/99 [==============================] - 0s 1ms/step - loss: 0.1917 - mae: 0.0930 - val_loss: 0.1728 - val_mae: 0.0876\n",
      "Epoch 8/100\n",
      "99/99 [==============================] - 0s 957us/step - loss: 0.1581 - mae: 0.0853 - val_loss: 0.1429 - val_mae: 0.0846\n",
      "Epoch 9/100\n",
      "99/99 [==============================] - 0s 957us/step - loss: 0.1309 - mae: 0.0817 - val_loss: 0.1181 - val_mae: 0.0767\n",
      "Epoch 10/100\n",
      "99/99 [==============================] - 0s 959us/step - loss: 0.1083 - mae: 0.0789 - val_loss: 0.0978 - val_mae: 0.0774\n",
      "Epoch 11/100\n",
      "99/99 [==============================] - 0s 957us/step - loss: 0.0898 - mae: 0.0774 - val_loss: 0.0813 - val_mae: 0.0767\n",
      "Epoch 12/100\n",
      "99/99 [==============================] - 0s 957us/step - loss: 0.0747 - mae: 0.0763 - val_loss: 0.0677 - val_mae: 0.0752\n",
      "Epoch 13/100\n",
      "99/99 [==============================] - 0s 1ms/step - loss: 0.0623 - mae: 0.0752 - val_loss: 0.0566 - val_mae: 0.0744\n",
      "Epoch 14/100\n",
      "99/99 [==============================] - 0s 1ms/step - loss: 0.0524 - mae: 0.0749 - val_loss: 0.0478 - val_mae: 0.0750\n",
      "Epoch 15/100\n",
      "99/99 [==============================] - 0s 1ms/step - loss: 0.0445 - mae: 0.0745 - val_loss: 0.0408 - val_mae: 0.0762\n",
      "Epoch 16/100\n",
      "99/99 [==============================] - 0s 1ms/step - loss: 0.0382 - mae: 0.0750 - val_loss: 0.0353 - val_mae: 0.0721\n",
      "Epoch 17/100\n",
      "99/99 [==============================] - 0s 1ms/step - loss: 0.0333 - mae: 0.0742 - val_loss: 0.0310 - val_mae: 0.0720\n",
      "Epoch 18/100\n",
      "99/99 [==============================] - 0s 1ms/step - loss: 0.0295 - mae: 0.0744 - val_loss: 0.0279 - val_mae: 0.0777\n",
      "Epoch 19/100\n",
      "99/99 [==============================] - 0s 1ms/step - loss: 0.0266 - mae: 0.0749 - val_loss: 0.0251 - val_mae: 0.0740\n",
      "Epoch 20/100\n",
      "99/99 [==============================] - 0s 1ms/step - loss: 0.0243 - mae: 0.0743 - val_loss: 0.0230 - val_mae: 0.0764\n",
      "Epoch 21/100\n",
      "99/99 [==============================] - 0s 1ms/step - loss: 0.0224 - mae: 0.0744 - val_loss: 0.0214 - val_mae: 0.0718\n",
      "Epoch 22/100\n",
      "99/99 [==============================] - 0s 1ms/step - loss: 0.0209 - mae: 0.0731 - val_loss: 0.0200 - val_mae: 0.0720\n",
      "Epoch 23/100\n",
      "99/99 [==============================] - 0s 1ms/step - loss: 0.0197 - mae: 0.0727 - val_loss: 0.0190 - val_mae: 0.0692\n",
      "Epoch 24/100\n",
      "99/99 [==============================] - 0s 1ms/step - loss: 0.0187 - mae: 0.0714 - val_loss: 0.0180 - val_mae: 0.0698\n",
      "Epoch 25/100\n",
      "99/99 [==============================] - 0s 1ms/step - loss: 0.0179 - mae: 0.0703 - val_loss: 0.0173 - val_mae: 0.0693\n",
      "Epoch 26/100\n",
      "99/99 [==============================] - 0s 957us/step - loss: 0.0171 - mae: 0.0684 - val_loss: 0.0177 - val_mae: 0.0782\n",
      "Epoch 27/100\n",
      "99/99 [==============================] - 0s 957us/step - loss: 0.0165 - mae: 0.0676 - val_loss: 0.0159 - val_mae: 0.0669\n",
      "Epoch 28/100\n",
      "99/99 [==============================] - 0s 957us/step - loss: 0.0159 - mae: 0.0659 - val_loss: 0.0154 - val_mae: 0.0636\n",
      "Epoch 29/100\n",
      "99/99 [==============================] - 0s 983us/step - loss: 0.0154 - mae: 0.0645 - val_loss: 0.0149 - val_mae: 0.0626\n",
      "Epoch 30/100\n",
      "99/99 [==============================] - 0s 1ms/step - loss: 0.0148 - mae: 0.0633 - val_loss: 0.0144 - val_mae: 0.0606\n",
      "Epoch 31/100\n",
      "99/99 [==============================] - 0s 1ms/step - loss: 0.0144 - mae: 0.0615 - val_loss: 0.0141 - val_mae: 0.0645\n",
      "Epoch 32/100\n",
      "99/99 [==============================] - 0s 1ms/step - loss: 0.0139 - mae: 0.0608 - val_loss: 0.0141 - val_mae: 0.0632\n",
      "Epoch 33/100\n",
      "99/99 [==============================] - 0s 1ms/step - loss: 0.0136 - mae: 0.0595 - val_loss: 0.0133 - val_mae: 0.0566\n",
      "Epoch 34/100\n",
      "99/99 [==============================] - 0s 957us/step - loss: 0.0132 - mae: 0.0581 - val_loss: 0.0129 - val_mae: 0.0565\n",
      "Epoch 35/100\n",
      "99/99 [==============================] - 0s 957us/step - loss: 0.0129 - mae: 0.0573 - val_loss: 0.0129 - val_mae: 0.0563\n",
      "Epoch 36/100\n",
      "99/99 [==============================] - 0s 1ms/step - loss: 0.0125 - mae: 0.0563 - val_loss: 0.0125 - val_mae: 0.0534\n",
      "Epoch 37/100\n",
      "99/99 [==============================] - 0s 1ms/step - loss: 0.0122 - mae: 0.0552 - val_loss: 0.0119 - val_mae: 0.0534\n",
      "Epoch 38/100\n",
      "99/99 [==============================] - 0s 1ms/step - loss: 0.0119 - mae: 0.0541 - val_loss: 0.0116 - val_mae: 0.0529\n",
      "Epoch 39/100\n",
      "99/99 [==============================] - 0s 1ms/step - loss: 0.0116 - mae: 0.0526 - val_loss: 0.0114 - val_mae: 0.0530\n",
      "Epoch 40/100\n",
      "99/99 [==============================] - 0s 1ms/step - loss: 0.0113 - mae: 0.0522 - val_loss: 0.0111 - val_mae: 0.0507\n",
      "Epoch 41/100\n",
      "99/99 [==============================] - 0s 1ms/step - loss: 0.0110 - mae: 0.0512 - val_loss: 0.0108 - val_mae: 0.0486\n",
      "Epoch 42/100\n",
      "99/99 [==============================] - 0s 1ms/step - loss: 0.0108 - mae: 0.0500 - val_loss: 0.0107 - val_mae: 0.0474\n",
      "Epoch 43/100\n",
      "99/99 [==============================] - 0s 1ms/step - loss: 0.0105 - mae: 0.0492 - val_loss: 0.0103 - val_mae: 0.0473\n",
      "Epoch 44/100\n",
      "99/99 [==============================] - 0s 1ms/step - loss: 0.0103 - mae: 0.0481 - val_loss: 0.0101 - val_mae: 0.0462\n",
      "Epoch 45/100\n",
      "99/99 [==============================] - 0s 1ms/step - loss: 0.0101 - mae: 0.0474 - val_loss: 0.0101 - val_mae: 0.0511\n",
      "Epoch 46/100\n",
      "99/99 [==============================] - 0s 1ms/step - loss: 0.0099 - mae: 0.0470 - val_loss: 0.0097 - val_mae: 0.0451\n",
      "Epoch 47/100\n",
      "99/99 [==============================] - 0s 997us/step - loss: 0.0096 - mae: 0.0458 - val_loss: 0.0095 - val_mae: 0.0435\n",
      "Epoch 48/100\n",
      "99/99 [==============================] - 0s 1ms/step - loss: 0.0095 - mae: 0.0460 - val_loss: 0.0092 - val_mae: 0.0444\n",
      "Epoch 49/100\n",
      "99/99 [==============================] - 0s 1ms/step - loss: 0.0093 - mae: 0.0445 - val_loss: 0.0091 - val_mae: 0.0449\n",
      "Epoch 50/100\n",
      "99/99 [==============================] - 0s 1ms/step - loss: 0.0091 - mae: 0.0443 - val_loss: 0.0090 - val_mae: 0.0458\n",
      "Epoch 51/100\n",
      "99/99 [==============================] - 0s 1ms/step - loss: 0.0089 - mae: 0.0431 - val_loss: 0.0088 - val_mae: 0.0449\n",
      "Epoch 52/100\n",
      "99/99 [==============================] - 0s 1ms/step - loss: 0.0087 - mae: 0.0426 - val_loss: 0.0087 - val_mae: 0.0400\n",
      "Epoch 53/100\n",
      "99/99 [==============================] - 0s 1ms/step - loss: 0.0085 - mae: 0.0420 - val_loss: 0.0085 - val_mae: 0.0392\n",
      "Epoch 54/100\n",
      "99/99 [==============================] - 0s 1ms/step - loss: 0.0083 - mae: 0.0411 - val_loss: 0.0087 - val_mae: 0.0475\n",
      "Epoch 55/100\n",
      "99/99 [==============================] - 0s 1ms/step - loss: 0.0083 - mae: 0.0423 - val_loss: 0.0086 - val_mae: 0.0464\n",
      "Epoch 56/100\n",
      "99/99 [==============================] - 0s 1ms/step - loss: 0.0081 - mae: 0.0405 - val_loss: 0.0080 - val_mae: 0.0390\n",
      "Epoch 57/100\n",
      "99/99 [==============================] - 0s 1ms/step - loss: 0.0079 - mae: 0.0397 - val_loss: 0.0078 - val_mae: 0.0388\n",
      "Epoch 58/100\n",
      "99/99 [==============================] - 0s 1ms/step - loss: 0.0077 - mae: 0.0390 - val_loss: 0.0076 - val_mae: 0.0381\n",
      "Epoch 59/100\n",
      "99/99 [==============================] - 0s 1ms/step - loss: 0.0076 - mae: 0.0390 - val_loss: 0.0075 - val_mae: 0.0385\n",
      "Epoch 60/100\n",
      "99/99 [==============================] - 0s 1ms/step - loss: 0.0075 - mae: 0.0384 - val_loss: 0.0074 - val_mae: 0.0383\n",
      "Epoch 61/100\n",
      "99/99 [==============================] - 0s 1ms/step - loss: 0.0074 - mae: 0.0384 - val_loss: 0.0073 - val_mae: 0.0361\n",
      "Epoch 62/100\n",
      "99/99 [==============================] - 0s 1ms/step - loss: 0.0072 - mae: 0.0371 - val_loss: 0.0072 - val_mae: 0.0348\n",
      "Epoch 63/100\n",
      "99/99 [==============================] - 0s 1ms/step - loss: 0.0071 - mae: 0.0370 - val_loss: 0.0072 - val_mae: 0.0410\n",
      "Epoch 64/100\n",
      "99/99 [==============================] - 0s 1ms/step - loss: 0.0070 - mae: 0.0370 - val_loss: 0.0070 - val_mae: 0.0371\n",
      "Epoch 65/100\n",
      "99/99 [==============================] - 0s 1ms/step - loss: 0.0068 - mae: 0.0354 - val_loss: 0.0069 - val_mae: 0.0349\n",
      "Epoch 66/100\n",
      "99/99 [==============================] - 0s 1ms/step - loss: 0.0068 - mae: 0.0359 - val_loss: 0.0067 - val_mae: 0.0338\n",
      "Epoch 67/100\n",
      "99/99 [==============================] - 0s 1ms/step - loss: 0.0067 - mae: 0.0354 - val_loss: 0.0066 - val_mae: 0.0353\n",
      "Epoch 68/100\n",
      "99/99 [==============================] - 0s 1ms/step - loss: 0.0066 - mae: 0.0349 - val_loss: 0.0064 - val_mae: 0.0333\n",
      "Epoch 69/100\n",
      "99/99 [==============================] - 0s 1ms/step - loss: 0.0064 - mae: 0.0342 - val_loss: 0.0063 - val_mae: 0.0324\n",
      "Epoch 70/100\n",
      "99/99 [==============================] - 0s 1ms/step - loss: 0.0063 - mae: 0.0342 - val_loss: 0.0064 - val_mae: 0.0343\n",
      "Epoch 71/100\n",
      "99/99 [==============================] - 0s 1ms/step - loss: 0.0062 - mae: 0.0341 - val_loss: 0.0061 - val_mae: 0.0319\n",
      "Epoch 72/100\n",
      "99/99 [==============================] - 0s 1ms/step - loss: 0.0061 - mae: 0.0331 - val_loss: 0.0062 - val_mae: 0.0365\n",
      "Epoch 73/100\n",
      "99/99 [==============================] - 0s 1ms/step - loss: 0.0061 - mae: 0.0330 - val_loss: 0.0061 - val_mae: 0.0315\n",
      "Epoch 74/100\n",
      "99/99 [==============================] - 0s 1ms/step - loss: 0.0060 - mae: 0.0327 - val_loss: 0.0060 - val_mae: 0.0315\n",
      "Epoch 75/100\n",
      "99/99 [==============================] - 0s 1ms/step - loss: 0.0059 - mae: 0.0324 - val_loss: 0.0061 - val_mae: 0.0347\n",
      "Epoch 76/100\n",
      "99/99 [==============================] - 0s 1ms/step - loss: 0.0058 - mae: 0.0319 - val_loss: 0.0057 - val_mae: 0.0302\n",
      "Epoch 77/100\n",
      "99/99 [==============================] - 0s 1ms/step - loss: 0.0057 - mae: 0.0316 - val_loss: 0.0057 - val_mae: 0.0332\n",
      "Epoch 78/100\n",
      "99/99 [==============================] - 0s 1ms/step - loss: 0.0056 - mae: 0.0316 - val_loss: 0.0057 - val_mae: 0.0329\n",
      "Epoch 79/100\n",
      "99/99 [==============================] - 0s 1ms/step - loss: 0.0055 - mae: 0.0310 - val_loss: 0.0055 - val_mae: 0.0307\n",
      "Epoch 80/100\n",
      "99/99 [==============================] - 0s 1ms/step - loss: 0.0054 - mae: 0.0310 - val_loss: 0.0054 - val_mae: 0.0303\n",
      "Epoch 81/100\n",
      "99/99 [==============================] - 0s 1ms/step - loss: 0.0053 - mae: 0.0301 - val_loss: 0.0055 - val_mae: 0.0312\n",
      "Epoch 82/100\n",
      "99/99 [==============================] - 0s 1ms/step - loss: 0.0053 - mae: 0.0304 - val_loss: 0.0056 - val_mae: 0.0314\n",
      "Epoch 83/100\n",
      "99/99 [==============================] - 0s 1ms/step - loss: 0.0053 - mae: 0.0307 - val_loss: 0.0052 - val_mae: 0.0300\n",
      "Epoch 84/100\n",
      "99/99 [==============================] - 0s 1ms/step - loss: 0.0052 - mae: 0.0299 - val_loss: 0.0051 - val_mae: 0.0276\n",
      "Epoch 85/100\n",
      "99/99 [==============================] - 0s 1ms/step - loss: 0.0050 - mae: 0.0287 - val_loss: 0.0052 - val_mae: 0.0302\n",
      "Epoch 86/100\n",
      "99/99 [==============================] - 0s 1ms/step - loss: 0.0050 - mae: 0.0294 - val_loss: 0.0051 - val_mae: 0.0297\n",
      "Epoch 87/100\n",
      "99/99 [==============================] - 0s 1ms/step - loss: 0.0050 - mae: 0.0290 - val_loss: 0.0049 - val_mae: 0.0272\n",
      "Epoch 88/100\n",
      "99/99 [==============================] - 0s 957us/step - loss: 0.0049 - mae: 0.0289 - val_loss: 0.0049 - val_mae: 0.0286\n",
      "Epoch 89/100\n",
      "99/99 [==============================] - 0s 1ms/step - loss: 0.0049 - mae: 0.0285 - val_loss: 0.0048 - val_mae: 0.0294\n",
      "Epoch 90/100\n",
      "99/99 [==============================] - 0s 957us/step - loss: 0.0048 - mae: 0.0283 - val_loss: 0.0049 - val_mae: 0.0278\n",
      "Epoch 91/100\n",
      "99/99 [==============================] - 0s 957us/step - loss: 0.0047 - mae: 0.0282 - val_loss: 0.0048 - val_mae: 0.0316\n",
      "Epoch 92/100\n",
      "99/99 [==============================] - 0s 1ms/step - loss: 0.0046 - mae: 0.0277 - val_loss: 0.0047 - val_mae: 0.0269\n",
      "Epoch 93/100\n",
      "99/99 [==============================] - 0s 1ms/step - loss: 0.0046 - mae: 0.0278 - val_loss: 0.0047 - val_mae: 0.0277\n",
      "Epoch 94/100\n",
      "99/99 [==============================] - 0s 1ms/step - loss: 0.0045 - mae: 0.0274 - val_loss: 0.0045 - val_mae: 0.0288\n",
      "Epoch 95/100\n",
      "99/99 [==============================] - 0s 1ms/step - loss: 0.0045 - mae: 0.0267 - val_loss: 0.0046 - val_mae: 0.0257\n",
      "Epoch 96/100\n",
      "99/99 [==============================] - 0s 1ms/step - loss: 0.0044 - mae: 0.0271 - val_loss: 0.0045 - val_mae: 0.0292\n",
      "Epoch 97/100\n",
      "99/99 [==============================] - 0s 1ms/step - loss: 0.0044 - mae: 0.0264 - val_loss: 0.0044 - val_mae: 0.0270\n",
      "Epoch 98/100\n",
      "99/99 [==============================] - 0s 1ms/step - loss: 0.0044 - mae: 0.0269 - val_loss: 0.0044 - val_mae: 0.0252\n",
      "Epoch 99/100\n",
      "99/99 [==============================] - 0s 1ms/step - loss: 0.0043 - mae: 0.0264 - val_loss: 0.0043 - val_mae: 0.0252\n",
      "Epoch 100/100\n",
      "99/99 [==============================] - 0s 1ms/step - loss: 0.0042 - mae: 0.0257 - val_loss: 0.0043 - val_mae: 0.0244\n"
     ]
    }
   ],
   "source": [
    "# Netzwerkarchitektur\n",
    "model = Sequential([\n",
    "    # Eingabeschicht\n",
    "    Dense(32, activation='relu', input_shape=(2,), kernel_initializer='he_uniform', kernel_regularizer=l2(0.01)),\n",
    "    #Dropout(0.01),\n",
    "    # Versteckte Schicht\n",
    "    #Dense(8, activation='relu', kernel_initializer='he_uniform', kernel_regularizer=l2(0.01)),\n",
    "    #Dropout(0.01),\n",
    "    # Ausgabeschicht für Regression (1 Einheit ohne Aktivierungsfunktion)\n",
    "    Dense(1 , activation = 'linear')\n",
    "])\n",
    "\n",
    "# Optimierer\n",
    "optimizer = 'adam' #Adam(learningrate =  0.001)\n",
    "\n",
    "# Modell kompilieren (Verwendung von mean_squared_error als Verlustfunktion für Regression)\n",
    "model.compile(optimizer=optimizer,\n",
    "              loss='mean_squared_error',\n",
    "              metrics=['mae'])  # Metriken für Regression: Mean Absolute Error und Mean Squared Error\n",
    "\n",
    "# Early Stopping Callback\n",
    "early_stopping = EarlyStopping(monitor='loss', patience=5, verbose=1, mode='min', restore_best_weights=True, min_delta = 0.0001)\n",
    "\n",
    "# Trainingsparameter\n",
    "batch_size = 50\n",
    "epochs = 100\n",
    "\n",
    "# Modell trainieren (Annahme: X_train, y_train, X_val, y_val sind vordefiniert)\n",
    "history = model.fit(X_train_scaled, y_train_scaled,\n",
    "                    batch_size=batch_size,\n",
    "                    epochs=epochs,\n",
    "                    validation_split=0.2,\n",
    "                    callbacks=[early_stopping])"
   ],
   "metadata": {
    "collapsed": false,
    "ExecuteTime": {
     "end_time": "2024-02-08T17:41:46.776217Z",
     "start_time": "2024-02-08T17:41:34.310738200Z"
    }
   },
   "id": "8b52e1a9a6ff3aeb"
  },
  {
   "cell_type": "code",
   "execution_count": 16,
   "outputs": [
    {
     "data": {
      "text/plain": "<Figure size 1000x600 with 1 Axes>",
      "image/png": "[encoded data removed]"
     },
     "metadata": {},
     "output_type": "display_data"
    }
   ],
   "source": [
    "mae = history.history['loss']\n",
    "val_mae = history.history['val_loss']\n",
    "\n",
    "epochs = range(1, len(mae) + 1)\n",
    "\n",
    "# MAE Diagramm\n",
    "plt.figure(figsize=(10, 6))\n",
    "plt.plot(epochs, mae, 'r', label='Training MAE')\n",
    "plt.plot(epochs, val_mae, 'b', label='Validation MAE')\n",
    "plt.title('Training and Validation MAE')\n",
    "plt.xlabel('Epochs')\n",
    "plt.ylabel('MAE')\n",
    "plt.legend()\n",
    "\n",
    "plt.show()"
   ],
   "metadata": {
    "collapsed": false,
    "ExecuteTime": {
     "end_time": "2024-02-08T17:41:53.389184100Z",
     "start_time": "2024-02-08T17:41:53.245643600Z"
    }
   },
   "id": "3688dd7102e95baf"
  },
  {
   "cell_type": "code",
   "execution_count": 17,
   "id": "9f6f672a",
   "metadata": {
    "ExecuteTime": {
     "end_time": "2024-02-08T17:41:54.627758800Z",
     "start_time": "2024-02-08T17:41:54.468612900Z"
    }
   },
   "outputs": [
    {
     "name": "stdout",
     "output_type": "stream",
     "text": [
      " Bsp. Predicted: [575.2932] Actual: [653.16] \n",
      "Durchschnittliche Abweichung (MAE): [11.50445812]\n"
     ]
    }
   ],
   "source": [
    "scaled_predicted_values = model.predict(X_test_scaled, verbose = 0)\n",
    "\n",
    "# Führen Sie die Rücktransformation der skalierten Werte durch\n",
    "original_predicted_values = scaler_target.inverse_transform(scaled_predicted_values)\n",
    "original_actual_values = scaler_target.inverse_transform(y_test_scaled)  # y_test sind die skalierten tatsächlichen Werte\n",
    "print(f' Bsp. Predicted: {original_predicted_values[100]} Actual: {original_actual_values[100]} ')\n",
    "\n",
    "def calculate_mae(list1, list2):\n",
    "    # Stelle sicher, dass beide Listen die gleiche Länge haben\n",
    "    if len(list1) != len(list2):\n",
    "        raise ValueError(\"Listen müssen die gleiche Länge haben\")\n",
    "    \n",
    "    # Berechne die absolute Differenz zwischen den Elementen der Listen\n",
    "    differences = [abs(x - y) for x, y in zip(list1, list2)]\n",
    "    \n",
    "    # Berechne den Durchschnitt der absoluten Differenzen\n",
    "    mae = sum(differences) / len(differences)\n",
    "    \n",
    "    return mae\n",
    "\n",
    "# Beispiel\n",
    "list1 = original_predicted_values\n",
    "list2 = original_actual_values\n",
    "\n",
    "mae = calculate_mae(list1, list2)\n",
    "print(f\"Durchschnittliche Abweichung (MAE): {mae}\")"
   ]
  },
  {
   "cell_type": "markdown",
   "id": "553df6fa",
   "metadata": {},
   "source": [
    "# GridSearch"
   ]
  },
  {
   "cell_type": "code",
   "execution_count": 11,
   "id": "1dca80c2",
   "metadata": {},
   "outputs": [
    {
     "name": "stdout",
     "output_type": "stream",
     "text": [
      "WARNING:tensorflow:From C:\\Users\\erikm\\anaconda3\\Lib\\site-packages\\keras\\backend.py:873: The name tf.get_default_graph is deprecated. Please use tf.compat.v1.get_default_graph instead.\n",
      "\n",
      "WARNING:tensorflow:From C:\\Users\\erikm\\anaconda3\\Lib\\site-packages\\keras\\optimizers\\__init__.py:300: The name tf.train.Optimizer is deprecated. Please use tf.compat.v1.train.Optimizer instead.\n",
      "\n",
      "Epoch 1/10\n",
      "WARNING:tensorflow:From C:\\Users\\erikm\\anaconda3\\Lib\\site-packages\\keras\\utils\\tf_utils.py:490: The name tf.ragged.RaggedTensorValue is deprecated. Please use tf.compat.v1.ragged.RaggedTensorValue instead.\n",
      "\n",
      "WARNING:tensorflow:From C:\\Users\\erikm\\anaconda3\\Lib\\site-packages\\keras\\engine\\base_layer_utils.py:380: The name tf.executing_eagerly_outside_functions is deprecated. Please use tf.compat.v1.executing_eagerly_outside_functions instead.\n",
      "\n",
      "3025/3025 [==============================] - 6s 2ms/step - loss: 0.0097 - mean_squared_error: 0.0097\n",
      "Epoch 2/10\n",
      "3025/3025 [==============================] - 5s 2ms/step - loss: 0.0026 - mean_squared_error: 0.0026\n",
      "Epoch 3/10\n",
      "3025/3025 [==============================] - 5s 2ms/step - loss: 0.0025 - mean_squared_error: 0.0025\n",
      "Epoch 4/10\n",
      "3025/3025 [==============================] - 5s 2ms/step - loss: 0.0025 - mean_squared_error: 0.0025\n",
      "Epoch 5/10\n",
      "3025/3025 [==============================] - 5s 2ms/step - loss: 0.0025 - mean_squared_error: 0.0025\n",
      "Epoch 6/10\n",
      "3025/3025 [==============================] - 5s 2ms/step - loss: 0.0025 - mean_squared_error: 0.0025\n",
      "Epoch 7/10\n",
      "3025/3025 [==============================] - 5s 2ms/step - loss: 0.0025 - mean_squared_error: 0.0025\n",
      "Epoch 8/10\n",
      "3025/3025 [==============================] - 5s 2ms/step - loss: 0.0025 - mean_squared_error: 0.0025\n",
      "Epoch 9/10\n",
      "3025/3025 [==============================] - 5s 2ms/step - loss: 0.0025 - mean_squared_error: 0.0025\n",
      "Epoch 10/10\n",
      "3025/3025 [==============================] - 5s 2ms/step - loss: 0.0025 - mean_squared_error: 0.0025\n",
      "Best: 0.844394 using {'model__activation': 'relu', 'model__optimizer': 'adam'}\n",
      "0.844394 with: {'model__activation': 'relu', 'model__optimizer': 'adam'}\n",
      "0.827458 with: {'model__activation': 'relu', 'model__optimizer': 'sgd'}\n",
      "0.834291 with: {'model__activation': 'tanh', 'model__optimizer': 'adam'}\n",
      "0.630665 with: {'model__activation': 'tanh', 'model__optimizer': 'sgd'}\n"
     ]
    }
   ],
   "source": [
    "# Schritt 1: Definiere dein Modell als eine Funktion, die Hyperparameter akzeptiert\n",
    "def build_model(optimizer='adam', activation='relu'):\n",
    "    model = Sequential()\n",
    "    model.add(Dense(units=64, activation=activation, input_dim=X_train_scaled.shape[1]))\n",
    "    model.add(Dense(units=32, activation=activation))\n",
    "    model.add(Dense(units=1, activation='linear'))\n",
    "    model.compile(optimizer=optimizer, loss='mean_squared_error', metrics=['mean_squared_error'])\n",
    "    return model\n",
    "\n",
    "# Schritt 2: Erstelle eine Instanz von KerasRegressor ohne batch_size und epochs im param_grid\n",
    "model = KerasRegressor(model=build_model, verbose=1)\n",
    "\n",
    "# Schritt 3: Definiere den Parameter-Raum für die Grid-Suche OHNE batch_size und epochs\n",
    "param_grid = {\n",
    "    'model__optimizer': ['adam', 'sgd'],\n",
    "    'model__activation': ['relu', 'tanh']\n",
    "}\n",
    "\n",
    "# Optional: Definiere Fit-Parameter (wie batch_size und epochs) separat\n",
    "fit_params = {\n",
    "    'batch_size': 32,\n",
    "    'epochs': 10\n",
    "}\n",
    "\n",
    "# Schritt 4: Führe GridSearchCV aus mit fit_params, wenn nötig\n",
    "grid = GridSearchCV(estimator=model, param_grid=param_grid, n_jobs=-1, cv=3)\n",
    "grid_result = grid.fit(X_train_scaled, y_train_scaled, **fit_params)\n",
    "\n",
    "# Ergebnisse ausgeben\n",
    "print(\"Best: %f using %s\" % (grid_result.best_score_, grid_result.best_params_))\n",
    "for mean_score, params in zip(grid_result.cv_results_['mean_test_score'], grid_result.cv_results_['params']):\n",
    "    print(\"%f with: %r\" % (mean_score, params))\n"
   ]
  },
  {
   "cell_type": "code",
   "execution_count": 12,
   "id": "3f17e2cf",
   "metadata": {},
   "outputs": [
    {
     "name": "stdout",
     "output_type": "stream",
     "text": [
      "Epoch 1/5\n",
      "4840/4840 [==============================] - 10s 2ms/step - loss: 0.0053 - mean_squared_error: 0.0053\n",
      "Epoch 2/5\n",
      "4840/4840 [==============================] - 9s 2ms/step - loss: 0.0026 - mean_squared_error: 0.0026\n",
      "Epoch 3/5\n",
      "4840/4840 [==============================] - 8s 2ms/step - loss: 0.0026 - mean_squared_error: 0.0026\n",
      "Epoch 4/5\n",
      "4840/4840 [==============================] - 8s 2ms/step - loss: 0.0025 - mean_squared_error: 0.0025\n",
      "Epoch 5/5\n",
      "4840/4840 [==============================] - 8s 2ms/step - loss: 0.0025 - mean_squared_error: 0.0025\n",
      "Best: 0.845704 using {'fit__batch_size': 20, 'fit__epochs': 5, 'model__activation': 'relu', 'model__optimizer': 'adam'}\n",
      "0.840889 with: {'fit__batch_size': 10, 'fit__epochs': 5, 'model__activation': 'relu', 'model__optimizer': 'adam'}\n",
      "0.834983 with: {'fit__batch_size': 10, 'fit__epochs': 5, 'model__activation': 'relu', 'model__optimizer': 'sgd'}\n",
      "0.833309 with: {'fit__batch_size': 10, 'fit__epochs': 5, 'model__activation': 'tanh', 'model__optimizer': 'adam'}\n",
      "0.761438 with: {'fit__batch_size': 10, 'fit__epochs': 5, 'model__activation': 'tanh', 'model__optimizer': 'sgd'}\n",
      "0.840925 with: {'fit__batch_size': 10, 'fit__epochs': 10, 'model__activation': 'relu', 'model__optimizer': 'adam'}\n",
      "0.841489 with: {'fit__batch_size': 10, 'fit__epochs': 10, 'model__activation': 'relu', 'model__optimizer': 'sgd'}\n",
      "0.831441 with: {'fit__batch_size': 10, 'fit__epochs': 10, 'model__activation': 'tanh', 'model__optimizer': 'adam'}\n",
      "0.781805 with: {'fit__batch_size': 10, 'fit__epochs': 10, 'model__activation': 'tanh', 'model__optimizer': 'sgd'}\n",
      "0.845704 with: {'fit__batch_size': 20, 'fit__epochs': 5, 'model__activation': 'relu', 'model__optimizer': 'adam'}\n",
      "0.815947 with: {'fit__batch_size': 20, 'fit__epochs': 5, 'model__activation': 'relu', 'model__optimizer': 'sgd'}\n",
      "0.813188 with: {'fit__batch_size': 20, 'fit__epochs': 5, 'model__activation': 'tanh', 'model__optimizer': 'adam'}\n",
      "0.624004 with: {'fit__batch_size': 20, 'fit__epochs': 5, 'model__activation': 'tanh', 'model__optimizer': 'sgd'}\n",
      "0.842122 with: {'fit__batch_size': 20, 'fit__epochs': 10, 'model__activation': 'relu', 'model__optimizer': 'adam'}\n",
      "0.834650 with: {'fit__batch_size': 20, 'fit__epochs': 10, 'model__activation': 'relu', 'model__optimizer': 'sgd'}\n",
      "0.832776 with: {'fit__batch_size': 20, 'fit__epochs': 10, 'model__activation': 'tanh', 'model__optimizer': 'adam'}\n",
      "0.719563 with: {'fit__batch_size': 20, 'fit__epochs': 10, 'model__activation': 'tanh', 'model__optimizer': 'sgd'}\n",
      "0.843238 with: {'fit__batch_size': 32, 'fit__epochs': 5, 'model__activation': 'relu', 'model__optimizer': 'adam'}\n",
      "0.786332 with: {'fit__batch_size': 32, 'fit__epochs': 5, 'model__activation': 'relu', 'model__optimizer': 'sgd'}\n",
      "0.831336 with: {'fit__batch_size': 32, 'fit__epochs': 5, 'model__activation': 'tanh', 'model__optimizer': 'adam'}\n",
      "0.421701 with: {'fit__batch_size': 32, 'fit__epochs': 5, 'model__activation': 'tanh', 'model__optimizer': 'sgd'}\n",
      "0.831880 with: {'fit__batch_size': 32, 'fit__epochs': 10, 'model__activation': 'relu', 'model__optimizer': 'adam'}\n",
      "0.825473 with: {'fit__batch_size': 32, 'fit__epochs': 10, 'model__activation': 'relu', 'model__optimizer': 'sgd'}\n",
      "0.834078 with: {'fit__batch_size': 32, 'fit__epochs': 10, 'model__activation': 'tanh', 'model__optimizer': 'adam'}\n",
      "0.688854 with: {'fit__batch_size': 32, 'fit__epochs': 10, 'model__activation': 'tanh', 'model__optimizer': 'sgd'}\n"
     ]
    }
   ],
   "source": [
    "def build_model(optimizer='adam', activation='relu'):\n",
    "    model = Sequential()\n",
    "    model.add(Dense(units=64, activation=activation, input_dim=X_train_scaled.shape[1]))\n",
    "    model.add(Dense(units=32, activation=activation))\n",
    "    model.add(Dense(units=1, activation='linear'))\n",
    "    model.compile(optimizer=optimizer, loss='mean_squared_error', metrics=['mean_squared_error'])\n",
    "    return model\n",
    "\n",
    "model = KerasRegressor(model=build_model, verbose=1)\n",
    "\n",
    "param_grid = {\n",
    "    'model__optimizer': ['adam', 'sgd'],\n",
    "    'model__activation': ['relu', 'tanh'],\n",
    "    'fit__batch_size': [10, 20, 32],  # Testen verschiedener batch_size Werte\n",
    "    'fit__epochs': [5, 10]  # Optional: Testen verschiedener epoch Werte\n",
    "}\n",
    "\n",
    "grid = GridSearchCV(estimator=model, param_grid=param_grid, n_jobs=-1, cv=3)\n",
    "grid_result = grid.fit(X_train_scaled, y_train_scaled)\n",
    "\n",
    "# Ergebnisse ausgeben\n",
    "print(\"Best: %f using %s\" % (grid_result.best_score_, grid_result.best_params_))\n",
    "for mean_score, params in zip(grid_result.cv_results_['mean_test_score'], grid_result.cv_results_['params']):\n",
    "    print(\"%f with: %r\" % (mean_score, params))\n"
   ]
  },
  {
   "cell_type": "code",
   "execution_count": null,
   "id": "492cf0ed",
   "metadata": {},
   "outputs": [],
   "source": []
  }
 ],
 "metadata": {
  "kernelspec": {
   "display_name": "Python 3 (ipykernel)",
   "language": "python",
   "name": "python3"
  },
  "language_info": {
   "codemirror_mode": {
    "name": "ipython",
    "version": 3
   },
   "file_extension": ".py",
   "mimetype": "text/x-python",
   "name": "python",
   "nbconvert_exporter": "python",
   "pygments_lexer": "ipython3",
   "version": "3.11.4"
  }
 },
 "nbformat": 4,
 "nbformat_minor": 5
}
