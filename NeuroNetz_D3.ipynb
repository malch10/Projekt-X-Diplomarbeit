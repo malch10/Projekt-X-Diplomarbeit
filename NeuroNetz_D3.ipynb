{
 "cells": [
  {
   "cell_type": "code",
   "execution_count": 3,
   "id": "94b0518e",
   "metadata": {
    "ExecuteTime": {
     "end_time": "2024-02-28T12:44:23.974656700Z",
     "start_time": "2024-02-28T12:44:23.937645800Z"
    }
   },
   "outputs": [],
   "source": [
    "import numpy as np\n",
    "import os\n",
    "import tensorflow as tf\n",
    "import matplotlib.pyplot as plt\n",
    "from sklearn.model_selection import train_test_split\n",
    "from sklearn.preprocessing import MinMaxScaler\n",
    "import pandas as pd\n",
    "from tensorflow.keras.layers import Dense , Dropout\n",
    "from scikeras.wrappers import KerasRegressor \n",
    "from tensorflow.keras.callbacks import EarlyStopping\n",
    "import time\n",
    "from keras.models import Sequential\n",
    "from keras.layers import Dense, Dropout\n",
    "from keras.optimizers import Adam\n",
    "from keras.regularizers import l2\n",
    "from keras.callbacks import EarlyStopping\n",
    "from keras_tuner import RandomSearch\n",
    "from tensorflow.keras.models import Sequential\n",
    "from tensorflow.keras.layers import Dense\n",
    "from tensorflow.keras.optimizers import Adam\n",
    "from tensorflow.keras.regularizers import l2\n",
    "from sklearn.model_selection import GridSearchCV"
   ]
  },
  {
   "cell_type": "code",
   "execution_count": 4,
   "id": "e4ff61b1",
   "metadata": {
    "ExecuteTime": {
     "end_time": "2024-02-28T12:44:24.392615600Z",
     "start_time": "2024-02-28T12:44:24.347012900Z"
    }
   },
   "outputs": [
    {
     "data": {
      "text/plain": "      X-Koordinate  Y-Koordinate  Zeitpunkt  Strom  Kraft  Temperatur\n0          0.00000      -0.00200        300   7000   9000      532.25\n1          0.00000      -0.00196        300   7000   9000      549.09\n2          0.00000      -0.00192        300   7000   9000      565.57\n3          0.00000      -0.00188        300   7000   9000      581.72\n4          0.00000      -0.00184        300   7000   9000      597.71\n...            ...           ...        ...    ...    ...         ...\n6358       0.00248       0.00184        300   7000   9000      571.28\n6359       0.00248       0.00188        300   7000   9000      527.25\n6360       0.00248       0.00192        300   7000   9000      486.25\n6361       0.00248       0.00196        300   7000   9000      478.02\n6362       0.00248       0.00200        300   7000   9000      472.08\n\n[6363 rows x 6 columns]",
      "text/html": "<div>\n<style scoped>\n    .dataframe tbody tr th:only-of-type {\n        vertical-align: middle;\n    }\n\n    .dataframe tbody tr th {\n        vertical-align: top;\n    }\n\n    .dataframe thead th {\n        text-align: right;\n    }\n</style>\n<table border=\"1\" class=\"dataframe\">\n  <thead>\n    <tr style=\"text-align: right;\">\n      <th></th>\n      <th>X-Koordinate</th>\n      <th>Y-Koordinate</th>\n      <th>Zeitpunkt</th>\n      <th>Strom</th>\n      <th>Kraft</th>\n      <th>Temperatur</th>\n    </tr>\n  </thead>\n  <tbody>\n    <tr>\n      <th>0</th>\n      <td>0.00000</td>\n      <td>-0.00200</td>\n      <td>300</td>\n      <td>7000</td>\n      <td>9000</td>\n      <td>532.25</td>\n    </tr>\n    <tr>\n      <th>1</th>\n      <td>0.00000</td>\n      <td>-0.00196</td>\n      <td>300</td>\n      <td>7000</td>\n      <td>9000</td>\n      <td>549.09</td>\n    </tr>\n    <tr>\n      <th>2</th>\n      <td>0.00000</td>\n      <td>-0.00192</td>\n      <td>300</td>\n      <td>7000</td>\n      <td>9000</td>\n      <td>565.57</td>\n    </tr>\n    <tr>\n      <th>3</th>\n      <td>0.00000</td>\n      <td>-0.00188</td>\n      <td>300</td>\n      <td>7000</td>\n      <td>9000</td>\n      <td>581.72</td>\n    </tr>\n    <tr>\n      <th>4</th>\n      <td>0.00000</td>\n      <td>-0.00184</td>\n      <td>300</td>\n      <td>7000</td>\n      <td>9000</td>\n      <td>597.71</td>\n    </tr>\n    <tr>\n      <th>...</th>\n      <td>...</td>\n      <td>...</td>\n      <td>...</td>\n      <td>...</td>\n      <td>...</td>\n      <td>...</td>\n    </tr>\n    <tr>\n      <th>6358</th>\n      <td>0.00248</td>\n      <td>0.00184</td>\n      <td>300</td>\n      <td>7000</td>\n      <td>9000</td>\n      <td>571.28</td>\n    </tr>\n    <tr>\n      <th>6359</th>\n      <td>0.00248</td>\n      <td>0.00188</td>\n      <td>300</td>\n      <td>7000</td>\n      <td>9000</td>\n      <td>527.25</td>\n    </tr>\n    <tr>\n      <th>6360</th>\n      <td>0.00248</td>\n      <td>0.00192</td>\n      <td>300</td>\n      <td>7000</td>\n      <td>9000</td>\n      <td>486.25</td>\n    </tr>\n    <tr>\n      <th>6361</th>\n      <td>0.00248</td>\n      <td>0.00196</td>\n      <td>300</td>\n      <td>7000</td>\n      <td>9000</td>\n      <td>478.02</td>\n    </tr>\n    <tr>\n      <th>6362</th>\n      <td>0.00248</td>\n      <td>0.00200</td>\n      <td>300</td>\n      <td>7000</td>\n      <td>9000</td>\n      <td>472.08</td>\n    </tr>\n  </tbody>\n</table>\n<p>6363 rows × 6 columns</p>\n</div>"
     },
     "execution_count": 4,
     "metadata": {},
     "output_type": "execute_result"
    }
   ],
   "source": [
    "#data = pd.read_pickle('C:/Users/erikm/Desktop/Diplomarbeit Erik Marr/Daten/Finish/TPath_300_finish_data.pkl')\n",
    "data = pd.read_pickle('C:/Users/erikm/Desktop/Diplomarbeit Erik Marr/Daten/Finish_D3_I7000_F9000/TPath_300_finish_data_D3.pkl')\n",
    "\n",
    "data"
   ]
  },
  {
   "cell_type": "code",
   "execution_count": 5,
   "id": "966e3c74",
   "metadata": {
    "ExecuteTime": {
     "end_time": "2024-02-28T12:44:24.785520700Z",
     "start_time": "2024-02-28T12:44:24.742517100Z"
    }
   },
   "outputs": [
    {
     "data": {
      "text/plain": "      X-Koordinate  Y-Koordinate  Temperatur\n0          0.00000      -0.00200      532.25\n1          0.00000      -0.00196      549.09\n2          0.00000      -0.00192      565.57\n3          0.00000      -0.00188      581.72\n4          0.00000      -0.00184      597.71\n...            ...           ...         ...\n6358       0.00248       0.00184      571.28\n6359       0.00248       0.00188      527.25\n6360       0.00248       0.00192      486.25\n6361       0.00248       0.00196      478.02\n6362       0.00248       0.00200      472.08\n\n[6363 rows x 3 columns]",
      "text/html": "<div>\n<style scoped>\n    .dataframe tbody tr th:only-of-type {\n        vertical-align: middle;\n    }\n\n    .dataframe tbody tr th {\n        vertical-align: top;\n    }\n\n    .dataframe thead th {\n        text-align: right;\n    }\n</style>\n<table border=\"1\" class=\"dataframe\">\n  <thead>\n    <tr style=\"text-align: right;\">\n      <th></th>\n      <th>X-Koordinate</th>\n      <th>Y-Koordinate</th>\n      <th>Temperatur</th>\n    </tr>\n  </thead>\n  <tbody>\n    <tr>\n      <th>0</th>\n      <td>0.00000</td>\n      <td>-0.00200</td>\n      <td>532.25</td>\n    </tr>\n    <tr>\n      <th>1</th>\n      <td>0.00000</td>\n      <td>-0.00196</td>\n      <td>549.09</td>\n    </tr>\n    <tr>\n      <th>2</th>\n      <td>0.00000</td>\n      <td>-0.00192</td>\n      <td>565.57</td>\n    </tr>\n    <tr>\n      <th>3</th>\n      <td>0.00000</td>\n      <td>-0.00188</td>\n      <td>581.72</td>\n    </tr>\n    <tr>\n      <th>4</th>\n      <td>0.00000</td>\n      <td>-0.00184</td>\n      <td>597.71</td>\n    </tr>\n    <tr>\n      <th>...</th>\n      <td>...</td>\n      <td>...</td>\n      <td>...</td>\n    </tr>\n    <tr>\n      <th>6358</th>\n      <td>0.00248</td>\n      <td>0.00184</td>\n      <td>571.28</td>\n    </tr>\n    <tr>\n      <th>6359</th>\n      <td>0.00248</td>\n      <td>0.00188</td>\n      <td>527.25</td>\n    </tr>\n    <tr>\n      <th>6360</th>\n      <td>0.00248</td>\n      <td>0.00192</td>\n      <td>486.25</td>\n    </tr>\n    <tr>\n      <th>6361</th>\n      <td>0.00248</td>\n      <td>0.00196</td>\n      <td>478.02</td>\n    </tr>\n    <tr>\n      <th>6362</th>\n      <td>0.00248</td>\n      <td>0.00200</td>\n      <td>472.08</td>\n    </tr>\n  </tbody>\n</table>\n<p>6363 rows × 3 columns</p>\n</div>"
     },
     "execution_count": 5,
     "metadata": {},
     "output_type": "execute_result"
    }
   ],
   "source": [
    "df = data.drop(data.columns[2:5], axis = 1)\n",
    "df"
   ]
  },
  {
   "cell_type": "code",
   "execution_count": 6,
   "id": "8783d1d6",
   "metadata": {
    "ExecuteTime": {
     "end_time": "2024-02-28T12:44:25.021039700Z",
     "start_time": "2024-02-28T12:44:25.006877Z"
    }
   },
   "outputs": [
    {
     "name": "stdout",
     "output_type": "stream",
     "text": [
      "      X-Koordinate  Y-Koordinate  Temperatur\n",
      "6243       0.00244       0.00128      722.51\n",
      "2949       0.00116      -0.00120      795.43\n",
      "393        0.00012       0.00160      617.75\n",
      "3844       0.00152      -0.00176      637.29\n",
      "2154       0.00084      -0.00068      876.04\n",
      "...            ...           ...         ...\n",
      "3772       0.00148      -0.00060      848.53\n",
      "5191       0.00204      -0.00040      798.96\n",
      "5226       0.00204       0.00100      769.47\n",
      "5390       0.00212      -0.00052      788.09\n",
      "860        0.00032       0.00008      909.37\n",
      "\n",
      "[6363 rows x 3 columns]\n"
     ]
    },
    {
     "data": {
      "text/plain": "      X-Koordinate  Y-Koordinate  Temperatur\n0          0.00244       0.00128      722.51\n1          0.00116      -0.00120      795.43\n2          0.00012       0.00160      617.75\n3          0.00152      -0.00176      637.29\n4          0.00084      -0.00068      876.04\n...            ...           ...         ...\n6358       0.00148      -0.00060      848.53\n6359       0.00204      -0.00040      798.96\n6360       0.00204       0.00100      769.47\n6361       0.00212      -0.00052      788.09\n6362       0.00032       0.00008      909.37\n\n[6363 rows x 3 columns]",
      "text/html": "<div>\n<style scoped>\n    .dataframe tbody tr th:only-of-type {\n        vertical-align: middle;\n    }\n\n    .dataframe tbody tr th {\n        vertical-align: top;\n    }\n\n    .dataframe thead th {\n        text-align: right;\n    }\n</style>\n<table border=\"1\" class=\"dataframe\">\n  <thead>\n    <tr style=\"text-align: right;\">\n      <th></th>\n      <th>X-Koordinate</th>\n      <th>Y-Koordinate</th>\n      <th>Temperatur</th>\n    </tr>\n  </thead>\n  <tbody>\n    <tr>\n      <th>0</th>\n      <td>0.00244</td>\n      <td>0.00128</td>\n      <td>722.51</td>\n    </tr>\n    <tr>\n      <th>1</th>\n      <td>0.00116</td>\n      <td>-0.00120</td>\n      <td>795.43</td>\n    </tr>\n    <tr>\n      <th>2</th>\n      <td>0.00012</td>\n      <td>0.00160</td>\n      <td>617.75</td>\n    </tr>\n    <tr>\n      <th>3</th>\n      <td>0.00152</td>\n      <td>-0.00176</td>\n      <td>637.29</td>\n    </tr>\n    <tr>\n      <th>4</th>\n      <td>0.00084</td>\n      <td>-0.00068</td>\n      <td>876.04</td>\n    </tr>\n    <tr>\n      <th>...</th>\n      <td>...</td>\n      <td>...</td>\n      <td>...</td>\n    </tr>\n    <tr>\n      <th>6358</th>\n      <td>0.00148</td>\n      <td>-0.00060</td>\n      <td>848.53</td>\n    </tr>\n    <tr>\n      <th>6359</th>\n      <td>0.00204</td>\n      <td>-0.00040</td>\n      <td>798.96</td>\n    </tr>\n    <tr>\n      <th>6360</th>\n      <td>0.00204</td>\n      <td>0.00100</td>\n      <td>769.47</td>\n    </tr>\n    <tr>\n      <th>6361</th>\n      <td>0.00212</td>\n      <td>-0.00052</td>\n      <td>788.09</td>\n    </tr>\n    <tr>\n      <th>6362</th>\n      <td>0.00032</td>\n      <td>0.00008</td>\n      <td>909.37</td>\n    </tr>\n  </tbody>\n</table>\n<p>6363 rows × 3 columns</p>\n</div>"
     },
     "execution_count": 6,
     "metadata": {},
     "output_type": "execute_result"
    }
   ],
   "source": [
    "df1 = df.sample(frac=1, random_state=42)  # Hier wird 42 als Random State verwendet, um die Ergebnisse reproduzierbar zu machen\n",
    "\n",
    "print(df1)\n",
    "df_reset = df1.reset_index(drop=True)\n",
    "df_reset"
   ]
  },
  {
   "cell_type": "code",
   "execution_count": 7,
   "id": "a4e72a16",
   "metadata": {
    "ExecuteTime": {
     "end_time": "2024-02-28T12:44:25.210021500Z",
     "start_time": "2024-02-28T12:44:25.202621100Z"
    }
   },
   "outputs": [],
   "source": [
    "label = df_reset[\"Temperatur\"]\n",
    "# Korrektur: Verwenden Sie den Spaltennamen direkt, ohne Indexierung der columns-Eigenschaft\n",
    "df1 = df_reset.drop(\"Temperatur\", axis=1)\n",
    "X = df1\n",
    "y = label\n"
   ]
  },
  {
   "cell_type": "markdown",
   "source": [],
   "metadata": {
    "collapsed": false
   },
   "id": "f7fa289a50d87423"
  },
  {
   "cell_type": "code",
   "execution_count": 8,
   "id": "e694a236",
   "metadata": {
    "ExecuteTime": {
     "end_time": "2024-02-28T12:44:25.557710400Z",
     "start_time": "2024-02-28T12:44:25.547549700Z"
    }
   },
   "outputs": [
    {
     "data": {
      "text/plain": "      X-Koordinate  Y-Koordinate\n0          0.00244       0.00128\n1          0.00116      -0.00120\n2          0.00012       0.00160\n3          0.00152      -0.00176\n4          0.00084      -0.00068\n...            ...           ...\n6358       0.00148      -0.00060\n6359       0.00204      -0.00040\n6360       0.00204       0.00100\n6361       0.00212      -0.00052\n6362       0.00032       0.00008\n\n[6363 rows x 2 columns]",
      "text/html": "<div>\n<style scoped>\n    .dataframe tbody tr th:only-of-type {\n        vertical-align: middle;\n    }\n\n    .dataframe tbody tr th {\n        vertical-align: top;\n    }\n\n    .dataframe thead th {\n        text-align: right;\n    }\n</style>\n<table border=\"1\" class=\"dataframe\">\n  <thead>\n    <tr style=\"text-align: right;\">\n      <th></th>\n      <th>X-Koordinate</th>\n      <th>Y-Koordinate</th>\n    </tr>\n  </thead>\n  <tbody>\n    <tr>\n      <th>0</th>\n      <td>0.00244</td>\n      <td>0.00128</td>\n    </tr>\n    <tr>\n      <th>1</th>\n      <td>0.00116</td>\n      <td>-0.00120</td>\n    </tr>\n    <tr>\n      <th>2</th>\n      <td>0.00012</td>\n      <td>0.00160</td>\n    </tr>\n    <tr>\n      <th>3</th>\n      <td>0.00152</td>\n      <td>-0.00176</td>\n    </tr>\n    <tr>\n      <th>4</th>\n      <td>0.00084</td>\n      <td>-0.00068</td>\n    </tr>\n    <tr>\n      <th>...</th>\n      <td>...</td>\n      <td>...</td>\n    </tr>\n    <tr>\n      <th>6358</th>\n      <td>0.00148</td>\n      <td>-0.00060</td>\n    </tr>\n    <tr>\n      <th>6359</th>\n      <td>0.00204</td>\n      <td>-0.00040</td>\n    </tr>\n    <tr>\n      <th>6360</th>\n      <td>0.00204</td>\n      <td>0.00100</td>\n    </tr>\n    <tr>\n      <th>6361</th>\n      <td>0.00212</td>\n      <td>-0.00052</td>\n    </tr>\n    <tr>\n      <th>6362</th>\n      <td>0.00032</td>\n      <td>0.00008</td>\n    </tr>\n  </tbody>\n</table>\n<p>6363 rows × 2 columns</p>\n</div>"
     },
     "execution_count": 8,
     "metadata": {},
     "output_type": "execute_result"
    }
   ],
   "source": [
    "X"
   ]
  },
  {
   "cell_type": "code",
   "execution_count": 9,
   "id": "3f3303b4",
   "metadata": {
    "ExecuteTime": {
     "end_time": "2024-02-28T12:44:26.156176800Z",
     "start_time": "2024-02-28T12:44:26.139939900Z"
    }
   },
   "outputs": [
    {
     "data": {
      "text/plain": "0       722.51\n1       795.43\n2       617.75\n3       637.29\n4       876.04\n         ...  \n6358    848.53\n6359    798.96\n6360    769.47\n6361    788.09\n6362    909.37\nName: Temperatur, Length: 6363, dtype: float64"
     },
     "execution_count": 9,
     "metadata": {},
     "output_type": "execute_result"
    }
   ],
   "source": [
    "y"
   ]
  },
  {
   "cell_type": "code",
   "execution_count": 10,
   "id": "e3ad8da0",
   "metadata": {
    "ExecuteTime": {
     "end_time": "2024-02-28T12:44:26.372833300Z",
     "start_time": "2024-02-28T12:44:26.359220300Z"
    }
   },
   "outputs": [],
   "source": [
    " # train_df enthält 80% der Daten, test_df enthält 20% der Daten\n",
    "X_train, X_test, y_train, y_test = train_test_split(X, y, test_size=0.20, random_state=42)\n"
   ]
  },
  {
   "cell_type": "code",
   "execution_count": 11,
   "id": "9c705edb",
   "metadata": {
    "ExecuteTime": {
     "end_time": "2024-02-28T12:44:27.914582Z",
     "start_time": "2024-02-28T12:44:27.877681100Z"
    }
   },
   "outputs": [],
   "source": [
    "# Initialisiere einen MinMaxScaler für die Features\n",
    "scaler_features = MinMaxScaler()\n",
    "scaler_features2 = MinMaxScaler()\n",
    "# Skaliere X_train und X_test\n",
    "X_train_scaled = scaler_features.fit_transform(X_train)\n",
    "X_test_scaled = scaler_features.transform(X_test)  # Nutze gleiche Skalierungsparameter ohne das X_Test Informationen einfließen\n",
    "\n",
    "# Initialisiere einen SEPARATEN MinMaxScaler für das Ziel, wenn nötig\n",
    "scaler_target = MinMaxScaler()\n",
    "\n",
    "\n",
    "# Skaliere y_train und y_test. Beachte, dass y_train.reshape(-1, 1) verwendet wird, da MinMaxScaler \n",
    "# erwartet, dass die Eingaben als 2D-Arrays kommen, und Ziele normalerweise als 1D-Arrays vorliegen.\n",
    "y_train_scaled = scaler_target.fit_transform(y_train.values.reshape(-1, 1))\n",
    "y_test_scaled = scaler_target.transform(y_test.values.reshape(-1, 1))\n"
   ]
  },
  {
   "cell_type": "code",
   "execution_count": 12,
   "id": "bbefe631e495b483",
   "metadata": {
    "ExecuteTime": {
     "end_time": "2024-02-28T12:44:28.800449500Z",
     "start_time": "2024-02-28T12:44:28.793505100Z"
    }
   },
   "outputs": [
    {
     "data": {
      "text/plain": "array([[0.96774194, 0.58      ],\n       [0.12903226, 0.07      ],\n       [0.03225806, 0.07      ],\n       ...,\n       [0.01612903, 0.25      ],\n       [0.67741935, 0.82      ],\n       [0.5483871 , 0.65      ]])"
     },
     "execution_count": 12,
     "metadata": {},
     "output_type": "execute_result"
    }
   ],
   "source": [
    "X_train_scaled"
   ]
  },
  {
   "cell_type": "code",
   "execution_count": 13,
   "outputs": [
    {
     "data": {
      "text/plain": "1.0"
     },
     "execution_count": 13,
     "metadata": {},
     "output_type": "execute_result"
    }
   ],
   "source": [
    "y_train_scaled.max()"
   ],
   "metadata": {
    "collapsed": false,
    "ExecuteTime": {
     "end_time": "2024-02-28T12:44:29.257151600Z",
     "start_time": "2024-02-28T12:44:29.247161100Z"
    }
   },
   "id": "ce04ce43aac2242f"
  },
  {
   "cell_type": "code",
   "execution_count": 20,
   "outputs": [
    {
     "name": "stdout",
     "output_type": "stream",
     "text": [
      "Epoch 1/500\n",
      "204/204 [==============================] - 3s 7ms/step - loss: 17.2875 - mae: 0.2442 - val_loss: 7.0861 - val_mae: 0.1427\n",
      "Epoch 2/500\n",
      "204/204 [==============================] - 1s 6ms/step - loss: 4.3521 - mae: 0.1316 - val_loss: 2.5207 - val_mae: 0.1242\n",
      "Epoch 3/500\n",
      "204/204 [==============================] - 1s 5ms/step - loss: 1.6995 - mae: 0.1228 - val_loss: 1.1239 - val_mae: 0.1394\n",
      "Epoch 4/500\n",
      "204/204 [==============================] - 1s 5ms/step - loss: 0.8271 - mae: 0.1212 - val_loss: 0.6085 - val_mae: 0.1193\n",
      "Epoch 5/500\n",
      "204/204 [==============================] - 1s 6ms/step - loss: 0.4855 - mae: 0.1215 - val_loss: 0.3939 - val_mae: 0.1437\n",
      "Epoch 6/500\n",
      "204/204 [==============================] - 1s 6ms/step - loss: 0.3241 - mae: 0.1184 - val_loss: 0.2724 - val_mae: 0.1139\n",
      "Epoch 7/500\n",
      "204/204 [==============================] - 1s 6ms/step - loss: 0.2379 - mae: 0.1160 - val_loss: 0.2065 - val_mae: 0.1109\n",
      "Epoch 8/500\n",
      "204/204 [==============================] - 1s 5ms/step - loss: 0.1879 - mae: 0.1180 - val_loss: 0.1697 - val_mae: 0.1065\n",
      "Epoch 9/500\n",
      "204/204 [==============================] - 1s 6ms/step - loss: 0.1578 - mae: 0.1155 - val_loss: 0.1440 - val_mae: 0.1070\n",
      "Epoch 10/500\n",
      "204/204 [==============================] - 1s 4ms/step - loss: 0.1391 - mae: 0.1155 - val_loss: 0.1288 - val_mae: 0.1081\n",
      "Epoch 11/500\n",
      "204/204 [==============================] - 1s 4ms/step - loss: 0.1260 - mae: 0.1122 - val_loss: 0.1205 - val_mae: 0.1103\n",
      "Epoch 12/500\n",
      "204/204 [==============================] - 1s 4ms/step - loss: 0.1187 - mae: 0.1124 - val_loss: 0.1154 - val_mae: 0.1060\n",
      "Epoch 13/500\n",
      "204/204 [==============================] - 1s 4ms/step - loss: 0.1146 - mae: 0.1132 - val_loss: 0.1113 - val_mae: 0.1123\n",
      "Epoch 14/500\n",
      "204/204 [==============================] - 1s 4ms/step - loss: 0.1139 - mae: 0.1241 - val_loss: 0.1075 - val_mae: 0.1102\n",
      "Epoch 15/500\n",
      "204/204 [==============================] - 1s 4ms/step - loss: 0.1077 - mae: 0.1112 - val_loss: 0.1106 - val_mae: 0.1209\n",
      "Epoch 16/500\n",
      "204/204 [==============================] - 1s 4ms/step - loss: 0.1061 - mae: 0.1101 - val_loss: 0.1030 - val_mae: 0.1037\n",
      "Epoch 17/500\n",
      "204/204 [==============================] - 1s 4ms/step - loss: 0.1050 - mae: 0.1103 - val_loss: 0.1023 - val_mae: 0.1130\n",
      "Epoch 18/500\n",
      "204/204 [==============================] - 1s 4ms/step - loss: 0.1043 - mae: 0.1131 - val_loss: 0.1015 - val_mae: 0.1073\n",
      "Epoch 19/500\n",
      "204/204 [==============================] - 1s 4ms/step - loss: 0.1035 - mae: 0.1118 - val_loss: 0.1030 - val_mae: 0.1092\n",
      "Epoch 20/500\n",
      "204/204 [==============================] - 1s 4ms/step - loss: 0.1016 - mae: 0.1073 - val_loss: 0.0990 - val_mae: 0.0978\n",
      "Epoch 21/500\n",
      "204/204 [==============================] - 1s 4ms/step - loss: 0.1012 - mae: 0.1080 - val_loss: 0.1011 - val_mae: 0.1063\n",
      "Epoch 22/500\n",
      "204/204 [==============================] - 1s 4ms/step - loss: 0.1010 - mae: 0.1101 - val_loss: 0.0977 - val_mae: 0.1056\n",
      "Epoch 23/500\n",
      "204/204 [==============================] - 1s 4ms/step - loss: 0.1006 - mae: 0.1116 - val_loss: 0.0970 - val_mae: 0.1057\n",
      "Epoch 24/500\n",
      "204/204 [==============================] - 1s 4ms/step - loss: 0.0990 - mae: 0.1064 - val_loss: 0.1015 - val_mae: 0.1159\n",
      "Epoch 25/500\n",
      "204/204 [==============================] - 1s 4ms/step - loss: 0.0979 - mae: 0.1039 - val_loss: 0.0970 - val_mae: 0.1057\n",
      "Epoch 26/500\n",
      "204/204 [==============================] - 1s 4ms/step - loss: 0.0990 - mae: 0.1096 - val_loss: 0.0952 - val_mae: 0.0992\n",
      "Epoch 27/500\n",
      "204/204 [==============================] - 1s 4ms/step - loss: 0.0968 - mae: 0.1038 - val_loss: 0.0947 - val_mae: 0.1012\n",
      "Epoch 28/500\n",
      "204/204 [==============================] - 1s 4ms/step - loss: 0.0968 - mae: 0.1054 - val_loss: 0.0986 - val_mae: 0.1069\n",
      "Epoch 29/500\n",
      "204/204 [==============================] - 1s 4ms/step - loss: 0.0966 - mae: 0.1064 - val_loss: 0.0943 - val_mae: 0.1029\n",
      "Epoch 30/500\n",
      "204/204 [==============================] - 1s 4ms/step - loss: 0.0954 - mae: 0.1032 - val_loss: 0.0931 - val_mae: 0.1036\n",
      "Epoch 31/500\n",
      "204/204 [==============================] - 1s 4ms/step - loss: 0.0959 - mae: 0.1091 - val_loss: 0.0957 - val_mae: 0.1106\n",
      "Epoch 32/500\n",
      "204/204 [==============================] - 1s 4ms/step - loss: 0.0936 - mae: 0.1026 - val_loss: 0.1017 - val_mae: 0.1251\n",
      "Epoch 33/500\n",
      "204/204 [==============================] - 1s 4ms/step - loss: 0.0936 - mae: 0.1050 - val_loss: 0.0933 - val_mae: 0.1060\n",
      "Epoch 34/500\n",
      "204/204 [==============================] - 1s 4ms/step - loss: 0.0929 - mae: 0.1037 - val_loss: 0.0907 - val_mae: 0.0981\n",
      "Epoch 35/500\n",
      "204/204 [==============================] - 1s 4ms/step - loss: 0.0931 - mae: 0.1063 - val_loss: 0.0901 - val_mae: 0.0990\n",
      "Epoch 36/500\n",
      "204/204 [==============================] - 1s 4ms/step - loss: 0.0910 - mae: 0.1000 - val_loss: 0.0926 - val_mae: 0.1008\n",
      "Epoch 37/500\n",
      "204/204 [==============================] - 1s 4ms/step - loss: 0.0907 - mae: 0.0997 - val_loss: 0.0934 - val_mae: 0.1109\n",
      "Epoch 38/500\n",
      "204/204 [==============================] - 1s 4ms/step - loss: 0.0908 - mae: 0.1014 - val_loss: 0.0890 - val_mae: 0.0981\n",
      "Epoch 39/500\n",
      "204/204 [==============================] - 1s 4ms/step - loss: 0.0899 - mae: 0.0990 - val_loss: 0.0928 - val_mae: 0.1098\n",
      "Epoch 40/500\n",
      "204/204 [==============================] - 1s 4ms/step - loss: 0.0893 - mae: 0.0989 - val_loss: 0.0876 - val_mae: 0.0938\n",
      "Epoch 41/500\n",
      "204/204 [==============================] - 1s 4ms/step - loss: 0.0888 - mae: 0.0981 - val_loss: 0.0906 - val_mae: 0.1013\n",
      "Epoch 42/500\n",
      "204/204 [==============================] - 1s 4ms/step - loss: 0.0901 - mae: 0.1031 - val_loss: 0.0869 - val_mae: 0.0992\n",
      "Epoch 43/500\n",
      "204/204 [==============================] - 1s 4ms/step - loss: 0.0888 - mae: 0.1003 - val_loss: 0.0878 - val_mae: 0.0985\n",
      "Epoch 44/500\n",
      "204/204 [==============================] - 1s 4ms/step - loss: 0.0882 - mae: 0.0992 - val_loss: 0.0864 - val_mae: 0.0970\n",
      "Epoch 45/500\n",
      "204/204 [==============================] - 1s 4ms/step - loss: 0.0869 - mae: 0.0957 - val_loss: 0.0869 - val_mae: 0.0984\n",
      "Epoch 46/500\n",
      "204/204 [==============================] - 1s 4ms/step - loss: 0.0878 - mae: 0.0998 - val_loss: 0.0856 - val_mae: 0.0985\n",
      "Epoch 47/500\n",
      "204/204 [==============================] - 1s 4ms/step - loss: 0.0875 - mae: 0.1000 - val_loss: 0.0931 - val_mae: 0.1221\n",
      "Epoch 48/500\n",
      "204/204 [==============================] - 1s 4ms/step - loss: 0.0866 - mae: 0.0988 - val_loss: 0.0949 - val_mae: 0.1268\n",
      "Epoch 49/500\n",
      "204/204 [==============================] - 1s 4ms/step - loss: 0.0865 - mae: 0.0995 - val_loss: 0.0855 - val_mae: 0.0965\n",
      "Epoch 50/500\n",
      "204/204 [==============================] - 1s 4ms/step - loss: 0.0859 - mae: 0.0973 - val_loss: 0.0866 - val_mae: 0.1009\n",
      "Epoch 51/500\n",
      "204/204 [==============================] - 1s 4ms/step - loss: 0.0869 - mae: 0.1020 - val_loss: 0.0838 - val_mae: 0.0940\n",
      "Epoch 52/500\n",
      "204/204 [==============================] - 1s 4ms/step - loss: 0.0848 - mae: 0.0960 - val_loss: 0.0841 - val_mae: 0.0909\n",
      "Epoch 53/500\n",
      "204/204 [==============================] - 1s 4ms/step - loss: 0.0847 - mae: 0.0951 - val_loss: 0.0832 - val_mae: 0.0928\n",
      "Epoch 54/500\n",
      "204/204 [==============================] - 1s 4ms/step - loss: 0.0858 - mae: 0.1004 - val_loss: 0.0828 - val_mae: 0.0951\n",
      "Epoch 55/500\n",
      "204/204 [==============================] - 1s 4ms/step - loss: 0.0837 - mae: 0.0946 - val_loss: 0.0825 - val_mae: 0.0904\n",
      "Epoch 56/500\n",
      "204/204 [==============================] - 1s 4ms/step - loss: 0.0836 - mae: 0.0945 - val_loss: 0.0823 - val_mae: 0.0936\n",
      "Epoch 57/500\n",
      "204/204 [==============================] - 1s 4ms/step - loss: 0.0836 - mae: 0.0962 - val_loss: 0.0871 - val_mae: 0.1083\n",
      "Epoch 58/500\n",
      "204/204 [==============================] - 1s 4ms/step - loss: 0.0834 - mae: 0.0952 - val_loss: 0.0826 - val_mae: 0.0988\n",
      "Epoch 59/500\n",
      "204/204 [==============================] - 1s 4ms/step - loss: 0.0829 - mae: 0.0958 - val_loss: 0.0825 - val_mae: 0.0939\n",
      "Epoch 60/500\n",
      "204/204 [==============================] - 1s 4ms/step - loss: 0.0826 - mae: 0.0942 - val_loss: 0.0815 - val_mae: 0.0896\n",
      "Epoch 61/500\n",
      "204/204 [==============================] - 1s 4ms/step - loss: 0.0829 - mae: 0.0971 - val_loss: 0.0826 - val_mae: 0.1005\n",
      "Epoch 62/500\n",
      "204/204 [==============================] - 1s 4ms/step - loss: 0.0818 - mae: 0.0939 - val_loss: 0.0853 - val_mae: 0.1029\n",
      "Epoch 63/500\n",
      "204/204 [==============================] - 1s 4ms/step - loss: 0.0828 - mae: 0.0982 - val_loss: 0.0805 - val_mae: 0.0926\n",
      "Epoch 64/500\n",
      "204/204 [==============================] - 1s 4ms/step - loss: 0.0812 - mae: 0.0931 - val_loss: 0.0837 - val_mae: 0.1024\n",
      "Epoch 65/500\n",
      "204/204 [==============================] - 1s 4ms/step - loss: 0.0813 - mae: 0.0950 - val_loss: 0.0894 - val_mae: 0.1223\n",
      "Epoch 66/500\n",
      "204/204 [==============================] - 1s 4ms/step - loss: 0.0808 - mae: 0.0935 - val_loss: 0.0794 - val_mae: 0.0913\n",
      "Epoch 67/500\n",
      "204/204 [==============================] - 1s 4ms/step - loss: 0.0808 - mae: 0.0937 - val_loss: 0.0793 - val_mae: 0.0945\n",
      "Epoch 68/500\n",
      "204/204 [==============================] - 1s 4ms/step - loss: 0.0809 - mae: 0.0964 - val_loss: 0.0885 - val_mae: 0.1211\n",
      "Epoch 69/500\n",
      "204/204 [==============================] - 1s 4ms/step - loss: 0.0805 - mae: 0.0934 - val_loss: 0.0796 - val_mae: 0.0924\n",
      "Epoch 70/500\n",
      "204/204 [==============================] - 1s 4ms/step - loss: 0.0799 - mae: 0.0924 - val_loss: 0.0788 - val_mae: 0.0882\n",
      "Epoch 71/500\n",
      "204/204 [==============================] - 1s 4ms/step - loss: 0.0795 - mae: 0.0911 - val_loss: 0.0785 - val_mae: 0.0911\n",
      "Epoch 72/500\n",
      "204/204 [==============================] - 1s 4ms/step - loss: 0.0792 - mae: 0.0926 - val_loss: 0.0833 - val_mae: 0.1042\n",
      "Epoch 73/500\n",
      "204/204 [==============================] - 1s 4ms/step - loss: 0.0794 - mae: 0.0929 - val_loss: 0.0779 - val_mae: 0.0874\n",
      "Epoch 74/500\n",
      "204/204 [==============================] - 1s 4ms/step - loss: 0.0794 - mae: 0.0939 - val_loss: 0.0840 - val_mae: 0.1121\n",
      "Epoch 75/500\n",
      "204/204 [==============================] - 1s 4ms/step - loss: 0.0785 - mae: 0.0918 - val_loss: 0.0771 - val_mae: 0.0892\n",
      "Epoch 76/500\n",
      "204/204 [==============================] - 1s 4ms/step - loss: 0.0786 - mae: 0.0937 - val_loss: 0.0791 - val_mae: 0.0919\n",
      "Epoch 77/500\n",
      "204/204 [==============================] - 1s 3ms/step - loss: 0.0779 - mae: 0.0904 - val_loss: 0.0770 - val_mae: 0.0879\n",
      "Epoch 78/500\n",
      "204/204 [==============================] - 1s 3ms/step - loss: 0.0785 - mae: 0.0930 - val_loss: 0.0769 - val_mae: 0.0865\n",
      "Epoch 79/500\n",
      "204/204 [==============================] - 1s 3ms/step - loss: 0.0782 - mae: 0.0934 - val_loss: 0.0913 - val_mae: 0.1330\n",
      "Epoch 80/500\n",
      "204/204 [==============================] - 1s 3ms/step - loss: 0.0784 - mae: 0.0940 - val_loss: 0.0787 - val_mae: 0.0925\n",
      "Epoch 81/500\n",
      "204/204 [==============================] - 1s 3ms/step - loss: 0.0787 - mae: 0.0960 - val_loss: 0.0761 - val_mae: 0.0868\n",
      "Epoch 82/500\n",
      "204/204 [==============================] - 1s 3ms/step - loss: 0.0768 - mae: 0.0895 - val_loss: 0.0762 - val_mae: 0.0866\n",
      "Epoch 83/500\n",
      "204/204 [==============================] - 1s 3ms/step - loss: 0.0769 - mae: 0.0908 - val_loss: 0.0754 - val_mae: 0.0866\n",
      "Epoch 84/500\n",
      "204/204 [==============================] - 1s 3ms/step - loss: 0.0776 - mae: 0.0943 - val_loss: 0.0754 - val_mae: 0.0861\n",
      "Epoch 85/500\n",
      "204/204 [==============================] - 1s 3ms/step - loss: 0.0770 - mae: 0.0927 - val_loss: 0.0789 - val_mae: 0.0995\n",
      "Epoch 86/500\n",
      "204/204 [==============================] - 1s 3ms/step - loss: 0.0765 - mae: 0.0912 - val_loss: 0.0759 - val_mae: 0.0862\n",
      "Epoch 87/500\n",
      "204/204 [==============================] - 1s 3ms/step - loss: 0.0762 - mae: 0.0901 - val_loss: 0.0757 - val_mae: 0.0900\n",
      "Epoch 88/500\n",
      "204/204 [==============================] - 1s 3ms/step - loss: 0.0766 - mae: 0.0927 - val_loss: 0.0850 - val_mae: 0.1184\n",
      "Epoch 89/500\n",
      "204/204 [==============================] - 1s 3ms/step - loss: 0.0765 - mae: 0.0933 - val_loss: 0.0826 - val_mae: 0.1133\n",
      "Epoch 90/500\n",
      "204/204 [==============================] - 1s 3ms/step - loss: 0.0759 - mae: 0.0912 - val_loss: 0.0755 - val_mae: 0.0913\n",
      "Epoch 91/500\n",
      "204/204 [==============================] - 1s 3ms/step - loss: 0.0759 - mae: 0.0914 - val_loss: 0.0744 - val_mae: 0.0894\n",
      "Epoch 92/500\n",
      "204/204 [==============================] - 1s 3ms/step - loss: 0.0756 - mae: 0.0913 - val_loss: 0.0741 - val_mae: 0.0880\n",
      "Epoch 93/500\n",
      "204/204 [==============================] - 1s 3ms/step - loss: 0.0753 - mae: 0.0903 - val_loss: 0.0747 - val_mae: 0.0859\n",
      "Epoch 94/500\n",
      "204/204 [==============================] - 1s 3ms/step - loss: 0.0756 - mae: 0.0923 - val_loss: 0.0740 - val_mae: 0.0870\n",
      "Epoch 95/500\n",
      "204/204 [==============================] - 1s 3ms/step - loss: 0.0748 - mae: 0.0899 - val_loss: 0.0796 - val_mae: 0.1111\n",
      "Epoch 96/500\n",
      "204/204 [==============================] - 1s 3ms/step - loss: 0.0747 - mae: 0.0897 - val_loss: 0.0733 - val_mae: 0.0858\n",
      "Epoch 97/500\n",
      "204/204 [==============================] - 1s 3ms/step - loss: 0.0764 - mae: 0.0968 - val_loss: 0.0734 - val_mae: 0.0906\n",
      "Epoch 98/500\n",
      "204/204 [==============================] - 1s 3ms/step - loss: 0.0741 - mae: 0.0891 - val_loss: 0.0764 - val_mae: 0.0958\n",
      "Epoch 99/500\n",
      "204/204 [==============================] - 1s 3ms/step - loss: 0.0739 - mae: 0.0881 - val_loss: 0.0734 - val_mae: 0.0900\n",
      "Epoch 100/500\n",
      "204/204 [==============================] - 1s 3ms/step - loss: 0.0741 - mae: 0.0893 - val_loss: 0.0730 - val_mae: 0.0847\n",
      "Epoch 101/500\n",
      "204/204 [==============================] - 1s 3ms/step - loss: 0.0743 - mae: 0.0921 - val_loss: 0.0725 - val_mae: 0.0857\n",
      "Epoch 102/500\n",
      "204/204 [==============================] - 1s 3ms/step - loss: 0.0753 - mae: 0.0945 - val_loss: 0.0730 - val_mae: 0.0864\n",
      "Epoch 103/500\n",
      "204/204 [==============================] - 1s 3ms/step - loss: 0.0744 - mae: 0.0922 - val_loss: 0.0727 - val_mae: 0.0857\n",
      "Epoch 104/500\n",
      "191/204 [===========================>..] - ETA: 0s - loss: 0.0740 - mae: 0.0918Restoring model weights from the end of the best epoch: 99.\n",
      "204/204 [==============================] - 1s 3ms/step - loss: 0.0740 - mae: 0.0914 - val_loss: 0.0735 - val_mae: 0.0880\n",
      "Epoch 104: early stopping\n"
     ]
    }
   ],
   "source": [
    "# Netzwerkarchitektur\n",
    "model = Sequential([\n",
    "    # Eingabeschicht\n",
    "    Dense(32, activation='relu', input_shape=(2,), kernel_initializer='he_uniform', kernel_regularizer=l2(0.01)),\n",
    "    #Dropout(0.01),\n",
    "    # Versteckte Schicht\n",
    "    Dense(448, activation='relu', kernel_initializer='he_uniform', kernel_regularizer=l2(0.01)),\n",
    "    Dense(352, activation='relu', kernel_initializer='he_uniform', kernel_regularizer=l2(0.01)),\n",
    "    Dense(320, activation='relu', kernel_initializer='he_uniform', kernel_regularizer=l2(0.01)),\n",
    "    Dense(256, activation='relu', kernel_initializer='he_uniform', kernel_regularizer=l2(0.01)),\n",
    "    Dense(416, activation='relu', kernel_initializer='he_uniform', kernel_regularizer=l2(0.01)),\n",
    "    Dense(128, activation='relu', kernel_initializer='he_uniform', kernel_regularizer=l2(0.01)),\n",
    "    Dense(96, activation='relu', kernel_initializer='he_uniform', kernel_regularizer=l2(0.01)),\n",
    "    Dense(32, activation='relu', kernel_initializer='he_uniform', kernel_regularizer=l2(0.01)),\n",
    "\n",
    "    \n",
    "    #Dropout(0.01),\n",
    "    # Ausgabeschicht für Regression (1 Einheit ohne Aktivierungsfunktion)\n",
    "    Dense(1 , activation = 'linear')\n",
    "])\n",
    "\n",
    "# Optimierer\n",
    "optimizer = tf.keras.optimizers.Adam(learning_rate=0.001)\n",
    "\n",
    "# Modell kompilieren (Verwendung von mean_squared_error als Verlustfunktion für Regression)\n",
    "model.compile(optimizer=optimizer,\n",
    "              loss='mean_squared_error',\n",
    "              metrics=['mae'])  # Metriken für Regression: Mean Absolute Error und Mean Squared Error\n",
    "\n",
    "# Early Stopping Callback\n",
    "early_stopping = EarlyStopping(monitor='loss', patience=5, verbose=1, mode='min', restore_best_weights=True)\n",
    "\n",
    "# Trainingsparameter\n",
    "batch_size = 20\n",
    "epochs = 500\n",
    "\n",
    "# Modell trainieren (Annahme: X_train, y_train, X_val, y_val sind vordefiniert)\n",
    "history = model.fit(X_train_scaled, y_train_scaled,\n",
    "                    batch_size=batch_size,\n",
    "                    epochs=epochs,\n",
    "                    validation_split=0.2,\n",
    "                    callbacks=[early_stopping])"
   ],
   "metadata": {
    "collapsed": false,
    "ExecuteTime": {
     "end_time": "2024-02-28T13:04:06.068780200Z",
     "start_time": "2024-02-28T13:02:43.599957200Z"
    }
   },
   "id": "8b52e1a9a6ff3aeb"
  },
  {
   "cell_type": "code",
   "execution_count": 21,
   "outputs": [
    {
     "data": {
      "text/plain": "<Figure size 1000x600 with 1 Axes>",
      "image/png": "[encoded data removed]"
     },
     "metadata": {},
     "output_type": "display_data"
    }
   ],
   "source": [
    "mae = history.history['loss']\n",
    "val_mae = history.history['val_loss']\n",
    "\n",
    "epochs = range(1, len(mae) + 1)\n",
    "\n",
    "# MAE Diagramm\n",
    "plt.figure(figsize=(10, 6))\n",
    "plt.plot(epochs, mae, 'r', label='Training MSE')\n",
    "plt.plot(epochs, val_mae, 'b', label='Validation MSE')\n",
    "plt.title('Training and Validation MAE')\n",
    "plt.xlabel('Epochs')\n",
    "plt.ylabel('MAE')\n",
    "plt.legend()\n",
    "\n",
    "plt.show()"
   ],
   "metadata": {
    "collapsed": false,
    "ExecuteTime": {
     "end_time": "2024-02-28T13:04:14.996481900Z",
     "start_time": "2024-02-28T13:04:14.875173800Z"
    }
   },
   "id": "3688dd7102e95baf"
  },
  {
   "cell_type": "code",
   "execution_count": 22,
   "id": "9f6f672a",
   "metadata": {
    "ExecuteTime": {
     "end_time": "2024-02-28T13:04:16.121989700Z",
     "start_time": "2024-02-28T13:04:15.931131500Z"
    }
   },
   "outputs": [
    {
     "name": "stdout",
     "output_type": "stream",
     "text": [
      " Bsp. Predicted: [853.37634] Actual: [883.01] \n",
      "Durchschnittliche Abweichung (MAE): [40.12890095]\n"
     ]
    }
   ],
   "source": [
    "scaled_predicted_values = model.predict(X_test_scaled, verbose = 0)\n",
    "\n",
    "# Führen Sie die Rücktransformation der skalierten Werte durch\n",
    "original_predicted_values = scaler_target.inverse_transform(scaled_predicted_values)\n",
    "original_actual_values = scaler_target.inverse_transform(y_test_scaled)  # y_test sind die skalierten tatsächlichen Werte\n",
    "print(f' Bsp. Predicted: {original_predicted_values[100]} Actual: {original_actual_values[100]} ')\n",
    "\n",
    "def calculate_mae(list1, list2):\n",
    "    # Stelle sicher, dass beide Listen die gleiche Länge haben\n",
    "    if len(list1) != len(list2):\n",
    "        raise ValueError(\"Listen müssen die gleiche Länge haben\")\n",
    "    \n",
    "    # Berechne die absolute Differenz zwischen den Elementen der Listen\n",
    "    differences = [abs(x - y) for x, y in zip(list1, list2)]\n",
    "    \n",
    "    # Berechne den Durchschnitt der absoluten Differenzen\n",
    "    mae = sum(differences) / len(differences)\n",
    "    \n",
    "    return mae\n",
    "\n",
    "# Beispiel\n",
    "list1 = original_predicted_values\n",
    "list2 = original_actual_values\n",
    "\n",
    "mae = calculate_mae(list1, list2)\n",
    "print(f\"Durchschnittliche Abweichung (MAE): {mae}\")"
   ]
  },
  {
   "cell_type": "markdown",
   "id": "553df6fa",
   "metadata": {},
   "source": [
    "# GridSearch"
   ]
  },
  {
   "cell_type": "code",
   "execution_count": 14,
   "outputs": [
    {
     "name": "stdout",
     "output_type": "stream",
     "text": [
      "Fitting 3 folds for each of 72 candidates, totalling 216 fits\n",
      "WARNING:tensorflow:From C:\\Users\\erikm\\Desktop\\Diplomarbeit Erik Marr\\Projekt X\\venv\\Lib\\site-packages\\keras\\src\\backend.py:873: The name tf.get_default_graph is deprecated. Please use tf.compat.v1.get_default_graph instead.\n",
      "Epoch 1/30\n",
      "WARNING:tensorflow:From C:\\Users\\erikm\\Desktop\\Diplomarbeit Erik Marr\\Projekt X\\venv\\Lib\\site-packages\\keras\\src\\utils\\tf_utils.py:492: The name tf.ragged.RaggedTensorValue is deprecated. Please use tf.compat.v1.ragged.RaggedTensorValue instead.\n",
      "WARNING:tensorflow:From C:\\Users\\erikm\\Desktop\\Diplomarbeit Erik Marr\\Projekt X\\venv\\Lib\\site-packages\\keras\\src\\engine\\base_layer_utils.py:384: The name tf.executing_eagerly_outside_functions is deprecated. Please use tf.compat.v1.executing_eagerly_outside_functions instead.\n",
      "102/102 - 4s - loss: 0.4383 - mae: 0.2855 - 4s/epoch - 42ms/step\n",
      "Epoch 2/30\n",
      "102/102 - 1s - loss: 0.2407 - mae: 0.1090 - 557ms/epoch - 5ms/step\n",
      "Epoch 3/30\n",
      "102/102 - 1s - loss: 0.1981 - mae: 0.0488 - 592ms/epoch - 6ms/step\n",
      "Epoch 4/30\n",
      "102/102 - 0s - loss: 0.1798 - mae: 0.0279 - 368ms/epoch - 4ms/step\n",
      "Epoch 5/30\n",
      "102/102 - 0s - loss: 0.1697 - mae: 0.0359 - 373ms/epoch - 4ms/step\n",
      "Epoch 6/30\n",
      "102/102 - 0s - loss: 0.1604 - mae: 0.0339 - 349ms/epoch - 3ms/step\n",
      "Epoch 7/30\n",
      "102/102 - 0s - loss: 0.1520 - mae: 0.0297 - 331ms/epoch - 3ms/step\n",
      "Epoch 8/30\n",
      "102/102 - 0s - loss: 0.1440 - mae: 0.0245 - 384ms/epoch - 4ms/step\n",
      "Epoch 9/30\n",
      "102/102 - 0s - loss: 0.1364 - mae: 0.0120 - 386ms/epoch - 4ms/step\n",
      "Epoch 10/30\n",
      "102/102 - 0s - loss: 0.1302 - mae: 0.0136 - 375ms/epoch - 4ms/step\n",
      "Epoch 11/30\n",
      "102/102 - 0s - loss: 0.1246 - mae: 0.0175 - 351ms/epoch - 3ms/step\n",
      "Epoch 12/30\n",
      "102/102 - 0s - loss: 0.1195 - mae: 0.0222 - 343ms/epoch - 3ms/step\n",
      "Epoch 13/30\n",
      "102/102 - 0s - loss: 0.1144 - mae: 0.0232 - 353ms/epoch - 3ms/step\n",
      "Epoch 14/30\n",
      "102/102 - 0s - loss: 0.1087 - mae: 0.0164 - 353ms/epoch - 3ms/step\n",
      "Epoch 15/30\n",
      "102/102 - 0s - loss: 0.1037 - mae: 0.0151 - 344ms/epoch - 3ms/step\n",
      "Epoch 16/30\n",
      "102/102 - 0s - loss: 0.0991 - mae: 0.0135 - 375ms/epoch - 4ms/step\n",
      "Epoch 17/30\n",
      "102/102 - 0s - loss: 0.0961 - mae: 0.0266 - 345ms/epoch - 3ms/step\n",
      "Epoch 18/30\n",
      "102/102 - 0s - loss: 0.0913 - mae: 0.0222 - 339ms/epoch - 3ms/step\n",
      "Epoch 19/30\n",
      "102/102 - 0s - loss: 0.0868 - mae: 0.0152 - 354ms/epoch - 3ms/step\n",
      "Epoch 20/30\n",
      "102/102 - 0s - loss: 0.0834 - mae: 0.0188 - 341ms/epoch - 3ms/step\n",
      "Epoch 21/30\n",
      "102/102 - 0s - loss: 0.0799 - mae: 0.0212 - 333ms/epoch - 3ms/step\n",
      "Epoch 22/30\n",
      "102/102 - 0s - loss: 0.0773 - mae: 0.0260 - 459ms/epoch - 5ms/step\n",
      "Epoch 23/30\n",
      "102/102 - 1s - loss: 0.0743 - mae: 0.0277 - 564ms/epoch - 6ms/step\n",
      "Epoch 24/30\n",
      "102/102 - 1s - loss: 0.0693 - mae: 0.0110 - 592ms/epoch - 6ms/step\n",
      "Epoch 25/30\n",
      "102/102 - 1s - loss: 0.0664 - mae: 0.0134 - 585ms/epoch - 6ms/step\n",
      "Epoch 26/30\n",
      "102/102 - 1s - loss: 0.0633 - mae: 0.0113 - 543ms/epoch - 5ms/step\n",
      "Epoch 27/30\n",
      "102/102 - 1s - loss: 0.0606 - mae: 0.0122 - 519ms/epoch - 5ms/step\n",
      "Epoch 28/30\n",
      "102/102 - 0s - loss: 0.0581 - mae: 0.0149 - 358ms/epoch - 4ms/step\n",
      "Epoch 29/30\n",
      "102/102 - 0s - loss: 0.0554 - mae: 0.0125 - 328ms/epoch - 3ms/step\n",
      "Epoch 30/30\n",
      "102/102 - 0s - loss: 0.0530 - mae: 0.0170 - 342ms/epoch - 3ms/step\n",
      "Beste Parameter: {'fit__batch_size': 50, 'fit__epochs': 30, 'model__dropout_rate': 0.0, 'model__learning_rate': 0.001, 'model__regularization': 0.0001}\n",
      "Beste Genauigkeit: 0.9954763418747054\n"
     ]
    }
   ],
   "source": [
    "def build_model(learning_rate=0.001, activation='relu', regularization=0.0001, dropout_rate=0.0):\n",
    "    model = Sequential()\n",
    "    model.add(Dense(32, activation=activation, input_shape=(2,), kernel_initializer='he_uniform', kernel_regularizer=l2(regularization)))\n",
    "    model.add(Dropout(dropout_rate))\n",
    "\n",
    "    model.add(Dense(448, activation=activation, kernel_initializer='he_uniform', kernel_regularizer=l2(regularization)))\n",
    "    model.add(Dropout(dropout_rate))\n",
    "\n",
    "    model.add(Dense(352, activation=activation, kernel_initializer='he_uniform', kernel_regularizer=l2(regularization)))\n",
    "    model.add(Dropout(dropout_rate))\n",
    "\n",
    "    model.add(Dense(320, activation=activation, kernel_initializer='he_uniform', kernel_regularizer=l2(regularization)))\n",
    "    model.add(Dropout(dropout_rate))\n",
    "\n",
    "    model.add(Dense(256, activation=activation, kernel_initializer='he_uniform', kernel_regularizer=l2(regularization)))\n",
    "    model.add(Dropout(dropout_rate))\n",
    "\n",
    "    model.add(Dense(416, activation=activation, kernel_initializer='he_uniform', kernel_regularizer=l2(regularization)))\n",
    "    model.add(Dropout(dropout_rate))\n",
    "    \n",
    "    model.add(Dense(128, activation=activation, kernel_initializer='he_uniform', kernel_regularizer=l2(regularization)))\n",
    "    model.add(Dropout(dropout_rate))\n",
    "    \n",
    "    model.add(Dense(96, activation=activation, kernel_initializer='he_uniform', kernel_regularizer=l2(regularization)))\n",
    "    model.add(Dropout(dropout_rate))    \n",
    "    \n",
    "    model.add(Dense(32, activation=activation, kernel_initializer='he_uniform', kernel_regularizer=l2(regularization)))\n",
    "    model.add(Dropout(dropout_rate))\n",
    "    \n",
    "    model.add(Dense(1, activation='linear'))\n",
    "    model.compile(optimizer=Adam(learning_rate=learning_rate), loss='mean_squared_error', metrics=['mae'])\n",
    "    return model\n",
    "\n",
    "# Verwenden Sie eine Funktion, um das Modell zu instanziieren, für scikit-learn Wrapper\n",
    "model = KerasRegressor(model=build_model, verbose=2)\n",
    "\n",
    "# Anpassung der Parameter im param_grid\n",
    "param_grid = {\n",
    "    'model__learning_rate': [0.01, 0.001, 0.0001],\n",
    "    'model__regularization': [0.001, 0.0001],\n",
    "    'fit__batch_size': [50, 100, 200, 500],\n",
    "    'fit__epochs': [30],\n",
    "    'model__dropout_rate' : [0.0, 0.1, 0.2]\n",
    "}\n",
    "\n",
    "grid_search = GridSearchCV(estimator=model, param_grid=param_grid, n_jobs=-1, cv=3, verbose=2)\n",
    "# Hinweis: Stellen Sie sicher, dass Ihre Daten (X_train_scaled, y_train_scaled) korrekt definiert sind\n",
    "grid_result = grid_search.fit(X_train_scaled, y_train_scaled)\n",
    "# Beste Parameter und Score ausgeben\n",
    "print(\"Beste Parameter:\", grid_search.best_params_)\n",
    "print(\"Beste Genauigkeit:\", grid_search.best_score_)\n",
    "\n",
    "with open(\"Gridsearch_D3.txt\", \"w\") as f:\n",
    "    f.write(f\"Beste Parameter: {grid_search.best_params_}\\n\")\n",
    "    f.write(f\"Beste Genauigkeit: {grid_search.best_score_}\")\n"
   ],
   "metadata": {
    "collapsed": false,
    "ExecuteTime": {
     "end_time": "2024-02-28T12:58:34.172362600Z",
     "start_time": "2024-02-28T12:45:00.272039800Z"
    }
   },
   "id": "578403f6e218787a"
  },
  {
   "cell_type": "markdown",
   "source": [
    "# Random Search"
   ],
   "metadata": {
    "collapsed": false
   },
   "id": "69b9aef262bcb2c3"
  },
  {
   "cell_type": "code",
   "execution_count": null,
   "id": "3f17e2cf",
   "metadata": {
    "ExecuteTime": {
     "start_time": "2024-02-21T15:33:51.276225200Z"
    }
   },
   "outputs": [],
   "source": [
    "# Funktion zum Erstellen des Modells\n",
    "def build_model(hp):\n",
    "    model = Sequential()\n",
    "    model.add(Dense(hp.Int('input_units', min_value=32, max_value=512, step=32), input_shape=(2,), activation='relu'))\n",
    "    for i in range(hp.Int('n_layers', 1, 10)):\n",
    "        model.add(Dense(hp.Int(f'units_{i}', min_value=32, max_value=512, step=32), activation='relu'))\n",
    "    model.add(Dense(1, activation='linear'))\n",
    "    model.compile(optimizer='adam', loss='mean_squared_error')\n",
    "    return model\n",
    "\n",
    "# Durchführung der Random Search dreimal\n",
    "for run in range(1, 4):\n",
    "    # Anpassen des Verzeichnisses und des Projektnamens für jeden Durchlauf\n",
    "    directory = 'random_search'\n",
    "    project_name = f'random_search_D3_{run}'\n",
    "    \n",
    "    tuner = RandomSearch(\n",
    "        build_model,\n",
    "        objective='val_loss',\n",
    "        max_trials=100,\n",
    "        executions_per_trial=1,\n",
    "        directory=directory,\n",
    "        project_name=project_name\n",
    "    )\n",
    "    \n",
    "    # Durchführung des Random Search\n",
    "    tuner.search(X_train_scaled, y_train_scaled, epochs=50, batch_size=50, validation_split=0.2, callbacks=[EarlyStopping(monitor='val_loss', patience=5)])\n",
    "    \n",
    "    # Abrufen und Speichern des besten Modells\n",
    "    best_model = tuner.get_best_models(num_models=1)[0]\n",
    "    model_path = os.path.join(directory, project_name, '.txt')\n",
    "    best_model.save(model_path)\n",
    "    \n",
    "    # Optional: Abrufen und Ausgeben der besten Hyperparameter\n",
    "    best_hyperparameters = tuner.get_best_hyperparameters()[0]\n",
    "    print(f\"Beste Hyperparameter für Lauf {run}: {best_hyperparameters.values}\")"
   ]
  },
  {
   "cell_type": "code",
   "execution_count": null,
   "id": "492cf0ed",
   "metadata": {
    "ExecuteTime": {
     "start_time": "2024-02-21T15:33:51.278226200Z"
    }
   },
   "outputs": [],
   "source": []
  }
 ],
 "metadata": {
  "kernelspec": {
   "display_name": "Python 3 (ipykernel)",
   "language": "python",
   "name": "python3"
  },
  "language_info": {
   "codemirror_mode": {
    "name": "ipython",
    "version": 3
   },
   "file_extension": ".py",
   "mimetype": "text/x-python",
   "name": "python",
   "nbconvert_exporter": "python",
   "pygments_lexer": "ipython3",
   "version": "3.11.4"
  }
 },
 "nbformat": 4,
 "nbformat_minor": 5
}
