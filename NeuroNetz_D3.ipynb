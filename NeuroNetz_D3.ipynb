{
 "cells": [
  {
   "cell_type": "code",
   "execution_count": 14,
   "id": "94b0518e",
   "metadata": {
    "ExecuteTime": {
     "end_time": "2024-02-21T15:33:27.627974500Z",
     "start_time": "2024-02-21T15:33:27.482785700Z"
    }
   },
   "outputs": [],
   "source": [
    "import numpy as np\n",
    "import tensorflow as tf\n",
    "import matplotlib.pyplot as plt\n",
    "import pandas as pd\n",
    "from tensorflow import keras\n",
    "from tensorflow.keras.models import Sequential\n",
    "from tensorflow.keras.layers import Dense\n",
    "from sklearn.model_selection import train_test_split\n",
    "from tensorflow.keras import layers\n",
    "import glob\n",
    "\n",
    "from sklearn.preprocessing import MinMaxScaler, StandardScaler\n",
    "import pandas as pd\n",
    "\n",
    "from tensorflow.keras.models import Sequential\n",
    "from tensorflow.keras.layers import Dense , Dropout\n",
    "from sklearn.model_selection import GridSearchCV\n",
    "from scikeras.wrappers import KerasRegressor, KerasClassifier\n",
    "from tensorflow.keras.regularizers import l2\n",
    "from tensorflow.keras.callbacks import EarlyStopping\n",
    "from tensorflow.keras.optimizers import Adam\n",
    "import autokeras as ak\n"
   ]
  },
  {
   "cell_type": "code",
   "execution_count": 15,
   "id": "e4ff61b1",
   "metadata": {
    "ExecuteTime": {
     "end_time": "2024-02-21T15:33:27.862364300Z",
     "start_time": "2024-02-21T15:33:27.494545300Z"
    }
   },
   "outputs": [
    {
     "data": {
      "text/plain": "      X-Koordinate  Y-Koordinate  Zeitpunkt  Strom  Kraft  Temperatur\n0          0.00000      -0.00200        300   7000   9000      532.25\n1          0.00000      -0.00196        300   7000   9000      549.09\n2          0.00000      -0.00192        300   7000   9000      565.57\n3          0.00000      -0.00188        300   7000   9000      581.72\n4          0.00000      -0.00184        300   7000   9000      597.71\n...            ...           ...        ...    ...    ...         ...\n6358       0.00248       0.00184        300   7000   9000      571.28\n6359       0.00248       0.00188        300   7000   9000      527.25\n6360       0.00248       0.00192        300   7000   9000      486.25\n6361       0.00248       0.00196        300   7000   9000      478.02\n6362       0.00248       0.00200        300   7000   9000      472.08\n\n[6363 rows x 6 columns]",
      "text/html": "<div>\n<style scoped>\n    .dataframe tbody tr th:only-of-type {\n        vertical-align: middle;\n    }\n\n    .dataframe tbody tr th {\n        vertical-align: top;\n    }\n\n    .dataframe thead th {\n        text-align: right;\n    }\n</style>\n<table border=\"1\" class=\"dataframe\">\n  <thead>\n    <tr style=\"text-align: right;\">\n      <th></th>\n      <th>X-Koordinate</th>\n      <th>Y-Koordinate</th>\n      <th>Zeitpunkt</th>\n      <th>Strom</th>\n      <th>Kraft</th>\n      <th>Temperatur</th>\n    </tr>\n  </thead>\n  <tbody>\n    <tr>\n      <th>0</th>\n      <td>0.00000</td>\n      <td>-0.00200</td>\n      <td>300</td>\n      <td>7000</td>\n      <td>9000</td>\n      <td>532.25</td>\n    </tr>\n    <tr>\n      <th>1</th>\n      <td>0.00000</td>\n      <td>-0.00196</td>\n      <td>300</td>\n      <td>7000</td>\n      <td>9000</td>\n      <td>549.09</td>\n    </tr>\n    <tr>\n      <th>2</th>\n      <td>0.00000</td>\n      <td>-0.00192</td>\n      <td>300</td>\n      <td>7000</td>\n      <td>9000</td>\n      <td>565.57</td>\n    </tr>\n    <tr>\n      <th>3</th>\n      <td>0.00000</td>\n      <td>-0.00188</td>\n      <td>300</td>\n      <td>7000</td>\n      <td>9000</td>\n      <td>581.72</td>\n    </tr>\n    <tr>\n      <th>4</th>\n      <td>0.00000</td>\n      <td>-0.00184</td>\n      <td>300</td>\n      <td>7000</td>\n      <td>9000</td>\n      <td>597.71</td>\n    </tr>\n    <tr>\n      <th>...</th>\n      <td>...</td>\n      <td>...</td>\n      <td>...</td>\n      <td>...</td>\n      <td>...</td>\n      <td>...</td>\n    </tr>\n    <tr>\n      <th>6358</th>\n      <td>0.00248</td>\n      <td>0.00184</td>\n      <td>300</td>\n      <td>7000</td>\n      <td>9000</td>\n      <td>571.28</td>\n    </tr>\n    <tr>\n      <th>6359</th>\n      <td>0.00248</td>\n      <td>0.00188</td>\n      <td>300</td>\n      <td>7000</td>\n      <td>9000</td>\n      <td>527.25</td>\n    </tr>\n    <tr>\n      <th>6360</th>\n      <td>0.00248</td>\n      <td>0.00192</td>\n      <td>300</td>\n      <td>7000</td>\n      <td>9000</td>\n      <td>486.25</td>\n    </tr>\n    <tr>\n      <th>6361</th>\n      <td>0.00248</td>\n      <td>0.00196</td>\n      <td>300</td>\n      <td>7000</td>\n      <td>9000</td>\n      <td>478.02</td>\n    </tr>\n    <tr>\n      <th>6362</th>\n      <td>0.00248</td>\n      <td>0.00200</td>\n      <td>300</td>\n      <td>7000</td>\n      <td>9000</td>\n      <td>472.08</td>\n    </tr>\n  </tbody>\n</table>\n<p>6363 rows × 6 columns</p>\n</div>"
     },
     "execution_count": 15,
     "metadata": {},
     "output_type": "execute_result"
    }
   ],
   "source": [
    "#data = pd.read_pickle('C:/Users/erikm/Desktop/Diplomarbeit Erik Marr/Daten/Finish/TPath_300_finish_data.pkl')\n",
    "data = pd.read_pickle('C:/Users/erikm/Desktop/Diplomarbeit Erik Marr/Daten/Finish_D3_I7000_F9000/TPath_300_finish_data_D3.pkl')\n",
    "\n",
    "data"
   ]
  },
  {
   "cell_type": "code",
   "execution_count": 16,
   "id": "966e3c74",
   "metadata": {
    "ExecuteTime": {
     "end_time": "2024-02-21T15:33:27.862364300Z",
     "start_time": "2024-02-21T15:33:27.507533900Z"
    }
   },
   "outputs": [
    {
     "data": {
      "text/plain": "      X-Koordinate  Y-Koordinate  Temperatur\n0          0.00000      -0.00200      532.25\n1          0.00000      -0.00196      549.09\n2          0.00000      -0.00192      565.57\n3          0.00000      -0.00188      581.72\n4          0.00000      -0.00184      597.71\n...            ...           ...         ...\n6358       0.00248       0.00184      571.28\n6359       0.00248       0.00188      527.25\n6360       0.00248       0.00192      486.25\n6361       0.00248       0.00196      478.02\n6362       0.00248       0.00200      472.08\n\n[6363 rows x 3 columns]",
      "text/html": "<div>\n<style scoped>\n    .dataframe tbody tr th:only-of-type {\n        vertical-align: middle;\n    }\n\n    .dataframe tbody tr th {\n        vertical-align: top;\n    }\n\n    .dataframe thead th {\n        text-align: right;\n    }\n</style>\n<table border=\"1\" class=\"dataframe\">\n  <thead>\n    <tr style=\"text-align: right;\">\n      <th></th>\n      <th>X-Koordinate</th>\n      <th>Y-Koordinate</th>\n      <th>Temperatur</th>\n    </tr>\n  </thead>\n  <tbody>\n    <tr>\n      <th>0</th>\n      <td>0.00000</td>\n      <td>-0.00200</td>\n      <td>532.25</td>\n    </tr>\n    <tr>\n      <th>1</th>\n      <td>0.00000</td>\n      <td>-0.00196</td>\n      <td>549.09</td>\n    </tr>\n    <tr>\n      <th>2</th>\n      <td>0.00000</td>\n      <td>-0.00192</td>\n      <td>565.57</td>\n    </tr>\n    <tr>\n      <th>3</th>\n      <td>0.00000</td>\n      <td>-0.00188</td>\n      <td>581.72</td>\n    </tr>\n    <tr>\n      <th>4</th>\n      <td>0.00000</td>\n      <td>-0.00184</td>\n      <td>597.71</td>\n    </tr>\n    <tr>\n      <th>...</th>\n      <td>...</td>\n      <td>...</td>\n      <td>...</td>\n    </tr>\n    <tr>\n      <th>6358</th>\n      <td>0.00248</td>\n      <td>0.00184</td>\n      <td>571.28</td>\n    </tr>\n    <tr>\n      <th>6359</th>\n      <td>0.00248</td>\n      <td>0.00188</td>\n      <td>527.25</td>\n    </tr>\n    <tr>\n      <th>6360</th>\n      <td>0.00248</td>\n      <td>0.00192</td>\n      <td>486.25</td>\n    </tr>\n    <tr>\n      <th>6361</th>\n      <td>0.00248</td>\n      <td>0.00196</td>\n      <td>478.02</td>\n    </tr>\n    <tr>\n      <th>6362</th>\n      <td>0.00248</td>\n      <td>0.00200</td>\n      <td>472.08</td>\n    </tr>\n  </tbody>\n</table>\n<p>6363 rows × 3 columns</p>\n</div>"
     },
     "execution_count": 16,
     "metadata": {},
     "output_type": "execute_result"
    }
   ],
   "source": [
    "df = data.drop(data.columns[2:5], axis = 1)\n",
    "df"
   ]
  },
  {
   "cell_type": "code",
   "execution_count": 17,
   "id": "8783d1d6",
   "metadata": {
    "ExecuteTime": {
     "end_time": "2024-02-21T15:33:27.862364300Z",
     "start_time": "2024-02-21T15:33:27.519965600Z"
    }
   },
   "outputs": [
    {
     "name": "stdout",
     "output_type": "stream",
     "text": [
      "      X-Koordinate  Y-Koordinate  Temperatur\n",
      "6243       0.00244       0.00128      722.51\n",
      "2949       0.00116      -0.00120      795.43\n",
      "393        0.00012       0.00160      617.75\n",
      "3844       0.00152      -0.00176      637.29\n",
      "2154       0.00084      -0.00068      876.04\n",
      "...            ...           ...         ...\n",
      "3772       0.00148      -0.00060      848.53\n",
      "5191       0.00204      -0.00040      798.96\n",
      "5226       0.00204       0.00100      769.47\n",
      "5390       0.00212      -0.00052      788.09\n",
      "860        0.00032       0.00008      909.37\n",
      "\n",
      "[6363 rows x 3 columns]\n"
     ]
    },
    {
     "data": {
      "text/plain": "      X-Koordinate  Y-Koordinate  Temperatur\n0          0.00244       0.00128      722.51\n1          0.00116      -0.00120      795.43\n2          0.00012       0.00160      617.75\n3          0.00152      -0.00176      637.29\n4          0.00084      -0.00068      876.04\n...            ...           ...         ...\n6358       0.00148      -0.00060      848.53\n6359       0.00204      -0.00040      798.96\n6360       0.00204       0.00100      769.47\n6361       0.00212      -0.00052      788.09\n6362       0.00032       0.00008      909.37\n\n[6363 rows x 3 columns]",
      "text/html": "<div>\n<style scoped>\n    .dataframe tbody tr th:only-of-type {\n        vertical-align: middle;\n    }\n\n    .dataframe tbody tr th {\n        vertical-align: top;\n    }\n\n    .dataframe thead th {\n        text-align: right;\n    }\n</style>\n<table border=\"1\" class=\"dataframe\">\n  <thead>\n    <tr style=\"text-align: right;\">\n      <th></th>\n      <th>X-Koordinate</th>\n      <th>Y-Koordinate</th>\n      <th>Temperatur</th>\n    </tr>\n  </thead>\n  <tbody>\n    <tr>\n      <th>0</th>\n      <td>0.00244</td>\n      <td>0.00128</td>\n      <td>722.51</td>\n    </tr>\n    <tr>\n      <th>1</th>\n      <td>0.00116</td>\n      <td>-0.00120</td>\n      <td>795.43</td>\n    </tr>\n    <tr>\n      <th>2</th>\n      <td>0.00012</td>\n      <td>0.00160</td>\n      <td>617.75</td>\n    </tr>\n    <tr>\n      <th>3</th>\n      <td>0.00152</td>\n      <td>-0.00176</td>\n      <td>637.29</td>\n    </tr>\n    <tr>\n      <th>4</th>\n      <td>0.00084</td>\n      <td>-0.00068</td>\n      <td>876.04</td>\n    </tr>\n    <tr>\n      <th>...</th>\n      <td>...</td>\n      <td>...</td>\n      <td>...</td>\n    </tr>\n    <tr>\n      <th>6358</th>\n      <td>0.00148</td>\n      <td>-0.00060</td>\n      <td>848.53</td>\n    </tr>\n    <tr>\n      <th>6359</th>\n      <td>0.00204</td>\n      <td>-0.00040</td>\n      <td>798.96</td>\n    </tr>\n    <tr>\n      <th>6360</th>\n      <td>0.00204</td>\n      <td>0.00100</td>\n      <td>769.47</td>\n    </tr>\n    <tr>\n      <th>6361</th>\n      <td>0.00212</td>\n      <td>-0.00052</td>\n      <td>788.09</td>\n    </tr>\n    <tr>\n      <th>6362</th>\n      <td>0.00032</td>\n      <td>0.00008</td>\n      <td>909.37</td>\n    </tr>\n  </tbody>\n</table>\n<p>6363 rows × 3 columns</p>\n</div>"
     },
     "execution_count": 17,
     "metadata": {},
     "output_type": "execute_result"
    }
   ],
   "source": [
    "df1 = df.sample(frac=1, random_state=42)  # Hier wird 42 als Random State verwendet, um die Ergebnisse reproduzierbar zu machen\n",
    "\n",
    "print(df1)\n",
    "df_reset = df1.reset_index(drop=True)\n",
    "df_reset"
   ]
  },
  {
   "cell_type": "code",
   "execution_count": 18,
   "id": "a4e72a16",
   "metadata": {
    "ExecuteTime": {
     "end_time": "2024-02-21T15:33:27.862364300Z",
     "start_time": "2024-02-21T15:33:27.537328600Z"
    }
   },
   "outputs": [],
   "source": [
    "label = df_reset[\"Temperatur\"]\n",
    "# Korrektur: Verwenden Sie den Spaltennamen direkt, ohne Indexierung der columns-Eigenschaft\n",
    "df1 = df_reset.drop(\"Temperatur\", axis=1)\n",
    "X = df1\n",
    "y = label\n"
   ]
  },
  {
   "cell_type": "markdown",
   "source": [],
   "metadata": {
    "collapsed": false
   },
   "id": "f7fa289a50d87423"
  },
  {
   "cell_type": "code",
   "execution_count": 19,
   "id": "e694a236",
   "metadata": {
    "ExecuteTime": {
     "end_time": "2024-02-21T15:33:27.862364300Z",
     "start_time": "2024-02-21T15:33:27.546800600Z"
    }
   },
   "outputs": [
    {
     "data": {
      "text/plain": "      X-Koordinate  Y-Koordinate\n0          0.00244       0.00128\n1          0.00116      -0.00120\n2          0.00012       0.00160\n3          0.00152      -0.00176\n4          0.00084      -0.00068\n...            ...           ...\n6358       0.00148      -0.00060\n6359       0.00204      -0.00040\n6360       0.00204       0.00100\n6361       0.00212      -0.00052\n6362       0.00032       0.00008\n\n[6363 rows x 2 columns]",
      "text/html": "<div>\n<style scoped>\n    .dataframe tbody tr th:only-of-type {\n        vertical-align: middle;\n    }\n\n    .dataframe tbody tr th {\n        vertical-align: top;\n    }\n\n    .dataframe thead th {\n        text-align: right;\n    }\n</style>\n<table border=\"1\" class=\"dataframe\">\n  <thead>\n    <tr style=\"text-align: right;\">\n      <th></th>\n      <th>X-Koordinate</th>\n      <th>Y-Koordinate</th>\n    </tr>\n  </thead>\n  <tbody>\n    <tr>\n      <th>0</th>\n      <td>0.00244</td>\n      <td>0.00128</td>\n    </tr>\n    <tr>\n      <th>1</th>\n      <td>0.00116</td>\n      <td>-0.00120</td>\n    </tr>\n    <tr>\n      <th>2</th>\n      <td>0.00012</td>\n      <td>0.00160</td>\n    </tr>\n    <tr>\n      <th>3</th>\n      <td>0.00152</td>\n      <td>-0.00176</td>\n    </tr>\n    <tr>\n      <th>4</th>\n      <td>0.00084</td>\n      <td>-0.00068</td>\n    </tr>\n    <tr>\n      <th>...</th>\n      <td>...</td>\n      <td>...</td>\n    </tr>\n    <tr>\n      <th>6358</th>\n      <td>0.00148</td>\n      <td>-0.00060</td>\n    </tr>\n    <tr>\n      <th>6359</th>\n      <td>0.00204</td>\n      <td>-0.00040</td>\n    </tr>\n    <tr>\n      <th>6360</th>\n      <td>0.00204</td>\n      <td>0.00100</td>\n    </tr>\n    <tr>\n      <th>6361</th>\n      <td>0.00212</td>\n      <td>-0.00052</td>\n    </tr>\n    <tr>\n      <th>6362</th>\n      <td>0.00032</td>\n      <td>0.00008</td>\n    </tr>\n  </tbody>\n</table>\n<p>6363 rows × 2 columns</p>\n</div>"
     },
     "execution_count": 19,
     "metadata": {},
     "output_type": "execute_result"
    }
   ],
   "source": [
    "X"
   ]
  },
  {
   "cell_type": "code",
   "execution_count": 20,
   "id": "3f3303b4",
   "metadata": {
    "ExecuteTime": {
     "end_time": "2024-02-21T15:33:27.877977200Z",
     "start_time": "2024-02-21T15:33:27.557909Z"
    }
   },
   "outputs": [
    {
     "data": {
      "text/plain": "0       722.51\n1       795.43\n2       617.75\n3       637.29\n4       876.04\n         ...  \n6358    848.53\n6359    798.96\n6360    769.47\n6361    788.09\n6362    909.37\nName: Temperatur, Length: 6363, dtype: float64"
     },
     "execution_count": 20,
     "metadata": {},
     "output_type": "execute_result"
    }
   ],
   "source": [
    "y"
   ]
  },
  {
   "cell_type": "code",
   "execution_count": 21,
   "id": "e3ad8da0",
   "metadata": {
    "ExecuteTime": {
     "end_time": "2024-02-21T15:33:27.893600400Z",
     "start_time": "2024-02-21T15:33:27.568256500Z"
    }
   },
   "outputs": [],
   "source": [
    " # train_df enthält 80% der Daten, test_df enthält 20% der Daten\n",
    "X_train, X_test, y_train, y_test = train_test_split(X, y, test_size=0.20, random_state=42)\n"
   ]
  },
  {
   "cell_type": "code",
   "execution_count": 22,
   "id": "9c705edb",
   "metadata": {
    "ExecuteTime": {
     "end_time": "2024-02-21T15:33:27.893600400Z",
     "start_time": "2024-02-21T15:33:27.578244100Z"
    }
   },
   "outputs": [],
   "source": [
    "# Initialisiere einen MinMaxScaler für die Features\n",
    "scaler_features = MinMaxScaler()\n",
    "scaler_features2 = MinMaxScaler()\n",
    "# Skaliere X_train und X_test\n",
    "X_train_scaled = scaler_features.fit_transform(X_train)\n",
    "X_test_scaled = scaler_features.transform(X_test)  # Nutze gleiche Skalierungsparameter ohne das X_Test Informationen einfließen\n",
    "\n",
    "# Initialisiere einen SEPARATEN MinMaxScaler für das Ziel, wenn nötig\n",
    "scaler_target = MinMaxScaler()\n",
    "\n",
    "\n",
    "# Skaliere y_train und y_test. Beachte, dass y_train.reshape(-1, 1) verwendet wird, da MinMaxScaler \n",
    "# erwartet, dass die Eingaben als 2D-Arrays kommen, und Ziele normalerweise als 1D-Arrays vorliegen.\n",
    "y_train_scaled = scaler_target.fit_transform(y_train.values.reshape(-1, 1))\n",
    "y_test_scaled = scaler_target.transform(y_test.values.reshape(-1, 1))\n"
   ]
  },
  {
   "cell_type": "code",
   "execution_count": 23,
   "id": "bbefe631e495b483",
   "metadata": {
    "ExecuteTime": {
     "end_time": "2024-02-21T15:33:27.893600400Z",
     "start_time": "2024-02-21T15:33:27.590429300Z"
    }
   },
   "outputs": [
    {
     "data": {
      "text/plain": "array([[0.96774194, 0.58      ],\n       [0.12903226, 0.07      ],\n       [0.03225806, 0.07      ],\n       ...,\n       [0.01612903, 0.25      ],\n       [0.67741935, 0.82      ],\n       [0.5483871 , 0.65      ]])"
     },
     "execution_count": 23,
     "metadata": {},
     "output_type": "execute_result"
    }
   ],
   "source": [
    "X_train_scaled"
   ]
  },
  {
   "cell_type": "code",
   "execution_count": 24,
   "outputs": [
    {
     "data": {
      "text/plain": "1.0"
     },
     "execution_count": 24,
     "metadata": {},
     "output_type": "execute_result"
    }
   ],
   "source": [
    "y_train_scaled.max()"
   ],
   "metadata": {
    "collapsed": false,
    "ExecuteTime": {
     "end_time": "2024-02-21T15:33:27.893600400Z",
     "start_time": "2024-02-21T15:33:27.598977500Z"
    }
   },
   "id": "ce04ce43aac2242f"
  },
  {
   "cell_type": "code",
   "execution_count": 25,
   "id": "a6eccbb7534cd064",
   "metadata": {
    "ExecuteTime": {
     "end_time": "2024-02-21T15:33:27.893600400Z",
     "start_time": "2024-02-21T15:33:27.607447900Z"
    }
   },
   "outputs": [],
   "source": [
    "# Lernplan erstellen\n",
    "#initial_learning_rate = 0.1\n",
    "#lr_schedule = tf.keras.optimizers.schedules.ExponentialDecay(\n",
    "#    initial_learning_rate, decay_steps=100, decay_rate=0.9, staircase=True)"
   ]
  },
  {
   "cell_type": "code",
   "execution_count": 36,
   "outputs": [
    {
     "name": "stdout",
     "output_type": "stream",
     "text": [
      "Epoch 1/500\n",
      "82/82 [==============================] - 3s 9ms/step - loss: 25.6946 - mae: 0.3030 - val_loss: 14.6967 - val_mae: 0.2134\n",
      "Epoch 2/500\n",
      "82/82 [==============================] - 1s 6ms/step - loss: 10.3017 - mae: 0.1646 - val_loss: 7.1539 - val_mae: 0.1306\n",
      "Epoch 3/500\n",
      "82/82 [==============================] - 1s 6ms/step - loss: 5.5076 - mae: 0.1186 - val_loss: 4.1614 - val_mae: 0.1110\n",
      "Epoch 4/500\n",
      "82/82 [==============================] - 1s 6ms/step - loss: 3.3154 - mae: 0.1155 - val_loss: 2.5914 - val_mae: 0.1057\n",
      "Epoch 5/500\n",
      "82/82 [==============================] - 1s 7ms/step - loss: 2.1130 - mae: 0.1147 - val_loss: 1.6976 - val_mae: 0.1201\n",
      "Epoch 6/500\n",
      "82/82 [==============================] - 1s 6ms/step - loss: 1.4169 - mae: 0.1176 - val_loss: 1.1696 - val_mae: 0.1126\n",
      "Epoch 7/500\n",
      "82/82 [==============================] - 1s 6ms/step - loss: 1.0000 - mae: 0.1168 - val_loss: 0.8476 - val_mae: 0.1184\n",
      "Epoch 8/500\n",
      "82/82 [==============================] - 1s 7ms/step - loss: 0.7411 - mae: 0.1145 - val_loss: 0.6449 - val_mae: 0.1160\n",
      "Epoch 9/500\n",
      "82/82 [==============================] - 1s 6ms/step - loss: 0.5739 - mae: 0.1116 - val_loss: 0.5101 - val_mae: 0.1058\n",
      "Epoch 10/500\n",
      "82/82 [==============================] - 1s 6ms/step - loss: 0.4606 - mae: 0.1079 - val_loss: 0.4148 - val_mae: 0.1060\n",
      "Epoch 11/500\n",
      "82/82 [==============================] - 1s 6ms/step - loss: 0.3813 - mae: 0.1111 - val_loss: 0.3467 - val_mae: 0.0967\n",
      "Epoch 12/500\n",
      "82/82 [==============================] - 1s 6ms/step - loss: 0.3231 - mae: 0.1087 - val_loss: 0.2968 - val_mae: 0.1098\n",
      "Epoch 13/500\n",
      "82/82 [==============================] - 1s 6ms/step - loss: 0.2777 - mae: 0.1070 - val_loss: 0.2594 - val_mae: 0.1036\n",
      "Epoch 14/500\n",
      "82/82 [==============================] - 1s 6ms/step - loss: 0.2426 - mae: 0.1029 - val_loss: 0.2266 - val_mae: 0.0958\n",
      "Epoch 15/500\n",
      "82/82 [==============================] - 1s 6ms/step - loss: 0.2164 - mae: 0.1061 - val_loss: 0.2105 - val_mae: 0.1253\n",
      "Epoch 16/500\n",
      "82/82 [==============================] - 1s 6ms/step - loss: 0.1948 - mae: 0.1065 - val_loss: 0.1854 - val_mae: 0.1060\n",
      "Epoch 17/500\n",
      "82/82 [==============================] - 1s 6ms/step - loss: 0.1762 - mae: 0.1014 - val_loss: 0.1695 - val_mae: 0.1070\n",
      "Epoch 18/500\n",
      "82/82 [==============================] - 1s 6ms/step - loss: 0.1627 - mae: 0.1036 - val_loss: 0.1551 - val_mae: 0.0994\n",
      "Epoch 19/500\n",
      "82/82 [==============================] - 1s 6ms/step - loss: 0.1512 - mae: 0.1031 - val_loss: 0.1464 - val_mae: 0.1077\n",
      "Epoch 20/500\n",
      "82/82 [==============================] - 1s 6ms/step - loss: 0.1427 - mae: 0.1066 - val_loss: 0.1359 - val_mae: 0.0958\n",
      "Epoch 21/500\n",
      "82/82 [==============================] - 1s 6ms/step - loss: 0.1340 - mae: 0.1029 - val_loss: 0.1310 - val_mae: 0.1149\n",
      "Epoch 22/500\n",
      "82/82 [==============================] - 1s 6ms/step - loss: 0.1275 - mae: 0.1029 - val_loss: 0.1243 - val_mae: 0.1001\n",
      "Epoch 23/500\n",
      "82/82 [==============================] - 0s 5ms/step - loss: 0.1229 - mae: 0.1038 - val_loss: 0.1224 - val_mae: 0.1181\n",
      "Epoch 24/500\n",
      "82/82 [==============================] - 0s 4ms/step - loss: 0.1188 - mae: 0.1060 - val_loss: 0.1183 - val_mae: 0.1144\n",
      "Epoch 25/500\n",
      "82/82 [==============================] - 0s 4ms/step - loss: 0.1149 - mae: 0.1047 - val_loss: 0.1134 - val_mae: 0.1025\n",
      "Epoch 26/500\n",
      "82/82 [==============================] - 0s 4ms/step - loss: 0.1107 - mae: 0.1002 - val_loss: 0.1111 - val_mae: 0.1099\n",
      "Epoch 27/500\n",
      "82/82 [==============================] - 0s 4ms/step - loss: 0.1089 - mae: 0.1037 - val_loss: 0.1060 - val_mae: 0.0982\n",
      "Epoch 28/500\n",
      "82/82 [==============================] - 0s 4ms/step - loss: 0.1073 - mae: 0.1041 - val_loss: 0.1052 - val_mae: 0.1055\n",
      "Epoch 29/500\n",
      "82/82 [==============================] - 0s 4ms/step - loss: 0.1055 - mae: 0.1049 - val_loss: 0.1034 - val_mae: 0.1054\n",
      "Epoch 30/500\n",
      "82/82 [==============================] - 0s 4ms/step - loss: 0.1042 - mae: 0.1049 - val_loss: 0.1030 - val_mae: 0.1031\n",
      "Epoch 31/500\n",
      "82/82 [==============================] - 0s 4ms/step - loss: 0.1027 - mae: 0.1044 - val_loss: 0.1130 - val_mae: 0.1403\n",
      "Epoch 32/500\n",
      "82/82 [==============================] - 0s 4ms/step - loss: 0.1011 - mae: 0.1020 - val_loss: 0.1013 - val_mae: 0.1054\n",
      "Epoch 33/500\n",
      "82/82 [==============================] - 0s 4ms/step - loss: 0.1000 - mae: 0.1020 - val_loss: 0.0994 - val_mae: 0.0990\n",
      "Epoch 34/500\n",
      "82/82 [==============================] - 0s 5ms/step - loss: 0.0997 - mae: 0.1024 - val_loss: 0.0979 - val_mae: 0.0985\n",
      "Epoch 35/500\n",
      "82/82 [==============================] - 0s 4ms/step - loss: 0.0986 - mae: 0.1009 - val_loss: 0.0968 - val_mae: 0.0974\n",
      "Epoch 36/500\n",
      "82/82 [==============================] - 0s 4ms/step - loss: 0.0978 - mae: 0.0988 - val_loss: 0.0971 - val_mae: 0.1075\n",
      "Epoch 37/500\n",
      "82/82 [==============================] - 0s 4ms/step - loss: 0.0980 - mae: 0.1046 - val_loss: 0.0972 - val_mae: 0.0996\n",
      "Epoch 38/500\n",
      "82/82 [==============================] - 0s 4ms/step - loss: 0.0980 - mae: 0.1031 - val_loss: 0.0956 - val_mae: 0.0973\n",
      "Epoch 39/500\n",
      "82/82 [==============================] - 0s 4ms/step - loss: 0.0964 - mae: 0.1012 - val_loss: 0.0956 - val_mae: 0.1002\n",
      "Epoch 40/500\n",
      "82/82 [==============================] - 0s 5ms/step - loss: 0.0963 - mae: 0.1014 - val_loss: 0.1010 - val_mae: 0.1144\n",
      "Epoch 41/500\n",
      "82/82 [==============================] - 0s 4ms/step - loss: 0.0960 - mae: 0.1010 - val_loss: 0.0948 - val_mae: 0.0961\n",
      "Epoch 42/500\n",
      "82/82 [==============================] - 0s 4ms/step - loss: 0.0954 - mae: 0.1004 - val_loss: 0.0942 - val_mae: 0.0949\n",
      "Epoch 43/500\n",
      "82/82 [==============================] - 0s 4ms/step - loss: 0.0959 - mae: 0.1026 - val_loss: 0.0932 - val_mae: 0.0954\n",
      "Epoch 44/500\n",
      "82/82 [==============================] - 0s 4ms/step - loss: 0.0947 - mae: 0.1002 - val_loss: 0.0983 - val_mae: 0.1203\n",
      "Epoch 45/500\n",
      "82/82 [==============================] - 0s 4ms/step - loss: 0.0960 - mae: 0.1046 - val_loss: 0.1156 - val_mae: 0.1601\n",
      "Epoch 46/500\n",
      "82/82 [==============================] - 0s 4ms/step - loss: 0.0953 - mae: 0.1030 - val_loss: 0.0930 - val_mae: 0.0954\n",
      "Epoch 47/500\n",
      "82/82 [==============================] - 0s 5ms/step - loss: 0.0926 - mae: 0.0964 - val_loss: 0.0930 - val_mae: 0.0939\n",
      "Epoch 48/500\n",
      "82/82 [==============================] - 0s 4ms/step - loss: 0.0927 - mae: 0.0967 - val_loss: 0.0923 - val_mae: 0.0943\n",
      "Epoch 49/500\n",
      "82/82 [==============================] - 0s 4ms/step - loss: 0.0927 - mae: 0.0975 - val_loss: 0.0920 - val_mae: 0.1000\n",
      "Epoch 50/500\n",
      "82/82 [==============================] - 0s 4ms/step - loss: 0.0925 - mae: 0.0968 - val_loss: 0.0911 - val_mae: 0.0968\n",
      "Epoch 51/500\n",
      "82/82 [==============================] - 0s 5ms/step - loss: 0.0921 - mae: 0.0979 - val_loss: 0.0910 - val_mae: 0.0987\n",
      "Epoch 52/500\n",
      "82/82 [==============================] - 0s 4ms/step - loss: 0.0932 - mae: 0.1009 - val_loss: 0.0907 - val_mae: 0.0963\n",
      "Epoch 53/500\n",
      "82/82 [==============================] - 0s 4ms/step - loss: 0.0919 - mae: 0.0983 - val_loss: 0.0904 - val_mae: 0.0943\n",
      "Epoch 54/500\n",
      "82/82 [==============================] - 0s 4ms/step - loss: 0.0919 - mae: 0.0990 - val_loss: 0.0906 - val_mae: 0.0992\n",
      "Epoch 55/500\n",
      "82/82 [==============================] - 0s 4ms/step - loss: 0.0914 - mae: 0.0967 - val_loss: 0.0924 - val_mae: 0.1060\n",
      "Epoch 56/500\n",
      "82/82 [==============================] - 0s 4ms/step - loss: 0.0910 - mae: 0.0974 - val_loss: 0.0910 - val_mae: 0.0983\n",
      "Epoch 57/500\n",
      "82/82 [==============================] - 0s 4ms/step - loss: 0.0915 - mae: 0.0991 - val_loss: 0.0899 - val_mae: 0.0965\n",
      "Epoch 58/500\n",
      "82/82 [==============================] - 0s 4ms/step - loss: 0.0910 - mae: 0.0980 - val_loss: 0.0897 - val_mae: 0.0934\n",
      "Epoch 59/500\n",
      "82/82 [==============================] - 0s 4ms/step - loss: 0.0924 - mae: 0.1034 - val_loss: 0.0980 - val_mae: 0.1248\n",
      "Epoch 60/500\n",
      "82/82 [==============================] - 0s 4ms/step - loss: 0.0908 - mae: 0.0990 - val_loss: 0.0911 - val_mae: 0.1063\n",
      "Epoch 61/500\n",
      "82/82 [==============================] - 0s 4ms/step - loss: 0.0912 - mae: 0.1011 - val_loss: 0.0931 - val_mae: 0.1071\n",
      "Epoch 62/500\n",
      "82/82 [==============================] - 0s 4ms/step - loss: 0.0906 - mae: 0.0993 - val_loss: 0.0917 - val_mae: 0.0976\n",
      "Epoch 63/500\n",
      "82/82 [==============================] - 0s 4ms/step - loss: 0.0904 - mae: 0.1002 - val_loss: 0.0890 - val_mae: 0.0938\n",
      "Epoch 64/500\n",
      "82/82 [==============================] - 0s 4ms/step - loss: 0.0891 - mae: 0.0947 - val_loss: 0.0882 - val_mae: 0.0939\n",
      "Epoch 65/500\n",
      "82/82 [==============================] - 0s 4ms/step - loss: 0.0886 - mae: 0.0940 - val_loss: 0.0883 - val_mae: 0.0922\n",
      "Epoch 66/500\n",
      "82/82 [==============================] - 0s 4ms/step - loss: 0.0893 - mae: 0.0970 - val_loss: 0.0877 - val_mae: 0.0909\n",
      "Epoch 67/500\n",
      "82/82 [==============================] - 0s 4ms/step - loss: 0.0886 - mae: 0.0936 - val_loss: 0.0881 - val_mae: 0.0904\n",
      "Epoch 68/500\n",
      "82/82 [==============================] - 0s 4ms/step - loss: 0.0885 - mae: 0.0948 - val_loss: 0.0884 - val_mae: 0.0979\n",
      "Epoch 69/500\n",
      "82/82 [==============================] - 0s 4ms/step - loss: 0.0883 - mae: 0.0956 - val_loss: 0.0887 - val_mae: 0.0952\n",
      "Epoch 70/500\n",
      "82/82 [==============================] - 0s 4ms/step - loss: 0.0886 - mae: 0.0979 - val_loss: 0.0875 - val_mae: 0.0906\n",
      "Epoch 71/500\n",
      "82/82 [==============================] - 0s 4ms/step - loss: 0.0875 - mae: 0.0949 - val_loss: 0.0868 - val_mae: 0.0898\n",
      "Epoch 72/500\n",
      "82/82 [==============================] - 0s 4ms/step - loss: 0.0882 - mae: 0.0961 - val_loss: 0.0955 - val_mae: 0.1261\n",
      "Epoch 73/500\n",
      "82/82 [==============================] - 0s 4ms/step - loss: 0.0874 - mae: 0.0952 - val_loss: 0.0887 - val_mae: 0.0974\n",
      "Epoch 74/500\n",
      "82/82 [==============================] - 0s 4ms/step - loss: 0.0877 - mae: 0.0969 - val_loss: 0.0898 - val_mae: 0.1043\n",
      "Epoch 75/500\n",
      "82/82 [==============================] - 0s 4ms/step - loss: 0.0878 - mae: 0.0980 - val_loss: 0.0868 - val_mae: 0.0879\n",
      "Epoch 76/500\n",
      "82/82 [==============================] - 0s 4ms/step - loss: 0.0870 - mae: 0.0949 - val_loss: 0.0857 - val_mae: 0.0901\n",
      "Epoch 77/500\n",
      "82/82 [==============================] - 0s 4ms/step - loss: 0.0893 - mae: 0.1028 - val_loss: 0.0895 - val_mae: 0.1020\n",
      "Epoch 78/500\n",
      "82/82 [==============================] - 0s 4ms/step - loss: 0.0873 - mae: 0.0959 - val_loss: 0.0864 - val_mae: 0.1020\n",
      "Epoch 79/500\n",
      "82/82 [==============================] - 0s 4ms/step - loss: 0.0869 - mae: 0.0960 - val_loss: 0.0864 - val_mae: 0.0915\n",
      "Epoch 80/500\n",
      "82/82 [==============================] - 0s 4ms/step - loss: 0.0860 - mae: 0.0933 - val_loss: 0.0863 - val_mae: 0.0982\n",
      "Epoch 81/500\n",
      "82/82 [==============================] - 0s 4ms/step - loss: 0.0864 - mae: 0.0936 - val_loss: 0.0850 - val_mae: 0.0944\n",
      "Epoch 82/500\n",
      "82/82 [==============================] - 0s 4ms/step - loss: 0.0860 - mae: 0.0949 - val_loss: 0.0853 - val_mae: 0.0867\n",
      "Epoch 83/500\n",
      "82/82 [==============================] - 0s 4ms/step - loss: 0.0864 - mae: 0.0960 - val_loss: 0.0847 - val_mae: 0.0887\n",
      "Epoch 84/500\n",
      "82/82 [==============================] - 0s 4ms/step - loss: 0.0864 - mae: 0.0965 - val_loss: 0.0844 - val_mae: 0.0929\n",
      "Epoch 85/500\n",
      "82/82 [==============================] - 0s 4ms/step - loss: 0.0855 - mae: 0.0945 - val_loss: 0.0849 - val_mae: 0.0890\n",
      "Epoch 86/500\n",
      "82/82 [==============================] - 0s 4ms/step - loss: 0.0854 - mae: 0.0952 - val_loss: 0.0857 - val_mae: 0.0892\n",
      "Epoch 87/500\n",
      "82/82 [==============================] - 0s 4ms/step - loss: 0.0852 - mae: 0.0932 - val_loss: 0.0913 - val_mae: 0.1149\n",
      "Epoch 88/500\n",
      "82/82 [==============================] - 0s 4ms/step - loss: 0.0852 - mae: 0.0947 - val_loss: 0.0838 - val_mae: 0.0912\n",
      "Epoch 89/500\n",
      "82/82 [==============================] - 0s 4ms/step - loss: 0.0854 - mae: 0.0950 - val_loss: 0.0840 - val_mae: 0.0907\n",
      "Epoch 90/500\n",
      "82/82 [==============================] - 0s 4ms/step - loss: 0.0848 - mae: 0.0942 - val_loss: 0.0877 - val_mae: 0.1095\n",
      "Epoch 91/500\n",
      "82/82 [==============================] - 0s 4ms/step - loss: 0.0843 - mae: 0.0920 - val_loss: 0.0834 - val_mae: 0.0944\n",
      "Epoch 92/500\n",
      "82/82 [==============================] - 0s 4ms/step - loss: 0.0838 - mae: 0.0920 - val_loss: 0.0832 - val_mae: 0.0905\n",
      "Epoch 93/500\n",
      "82/82 [==============================] - 0s 4ms/step - loss: 0.0857 - mae: 0.0985 - val_loss: 0.0831 - val_mae: 0.0926\n",
      "Epoch 94/500\n",
      "82/82 [==============================] - 0s 4ms/step - loss: 0.0839 - mae: 0.0928 - val_loss: 0.0841 - val_mae: 0.0969\n",
      "Epoch 95/500\n",
      "82/82 [==============================] - 0s 4ms/step - loss: 0.0847 - mae: 0.0950 - val_loss: 0.0844 - val_mae: 0.0991\n",
      "Epoch 96/500\n",
      "82/82 [==============================] - 0s 4ms/step - loss: 0.0846 - mae: 0.0956 - val_loss: 0.0826 - val_mae: 0.0901\n",
      "Epoch 97/500\n",
      "75/82 [==========================>...] - ETA: 0s - loss: 0.0839 - mae: 0.0930Restoring model weights from the end of the best epoch: 92.\n",
      "82/82 [==============================] - 0s 5ms/step - loss: 0.0840 - mae: 0.0931 - val_loss: 0.0829 - val_mae: 0.0932\n",
      "Epoch 97: early stopping\n"
     ]
    }
   ],
   "source": [
    "# Netzwerkarchitektur\n",
    "model = Sequential([\n",
    "    # Eingabeschicht\n",
    "    Dense(32, activation='relu', input_shape=(2,), kernel_initializer='he_uniform', kernel_regularizer=l2(0.01)),\n",
    "    #Dropout(0.01),\n",
    "    # Versteckte Schicht\n",
    "    Dense(448, activation='relu', kernel_initializer='he_uniform', kernel_regularizer=l2(0.01)),\n",
    "    Dense(352, activation='relu', kernel_initializer='he_uniform', kernel_regularizer=l2(0.01)),\n",
    "    Dense(320, activation='relu', kernel_initializer='he_uniform', kernel_regularizer=l2(0.01)),\n",
    "    Dense(256, activation='relu', kernel_initializer='he_uniform', kernel_regularizer=l2(0.01)),\n",
    "    Dense(416, activation='relu', kernel_initializer='he_uniform', kernel_regularizer=l2(0.01)),\n",
    "    Dense(128, activation='relu', kernel_initializer='he_uniform', kernel_regularizer=l2(0.01)),\n",
    "    Dense(96, activation='relu', kernel_initializer='he_uniform', kernel_regularizer=l2(0.01)),\n",
    "    Dense(32, activation='relu', kernel_initializer='he_uniform', kernel_regularizer=l2(0.01)),\n",
    "\n",
    "    \n",
    "    #Dropout(0.01),\n",
    "    # Ausgabeschicht für Regression (1 Einheit ohne Aktivierungsfunktion)\n",
    "    Dense(1 , activation = 'linear')\n",
    "])\n",
    "\n",
    "# Optimierer\n",
    "optimizer = 'adam' #Adam(learningrate =  0.001)\n",
    "\n",
    "# Modell kompilieren (Verwendung von mean_squared_error als Verlustfunktion für Regression)\n",
    "model.compile(optimizer=optimizer,\n",
    "              loss='mean_squared_error',\n",
    "              metrics=['mae'])  # Metriken für Regression: Mean Absolute Error und Mean Squared Error\n",
    "\n",
    "# Early Stopping Callback\n",
    "early_stopping = EarlyStopping(monitor='loss', patience=5, verbose=1, mode='min', restore_best_weights=True, min_delta = 0.0001)\n",
    "\n",
    "# Trainingsparameter\n",
    "batch_size = 50\n",
    "epochs = 500\n",
    "\n",
    "# Modell trainieren (Annahme: X_train, y_train, X_val, y_val sind vordefiniert)\n",
    "history = model.fit(X_train_scaled, y_train_scaled,\n",
    "                    batch_size=batch_size,\n",
    "                    epochs=epochs,\n",
    "                    validation_split=0.2,\n",
    "                    callbacks=[early_stopping])"
   ],
   "metadata": {
    "collapsed": false,
    "ExecuteTime": {
     "end_time": "2024-02-21T19:17:59.223843200Z",
     "start_time": "2024-02-21T19:17:19.039970800Z"
    }
   },
   "id": "8b52e1a9a6ff3aeb"
  },
  {
   "cell_type": "code",
   "execution_count": 37,
   "outputs": [
    {
     "data": {
      "text/plain": "<Figure size 1000x600 with 1 Axes>",
      "image/png": "[encoded data removed]"
     },
     "metadata": {},
     "output_type": "display_data"
    }
   ],
   "source": [
    "mae = history.history['mae']\n",
    "val_mae = history.history['val_mae']\n",
    "\n",
    "epochs = range(1, len(mae) + 1)\n",
    "\n",
    "# MAE Diagramm\n",
    "plt.figure(figsize=(10, 6))\n",
    "plt.plot(epochs, mae, 'r', label='Training MAE')\n",
    "plt.plot(epochs, val_mae, 'b', label='Validation MAE')\n",
    "plt.title('Training and Validation MAE')\n",
    "plt.xlabel('Epochs')\n",
    "plt.ylabel('MAE')\n",
    "plt.legend()\n",
    "\n",
    "plt.show()"
   ],
   "metadata": {
    "collapsed": false,
    "ExecuteTime": {
     "end_time": "2024-02-21T19:18:03.242906300Z",
     "start_time": "2024-02-21T19:18:03.127059Z"
    }
   },
   "id": "3688dd7102e95baf"
  },
  {
   "cell_type": "code",
   "execution_count": 35,
   "id": "9f6f672a",
   "metadata": {
    "ExecuteTime": {
     "end_time": "2024-02-21T18:41:01.832147900Z",
     "start_time": "2024-02-21T18:41:01.605223Z"
    }
   },
   "outputs": [
    {
     "name": "stdout",
     "output_type": "stream",
     "text": [
      " Bsp. Predicted: [860.07574] Actual: [883.01] \n",
      "Durchschnittliche Abweichung (MAE): [38.6838481]\n"
     ]
    }
   ],
   "source": [
    "scaled_predicted_values = model.predict(X_test_scaled, verbose = 0)\n",
    "\n",
    "# Führen Sie die Rücktransformation der skalierten Werte durch\n",
    "original_predicted_values = scaler_target.inverse_transform(scaled_predicted_values)\n",
    "original_actual_values = scaler_target.inverse_transform(y_test_scaled)  # y_test sind die skalierten tatsächlichen Werte\n",
    "print(f' Bsp. Predicted: {original_predicted_values[100]} Actual: {original_actual_values[100]} ')\n",
    "\n",
    "def calculate_mae(list1, list2):\n",
    "    # Stelle sicher, dass beide Listen die gleiche Länge haben\n",
    "    if len(list1) != len(list2):\n",
    "        raise ValueError(\"Listen müssen die gleiche Länge haben\")\n",
    "    \n",
    "    # Berechne die absolute Differenz zwischen den Elementen der Listen\n",
    "    differences = [abs(x - y) for x, y in zip(list1, list2)]\n",
    "    \n",
    "    # Berechne den Durchschnitt der absoluten Differenzen\n",
    "    mae = sum(differences) / len(differences)\n",
    "    \n",
    "    return mae\n",
    "\n",
    "# Beispiel\n",
    "list1 = original_predicted_values\n",
    "list2 = original_actual_values\n",
    "\n",
    "mae = calculate_mae(list1, list2)\n",
    "print(f\"Durchschnittliche Abweichung (MAE): {mae}\")"
   ]
  },
  {
   "cell_type": "markdown",
   "id": "553df6fa",
   "metadata": {},
   "source": [
    "# GridSearch"
   ]
  },
  {
   "cell_type": "code",
   "execution_count": 32,
   "id": "1dca80c2",
   "metadata": {},
   "outputs": [
    {
     "name": "stdout",
     "output_type": "stream",
     "text": [
      "Trial 100 Complete [00h 00m 27s]\n",
      "val_loss: 3.0344821425387636e-05\n",
      "\n",
      "Best val_loss So Far: 1.1931638255191501e-05\n",
      "Total elapsed time: 00h 37m 09s\n",
      "WARNING:tensorflow:Detecting that an object or model or tf.train.Checkpoint is being deleted with unrestored values. See the following logs for the specific values in question. To silence these warnings, use `status.expect_partial()`. See https://www.tensorflow.org/api_docs/python/tf/train/Checkpoint#restorefor details about the status object returned by the restore function.\n",
      "WARNING:tensorflow:Value in checkpoint could not be found in the restored object: (root).optimizer._variables.1\n",
      "WARNING:tensorflow:Value in checkpoint could not be found in the restored object: (root).optimizer._variables.2\n",
      "WARNING:tensorflow:Value in checkpoint could not be found in the restored object: (root).optimizer._variables.3\n",
      "WARNING:tensorflow:Value in checkpoint could not be found in the restored object: (root).optimizer._variables.4\n",
      "WARNING:tensorflow:Value in checkpoint could not be found in the restored object: (root).optimizer._variables.5\n",
      "WARNING:tensorflow:Value in checkpoint could not be found in the restored object: (root).optimizer._variables.6\n",
      "WARNING:tensorflow:Value in checkpoint could not be found in the restored object: (root).optimizer._variables.7\n",
      "WARNING:tensorflow:Value in checkpoint could not be found in the restored object: (root).optimizer._variables.8\n",
      "WARNING:tensorflow:Value in checkpoint could not be found in the restored object: (root).optimizer._variables.9\n",
      "WARNING:tensorflow:Value in checkpoint could not be found in the restored object: (root).optimizer._variables.10\n",
      "WARNING:tensorflow:Value in checkpoint could not be found in the restored object: (root).optimizer._variables.11\n",
      "WARNING:tensorflow:Value in checkpoint could not be found in the restored object: (root).optimizer._variables.12\n",
      "WARNING:tensorflow:Value in checkpoint could not be found in the restored object: (root).optimizer._variables.13\n",
      "WARNING:tensorflow:Value in checkpoint could not be found in the restored object: (root).optimizer._variables.14\n",
      "WARNING:tensorflow:Value in checkpoint could not be found in the restored object: (root).optimizer._variables.15\n",
      "WARNING:tensorflow:Value in checkpoint could not be found in the restored object: (root).optimizer._variables.16\n",
      "WARNING:tensorflow:Value in checkpoint could not be found in the restored object: (root).optimizer._variables.17\n",
      "WARNING:tensorflow:Value in checkpoint could not be found in the restored object: (root).optimizer._variables.18\n",
      "WARNING:tensorflow:Value in checkpoint could not be found in the restored object: (root).optimizer._variables.19\n",
      "WARNING:tensorflow:Value in checkpoint could not be found in the restored object: (root).optimizer._variables.20\n",
      "WARNING:tensorflow:Value in checkpoint could not be found in the restored object: (root).optimizer._variables.21\n",
      "WARNING:tensorflow:Value in checkpoint could not be found in the restored object: (root).optimizer._variables.22\n",
      "WARNING:tensorflow:Value in checkpoint could not be found in the restored object: (root).optimizer._variables.23\n",
      "WARNING:tensorflow:Value in checkpoint could not be found in the restored object: (root).optimizer._variables.24\n",
      "WARNING:tensorflow:Value in checkpoint could not be found in the restored object: (root).optimizer._variables.25\n",
      "WARNING:tensorflow:Value in checkpoint could not be found in the restored object: (root).optimizer._variables.26\n",
      "WARNING:tensorflow:Value in checkpoint could not be found in the restored object: (root).optimizer._variables.27\n",
      "WARNING:tensorflow:Value in checkpoint could not be found in the restored object: (root).optimizer._variables.28\n",
      "Model: \"sequential\"\n",
      "_________________________________________________________________\n",
      " Layer (type)                Output Shape              Param #   \n",
      "=================================================================\n",
      " dense (Dense)               (None, 32)                96        \n",
      "                                                                 \n",
      " dense_1 (Dense)             (None, 448)               14784     \n",
      "                                                                 \n",
      " dense_2 (Dense)             (None, 352)               158048    \n",
      "                                                                 \n",
      " dense_3 (Dense)             (None, 320)               112960    \n",
      "                                                                 \n",
      " dense_4 (Dense)             (None, 256)               82176     \n",
      "                                                                 \n",
      " dense_5 (Dense)             (None, 416)               106912    \n",
      "                                                                 \n",
      " dense_6 (Dense)             (None, 128)               53376     \n",
      "                                                                 \n",
      " dense_7 (Dense)             (None, 96)                12384     \n",
      "                                                                 \n",
      " dense_8 (Dense)             (None, 32)                3104      \n",
      "                                                                 \n",
      " dense_9 (Dense)             (None, 1)                 33        \n",
      "                                                                 \n",
      "=================================================================\n",
      "Total params: 543873 (2.07 MB)\n",
      "Trainable params: 543873 (2.07 MB)\n",
      "Non-trainable params: 0 (0.00 Byte)\n",
      "_________________________________________________________________\n",
      "{'input_units': 32, 'n_layers': 8, 'units_0': 448, 'units_1': 352, 'units_2': 320, 'units_3': 256, 'units_4': 416, 'units_5': 128, 'units_6': 96, 'units_7': 32, 'units_8': 224, 'units_9': 288}\n"
     ]
    }
   ],
   "source": [
    "from keras_tuner import RandomSearch\n",
    " \n",
    "# Definieren der Funktion, die das Modell erstellt\n",
    "def build_model(hp):\n",
    "    model = Sequential()\n",
    "    model.add(Dense(hp.Int('input_units', min_value=32, max_value=512, step=32), input_shape=(2,), activation='relu'))\n",
    "    # Hinzufügen von Schichten basierend auf dem Suchraum\n",
    "    for i in range(hp.Int('n_layers', 1, 10)):\n",
    "        model.add(Dense(hp.Int(f'units_{i}', min_value=32, max_value=512, step=32), activation='relu'))\n",
    "    model.add(Dense(1, activation='linear'))\n",
    "    model.compile(optimizer='adam', loss='mean_squared_error')\n",
    "    return model\n",
    "\n",
    "# Erstellen des RandomSearch Objekts\n",
    "tuner = RandomSearch(\n",
    "    build_model,\n",
    "    objective='val_loss',\n",
    "    max_trials=100,  # Anzahl der zu testenden Modellkonfigurationen\n",
    "    executions_per_trial=1,  # Anzahl der Male, die jede Modellkonfiguration trainiert wird\n",
    "    directory='random_search',  # Verzeichnis zur Speicherung der Suchlogs\n",
    "    project_name='neural_network_optimization_D3'\n",
    ")\n",
    "\n",
    "# Durchführung des Random Search\n",
    "tuner.search(X_train_scaled, y_train_scaled, epochs=20, batch_size=50, validation_split=0.2, callbacks=[EarlyStopping(monitor='val_loss', patience=5)])\n",
    "\n",
    "# Abrufen des besten Modells\n",
    "best_model = tuner.get_best_models(num_models=1)[0]\n",
    "\n",
    "# Zusammenfassung des besten Modells\n",
    "best_model.summary()\n",
    "\n",
    "# Sie können auch die besten Hyperparameter direkt abrufen\n",
    "best_hyperparameters = tuner.get_best_hyperparameters()[0]\n",
    "print(best_hyperparameters.values)"
   ]
  },
  {
   "cell_type": "code",
   "execution_count": null,
   "id": "3f17e2cf",
   "metadata": {
    "ExecuteTime": {
     "start_time": "2024-02-21T15:33:51.276225200Z"
    }
   },
   "outputs": [],
   "source": []
  },
  {
   "cell_type": "code",
   "execution_count": null,
   "id": "492cf0ed",
   "metadata": {
    "ExecuteTime": {
     "start_time": "2024-02-21T15:33:51.278226200Z"
    }
   },
   "outputs": [],
   "source": []
  }
 ],
 "metadata": {
  "kernelspec": {
   "display_name": "Python 3 (ipykernel)",
   "language": "python",
   "name": "python3"
  },
  "language_info": {
   "codemirror_mode": {
    "name": "ipython",
    "version": 3
   },
   "file_extension": ".py",
   "mimetype": "text/x-python",
   "name": "python",
   "nbconvert_exporter": "python",
   "pygments_lexer": "ipython3",
   "version": "3.11.4"
  }
 },
 "nbformat": 4,
 "nbformat_minor": 5
}
