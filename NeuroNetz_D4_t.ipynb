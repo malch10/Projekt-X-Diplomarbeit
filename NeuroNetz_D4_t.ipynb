{
 "cells": [
  {
   "cell_type": "code",
   "execution_count": 1,
   "id": "94b0518e",
   "metadata": {
    "ExecuteTime": {
     "end_time": "2024-03-06T14:16:02.416332100Z",
     "start_time": "2024-03-06T14:15:58.047971400Z"
    }
   },
   "outputs": [
    {
     "name": "stdout",
     "output_type": "stream",
     "text": [
      "WARNING:tensorflow:From C:\\Users\\erikm\\Desktop\\Diplomarbeit Erik Marr\\Projekt X\\venv\\Lib\\site-packages\\keras\\src\\losses.py:2976: The name tf.losses.sparse_softmax_cross_entropy is deprecated. Please use tf.compat.v1.losses.sparse_softmax_cross_entropy instead.\n"
     ]
    }
   ],
   "source": [
    "import numpy as np\n",
    "import os\n",
    "import tensorflow as tf\n",
    "import matplotlib.pyplot as plt\n",
    "from sklearn.model_selection import train_test_split\n",
    "from sklearn.preprocessing import MinMaxScaler\n",
    "import pandas as pd\n",
    "from tensorflow.keras.layers import Dense , Dropout\n",
    "from scikeras.wrappers import KerasRegressor \n",
    "from tensorflow.keras.callbacks import EarlyStopping\n",
    "import time\n",
    "from keras.models import Sequential\n",
    "from keras.layers import Dense, Dropout\n",
    "from keras.optimizers import Adam\n",
    "from keras.regularizers import l2\n",
    "from keras.callbacks import EarlyStopping\n",
    "from keras_tuner import RandomSearch\n",
    "from tensorflow.keras.models import Sequential\n",
    "from tensorflow.keras.layers import Dense\n",
    "from tensorflow.keras.optimizers import Adam\n",
    "from tensorflow.keras.regularizers import l2\n",
    "from sklearn.model_selection import GridSearchCV"
   ]
  },
  {
   "cell_type": "code",
   "execution_count": 2,
   "id": "e4ff61b1",
   "metadata": {
    "ExecuteTime": {
     "end_time": "2024-03-06T14:16:08.761519600Z",
     "start_time": "2024-03-06T14:16:08.728171800Z"
    }
   },
   "outputs": [
    {
     "data": {
      "text/plain": "       X-Koordinate  Y-Koordinate  Zeitpunkt  Strom  Kraft  Temperatur\n0            0.0000      -0.00200        100   7000   9000      400.35\n1            0.0000      -0.00192        100   7000   9000      416.89\n2            0.0000      -0.00184        100   7000   9000      432.05\n3            0.0000      -0.00176        100   7000   9000      445.87\n4            0.0000      -0.00168        100   7000   9000      458.33\n...             ...           ...        ...    ...    ...         ...\n43906        0.0024       0.00168        500   7000   9000      775.40\n43907        0.0024       0.00176        500   7000   9000      715.43\n43908        0.0024       0.00184        500   7000   9000      645.85\n43909        0.0024       0.00192        500   7000   9000      585.87\n43910        0.0024       0.00200        500   7000   9000      574.64\n\n[43911 rows x 6 columns]",
      "text/html": "<div>\n<style scoped>\n    .dataframe tbody tr th:only-of-type {\n        vertical-align: middle;\n    }\n\n    .dataframe tbody tr th {\n        vertical-align: top;\n    }\n\n    .dataframe thead th {\n        text-align: right;\n    }\n</style>\n<table border=\"1\" class=\"dataframe\">\n  <thead>\n    <tr style=\"text-align: right;\">\n      <th></th>\n      <th>X-Koordinate</th>\n      <th>Y-Koordinate</th>\n      <th>Zeitpunkt</th>\n      <th>Strom</th>\n      <th>Kraft</th>\n      <th>Temperatur</th>\n    </tr>\n  </thead>\n  <tbody>\n    <tr>\n      <th>0</th>\n      <td>0.0000</td>\n      <td>-0.00200</td>\n      <td>100</td>\n      <td>7000</td>\n      <td>9000</td>\n      <td>400.35</td>\n    </tr>\n    <tr>\n      <th>1</th>\n      <td>0.0000</td>\n      <td>-0.00192</td>\n      <td>100</td>\n      <td>7000</td>\n      <td>9000</td>\n      <td>416.89</td>\n    </tr>\n    <tr>\n      <th>2</th>\n      <td>0.0000</td>\n      <td>-0.00184</td>\n      <td>100</td>\n      <td>7000</td>\n      <td>9000</td>\n      <td>432.05</td>\n    </tr>\n    <tr>\n      <th>3</th>\n      <td>0.0000</td>\n      <td>-0.00176</td>\n      <td>100</td>\n      <td>7000</td>\n      <td>9000</td>\n      <td>445.87</td>\n    </tr>\n    <tr>\n      <th>4</th>\n      <td>0.0000</td>\n      <td>-0.00168</td>\n      <td>100</td>\n      <td>7000</td>\n      <td>9000</td>\n      <td>458.33</td>\n    </tr>\n    <tr>\n      <th>...</th>\n      <td>...</td>\n      <td>...</td>\n      <td>...</td>\n      <td>...</td>\n      <td>...</td>\n      <td>...</td>\n    </tr>\n    <tr>\n      <th>43906</th>\n      <td>0.0024</td>\n      <td>0.00168</td>\n      <td>500</td>\n      <td>7000</td>\n      <td>9000</td>\n      <td>775.40</td>\n    </tr>\n    <tr>\n      <th>43907</th>\n      <td>0.0024</td>\n      <td>0.00176</td>\n      <td>500</td>\n      <td>7000</td>\n      <td>9000</td>\n      <td>715.43</td>\n    </tr>\n    <tr>\n      <th>43908</th>\n      <td>0.0024</td>\n      <td>0.00184</td>\n      <td>500</td>\n      <td>7000</td>\n      <td>9000</td>\n      <td>645.85</td>\n    </tr>\n    <tr>\n      <th>43909</th>\n      <td>0.0024</td>\n      <td>0.00192</td>\n      <td>500</td>\n      <td>7000</td>\n      <td>9000</td>\n      <td>585.87</td>\n    </tr>\n    <tr>\n      <th>43910</th>\n      <td>0.0024</td>\n      <td>0.00200</td>\n      <td>500</td>\n      <td>7000</td>\n      <td>9000</td>\n      <td>574.64</td>\n    </tr>\n  </tbody>\n</table>\n<p>43911 rows × 6 columns</p>\n</div>"
     },
     "execution_count": 2,
     "metadata": {},
     "output_type": "execute_result"
    }
   ],
   "source": [
    "#data = pd.read_pickle('C:/Users/erikm/Desktop/Diplomarbeit Erik Marr/Daten/Finish/TPath_300_finish_data.pkl')\n",
    "data = pd.read_pickle('C:/Users/erikm/Desktop/Diplomarbeit Erik Marr/Daten/Finish_D4_t_I7000_F9000/D4_t.pkl')\n",
    "\n",
    "data"
   ]
  },
  {
   "cell_type": "code",
   "execution_count": 3,
   "id": "966e3c74",
   "metadata": {
    "ExecuteTime": {
     "end_time": "2024-03-06T14:16:15.376429800Z",
     "start_time": "2024-03-06T14:16:15.336734800Z"
    }
   },
   "outputs": [
    {
     "data": {
      "text/plain": "       X-Koordinate  Y-Koordinate  Zeitpunkt  Temperatur\n0            0.0000      -0.00200        100      400.35\n1            0.0000      -0.00192        100      416.89\n2            0.0000      -0.00184        100      432.05\n3            0.0000      -0.00176        100      445.87\n4            0.0000      -0.00168        100      458.33\n...             ...           ...        ...         ...\n43906        0.0024       0.00168        500      775.40\n43907        0.0024       0.00176        500      715.43\n43908        0.0024       0.00184        500      645.85\n43909        0.0024       0.00192        500      585.87\n43910        0.0024       0.00200        500      574.64\n\n[43911 rows x 4 columns]",
      "text/html": "<div>\n<style scoped>\n    .dataframe tbody tr th:only-of-type {\n        vertical-align: middle;\n    }\n\n    .dataframe tbody tr th {\n        vertical-align: top;\n    }\n\n    .dataframe thead th {\n        text-align: right;\n    }\n</style>\n<table border=\"1\" class=\"dataframe\">\n  <thead>\n    <tr style=\"text-align: right;\">\n      <th></th>\n      <th>X-Koordinate</th>\n      <th>Y-Koordinate</th>\n      <th>Zeitpunkt</th>\n      <th>Temperatur</th>\n    </tr>\n  </thead>\n  <tbody>\n    <tr>\n      <th>0</th>\n      <td>0.0000</td>\n      <td>-0.00200</td>\n      <td>100</td>\n      <td>400.35</td>\n    </tr>\n    <tr>\n      <th>1</th>\n      <td>0.0000</td>\n      <td>-0.00192</td>\n      <td>100</td>\n      <td>416.89</td>\n    </tr>\n    <tr>\n      <th>2</th>\n      <td>0.0000</td>\n      <td>-0.00184</td>\n      <td>100</td>\n      <td>432.05</td>\n    </tr>\n    <tr>\n      <th>3</th>\n      <td>0.0000</td>\n      <td>-0.00176</td>\n      <td>100</td>\n      <td>445.87</td>\n    </tr>\n    <tr>\n      <th>4</th>\n      <td>0.0000</td>\n      <td>-0.00168</td>\n      <td>100</td>\n      <td>458.33</td>\n    </tr>\n    <tr>\n      <th>...</th>\n      <td>...</td>\n      <td>...</td>\n      <td>...</td>\n      <td>...</td>\n    </tr>\n    <tr>\n      <th>43906</th>\n      <td>0.0024</td>\n      <td>0.00168</td>\n      <td>500</td>\n      <td>775.40</td>\n    </tr>\n    <tr>\n      <th>43907</th>\n      <td>0.0024</td>\n      <td>0.00176</td>\n      <td>500</td>\n      <td>715.43</td>\n    </tr>\n    <tr>\n      <th>43908</th>\n      <td>0.0024</td>\n      <td>0.00184</td>\n      <td>500</td>\n      <td>645.85</td>\n    </tr>\n    <tr>\n      <th>43909</th>\n      <td>0.0024</td>\n      <td>0.00192</td>\n      <td>500</td>\n      <td>585.87</td>\n    </tr>\n    <tr>\n      <th>43910</th>\n      <td>0.0024</td>\n      <td>0.00200</td>\n      <td>500</td>\n      <td>574.64</td>\n    </tr>\n  </tbody>\n</table>\n<p>43911 rows × 4 columns</p>\n</div>"
     },
     "execution_count": 3,
     "metadata": {},
     "output_type": "execute_result"
    }
   ],
   "source": [
    "df = data.drop(data.columns[3:5], axis = 1)\n",
    "df"
   ]
  },
  {
   "cell_type": "code",
   "execution_count": 4,
   "id": "8783d1d6",
   "metadata": {
    "ExecuteTime": {
     "end_time": "2024-03-06T14:16:40.909530800Z",
     "start_time": "2024-03-06T14:16:40.881128200Z"
    }
   },
   "outputs": [
    {
     "name": "stdout",
     "output_type": "stream",
     "text": [
      "       X-Koordinate  Y-Koordinate  Zeitpunkt  Temperatur\n",
      "38620       0.00012      -0.00096        460     1229.80\n",
      "14428       0.00108       0.00168        230      542.76\n",
      "14359       0.00096       0.00024        230      777.04\n",
      "21104       0.00168       0.00128        290      720.23\n",
      "28698       0.00192       0.00088        360      886.28\n",
      "...             ...           ...        ...         ...\n",
      "6265        0.00204       0.00144        150      539.86\n",
      "11284       0.00132      -0.00096        200      690.53\n",
      "38158       0.00156      -0.00120        450     1049.80\n",
      "860         0.00192       0.00152        100      464.69\n",
      "15795       0.00180       0.00088        240      715.22\n",
      "\n",
      "[43911 rows x 4 columns]\n"
     ]
    },
    {
     "data": {
      "text/plain": "       X-Koordinate  Y-Koordinate  Zeitpunkt  Temperatur\n0           0.00012      -0.00096        460     1229.80\n1           0.00108       0.00168        230      542.76\n2           0.00096       0.00024        230      777.04\n3           0.00168       0.00128        290      720.23\n4           0.00192       0.00088        360      886.28\n...             ...           ...        ...         ...\n43906       0.00204       0.00144        150      539.86\n43907       0.00132      -0.00096        200      690.53\n43908       0.00156      -0.00120        450     1049.80\n43909       0.00192       0.00152        100      464.69\n43910       0.00180       0.00088        240      715.22\n\n[43911 rows x 4 columns]",
      "text/html": "<div>\n<style scoped>\n    .dataframe tbody tr th:only-of-type {\n        vertical-align: middle;\n    }\n\n    .dataframe tbody tr th {\n        vertical-align: top;\n    }\n\n    .dataframe thead th {\n        text-align: right;\n    }\n</style>\n<table border=\"1\" class=\"dataframe\">\n  <thead>\n    <tr style=\"text-align: right;\">\n      <th></th>\n      <th>X-Koordinate</th>\n      <th>Y-Koordinate</th>\n      <th>Zeitpunkt</th>\n      <th>Temperatur</th>\n    </tr>\n  </thead>\n  <tbody>\n    <tr>\n      <th>0</th>\n      <td>0.00012</td>\n      <td>-0.00096</td>\n      <td>460</td>\n      <td>1229.80</td>\n    </tr>\n    <tr>\n      <th>1</th>\n      <td>0.00108</td>\n      <td>0.00168</td>\n      <td>230</td>\n      <td>542.76</td>\n    </tr>\n    <tr>\n      <th>2</th>\n      <td>0.00096</td>\n      <td>0.00024</td>\n      <td>230</td>\n      <td>777.04</td>\n    </tr>\n    <tr>\n      <th>3</th>\n      <td>0.00168</td>\n      <td>0.00128</td>\n      <td>290</td>\n      <td>720.23</td>\n    </tr>\n    <tr>\n      <th>4</th>\n      <td>0.00192</td>\n      <td>0.00088</td>\n      <td>360</td>\n      <td>886.28</td>\n    </tr>\n    <tr>\n      <th>...</th>\n      <td>...</td>\n      <td>...</td>\n      <td>...</td>\n      <td>...</td>\n    </tr>\n    <tr>\n      <th>43906</th>\n      <td>0.00204</td>\n      <td>0.00144</td>\n      <td>150</td>\n      <td>539.86</td>\n    </tr>\n    <tr>\n      <th>43907</th>\n      <td>0.00132</td>\n      <td>-0.00096</td>\n      <td>200</td>\n      <td>690.53</td>\n    </tr>\n    <tr>\n      <th>43908</th>\n      <td>0.00156</td>\n      <td>-0.00120</td>\n      <td>450</td>\n      <td>1049.80</td>\n    </tr>\n    <tr>\n      <th>43909</th>\n      <td>0.00192</td>\n      <td>0.00152</td>\n      <td>100</td>\n      <td>464.69</td>\n    </tr>\n    <tr>\n      <th>43910</th>\n      <td>0.00180</td>\n      <td>0.00088</td>\n      <td>240</td>\n      <td>715.22</td>\n    </tr>\n  </tbody>\n</table>\n<p>43911 rows × 4 columns</p>\n</div>"
     },
     "execution_count": 4,
     "metadata": {},
     "output_type": "execute_result"
    }
   ],
   "source": [
    "df1 = df.sample(frac=1, random_state=42)  # Hier wird 42 als Random State verwendet, um die Ergebnisse reproduzierbar zu machen\n",
    "\n",
    "print(df1)\n",
    "df_reset = df1.reset_index(drop=True)\n",
    "df_reset"
   ]
  },
  {
   "cell_type": "code",
   "execution_count": 5,
   "id": "a4e72a16",
   "metadata": {
    "ExecuteTime": {
     "end_time": "2024-03-06T14:16:45.604557400Z",
     "start_time": "2024-03-06T14:16:45.561569100Z"
    }
   },
   "outputs": [],
   "source": [
    "label = df_reset[\"Temperatur\"]\n",
    "# Korrektur: Verwenden Sie den Spaltennamen direkt, ohne Indexierung der columns-Eigenschaft\n",
    "df1 = df_reset.drop(\"Temperatur\", axis=1)\n",
    "X = df1\n",
    "y = label\n"
   ]
  },
  {
   "cell_type": "markdown",
   "source": [],
   "metadata": {
    "collapsed": false
   },
   "id": "f7fa289a50d87423"
  },
  {
   "cell_type": "code",
   "execution_count": 6,
   "id": "e694a236",
   "metadata": {
    "ExecuteTime": {
     "end_time": "2024-03-06T14:16:46.910591Z",
     "start_time": "2024-03-06T14:16:46.877622100Z"
    }
   },
   "outputs": [
    {
     "data": {
      "text/plain": "       X-Koordinate  Y-Koordinate  Zeitpunkt\n0           0.00012      -0.00096        460\n1           0.00108       0.00168        230\n2           0.00096       0.00024        230\n3           0.00168       0.00128        290\n4           0.00192       0.00088        360\n...             ...           ...        ...\n43906       0.00204       0.00144        150\n43907       0.00132      -0.00096        200\n43908       0.00156      -0.00120        450\n43909       0.00192       0.00152        100\n43910       0.00180       0.00088        240\n\n[43911 rows x 3 columns]",
      "text/html": "<div>\n<style scoped>\n    .dataframe tbody tr th:only-of-type {\n        vertical-align: middle;\n    }\n\n    .dataframe tbody tr th {\n        vertical-align: top;\n    }\n\n    .dataframe thead th {\n        text-align: right;\n    }\n</style>\n<table border=\"1\" class=\"dataframe\">\n  <thead>\n    <tr style=\"text-align: right;\">\n      <th></th>\n      <th>X-Koordinate</th>\n      <th>Y-Koordinate</th>\n      <th>Zeitpunkt</th>\n    </tr>\n  </thead>\n  <tbody>\n    <tr>\n      <th>0</th>\n      <td>0.00012</td>\n      <td>-0.00096</td>\n      <td>460</td>\n    </tr>\n    <tr>\n      <th>1</th>\n      <td>0.00108</td>\n      <td>0.00168</td>\n      <td>230</td>\n    </tr>\n    <tr>\n      <th>2</th>\n      <td>0.00096</td>\n      <td>0.00024</td>\n      <td>230</td>\n    </tr>\n    <tr>\n      <th>3</th>\n      <td>0.00168</td>\n      <td>0.00128</td>\n      <td>290</td>\n    </tr>\n    <tr>\n      <th>4</th>\n      <td>0.00192</td>\n      <td>0.00088</td>\n      <td>360</td>\n    </tr>\n    <tr>\n      <th>...</th>\n      <td>...</td>\n      <td>...</td>\n      <td>...</td>\n    </tr>\n    <tr>\n      <th>43906</th>\n      <td>0.00204</td>\n      <td>0.00144</td>\n      <td>150</td>\n    </tr>\n    <tr>\n      <th>43907</th>\n      <td>0.00132</td>\n      <td>-0.00096</td>\n      <td>200</td>\n    </tr>\n    <tr>\n      <th>43908</th>\n      <td>0.00156</td>\n      <td>-0.00120</td>\n      <td>450</td>\n    </tr>\n    <tr>\n      <th>43909</th>\n      <td>0.00192</td>\n      <td>0.00152</td>\n      <td>100</td>\n    </tr>\n    <tr>\n      <th>43910</th>\n      <td>0.00180</td>\n      <td>0.00088</td>\n      <td>240</td>\n    </tr>\n  </tbody>\n</table>\n<p>43911 rows × 3 columns</p>\n</div>"
     },
     "execution_count": 6,
     "metadata": {},
     "output_type": "execute_result"
    }
   ],
   "source": [
    "X"
   ]
  },
  {
   "cell_type": "code",
   "execution_count": 7,
   "id": "3f3303b4",
   "metadata": {
    "ExecuteTime": {
     "end_time": "2024-03-06T14:16:50.520858400Z",
     "start_time": "2024-03-06T14:16:50.515915400Z"
    }
   },
   "outputs": [
    {
     "data": {
      "text/plain": "0        1229.80\n1         542.76\n2         777.04\n3         720.23\n4         886.28\n          ...   \n43906     539.86\n43907     690.53\n43908    1049.80\n43909     464.69\n43910     715.22\nName: Temperatur, Length: 43911, dtype: float64"
     },
     "execution_count": 7,
     "metadata": {},
     "output_type": "execute_result"
    }
   ],
   "source": [
    "y"
   ]
  },
  {
   "cell_type": "code",
   "execution_count": 8,
   "id": "e3ad8da0",
   "metadata": {
    "ExecuteTime": {
     "end_time": "2024-03-06T14:16:51.970819600Z",
     "start_time": "2024-03-06T14:16:51.960078200Z"
    }
   },
   "outputs": [],
   "source": [
    " # train_df enthält 80% der Daten, test_df enthält 20% der Daten\n",
    "X_train, X_test, y_train, y_test = train_test_split(X, y, test_size=0.20, random_state=42)\n"
   ]
  },
  {
   "cell_type": "code",
   "execution_count": 9,
   "id": "9c705edb",
   "metadata": {
    "ExecuteTime": {
     "end_time": "2024-03-06T14:16:56.485708700Z",
     "start_time": "2024-03-06T14:16:56.457363900Z"
    }
   },
   "outputs": [],
   "source": [
    "# Initialisiere einen MinMaxScaler für die Features\n",
    "scaler_features = MinMaxScaler()\n",
    "scaler_features2 = MinMaxScaler()\n",
    "# Skaliere X_train und X_test\n",
    "X_train_scaled = scaler_features.fit_transform(X_train)\n",
    "X_test_scaled = scaler_features.transform(X_test)  # Nutze unterschiedliche Skalierungsparameter\n",
    "\n",
    "# Initialisiere einen SEPARATEN MinMaxScaler für das Ziel, wenn nötig\n",
    "scaler_target = MinMaxScaler()\n",
    "\n",
    "\n",
    "# Skaliere y_train und y_test. Beachte, dass y_train.reshape(-1, 1) verwendet wird, da MinMaxScaler \n",
    "# erwartet, dass die Eingaben als 2D-Arrays kommen, und Ziele normalerweise als 1D-Arrays vorliegen.\n",
    "y_train_scaled = scaler_target.fit_transform(y_train.values.reshape(-1, 1))\n",
    "y_test_scaled = scaler_target.transform(y_test.values.reshape(-1, 1))\n"
   ]
  },
  {
   "cell_type": "code",
   "execution_count": 10,
   "id": "bbefe631e495b483",
   "metadata": {
    "ExecuteTime": {
     "end_time": "2024-03-06T14:16:58.077309200Z",
     "start_time": "2024-03-06T14:16:58.071791500Z"
    }
   },
   "outputs": [
    {
     "data": {
      "text/plain": "array([[0.05 , 0.66 , 0.275],\n       [0.8  , 0.02 , 0.525],\n       [0.6  , 0.2  , 0.525],\n       ...,\n       [0.45 , 0.92 , 0.975],\n       [0.3  , 0.7  , 0.875],\n       [0.75 , 1.   , 0.275]])"
     },
     "execution_count": 10,
     "metadata": {},
     "output_type": "execute_result"
    }
   ],
   "source": [
    "X_train_scaled"
   ]
  },
  {
   "cell_type": "code",
   "execution_count": 11,
   "outputs": [
    {
     "data": {
      "text/plain": "0.9999999999999999"
     },
     "execution_count": 11,
     "metadata": {},
     "output_type": "execute_result"
    }
   ],
   "source": [
    "y_train_scaled.max()"
   ],
   "metadata": {
    "collapsed": false,
    "ExecuteTime": {
     "end_time": "2024-03-06T14:17:00.484293700Z",
     "start_time": "2024-03-06T14:17:00.477620500Z"
    }
   },
   "id": "ce04ce43aac2242f"
  },
  {
   "cell_type": "code",
   "execution_count": 12,
   "outputs": [
    {
     "name": "stdout",
     "output_type": "stream",
     "text": [
      "WARNING:tensorflow:From C:\\Users\\erikm\\Desktop\\Diplomarbeit Erik Marr\\Projekt X\\venv\\Lib\\site-packages\\keras\\src\\backend.py:873: The name tf.get_default_graph is deprecated. Please use tf.compat.v1.get_default_graph instead.\n",
      "Epoch 1/1000\n",
      "WARNING:tensorflow:From C:\\Users\\erikm\\Desktop\\Diplomarbeit Erik Marr\\Projekt X\\venv\\Lib\\site-packages\\keras\\src\\utils\\tf_utils.py:492: The name tf.ragged.RaggedTensorValue is deprecated. Please use tf.compat.v1.ragged.RaggedTensorValue instead.\n",
      "WARNING:tensorflow:From C:\\Users\\erikm\\Desktop\\Diplomarbeit Erik Marr\\Projekt X\\venv\\Lib\\site-packages\\keras\\src\\engine\\base_layer_utils.py:384: The name tf.executing_eagerly_outside_functions is deprecated. Please use tf.compat.v1.executing_eagerly_outside_functions instead.\n",
      "375/375 [==============================] - 2s 2ms/step - loss: 0.0657 - mae: 0.0700 - val_loss: 0.0465 - val_mae: 0.0349\n",
      "Epoch 2/1000\n",
      "375/375 [==============================] - 0s 1ms/step - loss: 0.0418 - mae: 0.0243 - val_loss: 0.0378 - val_mae: 0.0179\n",
      "Epoch 3/1000\n",
      "375/375 [==============================] - 0s 1ms/step - loss: 0.0348 - mae: 0.0170 - val_loss: 0.0319 - val_mae: 0.0132\n",
      "Epoch 4/1000\n",
      "375/375 [==============================] - 0s 1ms/step - loss: 0.0295 - mae: 0.0142 - val_loss: 0.0271 - val_mae: 0.0119\n",
      "Epoch 5/1000\n",
      "375/375 [==============================] - 0s 1ms/step - loss: 0.0251 - mae: 0.0123 - val_loss: 0.0231 - val_mae: 0.0107\n",
      "Epoch 6/1000\n",
      "375/375 [==============================] - 0s 1ms/step - loss: 0.0214 - mae: 0.0122 - val_loss: 0.0196 - val_mae: 0.0115\n",
      "Epoch 7/1000\n",
      "375/375 [==============================] - 0s 1ms/step - loss: 0.0180 - mae: 0.0106 - val_loss: 0.0165 - val_mae: 0.0100\n",
      "Epoch 8/1000\n",
      "375/375 [==============================] - 0s 1ms/step - loss: 0.0151 - mae: 0.0109 - val_loss: 0.0138 - val_mae: 0.0109\n",
      "Epoch 9/1000\n",
      "375/375 [==============================] - 0s 1ms/step - loss: 0.0125 - mae: 0.0100 - val_loss: 0.0114 - val_mae: 0.0101\n",
      "Epoch 10/1000\n",
      "375/375 [==============================] - 0s 1ms/step - loss: 0.0103 - mae: 0.0099 - val_loss: 0.0093 - val_mae: 0.0118\n",
      "Epoch 11/1000\n",
      "375/375 [==============================] - 0s 1ms/step - loss: 0.0084 - mae: 0.0095 - val_loss: 0.0075 - val_mae: 0.0084\n",
      "Epoch 12/1000\n",
      "375/375 [==============================] - 0s 1ms/step - loss: 0.0068 - mae: 0.0094 - val_loss: 0.0061 - val_mae: 0.0108\n",
      "Epoch 13/1000\n",
      "375/375 [==============================] - 0s 1ms/step - loss: 0.0054 - mae: 0.0089 - val_loss: 0.0048 - val_mae: 0.0096\n",
      "Epoch 14/1000\n",
      "375/375 [==============================] - 0s 1ms/step - loss: 0.0044 - mae: 0.0097 - val_loss: 0.0039 - val_mae: 0.0090\n",
      "Epoch 15/1000\n",
      "375/375 [==============================] - 0s 1ms/step - loss: 0.0035 - mae: 0.0084 - val_loss: 0.0031 - val_mae: 0.0078\n",
      "Epoch 16/1000\n",
      "375/375 [==============================] - 0s 1ms/step - loss: 0.0028 - mae: 0.0086 - val_loss: 0.0025 - val_mae: 0.0086\n",
      "Epoch 17/1000\n",
      "375/375 [==============================] - 0s 1ms/step - loss: 0.0023 - mae: 0.0090 - val_loss: 0.0021 - val_mae: 0.0089\n",
      "Epoch 18/1000\n",
      "375/375 [==============================] - 0s 1ms/step - loss: 0.0020 - mae: 0.0086 - val_loss: 0.0018 - val_mae: 0.0082\n",
      "Epoch 19/1000\n",
      "375/375 [==============================] - 0s 1ms/step - loss: 0.0017 - mae: 0.0087 - val_loss: 0.0016 - val_mae: 0.0070\n",
      "Epoch 20/1000\n",
      "375/375 [==============================] - 0s 1ms/step - loss: 0.0015 - mae: 0.0083 - val_loss: 0.0014 - val_mae: 0.0077\n",
      "Epoch 21/1000\n",
      "375/375 [==============================] - 0s 1ms/step - loss: 0.0013 - mae: 0.0083 - val_loss: 0.0013 - val_mae: 0.0074\n",
      "Epoch 22/1000\n",
      "375/375 [==============================] - 0s 1ms/step - loss: 0.0012 - mae: 0.0087 - val_loss: 0.0011 - val_mae: 0.0066\n",
      "Epoch 23/1000\n",
      "375/375 [==============================] - 0s 1ms/step - loss: 0.0011 - mae: 0.0079 - val_loss: 0.0011 - val_mae: 0.0069\n",
      "Epoch 24/1000\n",
      "375/375 [==============================] - 0s 1ms/step - loss: 0.0011 - mae: 0.0082 - val_loss: 0.0014 - val_mae: 0.0178\n",
      "Epoch 25/1000\n",
      "375/375 [==============================] - 0s 1ms/step - loss: 0.0010 - mae: 0.0088 - val_loss: 0.0010 - val_mae: 0.0088\n",
      "Epoch 26/1000\n",
      "375/375 [==============================] - 0s 1ms/step - loss: 9.7480e-04 - mae: 0.0082 - val_loss: 9.5621e-04 - val_mae: 0.0083\n",
      "Epoch 27/1000\n",
      "375/375 [==============================] - 0s 1ms/step - loss: 9.3572e-04 - mae: 0.0081 - val_loss: 8.8043e-04 - val_mae: 0.0064\n",
      "Epoch 28/1000\n",
      "375/375 [==============================] - 0s 1ms/step - loss: 9.0725e-04 - mae: 0.0082 - val_loss: 9.0063e-04 - val_mae: 0.0083\n",
      "Epoch 29/1000\n",
      "375/375 [==============================] - 0s 1ms/step - loss: 8.7820e-04 - mae: 0.0081 - val_loss: 8.3832e-04 - val_mae: 0.0072\n",
      "Epoch 30/1000\n",
      "375/375 [==============================] - 0s 1ms/step - loss: 8.5208e-04 - mae: 0.0081 - val_loss: 9.4982e-04 - val_mae: 0.0121\n",
      "Epoch 31/1000\n",
      "375/375 [==============================] - 0s 1ms/step - loss: 8.2224e-04 - mae: 0.0078 - val_loss: 8.1879e-04 - val_mae: 0.0081\n",
      "Epoch 32/1000\n",
      "375/375 [==============================] - 0s 1ms/step - loss: 8.1454e-04 - mae: 0.0082 - val_loss: 7.6818e-04 - val_mae: 0.0068\n",
      "Epoch 33/1000\n",
      "375/375 [==============================] - 0s 1ms/step - loss: 7.8830e-04 - mae: 0.0079 - val_loss: 9.1685e-04 - val_mae: 0.0135\n",
      "Epoch 34/1000\n",
      "375/375 [==============================] - 0s 1ms/step - loss: 7.6535e-04 - mae: 0.0078 - val_loss: 7.5058e-04 - val_mae: 0.0076\n",
      "Epoch 35/1000\n",
      "375/375 [==============================] - 0s 1ms/step - loss: 7.5031e-04 - mae: 0.0077 - val_loss: 7.1970e-04 - val_mae: 0.0069\n",
      "Epoch 36/1000\n",
      "375/375 [==============================] - 0s 1ms/step - loss: 7.4217e-04 - mae: 0.0079 - val_loss: 6.8985e-04 - val_mae: 0.0059\n",
      "Epoch 37/1000\n",
      "375/375 [==============================] - 0s 1ms/step - loss: 7.2613e-04 - mae: 0.0079 - val_loss: 7.0106e-04 - val_mae: 0.0076\n",
      "Epoch 38/1000\n",
      "375/375 [==============================] - 0s 1ms/step - loss: 7.1538e-04 - mae: 0.0080 - val_loss: 6.7337e-04 - val_mae: 0.0069\n",
      "Epoch 39/1000\n",
      "375/375 [==============================] - 0s 1ms/step - loss: 7.0133e-04 - mae: 0.0079 - val_loss: 6.6293e-04 - val_mae: 0.0067\n",
      "Epoch 40/1000\n",
      "375/375 [==============================] - 0s 1ms/step - loss: 6.9003e-04 - mae: 0.0078 - val_loss: 8.0086e-04 - val_mae: 0.0112\n",
      "Epoch 41/1000\n",
      "375/375 [==============================] - 0s 1ms/step - loss: 6.8112e-04 - mae: 0.0079 - val_loss: 6.8050e-04 - val_mae: 0.0078\n",
      "Epoch 42/1000\n",
      "375/375 [==============================] - 0s 1ms/step - loss: 6.7881e-04 - mae: 0.0081 - val_loss: 6.2284e-04 - val_mae: 0.0061\n",
      "Epoch 43/1000\n",
      "375/375 [==============================] - 0s 1ms/step - loss: 6.3959e-04 - mae: 0.0070 - val_loss: 6.1499e-04 - val_mae: 0.0063\n",
      "Epoch 44/1000\n",
      "375/375 [==============================] - 0s 1ms/step - loss: 6.5198e-04 - mae: 0.0079 - val_loss: 6.5926e-04 - val_mae: 0.0076\n",
      "Epoch 45/1000\n",
      "375/375 [==============================] - 0s 1ms/step - loss: 6.3323e-04 - mae: 0.0075 - val_loss: 5.9540e-04 - val_mae: 0.0061\n",
      "Epoch 46/1000\n",
      "375/375 [==============================] - 0s 1ms/step - loss: 6.2926e-04 - mae: 0.0077 - val_loss: 5.8609e-04 - val_mae: 0.0062\n",
      "Epoch 47/1000\n",
      "375/375 [==============================] - 0s 1ms/step - loss: 6.1352e-04 - mae: 0.0074 - val_loss: 6.7549e-04 - val_mae: 0.0095\n",
      "Epoch 48/1000\n",
      "375/375 [==============================] - 0s 1ms/step - loss: 6.0439e-04 - mae: 0.0073 - val_loss: 5.8501e-04 - val_mae: 0.0067\n",
      "Epoch 49/1000\n",
      "375/375 [==============================] - 0s 1ms/step - loss: 5.9132e-04 - mae: 0.0071 - val_loss: 5.8815e-04 - val_mae: 0.0068\n",
      "Epoch 50/1000\n",
      "375/375 [==============================] - 0s 1ms/step - loss: 5.9493e-04 - mae: 0.0074 - val_loss: 6.2553e-04 - val_mae: 0.0090\n",
      "Epoch 51/1000\n",
      "375/375 [==============================] - 0s 1ms/step - loss: 5.9853e-04 - mae: 0.0078 - val_loss: 5.7588e-04 - val_mae: 0.0069\n",
      "Epoch 52/1000\n",
      "375/375 [==============================] - 0s 1ms/step - loss: 5.7560e-04 - mae: 0.0072 - val_loss: 5.4579e-04 - val_mae: 0.0061\n",
      "Epoch 53/1000\n",
      "375/375 [==============================] - 0s 1ms/step - loss: 5.7958e-04 - mae: 0.0076 - val_loss: 5.7431e-04 - val_mae: 0.0079\n",
      "Epoch 54/1000\n",
      "375/375 [==============================] - 0s 1ms/step - loss: 5.6547e-04 - mae: 0.0072 - val_loss: 5.2918e-04 - val_mae: 0.0056\n",
      "Epoch 55/1000\n",
      "375/375 [==============================] - 0s 1ms/step - loss: 5.5077e-04 - mae: 0.0068 - val_loss: 5.6424e-04 - val_mae: 0.0081\n",
      "Epoch 56/1000\n",
      "375/375 [==============================] - 0s 1ms/step - loss: 5.5269e-04 - mae: 0.0072 - val_loss: 5.4975e-04 - val_mae: 0.0069\n",
      "Epoch 57/1000\n",
      "375/375 [==============================] - 0s 1ms/step - loss: 5.5261e-04 - mae: 0.0074 - val_loss: 5.5712e-04 - val_mae: 0.0073\n",
      "Epoch 58/1000\n",
      "375/375 [==============================] - 0s 1ms/step - loss: 5.3754e-04 - mae: 0.0069 - val_loss: 5.6699e-04 - val_mae: 0.0082\n",
      "Epoch 59/1000\n",
      "375/375 [==============================] - 0s 1ms/step - loss: 5.5219e-04 - mae: 0.0077 - val_loss: 5.4259e-04 - val_mae: 0.0074\n",
      "Epoch 60/1000\n",
      "375/375 [==============================] - 0s 1ms/step - loss: 5.3405e-04 - mae: 0.0071 - val_loss: 5.7117e-04 - val_mae: 0.0078\n",
      "Epoch 61/1000\n",
      "375/375 [==============================] - 0s 1ms/step - loss: 5.2426e-04 - mae: 0.0069 - val_loss: 5.5397e-04 - val_mae: 0.0087\n",
      "Epoch 62/1000\n",
      "375/375 [==============================] - 0s 1ms/step - loss: 5.2642e-04 - mae: 0.0072 - val_loss: 4.9490e-04 - val_mae: 0.0058\n",
      "Epoch 63/1000\n",
      "375/375 [==============================] - 0s 1ms/step - loss: 5.1124e-04 - mae: 0.0067 - val_loss: 5.3706e-04 - val_mae: 0.0082\n",
      "Epoch 64/1000\n",
      "375/375 [==============================] - 0s 1ms/step - loss: 5.2159e-04 - mae: 0.0072 - val_loss: 5.1381e-04 - val_mae: 0.0077\n",
      "Epoch 65/1000\n",
      "375/375 [==============================] - 0s 1ms/step - loss: 5.1833e-04 - mae: 0.0073 - val_loss: 4.8281e-04 - val_mae: 0.0058\n",
      "Epoch 66/1000\n",
      "375/375 [==============================] - 0s 1ms/step - loss: 5.0068e-04 - mae: 0.0067 - val_loss: 4.8255e-04 - val_mae: 0.0059\n",
      "Epoch 67/1000\n",
      "375/375 [==============================] - 0s 1ms/step - loss: 5.0826e-04 - mae: 0.0073 - val_loss: 4.7216e-04 - val_mae: 0.0055\n",
      "Epoch 68/1000\n",
      "375/375 [==============================] - 0s 1ms/step - loss: 4.8987e-04 - mae: 0.0065 - val_loss: 4.8492e-04 - val_mae: 0.0062\n",
      "Epoch 69/1000\n",
      "375/375 [==============================] - 0s 1ms/step - loss: 4.9704e-04 - mae: 0.0070 - val_loss: 5.1637e-04 - val_mae: 0.0080\n",
      "Epoch 70/1000\n",
      "375/375 [==============================] - 0s 1ms/step - loss: 4.8684e-04 - mae: 0.0067 - val_loss: 5.0029e-04 - val_mae: 0.0073\n",
      "Epoch 71/1000\n",
      "375/375 [==============================] - 0s 1ms/step - loss: 4.8987e-04 - mae: 0.0070 - val_loss: 4.7595e-04 - val_mae: 0.0068\n",
      "Epoch 72/1000\n",
      "375/375 [==============================] - 0s 1ms/step - loss: 4.8387e-04 - mae: 0.0069 - val_loss: 5.0570e-04 - val_mae: 0.0080\n",
      "Epoch 73/1000\n",
      "375/375 [==============================] - 0s 1ms/step - loss: 4.9300e-04 - mae: 0.0073 - val_loss: 4.5840e-04 - val_mae: 0.0060\n",
      "Epoch 74/1000\n",
      "375/375 [==============================] - 0s 1ms/step - loss: 4.7722e-04 - mae: 0.0069 - val_loss: 5.7563e-04 - val_mae: 0.0107\n",
      "Epoch 75/1000\n",
      "375/375 [==============================] - 0s 1ms/step - loss: 4.6527e-04 - mae: 0.0064 - val_loss: 4.5175e-04 - val_mae: 0.0060\n",
      "Epoch 76/1000\n",
      "375/375 [==============================] - 0s 1ms/step - loss: 4.6934e-04 - mae: 0.0067 - val_loss: 5.7763e-04 - val_mae: 0.0115\n",
      "Epoch 77/1000\n",
      "375/375 [==============================] - 0s 1ms/step - loss: 4.6454e-04 - mae: 0.0067 - val_loss: 4.4154e-04 - val_mae: 0.0056\n",
      "Epoch 78/1000\n",
      "375/375 [==============================] - 0s 1ms/step - loss: 4.6697e-04 - mae: 0.0069 - val_loss: 5.1521e-04 - val_mae: 0.0096\n",
      "Epoch 79/1000\n",
      "375/375 [==============================] - 0s 1ms/step - loss: 4.6000e-04 - mae: 0.0067 - val_loss: 4.7110e-04 - val_mae: 0.0073\n",
      "Epoch 80/1000\n",
      "375/375 [==============================] - 0s 1ms/step - loss: 4.7342e-04 - mae: 0.0074 - val_loss: 4.7036e-04 - val_mae: 0.0069\n",
      "Epoch 81/1000\n",
      "375/375 [==============================] - 0s 1ms/step - loss: 4.5214e-04 - mae: 0.0066 - val_loss: 4.3367e-04 - val_mae: 0.0056\n",
      "Epoch 82/1000\n",
      "375/375 [==============================] - 0s 1ms/step - loss: 4.5035e-04 - mae: 0.0066 - val_loss: 4.2550e-04 - val_mae: 0.0055\n",
      "Epoch 83/1000\n",
      "375/375 [==============================] - 0s 1ms/step - loss: 4.5325e-04 - mae: 0.0068 - val_loss: 4.3981e-04 - val_mae: 0.0063\n",
      "Epoch 84/1000\n",
      "375/375 [==============================] - 0s 1ms/step - loss: 4.4775e-04 - mae: 0.0067 - val_loss: 4.2095e-04 - val_mae: 0.0056\n",
      "Epoch 85/1000\n",
      "375/375 [==============================] - 0s 1ms/step - loss: 4.4390e-04 - mae: 0.0066 - val_loss: 4.4658e-04 - val_mae: 0.0071\n",
      "Epoch 86/1000\n",
      "375/375 [==============================] - 0s 1ms/step - loss: 4.4718e-04 - mae: 0.0068 - val_loss: 4.2370e-04 - val_mae: 0.0060\n",
      "Epoch 87/1000\n",
      "375/375 [==============================] - 0s 1ms/step - loss: 4.4525e-04 - mae: 0.0069 - val_loss: 4.4346e-04 - val_mae: 0.0067\n",
      "Epoch 88/1000\n",
      "375/375 [==============================] - 0s 1ms/step - loss: 4.3580e-04 - mae: 0.0065 - val_loss: 4.2017e-04 - val_mae: 0.0059\n",
      "Epoch 89/1000\n",
      "375/375 [==============================] - 0s 1ms/step - loss: 4.3677e-04 - mae: 0.0067 - val_loss: 4.5131e-04 - val_mae: 0.0077\n",
      "Epoch 90/1000\n",
      "375/375 [==============================] - 0s 1ms/step - loss: 4.3619e-04 - mae: 0.0068 - val_loss: 5.0987e-04 - val_mae: 0.0107\n",
      "Epoch 91/1000\n",
      "375/375 [==============================] - 0s 1ms/step - loss: 4.3395e-04 - mae: 0.0067 - val_loss: 4.9703e-04 - val_mae: 0.0099\n",
      "Epoch 92/1000\n",
      "375/375 [==============================] - 0s 1ms/step - loss: 4.3295e-04 - mae: 0.0068 - val_loss: 4.0894e-04 - val_mae: 0.0056\n",
      "Epoch 93/1000\n",
      "375/375 [==============================] - 0s 1ms/step - loss: 4.3253e-04 - mae: 0.0068 - val_loss: 4.1028e-04 - val_mae: 0.0060\n",
      "Epoch 94/1000\n",
      "375/375 [==============================] - 0s 1ms/step - loss: 4.2988e-04 - mae: 0.0068 - val_loss: 4.2256e-04 - val_mae: 0.0067\n",
      "Epoch 95/1000\n",
      "375/375 [==============================] - 0s 1ms/step - loss: 4.2305e-04 - mae: 0.0065 - val_loss: 4.3992e-04 - val_mae: 0.0076\n",
      "Epoch 96/1000\n",
      "375/375 [==============================] - 0s 1ms/step - loss: 4.1652e-04 - mae: 0.0063 - val_loss: 4.1432e-04 - val_mae: 0.0064\n",
      "Epoch 97/1000\n",
      "375/375 [==============================] - 0s 1ms/step - loss: 4.2800e-04 - mae: 0.0069 - val_loss: 4.0895e-04 - val_mae: 0.0063\n",
      "Epoch 98/1000\n",
      "375/375 [==============================] - 0s 1ms/step - loss: 4.2103e-04 - mae: 0.0067 - val_loss: 4.0735e-04 - val_mae: 0.0063\n",
      "Epoch 99/1000\n",
      "375/375 [==============================] - 0s 1ms/step - loss: 4.1667e-04 - mae: 0.0066 - val_loss: 3.9842e-04 - val_mae: 0.0056\n",
      "Epoch 100/1000\n",
      "375/375 [==============================] - 0s 1ms/step - loss: 4.2142e-04 - mae: 0.0068 - val_loss: 3.9518e-04 - val_mae: 0.0058\n",
      "Epoch 101/1000\n",
      "375/375 [==============================] - 0s 1ms/step - loss: 4.1641e-04 - mae: 0.0067 - val_loss: 4.1495e-04 - val_mae: 0.0069\n",
      "Epoch 102/1000\n",
      "375/375 [==============================] - 0s 1ms/step - loss: 4.1742e-04 - mae: 0.0068 - val_loss: 7.4891e-04 - val_mae: 0.0163\n",
      "Epoch 103/1000\n",
      "375/375 [==============================] - 0s 1ms/step - loss: 4.1463e-04 - mae: 0.0067 - val_loss: 4.9226e-04 - val_mae: 0.0106\n",
      "Epoch 104/1000\n",
      "375/375 [==============================] - 0s 1ms/step - loss: 4.0559e-04 - mae: 0.0065 - val_loss: 3.9637e-04 - val_mae: 0.0059\n",
      "Epoch 105/1000\n",
      "375/375 [==============================] - 0s 1ms/step - loss: 4.1565e-04 - mae: 0.0070 - val_loss: 4.4581e-04 - val_mae: 0.0085\n",
      "Epoch 106/1000\n",
      "375/375 [==============================] - 0s 1ms/step - loss: 4.0601e-04 - mae: 0.0066 - val_loss: 4.0424e-04 - val_mae: 0.0063\n",
      "Epoch 107/1000\n",
      "375/375 [==============================] - 0s 1ms/step - loss: 3.9782e-04 - mae: 0.0063 - val_loss: 3.7682e-04 - val_mae: 0.0054\n",
      "Epoch 108/1000\n",
      "375/375 [==============================] - 0s 1ms/step - loss: 3.9669e-04 - mae: 0.0063 - val_loss: 4.0075e-04 - val_mae: 0.0070\n",
      "Epoch 109/1000\n",
      "375/375 [==============================] - 0s 1ms/step - loss: 3.9825e-04 - mae: 0.0065 - val_loss: 3.7618e-04 - val_mae: 0.0056\n",
      "Epoch 110/1000\n",
      "375/375 [==============================] - 0s 1ms/step - loss: 3.9454e-04 - mae: 0.0064 - val_loss: 4.0266e-04 - val_mae: 0.0065\n",
      "Epoch 111/1000\n",
      "375/375 [==============================] - 0s 1ms/step - loss: 4.0471e-04 - mae: 0.0069 - val_loss: 3.7346e-04 - val_mae: 0.0055\n",
      "Epoch 112/1000\n",
      "375/375 [==============================] - 0s 1ms/step - loss: 3.9131e-04 - mae: 0.0064 - val_loss: 4.1628e-04 - val_mae: 0.0078\n",
      "Epoch 113/1000\n",
      "375/375 [==============================] - 0s 1ms/step - loss: 3.9709e-04 - mae: 0.0067 - val_loss: 3.7727e-04 - val_mae: 0.0059\n",
      "Epoch 114/1000\n",
      "375/375 [==============================] - 0s 1ms/step - loss: 3.8946e-04 - mae: 0.0064 - val_loss: 3.6599e-04 - val_mae: 0.0053\n",
      "Epoch 115/1000\n",
      "375/375 [==============================] - 0s 1ms/step - loss: 3.9538e-04 - mae: 0.0068 - val_loss: 3.6876e-04 - val_mae: 0.0058\n",
      "Epoch 116/1000\n",
      "375/375 [==============================] - 0s 1ms/step - loss: 3.9256e-04 - mae: 0.0067 - val_loss: 3.6152e-04 - val_mae: 0.0051\n",
      "Epoch 117/1000\n",
      "375/375 [==============================] - 0s 1ms/step - loss: 3.8300e-04 - mae: 0.0063 - val_loss: 3.7186e-04 - val_mae: 0.0056\n",
      "Epoch 118/1000\n",
      "375/375 [==============================] - 0s 1ms/step - loss: 3.8040e-04 - mae: 0.0063 - val_loss: 3.9732e-04 - val_mae: 0.0069\n",
      "Epoch 119/1000\n",
      "375/375 [==============================] - 0s 1ms/step - loss: 3.8149e-04 - mae: 0.0063 - val_loss: 3.9765e-04 - val_mae: 0.0070\n",
      "Epoch 120/1000\n",
      "375/375 [==============================] - 0s 1ms/step - loss: 3.8014e-04 - mae: 0.0064 - val_loss: 3.7419e-04 - val_mae: 0.0062\n",
      "Epoch 121/1000\n",
      "375/375 [==============================] - 0s 1ms/step - loss: 3.9011e-04 - mae: 0.0068 - val_loss: 3.9527e-04 - val_mae: 0.0074\n",
      "Epoch 122/1000\n",
      "375/375 [==============================] - 1s 1ms/step - loss: 3.7970e-04 - mae: 0.0064 - val_loss: 3.5668e-04 - val_mae: 0.0055\n",
      "Epoch 123/1000\n",
      "375/375 [==============================] - 1s 1ms/step - loss: 3.8376e-04 - mae: 0.0067 - val_loss: 3.9732e-04 - val_mae: 0.0078\n",
      "Epoch 124/1000\n",
      "375/375 [==============================] - 0s 1ms/step - loss: 3.8733e-04 - mae: 0.0069 - val_loss: 3.7897e-04 - val_mae: 0.0062\n",
      "Epoch 125/1000\n",
      "375/375 [==============================] - 0s 1ms/step - loss: 3.7269e-04 - mae: 0.0062 - val_loss: 3.5018e-04 - val_mae: 0.0053\n",
      "Epoch 126/1000\n",
      "375/375 [==============================] - 1s 1ms/step - loss: 3.7636e-04 - mae: 0.0065 - val_loss: 3.6763e-04 - val_mae: 0.0061\n",
      "Epoch 127/1000\n",
      "375/375 [==============================] - 1s 1ms/step - loss: 3.7898e-04 - mae: 0.0065 - val_loss: 3.9104e-04 - val_mae: 0.0073\n",
      "Epoch 128/1000\n",
      "375/375 [==============================] - 0s 1ms/step - loss: 3.7138e-04 - mae: 0.0064 - val_loss: 3.6206e-04 - val_mae: 0.0064\n",
      "Epoch 129/1000\n",
      "375/375 [==============================] - 1s 1ms/step - loss: 3.7915e-04 - mae: 0.0067 - val_loss: 3.7028e-04 - val_mae: 0.0060\n",
      "Epoch 130/1000\n",
      "375/375 [==============================] - 1s 2ms/step - loss: 3.7523e-04 - mae: 0.0066 - val_loss: 3.5602e-04 - val_mae: 0.0058\n",
      "Epoch 131/1000\n",
      "375/375 [==============================] - 0s 1ms/step - loss: 3.6189e-04 - mae: 0.0061 - val_loss: 3.7362e-04 - val_mae: 0.0067\n",
      "Epoch 132/1000\n",
      "375/375 [==============================] - 1s 1ms/step - loss: 3.7212e-04 - mae: 0.0066 - val_loss: 3.4825e-04 - val_mae: 0.0055\n",
      "Epoch 133/1000\n",
      "375/375 [==============================] - 1s 2ms/step - loss: 3.6555e-04 - mae: 0.0063 - val_loss: 3.5064e-04 - val_mae: 0.0056\n",
      "Epoch 134/1000\n",
      "375/375 [==============================] - 1s 1ms/step - loss: 3.6615e-04 - mae: 0.0064 - val_loss: 3.6917e-04 - val_mae: 0.0064\n",
      "Epoch 135/1000\n",
      "375/375 [==============================] - 1s 2ms/step - loss: 3.6472e-04 - mae: 0.0063 - val_loss: 3.7226e-04 - val_mae: 0.0067\n",
      "Epoch 136/1000\n",
      "355/375 [===========================>..] - ETA: 0s - loss: 3.7552e-04 - mae: 0.0069Restoring model weights from the end of the best epoch: 131.\n",
      "375/375 [==============================] - 1s 2ms/step - loss: 3.7506e-04 - mae: 0.0069 - val_loss: 3.8463e-04 - val_mae: 0.0072\n",
      "Epoch 136: early stopping\n"
     ]
    }
   ],
   "source": [
    "# Netzwerkarchitektur\n",
    "model = Sequential([\n",
    "\n",
    "    Dense(136, activation='relu', input_shape=(3,), kernel_initializer='he_uniform', kernel_regularizer=l2(0.0001)),\n",
    "\n",
    "    Dense(168, activation='relu', kernel_initializer='he_uniform', kernel_regularizer=l2(0.0001)),\n",
    "    \n",
    "    Dense(24, activation='relu', kernel_initializer='he_uniform', kernel_regularizer=l2(0.0001)),\n",
    "    \n",
    "    Dense(1 , activation = 'linear')\n",
    "])\n",
    "\n",
    "# Optimierer\n",
    "optimizer = tf.keras.optimizers.Adam(learning_rate=0.001)\n",
    "\n",
    "# Modell kompilieren (Verwendung von mean_squared_error als Verlustfunktion für Regression)\n",
    "model.compile(optimizer=optimizer,\n",
    "              loss='mean_squared_error',\n",
    "              metrics=['mae'])  # Metriken für Regression: Mean Absolute Error und Mean Squared Error\n",
    "\n",
    "# Early Stopping Callback\n",
    "early_stopping = EarlyStopping(monitor='loss', patience=5, verbose=1, mode='min', restore_best_weights=True)\n",
    "\n",
    "# Trainingsparameter\n",
    "batch_size = 75\n",
    "epochs = 1000\n",
    "\n",
    "# Modell trainieren (Annahme: X_train, y_train, X_val, y_val sind vordefiniert)\n",
    "history = model.fit(X_train_scaled, y_train_scaled,\n",
    "                    batch_size=batch_size,\n",
    "                    epochs=epochs,\n",
    "                    validation_split=0.2,\n",
    "                    callbacks=[early_stopping])"
   ],
   "metadata": {
    "collapsed": false,
    "ExecuteTime": {
     "end_time": "2024-03-06T14:18:15.905504500Z",
     "start_time": "2024-03-06T14:17:12.670663700Z"
    }
   },
   "id": "8b52e1a9a6ff3aeb"
  },
  {
   "cell_type": "code",
   "execution_count": 13,
   "outputs": [
    {
     "name": "stdout",
     "output_type": "stream",
     "text": [
      "275/275 - 0s - loss: 3.7289e-04 - mae: 0.0067 - 207ms/epoch - 753us/step\n"
     ]
    },
    {
     "data": {
      "text/plain": "[0.00037289230385795236, 0.00668415566906333]"
     },
     "execution_count": 13,
     "metadata": {},
     "output_type": "execute_result"
    }
   ],
   "source": [
    "results = model.evaluate(X_test_scaled, y_test_scaled, verbose=2)\n",
    "results"
   ],
   "metadata": {
    "collapsed": false,
    "ExecuteTime": {
     "end_time": "2024-03-06T14:18:38.195887400Z",
     "start_time": "2024-03-06T14:18:37.951035400Z"
    }
   },
   "id": "4b02697cbcecd185"
  },
  {
   "cell_type": "code",
   "execution_count": 14,
   "outputs": [
    {
     "name": "stdout",
     "output_type": "stream",
     "text": [
      " Bsp. Predicted: [602.8588] Actual: [596.74] \n",
      "Durchschnittliche Abweichung (MAE): [7.67562313]\n"
     ]
    }
   ],
   "source": [
    "scaled_predicted_values = model.predict(X_test_scaled, verbose = 0)\n",
    "\n",
    "# Führen Sie die Rücktransformation der skalierten Werte durch\n",
    "original_predicted_values = scaler_target.inverse_transform(scaled_predicted_values)\n",
    "original_actual_values = scaler_target.inverse_transform(y_test_scaled)  # y_test sind die skalierten tatsächlichen Werte\n",
    "print(f' Bsp. Predicted: {original_predicted_values[100]} Actual: {original_actual_values[100]} ')\n",
    "\n",
    "def calculate_mae(list1, list2):\n",
    "    # Stelle sicher, dass beide Listen die gleiche Länge haben\n",
    "    if len(list1) != len(list2):\n",
    "        raise ValueError(\"Listen müssen die gleiche Länge haben\")\n",
    "\n",
    "    # Berechne die absolute Differenz zwischen den Elementen der Listen\n",
    "    differences = [abs(x - y) for x, y in zip(list1, list2)]\n",
    "\n",
    "    # Berechne den Durchschnitt der absoluten Differenzen\n",
    "    mae = sum(differences) / len(differences)\n",
    "\n",
    "    return mae\n",
    "\n",
    "# Beispiel\n",
    "list1 = original_predicted_values\n",
    "list2 = original_actual_values\n",
    "\n",
    "mae = calculate_mae(list1, list2)\n",
    "print(f\"Durchschnittliche Abweichung (MAE): {mae}\")"
   ],
   "metadata": {
    "collapsed": false,
    "ExecuteTime": {
     "end_time": "2024-03-06T14:18:42.614150Z",
     "start_time": "2024-03-06T14:18:42.197481700Z"
    }
   },
   "id": "a402d28abbd82f60"
  },
  {
   "cell_type": "code",
   "execution_count": 15,
   "outputs": [
    {
     "data": {
      "text/plain": "<Figure size 1000x600 with 1 Axes>",
      "image/png": "[encoded data removed]"
     },
     "metadata": {},
     "output_type": "display_data"
    }
   ],
   "source": [
    "mae = history.history['loss']\n",
    "val_mae = history.history['val_loss']\n",
    "\n",
    "epochs = range(1, len(mae) + 1)\n",
    "\n",
    "# MAE Diagramm\n",
    "plt.figure(figsize=(10, 6))\n",
    "plt.plot(epochs, mae, 'r', label='Training MSE')\n",
    "plt.plot(epochs, val_mae, 'b', label='Validation MSE')\n",
    "plt.title('Training and Validation MAE')\n",
    "plt.xlabel('Epochs')\n",
    "plt.ylabel('MAE')\n",
    "plt.legend()\n",
    "\n",
    "plt.show()"
   ],
   "metadata": {
    "collapsed": false,
    "ExecuteTime": {
     "end_time": "2024-03-06T14:18:59.775600600Z",
     "start_time": "2024-03-06T14:18:59.617625Z"
    }
   },
   "id": "3688dd7102e95baf"
  },
  {
   "cell_type": "markdown",
   "id": "553df6fa",
   "metadata": {},
   "source": [
    "# GridSearch"
   ]
  },
  {
   "cell_type": "code",
   "execution_count": 64,
   "outputs": [],
   "source": [
    "# def build_model(learning_rate=0.001, activation='relu', regularization=0.0001, dropout_rate=0.0):\n",
    "#     model = Sequential()\n",
    "#     model.add(Dense(448, activation=activation, input_shape=(2,), kernel_initializer='he_uniform', kernel_regularizer=l2(regularization)))\n",
    "#     model.add(Dropout(dropout_rate))\n",
    "# \n",
    "#     model.add(Dense(384, activation=activation, kernel_initializer='he_uniform', kernel_regularizer=l2(regularization)))\n",
    "#     model.add(Dropout(dropout_rate))\n",
    "# \n",
    "#     model.add(Dense(96, activation=activation, kernel_initializer='he_uniform', kernel_regularizer=l2(regularization)))\n",
    "#     model.add(Dropout(dropout_rate))\n",
    "# \n",
    "#     model.add(Dense(128, activation=activation, kernel_initializer='he_uniform', kernel_regularizer=l2(regularization)))\n",
    "#     model.add(Dropout(dropout_rate))\n",
    "# \n",
    "#     model.add(Dense(320, activation=activation, kernel_initializer='he_uniform', kernel_regularizer=l2(regularization)))\n",
    "#     model.add(Dropout(dropout_rate))\n",
    "# \n",
    "#     model.add(Dense(416, activation=activation, kernel_initializer='he_uniform', kernel_regularizer=l2(regularization)))\n",
    "#     model.add(Dropout(dropout_rate))\n",
    "#     \n",
    "#     model.add(Dense(416, activation=activation, kernel_initializer='he_uniform', kernel_regularizer=l2(regularization)))\n",
    "#     model.add(Dropout(dropout_rate))\n",
    "#     \n",
    "#     model.add(Dense(256, activation=activation, kernel_initializer='he_uniform', kernel_regularizer=l2(regularization)))\n",
    "#     model.add(Dropout(dropout_rate))    \n",
    "#     \n",
    "#     model.add(Dense(1, activation='linear'))\n",
    "#     model.compile(optimizer=Adam(learning_rate=learning_rate), loss='mean_squared_error', metrics=['mae'])\n",
    "#     return model\n",
    "# \n",
    "# # Verwenden Sie eine Funktion, um das Modell zu instanziieren, für scikit-learn Wrapper\n",
    "# model = KerasRegressor(model=build_model, verbose=2)\n",
    "# \n",
    "# # Anpassung der Parameter im param_grid\n",
    "# param_grid = {\n",
    "#     'model__learning_rate': [0.01, 0.001, 0.0001],\n",
    "#     'model__regularization': [0.001, 0.0001],\n",
    "#     'fit__batch_size': [10, 25, 50, 75],\n",
    "#     'fit__epochs': [50],\n",
    "#     'model__dropout_rate' : [0.0, 0.1, 0.2]\n",
    "# }\n",
    "# \n",
    "# grid_search = GridSearchCV(estimator=model, param_grid=param_grid, n_jobs=-1, cv=3, verbose=2)\n",
    "# # Hinweis: Stellen Sie sicher, dass Ihre Daten (X_train_scaled, y_train_scaled) korrekt definiert sind\n",
    "# grid_result = grid_search.fit(X_train_scaled, y_train_scaled)\n",
    "# # Beste Parameter und Score ausgeben\n",
    "# print(\"Beste Parameter:\", grid_search.best_params_)\n",
    "# print(\"Beste Genauigkeit:\", grid_search.best_score_)\n",
    "# \n",
    "# with open(\"Gridsearch_D4.txt\", \"w\") as f:\n",
    "#     f.write(f\"Beste Parameter: {grid_search.best_params_}\\n\")\n",
    "#     f.write(f\"Beste Genauigkeit: {grid_search.best_score_}\")\n"
   ],
   "metadata": {
    "collapsed": false,
    "ExecuteTime": {
     "end_time": "2024-02-29T10:45:57.898597800Z",
     "start_time": "2024-02-29T10:45:57.884758200Z"
    }
   },
   "id": "7464a951f44a07ee"
  },
  {
   "cell_type": "code",
   "execution_count": 16,
   "outputs": [
    {
     "name": "stdout",
     "output_type": "stream",
     "text": [
      "WARNING:tensorflow:From C:\\Users\\erikm\\Desktop\\Diplomarbeit Erik Marr\\Projekt X\\venv\\Lib\\site-packages\\keras\\src\\optimizers\\__init__.py:309: The name tf.train.Optimizer is deprecated. Please use tf.compat.v1.train.Optimizer instead.\n"
     ]
    },
    {
     "ename": "KeyboardInterrupt",
     "evalue": "",
     "output_type": "error",
     "traceback": [
      "\u001B[1;31m---------------------------------------------------------------------------\u001B[0m",
      "\u001B[1;31mKeyboardInterrupt\u001B[0m                         Traceback (most recent call last)",
      "Cell \u001B[1;32mIn[16], line 27\u001B[0m\n\u001B[0;32m     17\u001B[0m tuner \u001B[38;5;241m=\u001B[39m RandomSearch(\n\u001B[0;32m     18\u001B[0m     build_model,\n\u001B[0;32m     19\u001B[0m     objective\u001B[38;5;241m=\u001B[39m\u001B[38;5;124m'\u001B[39m\u001B[38;5;124mval_loss\u001B[39m\u001B[38;5;124m'\u001B[39m,\n\u001B[1;32m   (...)\u001B[0m\n\u001B[0;32m     23\u001B[0m     project_name\u001B[38;5;241m=\u001B[39mproject_name\n\u001B[0;32m     24\u001B[0m )\n\u001B[0;32m     26\u001B[0m \u001B[38;5;66;03m# Durchführung des Random Search\u001B[39;00m\n\u001B[1;32m---> 27\u001B[0m \u001B[43mtuner\u001B[49m\u001B[38;5;241;43m.\u001B[39;49m\u001B[43msearch\u001B[49m\u001B[43m(\u001B[49m\u001B[43mX_train_scaled\u001B[49m\u001B[43m,\u001B[49m\u001B[43m \u001B[49m\u001B[43my_train_scaled\u001B[49m\u001B[43m,\u001B[49m\u001B[43m \u001B[49m\u001B[43mepochs\u001B[49m\u001B[38;5;241;43m=\u001B[39;49m\u001B[38;5;241;43m50\u001B[39;49m\u001B[43m,\u001B[49m\u001B[43m \u001B[49m\u001B[43mverbose\u001B[49m\u001B[43m \u001B[49m\u001B[38;5;241;43m=\u001B[39;49m\u001B[38;5;241;43m0\u001B[39;49m\u001B[43m,\u001B[49m\u001B[43m \u001B[49m\u001B[43mbatch_size\u001B[49m\u001B[38;5;241;43m=\u001B[39;49m\u001B[38;5;241;43m50\u001B[39;49m\u001B[43m,\u001B[49m\u001B[43m \u001B[49m\u001B[43mvalidation_split\u001B[49m\u001B[38;5;241;43m=\u001B[39;49m\u001B[38;5;241;43m0.2\u001B[39;49m\u001B[43m,\u001B[49m\u001B[43m \u001B[49m\u001B[43mcallbacks\u001B[49m\u001B[38;5;241;43m=\u001B[39;49m\u001B[43m[\u001B[49m\u001B[43mEarlyStopping\u001B[49m\u001B[43m(\u001B[49m\u001B[43mmonitor\u001B[49m\u001B[38;5;241;43m=\u001B[39;49m\u001B[38;5;124;43m'\u001B[39;49m\u001B[38;5;124;43mval_loss\u001B[39;49m\u001B[38;5;124;43m'\u001B[39;49m\u001B[43m,\u001B[49m\u001B[43m \u001B[49m\u001B[43mpatience\u001B[49m\u001B[38;5;241;43m=\u001B[39;49m\u001B[38;5;241;43m5\u001B[39;49m\u001B[43m)\u001B[49m\u001B[43m]\u001B[49m\u001B[43m)\u001B[49m\n\u001B[0;32m     29\u001B[0m \u001B[38;5;66;03m# Abrufen und Speichern des besten Modells\u001B[39;00m\n\u001B[0;32m     30\u001B[0m best_model \u001B[38;5;241m=\u001B[39m tuner\u001B[38;5;241m.\u001B[39mget_best_models(num_models\u001B[38;5;241m=\u001B[39m\u001B[38;5;241m1\u001B[39m)[\u001B[38;5;241m0\u001B[39m]\n",
      "File \u001B[1;32m~\\Desktop\\Diplomarbeit Erik Marr\\Projekt X\\venv\\Lib\\site-packages\\keras_tuner\\src\\engine\\base_tuner.py:233\u001B[0m, in \u001B[0;36mBaseTuner.search\u001B[1;34m(self, *fit_args, **fit_kwargs)\u001B[0m\n\u001B[0;32m    230\u001B[0m         \u001B[38;5;28;01mcontinue\u001B[39;00m\n\u001B[0;32m    232\u001B[0m     \u001B[38;5;28mself\u001B[39m\u001B[38;5;241m.\u001B[39mon_trial_begin(trial)\n\u001B[1;32m--> 233\u001B[0m     \u001B[38;5;28;43mself\u001B[39;49m\u001B[38;5;241;43m.\u001B[39;49m\u001B[43m_try_run_and_update_trial\u001B[49m\u001B[43m(\u001B[49m\u001B[43mtrial\u001B[49m\u001B[43m,\u001B[49m\u001B[43m \u001B[49m\u001B[38;5;241;43m*\u001B[39;49m\u001B[43mfit_args\u001B[49m\u001B[43m,\u001B[49m\u001B[43m \u001B[49m\u001B[38;5;241;43m*\u001B[39;49m\u001B[38;5;241;43m*\u001B[39;49m\u001B[43mfit_kwargs\u001B[49m\u001B[43m)\u001B[49m\n\u001B[0;32m    234\u001B[0m     \u001B[38;5;28mself\u001B[39m\u001B[38;5;241m.\u001B[39mon_trial_end(trial)\n\u001B[0;32m    235\u001B[0m \u001B[38;5;28mself\u001B[39m\u001B[38;5;241m.\u001B[39mon_search_end()\n",
      "File \u001B[1;32m~\\Desktop\\Diplomarbeit Erik Marr\\Projekt X\\venv\\Lib\\site-packages\\keras_tuner\\src\\engine\\base_tuner.py:273\u001B[0m, in \u001B[0;36mBaseTuner._try_run_and_update_trial\u001B[1;34m(self, trial, *fit_args, **fit_kwargs)\u001B[0m\n\u001B[0;32m    271\u001B[0m \u001B[38;5;28;01mdef\u001B[39;00m \u001B[38;5;21m_try_run_and_update_trial\u001B[39m(\u001B[38;5;28mself\u001B[39m, trial, \u001B[38;5;241m*\u001B[39mfit_args, \u001B[38;5;241m*\u001B[39m\u001B[38;5;241m*\u001B[39mfit_kwargs):\n\u001B[0;32m    272\u001B[0m     \u001B[38;5;28;01mtry\u001B[39;00m:\n\u001B[1;32m--> 273\u001B[0m         \u001B[38;5;28;43mself\u001B[39;49m\u001B[38;5;241;43m.\u001B[39;49m\u001B[43m_run_and_update_trial\u001B[49m\u001B[43m(\u001B[49m\u001B[43mtrial\u001B[49m\u001B[43m,\u001B[49m\u001B[43m \u001B[49m\u001B[38;5;241;43m*\u001B[39;49m\u001B[43mfit_args\u001B[49m\u001B[43m,\u001B[49m\u001B[43m \u001B[49m\u001B[38;5;241;43m*\u001B[39;49m\u001B[38;5;241;43m*\u001B[39;49m\u001B[43mfit_kwargs\u001B[49m\u001B[43m)\u001B[49m\n\u001B[0;32m    274\u001B[0m         trial\u001B[38;5;241m.\u001B[39mstatus \u001B[38;5;241m=\u001B[39m trial_module\u001B[38;5;241m.\u001B[39mTrialStatus\u001B[38;5;241m.\u001B[39mCOMPLETED\n\u001B[0;32m    275\u001B[0m         \u001B[38;5;28;01mreturn\u001B[39;00m\n",
      "File \u001B[1;32m~\\Desktop\\Diplomarbeit Erik Marr\\Projekt X\\venv\\Lib\\site-packages\\keras_tuner\\src\\engine\\base_tuner.py:238\u001B[0m, in \u001B[0;36mBaseTuner._run_and_update_trial\u001B[1;34m(self, trial, *fit_args, **fit_kwargs)\u001B[0m\n\u001B[0;32m    237\u001B[0m \u001B[38;5;28;01mdef\u001B[39;00m \u001B[38;5;21m_run_and_update_trial\u001B[39m(\u001B[38;5;28mself\u001B[39m, trial, \u001B[38;5;241m*\u001B[39mfit_args, \u001B[38;5;241m*\u001B[39m\u001B[38;5;241m*\u001B[39mfit_kwargs):\n\u001B[1;32m--> 238\u001B[0m     results \u001B[38;5;241m=\u001B[39m \u001B[38;5;28;43mself\u001B[39;49m\u001B[38;5;241;43m.\u001B[39;49m\u001B[43mrun_trial\u001B[49m\u001B[43m(\u001B[49m\u001B[43mtrial\u001B[49m\u001B[43m,\u001B[49m\u001B[43m \u001B[49m\u001B[38;5;241;43m*\u001B[39;49m\u001B[43mfit_args\u001B[49m\u001B[43m,\u001B[49m\u001B[43m \u001B[49m\u001B[38;5;241;43m*\u001B[39;49m\u001B[38;5;241;43m*\u001B[39;49m\u001B[43mfit_kwargs\u001B[49m\u001B[43m)\u001B[49m\n\u001B[0;32m    239\u001B[0m     \u001B[38;5;28;01mif\u001B[39;00m \u001B[38;5;28mself\u001B[39m\u001B[38;5;241m.\u001B[39moracle\u001B[38;5;241m.\u001B[39mget_trial(trial\u001B[38;5;241m.\u001B[39mtrial_id)\u001B[38;5;241m.\u001B[39mmetrics\u001B[38;5;241m.\u001B[39mexists(\n\u001B[0;32m    240\u001B[0m         \u001B[38;5;28mself\u001B[39m\u001B[38;5;241m.\u001B[39moracle\u001B[38;5;241m.\u001B[39mobjective\u001B[38;5;241m.\u001B[39mname\n\u001B[0;32m    241\u001B[0m     ):\n\u001B[0;32m    242\u001B[0m         \u001B[38;5;66;03m# The oracle is updated by calling `self.oracle.update_trial()` in\u001B[39;00m\n\u001B[0;32m    243\u001B[0m         \u001B[38;5;66;03m# `Tuner.run_trial()`. For backward compatibility, we support this\u001B[39;00m\n\u001B[0;32m    244\u001B[0m         \u001B[38;5;66;03m# use case. No further action needed in this case.\u001B[39;00m\n\u001B[0;32m    245\u001B[0m         warnings\u001B[38;5;241m.\u001B[39mwarn(\n\u001B[0;32m    246\u001B[0m             \u001B[38;5;124m\"\u001B[39m\u001B[38;5;124mThe use case of calling \u001B[39m\u001B[38;5;124m\"\u001B[39m\n\u001B[0;32m    247\u001B[0m             \u001B[38;5;124m\"\u001B[39m\u001B[38;5;124m`self.oracle.update_trial(trial_id, metrics)` \u001B[39m\u001B[38;5;124m\"\u001B[39m\n\u001B[1;32m   (...)\u001B[0m\n\u001B[0;32m    253\u001B[0m             stacklevel\u001B[38;5;241m=\u001B[39m\u001B[38;5;241m2\u001B[39m,\n\u001B[0;32m    254\u001B[0m         )\n",
      "File \u001B[1;32m~\\Desktop\\Diplomarbeit Erik Marr\\Projekt X\\venv\\Lib\\site-packages\\keras_tuner\\src\\engine\\tuner.py:314\u001B[0m, in \u001B[0;36mTuner.run_trial\u001B[1;34m(self, trial, *args, **kwargs)\u001B[0m\n\u001B[0;32m    312\u001B[0m     callbacks\u001B[38;5;241m.\u001B[39mappend(model_checkpoint)\n\u001B[0;32m    313\u001B[0m     copied_kwargs[\u001B[38;5;124m\"\u001B[39m\u001B[38;5;124mcallbacks\u001B[39m\u001B[38;5;124m\"\u001B[39m] \u001B[38;5;241m=\u001B[39m callbacks\n\u001B[1;32m--> 314\u001B[0m     obj_value \u001B[38;5;241m=\u001B[39m \u001B[38;5;28;43mself\u001B[39;49m\u001B[38;5;241;43m.\u001B[39;49m\u001B[43m_build_and_fit_model\u001B[49m\u001B[43m(\u001B[49m\u001B[43mtrial\u001B[49m\u001B[43m,\u001B[49m\u001B[43m \u001B[49m\u001B[38;5;241;43m*\u001B[39;49m\u001B[43margs\u001B[49m\u001B[43m,\u001B[49m\u001B[43m \u001B[49m\u001B[38;5;241;43m*\u001B[39;49m\u001B[38;5;241;43m*\u001B[39;49m\u001B[43mcopied_kwargs\u001B[49m\u001B[43m)\u001B[49m\n\u001B[0;32m    316\u001B[0m     histories\u001B[38;5;241m.\u001B[39mappend(obj_value)\n\u001B[0;32m    317\u001B[0m \u001B[38;5;28;01mreturn\u001B[39;00m histories\n",
      "File \u001B[1;32m~\\Desktop\\Diplomarbeit Erik Marr\\Projekt X\\venv\\Lib\\site-packages\\keras_tuner\\src\\engine\\tuner.py:233\u001B[0m, in \u001B[0;36mTuner._build_and_fit_model\u001B[1;34m(self, trial, *args, **kwargs)\u001B[0m\n\u001B[0;32m    231\u001B[0m hp \u001B[38;5;241m=\u001B[39m trial\u001B[38;5;241m.\u001B[39mhyperparameters\n\u001B[0;32m    232\u001B[0m model \u001B[38;5;241m=\u001B[39m \u001B[38;5;28mself\u001B[39m\u001B[38;5;241m.\u001B[39m_try_build(hp)\n\u001B[1;32m--> 233\u001B[0m results \u001B[38;5;241m=\u001B[39m \u001B[38;5;28;43mself\u001B[39;49m\u001B[38;5;241;43m.\u001B[39;49m\u001B[43mhypermodel\u001B[49m\u001B[38;5;241;43m.\u001B[39;49m\u001B[43mfit\u001B[49m\u001B[43m(\u001B[49m\u001B[43mhp\u001B[49m\u001B[43m,\u001B[49m\u001B[43m \u001B[49m\u001B[43mmodel\u001B[49m\u001B[43m,\u001B[49m\u001B[43m \u001B[49m\u001B[38;5;241;43m*\u001B[39;49m\u001B[43margs\u001B[49m\u001B[43m,\u001B[49m\u001B[43m \u001B[49m\u001B[38;5;241;43m*\u001B[39;49m\u001B[38;5;241;43m*\u001B[39;49m\u001B[43mkwargs\u001B[49m\u001B[43m)\u001B[49m\n\u001B[0;32m    235\u001B[0m \u001B[38;5;66;03m# Save the build config for model loading later.\u001B[39;00m\n\u001B[0;32m    236\u001B[0m \u001B[38;5;28;01mif\u001B[39;00m backend\u001B[38;5;241m.\u001B[39mconfig\u001B[38;5;241m.\u001B[39mmulti_backend():\n",
      "File \u001B[1;32m~\\Desktop\\Diplomarbeit Erik Marr\\Projekt X\\venv\\Lib\\site-packages\\keras_tuner\\src\\engine\\hypermodel.py:149\u001B[0m, in \u001B[0;36mHyperModel.fit\u001B[1;34m(self, hp, model, *args, **kwargs)\u001B[0m\n\u001B[0;32m    125\u001B[0m \u001B[38;5;28;01mdef\u001B[39;00m \u001B[38;5;21mfit\u001B[39m(\u001B[38;5;28mself\u001B[39m, hp, model, \u001B[38;5;241m*\u001B[39margs, \u001B[38;5;241m*\u001B[39m\u001B[38;5;241m*\u001B[39mkwargs):\n\u001B[0;32m    126\u001B[0m \u001B[38;5;250m    \u001B[39m\u001B[38;5;124;03m\"\"\"Train the model.\u001B[39;00m\n\u001B[0;32m    127\u001B[0m \n\u001B[0;32m    128\u001B[0m \u001B[38;5;124;03m    Args:\u001B[39;00m\n\u001B[1;32m   (...)\u001B[0m\n\u001B[0;32m    147\u001B[0m \u001B[38;5;124;03m        If return a float, it should be the `objective` value.\u001B[39;00m\n\u001B[0;32m    148\u001B[0m \u001B[38;5;124;03m    \"\"\"\u001B[39;00m\n\u001B[1;32m--> 149\u001B[0m     \u001B[38;5;28;01mreturn\u001B[39;00m \u001B[43mmodel\u001B[49m\u001B[38;5;241;43m.\u001B[39;49m\u001B[43mfit\u001B[49m\u001B[43m(\u001B[49m\u001B[38;5;241;43m*\u001B[39;49m\u001B[43margs\u001B[49m\u001B[43m,\u001B[49m\u001B[43m \u001B[49m\u001B[38;5;241;43m*\u001B[39;49m\u001B[38;5;241;43m*\u001B[39;49m\u001B[43mkwargs\u001B[49m\u001B[43m)\u001B[49m\n",
      "File \u001B[1;32m~\\Desktop\\Diplomarbeit Erik Marr\\Projekt X\\venv\\Lib\\site-packages\\keras\\src\\utils\\traceback_utils.py:65\u001B[0m, in \u001B[0;36mfilter_traceback.<locals>.error_handler\u001B[1;34m(*args, **kwargs)\u001B[0m\n\u001B[0;32m     63\u001B[0m filtered_tb \u001B[38;5;241m=\u001B[39m \u001B[38;5;28;01mNone\u001B[39;00m\n\u001B[0;32m     64\u001B[0m \u001B[38;5;28;01mtry\u001B[39;00m:\n\u001B[1;32m---> 65\u001B[0m     \u001B[38;5;28;01mreturn\u001B[39;00m \u001B[43mfn\u001B[49m\u001B[43m(\u001B[49m\u001B[38;5;241;43m*\u001B[39;49m\u001B[43margs\u001B[49m\u001B[43m,\u001B[49m\u001B[43m \u001B[49m\u001B[38;5;241;43m*\u001B[39;49m\u001B[38;5;241;43m*\u001B[39;49m\u001B[43mkwargs\u001B[49m\u001B[43m)\u001B[49m\n\u001B[0;32m     66\u001B[0m \u001B[38;5;28;01mexcept\u001B[39;00m \u001B[38;5;167;01mException\u001B[39;00m \u001B[38;5;28;01mas\u001B[39;00m e:\n\u001B[0;32m     67\u001B[0m     filtered_tb \u001B[38;5;241m=\u001B[39m _process_traceback_frames(e\u001B[38;5;241m.\u001B[39m__traceback__)\n",
      "File \u001B[1;32m~\\Desktop\\Diplomarbeit Erik Marr\\Projekt X\\venv\\Lib\\site-packages\\keras\\src\\engine\\training.py:1807\u001B[0m, in \u001B[0;36mModel.fit\u001B[1;34m(self, x, y, batch_size, epochs, verbose, callbacks, validation_split, validation_data, shuffle, class_weight, sample_weight, initial_epoch, steps_per_epoch, validation_steps, validation_batch_size, validation_freq, max_queue_size, workers, use_multiprocessing)\u001B[0m\n\u001B[0;32m   1799\u001B[0m \u001B[38;5;28;01mwith\u001B[39;00m tf\u001B[38;5;241m.\u001B[39mprofiler\u001B[38;5;241m.\u001B[39mexperimental\u001B[38;5;241m.\u001B[39mTrace(\n\u001B[0;32m   1800\u001B[0m     \u001B[38;5;124m\"\u001B[39m\u001B[38;5;124mtrain\u001B[39m\u001B[38;5;124m\"\u001B[39m,\n\u001B[0;32m   1801\u001B[0m     epoch_num\u001B[38;5;241m=\u001B[39mepoch,\n\u001B[1;32m   (...)\u001B[0m\n\u001B[0;32m   1804\u001B[0m     _r\u001B[38;5;241m=\u001B[39m\u001B[38;5;241m1\u001B[39m,\n\u001B[0;32m   1805\u001B[0m ):\n\u001B[0;32m   1806\u001B[0m     callbacks\u001B[38;5;241m.\u001B[39mon_train_batch_begin(step)\n\u001B[1;32m-> 1807\u001B[0m     tmp_logs \u001B[38;5;241m=\u001B[39m \u001B[38;5;28;43mself\u001B[39;49m\u001B[38;5;241;43m.\u001B[39;49m\u001B[43mtrain_function\u001B[49m\u001B[43m(\u001B[49m\u001B[43miterator\u001B[49m\u001B[43m)\u001B[49m\n\u001B[0;32m   1808\u001B[0m     \u001B[38;5;28;01mif\u001B[39;00m data_handler\u001B[38;5;241m.\u001B[39mshould_sync:\n\u001B[0;32m   1809\u001B[0m         context\u001B[38;5;241m.\u001B[39masync_wait()\n",
      "File \u001B[1;32m~\\Desktop\\Diplomarbeit Erik Marr\\Projekt X\\venv\\Lib\\site-packages\\tensorflow\\python\\util\\traceback_utils.py:150\u001B[0m, in \u001B[0;36mfilter_traceback.<locals>.error_handler\u001B[1;34m(*args, **kwargs)\u001B[0m\n\u001B[0;32m    148\u001B[0m filtered_tb \u001B[38;5;241m=\u001B[39m \u001B[38;5;28;01mNone\u001B[39;00m\n\u001B[0;32m    149\u001B[0m \u001B[38;5;28;01mtry\u001B[39;00m:\n\u001B[1;32m--> 150\u001B[0m   \u001B[38;5;28;01mreturn\u001B[39;00m \u001B[43mfn\u001B[49m\u001B[43m(\u001B[49m\u001B[38;5;241;43m*\u001B[39;49m\u001B[43margs\u001B[49m\u001B[43m,\u001B[49m\u001B[43m \u001B[49m\u001B[38;5;241;43m*\u001B[39;49m\u001B[38;5;241;43m*\u001B[39;49m\u001B[43mkwargs\u001B[49m\u001B[43m)\u001B[49m\n\u001B[0;32m    151\u001B[0m \u001B[38;5;28;01mexcept\u001B[39;00m \u001B[38;5;167;01mException\u001B[39;00m \u001B[38;5;28;01mas\u001B[39;00m e:\n\u001B[0;32m    152\u001B[0m   filtered_tb \u001B[38;5;241m=\u001B[39m _process_traceback_frames(e\u001B[38;5;241m.\u001B[39m__traceback__)\n",
      "File \u001B[1;32m~\\Desktop\\Diplomarbeit Erik Marr\\Projekt X\\venv\\Lib\\site-packages\\tensorflow\\python\\eager\\polymorphic_function\\polymorphic_function.py:832\u001B[0m, in \u001B[0;36mFunction.__call__\u001B[1;34m(self, *args, **kwds)\u001B[0m\n\u001B[0;32m    829\u001B[0m compiler \u001B[38;5;241m=\u001B[39m \u001B[38;5;124m\"\u001B[39m\u001B[38;5;124mxla\u001B[39m\u001B[38;5;124m\"\u001B[39m \u001B[38;5;28;01mif\u001B[39;00m \u001B[38;5;28mself\u001B[39m\u001B[38;5;241m.\u001B[39m_jit_compile \u001B[38;5;28;01melse\u001B[39;00m \u001B[38;5;124m\"\u001B[39m\u001B[38;5;124mnonXla\u001B[39m\u001B[38;5;124m\"\u001B[39m\n\u001B[0;32m    831\u001B[0m \u001B[38;5;28;01mwith\u001B[39;00m OptionalXlaContext(\u001B[38;5;28mself\u001B[39m\u001B[38;5;241m.\u001B[39m_jit_compile):\n\u001B[1;32m--> 832\u001B[0m   result \u001B[38;5;241m=\u001B[39m \u001B[38;5;28;43mself\u001B[39;49m\u001B[38;5;241;43m.\u001B[39;49m\u001B[43m_call\u001B[49m\u001B[43m(\u001B[49m\u001B[38;5;241;43m*\u001B[39;49m\u001B[43margs\u001B[49m\u001B[43m,\u001B[49m\u001B[43m \u001B[49m\u001B[38;5;241;43m*\u001B[39;49m\u001B[38;5;241;43m*\u001B[39;49m\u001B[43mkwds\u001B[49m\u001B[43m)\u001B[49m\n\u001B[0;32m    834\u001B[0m new_tracing_count \u001B[38;5;241m=\u001B[39m \u001B[38;5;28mself\u001B[39m\u001B[38;5;241m.\u001B[39mexperimental_get_tracing_count()\n\u001B[0;32m    835\u001B[0m without_tracing \u001B[38;5;241m=\u001B[39m (tracing_count \u001B[38;5;241m==\u001B[39m new_tracing_count)\n",
      "File \u001B[1;32m~\\Desktop\\Diplomarbeit Erik Marr\\Projekt X\\venv\\Lib\\site-packages\\tensorflow\\python\\eager\\polymorphic_function\\polymorphic_function.py:868\u001B[0m, in \u001B[0;36mFunction._call\u001B[1;34m(self, *args, **kwds)\u001B[0m\n\u001B[0;32m    865\u001B[0m   \u001B[38;5;28mself\u001B[39m\u001B[38;5;241m.\u001B[39m_lock\u001B[38;5;241m.\u001B[39mrelease()\n\u001B[0;32m    866\u001B[0m   \u001B[38;5;66;03m# In this case we have created variables on the first call, so we run the\u001B[39;00m\n\u001B[0;32m    867\u001B[0m   \u001B[38;5;66;03m# defunned version which is guaranteed to never create variables.\u001B[39;00m\n\u001B[1;32m--> 868\u001B[0m   \u001B[38;5;28;01mreturn\u001B[39;00m \u001B[43mtracing_compilation\u001B[49m\u001B[38;5;241;43m.\u001B[39;49m\u001B[43mcall_function\u001B[49m\u001B[43m(\u001B[49m\n\u001B[0;32m    869\u001B[0m \u001B[43m      \u001B[49m\u001B[43margs\u001B[49m\u001B[43m,\u001B[49m\u001B[43m \u001B[49m\u001B[43mkwds\u001B[49m\u001B[43m,\u001B[49m\u001B[43m \u001B[49m\u001B[38;5;28;43mself\u001B[39;49m\u001B[38;5;241;43m.\u001B[39;49m\u001B[43m_no_variable_creation_config\u001B[49m\n\u001B[0;32m    870\u001B[0m \u001B[43m  \u001B[49m\u001B[43m)\u001B[49m\n\u001B[0;32m    871\u001B[0m \u001B[38;5;28;01melif\u001B[39;00m \u001B[38;5;28mself\u001B[39m\u001B[38;5;241m.\u001B[39m_variable_creation_config \u001B[38;5;129;01mis\u001B[39;00m \u001B[38;5;129;01mnot\u001B[39;00m \u001B[38;5;28;01mNone\u001B[39;00m:\n\u001B[0;32m    872\u001B[0m   \u001B[38;5;66;03m# Release the lock early so that multiple threads can perform the call\u001B[39;00m\n\u001B[0;32m    873\u001B[0m   \u001B[38;5;66;03m# in parallel.\u001B[39;00m\n\u001B[0;32m    874\u001B[0m   \u001B[38;5;28mself\u001B[39m\u001B[38;5;241m.\u001B[39m_lock\u001B[38;5;241m.\u001B[39mrelease()\n",
      "File \u001B[1;32m~\\Desktop\\Diplomarbeit Erik Marr\\Projekt X\\venv\\Lib\\site-packages\\tensorflow\\python\\eager\\polymorphic_function\\tracing_compilation.py:139\u001B[0m, in \u001B[0;36mcall_function\u001B[1;34m(args, kwargs, tracing_options)\u001B[0m\n\u001B[0;32m    137\u001B[0m bound_args \u001B[38;5;241m=\u001B[39m function\u001B[38;5;241m.\u001B[39mfunction_type\u001B[38;5;241m.\u001B[39mbind(\u001B[38;5;241m*\u001B[39margs, \u001B[38;5;241m*\u001B[39m\u001B[38;5;241m*\u001B[39mkwargs)\n\u001B[0;32m    138\u001B[0m flat_inputs \u001B[38;5;241m=\u001B[39m function\u001B[38;5;241m.\u001B[39mfunction_type\u001B[38;5;241m.\u001B[39munpack_inputs(bound_args)\n\u001B[1;32m--> 139\u001B[0m \u001B[38;5;28;01mreturn\u001B[39;00m \u001B[43mfunction\u001B[49m\u001B[38;5;241;43m.\u001B[39;49m\u001B[43m_call_flat\u001B[49m\u001B[43m(\u001B[49m\u001B[43m  \u001B[49m\u001B[38;5;66;43;03m# pylint: disable=protected-access\u001B[39;49;00m\n\u001B[0;32m    140\u001B[0m \u001B[43m    \u001B[49m\u001B[43mflat_inputs\u001B[49m\u001B[43m,\u001B[49m\u001B[43m \u001B[49m\u001B[43mcaptured_inputs\u001B[49m\u001B[38;5;241;43m=\u001B[39;49m\u001B[43mfunction\u001B[49m\u001B[38;5;241;43m.\u001B[39;49m\u001B[43mcaptured_inputs\u001B[49m\n\u001B[0;32m    141\u001B[0m \u001B[43m\u001B[49m\u001B[43m)\u001B[49m\n",
      "File \u001B[1;32m~\\Desktop\\Diplomarbeit Erik Marr\\Projekt X\\venv\\Lib\\site-packages\\tensorflow\\python\\eager\\polymorphic_function\\concrete_function.py:1323\u001B[0m, in \u001B[0;36mConcreteFunction._call_flat\u001B[1;34m(self, tensor_inputs, captured_inputs)\u001B[0m\n\u001B[0;32m   1319\u001B[0m possible_gradient_type \u001B[38;5;241m=\u001B[39m gradients_util\u001B[38;5;241m.\u001B[39mPossibleTapeGradientTypes(args)\n\u001B[0;32m   1320\u001B[0m \u001B[38;5;28;01mif\u001B[39;00m (possible_gradient_type \u001B[38;5;241m==\u001B[39m gradients_util\u001B[38;5;241m.\u001B[39mPOSSIBLE_GRADIENT_TYPES_NONE\n\u001B[0;32m   1321\u001B[0m     \u001B[38;5;129;01mand\u001B[39;00m executing_eagerly):\n\u001B[0;32m   1322\u001B[0m   \u001B[38;5;66;03m# No tape is watching; skip to running the function.\u001B[39;00m\n\u001B[1;32m-> 1323\u001B[0m   \u001B[38;5;28;01mreturn\u001B[39;00m \u001B[38;5;28;43mself\u001B[39;49m\u001B[38;5;241;43m.\u001B[39;49m\u001B[43m_inference_function\u001B[49m\u001B[38;5;241;43m.\u001B[39;49m\u001B[43mcall_preflattened\u001B[49m\u001B[43m(\u001B[49m\u001B[43margs\u001B[49m\u001B[43m)\u001B[49m\n\u001B[0;32m   1324\u001B[0m forward_backward \u001B[38;5;241m=\u001B[39m \u001B[38;5;28mself\u001B[39m\u001B[38;5;241m.\u001B[39m_select_forward_and_backward_functions(\n\u001B[0;32m   1325\u001B[0m     args,\n\u001B[0;32m   1326\u001B[0m     possible_gradient_type,\n\u001B[0;32m   1327\u001B[0m     executing_eagerly)\n\u001B[0;32m   1328\u001B[0m forward_function, args_with_tangents \u001B[38;5;241m=\u001B[39m forward_backward\u001B[38;5;241m.\u001B[39mforward()\n",
      "File \u001B[1;32m~\\Desktop\\Diplomarbeit Erik Marr\\Projekt X\\venv\\Lib\\site-packages\\tensorflow\\python\\eager\\polymorphic_function\\atomic_function.py:216\u001B[0m, in \u001B[0;36mAtomicFunction.call_preflattened\u001B[1;34m(self, args)\u001B[0m\n\u001B[0;32m    214\u001B[0m \u001B[38;5;28;01mdef\u001B[39;00m \u001B[38;5;21mcall_preflattened\u001B[39m(\u001B[38;5;28mself\u001B[39m, args: Sequence[core\u001B[38;5;241m.\u001B[39mTensor]) \u001B[38;5;241m-\u001B[39m\u001B[38;5;241m>\u001B[39m Any:\n\u001B[0;32m    215\u001B[0m \u001B[38;5;250m  \u001B[39m\u001B[38;5;124;03m\"\"\"Calls with flattened tensor inputs and returns the structured output.\"\"\"\u001B[39;00m\n\u001B[1;32m--> 216\u001B[0m   flat_outputs \u001B[38;5;241m=\u001B[39m \u001B[38;5;28;43mself\u001B[39;49m\u001B[38;5;241;43m.\u001B[39;49m\u001B[43mcall_flat\u001B[49m\u001B[43m(\u001B[49m\u001B[38;5;241;43m*\u001B[39;49m\u001B[43margs\u001B[49m\u001B[43m)\u001B[49m\n\u001B[0;32m    217\u001B[0m   \u001B[38;5;28;01mreturn\u001B[39;00m \u001B[38;5;28mself\u001B[39m\u001B[38;5;241m.\u001B[39mfunction_type\u001B[38;5;241m.\u001B[39mpack_output(flat_outputs)\n",
      "File \u001B[1;32m~\\Desktop\\Diplomarbeit Erik Marr\\Projekt X\\venv\\Lib\\site-packages\\tensorflow\\python\\eager\\polymorphic_function\\atomic_function.py:251\u001B[0m, in \u001B[0;36mAtomicFunction.call_flat\u001B[1;34m(self, *args)\u001B[0m\n\u001B[0;32m    249\u001B[0m \u001B[38;5;28;01mwith\u001B[39;00m record\u001B[38;5;241m.\u001B[39mstop_recording():\n\u001B[0;32m    250\u001B[0m   \u001B[38;5;28;01mif\u001B[39;00m \u001B[38;5;28mself\u001B[39m\u001B[38;5;241m.\u001B[39m_bound_context\u001B[38;5;241m.\u001B[39mexecuting_eagerly():\n\u001B[1;32m--> 251\u001B[0m     outputs \u001B[38;5;241m=\u001B[39m \u001B[38;5;28;43mself\u001B[39;49m\u001B[38;5;241;43m.\u001B[39;49m\u001B[43m_bound_context\u001B[49m\u001B[38;5;241;43m.\u001B[39;49m\u001B[43mcall_function\u001B[49m\u001B[43m(\u001B[49m\n\u001B[0;32m    252\u001B[0m \u001B[43m        \u001B[49m\u001B[38;5;28;43mself\u001B[39;49m\u001B[38;5;241;43m.\u001B[39;49m\u001B[43mname\u001B[49m\u001B[43m,\u001B[49m\n\u001B[0;32m    253\u001B[0m \u001B[43m        \u001B[49m\u001B[38;5;28;43mlist\u001B[39;49m\u001B[43m(\u001B[49m\u001B[43margs\u001B[49m\u001B[43m)\u001B[49m\u001B[43m,\u001B[49m\n\u001B[0;32m    254\u001B[0m \u001B[43m        \u001B[49m\u001B[38;5;28;43mlen\u001B[39;49m\u001B[43m(\u001B[49m\u001B[38;5;28;43mself\u001B[39;49m\u001B[38;5;241;43m.\u001B[39;49m\u001B[43mfunction_type\u001B[49m\u001B[38;5;241;43m.\u001B[39;49m\u001B[43mflat_outputs\u001B[49m\u001B[43m)\u001B[49m\u001B[43m,\u001B[49m\n\u001B[0;32m    255\u001B[0m \u001B[43m    \u001B[49m\u001B[43m)\u001B[49m\n\u001B[0;32m    256\u001B[0m   \u001B[38;5;28;01melse\u001B[39;00m:\n\u001B[0;32m    257\u001B[0m     outputs \u001B[38;5;241m=\u001B[39m make_call_op_in_graph(\n\u001B[0;32m    258\u001B[0m         \u001B[38;5;28mself\u001B[39m,\n\u001B[0;32m    259\u001B[0m         \u001B[38;5;28mlist\u001B[39m(args),\n\u001B[0;32m    260\u001B[0m         \u001B[38;5;28mself\u001B[39m\u001B[38;5;241m.\u001B[39m_bound_context\u001B[38;5;241m.\u001B[39mfunction_call_options\u001B[38;5;241m.\u001B[39mas_attrs(),\n\u001B[0;32m    261\u001B[0m     )\n",
      "File \u001B[1;32m~\\Desktop\\Diplomarbeit Erik Marr\\Projekt X\\venv\\Lib\\site-packages\\tensorflow\\python\\eager\\context.py:1486\u001B[0m, in \u001B[0;36mContext.call_function\u001B[1;34m(self, name, tensor_inputs, num_outputs)\u001B[0m\n\u001B[0;32m   1484\u001B[0m cancellation_context \u001B[38;5;241m=\u001B[39m cancellation\u001B[38;5;241m.\u001B[39mcontext()\n\u001B[0;32m   1485\u001B[0m \u001B[38;5;28;01mif\u001B[39;00m cancellation_context \u001B[38;5;129;01mis\u001B[39;00m \u001B[38;5;28;01mNone\u001B[39;00m:\n\u001B[1;32m-> 1486\u001B[0m   outputs \u001B[38;5;241m=\u001B[39m \u001B[43mexecute\u001B[49m\u001B[38;5;241;43m.\u001B[39;49m\u001B[43mexecute\u001B[49m\u001B[43m(\u001B[49m\n\u001B[0;32m   1487\u001B[0m \u001B[43m      \u001B[49m\u001B[43mname\u001B[49m\u001B[38;5;241;43m.\u001B[39;49m\u001B[43mdecode\u001B[49m\u001B[43m(\u001B[49m\u001B[38;5;124;43m\"\u001B[39;49m\u001B[38;5;124;43mutf-8\u001B[39;49m\u001B[38;5;124;43m\"\u001B[39;49m\u001B[43m)\u001B[49m\u001B[43m,\u001B[49m\n\u001B[0;32m   1488\u001B[0m \u001B[43m      \u001B[49m\u001B[43mnum_outputs\u001B[49m\u001B[38;5;241;43m=\u001B[39;49m\u001B[43mnum_outputs\u001B[49m\u001B[43m,\u001B[49m\n\u001B[0;32m   1489\u001B[0m \u001B[43m      \u001B[49m\u001B[43minputs\u001B[49m\u001B[38;5;241;43m=\u001B[39;49m\u001B[43mtensor_inputs\u001B[49m\u001B[43m,\u001B[49m\n\u001B[0;32m   1490\u001B[0m \u001B[43m      \u001B[49m\u001B[43mattrs\u001B[49m\u001B[38;5;241;43m=\u001B[39;49m\u001B[43mattrs\u001B[49m\u001B[43m,\u001B[49m\n\u001B[0;32m   1491\u001B[0m \u001B[43m      \u001B[49m\u001B[43mctx\u001B[49m\u001B[38;5;241;43m=\u001B[39;49m\u001B[38;5;28;43mself\u001B[39;49m\u001B[43m,\u001B[49m\n\u001B[0;32m   1492\u001B[0m \u001B[43m  \u001B[49m\u001B[43m)\u001B[49m\n\u001B[0;32m   1493\u001B[0m \u001B[38;5;28;01melse\u001B[39;00m:\n\u001B[0;32m   1494\u001B[0m   outputs \u001B[38;5;241m=\u001B[39m execute\u001B[38;5;241m.\u001B[39mexecute_with_cancellation(\n\u001B[0;32m   1495\u001B[0m       name\u001B[38;5;241m.\u001B[39mdecode(\u001B[38;5;124m\"\u001B[39m\u001B[38;5;124mutf-8\u001B[39m\u001B[38;5;124m\"\u001B[39m),\n\u001B[0;32m   1496\u001B[0m       num_outputs\u001B[38;5;241m=\u001B[39mnum_outputs,\n\u001B[1;32m   (...)\u001B[0m\n\u001B[0;32m   1500\u001B[0m       cancellation_manager\u001B[38;5;241m=\u001B[39mcancellation_context,\n\u001B[0;32m   1501\u001B[0m   )\n",
      "File \u001B[1;32m~\\Desktop\\Diplomarbeit Erik Marr\\Projekt X\\venv\\Lib\\site-packages\\tensorflow\\python\\eager\\execute.py:53\u001B[0m, in \u001B[0;36mquick_execute\u001B[1;34m(op_name, num_outputs, inputs, attrs, ctx, name)\u001B[0m\n\u001B[0;32m     51\u001B[0m \u001B[38;5;28;01mtry\u001B[39;00m:\n\u001B[0;32m     52\u001B[0m   ctx\u001B[38;5;241m.\u001B[39mensure_initialized()\n\u001B[1;32m---> 53\u001B[0m   tensors \u001B[38;5;241m=\u001B[39m \u001B[43mpywrap_tfe\u001B[49m\u001B[38;5;241;43m.\u001B[39;49m\u001B[43mTFE_Py_Execute\u001B[49m\u001B[43m(\u001B[49m\u001B[43mctx\u001B[49m\u001B[38;5;241;43m.\u001B[39;49m\u001B[43m_handle\u001B[49m\u001B[43m,\u001B[49m\u001B[43m \u001B[49m\u001B[43mdevice_name\u001B[49m\u001B[43m,\u001B[49m\u001B[43m \u001B[49m\u001B[43mop_name\u001B[49m\u001B[43m,\u001B[49m\n\u001B[0;32m     54\u001B[0m \u001B[43m                                      \u001B[49m\u001B[43minputs\u001B[49m\u001B[43m,\u001B[49m\u001B[43m \u001B[49m\u001B[43mattrs\u001B[49m\u001B[43m,\u001B[49m\u001B[43m \u001B[49m\u001B[43mnum_outputs\u001B[49m\u001B[43m)\u001B[49m\n\u001B[0;32m     55\u001B[0m \u001B[38;5;28;01mexcept\u001B[39;00m core\u001B[38;5;241m.\u001B[39m_NotOkStatusException \u001B[38;5;28;01mas\u001B[39;00m e:\n\u001B[0;32m     56\u001B[0m   \u001B[38;5;28;01mif\u001B[39;00m name \u001B[38;5;129;01mis\u001B[39;00m \u001B[38;5;129;01mnot\u001B[39;00m \u001B[38;5;28;01mNone\u001B[39;00m:\n",
      "\u001B[1;31mKeyboardInterrupt\u001B[0m: "
     ]
    }
   ],
   "source": [
    "# Funktion zum Erstellen des Modells\n",
    "def build_model(hp):\n",
    "    model = Sequential()\n",
    "    model.add(Dense(hp.Int('input_units', min_value=16, max_value=656, step=32), input_shape=(3,), activation='relu'))\n",
    "    for i in range(hp.Int('n_layers', 1, 10)):\n",
    "        model.add(Dense(hp.Int(f'units_{i}', min_value=16, max_value=656, step=32), activation='relu'))\n",
    "    model.add(Dense(1, activation='linear'))\n",
    "    model.compile(optimizer='adam', loss='mean_squared_error')\n",
    "    return model\n",
    "\n",
    "# Durchführung der Random Search dreimal\n",
    "for run in range(1, 4):\n",
    "    # Anpassen des Verzeichnisses und des Projektnamens für jeden Durchlauf\n",
    "    directory = 'random_search'\n",
    "    project_name = f'random_search_D4_t_{run}'\n",
    "    \n",
    "    tuner = RandomSearch(\n",
    "        build_model,\n",
    "        objective='val_loss',\n",
    "        max_trials=100,\n",
    "        executions_per_trial=2,\n",
    "        directory=directory,\n",
    "        project_name=project_name\n",
    "    )\n",
    "    \n",
    "    # Durchführung des Random Search\n",
    "    tuner.search(X_train_scaled, y_train_scaled, epochs=50, verbose =0, batch_size=50, validation_split=0.2, callbacks=[EarlyStopping(monitor='val_loss', patience=5)])\n",
    "    \n",
    "    # Abrufen und Speichern des besten Modells\n",
    "    best_model = tuner.get_best_models(num_models=1)[0]\n",
    "    model_path = os.path.join(directory, project_name, 'best_model.h5') \n",
    "    best_model.save(model_path)\n",
    "    \n",
    "\n",
    "    # Optional: Abrufen und Ausgeben der besten Hyperparameter\n",
    "    best_hyperparameters = tuner.get_best_hyperparameters()[0]\n",
    "    \n",
    "    # Konvertieren der Hyperparameter in ein DataFrame\n",
    "    df_hyperparameters = pd.DataFrame([best_hyperparameters.values])\n",
    "    # Speichern des DataFrame als CSV\n",
    "    df_hyperparameters.to_csv(f'random_search_D4_t_{run}.csv', index=False)\n",
    "    \n",
    "    print(f\"Beste Hyperparameter für Lauf {run}: {best_hyperparameters.values}\")\n"
   ],
   "metadata": {
    "collapsed": false,
    "ExecuteTime": {
     "end_time": "2024-03-06T14:34:29.309186700Z",
     "start_time": "2024-03-06T14:34:13.302606100Z"
    }
   },
   "id": "d0f02feb42b652f5"
  },
  {
   "cell_type": "code",
   "execution_count": 49,
   "outputs": [],
   "source": [],
   "metadata": {
    "collapsed": false,
    "ExecuteTime": {
     "end_time": "2024-02-28T23:57:20.263814600Z",
     "start_time": "2024-02-28T23:57:20.260104600Z"
    }
   },
   "id": "3e35d5ebef369658"
  }
 ],
 "metadata": {
  "kernelspec": {
   "display_name": "Python 3 (ipykernel)",
   "language": "python",
   "name": "python3"
  },
  "language_info": {
   "codemirror_mode": {
    "name": "ipython",
    "version": 3
   },
   "file_extension": ".py",
   "mimetype": "text/x-python",
   "name": "python",
   "nbconvert_exporter": "python",
   "pygments_lexer": "ipython3",
   "version": "3.11.4"
  }
 },
 "nbformat": 4,
 "nbformat_minor": 5
}
