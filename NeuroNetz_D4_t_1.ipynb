{
 "cells": [
  {
   "cell_type": "code",
   "execution_count": 1,
   "id": "94b0518e",
   "metadata": {
    "ExecuteTime": {
     "end_time": "2024-03-26T10:03:19.900522700Z",
     "start_time": "2024-03-26T10:03:11.588756500Z"
    }
   },
   "outputs": [
    {
     "name": "stdout",
     "output_type": "stream",
     "text": [
      "WARNING:tensorflow:From C:\\Users\\erikm\\Desktop\\Diplomarbeit Erik Marr\\Projekt X\\venv\\Lib\\site-packages\\keras\\src\\losses.py:2976: The name tf.losses.sparse_softmax_cross_entropy is deprecated. Please use tf.compat.v1.losses.sparse_softmax_cross_entropy instead.\n"
     ]
    }
   ],
   "source": [
    "import numpy as np\n",
    "import os\n",
    "import tensorflow as tf\n",
    "import matplotlib.pyplot as plt\n",
    "from sklearn.model_selection import KFold\n",
    "from sklearn.model_selection import train_test_split\n",
    "from sklearn.preprocessing import MinMaxScaler\n",
    "import pandas as pd\n",
    "from tensorflow.keras.layers import Dense , Dropout\n",
    "from scikeras.wrappers import KerasRegressor \n",
    "from tensorflow.keras.callbacks import EarlyStopping\n",
    "import time\n",
    "from keras.models import Sequential\n",
    "from keras.layers import Dense, Dropout\n",
    "from keras.optimizers import Adam\n",
    "from keras.regularizers import l2\n",
    "from keras.callbacks import EarlyStopping\n",
    "from keras_tuner import RandomSearch\n",
    "from tensorflow.keras.models import Sequential\n",
    "from tensorflow.keras.layers import Dense\n",
    "from tensorflow.keras.optimizers import Adam\n",
    "from tensorflow.keras.regularizers import l2\n",
    "from sklearn.model_selection import GridSearchCV"
   ]
  },
  {
   "cell_type": "code",
   "execution_count": 2,
   "id": "e4ff61b1",
   "metadata": {
    "ExecuteTime": {
     "end_time": "2024-03-26T10:03:19.923537800Z",
     "start_time": "2024-03-26T10:03:19.893523200Z"
    }
   },
   "outputs": [
    {
     "data": {
      "text/plain": "       X-Koordinate  Y-Koordinate  Zeitpunkt  Strom  Kraft  Temperatur\n0            0.0000      -0.00200        100   7000   9000      400.35\n1            0.0000      -0.00192        100   7000   9000      416.89\n2            0.0000      -0.00184        100   7000   9000      432.05\n3            0.0000      -0.00176        100   7000   9000      445.87\n4            0.0000      -0.00168        100   7000   9000      458.33\n...             ...           ...        ...    ...    ...         ...\n43906        0.0024       0.00168        500   7000   9000      775.40\n43907        0.0024       0.00176        500   7000   9000      715.43\n43908        0.0024       0.00184        500   7000   9000      645.85\n43909        0.0024       0.00192        500   7000   9000      585.87\n43910        0.0024       0.00200        500   7000   9000      574.64\n\n[43911 rows x 6 columns]",
      "text/html": "<div>\n<style scoped>\n    .dataframe tbody tr th:only-of-type {\n        vertical-align: middle;\n    }\n\n    .dataframe tbody tr th {\n        vertical-align: top;\n    }\n\n    .dataframe thead th {\n        text-align: right;\n    }\n</style>\n<table border=\"1\" class=\"dataframe\">\n  <thead>\n    <tr style=\"text-align: right;\">\n      <th></th>\n      <th>X-Koordinate</th>\n      <th>Y-Koordinate</th>\n      <th>Zeitpunkt</th>\n      <th>Strom</th>\n      <th>Kraft</th>\n      <th>Temperatur</th>\n    </tr>\n  </thead>\n  <tbody>\n    <tr>\n      <th>0</th>\n      <td>0.0000</td>\n      <td>-0.00200</td>\n      <td>100</td>\n      <td>7000</td>\n      <td>9000</td>\n      <td>400.35</td>\n    </tr>\n    <tr>\n      <th>1</th>\n      <td>0.0000</td>\n      <td>-0.00192</td>\n      <td>100</td>\n      <td>7000</td>\n      <td>9000</td>\n      <td>416.89</td>\n    </tr>\n    <tr>\n      <th>2</th>\n      <td>0.0000</td>\n      <td>-0.00184</td>\n      <td>100</td>\n      <td>7000</td>\n      <td>9000</td>\n      <td>432.05</td>\n    </tr>\n    <tr>\n      <th>3</th>\n      <td>0.0000</td>\n      <td>-0.00176</td>\n      <td>100</td>\n      <td>7000</td>\n      <td>9000</td>\n      <td>445.87</td>\n    </tr>\n    <tr>\n      <th>4</th>\n      <td>0.0000</td>\n      <td>-0.00168</td>\n      <td>100</td>\n      <td>7000</td>\n      <td>9000</td>\n      <td>458.33</td>\n    </tr>\n    <tr>\n      <th>...</th>\n      <td>...</td>\n      <td>...</td>\n      <td>...</td>\n      <td>...</td>\n      <td>...</td>\n      <td>...</td>\n    </tr>\n    <tr>\n      <th>43906</th>\n      <td>0.0024</td>\n      <td>0.00168</td>\n      <td>500</td>\n      <td>7000</td>\n      <td>9000</td>\n      <td>775.40</td>\n    </tr>\n    <tr>\n      <th>43907</th>\n      <td>0.0024</td>\n      <td>0.00176</td>\n      <td>500</td>\n      <td>7000</td>\n      <td>9000</td>\n      <td>715.43</td>\n    </tr>\n    <tr>\n      <th>43908</th>\n      <td>0.0024</td>\n      <td>0.00184</td>\n      <td>500</td>\n      <td>7000</td>\n      <td>9000</td>\n      <td>645.85</td>\n    </tr>\n    <tr>\n      <th>43909</th>\n      <td>0.0024</td>\n      <td>0.00192</td>\n      <td>500</td>\n      <td>7000</td>\n      <td>9000</td>\n      <td>585.87</td>\n    </tr>\n    <tr>\n      <th>43910</th>\n      <td>0.0024</td>\n      <td>0.00200</td>\n      <td>500</td>\n      <td>7000</td>\n      <td>9000</td>\n      <td>574.64</td>\n    </tr>\n  </tbody>\n</table>\n<p>43911 rows × 6 columns</p>\n</div>"
     },
     "execution_count": 2,
     "metadata": {},
     "output_type": "execute_result"
    }
   ],
   "source": [
    "#data = pd.read_pickle('C:/Users/erikm/Desktop/Diplomarbeit Erik Marr/Daten/Finish/TPath_300_finish_data.pkl')\n",
    "data = pd.read_pickle('C:/Users/erikm/Desktop/Diplomarbeit Erik Marr/Daten/Finish/Finish_D4_t_I7000_F9000/D4_t.pkl')\n",
    "\n",
    "data  "
   ]
  },
  {
   "cell_type": "code",
   "execution_count": 3,
   "id": "966e3c74",
   "metadata": {
    "ExecuteTime": {
     "end_time": "2024-03-26T10:03:19.953268100Z",
     "start_time": "2024-03-26T10:03:19.919536300Z"
    }
   },
   "outputs": [
    {
     "data": {
      "text/plain": "       X-Koordinate  Y-Koordinate  Zeitpunkt  Temperatur\n0            0.0000      -0.00200        100      400.35\n1            0.0000      -0.00192        100      416.89\n2            0.0000      -0.00184        100      432.05\n3            0.0000      -0.00176        100      445.87\n4            0.0000      -0.00168        100      458.33\n...             ...           ...        ...         ...\n43906        0.0024       0.00168        500      775.40\n43907        0.0024       0.00176        500      715.43\n43908        0.0024       0.00184        500      645.85\n43909        0.0024       0.00192        500      585.87\n43910        0.0024       0.00200        500      574.64\n\n[43911 rows x 4 columns]",
      "text/html": "<div>\n<style scoped>\n    .dataframe tbody tr th:only-of-type {\n        vertical-align: middle;\n    }\n\n    .dataframe tbody tr th {\n        vertical-align: top;\n    }\n\n    .dataframe thead th {\n        text-align: right;\n    }\n</style>\n<table border=\"1\" class=\"dataframe\">\n  <thead>\n    <tr style=\"text-align: right;\">\n      <th></th>\n      <th>X-Koordinate</th>\n      <th>Y-Koordinate</th>\n      <th>Zeitpunkt</th>\n      <th>Temperatur</th>\n    </tr>\n  </thead>\n  <tbody>\n    <tr>\n      <th>0</th>\n      <td>0.0000</td>\n      <td>-0.00200</td>\n      <td>100</td>\n      <td>400.35</td>\n    </tr>\n    <tr>\n      <th>1</th>\n      <td>0.0000</td>\n      <td>-0.00192</td>\n      <td>100</td>\n      <td>416.89</td>\n    </tr>\n    <tr>\n      <th>2</th>\n      <td>0.0000</td>\n      <td>-0.00184</td>\n      <td>100</td>\n      <td>432.05</td>\n    </tr>\n    <tr>\n      <th>3</th>\n      <td>0.0000</td>\n      <td>-0.00176</td>\n      <td>100</td>\n      <td>445.87</td>\n    </tr>\n    <tr>\n      <th>4</th>\n      <td>0.0000</td>\n      <td>-0.00168</td>\n      <td>100</td>\n      <td>458.33</td>\n    </tr>\n    <tr>\n      <th>...</th>\n      <td>...</td>\n      <td>...</td>\n      <td>...</td>\n      <td>...</td>\n    </tr>\n    <tr>\n      <th>43906</th>\n      <td>0.0024</td>\n      <td>0.00168</td>\n      <td>500</td>\n      <td>775.40</td>\n    </tr>\n    <tr>\n      <th>43907</th>\n      <td>0.0024</td>\n      <td>0.00176</td>\n      <td>500</td>\n      <td>715.43</td>\n    </tr>\n    <tr>\n      <th>43908</th>\n      <td>0.0024</td>\n      <td>0.00184</td>\n      <td>500</td>\n      <td>645.85</td>\n    </tr>\n    <tr>\n      <th>43909</th>\n      <td>0.0024</td>\n      <td>0.00192</td>\n      <td>500</td>\n      <td>585.87</td>\n    </tr>\n    <tr>\n      <th>43910</th>\n      <td>0.0024</td>\n      <td>0.00200</td>\n      <td>500</td>\n      <td>574.64</td>\n    </tr>\n  </tbody>\n</table>\n<p>43911 rows × 4 columns</p>\n</div>"
     },
     "execution_count": 3,
     "metadata": {},
     "output_type": "execute_result"
    }
   ],
   "source": [
    "df = data.drop(data.columns[3:5], axis = 1)\n",
    "df"
   ]
  },
  {
   "cell_type": "code",
   "execution_count": 4,
   "id": "8783d1d6",
   "metadata": {
    "ExecuteTime": {
     "end_time": "2024-03-26T10:03:20.025503900Z",
     "start_time": "2024-03-26T10:03:19.931404400Z"
    }
   },
   "outputs": [
    {
     "name": "stdout",
     "output_type": "stream",
     "text": [
      "       X-Koordinate  Y-Koordinate  Zeitpunkt  Temperatur\n",
      "38620       0.00012      -0.00096        460     1229.80\n",
      "14428       0.00108       0.00168        230      542.76\n",
      "14359       0.00096       0.00024        230      777.04\n",
      "21104       0.00168       0.00128        290      720.23\n",
      "28698       0.00192       0.00088        360      886.28\n",
      "...             ...           ...        ...         ...\n",
      "6265        0.00204       0.00144        150      539.86\n",
      "11284       0.00132      -0.00096        200      690.53\n",
      "38158       0.00156      -0.00120        450     1049.80\n",
      "860         0.00192       0.00152        100      464.69\n",
      "15795       0.00180       0.00088        240      715.22\n",
      "\n",
      "[43911 rows x 4 columns]\n"
     ]
    },
    {
     "data": {
      "text/plain": "       X-Koordinate  Y-Koordinate  Zeitpunkt  Temperatur\n0           0.00012      -0.00096        460     1229.80\n1           0.00108       0.00168        230      542.76\n2           0.00096       0.00024        230      777.04\n3           0.00168       0.00128        290      720.23\n4           0.00192       0.00088        360      886.28\n...             ...           ...        ...         ...\n43906       0.00204       0.00144        150      539.86\n43907       0.00132      -0.00096        200      690.53\n43908       0.00156      -0.00120        450     1049.80\n43909       0.00192       0.00152        100      464.69\n43910       0.00180       0.00088        240      715.22\n\n[43911 rows x 4 columns]",
      "text/html": "<div>\n<style scoped>\n    .dataframe tbody tr th:only-of-type {\n        vertical-align: middle;\n    }\n\n    .dataframe tbody tr th {\n        vertical-align: top;\n    }\n\n    .dataframe thead th {\n        text-align: right;\n    }\n</style>\n<table border=\"1\" class=\"dataframe\">\n  <thead>\n    <tr style=\"text-align: right;\">\n      <th></th>\n      <th>X-Koordinate</th>\n      <th>Y-Koordinate</th>\n      <th>Zeitpunkt</th>\n      <th>Temperatur</th>\n    </tr>\n  </thead>\n  <tbody>\n    <tr>\n      <th>0</th>\n      <td>0.00012</td>\n      <td>-0.00096</td>\n      <td>460</td>\n      <td>1229.80</td>\n    </tr>\n    <tr>\n      <th>1</th>\n      <td>0.00108</td>\n      <td>0.00168</td>\n      <td>230</td>\n      <td>542.76</td>\n    </tr>\n    <tr>\n      <th>2</th>\n      <td>0.00096</td>\n      <td>0.00024</td>\n      <td>230</td>\n      <td>777.04</td>\n    </tr>\n    <tr>\n      <th>3</th>\n      <td>0.00168</td>\n      <td>0.00128</td>\n      <td>290</td>\n      <td>720.23</td>\n    </tr>\n    <tr>\n      <th>4</th>\n      <td>0.00192</td>\n      <td>0.00088</td>\n      <td>360</td>\n      <td>886.28</td>\n    </tr>\n    <tr>\n      <th>...</th>\n      <td>...</td>\n      <td>...</td>\n      <td>...</td>\n      <td>...</td>\n    </tr>\n    <tr>\n      <th>43906</th>\n      <td>0.00204</td>\n      <td>0.00144</td>\n      <td>150</td>\n      <td>539.86</td>\n    </tr>\n    <tr>\n      <th>43907</th>\n      <td>0.00132</td>\n      <td>-0.00096</td>\n      <td>200</td>\n      <td>690.53</td>\n    </tr>\n    <tr>\n      <th>43908</th>\n      <td>0.00156</td>\n      <td>-0.00120</td>\n      <td>450</td>\n      <td>1049.80</td>\n    </tr>\n    <tr>\n      <th>43909</th>\n      <td>0.00192</td>\n      <td>0.00152</td>\n      <td>100</td>\n      <td>464.69</td>\n    </tr>\n    <tr>\n      <th>43910</th>\n      <td>0.00180</td>\n      <td>0.00088</td>\n      <td>240</td>\n      <td>715.22</td>\n    </tr>\n  </tbody>\n</table>\n<p>43911 rows × 4 columns</p>\n</div>"
     },
     "execution_count": 4,
     "metadata": {},
     "output_type": "execute_result"
    }
   ],
   "source": [
    "df1 = df.sample(frac=1, random_state=42)  # Hier wird 42 als Random State verwendet, um die Ergebnisse reproduzierbar zu machen\n",
    "\n",
    "print(df1)\n",
    "df_reset = df1.reset_index(drop=True)\n",
    "df_reset"
   ]
  },
  {
   "cell_type": "code",
   "execution_count": 5,
   "id": "a4e72a16",
   "metadata": {
    "ExecuteTime": {
     "end_time": "2024-03-26T10:03:20.027503500Z",
     "start_time": "2024-03-26T10:03:19.951242200Z"
    }
   },
   "outputs": [],
   "source": [
    "label = df_reset[\"Temperatur\"]\n",
    "# Korrektur: Verwenden Sie den Spaltennamen direkt, ohne Indexierung der columns-Eigenschaft\n",
    "df1 = df_reset.drop(\"Temperatur\", axis=1)\n",
    "X = df1\n",
    "y = label\n"
   ]
  },
  {
   "cell_type": "markdown",
   "source": [],
   "metadata": {
    "collapsed": false
   },
   "id": "f7fa289a50d87423"
  },
  {
   "cell_type": "code",
   "execution_count": 6,
   "id": "e694a236",
   "metadata": {
    "ExecuteTime": {
     "end_time": "2024-03-26T10:03:20.100503900Z",
     "start_time": "2024-03-26T10:03:19.957787200Z"
    }
   },
   "outputs": [
    {
     "data": {
      "text/plain": "       X-Koordinate  Y-Koordinate  Zeitpunkt\n0           0.00012      -0.00096        460\n1           0.00108       0.00168        230\n2           0.00096       0.00024        230\n3           0.00168       0.00128        290\n4           0.00192       0.00088        360\n...             ...           ...        ...\n43906       0.00204       0.00144        150\n43907       0.00132      -0.00096        200\n43908       0.00156      -0.00120        450\n43909       0.00192       0.00152        100\n43910       0.00180       0.00088        240\n\n[43911 rows x 3 columns]",
      "text/html": "<div>\n<style scoped>\n    .dataframe tbody tr th:only-of-type {\n        vertical-align: middle;\n    }\n\n    .dataframe tbody tr th {\n        vertical-align: top;\n    }\n\n    .dataframe thead th {\n        text-align: right;\n    }\n</style>\n<table border=\"1\" class=\"dataframe\">\n  <thead>\n    <tr style=\"text-align: right;\">\n      <th></th>\n      <th>X-Koordinate</th>\n      <th>Y-Koordinate</th>\n      <th>Zeitpunkt</th>\n    </tr>\n  </thead>\n  <tbody>\n    <tr>\n      <th>0</th>\n      <td>0.00012</td>\n      <td>-0.00096</td>\n      <td>460</td>\n    </tr>\n    <tr>\n      <th>1</th>\n      <td>0.00108</td>\n      <td>0.00168</td>\n      <td>230</td>\n    </tr>\n    <tr>\n      <th>2</th>\n      <td>0.00096</td>\n      <td>0.00024</td>\n      <td>230</td>\n    </tr>\n    <tr>\n      <th>3</th>\n      <td>0.00168</td>\n      <td>0.00128</td>\n      <td>290</td>\n    </tr>\n    <tr>\n      <th>4</th>\n      <td>0.00192</td>\n      <td>0.00088</td>\n      <td>360</td>\n    </tr>\n    <tr>\n      <th>...</th>\n      <td>...</td>\n      <td>...</td>\n      <td>...</td>\n    </tr>\n    <tr>\n      <th>43906</th>\n      <td>0.00204</td>\n      <td>0.00144</td>\n      <td>150</td>\n    </tr>\n    <tr>\n      <th>43907</th>\n      <td>0.00132</td>\n      <td>-0.00096</td>\n      <td>200</td>\n    </tr>\n    <tr>\n      <th>43908</th>\n      <td>0.00156</td>\n      <td>-0.00120</td>\n      <td>450</td>\n    </tr>\n    <tr>\n      <th>43909</th>\n      <td>0.00192</td>\n      <td>0.00152</td>\n      <td>100</td>\n    </tr>\n    <tr>\n      <th>43910</th>\n      <td>0.00180</td>\n      <td>0.00088</td>\n      <td>240</td>\n    </tr>\n  </tbody>\n</table>\n<p>43911 rows × 3 columns</p>\n</div>"
     },
     "execution_count": 6,
     "metadata": {},
     "output_type": "execute_result"
    }
   ],
   "source": [
    "X"
   ]
  },
  {
   "cell_type": "code",
   "execution_count": 7,
   "id": "3f3303b4",
   "metadata": {
    "ExecuteTime": {
     "end_time": "2024-03-26T10:03:20.124503700Z",
     "start_time": "2024-03-26T10:03:19.966057700Z"
    }
   },
   "outputs": [
    {
     "data": {
      "text/plain": "0        1229.80\n1         542.76\n2         777.04\n3         720.23\n4         886.28\n          ...   \n43906     539.86\n43907     690.53\n43908    1049.80\n43909     464.69\n43910     715.22\nName: Temperatur, Length: 43911, dtype: float64"
     },
     "execution_count": 7,
     "metadata": {},
     "output_type": "execute_result"
    }
   ],
   "source": [
    "y"
   ]
  },
  {
   "cell_type": "code",
   "execution_count": 8,
   "id": "e3ad8da0",
   "metadata": {
    "ExecuteTime": {
     "end_time": "2024-03-26T10:03:20.170504Z",
     "start_time": "2024-03-26T10:03:19.971835200Z"
    }
   },
   "outputs": [],
   "source": [
    " # train_df enthält 80% der Daten, test_df enthält 20% der Daten\n",
    "X_train, X_test, y_train, y_test = train_test_split(X, y, test_size=0.20, random_state=42)\n"
   ]
  },
  {
   "cell_type": "code",
   "execution_count": 9,
   "id": "9c705edb",
   "metadata": {
    "ExecuteTime": {
     "end_time": "2024-03-26T10:03:20.170504Z",
     "start_time": "2024-03-26T10:03:19.980834600Z"
    }
   },
   "outputs": [],
   "source": [
    "# Initialisiere einen MinMaxScaler für die Features\n",
    "scaler_features = MinMaxScaler()\n",
    "scaler_features2 = MinMaxScaler()\n",
    "# Skaliere X_train und X_test\n",
    "X_train_scaled = scaler_features.fit_transform(X_train)\n",
    "X_test_scaled = scaler_features.transform(X_test)  # Nutze unterschiedliche Skalierungsparameter\n",
    "\n",
    "# Initialisiere einen SEPARATEN MinMaxScaler für das Ziel, wenn nötig\n",
    "scaler_target = MinMaxScaler()\n",
    "\n",
    "\n",
    "# Skaliere y_train und y_test. Beachte, dass y_train.reshape(-1, 1) verwendet wird, da MinMaxScaler \n",
    "# erwartet, dass die Eingaben als 2D-Arrays kommen, und Ziele normalerweise als 1D-Arrays vorliegen.\n",
    "y_train_scaled = scaler_target.fit_transform(y_train.values.reshape(-1, 1))\n",
    "y_test_scaled = scaler_target.transform(y_test.values.reshape(-1, 1))\n"
   ]
  },
  {
   "cell_type": "code",
   "execution_count": 10,
   "id": "bbefe631e495b483",
   "metadata": {
    "ExecuteTime": {
     "end_time": "2024-03-26T10:03:20.171503600Z",
     "start_time": "2024-03-26T10:03:19.990295Z"
    }
   },
   "outputs": [
    {
     "data": {
      "text/plain": "array([[0.05 , 0.66 , 0.275],\n       [0.8  , 0.02 , 0.525],\n       [0.6  , 0.2  , 0.525],\n       ...,\n       [0.45 , 0.92 , 0.975],\n       [0.3  , 0.7  , 0.875],\n       [0.75 , 1.   , 0.275]])"
     },
     "execution_count": 10,
     "metadata": {},
     "output_type": "execute_result"
    }
   ],
   "source": [
    "X_train_scaled"
   ]
  },
  {
   "cell_type": "code",
   "execution_count": 11,
   "outputs": [
    {
     "data": {
      "text/plain": "0.9999999999999999"
     },
     "execution_count": 11,
     "metadata": {},
     "output_type": "execute_result"
    }
   ],
   "source": [
    "y_train_scaled.max()"
   ],
   "metadata": {
    "collapsed": false,
    "ExecuteTime": {
     "end_time": "2024-03-26T10:03:20.208503800Z",
     "start_time": "2024-03-26T10:03:19.995692Z"
    }
   },
   "id": "ce04ce43aac2242f"
  },
  {
   "cell_type": "code",
   "execution_count": 12,
   "outputs": [
    {
     "name": "stdout",
     "output_type": "stream",
     "text": [
      "WARNING:tensorflow:From C:\\Users\\erikm\\Desktop\\Diplomarbeit Erik Marr\\Projekt X\\venv\\Lib\\site-packages\\keras\\src\\backend.py:873: The name tf.get_default_graph is deprecated. Please use tf.compat.v1.get_default_graph instead.\n",
      "Epoch 1/2000\n",
      "WARNING:tensorflow:From C:\\Users\\erikm\\Desktop\\Diplomarbeit Erik Marr\\Projekt X\\venv\\Lib\\site-packages\\keras\\src\\utils\\tf_utils.py:492: The name tf.ragged.RaggedTensorValue is deprecated. Please use tf.compat.v1.ragged.RaggedTensorValue instead.\n",
      "WARNING:tensorflow:From C:\\Users\\erikm\\Desktop\\Diplomarbeit Erik Marr\\Projekt X\\venv\\Lib\\site-packages\\keras\\src\\engine\\base_layer_utils.py:384: The name tf.executing_eagerly_outside_functions is deprecated. Please use tf.compat.v1.executing_eagerly_outside_functions instead.\n",
      "141/141 [==============================] - 2s 5ms/step - loss: 0.0546 - mae: 0.1309 - val_loss: 0.0197 - val_mae: 0.0671\n",
      "Epoch 2/2000\n",
      "141/141 [==============================] - 0s 3ms/step - loss: 0.0184 - mae: 0.0621 - val_loss: 0.0176 - val_mae: 0.0599\n",
      "Epoch 3/2000\n",
      "141/141 [==============================] - 0s 3ms/step - loss: 0.0167 - mae: 0.0565 - val_loss: 0.0161 - val_mae: 0.0545\n",
      "Epoch 4/2000\n",
      "141/141 [==============================] - 0s 3ms/step - loss: 0.0154 - mae: 0.0517 - val_loss: 0.0148 - val_mae: 0.0489\n",
      "Epoch 5/2000\n",
      "141/141 [==============================] - 0s 3ms/step - loss: 0.0141 - mae: 0.0467 - val_loss: 0.0138 - val_mae: 0.0460\n",
      "Epoch 6/2000\n",
      "141/141 [==============================] - 0s 3ms/step - loss: 0.0132 - mae: 0.0423 - val_loss: 0.0127 - val_mae: 0.0393\n",
      "Epoch 7/2000\n",
      "141/141 [==============================] - 0s 3ms/step - loss: 0.0122 - mae: 0.0374 - val_loss: 0.0119 - val_mae: 0.0359\n",
      "Epoch 8/2000\n",
      "141/141 [==============================] - 0s 3ms/step - loss: 0.0115 - mae: 0.0330 - val_loss: 0.0111 - val_mae: 0.0303\n",
      "Epoch 9/2000\n",
      "141/141 [==============================] - 0s 3ms/step - loss: 0.0109 - mae: 0.0293 - val_loss: 0.0106 - val_mae: 0.0270\n",
      "Epoch 10/2000\n",
      "141/141 [==============================] - 0s 3ms/step - loss: 0.0104 - mae: 0.0264 - val_loss: 0.0102 - val_mae: 0.0254\n",
      "Epoch 11/2000\n",
      "141/141 [==============================] - 0s 3ms/step - loss: 0.0100 - mae: 0.0242 - val_loss: 0.0098 - val_mae: 0.0221\n",
      "Epoch 12/2000\n",
      "141/141 [==============================] - 0s 3ms/step - loss: 0.0097 - mae: 0.0218 - val_loss: 0.0095 - val_mae: 0.0205\n",
      "Epoch 13/2000\n",
      "141/141 [==============================] - 0s 3ms/step - loss: 0.0094 - mae: 0.0193 - val_loss: 0.0093 - val_mae: 0.0182\n",
      "Epoch 14/2000\n",
      "141/141 [==============================] - 0s 3ms/step - loss: 0.0092 - mae: 0.0175 - val_loss: 0.0091 - val_mae: 0.0174\n",
      "Epoch 15/2000\n",
      "141/141 [==============================] - 0s 3ms/step - loss: 0.0090 - mae: 0.0160 - val_loss: 0.0090 - val_mae: 0.0158\n",
      "Epoch 16/2000\n",
      "141/141 [==============================] - 0s 3ms/step - loss: 0.0089 - mae: 0.0150 - val_loss: 0.0088 - val_mae: 0.0139\n",
      "Epoch 17/2000\n",
      "141/141 [==============================] - 0s 3ms/step - loss: 0.0087 - mae: 0.0140 - val_loss: 0.0086 - val_mae: 0.0126\n",
      "Epoch 18/2000\n",
      "141/141 [==============================] - 0s 3ms/step - loss: 0.0086 - mae: 0.0130 - val_loss: 0.0086 - val_mae: 0.0131\n",
      "Epoch 19/2000\n",
      "141/141 [==============================] - 0s 3ms/step - loss: 0.0085 - mae: 0.0129 - val_loss: 0.0084 - val_mae: 0.0114\n",
      "Epoch 20/2000\n",
      "141/141 [==============================] - 0s 3ms/step - loss: 0.0084 - mae: 0.0114 - val_loss: 0.0084 - val_mae: 0.0107\n",
      "Epoch 21/2000\n",
      "141/141 [==============================] - 0s 3ms/step - loss: 0.0083 - mae: 0.0108 - val_loss: 0.0083 - val_mae: 0.0105\n",
      "Epoch 22/2000\n",
      "141/141 [==============================] - 0s 3ms/step - loss: 0.0082 - mae: 0.0103 - val_loss: 0.0082 - val_mae: 0.0098\n",
      "Epoch 23/2000\n",
      "141/141 [==============================] - 0s 3ms/step - loss: 0.0082 - mae: 0.0097 - val_loss: 0.0081 - val_mae: 0.0095\n",
      "Epoch 24/2000\n",
      "141/141 [==============================] - 0s 3ms/step - loss: 0.0081 - mae: 0.0095 - val_loss: 0.0080 - val_mae: 0.0093\n",
      "Epoch 25/2000\n",
      "141/141 [==============================] - 0s 3ms/step - loss: 0.0080 - mae: 0.0090 - val_loss: 0.0081 - val_mae: 0.0121\n",
      "Epoch 26/2000\n",
      "141/141 [==============================] - 0s 3ms/step - loss: 0.0079 - mae: 0.0089 - val_loss: 0.0079 - val_mae: 0.0089\n",
      "Epoch 27/2000\n",
      "141/141 [==============================] - 0s 3ms/step - loss: 0.0079 - mae: 0.0084 - val_loss: 0.0079 - val_mae: 0.0089\n",
      "Epoch 28/2000\n",
      "141/141 [==============================] - 0s 3ms/step - loss: 0.0078 - mae: 0.0084 - val_loss: 0.0078 - val_mae: 0.0076\n",
      "Epoch 29/2000\n",
      "141/141 [==============================] - 0s 3ms/step - loss: 0.0077 - mae: 0.0080 - val_loss: 0.0077 - val_mae: 0.0074\n",
      "Epoch 30/2000\n",
      "141/141 [==============================] - 0s 3ms/step - loss: 0.0077 - mae: 0.0082 - val_loss: 0.0076 - val_mae: 0.0076\n",
      "Epoch 31/2000\n",
      "141/141 [==============================] - 0s 3ms/step - loss: 0.0076 - mae: 0.0076 - val_loss: 0.0077 - val_mae: 0.0105\n",
      "Epoch 32/2000\n",
      "141/141 [==============================] - 0s 3ms/step - loss: 0.0076 - mae: 0.0075 - val_loss: 0.0075 - val_mae: 0.0066\n",
      "Epoch 33/2000\n",
      "141/141 [==============================] - 0s 3ms/step - loss: 0.0075 - mae: 0.0070 - val_loss: 0.0074 - val_mae: 0.0067\n",
      "Epoch 34/2000\n",
      "141/141 [==============================] - 0s 3ms/step - loss: 0.0074 - mae: 0.0073 - val_loss: 0.0074 - val_mae: 0.0075\n",
      "Epoch 35/2000\n",
      "141/141 [==============================] - 0s 3ms/step - loss: 0.0074 - mae: 0.0071 - val_loss: 0.0074 - val_mae: 0.0085\n",
      "Epoch 36/2000\n",
      "141/141 [==============================] - 0s 3ms/step - loss: 0.0073 - mae: 0.0067 - val_loss: 0.0073 - val_mae: 0.0060\n",
      "Epoch 37/2000\n",
      "141/141 [==============================] - 0s 3ms/step - loss: 0.0072 - mae: 0.0066 - val_loss: 0.0072 - val_mae: 0.0069\n",
      "Epoch 38/2000\n",
      "141/141 [==============================] - 0s 3ms/step - loss: 0.0072 - mae: 0.0069 - val_loss: 0.0072 - val_mae: 0.0067\n",
      "Epoch 39/2000\n",
      "141/141 [==============================] - 0s 3ms/step - loss: 0.0071 - mae: 0.0065 - val_loss: 0.0071 - val_mae: 0.0072\n",
      "Epoch 40/2000\n",
      "141/141 [==============================] - 0s 3ms/step - loss: 0.0071 - mae: 0.0068 - val_loss: 0.0070 - val_mae: 0.0059\n",
      "Epoch 41/2000\n",
      "141/141 [==============================] - 0s 3ms/step - loss: 0.0070 - mae: 0.0061 - val_loss: 0.0070 - val_mae: 0.0073\n",
      "Epoch 42/2000\n",
      "141/141 [==============================] - 0s 3ms/step - loss: 0.0070 - mae: 0.0062 - val_loss: 0.0069 - val_mae: 0.0059\n",
      "Epoch 43/2000\n",
      "141/141 [==============================] - 0s 3ms/step - loss: 0.0069 - mae: 0.0061 - val_loss: 0.0069 - val_mae: 0.0062\n",
      "Epoch 44/2000\n",
      "141/141 [==============================] - 0s 3ms/step - loss: 0.0068 - mae: 0.0058 - val_loss: 0.0068 - val_mae: 0.0063\n",
      "Epoch 45/2000\n",
      "141/141 [==============================] - 0s 3ms/step - loss: 0.0068 - mae: 0.0064 - val_loss: 0.0068 - val_mae: 0.0057\n",
      "Epoch 46/2000\n",
      "141/141 [==============================] - 0s 3ms/step - loss: 0.0067 - mae: 0.0063 - val_loss: 0.0070 - val_mae: 0.0172\n",
      "Epoch 47/2000\n",
      "141/141 [==============================] - 0s 3ms/step - loss: 0.0067 - mae: 0.0066 - val_loss: 0.0067 - val_mae: 0.0064\n",
      "Epoch 48/2000\n",
      "141/141 [==============================] - 0s 3ms/step - loss: 0.0066 - mae: 0.0060 - val_loss: 0.0066 - val_mae: 0.0051\n",
      "Epoch 49/2000\n",
      "141/141 [==============================] - 0s 3ms/step - loss: 0.0066 - mae: 0.0062 - val_loss: 0.0066 - val_mae: 0.0089\n",
      "Epoch 50/2000\n",
      "141/141 [==============================] - 0s 3ms/step - loss: 0.0065 - mae: 0.0056 - val_loss: 0.0065 - val_mae: 0.0050\n",
      "Epoch 51/2000\n",
      "141/141 [==============================] - 0s 3ms/step - loss: 0.0065 - mae: 0.0054 - val_loss: 0.0064 - val_mae: 0.0051\n",
      "Epoch 52/2000\n",
      "141/141 [==============================] - 0s 3ms/step - loss: 0.0064 - mae: 0.0061 - val_loss: 0.0064 - val_mae: 0.0053\n",
      "Epoch 53/2000\n",
      "141/141 [==============================] - 0s 3ms/step - loss: 0.0064 - mae: 0.0057 - val_loss: 0.0063 - val_mae: 0.0056\n",
      "Epoch 54/2000\n",
      "141/141 [==============================] - 0s 3ms/step - loss: 0.0063 - mae: 0.0056 - val_loss: 0.0063 - val_mae: 0.0056\n",
      "Epoch 55/2000\n",
      "141/141 [==============================] - 0s 3ms/step - loss: 0.0063 - mae: 0.0054 - val_loss: 0.0062 - val_mae: 0.0051\n",
      "Epoch 56/2000\n",
      "141/141 [==============================] - 0s 3ms/step - loss: 0.0062 - mae: 0.0067 - val_loss: 0.0062 - val_mae: 0.0049\n",
      "Epoch 57/2000\n",
      "141/141 [==============================] - 0s 3ms/step - loss: 0.0062 - mae: 0.0054 - val_loss: 0.0061 - val_mae: 0.0048\n",
      "Epoch 58/2000\n",
      "141/141 [==============================] - 1s 4ms/step - loss: 0.0061 - mae: 0.0057 - val_loss: 0.0061 - val_mae: 0.0052\n",
      "Epoch 59/2000\n",
      "141/141 [==============================] - 0s 3ms/step - loss: 0.0061 - mae: 0.0056 - val_loss: 0.0061 - val_mae: 0.0052\n",
      "Epoch 60/2000\n",
      "141/141 [==============================] - 0s 3ms/step - loss: 0.0060 - mae: 0.0057 - val_loss: 0.0060 - val_mae: 0.0054\n",
      "Epoch 61/2000\n",
      "141/141 [==============================] - 0s 3ms/step - loss: 0.0060 - mae: 0.0052 - val_loss: 0.0060 - val_mae: 0.0050\n",
      "Epoch 62/2000\n",
      "141/141 [==============================] - 0s 3ms/step - loss: 0.0059 - mae: 0.0051 - val_loss: 0.0059 - val_mae: 0.0058\n",
      "Epoch 63/2000\n",
      "141/141 [==============================] - 0s 3ms/step - loss: 0.0059 - mae: 0.0052 - val_loss: 0.0059 - val_mae: 0.0049\n",
      "Epoch 64/2000\n",
      "141/141 [==============================] - 1s 4ms/step - loss: 0.0059 - mae: 0.0057 - val_loss: 0.0058 - val_mae: 0.0045\n",
      "Epoch 65/2000\n",
      "141/141 [==============================] - 0s 3ms/step - loss: 0.0058 - mae: 0.0058 - val_loss: 0.0058 - val_mae: 0.0053\n",
      "Epoch 66/2000\n",
      "141/141 [==============================] - 0s 3ms/step - loss: 0.0058 - mae: 0.0052 - val_loss: 0.0057 - val_mae: 0.0044\n",
      "Epoch 67/2000\n",
      "141/141 [==============================] - 0s 3ms/step - loss: 0.0057 - mae: 0.0050 - val_loss: 0.0057 - val_mae: 0.0048\n",
      "Epoch 68/2000\n",
      "141/141 [==============================] - 0s 3ms/step - loss: 0.0057 - mae: 0.0050 - val_loss: 0.0057 - val_mae: 0.0045\n",
      "Epoch 69/2000\n",
      "141/141 [==============================] - 0s 3ms/step - loss: 0.0057 - mae: 0.0058 - val_loss: 0.0056 - val_mae: 0.0045\n",
      "Epoch 70/2000\n",
      "141/141 [==============================] - 0s 3ms/step - loss: 0.0056 - mae: 0.0048 - val_loss: 0.0056 - val_mae: 0.0057\n",
      "Epoch 71/2000\n",
      "141/141 [==============================] - 0s 3ms/step - loss: 0.0056 - mae: 0.0056 - val_loss: 0.0056 - val_mae: 0.0070\n",
      "Epoch 72/2000\n",
      "141/141 [==============================] - 0s 3ms/step - loss: 0.0055 - mae: 0.0054 - val_loss: 0.0055 - val_mae: 0.0042\n",
      "Epoch 73/2000\n",
      "141/141 [==============================] - 0s 3ms/step - loss: 0.0055 - mae: 0.0049 - val_loss: 0.0055 - val_mae: 0.0044\n",
      "Epoch 74/2000\n",
      "141/141 [==============================] - 0s 3ms/step - loss: 0.0055 - mae: 0.0051 - val_loss: 0.0054 - val_mae: 0.0052\n",
      "Epoch 75/2000\n",
      "141/141 [==============================] - 0s 3ms/step - loss: 0.0054 - mae: 0.0050 - val_loss: 0.0054 - val_mae: 0.0052\n",
      "Epoch 76/2000\n",
      "141/141 [==============================] - 0s 3ms/step - loss: 0.0054 - mae: 0.0052 - val_loss: 0.0054 - val_mae: 0.0074\n",
      "Epoch 77/2000\n",
      "141/141 [==============================] - 0s 3ms/step - loss: 0.0053 - mae: 0.0047 - val_loss: 0.0053 - val_mae: 0.0042\n",
      "Epoch 78/2000\n",
      "141/141 [==============================] - 0s 3ms/step - loss: 0.0053 - mae: 0.0052 - val_loss: 0.0053 - val_mae: 0.0050\n",
      "Epoch 79/2000\n",
      "141/141 [==============================] - 0s 3ms/step - loss: 0.0053 - mae: 0.0048 - val_loss: 0.0052 - val_mae: 0.0041\n",
      "Epoch 80/2000\n",
      "141/141 [==============================] - 0s 3ms/step - loss: 0.0052 - mae: 0.0049 - val_loss: 0.0052 - val_mae: 0.0047\n",
      "Epoch 81/2000\n",
      "141/141 [==============================] - 0s 3ms/step - loss: 0.0052 - mae: 0.0050 - val_loss: 0.0052 - val_mae: 0.0084\n",
      "Epoch 82/2000\n",
      "141/141 [==============================] - 0s 3ms/step - loss: 0.0052 - mae: 0.0052 - val_loss: 0.0051 - val_mae: 0.0043\n",
      "Epoch 83/2000\n",
      "141/141 [==============================] - 0s 3ms/step - loss: 0.0051 - mae: 0.0057 - val_loss: 0.0051 - val_mae: 0.0053\n",
      "Epoch 84/2000\n",
      "141/141 [==============================] - 0s 3ms/step - loss: 0.0051 - mae: 0.0048 - val_loss: 0.0051 - val_mae: 0.0071\n",
      "Epoch 85/2000\n",
      "141/141 [==============================] - 0s 3ms/step - loss: 0.0051 - mae: 0.0051 - val_loss: 0.0051 - val_mae: 0.0065\n",
      "Epoch 86/2000\n",
      "141/141 [==============================] - 0s 3ms/step - loss: 0.0050 - mae: 0.0050 - val_loss: 0.0050 - val_mae: 0.0051\n",
      "Epoch 87/2000\n",
      "141/141 [==============================] - 0s 3ms/step - loss: 0.0050 - mae: 0.0047 - val_loss: 0.0050 - val_mae: 0.0051\n",
      "Epoch 88/2000\n",
      "141/141 [==============================] - 0s 3ms/step - loss: 0.0050 - mae: 0.0049 - val_loss: 0.0050 - val_mae: 0.0057\n",
      "Epoch 89/2000\n",
      " 67/141 [=============>................] - ETA: 0s - loss: 0.0049 - mae: 0.0048"
     ]
    },
    {
     "ename": "KeyboardInterrupt",
     "evalue": "",
     "output_type": "error",
     "traceback": [
      "\u001B[1;31m---------------------------------------------------------------------------\u001B[0m",
      "\u001B[1;31mKeyboardInterrupt\u001B[0m                         Traceback (most recent call last)",
      "Cell \u001B[1;32mIn[12], line 29\u001B[0m\n\u001B[0;32m     26\u001B[0m epochs \u001B[38;5;241m=\u001B[39m \u001B[38;5;241m2000\u001B[39m\n\u001B[0;32m     28\u001B[0m \u001B[38;5;66;03m# Modell trainieren (Annahme: X_train, y_train, X_val, y_val sind vordefiniert)\u001B[39;00m\n\u001B[1;32m---> 29\u001B[0m history \u001B[38;5;241m=\u001B[39m \u001B[43mmodel\u001B[49m\u001B[38;5;241;43m.\u001B[39;49m\u001B[43mfit\u001B[49m\u001B[43m(\u001B[49m\u001B[43mX_train_scaled\u001B[49m\u001B[43m,\u001B[49m\u001B[43m \u001B[49m\u001B[43my_train_scaled\u001B[49m\u001B[43m,\u001B[49m\n\u001B[0;32m     30\u001B[0m \u001B[43m                    \u001B[49m\u001B[43mbatch_size\u001B[49m\u001B[38;5;241;43m=\u001B[39;49m\u001B[43mbatch_size\u001B[49m\u001B[43m,\u001B[49m\n\u001B[0;32m     31\u001B[0m \u001B[43m                    \u001B[49m\u001B[43mepochs\u001B[49m\u001B[38;5;241;43m=\u001B[39;49m\u001B[43mepochs\u001B[49m\u001B[43m,\u001B[49m\n\u001B[0;32m     32\u001B[0m \u001B[43m                    \u001B[49m\u001B[43mvalidation_split\u001B[49m\u001B[38;5;241;43m=\u001B[39;49m\u001B[38;5;241;43m0.2\u001B[39;49m\u001B[43m,\u001B[49m\n\u001B[0;32m     33\u001B[0m \u001B[43m                    \u001B[49m\u001B[43mcallbacks\u001B[49m\u001B[38;5;241;43m=\u001B[39;49m\u001B[43m[\u001B[49m\u001B[43mearly_stopping\u001B[49m\u001B[43m]\u001B[49m\u001B[43m)\u001B[49m\n",
      "File \u001B[1;32m~\\Desktop\\Diplomarbeit Erik Marr\\Projekt X\\venv\\Lib\\site-packages\\keras\\src\\utils\\traceback_utils.py:65\u001B[0m, in \u001B[0;36mfilter_traceback.<locals>.error_handler\u001B[1;34m(*args, **kwargs)\u001B[0m\n\u001B[0;32m     63\u001B[0m filtered_tb \u001B[38;5;241m=\u001B[39m \u001B[38;5;28;01mNone\u001B[39;00m\n\u001B[0;32m     64\u001B[0m \u001B[38;5;28;01mtry\u001B[39;00m:\n\u001B[1;32m---> 65\u001B[0m     \u001B[38;5;28;01mreturn\u001B[39;00m \u001B[43mfn\u001B[49m\u001B[43m(\u001B[49m\u001B[38;5;241;43m*\u001B[39;49m\u001B[43margs\u001B[49m\u001B[43m,\u001B[49m\u001B[43m \u001B[49m\u001B[38;5;241;43m*\u001B[39;49m\u001B[38;5;241;43m*\u001B[39;49m\u001B[43mkwargs\u001B[49m\u001B[43m)\u001B[49m\n\u001B[0;32m     66\u001B[0m \u001B[38;5;28;01mexcept\u001B[39;00m \u001B[38;5;167;01mException\u001B[39;00m \u001B[38;5;28;01mas\u001B[39;00m e:\n\u001B[0;32m     67\u001B[0m     filtered_tb \u001B[38;5;241m=\u001B[39m _process_traceback_frames(e\u001B[38;5;241m.\u001B[39m__traceback__)\n",
      "File \u001B[1;32m~\\Desktop\\Diplomarbeit Erik Marr\\Projekt X\\venv\\Lib\\site-packages\\keras\\src\\engine\\training.py:1812\u001B[0m, in \u001B[0;36mModel.fit\u001B[1;34m(self, x, y, batch_size, epochs, verbose, callbacks, validation_split, validation_data, shuffle, class_weight, sample_weight, initial_epoch, steps_per_epoch, validation_steps, validation_batch_size, validation_freq, max_queue_size, workers, use_multiprocessing)\u001B[0m\n\u001B[0;32m   1810\u001B[0m \u001B[38;5;66;03m# No error, now safe to assign to logs.\u001B[39;00m\n\u001B[0;32m   1811\u001B[0m logs \u001B[38;5;241m=\u001B[39m tmp_logs\n\u001B[1;32m-> 1812\u001B[0m end_step \u001B[38;5;241m=\u001B[39m step \u001B[38;5;241m+\u001B[39m \u001B[43mdata_handler\u001B[49m\u001B[38;5;241;43m.\u001B[39;49m\u001B[43mstep_increment\u001B[49m\n\u001B[0;32m   1813\u001B[0m callbacks\u001B[38;5;241m.\u001B[39mon_train_batch_end(end_step, logs)\n\u001B[0;32m   1814\u001B[0m \u001B[38;5;28;01mif\u001B[39;00m \u001B[38;5;28mself\u001B[39m\u001B[38;5;241m.\u001B[39mstop_training:\n",
      "File \u001B[1;32m~\\Desktop\\Diplomarbeit Erik Marr\\Projekt X\\venv\\Lib\\site-packages\\keras\\src\\engine\\data_adapter.py:1431\u001B[0m, in \u001B[0;36mDataHandler.step_increment\u001B[1;34m(self)\u001B[0m\n\u001B[0;32m   1428\u001B[0m             \u001B[38;5;28mself\u001B[39m\u001B[38;5;241m.\u001B[39m_current_step \u001B[38;5;241m+\u001B[39m\u001B[38;5;241m=\u001B[39m steps_remaining\n\u001B[0;32m   1429\u001B[0m             \u001B[38;5;28mself\u001B[39m\u001B[38;5;241m.\u001B[39m_steps_per_execution\u001B[38;5;241m.\u001B[39massign(original_spe)\n\u001B[1;32m-> 1431\u001B[0m \u001B[38;5;129m@property\u001B[39m\n\u001B[0;32m   1432\u001B[0m \u001B[38;5;28;01mdef\u001B[39;00m \u001B[38;5;21mstep_increment\u001B[39m(\u001B[38;5;28mself\u001B[39m):\n\u001B[0;32m   1433\u001B[0m \u001B[38;5;250m    \u001B[39m\u001B[38;5;124;03m\"\"\"The number to increment the step for `on_batch_end` methods.\"\"\"\u001B[39;00m\n\u001B[0;32m   1434\u001B[0m     \u001B[38;5;28;01mreturn\u001B[39;00m \u001B[38;5;28mself\u001B[39m\u001B[38;5;241m.\u001B[39m_step_increment\n",
      "\u001B[1;31mKeyboardInterrupt\u001B[0m: "
     ]
    }
   ],
   "source": [
    "# Netzwerkarchitektur\n",
    "model = Sequential([\n",
    "\n",
    "    Dense(232, activation='relu', input_shape=(3,), kernel_initializer='he_uniform', kernel_regularizer=l2(0.00001)),\n",
    "    \n",
    "    Dense(152, activation='relu', kernel_initializer='he_uniform', kernel_regularizer=l2(0.00001)),\n",
    "    \n",
    "    Dense(232, activation='relu', kernel_initializer='he_uniform', kernel_regularizer=l2(0.00001)),\n",
    "    \n",
    "    Dense(1 , activation = 'linear')\n",
    "])\n",
    "\n",
    "# Optimierer\n",
    "optimizer = tf.keras.optimizers.Adam(learning_rate=0.00001)\n",
    "\n",
    "# Modell kompilieren (Verwendung von mean_squared_error als Verlustfunktion für Regression)\n",
    "model.compile(optimizer=optimizer,\n",
    "              loss='mean_squared_error',\n",
    "              metrics=['mae'])  # Metriken für Regression: Mean Absolute Error und Mean Squared Error\n",
    "\n",
    "# Early Stopping Callback\n",
    "early_stopping = EarlyStopping(monitor='val_loss', patience=5, verbose=1, mode='min', restore_best_weights=True)\n",
    "\n",
    "# Trainingsparameter\n",
    "batch_size = 16\n",
    "epochs = 2000\n",
    "\n",
    "# Modell trainieren (Annahme: X_train, y_train, X_val, y_val sind vordefiniert)\n",
    "history = model.fit(X_train_scaled, y_train_scaled,\n",
    "                    batch_size=batch_size,\n",
    "                    epochs=epochs,\n",
    "                    validation_split=0.2,\n",
    "                    callbacks=[early_stopping])"
   ],
   "metadata": {
    "collapsed": false,
    "ExecuteTime": {
     "end_time": "2024-03-26T10:04:07.788805800Z",
     "start_time": "2024-03-26T10:03:26.249579100Z"
    }
   },
   "id": "8b52e1a9a6ff3aeb"
  },
  {
   "cell_type": "code",
   "execution_count": 13,
   "outputs": [
    {
     "name": "stdout",
     "output_type": "stream",
     "text": [
      "WARNING:tensorflow:From C:\\Users\\erikm\\Desktop\\Diplomarbeit Erik Marr\\Projekt X\\venv\\Lib\\site-packages\\keras\\src\\backend.py:873: The name tf.get_default_graph is deprecated. Please use tf.compat.v1.get_default_graph instead.\n",
      "Training für Fold 1...\n",
      "Epoch 1/1000\n",
      "WARNING:tensorflow:From C:\\Users\\erikm\\Desktop\\Diplomarbeit Erik Marr\\Projekt X\\venv\\Lib\\site-packages\\keras\\src\\utils\\tf_utils.py:492: The name tf.ragged.RaggedTensorValue is deprecated. Please use tf.compat.v1.ragged.RaggedTensorValue instead.\n",
      "WARNING:tensorflow:From C:\\Users\\erikm\\Desktop\\Diplomarbeit Erik Marr\\Projekt X\\venv\\Lib\\site-packages\\keras\\src\\engine\\base_layer_utils.py:384: The name tf.executing_eagerly_outside_functions is deprecated. Please use tf.compat.v1.executing_eagerly_outside_functions instead.\n",
      "1757/1757 [==============================] - 3s 1ms/step - loss: 0.1269 - mae: 0.1721 - val_loss: 0.0220 - val_mae: 0.0781\n",
      "Epoch 2/1000\n",
      "1757/1757 [==============================] - 2s 1ms/step - loss: 0.0202 - mae: 0.0701 - val_loss: 0.0183 - val_mae: 0.0633\n",
      "Epoch 3/1000\n",
      "1757/1757 [==============================] - 2s 1ms/step - loss: 0.0173 - mae: 0.0597 - val_loss: 0.0162 - val_mae: 0.0569\n",
      "Epoch 4/1000\n",
      "1757/1757 [==============================] - 2s 1ms/step - loss: 0.0155 - mae: 0.0533 - val_loss: 0.0149 - val_mae: 0.0516\n",
      "Epoch 5/1000\n",
      "1757/1757 [==============================] - 2s 1ms/step - loss: 0.0144 - mae: 0.0490 - val_loss: 0.0139 - val_mae: 0.0480\n",
      "Epoch 6/1000\n",
      "1757/1757 [==============================] - 2s 1ms/step - loss: 0.0135 - mae: 0.0452 - val_loss: 0.0131 - val_mae: 0.0421\n",
      "Epoch 7/1000\n",
      "1757/1757 [==============================] - 2s 1ms/step - loss: 0.0128 - mae: 0.0417 - val_loss: 0.0125 - val_mae: 0.0415\n",
      "Epoch 8/1000\n",
      "1757/1757 [==============================] - 2s 1ms/step - loss: 0.0122 - mae: 0.0387 - val_loss: 0.0118 - val_mae: 0.0365\n",
      "Epoch 9/1000\n",
      "1757/1757 [==============================] - 2s 1ms/step - loss: 0.0117 - mae: 0.0359 - val_loss: 0.0115 - val_mae: 0.0376\n",
      "Epoch 10/1000\n",
      "1757/1757 [==============================] - 2s 1ms/step - loss: 0.0112 - mae: 0.0336 - val_loss: 0.0111 - val_mae: 0.0318\n",
      "Epoch 11/1000\n",
      "1757/1757 [==============================] - 2s 1ms/step - loss: 0.0108 - mae: 0.0312 - val_loss: 0.0108 - val_mae: 0.0322\n",
      "Epoch 12/1000\n",
      "1757/1757 [==============================] - 2s 1ms/step - loss: 0.0105 - mae: 0.0290 - val_loss: 0.0104 - val_mae: 0.0293\n",
      "Epoch 13/1000\n",
      "1757/1757 [==============================] - 2s 1ms/step - loss: 0.0102 - mae: 0.0269 - val_loss: 0.0101 - val_mae: 0.0272\n",
      "Epoch 14/1000\n",
      "1757/1757 [==============================] - 2s 1ms/step - loss: 0.0099 - mae: 0.0244 - val_loss: 0.0098 - val_mae: 0.0231\n",
      "Epoch 15/1000\n",
      "1757/1757 [==============================] - 2s 1ms/step - loss: 0.0096 - mae: 0.0222 - val_loss: 0.0095 - val_mae: 0.0209\n",
      "Epoch 16/1000\n",
      "1757/1757 [==============================] - 2s 1ms/step - loss: 0.0094 - mae: 0.0201 - val_loss: 0.0093 - val_mae: 0.0200\n",
      "Epoch 17/1000\n",
      "1757/1757 [==============================] - 2s 1ms/step - loss: 0.0092 - mae: 0.0183 - val_loss: 0.0091 - val_mae: 0.0164\n",
      "Epoch 18/1000\n",
      "1757/1757 [==============================] - 2s 1ms/step - loss: 0.0090 - mae: 0.0164 - val_loss: 0.0089 - val_mae: 0.0152\n",
      "Epoch 19/1000\n",
      "1757/1757 [==============================] - 2s 1ms/step - loss: 0.0089 - mae: 0.0149 - val_loss: 0.0088 - val_mae: 0.0134\n",
      "Epoch 20/1000\n",
      "1757/1757 [==============================] - 2s 1ms/step - loss: 0.0088 - mae: 0.0136 - val_loss: 0.0087 - val_mae: 0.0122\n",
      "Epoch 21/1000\n",
      "1757/1757 [==============================] - 2s 1ms/step - loss: 0.0086 - mae: 0.0124 - val_loss: 0.0086 - val_mae: 0.0118\n",
      "Epoch 22/1000\n",
      "1757/1757 [==============================] - 2s 1ms/step - loss: 0.0085 - mae: 0.0115 - val_loss: 0.0086 - val_mae: 0.0134\n",
      "Epoch 23/1000\n",
      "1757/1757 [==============================] - 2s 1ms/step - loss: 0.0084 - mae: 0.0108 - val_loss: 0.0084 - val_mae: 0.0103\n",
      "Epoch 24/1000\n",
      "1757/1757 [==============================] - 2s 1ms/step - loss: 0.0083 - mae: 0.0102 - val_loss: 0.0083 - val_mae: 0.0090\n",
      "Epoch 25/1000\n",
      "1757/1757 [==============================] - 2s 1ms/step - loss: 0.0083 - mae: 0.0096 - val_loss: 0.0082 - val_mae: 0.0092\n",
      "Epoch 26/1000\n",
      "1757/1757 [==============================] - 2s 1ms/step - loss: 0.0082 - mae: 0.0091 - val_loss: 0.0081 - val_mae: 0.0082\n",
      "Epoch 27/1000\n",
      "1757/1757 [==============================] - 2s 1ms/step - loss: 0.0081 - mae: 0.0088 - val_loss: 0.0080 - val_mae: 0.0079\n",
      "Epoch 28/1000\n",
      "1757/1757 [==============================] - 2s 1ms/step - loss: 0.0080 - mae: 0.0084 - val_loss: 0.0080 - val_mae: 0.0075\n",
      "Epoch 29/1000\n",
      "1757/1757 [==============================] - 2s 1ms/step - loss: 0.0079 - mae: 0.0079 - val_loss: 0.0079 - val_mae: 0.0079\n",
      "Epoch 30/1000\n",
      "1757/1757 [==============================] - 2s 1ms/step - loss: 0.0079 - mae: 0.0077 - val_loss: 0.0078 - val_mae: 0.0071\n",
      "Epoch 31/1000\n",
      "1757/1757 [==============================] - 2s 1ms/step - loss: 0.0078 - mae: 0.0073 - val_loss: 0.0078 - val_mae: 0.0076\n",
      "Epoch 32/1000\n",
      "1757/1757 [==============================] - 2s 1ms/step - loss: 0.0077 - mae: 0.0073 - val_loss: 0.0077 - val_mae: 0.0084\n",
      "Epoch 33/1000\n",
      "1757/1757 [==============================] - 2s 1ms/step - loss: 0.0077 - mae: 0.0070 - val_loss: 0.0077 - val_mae: 0.0091\n",
      "Epoch 34/1000\n",
      "1757/1757 [==============================] - 2s 1ms/step - loss: 0.0076 - mae: 0.0069 - val_loss: 0.0076 - val_mae: 0.0067\n",
      "Epoch 35/1000\n",
      "1757/1757 [==============================] - 2s 1ms/step - loss: 0.0076 - mae: 0.0068 - val_loss: 0.0075 - val_mae: 0.0074\n",
      "Epoch 36/1000\n",
      "1757/1757 [==============================] - 2s 1ms/step - loss: 0.0075 - mae: 0.0065 - val_loss: 0.0075 - val_mae: 0.0070\n",
      "Epoch 37/1000\n",
      "1757/1757 [==============================] - 2s 1ms/step - loss: 0.0074 - mae: 0.0065 - val_loss: 0.0074 - val_mae: 0.0060\n",
      "Epoch 38/1000\n",
      "1757/1757 [==============================] - 2s 1ms/step - loss: 0.0074 - mae: 0.0064 - val_loss: 0.0074 - val_mae: 0.0063\n",
      "Epoch 39/1000\n",
      "1757/1757 [==============================] - 2s 1ms/step - loss: 0.0073 - mae: 0.0063 - val_loss: 0.0073 - val_mae: 0.0057\n",
      "Epoch 40/1000\n",
      "1757/1757 [==============================] - 2s 1ms/step - loss: 0.0073 - mae: 0.0062 - val_loss: 0.0072 - val_mae: 0.0061\n",
      "Epoch 41/1000\n",
      "1757/1757 [==============================] - 2s 1ms/step - loss: 0.0072 - mae: 0.0062 - val_loss: 0.0072 - val_mae: 0.0055\n",
      "Epoch 42/1000\n",
      "1757/1757 [==============================] - 2s 1ms/step - loss: 0.0072 - mae: 0.0063 - val_loss: 0.0071 - val_mae: 0.0058\n",
      "Epoch 43/1000\n",
      "1757/1757 [==============================] - 2s 1ms/step - loss: 0.0071 - mae: 0.0060 - val_loss: 0.0071 - val_mae: 0.0069\n",
      "Epoch 44/1000\n",
      "1757/1757 [==============================] - 2s 1ms/step - loss: 0.0071 - mae: 0.0060 - val_loss: 0.0071 - val_mae: 0.0069\n",
      "Epoch 45/1000\n",
      "1757/1757 [==============================] - 2s 1ms/step - loss: 0.0070 - mae: 0.0059 - val_loss: 0.0070 - val_mae: 0.0055\n",
      "Epoch 46/1000\n",
      "1757/1757 [==============================] - 2s 1ms/step - loss: 0.0070 - mae: 0.0058 - val_loss: 0.0069 - val_mae: 0.0058\n",
      "Epoch 47/1000\n",
      "1757/1757 [==============================] - 2s 1ms/step - loss: 0.0069 - mae: 0.0058 - val_loss: 0.0069 - val_mae: 0.0061\n",
      "Epoch 48/1000\n",
      "1757/1757 [==============================] - 2s 1ms/step - loss: 0.0069 - mae: 0.0057 - val_loss: 0.0069 - val_mae: 0.0057\n",
      "Epoch 49/1000\n",
      "1757/1757 [==============================] - 2s 1ms/step - loss: 0.0068 - mae: 0.0057 - val_loss: 0.0068 - val_mae: 0.0054\n",
      "Epoch 50/1000\n",
      "1757/1757 [==============================] - 2s 1ms/step - loss: 0.0068 - mae: 0.0056 - val_loss: 0.0068 - val_mae: 0.0078\n",
      "Epoch 51/1000\n",
      "1757/1757 [==============================] - 2s 1ms/step - loss: 0.0067 - mae: 0.0056 - val_loss: 0.0067 - val_mae: 0.0053\n",
      "Epoch 52/1000\n",
      "1757/1757 [==============================] - 2s 1ms/step - loss: 0.0067 - mae: 0.0056 - val_loss: 0.0067 - val_mae: 0.0050\n",
      "Epoch 53/1000\n",
      "1757/1757 [==============================] - 2s 1ms/step - loss: 0.0066 - mae: 0.0055 - val_loss: 0.0066 - val_mae: 0.0049\n",
      "Epoch 54/1000\n",
      "1757/1757 [==============================] - 2s 1ms/step - loss: 0.0066 - mae: 0.0056 - val_loss: 0.0066 - val_mae: 0.0060\n",
      "Epoch 55/1000\n",
      "1757/1757 [==============================] - 2s 1ms/step - loss: 0.0066 - mae: 0.0054 - val_loss: 0.0066 - val_mae: 0.0068\n",
      "Epoch 56/1000\n",
      "1757/1757 [==============================] - 2s 1ms/step - loss: 0.0065 - mae: 0.0054 - val_loss: 0.0065 - val_mae: 0.0049\n",
      "Epoch 57/1000\n",
      "1757/1757 [==============================] - 2s 1ms/step - loss: 0.0065 - mae: 0.0055 - val_loss: 0.0065 - val_mae: 0.0050\n",
      "Epoch 58/1000\n",
      "1757/1757 [==============================] - 2s 1ms/step - loss: 0.0064 - mae: 0.0053 - val_loss: 0.0064 - val_mae: 0.0058\n",
      "Epoch 59/1000\n",
      "1757/1757 [==============================] - 2s 1ms/step - loss: 0.0064 - mae: 0.0054 - val_loss: 0.0064 - val_mae: 0.0053\n",
      "Epoch 60/1000\n",
      "1757/1757 [==============================] - 2s 1ms/step - loss: 0.0064 - mae: 0.0053 - val_loss: 0.0063 - val_mae: 0.0055\n",
      "Epoch 61/1000\n",
      "1757/1757 [==============================] - 2s 1ms/step - loss: 0.0063 - mae: 0.0053 - val_loss: 0.0063 - val_mae: 0.0051\n",
      "Epoch 62/1000\n",
      "1757/1757 [==============================] - 2s 1ms/step - loss: 0.0063 - mae: 0.0052 - val_loss: 0.0063 - val_mae: 0.0063\n",
      "Epoch 63/1000\n",
      "1757/1757 [==============================] - 2s 1ms/step - loss: 0.0062 - mae: 0.0052 - val_loss: 0.0062 - val_mae: 0.0052\n",
      "Epoch 64/1000\n",
      "1757/1757 [==============================] - 2s 1ms/step - loss: 0.0062 - mae: 0.0052 - val_loss: 0.0062 - val_mae: 0.0053\n",
      "Epoch 65/1000\n",
      "1757/1757 [==============================] - 2s 1ms/step - loss: 0.0062 - mae: 0.0052 - val_loss: 0.0062 - val_mae: 0.0047\n",
      "Epoch 66/1000\n",
      "1757/1757 [==============================] - 2s 1ms/step - loss: 0.0061 - mae: 0.0052 - val_loss: 0.0061 - val_mae: 0.0053\n",
      "Epoch 67/1000\n",
      "1757/1757 [==============================] - 2s 1ms/step - loss: 0.0061 - mae: 0.0050 - val_loss: 0.0061 - val_mae: 0.0045\n",
      "Epoch 68/1000\n",
      "1757/1757 [==============================] - 2s 1ms/step - loss: 0.0061 - mae: 0.0051 - val_loss: 0.0061 - val_mae: 0.0058\n",
      "Epoch 69/1000\n",
      "1757/1757 [==============================] - 2s 1ms/step - loss: 0.0060 - mae: 0.0051 - val_loss: 0.0060 - val_mae: 0.0045\n",
      "Epoch 70/1000\n",
      "1757/1757 [==============================] - 2s 1ms/step - loss: 0.0060 - mae: 0.0051 - val_loss: 0.0060 - val_mae: 0.0048\n",
      "Epoch 71/1000\n",
      "1757/1757 [==============================] - 2s 1ms/step - loss: 0.0060 - mae: 0.0050 - val_loss: 0.0059 - val_mae: 0.0044\n",
      "Epoch 72/1000\n",
      "1757/1757 [==============================] - 2s 1ms/step - loss: 0.0059 - mae: 0.0050 - val_loss: 0.0059 - val_mae: 0.0049\n",
      "Epoch 73/1000\n",
      "1757/1757 [==============================] - 2s 1ms/step - loss: 0.0059 - mae: 0.0050 - val_loss: 0.0059 - val_mae: 0.0046\n",
      "Epoch 74/1000\n",
      "1757/1757 [==============================] - 2s 1ms/step - loss: 0.0059 - mae: 0.0050 - val_loss: 0.0059 - val_mae: 0.0047\n",
      "Epoch 75/1000\n",
      "1757/1757 [==============================] - 2s 1ms/step - loss: 0.0058 - mae: 0.0049 - val_loss: 0.0058 - val_mae: 0.0044\n",
      "Epoch 76/1000\n",
      "1757/1757 [==============================] - 2s 1ms/step - loss: 0.0058 - mae: 0.0049 - val_loss: 0.0058 - val_mae: 0.0044\n",
      "Epoch 77/1000\n",
      "1757/1757 [==============================] - 2s 1ms/step - loss: 0.0058 - mae: 0.0049 - val_loss: 0.0058 - val_mae: 0.0044\n",
      "Epoch 78/1000\n",
      "1757/1757 [==============================] - 2s 1ms/step - loss: 0.0057 - mae: 0.0049 - val_loss: 0.0057 - val_mae: 0.0045\n",
      "Epoch 79/1000\n",
      "1757/1757 [==============================] - 2s 1ms/step - loss: 0.0057 - mae: 0.0049 - val_loss: 0.0057 - val_mae: 0.0045\n",
      "Epoch 80/1000\n",
      "1757/1757 [==============================] - 2s 1ms/step - loss: 0.0057 - mae: 0.0048 - val_loss: 0.0057 - val_mae: 0.0062\n",
      "Epoch 81/1000\n",
      "1757/1757 [==============================] - 2s 1ms/step - loss: 0.0057 - mae: 0.0049 - val_loss: 0.0056 - val_mae: 0.0041\n",
      "Epoch 82/1000\n",
      "1757/1757 [==============================] - 2s 1ms/step - loss: 0.0056 - mae: 0.0048 - val_loss: 0.0056 - val_mae: 0.0043\n",
      "Epoch 83/1000\n",
      "1757/1757 [==============================] - 2s 1ms/step - loss: 0.0056 - mae: 0.0047 - val_loss: 0.0056 - val_mae: 0.0044\n",
      "Epoch 84/1000\n",
      "1757/1757 [==============================] - 2s 1ms/step - loss: 0.0056 - mae: 0.0047 - val_loss: 0.0055 - val_mae: 0.0042\n",
      "Epoch 85/1000\n",
      "1757/1757 [==============================] - 2s 1ms/step - loss: 0.0055 - mae: 0.0047 - val_loss: 0.0055 - val_mae: 0.0042\n",
      "Epoch 86/1000\n",
      "1757/1757 [==============================] - 2s 1ms/step - loss: 0.0055 - mae: 0.0047 - val_loss: 0.0055 - val_mae: 0.0044\n",
      "Epoch 87/1000\n",
      "1757/1757 [==============================] - 2s 1ms/step - loss: 0.0055 - mae: 0.0047 - val_loss: 0.0055 - val_mae: 0.0059\n",
      "Epoch 88/1000\n",
      "1757/1757 [==============================] - 2s 1ms/step - loss: 0.0054 - mae: 0.0046 - val_loss: 0.0054 - val_mae: 0.0043\n",
      "Epoch 89/1000\n",
      "1757/1757 [==============================] - 2s 1ms/step - loss: 0.0054 - mae: 0.0047 - val_loss: 0.0054 - val_mae: 0.0046\n",
      "Epoch 90/1000\n",
      "1757/1757 [==============================] - 2s 1ms/step - loss: 0.0054 - mae: 0.0047 - val_loss: 0.0054 - val_mae: 0.0040\n",
      "Epoch 91/1000\n",
      "1757/1757 [==============================] - 2s 1ms/step - loss: 0.0054 - mae: 0.0046 - val_loss: 0.0053 - val_mae: 0.0042\n",
      "Epoch 92/1000\n",
      "1757/1757 [==============================] - 2s 1ms/step - loss: 0.0053 - mae: 0.0045 - val_loss: 0.0053 - val_mae: 0.0043\n",
      "Epoch 93/1000\n",
      "1757/1757 [==============================] - 2s 1ms/step - loss: 0.0053 - mae: 0.0046 - val_loss: 0.0053 - val_mae: 0.0042\n",
      "Epoch 94/1000\n",
      "1757/1757 [==============================] - 2s 1ms/step - loss: 0.0053 - mae: 0.0045 - val_loss: 0.0053 - val_mae: 0.0044\n",
      "Epoch 95/1000\n",
      "1757/1757 [==============================] - 2s 1ms/step - loss: 0.0053 - mae: 0.0046 - val_loss: 0.0052 - val_mae: 0.0043\n",
      "Epoch 96/1000\n",
      "1757/1757 [==============================] - 2s 1ms/step - loss: 0.0052 - mae: 0.0045 - val_loss: 0.0052 - val_mae: 0.0048\n",
      "Epoch 97/1000\n",
      "1757/1757 [==============================] - 2s 1ms/step - loss: 0.0052 - mae: 0.0046 - val_loss: 0.0052 - val_mae: 0.0039\n",
      "Epoch 98/1000\n",
      "1757/1757 [==============================] - 2s 1ms/step - loss: 0.0052 - mae: 0.0044 - val_loss: 0.0052 - val_mae: 0.0047\n",
      "Epoch 99/1000\n",
      "1757/1757 [==============================] - 2s 1ms/step - loss: 0.0051 - mae: 0.0045 - val_loss: 0.0051 - val_mae: 0.0040\n",
      "Epoch 100/1000\n",
      "1757/1757 [==============================] - 2s 1ms/step - loss: 0.0051 - mae: 0.0044 - val_loss: 0.0051 - val_mae: 0.0041\n",
      "Epoch 101/1000\n",
      "1757/1757 [==============================] - 2s 1ms/step - loss: 0.0051 - mae: 0.0045 - val_loss: 0.0051 - val_mae: 0.0046\n",
      "Epoch 102/1000\n",
      "1757/1757 [==============================] - 2s 1ms/step - loss: 0.0051 - mae: 0.0044 - val_loss: 0.0051 - val_mae: 0.0043\n",
      "Epoch 103/1000\n",
      "1757/1757 [==============================] - 2s 1ms/step - loss: 0.0050 - mae: 0.0045 - val_loss: 0.0050 - val_mae: 0.0041\n",
      "Epoch 104/1000\n",
      "1757/1757 [==============================] - 2s 1ms/step - loss: 0.0050 - mae: 0.0044 - val_loss: 0.0050 - val_mae: 0.0045\n",
      "Epoch 105/1000\n",
      "1757/1757 [==============================] - 2s 1ms/step - loss: 0.0050 - mae: 0.0044 - val_loss: 0.0050 - val_mae: 0.0041\n",
      "Epoch 106/1000\n",
      "1757/1757 [==============================] - 2s 1ms/step - loss: 0.0050 - mae: 0.0044 - val_loss: 0.0050 - val_mae: 0.0039\n",
      "Epoch 107/1000\n",
      "1757/1757 [==============================] - 2s 1ms/step - loss: 0.0049 - mae: 0.0044 - val_loss: 0.0049 - val_mae: 0.0043\n",
      "Epoch 108/1000\n",
      "1757/1757 [==============================] - 2s 1ms/step - loss: 0.0049 - mae: 0.0044 - val_loss: 0.0049 - val_mae: 0.0050\n",
      "Epoch 109/1000\n",
      "1757/1757 [==============================] - 2s 1ms/step - loss: 0.0049 - mae: 0.0044 - val_loss: 0.0049 - val_mae: 0.0045\n",
      "Epoch 110/1000\n",
      "1757/1757 [==============================] - 2s 1ms/step - loss: 0.0049 - mae: 0.0044 - val_loss: 0.0049 - val_mae: 0.0054\n",
      "Epoch 111/1000\n",
      "1757/1757 [==============================] - 2s 1ms/step - loss: 0.0048 - mae: 0.0043 - val_loss: 0.0048 - val_mae: 0.0041\n",
      "Epoch 112/1000\n",
      "1757/1757 [==============================] - 2s 1ms/step - loss: 0.0048 - mae: 0.0043 - val_loss: 0.0048 - val_mae: 0.0048\n",
      "Epoch 113/1000\n",
      "1757/1757 [==============================] - 2s 1ms/step - loss: 0.0048 - mae: 0.0044 - val_loss: 0.0048 - val_mae: 0.0040\n",
      "Epoch 114/1000\n",
      "1757/1757 [==============================] - 2s 1ms/step - loss: 0.0048 - mae: 0.0043 - val_loss: 0.0048 - val_mae: 0.0037\n",
      "Epoch 115/1000\n",
      "1757/1757 [==============================] - 2s 1ms/step - loss: 0.0048 - mae: 0.0043 - val_loss: 0.0047 - val_mae: 0.0043\n",
      "Epoch 116/1000\n",
      "1757/1757 [==============================] - 2s 1ms/step - loss: 0.0047 - mae: 0.0043 - val_loss: 0.0047 - val_mae: 0.0052\n",
      "Epoch 117/1000\n",
      "1757/1757 [==============================] - 2s 1ms/step - loss: 0.0047 - mae: 0.0043 - val_loss: 0.0047 - val_mae: 0.0042\n",
      "Epoch 118/1000\n",
      "1757/1757 [==============================] - 2s 1ms/step - loss: 0.0047 - mae: 0.0043 - val_loss: 0.0047 - val_mae: 0.0061\n",
      "Epoch 119/1000\n",
      "1757/1757 [==============================] - 2s 1ms/step - loss: 0.0047 - mae: 0.0043 - val_loss: 0.0046 - val_mae: 0.0045\n",
      "Epoch 120/1000\n",
      "1757/1757 [==============================] - 2s 1ms/step - loss: 0.0046 - mae: 0.0042 - val_loss: 0.0046 - val_mae: 0.0037\n",
      "Epoch 121/1000\n",
      "1757/1757 [==============================] - 2s 1ms/step - loss: 0.0046 - mae: 0.0042 - val_loss: 0.0046 - val_mae: 0.0040\n",
      "Epoch 122/1000\n",
      "1757/1757 [==============================] - 2s 1ms/step - loss: 0.0046 - mae: 0.0042 - val_loss: 0.0046 - val_mae: 0.0039\n",
      "Epoch 123/1000\n",
      "1757/1757 [==============================] - 2s 1ms/step - loss: 0.0046 - mae: 0.0042 - val_loss: 0.0046 - val_mae: 0.0040\n",
      "Epoch 124/1000\n",
      "1757/1757 [==============================] - 2s 1ms/step - loss: 0.0045 - mae: 0.0042 - val_loss: 0.0045 - val_mae: 0.0041\n",
      "Epoch 125/1000\n",
      "1757/1757 [==============================] - 2s 1ms/step - loss: 0.0045 - mae: 0.0042 - val_loss: 0.0045 - val_mae: 0.0037\n",
      "Epoch 126/1000\n",
      "1757/1757 [==============================] - 2s 1ms/step - loss: 0.0045 - mae: 0.0041 - val_loss: 0.0045 - val_mae: 0.0063\n",
      "Epoch 127/1000\n",
      "1757/1757 [==============================] - 2s 1ms/step - loss: 0.0045 - mae: 0.0041 - val_loss: 0.0045 - val_mae: 0.0049\n",
      "Epoch 128/1000\n",
      "1757/1757 [==============================] - 2s 1ms/step - loss: 0.0045 - mae: 0.0041 - val_loss: 0.0044 - val_mae: 0.0038\n",
      "Epoch 129/1000\n",
      "1757/1757 [==============================] - 2s 1ms/step - loss: 0.0044 - mae: 0.0041 - val_loss: 0.0044 - val_mae: 0.0055\n",
      "Epoch 130/1000\n",
      "1757/1757 [==============================] - 2s 1ms/step - loss: 0.0044 - mae: 0.0041 - val_loss: 0.0044 - val_mae: 0.0037\n",
      "Epoch 131/1000\n",
      "1757/1757 [==============================] - 2s 1ms/step - loss: 0.0044 - mae: 0.0041 - val_loss: 0.0044 - val_mae: 0.0056\n",
      "Epoch 132/1000\n",
      "1757/1757 [==============================] - 2s 1ms/step - loss: 0.0044 - mae: 0.0041 - val_loss: 0.0044 - val_mae: 0.0037\n",
      "Epoch 133/1000\n",
      "1757/1757 [==============================] - 2s 1ms/step - loss: 0.0043 - mae: 0.0040 - val_loss: 0.0043 - val_mae: 0.0037\n",
      "Epoch 134/1000\n",
      "1757/1757 [==============================] - 2s 1ms/step - loss: 0.0043 - mae: 0.0040 - val_loss: 0.0043 - val_mae: 0.0049\n",
      "Epoch 135/1000\n",
      "1757/1757 [==============================] - 2s 1ms/step - loss: 0.0043 - mae: 0.0041 - val_loss: 0.0043 - val_mae: 0.0042\n",
      "Epoch 136/1000\n",
      "1757/1757 [==============================] - 2s 1ms/step - loss: 0.0043 - mae: 0.0040 - val_loss: 0.0043 - val_mae: 0.0038\n",
      "Epoch 137/1000\n",
      "1757/1757 [==============================] - 2s 1ms/step - loss: 0.0043 - mae: 0.0040 - val_loss: 0.0043 - val_mae: 0.0040\n",
      "Epoch 138/1000\n",
      "1757/1757 [==============================] - 2s 1ms/step - loss: 0.0042 - mae: 0.0040 - val_loss: 0.0042 - val_mae: 0.0037\n",
      "Epoch 139/1000\n",
      "1757/1757 [==============================] - 2s 1ms/step - loss: 0.0042 - mae: 0.0039 - val_loss: 0.0042 - val_mae: 0.0036\n",
      "Epoch 140/1000\n",
      "1757/1757 [==============================] - 2s 1ms/step - loss: 0.0042 - mae: 0.0041 - val_loss: 0.0042 - val_mae: 0.0038\n",
      "Epoch 141/1000\n",
      "1757/1757 [==============================] - 2s 1ms/step - loss: 0.0042 - mae: 0.0040 - val_loss: 0.0042 - val_mae: 0.0037\n",
      "Epoch 142/1000\n",
      "1757/1757 [==============================] - 2s 1ms/step - loss: 0.0042 - mae: 0.0040 - val_loss: 0.0041 - val_mae: 0.0036\n",
      "Epoch 143/1000\n",
      "1757/1757 [==============================] - 2s 1ms/step - loss: 0.0041 - mae: 0.0039 - val_loss: 0.0041 - val_mae: 0.0036\n",
      "Epoch 144/1000\n",
      "1757/1757 [==============================] - 2s 1ms/step - loss: 0.0041 - mae: 0.0039 - val_loss: 0.0041 - val_mae: 0.0036\n",
      "Epoch 145/1000\n",
      "1757/1757 [==============================] - 2s 1ms/step - loss: 0.0041 - mae: 0.0039 - val_loss: 0.0041 - val_mae: 0.0049\n",
      "Epoch 146/1000\n",
      "1757/1757 [==============================] - 2s 1ms/step - loss: 0.0041 - mae: 0.0040 - val_loss: 0.0041 - val_mae: 0.0038\n",
      "Epoch 147/1000\n",
      "1757/1757 [==============================] - 2s 1ms/step - loss: 0.0041 - mae: 0.0039 - val_loss: 0.0040 - val_mae: 0.0033\n",
      "Epoch 148/1000\n",
      "1757/1757 [==============================] - 2s 1ms/step - loss: 0.0040 - mae: 0.0039 - val_loss: 0.0040 - val_mae: 0.0037\n",
      "Epoch 149/1000\n",
      "1757/1757 [==============================] - 2s 1ms/step - loss: 0.0040 - mae: 0.0039 - val_loss: 0.0040 - val_mae: 0.0039\n",
      "Epoch 150/1000\n",
      "1757/1757 [==============================] - 2s 1ms/step - loss: 0.0040 - mae: 0.0040 - val_loss: 0.0040 - val_mae: 0.0044\n",
      "Epoch 151/1000\n",
      "1757/1757 [==============================] - 2s 1ms/step - loss: 0.0040 - mae: 0.0039 - val_loss: 0.0040 - val_mae: 0.0038\n",
      "Epoch 152/1000\n",
      "1757/1757 [==============================] - 2s 1ms/step - loss: 0.0040 - mae: 0.0039 - val_loss: 0.0039 - val_mae: 0.0037\n",
      "Epoch 153/1000\n",
      "1757/1757 [==============================] - 2s 1ms/step - loss: 0.0039 - mae: 0.0039 - val_loss: 0.0039 - val_mae: 0.0048\n",
      "Epoch 154/1000\n",
      "1757/1757 [==============================] - 2s 1ms/step - loss: 0.0039 - mae: 0.0039 - val_loss: 0.0039 - val_mae: 0.0034\n",
      "Epoch 155/1000\n",
      "1757/1757 [==============================] - 2s 1ms/step - loss: 0.0039 - mae: 0.0039 - val_loss: 0.0039 - val_mae: 0.0037\n",
      "Epoch 156/1000\n",
      "1757/1757 [==============================] - 2s 1ms/step - loss: 0.0039 - mae: 0.0039 - val_loss: 0.0039 - val_mae: 0.0034\n",
      "Epoch 157/1000\n",
      "1757/1757 [==============================] - 2s 1ms/step - loss: 0.0039 - mae: 0.0038 - val_loss: 0.0038 - val_mae: 0.0035\n",
      "Epoch 158/1000\n",
      "1757/1757 [==============================] - 2s 1ms/step - loss: 0.0038 - mae: 0.0039 - val_loss: 0.0038 - val_mae: 0.0036\n",
      "Epoch 159/1000\n",
      "1757/1757 [==============================] - 2s 1ms/step - loss: 0.0038 - mae: 0.0038 - val_loss: 0.0038 - val_mae: 0.0045\n",
      "Epoch 160/1000\n",
      "1757/1757 [==============================] - 2s 1ms/step - loss: 0.0038 - mae: 0.0038 - val_loss: 0.0038 - val_mae: 0.0035\n",
      "Epoch 161/1000\n",
      "1757/1757 [==============================] - 2s 1ms/step - loss: 0.0038 - mae: 0.0037 - val_loss: 0.0038 - val_mae: 0.0037\n",
      "Epoch 162/1000\n",
      "1757/1757 [==============================] - 2s 1ms/step - loss: 0.0038 - mae: 0.0038 - val_loss: 0.0038 - val_mae: 0.0034\n",
      "Epoch 163/1000\n",
      "1757/1757 [==============================] - 2s 1ms/step - loss: 0.0037 - mae: 0.0037 - val_loss: 0.0038 - val_mae: 0.0058\n",
      "Epoch 164/1000\n",
      "1757/1757 [==============================] - 2s 1ms/step - loss: 0.0037 - mae: 0.0038 - val_loss: 0.0037 - val_mae: 0.0039\n",
      "Epoch 165/1000\n",
      "1757/1757 [==============================] - 2s 1ms/step - loss: 0.0037 - mae: 0.0038 - val_loss: 0.0037 - val_mae: 0.0033\n",
      "Epoch 166/1000\n",
      "1757/1757 [==============================] - 2s 1ms/step - loss: 0.0037 - mae: 0.0038 - val_loss: 0.0037 - val_mae: 0.0034\n",
      "Epoch 167/1000\n",
      "1757/1757 [==============================] - 2s 1ms/step - loss: 0.0037 - mae: 0.0038 - val_loss: 0.0037 - val_mae: 0.0043\n",
      "Epoch 168/1000\n",
      "1757/1757 [==============================] - 2s 1ms/step - loss: 0.0037 - mae: 0.0038 - val_loss: 0.0037 - val_mae: 0.0055\n",
      "Epoch 169/1000\n",
      "1757/1757 [==============================] - 3s 1ms/step - loss: 0.0036 - mae: 0.0038 - val_loss: 0.0036 - val_mae: 0.0039\n",
      "Epoch 170/1000\n",
      "1757/1757 [==============================] - 2s 1ms/step - loss: 0.0036 - mae: 0.0037 - val_loss: 0.0036 - val_mae: 0.0031\n",
      "Epoch 171/1000\n",
      "1757/1757 [==============================] - 2s 1ms/step - loss: 0.0036 - mae: 0.0037 - val_loss: 0.0036 - val_mae: 0.0037\n",
      "Epoch 172/1000\n",
      "1757/1757 [==============================] - 2s 1ms/step - loss: 0.0036 - mae: 0.0037 - val_loss: 0.0036 - val_mae: 0.0033\n",
      "Epoch 173/1000\n",
      "1757/1757 [==============================] - 2s 1ms/step - loss: 0.0036 - mae: 0.0038 - val_loss: 0.0036 - val_mae: 0.0035\n",
      "Epoch 174/1000\n",
      "1757/1757 [==============================] - 2s 1ms/step - loss: 0.0035 - mae: 0.0038 - val_loss: 0.0035 - val_mae: 0.0033\n",
      "Epoch 175/1000\n",
      "1757/1757 [==============================] - 2s 1ms/step - loss: 0.0035 - mae: 0.0036 - val_loss: 0.0035 - val_mae: 0.0041\n",
      "Epoch 176/1000\n",
      "1757/1757 [==============================] - 2s 1ms/step - loss: 0.0035 - mae: 0.0037 - val_loss: 0.0035 - val_mae: 0.0036\n",
      "Epoch 177/1000\n",
      "1757/1757 [==============================] - 2s 1ms/step - loss: 0.0035 - mae: 0.0037 - val_loss: 0.0035 - val_mae: 0.0032\n",
      "Epoch 178/1000\n",
      "1757/1757 [==============================] - 2s 1ms/step - loss: 0.0035 - mae: 0.0037 - val_loss: 0.0035 - val_mae: 0.0033\n",
      "Epoch 179/1000\n",
      "1757/1757 [==============================] - 2s 1ms/step - loss: 0.0035 - mae: 0.0037 - val_loss: 0.0035 - val_mae: 0.0035\n",
      "Epoch 180/1000\n",
      "1757/1757 [==============================] - 2s 1ms/step - loss: 0.0034 - mae: 0.0037 - val_loss: 0.0034 - val_mae: 0.0036\n",
      "Epoch 181/1000\n",
      "1757/1757 [==============================] - 2s 1ms/step - loss: 0.0034 - mae: 0.0036 - val_loss: 0.0034 - val_mae: 0.0042\n",
      "Epoch 182/1000\n",
      "1695/1757 [===========================>..] - ETA: 0s - loss: 0.0034 - mae: 0.0036"
     ]
    },
    {
     "ename": "KeyboardInterrupt",
     "evalue": "",
     "output_type": "error",
     "traceback": [
      "\u001B[1;31m---------------------------------------------------------------------------\u001B[0m",
      "\u001B[1;31mKeyboardInterrupt\u001B[0m                         Traceback (most recent call last)",
      "Cell \u001B[1;32mIn[13], line 36\u001B[0m\n\u001B[0;32m     33\u001B[0m early_stopping \u001B[38;5;241m=\u001B[39m EarlyStopping(monitor\u001B[38;5;241m=\u001B[39m\u001B[38;5;124m'\u001B[39m\u001B[38;5;124mval_loss\u001B[39m\u001B[38;5;124m'\u001B[39m, patience\u001B[38;5;241m=\u001B[39m\u001B[38;5;241m5\u001B[39m, verbose\u001B[38;5;241m=\u001B[39m\u001B[38;5;241m1\u001B[39m, mode\u001B[38;5;241m=\u001B[39m\u001B[38;5;124m'\u001B[39m\u001B[38;5;124mmin\u001B[39m\u001B[38;5;124m'\u001B[39m, restore_best_weights\u001B[38;5;241m=\u001B[39m\u001B[38;5;28;01mTrue\u001B[39;00m)\n\u001B[0;32m     35\u001B[0m \u001B[38;5;28mprint\u001B[39m(\u001B[38;5;124mf\u001B[39m\u001B[38;5;124m'\u001B[39m\u001B[38;5;124mTraining für Fold \u001B[39m\u001B[38;5;132;01m{\u001B[39;00mfold_no\u001B[38;5;132;01m}\u001B[39;00m\u001B[38;5;124m...\u001B[39m\u001B[38;5;124m'\u001B[39m)\n\u001B[1;32m---> 36\u001B[0m history \u001B[38;5;241m=\u001B[39m \u001B[43mmodel\u001B[49m\u001B[38;5;241;43m.\u001B[39;49m\u001B[43mfit\u001B[49m\u001B[43m(\u001B[49m\u001B[43mX_train_fold\u001B[49m\u001B[43m,\u001B[49m\u001B[43m \u001B[49m\u001B[43my_train_fold\u001B[49m\u001B[43m,\u001B[49m\u001B[43m \u001B[49m\u001B[43mbatch_size\u001B[49m\u001B[38;5;241;43m=\u001B[39;49m\u001B[38;5;241;43m16\u001B[39;49m\u001B[43m,\u001B[49m\u001B[43m \u001B[49m\u001B[43mepochs\u001B[49m\u001B[38;5;241;43m=\u001B[39;49m\u001B[38;5;241;43m1000\u001B[39;49m\u001B[43m,\u001B[49m\u001B[43m \u001B[49m\u001B[43mvalidation_data\u001B[49m\u001B[38;5;241;43m=\u001B[39;49m\u001B[43m(\u001B[49m\u001B[43mX_val_fold\u001B[49m\u001B[43m,\u001B[49m\u001B[43m \u001B[49m\u001B[43my_val_fold\u001B[49m\u001B[43m)\u001B[49m\u001B[43m,\u001B[49m\u001B[43m \u001B[49m\u001B[43mcallbacks\u001B[49m\u001B[38;5;241;43m=\u001B[39;49m\u001B[43m[\u001B[49m\u001B[43mearly_stopping\u001B[49m\u001B[43m]\u001B[49m\u001B[43m,\u001B[49m\u001B[43m \u001B[49m\u001B[43mverbose\u001B[49m\u001B[38;5;241;43m=\u001B[39;49m\u001B[38;5;241;43m1\u001B[39;49m\u001B[43m)\u001B[49m\n\u001B[0;32m     38\u001B[0m \u001B[38;5;66;03m# Speichere die Ergebnisse des aktuellen Folds\u001B[39;00m\n\u001B[0;32m     39\u001B[0m val_loss_results\u001B[38;5;241m.\u001B[39mappend(\u001B[38;5;28mmin\u001B[39m(history\u001B[38;5;241m.\u001B[39mhistory[\u001B[38;5;124m'\u001B[39m\u001B[38;5;124mval_loss\u001B[39m\u001B[38;5;124m'\u001B[39m]))\n",
      "File \u001B[1;32m~\\Desktop\\Diplomarbeit Erik Marr\\Projekt X\\venv\\Lib\\site-packages\\keras\\src\\utils\\traceback_utils.py:65\u001B[0m, in \u001B[0;36mfilter_traceback.<locals>.error_handler\u001B[1;34m(*args, **kwargs)\u001B[0m\n\u001B[0;32m     63\u001B[0m filtered_tb \u001B[38;5;241m=\u001B[39m \u001B[38;5;28;01mNone\u001B[39;00m\n\u001B[0;32m     64\u001B[0m \u001B[38;5;28;01mtry\u001B[39;00m:\n\u001B[1;32m---> 65\u001B[0m     \u001B[38;5;28;01mreturn\u001B[39;00m \u001B[43mfn\u001B[49m\u001B[43m(\u001B[49m\u001B[38;5;241;43m*\u001B[39;49m\u001B[43margs\u001B[49m\u001B[43m,\u001B[49m\u001B[43m \u001B[49m\u001B[38;5;241;43m*\u001B[39;49m\u001B[38;5;241;43m*\u001B[39;49m\u001B[43mkwargs\u001B[49m\u001B[43m)\u001B[49m\n\u001B[0;32m     66\u001B[0m \u001B[38;5;28;01mexcept\u001B[39;00m \u001B[38;5;167;01mException\u001B[39;00m \u001B[38;5;28;01mas\u001B[39;00m e:\n\u001B[0;32m     67\u001B[0m     filtered_tb \u001B[38;5;241m=\u001B[39m _process_traceback_frames(e\u001B[38;5;241m.\u001B[39m__traceback__)\n",
      "File \u001B[1;32m~\\Desktop\\Diplomarbeit Erik Marr\\Projekt X\\venv\\Lib\\site-packages\\keras\\src\\engine\\training.py:1856\u001B[0m, in \u001B[0;36mModel.fit\u001B[1;34m(self, x, y, batch_size, epochs, verbose, callbacks, validation_split, validation_data, shuffle, class_weight, sample_weight, initial_epoch, steps_per_epoch, validation_steps, validation_batch_size, validation_freq, max_queue_size, workers, use_multiprocessing)\u001B[0m\n\u001B[0;32m   1840\u001B[0m \u001B[38;5;28;01mif\u001B[39;00m \u001B[38;5;28mgetattr\u001B[39m(\u001B[38;5;28mself\u001B[39m, \u001B[38;5;124m\"\u001B[39m\u001B[38;5;124m_eval_data_handler\u001B[39m\u001B[38;5;124m\"\u001B[39m, \u001B[38;5;28;01mNone\u001B[39;00m) \u001B[38;5;129;01mis\u001B[39;00m \u001B[38;5;28;01mNone\u001B[39;00m:\n\u001B[0;32m   1841\u001B[0m     \u001B[38;5;28mself\u001B[39m\u001B[38;5;241m.\u001B[39m_eval_data_handler \u001B[38;5;241m=\u001B[39m data_adapter\u001B[38;5;241m.\u001B[39mget_data_handler(\n\u001B[0;32m   1842\u001B[0m         x\u001B[38;5;241m=\u001B[39mval_x,\n\u001B[0;32m   1843\u001B[0m         y\u001B[38;5;241m=\u001B[39mval_y,\n\u001B[1;32m   (...)\u001B[0m\n\u001B[0;32m   1854\u001B[0m         pss_evaluation_shards\u001B[38;5;241m=\u001B[39m\u001B[38;5;28mself\u001B[39m\u001B[38;5;241m.\u001B[39m_pss_evaluation_shards,\n\u001B[0;32m   1855\u001B[0m     )\n\u001B[1;32m-> 1856\u001B[0m val_logs \u001B[38;5;241m=\u001B[39m \u001B[38;5;28;43mself\u001B[39;49m\u001B[38;5;241;43m.\u001B[39;49m\u001B[43mevaluate\u001B[49m\u001B[43m(\u001B[49m\n\u001B[0;32m   1857\u001B[0m \u001B[43m    \u001B[49m\u001B[43mx\u001B[49m\u001B[38;5;241;43m=\u001B[39;49m\u001B[43mval_x\u001B[49m\u001B[43m,\u001B[49m\n\u001B[0;32m   1858\u001B[0m \u001B[43m    \u001B[49m\u001B[43my\u001B[49m\u001B[38;5;241;43m=\u001B[39;49m\u001B[43mval_y\u001B[49m\u001B[43m,\u001B[49m\n\u001B[0;32m   1859\u001B[0m \u001B[43m    \u001B[49m\u001B[43msample_weight\u001B[49m\u001B[38;5;241;43m=\u001B[39;49m\u001B[43mval_sample_weight\u001B[49m\u001B[43m,\u001B[49m\n\u001B[0;32m   1860\u001B[0m \u001B[43m    \u001B[49m\u001B[43mbatch_size\u001B[49m\u001B[38;5;241;43m=\u001B[39;49m\u001B[43mvalidation_batch_size\u001B[49m\u001B[43m \u001B[49m\u001B[38;5;129;43;01mor\u001B[39;49;00m\u001B[43m \u001B[49m\u001B[43mbatch_size\u001B[49m\u001B[43m,\u001B[49m\n\u001B[0;32m   1861\u001B[0m \u001B[43m    \u001B[49m\u001B[43msteps\u001B[49m\u001B[38;5;241;43m=\u001B[39;49m\u001B[43mvalidation_steps\u001B[49m\u001B[43m,\u001B[49m\n\u001B[0;32m   1862\u001B[0m \u001B[43m    \u001B[49m\u001B[43mcallbacks\u001B[49m\u001B[38;5;241;43m=\u001B[39;49m\u001B[43mcallbacks\u001B[49m\u001B[43m,\u001B[49m\n\u001B[0;32m   1863\u001B[0m \u001B[43m    \u001B[49m\u001B[43mmax_queue_size\u001B[49m\u001B[38;5;241;43m=\u001B[39;49m\u001B[43mmax_queue_size\u001B[49m\u001B[43m,\u001B[49m\n\u001B[0;32m   1864\u001B[0m \u001B[43m    \u001B[49m\u001B[43mworkers\u001B[49m\u001B[38;5;241;43m=\u001B[39;49m\u001B[43mworkers\u001B[49m\u001B[43m,\u001B[49m\n\u001B[0;32m   1865\u001B[0m \u001B[43m    \u001B[49m\u001B[43muse_multiprocessing\u001B[49m\u001B[38;5;241;43m=\u001B[39;49m\u001B[43muse_multiprocessing\u001B[49m\u001B[43m,\u001B[49m\n\u001B[0;32m   1866\u001B[0m \u001B[43m    \u001B[49m\u001B[43mreturn_dict\u001B[49m\u001B[38;5;241;43m=\u001B[39;49m\u001B[38;5;28;43;01mTrue\u001B[39;49;00m\u001B[43m,\u001B[49m\n\u001B[0;32m   1867\u001B[0m \u001B[43m    \u001B[49m\u001B[43m_use_cached_eval_dataset\u001B[49m\u001B[38;5;241;43m=\u001B[39;49m\u001B[38;5;28;43;01mTrue\u001B[39;49;00m\u001B[43m,\u001B[49m\n\u001B[0;32m   1868\u001B[0m \u001B[43m\u001B[49m\u001B[43m)\u001B[49m\n\u001B[0;32m   1869\u001B[0m val_logs \u001B[38;5;241m=\u001B[39m {\n\u001B[0;32m   1870\u001B[0m     \u001B[38;5;124m\"\u001B[39m\u001B[38;5;124mval_\u001B[39m\u001B[38;5;124m\"\u001B[39m \u001B[38;5;241m+\u001B[39m name: val \u001B[38;5;28;01mfor\u001B[39;00m name, val \u001B[38;5;129;01min\u001B[39;00m val_logs\u001B[38;5;241m.\u001B[39mitems()\n\u001B[0;32m   1871\u001B[0m }\n\u001B[0;32m   1872\u001B[0m epoch_logs\u001B[38;5;241m.\u001B[39mupdate(val_logs)\n",
      "File \u001B[1;32m~\\Desktop\\Diplomarbeit Erik Marr\\Projekt X\\venv\\Lib\\site-packages\\keras\\src\\utils\\traceback_utils.py:65\u001B[0m, in \u001B[0;36mfilter_traceback.<locals>.error_handler\u001B[1;34m(*args, **kwargs)\u001B[0m\n\u001B[0;32m     63\u001B[0m filtered_tb \u001B[38;5;241m=\u001B[39m \u001B[38;5;28;01mNone\u001B[39;00m\n\u001B[0;32m     64\u001B[0m \u001B[38;5;28;01mtry\u001B[39;00m:\n\u001B[1;32m---> 65\u001B[0m     \u001B[38;5;28;01mreturn\u001B[39;00m \u001B[43mfn\u001B[49m\u001B[43m(\u001B[49m\u001B[38;5;241;43m*\u001B[39;49m\u001B[43margs\u001B[49m\u001B[43m,\u001B[49m\u001B[43m \u001B[49m\u001B[38;5;241;43m*\u001B[39;49m\u001B[38;5;241;43m*\u001B[39;49m\u001B[43mkwargs\u001B[49m\u001B[43m)\u001B[49m\n\u001B[0;32m     66\u001B[0m \u001B[38;5;28;01mexcept\u001B[39;00m \u001B[38;5;167;01mException\u001B[39;00m \u001B[38;5;28;01mas\u001B[39;00m e:\n\u001B[0;32m     67\u001B[0m     filtered_tb \u001B[38;5;241m=\u001B[39m _process_traceback_frames(e\u001B[38;5;241m.\u001B[39m__traceback__)\n",
      "File \u001B[1;32m~\\Desktop\\Diplomarbeit Erik Marr\\Projekt X\\venv\\Lib\\site-packages\\keras\\src\\engine\\training.py:2296\u001B[0m, in \u001B[0;36mModel.evaluate\u001B[1;34m(self, x, y, batch_size, verbose, sample_weight, steps, callbacks, max_queue_size, workers, use_multiprocessing, return_dict, **kwargs)\u001B[0m\n\u001B[0;32m   2292\u001B[0m             \u001B[38;5;28;01mwith\u001B[39;00m tf\u001B[38;5;241m.\u001B[39mprofiler\u001B[38;5;241m.\u001B[39mexperimental\u001B[38;5;241m.\u001B[39mTrace(\n\u001B[0;32m   2293\u001B[0m                 \u001B[38;5;124m\"\u001B[39m\u001B[38;5;124mtest\u001B[39m\u001B[38;5;124m\"\u001B[39m, step_num\u001B[38;5;241m=\u001B[39mstep, _r\u001B[38;5;241m=\u001B[39m\u001B[38;5;241m1\u001B[39m\n\u001B[0;32m   2294\u001B[0m             ):\n\u001B[0;32m   2295\u001B[0m                 callbacks\u001B[38;5;241m.\u001B[39mon_test_batch_begin(step)\n\u001B[1;32m-> 2296\u001B[0m                 logs \u001B[38;5;241m=\u001B[39m \u001B[43mtest_function_runner\u001B[49m\u001B[38;5;241;43m.\u001B[39;49m\u001B[43mrun_step\u001B[49m\u001B[43m(\u001B[49m\n\u001B[0;32m   2297\u001B[0m \u001B[43m                    \u001B[49m\u001B[43mdataset_or_iterator\u001B[49m\u001B[43m,\u001B[49m\n\u001B[0;32m   2298\u001B[0m \u001B[43m                    \u001B[49m\u001B[43mdata_handler\u001B[49m\u001B[43m,\u001B[49m\n\u001B[0;32m   2299\u001B[0m \u001B[43m                    \u001B[49m\u001B[43mstep\u001B[49m\u001B[43m,\u001B[49m\n\u001B[0;32m   2300\u001B[0m \u001B[43m                    \u001B[49m\u001B[38;5;28;43mself\u001B[39;49m\u001B[38;5;241;43m.\u001B[39;49m\u001B[43m_pss_evaluation_shards\u001B[49m\u001B[43m,\u001B[49m\n\u001B[0;32m   2301\u001B[0m \u001B[43m                \u001B[49m\u001B[43m)\u001B[49m\n\u001B[0;32m   2303\u001B[0m logs \u001B[38;5;241m=\u001B[39m tf_utils\u001B[38;5;241m.\u001B[39msync_to_numpy_or_python_type(logs)\n\u001B[0;32m   2304\u001B[0m \u001B[38;5;66;03m# Override with model metrics instead of last step logs\u001B[39;00m\n",
      "File \u001B[1;32m~\\Desktop\\Diplomarbeit Erik Marr\\Projekt X\\venv\\Lib\\site-packages\\keras\\src\\engine\\training.py:4108\u001B[0m, in \u001B[0;36m_TestFunction.run_step\u001B[1;34m(self, dataset_or_iterator, data_handler, step, unused_shards)\u001B[0m\n\u001B[0;32m   4107\u001B[0m \u001B[38;5;28;01mdef\u001B[39;00m \u001B[38;5;21mrun_step\u001B[39m(\u001B[38;5;28mself\u001B[39m, dataset_or_iterator, data_handler, step, unused_shards):\n\u001B[1;32m-> 4108\u001B[0m     tmp_logs \u001B[38;5;241m=\u001B[39m \u001B[38;5;28;43mself\u001B[39;49m\u001B[38;5;241;43m.\u001B[39;49m\u001B[43m_function\u001B[49m\u001B[43m(\u001B[49m\u001B[43mdataset_or_iterator\u001B[49m\u001B[43m)\u001B[49m\n\u001B[0;32m   4109\u001B[0m     \u001B[38;5;28;01mif\u001B[39;00m data_handler\u001B[38;5;241m.\u001B[39mshould_sync:\n\u001B[0;32m   4110\u001B[0m         context\u001B[38;5;241m.\u001B[39masync_wait()\n",
      "File \u001B[1;32m~\\Desktop\\Diplomarbeit Erik Marr\\Projekt X\\venv\\Lib\\site-packages\\tensorflow\\python\\util\\traceback_utils.py:150\u001B[0m, in \u001B[0;36mfilter_traceback.<locals>.error_handler\u001B[1;34m(*args, **kwargs)\u001B[0m\n\u001B[0;32m    148\u001B[0m filtered_tb \u001B[38;5;241m=\u001B[39m \u001B[38;5;28;01mNone\u001B[39;00m\n\u001B[0;32m    149\u001B[0m \u001B[38;5;28;01mtry\u001B[39;00m:\n\u001B[1;32m--> 150\u001B[0m   \u001B[38;5;28;01mreturn\u001B[39;00m \u001B[43mfn\u001B[49m\u001B[43m(\u001B[49m\u001B[38;5;241;43m*\u001B[39;49m\u001B[43margs\u001B[49m\u001B[43m,\u001B[49m\u001B[43m \u001B[49m\u001B[38;5;241;43m*\u001B[39;49m\u001B[38;5;241;43m*\u001B[39;49m\u001B[43mkwargs\u001B[49m\u001B[43m)\u001B[49m\n\u001B[0;32m    151\u001B[0m \u001B[38;5;28;01mexcept\u001B[39;00m \u001B[38;5;167;01mException\u001B[39;00m \u001B[38;5;28;01mas\u001B[39;00m e:\n\u001B[0;32m    152\u001B[0m   filtered_tb \u001B[38;5;241m=\u001B[39m _process_traceback_frames(e\u001B[38;5;241m.\u001B[39m__traceback__)\n",
      "File \u001B[1;32m~\\Desktop\\Diplomarbeit Erik Marr\\Projekt X\\venv\\Lib\\site-packages\\tensorflow\\python\\eager\\polymorphic_function\\polymorphic_function.py:832\u001B[0m, in \u001B[0;36mFunction.__call__\u001B[1;34m(self, *args, **kwds)\u001B[0m\n\u001B[0;32m    829\u001B[0m compiler \u001B[38;5;241m=\u001B[39m \u001B[38;5;124m\"\u001B[39m\u001B[38;5;124mxla\u001B[39m\u001B[38;5;124m\"\u001B[39m \u001B[38;5;28;01mif\u001B[39;00m \u001B[38;5;28mself\u001B[39m\u001B[38;5;241m.\u001B[39m_jit_compile \u001B[38;5;28;01melse\u001B[39;00m \u001B[38;5;124m\"\u001B[39m\u001B[38;5;124mnonXla\u001B[39m\u001B[38;5;124m\"\u001B[39m\n\u001B[0;32m    831\u001B[0m \u001B[38;5;28;01mwith\u001B[39;00m OptionalXlaContext(\u001B[38;5;28mself\u001B[39m\u001B[38;5;241m.\u001B[39m_jit_compile):\n\u001B[1;32m--> 832\u001B[0m   result \u001B[38;5;241m=\u001B[39m \u001B[38;5;28;43mself\u001B[39;49m\u001B[38;5;241;43m.\u001B[39;49m\u001B[43m_call\u001B[49m\u001B[43m(\u001B[49m\u001B[38;5;241;43m*\u001B[39;49m\u001B[43margs\u001B[49m\u001B[43m,\u001B[49m\u001B[43m \u001B[49m\u001B[38;5;241;43m*\u001B[39;49m\u001B[38;5;241;43m*\u001B[39;49m\u001B[43mkwds\u001B[49m\u001B[43m)\u001B[49m\n\u001B[0;32m    834\u001B[0m new_tracing_count \u001B[38;5;241m=\u001B[39m \u001B[38;5;28mself\u001B[39m\u001B[38;5;241m.\u001B[39mexperimental_get_tracing_count()\n\u001B[0;32m    835\u001B[0m without_tracing \u001B[38;5;241m=\u001B[39m (tracing_count \u001B[38;5;241m==\u001B[39m new_tracing_count)\n",
      "File \u001B[1;32m~\\Desktop\\Diplomarbeit Erik Marr\\Projekt X\\venv\\Lib\\site-packages\\tensorflow\\python\\eager\\polymorphic_function\\polymorphic_function.py:877\u001B[0m, in \u001B[0;36mFunction._call\u001B[1;34m(self, *args, **kwds)\u001B[0m\n\u001B[0;32m    874\u001B[0m \u001B[38;5;28mself\u001B[39m\u001B[38;5;241m.\u001B[39m_lock\u001B[38;5;241m.\u001B[39mrelease()\n\u001B[0;32m    875\u001B[0m \u001B[38;5;66;03m# In this case we have not created variables on the first call. So we can\u001B[39;00m\n\u001B[0;32m    876\u001B[0m \u001B[38;5;66;03m# run the first trace but we should fail if variables are created.\u001B[39;00m\n\u001B[1;32m--> 877\u001B[0m results \u001B[38;5;241m=\u001B[39m \u001B[43mtracing_compilation\u001B[49m\u001B[38;5;241;43m.\u001B[39;49m\u001B[43mcall_function\u001B[49m\u001B[43m(\u001B[49m\n\u001B[0;32m    878\u001B[0m \u001B[43m    \u001B[49m\u001B[43margs\u001B[49m\u001B[43m,\u001B[49m\u001B[43m \u001B[49m\u001B[43mkwds\u001B[49m\u001B[43m,\u001B[49m\u001B[43m \u001B[49m\u001B[38;5;28;43mself\u001B[39;49m\u001B[38;5;241;43m.\u001B[39;49m\u001B[43m_variable_creation_config\u001B[49m\n\u001B[0;32m    879\u001B[0m \u001B[43m\u001B[49m\u001B[43m)\u001B[49m\n\u001B[0;32m    880\u001B[0m \u001B[38;5;28;01mif\u001B[39;00m \u001B[38;5;28mself\u001B[39m\u001B[38;5;241m.\u001B[39m_created_variables:\n\u001B[0;32m    881\u001B[0m   \u001B[38;5;28;01mraise\u001B[39;00m \u001B[38;5;167;01mValueError\u001B[39;00m(\u001B[38;5;124m\"\u001B[39m\u001B[38;5;124mCreating variables on a non-first call to a function\u001B[39m\u001B[38;5;124m\"\u001B[39m\n\u001B[0;32m    882\u001B[0m                    \u001B[38;5;124m\"\u001B[39m\u001B[38;5;124m decorated with tf.function.\u001B[39m\u001B[38;5;124m\"\u001B[39m)\n",
      "File \u001B[1;32m~\\Desktop\\Diplomarbeit Erik Marr\\Projekt X\\venv\\Lib\\site-packages\\tensorflow\\python\\eager\\polymorphic_function\\tracing_compilation.py:139\u001B[0m, in \u001B[0;36mcall_function\u001B[1;34m(args, kwargs, tracing_options)\u001B[0m\n\u001B[0;32m    137\u001B[0m bound_args \u001B[38;5;241m=\u001B[39m function\u001B[38;5;241m.\u001B[39mfunction_type\u001B[38;5;241m.\u001B[39mbind(\u001B[38;5;241m*\u001B[39margs, \u001B[38;5;241m*\u001B[39m\u001B[38;5;241m*\u001B[39mkwargs)\n\u001B[0;32m    138\u001B[0m flat_inputs \u001B[38;5;241m=\u001B[39m function\u001B[38;5;241m.\u001B[39mfunction_type\u001B[38;5;241m.\u001B[39munpack_inputs(bound_args)\n\u001B[1;32m--> 139\u001B[0m \u001B[38;5;28;01mreturn\u001B[39;00m \u001B[43mfunction\u001B[49m\u001B[38;5;241;43m.\u001B[39;49m\u001B[43m_call_flat\u001B[49m\u001B[43m(\u001B[49m\u001B[43m  \u001B[49m\u001B[38;5;66;43;03m# pylint: disable=protected-access\u001B[39;49;00m\n\u001B[0;32m    140\u001B[0m \u001B[43m    \u001B[49m\u001B[43mflat_inputs\u001B[49m\u001B[43m,\u001B[49m\u001B[43m \u001B[49m\u001B[43mcaptured_inputs\u001B[49m\u001B[38;5;241;43m=\u001B[39;49m\u001B[43mfunction\u001B[49m\u001B[38;5;241;43m.\u001B[39;49m\u001B[43mcaptured_inputs\u001B[49m\n\u001B[0;32m    141\u001B[0m \u001B[43m\u001B[49m\u001B[43m)\u001B[49m\n",
      "File \u001B[1;32m~\\Desktop\\Diplomarbeit Erik Marr\\Projekt X\\venv\\Lib\\site-packages\\tensorflow\\python\\eager\\polymorphic_function\\concrete_function.py:1323\u001B[0m, in \u001B[0;36mConcreteFunction._call_flat\u001B[1;34m(self, tensor_inputs, captured_inputs)\u001B[0m\n\u001B[0;32m   1319\u001B[0m possible_gradient_type \u001B[38;5;241m=\u001B[39m gradients_util\u001B[38;5;241m.\u001B[39mPossibleTapeGradientTypes(args)\n\u001B[0;32m   1320\u001B[0m \u001B[38;5;28;01mif\u001B[39;00m (possible_gradient_type \u001B[38;5;241m==\u001B[39m gradients_util\u001B[38;5;241m.\u001B[39mPOSSIBLE_GRADIENT_TYPES_NONE\n\u001B[0;32m   1321\u001B[0m     \u001B[38;5;129;01mand\u001B[39;00m executing_eagerly):\n\u001B[0;32m   1322\u001B[0m   \u001B[38;5;66;03m# No tape is watching; skip to running the function.\u001B[39;00m\n\u001B[1;32m-> 1323\u001B[0m   \u001B[38;5;28;01mreturn\u001B[39;00m \u001B[38;5;28;43mself\u001B[39;49m\u001B[38;5;241;43m.\u001B[39;49m\u001B[43m_inference_function\u001B[49m\u001B[38;5;241;43m.\u001B[39;49m\u001B[43mcall_preflattened\u001B[49m\u001B[43m(\u001B[49m\u001B[43margs\u001B[49m\u001B[43m)\u001B[49m\n\u001B[0;32m   1324\u001B[0m forward_backward \u001B[38;5;241m=\u001B[39m \u001B[38;5;28mself\u001B[39m\u001B[38;5;241m.\u001B[39m_select_forward_and_backward_functions(\n\u001B[0;32m   1325\u001B[0m     args,\n\u001B[0;32m   1326\u001B[0m     possible_gradient_type,\n\u001B[0;32m   1327\u001B[0m     executing_eagerly)\n\u001B[0;32m   1328\u001B[0m forward_function, args_with_tangents \u001B[38;5;241m=\u001B[39m forward_backward\u001B[38;5;241m.\u001B[39mforward()\n",
      "File \u001B[1;32m~\\Desktop\\Diplomarbeit Erik Marr\\Projekt X\\venv\\Lib\\site-packages\\tensorflow\\python\\eager\\polymorphic_function\\atomic_function.py:216\u001B[0m, in \u001B[0;36mAtomicFunction.call_preflattened\u001B[1;34m(self, args)\u001B[0m\n\u001B[0;32m    214\u001B[0m \u001B[38;5;28;01mdef\u001B[39;00m \u001B[38;5;21mcall_preflattened\u001B[39m(\u001B[38;5;28mself\u001B[39m, args: Sequence[core\u001B[38;5;241m.\u001B[39mTensor]) \u001B[38;5;241m-\u001B[39m\u001B[38;5;241m>\u001B[39m Any:\n\u001B[0;32m    215\u001B[0m \u001B[38;5;250m  \u001B[39m\u001B[38;5;124;03m\"\"\"Calls with flattened tensor inputs and returns the structured output.\"\"\"\u001B[39;00m\n\u001B[1;32m--> 216\u001B[0m   flat_outputs \u001B[38;5;241m=\u001B[39m \u001B[38;5;28;43mself\u001B[39;49m\u001B[38;5;241;43m.\u001B[39;49m\u001B[43mcall_flat\u001B[49m\u001B[43m(\u001B[49m\u001B[38;5;241;43m*\u001B[39;49m\u001B[43margs\u001B[49m\u001B[43m)\u001B[49m\n\u001B[0;32m    217\u001B[0m   \u001B[38;5;28;01mreturn\u001B[39;00m \u001B[38;5;28mself\u001B[39m\u001B[38;5;241m.\u001B[39mfunction_type\u001B[38;5;241m.\u001B[39mpack_output(flat_outputs)\n",
      "File \u001B[1;32m~\\Desktop\\Diplomarbeit Erik Marr\\Projekt X\\venv\\Lib\\site-packages\\tensorflow\\python\\eager\\polymorphic_function\\atomic_function.py:251\u001B[0m, in \u001B[0;36mAtomicFunction.call_flat\u001B[1;34m(self, *args)\u001B[0m\n\u001B[0;32m    249\u001B[0m \u001B[38;5;28;01mwith\u001B[39;00m record\u001B[38;5;241m.\u001B[39mstop_recording():\n\u001B[0;32m    250\u001B[0m   \u001B[38;5;28;01mif\u001B[39;00m \u001B[38;5;28mself\u001B[39m\u001B[38;5;241m.\u001B[39m_bound_context\u001B[38;5;241m.\u001B[39mexecuting_eagerly():\n\u001B[1;32m--> 251\u001B[0m     outputs \u001B[38;5;241m=\u001B[39m \u001B[38;5;28;43mself\u001B[39;49m\u001B[38;5;241;43m.\u001B[39;49m\u001B[43m_bound_context\u001B[49m\u001B[38;5;241;43m.\u001B[39;49m\u001B[43mcall_function\u001B[49m\u001B[43m(\u001B[49m\n\u001B[0;32m    252\u001B[0m \u001B[43m        \u001B[49m\u001B[38;5;28;43mself\u001B[39;49m\u001B[38;5;241;43m.\u001B[39;49m\u001B[43mname\u001B[49m\u001B[43m,\u001B[49m\n\u001B[0;32m    253\u001B[0m \u001B[43m        \u001B[49m\u001B[38;5;28;43mlist\u001B[39;49m\u001B[43m(\u001B[49m\u001B[43margs\u001B[49m\u001B[43m)\u001B[49m\u001B[43m,\u001B[49m\n\u001B[0;32m    254\u001B[0m \u001B[43m        \u001B[49m\u001B[38;5;28;43mlen\u001B[39;49m\u001B[43m(\u001B[49m\u001B[38;5;28;43mself\u001B[39;49m\u001B[38;5;241;43m.\u001B[39;49m\u001B[43mfunction_type\u001B[49m\u001B[38;5;241;43m.\u001B[39;49m\u001B[43mflat_outputs\u001B[49m\u001B[43m)\u001B[49m\u001B[43m,\u001B[49m\n\u001B[0;32m    255\u001B[0m \u001B[43m    \u001B[49m\u001B[43m)\u001B[49m\n\u001B[0;32m    256\u001B[0m   \u001B[38;5;28;01melse\u001B[39;00m:\n\u001B[0;32m    257\u001B[0m     outputs \u001B[38;5;241m=\u001B[39m make_call_op_in_graph(\n\u001B[0;32m    258\u001B[0m         \u001B[38;5;28mself\u001B[39m,\n\u001B[0;32m    259\u001B[0m         \u001B[38;5;28mlist\u001B[39m(args),\n\u001B[0;32m    260\u001B[0m         \u001B[38;5;28mself\u001B[39m\u001B[38;5;241m.\u001B[39m_bound_context\u001B[38;5;241m.\u001B[39mfunction_call_options\u001B[38;5;241m.\u001B[39mas_attrs(),\n\u001B[0;32m    261\u001B[0m     )\n",
      "File \u001B[1;32m~\\Desktop\\Diplomarbeit Erik Marr\\Projekt X\\venv\\Lib\\site-packages\\tensorflow\\python\\eager\\context.py:1486\u001B[0m, in \u001B[0;36mContext.call_function\u001B[1;34m(self, name, tensor_inputs, num_outputs)\u001B[0m\n\u001B[0;32m   1484\u001B[0m cancellation_context \u001B[38;5;241m=\u001B[39m cancellation\u001B[38;5;241m.\u001B[39mcontext()\n\u001B[0;32m   1485\u001B[0m \u001B[38;5;28;01mif\u001B[39;00m cancellation_context \u001B[38;5;129;01mis\u001B[39;00m \u001B[38;5;28;01mNone\u001B[39;00m:\n\u001B[1;32m-> 1486\u001B[0m   outputs \u001B[38;5;241m=\u001B[39m \u001B[43mexecute\u001B[49m\u001B[38;5;241;43m.\u001B[39;49m\u001B[43mexecute\u001B[49m\u001B[43m(\u001B[49m\n\u001B[0;32m   1487\u001B[0m \u001B[43m      \u001B[49m\u001B[43mname\u001B[49m\u001B[38;5;241;43m.\u001B[39;49m\u001B[43mdecode\u001B[49m\u001B[43m(\u001B[49m\u001B[38;5;124;43m\"\u001B[39;49m\u001B[38;5;124;43mutf-8\u001B[39;49m\u001B[38;5;124;43m\"\u001B[39;49m\u001B[43m)\u001B[49m\u001B[43m,\u001B[49m\n\u001B[0;32m   1488\u001B[0m \u001B[43m      \u001B[49m\u001B[43mnum_outputs\u001B[49m\u001B[38;5;241;43m=\u001B[39;49m\u001B[43mnum_outputs\u001B[49m\u001B[43m,\u001B[49m\n\u001B[0;32m   1489\u001B[0m \u001B[43m      \u001B[49m\u001B[43minputs\u001B[49m\u001B[38;5;241;43m=\u001B[39;49m\u001B[43mtensor_inputs\u001B[49m\u001B[43m,\u001B[49m\n\u001B[0;32m   1490\u001B[0m \u001B[43m      \u001B[49m\u001B[43mattrs\u001B[49m\u001B[38;5;241;43m=\u001B[39;49m\u001B[43mattrs\u001B[49m\u001B[43m,\u001B[49m\n\u001B[0;32m   1491\u001B[0m \u001B[43m      \u001B[49m\u001B[43mctx\u001B[49m\u001B[38;5;241;43m=\u001B[39;49m\u001B[38;5;28;43mself\u001B[39;49m\u001B[43m,\u001B[49m\n\u001B[0;32m   1492\u001B[0m \u001B[43m  \u001B[49m\u001B[43m)\u001B[49m\n\u001B[0;32m   1493\u001B[0m \u001B[38;5;28;01melse\u001B[39;00m:\n\u001B[0;32m   1494\u001B[0m   outputs \u001B[38;5;241m=\u001B[39m execute\u001B[38;5;241m.\u001B[39mexecute_with_cancellation(\n\u001B[0;32m   1495\u001B[0m       name\u001B[38;5;241m.\u001B[39mdecode(\u001B[38;5;124m\"\u001B[39m\u001B[38;5;124mutf-8\u001B[39m\u001B[38;5;124m\"\u001B[39m),\n\u001B[0;32m   1496\u001B[0m       num_outputs\u001B[38;5;241m=\u001B[39mnum_outputs,\n\u001B[1;32m   (...)\u001B[0m\n\u001B[0;32m   1500\u001B[0m       cancellation_manager\u001B[38;5;241m=\u001B[39mcancellation_context,\n\u001B[0;32m   1501\u001B[0m   )\n",
      "File \u001B[1;32m~\\Desktop\\Diplomarbeit Erik Marr\\Projekt X\\venv\\Lib\\site-packages\\tensorflow\\python\\eager\\execute.py:53\u001B[0m, in \u001B[0;36mquick_execute\u001B[1;34m(op_name, num_outputs, inputs, attrs, ctx, name)\u001B[0m\n\u001B[0;32m     51\u001B[0m \u001B[38;5;28;01mtry\u001B[39;00m:\n\u001B[0;32m     52\u001B[0m   ctx\u001B[38;5;241m.\u001B[39mensure_initialized()\n\u001B[1;32m---> 53\u001B[0m   tensors \u001B[38;5;241m=\u001B[39m \u001B[43mpywrap_tfe\u001B[49m\u001B[38;5;241;43m.\u001B[39;49m\u001B[43mTFE_Py_Execute\u001B[49m\u001B[43m(\u001B[49m\u001B[43mctx\u001B[49m\u001B[38;5;241;43m.\u001B[39;49m\u001B[43m_handle\u001B[49m\u001B[43m,\u001B[49m\u001B[43m \u001B[49m\u001B[43mdevice_name\u001B[49m\u001B[43m,\u001B[49m\u001B[43m \u001B[49m\u001B[43mop_name\u001B[49m\u001B[43m,\u001B[49m\n\u001B[0;32m     54\u001B[0m \u001B[43m                                      \u001B[49m\u001B[43minputs\u001B[49m\u001B[43m,\u001B[49m\u001B[43m \u001B[49m\u001B[43mattrs\u001B[49m\u001B[43m,\u001B[49m\u001B[43m \u001B[49m\u001B[43mnum_outputs\u001B[49m\u001B[43m)\u001B[49m\n\u001B[0;32m     55\u001B[0m \u001B[38;5;28;01mexcept\u001B[39;00m core\u001B[38;5;241m.\u001B[39m_NotOkStatusException \u001B[38;5;28;01mas\u001B[39;00m e:\n\u001B[0;32m     56\u001B[0m   \u001B[38;5;28;01mif\u001B[39;00m name \u001B[38;5;129;01mis\u001B[39;00m \u001B[38;5;129;01mnot\u001B[39;00m \u001B[38;5;28;01mNone\u001B[39;00m:\n",
      "\u001B[1;31mKeyboardInterrupt\u001B[0m: "
     ]
    }
   ],
   "source": [
    "# # Initialisiere Listen, um Ergebnisse zu speichern\n",
    "# val_loss_results = []\n",
    "# val_mae_results = []\n",
    "# \n",
    "# # Funktion, um das Modell zu erstellen\n",
    "# def create_model():\n",
    "#     model = Sequential([\n",
    "#                 Dense(232, activation='relu', input_shape=(3,), kernel_initializer='he_uniform', kernel_regularizer=l2(0.00001)),\n",
    "#                 \n",
    "#                 Dense(152, activation='relu', kernel_initializer='he_uniform', kernel_regularizer=l2(0.00001)),\n",
    "#                 \n",
    "#                 Dense(232, activation='relu', kernel_initializer='he_uniform', kernel_regularizer=l2(0.00001)),\n",
    "#                 \n",
    "#                 Dense(1 , activation = 'linear')\n",
    "# \n",
    "#     ])\n",
    "#     optimizer = Adam(learning_rate=0.00001)\n",
    "#     model.compile(optimizer=optimizer, loss='mean_squared_error', metrics=['mae'])\n",
    "#     return model\n",
    "# \n",
    "# # K-Fold Cross-Validation Konfiguration\n",
    "# n_splits = 5\n",
    "# kf = KFold(n_splits=n_splits, shuffle=True, random_state=42)\n",
    "# \n",
    "# # Leistungsüberwachung\n",
    "# fold_no = 1\n",
    "# for train_index, val_index in kf.split(X_train_scaled):\n",
    "#     X_train_fold, X_val_fold = X_train_scaled[train_index], X_train_scaled[val_index]\n",
    "#     y_train_fold, y_val_fold = y_train_scaled[train_index], y_train_scaled[val_index]\n",
    "# \n",
    "#     model = create_model()\n",
    "# \n",
    "#     early_stopping = EarlyStopping(monitor='val_loss', patience=5, verbose=1, mode='min', restore_best_weights=True)\n",
    "# \n",
    "#     print(f'Training für Fold {fold_no}...')\n",
    "#     history = model.fit(X_train_fold, y_train_fold, batch_size=16, epochs=1000, validation_data=(X_val_fold, y_val_fold), callbacks=[early_stopping], verbose=1)\n",
    "# \n",
    "#     # Speichere die Ergebnisse des aktuellen Folds\n",
    "#     val_loss_results.append(min(history.history['val_loss']))\n",
    "#     val_mae_results.append(min(history.history['val_mae']))\n",
    "# \n",
    "#     fold_no += 1\n",
    "# \n",
    "# # Berechne den Durchschnitt über alle Folds\n",
    "# average_val_loss = np.mean(val_loss_results)\n",
    "# average_val_mae = np.mean(val_mae_results)\n",
    "# \n",
    "# # Gib die durchschnittlichen Ergebnisse aus\n",
    "# print(f'Durchschnittlicher Validation Loss: {average_val_loss}')\n",
    "# print(f'Durchschnittlicher Validation MAE: {average_val_mae}')\n"
   ],
   "metadata": {
    "collapsed": false,
    "ExecuteTime": {
     "end_time": "2024-03-18T13:07:25.049745600Z",
     "start_time": "2024-03-18T13:01:03.563514Z"
    }
   },
   "id": "929336b1a7ac475d"
  },
  {
   "cell_type": "code",
   "execution_count": 13,
   "outputs": [
    {
     "name": "stdout",
     "output_type": "stream",
     "text": [
      "275/275 - 0s - loss: 5.7398e-05 - mae: 0.0017 - 198ms/epoch - 720us/step\n"
     ]
    },
    {
     "data": {
      "text/plain": "[5.739762491430156e-05, 0.0016703330911695957]"
     },
     "execution_count": 13,
     "metadata": {},
     "output_type": "execute_result"
    }
   ],
   "source": [
    "results = model.evaluate(X_test_scaled, y_test_scaled, verbose=2)\n",
    "results"
   ],
   "metadata": {
    "collapsed": false,
    "ExecuteTime": {
     "end_time": "2024-03-25T13:52:37.404319700Z",
     "start_time": "2024-03-25T13:52:37.115111800Z"
    }
   },
   "id": "4b02697cbcecd185"
  },
  {
   "cell_type": "code",
   "execution_count": 14,
   "outputs": [
    {
     "name": "stdout",
     "output_type": "stream",
     "text": [
      " Bsp. Predicted: [596.0673] Actual: [596.74] \n",
      "Durchschnittliche Abweichung (MAE): [1.91809525]\n",
      "0.2624842308204968\n"
     ]
    }
   ],
   "source": [
    "scaled_predicted_values = model.predict(X_test_scaled, verbose = 0)\n",
    "\n",
    "# Führen Sie die Rücktransformation der skalierten Werte durch\n",
    "original_predicted_values = scaler_target.inverse_transform(scaled_predicted_values)\n",
    "original_actual_values = scaler_target.inverse_transform(y_test_scaled)  # y_test sind die skalierten tatsächlichen Werte\n",
    "print(f' Bsp. Predicted: {original_predicted_values[100]} Actual: {original_actual_values[100]} ')\n",
    "\n",
    "def calculate_mae(list1, list2):\n",
    "    # Stelle sicher, dass beide Listen die gleiche Länge haben\n",
    "    if len(list1) != len(list2):\n",
    "        raise ValueError(\"Listen müssen die gleiche Länge haben\")\n",
    "\n",
    "    # Berechne die absolute Differenz zwischen den Elementen der Listen\n",
    "    differences = [abs(x - y) for x, y in zip(list1, list2)]\n",
    "\n",
    "    # Berechne den Durchschnitt der absoluten Differenzen\n",
    "    mae = sum(differences) / len(differences)\n",
    "\n",
    "    return mae\n",
    "\n",
    "# Beispiel\n",
    "list1 = original_predicted_values\n",
    "list2 = original_actual_values\n",
    "\n",
    "mae = calculate_mae(list1, list2)\n",
    "print(f\"Durchschnittliche Abweichung (MAE): {mae}\")\n",
    "errors = np.abs((original_actual_values - original_predicted_values) / original_actual_values)\n",
    "mape = np.mean(errors) * 100\n",
    "print(mape)"
   ],
   "metadata": {
    "collapsed": false,
    "ExecuteTime": {
     "end_time": "2024-03-25T13:52:38.571159300Z",
     "start_time": "2024-03-25T13:52:37.923324300Z"
    }
   },
   "id": "a402d28abbd82f60"
  },
  {
   "cell_type": "code",
   "execution_count": 16,
   "outputs": [
    {
     "name": "stdout",
     "output_type": "stream",
     "text": [
      "Anzahl der Werte die kleiner sind: 115\n"
     ]
    },
    {
     "data": {
      "text/plain": "            Echt  Vorhergesagt  X-Koordinate  Y-Koordinate  Zeitpunkt  \\\n5913  649.757568        673.72          1.00          0.94      0.700   \n1837  631.379456        648.25          1.00          0.94      0.625   \n1316  607.560913        623.39          1.00          0.94      0.550   \n6769  529.480530        543.98          1.00          0.94      0.225   \n655   815.239563        829.58          1.00          0.06      0.900   \n...          ...           ...           ...           ...        ...   \n991   554.916138        538.83          0.95          0.98      0.750   \n3222  413.788055        397.49          1.00          0.98      0.075   \n573   426.371307        409.84          1.00          0.98      0.125   \n7585  445.166748        428.07          1.00          0.98      0.200   \n1032  561.169922        537.98          1.00          0.98      0.750   \n\n      Differenz  \n5913 -23.962432  \n1837 -16.870544  \n1316 -15.829087  \n6769 -14.499470  \n655  -14.340437  \n...         ...  \n991   16.086138  \n3222  16.298055  \n573   16.531307  \n7585  17.096748  \n1032  23.189922  \n\n[8783 rows x 6 columns]",
      "text/html": "<div>\n<style scoped>\n    .dataframe tbody tr th:only-of-type {\n        vertical-align: middle;\n    }\n\n    .dataframe tbody tr th {\n        vertical-align: top;\n    }\n\n    .dataframe thead th {\n        text-align: right;\n    }\n</style>\n<table border=\"1\" class=\"dataframe\">\n  <thead>\n    <tr style=\"text-align: right;\">\n      <th></th>\n      <th>Echt</th>\n      <th>Vorhergesagt</th>\n      <th>X-Koordinate</th>\n      <th>Y-Koordinate</th>\n      <th>Zeitpunkt</th>\n      <th>Differenz</th>\n    </tr>\n  </thead>\n  <tbody>\n    <tr>\n      <th>5913</th>\n      <td>649.757568</td>\n      <td>673.72</td>\n      <td>1.00</td>\n      <td>0.94</td>\n      <td>0.700</td>\n      <td>-23.962432</td>\n    </tr>\n    <tr>\n      <th>1837</th>\n      <td>631.379456</td>\n      <td>648.25</td>\n      <td>1.00</td>\n      <td>0.94</td>\n      <td>0.625</td>\n      <td>-16.870544</td>\n    </tr>\n    <tr>\n      <th>1316</th>\n      <td>607.560913</td>\n      <td>623.39</td>\n      <td>1.00</td>\n      <td>0.94</td>\n      <td>0.550</td>\n      <td>-15.829087</td>\n    </tr>\n    <tr>\n      <th>6769</th>\n      <td>529.480530</td>\n      <td>543.98</td>\n      <td>1.00</td>\n      <td>0.94</td>\n      <td>0.225</td>\n      <td>-14.499470</td>\n    </tr>\n    <tr>\n      <th>655</th>\n      <td>815.239563</td>\n      <td>829.58</td>\n      <td>1.00</td>\n      <td>0.06</td>\n      <td>0.900</td>\n      <td>-14.340437</td>\n    </tr>\n    <tr>\n      <th>...</th>\n      <td>...</td>\n      <td>...</td>\n      <td>...</td>\n      <td>...</td>\n      <td>...</td>\n      <td>...</td>\n    </tr>\n    <tr>\n      <th>991</th>\n      <td>554.916138</td>\n      <td>538.83</td>\n      <td>0.95</td>\n      <td>0.98</td>\n      <td>0.750</td>\n      <td>16.086138</td>\n    </tr>\n    <tr>\n      <th>3222</th>\n      <td>413.788055</td>\n      <td>397.49</td>\n      <td>1.00</td>\n      <td>0.98</td>\n      <td>0.075</td>\n      <td>16.298055</td>\n    </tr>\n    <tr>\n      <th>573</th>\n      <td>426.371307</td>\n      <td>409.84</td>\n      <td>1.00</td>\n      <td>0.98</td>\n      <td>0.125</td>\n      <td>16.531307</td>\n    </tr>\n    <tr>\n      <th>7585</th>\n      <td>445.166748</td>\n      <td>428.07</td>\n      <td>1.00</td>\n      <td>0.98</td>\n      <td>0.200</td>\n      <td>17.096748</td>\n    </tr>\n    <tr>\n      <th>1032</th>\n      <td>561.169922</td>\n      <td>537.98</td>\n      <td>1.00</td>\n      <td>0.98</td>\n      <td>0.750</td>\n      <td>23.189922</td>\n    </tr>\n  </tbody>\n</table>\n<p>8783 rows × 6 columns</p>\n</div>"
     },
     "execution_count": 16,
     "metadata": {},
     "output_type": "execute_result"
    }
   ],
   "source": [
    "df_result = pd.DataFrame({'Echt': [val[0] for val in list1], 'Vorhergesagt': [val[0] for val in list2]})\n",
    "df_result['X-Koordinate'] = X_test_scaled[:, 0]\n",
    "df_result['Y-Koordinate'] = X_test_scaled[:, 1]\n",
    "df_result['Zeitpunkt'] = X_test_scaled[:, 2]\n",
    "\n",
    "df_result['Differenz'] = df_result['Echt'] - df_result['Vorhergesagt']\n",
    "df_result['Differenz'].sort_values()\n",
    "sorted_df = df_result.sort_values(by= 'Differenz')\n",
    "Anzahl_Punkte = (sorted_df['Differenz'] < -5).sum()\n",
    "print(\"Anzahl der Werte die kleiner sind:\", Anzahl_Punkte)\n",
    "\n",
    "sorted_df\n"
   ],
   "metadata": {
    "collapsed": false,
    "ExecuteTime": {
     "end_time": "2024-03-19T10:20:43.452438800Z",
     "start_time": "2024-03-19T10:20:43.381851900Z"
    }
   },
   "id": "7ffe8ddf2200f429"
  },
  {
   "cell_type": "code",
   "execution_count": 17,
   "outputs": [
    {
     "name": "stdout",
     "output_type": "stream",
     "text": [
      "R^2: [0.99987614]\n"
     ]
    }
   ],
   "source": [
    "#Berechnung der Auswertungsgröße R^2\n",
    "\n",
    "def calculate_r_squared(predicted, actual):\n",
    "    # Berechnung des Mittelwerts der tatsächlichen Werte\n",
    "    mean_actual = sum(actual) / len(actual)\n",
    "    \n",
    "    # Berechnung der totalen Summe der Quadrate (SST)\n",
    "    sst = sum((x - mean_actual) ** 2 for x in actual)\n",
    "    \n",
    "    # Berechnung der Summe der Quadrate der Residuen (SSE)\n",
    "    sse = sum((actual[i] - predicted[i]) ** 2 for i in range(len(actual)))\n",
    "    \n",
    "    # Berechnung des R^2-Wertes\n",
    "    r_squared = 1 - (sse / sst)\n",
    "    \n",
    "    return r_squared\n",
    "\n",
    "# Berechnung von R^2 mit den bereitgestellten Listen\n",
    "r_squared = calculate_r_squared(list1, list2)\n",
    "\n",
    "print(f\"R^2: {r_squared}\")"
   ],
   "metadata": {
    "collapsed": false,
    "ExecuteTime": {
     "end_time": "2024-03-19T10:22:55.488208100Z",
     "start_time": "2024-03-19T10:22:55.398501Z"
    }
   },
   "id": "4c350477801f0961"
  },
  {
   "cell_type": "code",
   "execution_count": 18,
   "outputs": [
    {
     "ename": "NameError",
     "evalue": "name 'history' is not defined",
     "output_type": "error",
     "traceback": [
      "\u001B[1;31m---------------------------------------------------------------------------\u001B[0m",
      "\u001B[1;31mNameError\u001B[0m                                 Traceback (most recent call last)",
      "Cell \u001B[1;32mIn[18], line 1\u001B[0m\n\u001B[1;32m----> 1\u001B[0m mae \u001B[38;5;241m=\u001B[39m \u001B[43mhistory\u001B[49m\u001B[38;5;241m.\u001B[39mhistory[\u001B[38;5;124m'\u001B[39m\u001B[38;5;124mloss\u001B[39m\u001B[38;5;124m'\u001B[39m]\n\u001B[0;32m      2\u001B[0m val_mae \u001B[38;5;241m=\u001B[39m history\u001B[38;5;241m.\u001B[39mhistory[\u001B[38;5;124m'\u001B[39m\u001B[38;5;124mval_loss\u001B[39m\u001B[38;5;124m'\u001B[39m]\n\u001B[0;32m      4\u001B[0m epochs \u001B[38;5;241m=\u001B[39m \u001B[38;5;28mrange\u001B[39m(\u001B[38;5;241m1\u001B[39m, \u001B[38;5;28mlen\u001B[39m(mae) \u001B[38;5;241m+\u001B[39m \u001B[38;5;241m1\u001B[39m)\n",
      "\u001B[1;31mNameError\u001B[0m: name 'history' is not defined"
     ]
    }
   ],
   "source": [
    "mae = history.history['loss']\n",
    "val_mae = history.history['val_loss']\n",
    "\n",
    "epochs = range(1, len(mae) + 1)\n",
    "\n",
    "# MAE Diagramm\n",
    "plt.figure(figsize=(10, 6))\n",
    "plt.plot(epochs, mae, 'r', label='Training MSE')\n",
    "plt.plot(epochs, val_mae, 'b', label='Validation MSE')\n",
    "plt.title('Training and Validation MSE')\n",
    "plt.xlabel('Epochs')\n",
    "plt.ylabel('MSE')\n",
    "plt.legend()\n",
    "\n",
    "plt.show()"
   ],
   "metadata": {
    "collapsed": false,
    "ExecuteTime": {
     "end_time": "2024-03-19T10:23:09.298579700Z",
     "start_time": "2024-03-19T10:23:09.198617800Z"
    }
   },
   "id": "3688dd7102e95baf"
  },
  {
   "cell_type": "code",
   "execution_count": 19,
   "outputs": [
    {
     "ename": "NameError",
     "evalue": "name 'history' is not defined",
     "output_type": "error",
     "traceback": [
      "\u001B[1;31m---------------------------------------------------------------------------\u001B[0m",
      "\u001B[1;31mNameError\u001B[0m                                 Traceback (most recent call last)",
      "Cell \u001B[1;32mIn[19], line 1\u001B[0m\n\u001B[1;32m----> 1\u001B[0m mae \u001B[38;5;241m=\u001B[39m \u001B[43mhistory\u001B[49m\u001B[38;5;241m.\u001B[39mhistory[\u001B[38;5;124m'\u001B[39m\u001B[38;5;124mmae\u001B[39m\u001B[38;5;124m'\u001B[39m]\n\u001B[0;32m      2\u001B[0m val_mae \u001B[38;5;241m=\u001B[39m history\u001B[38;5;241m.\u001B[39mhistory[\u001B[38;5;124m'\u001B[39m\u001B[38;5;124mval_mae\u001B[39m\u001B[38;5;124m'\u001B[39m]\n\u001B[0;32m      4\u001B[0m epochs \u001B[38;5;241m=\u001B[39m \u001B[38;5;28mrange\u001B[39m(\u001B[38;5;241m1\u001B[39m, \u001B[38;5;28mlen\u001B[39m(mae) \u001B[38;5;241m+\u001B[39m \u001B[38;5;241m1\u001B[39m)\n",
      "\u001B[1;31mNameError\u001B[0m: name 'history' is not defined"
     ]
    }
   ],
   "source": [
    "mae = history.history['mae']\n",
    "val_mae = history.history['val_mae']\n",
    "\n",
    "epochs = range(1, len(mae) + 1)\n",
    "\n",
    "# MAE Diagramm\n",
    "plt.figure(figsize=(10, 6))\n",
    "plt.plot(epochs, mae, 'r', label='Training MAE')\n",
    "plt.plot(epochs, val_mae, 'b', label='Validation MAE')\n",
    "plt.title('Training and Validation MAE')\n",
    "plt.xlabel('Epochs')\n",
    "plt.ylabel('MAE')\n",
    "plt.legend()\n",
    "\n",
    "\n",
    "#plt.ylim(0.00, 0.01)\n",
    "\n",
    "\n",
    "plt.show()"
   ],
   "metadata": {
    "collapsed": false,
    "ExecuteTime": {
     "end_time": "2024-03-19T10:23:14.598393700Z",
     "start_time": "2024-03-19T10:23:14.518333200Z"
    }
   },
   "id": "b8d71e5c44c48bef"
  },
  {
   "cell_type": "markdown",
   "id": "553df6fa",
   "metadata": {},
   "source": [
    "# GridSearch"
   ]
  },
  {
   "cell_type": "code",
   "execution_count": 12,
   "outputs": [
    {
     "name": "stdout",
     "output_type": "stream",
     "text": [
      "Fitting 3 folds for each of 4 candidates, totalling 12 fits\n"
     ]
    },
    {
     "name": "stderr",
     "output_type": "stream",
     "text": [
      "Exception ignored in: <bound method IPythonKernel._clean_thread_parent_frames of <ipykernel.ipkernel.IPythonKernel object at 0x000001B625802E50>>\n",
      "Traceback (most recent call last):\n",
      "  File \"C:\\Users\\erikm\\Desktop\\Diplomarbeit Erik Marr\\Projekt X\\venv\\Lib\\site-packages\\ipykernel\\ipkernel.py\", line 770, in _clean_thread_parent_frames\n",
      "    def _clean_thread_parent_frames(\n",
      "\n",
      "KeyboardInterrupt: \n"
     ]
    },
    {
     "ename": "KeyboardInterrupt",
     "evalue": "",
     "output_type": "error",
     "traceback": [
      "\u001B[1;31m---------------------------------------------------------------------------\u001B[0m",
      "\u001B[1;31mKeyboardInterrupt\u001B[0m                         Traceback (most recent call last)",
      "Cell \u001B[1;32mIn[12], line 47\u001B[0m\n\u001B[0;32m     45\u001B[0m grid_search \u001B[38;5;241m=\u001B[39m GridSearchCV(estimator\u001B[38;5;241m=\u001B[39mmodel, param_grid\u001B[38;5;241m=\u001B[39mparam_grid, n_jobs\u001B[38;5;241m=\u001B[39m\u001B[38;5;241m-\u001B[39m\u001B[38;5;241m1\u001B[39m, cv\u001B[38;5;241m=\u001B[39m\u001B[38;5;241m3\u001B[39m, verbose\u001B[38;5;241m=\u001B[39m\u001B[38;5;241m2\u001B[39m)\n\u001B[0;32m     46\u001B[0m \u001B[38;5;66;03m# Hinweis: Stellen Sie sicher, dass Ihre Daten (X_train_scaled, y_train_scaled) korrekt definiert sind\u001B[39;00m\n\u001B[1;32m---> 47\u001B[0m grid_result \u001B[38;5;241m=\u001B[39m \u001B[43mgrid_search\u001B[49m\u001B[38;5;241;43m.\u001B[39;49m\u001B[43mfit\u001B[49m\u001B[43m(\u001B[49m\u001B[43mX_train_scaled\u001B[49m\u001B[43m,\u001B[49m\u001B[43m \u001B[49m\u001B[43my_train_scaled\u001B[49m\u001B[43m)\u001B[49m\n\u001B[0;32m     48\u001B[0m \u001B[38;5;66;03m# Beste Parameter und Score ausgeben\u001B[39;00m\n\u001B[0;32m     49\u001B[0m \u001B[38;5;28mprint\u001B[39m(\u001B[38;5;124m\"\u001B[39m\u001B[38;5;124mBeste Parameter:\u001B[39m\u001B[38;5;124m\"\u001B[39m, grid_search\u001B[38;5;241m.\u001B[39mbest_params_)\n",
      "File \u001B[1;32m~\\Desktop\\Diplomarbeit Erik Marr\\Projekt X\\venv\\Lib\\site-packages\\sklearn\\base.py:1351\u001B[0m, in \u001B[0;36m_fit_context.<locals>.decorator.<locals>.wrapper\u001B[1;34m(estimator, *args, **kwargs)\u001B[0m\n\u001B[0;32m   1344\u001B[0m     estimator\u001B[38;5;241m.\u001B[39m_validate_params()\n\u001B[0;32m   1346\u001B[0m \u001B[38;5;28;01mwith\u001B[39;00m config_context(\n\u001B[0;32m   1347\u001B[0m     skip_parameter_validation\u001B[38;5;241m=\u001B[39m(\n\u001B[0;32m   1348\u001B[0m         prefer_skip_nested_validation \u001B[38;5;129;01mor\u001B[39;00m global_skip_validation\n\u001B[0;32m   1349\u001B[0m     )\n\u001B[0;32m   1350\u001B[0m ):\n\u001B[1;32m-> 1351\u001B[0m     \u001B[38;5;28;01mreturn\u001B[39;00m \u001B[43mfit_method\u001B[49m\u001B[43m(\u001B[49m\u001B[43mestimator\u001B[49m\u001B[43m,\u001B[49m\u001B[43m \u001B[49m\u001B[38;5;241;43m*\u001B[39;49m\u001B[43margs\u001B[49m\u001B[43m,\u001B[49m\u001B[43m \u001B[49m\u001B[38;5;241;43m*\u001B[39;49m\u001B[38;5;241;43m*\u001B[39;49m\u001B[43mkwargs\u001B[49m\u001B[43m)\u001B[49m\n",
      "File \u001B[1;32m~\\Desktop\\Diplomarbeit Erik Marr\\Projekt X\\venv\\Lib\\site-packages\\sklearn\\model_selection\\_search.py:970\u001B[0m, in \u001B[0;36mBaseSearchCV.fit\u001B[1;34m(self, X, y, **params)\u001B[0m\n\u001B[0;32m    964\u001B[0m     results \u001B[38;5;241m=\u001B[39m \u001B[38;5;28mself\u001B[39m\u001B[38;5;241m.\u001B[39m_format_results(\n\u001B[0;32m    965\u001B[0m         all_candidate_params, n_splits, all_out, all_more_results\n\u001B[0;32m    966\u001B[0m     )\n\u001B[0;32m    968\u001B[0m     \u001B[38;5;28;01mreturn\u001B[39;00m results\n\u001B[1;32m--> 970\u001B[0m \u001B[38;5;28;43mself\u001B[39;49m\u001B[38;5;241;43m.\u001B[39;49m\u001B[43m_run_search\u001B[49m\u001B[43m(\u001B[49m\u001B[43mevaluate_candidates\u001B[49m\u001B[43m)\u001B[49m\n\u001B[0;32m    972\u001B[0m \u001B[38;5;66;03m# multimetric is determined here because in the case of a callable\u001B[39;00m\n\u001B[0;32m    973\u001B[0m \u001B[38;5;66;03m# self.scoring the return type is only known after calling\u001B[39;00m\n\u001B[0;32m    974\u001B[0m first_test_score \u001B[38;5;241m=\u001B[39m all_out[\u001B[38;5;241m0\u001B[39m][\u001B[38;5;124m\"\u001B[39m\u001B[38;5;124mtest_scores\u001B[39m\u001B[38;5;124m\"\u001B[39m]\n",
      "File \u001B[1;32m~\\Desktop\\Diplomarbeit Erik Marr\\Projekt X\\venv\\Lib\\site-packages\\sklearn\\model_selection\\_search.py:1527\u001B[0m, in \u001B[0;36mGridSearchCV._run_search\u001B[1;34m(self, evaluate_candidates)\u001B[0m\n\u001B[0;32m   1525\u001B[0m \u001B[38;5;28;01mdef\u001B[39;00m \u001B[38;5;21m_run_search\u001B[39m(\u001B[38;5;28mself\u001B[39m, evaluate_candidates):\n\u001B[0;32m   1526\u001B[0m \u001B[38;5;250m    \u001B[39m\u001B[38;5;124;03m\"\"\"Search all candidates in param_grid\"\"\"\u001B[39;00m\n\u001B[1;32m-> 1527\u001B[0m     \u001B[43mevaluate_candidates\u001B[49m\u001B[43m(\u001B[49m\u001B[43mParameterGrid\u001B[49m\u001B[43m(\u001B[49m\u001B[38;5;28;43mself\u001B[39;49m\u001B[38;5;241;43m.\u001B[39;49m\u001B[43mparam_grid\u001B[49m\u001B[43m)\u001B[49m\u001B[43m)\u001B[49m\n",
      "File \u001B[1;32m~\\Desktop\\Diplomarbeit Erik Marr\\Projekt X\\venv\\Lib\\site-packages\\sklearn\\model_selection\\_search.py:916\u001B[0m, in \u001B[0;36mBaseSearchCV.fit.<locals>.evaluate_candidates\u001B[1;34m(candidate_params, cv, more_results)\u001B[0m\n\u001B[0;32m    908\u001B[0m \u001B[38;5;28;01mif\u001B[39;00m \u001B[38;5;28mself\u001B[39m\u001B[38;5;241m.\u001B[39mverbose \u001B[38;5;241m>\u001B[39m \u001B[38;5;241m0\u001B[39m:\n\u001B[0;32m    909\u001B[0m     \u001B[38;5;28mprint\u001B[39m(\n\u001B[0;32m    910\u001B[0m         \u001B[38;5;124m\"\u001B[39m\u001B[38;5;124mFitting \u001B[39m\u001B[38;5;132;01m{0}\u001B[39;00m\u001B[38;5;124m folds for each of \u001B[39m\u001B[38;5;132;01m{1}\u001B[39;00m\u001B[38;5;124m candidates,\u001B[39m\u001B[38;5;124m\"\u001B[39m\n\u001B[0;32m    911\u001B[0m         \u001B[38;5;124m\"\u001B[39m\u001B[38;5;124m totalling \u001B[39m\u001B[38;5;132;01m{2}\u001B[39;00m\u001B[38;5;124m fits\u001B[39m\u001B[38;5;124m\"\u001B[39m\u001B[38;5;241m.\u001B[39mformat(\n\u001B[0;32m    912\u001B[0m             n_splits, n_candidates, n_candidates \u001B[38;5;241m*\u001B[39m n_splits\n\u001B[0;32m    913\u001B[0m         )\n\u001B[0;32m    914\u001B[0m     )\n\u001B[1;32m--> 916\u001B[0m out \u001B[38;5;241m=\u001B[39m \u001B[43mparallel\u001B[49m\u001B[43m(\u001B[49m\n\u001B[0;32m    917\u001B[0m \u001B[43m    \u001B[49m\u001B[43mdelayed\u001B[49m\u001B[43m(\u001B[49m\u001B[43m_fit_and_score\u001B[49m\u001B[43m)\u001B[49m\u001B[43m(\u001B[49m\n\u001B[0;32m    918\u001B[0m \u001B[43m        \u001B[49m\u001B[43mclone\u001B[49m\u001B[43m(\u001B[49m\u001B[43mbase_estimator\u001B[49m\u001B[43m)\u001B[49m\u001B[43m,\u001B[49m\n\u001B[0;32m    919\u001B[0m \u001B[43m        \u001B[49m\u001B[43mX\u001B[49m\u001B[43m,\u001B[49m\n\u001B[0;32m    920\u001B[0m \u001B[43m        \u001B[49m\u001B[43my\u001B[49m\u001B[43m,\u001B[49m\n\u001B[0;32m    921\u001B[0m \u001B[43m        \u001B[49m\u001B[43mtrain\u001B[49m\u001B[38;5;241;43m=\u001B[39;49m\u001B[43mtrain\u001B[49m\u001B[43m,\u001B[49m\n\u001B[0;32m    922\u001B[0m \u001B[43m        \u001B[49m\u001B[43mtest\u001B[49m\u001B[38;5;241;43m=\u001B[39;49m\u001B[43mtest\u001B[49m\u001B[43m,\u001B[49m\n\u001B[0;32m    923\u001B[0m \u001B[43m        \u001B[49m\u001B[43mparameters\u001B[49m\u001B[38;5;241;43m=\u001B[39;49m\u001B[43mparameters\u001B[49m\u001B[43m,\u001B[49m\n\u001B[0;32m    924\u001B[0m \u001B[43m        \u001B[49m\u001B[43msplit_progress\u001B[49m\u001B[38;5;241;43m=\u001B[39;49m\u001B[43m(\u001B[49m\u001B[43msplit_idx\u001B[49m\u001B[43m,\u001B[49m\u001B[43m \u001B[49m\u001B[43mn_splits\u001B[49m\u001B[43m)\u001B[49m\u001B[43m,\u001B[49m\n\u001B[0;32m    925\u001B[0m \u001B[43m        \u001B[49m\u001B[43mcandidate_progress\u001B[49m\u001B[38;5;241;43m=\u001B[39;49m\u001B[43m(\u001B[49m\u001B[43mcand_idx\u001B[49m\u001B[43m,\u001B[49m\u001B[43m \u001B[49m\u001B[43mn_candidates\u001B[49m\u001B[43m)\u001B[49m\u001B[43m,\u001B[49m\n\u001B[0;32m    926\u001B[0m \u001B[43m        \u001B[49m\u001B[38;5;241;43m*\u001B[39;49m\u001B[38;5;241;43m*\u001B[39;49m\u001B[43mfit_and_score_kwargs\u001B[49m\u001B[43m,\u001B[49m\n\u001B[0;32m    927\u001B[0m \u001B[43m    \u001B[49m\u001B[43m)\u001B[49m\n\u001B[0;32m    928\u001B[0m \u001B[43m    \u001B[49m\u001B[38;5;28;43;01mfor\u001B[39;49;00m\u001B[43m \u001B[49m\u001B[43m(\u001B[49m\u001B[43mcand_idx\u001B[49m\u001B[43m,\u001B[49m\u001B[43m \u001B[49m\u001B[43mparameters\u001B[49m\u001B[43m)\u001B[49m\u001B[43m,\u001B[49m\u001B[43m \u001B[49m\u001B[43m(\u001B[49m\u001B[43msplit_idx\u001B[49m\u001B[43m,\u001B[49m\u001B[43m \u001B[49m\u001B[43m(\u001B[49m\u001B[43mtrain\u001B[49m\u001B[43m,\u001B[49m\u001B[43m \u001B[49m\u001B[43mtest\u001B[49m\u001B[43m)\u001B[49m\u001B[43m)\u001B[49m\u001B[43m \u001B[49m\u001B[38;5;129;43;01min\u001B[39;49;00m\u001B[43m \u001B[49m\u001B[43mproduct\u001B[49m\u001B[43m(\u001B[49m\n\u001B[0;32m    929\u001B[0m \u001B[43m        \u001B[49m\u001B[38;5;28;43menumerate\u001B[39;49m\u001B[43m(\u001B[49m\u001B[43mcandidate_params\u001B[49m\u001B[43m)\u001B[49m\u001B[43m,\u001B[49m\n\u001B[0;32m    930\u001B[0m \u001B[43m        \u001B[49m\u001B[38;5;28;43menumerate\u001B[39;49m\u001B[43m(\u001B[49m\u001B[43mcv\u001B[49m\u001B[38;5;241;43m.\u001B[39;49m\u001B[43msplit\u001B[49m\u001B[43m(\u001B[49m\u001B[43mX\u001B[49m\u001B[43m,\u001B[49m\u001B[43m \u001B[49m\u001B[43my\u001B[49m\u001B[43m,\u001B[49m\u001B[43m \u001B[49m\u001B[38;5;241;43m*\u001B[39;49m\u001B[38;5;241;43m*\u001B[39;49m\u001B[43mrouted_params\u001B[49m\u001B[38;5;241;43m.\u001B[39;49m\u001B[43msplitter\u001B[49m\u001B[38;5;241;43m.\u001B[39;49m\u001B[43msplit\u001B[49m\u001B[43m)\u001B[49m\u001B[43m)\u001B[49m\u001B[43m,\u001B[49m\n\u001B[0;32m    931\u001B[0m \u001B[43m    \u001B[49m\u001B[43m)\u001B[49m\n\u001B[0;32m    932\u001B[0m \u001B[43m\u001B[49m\u001B[43m)\u001B[49m\n\u001B[0;32m    934\u001B[0m \u001B[38;5;28;01mif\u001B[39;00m \u001B[38;5;28mlen\u001B[39m(out) \u001B[38;5;241m<\u001B[39m \u001B[38;5;241m1\u001B[39m:\n\u001B[0;32m    935\u001B[0m     \u001B[38;5;28;01mraise\u001B[39;00m \u001B[38;5;167;01mValueError\u001B[39;00m(\n\u001B[0;32m    936\u001B[0m         \u001B[38;5;124m\"\u001B[39m\u001B[38;5;124mNo fits were performed. \u001B[39m\u001B[38;5;124m\"\u001B[39m\n\u001B[0;32m    937\u001B[0m         \u001B[38;5;124m\"\u001B[39m\u001B[38;5;124mWas the CV iterator empty? \u001B[39m\u001B[38;5;124m\"\u001B[39m\n\u001B[0;32m    938\u001B[0m         \u001B[38;5;124m\"\u001B[39m\u001B[38;5;124mWere there no candidates?\u001B[39m\u001B[38;5;124m\"\u001B[39m\n\u001B[0;32m    939\u001B[0m     )\n",
      "File \u001B[1;32m~\\Desktop\\Diplomarbeit Erik Marr\\Projekt X\\venv\\Lib\\site-packages\\sklearn\\utils\\parallel.py:67\u001B[0m, in \u001B[0;36mParallel.__call__\u001B[1;34m(self, iterable)\u001B[0m\n\u001B[0;32m     62\u001B[0m config \u001B[38;5;241m=\u001B[39m get_config()\n\u001B[0;32m     63\u001B[0m iterable_with_config \u001B[38;5;241m=\u001B[39m (\n\u001B[0;32m     64\u001B[0m     (_with_config(delayed_func, config), args, kwargs)\n\u001B[0;32m     65\u001B[0m     \u001B[38;5;28;01mfor\u001B[39;00m delayed_func, args, kwargs \u001B[38;5;129;01min\u001B[39;00m iterable\n\u001B[0;32m     66\u001B[0m )\n\u001B[1;32m---> 67\u001B[0m \u001B[38;5;28;01mreturn\u001B[39;00m \u001B[38;5;28;43msuper\u001B[39;49m\u001B[43m(\u001B[49m\u001B[43m)\u001B[49m\u001B[38;5;241;43m.\u001B[39;49m\u001B[38;5;21;43m__call__\u001B[39;49m\u001B[43m(\u001B[49m\u001B[43miterable_with_config\u001B[49m\u001B[43m)\u001B[49m\n",
      "File \u001B[1;32m~\\Desktop\\Diplomarbeit Erik Marr\\Projekt X\\venv\\Lib\\site-packages\\joblib\\parallel.py:1952\u001B[0m, in \u001B[0;36mParallel.__call__\u001B[1;34m(self, iterable)\u001B[0m\n\u001B[0;32m   1946\u001B[0m \u001B[38;5;66;03m# The first item from the output is blank, but it makes the interpreter\u001B[39;00m\n\u001B[0;32m   1947\u001B[0m \u001B[38;5;66;03m# progress until it enters the Try/Except block of the generator and\u001B[39;00m\n\u001B[0;32m   1948\u001B[0m \u001B[38;5;66;03m# reach the first `yield` statement. This starts the aynchronous\u001B[39;00m\n\u001B[0;32m   1949\u001B[0m \u001B[38;5;66;03m# dispatch of the tasks to the workers.\u001B[39;00m\n\u001B[0;32m   1950\u001B[0m \u001B[38;5;28mnext\u001B[39m(output)\n\u001B[1;32m-> 1952\u001B[0m \u001B[38;5;28;01mreturn\u001B[39;00m output \u001B[38;5;28;01mif\u001B[39;00m \u001B[38;5;28mself\u001B[39m\u001B[38;5;241m.\u001B[39mreturn_generator \u001B[38;5;28;01melse\u001B[39;00m \u001B[38;5;28;43mlist\u001B[39;49m\u001B[43m(\u001B[49m\u001B[43moutput\u001B[49m\u001B[43m)\u001B[49m\n",
      "File \u001B[1;32m~\\Desktop\\Diplomarbeit Erik Marr\\Projekt X\\venv\\Lib\\site-packages\\joblib\\parallel.py:1595\u001B[0m, in \u001B[0;36mParallel._get_outputs\u001B[1;34m(self, iterator, pre_dispatch)\u001B[0m\n\u001B[0;32m   1592\u001B[0m     \u001B[38;5;28;01myield\u001B[39;00m\n\u001B[0;32m   1594\u001B[0m     \u001B[38;5;28;01mwith\u001B[39;00m \u001B[38;5;28mself\u001B[39m\u001B[38;5;241m.\u001B[39m_backend\u001B[38;5;241m.\u001B[39mretrieval_context():\n\u001B[1;32m-> 1595\u001B[0m         \u001B[38;5;28;01myield from\u001B[39;00m \u001B[38;5;28mself\u001B[39m\u001B[38;5;241m.\u001B[39m_retrieve()\n\u001B[0;32m   1597\u001B[0m \u001B[38;5;28;01mexcept\u001B[39;00m \u001B[38;5;167;01mGeneratorExit\u001B[39;00m:\n\u001B[0;32m   1598\u001B[0m     \u001B[38;5;66;03m# The generator has been garbage collected before being fully\u001B[39;00m\n\u001B[0;32m   1599\u001B[0m     \u001B[38;5;66;03m# consumed. This aborts the remaining tasks if possible and warn\u001B[39;00m\n\u001B[0;32m   1600\u001B[0m     \u001B[38;5;66;03m# the user if necessary.\u001B[39;00m\n\u001B[0;32m   1601\u001B[0m     \u001B[38;5;28mself\u001B[39m\u001B[38;5;241m.\u001B[39m_exception \u001B[38;5;241m=\u001B[39m \u001B[38;5;28;01mTrue\u001B[39;00m\n",
      "File \u001B[1;32m~\\Desktop\\Diplomarbeit Erik Marr\\Projekt X\\venv\\Lib\\site-packages\\joblib\\parallel.py:1707\u001B[0m, in \u001B[0;36mParallel._retrieve\u001B[1;34m(self)\u001B[0m\n\u001B[0;32m   1702\u001B[0m \u001B[38;5;66;03m# If the next job is not ready for retrieval yet, we just wait for\u001B[39;00m\n\u001B[0;32m   1703\u001B[0m \u001B[38;5;66;03m# async callbacks to progress.\u001B[39;00m\n\u001B[0;32m   1704\u001B[0m \u001B[38;5;28;01mif\u001B[39;00m ((\u001B[38;5;28mlen\u001B[39m(\u001B[38;5;28mself\u001B[39m\u001B[38;5;241m.\u001B[39m_jobs) \u001B[38;5;241m==\u001B[39m \u001B[38;5;241m0\u001B[39m) \u001B[38;5;129;01mor\u001B[39;00m\n\u001B[0;32m   1705\u001B[0m     (\u001B[38;5;28mself\u001B[39m\u001B[38;5;241m.\u001B[39m_jobs[\u001B[38;5;241m0\u001B[39m]\u001B[38;5;241m.\u001B[39mget_status(\n\u001B[0;32m   1706\u001B[0m         timeout\u001B[38;5;241m=\u001B[39m\u001B[38;5;28mself\u001B[39m\u001B[38;5;241m.\u001B[39mtimeout) \u001B[38;5;241m==\u001B[39m TASK_PENDING)):\n\u001B[1;32m-> 1707\u001B[0m     time\u001B[38;5;241m.\u001B[39msleep(\u001B[38;5;241m0.01\u001B[39m)\n\u001B[0;32m   1708\u001B[0m     \u001B[38;5;28;01mcontinue\u001B[39;00m\n\u001B[0;32m   1710\u001B[0m \u001B[38;5;66;03m# We need to be careful: the job list can be filling up as\u001B[39;00m\n\u001B[0;32m   1711\u001B[0m \u001B[38;5;66;03m# we empty it and Python list are not thread-safe by\u001B[39;00m\n\u001B[0;32m   1712\u001B[0m \u001B[38;5;66;03m# default hence the use of the lock\u001B[39;00m\n",
      "\u001B[1;31mKeyboardInterrupt\u001B[0m: "
     ]
    }
   ],
   "source": [
    "def build_model(learning_rate=0.00001, activation='relu', regularization=0.00001, dropout_rate=0.0):\n",
    "    model = Sequential()\n",
    "    model.add(Dense(232, activation=activation, input_shape=(3,), kernel_initializer='he_uniform', kernel_regularizer=l2(regularization)))\n",
    "    model.add(Dropout(dropout_rate))\n",
    "\n",
    "    model.add(Dense(152, activation=activation, kernel_initializer='he_uniform', kernel_regularizer=l2(regularization)))\n",
    "    model.add(Dropout(dropout_rate))\n",
    "\n",
    "    model.add(Dense(232, activation=activation, kernel_initializer='he_uniform', kernel_regularizer=l2(regularization)))\n",
    "    model.add(Dropout(dropout_rate))\n",
    "\n",
    "    model.add(Dense(1, activation='linear'))\n",
    "    model.compile(optimizer=Adam(learning_rate=learning_rate), loss='mean_squared_error', metrics=['mae'])\n",
    "    return model\n",
    "\n",
    "early_stopping = EarlyStopping(monitor='val_loss', patience=3)\n",
    "\n",
    "# Verwenden Sie eine Funktion, um das Modell zu instanziieren, für scikit-learn Wrapper\n",
    "model = KerasRegressor(model=build_model, verbose=2, callbacks=[early_stopping])\n",
    "\n",
    "# Anpassung der Parameter im param_grid\n",
    "param_grid = {\n",
    "    'model__learning_rate': [0.00001],\n",
    "    'model__regularization': [0.00001],\n",
    "    'fit__batch_size': [16, 32, 64, 100],\n",
    "    'fit__epochs': [100],\n",
    "    'model__dropout_rate' : [0.0]\n",
    "}\n",
    "\n",
    "grid_search = GridSearchCV(estimator=model, param_grid=param_grid, n_jobs=-1, cv=3, verbose=2)\n",
    "# Hinweis: Stellen Sie sicher, dass Ihre Daten (X_train_scaled, y_train_scaled) korrekt definiert sind\n",
    "grid_result = grid_search.fit(X_train_scaled, y_train_scaled)\n",
    "# Beste Parameter und Score ausgeben\n",
    "print(\"Beste Parameter:\", grid_search.best_params_)\n",
    "print(\"Beste Genauigkeit:\", grid_search.best_score_)\n",
    "\n",
    "with open(\"Gridsearch_D4_t_1.txt\", \"w\") as f:\n",
    "    f.write(f\"Beste Parameter: {grid_search.best_params_}\\n\")\n",
    "    f.write(f\"Beste Genauigkeit: {grid_search.best_score_}\")\n"
   ],
   "metadata": {
    "collapsed": false,
    "ExecuteTime": {
     "end_time": "2024-03-18T12:15:54.960082300Z",
     "start_time": "2024-03-18T11:56:34.729533600Z"
    }
   },
   "id": "7464a951f44a07ee"
  },
  {
   "cell_type": "code",
   "execution_count": null,
   "outputs": [],
   "source": [
    "# # Funktion zum Erstellen des Modells\n",
    "# def build_model(hp):\n",
    "#     model = Sequential()\n",
    "#     model.add(Dense(hp.Int('input_units', min_value=8, max_value=328, step=16), input_shape=(3,), activation='relu'))\n",
    "#     for i in range(hp.Int('n_layers', 1, 10)):\n",
    "#         model.add(Dense(hp.Int(f'units_{i}', min_value=8, max_value=328, step=16), activation='relu'))\n",
    "#     model.add(Dense(1, activation='linear'))\n",
    "#     model.compile(optimizer='adam', loss='mean_squared_error')\n",
    "#     return model\n",
    "# \n",
    "# # Durchführung der Random Search dreimal\n",
    "# for run in range(1, 4):\n",
    "#     # Anpassen des Verzeichnisses und des Projektnamens für jeden Durchlauf\n",
    "#     directory = 'random_search'\n",
    "#     project_name = f'random_search_D4_t_1_{run}'\n",
    "# \n",
    "#     tuner = RandomSearch(\n",
    "#         build_model,\n",
    "#         objective='val_loss',\n",
    "#         max_trials=100,\n",
    "#         executions_per_trial=2,\n",
    "#         directory=directory,\n",
    "#         project_name=project_name\n",
    "#     )\n",
    "# \n",
    "#     # Durchführung des Random Search\n",
    "#     tuner.search(X_train_scaled, y_train_scaled, epochs=50, verbose =0, batch_size=50, validation_split=0.2, callbacks=[EarlyStopping(monitor='val_loss', patience=5)])\n",
    "# \n",
    "#     # Abrufen und Speichern des besten Modells\n",
    "#     best_model = tuner.get_best_models(num_models=1)[0]\n",
    "#     model_path = os.path.join(directory, project_name, 'best_model.h5') \n",
    "#     best_model.save(model_path)\n",
    "# \n",
    "# \n",
    "#     # Optional: Abrufen und Ausgeben der besten Hyperparameter\n",
    "#     best_hyperparameters = tuner.get_best_hyperparameters()[0]\n",
    "# \n",
    "#     # Konvertieren der Hyperparameter in ein DataFrame\n",
    "#     df_hyperparameters = pd.DataFrame([best_hyperparameters.values])\n",
    "#     # Speichern des DataFrame als CSV\n",
    "#     df_hyperparameters.to_csv(f'random_search_D4_t_1_{run}.csv', index=False)\n",
    "# \n",
    "#     print(f\"Beste Hyperparameter für Lauf {run}: {best_hyperparameters.values}\")\n"
   ],
   "metadata": {
    "collapsed": false,
    "ExecuteTime": {
     "start_time": "2024-03-13T10:03:46.649218900Z"
    }
   },
   "id": "d0f02feb42b652f5"
  },
  {
   "cell_type": "code",
   "execution_count": null,
   "outputs": [],
   "source": [],
   "metadata": {
    "collapsed": false,
    "ExecuteTime": {
     "start_time": "2024-03-13T10:03:46.650224Z"
    }
   },
   "id": "3e35d5ebef369658"
  }
 ],
 "metadata": {
  "kernelspec": {
   "display_name": "Python 3 (ipykernel)",
   "language": "python",
   "name": "python3"
  },
  "language_info": {
   "codemirror_mode": {
    "name": "ipython",
    "version": 3
   },
   "file_extension": ".py",
   "mimetype": "text/x-python",
   "name": "python",
   "nbconvert_exporter": "python",
   "pygments_lexer": "ipython3",
   "version": "3.11.4"
  }
 },
 "nbformat": 4,
 "nbformat_minor": 5
}
