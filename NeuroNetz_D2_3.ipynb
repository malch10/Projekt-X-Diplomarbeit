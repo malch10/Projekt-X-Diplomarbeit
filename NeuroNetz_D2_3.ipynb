{
 "cells": [
  {
   "cell_type": "code",
   "execution_count": 1,
   "id": "94b0518e",
   "metadata": {
    "ExecuteTime": {
     "end_time": "2024-03-19T14:23:26.793885600Z",
     "start_time": "2024-03-19T14:23:21.751711900Z"
    }
   },
   "outputs": [
    {
     "name": "stdout",
     "output_type": "stream",
     "text": [
      "WARNING:tensorflow:From C:\\Users\\erikm\\Desktop\\Diplomarbeit Erik Marr\\Projekt X\\venv\\Lib\\site-packages\\keras\\src\\losses.py:2976: The name tf.losses.sparse_softmax_cross_entropy is deprecated. Please use tf.compat.v1.losses.sparse_softmax_cross_entropy instead.\n"
     ]
    }
   ],
   "source": [
    "import numpy as np\n",
    "import os\n",
    "import tensorflow as tf\n",
    "from sklearn.model_selection import KFold\n",
    "import matplotlib.pyplot as plt\n",
    "from sklearn.model_selection import train_test_split\n",
    "from sklearn.preprocessing import MinMaxScaler\n",
    "import pandas as pd\n",
    "from tensorflow.keras.layers import Dense , Dropout\n",
    "from scikeras.wrappers import KerasRegressor \n",
    "from tensorflow.keras.callbacks import EarlyStopping\n",
    "import time\n",
    "from keras.models import Sequential\n",
    "from keras.layers import Dense, Dropout\n",
    "from keras.optimizers import Adam\n",
    "from keras.regularizers import l2\n",
    "from keras.callbacks import EarlyStopping\n",
    "from keras_tuner import RandomSearch\n",
    "from tensorflow.keras.models import Sequential\n",
    "from tensorflow.keras.layers import Dense\n",
    "from tensorflow.keras.optimizers import Adam\n",
    "from tensorflow.keras.regularizers import l2\n",
    "from sklearn.model_selection import GridSearchCV\n"
   ]
  },
  {
   "cell_type": "code",
   "execution_count": 2,
   "id": "e4ff61b1",
   "metadata": {
    "ExecuteTime": {
     "end_time": "2024-03-19T14:23:28.194948400Z",
     "start_time": "2024-03-19T14:23:28.131452400Z"
    }
   },
   "outputs": [
    {
     "data": {
      "text/plain": "       X-Koordinate  Y-Koordinate  Zeitpunkt  Strom  Kraft  Temperatur\n0            0.0000      -0.00200        500   7000   9000      669.05\n1            0.0000      -0.00198        500   7000   9000      682.81\n2            0.0000      -0.00196        500   7000   9000      696.80\n3            0.0000      -0.00194        500   7000   9000      710.67\n4            0.0000      -0.00192        500   7000   9000      724.42\n...             ...           ...        ...    ...    ...         ...\n25321        0.0025       0.00192        500   7000   9000      584.84\n25322        0.0025       0.00194        500   7000   9000      581.64\n25323        0.0025       0.00196        500   7000   9000      578.47\n25324        0.0025       0.00198        500   7000   9000      575.32\n25325        0.0025       0.00200        500   7000   9000      572.20\n\n[25326 rows x 6 columns]",
      "text/html": "<div>\n<style scoped>\n    .dataframe tbody tr th:only-of-type {\n        vertical-align: middle;\n    }\n\n    .dataframe tbody tr th {\n        vertical-align: top;\n    }\n\n    .dataframe thead th {\n        text-align: right;\n    }\n</style>\n<table border=\"1\" class=\"dataframe\">\n  <thead>\n    <tr style=\"text-align: right;\">\n      <th></th>\n      <th>X-Koordinate</th>\n      <th>Y-Koordinate</th>\n      <th>Zeitpunkt</th>\n      <th>Strom</th>\n      <th>Kraft</th>\n      <th>Temperatur</th>\n    </tr>\n  </thead>\n  <tbody>\n    <tr>\n      <th>0</th>\n      <td>0.0000</td>\n      <td>-0.00200</td>\n      <td>500</td>\n      <td>7000</td>\n      <td>9000</td>\n      <td>669.05</td>\n    </tr>\n    <tr>\n      <th>1</th>\n      <td>0.0000</td>\n      <td>-0.00198</td>\n      <td>500</td>\n      <td>7000</td>\n      <td>9000</td>\n      <td>682.81</td>\n    </tr>\n    <tr>\n      <th>2</th>\n      <td>0.0000</td>\n      <td>-0.00196</td>\n      <td>500</td>\n      <td>7000</td>\n      <td>9000</td>\n      <td>696.80</td>\n    </tr>\n    <tr>\n      <th>3</th>\n      <td>0.0000</td>\n      <td>-0.00194</td>\n      <td>500</td>\n      <td>7000</td>\n      <td>9000</td>\n      <td>710.67</td>\n    </tr>\n    <tr>\n      <th>4</th>\n      <td>0.0000</td>\n      <td>-0.00192</td>\n      <td>500</td>\n      <td>7000</td>\n      <td>9000</td>\n      <td>724.42</td>\n    </tr>\n    <tr>\n      <th>...</th>\n      <td>...</td>\n      <td>...</td>\n      <td>...</td>\n      <td>...</td>\n      <td>...</td>\n      <td>...</td>\n    </tr>\n    <tr>\n      <th>25321</th>\n      <td>0.0025</td>\n      <td>0.00192</td>\n      <td>500</td>\n      <td>7000</td>\n      <td>9000</td>\n      <td>584.84</td>\n    </tr>\n    <tr>\n      <th>25322</th>\n      <td>0.0025</td>\n      <td>0.00194</td>\n      <td>500</td>\n      <td>7000</td>\n      <td>9000</td>\n      <td>581.64</td>\n    </tr>\n    <tr>\n      <th>25323</th>\n      <td>0.0025</td>\n      <td>0.00196</td>\n      <td>500</td>\n      <td>7000</td>\n      <td>9000</td>\n      <td>578.47</td>\n    </tr>\n    <tr>\n      <th>25324</th>\n      <td>0.0025</td>\n      <td>0.00198</td>\n      <td>500</td>\n      <td>7000</td>\n      <td>9000</td>\n      <td>575.32</td>\n    </tr>\n    <tr>\n      <th>25325</th>\n      <td>0.0025</td>\n      <td>0.00200</td>\n      <td>500</td>\n      <td>7000</td>\n      <td>9000</td>\n      <td>572.20</td>\n    </tr>\n  </tbody>\n</table>\n<p>25326 rows × 6 columns</p>\n</div>"
     },
     "execution_count": 2,
     "metadata": {},
     "output_type": "execute_result"
    }
   ],
   "source": [
    "#data = pd.read_pickle('C:/Users/erikm/Desktop/Diplomarbeit Erik Marr/Daten/Finish/TPath_300_finish_data.pkl')\n",
    "data = pd.read_pickle('C:/Users/erikm/Desktop/Diplomarbeit Erik Marr/Daten/Finish/Finish_D2_I7000_F9000/TPath_500_finish_data_D2.pkl')\n",
    "\n",
    "data"
   ]
  },
  {
   "cell_type": "code",
   "execution_count": 3,
   "id": "966e3c74",
   "metadata": {
    "ExecuteTime": {
     "end_time": "2024-03-19T14:23:28.936260400Z",
     "start_time": "2024-03-19T14:23:28.894508Z"
    }
   },
   "outputs": [
    {
     "data": {
      "text/plain": "       X-Koordinate  Y-Koordinate  Temperatur\n0            0.0000      -0.00200      669.05\n1            0.0000      -0.00198      682.81\n2            0.0000      -0.00196      696.80\n3            0.0000      -0.00194      710.67\n4            0.0000      -0.00192      724.42\n...             ...           ...         ...\n25321        0.0025       0.00192      584.84\n25322        0.0025       0.00194      581.64\n25323        0.0025       0.00196      578.47\n25324        0.0025       0.00198      575.32\n25325        0.0025       0.00200      572.20\n\n[25326 rows x 3 columns]",
      "text/html": "<div>\n<style scoped>\n    .dataframe tbody tr th:only-of-type {\n        vertical-align: middle;\n    }\n\n    .dataframe tbody tr th {\n        vertical-align: top;\n    }\n\n    .dataframe thead th {\n        text-align: right;\n    }\n</style>\n<table border=\"1\" class=\"dataframe\">\n  <thead>\n    <tr style=\"text-align: right;\">\n      <th></th>\n      <th>X-Koordinate</th>\n      <th>Y-Koordinate</th>\n      <th>Temperatur</th>\n    </tr>\n  </thead>\n  <tbody>\n    <tr>\n      <th>0</th>\n      <td>0.0000</td>\n      <td>-0.00200</td>\n      <td>669.05</td>\n    </tr>\n    <tr>\n      <th>1</th>\n      <td>0.0000</td>\n      <td>-0.00198</td>\n      <td>682.81</td>\n    </tr>\n    <tr>\n      <th>2</th>\n      <td>0.0000</td>\n      <td>-0.00196</td>\n      <td>696.80</td>\n    </tr>\n    <tr>\n      <th>3</th>\n      <td>0.0000</td>\n      <td>-0.00194</td>\n      <td>710.67</td>\n    </tr>\n    <tr>\n      <th>4</th>\n      <td>0.0000</td>\n      <td>-0.00192</td>\n      <td>724.42</td>\n    </tr>\n    <tr>\n      <th>...</th>\n      <td>...</td>\n      <td>...</td>\n      <td>...</td>\n    </tr>\n    <tr>\n      <th>25321</th>\n      <td>0.0025</td>\n      <td>0.00192</td>\n      <td>584.84</td>\n    </tr>\n    <tr>\n      <th>25322</th>\n      <td>0.0025</td>\n      <td>0.00194</td>\n      <td>581.64</td>\n    </tr>\n    <tr>\n      <th>25323</th>\n      <td>0.0025</td>\n      <td>0.00196</td>\n      <td>578.47</td>\n    </tr>\n    <tr>\n      <th>25324</th>\n      <td>0.0025</td>\n      <td>0.00198</td>\n      <td>575.32</td>\n    </tr>\n    <tr>\n      <th>25325</th>\n      <td>0.0025</td>\n      <td>0.00200</td>\n      <td>572.20</td>\n    </tr>\n  </tbody>\n</table>\n<p>25326 rows × 3 columns</p>\n</div>"
     },
     "execution_count": 3,
     "metadata": {},
     "output_type": "execute_result"
    }
   ],
   "source": [
    "df = data.drop(data.columns[2:5], axis = 1)\n",
    "df"
   ]
  },
  {
   "cell_type": "code",
   "execution_count": 4,
   "id": "8783d1d6",
   "metadata": {
    "ExecuteTime": {
     "end_time": "2024-03-19T14:23:29.511094900Z",
     "start_time": "2024-03-19T14:23:29.462303300Z"
    }
   },
   "outputs": [
    {
     "name": "stdout",
     "output_type": "stream",
     "text": [
      "       X-Koordinate  Y-Koordinate  Temperatur\n",
      "5099        0.00050      -0.00052     1471.00\n",
      "12799       0.00126       0.00072     1319.30\n",
      "15071       0.00148       0.00194      595.19\n",
      "24620       0.00244      -0.00004     1249.00\n",
      "11071       0.00110      -0.00168      884.35\n",
      "...             ...           ...         ...\n",
      "21575       0.00214      -0.00064     1263.60\n",
      "5390        0.00052       0.00128     1035.40\n",
      "860         0.00008      -0.00088     1376.50\n",
      "15795       0.00156       0.00034     1383.80\n",
      "23654       0.00234       0.00074     1149.60\n",
      "\n",
      "[25326 rows x 3 columns]\n"
     ]
    },
    {
     "data": {
      "text/plain": "       X-Koordinate  Y-Koordinate  Temperatur\n0           0.00050      -0.00052     1471.00\n1           0.00126       0.00072     1319.30\n2           0.00148       0.00194      595.19\n3           0.00244      -0.00004     1249.00\n4           0.00110      -0.00168      884.35\n...             ...           ...         ...\n25321       0.00214      -0.00064     1263.60\n25322       0.00052       0.00128     1035.40\n25323       0.00008      -0.00088     1376.50\n25324       0.00156       0.00034     1383.80\n25325       0.00234       0.00074     1149.60\n\n[25326 rows x 3 columns]",
      "text/html": "<div>\n<style scoped>\n    .dataframe tbody tr th:only-of-type {\n        vertical-align: middle;\n    }\n\n    .dataframe tbody tr th {\n        vertical-align: top;\n    }\n\n    .dataframe thead th {\n        text-align: right;\n    }\n</style>\n<table border=\"1\" class=\"dataframe\">\n  <thead>\n    <tr style=\"text-align: right;\">\n      <th></th>\n      <th>X-Koordinate</th>\n      <th>Y-Koordinate</th>\n      <th>Temperatur</th>\n    </tr>\n  </thead>\n  <tbody>\n    <tr>\n      <th>0</th>\n      <td>0.00050</td>\n      <td>-0.00052</td>\n      <td>1471.00</td>\n    </tr>\n    <tr>\n      <th>1</th>\n      <td>0.00126</td>\n      <td>0.00072</td>\n      <td>1319.30</td>\n    </tr>\n    <tr>\n      <th>2</th>\n      <td>0.00148</td>\n      <td>0.00194</td>\n      <td>595.19</td>\n    </tr>\n    <tr>\n      <th>3</th>\n      <td>0.00244</td>\n      <td>-0.00004</td>\n      <td>1249.00</td>\n    </tr>\n    <tr>\n      <th>4</th>\n      <td>0.00110</td>\n      <td>-0.00168</td>\n      <td>884.35</td>\n    </tr>\n    <tr>\n      <th>...</th>\n      <td>...</td>\n      <td>...</td>\n      <td>...</td>\n    </tr>\n    <tr>\n      <th>25321</th>\n      <td>0.00214</td>\n      <td>-0.00064</td>\n      <td>1263.60</td>\n    </tr>\n    <tr>\n      <th>25322</th>\n      <td>0.00052</td>\n      <td>0.00128</td>\n      <td>1035.40</td>\n    </tr>\n    <tr>\n      <th>25323</th>\n      <td>0.00008</td>\n      <td>-0.00088</td>\n      <td>1376.50</td>\n    </tr>\n    <tr>\n      <th>25324</th>\n      <td>0.00156</td>\n      <td>0.00034</td>\n      <td>1383.80</td>\n    </tr>\n    <tr>\n      <th>25325</th>\n      <td>0.00234</td>\n      <td>0.00074</td>\n      <td>1149.60</td>\n    </tr>\n  </tbody>\n</table>\n<p>25326 rows × 3 columns</p>\n</div>"
     },
     "execution_count": 4,
     "metadata": {},
     "output_type": "execute_result"
    }
   ],
   "source": [
    "df1 = df.sample(frac=1, random_state=42)  # Hier wird 42 als Random State verwendet, um die Ergebnisse reproduzierbar zu machen\n",
    "\n",
    "print(df1)\n",
    "df_reset = df1.reset_index(drop=True)\n",
    "df_reset"
   ]
  },
  {
   "cell_type": "code",
   "execution_count": 5,
   "id": "a4e72a16",
   "metadata": {
    "ExecuteTime": {
     "end_time": "2024-03-19T14:23:29.943599400Z",
     "start_time": "2024-03-19T14:23:29.896421Z"
    }
   },
   "outputs": [],
   "source": [
    "label = df_reset[\"Temperatur\"]\n",
    "# Korrektur: Verwenden Sie den Spaltennamen direkt, ohne Indexierung der columns-Eigenschaft\n",
    "df1 = df_reset.drop(\"Temperatur\", axis=1)\n",
    "X = df1\n",
    "y = label\n"
   ]
  },
  {
   "cell_type": "markdown",
   "source": [],
   "metadata": {
    "collapsed": false
   },
   "id": "f7fa289a50d87423"
  },
  {
   "cell_type": "code",
   "execution_count": 6,
   "id": "e694a236",
   "metadata": {
    "ExecuteTime": {
     "end_time": "2024-03-19T14:23:30.839638900Z",
     "start_time": "2024-03-19T14:23:30.772362700Z"
    }
   },
   "outputs": [
    {
     "data": {
      "text/plain": "       X-Koordinate  Y-Koordinate\n0           0.00050      -0.00052\n1           0.00126       0.00072\n2           0.00148       0.00194\n3           0.00244      -0.00004\n4           0.00110      -0.00168\n...             ...           ...\n25321       0.00214      -0.00064\n25322       0.00052       0.00128\n25323       0.00008      -0.00088\n25324       0.00156       0.00034\n25325       0.00234       0.00074\n\n[25326 rows x 2 columns]",
      "text/html": "<div>\n<style scoped>\n    .dataframe tbody tr th:only-of-type {\n        vertical-align: middle;\n    }\n\n    .dataframe tbody tr th {\n        vertical-align: top;\n    }\n\n    .dataframe thead th {\n        text-align: right;\n    }\n</style>\n<table border=\"1\" class=\"dataframe\">\n  <thead>\n    <tr style=\"text-align: right;\">\n      <th></th>\n      <th>X-Koordinate</th>\n      <th>Y-Koordinate</th>\n    </tr>\n  </thead>\n  <tbody>\n    <tr>\n      <th>0</th>\n      <td>0.00050</td>\n      <td>-0.00052</td>\n    </tr>\n    <tr>\n      <th>1</th>\n      <td>0.00126</td>\n      <td>0.00072</td>\n    </tr>\n    <tr>\n      <th>2</th>\n      <td>0.00148</td>\n      <td>0.00194</td>\n    </tr>\n    <tr>\n      <th>3</th>\n      <td>0.00244</td>\n      <td>-0.00004</td>\n    </tr>\n    <tr>\n      <th>4</th>\n      <td>0.00110</td>\n      <td>-0.00168</td>\n    </tr>\n    <tr>\n      <th>...</th>\n      <td>...</td>\n      <td>...</td>\n    </tr>\n    <tr>\n      <th>25321</th>\n      <td>0.00214</td>\n      <td>-0.00064</td>\n    </tr>\n    <tr>\n      <th>25322</th>\n      <td>0.00052</td>\n      <td>0.00128</td>\n    </tr>\n    <tr>\n      <th>25323</th>\n      <td>0.00008</td>\n      <td>-0.00088</td>\n    </tr>\n    <tr>\n      <th>25324</th>\n      <td>0.00156</td>\n      <td>0.00034</td>\n    </tr>\n    <tr>\n      <th>25325</th>\n      <td>0.00234</td>\n      <td>0.00074</td>\n    </tr>\n  </tbody>\n</table>\n<p>25326 rows × 2 columns</p>\n</div>"
     },
     "execution_count": 6,
     "metadata": {},
     "output_type": "execute_result"
    }
   ],
   "source": [
    "X"
   ]
  },
  {
   "cell_type": "code",
   "execution_count": 7,
   "id": "3f3303b4",
   "metadata": {
    "ExecuteTime": {
     "end_time": "2024-03-19T14:23:31.370405600Z",
     "start_time": "2024-03-19T14:23:31.294533900Z"
    }
   },
   "outputs": [
    {
     "data": {
      "text/plain": "0        1471.00\n1        1319.30\n2         595.19\n3        1249.00\n4         884.35\n          ...   \n25321    1263.60\n25322    1035.40\n25323    1376.50\n25324    1383.80\n25325    1149.60\nName: Temperatur, Length: 25326, dtype: float64"
     },
     "execution_count": 7,
     "metadata": {},
     "output_type": "execute_result"
    }
   ],
   "source": [
    "y"
   ]
  },
  {
   "cell_type": "code",
   "execution_count": 8,
   "id": "e3ad8da0",
   "metadata": {
    "ExecuteTime": {
     "end_time": "2024-03-19T14:23:31.977842600Z",
     "start_time": "2024-03-19T14:23:31.935875900Z"
    }
   },
   "outputs": [],
   "source": [
    " # train_df enthält 80% der Daten, test_df enthält 20% der Daten\n",
    "X_train, X_test, y_train, y_test = train_test_split(X, y, test_size=0.20, random_state=42)\n"
   ]
  },
  {
   "cell_type": "code",
   "execution_count": 9,
   "id": "9c705edb",
   "metadata": {
    "ExecuteTime": {
     "end_time": "2024-03-19T14:23:32.553664100Z",
     "start_time": "2024-03-19T14:23:32.534262200Z"
    }
   },
   "outputs": [],
   "source": [
    "# Initialisiere einen MinMaxScaler für die Features\n",
    "scaler_features = MinMaxScaler()\n",
    "scaler_features2 = MinMaxScaler()\n",
    "# Skaliere X_train und X_test\n",
    "X_train_scaled = scaler_features.fit_transform(X_train)\n",
    "X_test_scaled = scaler_features.transform(X_test)  # Nutze unterschiedliche Skalierungsparameter\n",
    "\n",
    "# Initialisiere einen SEPARATEN MinMaxScaler für das Ziel, wenn nötig\n",
    "scaler_target = MinMaxScaler()\n",
    "\n",
    "\n",
    "# Skaliere y_train und y_test. Beachte, dass y_train.reshape(-1, 1) verwendet wird, da MinMaxScaler \n",
    "# erwartet, dass die Eingaben als 2D-Arrays kommen, und Ziele normalerweise als 1D-Arrays vorliegen.\n",
    "y_train_scaled = scaler_target.fit_transform(y_train.values.reshape(-1, 1))\n",
    "y_test_scaled = scaler_target.transform(y_test.values.reshape(-1, 1))\n"
   ]
  },
  {
   "cell_type": "code",
   "execution_count": 10,
   "id": "bbefe631e495b483",
   "metadata": {
    "ExecuteTime": {
     "end_time": "2024-03-19T14:23:33.224317Z",
     "start_time": "2024-03-19T14:23:33.188405100Z"
    }
   },
   "outputs": [
    {
     "data": {
      "text/plain": "array([[1.   , 0.15 ],\n       [0.984, 0.49 ],\n       [0.224, 0.905],\n       ...,\n       [0.04 , 0.585],\n       [0.976, 0.815],\n       [0.744, 0.785]])"
     },
     "execution_count": 10,
     "metadata": {},
     "output_type": "execute_result"
    }
   ],
   "source": [
    "X_train_scaled"
   ]
  },
  {
   "cell_type": "markdown",
   "source": [
    "# Netzwerkarchitektur"
   ],
   "metadata": {
    "collapsed": false
   },
   "id": "d664797f8dcbd88c"
  },
  {
   "cell_type": "code",
   "execution_count": 11,
   "outputs": [
    {
     "name": "stdout",
     "output_type": "stream",
     "text": [
      "WARNING:tensorflow:From C:\\Users\\erikm\\Desktop\\Diplomarbeit Erik Marr\\Projekt X\\venv\\Lib\\site-packages\\keras\\src\\backend.py:873: The name tf.get_default_graph is deprecated. Please use tf.compat.v1.get_default_graph instead.\n",
      "Epoch 1/400\n",
      "WARNING:tensorflow:From C:\\Users\\erikm\\Desktop\\Diplomarbeit Erik Marr\\Projekt X\\venv\\Lib\\site-packages\\keras\\src\\utils\\tf_utils.py:492: The name tf.ragged.RaggedTensorValue is deprecated. Please use tf.compat.v1.ragged.RaggedTensorValue instead.\n",
      "WARNING:tensorflow:From C:\\Users\\erikm\\Desktop\\Diplomarbeit Erik Marr\\Projekt X\\venv\\Lib\\site-packages\\keras\\src\\engine\\base_layer_utils.py:384: The name tf.executing_eagerly_outside_functions is deprecated. Please use tf.compat.v1.executing_eagerly_outside_functions instead.\n",
      "325/325 [==============================] - 2s 3ms/step - loss: 0.0690 - mae: 0.1169 - val_loss: 0.0194 - val_mae: 0.0106\n",
      "Epoch 2/400\n",
      "325/325 [==============================] - 1s 2ms/step - loss: 0.0199 - mae: 0.0209 - val_loss: 0.0181 - val_mae: 0.0070\n",
      "Epoch 3/400\n",
      "325/325 [==============================] - 1s 2ms/step - loss: 0.0177 - mae: 0.0076 - val_loss: 0.0173 - val_mae: 0.0102\n",
      "Epoch 4/400\n",
      "325/325 [==============================] - 1s 3ms/step - loss: 0.0178 - mae: 0.0193 - val_loss: 0.0167 - val_mae: 0.0140\n",
      "Epoch 5/400\n",
      "325/325 [==============================] - 1s 3ms/step - loss: 0.0162 - mae: 0.0087 - val_loss: 0.0158 - val_mae: 0.0103\n",
      "Epoch 6/400\n",
      "325/325 [==============================] - 1s 2ms/step - loss: 0.0156 - mae: 0.0095 - val_loss: 0.0151 - val_mae: 0.0045\n",
      "Epoch 7/400\n",
      "325/325 [==============================] - 1s 2ms/step - loss: 0.0150 - mae: 0.0103 - val_loss: 0.0147 - val_mae: 0.0119\n",
      "Epoch 8/400\n",
      "325/325 [==============================] - 1s 2ms/step - loss: 0.0146 - mae: 0.0138 - val_loss: 0.0141 - val_mae: 0.0113\n",
      "Epoch 9/400\n",
      "325/325 [==============================] - 1s 2ms/step - loss: 0.0137 - mae: 0.0083 - val_loss: 0.0135 - val_mae: 0.0118\n",
      "Epoch 10/400\n",
      "325/325 [==============================] - 1s 2ms/step - loss: 0.0133 - mae: 0.0113 - val_loss: 0.0161 - val_mae: 0.0373\n",
      "Epoch 11/400\n",
      "325/325 [==============================] - 1s 2ms/step - loss: 0.0130 - mae: 0.0137 - val_loss: 0.0126 - val_mae: 0.0170\n",
      "Epoch 12/400\n",
      "325/325 [==============================] - 1s 3ms/step - loss: 0.0122 - mae: 0.0131 - val_loss: 0.0128 - val_mae: 0.0265\n",
      "Epoch 13/400\n",
      "325/325 [==============================] - 1s 2ms/step - loss: 0.0115 - mae: 0.0093 - val_loss: 0.0112 - val_mae: 0.0112\n",
      "Epoch 14/400\n",
      "325/325 [==============================] - 1s 2ms/step - loss: 0.0108 - mae: 0.0075 - val_loss: 0.0108 - val_mae: 0.0167\n",
      "Epoch 15/400\n",
      "325/325 [==============================] - 1s 3ms/step - loss: 0.0108 - mae: 0.0150 - val_loss: 0.0099 - val_mae: 0.0042\n",
      "Epoch 16/400\n",
      "325/325 [==============================] - 1s 2ms/step - loss: 0.0096 - mae: 0.0059 - val_loss: 0.0093 - val_mae: 0.0049\n",
      "Epoch 17/400\n",
      "325/325 [==============================] - 1s 2ms/step - loss: 0.0091 - mae: 0.0085 - val_loss: 0.0087 - val_mae: 0.0053\n",
      "Epoch 18/400\n",
      "325/325 [==============================] - 1s 2ms/step - loss: 0.0086 - mae: 0.0097 - val_loss: 0.0082 - val_mae: 0.0057\n",
      "Epoch 19/400\n",
      "325/325 [==============================] - 1s 3ms/step - loss: 0.0081 - mae: 0.0101 - val_loss: 0.0077 - val_mae: 0.0108\n",
      "Epoch 20/400\n",
      "325/325 [==============================] - 1s 3ms/step - loss: 0.0076 - mae: 0.0112 - val_loss: 0.0077 - val_mae: 0.0225\n",
      "Epoch 21/400\n",
      "325/325 [==============================] - 1s 3ms/step - loss: 0.0069 - mae: 0.0077 - val_loss: 0.0065 - val_mae: 0.0051\n",
      "Epoch 22/400\n",
      "325/325 [==============================] - 1s 3ms/step - loss: 0.0070 - mae: 0.0169 - val_loss: 0.0063 - val_mae: 0.0128\n",
      "Epoch 23/400\n",
      "325/325 [==============================] - 1s 3ms/step - loss: 0.0059 - mae: 0.0068 - val_loss: 0.0056 - val_mae: 0.0065\n",
      "Epoch 24/400\n",
      "325/325 [==============================] - 1s 3ms/step - loss: 0.0054 - mae: 0.0054 - val_loss: 0.0053 - val_mae: 0.0101\n",
      "Epoch 25/400\n",
      "325/325 [==============================] - 1s 2ms/step - loss: 0.0050 - mae: 0.0068 - val_loss: 0.0047 - val_mae: 0.0052\n",
      "Epoch 26/400\n",
      "325/325 [==============================] - 1s 2ms/step - loss: 0.0046 - mae: 0.0079 - val_loss: 0.0043 - val_mae: 0.0045\n",
      "Epoch 27/400\n",
      "325/325 [==============================] - 1s 3ms/step - loss: 0.0045 - mae: 0.0115 - val_loss: 0.0066 - val_mae: 0.0387\n",
      "Epoch 28/400\n",
      "325/325 [==============================] - 1s 2ms/step - loss: 0.0040 - mae: 0.0092 - val_loss: 0.0036 - val_mae: 0.0042\n",
      "Epoch 29/400\n",
      "325/325 [==============================] - 1s 3ms/step - loss: 0.0034 - mae: 0.0058 - val_loss: 0.0032 - val_mae: 0.0035\n",
      "Epoch 30/400\n",
      "325/325 [==============================] - 1s 2ms/step - loss: 0.0031 - mae: 0.0041 - val_loss: 0.0031 - val_mae: 0.0106\n",
      "Epoch 31/400\n",
      "325/325 [==============================] - 1s 2ms/step - loss: 0.0029 - mae: 0.0060 - val_loss: 0.0030 - val_mae: 0.0126\n",
      "Epoch 32/400\n",
      "325/325 [==============================] - 1s 2ms/step - loss: 0.0030 - mae: 0.0114 - val_loss: 0.0025 - val_mae: 0.0051\n",
      "Epoch 33/400\n",
      "325/325 [==============================] - 1s 2ms/step - loss: 0.0024 - mae: 0.0046 - val_loss: 0.0023 - val_mae: 0.0069\n",
      "Epoch 34/400\n",
      "325/325 [==============================] - 1s 2ms/step - loss: 0.0022 - mae: 0.0052 - val_loss: 0.0021 - val_mae: 0.0061\n",
      "Epoch 35/400\n",
      "325/325 [==============================] - 1s 2ms/step - loss: 0.0020 - mae: 0.0057 - val_loss: 0.0020 - val_mae: 0.0092\n",
      "Epoch 36/400\n",
      "325/325 [==============================] - 1s 2ms/step - loss: 0.0019 - mae: 0.0084 - val_loss: 0.0018 - val_mae: 0.0064\n",
      "Epoch 37/400\n",
      "325/325 [==============================] - 1s 2ms/step - loss: 0.0017 - mae: 0.0068 - val_loss: 0.0017 - val_mae: 0.0089\n",
      "Epoch 38/400\n",
      "325/325 [==============================] - 1s 2ms/step - loss: 0.0016 - mae: 0.0081 - val_loss: 0.0016 - val_mae: 0.0082\n",
      "Epoch 39/400\n",
      "325/325 [==============================] - 1s 2ms/step - loss: 0.0016 - mae: 0.0070 - val_loss: 0.0014 - val_mae: 0.0046\n",
      "Epoch 40/400\n",
      "325/325 [==============================] - 1s 3ms/step - loss: 0.0014 - mae: 0.0062 - val_loss: 0.0013 - val_mae: 0.0028\n",
      "Epoch 41/400\n",
      "325/325 [==============================] - 1s 2ms/step - loss: 0.0013 - mae: 0.0052 - val_loss: 0.0012 - val_mae: 0.0023\n",
      "Epoch 42/400\n",
      "325/325 [==============================] - 1s 2ms/step - loss: 0.0012 - mae: 0.0065 - val_loss: 0.0012 - val_mae: 0.0065\n",
      "Epoch 43/400\n",
      "325/325 [==============================] - 1s 3ms/step - loss: 0.0012 - mae: 0.0069 - val_loss: 0.0011 - val_mae: 0.0059\n",
      "Epoch 44/400\n",
      "325/325 [==============================] - 1s 3ms/step - loss: 0.0011 - mae: 0.0055 - val_loss: 0.0013 - val_mae: 0.0154\n",
      "Epoch 45/400\n",
      "325/325 [==============================] - 1s 2ms/step - loss: 0.0011 - mae: 0.0061 - val_loss: 9.9860e-04 - val_mae: 0.0055\n",
      "Epoch 46/400\n",
      "325/325 [==============================] - 1s 2ms/step - loss: 0.0011 - mae: 0.0091 - val_loss: 9.3477e-04 - val_mae: 0.0035\n",
      "Epoch 47/400\n",
      "325/325 [==============================] - 1s 2ms/step - loss: 9.3742e-04 - mae: 0.0048 - val_loss: 9.2002e-04 - val_mae: 0.0058\n",
      "Epoch 48/400\n",
      "325/325 [==============================] - 1s 3ms/step - loss: 9.0025e-04 - mae: 0.0049 - val_loss: 8.4245e-04 - val_mae: 0.0027\n",
      "Epoch 49/400\n",
      "325/325 [==============================] - 1s 2ms/step - loss: 8.9256e-04 - mae: 0.0059 - val_loss: 8.3230e-04 - val_mae: 0.0046\n",
      "Epoch 50/400\n",
      "325/325 [==============================] - 1s 2ms/step - loss: 8.5486e-04 - mae: 0.0064 - val_loss: 8.5600e-04 - val_mae: 0.0088\n",
      "Epoch 51/400\n",
      "325/325 [==============================] - 1s 3ms/step - loss: 7.8736e-04 - mae: 0.0049 - val_loss: 7.8414e-04 - val_mae: 0.0057\n",
      "Epoch 52/400\n",
      "325/325 [==============================] - 1s 3ms/step - loss: 7.4630e-04 - mae: 0.0044 - val_loss: 9.5353e-04 - val_mae: 0.0140\n",
      "Epoch 53/400\n",
      "325/325 [==============================] - 1s 2ms/step - loss: 7.9523e-04 - mae: 0.0066 - val_loss: 7.1083e-04 - val_mae: 0.0053\n",
      "Epoch 54/400\n",
      "325/325 [==============================] - 1s 2ms/step - loss: 7.7478e-04 - mae: 0.0076 - val_loss: 6.8708e-04 - val_mae: 0.0056\n",
      "Epoch 55/400\n",
      "325/325 [==============================] - 1s 2ms/step - loss: 6.5495e-04 - mae: 0.0034 - val_loss: 6.7083e-04 - val_mae: 0.0058\n",
      "Epoch 56/400\n",
      "325/325 [==============================] - 1s 2ms/step - loss: 6.3973e-04 - mae: 0.0043 - val_loss: 6.6693e-04 - val_mae: 0.0072\n",
      "Epoch 57/400\n",
      "325/325 [==============================] - 1s 2ms/step - loss: 6.3548e-04 - mae: 0.0050 - val_loss: 8.5806e-04 - val_mae: 0.0109\n",
      "Epoch 58/400\n",
      "325/325 [==============================] - 1s 3ms/step - loss: 6.9880e-04 - mae: 0.0078 - val_loss: 6.1249e-04 - val_mae: 0.0065\n",
      "Epoch 59/400\n",
      "325/325 [==============================] - 1s 2ms/step - loss: 5.8670e-04 - mae: 0.0046 - val_loss: 5.5923e-04 - val_mae: 0.0035\n",
      "Epoch 60/400\n",
      "325/325 [==============================] - 1s 2ms/step - loss: 5.9553e-04 - mae: 0.0056 - val_loss: 5.2888e-04 - val_mae: 0.0025\n",
      "Epoch 61/400\n",
      "325/325 [==============================] - 1s 2ms/step - loss: 5.4149e-04 - mae: 0.0041 - val_loss: 5.2158e-04 - val_mae: 0.0038\n",
      "Epoch 62/400\n",
      "325/325 [==============================] - 1s 2ms/step - loss: 5.9727e-04 - mae: 0.0070 - val_loss: 5.2104e-04 - val_mae: 0.0042\n",
      "Epoch 63/400\n",
      "325/325 [==============================] - 1s 3ms/step - loss: 5.3279e-04 - mae: 0.0053 - val_loss: 5.0274e-04 - val_mae: 0.0042\n",
      "Epoch 64/400\n",
      "325/325 [==============================] - 1s 3ms/step - loss: 4.9338e-04 - mae: 0.0041 - val_loss: 5.0837e-04 - val_mae: 0.0055\n",
      "Epoch 65/400\n",
      "325/325 [==============================] - 1s 3ms/step - loss: 5.0755e-04 - mae: 0.0057 - val_loss: 5.0472e-04 - val_mae: 0.0065\n",
      "Epoch 66/400\n",
      "325/325 [==============================] - 1s 3ms/step - loss: 4.8869e-04 - mae: 0.0053 - val_loss: 4.4310e-04 - val_mae: 0.0029\n",
      "Epoch 67/400\n",
      "325/325 [==============================] - 1s 3ms/step - loss: 4.6283e-04 - mae: 0.0048 - val_loss: 4.5586e-04 - val_mae: 0.0050\n",
      "Epoch 68/400\n",
      "325/325 [==============================] - 1s 2ms/step - loss: 5.4049e-04 - mae: 0.0067 - val_loss: 4.7020e-04 - val_mae: 0.0058\n",
      "Epoch 69/400\n",
      "325/325 [==============================] - 1s 2ms/step - loss: 4.2480e-04 - mae: 0.0035 - val_loss: 4.1800e-04 - val_mae: 0.0041\n",
      "Epoch 70/400\n",
      "325/325 [==============================] - 1s 3ms/step - loss: 4.2339e-04 - mae: 0.0042 - val_loss: 4.0044e-04 - val_mae: 0.0031\n",
      "Epoch 71/400\n",
      "325/325 [==============================] - 1s 3ms/step - loss: 4.2094e-04 - mae: 0.0047 - val_loss: 5.0676e-04 - val_mae: 0.0108\n",
      "Epoch 72/400\n",
      "325/325 [==============================] - 1s 3ms/step - loss: 4.8617e-04 - mae: 0.0080 - val_loss: 4.6309e-04 - val_mae: 0.0075\n",
      "Epoch 73/400\n",
      "325/325 [==============================] - 1s 2ms/step - loss: 3.9680e-04 - mae: 0.0040 - val_loss: 4.2966e-04 - val_mae: 0.0056\n",
      "Epoch 74/400\n",
      "325/325 [==============================] - 1s 3ms/step - loss: 4.2353e-04 - mae: 0.0059 - val_loss: 3.7357e-04 - val_mae: 0.0033\n",
      "Epoch 75/400\n",
      "325/325 [==============================] - 1s 3ms/step - loss: 3.7072e-04 - mae: 0.0035 - val_loss: 3.6151e-04 - val_mae: 0.0030\n",
      "Epoch 76/400\n",
      "325/325 [==============================] - 1s 3ms/step - loss: 3.8504e-04 - mae: 0.0046 - val_loss: 3.4880e-04 - val_mae: 0.0025\n",
      "Epoch 77/400\n",
      "325/325 [==============================] - 1s 2ms/step - loss: 3.6931e-04 - mae: 0.0043 - val_loss: 5.6345e-04 - val_mae: 0.0119\n",
      "Epoch 78/400\n",
      "325/325 [==============================] - 1s 2ms/step - loss: 3.7780e-04 - mae: 0.0050 - val_loss: 8.5677e-04 - val_mae: 0.0198\n",
      "Epoch 79/400\n",
      "325/325 [==============================] - 1s 2ms/step - loss: 3.7555e-04 - mae: 0.0055 - val_loss: 5.6623e-04 - val_mae: 0.0141\n",
      "Epoch 80/400\n",
      "325/325 [==============================] - 1s 3ms/step - loss: 3.5445e-04 - mae: 0.0043 - val_loss: 5.4314e-04 - val_mae: 0.0139\n",
      "Epoch 81/400\n",
      "325/325 [==============================] - 1s 2ms/step - loss: 3.7737e-04 - mae: 0.0051 - val_loss: 5.2336e-04 - val_mae: 0.0124\n",
      "Epoch 82/400\n",
      "325/325 [==============================] - 1s 3ms/step - loss: 3.3580e-04 - mae: 0.0041 - val_loss: 3.4375e-04 - val_mae: 0.0051\n",
      "Epoch 83/400\n",
      "325/325 [==============================] - 1s 2ms/step - loss: 3.3651e-04 - mae: 0.0047 - val_loss: 3.0713e-04 - val_mae: 0.0028\n",
      "Epoch 84/400\n",
      "325/325 [==============================] - 1s 2ms/step - loss: 3.5007e-04 - mae: 0.0051 - val_loss: 2.9703e-04 - val_mae: 0.0019\n",
      "Epoch 85/400\n",
      "325/325 [==============================] - 1s 2ms/step - loss: 3.0736e-04 - mae: 0.0034 - val_loss: 3.2037e-04 - val_mae: 0.0048\n",
      "Epoch 86/400\n",
      "325/325 [==============================] - 1s 2ms/step - loss: 3.1213e-04 - mae: 0.0043 - val_loss: 2.9494e-04 - val_mae: 0.0031\n",
      "Epoch 87/400\n",
      "325/325 [==============================] - 1s 2ms/step - loss: 3.3421e-04 - mae: 0.0054 - val_loss: 4.2187e-04 - val_mae: 0.0114\n",
      "Epoch 88/400\n",
      "325/325 [==============================] - 1s 2ms/step - loss: 3.3634e-04 - mae: 0.0054 - val_loss: 2.8509e-04 - val_mae: 0.0028\n",
      "Epoch 89/400\n",
      "325/325 [==============================] - 1s 3ms/step - loss: 3.0809e-04 - mae: 0.0040 - val_loss: 2.8121e-04 - val_mae: 0.0028\n",
      "Epoch 90/400\n",
      "325/325 [==============================] - 1s 3ms/step - loss: 2.9426e-04 - mae: 0.0040 - val_loss: 3.1230e-04 - val_mae: 0.0052\n",
      "Epoch 91/400\n",
      "325/325 [==============================] - 1s 3ms/step - loss: 3.1037e-04 - mae: 0.0049 - val_loss: 3.1427e-04 - val_mae: 0.0061\n",
      "Epoch 92/400\n",
      "325/325 [==============================] - 1s 2ms/step - loss: 3.2947e-04 - mae: 0.0056 - val_loss: 2.7745e-04 - val_mae: 0.0037\n",
      "Epoch 93/400\n",
      "325/325 [==============================] - 1s 2ms/step - loss: 2.7418e-04 - mae: 0.0033 - val_loss: 3.4099e-04 - val_mae: 0.0088\n",
      "Epoch 94/400\n",
      "325/325 [==============================] - 1s 2ms/step - loss: 2.9086e-04 - mae: 0.0046 - val_loss: 2.8808e-04 - val_mae: 0.0050\n",
      "Epoch 95/400\n",
      "325/325 [==============================] - 1s 2ms/step - loss: 2.7239e-04 - mae: 0.0037 - val_loss: 2.6660e-04 - val_mae: 0.0037\n",
      "Epoch 96/400\n",
      "325/325 [==============================] - 1s 2ms/step - loss: 2.6670e-04 - mae: 0.0036 - val_loss: 2.7557e-04 - val_mae: 0.0048\n",
      "Epoch 97/400\n",
      "325/325 [==============================] - 1s 2ms/step - loss: 3.2263e-04 - mae: 0.0054 - val_loss: 2.6435e-04 - val_mae: 0.0035\n",
      "Epoch 98/400\n",
      "325/325 [==============================] - 1s 2ms/step - loss: 2.6739e-04 - mae: 0.0040 - val_loss: 2.6482e-04 - val_mae: 0.0044\n",
      "Epoch 99/400\n",
      "325/325 [==============================] - 1s 2ms/step - loss: 2.5460e-04 - mae: 0.0033 - val_loss: 3.1267e-04 - val_mae: 0.0083\n",
      "Epoch 100/400\n",
      "325/325 [==============================] - 1s 2ms/step - loss: 2.6810e-04 - mae: 0.0045 - val_loss: 2.6393e-04 - val_mae: 0.0050\n",
      "Epoch 101/400\n",
      "325/325 [==============================] - 1s 2ms/step - loss: 2.6149e-04 - mae: 0.0041 - val_loss: 2.8051e-04 - val_mae: 0.0062\n",
      "Epoch 102/400\n",
      "325/325 [==============================] - 1s 3ms/step - loss: 2.6297e-04 - mae: 0.0046 - val_loss: 2.7063e-04 - val_mae: 0.0045\n",
      "Epoch 103/400\n",
      "325/325 [==============================] - 1s 2ms/step - loss: 2.7868e-04 - mae: 0.0051 - val_loss: 2.3687e-04 - val_mae: 0.0028\n",
      "Epoch 104/400\n",
      "325/325 [==============================] - 1s 2ms/step - loss: 2.4557e-04 - mae: 0.0036 - val_loss: 2.5922e-04 - val_mae: 0.0045\n",
      "Epoch 105/400\n",
      "325/325 [==============================] - 1s 2ms/step - loss: 2.5964e-04 - mae: 0.0045 - val_loss: 2.7799e-04 - val_mae: 0.0066\n",
      "Epoch 106/400\n",
      "325/325 [==============================] - 1s 2ms/step - loss: 2.4834e-04 - mae: 0.0041 - val_loss: 4.1613e-04 - val_mae: 0.0119\n",
      "Epoch 107/400\n",
      "325/325 [==============================] - 1s 3ms/step - loss: 2.9323e-04 - mae: 0.0063 - val_loss: 7.4639e-04 - val_mae: 0.0194\n",
      "Epoch 108/400\n",
      "325/325 [==============================] - 1s 3ms/step - loss: 2.5232e-04 - mae: 0.0043 - val_loss: 2.4734e-04 - val_mae: 0.0044\n",
      "Epoch 109/400\n",
      "325/325 [==============================] - 1s 2ms/step - loss: 2.3143e-04 - mae: 0.0033 - val_loss: 2.2191e-04 - val_mae: 0.0025\n",
      "Epoch 110/400\n",
      "325/325 [==============================] - 1s 2ms/step - loss: 2.4151e-04 - mae: 0.0041 - val_loss: 2.2791e-04 - val_mae: 0.0031\n",
      "Epoch 111/400\n",
      "325/325 [==============================] - 1s 2ms/step - loss: 2.6445e-04 - mae: 0.0053 - val_loss: 2.4124e-04 - val_mae: 0.0040\n",
      "Epoch 112/400\n",
      "325/325 [==============================] - 1s 2ms/step - loss: 2.3073e-04 - mae: 0.0037 - val_loss: 2.2111e-04 - val_mae: 0.0030\n",
      "Epoch 113/400\n",
      "325/325 [==============================] - 1s 2ms/step - loss: 2.4032e-04 - mae: 0.0041 - val_loss: 3.8853e-04 - val_mae: 0.0109\n",
      "Epoch 114/400\n",
      "325/325 [==============================] - 1s 2ms/step - loss: 2.3012e-04 - mae: 0.0037 - val_loss: 2.9325e-04 - val_mae: 0.0083\n",
      "Epoch 115/400\n",
      "325/325 [==============================] - 1s 2ms/step - loss: 2.5527e-04 - mae: 0.0054 - val_loss: 2.1358e-04 - val_mae: 0.0025\n",
      "Epoch 116/400\n",
      "325/325 [==============================] - 1s 2ms/step - loss: 2.4342e-04 - mae: 0.0048 - val_loss: 2.2637e-04 - val_mae: 0.0040\n",
      "Epoch 117/400\n",
      "325/325 [==============================] - 1s 2ms/step - loss: 2.1967e-04 - mae: 0.0033 - val_loss: 2.7117e-04 - val_mae: 0.0070\n",
      "Epoch 118/400\n",
      "325/325 [==============================] - 1s 2ms/step - loss: 2.5887e-04 - mae: 0.0052 - val_loss: 3.7324e-04 - val_mae: 0.0111\n",
      "Epoch 119/400\n",
      "325/325 [==============================] - 1s 2ms/step - loss: 2.4898e-04 - mae: 0.0053 - val_loss: 2.2116e-04 - val_mae: 0.0040\n",
      "Epoch 120/400\n",
      "325/325 [==============================] - 1s 2ms/step - loss: 2.1002e-04 - mae: 0.0028 - val_loss: 2.1219e-04 - val_mae: 0.0034\n",
      "Epoch 121/400\n",
      "325/325 [==============================] - 1s 3ms/step - loss: 2.3537e-04 - mae: 0.0045 - val_loss: 2.3488e-04 - val_mae: 0.0047\n",
      "Epoch 122/400\n",
      "325/325 [==============================] - 1s 3ms/step - loss: 2.3938e-04 - mae: 0.0047 - val_loss: 2.0794e-04 - val_mae: 0.0028\n",
      "Epoch 123/400\n",
      "325/325 [==============================] - 1s 3ms/step - loss: 2.1172e-04 - mae: 0.0032 - val_loss: 2.0925e-04 - val_mae: 0.0034\n",
      "Epoch 124/400\n",
      "325/325 [==============================] - 1s 3ms/step - loss: 2.1906e-04 - mae: 0.0037 - val_loss: 2.0690e-04 - val_mae: 0.0029\n",
      "Epoch 125/400\n",
      "317/325 [============================>.] - ETA: 0s - loss: 2.3136e-04 - mae: 0.0047Restoring model weights from the end of the best epoch: 120.\n",
      "325/325 [==============================] - 1s 3ms/step - loss: 2.3080e-04 - mae: 0.0047 - val_loss: 2.2791e-04 - val_mae: 0.0046\n",
      "Epoch 125: early stopping\n"
     ]
    }
   ],
   "source": [
    "# Netzwerkarchitektur\n",
    "model = Sequential([\n",
    "\n",
    "    Dense(280, activation='relu', input_shape=(2,), kernel_initializer='he_uniform', kernel_regularizer=l2(0.00001)),\n",
    "\n",
    "    Dense(168, activation='relu', kernel_initializer='he_uniform', kernel_regularizer=l2(0.00001)),\n",
    "    \n",
    "    Dense(296, activation='relu', kernel_initializer='he_uniform', kernel_regularizer=l2(0.00001)),\n",
    "    \n",
    "    Dense(312, activation='relu', kernel_initializer='he_uniform', kernel_regularizer=l2(0.00001)),\n",
    "\n",
    "    Dense(104, activation='relu', kernel_initializer='he_uniform', kernel_regularizer=l2(0.00001)),\n",
    "\n",
    "    Dense(152, activation='relu', kernel_initializer='he_uniform', kernel_regularizer=l2(0.00001)),\n",
    "    \n",
    "    Dense(216, activation='relu', kernel_initializer='he_uniform', kernel_regularizer=l2(0.00001)),\n",
    "    \n",
    "    Dense(56, activation='relu', kernel_initializer='he_uniform', kernel_regularizer=l2(0.00001)),\n",
    "\n",
    "    Dense(1 , activation = 'linear')\n",
    "])\n",
    "\n",
    "# Optimierer\n",
    "optimizer = tf.keras.optimizers.Adam(learning_rate=0.001)\n",
    "\n",
    "# Modell kompilieren (Verwendung von mean_squared_error als Verlustfunktion für Regression)\n",
    "model.compile(optimizer=optimizer,\n",
    "              loss='mean_squared_error',\n",
    "              metrics=['mae'])  # Metriken für Regression: Mean Absolute Error und Mean Squared Error\n",
    "\n",
    "# Early Stopping Callback\n",
    "early_stopping = EarlyStopping(monitor='val_loss', patience=5, verbose=1, mode='min', restore_best_weights=True)\n",
    "\n",
    "# Trainingsparameter\n",
    "batch_size = 50\n",
    "epochs = 1000\n",
    "\n",
    "# Modell trainieren (Annahme: X_train, y_train, X_val, y_val sind vordefiniert)\n",
    "history = model.fit(X_train_scaled, y_train_scaled,\n",
    "                    batch_size=batch_size,\n",
    "                    epochs=epochs,\n",
    "                    validation_split=0.2,\n",
    "                    callbacks=[early_stopping])"
   ],
   "metadata": {
    "collapsed": false,
    "ExecuteTime": {
     "end_time": "2024-03-19T14:25:51.106659700Z",
     "start_time": "2024-03-19T14:24:09.252890900Z"
    }
   },
   "id": "8b52e1a9a6ff3aeb"
  },
  {
   "cell_type": "code",
   "execution_count": null,
   "outputs": [],
   "source": [
    "# Initialisiere Listen, um Ergebnisse zu speichern\n",
    "val_loss_results = []\n",
    "val_mae_results = []\n",
    "\n",
    "# Funktion, um das Modell zu erstellen\n",
    "def create_model():\n",
    "    model = Sequential([\n",
    "                Dense(280, activation='relu', input_shape=(2,), kernel_initializer='he_uniform', kernel_regularizer=l2(0.0001)),\n",
    "            \n",
    "                Dense(168, activation='relu', kernel_initializer='he_uniform', kernel_regularizer=l2(0.0001)),\n",
    "                \n",
    "                Dense(296, activation='relu', kernel_initializer='he_uniform', kernel_regularizer=l2(0.0001)),\n",
    "                \n",
    "                Dense(312, activation='relu', kernel_initializer='he_uniform', kernel_regularizer=l2(0.0001)),\n",
    "            \n",
    "                Dense(104, activation='relu', kernel_initializer='he_uniform', kernel_regularizer=l2(0.0001)),\n",
    "            \n",
    "                Dense(152, activation='relu', kernel_initializer='he_uniform', kernel_regularizer=l2(0.0001)),\n",
    "                \n",
    "                Dense(216, activation='relu', kernel_initializer='he_uniform', kernel_regularizer=l2(0.0001)),\n",
    "                \n",
    "                Dense(56, activation='relu', kernel_initializer='he_uniform', kernel_regularizer=l2(0.0001)),\n",
    "            \n",
    "                Dense(1 , activation = 'linear')\n",
    "\n",
    "    ])\n",
    "    optimizer = Adam(learning_rate=0.001)\n",
    "    model.compile(optimizer=optimizer, loss='mean_squared_error', metrics=['mae'])\n",
    "    return model\n",
    "\n",
    "# K-Fold Cross-Validation Konfiguration\n",
    "n_splits = 5\n",
    "kf = KFold(n_splits=n_splits, shuffle=True, random_state=42)\n",
    "\n",
    "# Leistungsüberwachung\n",
    "fold_no = 1\n",
    "for train_index, val_index in kf.split(X_train_scaled):\n",
    "    X_train_fold, X_val_fold = X_train_scaled[train_index], X_train_scaled[val_index]\n",
    "    y_train_fold, y_val_fold = y_train_scaled[train_index], y_train_scaled[val_index]\n",
    "\n",
    "    model = create_model()\n",
    "\n",
    "    early_stopping = EarlyStopping(monitor='val_loss', patience=5, verbose=1, mode='min', restore_best_weights=True)\n",
    "\n",
    "    print(f'Training für Fold {fold_no}...')\n",
    "    history = model.fit(X_train_fold, y_train_fold, batch_size=50, epochs=1000, validation_data=(X_val_fold, y_val_fold), callbacks=[early_stopping], verbose=1)\n",
    "\n",
    "    # Speichere die Ergebnisse des aktuellen Folds\n",
    "    val_loss_results.append(min(history.history['val_loss']))\n",
    "    val_mae_results.append(min(history.history['val_mae']))\n",
    "\n",
    "    fold_no += 1\n",
    "\n",
    "# Berechne den Durchschnitt über alle Folds\n",
    "average_val_loss = np.mean(val_loss_results)\n",
    "average_val_mae = np.mean(val_mae_results)\n",
    "\n",
    "# Gib die durchschnittlichen Ergebnisse aus\n",
    "print(f'Durchschnittlicher Validation Loss: {average_val_loss}')\n",
    "print(f'Durchschnittlicher Validation MAE: {average_val_mae}')\n",
    "\n",
    "# Umwandeln der Listen in Pandas DataFrames\n",
    "val_loss_df = pd.DataFrame(val_loss_results, columns=['Validation Loss'])\n",
    "val_mae_df = pd.DataFrame(val_mae_results, columns=['Validation MAE'])\n",
    "\n",
    "# Speichern der DataFrames in CSV-Dateien\n",
    "val_loss_df.to_csv('val_loss_results_D2_3.csv', index=False)\n",
    "val_mae_df.to_csv('val_mae_results_D2_3.csv', index=False)\n",
    "\n",
    "# Gib die durchschnittlichen Ergebnisse aus\n",
    "print(f'Durchschnittlicher Validation Loss: {average_val_loss}')\n",
    "print(f'Durchschnittlicher Validation MAE: {average_val_mae}')\n"
   ],
   "metadata": {
    "collapsed": false,
    "ExecuteTime": {
     "start_time": "2024-03-19T14:23:07.441963400Z"
    }
   },
   "id": "9e362ab5891884c1"
  },
  {
   "cell_type": "code",
   "execution_count": 12,
   "outputs": [
    {
     "name": "stdout",
     "output_type": "stream",
     "text": [
      "159/159 - 0s - loss: 2.1204e-04 - mae: 0.0034 - 195ms/epoch - 1ms/step\n"
     ]
    },
    {
     "data": {
      "text/plain": "[0.00021204374206718057, 0.0033964801114052534]"
     },
     "execution_count": 12,
     "metadata": {},
     "output_type": "execute_result"
    }
   ],
   "source": [
    "results = model.evaluate(X_test_scaled, y_test_scaled, verbose=2)\n",
    "results"
   ],
   "metadata": {
    "collapsed": false,
    "ExecuteTime": {
     "end_time": "2024-03-19T14:28:36.941469100Z",
     "start_time": "2024-03-19T14:28:36.707183700Z"
    }
   },
   "id": "f27ef8e901869c23"
  },
  {
   "cell_type": "code",
   "execution_count": 13,
   "outputs": [
    {
     "name": "stdout",
     "output_type": "stream",
     "text": [
      " Bsp. Predicted: [1285.8817] Actual: [1286.9] \n",
      "Durchschnittliche Abweichung (MAE): [3.21918265]\n"
     ]
    }
   ],
   "source": [
    "scaled_predicted_values = model.predict(X_test_scaled, verbose = 0)\n",
    "\n",
    "# Führen Sie die Rücktransformation der skalierten Werte durch\n",
    "original_predicted_values = scaler_target.inverse_transform(scaled_predicted_values)\n",
    "original_actual_values = scaler_target.inverse_transform(y_test_scaled)  # y_test sind die skalierten tatsächlichen Werte\n",
    "print(f' Bsp. Predicted: {original_predicted_values[100]} Actual: {original_actual_values[100]} ')\n",
    "\n",
    "def calculate_mae(list1, list2):\n",
    "    # Stelle sicher, dass beide Listen die gleiche Länge haben\n",
    "    if len(list1) != len(list2):\n",
    "        raise ValueError(\"Listen müssen die gleiche Länge haben\")\n",
    "\n",
    "    # Berechne die absolute Differenz zwischen den Elementen der Listen\n",
    "    differences = [abs(x - y) for x, y in zip(list1, list2)]\n",
    "\n",
    "    # Berechne den Durchschnitt der absoluten Differenzen\n",
    "    mae = sum(differences) / len(differences)\n",
    "\n",
    "    return mae\n",
    "\n",
    "# Beispiel\n",
    "list1 = original_predicted_values\n",
    "list2 = original_actual_values\n",
    "\n",
    "mae = calculate_mae(list1, list2)\n",
    "print(f\"Durchschnittliche Abweichung (MAE): {mae}\")\n",
    "\n",
    "# Berechnung MAPE\n",
    "errors = np.abs((original_actual_values - original_predicted_values) / original_actual_values)\n",
    "mape = np.mean(errors) * 100\n",
    "print(mape)\n"
   ],
   "metadata": {
    "collapsed": false,
    "ExecuteTime": {
     "end_time": "2024-03-19T14:28:38.084408400Z",
     "start_time": "2024-03-19T14:28:37.716650Z"
    }
   },
   "id": "b1e271125bed3df7"
  },
  {
   "cell_type": "code",
   "execution_count": null,
   "outputs": [],
   "source": [
    "def calculate_r_squared(predicted, actual):\n",
    "    # Berechnung des Mittelwerts der tatsächlichen Werte\n",
    "    mean_actual = sum(actual) / len(actual)\n",
    "    \n",
    "    # Berechnung der totalen Summe der Quadrate (SST)\n",
    "    sst = sum((x - mean_actual) ** 2 for x in actual)\n",
    "    \n",
    "    # Berechnung der Summe der Quadrate der Residuen (SSE)\n",
    "    sse = sum((actual[i] - predicted[i]) ** 2 for i in range(len(actual)))\n",
    "    \n",
    "    # Berechnung des R^2-Wertes\n",
    "    r_squared = 1 - (sse / sst)\n",
    "    \n",
    "    return r_squared\n",
    "\n",
    "# Berechnung von R^2 mit den bereitgestellten Listen\n",
    "r_squared = calculate_r_squared(list1, list2)\n",
    "\n",
    "print(f\"R^2: {r_squared}\")"
   ],
   "metadata": {
    "collapsed": false,
    "ExecuteTime": {
     "start_time": "2024-03-19T14:23:07.447963400Z"
    }
   },
   "id": "79a9ed0f6e7bf14e"
  },
  {
   "cell_type": "code",
   "execution_count": null,
   "outputs": [],
   "source": [
    "mse = history.history['loss']\n",
    "val_mse = history.history['val_loss']\n",
    "\n",
    "epochs = range(1, len(mse) + 1)\n",
    "\n",
    "# MAE Diagramm\n",
    "plt.figure(figsize=(10, 6))\n",
    "plt.plot(epochs, mse, 'r', label='Training MSE')\n",
    "plt.plot(epochs, val_mse, 'b', label='Validation MSE')\n",
    "plt.title('Training and Validation MSE')\n",
    "plt.xlabel('Epochs')\n",
    "plt.ylabel('MAE')\n",
    "plt.legend()\n",
    "plt.savefig('C:/Users/erikm/Desktop/Diplomarbeit Erik Marr/Bilder Diplomarbeit/MSE_NeuroNetz/MSE_NeuroNetz_D2_3')\n",
    "plt.show()\n"
   ],
   "metadata": {
    "collapsed": false,
    "ExecuteTime": {
     "start_time": "2024-03-19T14:23:07.449963Z"
    }
   },
   "id": "3688dd7102e95baf"
  },
  {
   "cell_type": "code",
   "execution_count": null,
   "outputs": [],
   "source": [
    "df_result = pd.DataFrame({'Echt': [val[0] for val in list2], 'Vorhergesagt': [val[0] for val in list1]})\n",
    "df_result['X-Koordinate'] = X_test_scaled[:, 0]\n",
    "df_result['Y-Koordinate'] = X_test_scaled[:, 1]\n",
    "\n",
    "df_result['Differenz'] = abs(df_result['Echt'] - df_result['Vorhergesagt'])\n",
    "df_result['Differenz'].sort_values()\n",
    "sorted_df = df_result.sort_values(by= 'Differenz')\n",
    "Anzahl_Punkte = (sorted_df['Differenz'] > -10).sum()\n",
    "print(\"Anzahl der Werte die kleiner sind:\", Anzahl_Punkte)\n",
    "\n",
    "sorted_df"
   ],
   "metadata": {
    "collapsed": false,
    "ExecuteTime": {
     "start_time": "2024-03-19T14:23:07.452964100Z"
    }
   },
   "id": "6a9d8a95f5e95b9"
  },
  {
   "cell_type": "markdown",
   "id": "553df6fa",
   "metadata": {},
   "source": [
    "# GridSearch"
   ]
  },
  {
   "cell_type": "code",
   "execution_count": null,
   "id": "1dca80c2",
   "metadata": {
    "ExecuteTime": {
     "start_time": "2024-03-19T14:23:07.453963600Z"
    }
   },
   "outputs": [],
   "source": [
    "# def build_model(learning_rate=0.001, activation='relu', regularization=0.0001, dropout_rate=0.0):\n",
    "#     model = Sequential()\n",
    "#     model.add(Dense(264, activation=activation, input_shape=(2,), kernel_initializer='he_uniform', kernel_regularizer=l2(regularization)))\n",
    "#     model.add(Dropout(dropout_rate))\n",
    "# \n",
    "#     model.add(Dense(168, activation=activation, kernel_initializer='he_uniform', kernel_regularizer=l2(regularization)))\n",
    "#     model.add(Dropout(dropout_rate))\n",
    "# \n",
    "#     model.add(Dense(88, activation=activation, kernel_initializer='he_uniform', kernel_regularizer=l2(regularization)))\n",
    "#     model.add(Dropout(dropout_rate))\n",
    "# \n",
    "#     model.add(Dense(264, activation=activation, kernel_initializer='he_uniform', kernel_regularizer=l2(regularization)))\n",
    "#     model.add(Dropout(dropout_rate))\n",
    "# \n",
    "#     model.add(Dense(200, activation=activation, kernel_initializer='he_uniform', kernel_regularizer=l2(regularization)))\n",
    "#     model.add(Dropout(dropout_rate))\n",
    "# \n",
    "#     # model.add(Dense(192, activation=activation, kernel_initializer='he_uniform', kernel_regularizer=l2(regularization)))\n",
    "#     # model.add(Dropout(dropout_rate))\n",
    "#     # \n",
    "#     # model.add(Dense(32, activation=activation, kernel_initializer='he_uniform', kernel_regularizer=l2(regularization)))\n",
    "#     # model.add(Dropout(dropout_rate))\n",
    "#     # \n",
    "#     # model.add(Dense(448, activation=activation, kernel_initializer='he_uniform', kernel_regularizer=l2(regularization)))\n",
    "#     # model.add(Dropout(dropout_rate))    \n",
    "#     # \n",
    "#     # model.add(Dense(64, activation=activation, kernel_initializer='he_uniform', kernel_regularizer=l2(regularization)))\n",
    "#     # model.add(Dropout(dropout_rate))\n",
    "# \n",
    "#     model.add(Dense(1, activation='linear'))\n",
    "#     model.compile(optimizer=Adam(learning_rate=learning_rate), loss='mean_squared_error', metrics=['mae'])\n",
    "#     return model\n",
    "# \n",
    "# # Verwenden Sie eine Funktion, um das Modell zu instanziieren, für scikit-learn Wrapper\n",
    "# model = KerasRegressor(model=build_model, verbose=2)\n",
    "# \n",
    "# # Anpassung der Parameter im param_grid\n",
    "# param_grid = {\n",
    "#     'model__learning_rate': [0.01, 0.001, 0.0001],\n",
    "#     'model__regularization': [0.001, 0.0001],\n",
    "#     'fit__batch_size': [50, 100, 150, 200],\n",
    "#     'fit__epochs': [50],\n",
    "#     'model__dropout_rate' : [0.0, 0.1, 0.2]\n",
    "# }\n",
    "# \n",
    "# grid_search = GridSearchCV(estimator=model, param_grid=param_grid, n_jobs=-1, cv=3, verbose=2)\n",
    "# # Hinweis: Stellen Sie sicher, dass Ihre Daten (X_train_scaled, y_train_scaled) korrekt definiert sind\n",
    "# grid_result = grid_search.fit(X_train_scaled, y_train_scaled)\n",
    "# # Beste Parameter und Score ausgeben\n",
    "# print(\"Beste Parameter:\", grid_search.best_params_)\n",
    "# print(\"Beste Genauigkeit:\", grid_search.best_score_)\n",
    "# \n",
    "# with open(\"Gridsearch_D2_1.txt\", \"w\") as f:\n",
    "#     f.write(f\"Beste Parameter: {grid_search.best_params_}\\n\")\n",
    "#     f.write(f\"Beste Genauigkeit: {grid_search.best_score_}\")\n"
   ]
  }
 ],
 "metadata": {
  "kernelspec": {
   "display_name": "Python 3 (ipykernel)",
   "language": "python",
   "name": "python3"
  },
  "language_info": {
   "codemirror_mode": {
    "name": "ipython",
    "version": 3
   },
   "file_extension": ".py",
   "mimetype": "text/x-python",
   "name": "python",
   "nbconvert_exporter": "python",
   "pygments_lexer": "ipython3",
   "version": "3.11.4"
  }
 },
 "nbformat": 4,
 "nbformat_minor": 5
}
