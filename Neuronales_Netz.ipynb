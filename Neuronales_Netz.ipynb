{
 "cells": [
  {
   "cell_type": "code",
   "execution_count": 26,
   "id": "initial_id",
   "metadata": {
    "collapsed": true,
    "ExecuteTime": {
     "end_time": "2024-02-02T14:27:00.675000400Z",
     "start_time": "2024-02-02T14:27:00.627807100Z"
    }
   },
   "outputs": [
    {
     "ename": "ModuleNotFoundError",
     "evalue": "No module named 'sklearn'",
     "output_type": "error",
     "traceback": [
      "\u001B[1;31m---------------------------------------------------------------------------\u001B[0m",
      "\u001B[1;31mModuleNotFoundError\u001B[0m                       Traceback (most recent call last)",
      "Cell \u001B[1;32mIn[26], line 7\u001B[0m\n\u001B[0;32m      5\u001B[0m \u001B[38;5;28;01mfrom\u001B[39;00m \u001B[38;5;21;01mtensorflow\u001B[39;00m\u001B[38;5;21;01m.\u001B[39;00m\u001B[38;5;21;01mkeras\u001B[39;00m\u001B[38;5;21;01m.\u001B[39;00m\u001B[38;5;21;01mmodels\u001B[39;00m \u001B[38;5;28;01mimport\u001B[39;00m Sequential\n\u001B[0;32m      6\u001B[0m \u001B[38;5;28;01mfrom\u001B[39;00m \u001B[38;5;21;01mtensorflow\u001B[39;00m\u001B[38;5;21;01m.\u001B[39;00m\u001B[38;5;21;01mkeras\u001B[39;00m\u001B[38;5;21;01m.\u001B[39;00m\u001B[38;5;21;01mlayers\u001B[39;00m \u001B[38;5;28;01mimport\u001B[39;00m Dense\n\u001B[1;32m----> 7\u001B[0m \u001B[38;5;28;01mfrom\u001B[39;00m \u001B[38;5;21;01msklearn\u001B[39;00m\u001B[38;5;21;01m.\u001B[39;00m\u001B[38;5;21;01mmodel_selection\u001B[39;00m \u001B[38;5;28;01mimport\u001B[39;00m train_test_split\n\u001B[0;32m      9\u001B[0m \u001B[38;5;28;01mimport\u001B[39;00m \u001B[38;5;21;01mglob\u001B[39;00m\n",
      "\u001B[1;31mModuleNotFoundError\u001B[0m: No module named 'sklearn'"
     ]
    }
   ],
   "source": [
    "import numpy as np\n",
    "import tensorflow as tf\n",
    "import matplotlib.pyplot as plt\n",
    "import pandas as pd\n",
    "from tensorflow import keras\n",
    "from tensorflow.keras.models import Sequential\n",
    "from tensorflow.keras.layers import Dense\n",
    "from sklearn.model_selection import train_test_split\n",
    "from tensorflow.keras import layers\n",
    "import glob"
   ]
  },
  {
   "cell_type": "code",
   "execution_count": 23,
   "outputs": [],
   "source": [
    "Pfad = 'C:/Users/erikm/Desktop/Diplomarbeit Erik Marr/Daten/I7000_F9000/TPath_100_finish_data.pkl'\n",
    "data = pd.read_pickle(Pfad)"
   ],
   "metadata": {
    "collapsed": false,
    "ExecuteTime": {
     "end_time": "2024-02-02T14:25:31.089469Z",
     "start_time": "2024-02-02T14:25:31.050752100Z"
    }
   },
   "id": "996f617d4bfb2852"
  },
  {
   "cell_type": "code",
   "execution_count": 24,
   "outputs": [
    {
     "data": {
      "text/plain": "        X-Koordinate  Y-Koordinate  Temperatur\n1                  0      -0.00200      400.35\n2                  0      -0.00199      402.51\n3                  0      -0.00198      404.63\n4                  0      -0.00197      406.73\n5                  0      -0.00196      408.81\n...              ...           ...         ...\n120997           300       0.00196      341.96\n120998           300       0.00197      341.91\n120999           300       0.00198      341.84\n121000           300       0.00199      341.78\n121001           300       0.00200      341.71\n\n[121001 rows x 3 columns]",
      "text/html": "<div>\n<style scoped>\n    .dataframe tbody tr th:only-of-type {\n        vertical-align: middle;\n    }\n\n    .dataframe tbody tr th {\n        vertical-align: top;\n    }\n\n    .dataframe thead th {\n        text-align: right;\n    }\n</style>\n<table border=\"1\" class=\"dataframe\">\n  <thead>\n    <tr style=\"text-align: right;\">\n      <th></th>\n      <th>X-Koordinate</th>\n      <th>Y-Koordinate</th>\n      <th>Temperatur</th>\n    </tr>\n  </thead>\n  <tbody>\n    <tr>\n      <th>1</th>\n      <td>0</td>\n      <td>-0.00200</td>\n      <td>400.35</td>\n    </tr>\n    <tr>\n      <th>2</th>\n      <td>0</td>\n      <td>-0.00199</td>\n      <td>402.51</td>\n    </tr>\n    <tr>\n      <th>3</th>\n      <td>0</td>\n      <td>-0.00198</td>\n      <td>404.63</td>\n    </tr>\n    <tr>\n      <th>4</th>\n      <td>0</td>\n      <td>-0.00197</td>\n      <td>406.73</td>\n    </tr>\n    <tr>\n      <th>5</th>\n      <td>0</td>\n      <td>-0.00196</td>\n      <td>408.81</td>\n    </tr>\n    <tr>\n      <th>...</th>\n      <td>...</td>\n      <td>...</td>\n      <td>...</td>\n    </tr>\n    <tr>\n      <th>120997</th>\n      <td>300</td>\n      <td>0.00196</td>\n      <td>341.96</td>\n    </tr>\n    <tr>\n      <th>120998</th>\n      <td>300</td>\n      <td>0.00197</td>\n      <td>341.91</td>\n    </tr>\n    <tr>\n      <th>120999</th>\n      <td>300</td>\n      <td>0.00198</td>\n      <td>341.84</td>\n    </tr>\n    <tr>\n      <th>121000</th>\n      <td>300</td>\n      <td>0.00199</td>\n      <td>341.78</td>\n    </tr>\n    <tr>\n      <th>121001</th>\n      <td>300</td>\n      <td>0.00200</td>\n      <td>341.71</td>\n    </tr>\n  </tbody>\n</table>\n<p>121001 rows × 3 columns</p>\n</div>"
     },
     "execution_count": 24,
     "metadata": {},
     "output_type": "execute_result"
    }
   ],
   "source": [
    "data = data.drop(data.columns[2:5], axis = 1)\n",
    "df = data\n",
    "df"
   ],
   "metadata": {
    "collapsed": false,
    "ExecuteTime": {
     "end_time": "2024-02-02T14:25:31.565444900Z",
     "start_time": "2024-02-02T14:25:31.518536Z"
    }
   },
   "id": "fcad2c9c14d2d8a9"
  },
  {
   "cell_type": "code",
   "execution_count": 25,
   "outputs": [
    {
     "data": {
      "text/plain": "        X-Koordinate  Y-Koordinate  Temperatur\n85427            212       0.00002      464.74\n6977              17      -0.00058      526.61\n101558           252       0.00053      442.09\n22333             55       0.00022      524.51\n13974             34       0.00105      505.05\n...              ...           ...         ...\n110269           274      -0.00080      425.69\n119880           298      -0.00117      409.06\n103695           257       0.00180      461.49\n861                2      -0.00144      488.08\n15796             39      -0.00083      521.72\n\n[121001 rows x 3 columns]",
      "text/html": "<div>\n<style scoped>\n    .dataframe tbody tr th:only-of-type {\n        vertical-align: middle;\n    }\n\n    .dataframe tbody tr th {\n        vertical-align: top;\n    }\n\n    .dataframe thead th {\n        text-align: right;\n    }\n</style>\n<table border=\"1\" class=\"dataframe\">\n  <thead>\n    <tr style=\"text-align: right;\">\n      <th></th>\n      <th>X-Koordinate</th>\n      <th>Y-Koordinate</th>\n      <th>Temperatur</th>\n    </tr>\n  </thead>\n  <tbody>\n    <tr>\n      <th>85427</th>\n      <td>212</td>\n      <td>0.00002</td>\n      <td>464.74</td>\n    </tr>\n    <tr>\n      <th>6977</th>\n      <td>17</td>\n      <td>-0.00058</td>\n      <td>526.61</td>\n    </tr>\n    <tr>\n      <th>101558</th>\n      <td>252</td>\n      <td>0.00053</td>\n      <td>442.09</td>\n    </tr>\n    <tr>\n      <th>22333</th>\n      <td>55</td>\n      <td>0.00022</td>\n      <td>524.51</td>\n    </tr>\n    <tr>\n      <th>13974</th>\n      <td>34</td>\n      <td>0.00105</td>\n      <td>505.05</td>\n    </tr>\n    <tr>\n      <th>...</th>\n      <td>...</td>\n      <td>...</td>\n      <td>...</td>\n    </tr>\n    <tr>\n      <th>110269</th>\n      <td>274</td>\n      <td>-0.00080</td>\n      <td>425.69</td>\n    </tr>\n    <tr>\n      <th>119880</th>\n      <td>298</td>\n      <td>-0.00117</td>\n      <td>409.06</td>\n    </tr>\n    <tr>\n      <th>103695</th>\n      <td>257</td>\n      <td>0.00180</td>\n      <td>461.49</td>\n    </tr>\n    <tr>\n      <th>861</th>\n      <td>2</td>\n      <td>-0.00144</td>\n      <td>488.08</td>\n    </tr>\n    <tr>\n      <th>15796</th>\n      <td>39</td>\n      <td>-0.00083</td>\n      <td>521.72</td>\n    </tr>\n  </tbody>\n</table>\n<p>121001 rows × 3 columns</p>\n</div>"
     },
     "execution_count": 25,
     "metadata": {},
     "output_type": "execute_result"
    }
   ],
   "source": [
    "df = df.sample(frac=1, random_state=42)  # Hier wird 42 als Random State verwendet, um die Ergebnisse reproduzierbar zu machen\n",
    "df"
   ],
   "metadata": {
    "collapsed": false,
    "ExecuteTime": {
     "end_time": "2024-02-02T14:25:34.853321500Z",
     "start_time": "2024-02-02T14:25:34.797853300Z"
    }
   },
   "id": "7fe0ba043cebf21a"
  },
  {
   "cell_type": "code",
   "execution_count": 33,
   "outputs": [],
   "source": [
    "Label = df[\"Temperatur\"]\n",
    "data = df.drop(\"Temperatur\", axis=1)\n",
    "X = data\n",
    "y = Label"
   ],
   "metadata": {
    "collapsed": false,
    "ExecuteTime": {
     "end_time": "2024-02-02T14:35:02.475584300Z",
     "start_time": "2024-02-02T14:35:02.429860400Z"
    }
   },
   "id": "ed9f30a34e1f5ffe"
  },
  {
   "cell_type": "code",
   "execution_count": null,
   "outputs": [],
   "source": [
    "# train_df enthält 80% der Daten, test_df enthält 20% der Daten\n",
    "X_train, X_test, y_train, y_test = train_test_split(X, y, test_size=0.20, random_state=42)\n"
   ],
   "metadata": {
    "collapsed": false
   },
   "id": "cd89feb5baaf71f7"
  }
 ],
 "metadata": {
  "kernelspec": {
   "display_name": "Python 3",
   "language": "python",
   "name": "python3"
  },
  "language_info": {
   "codemirror_mode": {
    "name": "ipython",
    "version": 2
   },
   "file_extension": ".py",
   "mimetype": "text/x-python",
   "name": "python",
   "nbconvert_exporter": "python",
   "pygments_lexer": "ipython2",
   "version": "2.7.6"
  }
 },
 "nbformat": 4,
 "nbformat_minor": 5
}
